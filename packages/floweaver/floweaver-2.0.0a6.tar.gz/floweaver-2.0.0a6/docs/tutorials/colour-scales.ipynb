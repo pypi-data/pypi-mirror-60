{
 "cells": [
  {
   "cell_type": "markdown",
   "metadata": {},
   "source": [
    "# Colour-intensity scales\n",
    "\n",
    "In this tutorial we will look at how to use colours in the Sankey diagram. We have already seen how to use a palette, but in this tutorial we will also create a Sankey where the intensity of the colour is proportional to a numerical value."
   ]
  },
  {
   "cell_type": "markdown",
   "metadata": {},
   "source": [
    "First step is to import all the required packages and data:"
   ]
  },
  {
   "cell_type": "code",
   "execution_count": 1,
   "metadata": {},
   "outputs": [],
   "source": [
    "import pandas as pd\n",
    "import numpy as np\n",
    "from floweaver import *\n",
    "\n",
    "df1 = pd.read_csv('holiday_data.csv')"
   ]
  },
  {
   "cell_type": "markdown",
   "metadata": {},
   "source": [
    "Now take a look at the dataset we are using. This is a very insightful [made-up] dataset about how different types of people lose weight while on holiday enjoying themselves."
   ]
  },
  {
   "cell_type": "code",
   "execution_count": 2,
   "metadata": {},
   "outputs": [
    {
     "data": {
      "text/html": [
       "<div>\n",
       "<style scoped>\n",
       "    .dataframe tbody tr th:only-of-type {\n",
       "        vertical-align: middle;\n",
       "    }\n",
       "\n",
       "    .dataframe tbody tr th {\n",
       "        vertical-align: top;\n",
       "    }\n",
       "\n",
       "    .dataframe thead th {\n",
       "        text-align: right;\n",
       "    }\n",
       "</style>\n",
       "<table border=\"1\" class=\"dataframe\">\n",
       "  <thead>\n",
       "    <tr style=\"text-align: right;\">\n",
       "      <th></th>\n",
       "      <th>source</th>\n",
       "      <th>target</th>\n",
       "      <th>Calories Burnt</th>\n",
       "      <th>Enjoyment</th>\n",
       "      <th>Employment Job</th>\n",
       "      <th>Activity</th>\n",
       "    </tr>\n",
       "  </thead>\n",
       "  <tbody>\n",
       "    <tr>\n",
       "      <th>0</th>\n",
       "      <td>Activity</td>\n",
       "      <td>Employment Job</td>\n",
       "      <td>2.5</td>\n",
       "      <td>35</td>\n",
       "      <td>Student</td>\n",
       "      <td>Reading</td>\n",
       "    </tr>\n",
       "    <tr>\n",
       "      <th>1</th>\n",
       "      <td>Activity</td>\n",
       "      <td>Employment Job</td>\n",
       "      <td>4.5</td>\n",
       "      <td>20</td>\n",
       "      <td>Student</td>\n",
       "      <td>Swimming</td>\n",
       "    </tr>\n",
       "    <tr>\n",
       "      <th>2</th>\n",
       "      <td>Activity</td>\n",
       "      <td>Employment Job</td>\n",
       "      <td>8.0</td>\n",
       "      <td>5</td>\n",
       "      <td>Student</td>\n",
       "      <td>Sleeping</td>\n",
       "    </tr>\n",
       "    <tr>\n",
       "      <th>3</th>\n",
       "      <td>Activity</td>\n",
       "      <td>Employment Job</td>\n",
       "      <td>1.0</td>\n",
       "      <td>5</td>\n",
       "      <td>Student</td>\n",
       "      <td>Travelling</td>\n",
       "    </tr>\n",
       "    <tr>\n",
       "      <th>4</th>\n",
       "      <td>Activity</td>\n",
       "      <td>Employment Job</td>\n",
       "      <td>8.0</td>\n",
       "      <td>30</td>\n",
       "      <td>Student</td>\n",
       "      <td>Working out</td>\n",
       "    </tr>\n",
       "    <tr>\n",
       "      <th>5</th>\n",
       "      <td>Activity</td>\n",
       "      <td>Employment Job</td>\n",
       "      <td>1.0</td>\n",
       "      <td>35</td>\n",
       "      <td>Trainee</td>\n",
       "      <td>Reading</td>\n",
       "    </tr>\n",
       "    <tr>\n",
       "      <th>6</th>\n",
       "      <td>Activity</td>\n",
       "      <td>Employment Job</td>\n",
       "      <td>3.0</td>\n",
       "      <td>40</td>\n",
       "      <td>Trainee</td>\n",
       "      <td>Travelling</td>\n",
       "    </tr>\n",
       "    <tr>\n",
       "      <th>7</th>\n",
       "      <td>Activity</td>\n",
       "      <td>Employment Job</td>\n",
       "      <td>2.0</td>\n",
       "      <td>40</td>\n",
       "      <td>Trainee</td>\n",
       "      <td>Swimming</td>\n",
       "    </tr>\n",
       "    <tr>\n",
       "      <th>8</th>\n",
       "      <td>Activity</td>\n",
       "      <td>Employment Job</td>\n",
       "      <td>6.0</td>\n",
       "      <td>5</td>\n",
       "      <td>Trainee</td>\n",
       "      <td>Sleeping</td>\n",
       "    </tr>\n",
       "    <tr>\n",
       "      <th>9</th>\n",
       "      <td>Activity</td>\n",
       "      <td>Employment Job</td>\n",
       "      <td>12.0</td>\n",
       "      <td>45</td>\n",
       "      <td>Trainee</td>\n",
       "      <td>Working out</td>\n",
       "    </tr>\n",
       "    <tr>\n",
       "      <th>10</th>\n",
       "      <td>Activity</td>\n",
       "      <td>Employment Job</td>\n",
       "      <td>4.5</td>\n",
       "      <td>20</td>\n",
       "      <td>Administrator</td>\n",
       "      <td>Swimming</td>\n",
       "    </tr>\n",
       "    <tr>\n",
       "      <th>11</th>\n",
       "      <td>Activity</td>\n",
       "      <td>Employment Job</td>\n",
       "      <td>9.0</td>\n",
       "      <td>10</td>\n",
       "      <td>Administrator</td>\n",
       "      <td>Sleeping</td>\n",
       "    </tr>\n",
       "    <tr>\n",
       "      <th>12</th>\n",
       "      <td>Activity</td>\n",
       "      <td>Employment Job</td>\n",
       "      <td>7.5</td>\n",
       "      <td>50</td>\n",
       "      <td>Administrator</td>\n",
       "      <td>Working out</td>\n",
       "    </tr>\n",
       "    <tr>\n",
       "      <th>13</th>\n",
       "      <td>Activity</td>\n",
       "      <td>Employment Job</td>\n",
       "      <td>1.5</td>\n",
       "      <td>35</td>\n",
       "      <td>Administrator</td>\n",
       "      <td>Reading</td>\n",
       "    </tr>\n",
       "    <tr>\n",
       "      <th>14</th>\n",
       "      <td>Activity</td>\n",
       "      <td>Employment Job</td>\n",
       "      <td>1.5</td>\n",
       "      <td>50</td>\n",
       "      <td>Administrator</td>\n",
       "      <td>Travelling</td>\n",
       "    </tr>\n",
       "    <tr>\n",
       "      <th>15</th>\n",
       "      <td>Activity</td>\n",
       "      <td>Employment Job</td>\n",
       "      <td>11.0</td>\n",
       "      <td>55</td>\n",
       "      <td>Manager</td>\n",
       "      <td>Working out</td>\n",
       "    </tr>\n",
       "    <tr>\n",
       "      <th>16</th>\n",
       "      <td>Activity</td>\n",
       "      <td>Employment Job</td>\n",
       "      <td>2.0</td>\n",
       "      <td>45</td>\n",
       "      <td>Manager</td>\n",
       "      <td>Reading</td>\n",
       "    </tr>\n",
       "    <tr>\n",
       "      <th>17</th>\n",
       "      <td>Activity</td>\n",
       "      <td>Employment Job</td>\n",
       "      <td>7.5</td>\n",
       "      <td>10</td>\n",
       "      <td>Manager</td>\n",
       "      <td>Sleeping</td>\n",
       "    </tr>\n",
       "    <tr>\n",
       "      <th>18</th>\n",
       "      <td>Activity</td>\n",
       "      <td>Employment Job</td>\n",
       "      <td>1.5</td>\n",
       "      <td>90</td>\n",
       "      <td>Manager</td>\n",
       "      <td>Travelling</td>\n",
       "    </tr>\n",
       "    <tr>\n",
       "      <th>19</th>\n",
       "      <td>Activity</td>\n",
       "      <td>Employment Job</td>\n",
       "      <td>2.0</td>\n",
       "      <td>40</td>\n",
       "      <td>Manager</td>\n",
       "      <td>Swimming</td>\n",
       "    </tr>\n",
       "    <tr>\n",
       "      <th>20</th>\n",
       "      <td>Activity</td>\n",
       "      <td>Employment Job</td>\n",
       "      <td>3.0</td>\n",
       "      <td>35</td>\n",
       "      <td>Pensioner</td>\n",
       "      <td>Reading</td>\n",
       "    </tr>\n",
       "    <tr>\n",
       "      <th>21</th>\n",
       "      <td>Activity</td>\n",
       "      <td>Employment Job</td>\n",
       "      <td>9.0</td>\n",
       "      <td>15</td>\n",
       "      <td>Pensioner</td>\n",
       "      <td>Swimming</td>\n",
       "    </tr>\n",
       "    <tr>\n",
       "      <th>22</th>\n",
       "      <td>Activity</td>\n",
       "      <td>Employment Job</td>\n",
       "      <td>9.0</td>\n",
       "      <td>15</td>\n",
       "      <td>Pensioner</td>\n",
       "      <td>Sleeping</td>\n",
       "    </tr>\n",
       "    <tr>\n",
       "      <th>23</th>\n",
       "      <td>Activity</td>\n",
       "      <td>Employment Job</td>\n",
       "      <td>3.0</td>\n",
       "      <td>60</td>\n",
       "      <td>Pensioner</td>\n",
       "      <td>Travelling</td>\n",
       "    </tr>\n",
       "    <tr>\n",
       "      <th>24</th>\n",
       "      <td>Activity</td>\n",
       "      <td>Employment Job</td>\n",
       "      <td>0.0</td>\n",
       "      <td>0</td>\n",
       "      <td>Pensioner</td>\n",
       "      <td>Working out</td>\n",
       "    </tr>\n",
       "  </tbody>\n",
       "</table>\n",
       "</div>"
      ],
      "text/plain": [
       "      source          target  Calories Burnt  Enjoyment Employment Job  \\\n",
       "0   Activity  Employment Job             2.5         35        Student   \n",
       "1   Activity  Employment Job             4.5         20        Student   \n",
       "2   Activity  Employment Job             8.0          5        Student   \n",
       "3   Activity  Employment Job             1.0          5        Student   \n",
       "4   Activity  Employment Job             8.0         30        Student   \n",
       "5   Activity  Employment Job             1.0         35        Trainee   \n",
       "6   Activity  Employment Job             3.0         40        Trainee   \n",
       "7   Activity  Employment Job             2.0         40        Trainee   \n",
       "8   Activity  Employment Job             6.0          5        Trainee   \n",
       "9   Activity  Employment Job            12.0         45        Trainee   \n",
       "10  Activity  Employment Job             4.5         20  Administrator   \n",
       "11  Activity  Employment Job             9.0         10  Administrator   \n",
       "12  Activity  Employment Job             7.5         50  Administrator   \n",
       "13  Activity  Employment Job             1.5         35  Administrator   \n",
       "14  Activity  Employment Job             1.5         50  Administrator   \n",
       "15  Activity  Employment Job            11.0         55        Manager   \n",
       "16  Activity  Employment Job             2.0         45        Manager   \n",
       "17  Activity  Employment Job             7.5         10        Manager   \n",
       "18  Activity  Employment Job             1.5         90        Manager   \n",
       "19  Activity  Employment Job             2.0         40        Manager   \n",
       "20  Activity  Employment Job             3.0         35      Pensioner   \n",
       "21  Activity  Employment Job             9.0         15      Pensioner   \n",
       "22  Activity  Employment Job             9.0         15      Pensioner   \n",
       "23  Activity  Employment Job             3.0         60      Pensioner   \n",
       "24  Activity  Employment Job             0.0          0      Pensioner   \n",
       "\n",
       "       Activity  \n",
       "0       Reading  \n",
       "1      Swimming  \n",
       "2      Sleeping  \n",
       "3    Travelling  \n",
       "4   Working out  \n",
       "5       Reading  \n",
       "6    Travelling  \n",
       "7      Swimming  \n",
       "8      Sleeping  \n",
       "9   Working out  \n",
       "10     Swimming  \n",
       "11     Sleeping  \n",
       "12  Working out  \n",
       "13      Reading  \n",
       "14   Travelling  \n",
       "15  Working out  \n",
       "16      Reading  \n",
       "17     Sleeping  \n",
       "18   Travelling  \n",
       "19     Swimming  \n",
       "20      Reading  \n",
       "21     Swimming  \n",
       "22     Sleeping  \n",
       "23   Travelling  \n",
       "24  Working out  "
      ]
     },
     "execution_count": 2,
     "metadata": {},
     "output_type": "execute_result"
    }
   ],
   "source": [
    "dataset = Dataset(df1)\n",
    "df1"
   ]
  },
  {
   "cell_type": "markdown",
   "metadata": {},
   "source": [
    "We now define the partitions of the data. Rather than listing the categories by hand, we use `np.unique` to pick out a list of the unique values that occur in the dataset."
   ]
  },
  {
   "cell_type": "code",
   "execution_count": 3,
   "metadata": {},
   "outputs": [],
   "source": [
    "partition_job = Partition.Simple('Employment Job', np.unique(df1['Employment Job']))\n",
    "partition_activity = Partition.Simple('Activity', np.unique(df1['Activity']))"
   ]
  },
  {
   "cell_type": "markdown",
   "metadata": {},
   "source": [
    "In fact, this is pretty common so there is a built-in function to do this:"
   ]
  },
  {
   "cell_type": "code",
   "execution_count": 4,
   "metadata": {},
   "outputs": [],
   "source": [
    "# these statements or the ones above do the same thing\n",
    "partition_job = dataset.partition('Employment Job')\n",
    "partition_activity = dataset.partition('Activity')"
   ]
  },
  {
   "cell_type": "markdown",
   "metadata": {},
   "source": [
    "We then go on to define the structure of our sankey. We define nodes, bundles and the order. In this case its pretty straightforward:"
   ]
  },
  {
   "cell_type": "code",
   "execution_count": 5,
   "metadata": {},
   "outputs": [],
   "source": [
    "nodes = {\n",
    "    'Activity': ProcessGroup(['Activity'], partition_activity),\n",
    "    'Job': ProcessGroup(['Employment Job'], partition_job),\n",
    "}\n",
    "\n",
    "bundles = [\n",
    "    Bundle('Activity', 'Job'),\n",
    "]\n",
    "\n",
    "ordering = [\n",
    "    ['Activity'],\n",
    "    ['Job'],\n",
    "]"
   ]
  },
  {
   "cell_type": "markdown",
   "metadata": {},
   "source": [
    "Now we will plot a Sankey that shows the share of time dedicated to each activity by each type of person. "
   ]
  },
  {
   "cell_type": "code",
   "execution_count": 6,
   "metadata": {},
   "outputs": [
    {
     "data": {
      "application/vnd.jupyter.widget-view+json": {
       "model_id": "7e51212fa6d248ac85cfde746e6b97f1",
       "version_major": 2,
       "version_minor": 0
      },
      "text/plain": [
       "SankeyWidget(groups=[{'id': 'Activity', 'type': 'process', 'title': '', 'nodes': ['Activity^Reading', 'Activit…"
      ]
     },
     "metadata": {},
     "output_type": "display_data"
    }
   ],
   "source": [
    "# These are the same each time, so just write them here once\n",
    "size_options = dict(width=500, height=400,\n",
    "                    margins=dict(left=100, right=100))\n",
    "\n",
    "sdd = SankeyDefinition(nodes, bundles, ordering)\n",
    "weave(sdd, dataset, measures='Calories Burnt').to_widget(**size_options)"
   ]
  },
  {
   "cell_type": "markdown",
   "metadata": {},
   "source": [
    "We can start using colour by specifying that we want to partition the flows according to type of person. Notice that this time we are using a pre-determined palette. \n",
    "\n",
    "You can find all sorts of palettes [listed here](https://jiffyclub.github.io/palettable/colorbrewer/qualitative/)."
   ]
  },
  {
   "cell_type": "code",
   "execution_count": 7,
   "metadata": {},
   "outputs": [
    {
     "data": {
      "application/vnd.jupyter.widget-view+json": {
       "model_id": "f6a911a4647940b9b760455449d6bc7a",
       "version_major": 2,
       "version_minor": 0
      },
      "text/plain": [
       "SankeyWidget(groups=[{'id': 'Activity', 'type': 'process', 'title': '', 'nodes': ['Activity^Reading', 'Activit…"
      ]
     },
     "metadata": {},
     "output_type": "display_data"
    }
   ],
   "source": [
    "sdd = SankeyDefinition(nodes, bundles, ordering, flow_partition=partition_job)\n",
    "\n",
    "weave(sdd, dataset, palette='Set2_8', measures='Calories Burnt').to_widget(**size_options)"
   ]
  },
  {
   "cell_type": "markdown",
   "metadata": {},
   "source": [
    "Now, if we want to make the colour of the flow to be proportional to a numerical value. Use the `hue` parameter to set the name of the variable that you want to display in colour. To start off, let's use \"value\", which is the width of the lines: wider lines will be shown in a darker colour."
   ]
  },
  {
   "cell_type": "code",
   "execution_count": 8,
   "metadata": {},
   "outputs": [
    {
     "data": {
      "application/vnd.jupyter.widget-view+json": {
       "model_id": "a3e5e38dde3a429b982f5dc218ddced2",
       "version_major": 2,
       "version_minor": 0
      },
      "text/plain": [
       "SankeyWidget(groups=[{'id': 'Activity', 'type': 'process', 'title': '', 'nodes': ['Activity^Reading', 'Activit…"
      ]
     },
     "metadata": {},
     "output_type": "display_data"
    }
   ],
   "source": [
    "weave(sdd, dataset, link_color=QuantitativeScale('Calories Burnt'), measures='Calories Burnt').to_widget(**size_options)"
   ]
  },
  {
   "cell_type": "markdown",
   "metadata": {},
   "source": [
    "It's more interesting to use colour to show a different attribute from the flow table. But because a line in the Sankey diagram is an aggregation of multiple flows in the original data, we need to specify how the new dimension will be aggregated. For example, we'll use the *mean* of the flows within each Sankey link to set the colour. In this case we will use the colour to show how much each type of person emjoys each activity. We can be interested in either the cumulative enjoyment, or the mean enjoyment: try both!\n",
    "\n",
    "Aggregation is specified with the `measures` parameter, which should be set to a dictionary mapping dimension names to aggregation functions (`'mean'`, `'sum'` etc)."
   ]
  },
  {
   "cell_type": "code",
   "execution_count": 9,
   "metadata": {},
   "outputs": [
    {
     "data": {
      "application/vnd.jupyter.widget-view+json": {
       "model_id": "ab17a25f3d4646e2abe526390690987b",
       "version_major": 2,
       "version_minor": 0
      },
      "text/plain": [
       "SankeyWidget(groups=[{'id': 'Activity', 'type': 'process', 'title': '', 'nodes': ['Activity^Reading', 'Activit…"
      ]
     },
     "metadata": {},
     "output_type": "display_data"
    }
   ],
   "source": [
    "weave(sdd, dataset, measures={'Calories Burnt': 'sum', 'Enjoyment': 'mean'}, link_width='Calories Burnt',\n",
    "      link_color=QuantitativeScale('Enjoyment')).to_widget(**size_options)"
   ]
  },
  {
   "cell_type": "code",
   "execution_count": 10,
   "metadata": {},
   "outputs": [
    {
     "name": "stderr",
     "output_type": "stream",
     "text": [
      "/Users/rick/devel/floweaver/floweaver/color_scales.py:121: RuntimeWarning: invalid value encountered in true_divide\n",
      "  value /= measures[self.intensity]\n"
     ]
    },
    {
     "data": {
      "application/vnd.jupyter.widget-view+json": {
       "model_id": "722ee6d5787d4b598e0643adb75eb5a2",
       "version_major": 2,
       "version_minor": 0
      },
      "text/plain": [
       "SankeyWidget(groups=[{'id': 'Activity', 'type': 'process', 'title': '', 'nodes': ['Activity^Reading', 'Activit…"
      ]
     },
     "metadata": {},
     "output_type": "display_data"
    }
   ],
   "source": [
    "weave(sdd, dataset, measures={'Calories Burnt': 'sum', 'Enjoyment': 'mean'}, link_width='Calories Burnt',\n",
    "      link_color=QuantitativeScale('Enjoyment', intensity='Calories Burnt')).to_widget(**size_options)"
   ]
  },
  {
   "cell_type": "markdown",
   "metadata": {},
   "source": [
    "You can change the colour palette using the `palette` attribute. The palette names are different from before, because those were *categorical* (or *qualitative*) scales, and this is now a *sequential* scale. The palette names are [listed here](https://jiffyclub.github.io/palettable/colorbrewer/sequential/)."
   ]
  },
  {
   "cell_type": "code",
   "execution_count": 11,
   "metadata": {},
   "outputs": [
    {
     "data": {
      "application/vnd.jupyter.widget-view+json": {
       "model_id": "2d40e5fd7fe54b28a6656ce18cc25b69",
       "version_major": 2,
       "version_minor": 0
      },
      "text/plain": [
       "SankeyWidget(groups=[{'id': 'Activity', 'type': 'process', 'title': '', 'nodes': ['Activity^Reading', 'Activit…"
      ]
     },
     "metadata": {},
     "output_type": "display_data"
    }
   ],
   "source": [
    "scale = QuantitativeScale('Enjoyment', palette='Blues_9')\n",
    "weave(sdd, dataset, \n",
    "      measures={'Calories Burnt': 'sum', 'Enjoyment': 'mean'}, \n",
    "      link_width='Calories Burnt',\n",
    "      link_color=scale) \\\n",
    "    .to_widget(**size_options)"
   ]
  },
  {
   "cell_type": "code",
   "execution_count": 12,
   "metadata": {},
   "outputs": [
    {
     "data": {
      "text/plain": [
       "(0, 90)"
      ]
     },
     "execution_count": 12,
     "metadata": {},
     "output_type": "execute_result"
    }
   ],
   "source": [
    "scale.domain"
   ]
  },
  {
   "cell_type": "markdown",
   "metadata": {},
   "source": [
    "It is possible to create a colorbar / scale to show the range of intensity values, but it's not currently as easy as it should be. This should be improved in future."
   ]
  },
  {
   "cell_type": "markdown",
   "metadata": {},
   "source": [
    "## More customisation\n",
    "\n",
    "You can subclass the QuantitativeScale class to get more control over the colour scale."
   ]
  },
  {
   "cell_type": "code",
   "execution_count": 13,
   "metadata": {},
   "outputs": [],
   "source": [
    "class MyScale(QuantitativeScale):\n",
    "    def get_palette(self, link):\n",
    "        # Choose colour scheme based on link type (here, Employment Job)\n",
    "        name = 'Greens_9' if link.type == 'Student' else 'Blues_9'\n",
    "        return self.lookup_palette_name(name)\n",
    "        \n",
    "    def get_color(self, link, value):\n",
    "        palette = self.get_palette(link)\n",
    "        return palette(0.2 + 0.8*value)"
   ]
  },
  {
   "cell_type": "code",
   "execution_count": 14,
   "metadata": {},
   "outputs": [
    {
     "data": {
      "application/vnd.jupyter.widget-view+json": {
       "model_id": "e271790755704159aaff451b78509cd7",
       "version_major": 2,
       "version_minor": 0
      },
      "text/plain": [
       "SankeyWidget(groups=[{'id': 'Activity', 'type': 'process', 'title': '', 'nodes': ['Activity^Reading', 'Activit…"
      ]
     },
     "metadata": {},
     "output_type": "display_data"
    }
   ],
   "source": [
    "my_scale = MyScale('Enjoyment', palette='Blues_9')\n",
    "weave(sdd, dataset, \n",
    "      measures={'Calories Burnt': 'sum', 'Enjoyment': 'mean'}, \n",
    "      link_width='Calories Burnt',\n",
    "      link_color=my_scale) \\\n",
    "    .to_widget(**size_options)"
   ]
  },
  {
   "cell_type": "code",
   "execution_count": null,
   "metadata": {},
   "outputs": [],
   "source": []
  }
 ],
 "metadata": {
  "kernelspec": {
   "display_name": "Python 3",
   "language": "python",
   "name": "python3"
  },
  "language_info": {
   "codemirror_mode": {
    "name": "ipython",
    "version": 3
   },
   "file_extension": ".py",
   "mimetype": "text/x-python",
   "name": "python",
   "nbconvert_exporter": "python",
   "pygments_lexer": "ipython3",
   "version": "3.7.2"
  }
 },
 "nbformat": 4,
 "nbformat_minor": 2
}
