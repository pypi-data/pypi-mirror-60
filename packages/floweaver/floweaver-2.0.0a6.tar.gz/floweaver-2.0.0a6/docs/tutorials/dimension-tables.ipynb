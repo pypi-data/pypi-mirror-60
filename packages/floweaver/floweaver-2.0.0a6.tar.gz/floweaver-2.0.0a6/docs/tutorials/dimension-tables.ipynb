{
 "cells": [
  {
   "cell_type": "markdown",
   "metadata": {},
   "source": [
    "# Dimension tables: efficiently adding details of processes and flows\n",
    "\n",
    "In the [Quickstart tutorial](./Quickstart.ipynb) we saw how to draw some simple Sankey diagrams and partition them in different ways, such as this:\n",
    "\n",
    "![](./quickstart_example1.png)\n",
    "\n",
    "But to do the grouping on the right-hand side we had to explicitly list which people were \"Men\" and which were \"Women\", using a partition like this:\n",
    "\n",
    "```python\n",
    "customers_by_gender = Partition.Simple('process', [\n",
    "    ('Men', ['Fred', 'James']),\n",
    "    ('Women', ['Susan', 'Mary']),\n",
    "])\n",
    "```\n",
    "\n",
    "We can show this type of information more efficiently -- and with less code -- by using *dimension tables*.\n",
    "\n",
    "## Dimension tables\n",
    "\n",
    "The table we've seen before is a **flow fact table** -- it lists basic information about each flow:\n",
    "\n",
    "- *source*: where the flow comes from\n",
    "- *target*: where the flow goes to\n",
    "- *type* or *material*: what is flowing\n",
    "- *value*: the size (in tonnes, GJ, £ etc) of the flow\n",
    "\n",
    "An example of this type of table is shown at the top right of this diagram:\n",
    "\n",
    "![](./dimension_tables.png)\n",
    "\n",
    "The **dimension tables** add extra information about the source/target and type of the flows (the diagram above also shows extra information about the time period the flow relates to, but we're not worrying about time in this tutorial). For example, \"farm2\" has a *location* attribute set to \"Cambridge\".\n",
    "\n",
    "This tutorial will show how to use dimension tables in floweaver."
   ]
  },
  {
   "cell_type": "code",
   "execution_count": null,
   "metadata": {},
   "outputs": [],
   "source": [
    "# Load the same data used in the quickstart tutorial\n",
    "import pandas as pd\n",
    "flows = pd.read_csv('simple_fruit_sales.csv')\n",
    "flows"
   ]
  },
  {
   "cell_type": "code",
   "execution_count": null,
   "metadata": {},
   "outputs": [],
   "source": [
    "# Load another table giving extra information about the \n",
    "# farms and customers. `index_col` says the first column\n",
    "# can be used to lookup rows.\n",
    "processes = pd.read_csv('simple_fruit_sales_processes.csv', \n",
    "                        index_col=0)\n",
    "processes"
   ]
  },
  {
   "cell_type": "markdown",
   "metadata": {},
   "source": [
    "Each `id` in this table matches a `source` or `target` in the flows table above. We can use this extra information to build the Sankey."
   ]
  },
  {
   "cell_type": "code",
   "execution_count": null,
   "metadata": {
    "collapsed": true
   },
   "outputs": [],
   "source": [
    "# Setup\n",
    "from floweaver import *\n",
    "\n",
    "# Set the default size to fit the documentation better.\n",
    "size = dict(width=570, height=300)"
   ]
  },
  {
   "cell_type": "markdown",
   "metadata": {},
   "source": [
    "Because we now have two tables (before we only had one so didn't have to worry) we must put them together into a Dataset:"
   ]
  },
  {
   "cell_type": "code",
   "execution_count": null,
   "metadata": {
    "collapsed": true
   },
   "outputs": [],
   "source": [
    "dataset = Dataset(flows, dim_process=processes)"
   ]
  },
  {
   "cell_type": "markdown",
   "metadata": {},
   "source": [
    "Now we can use the `type` column in the process table to more easily pick out the relevant processes:"
   ]
  },
  {
   "cell_type": "code",
   "execution_count": null,
   "metadata": {
    "collapsed": true
   },
   "outputs": [],
   "source": [
    "nodes = {\n",
    "    'farms': ProcessGroup('type == \"farm\"'),\n",
    "    'customers': ProcessGroup('type == \"customer\"'),\n",
    "}"
   ]
  },
  {
   "cell_type": "markdown",
   "metadata": {},
   "source": [
    "Compare this to how the same thing was written in the Quickstart:\n",
    "```python\n",
    "nodes = {\n",
    "    'farms': ProcessGroup(['farm1', 'farm2', 'farm3', \n",
    "                           'farm4', 'farm5', 'farm6']),\n",
    "    'customers': ProcessGroup(['James', 'Mary', 'Fred', 'Susan']),\n",
    "}\n",
    "```\n",
    "\n",
    "Because we already know from the process dimension table that James, Mary, Fred and Susan are \"customers\", we don't have to list them all by name in the ProcessGroup definition -- we can write the *query* `type == \"customer\"` instead."
   ]
  },
  {
   "cell_type": "raw",
   "metadata": {
    "raw_mimetype": "text/restructuredtext"
   },
   "source": [
    ".. note::\n",
    "\n",
    "    See the API Documentation for :class:`floweaver.ProcessGroup` for more details."
   ]
  },
  {
   "cell_type": "markdown",
   "metadata": {},
   "source": [
    "The rest of the Sankey diagram definition is the same as before:"
   ]
  },
  {
   "cell_type": "code",
   "execution_count": null,
   "metadata": {},
   "outputs": [],
   "source": [
    "ordering = [\n",
    "    ['farms'],       # put \"farms\" on the left...\n",
    "    ['customers'],   # ... and \"customers\" on the right.\n",
    "]\n",
    "bundles = [\n",
    "    Bundle('farms', 'customers'),\n",
    "]\n",
    "sdd = SankeyDefinition(nodes, bundles, ordering)\n",
    "weave(sdd, dataset).to_widget(**size)"
   ]
  },
  {
   "cell_type": "markdown",
   "metadata": {},
   "source": [
    "Again, we need to set the partition on the ProcessGroups to see something interesting. Here again, we can use the process dimension table to make this easier:"
   ]
  },
  {
   "cell_type": "code",
   "execution_count": null,
   "metadata": {},
   "outputs": [],
   "source": [
    "# Create a Partition which splits based on the `sex` column\n",
    "# of the dimension table\n",
    "customers_by_gender = Partition.Simple('process.sex', \n",
    "                                       ['Men', 'Women'])\n",
    "\n",
    "nodes['customers'].partition = customers_by_gender\n",
    "weave(sdd, dataset).to_widget(**size)"
   ]
  },
  {
   "cell_type": "markdown",
   "metadata": {},
   "source": [
    "For reference, this is what we wrote before in the Quickstart:\n",
    "```python\n",
    "customers_by_gender = Partition.Simple('process', [\n",
    "    ('Men', ['Fred', 'James']),\n",
    "    ('Women', ['Susan', 'Mary']),\n",
    "])\n",
    "```\n",
    "\n",
    "And we can use other columns of the dimension table to set other partitions:"
   ]
  },
  {
   "cell_type": "code",
   "execution_count": null,
   "metadata": {},
   "outputs": [],
   "source": [
    "farms_by_organic = Partition.Simple('process.organic', ['yes', 'no'])\n",
    "\n",
    "nodes['farms'].partition = farms_by_organic\n",
    "weave(sdd, dataset).to_widget(**size)"
   ]
  },
  {
   "cell_type": "markdown",
   "metadata": {},
   "source": [
    "Finally, a tip for doing quick exploration of the data with partitions: you can automatically get a Partition which includes all the values that actually occur in your dataset using the `dataset.partition` method:"
   ]
  },
  {
   "cell_type": "code",
   "execution_count": null,
   "metadata": {},
   "outputs": [],
   "source": [
    "# This is the logical thing to write but\n",
    "# it doesn't actually work at the moment :(\n",
    "# nodes['farms'].partition = dataset.partition('process.organic')\n",
    "\n",
    "# It works with 'source.organic'... we can explain later\n",
    "nodes['farms'].partition = dataset.partition('source.organic')\n",
    "\n",
    "# This should be the same as before\n",
    "weave(sdd, dataset).to_widget(**size)"
   ]
  },
  {
   "cell_type": "markdown",
   "metadata": {},
   "source": [
    "## Summary\n",
    "\n",
    "The process dimension table adds extra information about each process. You can use this extra information to:\n",
    "\n",
    "1. Pick out the processes you want to include in a ProcessGroup (selection); and\n",
    "2. Split apart groups of processes based on different attributes (partitions).\n",
    "\n",
    "Things to try:\n",
    "\n",
    "- Make a diagram showing the locations of farms on the left and the locations of customers on the right"
   ]
  },
  {
   "cell_type": "code",
   "execution_count": null,
   "metadata": {
    "collapsed": true
   },
   "outputs": [],
   "source": []
  }
 ],
 "metadata": {
  "celltoolbar": "Raw Cell Format",
  "kernelspec": {
   "display_name": "Python 3",
   "language": "python",
   "name": "python3"
  },
  "language_info": {
   "codemirror_mode": {
    "name": "ipython",
    "version": 3
   },
   "file_extension": ".py",
   "mimetype": "text/x-python",
   "name": "python",
   "nbconvert_exporter": "python",
   "pygments_lexer": "ipython3",
   "version": "3.6.3"
  }
 },
 "nbformat": 4,
 "nbformat_minor": 2
}
