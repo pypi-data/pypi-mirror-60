{
 "cells": [
  {
   "cell_type": "markdown",
   "metadata": {},
   "source": [
    "# Tutorials\n",
    "\n",
    "These notebooks contain live, interactive versions of the [floWeaver](http://floweaver.readthedocs.io/en/latest/) tutorials:\n",
    "\n",
    "1. [Quickstart](./quickstart.ipynb)\n",
    "2. [Dimension tables: efficiently adding details of processes and flows](./dimension-tables.ipynb)\n",
    "3. [System boundaries](./system-boundary.ipynb)\n",
    "4. [Categorical and quantified colours](./colour-scales.ipynb)\n",
    "\n",
    "If you are new to using Jupyter notebooks, the main thing to know is:\n",
    "- the notebook is a series of *cells*, which contain code and show the results below\n",
    "- you need to step through the cells running them in sequence, using either the \"play\" button on the toolbar, or by pressing `Shift + Enter`.\n",
    "- you can edit the code and run the cell again to see the effect of changes\n",
    "- the history of code that you've run accumulates from cell to cell, but you can reset to a clean slate by restarting the \"kernel\" from the menubar\n",
    "\n",
    "For more details see the [Jupyter notebook tutorials](http://nbviewer.jupyter.org/github/ipython/ipython/blob/3.x/examples/Notebook/Index.ipynb) or one of the many other tutorials available."
   ]
  }
 ],
 "metadata": {
  "kernelspec": {
   "display_name": "Python 3",
   "language": "python",
   "name": "python3"
  },
  "language_info": {
   "codemirror_mode": {
    "name": "ipython",
    "version": 3
   },
   "file_extension": ".py",
   "mimetype": "text/x-python",
   "name": "python",
   "nbconvert_exporter": "python",
   "pygments_lexer": "ipython3",
   "version": "3.6.3"
  }
 },
 "nbformat": 4,
 "nbformat_minor": 2
}
