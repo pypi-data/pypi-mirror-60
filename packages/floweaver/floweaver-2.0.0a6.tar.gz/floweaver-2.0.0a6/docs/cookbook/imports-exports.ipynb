{
 "cells": [
  {
   "cell_type": "markdown",
   "metadata": {},
   "source": [
    "# Imports & exports\n",
    "\n",
    "This recipe demonstrates how to show import and export flows to/from a simple process chain.\n",
    "\n",
    "For demonstration, the CSV data is written directly in the cell below -- in practice you would want to load data a file."
   ]
  },
  {
   "cell_type": "code",
   "execution_count": null,
   "metadata": {},
   "outputs": [],
   "source": [
    "import pandas as pd\n",
    "from io import StringIO\n",
    "\n",
    "flows = pd.read_csv(StringIO(\"\"\"\n",
    "source,target,type,value\n",
    "a,b,main,3\n",
    "b,c,main,4\n",
    "imports,b,import/export,2\n",
    "b,exports,import/export,1\n",
    "\"\"\"))\n",
    "\n",
    "flows"
   ]
  },
  {
   "cell_type": "markdown",
   "metadata": {},
   "source": [
    "Here is the basic structure of the Sankey diagram: a chain of processes `a -- b --- c`."
   ]
  },
  {
   "cell_type": "code",
   "execution_count": null,
   "metadata": {},
   "outputs": [],
   "source": [
    "from floweaver import *\n",
    "\n",
    "# Set the default size to fit the documentation better.\n",
    "size = dict(width=570, height=300)\n",
    "\n",
    "nodes = {\n",
    "    'a': ProcessGroup(['a']),\n",
    "    'b': ProcessGroup(['b']),\n",
    "    'c': ProcessGroup(['c']),\n",
    "}\n",
    "\n",
    "bundles = [\n",
    "    Bundle('a', 'b'),\n",
    "    Bundle('b', 'c'),\n",
    "]\n",
    "\n",
    "ordering = [\n",
    "    ['a'],\n",
    "    ['b'],\n",
    "    ['c'],\n",
    "]\n",
    "\n",
    "sdd = SankeyDefinition(nodes, bundles, ordering)\n",
    "\n",
    "weave(sdd, flows).to_widget(**size)"
   ]
  },
  {
   "cell_type": "markdown",
   "metadata": {},
   "source": [
    "To get more control over the appearance of the import/export flows, they can be controlled using Waypoints:"
   ]
  },
  {
   "cell_type": "code",
   "execution_count": null,
   "metadata": {},
   "outputs": [],
   "source": [
    "nodes = {\n",
    "    'a': ProcessGroup(['a']),\n",
    "    'b': ProcessGroup(['b']),\n",
    "    'c': ProcessGroup(['c']),\n",
    "    'imports': Waypoint(),\n",
    "    'exports': Waypoint(),\n",
    "}\n",
    "\n",
    "bundles = [\n",
    "    Bundle('a', 'b'),\n",
    "    Bundle('b', 'c'),\n",
    "    Bundle(Elsewhere, 'b', waypoints=['imports']),\n",
    "    Bundle('b', Elsewhere, waypoints=['exports']),\n",
    "]\n",
    "\n",
    "ordering = [\n",
    "    [['a'], ['imports']],\n",
    "    [['b']],\n",
    "    [['c'], ['exports']],\n",
    "]\n",
    "\n",
    "sdd = SankeyDefinition(nodes, bundles, ordering)\n",
    "\n",
    "weave(sdd, flows).to_widget(**size)"
   ]
  },
  {
   "cell_type": "markdown",
   "metadata": {},
   "source": [
    "To get different colours for imports/exports, we need to modify the SDD to use the `type` column to distinguish different types of flow:"
   ]
  },
  {
   "cell_type": "code",
   "execution_count": null,
   "metadata": {},
   "outputs": [],
   "source": [
    "sdd = SankeyDefinition(nodes, bundles, ordering, flow_partition=Partition.Simple('type', ['main', 'import/export']))\n",
    "\n",
    "weave(sdd, flows).to_widget(**size)"
   ]
  },
  {
   "cell_type": "markdown",
   "metadata": {},
   "source": [
    "Finally, you can customise the colour scheme:"
   ]
  },
  {
   "cell_type": "code",
   "execution_count": null,
   "metadata": {},
   "outputs": [],
   "source": [
    "weave(sdd, flows, palette={'main': 'steelblue', 'import/export': 'lightblue'}).to_widget(**size)"
   ]
  },
  {
   "cell_type": "markdown",
   "metadata": {},
   "source": [
    "## Alternative style\n",
    "\n",
    "An alternative style for showing imports & exports like this isn't currently supported:\n",
    "\n",
    "![short import & export flows](imports-exports-alternative-style.png)\n",
    "\n",
    "But it should be possible to support with minor changes to the Sankey diagram definition. For example, the difference between this style and the style shown above could be requested by changing:\n",
    "\n",
    "```python\n",
    "Bundle(Elsewhere, 'b', waypoints=['imports'])\n",
    "```\n",
    "to\n",
    "```python\n",
    "Bundle(Elsewhere, 'b', waypoints=[])\n",
    "```\n",
    "\n",
    "The lack of a waypoint would indicate that the flow should be shown as a short \"stub\"."
   ]
  }
 ],
 "metadata": {
  "kernelspec": {
   "display_name": "Python 3",
   "language": "python",
   "name": "python3"
  },
  "language_info": {
   "codemirror_mode": {
    "name": "ipython",
    "version": 3
   },
   "file_extension": ".py",
   "mimetype": "text/x-python",
   "name": "python",
   "nbconvert_exporter": "python",
   "pygments_lexer": "ipython3",
   "version": "3.6.3"
  }
 },
 "nbformat": 4,
 "nbformat_minor": 2
}
