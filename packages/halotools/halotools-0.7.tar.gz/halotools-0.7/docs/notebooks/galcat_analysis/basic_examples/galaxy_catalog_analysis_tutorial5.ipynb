{
 "metadata": {
  "name": "",
  "signature": "sha256:6c0a2cca6eb683876db0fa0753f1077b8a688287c0fa941d965c135719b77f15"
 },
 "nbformat": 3,
 "nbformat_minor": 0,
 "worksheets": [
  {
   "cells": [
    {
     "cell_type": "heading",
     "level": 1,
     "metadata": {},
     "source": [
      "Galaxy Catalog Analysis Example: Galaxy group identification"
     ]
    },
    {
     "cell_type": "markdown",
     "metadata": {},
     "source": [
      "In this example, we\u2019ll show how to start from a sample of mock galaxies and identify galaxy groups in an observationally realistic manner."
     ]
    },
    {
     "cell_type": "heading",
     "level": 2,
     "metadata": {},
     "source": [
      "Generate a mock galaxy catalog"
     ]
    },
    {
     "cell_type": "markdown",
     "metadata": {},
     "source": [
      "Let\u2019s start out by generating a mock galaxy catalog into an N-body simulation in the usual way. Here we\u2019ll assume you have the z=0 rockstar halos for the bolshoi simulation, as this is the default halo catalog.\n",
      "\n"
     ]
    },
    {
     "cell_type": "code",
     "collapsed": false,
     "input": [
      "from halotools.empirical_models import PrebuiltSubhaloModelFactory\n",
      "model = PrebuiltSubhaloModelFactory('behroozi10')\n",
      "from halotools.sim_manager import CachedHaloCatalog\n",
      "halocat = CachedHaloCatalog(simname = 'bolshoi', redshift = 0, halo_finder = 'rockstar')\n",
      "model.populate_mock(halocat)"
     ],
     "language": "python",
     "metadata": {},
     "outputs": [],
     "prompt_number": 1
    },
    {
     "cell_type": "markdown",
     "metadata": {},
     "source": [
      "Our mock galaxies are stored in the `galaxy_table` of `model.mock` in the form of an Astropy Table."
     ]
    },
    {
     "cell_type": "heading",
     "level": 2,
     "metadata": {},
     "source": [
      "Extract subsamples of galaxy positions"
     ]
    },
    {
     "cell_type": "code",
     "collapsed": false,
     "input": [
      "sample_mask = model.mock.galaxy_table['stellar_mass'] > 10**10.75\n",
      "galaxy_sample = model.mock.galaxy_table[sample_mask]\n",
      "x = galaxy_sample['x']\n",
      "y = galaxy_sample['y']\n",
      "z = galaxy_sample['z']\n",
      "vz = galaxy_sample['vz']\n",
      "\n",
      "from halotools.mock_observables import return_xyz_formatted_array\n",
      "\n",
      "pos = return_xyz_formatted_array(x, y, z,\n",
      "            velocity=vz, velocity_distortion_dimension = 'z')"
     ],
     "language": "python",
     "metadata": {},
     "outputs": [],
     "prompt_number": 2
    },
    {
     "cell_type": "markdown",
     "metadata": {},
     "source": [
      "Note that in the above code we have also applied redshift-space distortions to the positions, as this has an important effect on galaxy group identification.\n",
      "\n"
     ]
    },
    {
     "cell_type": "heading",
     "level": 2,
     "metadata": {},
     "source": [
      "Identify FoF galaxy groups"
     ]
    },
    {
     "cell_type": "code",
     "collapsed": false,
     "input": [
      "from halotools.mock_observables import FoFGroups\n",
      "\n",
      "b_para, b_perp = 0.7, 0.15\n",
      "groups = FoFGroups(pos, b_perp, b_para,\n",
      "                      Lbox = model.mock.Lbox, num_threads='max')\n",
      "\n",
      "galaxy_sample['fof_group_id'] = groups.group_ids"
     ],
     "language": "python",
     "metadata": {},
     "outputs": [],
     "prompt_number": 3
    },
    {
     "cell_type": "markdown",
     "metadata": {},
     "source": [
      "The galaxy_sample storing the mock now has a column storing the group IDs as they would have been found in real observational data, including redshift-space distortion effects."
     ]
    },
    {
     "cell_type": "heading",
     "level": 2,
     "metadata": {},
     "source": [
      "Determine group centrals and satellites"
     ]
    },
    {
     "cell_type": "code",
     "collapsed": false,
     "input": [
      "from halotools.utils import group_member_generator\n",
      "\n",
      "galaxy_sample['negative_stellar_mass'] = -1*galaxy_sample['stellar_mass']\n",
      "galaxy_sample.sort(['fof_group_id', 'negative_stellar_mass'])\n",
      "grouping_key = 'fof_group_id'\n",
      "requested_columns = []\n",
      "\n",
      "group_gen = group_member_generator(galaxy_sample, grouping_key, requested_columns)\n",
      "\n",
      "group_central = np.zeros(len(galaxy_sample), dtype=bool)\n",
      "for first, last, member_props in group_gen:\n",
      "    temp_result = [False for member in range(first, last)]\n",
      "    temp_result[0] = True\n",
      "    group_central[first:last] = temp_result\n",
      "\n",
      "galaxy_sample['group_central'] = group_central"
     ],
     "language": "python",
     "metadata": {},
     "outputs": [],
     "prompt_number": 4
    },
    {
     "cell_type": "markdown",
     "metadata": {},
     "source": [
      "Let\u2019s inspect our results"
     ]
    },
    {
     "cell_type": "code",
     "collapsed": false,
     "input": [
      "print(galaxy_sample[0:15])"
     ],
     "language": "python",
     "metadata": {},
     "outputs": [
      {
       "output_type": "stream",
       "stream": "stdout",
       "text": [
        "halo_upid  halo_mpeak  halo_x ... negative_stellar_mass group_central\n",
        "---------- ---------- ------- ... --------------------- -------------\n",
        "        -1  1.144e+14  21.812 ...          -3.01151e+11          True\n",
        "3058440575  3.237e+12 21.9039 ...          -1.88591e+11         False\n",
        "3058440575  1.179e+12 21.5158 ...          -9.16678e+10         False\n",
        "        -1  1.237e+12 22.3349 ...          -8.54092e+10         False\n",
        "3058440575  2.068e+12 21.7739 ...          -6.93562e+10         False\n",
        "        -1  2.549e+12 20.8524 ...          -5.80705e+10         False\n",
        "3058440575   2.56e+12 21.9585 ...          -1.31404e+11          True\n",
        "        -1  9.709e+13 26.1803 ...           -6.8767e+11          True\n",
        "        -1  1.869e+12 25.4072 ...          -1.08128e+11         False\n",
        "3058441456  9.537e+11 25.9398 ...          -7.33607e+10         False\n",
        "        -1  1.373e+12  25.946 ...          -6.40658e+10         False\n",
        "3058441456  2.926e+13 25.6703 ...           -2.0451e+11          True\n",
        "        -1  4.076e+13 23.7934 ...          -2.81008e+11          True\n",
        "3058441777  1.256e+12 23.8284 ...          -7.81526e+10         False\n",
        "        -1  1.286e+12 24.3589 ...          -7.12308e+10         False\n"
       ]
      }
     ],
     "prompt_number": 5
    },
    {
     "cell_type": "heading",
     "level": 2,
     "metadata": {},
     "source": [
      "Calculating group richness $N_{\\rm group}$"
     ]
    },
    {
     "cell_type": "markdown",
     "metadata": {},
     "source": [
      "Now we\u2019ll use the same generator to calculate the total number of members in each FoF group."
     ]
    },
    {
     "cell_type": "code",
     "collapsed": false,
     "input": [
      "grouping_key = 'fof_group_id'\n",
      "requested_columns = []\n",
      "\n",
      "group_gen = group_member_generator(galaxy_sample, grouping_key, requested_columns)\n",
      "\n",
      "group_richness = np.zeros(len(galaxy_sample), dtype=int)\n",
      "for first, last, member_props in group_gen:\n",
      "    group_richness[first:last] = last-first\n",
      "galaxy_sample['group_richness'] = group_richness"
     ],
     "language": "python",
     "metadata": {},
     "outputs": [],
     "prompt_number": 6
    },
    {
     "cell_type": "code",
     "collapsed": false,
     "input": [
      "print(galaxy_sample[0:15])"
     ],
     "language": "python",
     "metadata": {},
     "outputs": [
      {
       "output_type": "stream",
       "stream": "stdout",
       "text": [
        "halo_upid  halo_mpeak  halo_x ... group_central group_richness\n",
        "---------- ---------- ------- ... ------------- --------------\n",
        "        -1  1.144e+14  21.812 ...          True              6\n",
        "3058440575  3.237e+12 21.9039 ...         False              6\n",
        "3058440575  1.179e+12 21.5158 ...         False              6\n",
        "        -1  1.237e+12 22.3349 ...         False              6\n",
        "3058440575  2.068e+12 21.7739 ...         False              6\n",
        "        -1  2.549e+12 20.8524 ...         False              6\n",
        "3058440575   2.56e+12 21.9585 ...          True              1\n",
        "        -1  9.709e+13 26.1803 ...          True              4\n",
        "        -1  1.869e+12 25.4072 ...         False              4\n",
        "3058441456  9.537e+11 25.9398 ...         False              4\n",
        "        -1  1.373e+12  25.946 ...         False              4\n",
        "3058441456  2.926e+13 25.6703 ...          True              1\n",
        "        -1  4.076e+13 23.7934 ...          True              3\n",
        "3058441777  1.256e+12 23.8284 ...         False              3\n",
        "        -1  1.286e+12 24.3589 ...         False              3\n"
       ]
      }
     ],
     "prompt_number": 7
    },
    {
     "cell_type": "heading",
     "level": 2,
     "metadata": {},
     "source": [
      "Calculate true halo mass of group central $M_{\\rm cen}^{\\rm true}$"
     ]
    },
    {
     "cell_type": "code",
     "collapsed": false,
     "input": [
      "galaxy_sample.sort(['fof_group_id', 'negative_stellar_mass'])\n",
      "grouping_key = 'fof_group_id'\n",
      "requested_columns = ['halo_mvir_host_halo']\n",
      "group_gen = group_member_generator(galaxy_sample, grouping_key, requested_columns)\n",
      "\n",
      "group_central_true_mvir = np.zeros(len(galaxy_sample))\n",
      "for first, last, member_props in group_gen:\n",
      "    member_masses = member_props[0]\n",
      "    true_mass = member_masses[0]\n",
      "    group_central_true_mvir[first:last] = true_mass\n",
      "\n",
      "galaxy_sample['group_central_true_mvir'] = group_central_true_mvir"
     ],
     "language": "python",
     "metadata": {},
     "outputs": [],
     "prompt_number": 8
    },
    {
     "cell_type": "code",
     "collapsed": false,
     "input": [],
     "language": "python",
     "metadata": {},
     "outputs": [],
     "prompt_number": 8
    },
    {
     "cell_type": "code",
     "collapsed": false,
     "input": [],
     "language": "python",
     "metadata": {},
     "outputs": [],
     "prompt_number": 8
    },
    {
     "cell_type": "code",
     "collapsed": false,
     "input": [],
     "language": "python",
     "metadata": {},
     "outputs": [],
     "prompt_number": 8
    },
    {
     "cell_type": "code",
     "collapsed": false,
     "input": [],
     "language": "python",
     "metadata": {},
     "outputs": []
    }
   ],
   "metadata": {}
  }
 ]
}