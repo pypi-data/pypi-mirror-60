{
 "metadata": {
  "name": "",
  "signature": "sha256:2ffebbe9d79ee9770fc28c52fa520a469dd9f6bf88808398ed027d4d2f8875f3"
 },
 "nbformat": 3,
 "nbformat_minor": 0,
 "worksheets": [
  {
   "cells": [
    {
     "cell_type": "heading",
     "level": 1,
     "metadata": {},
     "source": [
      "Galaxy Catalog Analysis Example: Void probability function\n"
     ]
    },
    {
     "cell_type": "markdown",
     "metadata": {},
     "source": [
      "In this example, we'll show how to calculate the void probability function: the probability that a randomly placed sphere has zero galaxies inside it, aka the VPF. See, e.g., Tinker et al. (2008). We will also calculate the UPF, the probability that a random sphere has a number density less than some threshold value. "
     ]
    },
    {
     "cell_type": "heading",
     "level": 2,
     "metadata": {},
     "source": [
      "Generate a mock galaxy catalog \n"
     ]
    },
    {
     "cell_type": "markdown",
     "metadata": {},
     "source": [
      "Let's start out by generating a mock galaxy catalog into an N-body\n",
      "simulation in the usual way. Here we'll assume you have the z=0\n",
      "rockstar halos for the bolshoi simulation, as this is the\n",
      "default halo catalog. \n"
     ]
    },
    {
     "cell_type": "code",
     "collapsed": false,
     "input": [
      "from halotools.empirical_models import PrebuiltHodModelFactory\n",
      "model = PrebuiltHodModelFactory('leauthaud11')\n",
      "\n",
      "from halotools.sim_manager import CachedHaloCatalog\n",
      "halocat = CachedHaloCatalog(simname = 'bolshoi', redshift = 0, halo_finder = 'rockstar')\n",
      "model.populate_mock(halocat)\n"
     ],
     "language": "python",
     "metadata": {},
     "outputs": [],
     "prompt_number": 1
    },
    {
     "cell_type": "markdown",
     "metadata": {},
     "source": [
      "Our mock galaxies are stored in the ``galaxy_table`` of ``model.mock``\n",
      "in the form of an Astropy Table.\n"
     ]
    },
    {
     "cell_type": "heading",
     "level": 2,
     "metadata": {},
     "source": [
      "Calculate two-point galaxy clustering $\\xi_{\\rm gg}(r)$"
     ]
    },
    {
     "cell_type": "markdown",
     "metadata": {},
     "source": [
      "The three-dimensional galaxy clustering signal is calculated by \n",
      "the `halotools.mock_observables.tpcf` function from  \n",
      "the *x, y, z* positions of the galaxies stored in the ``galaxy_table``. \n",
      "We can retrieve these arrays as follows:\n"
     ]
    },
    {
     "cell_type": "code",
     "collapsed": false,
     "input": [
      "x = model.mock.galaxy_table['x']\n",
      "y = model.mock.galaxy_table['y']\n",
      "z = model.mock.galaxy_table['z']\n"
     ],
     "language": "python",
     "metadata": {},
     "outputs": [],
     "prompt_number": 2
    },
    {
     "cell_type": "code",
     "collapsed": false,
     "input": [
      "from halotools.mock_observables import return_xyz_formatted_array\n",
      "\n",
      "pos = return_xyz_formatted_array(x, y, z)"
     ],
     "language": "python",
     "metadata": {},
     "outputs": [],
     "prompt_number": 3
    },
    {
     "cell_type": "code",
     "collapsed": false,
     "input": [
      "from halotools.mock_observables import void_prob_func"
     ],
     "language": "python",
     "metadata": {},
     "outputs": [],
     "prompt_number": 4
    },
    {
     "cell_type": "code",
     "collapsed": false,
     "input": [
      "rbins = np.logspace(-1, 1.5, 20)\n",
      "\n",
      "num_spheres = int(1e5)\n",
      "\n",
      "vpf = void_prob_func(pos, rbins, num_spheres, period=model.mock.Lbox, num_threads='max')\n"
     ],
     "language": "python",
     "metadata": {},
     "outputs": [],
     "prompt_number": 6
    },
    {
     "cell_type": "code",
     "collapsed": false,
     "input": [
      "from halotools.mock_observables import underdensity_prob_func"
     ],
     "language": "python",
     "metadata": {},
     "outputs": [],
     "prompt_number": 7
    },
    {
     "cell_type": "code",
     "collapsed": false,
     "input": [
      "u = 0.2\n",
      "\n",
      "upf = underdensity_prob_func(pos, rbins, num_spheres, period=model.mock.Lbox, u=u, num_threads='max')"
     ],
     "language": "python",
     "metadata": {},
     "outputs": [],
     "prompt_number": 8
    },
    {
     "cell_type": "code",
     "collapsed": false,
     "input": [
      "%matplotlib inline\n",
      "from seaborn import plt"
     ],
     "language": "python",
     "metadata": {},
     "outputs": [],
     "prompt_number": 9
    },
    {
     "cell_type": "code",
     "collapsed": false,
     "input": [
      "plt.plot(rbins, vpf, label='VPF')\n",
      "\n",
      "plt.plot(rbins, upf, label='UPF')\n",
      "\n",
      "plt.xlim(xmin = 0.1, xmax = 50)\n",
      "plt.ylim(ymin = 0.01, ymax = 1.1)\n",
      "plt.loglog()\n",
      "plt.xticks(fontsize=20)\n",
      "plt.yticks(fontsize=20)\n",
      "plt.xlabel(r'$R $  $\\rm{[Mpc]}$', fontsize=25)\n",
      "plt.ylabel('Probability', fontsize=25)\n",
      "plt.legend(loc=3, fontsize=20)\n",
      "plt.title(r'$M_{\\ast}/M_{\\odot} > 10^{10.5}$', fontsize=25)\n"
     ],
     "language": "python",
     "metadata": {},
     "outputs": [
      {
       "metadata": {},
       "output_type": "pyout",
       "prompt_number": 10,
       "text": [
        "<matplotlib.text.Text at 0x12eecb150>"
       ]
      },
      {
       "metadata": {},
       "output_type": "display_data",
       "png": "[encoded data removed]",
       "text": [
        "<matplotlib.figure.Figure at 0x12ee57210>"
       ]
      }
     ],
     "prompt_number": 10
    },
    {
     "cell_type": "code",
     "collapsed": false,
     "input": [],
     "language": "python",
     "metadata": {},
     "outputs": [],
     "prompt_number": 24
    },
    {
     "cell_type": "code",
     "collapsed": false,
     "input": [],
     "language": "python",
     "metadata": {},
     "outputs": [],
     "prompt_number": 24
    }
   ],
   "metadata": {}
  }
 ]
}