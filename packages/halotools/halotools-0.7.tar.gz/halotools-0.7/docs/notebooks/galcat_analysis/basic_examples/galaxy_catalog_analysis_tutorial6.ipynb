{
 "cells": [
  {
   "cell_type": "markdown",
   "metadata": {},
   "source": [
    "# Example 6: Mean infall velocity into cluster BCGs"
   ]
  },
  {
   "cell_type": "markdown",
   "metadata": {},
   "source": [
    "In this example we'll show how to calculate the mean infall velocity of galaxies towards the cluster BCGs. "
   ]
  },
  {
   "cell_type": "markdown",
   "metadata": {},
   "source": [
    "## Generate a mock galaxy catalog "
   ]
  },
  {
   "cell_type": "markdown",
   "metadata": {},
   "source": [
    "Let's start out by generating a mock galaxy catalog into an N-body\n",
    "simulation in the usual way. Here we'll assume you have the z=0\n",
    "rockstar halos for the bolshoi simulation, as this is the\n",
    "default halo catalog. \n"
   ]
  },
  {
   "cell_type": "code",
   "execution_count": 1,
   "metadata": {},
   "outputs": [],
   "source": [
    "from halotools.empirical_models import PrebuiltSubhaloModelFactory\n",
    "model = PrebuiltSubhaloModelFactory('smhm_binary_sfr')\n",
    "\n",
    "from halotools.sim_manager import CachedHaloCatalog\n",
    "halocat = CachedHaloCatalog(simname='multidark', redshift=0, halo_finder='rockstar')\n",
    "model.populate_mock(halocat)\n"
   ]
  },
  {
   "cell_type": "markdown",
   "metadata": {},
   "source": [
    "Our mock galaxies are stored in the ``galaxy_table`` of ``model.mock``\n",
    "in the form of an Astropy Table.\n"
   ]
  },
  {
   "cell_type": "markdown",
   "metadata": {},
   "source": [
    "## Extract the position and velocity coordinates"
   ]
  },
  {
   "cell_type": "code",
   "execution_count": 2,
   "metadata": {},
   "outputs": [],
   "source": [
    "from halotools.mock_observables import return_xyz_formatted_array, mean_radial_velocity_vs_r"
   ]
  },
  {
   "cell_type": "code",
   "execution_count": 15,
   "metadata": {},
   "outputs": [],
   "source": [
    "cluster_central_mask = (model.mock.galaxy_table['stellar_mass'] > 10**11.5)\n",
    "cluster_centrals = model.mock.galaxy_table[cluster_central_mask]\n",
    "\n",
    "low_mass_tracers_mask = ((model.mock.galaxy_table['stellar_mass'] > 10**10) & \n",
    "                         (model.mock.galaxy_table['stellar_mass'] < 10**10.5))\n",
    "low_mass_tracers = model.mock.galaxy_table[low_mass_tracers_mask]\n"
   ]
  },
  {
   "cell_type": "code",
   "execution_count": 16,
   "metadata": {},
   "outputs": [],
   "source": [
    "cluster_pos = return_xyz_formatted_array(cluster_centrals['x'], cluster_centrals['y'] ,cluster_centrals['z'])\n",
    "cluster_vel = return_xyz_formatted_array(cluster_centrals['vx'], cluster_centrals['vy'] ,cluster_centrals['vz'])\n",
    "\n",
    "low_mass_tracers_pos = return_xyz_formatted_array(low_mass_tracers['x'], low_mass_tracers['y'] ,low_mass_tracers['z'])\n",
    "low_mass_tracers_vel = return_xyz_formatted_array(low_mass_tracers['vx'], low_mass_tracers['vy'] ,low_mass_tracers['vz'])\n",
    "\n"
   ]
  },
  {
   "cell_type": "markdown",
   "metadata": {},
   "source": [
    "## Calculate $<V_{\\rm rad}>(r)$"
   ]
  },
  {
   "cell_type": "code",
   "execution_count": 17,
   "metadata": {},
   "outputs": [],
   "source": [
    "rbins = np.logspace(-0.5, 1.25, 15)\n",
    "rbin_midpoints = (rbins[1:] + rbins[:-1])/2.\n",
    "\n",
    "vr_clusters = mean_radial_velocity_vs_r(cluster_pos, cluster_vel, rbins_absolute=rbins, \n",
    "                                      sample2=low_mass_tracers_pos, velocities2=low_mass_tracers_vel, \n",
    "                                      period = model.mock.Lbox)"
   ]
  },
  {
   "cell_type": "markdown",
   "metadata": {},
   "source": [
    "### Plot the result"
   ]
  },
  {
   "cell_type": "code",
   "execution_count": 21,
   "metadata": {},
   "outputs": [
    {
     "data": {
      "image/png": "[encoded data removed]",
      "text/plain": [
       "<matplotlib.figure.Figure at 0x103d32550>"
      ]
     },
     "metadata": {},
     "output_type": "display_data"
    }
   ],
   "source": [
    "%matplotlib inline\n",
    "\n",
    "fig, ax = plt.subplots(1, 1)\n",
    "\n",
    "__=ax.plot(rbin_midpoints, vr_clusters, color='k')\n",
    "xscale = ax.set_xscale('log')\n",
    "\n",
    "xlim = ax.set_xlim(xmin=0.5, xmax=20)\n",
    "\n",
    "xlabel = ax.set_xlabel(r'$r $  $\\rm{[Mpc]}$', fontsize=15)\n",
    "ylabel = ax.set_ylabel(r'$\\langle V_{\\rm rad}\\rangle$  $[{\\rm km/s}]$', fontsize=15)\n",
    "title = ax.set_title('Radial infall velocity into cluster BCGs', fontsize=15)\n",
    "\n",
    "fig.savefig('cluster_bcg_infall_velocity.png', \n",
    "            bbox_extra_artists=[xlabel, ylabel], bbox_inches='tight')\n"
   ]
  },
  {
   "cell_type": "code",
   "execution_count": 6,
   "metadata": {},
   "outputs": [],
   "source": []
  }
 ],
 "metadata": {
  "anaconda-cloud": {},
  "kernelspec": {
   "display_name": "Python [default]",
   "language": "python",
   "name": "python2"
  },
  "language_info": {
   "codemirror_mode": {
    "name": "ipython",
    "version": 2
   },
   "file_extension": ".py",
   "mimetype": "text/x-python",
   "name": "python",
   "nbconvert_exporter": "python",
   "pygments_lexer": "ipython2",
   "version": "2.7.13"
  }
 },
 "nbformat": 4,
 "nbformat_minor": 1
}
