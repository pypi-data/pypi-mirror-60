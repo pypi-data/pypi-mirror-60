{
 "metadata": {
  "name": "",
  "signature": "sha256:e28dbc7ef36943545149f37cfa8f211e3fc75384a427228c3c04b950346447ed"
 },
 "nbformat": 3,
 "nbformat_minor": 0,
 "worksheets": [
  {
   "cells": [
    {
     "cell_type": "heading",
     "level": 1,
     "metadata": {},
     "source": [
      "Example 2: Galaxy clustering in 3d\n"
     ]
    },
    {
     "cell_type": "markdown",
     "metadata": {},
     "source": [
      "In this example, we'll show how to calculate the two-point clustering \n",
      "of a mock galaxy catalog, $\\xi_{\\rm gg}(r).$ \n",
      "We'll also show how to compute cross-correlations between two different \n",
      "galaxy samples, and also the one-halo and two-halo decomposition \n",
      "$\\xi^{\\rm 1h}_{\\rm gg}(r)$ and $\\xi^{\\rm 2h}_{\\rm gg}(r)$. \n"
     ]
    },
    {
     "cell_type": "heading",
     "level": 2,
     "metadata": {},
     "source": [
      "Generate a mock galaxy catalog \n"
     ]
    },
    {
     "cell_type": "markdown",
     "metadata": {},
     "source": [
      "Let's start out by generating a mock galaxy catalog into an N-body\n",
      "simulation in the usual way. Here we'll assume you have the z=0\n",
      "rockstar halos for the bolshoi simulation, as this is the\n",
      "default halo catalog. \n"
     ]
    },
    {
     "cell_type": "code",
     "collapsed": false,
     "input": [
      "from halotools.empirical_models import PrebuiltSubhaloModelFactory\n",
      "model = PrebuiltSubhaloModelFactory('smhm_binary_sfr')\n",
      "\n",
      "from halotools.sim_manager import CachedHaloCatalog\n",
      "halocat = CachedHaloCatalog(simname = 'bolshoi', redshift = 0, halo_finder = 'rockstar')\n",
      "model.populate_mock(halocat)\n"
     ],
     "language": "python",
     "metadata": {},
     "outputs": [],
     "prompt_number": 8
    },
    {
     "cell_type": "markdown",
     "metadata": {},
     "source": [
      "Our mock galaxies are stored in the ``galaxy_table`` of ``model.mock``\n",
      "in the form of an Astropy Table.\n"
     ]
    },
    {
     "cell_type": "heading",
     "level": 2,
     "metadata": {},
     "source": [
      "Calculate two-point galaxy clustering $\\xi_{\\rm gg}(r)$"
     ]
    },
    {
     "cell_type": "markdown",
     "metadata": {},
     "source": [
      "The three-dimensional galaxy clustering signal is calculated by \n",
      "the `halotools.mock_observables.tpcf` function from  \n",
      "the *x, y, z* positions of the galaxies stored in the ``galaxy_table``. \n",
      "We can retrieve these arrays as follows:\n"
     ]
    },
    {
     "cell_type": "code",
     "collapsed": false,
     "input": [
      "x = model.mock.galaxy_table['x']\n",
      "y = model.mock.galaxy_table['y']\n",
      "z = model.mock.galaxy_table['z']\n"
     ],
     "language": "python",
     "metadata": {},
     "outputs": [],
     "prompt_number": 9
    },
    {
     "cell_type": "code",
     "collapsed": false,
     "input": [
      "from halotools.mock_observables import return_xyz_formatted_array\n",
      "\n",
      "sample_mask = model.mock.galaxy_table['stellar_mass'] > 1e10\n",
      "pos = return_xyz_formatted_array(x, y, z, mask = sample_mask)\n"
     ],
     "language": "python",
     "metadata": {},
     "outputs": [],
     "prompt_number": 10
    },
    {
     "cell_type": "markdown",
     "metadata": {},
     "source": [
      "Now we'll use the `pos` as input to the `tpcf` function to calculate the clustering"
     ]
    },
    {
     "cell_type": "code",
     "collapsed": false,
     "input": [
      "from halotools.mock_observables import tpcf\n",
      "\n",
      "rbins = np.logspace(-1, 1.25, 15)\n",
      "rbin_centers = (rbins[1:] + rbins[:-1])/2.\n",
      "\n",
      "xi_all = tpcf(pos, rbins, period = model.mock.Lbox, num_threads = 'max')\n"
     ],
     "language": "python",
     "metadata": {},
     "outputs": [],
     "prompt_number": 11
    },
    {
     "cell_type": "heading",
     "level": 3,
     "metadata": {},
     "source": [
      "Decomposition into the 1-halo and 2-halo terms\n"
     ]
    },
    {
     "cell_type": "markdown",
     "metadata": {},
     "source": [
      "The ``tpcf_one_two_halo_decomp`` function calculates the two-point\n",
      "correlation function, decomposed into contributions from galaxies in the\n",
      "same halo, and galaxies in different halos. In order to use this\n",
      "function, we must provide an input array of host halo IDs that are equal\n",
      "for galaxies occupying the same halo, and distinct for galaxies in\n",
      "different halos. We'll use the ``halo_hostid`` column for this purpose,\n",
      "using the same ``sample_mask`` as above. \n"
     ]
    },
    {
     "cell_type": "code",
     "collapsed": false,
     "input": [
      "from halotools.mock_observables import tpcf_one_two_halo_decomp\n",
      "\n",
      "halo_hostid = model.mock.galaxy_table['halo_hostid'][sample_mask]\n",
      "\n",
      "xi_1h, xi_2h = tpcf_one_two_halo_decomp(pos,\n",
      "                halo_hostid, rbins, \n",
      "                period = model.mock.Lbox, \n",
      "                num_threads='max')\n"
     ],
     "language": "python",
     "metadata": {},
     "outputs": [],
     "prompt_number": 12
    },
    {
     "cell_type": "heading",
     "level": 3,
     "metadata": {},
     "source": [
      "Plot the results\n"
     ]
    },
    {
     "cell_type": "code",
     "collapsed": false,
     "input": [
      "%matplotlib inline"
     ],
     "language": "python",
     "metadata": {},
     "outputs": [],
     "prompt_number": 13
    },
    {
     "cell_type": "code",
     "collapsed": false,
     "input": [
      "from seaborn import plt\n",
      "\n",
      "plt.plot(rbin_centers, xi_all, \n",
      "         label='All galaxies', color='k')\n",
      "plt.plot(rbin_centers, xi_1h, \n",
      "         label = '1-halo term')\n",
      "plt.plot(rbin_centers, xi_2h, \n",
      "         label = '2-halo term')\n",
      "\n",
      "plt.xlim(xmin = 0.1, xmax = 10)\n",
      "plt.ylim(ymin = 1, ymax = 1e3)\n",
      "plt.loglog()\n",
      "plt.xticks(fontsize=20)\n",
      "plt.yticks(fontsize=20)\n",
      "plt.xlabel(r'$r $  $\\rm{[Mpc]}$', fontsize=25)\n",
      "plt.ylabel(r'$\\xi_{\\rm gg}(r)$', fontsize=25)\n",
      "plt.legend(loc='best', fontsize=20)\n"
     ],
     "language": "python",
     "metadata": {},
     "outputs": [
      {
       "metadata": {},
       "output_type": "pyout",
       "prompt_number": 14,
       "text": [
        "<matplotlib.legend.Legend at 0x139a20310>"
       ]
      },
      {
       "metadata": {},
       "output_type": "display_data",
       "png": "[encoded data removed]",
       "text": [
        "<matplotlib.figure.Figure at 0x13966c750>"
       ]
      }
     ],
     "prompt_number": 14
    },
    {
     "cell_type": "markdown",
     "metadata": {},
     "source": []
    },
    {
     "cell_type": "code",
     "collapsed": false,
     "input": [
      "\n"
     ],
     "language": "python",
     "metadata": {},
     "outputs": [],
     "prompt_number": 14
    }
   ],
   "metadata": {}
  }
 ]
}