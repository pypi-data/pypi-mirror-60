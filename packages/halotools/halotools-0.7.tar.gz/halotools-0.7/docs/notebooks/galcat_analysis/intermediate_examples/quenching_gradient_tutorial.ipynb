{
 "cells": [
  {
   "cell_type": "code",
   "execution_count": 1,
   "metadata": {},
   "outputs": [],
   "source": [
    "%matplotlib inline"
   ]
  },
  {
   "cell_type": "code",
   "execution_count": 2,
   "metadata": {},
   "outputs": [],
   "source": [
    "import numpy as np \n",
    "from matplotlib import pyplot as plt"
   ]
  },
  {
   "cell_type": "code",
   "execution_count": 3,
   "metadata": {},
   "outputs": [
    {
     "name": "stderr",
     "output_type": "stream",
     "text": [
      "/Users/aphearin/anaconda/lib/python2.7/site-packages/h5py/__init__.py:36: FutureWarning: Conversion of the second argument of issubdtype from `float` to `np.floating` is deprecated. In future, it will be treated as `np.float64 == np.dtype(float).type`.\n",
      "  from ._conv import register_converters as _register_converters\n"
     ]
    },
    {
     "name": "stdout",
     "output_type": "stream",
     "text": [
      "['halo_vmax_firstacc', 'halo_dmvir_dt_tdyn', 'halo_macc', 'halo_scale_factor', 'halo_vmax_mpeak', 'halo_m_pe_behroozi', 'halo_delta_vmax_behroozi17', 'halo_xoff', 'halo_spin', 'halo_tidal_force', 'halo_scale_factor_firstacc', 'halo_c_to_a', 'halo_mvir_firstacc', 'halo_scale_factor_last_mm', 'halo_tidal_id', 'halo_scale_factor_mpeak', 'halo_pid', 'halo_m500c', 'halo_id', 'halo_halfmass_scale_factor', 'halo_upid', 'halo_t_by_u', 'halo_rvir', 'halo_vpeak', 'halo_dmvir_dt_100myr', 'halo_mpeak', 'halo_m_pe_diemer', 'halo_jx', 'halo_jy', 'halo_jz', 'halo_m2500c', 'halo_mvir', 'halo_voff', 'halo_axisA_z', 'halo_axisA_x', 'halo_axisA_y', 'halo_y', 'halo_b_to_a', 'halo_x', 'halo_z', 'halo_m200b', 'halo_vacc', 'halo_scale_factor_lastacc', 'halo_vmax', 'halo_m200c', 'halo_vx', 'halo_vy', 'halo_vz', 'halo_dmvir_dt_inst', 'halo_tidal_force_tdyn', 'halo_rs', 'halo_nfw_conc', 'halo_hostid', 'halo_mvir_host_halo']\n"
     ]
    }
   ],
   "source": [
    "from halotools.sim_manager import CachedHaloCatalog\n",
    "halocat = CachedHaloCatalog(simname='bolplanck', redshift=0)\n",
    "print(halocat.halo_table.keys())"
   ]
  },
  {
   "cell_type": "markdown",
   "metadata": {},
   "source": [
    "## Calculate host-centric distance"
   ]
  },
  {
   "cell_type": "code",
   "execution_count": 4,
   "metadata": {},
   "outputs": [],
   "source": [
    "from halotools.utils import crossmatch\n",
    "idxA, idxB = crossmatch(halocat.halo_table['halo_hostid'], halocat.halo_table['halo_id'])\n",
    "\n",
    "halocat.halo_table['rvir_host_halo'] = halocat.halo_table['halo_rvir']\n",
    "halocat.halo_table['halo_x_host_halo'] = halocat.halo_table['halo_x']\n",
    "halocat.halo_table['halo_y_host_halo'] = halocat.halo_table['halo_y']\n",
    "halocat.halo_table['halo_z_host_halo'] = halocat.halo_table['halo_z']\n",
    "halocat.halo_table['halo_vx_host_halo'] = halocat.halo_table['halo_vx']\n",
    "halocat.halo_table['halo_vy_host_halo'] = halocat.halo_table['halo_vy']\n",
    "halocat.halo_table['halo_vz_host_halo'] = halocat.halo_table['halo_vz']\n",
    "\n",
    "halocat.halo_table['rvir_host_halo'][idxA] = halocat.halo_table['halo_rvir'][idxB]\n",
    "\n",
    "halocat.halo_table['halo_x_host_halo'][idxA] = halocat.halo_table['halo_x'][idxB]\n",
    "halocat.halo_table['halo_y_host_halo'][idxA] = halocat.halo_table['halo_y'][idxB]\n",
    "halocat.halo_table['halo_z_host_halo'][idxA] = halocat.halo_table['halo_z'][idxB]\n",
    "halocat.halo_table['halo_vx_host_halo'][idxA] = halocat.halo_table['halo_vx'][idxB]\n",
    "halocat.halo_table['halo_vy_host_halo'][idxA] = halocat.halo_table['halo_vy'][idxB]\n",
    "halocat.halo_table['halo_vz_host_halo'][idxA] = halocat.halo_table['halo_vz'][idxB]"
   ]
  },
  {
   "cell_type": "code",
   "execution_count": 5,
   "metadata": {},
   "outputs": [],
   "source": [
    "from halotools.mock_observables import radial_distance_and_velocity\n",
    "\n",
    "xs = halocat.halo_table['halo_x']\n",
    "ys = halocat.halo_table['halo_y']\n",
    "zs = halocat.halo_table['halo_z']\n",
    "vxs = halocat.halo_table['halo_vx']\n",
    "vys = halocat.halo_table['halo_vy']\n",
    "vzs = halocat.halo_table['halo_vz']\n",
    "\n",
    "xc = halocat.halo_table['halo_x_host_halo']\n",
    "yc = halocat.halo_table['halo_y_host_halo']\n",
    "zc = halocat.halo_table['halo_z_host_halo']\n",
    "vxc = halocat.halo_table['halo_vx_host_halo']\n",
    "vyc = halocat.halo_table['halo_vy_host_halo']\n",
    "vzc = halocat.halo_table['halo_vz_host_halo']\n",
    "\n",
    "drad, vrad = radial_distance_and_velocity(xs, ys, zs, vxs, vys, vzs, \n",
    "                                          xc, yc, zc, vxc, vyc, vzc, halocat.Lbox)\n",
    "halocat.halo_table['host_centric_distance'] = drad\n",
    "halocat.halo_table['r_by_rvir'] = drad/halocat.halo_table['rvir_host_halo']\n",
    "\n"
   ]
  },
  {
   "cell_type": "markdown",
   "metadata": {},
   "source": [
    "Fix edge case where no host halo was found"
   ]
  },
  {
   "cell_type": "code",
   "execution_count": 6,
   "metadata": {},
   "outputs": [],
   "source": [
    "badsat_mask = (halocat.halo_table['r_by_rvir']==0) & (halocat.halo_table['halo_upid']!=-1)\n",
    "num_missing_hosts = np.count_nonzero(badsat_mask)\n",
    "halocat.halo_table['r_by_rvir'][badsat_mask] = np.random.uniform(0, 1, num_missing_hosts)\n",
    "halocat.halo_table['host_centric_distance'][badsat_mask] = (\n",
    "    halocat.halo_table['r_by_rvir'][badsat_mask]*\n",
    "    halocat.halo_table['rvir_host_halo'][badsat_mask])"
   ]
  },
  {
   "cell_type": "markdown",
   "metadata": {},
   "source": [
    "## Assign $M_{\\ast}$ using Behroozi+10 model for $\\langle M_{\\ast}\\vert M_{\\rm peak}\\rangle$  "
   ]
  },
  {
   "cell_type": "code",
   "execution_count": 7,
   "metadata": {},
   "outputs": [],
   "source": [
    "from halotools.empirical_models import Behroozi10SmHm\n",
    "mstar_model = Behroozi10SmHm(redshift=0)\n",
    "\n",
    "halocat.halo_table['mstar'] = mstar_model.mc_stellar_mass(\n",
    "    prim_haloprop=halocat.halo_table['halo_mpeak'])"
   ]
  },
  {
   "cell_type": "markdown",
   "metadata": {},
   "source": [
    "## Assign quenching using $\\langle F_{\\rm q}\\ |\\ M_{\\rm vir}\\rangle_{\\rm cens}$ & $\\langle F_{\\rm q}\\ |\\ M_{\\rm host}\\rangle_{\\rm sats}$  from Zu & Mandelbaum  "
   ]
  },
  {
   "cell_type": "code",
   "execution_count": 8,
   "metadata": {},
   "outputs": [],
   "source": [
    "from halotools.empirical_models import ZuMandelbaum16QuenchingCens\n",
    "quenching_model_cens = ZuMandelbaum16QuenchingCens()\n",
    "\n",
    "halocat.halo_table['is_quenched'] = False\n",
    "cenmask = halocat.halo_table['halo_upid']==-1\n",
    "halocat.halo_table['is_quenched'][cenmask] = quenching_model_cens.mc_quiescent(\n",
    "    prim_haloprop=halocat.halo_table['halo_mvir'][cenmask])\n",
    "\n",
    "from halotools.empirical_models import ZuMandelbaum16QuenchingSats\n",
    "quenching_model_sats = ZuMandelbaum16QuenchingSats()\n",
    "\n",
    "halocat.halo_table['is_quenched'][~cenmask] = quenching_model_sats.mc_quiescent(\n",
    "    prim_haloprop=halocat.halo_table['halo_mvir_host_halo'][~cenmask])"
   ]
  },
  {
   "cell_type": "markdown",
   "metadata": {},
   "source": [
    "## Calculate ${\\rm Prob(<r/R_{vir}\\ \\vert\\ M_{\\rm host})}$ for  satellites"
   ]
  },
  {
   "cell_type": "code",
   "execution_count": 9,
   "metadata": {},
   "outputs": [],
   "source": [
    "from halotools.utils import sliding_conditional_percentile\n",
    "\n",
    "halocat.halo_table['radial_distribution_cdf'] = 0.\n",
    "\n",
    "x = halocat.halo_table['halo_mvir_host_halo'][~cenmask]\n",
    "y = halocat.halo_table['r_by_rvir'][~cenmask]\n",
    "window = 1001\n",
    "cdf = sliding_conditional_percentile(x, y, window)\n",
    "halocat.halo_table['radial_distribution_cdf'][~cenmask] = cdf"
   ]
  },
  {
   "cell_type": "markdown",
   "metadata": {},
   "source": [
    "## Use ${\\rm Prob(<r/R_{vir}\\ \\vert\\ M_{\\rm host})}$ as input to satellite quenching Monte Carlo"
   ]
  },
  {
   "cell_type": "code",
   "execution_count": 10,
   "metadata": {},
   "outputs": [],
   "source": [
    "from scipy.stats import uniform\n",
    "\n",
    "mean_fq_sats = quenching_model_sats.mean_quiescent_fraction(\n",
    "    prim_haloprop=halocat.halo_table['halo_mvir_host_halo'][~cenmask])\n",
    "uran = halocat.halo_table['radial_distribution_cdf'][~cenmask]\n",
    "sat_is_quenched2 = uniform.isf(1-uran) < mean_fq_sats\n",
    "halocat.halo_table['is_quenched_model2'] = halocat.halo_table['is_quenched']\n",
    "halocat.halo_table['is_quenched_model2'][~cenmask] = sat_is_quenched2\n"
   ]
  },
  {
   "cell_type": "markdown",
   "metadata": {},
   "source": [
    "# Add noise to create a new model with stochasticity in the correlation between $r/R_{\\rm vir}$ and quenching"
   ]
  },
  {
   "cell_type": "code",
   "execution_count": 11,
   "metadata": {},
   "outputs": [],
   "source": [
    "from halotools.empirical_models import noisy_percentile\n",
    "p = halocat.halo_table['radial_distribution_cdf'][~cenmask]\n",
    "correlation_coeff = 0.5\n",
    "noisy_uran = noisy_percentile(p, correlation_coeff)\n",
    "sat_is_quenched3 = uniform.isf(1-noisy_uran) < mean_fq_sats\n",
    "halocat.halo_table['is_quenched_model3'] = halocat.halo_table['is_quenched']\n",
    "halocat.halo_table['is_quenched_model3'][~cenmask] = sat_is_quenched3"
   ]
  },
  {
   "cell_type": "code",
   "execution_count": 12,
   "metadata": {},
   "outputs": [],
   "source": [
    "sats = halocat.halo_table[~cenmask]"
   ]
  },
  {
   "cell_type": "markdown",
   "metadata": {},
   "source": [
    "Now we compare histograms of the radial distributions of quenched and star-forming satellites. First we look at Model 1, where we just randomly assigned quenching without any explicit regard for host-centric position. \n"
   ]
  },
  {
   "cell_type": "code",
   "execution_count": 13,
   "metadata": {},
   "outputs": [
    {
     "data": {
      "image/png": "[encoded data removed]",
      "text/plain": [
       "<matplotlib.figure.Figure at 0x11b566ad0>"
      ]
     },
     "metadata": {},
     "output_type": "display_data"
    }
   ],
   "source": [
    "fig, ax = plt.subplots(1, 1)\n",
    "\n",
    "__=ax.hist(sats['r_by_rvir'][sats['is_quenched']], \n",
    "           bins=50, alpha=0.8, color='red', normed=True, \n",
    "          label=r'${\\rm quenched\\ satellites}$')\n",
    "__=ax.hist(sats['r_by_rvir'][~sats['is_quenched']], \n",
    "           bins=50, alpha=0.8, color='blue', normed=True, \n",
    "          label=r'${\\rm star}$-${\\rm forming\\ satellites}$')\n",
    "\n",
    "xlabel = ax.set_xlabel(r'${\\rm r / R_{vir}}$')\n",
    "legend = ax.legend()\n",
    "ylim = ax.set_ylim(0, 2)"
   ]
  },
  {
   "cell_type": "markdown",
   "metadata": {},
   "source": [
    "There is actually a mild inverted gradient that can be seen in this plot, such that blue satellites are slightly more radially concentrated than red satellites. This asymmetry is inherited by the radial distributions of subhalos, which are more concentrated in lower-mass host halos where the quenched fraction is smaller, which is the origin of the mild inverted gradient. \n",
    "\n",
    "We can confirm that this is what is going on by looking directly at the radial distributions of subhalos in large- and small-mass host halos. "
   ]
  },
  {
   "cell_type": "code",
   "execution_count": 14,
   "metadata": {},
   "outputs": [
    {
     "data": {
      "image/png": "[encoded data removed]",
      "text/plain": [
       "<matplotlib.figure.Figure at 0x133c70f90>"
      ]
     },
     "metadata": {},
     "output_type": "display_data"
    }
   ],
   "source": [
    "fig, ax = plt.subplots(1, 1)\n",
    "\n",
    "large_host_mass_mask = sats['halo_mvir_host_halo'] > 10**14\n",
    "small_host_mass_mask = sats['halo_mvir_host_halo'] < 10**12.25\n",
    "\n",
    "__=ax.hist(sats['r_by_rvir'][large_host_mass_mask], bins=50, alpha=0.8, \n",
    "        normed=True, label=r'Cluster-mass halo satellites')\n",
    "__=ax.hist(sats['r_by_rvir'][small_host_mass_mask], bins=50, alpha=0.8, \n",
    "           normed=True, label=r'Milky Way-mass halo satellites')\n",
    "\n",
    "legend = ax.legend()\n",
    "\n",
    "ylim = ax.set_ylim(0, 2.)\n",
    "xlabel = ax.set_xlabel(r'${\\rm r / R_{vir}}$')"
   ]
  },
  {
   "cell_type": "markdown",
   "metadata": {},
   "source": [
    "Now we'll look at the radial distributions predicted by the CAM models. "
   ]
  },
  {
   "cell_type": "code",
   "execution_count": 15,
   "metadata": {},
   "outputs": [
    {
     "data": {
      "image/png": "[encoded data removed]",
      "text/plain": [
       "<matplotlib.figure.Figure at 0x13e99b110>"
      ]
     },
     "metadata": {},
     "output_type": "display_data"
    }
   ],
   "source": [
    "fig, ax = plt.subplots(1, 1)\n",
    "\n",
    "__=ax.hist(sats['r_by_rvir'][sats['is_quenched_model2']], \n",
    "           bins=50, alpha=0.8, color='red', normed=True, \n",
    "          label=r'${\\rm quenched\\ satellites}$')\n",
    "__=ax.hist(sats['r_by_rvir'][~sats['is_quenched_model2']], \n",
    "           bins=50, alpha=0.8, color='blue', normed=True, \n",
    "          label=r'${\\rm star}$-${\\rm forming\\ satellites}$')\n",
    "\n",
    "legend = ax.legend()\n",
    "\n",
    "ylim = ax.set_ylim(0, 4.)\n",
    "xlabel = ax.set_xlabel(r'${\\rm r / R_{vir}}$')\n",
    "title = ax.set_title(r'${\\rm maximum\\ gradient\\ model}$')"
   ]
  },
  {
   "cell_type": "code",
   "execution_count": 16,
   "metadata": {},
   "outputs": [
    {
     "data": {
      "image/png": "[encoded data removed]",
      "text/plain": [
       "<matplotlib.figure.Figure at 0x145c70990>"
      ]
     },
     "metadata": {},
     "output_type": "display_data"
    }
   ],
   "source": [
    "fig, ax = plt.subplots(1, 1)\n",
    "\n",
    "__=ax.hist(sats['r_by_rvir'][sats['is_quenched_model3']], \n",
    "           bins=50, alpha=0.8, color='red', normed=True, \n",
    "          label=r'${\\rm quenched\\ satellites}$')\n",
    "__=ax.hist(sats['r_by_rvir'][~sats['is_quenched_model3']], \n",
    "           bins=50, alpha=0.8, color='blue', normed=True, \n",
    "          label=r'${\\rm star}$-${\\rm forming\\ satellites}$')\n",
    "\n",
    "legend = ax.legend()\n",
    "\n",
    "ylim = ax.set_ylim(0, 3)\n",
    "xlabel = ax.set_xlabel(r'${\\rm r / R_{vir}}$')\n",
    "title = ax.set_title(r'${\\rm moderate\\ gradient\\ model}$')"
   ]
  },
  {
   "cell_type": "code",
   "execution_count": 17,
   "metadata": {},
   "outputs": [
    {
     "data": {
      "image/png": "[encoded data removed]",
      "text/plain": [
       "<matplotlib.figure.Figure at 0x145f01c50>"
      ]
     },
     "metadata": {},
     "output_type": "display_data"
    }
   ],
   "source": [
    "from scipy.stats import binned_statistic\n",
    "\n",
    "r_by_rvir_bins = np.linspace(0, 1, 50)\n",
    "r_by_rvir_mids = 0.5*(r_by_rvir_bins[:-1]+r_by_rvir_bins[1:])\n",
    "quenching_gradient1, __, __ = binned_statistic(sats['r_by_rvir'], sats['is_quenched'], \n",
    "                                             bins=r_by_rvir_bins, statistic='mean')\n",
    "quenching_gradient2, __, __ = binned_statistic(sats['r_by_rvir'], sats['is_quenched_model2'], \n",
    "                                             bins=r_by_rvir_bins, statistic='mean')\n",
    "quenching_gradient3, __, __ = binned_statistic(sats['r_by_rvir'], sats['is_quenched_model3'], \n",
    "                                             bins=r_by_rvir_bins, statistic='mean')\n",
    "fig, ax = plt.subplots(1, 1)\n",
    "\n",
    "__=ax.plot(r_by_rvir_mids, quenching_gradient1)\n",
    "__=ax.plot(r_by_rvir_mids, quenching_gradient2)\n",
    "__=ax.plot(r_by_rvir_mids, quenching_gradient3)\n",
    "\n",
    "xlim = ax.set_xlim(0., 1.025)\n",
    "ylim = ax.set_ylim(-0.025, 1.05)"
   ]
  },
  {
   "cell_type": "code",
   "execution_count": 18,
   "metadata": {},
   "outputs": [
    {
     "data": {
      "image/png": "[encoded data removed]",
      "text/plain": [
       "<matplotlib.figure.Figure at 0x145e11690>"
      ]
     },
     "metadata": {},
     "output_type": "display_data"
    }
   ],
   "source": [
    "from scipy.stats import binned_statistic\n",
    "\n",
    "log_mhost_bins = np.linspace(11, 14.85, 25)\n",
    "mhost_bins = 10**log_mhost_bins\n",
    "mhost_mids = 10**(0.5*(log_mhost_bins[:-1]+log_mhost_bins[1:]))\n",
    "\n",
    "quiescent_fraction1, __, __ = binned_statistic(sats['halo_mvir_host_halo'], \n",
    "                                               sats['is_quenched'], \n",
    "                                             bins=mhost_bins, statistic='mean')\n",
    "quiescent_fraction2, __, __ = binned_statistic(sats['halo_mvir_host_halo'], \n",
    "                                               sats['is_quenched_model2'], \n",
    "                                             bins=mhost_bins, statistic='mean')\n",
    "quiescent_fraction3, __, __ = binned_statistic(sats['halo_mvir_host_halo'], \n",
    "                                               sats['is_quenched_model3'], \n",
    "                                             bins=mhost_bins, statistic='mean')\n",
    "\n",
    "fig, ax = plt.subplots(1, 1)\n",
    "xscale = ax.set_xscale('log')\n",
    "\n",
    "__=ax.plot(mhost_mids, quiescent_fraction1)\n",
    "__=ax.plot(mhost_mids, quiescent_fraction2)\n",
    "__=ax.plot(mhost_mids, quiescent_fraction3)\n",
    "\n",
    "ylim = ax.set_ylim(-0.025, 1.05)"
   ]
  },
  {
   "cell_type": "code",
   "execution_count": null,
   "metadata": {},
   "outputs": [],
   "source": [
    "fig, (ax1, ax2) = plt.subplots(1, 2, figsize=(10, 4))\n",
    "fig.subplots_adjust(wspace=0)  #  smash left and right plots\n",
    "\n",
    "__=ax1.plot(r_by_rvir_mids, quenching_gradient2, label=r'${\\rm max\\ gradient}$')\n",
    "__=ax1.plot(r_by_rvir_mids, quenching_gradient3, label=r'${\\rm moderate\\ gradient}$')\n",
    "__=ax1.plot(r_by_rvir_mids, quenching_gradient1, label=r'${\\rm mild\\ inverted\\ gradient}$')\n",
    "# __=ax1.plot(r_by_rvir_mids, quenching_gradient4, label=r'$z_{\\rm infall}\\ {\\rm gradient}$')\n",
    "\n",
    "\n",
    "xlim1 = ax1.set_xlim(0., 1)\n",
    "ylim1 = ax1.set_ylim(-0.025, 1.05)\n",
    "xlabel1 = ax1.set_xlabel(r'$r/R_{\\rm vir}$')\n",
    "ylabel1 = ax1.set_ylabel(r'$\\langle F_{\\rm quenched}\\ \\vert\\ {\\rm r/R_{vir}}\\rangle$')\n",
    "ylabel2 = ax2.set_ylabel(r'$\\langle F_{\\rm quenched}\\ \\vert\\ M_{\\rm host} \\rangle$', rotation=-90, labelpad=25)\n",
    "ax2.yaxis.set_label_position(\"right\")  #  y-labels on the right\n",
    "ax2.yaxis.tick_right()  #  y-ticks on the right\n",
    "\n",
    "xscale2 = ax2.set_xscale('log')\n",
    "xlabel2 = ax2.set_xlabel(r'$M_{\\rm host}$')\n",
    "ylim2 = ax2.set_ylim(-0.025, 1.05)\n",
    "xlim2 = ax2.set_xlim(10**11.5, 10**14.75)\n",
    "\n",
    "\n",
    "__=ax2.plot(mhost_mids, quiescent_fraction2, label=r'${\\rm max\\ gradient}$')\n",
    "__=ax2.plot(mhost_mids, quiescent_fraction3, label=r'${\\rm moderate\\ gradient}$')\n",
    "__=ax2.plot(mhost_mids, quiescent_fraction1, label=r'${\\rm mild\\ inverted\\ gradient}$')\n",
    "# __=ax2.plot(mhost_mids, quiescent_fraction4, label=r'$z_{\\rm infall}\\ {\\rm gradient}$')\n",
    "\n",
    "legend1 = ax1.legend()\n",
    "legend2 = ax2.legend()\n",
    "\n",
    "title1 = ax1.set_title(r'${\\rm intra}$-${\\rm halo\\ quenching\\ gradients}$')\n",
    "title2 = ax2.set_title(r'${\\rm halo\\ mass\\ quenching}$')\n",
    "\n",
    "figname = 'quenching_gradient_models.png'\n",
    "fig.savefig(figname, bbox_extra_artists=[xlabel1, ylabel1], bbox_inches='tight')"
   ]
  },
  {
   "cell_type": "markdown",
   "metadata": {},
   "source": [
    "# Compute 3d clustering $\\xi(r)$"
   ]
  },
  {
   "cell_type": "code",
   "execution_count": 20,
   "metadata": {},
   "outputs": [],
   "source": [
    "mock_mask = halocat.halo_table['mstar'] > 10**9.5\n",
    "mock = halocat.halo_table[mock_mask]"
   ]
  },
  {
   "cell_type": "code",
   "execution_count": 21,
   "metadata": {},
   "outputs": [],
   "source": [
    "from halotools.mock_observables import tpcf, return_xyz_formatted_array\n",
    "\n",
    "pos_all = return_xyz_formatted_array(\n",
    "    mock['halo_x'], mock['halo_y'], mock['halo_z'])\n",
    "\n",
    "pos_quenched_model1 = return_xyz_formatted_array(\n",
    "    mock['halo_x'], mock['halo_y'], mock['halo_z'], \n",
    "    mask=mock['is_quenched'])\n",
    "\n",
    "pos_active_model1 = return_xyz_formatted_array(\n",
    "    mock['halo_x'], mock['halo_y'], mock['halo_z'], \n",
    "    mask=~mock['is_quenched'])\n",
    "\n",
    "pos_quenched_model2 = return_xyz_formatted_array(\n",
    "    mock['halo_x'], mock['halo_y'], mock['halo_z'], \n",
    "    mask=mock['is_quenched_model2'])\n",
    "\n",
    "pos_active_model2 = return_xyz_formatted_array(\n",
    "    mock['halo_x'], mock['halo_y'], mock['halo_z'], \n",
    "    mask=~mock['is_quenched_model2'])\n",
    "\n",
    "pos_quenched_model3 = return_xyz_formatted_array(\n",
    "    mock['halo_x'], mock['halo_y'], mock['halo_z'], \n",
    "    mask=mock['is_quenched_model3'])\n",
    "\n",
    "pos_active_model3 = return_xyz_formatted_array(\n",
    "    mock['halo_x'], mock['halo_y'], mock['halo_z'], \n",
    "    mask=~mock['is_quenched_model3'])"
   ]
  },
  {
   "cell_type": "code",
   "execution_count": 22,
   "metadata": {},
   "outputs": [],
   "source": [
    "rbins = np.logspace(-1, 1.2, 25)\n",
    "rmids = 10**(0.5*(np.log10(rbins[:-1])+np.log10(rbins[1:])))\n",
    "\n",
    "xi_all = tpcf(pos_all, rbins, period=250.)\n"
   ]
  },
  {
   "cell_type": "code",
   "execution_count": 23,
   "metadata": {},
   "outputs": [],
   "source": [
    "xi_quenched_model1 = tpcf(pos_quenched_model1, rbins, period=250.)\n",
    "xi_quenched_model2 = tpcf(pos_quenched_model2, rbins, period=250.)\n",
    "xi_quenched_model3 = tpcf(pos_quenched_model3, rbins, period=250.)\n"
   ]
  },
  {
   "cell_type": "code",
   "execution_count": 24,
   "metadata": {},
   "outputs": [],
   "source": [
    "xi_active_model1 = tpcf(pos_active_model1, rbins, period=250.)\n",
    "xi_active_model2 = tpcf(pos_active_model2, rbins, period=250.)\n",
    "xi_active_model3 = tpcf(pos_active_model3, rbins, period=250.)\n"
   ]
  },
  {
   "cell_type": "code",
   "execution_count": 25,
   "metadata": {},
   "outputs": [
    {
     "data": {
      "image/png": "[encoded data removed]",
      "text/plain": [
       "<matplotlib.figure.Figure at 0x11fff4d10>"
      ]
     },
     "metadata": {},
     "output_type": "display_data"
    }
   ],
   "source": [
    "fig, (ax1, ax2) = plt.subplots(1, 2, sharex=True, figsize=(10, 4))\n",
    "\n",
    "__=ax1.loglog()\n",
    "\n",
    "__=ax1.plot(rmids, xi_quenched_model2, color='red', \n",
    "            label=r'${\\rm max\\ gradient}$')\n",
    "__=ax1.plot(rmids, xi_active_model2, color='blue')\n",
    "\n",
    "__=ax1.plot(rmids, xi_quenched_model3, '--', color='red', \n",
    "            label=r'${\\rm moderate\\ gradient}$')\n",
    "__=ax1.plot(rmids, xi_active_model3, '--', color='blue')\n",
    "\n",
    "__=ax1.plot(rmids, xi_quenched_model1, ':', color='red', \n",
    "            label=r'${\\rm mild\\ inverted\\ gradient}$')\n",
    "__=ax1.plot(rmids, xi_active_model1, ':', color='blue')\n",
    "\n",
    "xi_ratio_model1 = (xi_quenched_model1-xi_active_model1)/xi_all\n",
    "xi_ratio_model2 = (xi_quenched_model2-xi_active_model2)/xi_all\n",
    "xi_ratio_model3 = (xi_quenched_model3-xi_active_model3)/xi_all\n",
    "\n",
    "xscale2 = ax2.set_xscale('log')\n",
    "__=ax2.plot(rmids, xi_ratio_model2, label=r'${\\rm max\\ gradient}$')\n",
    "__=ax2.plot(rmids, xi_ratio_model3, label=r'${\\rm moderate\\ gradient}$')\n",
    "__=ax2.plot(rmids, xi_ratio_model1, label=r'${\\rm mild\\ inverted\\ gradient}$')\n",
    "\n",
    "__=ax2.plot(np.logspace(-3, 3, 100), np.zeros(100), ':', color='k')\n",
    "\n",
    "\n",
    "ylim2 = ax2.set_ylim(-0.25, 3)\n",
    "\n",
    "from matplotlib import ticker\n",
    "xlim1 = ax1.set_xlim(0.1, 5)\n",
    "xlim2 = ax2.set_xlim(0.1, 5)\n",
    "xticks1 = ax1.set_xticks((0.1, 0.3, 1, 3))\n",
    "xticks2 = ax2.set_xticks((0.1, 0.3, 1, 3))\n",
    "yticks2 = ax2.set_yticks((0., 0.5, 1, 1.5, 2, 2.5, 3))\n",
    "__=ax1.get_xaxis().set_major_formatter(ticker.ScalarFormatter())\n",
    "__=ax1.get_xaxis().set_minor_formatter(ticker.NullFormatter())\n",
    "__=ax2.get_xaxis().set_major_formatter(ticker.ScalarFormatter())\n",
    "__=ax2.get_xaxis().set_minor_formatter(ticker.NullFormatter())\n",
    "\n",
    "xlabel1 = ax1.set_xlabel(r'${\\rm\\ [Mpc]}$')\n",
    "xlabel2 = ax2.set_xlabel(r'${\\rm\\ [Mpc]}$')\n",
    "\n",
    "ylabel1 = ax1.set_ylabel(r'$\\xi(r)$')\n",
    "ylabel2 = ax2.set_ylabel(r'$(\\xi_{\\rm red} - \\xi_{\\rm blue})/\\xi_{\\rm all}$', \n",
    "                        rotation=-90, labelpad=22)\n",
    "ax2.yaxis.set_label_position(\"right\")  \n",
    "\n",
    "legend1 = ax1.legend()\n",
    "legend1.legendHandles[0].set_color('k')\n",
    "legend1.legendHandles[1].set_color('k')\n",
    "legend1.legendHandles[2].set_color('k')\n",
    "legend2 = ax2.legend()\n",
    "\n",
    "title1 = ax1.set_title(r'${\\rm Impact\\ of\\ gradients\\ on\\ clustering}$')\n",
    "title2 = ax2.set_title(r'${\\rm Impact\\ of\\ gradients\\ on\\ clustering}$')\n",
    "\n",
    "figname = 'quenching_gradient_model_clustering.png'\n",
    "fig.savefig(figname, bbox_extra_artists=[xlabel1, ylabel1], bbox_inches='tight')"
   ]
  },
  {
   "cell_type": "code",
   "execution_count": null,
   "metadata": {},
   "outputs": [],
   "source": []
  }
 ],
 "metadata": {
  "kernelspec": {
   "display_name": "Python [conda root]",
   "language": "python",
   "name": "conda-root-py"
  },
  "language_info": {
   "codemirror_mode": {
    "name": "ipython",
    "version": 2
   },
   "file_extension": ".py",
   "mimetype": "text/x-python",
   "name": "python",
   "nbconvert_exporter": "python",
   "pygments_lexer": "ipython2",
   "version": "2.7.14"
  }
 },
 "nbformat": 4,
 "nbformat_minor": 2
}
