{
 "metadata": {
  "name": "",
  "signature": "sha256:7e446733aee6e7dd5f31015d15553b26ad0cfc647dac0b31c7bad07582d73143"
 },
 "nbformat": 3,
 "nbformat_minor": 0,
 "worksheets": [
  {
   "cells": [
    {
     "cell_type": "heading",
     "level": 1,
     "metadata": {},
     "source": [
      "Halo Catalog Analysis Example: halo properties as a function of host halo mass\n"
     ]
    },
    {
     "cell_type": "markdown",
     "metadata": {},
     "source": [
      "In this example, we'll show how to start from a subhalo catalog and calculate how various properties scale with host halo mass. \n",
      "As a specific example, we'll calculate the average abundance of subhalos as a function of mass, $\\langle N_{\\rm sub}\\vert M_{\\rm halo}\\rangle$. \n"
     ]
    },
    {
     "cell_type": "heading",
     "level": 2,
     "metadata": {},
     "source": [
      "Retrieve the default halo catalog \n"
     ]
    },
    {
     "cell_type": "code",
     "collapsed": false,
     "input": [
      "from halotools.sim_manager import CachedHaloCatalog\n",
      "halocat = CachedHaloCatalog()\n",
      "print(halocat.halo_table[0:9])\n"
     ],
     "language": "python",
     "metadata": {},
     "outputs": [
      {
       "output_type": "stream",
       "stream": "stdout",
       "text": [
        "halo_vmax_firstacc halo_dmvir_dt_tdyn ... halo_hostid halo_mvir_host_halo\n",
        "------------------ ------------------ ... ----------- -------------------\n",
        "              67.3             -5.505 ...  3058439856           2.031e+10\n",
        "             99.91             -9.513 ...  3058439861           4.443e+10\n",
        "             87.86             0.8171 ...  3058439904           9.882e+10\n",
        "             78.43             -1.356 ...  3058439906           3.108e+10\n",
        "             89.69              1.495 ...  3058439907           4.266e+10\n",
        "            118.89             -6.333 ...  3058439910           1.728e+11\n",
        "            123.38              4.487 ...  3058439952           1.867e+11\n",
        "            109.28             -15.28 ...  3058439956           6.897e+10\n",
        "             84.17            -0.2037 ...  3058439985           3.339e+10\n"
       ]
      }
     ],
     "prompt_number": 1
    },
    {
     "cell_type": "markdown",
     "metadata": {},
     "source": [
      "The first time you load the halo catalog into memory is slow because the halo table is sorted into a convenient order and a large number of self-consistency checks are performed. Subsequent calls to extract the ``halo_table`` are fast as the catalog is now available in RAM. "
     ]
    },
    {
     "cell_type": "code",
     "collapsed": false,
     "input": [
      "mask = halocat.halo_table['halo_mpeak'] > 1000*halocat.particle_mass\n",
      "halos = halocat.halo_table[mask]\n"
     ],
     "language": "python",
     "metadata": {},
     "outputs": [],
     "prompt_number": 2
    },
    {
     "cell_type": "heading",
     "level": 2,
     "metadata": {},
     "source": [
      "Calculate total number of subhalos $N_{\\rm subs}$ in each halo\n"
     ]
    },
    {
     "cell_type": "markdown",
     "metadata": {},
     "source": [
      "To calculate the total number of subhalos in each host halo, we'll use\n",
      "the `halotools.utils.group_member_generator`. You can read more about the \n",
      "details of that function in its documentation, here we'll just demo some basic usage. \n",
      "Briefly, this generator can be used to iterate over your halo population \n",
      "on a host-by-host basis, so that you can perform group-wise calculations \n",
      "with each step of the iteration. In this case, at each step of the iteration \n",
      "we'll sum up the total number of subhalos associated with each host. \n",
      "\n",
      "The ``halo_hostid`` is a natural grouping key for a subhalo catalog. Let's use this grouping key to calculate $N_{\\rm sub}$ and broadcast the result to the members of the halo."
     ]
    },
    {
     "cell_type": "code",
     "collapsed": false,
     "input": [
      "from halotools.utils import group_member_generator"
     ],
     "language": "python",
     "metadata": {},
     "outputs": [],
     "prompt_number": 3
    },
    {
     "cell_type": "code",
     "collapsed": false,
     "input": [
      "halos.sort('halo_hostid')\n",
      "grouping_key = 'halo_hostid'\n",
      "requested_columns = []\n",
      "group_gen = group_member_generator(halos, grouping_key, requested_columns)\n",
      "\n",
      "nsub = np.zeros(len(halos))\n",
      "for first, last, member_props in group_gen:\n",
      "    nsub[first:last] = last - first - 1\n",
      "\n",
      "halos['num_subhalos'] = nsub"
     ],
     "language": "python",
     "metadata": {},
     "outputs": [],
     "prompt_number": 5
    },
    {
     "cell_type": "markdown",
     "metadata": {},
     "source": [
      "Our ``halos`` table now has a ``num_subhalos`` column."
     ]
    },
    {
     "cell_type": "heading",
     "level": 2,
     "metadata": {},
     "source": [
      "Calculate $\\langle N_{\\rm sub}\\rangle$ vs. $M_{\\rm halo}$\n"
     ]
    },
    {
     "cell_type": "markdown",
     "metadata": {},
     "source": [
      "Now we'll exploit our previous calculations to compute the mean number of subhalos in bins of host halo mass. For this calculation, the `~halotools.mock_observables.mean_y_vs_x` provides useful wrapper behavior around `scipy.stats.binned_statistic` and `numpy.histogram`. \n"
     ]
    },
    {
     "cell_type": "code",
     "collapsed": false,
     "input": [
      "from halotools.mock_observables import mean_y_vs_x\n",
      "import numpy as np \n",
      "\n",
      "hostmask = halos['halo_upid'] == -1\n",
      "hosts = halos[hostmask]\n",
      "\n",
      "bins = np.logspace(12.5, 14.5, 25)\n",
      "result = mean_y_vs_x(hosts['halo_mvir_host_halo'], hosts['num_subhalos'], \n",
      "    bins = bins, error_estimator = 'variance') \n",
      "\n",
      "host_mass, mean_richness, richness_variance = result\n"
     ],
     "language": "python",
     "metadata": {},
     "outputs": [],
     "prompt_number": 18
    },
    {
     "cell_type": "heading",
     "level": 3,
     "metadata": {},
     "source": [
      "Plot the result"
     ]
    },
    {
     "cell_type": "code",
     "collapsed": false,
     "input": [
      "%matplotlib inline\n",
      "from seaborn import plt"
     ],
     "language": "python",
     "metadata": {},
     "outputs": [],
     "prompt_number": 14
    },
    {
     "cell_type": "code",
     "collapsed": false,
     "input": [
      "plt.errorbar(host_mass, mean_richness, yerr=richness_variance, \n",
      "             fmt = \"none\", ecolor='gray')\n",
      "plt.plot(host_mass, mean_richness, 'D', color='k')\n",
      "\n",
      "plt.loglog()\n",
      "plt.xticks(size=18)\n",
      "plt.yticks(size=18)\n",
      "plt.xlabel(r'$M_{\\rm halo}/M_{\\odot}$', fontsize=25)\n",
      "plt.ylabel(r'$\\langle N_{\\rm sub}\\rangle$', fontsize=25)\n",
      "plt.ylim(ymin = 0.5, ymax=100)\n",
      "plt.xlim(xmin = 1e12, xmax=5e14)\n"
     ],
     "language": "python",
     "metadata": {},
     "outputs": [
      {
       "metadata": {},
       "output_type": "pyout",
       "prompt_number": 16,
       "text": [
        "(1000000000000.0, 500000000000000.0)"
       ]
      },
      {
       "metadata": {},
       "output_type": "display_data",
       "png": "[encoded data removed]",
       "text": [
        "<matplotlib.figure.Figure at 0x1252c0290>"
       ]
      }
     ],
     "prompt_number": 16
    },
    {
     "cell_type": "code",
     "collapsed": false,
     "input": [],
     "language": "python",
     "metadata": {},
     "outputs": []
    }
   ],
   "metadata": {}
  }
 ]
}