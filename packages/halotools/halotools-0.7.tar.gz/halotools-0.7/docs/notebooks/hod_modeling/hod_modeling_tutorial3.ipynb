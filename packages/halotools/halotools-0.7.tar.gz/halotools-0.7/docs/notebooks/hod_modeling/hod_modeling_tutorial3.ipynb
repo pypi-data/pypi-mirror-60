{
 "metadata": {
  "name": "",
  "signature": "sha256:d125b776bcfab65ad0d24d02d185c7584b3d45d4612beef7e7b39ead7f0c8c81"
 },
 "nbformat": 3,
 "nbformat_minor": 0,
 "worksheets": [
  {
   "cells": [
    {
     "cell_type": "markdown",
     "metadata": {},
     "source": [
      "# Example 3: An HOD-style model with a feature of your own creation\n"
     ]
    },
    {
     "cell_type": "markdown",
     "metadata": {},
     "source": [
      "This notebook is intended to accompany the corresponding page of the Halotools documentation on HOD-style model building. Although the tutorial on `halotools.readthedocs.io` is in principle comprehensive and stand-alone, there is supplementary material covered here that may provide further clarification. By following along with this notebook you can experiment with variations on the models as you learn the basic syntax. This notebook is not stand-alone, and is intended to be read along with its companion tutorial in the documentation. \n"
     ]
    },
    {
     "cell_type": "markdown",
     "metadata": {},
     "source": [
      "## Source code for the new `Size` component model"
     ]
    },
    {
     "cell_type": "code",
     "collapsed": false,
     "input": [
      "class Size(object):\n",
      "\n",
      "    def __init__(self, gal_type):\n",
      "\n",
      "        self.gal_type = gal_type\n",
      "        self._mock_generation_calling_sequence = ['assign_size']\n",
      "        self._galprop_dtypes_to_allocate = np.dtype([('galsize', 'f4')])\n",
      "        self.list_of_haloprops_needed = ['halo_spin']\n",
      "\n",
      "    def assign_size(self, **kwargs):\n",
      "        table = kwargs['table']\n",
      "        table['galsize'][:] = table['halo_spin']/5.\n"
     ],
     "language": "python",
     "metadata": {},
     "outputs": [],
     "prompt_number": 1
    },
    {
     "cell_type": "code",
     "collapsed": false,
     "input": [
      "cen_size = Size('centrals')\n",
      "sat_size = Size('satellites')\n",
      "from halotools.empirical_models import PrebuiltHodModelFactory, HodModelFactory\n",
      "zheng_model = PrebuiltHodModelFactory('zheng07')\n",
      "new_model = HodModelFactory(baseline_model_instance = zheng_model, \n",
      "                            centrals_size = cen_size, satellites_size = sat_size)\n"
     ],
     "language": "python",
     "metadata": {},
     "outputs": [],
     "prompt_number": 2
    },
    {
     "cell_type": "markdown",
     "metadata": {},
     "source": [
      "## Populating mocks with a custom-built model"
     ]
    },
    {
     "cell_type": "markdown",
     "metadata": {},
     "source": [
      "Even though your new model contains a new feature that is not part of the Halotools code base, the factory design pattern allows you to generate a mock in the same way as always:"
     ]
    },
    {
     "cell_type": "code",
     "collapsed": false,
     "input": [
      "from halotools.sim_manager import CachedHaloCatalog\n",
      "halocat = CachedHaloCatalog(simname = 'bolshoi', redshift = 0)\n",
      "new_model.populate_mock(halocat)"
     ],
     "language": "python",
     "metadata": {},
     "outputs": [],
     "prompt_number": 3
    },
    {
     "cell_type": "markdown",
     "metadata": {},
     "source": [
      "As always, the first mock generation is slow, and all subsequent calls to `mock.populate` are fast:"
     ]
    },
    {
     "cell_type": "code",
     "collapsed": false,
     "input": [
      "new_model.mock.populate()"
     ],
     "language": "python",
     "metadata": {},
     "outputs": [],
     "prompt_number": 4
    },
    {
     "cell_type": "code",
     "collapsed": false,
     "input": [
      "%timeit new_model.mock.populate()"
     ],
     "language": "python",
     "metadata": {},
     "outputs": [
      {
       "output_type": "stream",
       "stream": "stdout",
       "text": [
        "1 loops, best of 3: 257 ms per loop\n"
       ]
      }
     ],
     "prompt_number": 5
    },
    {
     "cell_type": "markdown",
     "metadata": {},
     "source": [
      "By including the `Size` component model, your mock catalog has a `galsize` attribute:"
     ]
    },
    {
     "cell_type": "code",
     "collapsed": false,
     "input": [
      "print(new_model.mock.galaxy_table.keys())"
     ],
     "language": "python",
     "metadata": {},
     "outputs": [
      {
       "output_type": "stream",
       "stream": "stdout",
       "text": [
        "['halo_upid', 'halo_num_centrals', 'halo_num_satellites', 'halo_spin', 'halo_y', 'halo_x', 'halo_z', 'halo_vx', 'halo_vy', 'halo_vz', 'conc_NFWmodel', 'halo_rvir', 'halo_mvir', 'halo_id', 'gal_type', 'galsize', 'vx', 'host_centric_distance', 'vy', 'y', 'x', 'vz', 'z']\n"
       ]
      }
     ],
     "prompt_number": 6
    },
    {
     "cell_type": "code",
     "collapsed": false,
     "input": [
      "print(new_model.mock.galaxy_table['galsize'][-5:])"
     ],
     "language": "python",
     "metadata": {},
     "outputs": [
      {
       "output_type": "stream",
       "stream": "stdout",
       "text": [
        "galsize \n",
        "--------\n",
        " 0.00886\n",
        " 0.01926\n",
        "0.005946\n",
        "  0.0183\n",
        "0.003664\n"
       ]
      }
     ],
     "prompt_number": 7
    },
    {
     "cell_type": "markdown",
     "metadata": {},
     "source": [
      "As an exercise to convince yourself you understand what's going on, try playing around with the `assign_size` function and seeing how it impacts the mock population. "
     ]
    },
    {
     "cell_type": "code",
     "collapsed": false,
     "input": [],
     "language": "python",
     "metadata": {},
     "outputs": []
    }
   ],
   "metadata": {}
  }
 ]
}