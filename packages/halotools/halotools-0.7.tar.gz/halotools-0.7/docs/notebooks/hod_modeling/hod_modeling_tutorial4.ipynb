{
 "metadata": {
  "name": "",
  "signature": "sha256:b6509617967c9961f8b2793c7f5569d155f62adf74809963b4a5644c24f23b60"
 },
 "nbformat": 3,
 "nbformat_minor": 0,
 "worksheets": [
  {
   "cells": [
    {
     "cell_type": "markdown",
     "metadata": {},
     "source": [
      "# Example 4: A more complex HOD component model \n"
     ]
    },
    {
     "cell_type": "markdown",
     "metadata": {},
     "source": [
      "This notebook is intended to accompany the corresponding page of the Halotools documentation on HOD-style model building. Although the tutorial on `halotools.readthedocs.io` is in principle comprehensive and stand-alone, there is supplementary material covered here that may provide further clarification. By following along with this notebook you can experiment with variations on the models as you learn the basic syntax. This notebook is not stand-alone, and is intended to be read along with its companion tutorial in the documentation. \n"
     ]
    },
    {
     "cell_type": "markdown",
     "metadata": {},
     "source": [
      "## Source code for the new component models"
     ]
    },
    {
     "cell_type": "code",
     "collapsed": false,
     "input": [
      "class Shape(object):\n",
      "\n",
      "    def __init__(self, gal_type, prim_haloprop_key):\n",
      "\n",
      "        self.gal_type = gal_type\n",
      "        self._mock_generation_calling_sequence = (\n",
      "            ['assign_disrupted', 'assign_axis_ratio'])\n",
      "        self._galprop_dtypes_to_allocate = np.dtype(\n",
      "            [('axis_ratio', 'f4'), ('disrupted', bool)])\n",
      "        self.list_of_haloprops_needed = ['halo_spin']\n",
      "\n",
      "        self.prim_haloprop_key = prim_haloprop_key\n",
      "        self._methods_to_inherit = (\n",
      "            ['assign_disrupted', 'assign_axis_ratio', \n",
      "            'disrupted_fraction_vs_halo_mass'])\n",
      "        self.param_dict = ({\n",
      "            'max_disruption_mass_'+self.gal_type: 1e12, \n",
      "            'disrupted_fraction_'+self.gal_type: 0.25})\n",
      "\n",
      "    def assign_disrupted(self, **kwargs):\n",
      "        \n",
      "        if 'table' in kwargs.keys():\n",
      "            table = kwargs['table']\n",
      "            halo_mass = table[self.prim_haloprop_key]\n",
      "        else:\n",
      "            halo_mass = kwargs['prim_haloprop']\n",
      "\n",
      "        disrupted_fraction = self.disrupted_fraction_vs_halo_mass(halo_mass)\n",
      "        randomizer = np.random.uniform(0, 1, len(halo_mass))\n",
      "        is_disrupted = randomizer < disrupted_fraction\n",
      "\n",
      "        if 'table' in kwargs.keys():\n",
      "            table['disrupted'][:] = is_disrupted\n",
      "        else:\n",
      "            return is_disrupted\n",
      "\n",
      "    def assign_axis_ratio(self, **kwargs):\n",
      "        \n",
      "        table = kwargs['table']\n",
      "        mask = table['disrupted'] == True\n",
      "        num_disrupted = len(table['disrupted'][mask])\n",
      "        table['axis_ratio'][mask] = np.random.random(num_disrupted)\n",
      "        table['axis_ratio'][~mask] = 0.3\n",
      "\n",
      "    def disrupted_fraction_vs_halo_mass(self, mass):\n",
      "        \n",
      "        bool_mask = mass > self.param_dict['max_disruption_mass_'+self.gal_type]\n",
      "        val = self.param_dict['disrupted_fraction_'+self.gal_type]\n",
      "        return np.where(bool_mask == True, 0, val)\n"
     ],
     "language": "python",
     "metadata": {},
     "outputs": [],
     "prompt_number": 1
    },
    {
     "cell_type": "code",
     "collapsed": false,
     "input": [
      "cen_shape = Shape('centrals', 'halo_mvir')\n",
      "sat_shape = Shape('satellites', 'halo_m200b')\n",
      "from halotools.empirical_models import PrebuiltHodModelFactory, HodModelFactory\n",
      "zheng_model = PrebuiltHodModelFactory('zheng07')\n",
      "new_model = HodModelFactory(baseline_model_instance = zheng_model, \n",
      "    centrals_shape = cen_shape, satellites_shape = sat_shape)\n",
      "\n"
     ],
     "language": "python",
     "metadata": {},
     "outputs": [],
     "prompt_number": 2
    },
    {
     "cell_type": "code",
     "collapsed": false,
     "input": [
      "from halotools.sim_manager import CachedHaloCatalog\n",
      "halocat = CachedHaloCatalog(simname = 'bolshoi', redshift = 0)\n",
      "new_model.populate_mock(halocat)"
     ],
     "language": "python",
     "metadata": {},
     "outputs": [],
     "prompt_number": 3
    },
    {
     "cell_type": "code",
     "collapsed": false,
     "input": [
      "print(new_model.mock.galaxy_table.keys())"
     ],
     "language": "python",
     "metadata": {},
     "outputs": [
      {
       "output_type": "stream",
       "stream": "stdout",
       "text": [
        "['halo_upid', 'halo_vx', 'halo_spin', 'halo_y', 'halo_x', 'halo_id', 'halo_m200b', 'halo_vy', 'halo_vz', 'conc_NFWmodel', 'halo_rvir', 'halo_z', 'halo_mvir', 'halo_num_satellites', 'halo_num_centrals', 'gal_type', 'disrupted', 'axis_ratio', 'vx', 'host_centric_distance', 'vy', 'y', 'x', 'vz', 'z']\n"
       ]
      }
     ],
     "prompt_number": 4
    },
    {
     "cell_type": "markdown",
     "metadata": {},
     "source": [
      "## Illustrating the `_methods_to_inherit` feature"
     ]
    },
    {
     "cell_type": "markdown",
     "metadata": {},
     "source": [
      "Because our component model declared additional `_methods_to_inherit`, our composite model has access to the underlying analytical functions in this list.  "
     ]
    },
    {
     "cell_type": "code",
     "collapsed": false,
     "input": [
      "import numpy as np \n",
      "from matplotlib import pyplot as plt\n",
      "%matplotlib inline \n",
      "\n",
      "halo_mass = np.logspace(10, 16, 1000)\n",
      "plt.plot(halo_mass, new_model.disrupted_fraction_vs_halo_mass_centrals(halo_mass), \n",
      "         label = 'default param_dict settings')\n",
      "\n",
      "new_model.param_dict['disrupted_fraction_centrals'] = 0.35\n",
      "new_model.param_dict['max_disruption_mass_centrals'] = 1e13\n",
      "\n",
      "plt.plot(halo_mass, new_model.disrupted_fraction_vs_halo_mass_centrals(halo_mass), \n",
      "         label = 'Modified param_dict model')\n",
      "\n",
      "plt.xscale('log')\n",
      "plt.ylim(ymin = -0.1, ymax=0.5)\n",
      "plt.xlabel(r'$M_{\\rm vir}$', fontsize=25)\n",
      "plt.ylabel('Disrupted Fraction', fontsize=17)\n",
      "plt.xticks(size=15)\n",
      "plt.yticks(size=15)\n",
      "\n",
      "plt.legend(frameon=False, loc='best')"
     ],
     "language": "python",
     "metadata": {},
     "outputs": [
      {
       "metadata": {},
       "output_type": "pyout",
       "prompt_number": 5,
       "text": [
        "<matplotlib.legend.Legend at 0x119714710>"
       ]
      },
      {
       "metadata": {},
       "output_type": "display_data",
       "png": "[encoded data removed]",
       "text": [
        "<matplotlib.figure.Figure at 0x12a860e10>"
       ]
      }
     ],
     "prompt_number": 5
    },
    {
     "cell_type": "markdown",
     "metadata": {},
     "source": [
      "If you did not include `disrupted_fraction_vs_halo_mass` in your `_methods_to_inherit` list, this function would not appear in your composite model methods. Try it and see. "
     ]
    },
    {
     "cell_type": "markdown",
     "metadata": {},
     "source": [
      "## Inspecting our mock"
     ]
    },
    {
     "cell_type": "markdown",
     "metadata": {},
     "source": [
      "Let's see that the behavior of the underlying analytical functions is reflected by the properties of the galaxies in our Monte Carlo realization. "
     ]
    },
    {
     "cell_type": "code",
     "collapsed": false,
     "input": [
      "new_model.mock.populate()"
     ],
     "language": "python",
     "metadata": {},
     "outputs": [],
     "prompt_number": 6
    },
    {
     "cell_type": "code",
     "collapsed": false,
     "input": [
      "cenmask = new_model.mock.galaxy_table['gal_type'] == 'centrals'\n",
      "cens = new_model.mock.galaxy_table[cenmask]\n",
      "cens_disrupted_mask = cens['disrupted'] == True\n",
      "disrupted_cens = cens[cens_disrupted_mask]\n",
      "\n",
      "print(new_model.param_dict['max_disruption_mass_centrals'])\n",
      "\n",
      "print(disrupted_cens['halo_mvir'].max())"
     ],
     "language": "python",
     "metadata": {},
     "outputs": [
      {
       "output_type": "stream",
       "stream": "stdout",
       "text": [
        "1e+13\n",
        "1e+13\n"
       ]
      }
     ],
     "prompt_number": 7
    },
    {
     "cell_type": "code",
     "collapsed": false,
     "input": [
      "sats = new_model.mock.galaxy_table[~cenmask]\n",
      "sats_disrupted_mask = sats['disrupted'] == True\n",
      "disrupted_sats = sats[sats_disrupted_mask]\n",
      "\n",
      "print(new_model.param_dict['max_disruption_mass_satellites'])\n",
      "\n",
      "print(disrupted_sats['halo_mvir'].max())"
     ],
     "language": "python",
     "metadata": {},
     "outputs": [
      {
       "output_type": "stream",
       "stream": "stdout",
       "text": [
        "1e+12\n",
        "9.189e+11\n"
       ]
      }
     ],
     "prompt_number": 8
    },
    {
     "cell_type": "markdown",
     "metadata": {},
     "source": [
      "In our model, all non-disrupted galaxies should have an *axis_ratio* of 0.3. Let's check that this property holds true in our mock universe. "
     ]
    },
    {
     "cell_type": "code",
     "collapsed": false,
     "input": [
      "disrupted_mask = new_model.mock.galaxy_table['disrupted'] == False\n",
      "disrupted_gals = new_model.mock.galaxy_table[disrupted_mask]\n",
      "\n",
      "print(set(disrupted_gals['axis_ratio']))"
     ],
     "language": "python",
     "metadata": {},
     "outputs": [
      {
       "output_type": "stream",
       "stream": "stdout",
       "text": [
        "set([0.30000001])\n"
       ]
      }
     ],
     "prompt_number": 9
    },
    {
     "cell_type": "code",
     "collapsed": false,
     "input": [],
     "language": "python",
     "metadata": {},
     "outputs": [],
     "prompt_number": 9
    }
   ],
   "metadata": {}
  }
 ]
}