{
 "metadata": {
  "name": "",
  "signature": "sha256:017998a0180e315f09e212bb6096bcabb1ad1e51d4a80ac8d659d5d1fbda584d"
 },
 "nbformat": 3,
 "nbformat_minor": 0,
 "worksheets": [
  {
   "cells": [
    {
     "cell_type": "markdown",
     "metadata": {},
     "source": [
      "# Example 5: An HOD model with cross-component dependencies\n"
     ]
    },
    {
     "cell_type": "markdown",
     "metadata": {},
     "source": [
      "This notebook is intended to accompany the corresponding page of the Halotools documentation on HOD-style model building. Although the tutorial on `halotools.readthedocs.io` is in principle comprehensive and stand-alone, there is supplementary material covered here that may provide further clarification. By following along with this notebook you can experiment with variations on the models as you learn the basic syntax. This notebook is not stand-alone, and is intended to be read along with its companion tutorial in the documentation. \n"
     ]
    },
    {
     "cell_type": "markdown",
     "metadata": {},
     "source": [
      "## Source code for the new model \n"
     ]
    },
    {
     "cell_type": "code",
     "collapsed": false,
     "input": [
      "class Shape(object):\n",
      "\n",
      "    def __init__(self, gal_type):\n",
      "\n",
      "        self.gal_type = gal_type\n",
      "        self._mock_generation_calling_sequence = ['assign_shape']\n",
      "        self._galprop_dtypes_to_allocate = np.dtype([('shape', object)])\n",
      "\n",
      "    def assign_shape(self, **kwargs):\n",
      "        table = kwargs['table']\n",
      "        randomizer = np.random.random(len(table))\n",
      "        table['shape'][:] = np.where(randomizer > 0.5, 'elliptical', 'disk')\n",
      "\n",
      "class Size(object):\n",
      "\n",
      "    def __init__(self, gal_type):\n",
      "\n",
      "        self.gal_type = gal_type\n",
      "        self._mock_generation_calling_sequence = ['assign_size']\n",
      "        self._galprop_dtypes_to_allocate = np.dtype([('galsize', 'f4')])\n",
      "        self.list_of_haloprops_needed = ['halo_spin']\n",
      "        \n",
      "        self.new_haloprop_func_dict = {'halo_custom_size': self.calculate_halo_size}\n",
      "\n",
      "    def assign_size(self, **kwargs):\n",
      "        table = kwargs['table']\n",
      "        disk_mask = table['shape'] == 'disk'\n",
      "        table['galsize'][disk_mask] = table['halo_spin'][disk_mask]\n",
      "        table['galsize'][~disk_mask] = table['halo_custom_size'][~disk_mask]\n",
      "\n",
      "    def calculate_halo_size(self, **kwargs):\n",
      "        table = kwargs['table']\n",
      "        return 2*table['halo_rs']\n"
     ],
     "language": "python",
     "metadata": {},
     "outputs": [],
     "prompt_number": 1
    },
    {
     "cell_type": "code",
     "collapsed": false,
     "input": [
      "from halotools.empirical_models import Leauthaud11Cens, TrivialPhaseSpace\n",
      "cen_occupation = Leauthaud11Cens()\n",
      "cen_profile = TrivialPhaseSpace(gal_type = 'centrals')\n",
      "cen_shape = Shape(gal_type = 'centrals')\n",
      "cen_size = Size(gal_type = 'centrals')\n",
      "\n",
      "from halotools.empirical_models import HodModelFactory\n",
      "model = HodModelFactory(\n",
      "    centrals_occupation = cen_occupation, \n",
      "    centrals_profile = cen_profile, \n",
      "    centrals_shape = cen_shape, \n",
      "    centrals_size = cen_size, \n",
      "    model_feature_calling_sequence = ('centrals_occupation', \n",
      "        'centrals_profile', 'centrals_shape', 'centrals_size')\n",
      "    )\n"
     ],
     "language": "python",
     "metadata": {},
     "outputs": [],
     "prompt_number": 2
    },
    {
     "cell_type": "code",
     "collapsed": false,
     "input": [
      "from halotools.sim_manager import FakeSim\n",
      "halocat = FakeSim()\n",
      "model.populate_mock(halocat)"
     ],
     "language": "python",
     "metadata": {},
     "outputs": [],
     "prompt_number": 4
    },
    {
     "cell_type": "markdown",
     "metadata": {},
     "source": [
      "## Inspecting our mock"
     ]
    },
    {
     "cell_type": "markdown",
     "metadata": {},
     "source": [
      "In our mock universe, different halo properties govern the sizes of disk and elliptical galaxies. We can visualize this with a couple of simple scatter plots. "
     ]
    },
    {
     "cell_type": "code",
     "collapsed": false,
     "input": [
      "from matplotlib import pyplot as plt\n",
      "%matplotlib inline"
     ],
     "language": "python",
     "metadata": {},
     "outputs": [],
     "prompt_number": 5
    },
    {
     "cell_type": "code",
     "collapsed": false,
     "input": [
      "diskmask = model.mock.galaxy_table['shape'] == 'disk'\n",
      "disk_gals = model.mock.galaxy_table[diskmask]\n",
      "elliptical_gals = model.mock.galaxy_table[~diskmask]"
     ],
     "language": "python",
     "metadata": {},
     "outputs": [],
     "prompt_number": 6
    },
    {
     "cell_type": "code",
     "collapsed": false,
     "input": [
      "plt.scatter(elliptical_gals['halo_spin'], elliptical_gals['galsize'], \n",
      "            color='red', label = 'elliptical galaxies')\n",
      "plt.scatter(disk_gals['halo_spin'], disk_gals['galsize'], \n",
      "            color='blue', label = 'disk galaxies')\n",
      "\n",
      "plt.xlim(xmin = -0.02, xmax=0.2)\n",
      "plt.ylim(ymin = -0.02, ymax=1.25)\n",
      "plt.xlabel('Halo Spin', fontsize=15)\n",
      "plt.ylabel('Galaxy Size', fontsize=15)\n",
      "plt.legend(frameon=False, loc='best')"
     ],
     "language": "python",
     "metadata": {},
     "outputs": [
      {
       "metadata": {},
       "output_type": "pyout",
       "prompt_number": 7,
       "text": [
        "<matplotlib.legend.Legend at 0x128ecaf90>"
       ]
      },
      {
       "output_type": "stream",
       "stream": "stderr",
       "text": [
        "/usr/local/lib/python2.7/site-packages/matplotlib/collections.py:571: FutureWarning: elementwise comparison failed; returning scalar instead, but in the future will perform elementwise comparison\n",
        "  if self._edgecolors == str('face'):\n"
       ]
      },
      {
       "metadata": {},
       "output_type": "display_data",
       "png": "[encoded data removed]",
       "text": [
        "<matplotlib.figure.Figure at 0x12a3ba690>"
       ]
      }
     ],
     "prompt_number": 7
    },
    {
     "cell_type": "code",
     "collapsed": false,
     "input": [
      "plt.scatter(disk_gals['halo_custom_size'], disk_gals['galsize'], \n",
      "            color='blue', label = 'disk galaxies')\n",
      "plt.scatter(elliptical_gals['halo_custom_size'], elliptical_gals['galsize'], \n",
      "            color='red', label = 'elliptical galaxies')\n",
      "\n",
      "plt.xlim(xmin = -0.02, xmax = 1.25)\n",
      "plt.ylim(ymin = -0.02, ymax=1.25)\n",
      "plt.xlabel('Halo Custom Size', fontsize=15)\n",
      "plt.ylabel('Galaxy Size', fontsize=15)\n",
      "plt.legend(frameon=False, loc=2)"
     ],
     "language": "python",
     "metadata": {},
     "outputs": [
      {
       "metadata": {},
       "output_type": "pyout",
       "prompt_number": 8,
       "text": [
        "<matplotlib.legend.Legend at 0x103ca5f10>"
       ]
      },
      {
       "metadata": {},
       "output_type": "display_data",
       "png": "[encoded data removed]",
       "text": [
        "<matplotlib.figure.Figure at 0x103c071d0>"
       ]
      }
     ],
     "prompt_number": 8
    },
    {
     "cell_type": "code",
     "collapsed": false,
     "input": [],
     "language": "python",
     "metadata": {},
     "outputs": [],
     "prompt_number": 7
    },
    {
     "cell_type": "code",
     "collapsed": false,
     "input": [],
     "language": "python",
     "metadata": {},
     "outputs": [],
     "prompt_number": 7
    }
   ],
   "metadata": {}
  }
 ]
}