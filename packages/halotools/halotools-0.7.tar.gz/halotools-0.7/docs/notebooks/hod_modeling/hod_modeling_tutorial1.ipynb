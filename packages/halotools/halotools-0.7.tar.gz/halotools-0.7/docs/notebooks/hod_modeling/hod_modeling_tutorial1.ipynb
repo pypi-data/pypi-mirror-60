{
 "metadata": {
  "name": "",
  "signature": "sha256:d857c8fbc5aab9fc4af26f36614a9203d5adeb672cb6df5b7f516c404b3322dc"
 },
 "nbformat": 3,
 "nbformat_minor": 0,
 "worksheets": [
  {
   "cells": [
    {
     "cell_type": "markdown",
     "metadata": {},
     "source": [
      "# Example 1: Building a simple HOD-style model\n"
     ]
    },
    {
     "cell_type": "markdown",
     "metadata": {},
     "source": [
      "This notebook is intended to accompany the corresponding page of the Halotools documentation on HOD-style model building. Although the tutorial on `halotools.readthedocs.io` is in principle comprehensive and stand-alone, there is supplementary material covered here that may provide further clarification. By following along with this notebook you can experiment with variations on the models as you learn the basic syntax. This notebook is not stand-alone, and is intended to be read along with its companion tutorial in the documentation. \n"
     ]
    },
    {
     "cell_type": "markdown",
     "metadata": {},
     "source": [
      "## Source code for the ``zheng07`` model\n"
     ]
    },
    {
     "cell_type": "code",
     "collapsed": false,
     "input": [
      "from halotools.empirical_models import HodModelFactory\n",
      "\n",
      "from halotools.empirical_models import TrivialPhaseSpace, Zheng07Cens\n",
      "cens_occ_model =  Zheng07Cens()\n",
      "cens_prof_model = TrivialPhaseSpace()\n",
      "\n",
      "from halotools.empirical_models import NFWPhaseSpace, Zheng07Sats\n",
      "sats_occ_model =  Zheng07Sats()\n",
      "sats_prof_model = NFWPhaseSpace()\n",
      "\n",
      "model_instance = HodModelFactory(\n",
      "    centrals_occupation = cens_occ_model, \n",
      "    centrals_profile = cens_prof_model, \n",
      "    satellites_occupation = sats_occ_model, \n",
      "    satellites_profile = sats_prof_model)\n"
     ],
     "language": "python",
     "metadata": {},
     "outputs": [],
     "prompt_number": 1
    },
    {
     "cell_type": "markdown",
     "metadata": {},
     "source": [
      "To populate a fake simulation that is generated on-the-fly:"
     ]
    },
    {
     "cell_type": "code",
     "collapsed": false,
     "input": [
      "from halotools.sim_manager import FakeSim\n",
      "fakesim = FakeSim()\n",
      "model_instance.populate_mock(fakesim)"
     ],
     "language": "python",
     "metadata": {},
     "outputs": [],
     "prompt_number": 2
    },
    {
     "cell_type": "markdown",
     "metadata": {},
     "source": [
      "You can use the `model_instance` to populate any Halotools-formatted simulation. In order for you to be able to run the next few cells, you will need to have downloaded the default Halotools catalog. "
     ]
    },
    {
     "cell_type": "code",
     "collapsed": false,
     "input": [
      "from halotools.sim_manager import CachedHaloCatalog\n",
      "halocat = CachedHaloCatalog(simname = 'bolshoi', redshift = 0)\n",
      "model_instance.populate_mock(halocat)"
     ],
     "language": "python",
     "metadata": {},
     "outputs": [],
     "prompt_number": 3
    },
    {
     "cell_type": "markdown",
     "metadata": {},
     "source": [
      "Now that you have called the `populate_mock` method, your `model_instance` has a `mock` attribute containing a `galaxy_table` where your synthetic galaxy population is stored in the form of an Astropy Table object:"
     ]
    },
    {
     "cell_type": "code",
     "collapsed": false,
     "input": [
      "print(model_instance.mock.galaxy_table[0:5])"
     ],
     "language": "python",
     "metadata": {},
     "outputs": [
      {
       "output_type": "stream",
       "stream": "stdout",
       "text": [
        "halo_upid conc_NFWmodel  halo_y ...       x             vz             z      \n",
        "--------- ------------- ------- ... ------------- -------------- -------------\n",
        "       -1       7.76108 13.8923 ... 22.0151023793 -66.8013553008 8.93395652674\n",
        "       -1       7.76108 13.8923 ... 21.8547761649 -327.255810991 9.55258482567\n",
        "       -1       7.76108 13.8923 ... 21.3112708437 -422.193290107 9.73815089595\n",
        "       -1       7.76108 13.8923 ... 21.8030170985  115.257990823 9.51213697614\n",
        "       -1       7.76108 13.8923 ...  22.134749624  463.938522993 9.22147211917\n"
       ]
      }
     ],
     "prompt_number": 4
    },
    {
     "cell_type": "markdown",
     "metadata": {},
     "source": [
      "As we will see later in this tutorial, the above syntax applies to *all* Halotools composite models, no matter what their features are. Once you have built a composite model with one of the factories, you can always use the model to populate *any* Halotools-formatted halo catalog with the same syntax. As you change the features of the composite model, this simply changes what columns will be created for the `galaxy_table` storing the mock. "
     ]
    },
    {
     "cell_type": "heading",
     "level": 2,
     "metadata": {},
     "source": [
      "Speeding up mock generation"
     ]
    },
    {
     "cell_type": "markdown",
     "metadata": {},
     "source": [
      "When you call the `populate_mock` method, there is a large amount of pre-processing that is done before the actual Monte Carlo generation of mock galaxies. The halo catalog is sorted into a convenient order, completeness cuts are (optionally) placed on the catalog, self-consistency tests between simulation data and metadata are performed, columns not needed by the model are thrown out, etc. Once these steps are taken, the stripped-down newly-organized halo catalog is bound to the mock instance. This makes it possible to populate mocks *much* faster than the initial call to `populate_mock` function.\n",
      "\n",
      "In order to take advantage of this pre-processing, rather than calling `model_instance.populate_mock`, you should instead call `model.mock.populate`. Notice how much faster the following call is:"
     ]
    },
    {
     "cell_type": "code",
     "collapsed": false,
     "input": [
      "model_instance.mock.populate()"
     ],
     "language": "python",
     "metadata": {},
     "outputs": [],
     "prompt_number": 5
    },
    {
     "cell_type": "code",
     "collapsed": false,
     "input": [
      "%timeit model_instance.mock.populate()"
     ],
     "language": "python",
     "metadata": {},
     "outputs": [
      {
       "output_type": "stream",
       "stream": "stdout",
       "text": [
        "1 loops, best of 3: 266 ms per loop\n"
       ]
      }
     ],
     "prompt_number": 6
    },
    {
     "cell_type": "markdown",
     "metadata": {},
     "source": [
      "## Final example: source code for the ``leauthaud11`` model\n"
     ]
    },
    {
     "cell_type": "code",
     "collapsed": false,
     "input": [
      "from halotools.empirical_models import HodModelFactory\n",
      "\n",
      "from halotools.empirical_models import TrivialPhaseSpace, Leauthaud11Cens\n",
      "another_cens_occ_model =  Leauthaud11Cens()\n",
      "another_cens_prof_model = TrivialPhaseSpace()\n",
      "\n",
      "from halotools.empirical_models import NFWPhaseSpace, Leauthaud11Sats\n",
      "another_sats_occ_model =  Leauthaud11Sats()\n",
      "another_sats_prof_model = NFWPhaseSpace()\n",
      "\n",
      "another_sats_occ_model._suppress_repeated_param_warning = True\n",
      "\n",
      "model_instance = HodModelFactory(\n",
      "    centrals_occupation = another_cens_occ_model, \n",
      "    centrals_profile = another_cens_prof_model, \n",
      "    satellites_occupation = another_sats_occ_model, \n",
      "    satellites_profile = another_sats_prof_model)\n"
     ],
     "language": "python",
     "metadata": {},
     "outputs": [],
     "prompt_number": 7
    },
    {
     "cell_type": "code",
     "collapsed": false,
     "input": [
      "model_instance.populate_mock(halocat)"
     ],
     "language": "python",
     "metadata": {},
     "outputs": [],
     "prompt_number": 8
    },
    {
     "cell_type": "markdown",
     "metadata": {},
     "source": [
      "The `_suppress_repeated_param_warning` described on the tutorial page is not strictly necessary. In this case, the reason we use it is that ``leauthaud11`` centrals and satellites share common parameters deriving from the `Behroozi10SmHm` component model. To show you that this feature is not necessary, we'll omit it in the following cell and see what happens:"
     ]
    },
    {
     "cell_type": "code",
     "collapsed": false,
     "input": [
      "another_cens_occ_model =  Leauthaud11Cens()\n",
      "another_cens_prof_model = TrivialPhaseSpace()\n",
      "\n",
      "another_sats_occ_model =  Leauthaud11Sats()\n",
      "another_sats_prof_model = NFWPhaseSpace()\n",
      "\n",
      "model_instance = HodModelFactory(\n",
      "    centrals_occupation = another_cens_occ_model, \n",
      "    centrals_profile = another_cens_prof_model, \n",
      "    satellites_occupation = another_sats_occ_model, \n",
      "    satellites_profile = another_sats_prof_model)\n"
     ],
     "language": "python",
     "metadata": {},
     "outputs": [
      {
       "output_type": "stream",
       "stream": "stderr",
       "text": [
        "halotools/empirical_models/factories/hod_model_factory.py:688: UserWarning: \n",
        "\n",
        "The param_dict key smhm_beta_0 appears in more than one component model.\n",
        "This is permissible, but if you are seeing this message you should be sure you understand it.\n",
        "In particular, double-check that this parameter does not have conflicting meanings across components.\n",
        "\n",
        "If you do not wish to see this message every time you instantiate, \n",
        "simply attach a _suppress_repeated_param_warning attribute \n",
        "to any of your component models and set this variable to ``True``.\n",
        "\n",
        "  warn(msg % key)\n",
        "halotools/empirical_models/factories/hod_model_factory.py:688: UserWarning: \n",
        "\n",
        "The param_dict key smhm_m1_a appears in more than one component model.\n",
        "This is permissible, but if you are seeing this message you should be sure you understand it.\n",
        "In particular, double-check that this parameter does not have conflicting meanings across components.\n",
        "\n",
        "If you do not wish to see this message every time you instantiate, \n",
        "simply attach a _suppress_repeated_param_warning attribute \n",
        "to any of your component models and set this variable to ``True``.\n",
        "\n",
        "  warn(msg % key)\n",
        "halotools/empirical_models/factories/hod_model_factory.py:688: UserWarning: \n",
        "\n",
        "The param_dict key smhm_delta_0 appears in more than one component model.\n",
        "This is permissible, but if you are seeing this message you should be sure you understand it.\n",
        "In particular, double-check that this parameter does not have conflicting meanings across components.\n",
        "\n",
        "If you do not wish to see this message every time you instantiate, \n",
        "simply attach a _suppress_repeated_param_warning attribute \n",
        "to any of your component models and set this variable to ``True``.\n",
        "\n",
        "  warn(msg % key)\n",
        "halotools/empirical_models/factories/hod_model_factory.py:688: UserWarning: \n",
        "\n",
        "The param_dict key smhm_gamma_0 appears in more than one component model.\n",
        "This is permissible, but if you are seeing this message you should be sure you understand it.\n",
        "In particular, double-check that this parameter does not have conflicting meanings across components.\n",
        "\n",
        "If you do not wish to see this message every time you instantiate, \n",
        "simply attach a _suppress_repeated_param_warning attribute \n",
        "to any of your component models and set this variable to ``True``.\n",
        "\n",
        "  warn(msg % key)\n",
        "halotools/empirical_models/factories/hod_model_factory.py:688: UserWarning: \n",
        "\n",
        "The param_dict key smhm_beta_a appears in more than one component model.\n",
        "This is permissible, but if you are seeing this message you should be sure you understand it.\n",
        "In particular, double-check that this parameter does not have conflicting meanings across components.\n",
        "\n",
        "If you do not wish to see this message every time you instantiate, \n",
        "simply attach a _suppress_repeated_param_warning attribute \n",
        "to any of your component models and set this variable to ``True``.\n",
        "\n",
        "  warn(msg % key)\n",
        "halotools/empirical_models/factories/hod_model_factory.py:688: UserWarning: \n",
        "\n",
        "The param_dict key smhm_m0_a appears in more than one component model.\n",
        "This is permissible, but if you are seeing this message you should be sure you understand it.\n",
        "In particular, double-check that this parameter does not have conflicting meanings across components.\n",
        "\n",
        "If you do not wish to see this message every time you instantiate, \n",
        "simply attach a _suppress_repeated_param_warning attribute \n",
        "to any of your component models and set this variable to ``True``.\n",
        "\n",
        "  warn(msg % key)\n",
        "halotools/empirical_models/factories/hod_model_factory.py:688: UserWarning: \n",
        "\n",
        "The param_dict key smhm_m0_0 appears in more than one component model.\n",
        "This is permissible, but if you are seeing this message you should be sure you understand it.\n",
        "In particular, double-check that this parameter does not have conflicting meanings across components.\n",
        "\n",
        "If you do not wish to see this message every time you instantiate, \n",
        "simply attach a _suppress_repeated_param_warning attribute \n",
        "to any of your component models and set this variable to ``True``.\n",
        "\n",
        "  warn(msg % key)\n",
        "halotools/empirical_models/factories/hod_model_factory.py:688: UserWarning: \n",
        "\n",
        "The param_dict key smhm_gamma_a appears in more than one component model.\n",
        "This is permissible, but if you are seeing this message you should be sure you understand it.\n",
        "In particular, double-check that this parameter does not have conflicting meanings across components.\n",
        "\n",
        "If you do not wish to see this message every time you instantiate, \n",
        "simply attach a _suppress_repeated_param_warning attribute \n",
        "to any of your component models and set this variable to ``True``.\n",
        "\n",
        "  warn(msg % key)\n",
        "halotools/empirical_models/factories/hod_model_factory.py:688: UserWarning: \n",
        "\n",
        "The param_dict key smhm_m1_0 appears in more than one component model.\n",
        "This is permissible, but if you are seeing this message you should be sure you understand it.\n",
        "In particular, double-check that this parameter does not have conflicting meanings across components.\n",
        "\n",
        "If you do not wish to see this message every time you instantiate, \n",
        "simply attach a _suppress_repeated_param_warning attribute \n",
        "to any of your component models and set this variable to ``True``.\n",
        "\n",
        "  warn(msg % key)\n",
        "halotools/empirical_models/factories/hod_model_factory.py:688: UserWarning: \n",
        "\n",
        "The param_dict key smhm_delta_a appears in more than one component model.\n",
        "This is permissible, but if you are seeing this message you should be sure you understand it.\n",
        "In particular, double-check that this parameter does not have conflicting meanings across components.\n",
        "\n",
        "If you do not wish to see this message every time you instantiate, \n",
        "simply attach a _suppress_repeated_param_warning attribute \n",
        "to any of your component models and set this variable to ``True``.\n",
        "\n",
        "  warn(msg % key)\n",
        "halotools/empirical_models/factories/hod_model_factory.py:688: UserWarning: \n",
        "\n",
        "The param_dict key scatter_model_param1 appears in more than one component model.\n",
        "This is permissible, but if you are seeing this message you should be sure you understand it.\n",
        "In particular, double-check that this parameter does not have conflicting meanings across components.\n",
        "\n",
        "If you do not wish to see this message every time you instantiate, \n",
        "simply attach a _suppress_repeated_param_warning attribute \n",
        "to any of your component models and set this variable to ``True``.\n",
        "\n",
        "  warn(msg % key)\n"
       ]
      }
     ],
     "prompt_number": 9
    },
    {
     "cell_type": "markdown",
     "metadata": {},
     "source": [
      "We get a long warning message telling us specifically which parameters in `param_dict` appear in multiple different component models. You will learn more about the role of `param_dict` later in this tutorial. For now, simply observe that the above warning is just a warning, and that you can still populate mocks without a problem:"
     ]
    },
    {
     "cell_type": "code",
     "collapsed": false,
     "input": [
      "model_instance.populate_mock(halocat)"
     ],
     "language": "python",
     "metadata": {},
     "outputs": [],
     "prompt_number": 10
    },
    {
     "cell_type": "code",
     "collapsed": false,
     "input": [],
     "language": "python",
     "metadata": {},
     "outputs": []
    }
   ],
   "metadata": {}
  }
 ]
}