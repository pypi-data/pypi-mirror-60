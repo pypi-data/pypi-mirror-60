{
 "metadata": {
  "name": "",
  "signature": "sha256:20e70f230eaafc064f858cd2fb75907077ebe59a45f6e8fd0926d8c4dd3efb81"
 },
 "nbformat": 3,
 "nbformat_minor": 0,
 "worksheets": [
  {
   "cells": [
    {
     "cell_type": "markdown",
     "metadata": {},
     "source": [
      "# Example 2: An HOD-style model with additional features"
     ]
    },
    {
     "cell_type": "markdown",
     "metadata": {},
     "source": [
      "This notebook is intended to accompany the corresponding page of the Halotools documentation on HOD-style model building. Although the tutorial on `halotools.readthedocs.io` is in principle comprehensive and stand-alone, there is supplementary material covered here that may provide further clarification. By following along with this notebook you can experiment with variations on the models as you learn the basic syntax. This notebook is not stand-alone, and is intended to be read along with its companion tutorial in the documentation. \n"
     ]
    },
    {
     "cell_type": "markdown",
     "metadata": {},
     "source": [
      "## An aside on the `HaloMassQuenching` component model"
     ]
    },
    {
     "cell_type": "markdown",
     "metadata": {},
     "source": [
      "Before we build the composite model demonstrated in the tutorial, let's play around a bit with the quenching model. You can find more information about this model from the docstring of its class. Here we'll just cover a few basics. \n",
      "\n",
      "As described in the companion tutorial page of the documentation, the way the model works is that you specify what the quiescent fraction is at a set of input control points in halo mass, and the model interpolates between these control points to calculate the quiescent fraction at any mass. These control points are specified when you instantiate the class as the second and third arguments passed to the constructor. The first argument sets the name of the column of the halo table storing the halo mass definition upon which you want to base your model. "
     ]
    },
    {
     "cell_type": "code",
     "collapsed": false,
     "input": [
      "from halotools.empirical_models import HaloMassInterpolQuenching\n",
      "\n",
      "from halotools.empirical_models import HaloMassInterpolQuenching\n",
      "sat_quenching = HaloMassInterpolQuenching('halo_mvir', \n",
      "    [1e12, 1e13, 1e14, 1e15], [0.35, 0.5, 0.6, 0.9], \n",
      "    gal_type = 'satellites')"
     ],
     "language": "python",
     "metadata": {},
     "outputs": [],
     "prompt_number": 1
    },
    {
     "cell_type": "markdown",
     "metadata": {},
     "source": [
      "Unpacking the above arguments, we have built a *component* model in which the quiescent fraction of `satellites` in halos of $M_{\\rm vir} = 10^{12}M_{\\odot}, 10^{13}M_{\\odot}, 10^{14}M_{\\odot}, 10^{15}M_{\\odot} $ is 0.35, 0.5, 0.6  and 0.9, respectively. \n",
      "\n",
      "The `sat_quenching` model is a *component model* and cannot be used to populate mocks:"
     ]
    },
    {
     "cell_type": "code",
     "collapsed": false,
     "input": [
      "from halotools.sim_manager import FakeSim\n",
      "fakesim = FakeSim()\n",
      "sat_quenching.populate_mock(fakesim)"
     ],
     "language": "python",
     "metadata": {},
     "outputs": [
      {
       "ename": "AttributeError",
       "evalue": "'HaloMassInterpolQuenching' object has no attribute 'populate_mock'",
       "output_type": "pyerr",
       "traceback": [
        "\u001b[0;31m---------------------------------------------------------------------------\u001b[0m\n\u001b[0;31mAttributeError\u001b[0m                            Traceback (most recent call last)",
        "\u001b[0;32m<ipython-input-2-df2760848ebe>\u001b[0m in \u001b[0;36m<module>\u001b[0;34m()\u001b[0m\n\u001b[1;32m      1\u001b[0m \u001b[0;32mfrom\u001b[0m \u001b[0mhalotools\u001b[0m\u001b[0;34m.\u001b[0m\u001b[0msim_manager\u001b[0m \u001b[0;32mimport\u001b[0m \u001b[0mFakeSim\u001b[0m\u001b[0;34m\u001b[0m\u001b[0m\n\u001b[1;32m      2\u001b[0m \u001b[0mfakesim\u001b[0m \u001b[0;34m=\u001b[0m \u001b[0mFakeSim\u001b[0m\u001b[0;34m(\u001b[0m\u001b[0;34m)\u001b[0m\u001b[0;34m\u001b[0m\u001b[0m\n\u001b[0;32m----> 3\u001b[0;31m \u001b[0msat_quenching\u001b[0m\u001b[0;34m.\u001b[0m\u001b[0mpopulate_mock\u001b[0m\u001b[0;34m(\u001b[0m\u001b[0mfakesim\u001b[0m\u001b[0;34m)\u001b[0m\u001b[0;34m\u001b[0m\u001b[0m\n\u001b[0m",
        "\u001b[0;31mAttributeError\u001b[0m: 'HaloMassInterpolQuenching' object has no attribute 'populate_mock'"
       ]
      }
     ],
     "prompt_number": 2
    },
    {
     "cell_type": "markdown",
     "metadata": {},
     "source": [
      "However, you can still use the underlying analytic functions of this model:"
     ]
    },
    {
     "cell_type": "code",
     "collapsed": false,
     "input": [
      "import numpy as np \n",
      "\n",
      "halo_mass = np.logspace(10, 16, 100)\n",
      "fq = sat_quenching.mean_quiescent_fraction(prim_haloprop = halo_mass) "
     ],
     "language": "python",
     "metadata": {},
     "outputs": []
    },
    {
     "cell_type": "code",
     "collapsed": false,
     "input": [
      "from matplotlib import pyplot as plt\n",
      "%matplotlib inline"
     ],
     "language": "python",
     "metadata": {},
     "outputs": []
    },
    {
     "cell_type": "code",
     "collapsed": false,
     "input": [
      "plt.plot(halo_mass, fq, linewidth=2)\n",
      "\n",
      "plt.xscale('log')\n",
      "plt.ylim(ymin = -0.1,ymax = 1.1)\n",
      "plt.xlabel(r'$M_{\\rm vir}$', fontsize=25)\n",
      "plt.ylabel('Quiescent Fraction', fontsize=17)\n",
      "plt.xticks(size=15)\n",
      "plt.yticks(size=15)"
     ],
     "language": "python",
     "metadata": {},
     "outputs": []
    },
    {
     "cell_type": "markdown",
     "metadata": {},
     "source": [
      "The behavior of the quiescent fraction plotted above is determined by the control values you passed to the constructor. However, you can always change the behavior of this function by changing the values of the `quiescent_ordinates` parameters stored in `param_dict`:"
     ]
    },
    {
     "cell_type": "code",
     "collapsed": false,
     "input": [
      "print(sat_quenching.param_dict)"
     ],
     "language": "python",
     "metadata": {},
     "outputs": []
    },
    {
     "cell_type": "code",
     "collapsed": false,
     "input": [
      "plt.plot(halo_mass, sat_quenching.mean_quiescent_fraction(prim_haloprop=halo_mass), \n",
      "         color='blue', linewidth=2)\n",
      "\n",
      "sat_quenching.param_dict['satellites_quiescent_ordinates_param1'] = 0.5\n",
      "sat_quenching.param_dict['satellites_quiescent_ordinates_param2'] = 0.6\n",
      "sat_quenching.param_dict['satellites_quiescent_ordinates_param3'] = 0.7\n",
      "sat_quenching.param_dict['satellites_quiescent_ordinates_param4'] = 0.75\n",
      "\n",
      "plt.plot(halo_mass, sat_quenching.mean_quiescent_fraction(prim_haloprop=halo_mass), \n",
      "         color='red', linewidth=2)\n",
      "\n",
      "plt.xscale('log')\n",
      "plt.ylim(ymin = -0.1,ymax = 1.1)\n",
      "plt.xlabel(r'$M_{\\rm vir}$', fontsize=25)\n",
      "plt.ylabel('Quiescent Fraction', fontsize=17)\n",
      "plt.xticks(size=15)\n",
      "plt.yticks(size=15)"
     ],
     "language": "python",
     "metadata": {},
     "outputs": []
    },
    {
     "cell_type": "markdown",
     "metadata": {},
     "source": [
      "When you use `sat_quenching` as a component of a composite model, on average, the satellites in your composite will have quiescent/star-forming designations determined by whatever values are stored in `param_dict` at the time the mock is generated. "
     ]
    },
    {
     "cell_type": "markdown",
     "metadata": {},
     "source": [
      "## Source code for an HOD model with a new feature \n"
     ]
    },
    {
     "cell_type": "markdown",
     "metadata": {},
     "source": [
      "Now back to following the tutorial page on RTD. Let's use the `HaloMassInterpolQuenching` as a component in a composite model. "
     ]
    },
    {
     "cell_type": "code",
     "collapsed": false,
     "input": [
      "from halotools.empirical_models import TrivialPhaseSpace, Zheng07Cens\n",
      "another_cens_occ_model =  Zheng07Cens()\n",
      "another_cens_prof_model = TrivialPhaseSpace()\n",
      "\n",
      "from halotools.empirical_models import NFWPhaseSpace, Zheng07Sats\n",
      "another_sats_occ_model =  Zheng07Sats()\n",
      "another_sats_prof_model = NFWPhaseSpace()\n",
      "\n",
      "from halotools.empirical_models import HaloMassInterpolQuenching\n",
      "sat_quenching = HaloMassInterpolQuenching('halo_mvir', \n",
      "    [1e12, 1e13, 1e14, 1e15], [0.35, 0.5, 0.6, 0.9], \n",
      "    gal_type = 'satellites')\n",
      "cen_quenching = HaloMassInterpolQuenching('halo_mvir', \n",
      "    [1e12, 1e15], [0.25, 0.95], \n",
      "    gal_type = 'centrals')\n",
      "\n",
      "from halotools.empirical_models import HodModelFactory\n",
      "zheng07_with_quenching = HodModelFactory(\n",
      "    centrals_occupation = another_cens_occ_model, \n",
      "    centrals_profile = another_cens_prof_model, \n",
      "    satellites_occupation = another_sats_occ_model, \n",
      "    satellites_profile = another_sats_prof_model, \n",
      "    centrals_quenching = cen_quenching, \n",
      "    satellites_quenching = sat_quenching\n",
      "    )\n"
     ],
     "language": "python",
     "metadata": {},
     "outputs": []
    },
    {
     "cell_type": "markdown",
     "metadata": {},
     "source": [
      "## Populating a mock with the composite model"
     ]
    },
    {
     "cell_type": "markdown",
     "metadata": {},
     "source": [
      "Just like any composite model, `zheng07_with_quenching` can be used to populate mocks:"
     ]
    },
    {
     "cell_type": "code",
     "collapsed": false,
     "input": [
      "from halotools.sim_manager import CachedHaloCatalog\n",
      "halocat = CachedHaloCatalog(simname = 'bolshoi', redshift = 0)\n",
      "zheng07_with_quenching.populate_mock(halocat)"
     ],
     "language": "python",
     "metadata": {},
     "outputs": []
    },
    {
     "cell_type": "code",
     "collapsed": false,
     "input": [
      "print(zheng07_with_quenching.mock.galaxy_table[0:5])"
     ],
     "language": "python",
     "metadata": {},
     "outputs": []
    },
    {
     "cell_type": "markdown",
     "metadata": {},
     "source": [
      "Note that our model has a column for star-formation designation:"
     ]
    },
    {
     "cell_type": "code",
     "collapsed": false,
     "input": [
      "print(zheng07_with_quenching.mock.galaxy_table.keys())"
     ],
     "language": "python",
     "metadata": {},
     "outputs": []
    },
    {
     "cell_type": "code",
     "collapsed": false,
     "input": [
      "print(zheng07_with_quenching.mock.galaxy_table['quiescent'][0:5])"
     ],
     "language": "python",
     "metadata": {},
     "outputs": []
    },
    {
     "cell_type": "markdown",
     "metadata": {},
     "source": [
      "## Inspecting the mock "
     ]
    },
    {
     "cell_type": "markdown",
     "metadata": {},
     "source": [
      "By selecting satellies in a specific mass range, we can verify that our mock satellites are indeed statistical realizations of the underlying analytical functions. "
     ]
    },
    {
     "cell_type": "code",
     "collapsed": false,
     "input": [
      "sat_mask = zheng07_with_quenching.mock.galaxy_table['gal_type'] == 'satellites'\n",
      "sats = zheng07_with_quenching.mock.galaxy_table[sat_mask]"
     ],
     "language": "python",
     "metadata": {},
     "outputs": []
    },
    {
     "cell_type": "code",
     "collapsed": false,
     "input": [
      "mvir_mask = (sats['halo_mvir'] > 9e13) & (sats['halo_mvir'] < 1.5e14)\n",
      "sats_in_1e14_halos = sats[mvir_mask]"
     ],
     "language": "python",
     "metadata": {},
     "outputs": []
    },
    {
     "cell_type": "code",
     "collapsed": false,
     "input": [
      "print(np.mean(sats_in_1e14_halos['quiescent']))\n",
      "print(zheng07_with_quenching.mean_quiescent_fraction_satellites(prim_haloprop = 1e14))"
     ],
     "language": "python",
     "metadata": {},
     "outputs": []
    },
    {
     "cell_type": "markdown",
     "metadata": {},
     "source": [
      "## Changing mock universes by changing model parameters"
     ]
    },
    {
     "cell_type": "markdown",
     "metadata": {},
     "source": [
      "In the plot above, you saw how changing `param_dict` resulted in different behavior for the analytical functions bound to the composite model. This behavior also propagates into `mock.populate`. To see this, we'll modify the control value responsible for setting the quiescent fraction of satellites in $M_{\\rm vir} = 10^{14}M_{\\odot}$ halos. "
     ]
    },
    {
     "cell_type": "code",
     "collapsed": false,
     "input": [
      "zheng07_with_quenching.param_dict['satellites_quiescent_ordinates_param3'] = 0.7"
     ],
     "language": "python",
     "metadata": {},
     "outputs": []
    },
    {
     "cell_type": "code",
     "collapsed": false,
     "input": [
      "zheng07_with_quenching.mock.populate()"
     ],
     "language": "python",
     "metadata": {},
     "outputs": []
    },
    {
     "cell_type": "markdown",
     "metadata": {},
     "source": [
      "Now we'll again build a mask to inspect our new satellite population in these halos, just like above:"
     ]
    },
    {
     "cell_type": "code",
     "collapsed": false,
     "input": [
      "sat_mask = zheng07_with_quenching.mock.galaxy_table['gal_type'] == 'satellites'\n",
      "sats = zheng07_with_quenching.mock.galaxy_table[sat_mask]\n",
      "mvir_mask = (sats['halo_mvir'] > 9e13) & (sats['halo_mvir'] < 1.5e14)\n",
      "sats_in_1e14_halos = sats[mvir_mask]"
     ],
     "language": "python",
     "metadata": {},
     "outputs": []
    },
    {
     "cell_type": "code",
     "collapsed": false,
     "input": [
      "print(np.mean(sats_in_1e14_halos['quiescent']))\n",
      "print(zheng07_with_quenching.mean_quiescent_fraction_satellites(prim_haloprop = 1e14))"
     ],
     "language": "python",
     "metadata": {},
     "outputs": []
    },
    {
     "cell_type": "code",
     "collapsed": false,
     "input": [],
     "language": "python",
     "metadata": {},
     "outputs": []
    }
   ],
   "metadata": {}
  }
 ]
}