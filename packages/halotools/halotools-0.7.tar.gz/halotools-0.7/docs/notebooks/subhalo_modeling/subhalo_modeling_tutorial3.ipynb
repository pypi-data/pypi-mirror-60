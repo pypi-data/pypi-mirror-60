{
 "metadata": {
  "name": "",
  "signature": "sha256:09d15e354eb7be4bb92df725e4c7c44b2b2eade1d996becf06baf8b7abf5d906"
 },
 "nbformat": 3,
 "nbformat_minor": 0,
 "worksheets": [
  {
   "cells": [
    {
     "cell_type": "markdown",
     "metadata": {},
     "source": [
      "# Example 3: A subhalo-based model with a feature of your own creation\n"
     ]
    },
    {
     "cell_type": "markdown",
     "metadata": {},
     "source": [
      "This notebook is intended to accompany the corresponding page of the Halotools documentation on subhalo-based model building. Although the tutorial on `halotools.readthedocs.io` is in principle comprehensive and stand-alone, there is supplementary material covered here that may provide further clarification. By following along with this notebook you can experiment with variations on the models as you learn the basic syntax. This notebook is not stand-alone, and is intended to be read along with its companion tutorial in the documentation. \n"
     ]
    },
    {
     "cell_type": "markdown",
     "metadata": {},
     "source": [
      "## Source code for the new `Size` component model"
     ]
    },
    {
     "cell_type": "code",
     "collapsed": false,
     "input": [
      "class Size(object):\n",
      "\n",
      "    def __init__(self):\n",
      "\n",
      "        self._mock_generation_calling_sequence = ['assign_size']\n",
      "        self._galprop_dtypes_to_allocate = np.dtype([('galsize', 'f4')])\n",
      "        self.list_of_haloprops_needed = ['halo_spin']\n",
      "\n",
      "    def assign_size(self, **kwargs):\n",
      "        table = kwargs['table']\n",
      "        table['galsize'][:] = table['halo_spin']/5.\n"
     ],
     "language": "python",
     "metadata": {},
     "outputs": [],
     "prompt_number": 8
    },
    {
     "cell_type": "code",
     "collapsed": false,
     "input": [
      "galaxy_size = Size()\n",
      "from halotools.empirical_models import PrebuiltSubhaloModelFactory, SubhaloModelFactory\n",
      "behroozi10_model = PrebuiltSubhaloModelFactory('behroozi10')\n",
      "new_model = SubhaloModelFactory(baseline_model_instance = behroozi10_model, \n",
      "                            size = galaxy_size)\n"
     ],
     "language": "python",
     "metadata": {},
     "outputs": [],
     "prompt_number": 9
    },
    {
     "cell_type": "markdown",
     "metadata": {},
     "source": [
      "## Populating mocks with a custom-built model"
     ]
    },
    {
     "cell_type": "markdown",
     "metadata": {},
     "source": [
      "Even though your new model contains a new feature that is not part of the Halotools code base, the factory design pattern allows you to generate a mock in the same way as always:"
     ]
    },
    {
     "cell_type": "code",
     "collapsed": false,
     "input": [
      "from halotools.sim_manager import CachedHaloCatalog\n",
      "halocat = CachedHaloCatalog(simname = 'bolshoi')\n",
      "new_model.populate_mock(halocat)"
     ],
     "language": "python",
     "metadata": {},
     "outputs": [],
     "prompt_number": 10
    },
    {
     "cell_type": "markdown",
     "metadata": {},
     "source": [
      "As always, the first mock generation is slow, and calls to the `populate` method of the mock is fast:"
     ]
    },
    {
     "cell_type": "code",
     "collapsed": false,
     "input": [
      "new_model.mock.populate()"
     ],
     "language": "python",
     "metadata": {},
     "outputs": [],
     "prompt_number": 11
    },
    {
     "cell_type": "code",
     "collapsed": false,
     "input": [
      "%timeit new_model.mock.populate()"
     ],
     "language": "python",
     "metadata": {},
     "outputs": [
      {
       "output_type": "stream",
       "stream": "stdout",
       "text": [
        "1 loops, best of 3: 239 ms per loop\n"
       ]
      }
     ],
     "prompt_number": 12
    },
    {
     "cell_type": "markdown",
     "metadata": {},
     "source": [
      "By including the `Size` component model, your mock catalog has a `galsize` attribute:"
     ]
    },
    {
     "cell_type": "code",
     "collapsed": false,
     "input": [
      "print(new_model.mock.galaxy_table.keys())"
     ],
     "language": "python",
     "metadata": {},
     "outputs": [
      {
       "output_type": "stream",
       "stream": "stdout",
       "text": [
        "['halo_upid', 'halo_mpeak', 'halo_spin', 'halo_x', 'halo_y', 'halo_id', 'halo_z', 'halo_vx', 'halo_vy', 'halo_vz', 'halo_rvir', 'halo_mvir', 'halo_hostid', 'halo_mvir_host_halo', 'x', 'y', 'z', 'vx', 'vy', 'vz', 'galid', 'galsize', 'stellar_mass']\n"
       ]
      }
     ],
     "prompt_number": 13
    },
    {
     "cell_type": "code",
     "collapsed": false,
     "input": [
      "print(new_model.mock.galaxy_table['galsize'][-5:])"
     ],
     "language": "python",
     "metadata": {},
     "outputs": [
      {
       "output_type": "stream",
       "stream": "stdout",
       "text": [
        "galsize \n",
        "--------\n",
        "0.015664\n",
        "0.005818\n",
        "0.007052\n",
        "0.003714\n",
        "0.005154\n"
       ]
      }
     ],
     "prompt_number": 14
    },
    {
     "cell_type": "markdown",
     "metadata": {},
     "source": [
      "As an exercise to convince yourself you understand what's going on, try playing around with the `assign_size` function and seeing how it impacts the mock population. "
     ]
    },
    {
     "cell_type": "code",
     "collapsed": false,
     "input": [],
     "language": "python",
     "metadata": {},
     "outputs": [],
     "prompt_number": 14
    },
    {
     "cell_type": "code",
     "collapsed": false,
     "input": [],
     "language": "python",
     "metadata": {},
     "outputs": [],
     "prompt_number": 14
    }
   ],
   "metadata": {}
  }
 ]
}