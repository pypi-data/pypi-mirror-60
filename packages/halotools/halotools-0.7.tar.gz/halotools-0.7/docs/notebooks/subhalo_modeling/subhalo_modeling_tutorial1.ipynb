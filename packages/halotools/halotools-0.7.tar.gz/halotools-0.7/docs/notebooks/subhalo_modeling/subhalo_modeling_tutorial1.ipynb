{
 "metadata": {
  "name": "",
  "signature": "sha256:a8dca88c844e014e13d9cfe6faacd5046e79243a24476ebf13c1c2116ef0436a"
 },
 "nbformat": 3,
 "nbformat_minor": 0,
 "worksheets": [
  {
   "cells": [
    {
     "cell_type": "markdown",
     "metadata": {},
     "source": [
      "# Example 1: Building a simple subhalo-based model\n"
     ]
    },
    {
     "cell_type": "markdown",
     "metadata": {},
     "source": [
      "This notebook is intended to accompany the corresponding page of the Halotools documentation on subhalo-based model building. Although the tutorial on `halotools.readthedocs.io` is in principle comprehensive and stand-alone, there is supplementary material covered here that may provide further clarification. By following along with this notebook you can experiment with variations on the models as you learn the basic syntax. This notebook is not stand-alone, and is intended to be read along with its companion tutorial in the documentation. \n"
     ]
    },
    {
     "cell_type": "markdown",
     "metadata": {},
     "source": [
      "## Source code for the ``behroozi10`` model\n"
     ]
    },
    {
     "cell_type": "code",
     "collapsed": false,
     "input": [
      "from halotools.empirical_models import SubhaloModelFactory\n",
      "\n",
      "from halotools.empirical_models import Behroozi10SmHm\n",
      "sm_model =  Behroozi10SmHm(redshift = 0)\n",
      "\n",
      "model_instance = SubhaloModelFactory(stellar_mass = sm_model)\n"
     ],
     "language": "python",
     "metadata": {},
     "outputs": [],
     "prompt_number": 1
    },
    {
     "cell_type": "markdown",
     "metadata": {},
     "source": [
      "To populate a fake simulation that is generated on-the-fly:"
     ]
    },
    {
     "cell_type": "code",
     "collapsed": false,
     "input": [
      "from halotools.sim_manager import FakeSim\n",
      "fakesim = FakeSim()\n",
      "model_instance.populate_mock(fakesim)"
     ],
     "language": "python",
     "metadata": {},
     "outputs": [],
     "prompt_number": 2
    },
    {
     "cell_type": "markdown",
     "metadata": {},
     "source": [
      "You can use the `model_instance` to populate any Halotools-formatted simulation. In order for you to be able to run the next few cells, you will need to have downloaded the default Halotools catalog. "
     ]
    },
    {
     "cell_type": "code",
     "collapsed": false,
     "input": [
      "from halotools.sim_manager import CachedHaloCatalog\n",
      "halocat = CachedHaloCatalog(simname = 'bolshoi', redshift = 0)\n",
      "model_instance.populate_mock(halocat)"
     ],
     "language": "python",
     "metadata": {},
     "outputs": [],
     "prompt_number": 3
    },
    {
     "cell_type": "markdown",
     "metadata": {},
     "source": [
      "Now that you have called the `populate_mock` method, your `model_instance` has a `mock` attribute containing a `galaxy_table` where your synthetic galaxy population is stored in the form of an Astropy Table object:"
     ]
    },
    {
     "cell_type": "code",
     "collapsed": false,
     "input": [
      "print(model_instance.mock.galaxy_table[0:5])"
     ],
     "language": "python",
     "metadata": {},
     "outputs": [
      {
       "output_type": "stream",
       "stream": "stdout",
       "text": [
        "halo_upid halo_mpeak  halo_x  halo_y ...   vy      vz   galid stellar_mass\n",
        "--------- ---------- ------- ------- ... ------ ------- ----- ------------\n",
        "       -1  4.443e+10 21.4241 12.9027 ... 330.42    80.6     0  2.92611e+08\n",
        "       -1  9.159e+10 21.2689 12.9744 ... 399.15   73.33     1  2.35714e+08\n",
        "       -1  9.909e+10 19.6521 14.0854 ... 216.81  -315.0     2  5.64339e+08\n",
        "       -1  7.469e+10 20.4365 14.4506 ... 285.96 -263.34     3  1.84779e+08\n",
        "       -1  6.024e+10 20.3154 14.4435 ... 429.55 -326.15     4  1.94452e+08\n"
       ]
      }
     ],
     "prompt_number": 4
    },
    {
     "cell_type": "markdown",
     "metadata": {},
     "source": [
      "As we will see later in this tutorial, the above syntax applies to *all* Halotools composite models, no matter what their features are. Once you have built a composite model with one of the factories, you can always use the model to populate *any* Halotools-formatted halo catalog with the same syntax. As you change the features of the composite model, this simply changes what columns will be created for the `galaxy_table` storing the mock. "
     ]
    },
    {
     "cell_type": "heading",
     "level": 2,
     "metadata": {},
     "source": [
      "Speeding up mock generation"
     ]
    },
    {
     "cell_type": "markdown",
     "metadata": {},
     "source": [
      "When you call the `populate_mock` method, there is a large amount of pre-processing that is done before the actual Monte Carlo generation of mock galaxies. The halo catalog is sorted into a convenient order, completeness cuts are (optionally) placed on the catalog, self-consistency tests between simulation data and metadata are performed, columns not needed by the model are thrown out, etc. Once these steps are taken, the stripped-down newly-organized halo catalog is bound to the mock instance. This makes it possible to populate mocks *much* faster than the initial call to `populate_mock` function.\n",
      "\n",
      "In order to take advantage of this pre-processing, rather than calling `model_instance.populate_mock`, you should instead call `model.mock.populate`. Notice how much faster the following call is:"
     ]
    },
    {
     "cell_type": "code",
     "collapsed": false,
     "input": [
      "model_instance.mock.populate()"
     ],
     "language": "python",
     "metadata": {},
     "outputs": [],
     "prompt_number": 5
    },
    {
     "cell_type": "code",
     "collapsed": false,
     "input": [
      "%timeit model_instance.mock.populate()"
     ],
     "language": "python",
     "metadata": {},
     "outputs": [
      {
       "output_type": "stream",
       "stream": "stdout",
       "text": [
        "1 loops, best of 3: 269 ms per loop\n"
       ]
      }
     ],
     "prompt_number": 6
    },
    {
     "cell_type": "heading",
     "level": 2,
     "metadata": {},
     "source": [
      "What determines the properties in the galaxy table?"
     ]
    },
    {
     "cell_type": "markdown",
     "metadata": {},
     "source": [
      "It is important to realize that the name for the \n",
      "``stellar_mass`` column of the ``galaxy_table`` is *not* determined by the \n",
      "string chosen for the keyword argument passed to the `SubhaloModelFactory`. \n",
      "In all cases, the names for the galaxy properties is determined by the \n",
      "component model instances. \n",
      "In this case, the name ``stellar_mass`` was set in the source code \n",
      "for the `Behroozi10SmHm` class via the ``_galprop_dtypes_to_allocate`` mechanism. \n",
      "We will cover this mechanism in detail later on in this tutorial. For now, \n",
      "we'll just provide an explicit demonstration that the keyword passed to the \n",
      "factory is just a nickname used as an internal bookkeeping device, and does not \n",
      "influence the properties of your mock galaxy population. \n"
     ]
    },
    {
     "cell_type": "code",
     "collapsed": false,
     "input": [
      "sm_model =  Behroozi10SmHm(redshift = 0)\n",
      "\n",
      "model_instance = SubhaloModelFactory(mstar = sm_model)\n"
     ],
     "language": "python",
     "metadata": {},
     "outputs": [],
     "prompt_number": 7
    },
    {
     "cell_type": "code",
     "collapsed": false,
     "input": [
      "model_instance.populate_mock(fakesim)"
     ],
     "language": "python",
     "metadata": {},
     "outputs": [],
     "prompt_number": 8
    },
    {
     "cell_type": "code",
     "collapsed": false,
     "input": [
      "print(model_instance.mock.galaxy_table[0:5])"
     ],
     "language": "python",
     "metadata": {},
     "outputs": [
      {
       "output_type": "stream",
       "stream": "stdout",
       "text": [
        "halo_upid   halo_mpeak      halo_x    ...       vz       galid stellar_mass\n",
        "--------- ------------- ------------- ... -------------- ----- ------------\n",
        "       -1 10000000000.0 238.356419525 ...  128.746372256     0  1.99227e+06\n",
        "       -1 10000000000.0 114.297583082 ... -457.454694597     1  5.58222e+06\n",
        "       -1 10000000000.0 169.758190609 ...   332.83620235     2  2.69722e+06\n",
        "       -1 10000000000.0 154.016143562 ...  204.050095347     3  2.33775e+06\n",
        "   101526 10000000000.0 197.266328297 ... -6.90451725995     4  1.69634e+06\n"
       ]
      }
     ],
     "prompt_number": 9
    },
    {
     "cell_type": "code",
     "collapsed": false,
     "input": [],
     "language": "python",
     "metadata": {},
     "outputs": [],
     "prompt_number": 9
    }
   ],
   "metadata": {}
  }
 ]
}