{
 "metadata": {
  "name": "",
  "signature": "sha256:aefc51ea4d2c9c618c2551dee39ab4b1a6ce69f219c85cdb2ad16c6c4fd95598"
 },
 "nbformat": 3,
 "nbformat_minor": 0,
 "worksheets": [
  {
   "cells": [
    {
     "cell_type": "markdown",
     "metadata": {},
     "source": [
      "# Example 2: A subhalo-based model with additional features"
     ]
    },
    {
     "cell_type": "markdown",
     "metadata": {},
     "source": [
      "This notebook is intended to accompany the corresponding page of the Halotools documentation on subhalo-based model building. Although the tutorial on `halotools.readthedocs.io` is in principle comprehensive and stand-alone, there is supplementary material covered here that may provide further clarification. By following along with this notebook you can experiment with variations on the models as you learn the basic syntax. This notebook is not stand-alone, and is intended to be read along with its companion tutorial in the documentation. \n"
     ]
    },
    {
     "cell_type": "markdown",
     "metadata": {},
     "source": [
      "## An aside on the `HaloMassQuenching` component model"
     ]
    },
    {
     "cell_type": "markdown",
     "metadata": {},
     "source": [
      "Before we build the composite model demonstrated in the tutorial, let's play around a bit with the quenching model. You can find more information about this model from the docstring of its class. Here we'll just cover a few basics. \n",
      "\n",
      "As described in the companion tutorial page of the documentation, the way the model works is that you specify what the quiescent fraction is at a set of input control points in halo mass, and the model interpolates between these control points to calculate the quiescent fraction at any mass. These control points are specified when you instantiate the class as the second and third arguments passed to the constructor. The first argument sets the name of the column of the halo table storing the halo mass definition upon which you want to base your model. "
     ]
    },
    {
     "cell_type": "code",
     "collapsed": false,
     "input": [
      "from halotools.empirical_models import HaloMassInterpolQuenching\n",
      "quenching = HaloMassInterpolQuenching('halo_mvir', \n",
      "    [1e12, 1e13, 1e14, 1e15], [0.35, 0.5, 0.6, 0.9])"
     ],
     "language": "python",
     "metadata": {},
     "outputs": [],
     "prompt_number": 1
    },
    {
     "cell_type": "markdown",
     "metadata": {},
     "source": [
      "Unpacking the above arguments, we have built a *component* model in which the quiescent fraction in halos of $M_{\\rm vir} = 10^{12}M_{\\odot}, 10^{13}M_{\\odot}, 10^{14}M_{\\odot}, 10^{15}M_{\\odot} $ is 0.35, 0.5, 0.6  and 0.9, respectively. \n",
      "\n",
      "The `quenching` model is a *component model* and cannot be used to populate mocks:"
     ]
    },
    {
     "cell_type": "code",
     "collapsed": false,
     "input": [
      "from halotools.sim_manager import FakeSim\n",
      "fakesim = FakeSim()\n",
      "\n",
      "quenching.populate_mock(fakesim)"
     ],
     "language": "python",
     "metadata": {},
     "outputs": [
      {
       "ename": "AttributeError",
       "evalue": "'HaloMassInterpolQuenching' object has no attribute 'populate_mock'",
       "output_type": "pyerr",
       "traceback": [
        "\u001b[0;31m---------------------------------------------------------------------------\u001b[0m\n\u001b[0;31mAttributeError\u001b[0m                            Traceback (most recent call last)",
        "\u001b[0;32m<ipython-input-2-5f07fe9e1a2a>\u001b[0m in \u001b[0;36m<module>\u001b[0;34m()\u001b[0m\n\u001b[1;32m      2\u001b[0m \u001b[0mfakesim\u001b[0m \u001b[0;34m=\u001b[0m \u001b[0mFakeSim\u001b[0m\u001b[0;34m(\u001b[0m\u001b[0;34m)\u001b[0m\u001b[0;34m\u001b[0m\u001b[0m\n\u001b[1;32m      3\u001b[0m \u001b[0;34m\u001b[0m\u001b[0m\n\u001b[0;32m----> 4\u001b[0;31m \u001b[0mquenching\u001b[0m\u001b[0;34m.\u001b[0m\u001b[0mpopulate_mock\u001b[0m\u001b[0;34m(\u001b[0m\u001b[0mfakesim\u001b[0m\u001b[0;34m)\u001b[0m\u001b[0;34m\u001b[0m\u001b[0m\n\u001b[0m",
        "\u001b[0;31mAttributeError\u001b[0m: 'HaloMassInterpolQuenching' object has no attribute 'populate_mock'"
       ]
      }
     ],
     "prompt_number": 2
    },
    {
     "cell_type": "markdown",
     "metadata": {},
     "source": [
      "However, you can still use the underlying analytic functions of this model:"
     ]
    },
    {
     "cell_type": "code",
     "collapsed": false,
     "input": [
      "import numpy as np \n",
      "\n",
      "halo_mass = np.logspace(10, 16, 100)\n",
      "fq = quenching.mean_quiescent_fraction(prim_haloprop = halo_mass) "
     ],
     "language": "python",
     "metadata": {},
     "outputs": [],
     "prompt_number": 3
    },
    {
     "cell_type": "code",
     "collapsed": false,
     "input": [
      "from matplotlib import pyplot as plt\n",
      "%matplotlib inline"
     ],
     "language": "python",
     "metadata": {},
     "outputs": [],
     "prompt_number": 4
    },
    {
     "cell_type": "code",
     "collapsed": false,
     "input": [
      "plt.plot(halo_mass, fq, linewidth=2)\n",
      "\n",
      "plt.xscale('log')\n",
      "plt.ylim(ymin = -0.1,ymax = 1.1)\n",
      "plt.xlabel(r'$M_{\\rm vir}$', fontsize=25)\n",
      "plt.ylabel('Quiescent Fraction', fontsize=17)\n",
      "plt.xticks(size=15)\n",
      "plt.yticks(size=15)"
     ],
     "language": "python",
     "metadata": {},
     "outputs": [
      {
       "metadata": {},
       "output_type": "pyout",
       "prompt_number": 5,
       "text": [
        "(array([-0.2,  0. ,  0.2,  0.4,  0.6,  0.8,  1. ,  1.2]),\n",
        " <a list of 8 Text yticklabel objects>)"
       ]
      },
      {
       "metadata": {},
       "output_type": "display_data",
       "png": "[encoded data removed]",
       "text": [
        "<matplotlib.figure.Figure at 0x11283af50>"
       ]
      }
     ],
     "prompt_number": 5
    },
    {
     "cell_type": "markdown",
     "metadata": {},
     "source": [
      "The behavior of the quiescent fraction plotted above is determined by the control values you passed to the constructor. However, you can always change the behavior of this function by changing the values of the `quiescent_ordinates` parameters stored in `param_dict`:"
     ]
    },
    {
     "cell_type": "code",
     "collapsed": false,
     "input": [
      "print(quenching.param_dict)"
     ],
     "language": "python",
     "metadata": {},
     "outputs": [
      {
       "output_type": "stream",
       "stream": "stdout",
       "text": [
        "{'quiescent_ordinates_param1': 0.34999999999999998, 'quiescent_ordinates_param3': 0.59999999999999998, 'quiescent_ordinates_param2': 0.5, 'quiescent_ordinates_param4': 0.90000000000000002}\n"
       ]
      }
     ],
     "prompt_number": 6
    },
    {
     "cell_type": "code",
     "collapsed": false,
     "input": [
      "plt.plot(halo_mass, quenching.mean_quiescent_fraction(prim_haloprop=halo_mass), \n",
      "         color='blue', linewidth=2)\n",
      "\n",
      "quenching.param_dict['quiescent_ordinates_param1'] = 0.5\n",
      "quenching.param_dict['quiescent_ordinates_param2'] = 0.6\n",
      "quenching.param_dict['quiescent_ordinates_param3'] = 0.7\n",
      "quenching.param_dict['quiescent_ordinates_param4'] = 0.75\n",
      "\n",
      "plt.plot(halo_mass, quenching.mean_quiescent_fraction(prim_haloprop=halo_mass), \n",
      "         color='red', linewidth=2)\n",
      "\n",
      "plt.xscale('log')\n",
      "plt.ylim(ymin = -0.1,ymax = 1.1)\n",
      "plt.xlabel(r'$M_{\\rm vir}$', fontsize=25)\n",
      "plt.ylabel('Quiescent Fraction', fontsize=17)\n",
      "plt.xticks(size=15)\n",
      "plt.yticks(size=15)"
     ],
     "language": "python",
     "metadata": {},
     "outputs": [
      {
       "metadata": {},
       "output_type": "pyout",
       "prompt_number": 7,
       "text": [
        "(array([-0.2,  0. ,  0.2,  0.4,  0.6,  0.8,  1. ,  1.2]),\n",
        " <a list of 8 Text yticklabel objects>)"
       ]
      },
      {
       "metadata": {},
       "output_type": "display_data",
       "png": "[encoded data removed]",
       "text": [
        "<matplotlib.figure.Figure at 0x112c2a850>"
       ]
      }
     ],
     "prompt_number": 7
    },
    {
     "cell_type": "markdown",
     "metadata": {},
     "source": [
      "When you use `quenching` as a component of a composite model, on average, the galaxies in your composite will have quiescent/star-forming designations determined by whatever values are stored in `param_dict` at the time the mock is generated. "
     ]
    },
    {
     "cell_type": "markdown",
     "metadata": {},
     "source": [
      "## Source code for a subhalo-based model with a new feature \n"
     ]
    },
    {
     "cell_type": "markdown",
     "metadata": {},
     "source": [
      "Now back to following the tutorial page on RTD. Let's use the `HaloMassInterpolQuenching` as a component in a composite model. "
     ]
    },
    {
     "cell_type": "code",
     "collapsed": false,
     "input": [
      "from halotools.empirical_models import SubhaloModelFactory\n",
      "\n",
      "from halotools.empirical_models import Behroozi10SmHm\n",
      "sm_model =  Behroozi10SmHm(redshift = 0)\n",
      "\n",
      "from halotools.empirical_models import HaloMassInterpolQuenching\n",
      "quenching = HaloMassInterpolQuenching('halo_mvir_host_halo', \n",
      "    [1e12, 1e13, 1e14, 1e15], [0.35, 0.5, 0.6, 0.9])\n",
      "\n",
      "behroozi10_with_quenching = SubhaloModelFactory(stellar_mass = sm_model, \n",
      "                                     sfr = quenching)\n"
     ],
     "language": "python",
     "metadata": {},
     "outputs": [],
     "prompt_number": 8
    },
    {
     "cell_type": "markdown",
     "metadata": {},
     "source": [
      "## Populating a mock with the composite model"
     ]
    },
    {
     "cell_type": "markdown",
     "metadata": {},
     "source": [
      "Just like any composite model, `behroozi10_with_quenching` can be used to populate mocks:"
     ]
    },
    {
     "cell_type": "code",
     "collapsed": false,
     "input": [
      "from halotools.sim_manager import CachedHaloCatalog\n",
      "halocat = CachedHaloCatalog(simname = 'bolshoi')\n",
      "\n",
      "behroozi10_with_quenching.populate_mock(halocat)"
     ],
     "language": "python",
     "metadata": {},
     "outputs": [],
     "prompt_number": 9
    },
    {
     "cell_type": "code",
     "collapsed": false,
     "input": [
      "print(behroozi10_with_quenching.mock.galaxy_table[0:5])"
     ],
     "language": "python",
     "metadata": {},
     "outputs": [
      {
       "output_type": "stream",
       "stream": "stdout",
       "text": [
        "halo_upid halo_mpeak  halo_x  halo_y ...    vz   galid quiescent stellar_mass\n",
        "--------- ---------- ------- ------- ... ------- ----- --------- ------------\n",
        "       -1  4.443e+10 21.4241 12.9027 ...    80.6     0     False  3.61906e+07\n",
        "       -1  9.159e+10 21.2689 12.9744 ...   73.33     1     False  2.06457e+08\n",
        "       -1  9.909e+10 19.6521 14.0854 ...  -315.0     2     False  1.00783e+09\n",
        "       -1  7.469e+10 20.4365 14.4506 ... -263.34     3     False  4.09557e+08\n",
        "       -1  6.024e+10 20.3154 14.4435 ... -326.15     4     False    1.247e+08\n"
       ]
      }
     ],
     "prompt_number": 10
    },
    {
     "cell_type": "markdown",
     "metadata": {},
     "source": [
      "Note that our model has a column for star-formation designation:"
     ]
    },
    {
     "cell_type": "code",
     "collapsed": false,
     "input": [
      "print(behroozi10_with_quenching.mock.galaxy_table.keys())"
     ],
     "language": "python",
     "metadata": {},
     "outputs": [
      {
       "output_type": "stream",
       "stream": "stdout",
       "text": [
        "['halo_upid', 'halo_mpeak', 'halo_x', 'halo_y', 'halo_id', 'halo_z', 'halo_vx', 'halo_vy', 'halo_vz', 'halo_mvir_host_halo', 'halo_rvir', 'halo_mvir', 'halo_hostid', 'x', 'y', 'z', 'vx', 'vy', 'vz', 'galid', 'quiescent', 'stellar_mass']\n"
       ]
      }
     ],
     "prompt_number": 11
    },
    {
     "cell_type": "code",
     "collapsed": false,
     "input": [
      "print(behroozi10_with_quenching.mock.galaxy_table['quiescent'][0:5])"
     ],
     "language": "python",
     "metadata": {},
     "outputs": [
      {
       "output_type": "stream",
       "stream": "stdout",
       "text": [
        "quiescent\n",
        "---------\n",
        "    False\n",
        "    False\n",
        "    False\n",
        "    False\n",
        "    False\n"
       ]
      }
     ],
     "prompt_number": 12
    },
    {
     "cell_type": "markdown",
     "metadata": {},
     "source": [
      "## Inspecting the mock "
     ]
    },
    {
     "cell_type": "markdown",
     "metadata": {},
     "source": [
      "By selecting satellies in a specific mass range, we can verify that our mock satellites are indeed statistical realizations of the underlying analytical functions. "
     ]
    },
    {
     "cell_type": "code",
     "collapsed": false,
     "input": [
      "gals = behroozi10_with_quenching.mock.galaxy_table\n",
      "mvir_mask = (gals['halo_mvir_host_halo'] > 9e13) & (gals['halo_mvir_host_halo'] < 1.5e14)\n",
      "gals_in_1e14_halos = gals[mvir_mask]"
     ],
     "language": "python",
     "metadata": {},
     "outputs": [],
     "prompt_number": 13
    },
    {
     "cell_type": "code",
     "collapsed": false,
     "input": [
      "print(np.mean(gals_in_1e14_halos['quiescent']))\n",
      "print(behroozi10_with_quenching.mean_quiescent_fraction(prim_haloprop = 1e14))"
     ],
     "language": "python",
     "metadata": {},
     "outputs": [
      {
       "output_type": "stream",
       "stream": "stdout",
       "text": [
        "0.619126043039\n",
        "0.6\n"
       ]
      }
     ],
     "prompt_number": 14
    },
    {
     "cell_type": "markdown",
     "metadata": {},
     "source": [
      "## Changing mock universes by changing model parameters"
     ]
    },
    {
     "cell_type": "markdown",
     "metadata": {},
     "source": [
      "In the plot above, you saw how changing `param_dict` resulted in different behavior for the analytical functions bound to the composite model. This behavior also propagates into the `populate` method bound to the mock. To see this, we'll modify the control value responsible for setting the quiescent fraction of satellites in $M_{\\rm vir} = 10^{14}M_{\\odot}$ halos. "
     ]
    },
    {
     "cell_type": "code",
     "collapsed": false,
     "input": [
      "behroozi10_with_quenching.param_dict['quiescent_ordinates_param3'] = 0.7"
     ],
     "language": "python",
     "metadata": {},
     "outputs": [],
     "prompt_number": 15
    },
    {
     "cell_type": "code",
     "collapsed": false,
     "input": [
      "behroozi10_with_quenching.mock.populate()"
     ],
     "language": "python",
     "metadata": {},
     "outputs": [],
     "prompt_number": 17
    },
    {
     "cell_type": "markdown",
     "metadata": {},
     "source": [
      "Now we'll again build a mask to inspect our new satellite population in these halos, just like above:"
     ]
    },
    {
     "cell_type": "code",
     "collapsed": false,
     "input": [
      "gals = behroozi10_with_quenching.mock.galaxy_table\n",
      "mvir_mask = (gals['halo_mvir_host_halo'] > 9e13) & (gals['halo_mvir_host_halo'] < 1.5e14)\n",
      "gals_in_1e14_halos = gals[mvir_mask]"
     ],
     "language": "python",
     "metadata": {},
     "outputs": [],
     "prompt_number": 18
    },
    {
     "cell_type": "code",
     "collapsed": false,
     "input": [
      "print(np.mean(gals_in_1e14_halos['quiescent']))\n",
      "print(behroozi10_with_quenching.mean_quiescent_fraction(prim_haloprop = 1e14))"
     ],
     "language": "python",
     "metadata": {},
     "outputs": [
      {
       "output_type": "stream",
       "stream": "stdout",
       "text": [
        "0.710693895477\n",
        "0.7\n"
       ]
      }
     ],
     "prompt_number": 19
    },
    {
     "cell_type": "code",
     "collapsed": false,
     "input": [],
     "language": "python",
     "metadata": {},
     "outputs": []
    }
   ],
   "metadata": {}
  }
 ]
}