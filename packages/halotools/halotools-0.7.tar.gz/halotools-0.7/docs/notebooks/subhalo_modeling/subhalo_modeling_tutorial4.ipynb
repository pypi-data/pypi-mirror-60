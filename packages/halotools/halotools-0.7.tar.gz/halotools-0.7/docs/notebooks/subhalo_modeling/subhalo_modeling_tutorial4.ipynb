{
 "metadata": {
  "name": "",
  "signature": "sha256:81ec74669900bce3e2f35eb5a9891fc41e8fd6bcfbe4730148491922c77a23d2"
 },
 "nbformat": 3,
 "nbformat_minor": 0,
 "worksheets": [
  {
   "cells": [
    {
     "cell_type": "markdown",
     "metadata": {},
     "source": [
      "# Example 4: A more complex subhalo-based component model \n"
     ]
    },
    {
     "cell_type": "markdown",
     "metadata": {},
     "source": [
      "This notebook is intended to accompany the corresponding page of the Halotools documentation on subhalo-based model building. Although the tutorial on `halotools.readthedocs.io` is in principle comprehensive and stand-alone, there is supplementary material covered here that may provide further clarification. By following along with this notebook you can experiment with variations on the models as you learn the basic syntax. This notebook is not stand-alone, and is intended to be read along with its companion tutorial in the documentation. \n"
     ]
    },
    {
     "cell_type": "markdown",
     "metadata": {},
     "source": [
      "## Source code for the new component models"
     ]
    },
    {
     "cell_type": "code",
     "collapsed": false,
     "input": [
      "class Shape(object):\n",
      "\n",
      "    def __init__(self, prim_haloprop_key):\n",
      "\n",
      "        self._mock_generation_calling_sequence = (\n",
      "            ['assign_disrupted', 'assign_axis_ratio'])\n",
      "        self._galprop_dtypes_to_allocate = np.dtype(\n",
      "            [('axis_ratio', 'f4'), ('disrupted', bool)])\n",
      "        self.list_of_haloprops_needed = ['halo_spin', 'halo_upid']\n",
      "\n",
      "        self.prim_haloprop_key = prim_haloprop_key\n",
      "        self._methods_to_inherit = (\n",
      "            ['assign_disrupted', 'assign_axis_ratio', \n",
      "            'disrupted_fraction_vs_halo_mass_centrals', \n",
      "            'disrupted_fraction_vs_halo_mass_satellites'])\n",
      "        self.param_dict = ({\n",
      "            'max_disruption_mass': 1e13, \n",
      "            'disrupted_fraction_centrals': 0.25, \n",
      "            'disrupted_fraction_satellites': 0.35\n",
      "                    })\n",
      "\n",
      "    def assign_disrupted(self, **kwargs):\n",
      "        \n",
      "        table = kwargs['table']\n",
      "        upid = table['halo_upid']\n",
      "        halo_mass = table['halo_mvir']\n",
      "\n",
      "        disrupted_fraction = np.empty_like(halo_mass)\n",
      "        central_mask = upid == -1\n",
      "        disrupted_fraction[central_mask] = (\n",
      "            self.disrupted_fraction_vs_halo_mass_centrals(halo_mass[central_mask]))\n",
      "        disrupted_fraction[~central_mask] = (\n",
      "            self.disrupted_fraction_vs_halo_mass_satellites(halo_mass[~central_mask]))\n",
      "        \n",
      "        randomizer = np.random.uniform(0, 1, len(halo_mass))\n",
      "        is_disrupted = randomizer < disrupted_fraction\n",
      "\n",
      "        if 'table' in kwargs.keys():\n",
      "            table['disrupted'][:] = is_disrupted\n",
      "        else:\n",
      "            return is_disrupted\n",
      "\n",
      "    def assign_axis_ratio(self, **kwargs):\n",
      "        \n",
      "        table = kwargs['table']\n",
      "        mask = table['disrupted'] == True\n",
      "        num_disrupted = len(table['disrupted'][mask])\n",
      "        table['axis_ratio'][mask] = np.random.random(num_disrupted)\n",
      "        table['axis_ratio'][~mask] = 0.3\n",
      "\n",
      "    def disrupted_fraction_vs_halo_mass_centrals(self, mass):\n",
      "        \n",
      "        bool_mask = mass > self.param_dict['max_disruption_mass']\n",
      "        val = self.param_dict['disrupted_fraction_centrals']\n",
      "        return np.where(bool_mask == True, 0, val)\n",
      "\n",
      "    def disrupted_fraction_vs_halo_mass_satellites(self, mass):\n",
      "        \n",
      "        bool_mask = mass > self.param_dict['max_disruption_mass']\n",
      "        val = self.param_dict['disrupted_fraction_satellites']\n",
      "        return np.where(bool_mask == True, 0, val)\n"
     ],
     "language": "python",
     "metadata": {},
     "outputs": [],
     "prompt_number": 1
    },
    {
     "cell_type": "code",
     "collapsed": false,
     "input": [
      "galaxy_shape = Shape('halo_mvir')\n",
      "from halotools.empirical_models import PrebuiltSubhaloModelFactory, SubhaloModelFactory\n",
      "behroozi_model = PrebuiltSubhaloModelFactory('behroozi10')\n",
      "new_model = SubhaloModelFactory(baseline_model_instance = behroozi_model, \n",
      "    shape = galaxy_shape)\n",
      "\n"
     ],
     "language": "python",
     "metadata": {},
     "outputs": [],
     "prompt_number": 2
    },
    {
     "cell_type": "code",
     "collapsed": false,
     "input": [
      "from halotools.sim_manager import CachedHaloCatalog\n",
      "halocat = CachedHaloCatalog(simname = 'bolshoi')\n",
      "\n",
      "new_model.populate_mock(halocat)"
     ],
     "language": "python",
     "metadata": {},
     "outputs": [],
     "prompt_number": 3
    },
    {
     "cell_type": "code",
     "collapsed": false,
     "input": [
      "print(new_model.mock.galaxy_table.keys())"
     ],
     "language": "python",
     "metadata": {},
     "outputs": [
      {
       "output_type": "stream",
       "stream": "stdout",
       "text": [
        "['halo_upid', 'halo_mpeak', 'halo_spin', 'halo_x', 'halo_y', 'halo_id', 'halo_z', 'halo_vx', 'halo_vy', 'halo_vz', 'halo_rvir', 'halo_mvir', 'halo_hostid', 'halo_mvir_host_halo', 'x', 'y', 'z', 'vx', 'vy', 'vz', 'galid', 'axis_ratio', 'stellar_mass', 'disrupted']\n"
       ]
      }
     ],
     "prompt_number": 4
    },
    {
     "cell_type": "code",
     "collapsed": false,
     "input": [
      "print(new_model.mock.galaxy_table[0:5])"
     ],
     "language": "python",
     "metadata": {},
     "outputs": [
      {
       "output_type": "stream",
       "stream": "stdout",
       "text": [
        "halo_upid halo_mpeak halo_spin  halo_x ... axis_ratio stellar_mass disrupted\n",
        "--------- ---------- --------- ------- ... ---------- ------------ ---------\n",
        "       -1  4.443e+10   0.02996 21.4241 ...        0.3  1.16006e+08     False\n",
        "       -1  9.159e+10     0.033 21.2689 ...        0.3  3.16083e+08     False\n",
        "       -1  9.909e+10   0.04902 19.6521 ...        0.3    6.547e+08     False\n",
        "       -1  7.469e+10   0.02483 20.4365 ...   0.669791  2.46145e+08      True\n",
        "       -1  6.024e+10   0.04873 20.3154 ...        0.3  2.21631e+08     False\n"
       ]
      }
     ],
     "prompt_number": 5
    },
    {
     "cell_type": "markdown",
     "metadata": {},
     "source": [
      "## Illustrating the `_methods_to_inherit` feature"
     ]
    },
    {
     "cell_type": "markdown",
     "metadata": {},
     "source": [
      "Because our component model declared additional `_methods_to_inherit`, our composite model has access to the underlying analytical functions in this list.  "
     ]
    },
    {
     "cell_type": "code",
     "collapsed": false,
     "input": [
      "import numpy as np \n",
      "from seaborn import plt\n",
      "%matplotlib inline \n",
      "\n",
      "halo_mass = np.logspace(10, 16, 1000)\n",
      "plt.plot(halo_mass, new_model.disrupted_fraction_vs_halo_mass_centrals(halo_mass), \n",
      "         color='blue', label = 'default param_dict settings')\n",
      "\n",
      "new_model.param_dict['disrupted_fraction_centrals'] = 0.5\n",
      "new_model.param_dict['max_disruption_mass'] = 5e13\n",
      "\n",
      "plt.plot(halo_mass, new_model.disrupted_fraction_vs_halo_mass_centrals(halo_mass), \n",
      "         color='red', label = 'modified param_dict model')\n",
      "\n",
      "plt.xscale('log')\n",
      "plt.ylim(ymin = -0.1, ymax=1)\n",
      "plt.xlabel(r'$M_{\\rm vir}$  $[M_{\\odot}]$', fontsize=25)\n",
      "plt.ylabel('Disrupted Fraction', fontsize=20)\n",
      "plt.xticks(size=20)\n",
      "plt.yticks(size=14)\n",
      "\n",
      "plt.legend(frameon=False, fontsize=17, loc='best')"
     ],
     "language": "python",
     "metadata": {},
     "outputs": [
      {
       "metadata": {},
       "output_type": "pyout",
       "prompt_number": 6,
       "text": [
        "<matplotlib.legend.Legend at 0x13bb7cad0>"
       ]
      },
      {
       "metadata": {},
       "output_type": "display_data",
       "png": "[encoded data removed]",
       "text": [
        "<matplotlib.figure.Figure at 0x1127ba710>"
       ]
      }
     ],
     "prompt_number": 6
    },
    {
     "cell_type": "markdown",
     "metadata": {},
     "source": [
      "If you did not include `disrupted_fraction_vs_halo_mass_centrals` in your `_methods_to_inherit` list, your mock would populate without any problems, but this function would not appear in your composite model methods. Try it and see. "
     ]
    },
    {
     "cell_type": "markdown",
     "metadata": {},
     "source": [
      "## Inspecting our mock"
     ]
    },
    {
     "cell_type": "markdown",
     "metadata": {},
     "source": [
      "Let's see that the behavior of the underlying analytical functions is reflected by the properties of the galaxies in our Monte Carlo realization. "
     ]
    },
    {
     "cell_type": "code",
     "collapsed": false,
     "input": [
      "new_model.populate_mock(halocat)"
     ],
     "language": "python",
     "metadata": {},
     "outputs": [],
     "prompt_number": 7
    },
    {
     "cell_type": "code",
     "collapsed": false,
     "input": [
      "cenmask = new_model.mock.galaxy_table['halo_upid'] == -1\n",
      "cens = new_model.mock.galaxy_table[cenmask]\n",
      "cens_disrupted_mask = cens['disrupted'] == True\n",
      "disrupted_cens = cens[cens_disrupted_mask]\n",
      "\n",
      "print(new_model.param_dict['max_disruption_mass'])\n",
      "print(disrupted_cens['halo_mvir'].max())"
     ],
     "language": "python",
     "metadata": {},
     "outputs": [
      {
       "output_type": "stream",
       "stream": "stdout",
       "text": [
        "5e+13\n",
        "4.998e+13\n"
       ]
      }
     ],
     "prompt_number": 8
    },
    {
     "cell_type": "code",
     "collapsed": false,
     "input": [
      "sats = new_model.mock.galaxy_table[~cenmask]\n",
      "sats_disrupted_mask = sats['disrupted'] == True\n",
      "disrupted_sats = sats[sats_disrupted_mask]\n",
      "\n",
      "print(new_model.param_dict['max_disruption_mass'])\n",
      "\n",
      "print(disrupted_sats['halo_mvir'].max())"
     ],
     "language": "python",
     "metadata": {},
     "outputs": [
      {
       "output_type": "stream",
       "stream": "stdout",
       "text": [
        "5e+13\n",
        "4.939e+13\n"
       ]
      }
     ],
     "prompt_number": 9
    },
    {
     "cell_type": "markdown",
     "metadata": {},
     "source": [
      "In our model, all non-disrupted galaxies should have an *axis_ratio* of 0.3. Let's check that this property holds true in our mock universe. "
     ]
    },
    {
     "cell_type": "code",
     "collapsed": false,
     "input": [
      "disrupted_mask = new_model.mock.galaxy_table['disrupted'] == False\n",
      "disrupted_gals = new_model.mock.galaxy_table[disrupted_mask]\n",
      "\n",
      "print(set(disrupted_gals['axis_ratio']))"
     ],
     "language": "python",
     "metadata": {},
     "outputs": [
      {
       "output_type": "stream",
       "stream": "stdout",
       "text": [
        "set([0.30000001])\n"
       ]
      }
     ],
     "prompt_number": 10
    },
    {
     "cell_type": "code",
     "collapsed": false,
     "input": [],
     "language": "python",
     "metadata": {},
     "outputs": [],
     "prompt_number": 10
    }
   ],
   "metadata": {}
  }
 ]
}