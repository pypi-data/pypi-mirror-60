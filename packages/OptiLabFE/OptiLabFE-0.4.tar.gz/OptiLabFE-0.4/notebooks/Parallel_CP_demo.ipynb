{
 "cells": [
  {
   "cell_type": "code",
   "execution_count": 1,
   "metadata": {},
   "outputs": [
    {
     "name": "stdout",
     "output_type": "stream",
     "text": [
      "Verifying keys...\n",
      "Verified\n"
     ]
    }
   ],
   "source": [
    "from optilab import *\n",
    "\n",
    "# Create new optimizer\n",
    "o = Optimizer()\n",
    "\n",
    "# Open a new session and connect to specified server\n",
    "o.session(email='s@d.com', secret='12312kl3nk12b3n1b3', addr='127.0.0.1', port=8080)\n",
    "\n",
    "# Create an instance of a remote optimizer with 2 parallel workers\n",
    "opt_id = o.get_optimizer(num_workers=2)"
   ]
  },
  {
   "cell_type": "code",
   "execution_count": 2,
   "metadata": {},
   "outputs": [],
   "source": [
    "# Create a Constraint Programming (CP) instance\n",
    "cp_demo = CP('cp_demo')\n",
    "\n",
    "# Load the instance from file (or write it from CLI)\n",
    "cp_demo.load_from_json('../data/cp_model.json')\n",
    "\n",
    "# Load the instance into the optimizer\n",
    "o.add_modules(cp_demo)\n",
    "\n",
    "# Solve the model\n",
    "res = o.solve()"
   ]
  },
  {
   "cell_type": "code",
   "execution_count": 3,
   "metadata": {},
   "outputs": [],
   "source": [
    "# Cleanup remote optimizer\n",
    "o.cleanup(opt_id)"
   ]
  },
  {
   "cell_type": "code",
   "execution_count": 4,
   "metadata": {},
   "outputs": [
    {
     "name": "stdout",
     "output_type": "stream",
     "text": [
      "Model: simple_model\n",
      "Number of solutions: 1\n",
      "Status: satisfied\n",
      "Variables: \n",
      "x: [0]\n",
      "y: [1]\n"
     ]
    }
   ],
   "source": [
    "# Load the results into the CP model\n",
    "cp_demo.load_result(res)"
   ]
  }
 ],
 "metadata": {
  "kernelspec": {
   "display_name": "Python 3",
   "language": "python",
   "name": "python3"
  },
  "language_info": {
   "codemirror_mode": {
    "name": "ipython",
    "version": 3
   },
   "file_extension": ".py",
   "mimetype": "text/x-python",
   "name": "python",
   "nbconvert_exporter": "python",
   "pygments_lexer": "ipython3",
   "version": "3.7.5"
  }
 },
 "nbformat": 4,
 "nbformat_minor": 4
}
