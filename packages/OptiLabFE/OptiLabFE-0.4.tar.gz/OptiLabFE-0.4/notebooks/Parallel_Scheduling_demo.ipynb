{
 "cells": [
  {
   "cell_type": "code",
   "execution_count": 1,
   "metadata": {},
   "outputs": [
    {
     "name": "stdout",
     "output_type": "stream",
     "text": [
      "Verifying keys...\n",
      "Verified\n"
     ]
    }
   ],
   "source": [
    "from optilab import *\n",
    "\n",
    "# Create new optimizer\n",
    "o = Optimizer()\n",
    "\n",
    "# Open a new session and connect to specified server\n",
    "o.session(email='s@d.com', secret='12312kl3nk12b3n1b3', addr='127.0.0.1', port=8080)\n",
    "\n",
    "# Create an instance of a remo|te optimizer with 2 parallel workers\n",
    "opt_id = o.get_optimizer(num_workers=2)"
   ]
  },
  {
   "cell_type": "code",
   "execution_count": 2,
   "metadata": {},
   "outputs": [],
   "source": [
    "# Create a Scheduling Algorithm instance\n",
    "scheduling_demo = Scheduling('scheduling_demo')\n",
    "\n",
    "# Define the problem instance\n",
    "scheduling_demo.add_schedule(num_days = 7, num_shifts = 3)\n",
    "scheduling_demo.add_personnel({\"name\" : \"Jacob\",\n",
    "                               \"shift_requests\" : [3, None, None, None, 3, 2, 3]},\n",
    "                              {\"name\" : \"Sabrina\",\n",
    "                               \"shift_requests\" : [None, None, 2, 2, 1, None, 3]},\n",
    "                              {\"name\" : \"Raquel\",\n",
    "                               \"shift_requests\" : [2, 2, None, 1, None, 2, None]},\n",
    "                              {\"name\" : \"Shen\",\n",
    "                               \"shift_requests\" : [3, None, 1, 2, None, 1, None]},\n",
    "                              {\"name\" : \"Brandon\",\n",
    "                               \"shift_requests\" : [None, 3, 2, None, 1, 2, None]})\n",
    "\n",
    "# Load the instance into the optimizer\n",
    "# o.add_modules(scheduling_demo)\n",
    "\n",
    "# Solve the model\n",
    "# res = o.solve()"
   ]
  },
  {
   "cell_type": "code",
   "execution_count": 3,
   "metadata": {},
   "outputs": [],
   "source": [
    "# Cleanup remote optimizer\n",
    "o.cleanup(opt_id)"
   ]
  },
  {
   "cell_type": "code",
   "execution_count": 4,
   "metadata": {},
   "outputs": [
    {
     "data": {
      "application/vnd.jupyter.widget-view+json": {
       "model_id": "47f3e9cbbd6c4522bc21f9ec1c50f4bc",
       "version_major": 2,
       "version_minor": 0
      },
      "text/plain": [
       "Sheet(cells=(Cell(column_end=0, column_start=0, row_end=0, row_start=0, type='text', value='Sabrina'), Cell(co…"
      ]
     },
     "metadata": {},
     "output_type": "display_data"
    }
   ],
   "source": [
    "# Load the results into the Routing model and visualize\n",
    "scheduling_demo.vis_results(example_response)"
   ]
  }
 ],
 "metadata": {
  "kernelspec": {
   "display_name": "Python [conda env:optilabtech-python-sdk] *",
   "language": "python",
   "name": "conda-env-optilabtech-python-sdk-py"
  },
  "language_info": {
   "codemirror_mode": {
    "name": "ipython",
    "version": 3
   },
   "file_extension": ".py",
   "mimetype": "text/x-python",
   "name": "python",
   "nbconvert_exporter": "python",
   "pygments_lexer": "ipython3",
   "version": "3.7.5"
  }
 },
 "nbformat": 4,
 "nbformat_minor": 4
}
