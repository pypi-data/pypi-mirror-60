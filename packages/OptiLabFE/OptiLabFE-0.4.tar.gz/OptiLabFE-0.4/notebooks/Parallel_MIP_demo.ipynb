{
 "cells": [
  {
   "cell_type": "code",
   "execution_count": 1,
   "metadata": {},
   "outputs": [
    {
     "name": "stdout",
     "output_type": "stream",
     "text": [
      "Verifying keys...\n",
      "Verified\n"
     ]
    }
   ],
   "source": [
    "from optilab import *\n",
    "\n",
    "# Create new optimizer\n",
    "o = Optimizer()\n",
    "\n",
    "# Open a new session and connect to specified server\n",
    "o.session(email='s@d.com', secret='12312kl3nk12b3n1b3', addr='127.0.0.1', port=8080)\n",
    "\n",
    "# Create an instance of a remote optimizer with 2 parallel workers\n",
    "opt_id = o.get_optimizer(num_workers=2)"
   ]
  },
  {
   "cell_type": "code",
   "execution_count": 2,
   "metadata": {},
   "outputs": [],
   "source": [
    "# Create a Constraint Programming (CP) instance\n",
    "mip_demo = MIP('mip_demo')\n",
    "\n",
    "# Load the instance from file (or write it from CLI)\n",
    "mip_demo.load_from_json('../data/mip_mps_model_1.json')\n",
    "\n",
    "# Load the instance into the optimizer\n",
    "o.add_modules(mip_demo)\n",
    "\n",
    "# Solve the model\n",
    "res = o.solve()"
   ]
  },
  {
   "cell_type": "code",
   "execution_count": 3,
   "metadata": {},
   "outputs": [],
   "source": [
    "# Cleanup remote optimizer\n",
    "o.cleanup(opt_id)"
   ]
  },
  {
   "cell_type": "code",
   "execution_count": 4,
   "metadata": {},
   "outputs": [
    {
     "name": "stdout",
     "output_type": "stream",
     "text": [
      "Model: mip_model_1\n",
      "Status: optimum\n",
      "Objective: 8966406.491519999\n",
      "Variables: \n",
      "a1: [8318.0]\n",
      "a10: [17.999999999999943]\n",
      "a11: [7.999999999999952]\n",
      "a12: [15.999999999999904]\n",
      "a13: [4334.0]\n",
      "a14: [334.0000000000001]\n",
      "a15: [700.0]\n",
      "a16: [24.0]\n",
      "a2: [7494.0]\n",
      "a3: [59.99999999999995]\n",
      "a4: [9.999999999999941]\n",
      "a5: [0.0]\n",
      "a6: [0.0]\n",
      "a7: [0.0]\n",
      "a8: [4800.0]\n",
      "a9: [0.0]\n",
      "b1: [792.0]\n",
      "b10: [1632.0]\n",
      "b11: [1392.0]\n",
      "b12: [984.0]\n",
      "b13: [456.0]\n",
      "b14: [456.0]\n",
      "b15: [0.0]\n",
      "b16: [0.0]\n",
      "b2: [792.0]\n",
      "b3: [336.00000000000006]\n",
      "b4: [336.00000000000006]\n",
      "b5: [0.0]\n",
      "b6: [40.0]\n",
      "b7: [166.0000000000032]\n",
      "b8: [3000.0]\n",
      "b9: [3000.0]\n",
      "c1: [1.0]\n",
      "c10: [0.0]\n",
      "c11: [0.0]\n",
      "c12: [0.0]\n",
      "c13: [0.0]\n",
      "c14: [0.0]\n",
      "c15: [0.0]\n",
      "c16: [0.0]\n",
      "c2: [1.0]\n",
      "c3: [1.0]\n",
      "c4: [1.0]\n",
      "c5: [1.0]\n",
      "c6: [0.0]\n",
      "c7: [1.0]\n",
      "c8: [0.0]\n",
      "c9: [0.0]\n",
      "d1: [0.0]\n",
      "d10: [0.0]\n",
      "d11: [0.0]\n",
      "d12: [0.0]\n",
      "d13: [0.0]\n",
      "d14: [0.0]\n",
      "d16: [0.0]\n",
      "d2: [0.0]\n",
      "d3: [0.0]\n",
      "d4: [0.0]\n",
      "d5: [0.0]\n",
      "d6: [0.0]\n",
      "d7: [0.0]\n",
      "d9: [0.0]\n",
      "f1: [0.0]\n",
      "f10: [240.0]\n",
      "f11: [408.0]\n",
      "f12: [984.0]\n",
      "f13: [0.0]\n",
      "f14: [455.99999999999994]\n",
      "f16: [0.0]\n",
      "f2: [0.0]\n",
      "f3: [0.0]\n",
      "f4: [48.0]\n",
      "f5: [900.0]\n",
      "f6: [40.0]\n",
      "f7: [11950.000000000002]\n",
      "f9: [3000.0]\n",
      "g1: [0.0]\n",
      "g10: [10.0]\n",
      "g11: [17.0]\n",
      "g12: [41.0]\n",
      "g13: [0.0]\n",
      "g14: [19.0]\n",
      "g16: [0.0]\n",
      "g2: [0.0]\n",
      "g3: [0.0]\n",
      "g4: [2.0]\n",
      "g5: [38.0]\n",
      "g6: [2.0]\n",
      "g7: [498.0]\n",
      "g9: [125.0]\n",
      "h1: [0.0]\n",
      "h10: [0.0]\n",
      "h11: [0.0]\n",
      "h12: [0.0]\n",
      "h13: [0.0]\n",
      "h14: [0.0]\n",
      "h16: [0.0]\n",
      "h2: [0.0]\n",
      "h3: [0.0]\n",
      "h4: [1.0]\n",
      "h5: [1.0]\n",
      "h6: [0.0]\n",
      "h7: [11.0]\n",
      "h9: [0.0]\n"
     ]
    }
   ],
   "source": [
    "# Load the results into the MIP model\n",
    "mip_demo.load_result(res)"
   ]
  }
 ],
 "metadata": {
  "kernelspec": {
   "display_name": "Python 3",
   "language": "python",
   "name": "python3"
  },
  "language_info": {
   "codemirror_mode": {
    "name": "ipython",
    "version": 3
   },
   "file_extension": ".py",
   "mimetype": "text/x-python",
   "name": "python",
   "nbconvert_exporter": "python",
   "pygments_lexer": "ipython3",
   "version": "3.7.5"
  }
 },
 "nbformat": 4,
 "nbformat_minor": 4
}
