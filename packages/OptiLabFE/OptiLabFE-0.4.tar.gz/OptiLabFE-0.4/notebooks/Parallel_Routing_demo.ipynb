{
 "cells": [
  {
   "cell_type": "code",
   "execution_count": 2,
   "metadata": {},
   "outputs": [
    {
     "name": "stdout",
     "output_type": "stream",
     "text": [
      "Verifying keys...\n",
      "Verified\n"
     ]
    }
   ],
   "source": [
    "from optilab import *\n",
    "\n",
    "# Create new optimizer\n",
    "o = Optimizer()\n",
    "\n",
    "# Open a new session and connect to specified server\n",
    "o.session(email='s@d.com', secret='12312kl3nk12b3n1b3', addr='127.0.0.1', port=8080)\n",
    "\n",
    "# Create an instance of a remo|te optimizer with 2 parallel workers\n",
    "opt_id = o.get_optimizer(num_workers=2)"
   ]
  },
  {
   "cell_type": "code",
   "execution_count": 3,
   "metadata": {},
   "outputs": [],
   "source": [
    "# Create a Routing Algorithm instance\n",
    "routing_demo = Routing('routing_demo')\n",
    "\n",
    "# Define the problem instance\n",
    "routing_demo.set_locations(['3610 Hacks Cross Rd Memphis TN', # depot\n",
    "                            '1921 Elvis Presley Blvd Memphis TN',\n",
    "                            '149 Union Avenue Memphis TN',\n",
    "                            '1034 Audubon Drive Memphis TN',\n",
    "                            '1532 Madison Ave Memphis TN',\n",
    "                            '706 Union Ave Memphis TN',\n",
    "                            '3641 Central Ave Memphis TN',\n",
    "                            '926 E McLemore Ave Memphis TN'\n",
    "                           ], demands = [0, 1, 2, 4, 2, 4, 8, 8])\n",
    "routing_demo.set_vehicles(capacities = [15, 15])\n",
    "\n",
    "# Load the instance into the optimizer\n",
    "o.add_modules(routing_demo)\n",
    "\n",
    "# Solve the model\n",
    "res = o.solve()"
   ]
  },
  {
   "cell_type": "code",
   "execution_count": 4,
   "metadata": {},
   "outputs": [],
   "source": [
    "# Cleanup remote optimizer\n",
    "o.cleanup(opt_id)"
   ]
  },
  {
   "cell_type": "code",
   "execution_count": 5,
   "metadata": {},
   "outputs": [
    {
     "data": {
      "application/vnd.jupyter.widget-view+json": {
       "model_id": "7b249d4308e941f899417e6120bd0fd9",
       "version_major": 2,
       "version_minor": 0
      },
      "text/plain": [
       "Figure(layout=FigureLayout(height='420px'))"
      ]
     },
     "metadata": {},
     "output_type": "display_data"
    }
   ],
   "source": [
    "# Load the results into the Routing model and visualize\n",
    "routing_demo.vis_results(res)"
   ]
  }
 ],
 "metadata": {
  "kernelspec": {
   "display_name": "Python 3",
   "language": "python",
   "name": "python3"
  },
  "language_info": {
   "codemirror_mode": {
    "name": "ipython",
    "version": 3
   },
   "file_extension": ".py",
   "mimetype": "text/x-python",
   "name": "python",
   "nbconvert_exporter": "python",
   "pygments_lexer": "ipython3",
   "version": "3.7.5"
  }
 },
 "nbformat": 4,
 "nbformat_minor": 4
}
