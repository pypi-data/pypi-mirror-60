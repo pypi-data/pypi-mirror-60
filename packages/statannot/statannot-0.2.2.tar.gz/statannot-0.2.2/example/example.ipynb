{
 "cells": [
  {
   "cell_type": "code",
   "execution_count": 4,
   "metadata": {},
   "outputs": [],
   "source": [
    "%matplotlib inline\n",
    "import matplotlib.pyplot as plt\n",
    "import seaborn as sns\n",
    "import pandas as pd\n",
    "import numpy as np\n",
    "from statannot import add_stat_annotation\n",
    "from pandas.compat import StringIO\n",
    "\n",
    "sns.set(style=\"whitegrid\")"
   ]
  },
  {
   "cell_type": "code",
   "execution_count": 6,
   "metadata": {},
   "outputs": [
    {
     "ename": "AttributeError",
     "evalue": "module 'statannot' has no attribute '__version__'",
     "output_type": "error",
     "traceback": [
      "\u001b[0;31m---------------------------------------------------------------------------\u001b[0m",
      "\u001b[0;31mAttributeError\u001b[0m                            Traceback (most recent call last)",
      "\u001b[0;32m<ipython-input-6-bb6419dd10b8>\u001b[0m in \u001b[0;36m<module>\u001b[0;34m\u001b[0m\n\u001b[1;32m      1\u001b[0m \u001b[0;32mimport\u001b[0m \u001b[0mstatannot\u001b[0m\u001b[0;34m\u001b[0m\u001b[0;34m\u001b[0m\u001b[0m\n\u001b[0;32m----> 2\u001b[0;31m \u001b[0mstatannot\u001b[0m\u001b[0;34m.\u001b[0m\u001b[0m__version__\u001b[0m\u001b[0;34m\u001b[0m\u001b[0;34m\u001b[0m\u001b[0m\n\u001b[0m",
      "\u001b[0;31mAttributeError\u001b[0m: module 'statannot' has no attribute '__version__'"
     ]
    }
   ],
   "source": [
    "import statannot\n",
    "statannot."
   ]
  },
  {
   "cell_type": "markdown",
   "metadata": {},
   "source": [
    "### Boxplot non-hue"
   ]
  },
  {
   "cell_type": "code",
   "execution_count": 2,
   "metadata": {},
   "outputs": [],
   "source": [
    "df = sns.load_dataset(\"tips\")"
   ]
  },
  {
   "cell_type": "code",
   "execution_count": 3,
   "metadata": {
    "scrolled": false
   },
   "outputs": [
    {
     "name": "stdout",
     "output_type": "stream",
     "text": [
      "p-value annotation legend:\n",
      "ns: 5.00e-02 < p <= 1.00e+00\n",
      "*: 1.00e-02 < p <= 5.00e-02\n",
      "**: 1.00e-03 < p <= 1.00e-02\n",
      "***: 1.00e-04 < p <= 1.00e-03\n",
      "****: p <= 1.00e-04\n",
      "\n",
      "Thur v.s. Fri: Mann-Whitney-Wilcoxon test two-sided P_val=6.477e-01 U_stat=6.305e+02\n",
      "Thur v.s. Sat: Mann-Whitney-Wilcoxon test two-sided P_val=4.690e-02 U_stat=2.180e+03\n",
      "Sun v.s. Fri: Mann-Whitney-Wilcoxon test two-sided P_val=2.680e-02 U_stat=9.605e+02\n"
     ]
    },
    {
     "data": {
      "text/plain": [
       "(<matplotlib.axes._subplots.AxesSubplot at 0x7fdaa3f41160>,\n",
       " [{'pvalue': 0.6476760217605698,\n",
       "   'test_short_name': 'M.W.W.',\n",
       "   'formatted_output': 'Mann-Whitney-Wilcoxon test two-sided P_val=6.477e-01 U_stat=6.305e+02',\n",
       "   'box1': 'Thur',\n",
       "   'box2': 'Fri'},\n",
       "  {'pvalue': 0.04690063266167011,\n",
       "   'test_short_name': 'M.W.W.',\n",
       "   'formatted_output': 'Mann-Whitney-Wilcoxon test two-sided P_val=4.690e-02 U_stat=2.180e+03',\n",
       "   'box1': 'Thur',\n",
       "   'box2': 'Sat'},\n",
       "  {'pvalue': 0.026802910185856933,\n",
       "   'test_short_name': 'M.W.W.',\n",
       "   'formatted_output': 'Mann-Whitney-Wilcoxon test two-sided P_val=2.680e-02 U_stat=9.605e+02',\n",
       "   'box1': 'Sun',\n",
       "   'box2': 'Fri'}])"
      ]
     },
     "execution_count": 3,
     "metadata": {},
     "output_type": "execute_result"
    },
    {
     "data": {
      "image/png": "[encoded data removed]",
      "text/plain": [
       "<Figure size 432x288 with 1 Axes>"
      ]
     },
     "metadata": {
      "needs_background": "light"
     },
     "output_type": "display_data"
    }
   ],
   "source": [
    "x = \"day\"\n",
    "y = \"total_bill\"\n",
    "order = ['Sun', 'Thur', 'Fri', 'Sat']\n",
    "ax = sns.boxplot(data=df, x=x, y=y, order=order)\n",
    "test_results = add_stat_annotation(ax, data=df, x=x, y=y, order=order,\n",
    "                                   box_pairs=[(\"Thur\", \"Fri\"), (\"Thur\", \"Sat\"), (\"Fri\", \"Sun\")],\n",
    "                                   test='Mann-Whitney', text_format='star', loc='outside', verbose=2)\n",
    "plt.savefig('example_non-hue_outside.png', dpi=300, bbox_inches='tight')\n",
    "test_results"
   ]
  },
  {
   "cell_type": "code",
   "execution_count": 4,
   "metadata": {},
   "outputs": [
    {
     "name": "stdout",
     "output_type": "stream",
     "text": [
      "p-value annotation legend:\n",
      "ns: 5.00e-02 < p <= 1.00e+00\n",
      "*: 1.00e-02 < p <= 5.00e-02\n",
      "**: 1.00e-03 < p <= 1.00e-02\n",
      "***: 1.00e-04 < p <= 1.00e-03\n",
      "****: p <= 1.00e-04\n",
      "\n",
      "Sun v.s. Thur: Custom statistical test, , P_val=1.000e-01\n",
      "Sun v.s. Fri: Custom statistical test, , P_val=1.000e-03\n",
      "Sun v.s. Sat: Custom statistical test, , P_val=1.000e-01\n"
     ]
    },
    {
     "data": {
      "image/png": "[encoded data removed]",
      "text/plain": [
       "<Figure size 432x288 with 1 Axes>"
      ]
     },
     "metadata": {
      "needs_background": "light"
     },
     "output_type": "display_data"
    }
   ],
   "source": [
    "x = \"day\"\n",
    "y = \"total_bill\"\n",
    "order = ['Sun', 'Thur', 'Fri', 'Sat']\n",
    "ax = sns.boxplot(data=df, x=x, y=y, order=order)\n",
    "add_stat_annotation(ax, data=df, x=x, y=y, order=order,\n",
    "                    box_pairs=[(\"Sun\", \"Thur\"), (\"Sun\", \"Sat\"), (\"Fri\", \"Sun\")],\n",
    "                    perform_stat_test=False, pvalues=[0.1, 0.1, 0.001],\n",
    "                    test=None, text_format='star', loc='inside', verbose=2);\n",
    "plt.savefig('example_non-hue_inside.png', dpi=300, bbox_inches='tight')"
   ]
  },
  {
   "cell_type": "markdown",
   "metadata": {},
   "source": [
    "### Boxplot with hue"
   ]
  },
  {
   "cell_type": "markdown",
   "metadata": {},
   "source": [
    "Boxes with unequal ymax position."
   ]
  },
  {
   "cell_type": "code",
   "execution_count": 5,
   "metadata": {},
   "outputs": [
    {
     "data": {
      "text/html": [
       "<div>\n",
       "<style scoped>\n",
       "    .dataframe tbody tr th:only-of-type {\n",
       "        vertical-align: middle;\n",
       "    }\n",
       "\n",
       "    .dataframe tbody tr th {\n",
       "        vertical-align: top;\n",
       "    }\n",
       "\n",
       "    .dataframe thead th {\n",
       "        text-align: right;\n",
       "    }\n",
       "</style>\n",
       "<table border=\"1\" class=\"dataframe\">\n",
       "  <thead>\n",
       "    <tr style=\"text-align: right;\">\n",
       "      <th></th>\n",
       "      <th>carat</th>\n",
       "      <th>cut</th>\n",
       "      <th>color</th>\n",
       "      <th>clarity</th>\n",
       "      <th>depth</th>\n",
       "      <th>table</th>\n",
       "      <th>price</th>\n",
       "      <th>x</th>\n",
       "      <th>y</th>\n",
       "      <th>z</th>\n",
       "    </tr>\n",
       "  </thead>\n",
       "  <tbody>\n",
       "    <tr>\n",
       "      <th>0</th>\n",
       "      <td>0.23</td>\n",
       "      <td>Ideal</td>\n",
       "      <td>E</td>\n",
       "      <td>SI2</td>\n",
       "      <td>61.5</td>\n",
       "      <td>55.0</td>\n",
       "      <td>326</td>\n",
       "      <td>3.95</td>\n",
       "      <td>3.98</td>\n",
       "      <td>2.43</td>\n",
       "    </tr>\n",
       "    <tr>\n",
       "      <th>1</th>\n",
       "      <td>0.21</td>\n",
       "      <td>Premium</td>\n",
       "      <td>E</td>\n",
       "      <td>SI1</td>\n",
       "      <td>59.8</td>\n",
       "      <td>61.0</td>\n",
       "      <td>326</td>\n",
       "      <td>3.89</td>\n",
       "      <td>3.84</td>\n",
       "      <td>2.31</td>\n",
       "    </tr>\n",
       "    <tr>\n",
       "      <th>3</th>\n",
       "      <td>0.29</td>\n",
       "      <td>Premium</td>\n",
       "      <td>I</td>\n",
       "      <td>VS2</td>\n",
       "      <td>62.4</td>\n",
       "      <td>58.0</td>\n",
       "      <td>334</td>\n",
       "      <td>4.20</td>\n",
       "      <td>4.23</td>\n",
       "      <td>2.63</td>\n",
       "    </tr>\n",
       "    <tr>\n",
       "      <th>11</th>\n",
       "      <td>0.23</td>\n",
       "      <td>Ideal</td>\n",
       "      <td>J</td>\n",
       "      <td>VS1</td>\n",
       "      <td>62.8</td>\n",
       "      <td>56.0</td>\n",
       "      <td>340</td>\n",
       "      <td>3.93</td>\n",
       "      <td>3.90</td>\n",
       "      <td>2.46</td>\n",
       "    </tr>\n",
       "    <tr>\n",
       "      <th>12</th>\n",
       "      <td>0.22</td>\n",
       "      <td>Premium</td>\n",
       "      <td>F</td>\n",
       "      <td>SI1</td>\n",
       "      <td>60.4</td>\n",
       "      <td>61.0</td>\n",
       "      <td>342</td>\n",
       "      <td>3.88</td>\n",
       "      <td>3.84</td>\n",
       "      <td>2.33</td>\n",
       "    </tr>\n",
       "  </tbody>\n",
       "</table>\n",
       "</div>"
      ],
      "text/plain": [
       "    carat      cut color clarity  depth  table  price     x     y     z\n",
       "0    0.23    Ideal     E     SI2   61.5   55.0    326  3.95  3.98  2.43\n",
       "1    0.21  Premium     E     SI1   59.8   61.0    326  3.89  3.84  2.31\n",
       "3    0.29  Premium     I     VS2   62.4   58.0    334  4.20  4.23  2.63\n",
       "11   0.23    Ideal     J     VS1   62.8   56.0    340  3.93  3.90  2.46\n",
       "12   0.22  Premium     F     SI1   60.4   61.0    342  3.88  3.84  2.33"
      ]
     },
     "execution_count": 5,
     "metadata": {},
     "output_type": "execute_result"
    }
   ],
   "source": [
    "df = sns.load_dataset('diamonds')\n",
    "df = df[df['cut'].map(lambda x: x in ['Ideal', 'Premium'])]\n",
    "# Modifying data to yield unequal boxes in the hue value\n",
    "df.loc[df['cut'] == 'Ideal', 'price'] = df.loc[df['cut'] == 'Ideal', 'price'].map(lambda x: min(x, 5000))\n",
    "df.loc[df['cut'] == 'Premium', 'price'] = df.loc[df['cut'] == 'Premium', 'price'].map(lambda x: min(x, 7500))\n",
    "df.head()"
   ]
  },
  {
   "cell_type": "code",
   "execution_count": 8,
   "metadata": {
    "scrolled": false
   },
   "outputs": [
    {
     "name": "stdout",
     "output_type": "stream",
     "text": [
      "p-value annotation legend:\n",
      "ns: 5.00e-02 < p <= 1.00e+00\n",
      "*: 1.00e-02 < p <= 5.00e-02\n",
      "**: 1.00e-03 < p <= 1.00e-02\n",
      "***: 1.00e-04 < p <= 1.00e-03\n",
      "****: p <= 1.00e-04\n",
      "\n",
      "D_Ideal v.s. D_Premium: t-test independent samples, P_val=6.247e-63 stat=-1.701e+01\n",
      "H_Ideal v.s. H_Premium: t-test independent samples, P_val=7.152e-119 stat=-2.376e+01\n",
      "G_Ideal v.s. G_Premium: t-test independent samples, P_val=1.020e-102 stat=-2.184e+01\n",
      "E_Ideal v.s. E_Premium: t-test independent samples, P_val=4.604e-72 stat=-1.819e+01\n",
      "I_Ideal v.s. I_Premium: t-test independent samples, P_val=9.660e-83 stat=-1.979e+01\n",
      "J_Ideal v.s. J_Premium: t-test independent samples, P_val=9.192e-44 stat=-1.428e+01\n",
      "F_Ideal v.s. F_Premium: t-test independent samples, P_val=1.943e-108 stat=-2.257e+01\n"
     ]
    },
    {
     "data": {
      "image/png": "[encoded data removed]",
      "text/plain": [
       "<Figure size 432x288 with 1 Axes>"
      ]
     },
     "metadata": {
      "needs_background": "light"
     },
     "output_type": "display_data"
    }
   ],
   "source": [
    "x = \"color\"\n",
    "y = \"price\"\n",
    "hue = \"cut\"\n",
    "hue_order=['Ideal', 'Premium']\n",
    "box_pairs=[\n",
    "    ((\"E\", \"Ideal\"), (\"E\", \"Premium\")),\n",
    "    ((\"I\", \"Ideal\"), (\"I\", \"Premium\")),\n",
    "    ((\"J\", \"Ideal\"), (\"J\", \"Premium\")),\n",
    "    ((\"F\", \"Ideal\"), (\"F\", \"Premium\")),\n",
    "    ((\"G\", \"Ideal\"), (\"G\", \"Premium\")),\n",
    "    ((\"D\", \"Ideal\"), (\"D\", \"Premium\")),\n",
    "    ((\"H\", \"Ideal\"), (\"H\", \"Premium\")),\n",
    "    ]\n",
    "width = 0.4\n",
    "ax = sns.boxplot(data=df, x=x, y=y, hue=hue, width=width)\n",
    "add_stat_annotation(ax, data=df, x=x, y=y, hue=hue, width=width,\n",
    "                    box_pairs=box_pairs, test='t-test_ind', loc='inside', verbose=2)\n",
    "plt.legend(loc='upper left', bbox_to_anchor=(1.03, 1))\n",
    "plt.savefig('example_hue_pairs.png', dpi=300, bbox_inches='tight')"
   ]
  },
  {
   "cell_type": "code",
   "execution_count": 84,
   "metadata": {},
   "outputs": [
    {
     "data": {
      "text/html": [
       "<div>\n",
       "<style scoped>\n",
       "    .dataframe tbody tr th:only-of-type {\n",
       "        vertical-align: middle;\n",
       "    }\n",
       "\n",
       "    .dataframe tbody tr th {\n",
       "        vertical-align: top;\n",
       "    }\n",
       "\n",
       "    .dataframe thead th {\n",
       "        text-align: right;\n",
       "    }\n",
       "</style>\n",
       "<table border=\"1\" class=\"dataframe\">\n",
       "  <thead>\n",
       "    <tr style=\"text-align: right;\">\n",
       "      <th></th>\n",
       "      <th>carat</th>\n",
       "      <th>cut</th>\n",
       "      <th>color</th>\n",
       "      <th>clarity</th>\n",
       "      <th>depth</th>\n",
       "      <th>table</th>\n",
       "      <th>price</th>\n",
       "      <th>x</th>\n",
       "      <th>y</th>\n",
       "      <th>z</th>\n",
       "    </tr>\n",
       "  </thead>\n",
       "  <tbody>\n",
       "    <tr>\n",
       "      <th>0</th>\n",
       "      <td>0.23</td>\n",
       "      <td>Ideal</td>\n",
       "      <td>E</td>\n",
       "      <td>SI2</td>\n",
       "      <td>61.5</td>\n",
       "      <td>55.0</td>\n",
       "      <td>326</td>\n",
       "      <td>3.95</td>\n",
       "      <td>3.98</td>\n",
       "      <td>2.43</td>\n",
       "    </tr>\n",
       "    <tr>\n",
       "      <th>1</th>\n",
       "      <td>0.21</td>\n",
       "      <td>Premium</td>\n",
       "      <td>E</td>\n",
       "      <td>SI1</td>\n",
       "      <td>59.8</td>\n",
       "      <td>61.0</td>\n",
       "      <td>326</td>\n",
       "      <td>3.89</td>\n",
       "      <td>3.84</td>\n",
       "      <td>2.31</td>\n",
       "    </tr>\n",
       "    <tr>\n",
       "      <th>2</th>\n",
       "      <td>0.23</td>\n",
       "      <td>Good</td>\n",
       "      <td>E</td>\n",
       "      <td>VS1</td>\n",
       "      <td>56.9</td>\n",
       "      <td>65.0</td>\n",
       "      <td>327</td>\n",
       "      <td>4.05</td>\n",
       "      <td>4.07</td>\n",
       "      <td>2.31</td>\n",
       "    </tr>\n",
       "    <tr>\n",
       "      <th>3</th>\n",
       "      <td>0.29</td>\n",
       "      <td>Premium</td>\n",
       "      <td>I</td>\n",
       "      <td>VS2</td>\n",
       "      <td>62.4</td>\n",
       "      <td>58.0</td>\n",
       "      <td>334</td>\n",
       "      <td>4.20</td>\n",
       "      <td>4.23</td>\n",
       "      <td>2.63</td>\n",
       "    </tr>\n",
       "    <tr>\n",
       "      <th>4</th>\n",
       "      <td>0.31</td>\n",
       "      <td>Good</td>\n",
       "      <td>J</td>\n",
       "      <td>SI2</td>\n",
       "      <td>63.3</td>\n",
       "      <td>58.0</td>\n",
       "      <td>335</td>\n",
       "      <td>4.34</td>\n",
       "      <td>4.35</td>\n",
       "      <td>2.75</td>\n",
       "    </tr>\n",
       "  </tbody>\n",
       "</table>\n",
       "</div>"
      ],
      "text/plain": [
       "   carat      cut color clarity  depth  table  price     x     y     z\n",
       "0   0.23    Ideal     E     SI2   61.5   55.0    326  3.95  3.98  2.43\n",
       "1   0.21  Premium     E     SI1   59.8   61.0    326  3.89  3.84  2.31\n",
       "2   0.23     Good     E     VS1   56.9   65.0    327  4.05  4.07  2.31\n",
       "3   0.29  Premium     I     VS2   62.4   58.0    334  4.20  4.23  2.63\n",
       "4   0.31     Good     J     SI2   63.3   58.0    335  4.34  4.35  2.75"
      ]
     },
     "execution_count": 84,
     "metadata": {},
     "output_type": "execute_result"
    }
   ],
   "source": [
    "df = sns.load_dataset('diamonds')\n",
    "df = df[df['color'].map(lambda x: x in 'EIJ')]\n",
    "# Modifying data to yield unequal boxes in the hue value\n",
    "df.loc[df['cut'] == 'Ideal', 'price'] = df.loc[df['cut'] == 'Ideal', 'price'].map(lambda x: min(x, 5000))\n",
    "df.loc[df['cut'] == 'Premium', 'price'] = df.loc[df['cut'] == 'Premium', 'price'].map(lambda x: min(x, 7500))\n",
    "df.loc[df['cut'] == 'Good', 'price'] = df.loc[df['cut'] == 'Good', 'price'].map(lambda x: min(x, 15000))\n",
    "df.loc[df['cut'] == 'Very Good', 'price'] = df.loc[df['cut'] == 'Very Good', 'price'].map(lambda x: min(x, 3000))\n",
    "df.head()"
   ]
  },
  {
   "cell_type": "code",
   "execution_count": 85,
   "metadata": {
    "scrolled": false
   },
   "outputs": [
    {
     "name": "stdout",
     "output_type": "stream",
     "text": [
      "p-value annotation legend:\n",
      "ns: 5.00e-02 < p <= 1.00e+00\n",
      "*: 1.00e-02 < p <= 5.00e-02\n",
      "**: 1.00e-03 < p <= 1.00e-02\n",
      "***: 1.00e-04 < p <= 1.00e-03\n",
      "****: p <= 1.00e-04\n",
      "\n",
      "E_Ideal v.s. E_Premium: Mann-Whitney-Wilcoxon test two-sided P_val=1.560e-31 U_stat=3.756e+06\n",
      "I_Ideal v.s. I_Premium: Mann-Whitney-Wilcoxon test two-sided P_val=5.141e-61 U_stat=1.009e+06\n",
      "J_Ideal v.s. J_Premium: Mann-Whitney-Wilcoxon test two-sided P_val=4.018e-37 U_stat=2.337e+05\n",
      "E_Ideal v.s. E_Good: Mann-Whitney-Wilcoxon test two-sided P_val=5.201e-19 U_stat=1.480e+06\n",
      "I_Ideal v.s. I_Good: Mann-Whitney-Wilcoxon test two-sided P_val=5.008e-13 U_stat=4.359e+05\n",
      "J_Ideal v.s. J_Good: Mann-Whitney-Wilcoxon test two-sided P_val=1.006e-04 U_stat=1.174e+05\n",
      "E_Ideal v.s. E_Very Good: Mann-Whitney-Wilcoxon test two-sided P_val=1.736e-02 U_stat=4.850e+06\n",
      "E_Good v.s. I_Ideal: Mann-Whitney-Wilcoxon test two-sided P_val=5.906e-01 U_stat=9.882e+05\n",
      "I_Premium v.s. J_Ideal: Mann-Whitney-Wilcoxon test two-sided P_val=5.159e-27 U_stat=8.084e+05\n"
     ]
    },
    {
     "data": {
      "image/png": "[encoded data removed]",
      "text/plain": [
       "<Figure size 432x288 with 1 Axes>"
      ]
     },
     "metadata": {},
     "output_type": "display_data"
    }
   ],
   "source": [
    "x = \"color\"\n",
    "y = \"price\"\n",
    "hue = \"cut\"\n",
    "hue_order=['Ideal', 'Premium', 'Good', 'Very Good', 'Fair']\n",
    "box_pairs=[\n",
    "    ((\"E\", \"Ideal\"), (\"E\", \"Very Good\")),\n",
    "    ((\"E\", \"Ideal\"), (\"E\", \"Premium\")),\n",
    "    ((\"E\", \"Ideal\"), (\"E\", \"Good\")),\n",
    "    ((\"I\", \"Ideal\"), (\"I\", \"Premium\")),\n",
    "    ((\"I\", \"Ideal\"), (\"I\", \"Good\")),\n",
    "    ((\"J\", \"Ideal\"), (\"J\", \"Premium\")),\n",
    "    ((\"J\", \"Ideal\"), (\"J\", \"Good\")),\n",
    "    ((\"E\", \"Good\"), (\"I\", \"Ideal\")),\n",
    "    ((\"I\", \"Premium\"), (\"J\", \"Ideal\")),\n",
    "    ]\n",
    "ax = sns.boxplot(data=df, x=x, y=y, hue=hue,)\n",
    "add_stat_annotation(ax, data=df, x=x, y=y, hue=hue, box_pairs=box_pairs,\n",
    "                    test='Mann-Whitney', loc='inside', verbose=2)\n",
    "plt.legend(loc='upper left', bbox_to_anchor=(1.03, 1))\n",
    "plt.savefig('example_hue_layout.png', dpi=300, bbox_inches='tight')"
   ]
  },
  {
   "cell_type": "markdown",
   "metadata": {},
   "source": [
    "### Barplot with hue"
   ]
  },
  {
   "cell_type": "code",
   "execution_count": 9,
   "metadata": {},
   "outputs": [
    {
     "name": "stdout",
     "output_type": "stream",
     "text": [
      "p-value annotation legend:\n",
      "ns: 5.00e-02 < p <= 1.00e+00\n",
      "*: 1.00e-02 < p <= 5.00e-02\n",
      "**: 1.00e-03 < p <= 1.00e-02\n",
      "***: 1.00e-04 < p <= 1.00e-03\n",
      "****: p <= 1.00e-04\n",
      "\n",
      "SI1_I v.s. SI1_J: t-test independent samples, P_val=8.513e-05 stat=-3.937e+00\n",
      "VS1_I v.s. VS1_J: t-test independent samples, P_val=9.140e-05 stat=-3.923e+00\n",
      "VS2_I v.s. VS2_J: t-test independent samples, P_val=6.806e-03 stat=-2.709e+00\n",
      "VVS2_I v.s. VVS2_J: t-test independent samples, P_val=9.076e-14 stat=-7.672e+00\n",
      "VVS1_I v.s. VVS1_J: t-test independent samples, P_val=6.536e-10 stat=-6.321e+00\n",
      "I1_I v.s. I1_J: t-test independent samples, P_val=2.905e-02 stat=-2.206e+00\n",
      "IF_I v.s. IF_J: t-test independent samples, P_val=4.412e-03 stat=-2.881e+00\n",
      "SI2_I v.s. SI2_J: t-test independent samples, P_val=3.710e-01 stat=-8.949e-01\n",
      "SI2_E v.s. SI1_E: t-test independent samples, P_val=4.178e-66 stat=1.749e+01\n"
     ]
    },
    {
     "data": {
      "image/png": "[encoded data removed]",
      "text/plain": [
       "<Figure size 432x288 with 1 Axes>"
      ]
     },
     "metadata": {
      "needs_background": "light"
     },
     "output_type": "display_data"
    }
   ],
   "source": [
    "df = sns.load_dataset('diamonds')\n",
    "df = df[df['color'].map(lambda x: x in 'EIJ')]\n",
    "\n",
    "x = \"clarity\"\n",
    "y = \"carat\"\n",
    "hue = \"color\"\n",
    "# hue_order=['Ideal', 'Premium']\n",
    "box_pairs = [\n",
    "    ((\"SI2\", \"E\"), (\"SI1\", \"E\"))\n",
    "    ]\n",
    "box_pairs = box_pairs + [((clar, 'I'), (clar, 'J')) for clar in df['clarity'].unique()]\n",
    "width = 0.4\n",
    "ax = sns.barplot(data=df, x=x, y=y, hue=hue)\n",
    "add_stat_annotation(ax, plot='barplot', data=df, x=x, y=y, hue=hue,\n",
    "                    box_pairs=box_pairs, test='t-test_ind', loc='inside', verbose=2)\n",
    "plt.legend(loc='upper left', bbox_to_anchor=(1.03, 1), title=hue)\n",
    "plt.savefig('example_barplot_hue.png', dpi=300, bbox_inches='tight')"
   ]
  },
  {
   "cell_type": "markdown",
   "metadata": {},
   "source": [
    "### Boxplot with bucketed categories"
   ]
  },
  {
   "cell_type": "code",
   "execution_count": 86,
   "metadata": {},
   "outputs": [
    {
     "data": {
      "text/html": [
       "<div>\n",
       "<style scoped>\n",
       "    .dataframe tbody tr th:only-of-type {\n",
       "        vertical-align: middle;\n",
       "    }\n",
       "\n",
       "    .dataframe tbody tr th {\n",
       "        vertical-align: top;\n",
       "    }\n",
       "\n",
       "    .dataframe thead th {\n",
       "        text-align: right;\n",
       "    }\n",
       "</style>\n",
       "<table border=\"1\" class=\"dataframe\">\n",
       "  <thead>\n",
       "    <tr style=\"text-align: right;\">\n",
       "      <th></th>\n",
       "      <th>total_bill</th>\n",
       "      <th>tip</th>\n",
       "      <th>sex</th>\n",
       "      <th>smoker</th>\n",
       "      <th>day</th>\n",
       "      <th>time</th>\n",
       "      <th>size</th>\n",
       "      <th>tip_bucket</th>\n",
       "    </tr>\n",
       "  </thead>\n",
       "  <tbody>\n",
       "    <tr>\n",
       "      <th>0</th>\n",
       "      <td>16.99</td>\n",
       "      <td>1.01</td>\n",
       "      <td>Female</td>\n",
       "      <td>No</td>\n",
       "      <td>Sun</td>\n",
       "      <td>Dinner</td>\n",
       "      <td>2</td>\n",
       "      <td>(0.991, 4.0]</td>\n",
       "    </tr>\n",
       "    <tr>\n",
       "      <th>1</th>\n",
       "      <td>10.34</td>\n",
       "      <td>1.66</td>\n",
       "      <td>Male</td>\n",
       "      <td>No</td>\n",
       "      <td>Sun</td>\n",
       "      <td>Dinner</td>\n",
       "      <td>3</td>\n",
       "      <td>(0.991, 4.0]</td>\n",
       "    </tr>\n",
       "    <tr>\n",
       "      <th>2</th>\n",
       "      <td>21.01</td>\n",
       "      <td>3.50</td>\n",
       "      <td>Male</td>\n",
       "      <td>No</td>\n",
       "      <td>Sun</td>\n",
       "      <td>Dinner</td>\n",
       "      <td>3</td>\n",
       "      <td>(0.991, 4.0]</td>\n",
       "    </tr>\n",
       "    <tr>\n",
       "      <th>3</th>\n",
       "      <td>23.68</td>\n",
       "      <td>3.31</td>\n",
       "      <td>Male</td>\n",
       "      <td>No</td>\n",
       "      <td>Sun</td>\n",
       "      <td>Dinner</td>\n",
       "      <td>2</td>\n",
       "      <td>(0.991, 4.0]</td>\n",
       "    </tr>\n",
       "    <tr>\n",
       "      <th>4</th>\n",
       "      <td>24.59</td>\n",
       "      <td>3.61</td>\n",
       "      <td>Female</td>\n",
       "      <td>No</td>\n",
       "      <td>Sun</td>\n",
       "      <td>Dinner</td>\n",
       "      <td>4</td>\n",
       "      <td>(0.991, 4.0]</td>\n",
       "    </tr>\n",
       "  </tbody>\n",
       "</table>\n",
       "</div>"
      ],
      "text/plain": [
       "   total_bill   tip     sex smoker  day    time  size    tip_bucket\n",
       "0       16.99  1.01  Female     No  Sun  Dinner     2  (0.991, 4.0]\n",
       "1       10.34  1.66    Male     No  Sun  Dinner     3  (0.991, 4.0]\n",
       "2       21.01  3.50    Male     No  Sun  Dinner     3  (0.991, 4.0]\n",
       "3       23.68  3.31    Male     No  Sun  Dinner     2  (0.991, 4.0]\n",
       "4       24.59  3.61  Female     No  Sun  Dinner     4  (0.991, 4.0]"
      ]
     },
     "execution_count": 86,
     "metadata": {},
     "output_type": "execute_result"
    }
   ],
   "source": [
    "df = sns.load_dataset(\"tips\")\n",
    "df['tip_bucket'] = pd.cut(df['tip'], 3)\n",
    "df.head()"
   ]
  },
  {
   "cell_type": "code",
   "execution_count": 87,
   "metadata": {
    "scrolled": true
   },
   "outputs": [
    {
     "data": {
      "text/plain": [
       "[(0.991, 4.0], (4.0, 7.0], (7.0, 10.0]]\n",
       "Categories (3, interval[float64]): [(0.991, 4.0] < (4.0, 7.0] < (7.0, 10.0]]"
      ]
     },
     "execution_count": 87,
     "metadata": {},
     "output_type": "execute_result"
    }
   ],
   "source": [
    "# In this case we just have to pass the list of categories objects to the add_stat_annotation function.\n",
    "tip_bucket_list = df['tip_bucket'].unique()\n",
    "tip_bucket_list"
   ]
  },
  {
   "cell_type": "code",
   "execution_count": 88,
   "metadata": {
    "scrolled": false
   },
   "outputs": [
    {
     "name": "stdout",
     "output_type": "stream",
     "text": [
      "p-value annotation legend:\n",
      "ns: 5.00e-02 < p <= 1.00e+00\n",
      "*: 1.00e-02 < p <= 5.00e-02\n",
      "**: 1.00e-03 < p <= 1.00e-02\n",
      "***: 1.00e-04 < p <= 1.00e-03\n",
      "****: p <= 1.00e-04\n",
      "\n",
      "Fri_(0.991, 4.0] v.s. Sat_(7.0, 10.0]: t-test independent samples, P_val=6.176e-07 stat=-7.490e+00\n"
     ]
    },
    {
     "data": {
      "image/png": "[encoded data removed]",
      "text/plain": [
       "<Figure size 432x288 with 1 Axes>"
      ]
     },
     "metadata": {},
     "output_type": "display_data"
    }
   ],
   "source": [
    "x = \"day\"\n",
    "y = \"total_bill\"\n",
    "hue = \"tip_bucket\"\n",
    "data = df\n",
    "ax = sns.boxplot(data=df, x=x, y=y, hue=hue)\n",
    "add_stat_annotation(ax, data=df, x=x, y=y, hue=hue,\n",
    "                    box_pairs=[((\"Sat\", tip_bucket_list[2]), (\"Fri\", tip_bucket_list[0]))],\n",
    "                    test='t-test_ind', loc='inside', verbose=2)\n",
    "plt.legend(loc='upper left', bbox_to_anchor=(1.03, 1))\n",
    "plt.savefig('example_bucketed.png', dpi=300, bbox_inches='tight')"
   ]
  },
  {
   "cell_type": "markdown",
   "metadata": {},
   "source": [
    "### Tuning y offsets"
   ]
  },
  {
   "cell_type": "markdown",
   "metadata": {},
   "source": [
    "![](example_tuning_y_offsets_w_arguments.png)"
   ]
  },
  {
   "cell_type": "code",
   "execution_count": 89,
   "metadata": {},
   "outputs": [
    {
     "name": "stdout",
     "output_type": "stream",
     "text": [
      "Sat_Yes v.s. Sat_No: t-test independent samples, P_val=4.304e-01 stat=7.922e-01\n",
      "Thur_No v.s. Fri_No: t-test independent samples, P_val=7.425e-01 stat=-3.305e-01\n",
      "Thur_Yes v.s. Sun_No: t-test independent samples, P_val=5.623e-01 stat=-5.822e-01\n"
     ]
    },
    {
     "data": {
      "image/png": "[encoded data removed]",
      "text/plain": [
       "<Figure size 432x288 with 1 Axes>"
      ]
     },
     "metadata": {},
     "output_type": "display_data"
    }
   ],
   "source": [
    "df = sns.load_dataset(\"tips\")\n",
    "x = \"day\"\n",
    "y = \"total_bill\"\n",
    "hue = \"smoker\"\n",
    "ax = sns.boxplot(data=df, x=x, y=y, hue=hue)\n",
    "add_stat_annotation(ax, data=df, x=x, y=y, hue=hue,\n",
    "                    box_pairs=[((\"Thur\", \"No\"), (\"Fri\", \"No\")),\n",
    "                                 ((\"Sat\", \"Yes\"), (\"Sat\", \"No\")),\n",
    "                                 ((\"Sun\", \"No\"), (\"Thur\", \"Yes\"))\n",
    "                                ],\n",
    "                    test='t-test_ind', text_format='full', loc='inside',\n",
    "                    line_offset_to_box=0.2, line_offset=0.1, line_height=0.05, text_offset=8,\n",
    "                    verbose=2)\n",
    "plt.legend(loc='upper left', bbox_to_anchor=(1.03, 1))\n",
    "plt.savefig('example_tuning_y_offsets.svg')\n",
    "plt.savefig('example_tuning_y_offsets.png', dpi=300, bbox_inches='tight')"
   ]
  },
  {
   "cell_type": "markdown",
   "metadata": {},
   "source": [
    "### Custom p-values as input"
   ]
  },
  {
   "cell_type": "code",
   "execution_count": 90,
   "metadata": {
    "scrolled": true
   },
   "outputs": [
    {
     "name": "stdout",
     "output_type": "stream",
     "text": [
      "Performing Bartlett statistical test for equal variances on pair: ('setosa', 'versicolor') stat=6.89e+00 p-value=8.66e-03\n",
      "Performing Bartlett statistical test for equal variances on pair: ('setosa', 'virginica') stat=1.60e+01 p-value=6.38e-05\n",
      "Performing Bartlett statistical test for equal variances on pair: ('versicolor', 'virginica') stat=2.09e+00 p-value=1.48e-01\n",
      "pvalues: [0.008659557933879902, 6.378941946712463e-05, 0.14778816016231236]\n"
     ]
    }
   ],
   "source": [
    "df = sns.load_dataset(\"iris\")\n",
    "x = \"species\"\n",
    "y = \"sepal_length\"\n",
    "\n",
    "box_pairs = [(\"setosa\", \"versicolor\"), (\"setosa\", \"virginica\"), (\"versicolor\", \"virginica\")]\n",
    "\n",
    "from scipy.stats import bartlett\n",
    "\n",
    "test_short_name = 'Bartlett'\n",
    "pvalues = []\n",
    "for pair in box_pairs:\n",
    "    data1 = df.groupby(x)[y].get_group(pair[0])\n",
    "    data2 = df.groupby(x)[y].get_group(pair[1])\n",
    "    stat, p = bartlett(data1, data2)\n",
    "    print(\"Performing Bartlett statistical test for equal variances on pair:\",\n",
    "          pair, \"stat={:.2e} p-value={:.2e}\".format(stat, p))\n",
    "    pvalues.append(p)\n",
    "print(\"pvalues:\", pvalues)"
   ]
  },
  {
   "cell_type": "code",
   "execution_count": 91,
   "metadata": {
    "scrolled": false
   },
   "outputs": [
    {
     "name": "stdout",
     "output_type": "stream",
     "text": [
      "p-value annotation legend:\n",
      "ns: 5.00e-02 < p <= 1.00e+00\n",
      "*: 1.00e-02 < p <= 5.00e-02\n",
      "**: 1.00e-03 < p <= 1.00e-02\n",
      "***: 1.00e-04 < p <= 1.00e-03\n",
      "****: p <= 1.00e-04\n",
      "\n",
      "setosa v.s. versicolor: Custom statistical test, Bartlett, P_val=8.660e-03\n",
      "versicolor v.s. virginica: Custom statistical test, Bartlett, P_val=1.478e-01\n",
      "setosa v.s. virginica: Custom statistical test, Bartlett, P_val=6.379e-05\n"
     ]
    },
    {
     "data": {
      "text/plain": [
       "(<matplotlib.axes._subplots.AxesSubplot at 0x7f09b0ad1080>,\n",
       " [{'pvalue': 0.008659557933879902,\n",
       "   'test_short_name': 'Bartlett',\n",
       "   'formatted_output': 'Custom statistical test, Bartlett, P_val=8.660e-03',\n",
       "   'box1': 'setosa',\n",
       "   'box2': 'versicolor'},\n",
       "  {'pvalue': 0.14778816016231236,\n",
       "   'test_short_name': 'Bartlett',\n",
       "   'formatted_output': 'Custom statistical test, Bartlett, P_val=1.478e-01',\n",
       "   'box1': 'versicolor',\n",
       "   'box2': 'virginica'},\n",
       "  {'pvalue': 6.378941946712463e-05,\n",
       "   'test_short_name': 'Bartlett',\n",
       "   'formatted_output': 'Custom statistical test, Bartlett, P_val=6.379e-05',\n",
       "   'box1': 'setosa',\n",
       "   'box2': 'virginica'}])"
      ]
     },
     "execution_count": 91,
     "metadata": {},
     "output_type": "execute_result"
    },
    {
     "data": {
      "image/png": "[encoded data removed]",
      "text/plain": [
       "<Figure size 432x288 with 1 Axes>"
      ]
     },
     "metadata": {},
     "output_type": "display_data"
    }
   ],
   "source": [
    "ax = sns.boxplot(data=df, x=x, y=y)\n",
    "test_results = add_stat_annotation(ax, data=df, x=x, y=y,\n",
    "                                   box_pairs=box_pairs,\n",
    "                                   perform_stat_test=False, pvalues=pvalues, test_short_name=test_short_name,\n",
    "                                   text_format='star', verbose=2)\n",
    "test_results"
   ]
  },
  {
   "cell_type": "markdown",
   "metadata": {},
   "source": [
    "### Custom annotation texts"
   ]
  },
  {
   "cell_type": "code",
   "execution_count": 9,
   "metadata": {
    "scrolled": false
   },
   "outputs": [
    {
     "data": {
      "image/png": "[encoded data removed]",
      "text/plain": [
       "<Figure size 432x288 with 1 Axes>"
      ]
     },
     "metadata": {
      "needs_background": "light"
     },
     "output_type": "display_data"
    }
   ],
   "source": [
    "df = sns.load_dataset(\"tips\")\n",
    "x = \"day\"\n",
    "y = \"total_bill\"\n",
    "order = ['Sun', 'Thur', 'Fri', 'Sat']\n",
    "ax = sns.boxplot(data=df, x=x, y=y, order=order)\n",
    "test_results = add_stat_annotation(ax, data=df, x=x, y=y, order=order,\n",
    "                                   box_pairs=[(\"Thur\", \"Fri\"), (\"Thur\", \"Sat\"), (\"Fri\", \"Sun\")],\n",
    "                                   text_annot_custom=[\"first pair\", \"second pair\", \"third pair\"],\n",
    "                                   perform_stat_test=False, pvalues=[0, 0, 0],\n",
    "                                   loc='outside', verbose=0)\n",
    "plt.savefig('example_custom_text_annot.png', dpi=300, bbox_inches='tight')"
   ]
  }
 ],
 "metadata": {
  "kernelspec": {
   "display_name": "Python 3",
   "language": "python",
   "name": "python3"
  },
  "language_info": {
   "codemirror_mode": {
    "name": "ipython",
    "version": 3
   },
   "file_extension": ".py",
   "mimetype": "text/x-python",
   "name": "python",
   "nbconvert_exporter": "python",
   "pygments_lexer": "ipython3",
   "version": "3.6.9"
  },
  "toc": {
   "base_numbering": 1,
   "nav_menu": {},
   "number_sections": true,
   "sideBar": true,
   "skip_h1_title": false,
   "title_cell": "Table of Contents",
   "title_sidebar": "Contents",
   "toc_cell": false,
   "toc_position": {},
   "toc_section_display": true,
   "toc_window_display": true
  }
 },
 "nbformat": 4,
 "nbformat_minor": 2
}
