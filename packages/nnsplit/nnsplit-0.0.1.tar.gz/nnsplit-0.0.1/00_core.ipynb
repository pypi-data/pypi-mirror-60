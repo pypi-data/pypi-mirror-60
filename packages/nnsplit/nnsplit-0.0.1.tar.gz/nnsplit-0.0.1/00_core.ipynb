{
 "cells": [
  {
   "cell_type": "code",
   "execution_count": 21,
   "metadata": {},
   "outputs": [],
   "source": [
    "# default_exp __init__"
   ]
  },
  {
   "cell_type": "code",
   "execution_count": 2,
   "metadata": {},
   "outputs": [],
   "source": [
    "from nbdev.showdoc import *"
   ]
  },
  {
   "cell_type": "markdown",
   "metadata": {},
   "source": [
    "# core\n",
    "\n",
    "> API details."
   ]
  },
  {
   "cell_type": "code",
   "execution_count": 3,
   "metadata": {},
   "outputs": [],
   "source": [
    "# export\n",
    "import numpy as np\n",
    "import torch"
   ]
  },
  {
   "cell_type": "code",
   "execution_count": 4,
   "metadata": {},
   "outputs": [],
   "source": [
    "# export\n",
    "from nnsplit.utils import text_to_id, DATA_DIRECTORY, CUT_LENGTH, DEVICE\n",
    "from nnsplit.tokenizer import Tokenizer"
   ]
  },
  {
   "cell_type": "code",
   "execution_count": 9,
   "metadata": {},
   "outputs": [],
   "source": [
    "# export\n",
    "DEFAULT_STRIDE = 50\n",
    "DEFAULT_THRESHOLD = 0.5"
   ]
  },
  {
   "cell_type": "code",
   "execution_count": 15,
   "metadata": {},
   "outputs": [],
   "source": [
    "# export\n",
    "class NNSplit(Tokenizer):    \n",
    "    def __init__(self, model_name, \n",
    "                 threshold=DEFAULT_THRESHOLD,\n",
    "                 stride=DEFAULT_STRIDE, \n",
    "                 cut_length=CUT_LENGTH, \n",
    "                 data_directory=DATA_DIRECTORY,\n",
    "                 device=DEVICE):\n",
    "        self.threshold = threshold\n",
    "        self.stride = stride\n",
    "        self.cut_length = cut_length\n",
    "        self.device = device\n",
    "\n",
    "        self.model = torch.jit.load(str(data_directory / f\"{model_name}.pt\")).to(self.device)\n",
    "        \n",
    "    def split(self, text):\n",
    "        all_inputs = []\n",
    "        all_idx = []\n",
    "\n",
    "        inputs = [text_to_id(x) for x in text]\n",
    "\n",
    "        while len(inputs) < self.cut_length:\n",
    "            inputs.append(0)\n",
    "\n",
    "        n_preds = np.zeros(len(inputs))\n",
    "\n",
    "        start = 0\n",
    "        end = -1\n",
    "        while end != len(inputs):\n",
    "            end = min(start + self.cut_length, len(inputs))\n",
    "            start = end - self.cut_length\n",
    "\n",
    "            idx = slice(start, end)\n",
    "            all_inputs.append(inputs[idx])\n",
    "            all_idx.append(idx)\n",
    "\n",
    "            n_preds[idx] += 1\n",
    "\n",
    "            start += self.stride\n",
    "\n",
    "        batched_inputs = torch.tensor(all_inputs, dtype=torch.int64, device=self.device)\n",
    "        preds = torch.sigmoid(self.model(batched_inputs).detach().cpu()).numpy()\n",
    "\n",
    "        avg_preds = np.zeros((len(inputs), 2))\n",
    "\n",
    "        for pred, idx in zip(preds, all_idx):\n",
    "            avg_preds[idx] += pred\n",
    "\n",
    "        avg_preds /= n_preds[:, None]\n",
    "\n",
    "        sentences = []\n",
    "        tokens = []\n",
    "        token = \"\"\n",
    "\n",
    "        for char, pred in zip(text, avg_preds):\n",
    "            token += char\n",
    "\n",
    "            if pred[0] > self.threshold:\n",
    "                tokens.append(token)\n",
    "                token = \"\"\n",
    "\n",
    "            if pred[1] > self.threshold:\n",
    "                sentences.append(tokens)\n",
    "                tokens = []\n",
    "\n",
    "        if len(token) > 0:\n",
    "            tokens.append(token)\n",
    "\n",
    "        if len(tokens) > 0:\n",
    "            sentences.append(tokens)\n",
    "\n",
    "        return sentences"
   ]
  },
  {
   "cell_type": "code",
   "execution_count": 19,
   "metadata": {},
   "outputs": [
    {
     "data": {
      "text/plain": [
       "[['Das ', 'ist ', 'ein ', 'Test. ', 'Das ', 'ist ', 'noch ', 'ein ', 'Test.']]"
      ]
     },
     "execution_count": 19,
     "metadata": {},
     "output_type": "execute_result"
    }
   ],
   "source": [
    "splitter = NNSplit(\"de\")\n",
    "splitter.split(\"Das ist ein Test. Das ist noch ein Test.\")"
   ]
  }
 ],
 "metadata": {
  "kernelspec": {
   "display_name": "Python 3",
   "language": "python",
   "name": "python3"
  },
  "language_info": {
   "codemirror_mode": {
    "name": "ipython",
    "version": 3
   },
   "file_extension": ".py",
   "mimetype": "text/x-python",
   "name": "python",
   "nbconvert_exporter": "python",
   "pygments_lexer": "ipython3",
   "version": "3.7.4"
  }
 },
 "nbformat": 4,
 "nbformat_minor": 4
}
