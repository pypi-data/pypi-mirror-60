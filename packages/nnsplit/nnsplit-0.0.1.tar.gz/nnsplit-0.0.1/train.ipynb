{
 "cells": [
  {
   "cell_type": "code",
   "execution_count": 1,
   "metadata": {},
   "outputs": [],
   "source": [
    "from somajo import SoMaJo\n",
    "import random\n",
    "import time\n",
    "from tqdm.notebook import tqdm_notebook as tqdm\n",
    "import numpy as np\n",
    "import matplotlib.pyplot as plt\n",
    "import seaborn as sns\n",
    "from pathlib import Path\n",
    "from collections import Counter\n",
    "from lxml.etree import iterparse\n",
    "from xml.etree import ElementTree\n",
    "import re\n",
    "from multiprocessing import Pool\n",
    "import string\n",
    "from sklearn import metrics\n",
    "\n",
    "import tensorflow as tf\n",
    "from tensorflow.keras import layers, models\n",
    "\n",
    "import torch\n",
    "from torch import nn\n",
    "from torch.utils import data\n",
    "from torch.nn import functional as F\n",
    "\n",
    "from fastai.train import Learner, DataBunch\n",
    "\n",
    "sns.set()"
   ]
  },
  {
   "cell_type": "code",
   "execution_count": 2,
   "metadata": {},
   "outputs": [
    {
     "data": {
      "text/plain": [
       "device(type='cpu')"
      ]
     },
     "execution_count": 2,
     "metadata": {},
     "output_type": "execute_result"
    }
   ],
   "source": [
    "device = torch.device(\"cpu\")\n",
    "device"
   ]
  },
  {
   "cell_type": "code",
   "execution_count": 3,
   "metadata": {},
   "outputs": [],
   "source": [
    "REMOVE_DOT_CHANCE = 0.5\n",
    "LOWERCASE_START_CHANCE = 0.5\n",
    "MIN_LENGTH = 600\n",
    "N_CUTS = 4\n",
    "CUT_LENGTH = 100"
   ]
  },
  {
   "cell_type": "code",
   "execution_count": 5,
   "metadata": {},
   "outputs": [],
   "source": [
    "class Network(nn.Module):\n",
    "    def __init__(self):\n",
    "        super().__init__()\n",
    "        self.embedding = nn.Embedding(127 + 2, 25)\n",
    "        self.lstm1 = nn.LSTM(25, 50, bidirectional=True, batch_first=True, bias=False)\n",
    "        self.lstm2 = nn.LSTM(100, 50, bidirectional=True, batch_first=True, bias=False)\n",
    "        self.out = nn.Linear(100, 2)\n",
    "    \n",
    "    def get_keras_equivalent(self):\n",
    "        k_model = models.Sequential()\n",
    "        k_model.add(layers.Input(shape=(None,)))\n",
    "        \n",
    "        k_model.add(layers.Embedding(127 + 2, 25))\n",
    "        k_model.layers[-1].set_weights([self.embedding.weight.detach().cpu().numpy()])\n",
    "        \n",
    "        k_model.add(layers.Bidirectional(layers.LSTM(50, return_sequences=True, use_bias=False)))\n",
    "        k_model.layers[-1].set_weights([np.transpose(x.detach().cpu().numpy()) for x in self.lstm1.parameters()])\n",
    "                \n",
    "        k_model.add(layers.Bidirectional(layers.LSTM(50, return_sequences=True, use_bias=False)))\n",
    "        k_model.layers[-1].set_weights([np.transpose(x.detach().cpu().numpy()) for x in self.lstm2.parameters()])\n",
    "        \n",
    "        k_model.add(layers.Dense(2))\n",
    "        k_model.layers[-1].set_weights([np.transpose(x.detach().cpu().numpy()) for x in self.out.parameters()])\n",
    "        return k_model\n",
    "        \n",
    "    def forward(self, x):\n",
    "        h = self.embedding(x.long())\n",
    "        h, _ = self.lstm1(h)\n",
    "        h, _ = self.lstm2(h)\n",
    "        h = self.out(h)\n",
    "        return h"
   ]
  },
  {
   "cell_type": "markdown",
   "metadata": {},
   "source": [
    "# Data"
   ]
  },
  {
   "cell_type": "code",
   "execution_count": 10,
   "metadata": {},
   "outputs": [],
   "source": [
    "tokenizer = SoMaJo(\"de_CMC\", split_camel_case=True, split_sentences=True)\n",
    "\n",
    "def split_func(paragraph):\n",
    "    return tokenizer.tokenize_text([paragraph])\n",
    "    \n",
    "def text_to_id(char):\n",
    "    x = ord(char)\n",
    "    return x + 2 if x <= 127 else 1\n",
    "    \n",
    "def id_to_text(x):\n",
    "    return chr(x - 2) if (x - 2) <= 127 and x > 1 else \"X\"\n",
    "    \n",
    "def generate_data(paragraph):\n",
    "    if len(paragraph) < MIN_LENGTH:\n",
    "        return [], []\n",
    "    \n",
    "    p_text, p_labels = paragraph_to_io(paragraph)\n",
    "    assert len(p_text) == len(p_labels)\n",
    "    \n",
    "    inputs = [[] for _ in range(N_CUTS)]\n",
    "    labels = [[] for _ in range(N_CUTS)]\n",
    "    \n",
    "    for j in range(N_CUTS):\n",
    "        start = random.randint(0, len(p_text))\n",
    "        \n",
    "        for k in range(CUT_LENGTH):\n",
    "            if start + k >= len(p_text):\n",
    "                inputs[j].append(0)\n",
    "                labels[j].append([0.0, 0.0])\n",
    "            else:\n",
    "                inputs[j].append(text_to_id(p_text[start + k]))\n",
    "                labels[j].append(p_labels[start + k])\n",
    "    \n",
    "    return inputs, labels\n",
    "    \n",
    "def paragraph_to_io(paragraph):\n",
    "    tokenized_p = split_func(paragraph)\n",
    "    \n",
    "    text = \"\"\n",
    "    labels = []\n",
    "    \n",
    "    for sentence in tokenized_p:\n",
    "        for i, token in enumerate(sentence):\n",
    "            whitespace = \" \" if token.space_after else \"\"\n",
    "            text_to_append = token.text + whitespace\n",
    "\n",
    "            if token.text == \".\" and i == len(sentence) - 1 and random.random() < REMOVE_DOT_CHANCE:\n",
    "                text_to_append = whitespace\n",
    "                if len(text_to_append) > 0 and len(labels) > 1:\n",
    "                    labels[-2][0] = 0.0\n",
    "\n",
    "            if i == 0 and random.random() < LOWERCASE_START_CHANCE:\n",
    "                text_to_append = token.text.lower() + whitespace\n",
    "\n",
    "            for _ in range(len(text_to_append)):\n",
    "                labels.append([0.0, 0.0])\n",
    "            \n",
    "            if len(labels) > 0:\n",
    "                labels[-1][0] = 1.0\n",
    "                \n",
    "            text += text_to_append\n",
    "        \n",
    "        labels[-1][1] = 1.0\n",
    "        \n",
    "    return text, labels"
   ]
  },
  {
   "cell_type": "code",
   "execution_count": 11,
   "metadata": {},
   "outputs": [],
   "source": [
    "def fast_iter(context):\n",
    "    for event, elem in context:\n",
    "        text = ElementTree.tostring(elem, encoding=\"utf8\").decode(\"utf-8\")\n",
    "        text = re.sub(r\"(<h>(.*?)<\\/h>)\", \"\\n\", text)\n",
    "        text = re.sub(r\"<.*?>\", \"\", text)\n",
    "        yield text\n",
    "\n",
    "        # It's safe to call clear() here because no descendants will be\n",
    "        # accessed\n",
    "        elem.clear()\n",
    "        # Also eliminate now-empty references from the root node to elem\n",
    "        for ancestor in elem.xpath(\"ancestor-or-self::*\"):\n",
    "            while ancestor.getprevious() is not None:\n",
    "                parent = ancestor.getparent()\n",
    "\n",
    "                if parent is not None:\n",
    "                    del parent[0]\n",
    "                else:\n",
    "                    break"
   ]
  },
  {
   "cell_type": "code",
   "execution_count": 12,
   "metadata": {},
   "outputs": [
    {
     "data": {
      "application/vnd.jupyter.widget-view+json": {
       "model_id": "3d9e91de68234d9a99214dfb7401dd2e",
       "version_major": 2,
       "version_minor": 0
      },
      "text/plain": [
       "HBox(children=(IntProgress(value=0), HTML(value='')))"
      ]
     },
     "metadata": {},
     "output_type": "display_data"
    }
   ],
   "source": [
    "MAX_N_TEXTS = 100\n",
    "all_texts = np.zeros([MAX_N_TEXTS, CUT_LENGTH], dtype=np.int64)\n",
    "all_labels = np.zeros([MAX_N_TEXTS, CUT_LENGTH, 2], dtype=np.float32)\n",
    "\n",
    "bar = tqdm(total=MAX_N_TEXTS)\n",
    "\n",
    "i = 0\n",
    "for paragraph in fast_iter(iterparse(\"data/sample-monolingual.xml\", tag=\"p\")):\n",
    "    text, labels = generate_data(paragraph)\n",
    "    \n",
    "    length = min(len(text), MAX_N_TEXTS - i)\n",
    "    \n",
    "    if length > 0:\n",
    "        all_texts[i:i+length] = text[:length]\n",
    "        all_labels[i:i+length] = labels[:length]\n",
    "    \n",
    "    i = i + length\n",
    "    \n",
    "    if i == MAX_N_TEXTS:\n",
    "        break\n",
    "    \n",
    "    bar.update(length)\n",
    "    \n",
    "if i < MAX_N_TEXTS:\n",
    "    all_texts = all_texts[:i]\n",
    "    all_labels = all_labels[:i]"
   ]
  },
  {
   "cell_type": "code",
   "execution_count": 13,
   "metadata": {},
   "outputs": [],
   "source": [
    "np.save(\"all_texts.npy\", all_texts)\n",
    "np.save(\"all_labels.npy\", all_labels)"
   ]
  },
  {
   "cell_type": "code",
   "execution_count": 14,
   "metadata": {},
   "outputs": [],
   "source": [
    "all_texts = np.load(\"all_texts.npy\")\n",
    "all_labels = np.load(\"all_labels.npy\")"
   ]
  },
  {
   "cell_type": "code",
   "execution_count": 15,
   "metadata": {},
   "outputs": [
    {
     "name": "stdout",
     "output_type": "stream",
     "text": [
      "g [0.0, 0.0]\n",
      "  [1.0, 0.0]\n",
      "t [0.0, 0.0]\n",
      "h [0.0, 0.0]\n",
      "e [0.0, 0.0]\n",
      "i [0.0, 0.0]\n",
      "r [0.0, 0.0]\n",
      "  [1.0, 0.0]\n",
      "n [0.0, 0.0]\n",
      "a [0.0, 0.0]\n",
      "m [0.0, 0.0]\n",
      "e [1.0, 0.0]\n",
      ", [0.0, 0.0]\n",
      "  [1.0, 0.0]\n",
      "s [0.0, 0.0]\n",
      "u [0.0, 0.0]\n",
      "c [0.0, 0.0]\n",
      "h [0.0, 0.0]\n",
      "  [1.0, 0.0]\n",
      "a [0.0, 0.0]\n",
      "s [0.0, 0.0]\n",
      "  [1.0, 0.0]\n",
      "t [0.0, 0.0]\n",
      "h [0.0, 0.0]\n",
      "e [0.0, 0.0]\n",
      "  [1.0, 0.0]\n",
      "J [0.0, 0.0]\n",
      "a [0.0, 0.0]\n",
      "v [0.0, 0.0]\n",
      "a [0.0, 0.0]\n",
      "  [1.0, 0.0]\n",
      "s [0.0, 0.0]\n",
      "p [0.0, 0.0]\n",
      "a [0.0, 0.0]\n",
      "r [0.0, 0.0]\n",
      "r [0.0, 0.0]\n",
      "o [0.0, 0.0]\n",
      "w [0.0, 0.0]\n",
      "  [1.0, 0.0]\n",
      "o [0.0, 0.0]\n",
      "f [0.0, 0.0]\n",
      "  [1.0, 0.0]\n",
      "t [0.0, 0.0]\n",
      "h [0.0, 0.0]\n",
      "e [0.0, 0.0]\n",
      "  [1.0, 0.0]\n",
      "f [0.0, 0.0]\n",
      "a [0.0, 0.0]\n",
      "m [0.0, 0.0]\n",
      "i [0.0, 0.0]\n",
      "l [0.0, 0.0]\n",
      "y [0.0, 0.0]\n",
      "  [1.0, 0.0]\n",
      "E [0.0, 0.0]\n",
      "s [0.0, 0.0]\n",
      "t [0.0, 0.0]\n",
      "r [0.0, 0.0]\n",
      "i [0.0, 0.0]\n",
      "l [0.0, 0.0]\n",
      "d [0.0, 0.0]\n",
      "i [0.0, 0.0]\n",
      "d [0.0, 0.0]\n",
      "a [0.0, 0.0]\n",
      "e [1.0, 0.0]\n",
      ". [0.0, 0.0]\n",
      "  [1.0, 1.0]\n",
      "m [0.0, 0.0]\n",
      "a [0.0, 0.0]\n",
      "n [0.0, 0.0]\n",
      "y [0.0, 0.0]\n",
      "  [1.0, 0.0]\n",
      "s [0.0, 0.0]\n",
      "p [0.0, 0.0]\n",
      "e [0.0, 0.0]\n",
      "c [0.0, 0.0]\n",
      "i [0.0, 0.0]\n",
      "e [0.0, 0.0]\n",
      "s [0.0, 0.0]\n",
      "  [1.0, 0.0]\n",
      "n [0.0, 0.0]\n",
      "e [0.0, 0.0]\n",
      "s [0.0, 0.0]\n",
      "t [0.0, 0.0]\n",
      "  [1.0, 0.0]\n",
      "o [0.0, 0.0]\n",
      "n [0.0, 0.0]\n",
      "  [1.0, 0.0]\n",
      "b [0.0, 0.0]\n",
      "u [0.0, 0.0]\n",
      "i [0.0, 0.0]\n",
      "l [0.0, 0.0]\n",
      "d [0.0, 0.0]\n",
      "i [0.0, 0.0]\n",
      "n [0.0, 0.0]\n",
      "g [0.0, 0.0]\n",
      "s [0.0, 0.0]\n",
      "  [1.0, 0.0]\n",
      "a [0.0, 0.0]\n",
      "n [0.0, 0.0]\n",
      "d [0.0, 0.0]\n"
     ]
    }
   ],
   "source": [
    "n = 1\n",
    "sample_chars = ''.join([id_to_text(x) for x in all_texts[n].tolist()])\n",
    "sample_label = all_labels[n].tolist()\n",
    "\n",
    "for char, l in zip(sample_chars, sample_label):\n",
    "    print(char, l)"
   ]
  },
  {
   "cell_type": "markdown",
   "metadata": {},
   "source": [
    "# Model"
   ]
  },
  {
   "cell_type": "code",
   "execution_count": 16,
   "metadata": {},
   "outputs": [],
   "source": [
    "valid_percent = 0.1\n",
    "n_valid = int(len(all_texts) * valid_percent)\n",
    "\n",
    "permutation = np.random.permutation(np.arange(len(all_texts)))\n",
    "valid_idx, train_idx = permutation[:n_valid], permutation[n_valid:]"
   ]
  },
  {
   "cell_type": "code",
   "execution_count": 17,
   "metadata": {},
   "outputs": [],
   "source": [
    "all_texts_tensor = torch.from_numpy(all_texts)\n",
    "all_labels_tensor = torch.from_numpy(all_labels)\n",
    "\n",
    "train_dataset = data.TensorDataset(all_texts_tensor[train_idx], all_labels_tensor[train_idx])\n",
    "valid_dataset = data.TensorDataset(all_texts_tensor[valid_idx], all_labels_tensor[valid_idx])"
   ]
  },
  {
   "cell_type": "code",
   "execution_count": 18,
   "metadata": {},
   "outputs": [],
   "source": [
    "def loss(inputs, targets):\n",
    "    return F.binary_cross_entropy_with_logits(inputs, targets.float())"
   ]
  },
  {
   "cell_type": "code",
   "execution_count": 19,
   "metadata": {},
   "outputs": [
    {
     "data": {
      "text/plain": [
       "Learner(data=DataBunch;\n",
       "\n",
       "Train: <torch.utils.data.dataset.TensorDataset object at 0x7f6cbaee0790>;\n",
       "\n",
       "Valid: <torch.utils.data.dataset.TensorDataset object at 0x7f6cbaee0b50>;\n",
       "\n",
       "Test: None, model=Network(\n",
       "  (embedding): Embedding(129, 25)\n",
       "  (lstm1): LSTM(25, 50, bias=False, batch_first=True, bidirectional=True)\n",
       "  (lstm2): LSTM(100, 50, bias=False, batch_first=True, bidirectional=True)\n",
       "  (out): Linear(in_features=100, out_features=2, bias=True)\n",
       "), opt_func=functools.partial(<class 'torch.optim.adam.Adam'>, betas=(0.9, 0.99)), loss_func=<function loss at 0x7f6cbaf683b0>, metrics=[], true_wd=True, bn_wd=True, wd=0.01, train_bn=True, path=PosixPath('.'), model_dir='models', callback_fns=[functools.partial(<class 'fastai.basic_train.Recorder'>, add_time=True, silent=False)], callbacks=[], layer_groups=[Sequential(\n",
       "  (0): Embedding(129, 25)\n",
       "  (1): LSTM(25, 50, bias=False, batch_first=True, bidirectional=True)\n",
       "  (2): LSTM(100, 50, bias=False, batch_first=True, bidirectional=True)\n",
       "  (3): Linear(in_features=100, out_features=2, bias=True)\n",
       ")], add_time=True, silent=False)"
      ]
     },
     "execution_count": 19,
     "metadata": {},
     "output_type": "execute_result"
    }
   ],
   "source": [
    "batch_size = 128\n",
    "\n",
    "model = Network()\n",
    "\n",
    "train_loader = data.DataLoader(train_dataset,\n",
    "                               batch_size=batch_size, \n",
    "                               shuffle=True,\n",
    "                               pin_memory=False)\n",
    "valid_loader = data.DataLoader(valid_dataset, \n",
    "                               batch_size=batch_size, \n",
    "                               shuffle=False,\n",
    "                               pin_memory=False)\n",
    "\n",
    "databunch = DataBunch(train_dl=train_loader, valid_dl=valid_loader)\n",
    "learn = Learner(databunch, model, loss_func=loss)\n",
    "learn"
   ]
  },
  {
   "cell_type": "code",
   "execution_count": 20,
   "metadata": {},
   "outputs": [
    {
     "data": {
      "text/html": [
       "<table border=\"1\" class=\"dataframe\">\n",
       "  <thead>\n",
       "    <tr style=\"text-align: left;\">\n",
       "      <th>epoch</th>\n",
       "      <th>train_loss</th>\n",
       "      <th>valid_loss</th>\n",
       "      <th>time</th>\n",
       "    </tr>\n",
       "  </thead>\n",
       "  <tbody>\n",
       "    <tr>\n",
       "      <td>0</td>\n",
       "      <td>0.707584</td>\n",
       "      <td>0.706329</td>\n",
       "      <td>00:00</td>\n",
       "    </tr>\n",
       "  </tbody>\n",
       "</table>"
      ],
      "text/plain": [
       "<IPython.core.display.HTML object>"
      ]
     },
     "metadata": {},
     "output_type": "display_data"
    }
   ],
   "source": [
    "learn.fit_one_cycle(1)"
   ]
  },
  {
   "cell_type": "code",
   "execution_count": 21,
   "metadata": {},
   "outputs": [],
   "source": [
    "learn.save(Path(\"learn\").resolve())"
   ]
  },
  {
   "cell_type": "code",
   "execution_count": 13,
   "metadata": {},
   "outputs": [],
   "source": [
    "learn = learn.load(Path(\"learn\").resolve())"
   ]
  },
  {
   "cell_type": "code",
   "execution_count": 22,
   "metadata": {},
   "outputs": [
    {
     "data": {
      "text/html": [],
      "text/plain": [
       "<IPython.core.display.HTML object>"
      ]
     },
     "metadata": {},
     "output_type": "display_data"
    }
   ],
   "source": [
    "preds, targets = learn.get_preds()\n",
    "preds = preds.reshape((-1, 2))\n",
    "targets = targets.reshape((-1, 2))"
   ]
  },
  {
   "cell_type": "code",
   "execution_count": 23,
   "metadata": {},
   "outputs": [],
   "source": [
    "token_preds = preds[:, 0]\n",
    "token_targets = targets[:, 0]\n",
    "\n",
    "sentence_preds = preds[:, 1]\n",
    "sentence_targets = targets[:, 1]\n",
    "\n",
    "t_precision, t_recall, t_thresholds = metrics.precision_recall_curve(token_targets, token_preds)\n",
    "s_precision, s_recall, s_thresholds = metrics.precision_recall_curve(sentence_targets, sentence_preds)"
   ]
  },
  {
   "cell_type": "code",
   "execution_count": 24,
   "metadata": {},
   "outputs": [
    {
     "data": {
      "text/plain": [
       "Text(0.5, 1.0, 'Precision vs Recall of Sentencizer')"
      ]
     },
     "execution_count": 24,
     "metadata": {},
     "output_type": "execute_result"
    },
    {
     "data": {
      "image/png": "[encoded data removed]",
      "text/plain": [
       "<Figure size 1008x1008 with 2 Axes>"
      ]
     },
     "metadata": {},
     "output_type": "display_data"
    }
   ],
   "source": [
    "fig, axarr = plt.subplots(2, 1, figsize=(14, 14), sharex=True)\n",
    "axarr[0].plot(t_precision, t_recall)\n",
    "axarr[0].set_title(\"Precision vs Recall of Tokenizer\")\n",
    "axarr[0].set_ylabel(\"Recall\")\n",
    "axarr[1].plot(s_precision, s_recall)\n",
    "axarr[1].set_ylabel(\"Recall\")\n",
    "axarr[1].set_xlabel(\"Precision\")\n",
    "axarr[1].set_title(\"Precision vs Recall of Sentencizer\")"
   ]
  },
  {
   "cell_type": "code",
   "execution_count": 25,
   "metadata": {},
   "outputs": [],
   "source": [
    "stride = 90\n",
    "\n",
    "def predict(text, threshold=0.5):\n",
    "    all_inputs = []\n",
    "    all_idx = []\n",
    "    \n",
    "    inputs = [text_to_id(x) for x in text]\n",
    "    \n",
    "    while len(inputs) < CUT_LENGTH:\n",
    "        inputs.append(0)\n",
    "    \n",
    "    n_preds = np.zeros(len(inputs))\n",
    "    \n",
    "    start = 0\n",
    "    end = -1\n",
    "    while end != len(inputs):\n",
    "        end = min(start + CUT_LENGTH, len(inputs))\n",
    "        start = end - CUT_LENGTH\n",
    "        \n",
    "        idx = slice(start, end)\n",
    "        all_inputs.append(inputs[idx])\n",
    "        all_idx.append(idx)\n",
    "        \n",
    "        n_preds[idx] += 1\n",
    "        \n",
    "        start += stride\n",
    "    \n",
    "    batched_inputs = torch.tensor(all_inputs, device=device, dtype=torch.int64)\n",
    "    preds = torch.sigmoid(model(batched_inputs).detach().cpu()).numpy()\n",
    "    \n",
    "    avg_preds = np.zeros((len(inputs), 2))\n",
    "    \n",
    "    for pred, idx in zip(preds, all_idx):\n",
    "        avg_preds[idx] += pred\n",
    "        \n",
    "    avg_preds /= n_preds[:, None]\n",
    "    \n",
    "    sentences = []\n",
    "    tokens = []\n",
    "    token = \"\"\n",
    "    \n",
    "    for char, pred in zip(text, avg_preds):\n",
    "        token += char\n",
    "        \n",
    "        if pred[0] > threshold:\n",
    "            tokens.append(token)\n",
    "            token = \"\"\n",
    "    \n",
    "        if pred[1] > threshold:\n",
    "            sentences.append(tokens)\n",
    "            tokens = []\n",
    "    \n",
    "    if len(token) > 0:\n",
    "        tokens.append(token)\n",
    "    \n",
    "    if len(tokens) > 0:\n",
    "        sentences.append(tokens)\n",
    "    \n",
    "    return sentences\n",
    "\n",
    "def predict_somajo(text):\n",
    "    somajo_sentences = tokenizer.tokenize_text([text])\n",
    "\n",
    "    sentences = []\n",
    "    \n",
    "    for sentence in somajo_sentences:\n",
    "        tokens = []\n",
    "    \n",
    "        for token in sentence:\n",
    "            tokens.append(token.text + (\" \" if token.space_after else \"\"))\n",
    "\n",
    "        sentences.append(tokens)\n",
    "            \n",
    "    return sentences"
   ]
  },
  {
   "cell_type": "code",
   "execution_count": 26,
   "metadata": {},
   "outputs": [
    {
     "name": "stdout",
     "output_type": "stream",
     "text": [
      "36.6 ms ± 216 µs per loop (mean ± std. dev. of 7 runs, 10 loops each)\n"
     ]
    }
   ],
   "source": [
    "%timeit predict(\"Das ist ein Test. Das ist noch ein Test.\")"
   ]
  },
  {
   "cell_type": "code",
   "execution_count": 27,
   "metadata": {},
   "outputs": [
    {
     "name": "stdout",
     "output_type": "stream",
     "text": [
      "SoMaJo: \n",
      "Der Dipl-Ing. Maier ist am Wort. \n",
      "Er sagt nicht viel. \n",
      "Neuralsplit\n",
      "Der Dipl-Ing. Maier ist am Wort. Er sagt nicht viel.\n",
      "\n",
      "SoMaJo: \n",
      "Der Dipl-ag. \n",
      "Maier ist am Wort. \n",
      "Er sagt nicht viel. \n",
      "Neuralsplit\n",
      "Der Dipl-ag. Maier ist am Wort. Er sagt nicht viel.\n",
      "\n",
      "SoMaJo: \n",
      "Der Herr Maier ist am Wort Er sagt nicht viel. \n",
      "Neuralsplit\n",
      "Der Herr Maier ist am Wort Er sagt nicht viel.\n",
      "\n",
      "SoMaJo: \n",
      "Der Herr Maier ist am Wort. er sagt nicht viel. \n",
      "Neuralsplit\n",
      "Der Herr Maier ist am Wort. er sagt nicht viel.\n",
      "\n"
     ]
    }
   ],
   "source": [
    "test_paragraphs = [\"Der Dipl-Ing. Maier ist am Wort. Er sagt nicht viel.\", \n",
    "                   \"Der Dipl-ag. Maier ist am Wort. Er sagt nicht viel.\",\n",
    "                   \"Der Herr Maier ist am Wort Er sagt nicht viel.\",\n",
    "                   \"Der Herr Maier ist am Wort. er sagt nicht viel.\"]\n",
    "\n",
    "for p in test_paragraphs:\n",
    "    print(\"SoMaJo: \")\n",
    "    for sentence in predict_somajo(p):\n",
    "        print(\"\".join(sentence))\n",
    "    \n",
    "    print(\"Neuralsplit\")\n",
    "    \n",
    "    for sentence in predict(p, threshold=0.95):\n",
    "        print(\"\".join(sentence))\n",
    "        \n",
    "    print()"
   ]
  },
  {
   "cell_type": "markdown",
   "metadata": {},
   "source": [
    "# TFJS"
   ]
  },
  {
   "cell_type": "code",
   "execution_count": 13,
   "metadata": {},
   "outputs": [],
   "source": [
    "import tensorflowjs as tfjs"
   ]
  },
  {
   "cell_type": "code",
   "execution_count": 14,
   "metadata": {},
   "outputs": [],
   "source": [
    "tfjs.converters.save_keras_model(model, \"tfjs\")"
   ]
  },
  {
   "cell_type": "markdown",
   "metadata": {},
   "source": [
    "# LibTorch"
   ]
  },
  {
   "cell_type": "code",
   "execution_count": 28,
   "metadata": {},
   "outputs": [
    {
     "data": {
      "text/plain": [
       "Network(\n",
       "  (embedding): Embedding(129, 25)\n",
       "  (lstm1): LSTM(25, 50, bias=False, batch_first=True, bidirectional=True)\n",
       "  (lstm2): LSTM(100, 50, bias=False, batch_first=True, bidirectional=True)\n",
       "  (out): Linear(in_features=100, out_features=2, bias=True)\n",
       ")"
      ]
     },
     "execution_count": 28,
     "metadata": {},
     "output_type": "execute_result"
    }
   ],
   "source": [
    "model.cpu()"
   ]
  },
  {
   "cell_type": "code",
   "execution_count": 29,
   "metadata": {},
   "outputs": [],
   "source": [
    "traced = torch.jit.trace(model, all_texts_tensor[:1])\n",
    "traced.save(\"traced.pt\")"
   ]
  }
 ],
 "metadata": {
  "kernelspec": {
   "display_name": "Python 3",
   "language": "python",
   "name": "python3"
  },
  "language_info": {
   "codemirror_mode": {
    "name": "ipython",
    "version": 3
   },
   "file_extension": ".py",
   "mimetype": "text/x-python",
   "name": "python",
   "nbconvert_exporter": "python",
   "pygments_lexer": "ipython3",
   "version": "3.7.4"
  }
 },
 "nbformat": 4,
 "nbformat_minor": 2
}
