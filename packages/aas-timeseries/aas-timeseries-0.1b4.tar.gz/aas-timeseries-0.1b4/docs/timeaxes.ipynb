{
 "cells": [
  {
   "cell_type": "markdown",
   "metadata": {},
   "source": [
    "# Absolute times, relative times, and phases"
   ]
  },
  {
   "cell_type": "markdown",
   "metadata": {},
   "source": [
    "## Types of time axes"
   ]
  },
  {
   "cell_type": "markdown",
   "metadata": {},
   "source": [
    "So far, the examples we've looked at all involve time series with absolute time on the x axis. However, it is also possible to show relative times, or even phases. To take a look at this, we will use a dataset that consists of radial velocities as a function of time:"
   ]
  },
  {
   "cell_type": "code",
   "execution_count": 1,
   "metadata": {},
   "outputs": [],
   "source": [
    "from astropy.timeseries import TimeSeries"
   ]
  },
  {
   "cell_type": "code",
   "execution_count": 2,
   "metadata": {},
   "outputs": [],
   "source": [
    "ts = TimeSeries.read('https://aperiosoftware.github.io/timeseries.js/examples/data/phase.csv', format='ascii.csv')"
   ]
  },
  {
   "cell_type": "code",
   "execution_count": 3,
   "metadata": {},
   "outputs": [
    {
     "data": {
      "text/html": [
       "<i>TimeSeries length=26</i>\n",
       "<table id=\"table140221562551096\" class=\"table-striped table-bordered table-condensed\">\n",
       "<thead><tr><th>time</th><th>relative</th><th>phase</th><th>flux</th><th>error</th><th>flux_lo</th><th>flux_hi</th></tr></thead>\n",
       "<thead><tr><th>object</th><th>int64</th><th>float64</th><th>float64</th><th>float64</th><th>float64</th><th>float64</th></tr></thead>\n",
       "<tr><td>2016-03-22T12:30:28.000</td><td>0</td><td>0.0</td><td>0.98</td><td>0.15</td><td>0.97</td><td>1.0</td></tr>\n",
       "<tr><td>2016-03-22T12:30:38.000</td><td>10</td><td>0.1</td><td>1.02</td><td>0.15</td><td>1.0</td><td>1.03</td></tr>\n",
       "<tr><td>2016-03-22T12:30:48.000</td><td>20</td><td>0.2</td><td>1.01</td><td>0.15</td><td>1.0</td><td>1.02</td></tr>\n",
       "<tr><td>2016-03-22T12:30:58.000</td><td>30</td><td>0.3</td><td>0.87</td><td>0.15</td><td>0.85</td><td>0.89</td></tr>\n",
       "<tr><td>2016-03-22T12:31:08.000</td><td>40</td><td>0.4</td><td>0.75</td><td>0.15</td><td>0.72</td><td>0.76</td></tr>\n",
       "<tr><td>2016-03-22T12:31:18.000</td><td>50</td><td>0.5</td><td>0.7</td><td>0.15</td><td>0.69</td><td>0.71</td></tr>\n",
       "<tr><td>2016-03-22T12:31:28.000</td><td>60</td><td>0.6</td><td>0.71</td><td>0.15</td><td>0.7</td><td>0.72</td></tr>\n",
       "<tr><td>2016-03-22T12:31:38.000</td><td>70</td><td>0.7</td><td>0.82</td><td>0.15</td><td>0.805</td><td>0.835</td></tr>\n",
       "<tr><td>2016-03-22T12:31:48.000</td><td>80</td><td>0.8</td><td>0.97</td><td>0.15</td><td>0.96</td><td>0.985</td></tr>\n",
       "<tr><td>2016-03-22T12:31:58.000</td><td>90</td><td>0.9</td><td>1.02</td><td>0.15</td><td>1.01</td><td>1.04</td></tr>\n",
       "<tr><td>...</td><td>...</td><td>...</td><td>...</td><td>...</td><td>...</td><td>...</td></tr>\n",
       "<tr><td>2016-03-22T12:33:08.000</td><td>160</td><td>0.6</td><td>0.69</td><td>0.15</td><td>0.65</td><td>0.75</td></tr>\n",
       "<tr><td>2016-03-22T12:33:18.000</td><td>170</td><td>0.7</td><td>0.73</td><td>0.15</td><td>0.68</td><td>0.78</td></tr>\n",
       "<tr><td>2016-03-22T12:33:28.000</td><td>180</td><td>0.8</td><td>0.86</td><td>0.15</td><td>0.8</td><td>0.91</td></tr>\n",
       "<tr><td>2016-03-22T12:33:38.000</td><td>190</td><td>0.9</td><td>1.0</td><td>0.15</td><td>0.98</td><td>1.02</td></tr>\n",
       "<tr><td>2016-03-22T12:33:48.000</td><td>200</td><td>1.0</td><td>0.99</td><td>0.15</td><td>0.97</td><td>1.02</td></tr>\n",
       "<tr><td>2016-03-22T12:33:58.000</td><td>210</td><td>0.1</td><td>1.01</td><td>0.15</td><td>1.0</td><td>1.02</td></tr>\n",
       "<tr><td>2016-03-22T12:34:00.000</td><td>212</td><td>0.12</td><td>1.007</td><td>0.15</td><td>1.0</td><td>1.024</td></tr>\n",
       "<tr><td>2016-03-22T12:34:05.000</td><td>217</td><td>0.17</td><td>1.011</td><td>0.15</td><td>0.995</td><td>1.025</td></tr>\n",
       "<tr><td>2016-03-22T12:34:16.000</td><td>228</td><td>0.28</td><td>0.94</td><td>0.15</td><td>0.89</td><td>1.01</td></tr>\n",
       "<tr><td>2016-03-22T12:34:20.000</td><td>232</td><td>0.32</td><td>0.84</td><td>0.15</td><td>0.78</td><td>0.9</td></tr>\n",
       "</table>"
      ],
      "text/plain": [
       "<TimeSeries length=26>\n",
       "          time          relative  phase    flux   error  flux_lo flux_hi\n",
       "         object          int64   float64 float64 float64 float64 float64\n",
       "----------------------- -------- ------- ------- ------- ------- -------\n",
       "2016-03-22T12:30:28.000        0     0.0    0.98    0.15    0.97     1.0\n",
       "2016-03-22T12:30:38.000       10     0.1    1.02    0.15     1.0    1.03\n",
       "2016-03-22T12:30:48.000       20     0.2    1.01    0.15     1.0    1.02\n",
       "2016-03-22T12:30:58.000       30     0.3    0.87    0.15    0.85    0.89\n",
       "2016-03-22T12:31:08.000       40     0.4    0.75    0.15    0.72    0.76\n",
       "2016-03-22T12:31:18.000       50     0.5     0.7    0.15    0.69    0.71\n",
       "2016-03-22T12:31:28.000       60     0.6    0.71    0.15     0.7    0.72\n",
       "2016-03-22T12:31:38.000       70     0.7    0.82    0.15   0.805   0.835\n",
       "2016-03-22T12:31:48.000       80     0.8    0.97    0.15    0.96   0.985\n",
       "2016-03-22T12:31:58.000       90     0.9    1.02    0.15    1.01    1.04\n",
       "                    ...      ...     ...     ...     ...     ...     ...\n",
       "2016-03-22T12:33:08.000      160     0.6    0.69    0.15    0.65    0.75\n",
       "2016-03-22T12:33:18.000      170     0.7    0.73    0.15    0.68    0.78\n",
       "2016-03-22T12:33:28.000      180     0.8    0.86    0.15     0.8    0.91\n",
       "2016-03-22T12:33:38.000      190     0.9     1.0    0.15    0.98    1.02\n",
       "2016-03-22T12:33:48.000      200     1.0    0.99    0.15    0.97    1.02\n",
       "2016-03-22T12:33:58.000      210     0.1    1.01    0.15     1.0    1.02\n",
       "2016-03-22T12:34:00.000      212    0.12   1.007    0.15     1.0   1.024\n",
       "2016-03-22T12:34:05.000      217    0.17   1.011    0.15   0.995   1.025\n",
       "2016-03-22T12:34:16.000      228    0.28    0.94    0.15    0.89    1.01\n",
       "2016-03-22T12:34:20.000      232    0.32    0.84    0.15    0.78     0.9"
      ]
     },
     "execution_count": 3,
     "metadata": {},
     "output_type": "execute_result"
    }
   ],
   "source": [
    "ts"
   ]
  },
  {
   "cell_type": "markdown",
   "metadata": {},
   "source": [
    "This time series contains an absolute time column, but it also contains a relative time (since the start of the observations) and a pre-computed phase for a given period and epoch. You could also for example compute these on-the-fly and add them to an existing TimeSeries object.\n",
    "\n",
    "Before we proceed, we need to update the TimeSeries object to include information about the units for the relative time column - we can do this using:"
   ]
  },
  {
   "cell_type": "code",
   "execution_count": 4,
   "metadata": {},
   "outputs": [],
   "source": [
    "from astropy import units as u\n",
    "relative = ts['relative']\n",
    "ts.remove_column('relative')\n",
    "ts['relative'] = relative * u.s"
   ]
  },
  {
   "cell_type": "markdown",
   "metadata": {},
   "source": [
    "We can now create a figure that shows relative time instead of absolute time by specifing ``time_mode`` when creating a figure:"
   ]
  },
  {
   "cell_type": "code",
   "execution_count": 5,
   "metadata": {},
   "outputs": [
    {
     "data": {
      "application/vnd.jupyter.widget-view+json": {
       "model_id": "98ef5a01f834477aab23d4d6e40faa9c",
       "version_major": 2,
       "version_minor": 0
      },
      "text/plain": [
       "TimeSeriesWidget(vega_json='{\\n  \"$schema\": \"https://vega.github.io/schema/vega/v4.json\",\\n  \"_extend\": {\\n   …"
      ]
     },
     "metadata": {},
     "output_type": "display_data"
    }
   ],
   "source": [
    "from aas_timeseries import InteractiveTimeSeriesFigure\n",
    "fig = InteractiveTimeSeriesFigure(title='Radial Velocity Curve', time_mode='relative')\n",
    "fig.add_markers(time_series=ts, time_column='relative', column='flux', color='orange', size=50)\n",
    "fig.ylabel='Radial Velocity (km/s)'\n",
    "fig.preview_interactive()"
   ]
  },
  {
   "cell_type": "markdown",
   "metadata": {},
   "source": [
    "Similarly, we can create a figure showing the velocities as a function of phase using:"
   ]
  },
  {
   "cell_type": "code",
   "execution_count": 6,
   "metadata": {},
   "outputs": [
    {
     "data": {
      "application/vnd.jupyter.widget-view+json": {
       "model_id": "b210dbd5b20d41708c7ee5fd2fca0a77",
       "version_major": 2,
       "version_minor": 0
      },
      "text/plain": [
       "TimeSeriesWidget(vega_json='{\\n  \"$schema\": \"https://vega.github.io/schema/vega/v4.json\",\\n  \"_extend\": {\\n   …"
      ]
     },
     "metadata": {},
     "output_type": "display_data"
    }
   ],
   "source": [
    "fig = InteractiveTimeSeriesFigure(title='Radial Velocity Curve', time_mode='phase')\n",
    "fig.add_markers(time_series=ts, time_column='phase', column='flux', color='orange', size=50)\n",
    "fig.ylabel='Radial Velocity (km/s)'\n",
    "fig.preview_interactive()"
   ]
  },
  {
   "cell_type": "markdown",
   "metadata": {},
   "source": [
    "The ``time_mode`` can also be passed when creating views, so we can make a figure that shows absolute time by default, and have a view with the relative time and the phase axes:"
   ]
  },
  {
   "cell_type": "code",
   "execution_count": 7,
   "metadata": {},
   "outputs": [
    {
     "data": {
      "application/vnd.jupyter.widget-view+json": {
       "model_id": "516893148611431aa915e86a87d03bb0",
       "version_major": 2,
       "version_minor": 0
      },
      "text/plain": [
       "TimeSeriesWidget(vega_json='{\\n  \"$schema\": \"https://vega.github.io/schema/vega/v4.json\",\\n  \"_extend\": {\\n   …"
      ]
     },
     "metadata": {},
     "output_type": "display_data"
    }
   ],
   "source": [
    "fig = InteractiveTimeSeriesFigure(title='Radial Velocity Curve', time_mode='absolute')\n",
    "fig.ylabel='Radial Velocity (km/s)'\n",
    "\n",
    "fig.add_markers(time_series=ts, time_column='time', column='flux', color='orange', size=50)\n",
    "\n",
    "view1 = fig.add_view(title='By phase', empty=True, time_mode='phase')\n",
    "view1.add_markers(time_series=ts, time_column='phase', column='flux', color='orange', size=50)\n",
    "\n",
    "view2 = fig.add_view(title='By relative time', empty=True, time_mode='relative')\n",
    "view2.add_markers(time_series=ts, time_column='relative', column='flux', color='orange', size=50)\n",
    "\n",
    "fig.preview_interactive()"
   ]
  },
  {
   "cell_type": "markdown",
   "metadata": {},
   "source": [
    "## Formatting of time axes"
   ]
  },
  {
   "cell_type": "markdown",
   "metadata": {},
   "source": [
    "For each of the different types of time axes, it is possible to customize the format of the axes, by using the ``time_format`` setting. For a figure/view with absolute time, ``time_format`` can be set to ``'jd'``, ``'mjd'``, ``'unix'``, ``'iso'``, or ``'auto'``:"
   ]
  },
  {
   "cell_type": "code",
   "execution_count": 8,
   "metadata": {},
   "outputs": [
    {
     "data": {
      "application/vnd.jupyter.widget-view+json": {
       "model_id": "aaaccd08303841ef8991ba1507266eec",
       "version_major": 2,
       "version_minor": 0
      },
      "text/plain": [
       "TimeSeriesWidget(vega_json='{\\n  \"$schema\": \"https://vega.github.io/schema/vega/v4.json\",\\n  \"_extend\": {\\n   …"
      ]
     },
     "metadata": {},
     "output_type": "display_data"
    }
   ],
   "source": [
    "fig = InteractiveTimeSeriesFigure(title='Radial Velocity Curve', time_mode='absolute')\n",
    "fig.add_markers(time_series=ts, time_column='time', column='flux', color='orange', size=50)\n",
    "fig.time_format = 'jd'\n",
    "fig.preview_interactive()"
   ]
  },
  {
   "cell_type": "markdown",
   "metadata": {},
   "source": [
    "For figures/views with relative times, the ``time_format`` can be set to ``'seconds'``, ``'hours'``, ``'days'``, or ``'years'``:"
   ]
  },
  {
   "cell_type": "code",
   "execution_count": 9,
   "metadata": {},
   "outputs": [
    {
     "data": {
      "application/vnd.jupyter.widget-view+json": {
       "model_id": "bddbfb4e3c254477a2283319b93fc76a",
       "version_major": 2,
       "version_minor": 0
      },
      "text/plain": [
       "TimeSeriesWidget(vega_json='{\\n  \"$schema\": \"https://vega.github.io/schema/vega/v4.json\",\\n  \"_extend\": {\\n   …"
      ]
     },
     "metadata": {},
     "output_type": "display_data"
    }
   ],
   "source": [
    "fig = InteractiveTimeSeriesFigure(title='Radial Velocity Curve', time_mode='relative')\n",
    "fig.add_markers(time_series=ts, time_column='relative', column='flux', color='orange', size=50)\n",
    "fig.time_format = 'hours'\n",
    "fig.preview_interactive()"
   ]
  },
  {
   "cell_type": "markdown",
   "metadata": {},
   "source": [
    "And finally, for phases, this can be set to ``'unity'``, ``'radians'``, or ``'degrees'``:"
   ]
  },
  {
   "cell_type": "code",
   "execution_count": 10,
   "metadata": {},
   "outputs": [
    {
     "data": {
      "application/vnd.jupyter.widget-view+json": {
       "model_id": "9b8a4017b1d74acea1e5709cef1f0f2f",
       "version_major": 2,
       "version_minor": 0
      },
      "text/plain": [
       "TimeSeriesWidget(vega_json='{\\n  \"$schema\": \"https://vega.github.io/schema/vega/v4.json\",\\n  \"_extend\": {\\n   …"
      ]
     },
     "metadata": {},
     "output_type": "display_data"
    }
   ],
   "source": [
    "fig = InteractiveTimeSeriesFigure(title='Radial Velocity Curve', time_mode='phase')\n",
    "fig.add_markers(time_series=ts, time_column='phase', column='flux', color='orange', size=50)\n",
    "fig.time_format = 'radians'\n",
    "fig.preview_interactive()"
   ]
  }
 ],
 "metadata": {
  "kernelspec": {
   "display_name": "Python 3",
   "language": "python",
   "name": "python3"
  },
  "language_info": {
   "codemirror_mode": {
    "name": "ipython",
    "version": 3
   },
   "file_extension": ".py",
   "mimetype": "text/x-python",
   "name": "python",
   "nbconvert_exporter": "python",
   "pygments_lexer": "ipython3",
   "version": "3.7.3"
  },
  "widgets": {
   "application/vnd.jupyter.widget-state+json": {
    "state": {
     "1c92e1ae07e9481f958143fad1d77c5b": {
      "model_module": "@jupyter-widgets/base",
      "model_module_version": "1.1.0",
      "model_name": "LayoutModel",
      "state": {
       "justify_items": null
      }
     },
     "281c9bbad52741a78a56282b9b3cc24a": {
      "model_module": "@jupyter-widgets/base",
      "model_module_version": "1.1.0",
      "model_name": "LayoutModel",
      "state": {
       "justify_items": null
      }
     },
     "2b640a12213e4abe9ff344b888d04d36": {
      "model_module": "@jupyter-widgets/base",
      "model_module_version": "1.1.0",
      "model_name": "LayoutModel",
      "state": {
       "justify_items": null
      }
     },
     "3fc1fddb4cce401bb11a23594f5b4866": {
      "model_module": "@jupyter-widgets/base",
      "model_module_version": "1.1.0",
      "model_name": "LayoutModel",
      "state": {
       "justify_items": null
      }
     },
     "42262b7df786472188b1ed2968ecf7b6": {
      "model_module": "jupyter-aas-timeseries",
      "model_module_version": "^0.1.7",
      "model_name": "TimeSeriesModel",
      "state": {
       "_model_module_version": "^0.1.7",
       "_view_module_version": "^0.1.7",
       "height": 480,
       "layout": "IPY_MODEL_3fc1fddb4cce401bb11a23594f5b4866",
       "vega_json": "{\n  \"$schema\": \"https://vega.github.io/schema/vega/v4.json\",\n  \"_extend\": {\n    \"scales\": [\n      {\n        \"input\": \"unity\",\n        \"name\": \"xscale\",\n        \"output\": \"radians\"\n      }\n    ]\n  },\n  \"autosize\": {\n    \"resize\": false,\n    \"type\": \"fit\"\n  },\n  \"axes\": [\n    {\n      \"orient\": \"bottom\",\n      \"scale\": \"xscale\",\n      \"title\": \"Phase\"\n    },\n    {\n      \"orient\": \"left\",\n      \"scale\": \"yscale\",\n      \"title\": \"\"\n    }\n  ],\n  \"data\": [\n    {\n      \"format\": {\n        \"parse\": {\n          \"flux\": \"number\",\n          \"phase\": \"number\"\n        },\n        \"type\": \"csv\"\n      },\n      \"name\": \"67f2990f-352a-41a3-b568-66be10fd10ba\",\n      \"values\": \"phase,flux\\n0.0,0.98\\n0.1,1.02\\n0.2,1.01\\n0.3,0.87\\n0.4,0.75\\n0.5,0.7\\n0.6,0.71\\n0.7,0.82\\n0.8,0.97\\n0.9,1.02\\n1.0,1.01\\n0.1,1.0\\n0.2,0.99\\n0.29,0.91\\n0.4,0.79\\n0.5,0.71\\n0.6,0.69\\n0.7,0.73\\n0.8,0.86\\n0.9,1.0\\n1.0,0.99\\n0.1,1.01\\n0.12,1.007\\n0.17,1.011\\n0.28,0.94\\n0.32,0.84\\n\"\n    }\n  ],\n  \"height\": 400,\n  \"marks\": [\n    {\n      \"clip\": true,\n      \"description\": \"\",\n      \"encode\": {\n        \"enter\": {\n          \"shape\": {\n            \"value\": \"circle\"\n          },\n          \"x\": {\n            \"field\": \"phase\",\n            \"scale\": \"xscale\"\n          },\n          \"y\": {\n            \"field\": \"flux\",\n            \"scale\": \"yscale\"\n          }\n        },\n        \"update\": {\n          \"fill\": {\n            \"value\": \"#ffa500\"\n          },\n          \"fillOpacity\": {\n            \"value\": 1\n          },\n          \"shape\": {\n            \"value\": \"circle\"\n          },\n          \"size\": {\n            \"value\": 50\n          },\n          \"stroke\": {\n            \"value\": \"#000000\"\n          },\n          \"strokeOpacity\": {\n            \"value\": 0.2\n          },\n          \"strokeWidth\": {\n            \"value\": 0\n          }\n        }\n      },\n      \"from\": {\n        \"data\": \"67f2990f-352a-41a3-b568-66be10fd10ba\"\n      },\n      \"name\": \"5494729e-b48b-4f31-ae9e-7ae78988129d\",\n      \"type\": \"symbol\"\n    }\n  ],\n  \"padding\": 0,\n  \"scales\": [\n    {\n      \"domain\": [\n        0.0,\n        1.0\n      ],\n      \"name\": \"xscale\",\n      \"padding\": 36,\n      \"range\": \"width\",\n      \"type\": \"number\",\n      \"zero\": false\n    },\n    {\n      \"domain\": [\n        0.69,\n        1.02\n      ],\n      \"name\": \"yscale\",\n      \"padding\": 36,\n      \"range\": \"height\",\n      \"type\": \"linear\",\n      \"zero\": false\n    }\n  ],\n  \"title\": \"Radial Velocity Curve\",\n  \"width\": 600\n}",
       "width": 600
      }
     },
     "516893148611431aa915e86a87d03bb0": {
      "model_module": "jupyter-aas-timeseries",
      "model_module_version": "^0.1.7",
      "model_name": "TimeSeriesModel",
      "state": {
       "_model_module_version": "^0.1.7",
       "_view_module_version": "^0.1.7",
       "height": 480,
       "layout": "IPY_MODEL_281c9bbad52741a78a56282b9b3cc24a",
       "vega_json": "{\n  \"$schema\": \"https://vega.github.io/schema/vega/v4.json\",\n  \"_extend\": {\n    \"marks\": [\n      {\n        \"clip\": true,\n        \"description\": \"\",\n        \"encode\": {\n          \"enter\": {\n            \"shape\": {\n              \"value\": \"circle\"\n            },\n            \"x\": {\n              \"field\": \"phase\",\n              \"scale\": \"xscale\"\n            },\n            \"y\": {\n              \"field\": \"flux\",\n              \"scale\": \"yscale\"\n            }\n          },\n          \"update\": {\n            \"fill\": {\n              \"value\": \"#ffa500\"\n            },\n            \"fillOpacity\": {\n              \"value\": 1\n            },\n            \"shape\": {\n              \"value\": \"circle\"\n            },\n            \"size\": {\n              \"value\": 50\n            },\n            \"stroke\": {\n              \"value\": \"#000000\"\n            },\n            \"strokeOpacity\": {\n              \"value\": 0.2\n            },\n            \"strokeWidth\": {\n              \"value\": 0\n            }\n          }\n        },\n        \"from\": {\n          \"data\": \"e0b0235e-7f20-4152-8a81-b460d3cf5885\"\n        },\n        \"name\": \"6cd260a2-f4a7-40ae-9a18-eb107eb1da01\",\n        \"type\": \"symbol\"\n      },\n      {\n        \"clip\": true,\n        \"description\": \"\",\n        \"encode\": {\n          \"enter\": {\n            \"shape\": {\n              \"value\": \"circle\"\n            },\n            \"x\": {\n              \"field\": \"relative\",\n              \"scale\": \"xscale\"\n            },\n            \"y\": {\n              \"field\": \"flux\",\n              \"scale\": \"yscale\"\n            }\n          },\n          \"update\": {\n            \"fill\": {\n              \"value\": \"#ffa500\"\n            },\n            \"fillOpacity\": {\n              \"value\": 1\n            },\n            \"shape\": {\n              \"value\": \"circle\"\n            },\n            \"size\": {\n              \"value\": 50\n            },\n            \"stroke\": {\n              \"value\": \"#000000\"\n            },\n            \"strokeOpacity\": {\n              \"value\": 0.2\n            },\n            \"strokeWidth\": {\n              \"value\": 0\n            }\n          }\n        },\n        \"from\": {\n          \"data\": \"e0b0235e-7f20-4152-8a81-b460d3cf5885\"\n        },\n        \"name\": \"fad9db29-34f8-489e-ae90-ba11caa280ac\",\n        \"type\": \"symbol\"\n      }\n    ],\n    \"scales\": [\n      {\n        \"input\": \"iso\",\n        \"name\": \"xscale\",\n        \"output\": \"auto\"\n      }\n    ]\n  },\n  \"_views\": [\n    {\n      \"_extend\": {\n        \"scales\": [\n          {\n            \"input\": \"unity\",\n            \"name\": \"xscale\",\n            \"output\": \"unity\"\n          }\n        ]\n      },\n      \"axes\": [\n        {\n          \"orient\": \"bottom\",\n          \"scale\": \"xscale\",\n          \"title\": \"Phase\"\n        },\n        {\n          \"orient\": \"left\",\n          \"scale\": \"yscale\",\n          \"title\": \"Radial Velocity (km/s)\"\n        }\n      ],\n      \"description\": null,\n      \"markers\": [\n        {\n          \"name\": \"6cd260a2-f4a7-40ae-9a18-eb107eb1da01\",\n          \"visible\": true\n        },\n        {\n          \"name\": \"7a8c8aaf-1819-4430-b9ea-f4ff243c7241\",\n          \"visible\": true\n        }\n      ],\n      \"name\": \"de1d0c41-5cc4-4c7a-86dc-e5c0a19e975c\",\n      \"scales\": [\n        {\n          \"domain\": [\n            0.0,\n            1.0\n          ],\n          \"name\": \"xscale\",\n          \"padding\": 36,\n          \"range\": \"width\",\n          \"type\": \"number\",\n          \"zero\": false\n        },\n        {\n          \"domain\": [\n            0.69,\n            1.02\n          ],\n          \"name\": \"yscale\",\n          \"padding\": 36,\n          \"range\": \"height\",\n          \"type\": \"linear\",\n          \"zero\": false\n        }\n      ],\n      \"title\": \"By phase\"\n    },\n    {\n      \"_extend\": {\n        \"scales\": [\n          {\n            \"input\": \"seconds\",\n            \"name\": \"xscale\",\n            \"output\": \"seconds\"\n          }\n        ]\n      },\n      \"axes\": [\n        {\n          \"orient\": \"bottom\",\n          \"scale\": \"xscale\",\n          \"title\": \"Relative Time (s)\"\n        },\n        {\n          \"orient\": \"left\",\n          \"scale\": \"yscale\",\n          \"title\": \"Radial Velocity (km/s)\"\n        }\n      ],\n      \"description\": null,\n      \"markers\": [\n        {\n          \"name\": \"fad9db29-34f8-489e-ae90-ba11caa280ac\",\n          \"visible\": true\n        },\n        {\n          \"name\": \"3841857a-5f84-4f79-b22e-b0abccc981b4\",\n          \"visible\": true\n        }\n      ],\n      \"name\": \"de1d0c41-5cc4-4c7a-86dc-e5c0a19e975c\",\n      \"scales\": [\n        {\n          \"domain\": [\n            0.0,\n            232.0\n          ],\n          \"name\": \"xscale\",\n          \"padding\": 36,\n          \"range\": \"width\",\n          \"type\": \"number\",\n          \"zero\": false\n        },\n        {\n          \"domain\": [\n            0.69,\n            1.02\n          ],\n          \"name\": \"yscale\",\n          \"padding\": 36,\n          \"range\": \"height\",\n          \"type\": \"linear\",\n          \"zero\": false\n        }\n      ],\n      \"title\": \"By relative time\"\n    }\n  ],\n  \"autosize\": {\n    \"resize\": false,\n    \"type\": \"fit\"\n  },\n  \"axes\": [\n    {\n      \"orient\": \"bottom\",\n      \"scale\": \"xscale\",\n      \"title\": \"Time\"\n    },\n    {\n      \"orient\": \"left\",\n      \"scale\": \"yscale\",\n      \"title\": \"Radial Velocity (km/s)\"\n    }\n  ],\n  \"data\": [\n    {\n      \"format\": {\n        \"parse\": {\n          \"flux\": \"number\",\n          \"phase\": \"number\",\n          \"relative\": \"number\",\n          \"time\": \"date\"\n        },\n        \"type\": \"csv\"\n      },\n      \"name\": \"e0b0235e-7f20-4152-8a81-b460d3cf5885\",\n      \"values\": \"time,phase,flux,relative\\n2016-03-22T12:30:28.000Z,0.0,0.98,0.0\\n2016-03-22T12:30:38.000Z,0.1,1.02,10.0\\n2016-03-22T12:30:48.000Z,0.2,1.01,20.0\\n2016-03-22T12:30:58.000Z,0.3,0.87,30.0\\n2016-03-22T12:31:08.000Z,0.4,0.75,40.0\\n2016-03-22T12:31:18.000Z,0.5,0.7,50.0\\n2016-03-22T12:31:28.000Z,0.6,0.71,60.0\\n2016-03-22T12:31:38.000Z,0.7,0.82,70.0\\n2016-03-22T12:31:48.000Z,0.8,0.97,80.0\\n2016-03-22T12:31:58.000Z,0.9,1.02,90.0\\n2016-03-22T12:32:08.000Z,1.0,1.01,100.0\\n2016-03-22T12:32:18.000Z,0.1,1.0,110.0\\n2016-03-22T12:32:28.000Z,0.2,0.99,120.0\\n2016-03-22T12:32:37.000Z,0.29,0.91,129.0\\n2016-03-22T12:32:48.000Z,0.4,0.79,140.0\\n2016-03-22T12:32:58.000Z,0.5,0.71,150.0\\n2016-03-22T12:33:08.000Z,0.6,0.69,160.0\\n2016-03-22T12:33:18.000Z,0.7,0.73,170.0\\n2016-03-22T12:33:28.000Z,0.8,0.86,180.0\\n2016-03-22T12:33:38.000Z,0.9,1.0,190.0\\n2016-03-22T12:33:48.000Z,1.0,0.99,200.0\\n2016-03-22T12:33:58.000Z,0.1,1.01,210.0\\n2016-03-22T12:34:00.000Z,0.12,1.007,212.0\\n2016-03-22T12:34:05.000Z,0.17,1.011,217.0\\n2016-03-22T12:34:16.000Z,0.28,0.94,228.0\\n2016-03-22T12:34:20.000Z,0.32,0.84,232.0\\n\"\n    }\n  ],\n  \"height\": 400,\n  \"marks\": [\n    {\n      \"clip\": true,\n      \"description\": \"\",\n      \"encode\": {\n        \"enter\": {\n          \"shape\": {\n            \"value\": \"circle\"\n          },\n          \"x\": {\n            \"field\": \"time\",\n            \"scale\": \"xscale\"\n          },\n          \"y\": {\n            \"field\": \"flux\",\n            \"scale\": \"yscale\"\n          }\n        },\n        \"update\": {\n          \"fill\": {\n            \"value\": \"#ffa500\"\n          },\n          \"fillOpacity\": {\n            \"value\": 1\n          },\n          \"shape\": {\n            \"value\": \"circle\"\n          },\n          \"size\": {\n            \"value\": 50\n          },\n          \"stroke\": {\n            \"value\": \"#000000\"\n          },\n          \"strokeOpacity\": {\n            \"value\": 0.2\n          },\n          \"strokeWidth\": {\n            \"value\": 0\n          }\n        }\n      },\n      \"from\": {\n        \"data\": \"e0b0235e-7f20-4152-8a81-b460d3cf5885\"\n      },\n      \"name\": \"9d80b145-1dc5-4e06-9992-8f881c133bf5\",\n      \"type\": \"symbol\"\n    }\n  ],\n  \"padding\": 0,\n  \"scales\": [\n    {\n      \"domain\": [\n        {\n          \"signal\": \"datetime(2016, 2, 22, 12, 30, 28)\"\n        },\n        {\n          \"signal\": \"datetime(2016, 2, 22, 12, 34, 20)\"\n        }\n      ],\n      \"name\": \"xscale\",\n      \"padding\": 36,\n      \"range\": \"width\",\n      \"type\": \"time\",\n      \"zero\": false\n    },\n    {\n      \"domain\": [\n        0.69,\n        1.02\n      ],\n      \"name\": \"yscale\",\n      \"padding\": 36,\n      \"range\": \"height\",\n      \"type\": \"linear\",\n      \"zero\": false\n    }\n  ],\n  \"title\": \"Radial Velocity Curve\",\n  \"width\": 600\n}",
       "width": 600
      }
     },
     "537f43726fa148ec87c627df8384c70b": {
      "model_module": "@jupyter-widgets/base",
      "model_module_version": "1.1.0",
      "model_name": "LayoutModel",
      "state": {
       "justify_items": null
      }
     },
     "64e8af619c9f45f9be1726e5b034caae": {
      "model_module": "@jupyter-widgets/base",
      "model_module_version": "1.1.0",
      "model_name": "LayoutModel",
      "state": {
       "justify_items": null
      }
     },
     "68c1005384be4bcd93a0035c4a81fd68": {
      "model_module": "@jupyter-widgets/base",
      "model_module_version": "1.1.0",
      "model_name": "LayoutModel",
      "state": {
       "justify_items": null
      }
     },
     "98ef5a01f834477aab23d4d6e40faa9c": {
      "model_module": "jupyter-aas-timeseries",
      "model_module_version": "^0.1.7",
      "model_name": "TimeSeriesModel",
      "state": {
       "_model_module_version": "^0.1.7",
       "_view_module_version": "^0.1.7",
       "height": 480,
       "layout": "IPY_MODEL_f40fadde78d74669a2cc054a96bb6bf1",
       "vega_json": "{\n  \"$schema\": \"https://vega.github.io/schema/vega/v4.json\",\n  \"_extend\": {\n    \"scales\": [\n      {\n        \"input\": \"seconds\",\n        \"name\": \"xscale\",\n        \"output\": \"seconds\"\n      }\n    ]\n  },\n  \"autosize\": {\n    \"resize\": false,\n    \"type\": \"fit\"\n  },\n  \"axes\": [\n    {\n      \"orient\": \"bottom\",\n      \"scale\": \"xscale\",\n      \"title\": \"Relative Time (s)\"\n    },\n    {\n      \"orient\": \"left\",\n      \"scale\": \"yscale\",\n      \"title\": \"Radial Velocity (km/s)\"\n    }\n  ],\n  \"data\": [\n    {\n      \"format\": {\n        \"parse\": {\n          \"flux\": \"number\",\n          \"relative\": \"number\"\n        },\n        \"type\": \"csv\"\n      },\n      \"name\": \"177cb849-da88-4143-820d-2cf035c5d373\",\n      \"values\": \"flux,relative\\n0.98,0.0\\n1.02,10.0\\n1.01,20.0\\n0.87,30.0\\n0.75,40.0\\n0.7,50.0\\n0.71,60.0\\n0.82,70.0\\n0.97,80.0\\n1.02,90.0\\n1.01,100.0\\n1.0,110.0\\n0.99,120.0\\n0.91,129.0\\n0.79,140.0\\n0.71,150.0\\n0.69,160.0\\n0.73,170.0\\n0.86,180.0\\n1.0,190.0\\n0.99,200.0\\n1.01,210.0\\n1.007,212.0\\n1.011,217.0\\n0.94,228.0\\n0.84,232.0\\n\"\n    }\n  ],\n  \"height\": 400,\n  \"marks\": [\n    {\n      \"clip\": true,\n      \"description\": \"\",\n      \"encode\": {\n        \"enter\": {\n          \"shape\": {\n            \"value\": \"circle\"\n          },\n          \"x\": {\n            \"field\": \"relative\",\n            \"scale\": \"xscale\"\n          },\n          \"y\": {\n            \"field\": \"flux\",\n            \"scale\": \"yscale\"\n          }\n        },\n        \"update\": {\n          \"fill\": {\n            \"value\": \"#ffa500\"\n          },\n          \"fillOpacity\": {\n            \"value\": 1\n          },\n          \"shape\": {\n            \"value\": \"circle\"\n          },\n          \"size\": {\n            \"value\": 50\n          },\n          \"stroke\": {\n            \"value\": \"#000000\"\n          },\n          \"strokeOpacity\": {\n            \"value\": 0.2\n          },\n          \"strokeWidth\": {\n            \"value\": 0\n          }\n        }\n      },\n      \"from\": {\n        \"data\": \"177cb849-da88-4143-820d-2cf035c5d373\"\n      },\n      \"name\": \"4cdca751-714b-41aa-801c-8ef006c6d091\",\n      \"type\": \"symbol\"\n    }\n  ],\n  \"padding\": 0,\n  \"scales\": [\n    {\n      \"domain\": [\n        0.0,\n        232.0\n      ],\n      \"name\": \"xscale\",\n      \"padding\": 36,\n      \"range\": \"width\",\n      \"type\": \"number\",\n      \"zero\": false\n    },\n    {\n      \"domain\": [\n        0.69,\n        1.02\n      ],\n      \"name\": \"yscale\",\n      \"padding\": 36,\n      \"range\": \"height\",\n      \"type\": \"linear\",\n      \"zero\": false\n    }\n  ],\n  \"title\": \"Radial Velocity Curve\",\n  \"width\": 600\n}",
       "width": 600
      }
     },
     "9b600d61b33f4cb99d9f493360fc6751": {
      "model_module": "@jupyter-widgets/base",
      "model_module_version": "1.1.0",
      "model_name": "LayoutModel",
      "state": {
       "justify_items": null
      }
     },
     "9b8a4017b1d74acea1e5709cef1f0f2f": {
      "model_module": "jupyter-aas-timeseries",
      "model_module_version": "^0.1.7",
      "model_name": "TimeSeriesModel",
      "state": {
       "_model_module_version": "^0.1.7",
       "_view_module_version": "^0.1.7",
       "height": 480,
       "layout": "IPY_MODEL_9b600d61b33f4cb99d9f493360fc6751",
       "vega_json": "{\n  \"$schema\": \"https://vega.github.io/schema/vega/v4.json\",\n  \"_extend\": {\n    \"scales\": [\n      {\n        \"input\": \"unity\",\n        \"name\": \"xscale\",\n        \"output\": \"radians\"\n      }\n    ]\n  },\n  \"autosize\": {\n    \"resize\": false,\n    \"type\": \"fit\"\n  },\n  \"axes\": [\n    {\n      \"orient\": \"bottom\",\n      \"scale\": \"xscale\",\n      \"title\": \"Phase\"\n    },\n    {\n      \"orient\": \"left\",\n      \"scale\": \"yscale\",\n      \"title\": \"\"\n    }\n  ],\n  \"data\": [\n    {\n      \"format\": {\n        \"parse\": {\n          \"flux\": \"number\",\n          \"phase\": \"number\"\n        },\n        \"type\": \"csv\"\n      },\n      \"name\": \"a495eb84-c28f-4142-8dea-b4abac829642\",\n      \"values\": \"phase,flux\\n0.0,0.98\\n0.1,1.02\\n0.2,1.01\\n0.3,0.87\\n0.4,0.75\\n0.5,0.7\\n0.6,0.71\\n0.7,0.82\\n0.8,0.97\\n0.9,1.02\\n1.0,1.01\\n0.1,1.0\\n0.2,0.99\\n0.29,0.91\\n0.4,0.79\\n0.5,0.71\\n0.6,0.69\\n0.7,0.73\\n0.8,0.86\\n0.9,1.0\\n1.0,0.99\\n0.1,1.01\\n0.12,1.007\\n0.17,1.011\\n0.28,0.94\\n0.32,0.84\\n\"\n    }\n  ],\n  \"height\": 400,\n  \"marks\": [\n    {\n      \"clip\": true,\n      \"description\": \"\",\n      \"encode\": {\n        \"enter\": {\n          \"shape\": {\n            \"value\": \"circle\"\n          },\n          \"x\": {\n            \"field\": \"phase\",\n            \"scale\": \"xscale\"\n          },\n          \"y\": {\n            \"field\": \"flux\",\n            \"scale\": \"yscale\"\n          }\n        },\n        \"update\": {\n          \"fill\": {\n            \"value\": \"#ffa500\"\n          },\n          \"fillOpacity\": {\n            \"value\": 1\n          },\n          \"shape\": {\n            \"value\": \"circle\"\n          },\n          \"size\": {\n            \"value\": 50\n          },\n          \"stroke\": {\n            \"value\": \"#000000\"\n          },\n          \"strokeOpacity\": {\n            \"value\": 0.2\n          },\n          \"strokeWidth\": {\n            \"value\": 0\n          }\n        }\n      },\n      \"from\": {\n        \"data\": \"a495eb84-c28f-4142-8dea-b4abac829642\"\n      },\n      \"name\": \"f176ddf7-297d-4d89-b7e4-69b39cfe0919\",\n      \"type\": \"symbol\"\n    }\n  ],\n  \"padding\": 0,\n  \"scales\": [\n    {\n      \"domain\": [\n        0.0,\n        1.0\n      ],\n      \"name\": \"xscale\",\n      \"padding\": 36,\n      \"range\": \"width\",\n      \"type\": \"number\",\n      \"zero\": false\n    },\n    {\n      \"domain\": [\n        0.69,\n        1.02\n      ],\n      \"name\": \"yscale\",\n      \"padding\": 36,\n      \"range\": \"height\",\n      \"type\": \"linear\",\n      \"zero\": false\n    }\n  ],\n  \"title\": \"Radial Velocity Curve\",\n  \"width\": 600\n}",
       "width": 600
      }
     },
     "a083bce825094e9e92be663b6a7e5ee0": {
      "model_module": "jupyter-aas-timeseries",
      "model_module_version": "^0.1.7",
      "model_name": "TimeSeriesModel",
      "state": {
       "_model_module_version": "^0.1.7",
       "_view_module_version": "^0.1.7",
       "height": 480,
       "layout": "IPY_MODEL_68c1005384be4bcd93a0035c4a81fd68",
       "vega_json": "{\n  \"$schema\": \"https://vega.github.io/schema/vega/v4.json\",\n  \"_extend\": {\n    \"scales\": [\n      {\n        \"input\": \"iso\",\n        \"name\": \"xscale\",\n        \"output\": \"jd\"\n      }\n    ]\n  },\n  \"autosize\": {\n    \"resize\": false,\n    \"type\": \"fit\"\n  },\n  \"axes\": [\n    {\n      \"orient\": \"bottom\",\n      \"scale\": \"xscale\",\n      \"title\": \"Time\"\n    },\n    {\n      \"orient\": \"left\",\n      \"scale\": \"yscale\",\n      \"title\": \"\"\n    }\n  ],\n  \"data\": [\n    {\n      \"format\": {\n        \"parse\": {\n          \"flux\": \"number\",\n          \"time\": \"date\"\n        },\n        \"type\": \"csv\"\n      },\n      \"name\": \"437fb03c-7780-4e7c-9cb1-c5566bb3625b\",\n      \"values\": \"time,flux\\n2016-03-22T12:30:28.000Z,0.98\\n2016-03-22T12:30:38.000Z,1.02\\n2016-03-22T12:30:48.000Z,1.01\\n2016-03-22T12:30:58.000Z,0.87\\n2016-03-22T12:31:08.000Z,0.75\\n2016-03-22T12:31:18.000Z,0.7\\n2016-03-22T12:31:28.000Z,0.71\\n2016-03-22T12:31:38.000Z,0.82\\n2016-03-22T12:31:48.000Z,0.97\\n2016-03-22T12:31:58.000Z,1.02\\n2016-03-22T12:32:08.000Z,1.01\\n2016-03-22T12:32:18.000Z,1.0\\n2016-03-22T12:32:28.000Z,0.99\\n2016-03-22T12:32:37.000Z,0.91\\n2016-03-22T12:32:48.000Z,0.79\\n2016-03-22T12:32:58.000Z,0.71\\n2016-03-22T12:33:08.000Z,0.69\\n2016-03-22T12:33:18.000Z,0.73\\n2016-03-22T12:33:28.000Z,0.86\\n2016-03-22T12:33:38.000Z,1.0\\n2016-03-22T12:33:48.000Z,0.99\\n2016-03-22T12:33:58.000Z,1.01\\n2016-03-22T12:34:00.000Z,1.007\\n2016-03-22T12:34:05.000Z,1.011\\n2016-03-22T12:34:16.000Z,0.94\\n2016-03-22T12:34:20.000Z,0.84\\n\"\n    }\n  ],\n  \"height\": 400,\n  \"marks\": [\n    {\n      \"clip\": true,\n      \"description\": \"\",\n      \"encode\": {\n        \"enter\": {\n          \"shape\": {\n            \"value\": \"circle\"\n          },\n          \"x\": {\n            \"field\": \"time\",\n            \"scale\": \"xscale\"\n          },\n          \"y\": {\n            \"field\": \"flux\",\n            \"scale\": \"yscale\"\n          }\n        },\n        \"update\": {\n          \"fill\": {\n            \"value\": \"#ffa500\"\n          },\n          \"fillOpacity\": {\n            \"value\": 1\n          },\n          \"shape\": {\n            \"value\": \"circle\"\n          },\n          \"size\": {\n            \"value\": 50\n          },\n          \"stroke\": {\n            \"value\": \"#000000\"\n          },\n          \"strokeOpacity\": {\n            \"value\": 0.2\n          },\n          \"strokeWidth\": {\n            \"value\": 0\n          }\n        }\n      },\n      \"from\": {\n        \"data\": \"437fb03c-7780-4e7c-9cb1-c5566bb3625b\"\n      },\n      \"name\": \"56b860e5-2740-4121-818e-a44c23da1307\",\n      \"type\": \"symbol\"\n    }\n  ],\n  \"padding\": 0,\n  \"scales\": [\n    {\n      \"domain\": [\n        {\n          \"signal\": \"datetime(2016, 2, 22, 12, 30, 28)\"\n        },\n        {\n          \"signal\": \"datetime(2016, 2, 22, 12, 34, 20)\"\n        }\n      ],\n      \"name\": \"xscale\",\n      \"padding\": 36,\n      \"range\": \"width\",\n      \"type\": \"time\",\n      \"zero\": false\n    },\n    {\n      \"domain\": [\n        0.69,\n        1.02\n      ],\n      \"name\": \"yscale\",\n      \"padding\": 36,\n      \"range\": \"height\",\n      \"type\": \"linear\",\n      \"zero\": false\n    }\n  ],\n  \"title\": \"Radial Velocity Curve\",\n  \"width\": 600\n}",
       "width": 600
      }
     },
     "aaaccd08303841ef8991ba1507266eec": {
      "model_module": "jupyter-aas-timeseries",
      "model_module_version": "^0.1.7",
      "model_name": "TimeSeriesModel",
      "state": {
       "_model_module_version": "^0.1.7",
       "_view_module_version": "^0.1.7",
       "height": 480,
       "layout": "IPY_MODEL_64e8af619c9f45f9be1726e5b034caae",
       "vega_json": "{\n  \"$schema\": \"https://vega.github.io/schema/vega/v4.json\",\n  \"_extend\": {\n    \"scales\": [\n      {\n        \"input\": \"iso\",\n        \"name\": \"xscale\",\n        \"output\": \"jd\"\n      }\n    ]\n  },\n  \"autosize\": {\n    \"resize\": false,\n    \"type\": \"fit\"\n  },\n  \"axes\": [\n    {\n      \"orient\": \"bottom\",\n      \"scale\": \"xscale\",\n      \"title\": \"Time\"\n    },\n    {\n      \"orient\": \"left\",\n      \"scale\": \"yscale\",\n      \"title\": \"\"\n    }\n  ],\n  \"data\": [\n    {\n      \"format\": {\n        \"parse\": {\n          \"flux\": \"number\",\n          \"time\": \"date\"\n        },\n        \"type\": \"csv\"\n      },\n      \"name\": \"19cd9010-036c-40af-af57-119ebfb3c3b9\",\n      \"values\": \"time,flux\\n2016-03-22T12:30:28.000Z,0.98\\n2016-03-22T12:30:38.000Z,1.02\\n2016-03-22T12:30:48.000Z,1.01\\n2016-03-22T12:30:58.000Z,0.87\\n2016-03-22T12:31:08.000Z,0.75\\n2016-03-22T12:31:18.000Z,0.7\\n2016-03-22T12:31:28.000Z,0.71\\n2016-03-22T12:31:38.000Z,0.82\\n2016-03-22T12:31:48.000Z,0.97\\n2016-03-22T12:31:58.000Z,1.02\\n2016-03-22T12:32:08.000Z,1.01\\n2016-03-22T12:32:18.000Z,1.0\\n2016-03-22T12:32:28.000Z,0.99\\n2016-03-22T12:32:37.000Z,0.91\\n2016-03-22T12:32:48.000Z,0.79\\n2016-03-22T12:32:58.000Z,0.71\\n2016-03-22T12:33:08.000Z,0.69\\n2016-03-22T12:33:18.000Z,0.73\\n2016-03-22T12:33:28.000Z,0.86\\n2016-03-22T12:33:38.000Z,1.0\\n2016-03-22T12:33:48.000Z,0.99\\n2016-03-22T12:33:58.000Z,1.01\\n2016-03-22T12:34:00.000Z,1.007\\n2016-03-22T12:34:05.000Z,1.011\\n2016-03-22T12:34:16.000Z,0.94\\n2016-03-22T12:34:20.000Z,0.84\\n\"\n    }\n  ],\n  \"height\": 400,\n  \"marks\": [\n    {\n      \"clip\": true,\n      \"description\": \"\",\n      \"encode\": {\n        \"enter\": {\n          \"shape\": {\n            \"value\": \"circle\"\n          },\n          \"x\": {\n            \"field\": \"time\",\n            \"scale\": \"xscale\"\n          },\n          \"y\": {\n            \"field\": \"flux\",\n            \"scale\": \"yscale\"\n          }\n        },\n        \"update\": {\n          \"fill\": {\n            \"value\": \"#ffa500\"\n          },\n          \"fillOpacity\": {\n            \"value\": 1\n          },\n          \"shape\": {\n            \"value\": \"circle\"\n          },\n          \"size\": {\n            \"value\": 50\n          },\n          \"stroke\": {\n            \"value\": \"#000000\"\n          },\n          \"strokeOpacity\": {\n            \"value\": 0.2\n          },\n          \"strokeWidth\": {\n            \"value\": 0\n          }\n        }\n      },\n      \"from\": {\n        \"data\": \"19cd9010-036c-40af-af57-119ebfb3c3b9\"\n      },\n      \"name\": \"98540c26-eb96-4f52-a3f7-6d189b6865b3\",\n      \"type\": \"symbol\"\n    }\n  ],\n  \"padding\": 0,\n  \"scales\": [\n    {\n      \"domain\": [\n        {\n          \"signal\": \"datetime(2016, 2, 22, 12, 30, 28)\"\n        },\n        {\n          \"signal\": \"datetime(2016, 2, 22, 12, 34, 20)\"\n        }\n      ],\n      \"name\": \"xscale\",\n      \"padding\": 36,\n      \"range\": \"width\",\n      \"type\": \"time\",\n      \"zero\": false\n    },\n    {\n      \"domain\": [\n        0.69,\n        1.02\n      ],\n      \"name\": \"yscale\",\n      \"padding\": 36,\n      \"range\": \"height\",\n      \"type\": \"linear\",\n      \"zero\": false\n    }\n  ],\n  \"title\": \"Radial Velocity Curve\",\n  \"width\": 600\n}",
       "width": 600
      }
     },
     "b210dbd5b20d41708c7ee5fd2fca0a77": {
      "model_module": "jupyter-aas-timeseries",
      "model_module_version": "^0.1.7",
      "model_name": "TimeSeriesModel",
      "state": {
       "_model_module_version": "^0.1.7",
       "_view_module_version": "^0.1.7",
       "height": 480,
       "layout": "IPY_MODEL_ea97df2c99414a0daf0b3eb50bd3802f",
       "vega_json": "{\n  \"$schema\": \"https://vega.github.io/schema/vega/v4.json\",\n  \"_extend\": {\n    \"scales\": [\n      {\n        \"input\": \"unity\",\n        \"name\": \"xscale\",\n        \"output\": \"unity\"\n      }\n    ]\n  },\n  \"autosize\": {\n    \"resize\": false,\n    \"type\": \"fit\"\n  },\n  \"axes\": [\n    {\n      \"orient\": \"bottom\",\n      \"scale\": \"xscale\",\n      \"title\": \"Phase\"\n    },\n    {\n      \"orient\": \"left\",\n      \"scale\": \"yscale\",\n      \"title\": \"Radial Velocity (km/s)\"\n    }\n  ],\n  \"data\": [\n    {\n      \"format\": {\n        \"parse\": {\n          \"flux\": \"number\",\n          \"phase\": \"number\"\n        },\n        \"type\": \"csv\"\n      },\n      \"name\": \"339d5ffc-015d-4062-9093-2cf264f9efb5\",\n      \"values\": \"phase,flux\\n0.0,0.98\\n0.1,1.02\\n0.2,1.01\\n0.3,0.87\\n0.4,0.75\\n0.5,0.7\\n0.6,0.71\\n0.7,0.82\\n0.8,0.97\\n0.9,1.02\\n1.0,1.01\\n0.1,1.0\\n0.2,0.99\\n0.29,0.91\\n0.4,0.79\\n0.5,0.71\\n0.6,0.69\\n0.7,0.73\\n0.8,0.86\\n0.9,1.0\\n1.0,0.99\\n0.1,1.01\\n0.12,1.007\\n0.17,1.011\\n0.28,0.94\\n0.32,0.84\\n\"\n    }\n  ],\n  \"height\": 400,\n  \"marks\": [\n    {\n      \"clip\": true,\n      \"description\": \"\",\n      \"encode\": {\n        \"enter\": {\n          \"shape\": {\n            \"value\": \"circle\"\n          },\n          \"x\": {\n            \"field\": \"phase\",\n            \"scale\": \"xscale\"\n          },\n          \"y\": {\n            \"field\": \"flux\",\n            \"scale\": \"yscale\"\n          }\n        },\n        \"update\": {\n          \"fill\": {\n            \"value\": \"#ffa500\"\n          },\n          \"fillOpacity\": {\n            \"value\": 1\n          },\n          \"shape\": {\n            \"value\": \"circle\"\n          },\n          \"size\": {\n            \"value\": 50\n          },\n          \"stroke\": {\n            \"value\": \"#000000\"\n          },\n          \"strokeOpacity\": {\n            \"value\": 0.2\n          },\n          \"strokeWidth\": {\n            \"value\": 0\n          }\n        }\n      },\n      \"from\": {\n        \"data\": \"339d5ffc-015d-4062-9093-2cf264f9efb5\"\n      },\n      \"name\": \"32a9fe11-b6ec-46af-babe-9f8032c07603\",\n      \"type\": \"symbol\"\n    }\n  ],\n  \"padding\": 0,\n  \"scales\": [\n    {\n      \"domain\": [\n        0.0,\n        1.0\n      ],\n      \"name\": \"xscale\",\n      \"padding\": 36,\n      \"range\": \"width\",\n      \"type\": \"number\",\n      \"zero\": false\n    },\n    {\n      \"domain\": [\n        0.69,\n        1.02\n      ],\n      \"name\": \"yscale\",\n      \"padding\": 36,\n      \"range\": \"height\",\n      \"type\": \"linear\",\n      \"zero\": false\n    }\n  ],\n  \"title\": \"Radial Velocity Curve\",\n  \"width\": 600\n}",
       "width": 600
      }
     },
     "b5c2316d45ad497b87e8d98dcebcf53d": {
      "model_module": "jupyter-aas-timeseries",
      "model_module_version": "^0.1.7",
      "model_name": "TimeSeriesModel",
      "state": {
       "_model_module_version": "^0.1.7",
       "_view_module_version": "^0.1.7",
       "height": 480,
       "layout": "IPY_MODEL_1c92e1ae07e9481f958143fad1d77c5b",
       "vega_json": "{\n  \"$schema\": \"https://vega.github.io/schema/vega/v4.json\",\n  \"_extend\": {\n    \"marks\": [\n      {\n        \"clip\": true,\n        \"description\": \"\",\n        \"encode\": {\n          \"enter\": {\n            \"shape\": {\n              \"value\": \"circle\"\n            },\n            \"x\": {\n              \"field\": \"phase\",\n              \"scale\": \"xscale\"\n            },\n            \"y\": {\n              \"field\": \"flux\",\n              \"scale\": \"yscale\"\n            }\n          },\n          \"update\": {\n            \"fill\": {\n              \"value\": \"#ffa500\"\n            },\n            \"fillOpacity\": {\n              \"value\": 1\n            },\n            \"shape\": {\n              \"value\": \"circle\"\n            },\n            \"size\": {\n              \"value\": 50\n            },\n            \"stroke\": {\n              \"value\": \"#000000\"\n            },\n            \"strokeOpacity\": {\n              \"value\": 0.2\n            },\n            \"strokeWidth\": {\n              \"value\": 0\n            }\n          }\n        },\n        \"from\": {\n          \"data\": \"766b1834-5304-44d7-9ee6-25cfa71667ed\"\n        },\n        \"name\": \"861e71e6-d055-415e-8571-b2a10eed7bba\",\n        \"type\": \"symbol\"\n      },\n      {\n        \"clip\": true,\n        \"description\": \"\",\n        \"encode\": {\n          \"enter\": {\n            \"shape\": {\n              \"value\": \"circle\"\n            },\n            \"x\": {\n              \"field\": \"relative\",\n              \"scale\": \"xscale\"\n            },\n            \"y\": {\n              \"field\": \"flux\",\n              \"scale\": \"yscale\"\n            }\n          },\n          \"update\": {\n            \"fill\": {\n              \"value\": \"#ffa500\"\n            },\n            \"fillOpacity\": {\n              \"value\": 1\n            },\n            \"shape\": {\n              \"value\": \"circle\"\n            },\n            \"size\": {\n              \"value\": 50\n            },\n            \"stroke\": {\n              \"value\": \"#000000\"\n            },\n            \"strokeOpacity\": {\n              \"value\": 0.2\n            },\n            \"strokeWidth\": {\n              \"value\": 0\n            }\n          }\n        },\n        \"from\": {\n          \"data\": \"766b1834-5304-44d7-9ee6-25cfa71667ed\"\n        },\n        \"name\": \"99dc3a26-45ff-445f-a33b-a8eed5508c31\",\n        \"type\": \"symbol\"\n      }\n    ],\n    \"scales\": [\n      {\n        \"input\": \"iso\",\n        \"name\": \"xscale\",\n        \"output\": \"auto\"\n      }\n    ]\n  },\n  \"_views\": [\n    {\n      \"_extend\": {\n        \"scales\": [\n          {\n            \"input\": \"unity\",\n            \"name\": \"xscale\",\n            \"output\": \"unity\"\n          }\n        ]\n      },\n      \"axes\": [\n        {\n          \"orient\": \"bottom\",\n          \"scale\": \"xscale\",\n          \"title\": \"Phase\"\n        },\n        {\n          \"orient\": \"left\",\n          \"scale\": \"yscale\",\n          \"title\": \"Radial Velocity (km/s)\"\n        }\n      ],\n      \"description\": null,\n      \"markers\": [\n        {\n          \"name\": \"861e71e6-d055-415e-8571-b2a10eed7bba\",\n          \"visible\": true\n        },\n        {\n          \"name\": \"455d805d-d43f-4b2f-bc6a-801852da98d8\",\n          \"visible\": true\n        }\n      ],\n      \"name\": \"e9275895-1d9d-4966-aa18-40bbbe4fa5f6\",\n      \"scales\": [\n        {\n          \"domain\": [\n            0.0,\n            1.0\n          ],\n          \"name\": \"xscale\",\n          \"padding\": 36,\n          \"range\": \"width\",\n          \"type\": \"number\",\n          \"zero\": false\n        },\n        {\n          \"domain\": [\n            0.69,\n            1.02\n          ],\n          \"name\": \"yscale\",\n          \"padding\": 36,\n          \"range\": \"height\",\n          \"type\": \"linear\",\n          \"zero\": false\n        }\n      ],\n      \"title\": \"By phase\"\n    },\n    {\n      \"_extend\": {\n        \"scales\": [\n          {\n            \"input\": \"seconds\",\n            \"name\": \"xscale\",\n            \"output\": \"seconds\"\n          }\n        ]\n      },\n      \"axes\": [\n        {\n          \"orient\": \"bottom\",\n          \"scale\": \"xscale\",\n          \"title\": \"Relative Time (s)\"\n        },\n        {\n          \"orient\": \"left\",\n          \"scale\": \"yscale\",\n          \"title\": \"Radial Velocity (km/s)\"\n        }\n      ],\n      \"description\": null,\n      \"markers\": [\n        {\n          \"name\": \"99dc3a26-45ff-445f-a33b-a8eed5508c31\",\n          \"visible\": true\n        },\n        {\n          \"name\": \"b3717ec4-29b7-42e6-82af-61b82a7de02b\",\n          \"visible\": true\n        }\n      ],\n      \"name\": \"e9275895-1d9d-4966-aa18-40bbbe4fa5f6\",\n      \"scales\": [\n        {\n          \"domain\": [\n            0.0,\n            232.0\n          ],\n          \"name\": \"xscale\",\n          \"padding\": 36,\n          \"range\": \"width\",\n          \"type\": \"number\",\n          \"zero\": false\n        },\n        {\n          \"domain\": [\n            0.69,\n            1.02\n          ],\n          \"name\": \"yscale\",\n          \"padding\": 36,\n          \"range\": \"height\",\n          \"type\": \"linear\",\n          \"zero\": false\n        }\n      ],\n      \"title\": \"By relative time\"\n    }\n  ],\n  \"autosize\": {\n    \"resize\": false,\n    \"type\": \"fit\"\n  },\n  \"axes\": [\n    {\n      \"orient\": \"bottom\",\n      \"scale\": \"xscale\",\n      \"title\": \"Time\"\n    },\n    {\n      \"orient\": \"left\",\n      \"scale\": \"yscale\",\n      \"title\": \"Radial Velocity (km/s)\"\n    }\n  ],\n  \"data\": [\n    {\n      \"format\": {\n        \"parse\": {\n          \"flux\": \"number\",\n          \"phase\": \"number\",\n          \"relative\": \"number\",\n          \"time\": \"date\"\n        },\n        \"type\": \"csv\"\n      },\n      \"name\": \"766b1834-5304-44d7-9ee6-25cfa71667ed\",\n      \"values\": \"time,phase,flux,relative\\n2016-03-22T12:30:28.000Z,0.0,0.98,0.0\\n2016-03-22T12:30:38.000Z,0.1,1.02,10.0\\n2016-03-22T12:30:48.000Z,0.2,1.01,20.0\\n2016-03-22T12:30:58.000Z,0.3,0.87,30.0\\n2016-03-22T12:31:08.000Z,0.4,0.75,40.0\\n2016-03-22T12:31:18.000Z,0.5,0.7,50.0\\n2016-03-22T12:31:28.000Z,0.6,0.71,60.0\\n2016-03-22T12:31:38.000Z,0.7,0.82,70.0\\n2016-03-22T12:31:48.000Z,0.8,0.97,80.0\\n2016-03-22T12:31:58.000Z,0.9,1.02,90.0\\n2016-03-22T12:32:08.000Z,1.0,1.01,100.0\\n2016-03-22T12:32:18.000Z,0.1,1.0,110.0\\n2016-03-22T12:32:28.000Z,0.2,0.99,120.0\\n2016-03-22T12:32:37.000Z,0.29,0.91,129.0\\n2016-03-22T12:32:48.000Z,0.4,0.79,140.0\\n2016-03-22T12:32:58.000Z,0.5,0.71,150.0\\n2016-03-22T12:33:08.000Z,0.6,0.69,160.0\\n2016-03-22T12:33:18.000Z,0.7,0.73,170.0\\n2016-03-22T12:33:28.000Z,0.8,0.86,180.0\\n2016-03-22T12:33:38.000Z,0.9,1.0,190.0\\n2016-03-22T12:33:48.000Z,1.0,0.99,200.0\\n2016-03-22T12:33:58.000Z,0.1,1.01,210.0\\n2016-03-22T12:34:00.000Z,0.12,1.007,212.0\\n2016-03-22T12:34:05.000Z,0.17,1.011,217.0\\n2016-03-22T12:34:16.000Z,0.28,0.94,228.0\\n2016-03-22T12:34:20.000Z,0.32,0.84,232.0\\n\"\n    }\n  ],\n  \"height\": 400,\n  \"marks\": [\n    {\n      \"clip\": true,\n      \"description\": \"\",\n      \"encode\": {\n        \"enter\": {\n          \"shape\": {\n            \"value\": \"circle\"\n          },\n          \"x\": {\n            \"field\": \"time\",\n            \"scale\": \"xscale\"\n          },\n          \"y\": {\n            \"field\": \"flux\",\n            \"scale\": \"yscale\"\n          }\n        },\n        \"update\": {\n          \"fill\": {\n            \"value\": \"#ffa500\"\n          },\n          \"fillOpacity\": {\n            \"value\": 1\n          },\n          \"shape\": {\n            \"value\": \"circle\"\n          },\n          \"size\": {\n            \"value\": 50\n          },\n          \"stroke\": {\n            \"value\": \"#000000\"\n          },\n          \"strokeOpacity\": {\n            \"value\": 0.2\n          },\n          \"strokeWidth\": {\n            \"value\": 0\n          }\n        }\n      },\n      \"from\": {\n        \"data\": \"766b1834-5304-44d7-9ee6-25cfa71667ed\"\n      },\n      \"name\": \"edbec25f-ed2c-4eb4-878b-0e71c0ab4f91\",\n      \"type\": \"symbol\"\n    }\n  ],\n  \"padding\": 0,\n  \"scales\": [\n    {\n      \"domain\": [\n        {\n          \"signal\": \"datetime(2016, 2, 22, 12, 30, 28)\"\n        },\n        {\n          \"signal\": \"datetime(2016, 2, 22, 12, 34, 20)\"\n        }\n      ],\n      \"name\": \"xscale\",\n      \"padding\": 36,\n      \"range\": \"width\",\n      \"type\": \"time\",\n      \"zero\": false\n    },\n    {\n      \"domain\": [\n        0.69,\n        1.02\n      ],\n      \"name\": \"yscale\",\n      \"padding\": 36,\n      \"range\": \"height\",\n      \"type\": \"linear\",\n      \"zero\": false\n    }\n  ],\n  \"title\": \"Radial Velocity Curve\",\n  \"width\": 600\n}",
       "width": 600
      }
     },
     "bddbfb4e3c254477a2283319b93fc76a": {
      "model_module": "jupyter-aas-timeseries",
      "model_module_version": "^0.1.7",
      "model_name": "TimeSeriesModel",
      "state": {
       "_model_module_version": "^0.1.7",
       "_view_module_version": "^0.1.7",
       "height": 480,
       "layout": "IPY_MODEL_f8252311526f46c3852302be1db29b3b",
       "vega_json": "{\n  \"$schema\": \"https://vega.github.io/schema/vega/v4.json\",\n  \"_extend\": {\n    \"scales\": [\n      {\n        \"input\": \"seconds\",\n        \"name\": \"xscale\",\n        \"output\": \"hours\"\n      }\n    ]\n  },\n  \"autosize\": {\n    \"resize\": false,\n    \"type\": \"fit\"\n  },\n  \"axes\": [\n    {\n      \"orient\": \"bottom\",\n      \"scale\": \"xscale\",\n      \"title\": \"Relative Time (h)\"\n    },\n    {\n      \"orient\": \"left\",\n      \"scale\": \"yscale\",\n      \"title\": \"\"\n    }\n  ],\n  \"data\": [\n    {\n      \"format\": {\n        \"parse\": {\n          \"flux\": \"number\",\n          \"relative\": \"number\"\n        },\n        \"type\": \"csv\"\n      },\n      \"name\": \"a1bfca52-a96d-4bd4-b1d2-7c10615f43b1\",\n      \"values\": \"flux,relative\\n0.98,0.0\\n1.02,10.0\\n1.01,20.0\\n0.87,30.0\\n0.75,40.0\\n0.7,50.0\\n0.71,60.0\\n0.82,70.0\\n0.97,80.0\\n1.02,90.0\\n1.01,100.0\\n1.0,110.0\\n0.99,120.0\\n0.91,129.0\\n0.79,140.0\\n0.71,150.0\\n0.69,160.0\\n0.73,170.0\\n0.86,180.0\\n1.0,190.0\\n0.99,200.0\\n1.01,210.0\\n1.007,212.0\\n1.011,217.0\\n0.94,228.0\\n0.84,232.0\\n\"\n    }\n  ],\n  \"height\": 400,\n  \"marks\": [\n    {\n      \"clip\": true,\n      \"description\": \"\",\n      \"encode\": {\n        \"enter\": {\n          \"shape\": {\n            \"value\": \"circle\"\n          },\n          \"x\": {\n            \"field\": \"relative\",\n            \"scale\": \"xscale\"\n          },\n          \"y\": {\n            \"field\": \"flux\",\n            \"scale\": \"yscale\"\n          }\n        },\n        \"update\": {\n          \"fill\": {\n            \"value\": \"#ffa500\"\n          },\n          \"fillOpacity\": {\n            \"value\": 1\n          },\n          \"shape\": {\n            \"value\": \"circle\"\n          },\n          \"size\": {\n            \"value\": 50\n          },\n          \"stroke\": {\n            \"value\": \"#000000\"\n          },\n          \"strokeOpacity\": {\n            \"value\": 0.2\n          },\n          \"strokeWidth\": {\n            \"value\": 0\n          }\n        }\n      },\n      \"from\": {\n        \"data\": \"a1bfca52-a96d-4bd4-b1d2-7c10615f43b1\"\n      },\n      \"name\": \"0bd2cadf-5d46-41bc-a8ab-fa43d3bd350d\",\n      \"type\": \"symbol\"\n    }\n  ],\n  \"padding\": 0,\n  \"scales\": [\n    {\n      \"domain\": [\n        0.0,\n        232.0\n      ],\n      \"name\": \"xscale\",\n      \"padding\": 36,\n      \"range\": \"width\",\n      \"type\": \"number\",\n      \"zero\": false\n    },\n    {\n      \"domain\": [\n        0.69,\n        1.02\n      ],\n      \"name\": \"yscale\",\n      \"padding\": 36,\n      \"range\": \"height\",\n      \"type\": \"linear\",\n      \"zero\": false\n    }\n  ],\n  \"title\": \"Radial Velocity Curve\",\n  \"width\": 600\n}",
       "width": 600
      }
     },
     "c79f55ab2b704c8cb5fcc295da346159": {
      "model_module": "jupyter-aas-timeseries",
      "model_module_version": "^0.1.7",
      "model_name": "TimeSeriesModel",
      "state": {
       "_model_module_version": "^0.1.7",
       "_view_module_version": "^0.1.7",
       "height": 480,
       "layout": "IPY_MODEL_d7e1f83971694afe958e7af15c11a217",
       "vega_json": "{\n  \"$schema\": \"https://vega.github.io/schema/vega/v4.json\",\n  \"_extend\": {\n    \"scales\": [\n      {\n        \"input\": \"unity\",\n        \"name\": \"xscale\",\n        \"output\": \"unity\"\n      }\n    ]\n  },\n  \"autosize\": {\n    \"resize\": false,\n    \"type\": \"fit\"\n  },\n  \"axes\": [\n    {\n      \"orient\": \"bottom\",\n      \"scale\": \"xscale\",\n      \"title\": \"Phase\"\n    },\n    {\n      \"orient\": \"left\",\n      \"scale\": \"yscale\",\n      \"title\": \"Radial Velocity (km/s)\"\n    }\n  ],\n  \"data\": [\n    {\n      \"format\": {\n        \"parse\": {\n          \"flux\": \"number\",\n          \"phase\": \"number\"\n        },\n        \"type\": \"csv\"\n      },\n      \"name\": \"d6c89460-d627-4a34-9916-52f94349bcf1\",\n      \"values\": \"phase,flux\\n0.0,0.98\\n0.1,1.02\\n0.2,1.01\\n0.3,0.87\\n0.4,0.75\\n0.5,0.7\\n0.6,0.71\\n0.7,0.82\\n0.8,0.97\\n0.9,1.02\\n1.0,1.01\\n0.1,1.0\\n0.2,0.99\\n0.29,0.91\\n0.4,0.79\\n0.5,0.71\\n0.6,0.69\\n0.7,0.73\\n0.8,0.86\\n0.9,1.0\\n1.0,0.99\\n0.1,1.01\\n0.12,1.007\\n0.17,1.011\\n0.28,0.94\\n0.32,0.84\\n\"\n    }\n  ],\n  \"height\": 400,\n  \"marks\": [\n    {\n      \"clip\": true,\n      \"description\": \"\",\n      \"encode\": {\n        \"enter\": {\n          \"shape\": {\n            \"value\": \"circle\"\n          },\n          \"x\": {\n            \"field\": \"phase\",\n            \"scale\": \"xscale\"\n          },\n          \"y\": {\n            \"field\": \"flux\",\n            \"scale\": \"yscale\"\n          }\n        },\n        \"update\": {\n          \"fill\": {\n            \"value\": \"#ffa500\"\n          },\n          \"fillOpacity\": {\n            \"value\": 1\n          },\n          \"shape\": {\n            \"value\": \"circle\"\n          },\n          \"size\": {\n            \"value\": 50\n          },\n          \"stroke\": {\n            \"value\": \"#000000\"\n          },\n          \"strokeOpacity\": {\n            \"value\": 0.2\n          },\n          \"strokeWidth\": {\n            \"value\": 0\n          }\n        }\n      },\n      \"from\": {\n        \"data\": \"d6c89460-d627-4a34-9916-52f94349bcf1\"\n      },\n      \"name\": \"7c21cc48-a887-4e35-b35d-2ed2f9a42be5\",\n      \"type\": \"symbol\"\n    }\n  ],\n  \"padding\": 0,\n  \"scales\": [\n    {\n      \"domain\": [\n        0.0,\n        1.0\n      ],\n      \"name\": \"xscale\",\n      \"padding\": 36,\n      \"range\": \"width\",\n      \"type\": \"number\",\n      \"zero\": false\n    },\n    {\n      \"domain\": [\n        0.69,\n        1.02\n      ],\n      \"name\": \"yscale\",\n      \"padding\": 36,\n      \"range\": \"height\",\n      \"type\": \"linear\",\n      \"zero\": false\n    }\n  ],\n  \"title\": \"Radial Velocity Curve\",\n  \"width\": 600\n}",
       "width": 600
      }
     },
     "d7e1f83971694afe958e7af15c11a217": {
      "model_module": "@jupyter-widgets/base",
      "model_module_version": "1.1.0",
      "model_name": "LayoutModel",
      "state": {
       "justify_items": null
      }
     },
     "e31685440b2f4e4a93495ee72a15cb99": {
      "model_module": "jupyter-aas-timeseries",
      "model_module_version": "^0.1.7",
      "model_name": "TimeSeriesModel",
      "state": {
       "_model_module_version": "^0.1.7",
       "_view_module_version": "^0.1.7",
       "height": 480,
       "layout": "IPY_MODEL_537f43726fa148ec87c627df8384c70b",
       "vega_json": "{\n  \"$schema\": \"https://vega.github.io/schema/vega/v4.json\",\n  \"_extend\": {\n    \"scales\": [\n      {\n        \"input\": \"seconds\",\n        \"name\": \"xscale\",\n        \"output\": \"hours\"\n      }\n    ]\n  },\n  \"autosize\": {\n    \"resize\": false,\n    \"type\": \"fit\"\n  },\n  \"axes\": [\n    {\n      \"orient\": \"bottom\",\n      \"scale\": \"xscale\",\n      \"title\": \"Relative Time (h)\"\n    },\n    {\n      \"orient\": \"left\",\n      \"scale\": \"yscale\",\n      \"title\": \"\"\n    }\n  ],\n  \"data\": [\n    {\n      \"format\": {\n        \"parse\": {\n          \"flux\": \"number\",\n          \"relative\": \"number\"\n        },\n        \"type\": \"csv\"\n      },\n      \"name\": \"fb8a8ed7-5872-4408-bf7b-62d972d5b65a\",\n      \"values\": \"flux,relative\\n0.98,0.0\\n1.02,10.0\\n1.01,20.0\\n0.87,30.0\\n0.75,40.0\\n0.7,50.0\\n0.71,60.0\\n0.82,70.0\\n0.97,80.0\\n1.02,90.0\\n1.01,100.0\\n1.0,110.0\\n0.99,120.0\\n0.91,129.0\\n0.79,140.0\\n0.71,150.0\\n0.69,160.0\\n0.73,170.0\\n0.86,180.0\\n1.0,190.0\\n0.99,200.0\\n1.01,210.0\\n1.007,212.0\\n1.011,217.0\\n0.94,228.0\\n0.84,232.0\\n\"\n    }\n  ],\n  \"height\": 400,\n  \"marks\": [\n    {\n      \"clip\": true,\n      \"description\": \"\",\n      \"encode\": {\n        \"enter\": {\n          \"shape\": {\n            \"value\": \"circle\"\n          },\n          \"x\": {\n            \"field\": \"relative\",\n            \"scale\": \"xscale\"\n          },\n          \"y\": {\n            \"field\": \"flux\",\n            \"scale\": \"yscale\"\n          }\n        },\n        \"update\": {\n          \"fill\": {\n            \"value\": \"#ffa500\"\n          },\n          \"fillOpacity\": {\n            \"value\": 1\n          },\n          \"shape\": {\n            \"value\": \"circle\"\n          },\n          \"size\": {\n            \"value\": 50\n          },\n          \"stroke\": {\n            \"value\": \"#000000\"\n          },\n          \"strokeOpacity\": {\n            \"value\": 0.2\n          },\n          \"strokeWidth\": {\n            \"value\": 0\n          }\n        }\n      },\n      \"from\": {\n        \"data\": \"fb8a8ed7-5872-4408-bf7b-62d972d5b65a\"\n      },\n      \"name\": \"222aa3e4-446b-480f-bac1-a61d76b0c35e\",\n      \"type\": \"symbol\"\n    }\n  ],\n  \"padding\": 0,\n  \"scales\": [\n    {\n      \"domain\": [\n        0.0,\n        232.0\n      ],\n      \"name\": \"xscale\",\n      \"padding\": 36,\n      \"range\": \"width\",\n      \"type\": \"number\",\n      \"zero\": false\n    },\n    {\n      \"domain\": [\n        0.69,\n        1.02\n      ],\n      \"name\": \"yscale\",\n      \"padding\": 36,\n      \"range\": \"height\",\n      \"type\": \"linear\",\n      \"zero\": false\n    }\n  ],\n  \"title\": \"Radial Velocity Curve\",\n  \"width\": 600\n}",
       "width": 600
      }
     },
     "ea97df2c99414a0daf0b3eb50bd3802f": {
      "model_module": "@jupyter-widgets/base",
      "model_module_version": "1.1.0",
      "model_name": "LayoutModel",
      "state": {
       "justify_items": null
      }
     },
     "f2f289f18589487290b2edce50452707": {
      "model_module": "jupyter-aas-timeseries",
      "model_module_version": "^0.1.7",
      "model_name": "TimeSeriesModel",
      "state": {
       "_model_module_version": "^0.1.7",
       "_view_module_version": "^0.1.7",
       "height": 480,
       "layout": "IPY_MODEL_2b640a12213e4abe9ff344b888d04d36",
       "vega_json": "{\n  \"$schema\": \"https://vega.github.io/schema/vega/v4.json\",\n  \"_extend\": {\n    \"scales\": [\n      {\n        \"input\": \"seconds\",\n        \"name\": \"xscale\",\n        \"output\": \"seconds\"\n      }\n    ]\n  },\n  \"autosize\": {\n    \"resize\": false,\n    \"type\": \"fit\"\n  },\n  \"axes\": [\n    {\n      \"orient\": \"bottom\",\n      \"scale\": \"xscale\",\n      \"title\": \"Relative Time (s)\"\n    },\n    {\n      \"orient\": \"left\",\n      \"scale\": \"yscale\",\n      \"title\": \"Radial Velocity (km/s)\"\n    }\n  ],\n  \"data\": [\n    {\n      \"format\": {\n        \"parse\": {\n          \"flux\": \"number\",\n          \"relative\": \"number\"\n        },\n        \"type\": \"csv\"\n      },\n      \"name\": \"ac125160-a305-4e7e-a587-3b5aa056743d\",\n      \"values\": \"flux,relative\\n0.98,0.0\\n1.02,10.0\\n1.01,20.0\\n0.87,30.0\\n0.75,40.0\\n0.7,50.0\\n0.71,60.0\\n0.82,70.0\\n0.97,80.0\\n1.02,90.0\\n1.01,100.0\\n1.0,110.0\\n0.99,120.0\\n0.91,129.0\\n0.79,140.0\\n0.71,150.0\\n0.69,160.0\\n0.73,170.0\\n0.86,180.0\\n1.0,190.0\\n0.99,200.0\\n1.01,210.0\\n1.007,212.0\\n1.011,217.0\\n0.94,228.0\\n0.84,232.0\\n\"\n    }\n  ],\n  \"height\": 400,\n  \"marks\": [\n    {\n      \"clip\": true,\n      \"description\": \"\",\n      \"encode\": {\n        \"enter\": {\n          \"shape\": {\n            \"value\": \"circle\"\n          },\n          \"x\": {\n            \"field\": \"relative\",\n            \"scale\": \"xscale\"\n          },\n          \"y\": {\n            \"field\": \"flux\",\n            \"scale\": \"yscale\"\n          }\n        },\n        \"update\": {\n          \"fill\": {\n            \"value\": \"#ffa500\"\n          },\n          \"fillOpacity\": {\n            \"value\": 1\n          },\n          \"shape\": {\n            \"value\": \"circle\"\n          },\n          \"size\": {\n            \"value\": 50\n          },\n          \"stroke\": {\n            \"value\": \"#000000\"\n          },\n          \"strokeOpacity\": {\n            \"value\": 0.2\n          },\n          \"strokeWidth\": {\n            \"value\": 0\n          }\n        }\n      },\n      \"from\": {\n        \"data\": \"ac125160-a305-4e7e-a587-3b5aa056743d\"\n      },\n      \"name\": \"36104376-b96d-4545-866c-282f476540cf\",\n      \"type\": \"symbol\"\n    }\n  ],\n  \"padding\": 0,\n  \"scales\": [\n    {\n      \"domain\": [\n        0.0,\n        232.0\n      ],\n      \"name\": \"xscale\",\n      \"padding\": 36,\n      \"range\": \"width\",\n      \"type\": \"number\",\n      \"zero\": false\n    },\n    {\n      \"domain\": [\n        0.69,\n        1.02\n      ],\n      \"name\": \"yscale\",\n      \"padding\": 36,\n      \"range\": \"height\",\n      \"type\": \"linear\",\n      \"zero\": false\n    }\n  ],\n  \"title\": \"Radial Velocity Curve\",\n  \"width\": 600\n}",
       "width": 600
      }
     },
     "f40fadde78d74669a2cc054a96bb6bf1": {
      "model_module": "@jupyter-widgets/base",
      "model_module_version": "1.1.0",
      "model_name": "LayoutModel",
      "state": {
       "justify_items": null
      }
     },
     "f8252311526f46c3852302be1db29b3b": {
      "model_module": "@jupyter-widgets/base",
      "model_module_version": "1.1.0",
      "model_name": "LayoutModel",
      "state": {
       "justify_items": null
      }
     }
    },
    "version_major": 2,
    "version_minor": 0
   }
  }
 },
 "nbformat": 4,
 "nbformat_minor": 2
}
