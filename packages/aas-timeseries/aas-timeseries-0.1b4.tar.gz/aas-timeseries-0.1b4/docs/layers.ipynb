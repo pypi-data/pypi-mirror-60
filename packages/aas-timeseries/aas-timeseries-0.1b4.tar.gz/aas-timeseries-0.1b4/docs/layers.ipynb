{
 "cells": [
  {
   "cell_type": "markdown",
   "metadata": {},
   "source": [
    "# Adding and modifying layers"
   ]
  },
  {
   "cell_type": "markdown",
   "metadata": {},
   "source": [
    "On this page, we take a look at all the available plotting features. Let's start off by creating a simple time series:"
   ]
  },
  {
   "cell_type": "code",
   "execution_count": 1,
   "metadata": {},
   "outputs": [],
   "source": [
    "from astropy import units as u\n",
    "from astropy.timeseries import TimeSeries\n",
    "ts = TimeSeries(time_start='2016-03-22T12:30:31', time_delta=3 * u.s, n_samples=10)\n",
    "ts['flux'] = [10, 11, 9, 10, 2, 3, 5, 12, 11, 10]\n",
    "ts['error'] = [2, 2.5, 2, 1.5, 2, 2, 1.5, 1.5, 2., 2.5]"
   ]
  },
  {
   "cell_type": "markdown",
   "metadata": {},
   "source": [
    "### Creating an interactive figure"
   ]
  },
  {
   "cell_type": "markdown",
   "metadata": {},
   "source": [
    "To create an interactive figure, use the [InteractiveTimeSeriesFigure](api/aas_timeseries.InteractiveTimeSeriesFigure.rst#aas_timeseries.InteractiveTimeSeriesFigure) class:"
   ]
  },
  {
   "cell_type": "code",
   "execution_count": 2,
   "metadata": {},
   "outputs": [],
   "source": [
    "from aas_timeseries import InteractiveTimeSeriesFigure\n",
    "fig = InteractiveTimeSeriesFigure()"
   ]
  },
  {
   "cell_type": "markdown",
   "metadata": {},
   "source": [
    "### Note on adding and modifying layers"
   ]
  },
  {
   "cell_type": "markdown",
   "metadata": {},
   "source": [
    "Before we look at specific examples of layers, let's take a look at a couple of general patterns. First, interactive plots are defined by a collection of layers (e.g. markers, lines, shaded areas, text) that you can add using ``fig.add_*`` methods. These methods take all the arguments that can be used to customize a layer, e.g.:\n",
    "\n",
    "    fig.add_markers(time_series=ts, column='flux', label='Flux', color='red')\n",
    "    \n",
    "The ``add_*`` methods typically return an object that can be used to further customize the layer, so the above is equivalent to:\n",
    "\n",
    "    markers = fig.add_markers(time_series=ts, column='flux', label='Flux')\n",
    "    markers.color = 'red'\n",
    "\n",
    "Second, ``add_*`` layers take a ``label=`` argument that is used to define the name of the layer as shown in the list of layers (accessible from the top right menu in each interactive plot)."
   ]
  },
  {
   "cell_type": "markdown",
   "metadata": {},
   "source": [
    "### Markers"
   ]
  },
  {
   "cell_type": "markdown",
   "metadata": {},
   "source": [
    "To add markers, use the [add_markers](api/aas_timeseries.InteractiveTimeSeriesFigure.rst#aas_timeseries.InteractiveTimeSeriesFigure.add_markers) method:"
   ]
  },
  {
   "cell_type": "code",
   "execution_count": 3,
   "metadata": {},
   "outputs": [],
   "source": [
    "markers = fig.add_markers(time_series=ts, column='flux', label='Flux')"
   ]
  },
  {
   "cell_type": "markdown",
   "metadata": {},
   "source": [
    "We can then use [preview_interactive](api/aas_timeseries.InteractiveTimeSeriesFigure.rst#aas_timeseries.InteractiveTimeSeriesFigure.preview_interactive) to view the current version of the interactive plot."
   ]
  },
  {
   "cell_type": "code",
   "execution_count": 4,
   "metadata": {},
   "outputs": [
    {
     "data": {
      "application/vnd.jupyter.widget-view+json": {
       "model_id": "3291c922092449e0a50afb816daf3bca",
       "version_major": 2,
       "version_minor": 0
      },
      "text/plain": [
       "TimeSeriesWidget(vega_json='{\\n  \"$schema\": \"https://vega.github.io/schema/vega/v4.json\",\\n  \"_extend\": {\\n   …"
      ]
     },
     "metadata": {},
     "output_type": "display_data"
    }
   ],
   "source": [
    "fig.preview_interactive()"
   ]
  },
  {
   "cell_type": "markdown",
   "metadata": {},
   "source": [
    "As mentioned above, because we wrote ``markers =``, we can further change the properties of the markers after they have been added to the figure - for example, we can change the marker size:"
   ]
  },
  {
   "cell_type": "code",
   "execution_count": 5,
   "metadata": {},
   "outputs": [
    {
     "data": {
      "application/vnd.jupyter.widget-view+json": {
       "model_id": "558089fc13f34d0daf255112837ae0ac",
       "version_major": 2,
       "version_minor": 0
      },
      "text/plain": [
       "TimeSeriesWidget(vega_json='{\\n  \"$schema\": \"https://vega.github.io/schema/vega/v4.json\",\\n  \"_extend\": {\\n   …"
      ]
     },
     "metadata": {},
     "output_type": "display_data"
    }
   ],
   "source": [
    "markers.size = 40\n",
    "fig.preview_interactive()"
   ]
  },
  {
   "cell_type": "markdown",
   "metadata": {},
   "source": [
    "If you want to show error bars, you can pass the ``error`` argument to [add_markers](api/aas_timeseries.InteractiveTimeSeriesFigure.rst#aas_timeseries.InteractiveTimeSeriesFigure.add_markers), specifying a column to use for the uncertainties, or you can set it on the ``markers`` object after the fact:"
   ]
  },
  {
   "cell_type": "code",
   "execution_count": 6,
   "metadata": {},
   "outputs": [],
   "source": [
    "markers.error = 'error'\n",
    "fig.preview_interactive() \n",
    "fig.save_vega_json('test_error.json')"
   ]
  },
  {
   "cell_type": "markdown",
   "metadata": {},
   "source": [
    "### Lines"
   ]
  },
  {
   "cell_type": "markdown",
   "metadata": {},
   "source": [
    "Adding a line is done in a similar way using the [add_line](api/aas_timeseries.InteractiveTimeSeriesFigure.rst#aas_timeseries.InteractiveTimeSeriesFigure.add_line) method:"
   ]
  },
  {
   "cell_type": "code",
   "execution_count": 7,
   "metadata": {},
   "outputs": [],
   "source": [
    "line = fig.add_line(time_series=ts, column='flux', label='Flux')"
   ]
  },
  {
   "cell_type": "code",
   "execution_count": 8,
   "metadata": {},
   "outputs": [
    {
     "data": {
      "application/vnd.jupyter.widget-view+json": {
       "model_id": "ae5cca0d1c7e46b3ad063650e68e538b",
       "version_major": 2,
       "version_minor": 0
      },
      "text/plain": [
       "TimeSeriesWidget(vega_json='{\\n  \"$schema\": \"https://vega.github.io/schema/vega/v4.json\",\\n  \"_extend\": {\\n   …"
      ]
     },
     "metadata": {},
     "output_type": "display_data"
    }
   ],
   "source": [
    "fig.preview_interactive()"
   ]
  },
  {
   "cell_type": "markdown",
   "metadata": {},
   "source": [
    "Note that by using the same ``label`` as for the markers and error bars, this layer combined with the markers will appear as a single entry in the figure legend. As for markers, the returned ``line`` object can be used to update properties of the line, e.g.:"
   ]
  },
  {
   "cell_type": "code",
   "execution_count": 9,
   "metadata": {},
   "outputs": [
    {
     "data": {
      "application/vnd.jupyter.widget-view+json": {
       "model_id": "5066dbb701d14f0cb05156ff87edf17f",
       "version_major": 2,
       "version_minor": 0
      },
      "text/plain": [
       "TimeSeriesWidget(vega_json='{\\n  \"$schema\": \"https://vega.github.io/schema/vega/v4.json\",\\n  \"_extend\": {\\n   …"
      ]
     },
     "metadata": {},
     "output_type": "display_data"
    }
   ],
   "source": [
    "line.width = 2\n",
    "fig.preview_interactive()"
   ]
  },
  {
   "cell_type": "markdown",
   "metadata": {},
   "source": [
    "### Vertical and horizontal lines"
   ]
  },
  {
   "cell_type": "markdown",
   "metadata": {},
   "source": [
    "In some cases it can be useful to indicate specific points in time with vertical lines, or certain y-axis values with horizontal lines. These can be added with the [add_vertical_line](api/aas_timeseries.InteractiveTimeSeriesFigure.rst#aas_timeseries.InteractiveTimeSeriesFigure.add_vertical_line) and [add_horizontal_line](api/aas_timeseries.InteractiveTimeSeriesFigure.rst#aas_timeseries.InteractiveTimeSeriesFigure.add_horizontal_line) methods:"
   ]
  },
  {
   "cell_type": "code",
   "execution_count": 10,
   "metadata": {},
   "outputs": [],
   "source": [
    "vertical_line = fig.add_vertical_line(ts.time[5], label='Special event')\n",
    "horizontal_line = fig.add_horizontal_line(10, label='Baseline flux')"
   ]
  },
  {
   "cell_type": "code",
   "execution_count": 11,
   "metadata": {},
   "outputs": [
    {
     "data": {
      "application/vnd.jupyter.widget-view+json": {
       "model_id": "d36bf871c9bc44cd94112af4f16f1ad9",
       "version_major": 2,
       "version_minor": 0
      },
      "text/plain": [
       "TimeSeriesWidget(vega_json='{\\n  \"$schema\": \"https://vega.github.io/schema/vega/v4.json\",\\n  \"_extend\": {\\n   …"
      ]
     },
     "metadata": {},
     "output_type": "display_data"
    }
   ],
   "source": [
    "fig.preview_interactive()"
   ]
  },
  {
   "cell_type": "markdown",
   "metadata": {},
   "source": [
    "### Ranges"
   ]
  },
  {
   "cell_type": "markdown",
   "metadata": {},
   "source": [
    "There are three kinds of ranges that can be added to plots. First, if your time series has columns that can serve as the lower and upper values for a range as a function of time. Let's create two such columns to demonstrate:"
   ]
  },
  {
   "cell_type": "code",
   "execution_count": 12,
   "metadata": {},
   "outputs": [],
   "source": [
    "ts['flux_lo'] = ts['flux'] - ts['error']\n",
    "ts['flux_hi'] = ts['flux'] + ts['error']"
   ]
  },
  {
   "cell_type": "markdown",
   "metadata": {},
   "source": [
    "And we can now plot a time-dependent range using [add_range](api/aas_timeseries.InteractiveTimeSeriesFigure.rst#aas_timeseries.InteractiveTimeSeriesFigure.add_range):"
   ]
  },
  {
   "cell_type": "code",
   "execution_count": 13,
   "metadata": {},
   "outputs": [
    {
     "data": {
      "application/vnd.jupyter.widget-view+json": {
       "model_id": "6d5f7df1bcc04a9eb027ffcf0d3ab79d",
       "version_major": 2,
       "version_minor": 0
      },
      "text/plain": [
       "TimeSeriesWidget(vega_json='{\\n  \"$schema\": \"https://vega.github.io/schema/vega/v4.json\",\\n  \"_extend\": {\\n   …"
      ]
     },
     "metadata": {},
     "output_type": "display_data"
    }
   ],
   "source": [
    "frange = fig.add_range(time_series=ts, column_lower='flux_lo',\n",
    "                       column_upper='flux_hi', label='Range')\n",
    "fig.preview_interactive()"
   ]
  },
  {
   "cell_type": "markdown",
   "metadata": {},
   "source": [
    "It is also possible to define horizontal and vertical ranges in a similar way to horizontal and vertical lines using [add_vertical_range](api/aas_timeseries.InteractiveTimeSeriesFigure.rst#aas_timeseries.InteractiveTimeSeriesFigure.add_vertical_range) and [add_horizontal_range](api/aas_timeseries.InteractiveTimeSeriesFigure.rst#aas_timeseries.InteractiveTimeSeriesFigure.add_horizontal_range):"
   ]
  },
  {
   "cell_type": "code",
   "execution_count": 14,
   "metadata": {},
   "outputs": [],
   "source": [
    "vrange = fig.add_vertical_range(ts.time[4], ts.time[6], label='Vertical Range')\n",
    "hrange = fig.add_horizontal_range(8, 11, label='Horizontal Range')"
   ]
  },
  {
   "cell_type": "code",
   "execution_count": 15,
   "metadata": {},
   "outputs": [
    {
     "data": {
      "application/vnd.jupyter.widget-view+json": {
       "model_id": "19a6a11a76b4447ead8affdc161dfd86",
       "version_major": 2,
       "version_minor": 0
      },
      "text/plain": [
       "TimeSeriesWidget(vega_json='{\\n  \"$schema\": \"https://vega.github.io/schema/vega/v4.json\",\\n  \"_extend\": {\\n   …"
      ]
     },
     "metadata": {},
     "output_type": "display_data"
    }
   ],
   "source": [
    "fig.preview_interactive()"
   ]
  },
  {
   "cell_type": "markdown",
   "metadata": {},
   "source": [
    "### Text labels"
   ]
  },
  {
   "cell_type": "markdown",
   "metadata": {},
   "source": [
    "Text labels can be added using the [add_text](api/aas_timeseries.InteractiveTimeSeriesFigure.rst#aas_timeseries.InteractiveTimeSeriesFigure.add_text) method:"
   ]
  },
  {
   "cell_type": "code",
   "execution_count": 16,
   "metadata": {},
   "outputs": [],
   "source": [
    "text = fig.add_text(time=ts.time[1], value=5, text='Here be dragons', label='Text')"
   ]
  },
  {
   "cell_type": "code",
   "execution_count": 17,
   "metadata": {},
   "outputs": [
    {
     "data": {
      "application/vnd.jupyter.widget-view+json": {
       "model_id": "d2dc31d990b845429b5bf876751d2c05",
       "version_major": 2,
       "version_minor": 0
      },
      "text/plain": [
       "TimeSeriesWidget(vega_json='{\\n  \"$schema\": \"https://vega.github.io/schema/vega/v4.json\",\\n  \"_extend\": {\\n   …"
      ]
     },
     "metadata": {},
     "output_type": "display_data"
    }
   ],
   "source": [
    "fig.preview_interactive()"
   ]
  },
  {
   "cell_type": "markdown",
   "metadata": {},
   "source": [
    "### Removing layers"
   ]
  },
  {
   "cell_type": "markdown",
   "metadata": {},
   "source": [
    "To remove a layer, call its [remove](api/aas_timeseries.layers.BaseLayer.rst#aas_timeseries.layers.BaseLayer.remove) method:"
   ]
  },
  {
   "cell_type": "code",
   "execution_count": 18,
   "metadata": {},
   "outputs": [],
   "source": [
    "text.remove()"
   ]
  },
  {
   "cell_type": "code",
   "execution_count": 19,
   "metadata": {},
   "outputs": [
    {
     "data": {
      "application/vnd.jupyter.widget-view+json": {
       "model_id": "0350aa774fcf47c2a491025fad8a4f0f",
       "version_major": 2,
       "version_minor": 0
      },
      "text/plain": [
       "TimeSeriesWidget(vega_json='{\\n  \"$schema\": \"https://vega.github.io/schema/vega/v4.json\",\\n  \"_extend\": {\\n   …"
      ]
     },
     "metadata": {},
     "output_type": "display_data"
    }
   ],
   "source": [
    "fig.preview_interactive()"
   ]
  }
 ],
 "metadata": {
  "kernelspec": {
   "display_name": "Python 3",
   "language": "python",
   "name": "python3"
  },
  "language_info": {
   "codemirror_mode": {
    "name": "ipython",
    "version": 3
   },
   "file_extension": ".py",
   "mimetype": "text/x-python",
   "name": "python",
   "nbconvert_exporter": "python",
   "pygments_lexer": "ipython3",
   "version": "3.7.3"
  },
  "widgets": {
   "application/vnd.jupyter.widget-state+json": {
    "state": {
     "0350aa774fcf47c2a491025fad8a4f0f": {
      "model_module": "jupyter-aas-timeseries",
      "model_module_version": "^0.1.7",
      "model_name": "TimeSeriesModel",
      "state": {
       "_model_module_version": "^0.1.7",
       "_view_module_version": "^0.1.7",
       "height": 480,
       "layout": "IPY_MODEL_67f65cbac214475ba6ac56743a24f435",
       "vega_json": "{\n  \"$schema\": \"https://vega.github.io/schema/vega/v4.json\",\n  \"_extend\": {\n    \"scales\": [\n      {\n        \"input\": \"iso\",\n        \"name\": \"xscale\",\n        \"output\": \"auto\"\n      }\n    ]\n  },\n  \"autosize\": {\n    \"resize\": false,\n    \"type\": \"fit\"\n  },\n  \"axes\": [\n    {\n      \"orient\": \"bottom\",\n      \"scale\": \"xscale\",\n      \"title\": \"Time\"\n    },\n    {\n      \"orient\": \"left\",\n      \"scale\": \"yscale\",\n      \"title\": \"\"\n    }\n  ],\n  \"data\": [\n    {\n      \"format\": {\n        \"parse\": {\n          \"error\": \"number\",\n          \"flux\": \"number\",\n          \"flux_hi\": \"number\",\n          \"flux_lo\": \"number\",\n          \"time\": \"date\"\n        },\n        \"type\": \"csv\"\n      },\n      \"name\": \"8a068b8b-7e94-4ebb-aa85-28e96874b5ee\",\n      \"values\": \"time,flux,error,flux_lo,flux_hi\\n2016-03-22T12:30:31.000Z,10.0,2.0,8.0,12.0\\n2016-03-22T12:30:34.000Z,11.0,2.5,8.5,13.5\\n2016-03-22T12:30:37.000Z,9.0,2.0,7.0,11.0\\n2016-03-22T12:30:40.000Z,10.0,1.5,8.5,11.5\\n2016-03-22T12:30:43.000Z,2.0,2.0,0.0,4.0\\n2016-03-22T12:30:46.000Z,3.0,2.0,1.0,5.0\\n2016-03-22T12:30:49.000Z,5.0,1.5,3.5,6.5\\n2016-03-22T12:30:52.000Z,12.0,1.5,10.5,13.5\\n2016-03-22T12:30:55.000Z,11.0,2.0,9.0,13.0\\n2016-03-22T12:30:58.000Z,10.0,2.5,7.5,12.5\\n\"\n    }\n  ],\n  \"height\": 400,\n  \"marks\": [\n    {\n      \"clip\": true,\n      \"description\": \"Flux\",\n      \"encode\": {\n        \"enter\": {\n          \"shape\": {\n            \"value\": \"circle\"\n          },\n          \"x\": {\n            \"field\": \"time\",\n            \"scale\": \"xscale\"\n          },\n          \"y\": {\n            \"field\": \"flux\",\n            \"scale\": \"yscale\"\n          }\n        },\n        \"update\": {\n          \"fill\": {\n            \"value\": \"#000000\"\n          },\n          \"fillOpacity\": {\n            \"value\": 1\n          },\n          \"shape\": {\n            \"value\": \"circle\"\n          },\n          \"size\": {\n            \"value\": 40\n          },\n          \"stroke\": {\n            \"value\": \"#000000\"\n          },\n          \"strokeOpacity\": {\n            \"value\": 0.2\n          },\n          \"strokeWidth\": {\n            \"value\": 0\n          }\n        }\n      },\n      \"from\": {\n        \"data\": \"8a068b8b-7e94-4ebb-aa85-28e96874b5ee\"\n      },\n      \"name\": \"30408fd0-cffc-43de-8ba4-38b993baeb3f\",\n      \"type\": \"symbol\"\n    },\n    {\n      \"clip\": true,\n      \"description\": \"Flux\",\n      \"encode\": {\n        \"enter\": {\n          \"x\": {\n            \"field\": \"time\",\n            \"scale\": \"xscale\"\n          },\n          \"y\": {\n            \"scale\": \"yscale\",\n            \"signal\": \"datum['flux'] - datum['error']\"\n          },\n          \"y2\": {\n            \"scale\": \"yscale\",\n            \"signal\": \"datum['flux'] + datum['error']\"\n          }\n        },\n        \"update\": {\n          \"fill\": {\n            \"value\": \"#000000\"\n          },\n          \"fillOpacity\": {\n            \"value\": 1\n          },\n          \"shape\": {\n            \"value\": \"circle\"\n          },\n          \"stroke\": {\n            \"value\": \"#000000\"\n          },\n          \"strokeOpacity\": {\n            \"value\": 0.2\n          },\n          \"strokeWidth\": {\n            \"value\": 0\n          },\n          \"width\": {\n            \"value\": 1\n          }\n        }\n      },\n      \"from\": {\n        \"data\": \"8a068b8b-7e94-4ebb-aa85-28e96874b5ee\"\n      },\n      \"name\": \"172b4ed9-e824-4a55-8e22-98e95caf3862\",\n      \"type\": \"rect\"\n    },\n    {\n      \"clip\": true,\n      \"description\": \"Flux\",\n      \"encode\": {\n        \"enter\": {\n          \"stroke\": {\n            \"value\": \"#000000\"\n          },\n          \"strokeOpacity\": {\n            \"value\": 1\n          },\n          \"strokeWidth\": {\n            \"value\": 2\n          },\n          \"x\": {\n            \"field\": \"time\",\n            \"scale\": \"xscale\"\n          },\n          \"y\": {\n            \"field\": \"flux\",\n            \"scale\": \"yscale\"\n          }\n        }\n      },\n      \"from\": {\n        \"data\": \"8a068b8b-7e94-4ebb-aa85-28e96874b5ee\"\n      },\n      \"name\": \"19f56fdf-a7ea-4955-a3dc-5f962cdb1647\",\n      \"type\": \"line\"\n    },\n    {\n      \"clip\": true,\n      \"description\": \"Special event\",\n      \"encode\": {\n        \"enter\": {\n          \"stroke\": {\n            \"value\": \"#000000\"\n          },\n          \"strokeOpacity\": {\n            \"value\": 1\n          },\n          \"strokeWidth\": {\n            \"value\": 1\n          },\n          \"x\": {\n            \"scale\": \"xscale\",\n            \"signal\": \"datetime(2016, 2, 22, 12, 30, 46)\"\n          },\n          \"y\": {\n            \"value\": 0\n          },\n          \"y2\": {\n            \"field\": {\n              \"group\": \"height\"\n            }\n          }\n        }\n      },\n      \"name\": \"6ebb8552-2e32-4b31-8f38-2e9e6ec961f2\",\n      \"type\": \"rule\"\n    },\n    {\n      \"clip\": true,\n      \"description\": \"Baseline flux\",\n      \"encode\": {\n        \"enter\": {\n          \"stroke\": {\n            \"value\": \"#000000\"\n          },\n          \"strokeOpacity\": {\n            \"value\": 1\n          },\n          \"strokeWidth\": {\n            \"value\": 1\n          },\n          \"x\": {\n            \"value\": 0\n          },\n          \"x2\": {\n            \"field\": {\n              \"group\": \"width\"\n            }\n          },\n          \"y\": {\n            \"scale\": \"yscale\",\n            \"value\": 10.0\n          }\n        }\n      },\n      \"name\": \"fc771227-8ebf-45c8-99d4-ccec61af1fa8\",\n      \"type\": \"rule\"\n    },\n    {\n      \"clip\": true,\n      \"description\": \"Range\",\n      \"encode\": {\n        \"enter\": {\n          \"fill\": {\n            \"value\": \"#a6cee3\"\n          },\n          \"fillOpacity\": {\n            \"value\": 0.2\n          },\n          \"stroke\": {\n            \"value\": \"#000000\"\n          },\n          \"strokeOpacity\": {\n            \"value\": 0.2\n          },\n          \"strokeWidth\": {\n            \"value\": 0\n          },\n          \"x\": {\n            \"field\": \"time\",\n            \"scale\": \"xscale\"\n          },\n          \"y\": {\n            \"field\": \"flux_lo\",\n            \"scale\": \"yscale\"\n          },\n          \"y2\": {\n            \"field\": \"flux_hi\",\n            \"scale\": \"yscale\"\n          }\n        }\n      },\n      \"from\": {\n        \"data\": \"8a068b8b-7e94-4ebb-aa85-28e96874b5ee\"\n      },\n      \"name\": \"3103d3a8-2c88-48c6-9a56-350ebd131aba\",\n      \"type\": \"area\"\n    },\n    {\n      \"clip\": true,\n      \"description\": \"Vertical Range\",\n      \"encode\": {\n        \"enter\": {\n          \"fill\": {\n            \"value\": \"#1f78b4\"\n          },\n          \"fillOpacity\": {\n            \"value\": 0.2\n          },\n          \"stroke\": {\n            \"value\": \"#000000\"\n          },\n          \"strokeOpacity\": {\n            \"value\": 0.2\n          },\n          \"strokeWidth\": {\n            \"value\": 0\n          },\n          \"x\": {\n            \"scale\": \"xscale\",\n            \"signal\": \"datetime(2016, 2, 22, 12, 30, 43)\"\n          },\n          \"x2\": {\n            \"scale\": \"xscale\",\n            \"signal\": \"datetime(2016, 2, 22, 12, 30, 49)\"\n          },\n          \"y\": {\n            \"value\": 0\n          },\n          \"y2\": {\n            \"field\": {\n              \"group\": \"height\"\n            }\n          }\n        }\n      },\n      \"name\": \"549e4e43-5c34-49e5-9c8d-4aa51931b31c\",\n      \"type\": \"rect\"\n    },\n    {\n      \"clip\": true,\n      \"description\": \"Horizontal Range\",\n      \"encode\": {\n        \"enter\": {\n          \"fill\": {\n            \"value\": \"#b2df8a\"\n          },\n          \"fillOpacity\": {\n            \"value\": 0.2\n          },\n          \"stroke\": {\n            \"value\": \"#000000\"\n          },\n          \"strokeOpacity\": {\n            \"value\": 0.2\n          },\n          \"strokeWidth\": {\n            \"value\": 0\n          },\n          \"x\": {\n            \"value\": 0\n          },\n          \"x2\": {\n            \"field\": {\n              \"group\": \"width\"\n            }\n          },\n          \"y\": {\n            \"scale\": \"yscale\",\n            \"value\": 8.0\n          },\n          \"y2\": {\n            \"scale\": \"yscale\",\n            \"value\": 11.0\n          }\n        }\n      },\n      \"name\": \"8c36b711-71ed-44a0-9b68-7280cdde5f7e\",\n      \"type\": \"rect\"\n    }\n  ],\n  \"padding\": 0,\n  \"scales\": [\n    {\n      \"domain\": [\n        {\n          \"signal\": \"datetime(2016, 2, 22, 12, 30, 31)\"\n        },\n        {\n          \"signal\": \"datetime(2016, 2, 22, 12, 30, 58)\"\n        }\n      ],\n      \"name\": \"xscale\",\n      \"padding\": 36,\n      \"range\": \"width\",\n      \"type\": \"time\",\n      \"zero\": false\n    },\n    {\n      \"domain\": [\n        2.0,\n        12.0\n      ],\n      \"name\": \"yscale\",\n      \"padding\": 36,\n      \"range\": \"height\",\n      \"type\": \"linear\",\n      \"zero\": false\n    }\n  ],\n  \"title\": \"Default\",\n  \"width\": 600\n}",
       "width": 600
      }
     },
     "05bb844d1fd2451080fafe77b16f1f00": {
      "model_module": "jupyter-aas-timeseries",
      "model_module_version": "^0.1.5",
      "model_name": "TimeSeriesModel",
      "state": {
       "_model_module_version": "^0.1.5",
       "_view_module_version": "^0.1.5",
       "height": 480,
       "layout": "IPY_MODEL_7614f36ef0c04d6aa7bf0c9a28cb49e9",
       "vega_json": "{\n  \"$schema\": \"https://vega.github.io/schema/vega/v4.json\",\n  \"_extend\": {\n    \"scales\": [\n      {\n        \"input\": \"iso\",\n        \"name\": \"xscale\",\n        \"output\": \"auto\"\n      }\n    ]\n  },\n  \"autosize\": {\n    \"resize\": false,\n    \"type\": \"fit\"\n  },\n  \"axes\": [\n    {\n      \"orient\": \"bottom\",\n      \"scale\": \"xscale\",\n      \"title\": \"Time\"\n    },\n    {\n      \"orient\": \"left\",\n      \"scale\": \"yscale\",\n      \"title\": \"\"\n    }\n  ],\n  \"data\": [\n    {\n      \"format\": {\n        \"parse\": {\n          \"error\": \"number\",\n          \"flux\": \"number\",\n          \"flux_hi\": \"number\",\n          \"flux_lo\": \"number\",\n          \"time\": \"date\"\n        },\n        \"type\": \"csv\"\n      },\n      \"name\": \"62c42801-e213-4fb0-af1c-52c99b306b50\",\n      \"values\": \"time,flux,error,flux_lo,flux_hi\\n2016-03-22T12:30:31.000Z,10.0,2.0,8.0,12.0\\n2016-03-22T12:30:34.000Z,11.0,2.5,8.5,13.5\\n2016-03-22T12:30:37.000Z,9.0,2.0,7.0,11.0\\n2016-03-22T12:30:40.000Z,10.0,1.5,8.5,11.5\\n2016-03-22T12:30:43.000Z,2.0,2.0,0.0,4.0\\n2016-03-22T12:30:46.000Z,3.0,2.0,1.0,5.0\\n2016-03-22T12:30:49.000Z,5.0,1.5,3.5,6.5\\n2016-03-22T12:30:52.000Z,12.0,1.5,10.5,13.5\\n2016-03-22T12:30:55.000Z,11.0,2.0,9.0,13.0\\n2016-03-22T12:30:58.000Z,10.0,2.5,7.5,12.5\\n\"\n    }\n  ],\n  \"height\": 400,\n  \"marks\": [\n    {\n      \"clip\": true,\n      \"description\": \"Flux\",\n      \"encode\": {\n        \"enter\": {\n          \"shape\": {\n            \"value\": \"circle\"\n          },\n          \"x\": {\n            \"field\": \"time\",\n            \"scale\": \"xscale\"\n          },\n          \"y\": {\n            \"field\": \"flux\",\n            \"scale\": \"yscale\"\n          }\n        },\n        \"update\": {\n          \"fill\": {\n            \"value\": \"#000000\"\n          },\n          \"fillOpacity\": {\n            \"value\": 1\n          },\n          \"shape\": {\n            \"value\": \"circle\"\n          },\n          \"size\": {\n            \"value\": 40\n          },\n          \"stroke\": {\n            \"value\": \"#000000\"\n          },\n          \"strokeOpacity\": {\n            \"value\": 0.2\n          },\n          \"strokeWidth\": {\n            \"value\": 0\n          }\n        }\n      },\n      \"from\": {\n        \"data\": \"62c42801-e213-4fb0-af1c-52c99b306b50\"\n      },\n      \"name\": \"be5de6ac-8abe-44d8-ac8f-0d99a8107495\",\n      \"type\": \"symbol\"\n    },\n    {\n      \"clip\": true,\n      \"description\": \"Flux\",\n      \"encode\": {\n        \"enter\": {\n          \"x\": {\n            \"field\": \"time\",\n            \"scale\": \"xscale\"\n          },\n          \"y\": {\n            \"scale\": \"yscale\",\n            \"signal\": \"datum['flux'] - datum['error']\"\n          },\n          \"y2\": {\n            \"scale\": \"yscale\",\n            \"signal\": \"datum['flux'] + datum['error']\"\n          }\n        },\n        \"update\": {\n          \"fill\": {\n            \"value\": \"#000000\"\n          },\n          \"fillOpacity\": {\n            \"value\": 1\n          },\n          \"shape\": {\n            \"value\": \"circle\"\n          },\n          \"stroke\": {\n            \"value\": \"#000000\"\n          },\n          \"strokeOpacity\": {\n            \"value\": 0.2\n          },\n          \"strokeWidth\": {\n            \"value\": 0\n          },\n          \"width\": {\n            \"value\": 1\n          }\n        }\n      },\n      \"from\": {\n        \"data\": \"62c42801-e213-4fb0-af1c-52c99b306b50\"\n      },\n      \"name\": \"78638f69-d787-4dfd-acc7-c393dd2fa38b\",\n      \"type\": \"rect\"\n    },\n    {\n      \"clip\": true,\n      \"description\": \"Flux\",\n      \"encode\": {\n        \"enter\": {\n          \"stroke\": {\n            \"value\": \"#000000\"\n          },\n          \"strokeOpacity\": {\n            \"value\": 1\n          },\n          \"strokeWidth\": {\n            \"value\": 2\n          },\n          \"x\": {\n            \"field\": \"time\",\n            \"scale\": \"xscale\"\n          },\n          \"y\": {\n            \"field\": \"flux\",\n            \"scale\": \"yscale\"\n          }\n        }\n      },\n      \"from\": {\n        \"data\": \"62c42801-e213-4fb0-af1c-52c99b306b50\"\n      },\n      \"name\": \"2a3f2c38-1bc5-4df8-876b-ba8801fc8412\",\n      \"type\": \"line\"\n    },\n    {\n      \"clip\": true,\n      \"description\": \"Special event\",\n      \"encode\": {\n        \"enter\": {\n          \"stroke\": {\n            \"value\": \"#000000\"\n          },\n          \"strokeOpacity\": {\n            \"value\": 1\n          },\n          \"strokeWidth\": {\n            \"value\": 1\n          },\n          \"x\": {\n            \"scale\": \"xscale\",\n            \"signal\": \"datetime(2016, 2, 22, 12, 30, 46)\"\n          },\n          \"y\": {\n            \"value\": 0\n          },\n          \"y2\": {\n            \"field\": {\n              \"group\": \"height\"\n            }\n          }\n        }\n      },\n      \"name\": \"5d7fd700-c3b5-421c-a9ff-1be5dc7e25bf\",\n      \"type\": \"rule\"\n    },\n    {\n      \"clip\": true,\n      \"description\": \"Baseline flux\",\n      \"encode\": {\n        \"enter\": {\n          \"stroke\": {\n            \"value\": \"#000000\"\n          },\n          \"strokeOpacity\": {\n            \"value\": 1\n          },\n          \"strokeWidth\": {\n            \"value\": 1\n          },\n          \"x\": {\n            \"value\": 0\n          },\n          \"x2\": {\n            \"field\": {\n              \"group\": \"width\"\n            }\n          },\n          \"y\": {\n            \"scale\": \"yscale\",\n            \"value\": 10.0\n          }\n        }\n      },\n      \"name\": \"ec0f1915-d7a3-4828-af68-d6444cced3b3\",\n      \"type\": \"rule\"\n    },\n    {\n      \"clip\": true,\n      \"description\": \"Range\",\n      \"encode\": {\n        \"enter\": {\n          \"fill\": {\n            \"value\": \"#a6cee3\"\n          },\n          \"fillOpacity\": {\n            \"value\": 0.2\n          },\n          \"stroke\": {\n            \"value\": \"#000000\"\n          },\n          \"strokeOpacity\": {\n            \"value\": 0.2\n          },\n          \"strokeWidth\": {\n            \"value\": 0\n          },\n          \"x\": {\n            \"field\": \"time\",\n            \"scale\": \"xscale\"\n          },\n          \"y\": {\n            \"field\": \"flux_lo\",\n            \"scale\": \"yscale\"\n          },\n          \"y2\": {\n            \"field\": \"flux_hi\",\n            \"scale\": \"yscale\"\n          }\n        }\n      },\n      \"from\": {\n        \"data\": \"62c42801-e213-4fb0-af1c-52c99b306b50\"\n      },\n      \"name\": \"fae4b5b7-7908-4f5c-9bdd-1c8288fd0bf6\",\n      \"type\": \"area\"\n    }\n  ],\n  \"padding\": 0,\n  \"scales\": [\n    {\n      \"domain\": [\n        {\n          \"signal\": \"datetime(2016, 2, 22, 12, 30, 31)\"\n        },\n        {\n          \"signal\": \"datetime(2016, 2, 22, 12, 30, 58)\"\n        }\n      ],\n      \"name\": \"xscale\",\n      \"padding\": 36,\n      \"range\": \"width\",\n      \"type\": \"time\",\n      \"zero\": false\n    },\n    {\n      \"domain\": [\n        2.0,\n        12.0\n      ],\n      \"name\": \"yscale\",\n      \"padding\": 36,\n      \"range\": \"height\",\n      \"type\": \"linear\",\n      \"zero\": false\n    }\n  ],\n  \"title\": \"Default\",\n  \"width\": 600\n}",
       "width": 600
      }
     },
     "10f51a2da6254cd78b5a8dd7fe3bff69": {
      "model_module": "@jupyter-widgets/base",
      "model_module_version": "1.1.0",
      "model_name": "LayoutModel",
      "state": {
       "justify_items": null
      }
     },
     "163476e25e2a4f36bb03d4d6183ffc15": {
      "model_module": "@jupyter-widgets/base",
      "model_module_version": "1.1.0",
      "model_name": "LayoutModel",
      "state": {
       "justify_items": null
      }
     },
     "19a6a11a76b4447ead8affdc161dfd86": {
      "model_module": "jupyter-aas-timeseries",
      "model_module_version": "^0.1.7",
      "model_name": "TimeSeriesModel",
      "state": {
       "_model_module_version": "^0.1.7",
       "_view_module_version": "^0.1.7",
       "height": 480,
       "layout": "IPY_MODEL_aa00ea70b575496bb8925919de5e1db4",
       "vega_json": "{\n  \"$schema\": \"https://vega.github.io/schema/vega/v4.json\",\n  \"_extend\": {\n    \"scales\": [\n      {\n        \"input\": \"iso\",\n        \"name\": \"xscale\",\n        \"output\": \"auto\"\n      }\n    ]\n  },\n  \"autosize\": {\n    \"resize\": false,\n    \"type\": \"fit\"\n  },\n  \"axes\": [\n    {\n      \"orient\": \"bottom\",\n      \"scale\": \"xscale\",\n      \"title\": \"Time\"\n    },\n    {\n      \"orient\": \"left\",\n      \"scale\": \"yscale\",\n      \"title\": \"\"\n    }\n  ],\n  \"data\": [\n    {\n      \"format\": {\n        \"parse\": {\n          \"error\": \"number\",\n          \"flux\": \"number\",\n          \"flux_hi\": \"number\",\n          \"flux_lo\": \"number\",\n          \"time\": \"date\"\n        },\n        \"type\": \"csv\"\n      },\n      \"name\": \"8a068b8b-7e94-4ebb-aa85-28e96874b5ee\",\n      \"values\": \"time,flux,error,flux_lo,flux_hi\\n2016-03-22T12:30:31.000Z,10.0,2.0,8.0,12.0\\n2016-03-22T12:30:34.000Z,11.0,2.5,8.5,13.5\\n2016-03-22T12:30:37.000Z,9.0,2.0,7.0,11.0\\n2016-03-22T12:30:40.000Z,10.0,1.5,8.5,11.5\\n2016-03-22T12:30:43.000Z,2.0,2.0,0.0,4.0\\n2016-03-22T12:30:46.000Z,3.0,2.0,1.0,5.0\\n2016-03-22T12:30:49.000Z,5.0,1.5,3.5,6.5\\n2016-03-22T12:30:52.000Z,12.0,1.5,10.5,13.5\\n2016-03-22T12:30:55.000Z,11.0,2.0,9.0,13.0\\n2016-03-22T12:30:58.000Z,10.0,2.5,7.5,12.5\\n\"\n    }\n  ],\n  \"height\": 400,\n  \"marks\": [\n    {\n      \"clip\": true,\n      \"description\": \"Flux\",\n      \"encode\": {\n        \"enter\": {\n          \"shape\": {\n            \"value\": \"circle\"\n          },\n          \"x\": {\n            \"field\": \"time\",\n            \"scale\": \"xscale\"\n          },\n          \"y\": {\n            \"field\": \"flux\",\n            \"scale\": \"yscale\"\n          }\n        },\n        \"update\": {\n          \"fill\": {\n            \"value\": \"#000000\"\n          },\n          \"fillOpacity\": {\n            \"value\": 1\n          },\n          \"shape\": {\n            \"value\": \"circle\"\n          },\n          \"size\": {\n            \"value\": 40\n          },\n          \"stroke\": {\n            \"value\": \"#000000\"\n          },\n          \"strokeOpacity\": {\n            \"value\": 0.2\n          },\n          \"strokeWidth\": {\n            \"value\": 0\n          }\n        }\n      },\n      \"from\": {\n        \"data\": \"8a068b8b-7e94-4ebb-aa85-28e96874b5ee\"\n      },\n      \"name\": \"30408fd0-cffc-43de-8ba4-38b993baeb3f\",\n      \"type\": \"symbol\"\n    },\n    {\n      \"clip\": true,\n      \"description\": \"Flux\",\n      \"encode\": {\n        \"enter\": {\n          \"x\": {\n            \"field\": \"time\",\n            \"scale\": \"xscale\"\n          },\n          \"y\": {\n            \"scale\": \"yscale\",\n            \"signal\": \"datum['flux'] - datum['error']\"\n          },\n          \"y2\": {\n            \"scale\": \"yscale\",\n            \"signal\": \"datum['flux'] + datum['error']\"\n          }\n        },\n        \"update\": {\n          \"fill\": {\n            \"value\": \"#000000\"\n          },\n          \"fillOpacity\": {\n            \"value\": 1\n          },\n          \"shape\": {\n            \"value\": \"circle\"\n          },\n          \"stroke\": {\n            \"value\": \"#000000\"\n          },\n          \"strokeOpacity\": {\n            \"value\": 0.2\n          },\n          \"strokeWidth\": {\n            \"value\": 0\n          },\n          \"width\": {\n            \"value\": 1\n          }\n        }\n      },\n      \"from\": {\n        \"data\": \"8a068b8b-7e94-4ebb-aa85-28e96874b5ee\"\n      },\n      \"name\": \"172b4ed9-e824-4a55-8e22-98e95caf3862\",\n      \"type\": \"rect\"\n    },\n    {\n      \"clip\": true,\n      \"description\": \"Flux\",\n      \"encode\": {\n        \"enter\": {\n          \"stroke\": {\n            \"value\": \"#000000\"\n          },\n          \"strokeOpacity\": {\n            \"value\": 1\n          },\n          \"strokeWidth\": {\n            \"value\": 2\n          },\n          \"x\": {\n            \"field\": \"time\",\n            \"scale\": \"xscale\"\n          },\n          \"y\": {\n            \"field\": \"flux\",\n            \"scale\": \"yscale\"\n          }\n        }\n      },\n      \"from\": {\n        \"data\": \"8a068b8b-7e94-4ebb-aa85-28e96874b5ee\"\n      },\n      \"name\": \"19f56fdf-a7ea-4955-a3dc-5f962cdb1647\",\n      \"type\": \"line\"\n    },\n    {\n      \"clip\": true,\n      \"description\": \"Special event\",\n      \"encode\": {\n        \"enter\": {\n          \"stroke\": {\n            \"value\": \"#000000\"\n          },\n          \"strokeOpacity\": {\n            \"value\": 1\n          },\n          \"strokeWidth\": {\n            \"value\": 1\n          },\n          \"x\": {\n            \"scale\": \"xscale\",\n            \"signal\": \"datetime(2016, 2, 22, 12, 30, 46)\"\n          },\n          \"y\": {\n            \"value\": 0\n          },\n          \"y2\": {\n            \"field\": {\n              \"group\": \"height\"\n            }\n          }\n        }\n      },\n      \"name\": \"6ebb8552-2e32-4b31-8f38-2e9e6ec961f2\",\n      \"type\": \"rule\"\n    },\n    {\n      \"clip\": true,\n      \"description\": \"Baseline flux\",\n      \"encode\": {\n        \"enter\": {\n          \"stroke\": {\n            \"value\": \"#000000\"\n          },\n          \"strokeOpacity\": {\n            \"value\": 1\n          },\n          \"strokeWidth\": {\n            \"value\": 1\n          },\n          \"x\": {\n            \"value\": 0\n          },\n          \"x2\": {\n            \"field\": {\n              \"group\": \"width\"\n            }\n          },\n          \"y\": {\n            \"scale\": \"yscale\",\n            \"value\": 10.0\n          }\n        }\n      },\n      \"name\": \"fc771227-8ebf-45c8-99d4-ccec61af1fa8\",\n      \"type\": \"rule\"\n    },\n    {\n      \"clip\": true,\n      \"description\": \"Range\",\n      \"encode\": {\n        \"enter\": {\n          \"fill\": {\n            \"value\": \"#a6cee3\"\n          },\n          \"fillOpacity\": {\n            \"value\": 0.2\n          },\n          \"stroke\": {\n            \"value\": \"#000000\"\n          },\n          \"strokeOpacity\": {\n            \"value\": 0.2\n          },\n          \"strokeWidth\": {\n            \"value\": 0\n          },\n          \"x\": {\n            \"field\": \"time\",\n            \"scale\": \"xscale\"\n          },\n          \"y\": {\n            \"field\": \"flux_lo\",\n            \"scale\": \"yscale\"\n          },\n          \"y2\": {\n            \"field\": \"flux_hi\",\n            \"scale\": \"yscale\"\n          }\n        }\n      },\n      \"from\": {\n        \"data\": \"8a068b8b-7e94-4ebb-aa85-28e96874b5ee\"\n      },\n      \"name\": \"3103d3a8-2c88-48c6-9a56-350ebd131aba\",\n      \"type\": \"area\"\n    },\n    {\n      \"clip\": true,\n      \"description\": \"Vertical Range\",\n      \"encode\": {\n        \"enter\": {\n          \"fill\": {\n            \"value\": \"#1f78b4\"\n          },\n          \"fillOpacity\": {\n            \"value\": 0.2\n          },\n          \"stroke\": {\n            \"value\": \"#000000\"\n          },\n          \"strokeOpacity\": {\n            \"value\": 0.2\n          },\n          \"strokeWidth\": {\n            \"value\": 0\n          },\n          \"x\": {\n            \"scale\": \"xscale\",\n            \"signal\": \"datetime(2016, 2, 22, 12, 30, 43)\"\n          },\n          \"x2\": {\n            \"scale\": \"xscale\",\n            \"signal\": \"datetime(2016, 2, 22, 12, 30, 49)\"\n          },\n          \"y\": {\n            \"value\": 0\n          },\n          \"y2\": {\n            \"field\": {\n              \"group\": \"height\"\n            }\n          }\n        }\n      },\n      \"name\": \"549e4e43-5c34-49e5-9c8d-4aa51931b31c\",\n      \"type\": \"rect\"\n    },\n    {\n      \"clip\": true,\n      \"description\": \"Horizontal Range\",\n      \"encode\": {\n        \"enter\": {\n          \"fill\": {\n            \"value\": \"#b2df8a\"\n          },\n          \"fillOpacity\": {\n            \"value\": 0.2\n          },\n          \"stroke\": {\n            \"value\": \"#000000\"\n          },\n          \"strokeOpacity\": {\n            \"value\": 0.2\n          },\n          \"strokeWidth\": {\n            \"value\": 0\n          },\n          \"x\": {\n            \"value\": 0\n          },\n          \"x2\": {\n            \"field\": {\n              \"group\": \"width\"\n            }\n          },\n          \"y\": {\n            \"scale\": \"yscale\",\n            \"value\": 8.0\n          },\n          \"y2\": {\n            \"scale\": \"yscale\",\n            \"value\": 11.0\n          }\n        }\n      },\n      \"name\": \"8c36b711-71ed-44a0-9b68-7280cdde5f7e\",\n      \"type\": \"rect\"\n    }\n  ],\n  \"padding\": 0,\n  \"scales\": [\n    {\n      \"domain\": [\n        {\n          \"signal\": \"datetime(2016, 2, 22, 12, 30, 31)\"\n        },\n        {\n          \"signal\": \"datetime(2016, 2, 22, 12, 30, 58)\"\n        }\n      ],\n      \"name\": \"xscale\",\n      \"padding\": 36,\n      \"range\": \"width\",\n      \"type\": \"time\",\n      \"zero\": false\n    },\n    {\n      \"domain\": [\n        2.0,\n        12.0\n      ],\n      \"name\": \"yscale\",\n      \"padding\": 36,\n      \"range\": \"height\",\n      \"type\": \"linear\",\n      \"zero\": false\n    }\n  ],\n  \"title\": \"Default\",\n  \"width\": 600\n}",
       "width": 600
      }
     },
     "1a4211fa58974dde9c2ccb0f57b6acc4": {
      "model_module": "jupyter-aas-timeseries",
      "model_module_version": "^0.1.5",
      "model_name": "TimeSeriesModel",
      "state": {
       "_model_module_version": "^0.1.5",
       "_view_module_version": "^0.1.5",
       "height": 480,
       "layout": "IPY_MODEL_ceaa1cb747134619845c8117ff5bf40e",
       "vega_json": "{\n  \"$schema\": \"https://vega.github.io/schema/vega/v4.json\",\n  \"_extend\": {\n    \"scales\": [\n      {\n        \"input\": \"iso\",\n        \"name\": \"xscale\",\n        \"output\": \"auto\"\n      }\n    ]\n  },\n  \"autosize\": {\n    \"resize\": false,\n    \"type\": \"fit\"\n  },\n  \"axes\": [\n    {\n      \"orient\": \"bottom\",\n      \"scale\": \"xscale\",\n      \"title\": \"Time\"\n    },\n    {\n      \"orient\": \"left\",\n      \"scale\": \"yscale\",\n      \"title\": \"\"\n    }\n  ],\n  \"data\": [\n    {\n      \"format\": {\n        \"parse\": {\n          \"error\": \"number\",\n          \"flux\": \"number\",\n          \"time\": \"date\"\n        },\n        \"type\": \"csv\"\n      },\n      \"name\": \"62c42801-e213-4fb0-af1c-52c99b306b50\",\n      \"values\": \"time,flux,error\\n2016-03-22T12:30:31.000Z,10.0,2.0\\n2016-03-22T12:30:34.000Z,11.0,2.5\\n2016-03-22T12:30:37.000Z,9.0,2.0\\n2016-03-22T12:30:40.000Z,10.0,1.5\\n2016-03-22T12:30:43.000Z,2.0,2.0\\n2016-03-22T12:30:46.000Z,3.0,2.0\\n2016-03-22T12:30:49.000Z,5.0,1.5\\n2016-03-22T12:30:52.000Z,12.0,1.5\\n2016-03-22T12:30:55.000Z,11.0,2.0\\n2016-03-22T12:30:58.000Z,10.0,2.5\\n\"\n    }\n  ],\n  \"height\": 400,\n  \"marks\": [\n    {\n      \"clip\": true,\n      \"description\": \"Flux\",\n      \"encode\": {\n        \"enter\": {\n          \"shape\": {\n            \"value\": \"circle\"\n          },\n          \"x\": {\n            \"field\": \"time\",\n            \"scale\": \"xscale\"\n          },\n          \"y\": {\n            \"field\": \"flux\",\n            \"scale\": \"yscale\"\n          }\n        },\n        \"update\": {\n          \"fill\": {\n            \"value\": \"#000000\"\n          },\n          \"fillOpacity\": {\n            \"value\": 1\n          },\n          \"shape\": {\n            \"value\": \"circle\"\n          },\n          \"size\": {\n            \"value\": 40\n          },\n          \"stroke\": {\n            \"value\": \"#000000\"\n          },\n          \"strokeOpacity\": {\n            \"value\": 0.2\n          },\n          \"strokeWidth\": {\n            \"value\": 0\n          }\n        }\n      },\n      \"from\": {\n        \"data\": \"62c42801-e213-4fb0-af1c-52c99b306b50\"\n      },\n      \"name\": \"be5de6ac-8abe-44d8-ac8f-0d99a8107495\",\n      \"type\": \"symbol\"\n    },\n    {\n      \"clip\": true,\n      \"description\": \"Flux\",\n      \"encode\": {\n        \"enter\": {\n          \"x\": {\n            \"field\": \"time\",\n            \"scale\": \"xscale\"\n          },\n          \"y\": {\n            \"scale\": \"yscale\",\n            \"signal\": \"datum['flux'] - datum['error']\"\n          },\n          \"y2\": {\n            \"scale\": \"yscale\",\n            \"signal\": \"datum['flux'] + datum['error']\"\n          }\n        },\n        \"update\": {\n          \"fill\": {\n            \"value\": \"#000000\"\n          },\n          \"fillOpacity\": {\n            \"value\": 1\n          },\n          \"shape\": {\n            \"value\": \"circle\"\n          },\n          \"stroke\": {\n            \"value\": \"#000000\"\n          },\n          \"strokeOpacity\": {\n            \"value\": 0.2\n          },\n          \"strokeWidth\": {\n            \"value\": 0\n          },\n          \"width\": {\n            \"value\": 1\n          }\n        }\n      },\n      \"from\": {\n        \"data\": \"62c42801-e213-4fb0-af1c-52c99b306b50\"\n      },\n      \"name\": \"78638f69-d787-4dfd-acc7-c393dd2fa38b\",\n      \"type\": \"rect\"\n    }\n  ],\n  \"padding\": 0,\n  \"scales\": [\n    {\n      \"domain\": [\n        {\n          \"signal\": \"datetime(2016, 2, 22, 12, 30, 31)\"\n        },\n        {\n          \"signal\": \"datetime(2016, 2, 22, 12, 30, 58)\"\n        }\n      ],\n      \"name\": \"xscale\",\n      \"padding\": 36,\n      \"range\": \"width\",\n      \"type\": \"time\",\n      \"zero\": false\n    },\n    {\n      \"domain\": [\n        2.0,\n        12.0\n      ],\n      \"name\": \"yscale\",\n      \"padding\": 36,\n      \"range\": \"height\",\n      \"type\": \"linear\",\n      \"zero\": false\n    }\n  ],\n  \"title\": \"Default\",\n  \"width\": 600\n}",
       "width": 600
      }
     },
     "2a6ef98ab461413f9a41c727bc6e500d": {
      "model_module": "@jupyter-widgets/base",
      "model_module_version": "1.1.0",
      "model_name": "LayoutModel",
      "state": {
       "justify_items": null
      }
     },
     "3291c922092449e0a50afb816daf3bca": {
      "model_module": "jupyter-aas-timeseries",
      "model_module_version": "^0.1.7",
      "model_name": "TimeSeriesModel",
      "state": {
       "_model_module_version": "^0.1.7",
       "_view_module_version": "^0.1.7",
       "height": 480,
       "layout": "IPY_MODEL_a9b4a7061719459ab2f8d21f428a7b88",
       "vega_json": "{\n  \"$schema\": \"https://vega.github.io/schema/vega/v4.json\",\n  \"_extend\": {\n    \"scales\": [\n      {\n        \"input\": \"iso\",\n        \"name\": \"xscale\",\n        \"output\": \"auto\"\n      }\n    ]\n  },\n  \"autosize\": {\n    \"resize\": false,\n    \"type\": \"fit\"\n  },\n  \"axes\": [\n    {\n      \"orient\": \"bottom\",\n      \"scale\": \"xscale\",\n      \"title\": \"Time\"\n    },\n    {\n      \"orient\": \"left\",\n      \"scale\": \"yscale\",\n      \"title\": \"\"\n    }\n  ],\n  \"data\": [\n    {\n      \"format\": {\n        \"parse\": {\n          \"flux\": \"number\",\n          \"time\": \"date\"\n        },\n        \"type\": \"csv\"\n      },\n      \"name\": \"8a068b8b-7e94-4ebb-aa85-28e96874b5ee\",\n      \"values\": \"time,flux\\n2016-03-22T12:30:31.000Z,10.0\\n2016-03-22T12:30:34.000Z,11.0\\n2016-03-22T12:30:37.000Z,9.0\\n2016-03-22T12:30:40.000Z,10.0\\n2016-03-22T12:30:43.000Z,2.0\\n2016-03-22T12:30:46.000Z,3.0\\n2016-03-22T12:30:49.000Z,5.0\\n2016-03-22T12:30:52.000Z,12.0\\n2016-03-22T12:30:55.000Z,11.0\\n2016-03-22T12:30:58.000Z,10.0\\n\"\n    }\n  ],\n  \"height\": 400,\n  \"marks\": [\n    {\n      \"clip\": true,\n      \"description\": \"Flux\",\n      \"encode\": {\n        \"enter\": {\n          \"shape\": {\n            \"value\": \"circle\"\n          },\n          \"x\": {\n            \"field\": \"time\",\n            \"scale\": \"xscale\"\n          },\n          \"y\": {\n            \"field\": \"flux\",\n            \"scale\": \"yscale\"\n          }\n        },\n        \"update\": {\n          \"fill\": {\n            \"value\": \"#000000\"\n          },\n          \"fillOpacity\": {\n            \"value\": 1\n          },\n          \"shape\": {\n            \"value\": \"circle\"\n          },\n          \"size\": {\n            \"value\": 20\n          },\n          \"stroke\": {\n            \"value\": \"#000000\"\n          },\n          \"strokeOpacity\": {\n            \"value\": 0.2\n          },\n          \"strokeWidth\": {\n            \"value\": 0\n          }\n        }\n      },\n      \"from\": {\n        \"data\": \"8a068b8b-7e94-4ebb-aa85-28e96874b5ee\"\n      },\n      \"name\": \"30408fd0-cffc-43de-8ba4-38b993baeb3f\",\n      \"type\": \"symbol\"\n    }\n  ],\n  \"padding\": 0,\n  \"scales\": [\n    {\n      \"domain\": [\n        {\n          \"signal\": \"datetime(2016, 2, 22, 12, 30, 31)\"\n        },\n        {\n          \"signal\": \"datetime(2016, 2, 22, 12, 30, 58)\"\n        }\n      ],\n      \"name\": \"xscale\",\n      \"padding\": 36,\n      \"range\": \"width\",\n      \"type\": \"time\",\n      \"zero\": false\n    },\n    {\n      \"domain\": [\n        2.0,\n        12.0\n      ],\n      \"name\": \"yscale\",\n      \"padding\": 36,\n      \"range\": \"height\",\n      \"type\": \"linear\",\n      \"zero\": false\n    }\n  ],\n  \"title\": \"Default\",\n  \"width\": 600\n}",
       "width": 600
      }
     },
     "3810e894c21444eea0bac31a42c73942": {
      "model_module": "@jupyter-widgets/base",
      "model_module_version": "1.1.0",
      "model_name": "LayoutModel",
      "state": {
       "justify_items": null
      }
     },
     "49bf334d766e4311967f15f9609f7306": {
      "model_module": "@jupyter-widgets/base",
      "model_module_version": "1.1.0",
      "model_name": "LayoutModel",
      "state": {
       "justify_items": null
      }
     },
     "4e171356c5fe4a0694239e3b08a6e08b": {
      "model_module": "jupyter-aas-timeseries",
      "model_module_version": "^0.1.5",
      "model_name": "TimeSeriesModel",
      "state": {
       "_model_module_version": "^0.1.5",
       "_view_module_version": "^0.1.5",
       "height": 480,
       "layout": "IPY_MODEL_afb5f314d5bf4c6c870042da67bc9d84",
       "vega_json": "{\n  \"$schema\": \"https://vega.github.io/schema/vega/v4.json\",\n  \"_extend\": {\n    \"scales\": [\n      {\n        \"input\": \"iso\",\n        \"name\": \"xscale\",\n        \"output\": \"auto\"\n      }\n    ]\n  },\n  \"autosize\": {\n    \"resize\": false,\n    \"type\": \"fit\"\n  },\n  \"axes\": [\n    {\n      \"orient\": \"bottom\",\n      \"scale\": \"xscale\",\n      \"title\": \"Time\"\n    },\n    {\n      \"orient\": \"left\",\n      \"scale\": \"yscale\",\n      \"title\": \"\"\n    }\n  ],\n  \"data\": [\n    {\n      \"format\": {\n        \"parse\": {\n          \"flux\": \"number\",\n          \"time\": \"date\"\n        },\n        \"type\": \"csv\"\n      },\n      \"name\": \"62c42801-e213-4fb0-af1c-52c99b306b50\",\n      \"values\": \"time,flux\\n2016-03-22T12:30:31.000Z,10.0\\n2016-03-22T12:30:34.000Z,11.0\\n2016-03-22T12:30:37.000Z,9.0\\n2016-03-22T12:30:40.000Z,10.0\\n2016-03-22T12:30:43.000Z,2.0\\n2016-03-22T12:30:46.000Z,3.0\\n2016-03-22T12:30:49.000Z,5.0\\n2016-03-22T12:30:52.000Z,12.0\\n2016-03-22T12:30:55.000Z,11.0\\n2016-03-22T12:30:58.000Z,10.0\\n\"\n    }\n  ],\n  \"height\": 400,\n  \"marks\": [\n    {\n      \"clip\": true,\n      \"description\": \"Flux\",\n      \"encode\": {\n        \"enter\": {\n          \"shape\": {\n            \"value\": \"circle\"\n          },\n          \"x\": {\n            \"field\": \"time\",\n            \"scale\": \"xscale\"\n          },\n          \"y\": {\n            \"field\": \"flux\",\n            \"scale\": \"yscale\"\n          }\n        },\n        \"update\": {\n          \"fill\": {\n            \"value\": \"#000000\"\n          },\n          \"fillOpacity\": {\n            \"value\": 1\n          },\n          \"shape\": {\n            \"value\": \"circle\"\n          },\n          \"size\": {\n            \"value\": 20\n          },\n          \"stroke\": {\n            \"value\": \"#000000\"\n          },\n          \"strokeOpacity\": {\n            \"value\": 0.2\n          },\n          \"strokeWidth\": {\n            \"value\": 0\n          }\n        }\n      },\n      \"from\": {\n        \"data\": \"62c42801-e213-4fb0-af1c-52c99b306b50\"\n      },\n      \"name\": \"be5de6ac-8abe-44d8-ac8f-0d99a8107495\",\n      \"type\": \"symbol\"\n    }\n  ],\n  \"padding\": 0,\n  \"scales\": [\n    {\n      \"domain\": [\n        {\n          \"signal\": \"datetime(2016, 2, 22, 12, 30, 31)\"\n        },\n        {\n          \"signal\": \"datetime(2016, 2, 22, 12, 30, 58)\"\n        }\n      ],\n      \"name\": \"xscale\",\n      \"padding\": 36,\n      \"range\": \"width\",\n      \"type\": \"time\",\n      \"zero\": false\n    },\n    {\n      \"domain\": [\n        2.0,\n        12.0\n      ],\n      \"name\": \"yscale\",\n      \"padding\": 36,\n      \"range\": \"height\",\n      \"type\": \"linear\",\n      \"zero\": false\n    }\n  ],\n  \"title\": \"Default\",\n  \"width\": 600\n}",
       "width": 600
      }
     },
     "5066dbb701d14f0cb05156ff87edf17f": {
      "model_module": "jupyter-aas-timeseries",
      "model_module_version": "^0.1.7",
      "model_name": "TimeSeriesModel",
      "state": {
       "_model_module_version": "^0.1.7",
       "_view_module_version": "^0.1.7",
       "height": 480,
       "layout": "IPY_MODEL_77f47a875c164f3cad95945a46c6336f",
       "vega_json": "{\n  \"$schema\": \"https://vega.github.io/schema/vega/v4.json\",\n  \"_extend\": {\n    \"scales\": [\n      {\n        \"input\": \"iso\",\n        \"name\": \"xscale\",\n        \"output\": \"auto\"\n      }\n    ]\n  },\n  \"autosize\": {\n    \"resize\": false,\n    \"type\": \"fit\"\n  },\n  \"axes\": [\n    {\n      \"orient\": \"bottom\",\n      \"scale\": \"xscale\",\n      \"title\": \"Time\"\n    },\n    {\n      \"orient\": \"left\",\n      \"scale\": \"yscale\",\n      \"title\": \"\"\n    }\n  ],\n  \"data\": [\n    {\n      \"format\": {\n        \"parse\": {\n          \"error\": \"number\",\n          \"flux\": \"number\",\n          \"time\": \"date\"\n        },\n        \"type\": \"csv\"\n      },\n      \"name\": \"8a068b8b-7e94-4ebb-aa85-28e96874b5ee\",\n      \"values\": \"time,flux,error\\n2016-03-22T12:30:31.000Z,10.0,2.0\\n2016-03-22T12:30:34.000Z,11.0,2.5\\n2016-03-22T12:30:37.000Z,9.0,2.0\\n2016-03-22T12:30:40.000Z,10.0,1.5\\n2016-03-22T12:30:43.000Z,2.0,2.0\\n2016-03-22T12:30:46.000Z,3.0,2.0\\n2016-03-22T12:30:49.000Z,5.0,1.5\\n2016-03-22T12:30:52.000Z,12.0,1.5\\n2016-03-22T12:30:55.000Z,11.0,2.0\\n2016-03-22T12:30:58.000Z,10.0,2.5\\n\"\n    }\n  ],\n  \"height\": 400,\n  \"marks\": [\n    {\n      \"clip\": true,\n      \"description\": \"Flux\",\n      \"encode\": {\n        \"enter\": {\n          \"shape\": {\n            \"value\": \"circle\"\n          },\n          \"x\": {\n            \"field\": \"time\",\n            \"scale\": \"xscale\"\n          },\n          \"y\": {\n            \"field\": \"flux\",\n            \"scale\": \"yscale\"\n          }\n        },\n        \"update\": {\n          \"fill\": {\n            \"value\": \"#000000\"\n          },\n          \"fillOpacity\": {\n            \"value\": 1\n          },\n          \"shape\": {\n            \"value\": \"circle\"\n          },\n          \"size\": {\n            \"value\": 40\n          },\n          \"stroke\": {\n            \"value\": \"#000000\"\n          },\n          \"strokeOpacity\": {\n            \"value\": 0.2\n          },\n          \"strokeWidth\": {\n            \"value\": 0\n          }\n        }\n      },\n      \"from\": {\n        \"data\": \"8a068b8b-7e94-4ebb-aa85-28e96874b5ee\"\n      },\n      \"name\": \"30408fd0-cffc-43de-8ba4-38b993baeb3f\",\n      \"type\": \"symbol\"\n    },\n    {\n      \"clip\": true,\n      \"description\": \"Flux\",\n      \"encode\": {\n        \"enter\": {\n          \"x\": {\n            \"field\": \"time\",\n            \"scale\": \"xscale\"\n          },\n          \"y\": {\n            \"scale\": \"yscale\",\n            \"signal\": \"datum['flux'] - datum['error']\"\n          },\n          \"y2\": {\n            \"scale\": \"yscale\",\n            \"signal\": \"datum['flux'] + datum['error']\"\n          }\n        },\n        \"update\": {\n          \"fill\": {\n            \"value\": \"#000000\"\n          },\n          \"fillOpacity\": {\n            \"value\": 1\n          },\n          \"shape\": {\n            \"value\": \"circle\"\n          },\n          \"stroke\": {\n            \"value\": \"#000000\"\n          },\n          \"strokeOpacity\": {\n            \"value\": 0.2\n          },\n          \"strokeWidth\": {\n            \"value\": 0\n          },\n          \"width\": {\n            \"value\": 1\n          }\n        }\n      },\n      \"from\": {\n        \"data\": \"8a068b8b-7e94-4ebb-aa85-28e96874b5ee\"\n      },\n      \"name\": \"172b4ed9-e824-4a55-8e22-98e95caf3862\",\n      \"type\": \"rect\"\n    },\n    {\n      \"clip\": true,\n      \"description\": \"Flux\",\n      \"encode\": {\n        \"enter\": {\n          \"stroke\": {\n            \"value\": \"#000000\"\n          },\n          \"strokeOpacity\": {\n            \"value\": 1\n          },\n          \"strokeWidth\": {\n            \"value\": 2\n          },\n          \"x\": {\n            \"field\": \"time\",\n            \"scale\": \"xscale\"\n          },\n          \"y\": {\n            \"field\": \"flux\",\n            \"scale\": \"yscale\"\n          }\n        }\n      },\n      \"from\": {\n        \"data\": \"8a068b8b-7e94-4ebb-aa85-28e96874b5ee\"\n      },\n      \"name\": \"19f56fdf-a7ea-4955-a3dc-5f962cdb1647\",\n      \"type\": \"line\"\n    }\n  ],\n  \"padding\": 0,\n  \"scales\": [\n    {\n      \"domain\": [\n        {\n          \"signal\": \"datetime(2016, 2, 22, 12, 30, 31)\"\n        },\n        {\n          \"signal\": \"datetime(2016, 2, 22, 12, 30, 58)\"\n        }\n      ],\n      \"name\": \"xscale\",\n      \"padding\": 36,\n      \"range\": \"width\",\n      \"type\": \"time\",\n      \"zero\": false\n    },\n    {\n      \"domain\": [\n        2.0,\n        12.0\n      ],\n      \"name\": \"yscale\",\n      \"padding\": 36,\n      \"range\": \"height\",\n      \"type\": \"linear\",\n      \"zero\": false\n    }\n  ],\n  \"title\": \"Default\",\n  \"width\": 600\n}",
       "width": 600
      }
     },
     "54872ca94a734717a01d8d22efca433b": {
      "model_module": "jupyter-aas-timeseries",
      "model_module_version": "^0.1.5",
      "model_name": "TimeSeriesModel",
      "state": {
       "_model_module_version": "^0.1.5",
       "_view_module_version": "^0.1.5",
       "height": 480,
       "layout": "IPY_MODEL_3810e894c21444eea0bac31a42c73942",
       "vega_json": "{\n  \"$schema\": \"https://vega.github.io/schema/vega/v4.json\",\n  \"_extend\": {\n    \"scales\": [\n      {\n        \"input\": \"iso\",\n        \"name\": \"xscale\",\n        \"output\": \"auto\"\n      }\n    ]\n  },\n  \"autosize\": {\n    \"resize\": false,\n    \"type\": \"fit\"\n  },\n  \"axes\": [\n    {\n      \"orient\": \"bottom\",\n      \"scale\": \"xscale\",\n      \"title\": \"Time\"\n    },\n    {\n      \"orient\": \"left\",\n      \"scale\": \"yscale\",\n      \"title\": \"\"\n    }\n  ],\n  \"data\": [\n    {\n      \"format\": {\n        \"parse\": {\n          \"flux\": \"number\",\n          \"time\": \"date\"\n        },\n        \"type\": \"csv\"\n      },\n      \"name\": \"62c42801-e213-4fb0-af1c-52c99b306b50\",\n      \"values\": \"time,flux\\n2016-03-22T12:30:31.000Z,10.0\\n2016-03-22T12:30:34.000Z,11.0\\n2016-03-22T12:30:37.000Z,9.0\\n2016-03-22T12:30:40.000Z,10.0\\n2016-03-22T12:30:43.000Z,2.0\\n2016-03-22T12:30:46.000Z,3.0\\n2016-03-22T12:30:49.000Z,5.0\\n2016-03-22T12:30:52.000Z,12.0\\n2016-03-22T12:30:55.000Z,11.0\\n2016-03-22T12:30:58.000Z,10.0\\n\"\n    }\n  ],\n  \"height\": 400,\n  \"marks\": [\n    {\n      \"clip\": true,\n      \"description\": \"Flux\",\n      \"encode\": {\n        \"enter\": {\n          \"shape\": {\n            \"value\": \"circle\"\n          },\n          \"x\": {\n            \"field\": \"time\",\n            \"scale\": \"xscale\"\n          },\n          \"y\": {\n            \"field\": \"flux\",\n            \"scale\": \"yscale\"\n          }\n        },\n        \"update\": {\n          \"fill\": {\n            \"value\": \"#000000\"\n          },\n          \"fillOpacity\": {\n            \"value\": 1\n          },\n          \"shape\": {\n            \"value\": \"circle\"\n          },\n          \"size\": {\n            \"value\": 40\n          },\n          \"stroke\": {\n            \"value\": \"#000000\"\n          },\n          \"strokeOpacity\": {\n            \"value\": 0.2\n          },\n          \"strokeWidth\": {\n            \"value\": 0\n          }\n        }\n      },\n      \"from\": {\n        \"data\": \"62c42801-e213-4fb0-af1c-52c99b306b50\"\n      },\n      \"name\": \"be5de6ac-8abe-44d8-ac8f-0d99a8107495\",\n      \"type\": \"symbol\"\n    }\n  ],\n  \"padding\": 0,\n  \"scales\": [\n    {\n      \"domain\": [\n        {\n          \"signal\": \"datetime(2016, 2, 22, 12, 30, 31)\"\n        },\n        {\n          \"signal\": \"datetime(2016, 2, 22, 12, 30, 58)\"\n        }\n      ],\n      \"name\": \"xscale\",\n      \"padding\": 36,\n      \"range\": \"width\",\n      \"type\": \"time\",\n      \"zero\": false\n    },\n    {\n      \"domain\": [\n        2.0,\n        12.0\n      ],\n      \"name\": \"yscale\",\n      \"padding\": 36,\n      \"range\": \"height\",\n      \"type\": \"linear\",\n      \"zero\": false\n    }\n  ],\n  \"title\": \"Default\",\n  \"width\": 600\n}",
       "width": 600
      }
     },
     "5512379f8c6142b89add5f3f29e75180": {
      "model_module": "@jupyter-widgets/base",
      "model_module_version": "1.1.0",
      "model_name": "LayoutModel",
      "state": {
       "justify_items": null
      }
     },
     "558089fc13f34d0daf255112837ae0ac": {
      "model_module": "jupyter-aas-timeseries",
      "model_module_version": "^0.1.7",
      "model_name": "TimeSeriesModel",
      "state": {
       "_model_module_version": "^0.1.7",
       "_view_module_version": "^0.1.7",
       "height": 480,
       "layout": "IPY_MODEL_8ca0c894cae7425eaffc8f76bedb9baa",
       "vega_json": "{\n  \"$schema\": \"https://vega.github.io/schema/vega/v4.json\",\n  \"_extend\": {\n    \"scales\": [\n      {\n        \"input\": \"iso\",\n        \"name\": \"xscale\",\n        \"output\": \"auto\"\n      }\n    ]\n  },\n  \"autosize\": {\n    \"resize\": false,\n    \"type\": \"fit\"\n  },\n  \"axes\": [\n    {\n      \"orient\": \"bottom\",\n      \"scale\": \"xscale\",\n      \"title\": \"Time\"\n    },\n    {\n      \"orient\": \"left\",\n      \"scale\": \"yscale\",\n      \"title\": \"\"\n    }\n  ],\n  \"data\": [\n    {\n      \"format\": {\n        \"parse\": {\n          \"flux\": \"number\",\n          \"time\": \"date\"\n        },\n        \"type\": \"csv\"\n      },\n      \"name\": \"8a068b8b-7e94-4ebb-aa85-28e96874b5ee\",\n      \"values\": \"time,flux\\n2016-03-22T12:30:31.000Z,10.0\\n2016-03-22T12:30:34.000Z,11.0\\n2016-03-22T12:30:37.000Z,9.0\\n2016-03-22T12:30:40.000Z,10.0\\n2016-03-22T12:30:43.000Z,2.0\\n2016-03-22T12:30:46.000Z,3.0\\n2016-03-22T12:30:49.000Z,5.0\\n2016-03-22T12:30:52.000Z,12.0\\n2016-03-22T12:30:55.000Z,11.0\\n2016-03-22T12:30:58.000Z,10.0\\n\"\n    }\n  ],\n  \"height\": 400,\n  \"marks\": [\n    {\n      \"clip\": true,\n      \"description\": \"Flux\",\n      \"encode\": {\n        \"enter\": {\n          \"shape\": {\n            \"value\": \"circle\"\n          },\n          \"x\": {\n            \"field\": \"time\",\n            \"scale\": \"xscale\"\n          },\n          \"y\": {\n            \"field\": \"flux\",\n            \"scale\": \"yscale\"\n          }\n        },\n        \"update\": {\n          \"fill\": {\n            \"value\": \"#000000\"\n          },\n          \"fillOpacity\": {\n            \"value\": 1\n          },\n          \"shape\": {\n            \"value\": \"circle\"\n          },\n          \"size\": {\n            \"value\": 40\n          },\n          \"stroke\": {\n            \"value\": \"#000000\"\n          },\n          \"strokeOpacity\": {\n            \"value\": 0.2\n          },\n          \"strokeWidth\": {\n            \"value\": 0\n          }\n        }\n      },\n      \"from\": {\n        \"data\": \"8a068b8b-7e94-4ebb-aa85-28e96874b5ee\"\n      },\n      \"name\": \"30408fd0-cffc-43de-8ba4-38b993baeb3f\",\n      \"type\": \"symbol\"\n    }\n  ],\n  \"padding\": 0,\n  \"scales\": [\n    {\n      \"domain\": [\n        {\n          \"signal\": \"datetime(2016, 2, 22, 12, 30, 31)\"\n        },\n        {\n          \"signal\": \"datetime(2016, 2, 22, 12, 30, 58)\"\n        }\n      ],\n      \"name\": \"xscale\",\n      \"padding\": 36,\n      \"range\": \"width\",\n      \"type\": \"time\",\n      \"zero\": false\n    },\n    {\n      \"domain\": [\n        2.0,\n        12.0\n      ],\n      \"name\": \"yscale\",\n      \"padding\": 36,\n      \"range\": \"height\",\n      \"type\": \"linear\",\n      \"zero\": false\n    }\n  ],\n  \"title\": \"Default\",\n  \"width\": 600\n}",
       "width": 600
      }
     },
     "55fedc62decb48ae86742e311050423e": {
      "model_module": "@jupyter-widgets/base",
      "model_module_version": "1.1.0",
      "model_name": "LayoutModel",
      "state": {
       "justify_items": null
      }
     },
     "62a685e1a73246268251a8c437e767fb": {
      "model_module": "jupyter-aas-timeseries",
      "model_module_version": "^0.1.5",
      "model_name": "TimeSeriesModel",
      "state": {
       "_model_module_version": "^0.1.5",
       "_view_module_version": "^0.1.5",
       "height": 480,
       "layout": "IPY_MODEL_7ea82ef3774a49208a619a5064614a0a",
       "vega_json": "{\n  \"$schema\": \"https://vega.github.io/schema/vega/v4.json\",\n  \"_extend\": {\n    \"scales\": [\n      {\n        \"input\": \"iso\",\n        \"name\": \"xscale\",\n        \"output\": \"auto\"\n      }\n    ]\n  },\n  \"autosize\": {\n    \"resize\": false,\n    \"type\": \"fit\"\n  },\n  \"axes\": [\n    {\n      \"orient\": \"bottom\",\n      \"scale\": \"xscale\",\n      \"title\": \"Time\"\n    },\n    {\n      \"orient\": \"left\",\n      \"scale\": \"yscale\",\n      \"title\": \"\"\n    }\n  ],\n  \"data\": [\n    {\n      \"format\": {\n        \"parse\": {\n          \"error\": \"number\",\n          \"flux\": \"number\",\n          \"flux_hi\": \"number\",\n          \"flux_lo\": \"number\",\n          \"time\": \"date\"\n        },\n        \"type\": \"csv\"\n      },\n      \"name\": \"62c42801-e213-4fb0-af1c-52c99b306b50\",\n      \"values\": \"time,flux,error,flux_lo,flux_hi\\n2016-03-22T12:30:31.000Z,10.0,2.0,8.0,12.0\\n2016-03-22T12:30:34.000Z,11.0,2.5,8.5,13.5\\n2016-03-22T12:30:37.000Z,9.0,2.0,7.0,11.0\\n2016-03-22T12:30:40.000Z,10.0,1.5,8.5,11.5\\n2016-03-22T12:30:43.000Z,2.0,2.0,0.0,4.0\\n2016-03-22T12:30:46.000Z,3.0,2.0,1.0,5.0\\n2016-03-22T12:30:49.000Z,5.0,1.5,3.5,6.5\\n2016-03-22T12:30:52.000Z,12.0,1.5,10.5,13.5\\n2016-03-22T12:30:55.000Z,11.0,2.0,9.0,13.0\\n2016-03-22T12:30:58.000Z,10.0,2.5,7.5,12.5\\n\"\n    }\n  ],\n  \"height\": 400,\n  \"marks\": [\n    {\n      \"clip\": true,\n      \"description\": \"Flux\",\n      \"encode\": {\n        \"enter\": {\n          \"shape\": {\n            \"value\": \"circle\"\n          },\n          \"x\": {\n            \"field\": \"time\",\n            \"scale\": \"xscale\"\n          },\n          \"y\": {\n            \"field\": \"flux\",\n            \"scale\": \"yscale\"\n          }\n        },\n        \"update\": {\n          \"fill\": {\n            \"value\": \"#000000\"\n          },\n          \"fillOpacity\": {\n            \"value\": 1\n          },\n          \"shape\": {\n            \"value\": \"circle\"\n          },\n          \"size\": {\n            \"value\": 40\n          },\n          \"stroke\": {\n            \"value\": \"#000000\"\n          },\n          \"strokeOpacity\": {\n            \"value\": 0.2\n          },\n          \"strokeWidth\": {\n            \"value\": 0\n          }\n        }\n      },\n      \"from\": {\n        \"data\": \"62c42801-e213-4fb0-af1c-52c99b306b50\"\n      },\n      \"name\": \"be5de6ac-8abe-44d8-ac8f-0d99a8107495\",\n      \"type\": \"symbol\"\n    },\n    {\n      \"clip\": true,\n      \"description\": \"Flux\",\n      \"encode\": {\n        \"enter\": {\n          \"x\": {\n            \"field\": \"time\",\n            \"scale\": \"xscale\"\n          },\n          \"y\": {\n            \"scale\": \"yscale\",\n            \"signal\": \"datum['flux'] - datum['error']\"\n          },\n          \"y2\": {\n            \"scale\": \"yscale\",\n            \"signal\": \"datum['flux'] + datum['error']\"\n          }\n        },\n        \"update\": {\n          \"fill\": {\n            \"value\": \"#000000\"\n          },\n          \"fillOpacity\": {\n            \"value\": 1\n          },\n          \"shape\": {\n            \"value\": \"circle\"\n          },\n          \"stroke\": {\n            \"value\": \"#000000\"\n          },\n          \"strokeOpacity\": {\n            \"value\": 0.2\n          },\n          \"strokeWidth\": {\n            \"value\": 0\n          },\n          \"width\": {\n            \"value\": 1\n          }\n        }\n      },\n      \"from\": {\n        \"data\": \"62c42801-e213-4fb0-af1c-52c99b306b50\"\n      },\n      \"name\": \"78638f69-d787-4dfd-acc7-c393dd2fa38b\",\n      \"type\": \"rect\"\n    },\n    {\n      \"clip\": true,\n      \"description\": \"Flux\",\n      \"encode\": {\n        \"enter\": {\n          \"stroke\": {\n            \"value\": \"#000000\"\n          },\n          \"strokeOpacity\": {\n            \"value\": 1\n          },\n          \"strokeWidth\": {\n            \"value\": 2\n          },\n          \"x\": {\n            \"field\": \"time\",\n            \"scale\": \"xscale\"\n          },\n          \"y\": {\n            \"field\": \"flux\",\n            \"scale\": \"yscale\"\n          }\n        }\n      },\n      \"from\": {\n        \"data\": \"62c42801-e213-4fb0-af1c-52c99b306b50\"\n      },\n      \"name\": \"2a3f2c38-1bc5-4df8-876b-ba8801fc8412\",\n      \"type\": \"line\"\n    },\n    {\n      \"clip\": true,\n      \"description\": \"Special event\",\n      \"encode\": {\n        \"enter\": {\n          \"stroke\": {\n            \"value\": \"#000000\"\n          },\n          \"strokeOpacity\": {\n            \"value\": 1\n          },\n          \"strokeWidth\": {\n            \"value\": 1\n          },\n          \"x\": {\n            \"scale\": \"xscale\",\n            \"signal\": \"datetime(2016, 2, 22, 12, 30, 46)\"\n          },\n          \"y\": {\n            \"value\": 0\n          },\n          \"y2\": {\n            \"field\": {\n              \"group\": \"height\"\n            }\n          }\n        }\n      },\n      \"name\": \"5d7fd700-c3b5-421c-a9ff-1be5dc7e25bf\",\n      \"type\": \"rule\"\n    },\n    {\n      \"clip\": true,\n      \"description\": \"Baseline flux\",\n      \"encode\": {\n        \"enter\": {\n          \"stroke\": {\n            \"value\": \"#000000\"\n          },\n          \"strokeOpacity\": {\n            \"value\": 1\n          },\n          \"strokeWidth\": {\n            \"value\": 1\n          },\n          \"x\": {\n            \"value\": 0\n          },\n          \"x2\": {\n            \"field\": {\n              \"group\": \"width\"\n            }\n          },\n          \"y\": {\n            \"scale\": \"yscale\",\n            \"value\": 10.0\n          }\n        }\n      },\n      \"name\": \"ec0f1915-d7a3-4828-af68-d6444cced3b3\",\n      \"type\": \"rule\"\n    },\n    {\n      \"clip\": true,\n      \"description\": \"Range\",\n      \"encode\": {\n        \"enter\": {\n          \"fill\": {\n            \"value\": \"#a6cee3\"\n          },\n          \"fillOpacity\": {\n            \"value\": 0.2\n          },\n          \"stroke\": {\n            \"value\": \"#000000\"\n          },\n          \"strokeOpacity\": {\n            \"value\": 0.2\n          },\n          \"strokeWidth\": {\n            \"value\": 0\n          },\n          \"x\": {\n            \"field\": \"time\",\n            \"scale\": \"xscale\"\n          },\n          \"y\": {\n            \"field\": \"flux_lo\",\n            \"scale\": \"yscale\"\n          },\n          \"y2\": {\n            \"field\": \"flux_hi\",\n            \"scale\": \"yscale\"\n          }\n        }\n      },\n      \"from\": {\n        \"data\": \"62c42801-e213-4fb0-af1c-52c99b306b50\"\n      },\n      \"name\": \"fae4b5b7-7908-4f5c-9bdd-1c8288fd0bf6\",\n      \"type\": \"area\"\n    },\n    {\n      \"clip\": true,\n      \"description\": \"Vertical Range\",\n      \"encode\": {\n        \"enter\": {\n          \"fill\": {\n            \"value\": \"#1f78b4\"\n          },\n          \"fillOpacity\": {\n            \"value\": 0.2\n          },\n          \"stroke\": {\n            \"value\": \"#000000\"\n          },\n          \"strokeOpacity\": {\n            \"value\": 0.2\n          },\n          \"strokeWidth\": {\n            \"value\": 0\n          },\n          \"x\": {\n            \"scale\": \"xscale\",\n            \"signal\": \"datetime(2016, 2, 22, 12, 30, 43)\"\n          },\n          \"x2\": {\n            \"scale\": \"xscale\",\n            \"signal\": \"datetime(2016, 2, 22, 12, 30, 49)\"\n          },\n          \"y\": {\n            \"value\": 0\n          },\n          \"y2\": {\n            \"field\": {\n              \"group\": \"height\"\n            }\n          }\n        }\n      },\n      \"name\": \"75632b2e-535b-486b-aca1-c0a9aff930cb\",\n      \"type\": \"rect\"\n    },\n    {\n      \"clip\": true,\n      \"description\": \"Horizontal Range\",\n      \"encode\": {\n        \"enter\": {\n          \"fill\": {\n            \"value\": \"#b2df8a\"\n          },\n          \"fillOpacity\": {\n            \"value\": 0.2\n          },\n          \"stroke\": {\n            \"value\": \"#000000\"\n          },\n          \"strokeOpacity\": {\n            \"value\": 0.2\n          },\n          \"strokeWidth\": {\n            \"value\": 0\n          },\n          \"x\": {\n            \"value\": 0\n          },\n          \"x2\": {\n            \"field\": {\n              \"group\": \"width\"\n            }\n          },\n          \"y\": {\n            \"scale\": \"yscale\",\n            \"value\": 8.0\n          },\n          \"y2\": {\n            \"scale\": \"yscale\",\n            \"value\": 11.0\n          }\n        }\n      },\n      \"name\": \"9a3b4c66-de7b-4d87-afbc-6c6ff002fcb7\",\n      \"type\": \"rect\"\n    }\n  ],\n  \"padding\": 0,\n  \"scales\": [\n    {\n      \"domain\": [\n        {\n          \"signal\": \"datetime(2016, 2, 22, 12, 30, 31)\"\n        },\n        {\n          \"signal\": \"datetime(2016, 2, 22, 12, 30, 58)\"\n        }\n      ],\n      \"name\": \"xscale\",\n      \"padding\": 36,\n      \"range\": \"width\",\n      \"type\": \"time\",\n      \"zero\": false\n    },\n    {\n      \"domain\": [\n        2.0,\n        12.0\n      ],\n      \"name\": \"yscale\",\n      \"padding\": 36,\n      \"range\": \"height\",\n      \"type\": \"linear\",\n      \"zero\": false\n    }\n  ],\n  \"title\": \"Default\",\n  \"width\": 600\n}",
       "width": 600
      }
     },
     "67f65cbac214475ba6ac56743a24f435": {
      "model_module": "@jupyter-widgets/base",
      "model_module_version": "1.1.0",
      "model_name": "LayoutModel",
      "state": {
       "justify_items": null
      }
     },
     "6d5f7df1bcc04a9eb027ffcf0d3ab79d": {
      "model_module": "jupyter-aas-timeseries",
      "model_module_version": "^0.1.7",
      "model_name": "TimeSeriesModel",
      "state": {
       "_model_module_version": "^0.1.7",
       "_view_module_version": "^0.1.7",
       "height": 480,
       "layout": "IPY_MODEL_f3d7ccfb72d44473b53f8355b6b68972",
       "vega_json": "{\n  \"$schema\": \"https://vega.github.io/schema/vega/v4.json\",\n  \"_extend\": {\n    \"scales\": [\n      {\n        \"input\": \"iso\",\n        \"name\": \"xscale\",\n        \"output\": \"auto\"\n      }\n    ]\n  },\n  \"autosize\": {\n    \"resize\": false,\n    \"type\": \"fit\"\n  },\n  \"axes\": [\n    {\n      \"orient\": \"bottom\",\n      \"scale\": \"xscale\",\n      \"title\": \"Time\"\n    },\n    {\n      \"orient\": \"left\",\n      \"scale\": \"yscale\",\n      \"title\": \"\"\n    }\n  ],\n  \"data\": [\n    {\n      \"format\": {\n        \"parse\": {\n          \"error\": \"number\",\n          \"flux\": \"number\",\n          \"flux_hi\": \"number\",\n          \"flux_lo\": \"number\",\n          \"time\": \"date\"\n        },\n        \"type\": \"csv\"\n      },\n      \"name\": \"8a068b8b-7e94-4ebb-aa85-28e96874b5ee\",\n      \"values\": \"time,flux,error,flux_lo,flux_hi\\n2016-03-22T12:30:31.000Z,10.0,2.0,8.0,12.0\\n2016-03-22T12:30:34.000Z,11.0,2.5,8.5,13.5\\n2016-03-22T12:30:37.000Z,9.0,2.0,7.0,11.0\\n2016-03-22T12:30:40.000Z,10.0,1.5,8.5,11.5\\n2016-03-22T12:30:43.000Z,2.0,2.0,0.0,4.0\\n2016-03-22T12:30:46.000Z,3.0,2.0,1.0,5.0\\n2016-03-22T12:30:49.000Z,5.0,1.5,3.5,6.5\\n2016-03-22T12:30:52.000Z,12.0,1.5,10.5,13.5\\n2016-03-22T12:30:55.000Z,11.0,2.0,9.0,13.0\\n2016-03-22T12:30:58.000Z,10.0,2.5,7.5,12.5\\n\"\n    }\n  ],\n  \"height\": 400,\n  \"marks\": [\n    {\n      \"clip\": true,\n      \"description\": \"Flux\",\n      \"encode\": {\n        \"enter\": {\n          \"shape\": {\n            \"value\": \"circle\"\n          },\n          \"x\": {\n            \"field\": \"time\",\n            \"scale\": \"xscale\"\n          },\n          \"y\": {\n            \"field\": \"flux\",\n            \"scale\": \"yscale\"\n          }\n        },\n        \"update\": {\n          \"fill\": {\n            \"value\": \"#000000\"\n          },\n          \"fillOpacity\": {\n            \"value\": 1\n          },\n          \"shape\": {\n            \"value\": \"circle\"\n          },\n          \"size\": {\n            \"value\": 40\n          },\n          \"stroke\": {\n            \"value\": \"#000000\"\n          },\n          \"strokeOpacity\": {\n            \"value\": 0.2\n          },\n          \"strokeWidth\": {\n            \"value\": 0\n          }\n        }\n      },\n      \"from\": {\n        \"data\": \"8a068b8b-7e94-4ebb-aa85-28e96874b5ee\"\n      },\n      \"name\": \"30408fd0-cffc-43de-8ba4-38b993baeb3f\",\n      \"type\": \"symbol\"\n    },\n    {\n      \"clip\": true,\n      \"description\": \"Flux\",\n      \"encode\": {\n        \"enter\": {\n          \"x\": {\n            \"field\": \"time\",\n            \"scale\": \"xscale\"\n          },\n          \"y\": {\n            \"scale\": \"yscale\",\n            \"signal\": \"datum['flux'] - datum['error']\"\n          },\n          \"y2\": {\n            \"scale\": \"yscale\",\n            \"signal\": \"datum['flux'] + datum['error']\"\n          }\n        },\n        \"update\": {\n          \"fill\": {\n            \"value\": \"#000000\"\n          },\n          \"fillOpacity\": {\n            \"value\": 1\n          },\n          \"shape\": {\n            \"value\": \"circle\"\n          },\n          \"stroke\": {\n            \"value\": \"#000000\"\n          },\n          \"strokeOpacity\": {\n            \"value\": 0.2\n          },\n          \"strokeWidth\": {\n            \"value\": 0\n          },\n          \"width\": {\n            \"value\": 1\n          }\n        }\n      },\n      \"from\": {\n        \"data\": \"8a068b8b-7e94-4ebb-aa85-28e96874b5ee\"\n      },\n      \"name\": \"172b4ed9-e824-4a55-8e22-98e95caf3862\",\n      \"type\": \"rect\"\n    },\n    {\n      \"clip\": true,\n      \"description\": \"Flux\",\n      \"encode\": {\n        \"enter\": {\n          \"stroke\": {\n            \"value\": \"#000000\"\n          },\n          \"strokeOpacity\": {\n            \"value\": 1\n          },\n          \"strokeWidth\": {\n            \"value\": 2\n          },\n          \"x\": {\n            \"field\": \"time\",\n            \"scale\": \"xscale\"\n          },\n          \"y\": {\n            \"field\": \"flux\",\n            \"scale\": \"yscale\"\n          }\n        }\n      },\n      \"from\": {\n        \"data\": \"8a068b8b-7e94-4ebb-aa85-28e96874b5ee\"\n      },\n      \"name\": \"19f56fdf-a7ea-4955-a3dc-5f962cdb1647\",\n      \"type\": \"line\"\n    },\n    {\n      \"clip\": true,\n      \"description\": \"Special event\",\n      \"encode\": {\n        \"enter\": {\n          \"stroke\": {\n            \"value\": \"#000000\"\n          },\n          \"strokeOpacity\": {\n            \"value\": 1\n          },\n          \"strokeWidth\": {\n            \"value\": 1\n          },\n          \"x\": {\n            \"scale\": \"xscale\",\n            \"signal\": \"datetime(2016, 2, 22, 12, 30, 46)\"\n          },\n          \"y\": {\n            \"value\": 0\n          },\n          \"y2\": {\n            \"field\": {\n              \"group\": \"height\"\n            }\n          }\n        }\n      },\n      \"name\": \"6ebb8552-2e32-4b31-8f38-2e9e6ec961f2\",\n      \"type\": \"rule\"\n    },\n    {\n      \"clip\": true,\n      \"description\": \"Baseline flux\",\n      \"encode\": {\n        \"enter\": {\n          \"stroke\": {\n            \"value\": \"#000000\"\n          },\n          \"strokeOpacity\": {\n            \"value\": 1\n          },\n          \"strokeWidth\": {\n            \"value\": 1\n          },\n          \"x\": {\n            \"value\": 0\n          },\n          \"x2\": {\n            \"field\": {\n              \"group\": \"width\"\n            }\n          },\n          \"y\": {\n            \"scale\": \"yscale\",\n            \"value\": 10.0\n          }\n        }\n      },\n      \"name\": \"fc771227-8ebf-45c8-99d4-ccec61af1fa8\",\n      \"type\": \"rule\"\n    },\n    {\n      \"clip\": true,\n      \"description\": \"Range\",\n      \"encode\": {\n        \"enter\": {\n          \"fill\": {\n            \"value\": \"#a6cee3\"\n          },\n          \"fillOpacity\": {\n            \"value\": 0.2\n          },\n          \"stroke\": {\n            \"value\": \"#000000\"\n          },\n          \"strokeOpacity\": {\n            \"value\": 0.2\n          },\n          \"strokeWidth\": {\n            \"value\": 0\n          },\n          \"x\": {\n            \"field\": \"time\",\n            \"scale\": \"xscale\"\n          },\n          \"y\": {\n            \"field\": \"flux_lo\",\n            \"scale\": \"yscale\"\n          },\n          \"y2\": {\n            \"field\": \"flux_hi\",\n            \"scale\": \"yscale\"\n          }\n        }\n      },\n      \"from\": {\n        \"data\": \"8a068b8b-7e94-4ebb-aa85-28e96874b5ee\"\n      },\n      \"name\": \"3103d3a8-2c88-48c6-9a56-350ebd131aba\",\n      \"type\": \"area\"\n    }\n  ],\n  \"padding\": 0,\n  \"scales\": [\n    {\n      \"domain\": [\n        {\n          \"signal\": \"datetime(2016, 2, 22, 12, 30, 31)\"\n        },\n        {\n          \"signal\": \"datetime(2016, 2, 22, 12, 30, 58)\"\n        }\n      ],\n      \"name\": \"xscale\",\n      \"padding\": 36,\n      \"range\": \"width\",\n      \"type\": \"time\",\n      \"zero\": false\n    },\n    {\n      \"domain\": [\n        2.0,\n        12.0\n      ],\n      \"name\": \"yscale\",\n      \"padding\": 36,\n      \"range\": \"height\",\n      \"type\": \"linear\",\n      \"zero\": false\n    }\n  ],\n  \"title\": \"Default\",\n  \"width\": 600\n}",
       "width": 600
      }
     },
     "6eeb67a667084f968e0a92c1f840ffd4": {
      "model_module": "jupyter-aas-timeseries",
      "model_module_version": "^0.1.5",
      "model_name": "TimeSeriesModel",
      "state": {
       "_model_module_version": "^0.1.5",
       "_view_module_version": "^0.1.5",
       "height": 480,
       "layout": "IPY_MODEL_49bf334d766e4311967f15f9609f7306",
       "vega_json": "{\n  \"$schema\": \"https://vega.github.io/schema/vega/v4.json\",\n  \"_extend\": {\n    \"scales\": [\n      {\n        \"input\": \"iso\",\n        \"name\": \"xscale\",\n        \"output\": \"auto\"\n      }\n    ]\n  },\n  \"autosize\": {\n    \"resize\": false,\n    \"type\": \"fit\"\n  },\n  \"axes\": [\n    {\n      \"orient\": \"bottom\",\n      \"scale\": \"xscale\",\n      \"title\": \"Time\"\n    },\n    {\n      \"orient\": \"left\",\n      \"scale\": \"yscale\",\n      \"title\": \"\"\n    }\n  ],\n  \"data\": [\n    {\n      \"format\": {\n        \"parse\": {\n          \"error\": \"number\",\n          \"flux\": \"number\",\n          \"time\": \"date\"\n        },\n        \"type\": \"csv\"\n      },\n      \"name\": \"62c42801-e213-4fb0-af1c-52c99b306b50\",\n      \"values\": \"time,flux,error\\n2016-03-22T12:30:31.000Z,10.0,2.0\\n2016-03-22T12:30:34.000Z,11.0,2.5\\n2016-03-22T12:30:37.000Z,9.0,2.0\\n2016-03-22T12:30:40.000Z,10.0,1.5\\n2016-03-22T12:30:43.000Z,2.0,2.0\\n2016-03-22T12:30:46.000Z,3.0,2.0\\n2016-03-22T12:30:49.000Z,5.0,1.5\\n2016-03-22T12:30:52.000Z,12.0,1.5\\n2016-03-22T12:30:55.000Z,11.0,2.0\\n2016-03-22T12:30:58.000Z,10.0,2.5\\n\"\n    }\n  ],\n  \"height\": 400,\n  \"marks\": [\n    {\n      \"clip\": true,\n      \"description\": \"Flux\",\n      \"encode\": {\n        \"enter\": {\n          \"shape\": {\n            \"value\": \"circle\"\n          },\n          \"x\": {\n            \"field\": \"time\",\n            \"scale\": \"xscale\"\n          },\n          \"y\": {\n            \"field\": \"flux\",\n            \"scale\": \"yscale\"\n          }\n        },\n        \"update\": {\n          \"fill\": {\n            \"value\": \"#000000\"\n          },\n          \"fillOpacity\": {\n            \"value\": 1\n          },\n          \"shape\": {\n            \"value\": \"circle\"\n          },\n          \"size\": {\n            \"value\": 40\n          },\n          \"stroke\": {\n            \"value\": \"#000000\"\n          },\n          \"strokeOpacity\": {\n            \"value\": 0.2\n          },\n          \"strokeWidth\": {\n            \"value\": 0\n          }\n        }\n      },\n      \"from\": {\n        \"data\": \"62c42801-e213-4fb0-af1c-52c99b306b50\"\n      },\n      \"name\": \"be5de6ac-8abe-44d8-ac8f-0d99a8107495\",\n      \"type\": \"symbol\"\n    },\n    {\n      \"clip\": true,\n      \"description\": \"Flux\",\n      \"encode\": {\n        \"enter\": {\n          \"x\": {\n            \"field\": \"time\",\n            \"scale\": \"xscale\"\n          },\n          \"y\": {\n            \"scale\": \"yscale\",\n            \"signal\": \"datum['flux'] - datum['error']\"\n          },\n          \"y2\": {\n            \"scale\": \"yscale\",\n            \"signal\": \"datum['flux'] + datum['error']\"\n          }\n        },\n        \"update\": {\n          \"fill\": {\n            \"value\": \"#000000\"\n          },\n          \"fillOpacity\": {\n            \"value\": 1\n          },\n          \"shape\": {\n            \"value\": \"circle\"\n          },\n          \"stroke\": {\n            \"value\": \"#000000\"\n          },\n          \"strokeOpacity\": {\n            \"value\": 0.2\n          },\n          \"strokeWidth\": {\n            \"value\": 0\n          },\n          \"width\": {\n            \"value\": 1\n          }\n        }\n      },\n      \"from\": {\n        \"data\": \"62c42801-e213-4fb0-af1c-52c99b306b50\"\n      },\n      \"name\": \"78638f69-d787-4dfd-acc7-c393dd2fa38b\",\n      \"type\": \"rect\"\n    },\n    {\n      \"clip\": true,\n      \"description\": \"Flux\",\n      \"encode\": {\n        \"enter\": {\n          \"stroke\": {\n            \"value\": \"#000000\"\n          },\n          \"strokeOpacity\": {\n            \"value\": 1\n          },\n          \"strokeWidth\": {\n            \"value\": 2\n          },\n          \"x\": {\n            \"field\": \"time\",\n            \"scale\": \"xscale\"\n          },\n          \"y\": {\n            \"field\": \"flux\",\n            \"scale\": \"yscale\"\n          }\n        }\n      },\n      \"from\": {\n        \"data\": \"62c42801-e213-4fb0-af1c-52c99b306b50\"\n      },\n      \"name\": \"2a3f2c38-1bc5-4df8-876b-ba8801fc8412\",\n      \"type\": \"line\"\n    },\n    {\n      \"clip\": true,\n      \"description\": \"Special event\",\n      \"encode\": {\n        \"enter\": {\n          \"stroke\": {\n            \"value\": \"#000000\"\n          },\n          \"strokeOpacity\": {\n            \"value\": 1\n          },\n          \"strokeWidth\": {\n            \"value\": 1\n          },\n          \"x\": {\n            \"scale\": \"xscale\",\n            \"signal\": \"datetime(2016, 2, 22, 12, 30, 46)\"\n          },\n          \"y\": {\n            \"value\": 0\n          },\n          \"y2\": {\n            \"field\": {\n              \"group\": \"height\"\n            }\n          }\n        }\n      },\n      \"name\": \"5d7fd700-c3b5-421c-a9ff-1be5dc7e25bf\",\n      \"type\": \"rule\"\n    },\n    {\n      \"clip\": true,\n      \"description\": \"Baseline flux\",\n      \"encode\": {\n        \"enter\": {\n          \"stroke\": {\n            \"value\": \"#000000\"\n          },\n          \"strokeOpacity\": {\n            \"value\": 1\n          },\n          \"strokeWidth\": {\n            \"value\": 1\n          },\n          \"x\": {\n            \"value\": 0\n          },\n          \"x2\": {\n            \"field\": {\n              \"group\": \"width\"\n            }\n          },\n          \"y\": {\n            \"scale\": \"yscale\",\n            \"value\": 10.0\n          }\n        }\n      },\n      \"name\": \"ec0f1915-d7a3-4828-af68-d6444cced3b3\",\n      \"type\": \"rule\"\n    }\n  ],\n  \"padding\": 0,\n  \"scales\": [\n    {\n      \"domain\": [\n        {\n          \"signal\": \"datetime(2016, 2, 22, 12, 30, 31)\"\n        },\n        {\n          \"signal\": \"datetime(2016, 2, 22, 12, 30, 58)\"\n        }\n      ],\n      \"name\": \"xscale\",\n      \"padding\": 36,\n      \"range\": \"width\",\n      \"type\": \"time\",\n      \"zero\": false\n    },\n    {\n      \"domain\": [\n        2.0,\n        12.0\n      ],\n      \"name\": \"yscale\",\n      \"padding\": 36,\n      \"range\": \"height\",\n      \"type\": \"linear\",\n      \"zero\": false\n    }\n  ],\n  \"title\": \"Default\",\n  \"width\": 600\n}",
       "width": 600
      }
     },
     "7614f36ef0c04d6aa7bf0c9a28cb49e9": {
      "model_module": "@jupyter-widgets/base",
      "model_module_version": "1.1.0",
      "model_name": "LayoutModel",
      "state": {
       "justify_items": null
      }
     },
     "77f47a875c164f3cad95945a46c6336f": {
      "model_module": "@jupyter-widgets/base",
      "model_module_version": "1.1.0",
      "model_name": "LayoutModel",
      "state": {
       "justify_items": null
      }
     },
     "7ea82ef3774a49208a619a5064614a0a": {
      "model_module": "@jupyter-widgets/base",
      "model_module_version": "1.1.0",
      "model_name": "LayoutModel",
      "state": {
       "justify_items": null
      }
     },
     "8967475d1db24e618eb15d2634957830": {
      "model_module": "jupyter-aas-timeseries",
      "model_module_version": "^0.1.7",
      "model_name": "TimeSeriesModel",
      "state": {
       "_model_module_version": "^0.1.7",
       "_view_module_version": "^0.1.7",
       "height": 480,
       "layout": "IPY_MODEL_10f51a2da6254cd78b5a8dd7fe3bff69",
       "vega_json": "{\n  \"$schema\": \"https://vega.github.io/schema/vega/v4.json\",\n  \"_extend\": {\n    \"scales\": [\n      {\n        \"input\": \"iso\",\n        \"name\": \"xscale\",\n        \"output\": \"auto\"\n      }\n    ]\n  },\n  \"autosize\": {\n    \"resize\": false,\n    \"type\": \"fit\"\n  },\n  \"axes\": [\n    {\n      \"orient\": \"bottom\",\n      \"scale\": \"xscale\",\n      \"title\": \"Time\"\n    },\n    {\n      \"orient\": \"left\",\n      \"scale\": \"yscale\",\n      \"title\": \"\"\n    }\n  ],\n  \"data\": [\n    {\n      \"format\": {\n        \"parse\": {\n          \"error\": \"number\",\n          \"flux\": \"number\",\n          \"time\": \"date\"\n        },\n        \"type\": \"csv\"\n      },\n      \"name\": \"8a068b8b-7e94-4ebb-aa85-28e96874b5ee\",\n      \"values\": \"time,flux,error\\n2016-03-22T12:30:31.000Z,10.0,2.0\\n2016-03-22T12:30:34.000Z,11.0,2.5\\n2016-03-22T12:30:37.000Z,9.0,2.0\\n2016-03-22T12:30:40.000Z,10.0,1.5\\n2016-03-22T12:30:43.000Z,2.0,2.0\\n2016-03-22T12:30:46.000Z,3.0,2.0\\n2016-03-22T12:30:49.000Z,5.0,1.5\\n2016-03-22T12:30:52.000Z,12.0,1.5\\n2016-03-22T12:30:55.000Z,11.0,2.0\\n2016-03-22T12:30:58.000Z,10.0,2.5\\n\"\n    }\n  ],\n  \"height\": 400,\n  \"marks\": [\n    {\n      \"clip\": true,\n      \"description\": \"Flux\",\n      \"encode\": {\n        \"enter\": {\n          \"shape\": {\n            \"value\": \"circle\"\n          },\n          \"x\": {\n            \"field\": \"time\",\n            \"scale\": \"xscale\"\n          },\n          \"y\": {\n            \"field\": \"flux\",\n            \"scale\": \"yscale\"\n          }\n        },\n        \"update\": {\n          \"fill\": {\n            \"value\": \"#000000\"\n          },\n          \"fillOpacity\": {\n            \"value\": 1\n          },\n          \"shape\": {\n            \"value\": \"circle\"\n          },\n          \"size\": {\n            \"value\": 40\n          },\n          \"stroke\": {\n            \"value\": \"#000000\"\n          },\n          \"strokeOpacity\": {\n            \"value\": 0.2\n          },\n          \"strokeWidth\": {\n            \"value\": 0\n          }\n        }\n      },\n      \"from\": {\n        \"data\": \"8a068b8b-7e94-4ebb-aa85-28e96874b5ee\"\n      },\n      \"name\": \"30408fd0-cffc-43de-8ba4-38b993baeb3f\",\n      \"type\": \"symbol\"\n    },\n    {\n      \"clip\": true,\n      \"description\": \"Flux\",\n      \"encode\": {\n        \"enter\": {\n          \"x\": {\n            \"field\": \"time\",\n            \"scale\": \"xscale\"\n          },\n          \"y\": {\n            \"scale\": \"yscale\",\n            \"signal\": \"datum['flux'] - datum['error']\"\n          },\n          \"y2\": {\n            \"scale\": \"yscale\",\n            \"signal\": \"datum['flux'] + datum['error']\"\n          }\n        },\n        \"update\": {\n          \"fill\": {\n            \"value\": \"#000000\"\n          },\n          \"fillOpacity\": {\n            \"value\": 1\n          },\n          \"shape\": {\n            \"value\": \"circle\"\n          },\n          \"stroke\": {\n            \"value\": \"#000000\"\n          },\n          \"strokeOpacity\": {\n            \"value\": 0.2\n          },\n          \"strokeWidth\": {\n            \"value\": 0\n          },\n          \"width\": {\n            \"value\": 1\n          }\n        }\n      },\n      \"from\": {\n        \"data\": \"8a068b8b-7e94-4ebb-aa85-28e96874b5ee\"\n      },\n      \"name\": \"172b4ed9-e824-4a55-8e22-98e95caf3862\",\n      \"type\": \"rect\"\n    }\n  ],\n  \"padding\": 0,\n  \"scales\": [\n    {\n      \"domain\": [\n        {\n          \"signal\": \"datetime(2016, 2, 22, 12, 30, 31)\"\n        },\n        {\n          \"signal\": \"datetime(2016, 2, 22, 12, 30, 58)\"\n        }\n      ],\n      \"name\": \"xscale\",\n      \"padding\": 36,\n      \"range\": \"width\",\n      \"type\": \"time\",\n      \"zero\": false\n    },\n    {\n      \"domain\": [\n        2.0,\n        12.0\n      ],\n      \"name\": \"yscale\",\n      \"padding\": 36,\n      \"range\": \"height\",\n      \"type\": \"linear\",\n      \"zero\": false\n    }\n  ],\n  \"title\": \"Default\",\n  \"width\": 600\n}",
       "width": 600
      }
     },
     "8ca0c894cae7425eaffc8f76bedb9baa": {
      "model_module": "@jupyter-widgets/base",
      "model_module_version": "1.1.0",
      "model_name": "LayoutModel",
      "state": {
       "justify_items": null
      }
     },
     "99c50851b5cb4b2b93d42d1ad99a0396": {
      "model_module": "jupyter-aas-timeseries",
      "model_module_version": "^0.1.5",
      "model_name": "TimeSeriesModel",
      "state": {
       "_model_module_version": "^0.1.5",
       "_view_module_version": "^0.1.5",
       "height": 480,
       "layout": "IPY_MODEL_cc8fe70a41a34f149bc8abaf466047bf",
       "vega_json": "{\n  \"$schema\": \"https://vega.github.io/schema/vega/v4.json\",\n  \"_extend\": {\n    \"scales\": [\n      {\n        \"input\": \"iso\",\n        \"name\": \"xscale\",\n        \"output\": \"auto\"\n      }\n    ]\n  },\n  \"autosize\": {\n    \"resize\": false,\n    \"type\": \"fit\"\n  },\n  \"axes\": [\n    {\n      \"orient\": \"bottom\",\n      \"scale\": \"xscale\",\n      \"title\": \"Time\"\n    },\n    {\n      \"orient\": \"left\",\n      \"scale\": \"yscale\",\n      \"title\": \"\"\n    }\n  ],\n  \"data\": [\n    {\n      \"format\": {\n        \"parse\": {\n          \"error\": \"number\",\n          \"flux\": \"number\",\n          \"flux_hi\": \"number\",\n          \"flux_lo\": \"number\",\n          \"time\": \"date\"\n        },\n        \"type\": \"csv\"\n      },\n      \"name\": \"62c42801-e213-4fb0-af1c-52c99b306b50\",\n      \"values\": \"time,flux,error,flux_lo,flux_hi\\n2016-03-22T12:30:31.000Z,10.0,2.0,8.0,12.0\\n2016-03-22T12:30:34.000Z,11.0,2.5,8.5,13.5\\n2016-03-22T12:30:37.000Z,9.0,2.0,7.0,11.0\\n2016-03-22T12:30:40.000Z,10.0,1.5,8.5,11.5\\n2016-03-22T12:30:43.000Z,2.0,2.0,0.0,4.0\\n2016-03-22T12:30:46.000Z,3.0,2.0,1.0,5.0\\n2016-03-22T12:30:49.000Z,5.0,1.5,3.5,6.5\\n2016-03-22T12:30:52.000Z,12.0,1.5,10.5,13.5\\n2016-03-22T12:30:55.000Z,11.0,2.0,9.0,13.0\\n2016-03-22T12:30:58.000Z,10.0,2.5,7.5,12.5\\n\"\n    }\n  ],\n  \"height\": 400,\n  \"marks\": [\n    {\n      \"clip\": true,\n      \"description\": \"Flux\",\n      \"encode\": {\n        \"enter\": {\n          \"shape\": {\n            \"value\": \"circle\"\n          },\n          \"x\": {\n            \"field\": \"time\",\n            \"scale\": \"xscale\"\n          },\n          \"y\": {\n            \"field\": \"flux\",\n            \"scale\": \"yscale\"\n          }\n        },\n        \"update\": {\n          \"fill\": {\n            \"value\": \"#000000\"\n          },\n          \"fillOpacity\": {\n            \"value\": 1\n          },\n          \"shape\": {\n            \"value\": \"circle\"\n          },\n          \"size\": {\n            \"value\": 40\n          },\n          \"stroke\": {\n            \"value\": \"#000000\"\n          },\n          \"strokeOpacity\": {\n            \"value\": 0.2\n          },\n          \"strokeWidth\": {\n            \"value\": 0\n          }\n        }\n      },\n      \"from\": {\n        \"data\": \"62c42801-e213-4fb0-af1c-52c99b306b50\"\n      },\n      \"name\": \"be5de6ac-8abe-44d8-ac8f-0d99a8107495\",\n      \"type\": \"symbol\"\n    },\n    {\n      \"clip\": true,\n      \"description\": \"Flux\",\n      \"encode\": {\n        \"enter\": {\n          \"x\": {\n            \"field\": \"time\",\n            \"scale\": \"xscale\"\n          },\n          \"y\": {\n            \"scale\": \"yscale\",\n            \"signal\": \"datum['flux'] - datum['error']\"\n          },\n          \"y2\": {\n            \"scale\": \"yscale\",\n            \"signal\": \"datum['flux'] + datum['error']\"\n          }\n        },\n        \"update\": {\n          \"fill\": {\n            \"value\": \"#000000\"\n          },\n          \"fillOpacity\": {\n            \"value\": 1\n          },\n          \"shape\": {\n            \"value\": \"circle\"\n          },\n          \"stroke\": {\n            \"value\": \"#000000\"\n          },\n          \"strokeOpacity\": {\n            \"value\": 0.2\n          },\n          \"strokeWidth\": {\n            \"value\": 0\n          },\n          \"width\": {\n            \"value\": 1\n          }\n        }\n      },\n      \"from\": {\n        \"data\": \"62c42801-e213-4fb0-af1c-52c99b306b50\"\n      },\n      \"name\": \"78638f69-d787-4dfd-acc7-c393dd2fa38b\",\n      \"type\": \"rect\"\n    },\n    {\n      \"clip\": true,\n      \"description\": \"Flux\",\n      \"encode\": {\n        \"enter\": {\n          \"stroke\": {\n            \"value\": \"#000000\"\n          },\n          \"strokeOpacity\": {\n            \"value\": 1\n          },\n          \"strokeWidth\": {\n            \"value\": 2\n          },\n          \"x\": {\n            \"field\": \"time\",\n            \"scale\": \"xscale\"\n          },\n          \"y\": {\n            \"field\": \"flux\",\n            \"scale\": \"yscale\"\n          }\n        }\n      },\n      \"from\": {\n        \"data\": \"62c42801-e213-4fb0-af1c-52c99b306b50\"\n      },\n      \"name\": \"2a3f2c38-1bc5-4df8-876b-ba8801fc8412\",\n      \"type\": \"line\"\n    },\n    {\n      \"clip\": true,\n      \"description\": \"Special event\",\n      \"encode\": {\n        \"enter\": {\n          \"stroke\": {\n            \"value\": \"#000000\"\n          },\n          \"strokeOpacity\": {\n            \"value\": 1\n          },\n          \"strokeWidth\": {\n            \"value\": 1\n          },\n          \"x\": {\n            \"scale\": \"xscale\",\n            \"signal\": \"datetime(2016, 2, 22, 12, 30, 46)\"\n          },\n          \"y\": {\n            \"value\": 0\n          },\n          \"y2\": {\n            \"field\": {\n              \"group\": \"height\"\n            }\n          }\n        }\n      },\n      \"name\": \"5d7fd700-c3b5-421c-a9ff-1be5dc7e25bf\",\n      \"type\": \"rule\"\n    },\n    {\n      \"clip\": true,\n      \"description\": \"Baseline flux\",\n      \"encode\": {\n        \"enter\": {\n          \"stroke\": {\n            \"value\": \"#000000\"\n          },\n          \"strokeOpacity\": {\n            \"value\": 1\n          },\n          \"strokeWidth\": {\n            \"value\": 1\n          },\n          \"x\": {\n            \"value\": 0\n          },\n          \"x2\": {\n            \"field\": {\n              \"group\": \"width\"\n            }\n          },\n          \"y\": {\n            \"scale\": \"yscale\",\n            \"value\": 10.0\n          }\n        }\n      },\n      \"name\": \"ec0f1915-d7a3-4828-af68-d6444cced3b3\",\n      \"type\": \"rule\"\n    },\n    {\n      \"clip\": true,\n      \"description\": \"Range\",\n      \"encode\": {\n        \"enter\": {\n          \"fill\": {\n            \"value\": \"#a6cee3\"\n          },\n          \"fillOpacity\": {\n            \"value\": 0.2\n          },\n          \"stroke\": {\n            \"value\": \"#000000\"\n          },\n          \"strokeOpacity\": {\n            \"value\": 0.2\n          },\n          \"strokeWidth\": {\n            \"value\": 0\n          },\n          \"x\": {\n            \"field\": \"time\",\n            \"scale\": \"xscale\"\n          },\n          \"y\": {\n            \"field\": \"flux_lo\",\n            \"scale\": \"yscale\"\n          },\n          \"y2\": {\n            \"field\": \"flux_hi\",\n            \"scale\": \"yscale\"\n          }\n        }\n      },\n      \"from\": {\n        \"data\": \"62c42801-e213-4fb0-af1c-52c99b306b50\"\n      },\n      \"name\": \"fae4b5b7-7908-4f5c-9bdd-1c8288fd0bf6\",\n      \"type\": \"area\"\n    },\n    {\n      \"clip\": true,\n      \"description\": \"Vertical Range\",\n      \"encode\": {\n        \"enter\": {\n          \"fill\": {\n            \"value\": \"#1f78b4\"\n          },\n          \"fillOpacity\": {\n            \"value\": 0.2\n          },\n          \"stroke\": {\n            \"value\": \"#000000\"\n          },\n          \"strokeOpacity\": {\n            \"value\": 0.2\n          },\n          \"strokeWidth\": {\n            \"value\": 0\n          },\n          \"x\": {\n            \"scale\": \"xscale\",\n            \"signal\": \"datetime(2016, 2, 22, 12, 30, 43)\"\n          },\n          \"x2\": {\n            \"scale\": \"xscale\",\n            \"signal\": \"datetime(2016, 2, 22, 12, 30, 49)\"\n          },\n          \"y\": {\n            \"value\": 0\n          },\n          \"y2\": {\n            \"field\": {\n              \"group\": \"height\"\n            }\n          }\n        }\n      },\n      \"name\": \"75632b2e-535b-486b-aca1-c0a9aff930cb\",\n      \"type\": \"rect\"\n    },\n    {\n      \"clip\": true,\n      \"description\": \"Horizontal Range\",\n      \"encode\": {\n        \"enter\": {\n          \"fill\": {\n            \"value\": \"#b2df8a\"\n          },\n          \"fillOpacity\": {\n            \"value\": 0.2\n          },\n          \"stroke\": {\n            \"value\": \"#000000\"\n          },\n          \"strokeOpacity\": {\n            \"value\": 0.2\n          },\n          \"strokeWidth\": {\n            \"value\": 0\n          },\n          \"x\": {\n            \"value\": 0\n          },\n          \"x2\": {\n            \"field\": {\n              \"group\": \"width\"\n            }\n          },\n          \"y\": {\n            \"scale\": \"yscale\",\n            \"value\": 8.0\n          },\n          \"y2\": {\n            \"scale\": \"yscale\",\n            \"value\": 11.0\n          }\n        }\n      },\n      \"name\": \"9a3b4c66-de7b-4d87-afbc-6c6ff002fcb7\",\n      \"type\": \"rect\"\n    },\n    {\n      \"clip\": true,\n      \"description\": \"Text\",\n      \"encode\": {\n        \"enter\": {\n          \"align\": {\n            \"value\": \"left\"\n          },\n          \"angle\": {\n            \"value\": 0.0\n          },\n          \"baseline\": {\n            \"value\": \"alphabetic\"\n          },\n          \"fill\": {\n            \"value\": \"#000000\"\n          },\n          \"fillOpacity\": {\n            \"value\": 1\n          },\n          \"fontWeigth\": {\n            \"value\": \"normal\"\n          },\n          \"text\": {\n            \"value\": \"Here be dragons\"\n          },\n          \"x\": {\n            \"scale\": \"xscale\",\n            \"signal\": \"datetime(2016, 2, 22, 12, 30, 34)\"\n          },\n          \"y\": {\n            \"scale\": \"yscale\",\n            \"value\": 5.0\n          }\n        }\n      },\n      \"name\": \"505e7ae6-5874-4787-aebe-02e70b1b3585\",\n      \"type\": \"text\"\n    }\n  ],\n  \"padding\": 0,\n  \"scales\": [\n    {\n      \"domain\": [\n        {\n          \"signal\": \"datetime(2016, 2, 22, 12, 30, 31)\"\n        },\n        {\n          \"signal\": \"datetime(2016, 2, 22, 12, 30, 58)\"\n        }\n      ],\n      \"name\": \"xscale\",\n      \"padding\": 36,\n      \"range\": \"width\",\n      \"type\": \"time\",\n      \"zero\": false\n    },\n    {\n      \"domain\": [\n        2.0,\n        12.0\n      ],\n      \"name\": \"yscale\",\n      \"padding\": 36,\n      \"range\": \"height\",\n      \"type\": \"linear\",\n      \"zero\": false\n    }\n  ],\n  \"title\": \"Default\",\n  \"width\": 600\n}",
       "width": 600
      }
     },
     "a9b4a7061719459ab2f8d21f428a7b88": {
      "model_module": "@jupyter-widgets/base",
      "model_module_version": "1.1.0",
      "model_name": "LayoutModel",
      "state": {
       "justify_items": null
      }
     },
     "aa00ea70b575496bb8925919de5e1db4": {
      "model_module": "@jupyter-widgets/base",
      "model_module_version": "1.1.0",
      "model_name": "LayoutModel",
      "state": {
       "justify_items": null
      }
     },
     "ae5cca0d1c7e46b3ad063650e68e538b": {
      "model_module": "jupyter-aas-timeseries",
      "model_module_version": "^0.1.7",
      "model_name": "TimeSeriesModel",
      "state": {
       "_model_module_version": "^0.1.7",
       "_view_module_version": "^0.1.7",
       "height": 480,
       "layout": "IPY_MODEL_5512379f8c6142b89add5f3f29e75180",
       "vega_json": "{\n  \"$schema\": \"https://vega.github.io/schema/vega/v4.json\",\n  \"_extend\": {\n    \"scales\": [\n      {\n        \"input\": \"iso\",\n        \"name\": \"xscale\",\n        \"output\": \"auto\"\n      }\n    ]\n  },\n  \"autosize\": {\n    \"resize\": false,\n    \"type\": \"fit\"\n  },\n  \"axes\": [\n    {\n      \"orient\": \"bottom\",\n      \"scale\": \"xscale\",\n      \"title\": \"Time\"\n    },\n    {\n      \"orient\": \"left\",\n      \"scale\": \"yscale\",\n      \"title\": \"\"\n    }\n  ],\n  \"data\": [\n    {\n      \"format\": {\n        \"parse\": {\n          \"error\": \"number\",\n          \"flux\": \"number\",\n          \"time\": \"date\"\n        },\n        \"type\": \"csv\"\n      },\n      \"name\": \"8a068b8b-7e94-4ebb-aa85-28e96874b5ee\",\n      \"values\": \"time,flux,error\\n2016-03-22T12:30:31.000Z,10.0,2.0\\n2016-03-22T12:30:34.000Z,11.0,2.5\\n2016-03-22T12:30:37.000Z,9.0,2.0\\n2016-03-22T12:30:40.000Z,10.0,1.5\\n2016-03-22T12:30:43.000Z,2.0,2.0\\n2016-03-22T12:30:46.000Z,3.0,2.0\\n2016-03-22T12:30:49.000Z,5.0,1.5\\n2016-03-22T12:30:52.000Z,12.0,1.5\\n2016-03-22T12:30:55.000Z,11.0,2.0\\n2016-03-22T12:30:58.000Z,10.0,2.5\\n\"\n    }\n  ],\n  \"height\": 400,\n  \"marks\": [\n    {\n      \"clip\": true,\n      \"description\": \"Flux\",\n      \"encode\": {\n        \"enter\": {\n          \"shape\": {\n            \"value\": \"circle\"\n          },\n          \"x\": {\n            \"field\": \"time\",\n            \"scale\": \"xscale\"\n          },\n          \"y\": {\n            \"field\": \"flux\",\n            \"scale\": \"yscale\"\n          }\n        },\n        \"update\": {\n          \"fill\": {\n            \"value\": \"#000000\"\n          },\n          \"fillOpacity\": {\n            \"value\": 1\n          },\n          \"shape\": {\n            \"value\": \"circle\"\n          },\n          \"size\": {\n            \"value\": 40\n          },\n          \"stroke\": {\n            \"value\": \"#000000\"\n          },\n          \"strokeOpacity\": {\n            \"value\": 0.2\n          },\n          \"strokeWidth\": {\n            \"value\": 0\n          }\n        }\n      },\n      \"from\": {\n        \"data\": \"8a068b8b-7e94-4ebb-aa85-28e96874b5ee\"\n      },\n      \"name\": \"30408fd0-cffc-43de-8ba4-38b993baeb3f\",\n      \"type\": \"symbol\"\n    },\n    {\n      \"clip\": true,\n      \"description\": \"Flux\",\n      \"encode\": {\n        \"enter\": {\n          \"x\": {\n            \"field\": \"time\",\n            \"scale\": \"xscale\"\n          },\n          \"y\": {\n            \"scale\": \"yscale\",\n            \"signal\": \"datum['flux'] - datum['error']\"\n          },\n          \"y2\": {\n            \"scale\": \"yscale\",\n            \"signal\": \"datum['flux'] + datum['error']\"\n          }\n        },\n        \"update\": {\n          \"fill\": {\n            \"value\": \"#000000\"\n          },\n          \"fillOpacity\": {\n            \"value\": 1\n          },\n          \"shape\": {\n            \"value\": \"circle\"\n          },\n          \"stroke\": {\n            \"value\": \"#000000\"\n          },\n          \"strokeOpacity\": {\n            \"value\": 0.2\n          },\n          \"strokeWidth\": {\n            \"value\": 0\n          },\n          \"width\": {\n            \"value\": 1\n          }\n        }\n      },\n      \"from\": {\n        \"data\": \"8a068b8b-7e94-4ebb-aa85-28e96874b5ee\"\n      },\n      \"name\": \"172b4ed9-e824-4a55-8e22-98e95caf3862\",\n      \"type\": \"rect\"\n    },\n    {\n      \"clip\": true,\n      \"description\": \"Flux\",\n      \"encode\": {\n        \"enter\": {\n          \"stroke\": {\n            \"value\": \"#000000\"\n          },\n          \"strokeOpacity\": {\n            \"value\": 1\n          },\n          \"strokeWidth\": {\n            \"value\": 1\n          },\n          \"x\": {\n            \"field\": \"time\",\n            \"scale\": \"xscale\"\n          },\n          \"y\": {\n            \"field\": \"flux\",\n            \"scale\": \"yscale\"\n          }\n        }\n      },\n      \"from\": {\n        \"data\": \"8a068b8b-7e94-4ebb-aa85-28e96874b5ee\"\n      },\n      \"name\": \"19f56fdf-a7ea-4955-a3dc-5f962cdb1647\",\n      \"type\": \"line\"\n    }\n  ],\n  \"padding\": 0,\n  \"scales\": [\n    {\n      \"domain\": [\n        {\n          \"signal\": \"datetime(2016, 2, 22, 12, 30, 31)\"\n        },\n        {\n          \"signal\": \"datetime(2016, 2, 22, 12, 30, 58)\"\n        }\n      ],\n      \"name\": \"xscale\",\n      \"padding\": 36,\n      \"range\": \"width\",\n      \"type\": \"time\",\n      \"zero\": false\n    },\n    {\n      \"domain\": [\n        2.0,\n        12.0\n      ],\n      \"name\": \"yscale\",\n      \"padding\": 36,\n      \"range\": \"height\",\n      \"type\": \"linear\",\n      \"zero\": false\n    }\n  ],\n  \"title\": \"Default\",\n  \"width\": 600\n}",
       "width": 600
      }
     },
     "afb22e6a78f24d30b5a1861fd56a12da": {
      "model_module": "jupyter-aas-timeseries",
      "model_module_version": "^0.1.5",
      "model_name": "TimeSeriesModel",
      "state": {
       "_model_module_version": "^0.1.5",
       "_view_module_version": "^0.1.5",
       "height": 480,
       "layout": "IPY_MODEL_b398aa067991417a9d9901ac657ed27e",
       "vega_json": "{\n  \"$schema\": \"https://vega.github.io/schema/vega/v4.json\",\n  \"_extend\": {\n    \"scales\": [\n      {\n        \"input\": \"iso\",\n        \"name\": \"xscale\",\n        \"output\": \"auto\"\n      }\n    ]\n  },\n  \"autosize\": {\n    \"resize\": false,\n    \"type\": \"fit\"\n  },\n  \"axes\": [\n    {\n      \"orient\": \"bottom\",\n      \"scale\": \"xscale\",\n      \"title\": \"Time\"\n    },\n    {\n      \"orient\": \"left\",\n      \"scale\": \"yscale\",\n      \"title\": \"\"\n    }\n  ],\n  \"data\": [\n    {\n      \"format\": {\n        \"parse\": {\n          \"error\": \"number\",\n          \"flux\": \"number\",\n          \"time\": \"date\"\n        },\n        \"type\": \"csv\"\n      },\n      \"name\": \"62c42801-e213-4fb0-af1c-52c99b306b50\",\n      \"values\": \"time,flux,error\\n2016-03-22T12:30:31.000Z,10.0,2.0\\n2016-03-22T12:30:34.000Z,11.0,2.5\\n2016-03-22T12:30:37.000Z,9.0,2.0\\n2016-03-22T12:30:40.000Z,10.0,1.5\\n2016-03-22T12:30:43.000Z,2.0,2.0\\n2016-03-22T12:30:46.000Z,3.0,2.0\\n2016-03-22T12:30:49.000Z,5.0,1.5\\n2016-03-22T12:30:52.000Z,12.0,1.5\\n2016-03-22T12:30:55.000Z,11.0,2.0\\n2016-03-22T12:30:58.000Z,10.0,2.5\\n\"\n    }\n  ],\n  \"height\": 400,\n  \"marks\": [\n    {\n      \"clip\": true,\n      \"description\": \"Flux\",\n      \"encode\": {\n        \"enter\": {\n          \"shape\": {\n            \"value\": \"circle\"\n          },\n          \"x\": {\n            \"field\": \"time\",\n            \"scale\": \"xscale\"\n          },\n          \"y\": {\n            \"field\": \"flux\",\n            \"scale\": \"yscale\"\n          }\n        },\n        \"update\": {\n          \"fill\": {\n            \"value\": \"#000000\"\n          },\n          \"fillOpacity\": {\n            \"value\": 1\n          },\n          \"shape\": {\n            \"value\": \"circle\"\n          },\n          \"size\": {\n            \"value\": 40\n          },\n          \"stroke\": {\n            \"value\": \"#000000\"\n          },\n          \"strokeOpacity\": {\n            \"value\": 0.2\n          },\n          \"strokeWidth\": {\n            \"value\": 0\n          }\n        }\n      },\n      \"from\": {\n        \"data\": \"62c42801-e213-4fb0-af1c-52c99b306b50\"\n      },\n      \"name\": \"be5de6ac-8abe-44d8-ac8f-0d99a8107495\",\n      \"type\": \"symbol\"\n    },\n    {\n      \"clip\": true,\n      \"description\": \"Flux\",\n      \"encode\": {\n        \"enter\": {\n          \"x\": {\n            \"field\": \"time\",\n            \"scale\": \"xscale\"\n          },\n          \"y\": {\n            \"scale\": \"yscale\",\n            \"signal\": \"datum['flux'] - datum['error']\"\n          },\n          \"y2\": {\n            \"scale\": \"yscale\",\n            \"signal\": \"datum['flux'] + datum['error']\"\n          }\n        },\n        \"update\": {\n          \"fill\": {\n            \"value\": \"#000000\"\n          },\n          \"fillOpacity\": {\n            \"value\": 1\n          },\n          \"shape\": {\n            \"value\": \"circle\"\n          },\n          \"stroke\": {\n            \"value\": \"#000000\"\n          },\n          \"strokeOpacity\": {\n            \"value\": 0.2\n          },\n          \"strokeWidth\": {\n            \"value\": 0\n          },\n          \"width\": {\n            \"value\": 1\n          }\n        }\n      },\n      \"from\": {\n        \"data\": \"62c42801-e213-4fb0-af1c-52c99b306b50\"\n      },\n      \"name\": \"78638f69-d787-4dfd-acc7-c393dd2fa38b\",\n      \"type\": \"rect\"\n    },\n    {\n      \"clip\": true,\n      \"description\": \"Flux\",\n      \"encode\": {\n        \"enter\": {\n          \"stroke\": {\n            \"value\": \"#000000\"\n          },\n          \"strokeOpacity\": {\n            \"value\": 1\n          },\n          \"strokeWidth\": {\n            \"value\": 1\n          },\n          \"x\": {\n            \"field\": \"time\",\n            \"scale\": \"xscale\"\n          },\n          \"y\": {\n            \"field\": \"flux\",\n            \"scale\": \"yscale\"\n          }\n        }\n      },\n      \"from\": {\n        \"data\": \"62c42801-e213-4fb0-af1c-52c99b306b50\"\n      },\n      \"name\": \"2a3f2c38-1bc5-4df8-876b-ba8801fc8412\",\n      \"type\": \"line\"\n    }\n  ],\n  \"padding\": 0,\n  \"scales\": [\n    {\n      \"domain\": [\n        {\n          \"signal\": \"datetime(2016, 2, 22, 12, 30, 31)\"\n        },\n        {\n          \"signal\": \"datetime(2016, 2, 22, 12, 30, 58)\"\n        }\n      ],\n      \"name\": \"xscale\",\n      \"padding\": 36,\n      \"range\": \"width\",\n      \"type\": \"time\",\n      \"zero\": false\n    },\n    {\n      \"domain\": [\n        2.0,\n        12.0\n      ],\n      \"name\": \"yscale\",\n      \"padding\": 36,\n      \"range\": \"height\",\n      \"type\": \"linear\",\n      \"zero\": false\n    }\n  ],\n  \"title\": \"Default\",\n  \"width\": 600\n}",
       "width": 600
      }
     },
     "afb5f314d5bf4c6c870042da67bc9d84": {
      "model_module": "@jupyter-widgets/base",
      "model_module_version": "1.1.0",
      "model_name": "LayoutModel",
      "state": {
       "justify_items": null
      }
     },
     "b0f82e187da94c3c8a6dcbf4180af859": {
      "model_module": "jupyter-aas-timeseries",
      "model_module_version": "^0.1.5",
      "model_name": "TimeSeriesModel",
      "state": {
       "_model_module_version": "^0.1.5",
       "_view_module_version": "^0.1.5",
       "height": 480,
       "layout": "IPY_MODEL_163476e25e2a4f36bb03d4d6183ffc15",
       "vega_json": "{\n  \"$schema\": \"https://vega.github.io/schema/vega/v4.json\",\n  \"_extend\": {\n    \"scales\": [\n      {\n        \"input\": \"iso\",\n        \"name\": \"xscale\",\n        \"output\": \"auto\"\n      }\n    ]\n  },\n  \"autosize\": {\n    \"resize\": false,\n    \"type\": \"fit\"\n  },\n  \"axes\": [\n    {\n      \"orient\": \"bottom\",\n      \"scale\": \"xscale\",\n      \"title\": \"Time\"\n    },\n    {\n      \"orient\": \"left\",\n      \"scale\": \"yscale\",\n      \"title\": \"\"\n    }\n  ],\n  \"data\": [\n    {\n      \"format\": {\n        \"parse\": {\n          \"error\": \"number\",\n          \"flux\": \"number\",\n          \"time\": \"date\"\n        },\n        \"type\": \"csv\"\n      },\n      \"name\": \"62c42801-e213-4fb0-af1c-52c99b306b50\",\n      \"values\": \"time,flux,error\\n2016-03-22T12:30:31.000Z,10.0,2.0\\n2016-03-22T12:30:34.000Z,11.0,2.5\\n2016-03-22T12:30:37.000Z,9.0,2.0\\n2016-03-22T12:30:40.000Z,10.0,1.5\\n2016-03-22T12:30:43.000Z,2.0,2.0\\n2016-03-22T12:30:46.000Z,3.0,2.0\\n2016-03-22T12:30:49.000Z,5.0,1.5\\n2016-03-22T12:30:52.000Z,12.0,1.5\\n2016-03-22T12:30:55.000Z,11.0,2.0\\n2016-03-22T12:30:58.000Z,10.0,2.5\\n\"\n    }\n  ],\n  \"height\": 400,\n  \"marks\": [\n    {\n      \"clip\": true,\n      \"description\": \"Flux\",\n      \"encode\": {\n        \"enter\": {\n          \"shape\": {\n            \"value\": \"circle\"\n          },\n          \"x\": {\n            \"field\": \"time\",\n            \"scale\": \"xscale\"\n          },\n          \"y\": {\n            \"field\": \"flux\",\n            \"scale\": \"yscale\"\n          }\n        },\n        \"update\": {\n          \"fill\": {\n            \"value\": \"#000000\"\n          },\n          \"fillOpacity\": {\n            \"value\": 1\n          },\n          \"shape\": {\n            \"value\": \"circle\"\n          },\n          \"size\": {\n            \"value\": 40\n          },\n          \"stroke\": {\n            \"value\": \"#000000\"\n          },\n          \"strokeOpacity\": {\n            \"value\": 0.2\n          },\n          \"strokeWidth\": {\n            \"value\": 0\n          }\n        }\n      },\n      \"from\": {\n        \"data\": \"62c42801-e213-4fb0-af1c-52c99b306b50\"\n      },\n      \"name\": \"be5de6ac-8abe-44d8-ac8f-0d99a8107495\",\n      \"type\": \"symbol\"\n    },\n    {\n      \"clip\": true,\n      \"description\": \"Flux\",\n      \"encode\": {\n        \"enter\": {\n          \"x\": {\n            \"field\": \"time\",\n            \"scale\": \"xscale\"\n          },\n          \"y\": {\n            \"scale\": \"yscale\",\n            \"signal\": \"datum['flux'] - datum['error']\"\n          },\n          \"y2\": {\n            \"scale\": \"yscale\",\n            \"signal\": \"datum['flux'] + datum['error']\"\n          }\n        },\n        \"update\": {\n          \"fill\": {\n            \"value\": \"#000000\"\n          },\n          \"fillOpacity\": {\n            \"value\": 1\n          },\n          \"shape\": {\n            \"value\": \"circle\"\n          },\n          \"stroke\": {\n            \"value\": \"#000000\"\n          },\n          \"strokeOpacity\": {\n            \"value\": 0.2\n          },\n          \"strokeWidth\": {\n            \"value\": 0\n          },\n          \"width\": {\n            \"value\": 1\n          }\n        }\n      },\n      \"from\": {\n        \"data\": \"62c42801-e213-4fb0-af1c-52c99b306b50\"\n      },\n      \"name\": \"78638f69-d787-4dfd-acc7-c393dd2fa38b\",\n      \"type\": \"rect\"\n    },\n    {\n      \"clip\": true,\n      \"description\": \"Flux\",\n      \"encode\": {\n        \"enter\": {\n          \"stroke\": {\n            \"value\": \"#000000\"\n          },\n          \"strokeOpacity\": {\n            \"value\": 1\n          },\n          \"strokeWidth\": {\n            \"value\": 2\n          },\n          \"x\": {\n            \"field\": \"time\",\n            \"scale\": \"xscale\"\n          },\n          \"y\": {\n            \"field\": \"flux\",\n            \"scale\": \"yscale\"\n          }\n        }\n      },\n      \"from\": {\n        \"data\": \"62c42801-e213-4fb0-af1c-52c99b306b50\"\n      },\n      \"name\": \"2a3f2c38-1bc5-4df8-876b-ba8801fc8412\",\n      \"type\": \"line\"\n    }\n  ],\n  \"padding\": 0,\n  \"scales\": [\n    {\n      \"domain\": [\n        {\n          \"signal\": \"datetime(2016, 2, 22, 12, 30, 31)\"\n        },\n        {\n          \"signal\": \"datetime(2016, 2, 22, 12, 30, 58)\"\n        }\n      ],\n      \"name\": \"xscale\",\n      \"padding\": 36,\n      \"range\": \"width\",\n      \"type\": \"time\",\n      \"zero\": false\n    },\n    {\n      \"domain\": [\n        2.0,\n        12.0\n      ],\n      \"name\": \"yscale\",\n      \"padding\": 36,\n      \"range\": \"height\",\n      \"type\": \"linear\",\n      \"zero\": false\n    }\n  ],\n  \"title\": \"Default\",\n  \"width\": 600\n}",
       "width": 600
      }
     },
     "b398aa067991417a9d9901ac657ed27e": {
      "model_module": "@jupyter-widgets/base",
      "model_module_version": "1.1.0",
      "model_name": "LayoutModel",
      "state": {
       "justify_items": null
      }
     },
     "cc8fe70a41a34f149bc8abaf466047bf": {
      "model_module": "@jupyter-widgets/base",
      "model_module_version": "1.1.0",
      "model_name": "LayoutModel",
      "state": {
       "justify_items": null
      }
     },
     "ceaa1cb747134619845c8117ff5bf40e": {
      "model_module": "@jupyter-widgets/base",
      "model_module_version": "1.1.0",
      "model_name": "LayoutModel",
      "state": {
       "justify_items": null
      }
     },
     "d2dc31d990b845429b5bf876751d2c05": {
      "model_module": "jupyter-aas-timeseries",
      "model_module_version": "^0.1.7",
      "model_name": "TimeSeriesModel",
      "state": {
       "_model_module_version": "^0.1.7",
       "_view_module_version": "^0.1.7",
       "height": 480,
       "layout": "IPY_MODEL_ff862cd6f0d742b498d7828485c9fd12",
       "vega_json": "{\n  \"$schema\": \"https://vega.github.io/schema/vega/v4.json\",\n  \"_extend\": {\n    \"scales\": [\n      {\n        \"input\": \"iso\",\n        \"name\": \"xscale\",\n        \"output\": \"auto\"\n      }\n    ]\n  },\n  \"autosize\": {\n    \"resize\": false,\n    \"type\": \"fit\"\n  },\n  \"axes\": [\n    {\n      \"orient\": \"bottom\",\n      \"scale\": \"xscale\",\n      \"title\": \"Time\"\n    },\n    {\n      \"orient\": \"left\",\n      \"scale\": \"yscale\",\n      \"title\": \"\"\n    }\n  ],\n  \"data\": [\n    {\n      \"format\": {\n        \"parse\": {\n          \"error\": \"number\",\n          \"flux\": \"number\",\n          \"flux_hi\": \"number\",\n          \"flux_lo\": \"number\",\n          \"time\": \"date\"\n        },\n        \"type\": \"csv\"\n      },\n      \"name\": \"8a068b8b-7e94-4ebb-aa85-28e96874b5ee\",\n      \"values\": \"time,flux,error,flux_lo,flux_hi\\n2016-03-22T12:30:31.000Z,10.0,2.0,8.0,12.0\\n2016-03-22T12:30:34.000Z,11.0,2.5,8.5,13.5\\n2016-03-22T12:30:37.000Z,9.0,2.0,7.0,11.0\\n2016-03-22T12:30:40.000Z,10.0,1.5,8.5,11.5\\n2016-03-22T12:30:43.000Z,2.0,2.0,0.0,4.0\\n2016-03-22T12:30:46.000Z,3.0,2.0,1.0,5.0\\n2016-03-22T12:30:49.000Z,5.0,1.5,3.5,6.5\\n2016-03-22T12:30:52.000Z,12.0,1.5,10.5,13.5\\n2016-03-22T12:30:55.000Z,11.0,2.0,9.0,13.0\\n2016-03-22T12:30:58.000Z,10.0,2.5,7.5,12.5\\n\"\n    }\n  ],\n  \"height\": 400,\n  \"marks\": [\n    {\n      \"clip\": true,\n      \"description\": \"Flux\",\n      \"encode\": {\n        \"enter\": {\n          \"shape\": {\n            \"value\": \"circle\"\n          },\n          \"x\": {\n            \"field\": \"time\",\n            \"scale\": \"xscale\"\n          },\n          \"y\": {\n            \"field\": \"flux\",\n            \"scale\": \"yscale\"\n          }\n        },\n        \"update\": {\n          \"fill\": {\n            \"value\": \"#000000\"\n          },\n          \"fillOpacity\": {\n            \"value\": 1\n          },\n          \"shape\": {\n            \"value\": \"circle\"\n          },\n          \"size\": {\n            \"value\": 40\n          },\n          \"stroke\": {\n            \"value\": \"#000000\"\n          },\n          \"strokeOpacity\": {\n            \"value\": 0.2\n          },\n          \"strokeWidth\": {\n            \"value\": 0\n          }\n        }\n      },\n      \"from\": {\n        \"data\": \"8a068b8b-7e94-4ebb-aa85-28e96874b5ee\"\n      },\n      \"name\": \"30408fd0-cffc-43de-8ba4-38b993baeb3f\",\n      \"type\": \"symbol\"\n    },\n    {\n      \"clip\": true,\n      \"description\": \"Flux\",\n      \"encode\": {\n        \"enter\": {\n          \"x\": {\n            \"field\": \"time\",\n            \"scale\": \"xscale\"\n          },\n          \"y\": {\n            \"scale\": \"yscale\",\n            \"signal\": \"datum['flux'] - datum['error']\"\n          },\n          \"y2\": {\n            \"scale\": \"yscale\",\n            \"signal\": \"datum['flux'] + datum['error']\"\n          }\n        },\n        \"update\": {\n          \"fill\": {\n            \"value\": \"#000000\"\n          },\n          \"fillOpacity\": {\n            \"value\": 1\n          },\n          \"shape\": {\n            \"value\": \"circle\"\n          },\n          \"stroke\": {\n            \"value\": \"#000000\"\n          },\n          \"strokeOpacity\": {\n            \"value\": 0.2\n          },\n          \"strokeWidth\": {\n            \"value\": 0\n          },\n          \"width\": {\n            \"value\": 1\n          }\n        }\n      },\n      \"from\": {\n        \"data\": \"8a068b8b-7e94-4ebb-aa85-28e96874b5ee\"\n      },\n      \"name\": \"172b4ed9-e824-4a55-8e22-98e95caf3862\",\n      \"type\": \"rect\"\n    },\n    {\n      \"clip\": true,\n      \"description\": \"Flux\",\n      \"encode\": {\n        \"enter\": {\n          \"stroke\": {\n            \"value\": \"#000000\"\n          },\n          \"strokeOpacity\": {\n            \"value\": 1\n          },\n          \"strokeWidth\": {\n            \"value\": 2\n          },\n          \"x\": {\n            \"field\": \"time\",\n            \"scale\": \"xscale\"\n          },\n          \"y\": {\n            \"field\": \"flux\",\n            \"scale\": \"yscale\"\n          }\n        }\n      },\n      \"from\": {\n        \"data\": \"8a068b8b-7e94-4ebb-aa85-28e96874b5ee\"\n      },\n      \"name\": \"19f56fdf-a7ea-4955-a3dc-5f962cdb1647\",\n      \"type\": \"line\"\n    },\n    {\n      \"clip\": true,\n      \"description\": \"Special event\",\n      \"encode\": {\n        \"enter\": {\n          \"stroke\": {\n            \"value\": \"#000000\"\n          },\n          \"strokeOpacity\": {\n            \"value\": 1\n          },\n          \"strokeWidth\": {\n            \"value\": 1\n          },\n          \"x\": {\n            \"scale\": \"xscale\",\n            \"signal\": \"datetime(2016, 2, 22, 12, 30, 46)\"\n          },\n          \"y\": {\n            \"value\": 0\n          },\n          \"y2\": {\n            \"field\": {\n              \"group\": \"height\"\n            }\n          }\n        }\n      },\n      \"name\": \"6ebb8552-2e32-4b31-8f38-2e9e6ec961f2\",\n      \"type\": \"rule\"\n    },\n    {\n      \"clip\": true,\n      \"description\": \"Baseline flux\",\n      \"encode\": {\n        \"enter\": {\n          \"stroke\": {\n            \"value\": \"#000000\"\n          },\n          \"strokeOpacity\": {\n            \"value\": 1\n          },\n          \"strokeWidth\": {\n            \"value\": 1\n          },\n          \"x\": {\n            \"value\": 0\n          },\n          \"x2\": {\n            \"field\": {\n              \"group\": \"width\"\n            }\n          },\n          \"y\": {\n            \"scale\": \"yscale\",\n            \"value\": 10.0\n          }\n        }\n      },\n      \"name\": \"fc771227-8ebf-45c8-99d4-ccec61af1fa8\",\n      \"type\": \"rule\"\n    },\n    {\n      \"clip\": true,\n      \"description\": \"Range\",\n      \"encode\": {\n        \"enter\": {\n          \"fill\": {\n            \"value\": \"#a6cee3\"\n          },\n          \"fillOpacity\": {\n            \"value\": 0.2\n          },\n          \"stroke\": {\n            \"value\": \"#000000\"\n          },\n          \"strokeOpacity\": {\n            \"value\": 0.2\n          },\n          \"strokeWidth\": {\n            \"value\": 0\n          },\n          \"x\": {\n            \"field\": \"time\",\n            \"scale\": \"xscale\"\n          },\n          \"y\": {\n            \"field\": \"flux_lo\",\n            \"scale\": \"yscale\"\n          },\n          \"y2\": {\n            \"field\": \"flux_hi\",\n            \"scale\": \"yscale\"\n          }\n        }\n      },\n      \"from\": {\n        \"data\": \"8a068b8b-7e94-4ebb-aa85-28e96874b5ee\"\n      },\n      \"name\": \"3103d3a8-2c88-48c6-9a56-350ebd131aba\",\n      \"type\": \"area\"\n    },\n    {\n      \"clip\": true,\n      \"description\": \"Vertical Range\",\n      \"encode\": {\n        \"enter\": {\n          \"fill\": {\n            \"value\": \"#1f78b4\"\n          },\n          \"fillOpacity\": {\n            \"value\": 0.2\n          },\n          \"stroke\": {\n            \"value\": \"#000000\"\n          },\n          \"strokeOpacity\": {\n            \"value\": 0.2\n          },\n          \"strokeWidth\": {\n            \"value\": 0\n          },\n          \"x\": {\n            \"scale\": \"xscale\",\n            \"signal\": \"datetime(2016, 2, 22, 12, 30, 43)\"\n          },\n          \"x2\": {\n            \"scale\": \"xscale\",\n            \"signal\": \"datetime(2016, 2, 22, 12, 30, 49)\"\n          },\n          \"y\": {\n            \"value\": 0\n          },\n          \"y2\": {\n            \"field\": {\n              \"group\": \"height\"\n            }\n          }\n        }\n      },\n      \"name\": \"549e4e43-5c34-49e5-9c8d-4aa51931b31c\",\n      \"type\": \"rect\"\n    },\n    {\n      \"clip\": true,\n      \"description\": \"Horizontal Range\",\n      \"encode\": {\n        \"enter\": {\n          \"fill\": {\n            \"value\": \"#b2df8a\"\n          },\n          \"fillOpacity\": {\n            \"value\": 0.2\n          },\n          \"stroke\": {\n            \"value\": \"#000000\"\n          },\n          \"strokeOpacity\": {\n            \"value\": 0.2\n          },\n          \"strokeWidth\": {\n            \"value\": 0\n          },\n          \"x\": {\n            \"value\": 0\n          },\n          \"x2\": {\n            \"field\": {\n              \"group\": \"width\"\n            }\n          },\n          \"y\": {\n            \"scale\": \"yscale\",\n            \"value\": 8.0\n          },\n          \"y2\": {\n            \"scale\": \"yscale\",\n            \"value\": 11.0\n          }\n        }\n      },\n      \"name\": \"8c36b711-71ed-44a0-9b68-7280cdde5f7e\",\n      \"type\": \"rect\"\n    },\n    {\n      \"clip\": true,\n      \"description\": \"Text\",\n      \"encode\": {\n        \"enter\": {\n          \"align\": {\n            \"value\": \"left\"\n          },\n          \"angle\": {\n            \"value\": 0.0\n          },\n          \"baseline\": {\n            \"value\": \"alphabetic\"\n          },\n          \"fill\": {\n            \"value\": \"#000000\"\n          },\n          \"fillOpacity\": {\n            \"value\": 1\n          },\n          \"fontWeigth\": {\n            \"value\": \"normal\"\n          },\n          \"text\": {\n            \"value\": \"Here be dragons\"\n          },\n          \"x\": {\n            \"scale\": \"xscale\",\n            \"signal\": \"datetime(2016, 2, 22, 12, 30, 34)\"\n          },\n          \"y\": {\n            \"scale\": \"yscale\",\n            \"value\": 5.0\n          }\n        }\n      },\n      \"name\": \"2fa0255c-de2f-4472-9989-74ce202085bc\",\n      \"type\": \"text\"\n    }\n  ],\n  \"padding\": 0,\n  \"scales\": [\n    {\n      \"domain\": [\n        {\n          \"signal\": \"datetime(2016, 2, 22, 12, 30, 31)\"\n        },\n        {\n          \"signal\": \"datetime(2016, 2, 22, 12, 30, 58)\"\n        }\n      ],\n      \"name\": \"xscale\",\n      \"padding\": 36,\n      \"range\": \"width\",\n      \"type\": \"time\",\n      \"zero\": false\n    },\n    {\n      \"domain\": [\n        2.0,\n        12.0\n      ],\n      \"name\": \"yscale\",\n      \"padding\": 36,\n      \"range\": \"height\",\n      \"type\": \"linear\",\n      \"zero\": false\n    }\n  ],\n  \"title\": \"Default\",\n  \"width\": 600\n}",
       "width": 600
      }
     },
     "d36bf871c9bc44cd94112af4f16f1ad9": {
      "model_module": "jupyter-aas-timeseries",
      "model_module_version": "^0.1.7",
      "model_name": "TimeSeriesModel",
      "state": {
       "_model_module_version": "^0.1.7",
       "_view_module_version": "^0.1.7",
       "height": 480,
       "layout": "IPY_MODEL_2a6ef98ab461413f9a41c727bc6e500d",
       "vega_json": "{\n  \"$schema\": \"https://vega.github.io/schema/vega/v4.json\",\n  \"_extend\": {\n    \"scales\": [\n      {\n        \"input\": \"iso\",\n        \"name\": \"xscale\",\n        \"output\": \"auto\"\n      }\n    ]\n  },\n  \"autosize\": {\n    \"resize\": false,\n    \"type\": \"fit\"\n  },\n  \"axes\": [\n    {\n      \"orient\": \"bottom\",\n      \"scale\": \"xscale\",\n      \"title\": \"Time\"\n    },\n    {\n      \"orient\": \"left\",\n      \"scale\": \"yscale\",\n      \"title\": \"\"\n    }\n  ],\n  \"data\": [\n    {\n      \"format\": {\n        \"parse\": {\n          \"error\": \"number\",\n          \"flux\": \"number\",\n          \"time\": \"date\"\n        },\n        \"type\": \"csv\"\n      },\n      \"name\": \"8a068b8b-7e94-4ebb-aa85-28e96874b5ee\",\n      \"values\": \"time,flux,error\\n2016-03-22T12:30:31.000Z,10.0,2.0\\n2016-03-22T12:30:34.000Z,11.0,2.5\\n2016-03-22T12:30:37.000Z,9.0,2.0\\n2016-03-22T12:30:40.000Z,10.0,1.5\\n2016-03-22T12:30:43.000Z,2.0,2.0\\n2016-03-22T12:30:46.000Z,3.0,2.0\\n2016-03-22T12:30:49.000Z,5.0,1.5\\n2016-03-22T12:30:52.000Z,12.0,1.5\\n2016-03-22T12:30:55.000Z,11.0,2.0\\n2016-03-22T12:30:58.000Z,10.0,2.5\\n\"\n    }\n  ],\n  \"height\": 400,\n  \"marks\": [\n    {\n      \"clip\": true,\n      \"description\": \"Flux\",\n      \"encode\": {\n        \"enter\": {\n          \"shape\": {\n            \"value\": \"circle\"\n          },\n          \"x\": {\n            \"field\": \"time\",\n            \"scale\": \"xscale\"\n          },\n          \"y\": {\n            \"field\": \"flux\",\n            \"scale\": \"yscale\"\n          }\n        },\n        \"update\": {\n          \"fill\": {\n            \"value\": \"#000000\"\n          },\n          \"fillOpacity\": {\n            \"value\": 1\n          },\n          \"shape\": {\n            \"value\": \"circle\"\n          },\n          \"size\": {\n            \"value\": 40\n          },\n          \"stroke\": {\n            \"value\": \"#000000\"\n          },\n          \"strokeOpacity\": {\n            \"value\": 0.2\n          },\n          \"strokeWidth\": {\n            \"value\": 0\n          }\n        }\n      },\n      \"from\": {\n        \"data\": \"8a068b8b-7e94-4ebb-aa85-28e96874b5ee\"\n      },\n      \"name\": \"30408fd0-cffc-43de-8ba4-38b993baeb3f\",\n      \"type\": \"symbol\"\n    },\n    {\n      \"clip\": true,\n      \"description\": \"Flux\",\n      \"encode\": {\n        \"enter\": {\n          \"x\": {\n            \"field\": \"time\",\n            \"scale\": \"xscale\"\n          },\n          \"y\": {\n            \"scale\": \"yscale\",\n            \"signal\": \"datum['flux'] - datum['error']\"\n          },\n          \"y2\": {\n            \"scale\": \"yscale\",\n            \"signal\": \"datum['flux'] + datum['error']\"\n          }\n        },\n        \"update\": {\n          \"fill\": {\n            \"value\": \"#000000\"\n          },\n          \"fillOpacity\": {\n            \"value\": 1\n          },\n          \"shape\": {\n            \"value\": \"circle\"\n          },\n          \"stroke\": {\n            \"value\": \"#000000\"\n          },\n          \"strokeOpacity\": {\n            \"value\": 0.2\n          },\n          \"strokeWidth\": {\n            \"value\": 0\n          },\n          \"width\": {\n            \"value\": 1\n          }\n        }\n      },\n      \"from\": {\n        \"data\": \"8a068b8b-7e94-4ebb-aa85-28e96874b5ee\"\n      },\n      \"name\": \"172b4ed9-e824-4a55-8e22-98e95caf3862\",\n      \"type\": \"rect\"\n    },\n    {\n      \"clip\": true,\n      \"description\": \"Flux\",\n      \"encode\": {\n        \"enter\": {\n          \"stroke\": {\n            \"value\": \"#000000\"\n          },\n          \"strokeOpacity\": {\n            \"value\": 1\n          },\n          \"strokeWidth\": {\n            \"value\": 2\n          },\n          \"x\": {\n            \"field\": \"time\",\n            \"scale\": \"xscale\"\n          },\n          \"y\": {\n            \"field\": \"flux\",\n            \"scale\": \"yscale\"\n          }\n        }\n      },\n      \"from\": {\n        \"data\": \"8a068b8b-7e94-4ebb-aa85-28e96874b5ee\"\n      },\n      \"name\": \"19f56fdf-a7ea-4955-a3dc-5f962cdb1647\",\n      \"type\": \"line\"\n    },\n    {\n      \"clip\": true,\n      \"description\": \"Special event\",\n      \"encode\": {\n        \"enter\": {\n          \"stroke\": {\n            \"value\": \"#000000\"\n          },\n          \"strokeOpacity\": {\n            \"value\": 1\n          },\n          \"strokeWidth\": {\n            \"value\": 1\n          },\n          \"x\": {\n            \"scale\": \"xscale\",\n            \"signal\": \"datetime(2016, 2, 22, 12, 30, 46)\"\n          },\n          \"y\": {\n            \"value\": 0\n          },\n          \"y2\": {\n            \"field\": {\n              \"group\": \"height\"\n            }\n          }\n        }\n      },\n      \"name\": \"6ebb8552-2e32-4b31-8f38-2e9e6ec961f2\",\n      \"type\": \"rule\"\n    },\n    {\n      \"clip\": true,\n      \"description\": \"Baseline flux\",\n      \"encode\": {\n        \"enter\": {\n          \"stroke\": {\n            \"value\": \"#000000\"\n          },\n          \"strokeOpacity\": {\n            \"value\": 1\n          },\n          \"strokeWidth\": {\n            \"value\": 1\n          },\n          \"x\": {\n            \"value\": 0\n          },\n          \"x2\": {\n            \"field\": {\n              \"group\": \"width\"\n            }\n          },\n          \"y\": {\n            \"scale\": \"yscale\",\n            \"value\": 10.0\n          }\n        }\n      },\n      \"name\": \"fc771227-8ebf-45c8-99d4-ccec61af1fa8\",\n      \"type\": \"rule\"\n    }\n  ],\n  \"padding\": 0,\n  \"scales\": [\n    {\n      \"domain\": [\n        {\n          \"signal\": \"datetime(2016, 2, 22, 12, 30, 31)\"\n        },\n        {\n          \"signal\": \"datetime(2016, 2, 22, 12, 30, 58)\"\n        }\n      ],\n      \"name\": \"xscale\",\n      \"padding\": 36,\n      \"range\": \"width\",\n      \"type\": \"time\",\n      \"zero\": false\n    },\n    {\n      \"domain\": [\n        2.0,\n        12.0\n      ],\n      \"name\": \"yscale\",\n      \"padding\": 36,\n      \"range\": \"height\",\n      \"type\": \"linear\",\n      \"zero\": false\n    }\n  ],\n  \"title\": \"Default\",\n  \"width\": 600\n}",
       "width": 600
      }
     },
     "f3d7ccfb72d44473b53f8355b6b68972": {
      "model_module": "@jupyter-widgets/base",
      "model_module_version": "1.1.0",
      "model_name": "LayoutModel",
      "state": {
       "justify_items": null
      }
     },
     "f7b54722edd84faf86a40a70d99180d5": {
      "model_module": "jupyter-aas-timeseries",
      "model_module_version": "^0.1.5",
      "model_name": "TimeSeriesModel",
      "state": {
       "_model_module_version": "^0.1.5",
       "_view_module_version": "^0.1.5",
       "height": 480,
       "layout": "IPY_MODEL_55fedc62decb48ae86742e311050423e",
       "vega_json": "{\n  \"$schema\": \"https://vega.github.io/schema/vega/v4.json\",\n  \"_extend\": {\n    \"scales\": [\n      {\n        \"input\": \"iso\",\n        \"name\": \"xscale\",\n        \"output\": \"auto\"\n      }\n    ]\n  },\n  \"autosize\": {\n    \"resize\": false,\n    \"type\": \"fit\"\n  },\n  \"axes\": [\n    {\n      \"orient\": \"bottom\",\n      \"scale\": \"xscale\",\n      \"title\": \"Time\"\n    },\n    {\n      \"orient\": \"left\",\n      \"scale\": \"yscale\",\n      \"title\": \"\"\n    }\n  ],\n  \"data\": [\n    {\n      \"format\": {\n        \"parse\": {\n          \"error\": \"number\",\n          \"flux\": \"number\",\n          \"flux_hi\": \"number\",\n          \"flux_lo\": \"number\",\n          \"time\": \"date\"\n        },\n        \"type\": \"csv\"\n      },\n      \"name\": \"62c42801-e213-4fb0-af1c-52c99b306b50\",\n      \"values\": \"time,flux,error,flux_lo,flux_hi\\n2016-03-22T12:30:31.000Z,10.0,2.0,8.0,12.0\\n2016-03-22T12:30:34.000Z,11.0,2.5,8.5,13.5\\n2016-03-22T12:30:37.000Z,9.0,2.0,7.0,11.0\\n2016-03-22T12:30:40.000Z,10.0,1.5,8.5,11.5\\n2016-03-22T12:30:43.000Z,2.0,2.0,0.0,4.0\\n2016-03-22T12:30:46.000Z,3.0,2.0,1.0,5.0\\n2016-03-22T12:30:49.000Z,5.0,1.5,3.5,6.5\\n2016-03-22T12:30:52.000Z,12.0,1.5,10.5,13.5\\n2016-03-22T12:30:55.000Z,11.0,2.0,9.0,13.0\\n2016-03-22T12:30:58.000Z,10.0,2.5,7.5,12.5\\n\"\n    }\n  ],\n  \"height\": 400,\n  \"marks\": [\n    {\n      \"clip\": true,\n      \"description\": \"Flux\",\n      \"encode\": {\n        \"enter\": {\n          \"shape\": {\n            \"value\": \"circle\"\n          },\n          \"x\": {\n            \"field\": \"time\",\n            \"scale\": \"xscale\"\n          },\n          \"y\": {\n            \"field\": \"flux\",\n            \"scale\": \"yscale\"\n          }\n        },\n        \"update\": {\n          \"fill\": {\n            \"value\": \"#000000\"\n          },\n          \"fillOpacity\": {\n            \"value\": 1\n          },\n          \"shape\": {\n            \"value\": \"circle\"\n          },\n          \"size\": {\n            \"value\": 40\n          },\n          \"stroke\": {\n            \"value\": \"#000000\"\n          },\n          \"strokeOpacity\": {\n            \"value\": 0.2\n          },\n          \"strokeWidth\": {\n            \"value\": 0\n          }\n        }\n      },\n      \"from\": {\n        \"data\": \"62c42801-e213-4fb0-af1c-52c99b306b50\"\n      },\n      \"name\": \"be5de6ac-8abe-44d8-ac8f-0d99a8107495\",\n      \"type\": \"symbol\"\n    },\n    {\n      \"clip\": true,\n      \"description\": \"Flux\",\n      \"encode\": {\n        \"enter\": {\n          \"x\": {\n            \"field\": \"time\",\n            \"scale\": \"xscale\"\n          },\n          \"y\": {\n            \"scale\": \"yscale\",\n            \"signal\": \"datum['flux'] - datum['error']\"\n          },\n          \"y2\": {\n            \"scale\": \"yscale\",\n            \"signal\": \"datum['flux'] + datum['error']\"\n          }\n        },\n        \"update\": {\n          \"fill\": {\n            \"value\": \"#000000\"\n          },\n          \"fillOpacity\": {\n            \"value\": 1\n          },\n          \"shape\": {\n            \"value\": \"circle\"\n          },\n          \"stroke\": {\n            \"value\": \"#000000\"\n          },\n          \"strokeOpacity\": {\n            \"value\": 0.2\n          },\n          \"strokeWidth\": {\n            \"value\": 0\n          },\n          \"width\": {\n            \"value\": 1\n          }\n        }\n      },\n      \"from\": {\n        \"data\": \"62c42801-e213-4fb0-af1c-52c99b306b50\"\n      },\n      \"name\": \"78638f69-d787-4dfd-acc7-c393dd2fa38b\",\n      \"type\": \"rect\"\n    },\n    {\n      \"clip\": true,\n      \"description\": \"Flux\",\n      \"encode\": {\n        \"enter\": {\n          \"stroke\": {\n            \"value\": \"#000000\"\n          },\n          \"strokeOpacity\": {\n            \"value\": 1\n          },\n          \"strokeWidth\": {\n            \"value\": 2\n          },\n          \"x\": {\n            \"field\": \"time\",\n            \"scale\": \"xscale\"\n          },\n          \"y\": {\n            \"field\": \"flux\",\n            \"scale\": \"yscale\"\n          }\n        }\n      },\n      \"from\": {\n        \"data\": \"62c42801-e213-4fb0-af1c-52c99b306b50\"\n      },\n      \"name\": \"2a3f2c38-1bc5-4df8-876b-ba8801fc8412\",\n      \"type\": \"line\"\n    },\n    {\n      \"clip\": true,\n      \"description\": \"Special event\",\n      \"encode\": {\n        \"enter\": {\n          \"stroke\": {\n            \"value\": \"#000000\"\n          },\n          \"strokeOpacity\": {\n            \"value\": 1\n          },\n          \"strokeWidth\": {\n            \"value\": 1\n          },\n          \"x\": {\n            \"scale\": \"xscale\",\n            \"signal\": \"datetime(2016, 2, 22, 12, 30, 46)\"\n          },\n          \"y\": {\n            \"value\": 0\n          },\n          \"y2\": {\n            \"field\": {\n              \"group\": \"height\"\n            }\n          }\n        }\n      },\n      \"name\": \"5d7fd700-c3b5-421c-a9ff-1be5dc7e25bf\",\n      \"type\": \"rule\"\n    },\n    {\n      \"clip\": true,\n      \"description\": \"Baseline flux\",\n      \"encode\": {\n        \"enter\": {\n          \"stroke\": {\n            \"value\": \"#000000\"\n          },\n          \"strokeOpacity\": {\n            \"value\": 1\n          },\n          \"strokeWidth\": {\n            \"value\": 1\n          },\n          \"x\": {\n            \"value\": 0\n          },\n          \"x2\": {\n            \"field\": {\n              \"group\": \"width\"\n            }\n          },\n          \"y\": {\n            \"scale\": \"yscale\",\n            \"value\": 10.0\n          }\n        }\n      },\n      \"name\": \"ec0f1915-d7a3-4828-af68-d6444cced3b3\",\n      \"type\": \"rule\"\n    },\n    {\n      \"clip\": true,\n      \"description\": \"Range\",\n      \"encode\": {\n        \"enter\": {\n          \"fill\": {\n            \"value\": \"#a6cee3\"\n          },\n          \"fillOpacity\": {\n            \"value\": 0.2\n          },\n          \"stroke\": {\n            \"value\": \"#000000\"\n          },\n          \"strokeOpacity\": {\n            \"value\": 0.2\n          },\n          \"strokeWidth\": {\n            \"value\": 0\n          },\n          \"x\": {\n            \"field\": \"time\",\n            \"scale\": \"xscale\"\n          },\n          \"y\": {\n            \"field\": \"flux_lo\",\n            \"scale\": \"yscale\"\n          },\n          \"y2\": {\n            \"field\": \"flux_hi\",\n            \"scale\": \"yscale\"\n          }\n        }\n      },\n      \"from\": {\n        \"data\": \"62c42801-e213-4fb0-af1c-52c99b306b50\"\n      },\n      \"name\": \"fae4b5b7-7908-4f5c-9bdd-1c8288fd0bf6\",\n      \"type\": \"area\"\n    },\n    {\n      \"clip\": true,\n      \"description\": \"Vertical Range\",\n      \"encode\": {\n        \"enter\": {\n          \"fill\": {\n            \"value\": \"#1f78b4\"\n          },\n          \"fillOpacity\": {\n            \"value\": 0.2\n          },\n          \"stroke\": {\n            \"value\": \"#000000\"\n          },\n          \"strokeOpacity\": {\n            \"value\": 0.2\n          },\n          \"strokeWidth\": {\n            \"value\": 0\n          },\n          \"x\": {\n            \"scale\": \"xscale\",\n            \"signal\": \"datetime(2016, 2, 22, 12, 30, 43)\"\n          },\n          \"x2\": {\n            \"scale\": \"xscale\",\n            \"signal\": \"datetime(2016, 2, 22, 12, 30, 49)\"\n          },\n          \"y\": {\n            \"value\": 0\n          },\n          \"y2\": {\n            \"field\": {\n              \"group\": \"height\"\n            }\n          }\n        }\n      },\n      \"name\": \"75632b2e-535b-486b-aca1-c0a9aff930cb\",\n      \"type\": \"rect\"\n    },\n    {\n      \"clip\": true,\n      \"description\": \"Horizontal Range\",\n      \"encode\": {\n        \"enter\": {\n          \"fill\": {\n            \"value\": \"#b2df8a\"\n          },\n          \"fillOpacity\": {\n            \"value\": 0.2\n          },\n          \"stroke\": {\n            \"value\": \"#000000\"\n          },\n          \"strokeOpacity\": {\n            \"value\": 0.2\n          },\n          \"strokeWidth\": {\n            \"value\": 0\n          },\n          \"x\": {\n            \"value\": 0\n          },\n          \"x2\": {\n            \"field\": {\n              \"group\": \"width\"\n            }\n          },\n          \"y\": {\n            \"scale\": \"yscale\",\n            \"value\": 8.0\n          },\n          \"y2\": {\n            \"scale\": \"yscale\",\n            \"value\": 11.0\n          }\n        }\n      },\n      \"name\": \"9a3b4c66-de7b-4d87-afbc-6c6ff002fcb7\",\n      \"type\": \"rect\"\n    }\n  ],\n  \"padding\": 0,\n  \"scales\": [\n    {\n      \"domain\": [\n        {\n          \"signal\": \"datetime(2016, 2, 22, 12, 30, 31)\"\n        },\n        {\n          \"signal\": \"datetime(2016, 2, 22, 12, 30, 58)\"\n        }\n      ],\n      \"name\": \"xscale\",\n      \"padding\": 36,\n      \"range\": \"width\",\n      \"type\": \"time\",\n      \"zero\": false\n    },\n    {\n      \"domain\": [\n        2.0,\n        12.0\n      ],\n      \"name\": \"yscale\",\n      \"padding\": 36,\n      \"range\": \"height\",\n      \"type\": \"linear\",\n      \"zero\": false\n    }\n  ],\n  \"title\": \"Default\",\n  \"width\": 600\n}",
       "width": 600
      }
     },
     "ff862cd6f0d742b498d7828485c9fd12": {
      "model_module": "@jupyter-widgets/base",
      "model_module_version": "1.1.0",
      "model_name": "LayoutModel",
      "state": {
       "justify_items": null
      }
     }
    },
    "version_major": 2,
    "version_minor": 0
   }
  }
 },
 "nbformat": 4,
 "nbformat_minor": 2
}
