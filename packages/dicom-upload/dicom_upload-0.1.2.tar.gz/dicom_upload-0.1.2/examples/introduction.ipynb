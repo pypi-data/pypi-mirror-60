{
 "cells": [
  {
   "cell_type": "markdown",
   "metadata": {},
   "source": [
    "# Upload DICOM file(s)\n",
    "\n",
    "Header tags starting with 0008 and 0010 are removed on the JS side before the data is transferred."
   ]
  },
  {
   "cell_type": "code",
   "execution_count": null,
   "metadata": {},
   "outputs": [],
   "source": [
    "import dicom_upload\n",
    "from ipywidgets import Output"
   ]
  },
  {
   "cell_type": "code",
   "execution_count": null,
   "metadata": {},
   "outputs": [],
   "source": [
    "# Upload to the examples subdirectory.\n",
    "upload_url = 'http://localhost:8888/api/contents/examples/'\n",
    "token = '<token>'\n",
    "\n",
    "# The button can be styled like a ipywidget button widget\n",
    "uploader = dicom_upload.Uploader(upload_url=upload_url,\n",
    "                          token=token,\n",
    "                          button_style='primary', \n",
    "                          layout={'border': 'solid blue 1px'})"
   ]
  },
  {
   "cell_type": "code",
   "execution_count": null,
   "metadata": {},
   "outputs": [],
   "source": [
    "out = Output()\n",
    "@out.capture()\n",
    "def observe_hash(change):\n",
    "    print(\"Hash of files: {}\".format(change['owner'].hash))\n",
    "\n",
    "@out.capture()\n",
    "def observe_responses(change):\n",
    "    print(\"Upload progress: {}\".format(change['owner'].responses))\n",
    "    \n",
    "@out.capture()\n",
    "def observe_finish(change):\n",
    "    print(\"Finished upload: {}\".format(change['owner'].finished))\n",
    "\n",
    "uploader.observe(observe_hash, 'hash')\n",
    "uploader.observe(observe_responses, 'responses')\n",
    "uploader.observe(observe_finish, 'finished')"
   ]
  },
  {
   "cell_type": "code",
   "execution_count": null,
   "metadata": {},
   "outputs": [],
   "source": [
    "display(uploader)\n",
    "display(out)"
   ]
  },
  {
   "cell_type": "code",
   "execution_count": null,
   "metadata": {},
   "outputs": [],
   "source": [
    "# Select some files to upload, then run\n",
    "uploader.upload()"
   ]
  },
  {
   "cell_type": "markdown",
   "metadata": {},
   "source": [
    "### Check header was anonymized"
   ]
  },
  {
   "cell_type": "code",
   "execution_count": null,
   "metadata": {},
   "outputs": [],
   "source": [
    "import pydicom\n",
    "\n",
    "ds = pydicom.dcmread('./IM000001')\n",
    "ds"
   ]
  },
  {
   "cell_type": "markdown",
   "metadata": {},
   "source": [
    "# Upload encrypted DICOM file(s)\n",
    "\n",
    "If a password is passed, the file(s) will be encrypted before being sent to the server."
   ]
  },
  {
   "cell_type": "code",
   "execution_count": null,
   "metadata": {},
   "outputs": [],
   "source": [
    "import dicom_upload"
   ]
  },
  {
   "cell_type": "code",
   "execution_count": null,
   "metadata": {},
   "outputs": [],
   "source": [
    "# Upload to the examples subdirectory.\n",
    "upload_url = 'http://localhost:8888/api/contents/examples/'\n",
    "token = '<token>'\n",
    "password = '<password>'\n",
    "\n",
    "uploader = dicom_upload.Uploader(upload_url=upload_url, token=token, password=password)\n",
    "display(uploader)"
   ]
  },
  {
   "cell_type": "code",
   "execution_count": null,
   "metadata": {},
   "outputs": [],
   "source": [
    "uploader.upload()"
   ]
  },
  {
   "cell_type": "markdown",
   "metadata": {},
   "source": [
    "## Decrypt the file"
   ]
  },
  {
   "cell_type": "code",
   "execution_count": null,
   "metadata": {},
   "outputs": [],
   "source": [
    "!openssl aes-256-cbc -d -md md5 -in IM000001 -k $password | base64 -d > IM000001.decoded"
   ]
  },
  {
   "cell_type": "markdown",
   "metadata": {},
   "source": [
    "## Check decryption"
   ]
  },
  {
   "cell_type": "code",
   "execution_count": null,
   "metadata": {},
   "outputs": [],
   "source": [
    "import pydicom\n",
    "\n",
    "ds = pydicom.dcmread('./IM000001.decoded')\n",
    "ds"
   ]
  }
 ],
 "metadata": {
  "kernelspec": {
   "display_name": "Python 3",
   "language": "python",
   "name": "python3"
  },
  "language_info": {
   "codemirror_mode": {
    "name": "ipython",
    "version": 3
   },
   "file_extension": ".py",
   "mimetype": "text/x-python",
   "name": "python",
   "nbconvert_exporter": "python",
   "pygments_lexer": "ipython3",
   "version": "3.6.9"
  }
 },
 "nbformat": 4,
 "nbformat_minor": 4
}
