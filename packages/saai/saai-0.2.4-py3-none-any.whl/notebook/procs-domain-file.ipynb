{
 "cells": [
  {
   "cell_type": "code",
   "execution_count": 1,
   "metadata": {
    "ExecuteTime": {
     "end_time": "2019-12-05T09:51:34.614142Z",
     "start_time": "2019-12-05T09:51:33.741701Z"
    }
   },
   "outputs": [],
   "source": [
    "import rasa.utils.io as io_utils\n",
    "io_utils.write_yaml_file(\n",
    "    {\n",
    "        \"language\": \"en\",\n",
    "        \"pipeline\": \"supervised_embeddings\",\n",
    "        \"policies\": [{\"name\": \"KerasPolicy\"}],\n",
    "    },\n",
    "    \"./out/config_1.yml\",\n",
    ")"
   ]
  },
  {
   "cell_type": "code",
   "execution_count": 19,
   "metadata": {
    "ExecuteTime": {
     "end_time": "2019-12-05T17:15:03.349530Z",
     "start_time": "2019-12-05T17:15:03.334835Z"
    }
   },
   "outputs": [
    {
     "data": {
      "text/plain": [
       "['greet',\n",
       " 'goodbye',\n",
       " 'affirm',\n",
       " 'deny',\n",
       " 'mood_great',\n",
       " 'mood_unhappy',\n",
       " 'bot_challenge',\n",
       " {'ask_is_bot': {'triggers': 'action_is_bot'}},\n",
       " {'new_act': {'triggers': 'action_is_bot'}}]"
      ]
     },
     "execution_count": 19,
     "metadata": {},
     "output_type": "execute_result"
    }
   ],
   "source": [
    "cnt=io_utils.read_yaml_file('./templates/domain.yml')\n",
    "intents=cnt['intents']\n",
    "# intents\n",
    "intents.append({'new_act':{'triggers': 'action_is_bot'}})\n",
    "intents"
   ]
  },
  {
   "cell_type": "code",
   "execution_count": 20,
   "metadata": {
    "ExecuteTime": {
     "end_time": "2019-12-05T17:15:08.537619Z",
     "start_time": "2019-12-05T17:15:08.528253Z"
    }
   },
   "outputs": [
    {
     "data": {
      "text/plain": [
       "['utter_greet',\n",
       " 'utter_cheer_up',\n",
       " 'utter_did_that_help',\n",
       " 'utter_happy',\n",
       " 'utter_goodbye',\n",
       " 'utter_iamabot',\n",
       " 'action_hello_world',\n",
       " 'action_is_bot']"
      ]
     },
     "execution_count": 20,
     "metadata": {},
     "output_type": "execute_result"
    }
   ],
   "source": [
    "cnt['actions']"
   ]
  },
  {
   "cell_type": "code",
   "execution_count": 10,
   "metadata": {
    "ExecuteTime": {
     "end_time": "2019-12-05T10:00:07.073040Z",
     "start_time": "2019-12-05T10:00:07.057424Z"
    }
   },
   "outputs": [],
   "source": [
    "io_utils.write_yaml_file(cnt, \"./out/domain_1.yml\")"
   ]
  },
  {
   "cell_type": "code",
   "execution_count": 14,
   "metadata": {
    "ExecuteTime": {
     "end_time": "2019-12-05T17:01:10.650424Z",
     "start_time": "2019-12-05T17:01:10.640559Z"
    }
   },
   "outputs": [
    {
     "data": {
      "text/plain": [
       "['/pi/stack/conf/ruleset_basic.json']"
      ]
     },
     "execution_count": 14,
     "metadata": {},
     "output_type": "execute_result"
    }
   ],
   "source": [
    "import glob\n",
    "glob.glob('/pi/stack/conf/ruleset_*.json')"
   ]
  },
  {
   "cell_type": "code",
   "execution_count": 21,
   "metadata": {
    "ExecuteTime": {
     "end_time": "2019-12-05T17:15:37.582573Z",
     "start_time": "2019-12-05T17:15:37.531475Z"
    }
   },
   "outputs": [
    {
     "name": "stdout",
     "output_type": "stream",
     "text": [
      "done\n"
     ]
    }
   ],
   "source": [
    "cnt=io_utils.read_yaml_file('./templates/domain.yml')\n",
    "intents=cnt['intents']\n",
    "actions=cnt['actions']\n",
    "for f in glob.glob('/pi/stack/conf/ruleset_*.json'):\n",
    "    rules=io_utils.read_json_file(f)\n",
    "    for rule in rules:\n",
    "        intents.append({rule['intent']:{'triggers': rule['action']}})\n",
    "        actions.append(rule['action'])\n",
    "\n",
    "io_utils.write_yaml_file(cnt, \"./out/domain_1.yml\")\n",
    "print('done')"
   ]
  },
  {
   "cell_type": "code",
   "execution_count": 24,
   "metadata": {
    "ExecuteTime": {
     "end_time": "2019-12-05T17:19:25.150772Z",
     "start_time": "2019-12-05T17:19:23.924853Z"
    }
   },
   "outputs": [
    {
     "name": "stderr",
     "output_type": "stream",
     "text": [
      "Processed Story Blocks: 100%|██████████| 5/5 [00:00<00:00, 393.88it/s, # trackers=1]\n",
      "Processed Story Blocks: 100%|██████████| 5/5 [00:00<00:00, 88.81it/s, # trackers=5]\n",
      "Processed Story Blocks:   0%|          | 0/5 [00:00<?, ?it/s, # trackers=20]"
     ]
    },
    {
     "name": "stdout",
     "output_type": "stream",
     "text": [
      "\u001b[94mTraining Core model...\u001b[0m\n"
     ]
    },
    {
     "name": "stderr",
     "output_type": "stream",
     "text": [
      "Processed Story Blocks: 100%|██████████| 5/5 [00:00<00:00, 68.82it/s, # trackers=20]\n",
      "Processed Story Blocks: 100%|██████████| 5/5 [00:00<00:00, 44.44it/s, # trackers=24]\n",
      "Processed trackers: 100%|██████████| 5/5 [00:00<00:00, 46.97it/s, # actions=16]\n",
      "Processed actions: 16it [00:00, 368.83it/s, # examples=16]\n"
     ]
    },
    {
     "name": "stdout",
     "output_type": "stream",
     "text": [
      "\u001b[94mCore model training completed.\u001b[0m\n",
      "\u001b[94mNLU data/configuration did not change. No need to retrain NLU model.\u001b[0m\n",
      "\u001b[92mYour Rasa model is trained and saved at '/pi/ws/sagas-ai/bots/genesis/models/20191206-011925.tar.gz'.\u001b[0m\n"
     ]
    },
    {
     "data": {
      "text/plain": [
       "'/pi/ws/sagas-ai/bots/genesis/models/20191206-011925.tar.gz'"
      ]
     },
     "execution_count": 24,
     "metadata": {},
     "output_type": "execute_result"
    }
   ],
   "source": [
    "from rasa.train import train_async\n",
    "\n",
    "from rasa.utils.endpoints import ClientResponseError, EndpointConfig\n",
    "from rasa.core.agent import Agent\n",
    "from rasa.core.interpreter import RasaNLUInterpreter\n",
    "from rasa.model import get_model, get_latest_model\n",
    "from rasa.core.channels.channel import UserMessage\n",
    "\n",
    "# preq: $ start actions\n",
    "\n",
    "bot='genesis'\n",
    "\n",
    "endpoint = EndpointConfig(\"http://localhost:5055/webhook\")\n",
    "bot_locs={'genesis': '/pi/ws/sagas-ai/bots/genesis'}\n",
    "\n",
    "prefix=f\"{bot_locs[bot]}\"\n",
    "# domain_file=\"./out/domain_1.yml\"\n",
    "domain_file=f\"{prefix}/domain.yml\"\n",
    "io_utils.write_yaml_file(cnt, domain_file)\n",
    "await train_async(\n",
    "        domain=domain_file,\n",
    "        config=f\"{prefix}/config.yml\",\n",
    "        training_files=f\"{prefix}/data/\",\n",
    "        output_path=f\"{prefix}/models/\",\n",
    "    )"
   ]
  },
  {
   "cell_type": "code",
   "execution_count": 27,
   "metadata": {
    "ExecuteTime": {
     "end_time": "2019-12-05T17:25:19.611478Z",
     "start_time": "2019-12-05T17:25:18.699113Z"
    }
   },
   "outputs": [
    {
     "name": "stdout",
     "output_type": "stream",
     "text": [
      ".. load bot model /pi/ws/sagas-ai/bots/genesis/models/20191206-011925.tar.gz\n",
      "INFO:tensorflow:Restoring parameters from /var/folders/fv/7k1qk5v11dn33sdcngv2wbnm0000gn/T/tmpjfv_oq2w/nlu/component_6_EmbeddingIntentClassifier.ckpt\n"
     ]
    },
    {
     "data": {
      "text/plain": [
       "[{'recipient_id': 'my', 'custom': {'result': 'log ok'}}]"
      ]
     },
     "execution_count": 27,
     "metadata": {},
     "output_type": "execute_result"
    }
   ],
   "source": [
    "bot_loc=get_latest_model(f\"{bot_locs[bot]}/models\")\n",
    "print(f'.. load bot model {bot_loc}')\n",
    "agent = Agent.load(bot_loc, action_endpoint=endpoint)\n",
    "\n",
    "# await agent.handle_text(\"do you have any restaurants\")\n",
    "# await agent.handle_text(\"hello\")\n",
    "text = '/behave_purpose{\"object_type\": \"restaurant\", \"sents\":\"%s\"}'%\"do you have any restaurants\"\n",
    "message = UserMessage(text, sender_id=\"my\")\n",
    "result = await agent.handle_message(message)\n",
    "result"
   ]
  }
 ],
 "metadata": {
  "kernelspec": {
   "display_name": "Python 3",
   "language": "python",
   "name": "python3"
  },
  "language_info": {
   "codemirror_mode": {
    "name": "ipython",
    "version": 3
   },
   "file_extension": ".py",
   "mimetype": "text/x-python",
   "name": "python",
   "nbconvert_exporter": "python",
   "pygments_lexer": "ipython3",
   "version": "3.6.9"
  },
  "varInspector": {
   "cols": {
    "lenName": 16,
    "lenType": 16,
    "lenVar": 40
   },
   "kernels_config": {
    "python": {
     "delete_cmd_postfix": "",
     "delete_cmd_prefix": "del ",
     "library": "var_list.py",
     "varRefreshCmd": "print(var_dic_list())"
    },
    "r": {
     "delete_cmd_postfix": ") ",
     "delete_cmd_prefix": "rm(",
     "library": "var_list.r",
     "varRefreshCmd": "cat(var_dic_list()) "
    }
   },
   "types_to_exclude": [
    "module",
    "function",
    "builtin_function_or_method",
    "instance",
    "_Feature"
   ],
   "window_display": false
  }
 },
 "nbformat": 4,
 "nbformat_minor": 2
}
