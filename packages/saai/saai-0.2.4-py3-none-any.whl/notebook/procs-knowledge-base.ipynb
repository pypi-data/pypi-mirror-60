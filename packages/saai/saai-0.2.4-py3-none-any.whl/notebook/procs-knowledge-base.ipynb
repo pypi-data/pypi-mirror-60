{
 "cells": [
  {
   "cell_type": "code",
   "execution_count": 1,
   "metadata": {
    "ExecuteTime": {
     "end_time": "2019-11-26T14:18:17.230001Z",
     "start_time": "2019-11-26T14:18:17.197564Z"
    }
   },
   "outputs": [],
   "source": [
    "from rasa_sdk.knowledge_base.storage import InMemoryKnowledgeBase"
   ]
  },
  {
   "cell_type": "code",
   "execution_count": 4,
   "metadata": {
    "ExecuteTime": {
     "end_time": "2019-11-26T14:21:45.717193Z",
     "start_time": "2019-11-26T14:21:45.683949Z"
    }
   },
   "outputs": [
    {
     "name": "stdout",
     "output_type": "stream",
     "text": [
      "/Users/xiaofeiwu/jcloud/assets/langs/workspace/rasa/rasa-1.x/ws/sagas-ai/data\n"
     ]
    }
   ],
   "source": [
    "import json\n",
    "import py\n",
    "\n",
    "DATA = {\n",
    "    \"restaurant\": [\n",
    "        {\"id\": 1, \"name\": \"PastaBar\", \"cuisine\": \"Italian\", \"wifi\": False},\n",
    "        {\"id\": 2, \"name\": \"Berlin Burrito Company\", \"cuisine\": \"Mexican\", \"wifi\": True},\n",
    "        {\"id\": 3, \"name\": \"I due forni\", \"cuisine\": \"Italian\", \"wifi\": False},\n",
    "    ]\n",
    "}\n",
    "\n",
    "def data_file(tmpdir):\n",
    "    data_file = str(tmpdir.mkdir(\"knowledge-base\").join(\"data.json\"))\n",
    "    with open(data_file, \"w\", encoding=\"utf-8\") as outfile:\n",
    "        json.dump(DATA, outfile)\n",
    "    return data_file\n",
    "\n",
    "tmpdir=py.path.local('data')\n",
    "print(tmpdir)\n",
    "file=data_file(tmpdir)"
   ]
  },
  {
   "cell_type": "code",
   "execution_count": 5,
   "metadata": {
    "ExecuteTime": {
     "end_time": "2019-11-26T14:22:34.465059Z",
     "start_time": "2019-11-26T14:22:34.455801Z"
    }
   },
   "outputs": [
    {
     "name": "stdout",
     "output_type": "stream",
     "text": [
      "/Users/xiaofeiwu/jcloud/assets/langs/workspace/rasa/rasa-1.x/ws/sagas-ai/data/knowledge-base/data.json\n"
     ]
    }
   ],
   "source": [
    "print(file)"
   ]
  },
  {
   "cell_type": "code",
   "execution_count": 9,
   "metadata": {
    "ExecuteTime": {
     "end_time": "2019-11-26T14:25:50.140196Z",
     "start_time": "2019-11-26T14:25:50.115225Z"
    }
   },
   "outputs": [
    {
     "name": "stdout",
     "output_type": "stream",
     "text": [
      "[{'cuisine': 'Mexican',\n",
      "  'id': 2,\n",
      "  'name': 'Berlin Burrito Company',\n",
      "  'wifi': True}]\n"
     ]
    }
   ],
   "source": [
    "from pprint import pprint\n",
    "def query_kb(tup):\n",
    "    object_type,attributes,expected_length=tup\n",
    "    knowledge_base = InMemoryKnowledgeBase(file)\n",
    "    entities = knowledge_base.get_objects(\n",
    "        object_type=object_type, attributes=attributes\n",
    "    )\n",
    "    pprint(entities)\n",
    "\n",
    "query_kb((\"restaurant\", [{\"name\": \"wifi\", \"value\": True}], 1))"
   ]
  },
  {
   "cell_type": "code",
   "execution_count": 10,
   "metadata": {
    "ExecuteTime": {
     "end_time": "2019-11-26T14:25:52.643596Z",
     "start_time": "2019-11-26T14:25:52.634478Z"
    }
   },
   "outputs": [
    {
     "name": "stdout",
     "output_type": "stream",
     "text": [
      "[{'cuisine': 'Mexican',\n",
      "  'id': 2,\n",
      "  'name': 'Berlin Burrito Company',\n",
      "  'wifi': True},\n",
      " {'cuisine': 'Italian', 'id': 3, 'name': 'I due forni', 'wifi': False},\n",
      " {'cuisine': 'Italian', 'id': 1, 'name': 'PastaBar', 'wifi': False}]\n"
     ]
    }
   ],
   "source": [
    "query_kb((\"restaurant\", [], 3))"
   ]
  },
  {
   "cell_type": "code",
   "execution_count": 12,
   "metadata": {
    "ExecuteTime": {
     "end_time": "2019-11-26T14:26:48.478974Z",
     "start_time": "2019-11-26T14:26:48.463797Z"
    }
   },
   "outputs": [
    {
     "name": "stdout",
     "output_type": "stream",
     "text": [
      "[]\n"
     ]
    }
   ],
   "source": [
    "query_kb((\"hotel\", [], 0))"
   ]
  },
  {
   "cell_type": "code",
   "execution_count": 13,
   "metadata": {
    "ExecuteTime": {
     "end_time": "2019-11-26T14:27:06.140486Z",
     "start_time": "2019-11-26T14:27:06.116456Z"
    }
   },
   "outputs": [
    {
     "name": "stdout",
     "output_type": "stream",
     "text": [
      "[{'cuisine': 'Italian', 'id': 3, 'name': 'I due forni', 'wifi': False},\n",
      " {'cuisine': 'Italian', 'id': 1, 'name': 'PastaBar', 'wifi': False}]\n"
     ]
    }
   ],
   "source": [
    "query_kb((\"restaurant\", [{\"name\": \"cuisine\", \"value\": \"Italian\"}], 2))"
   ]
  },
  {
   "cell_type": "code",
   "execution_count": 16,
   "metadata": {
    "ExecuteTime": {
     "end_time": "2019-11-26T14:50:43.660124Z",
     "start_time": "2019-11-26T14:50:43.650189Z"
    }
   },
   "outputs": [
    {
     "name": "stdout",
     "output_type": "stream",
     "text": [
      "{'id': 1, 'name': 'PastaBar', 'cuisine': 'Italian', 'wifi': False}\n",
      "{'id': 2, 'name': 'Berlin Burrito Company', 'cuisine': 'Mexican', 'wifi': True}\n",
      "None\n",
      "None\n"
     ]
    }
   ],
   "source": [
    "paras=[\n",
    "        (\n",
    "            \"restaurant\",\n",
    "            \"1\",\n",
    "            {\"id\": 1, \"name\": \"PastaBar\", \"cuisine\": \"Italian\", \"wifi\": False},\n",
    "        ),\n",
    "        (\n",
    "            \"restaurant\",\n",
    "            \"Burrito Company\",\n",
    "            {\n",
    "                \"id\": 2,\n",
    "                \"name\": \"Berlin Burrito Company\",\n",
    "                \"cuisine\": \"Mexican\",\n",
    "                \"wifi\": True,\n",
    "            },\n",
    "        ),\n",
    "        (\"restaurant\", \"non-existing\", None),\n",
    "        (\"hotel\", None, None),\n",
    "    ]\n",
    "knowledge_base = InMemoryKnowledgeBase(file)\n",
    "for pa in paras:\n",
    "    object_type,object_identifier,expected_value=pa\n",
    "    actual_value = knowledge_base.get_object(\n",
    "        object_type=object_type, object_identifier=object_identifier\n",
    "    )\n",
    "    print(actual_value)"
   ]
  },
  {
   "cell_type": "code",
   "execution_count": 17,
   "metadata": {
    "ExecuteTime": {
     "end_time": "2019-11-26T14:51:59.428931Z",
     "start_time": "2019-11-26T14:51:59.411704Z"
    }
   },
   "outputs": [
    {
     "name": "stdout",
     "output_type": "stream",
     "text": [
      "['id', 'name', 'cuisine', 'wifi']\n"
     ]
    }
   ],
   "source": [
    "object_type,expected_attributes=(\"restaurant\", [\"id\", \"name\", \"cuisine\", \"wifi\"])\n",
    "print(knowledge_base.get_attributes_of_object(object_type=object_type))"
   ]
  },
  {
   "cell_type": "code",
   "execution_count": null,
   "metadata": {},
   "outputs": [],
   "source": []
  }
 ],
 "metadata": {
  "kernelspec": {
   "display_name": "Python 3",
   "language": "python",
   "name": "python3"
  },
  "language_info": {
   "codemirror_mode": {
    "name": "ipython",
    "version": 3
   },
   "file_extension": ".py",
   "mimetype": "text/x-python",
   "name": "python",
   "nbconvert_exporter": "python",
   "pygments_lexer": "ipython3",
   "version": "3.6.9"
  },
  "varInspector": {
   "cols": {
    "lenName": 16,
    "lenType": 16,
    "lenVar": 40
   },
   "kernels_config": {
    "python": {
     "delete_cmd_postfix": "",
     "delete_cmd_prefix": "del ",
     "library": "var_list.py",
     "varRefreshCmd": "print(var_dic_list())"
    },
    "r": {
     "delete_cmd_postfix": ") ",
     "delete_cmd_prefix": "rm(",
     "library": "var_list.r",
     "varRefreshCmd": "cat(var_dic_list()) "
    }
   },
   "types_to_exclude": [
    "module",
    "function",
    "builtin_function_or_method",
    "instance",
    "_Feature"
   ],
   "window_display": false
  }
 },
 "nbformat": 4,
 "nbformat_minor": 2
}
