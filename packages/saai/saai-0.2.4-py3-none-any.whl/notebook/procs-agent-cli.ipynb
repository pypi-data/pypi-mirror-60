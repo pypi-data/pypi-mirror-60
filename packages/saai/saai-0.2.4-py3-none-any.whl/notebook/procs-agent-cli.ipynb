{
 "cells": [
  {
   "cell_type": "code",
   "execution_count": 6,
   "metadata": {
    "ExecuteTime": {
     "end_time": "2019-12-05T18:20:45.355022Z",
     "start_time": "2019-12-05T18:20:45.326603Z"
    },
    "scrolled": true
   },
   "outputs": [
    {
     "name": "stdout",
     "output_type": "stream",
     "text": [
      "200\n"
     ]
    },
    {
     "data": {
      "text/plain": [
       "{'method': 'post',\n",
       " 'info': 'info_path',\n",
       " 'data': {'mod': 'genesis', 'lang': 'en', 'sents': 'hi'},\n",
       " 'headers': {'Host': 'localhost:18099',\n",
       "  'User-Agent': 'python-requests/2.22.0',\n",
       "  'Accept-Encoding': 'gzip, deflate',\n",
       "  'Accept': '*/*',\n",
       "  'Connection': 'keep-alive',\n",
       "  'Content-Length': '47',\n",
       "  'Content-Type': 'application/json'}}"
      ]
     },
     "execution_count": 6,
     "metadata": {},
     "output_type": "execute_result"
    }
   ],
   "source": [
    "# POST - http://localhost:18099/post/path\n",
    "#         body(json) - {\"x\":5}\n",
    "import requests\n",
    "from sagas.conf.conf import cf\n",
    "\n",
    "lang='en'\n",
    "sents='hi'\n",
    "\n",
    "data = {'mod':'genesis', 'lang': lang, \"sents\": sents}\n",
    "response = requests.post(f'http://localhost:18099/post/info_path', json=data)\n",
    "print(response.status_code)\n",
    "response.json()"
   ]
  },
  {
   "cell_type": "code",
   "execution_count": 11,
   "metadata": {
    "ExecuteTime": {
     "end_time": "2019-12-05T20:59:33.996357Z",
     "start_time": "2019-12-05T20:59:33.907853Z"
    }
   },
   "outputs": [
    {
     "name": "stdout",
     "output_type": "stream",
     "text": [
      "200\n"
     ]
    },
    {
     "data": {
      "text/plain": [
       "[{'recipient_id': 'my',\n",
       "  'custom': {'result': 'log ok', 'sents': 'do you have any restaurants'}}]"
      ]
     },
     "execution_count": 11,
     "metadata": {},
     "output_type": "execute_result"
    }
   ],
   "source": [
    "# sents='/behave_purpose{\"object_type\": \"restaurant\"}'\n",
    "text = '/behave_purpose{\"object_type\": \"restaurant\", \"sents\":\"%s\"}'%\"do you have any restaurants\"\n",
    "data = {'mod':'genesis', 'lang': lang, \"sents\": text}\n",
    "response = requests.post(f'http://localhost:18099/message/my', json=data)\n",
    "print(response.status_code)\n",
    "response.json()"
   ]
  },
  {
   "cell_type": "code",
   "execution_count": null,
   "metadata": {},
   "outputs": [],
   "source": []
  }
 ],
 "metadata": {
  "kernelspec": {
   "display_name": "Python 3",
   "language": "python",
   "name": "python3"
  },
  "language_info": {
   "codemirror_mode": {
    "name": "ipython",
    "version": 3
   },
   "file_extension": ".py",
   "mimetype": "text/x-python",
   "name": "python",
   "nbconvert_exporter": "python",
   "pygments_lexer": "ipython3",
   "version": "3.6.9"
  },
  "varInspector": {
   "cols": {
    "lenName": 16,
    "lenType": 16,
    "lenVar": 40
   },
   "kernels_config": {
    "python": {
     "delete_cmd_postfix": "",
     "delete_cmd_prefix": "del ",
     "library": "var_list.py",
     "varRefreshCmd": "print(var_dic_list())"
    },
    "r": {
     "delete_cmd_postfix": ") ",
     "delete_cmd_prefix": "rm(",
     "library": "var_list.r",
     "varRefreshCmd": "cat(var_dic_list()) "
    }
   },
   "types_to_exclude": [
    "module",
    "function",
    "builtin_function_or_method",
    "instance",
    "_Feature"
   ],
   "window_display": false
  }
 },
 "nbformat": 4,
 "nbformat_minor": 2
}
