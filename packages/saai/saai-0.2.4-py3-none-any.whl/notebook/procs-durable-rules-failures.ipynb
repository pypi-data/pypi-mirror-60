{
 "cells": [
  {
   "cell_type": "code",
   "execution_count": 2,
   "metadata": {
    "ExecuteTime": {
     "end_time": "2019-12-16T20:12:56.959327Z",
     "start_time": "2019-12-16T20:12:56.946159Z"
    }
   },
   "outputs": [
    {
     "name": "stdout",
     "output_type": "stream",
     "text": [
      "test-> Hello World\n"
     ]
    },
    {
     "data": {
      "text/plain": [
       "{'sid': '0', 'id': 'sid-0', '$s': 1, 'type': True}"
      ]
     },
     "execution_count": 2,
     "metadata": {},
     "output_type": "execute_result"
    }
   ],
   "source": [
    "from sagas.nlu.ruleset_procs import create_host\n",
    "from durable.lang import *\n",
    "import threading\n",
    "import time\n",
    "import datetime\n",
    "\n",
    "def is_world(s, val):\n",
    "    return s == val\n",
    "    \n",
    "with ruleset('test'):\n",
    "    # antecedent\n",
    "    @when_all(+m.subject)\n",
    "    def say_hello(c):\n",
    "        c.s.type=is_world(c.m.subject, 'World')\n",
    "        print('test-> Hello {0}'.format(c.m.subject))\n",
    "    \n",
    "#     @when_all(s.type==True)\n",
    "#     def check_result(c):\n",
    "#         print('result {0}'.format(c.s.type))\n",
    "\n",
    "host = create_host()\n",
    "host.post('test', { 'subject': 'World' })"
   ]
  }
 ],
 "metadata": {
  "kernelspec": {
   "display_name": "Python 3",
   "language": "python",
   "name": "python3"
  },
  "varInspector": {
   "cols": {
    "lenName": 16,
    "lenType": 16,
    "lenVar": 40
   },
   "kernels_config": {
    "python": {
     "delete_cmd_postfix": "",
     "delete_cmd_prefix": "del ",
     "library": "var_list.py",
     "varRefreshCmd": "print(var_dic_list())"
    },
    "r": {
     "delete_cmd_postfix": ") ",
     "delete_cmd_prefix": "rm(",
     "library": "var_list.r",
     "varRefreshCmd": "cat(var_dic_list()) "
    }
   },
   "types_to_exclude": [
    "module",
    "function",
    "builtin_function_or_method",
    "instance",
    "_Feature"
   ],
   "window_display": false
  }
 },
 "nbformat": 4,
 "nbformat_minor": 2
}
