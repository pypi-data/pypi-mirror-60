{
 "cells": [
  {
   "cell_type": "code",
   "execution_count": 18,
   "metadata": {
    "ExecuteTime": {
     "end_time": "2019-12-31T08:55:31.229358Z",
     "start_time": "2019-12-31T08:55:31.151707Z"
    }
   },
   "outputs": [
    {
     "data": {
      "text/plain": [
       "[{'start': 2, 'end': 4, 'value': '北京', 'entity': 'LOC', 'confidence': None},\n",
       " {'start': 4, 'end': 7, 'value': '天安门', 'entity': 'LOC', 'confidence': None}]"
      ]
     },
     "execution_count": 18,
     "metadata": {},
     "output_type": "execute_result"
    }
   ],
   "source": [
    "def extract_entities(sents):\n",
    "    import jieba.posseg as pseg\n",
    "    words = pseg.cut(sents,use_paddle=True)\n",
    "    tokens=[(word, flag) for word, flag in words]\n",
    "    running_offset = 0\n",
    "    rs = []\n",
    "    for token in tokens:\n",
    "        word = token[0]\n",
    "        word_offset = sents.index(word, running_offset)\n",
    "        word_len = len(word)\n",
    "        running_offset = word_offset + word_len\n",
    "        rs.append({\"start\": word_offset,\n",
    "                   \"end\": running_offset,\n",
    "                   'value': word,\n",
    "                   'entity': token[1],\n",
    "                   \"confidence\": None,\n",
    "                   })\n",
    "    return [w for w in rs if w['entity'] in {'PER', 'LOC', 'ORG', 'TIME'}]\n",
    "\n",
    "extract_entities(\"我爱北京天安门\")"
   ]
  },
  {
   "cell_type": "code",
   "execution_count": 19,
   "metadata": {
    "ExecuteTime": {
     "end_time": "2019-12-31T08:57:49.866668Z",
     "start_time": "2019-12-31T08:57:49.802327Z"
    }
   },
   "outputs": [
    {
     "data": {
      "text/plain": [
       "我爱北京天安门\n",
       "  LOLOC\n"
      ]
     },
     "metadata": {},
     "output_type": "display_data"
    }
   ],
   "source": [
    "from ipymarkup import show_ascii_markup\n",
    "text=\"我爱北京天安门\"\n",
    "spans=[(w['start'], w['end'], w['entity']) for w in extract_entities(text)]\n",
    "show_ascii_markup(text, spans)"
   ]
  },
  {
   "cell_type": "code",
   "execution_count": 20,
   "metadata": {
    "ExecuteTime": {
     "end_time": "2019-12-31T08:58:26.207606Z",
     "start_time": "2019-12-31T08:58:26.196157Z"
    }
   },
   "outputs": [
    {
     "data": {
      "text/html": [
       "<div class=\"tex2jax_ignore\" style=\"white-space: pre-wrap\">我爱<span style=\"padding: 2px; border-radius: 4px; border: 1px solid #c8e6c9; background: #e8f5e9\">北京<span style=\"vertical-align: middle; margin-left: 2px; font-size: 0.7em; color: #66bb6a;\">LOC</span></span><span style=\"padding: 2px; border-radius: 4px; border: 1px solid #c8e6c9; background: #e8f5e9\">天安门<span style=\"vertical-align: middle; margin-left: 2px; font-size: 0.7em; color: #66bb6a;\">LOC</span></span></div>"
      ],
      "text/plain": [
       "BoxMarkup('我爱北京天安门', [Span(2, 4, 'LOC'), Span(4, 7, 'LOC')])"
      ]
     },
     "metadata": {},
     "output_type": "display_data"
    }
   ],
   "source": [
    "from ipymarkup import show_box_markup\n",
    "from ipymarkup.palette import palette, BLUE, RED, GREEN\n",
    "\n",
    "show_box_markup(text, spans, palette=palette(PER=BLUE, ORG=RED, LOC=GREEN))"
   ]
  },
  {
   "cell_type": "code",
   "execution_count": 12,
   "metadata": {
    "ExecuteTime": {
     "end_time": "2019-12-30T19:59:21.193026Z",
     "start_time": "2019-12-30T19:59:21.174433Z"
    }
   },
   "outputs": [
    {
     "data": {
      "text/plain": [
       "[{'start': 10,\n",
       "  'end': 16,\n",
       "  'value': '纽约石溪大学',\n",
       "  'entity': 'ORG',\n",
       "  'confidence': None}]"
      ]
     },
     "execution_count": 12,
     "metadata": {},
     "output_type": "execute_result"
    }
   ],
   "source": [
    "# [(word, flag) for word, flag in words if flag in {'PER', 'LOC', 'ORG', 'TIME'}]\n",
    "extract_entities('Rami Eid正在纽约石溪大学学习')"
   ]
  },
  {
   "cell_type": "code",
   "execution_count": 13,
   "metadata": {
    "ExecuteTime": {
     "end_time": "2019-12-30T19:59:59.919856Z",
     "start_time": "2019-12-30T19:59:59.906673Z"
    }
   },
   "outputs": [
    {
     "data": {
      "text/plain": [
       "[{'start': 0,\n",
       "  'end': 9,\n",
       "  'value': '周四下午三点到五点',\n",
       "  'entity': 'TIME',\n",
       "  'confidence': None}]"
      ]
     },
     "execution_count": 13,
     "metadata": {},
     "output_type": "execute_result"
    }
   ],
   "source": [
    "extract_entities('周四下午三点到五点开会')"
   ]
  },
  {
   "cell_type": "code",
   "execution_count": 14,
   "metadata": {
    "ExecuteTime": {
     "end_time": "2019-12-30T20:00:20.267084Z",
     "start_time": "2019-12-30T20:00:20.248261Z"
    }
   },
   "outputs": [
    {
     "data": {
      "text/plain": [
       "[{'start': 0,\n",
       "  'end': 9,\n",
       "  'value': '7月10日晚上7点',\n",
       "  'entity': 'TIME',\n",
       "  'confidence': None},\n",
       " {'start': 12,\n",
       "  'end': 27,\n",
       "  'value': '六安市公安局裕安分局平桥派出所',\n",
       "  'entity': 'ORG',\n",
       "  'confidence': None},\n",
       " {'start': 33, 'end': 35, 'value': '戴某', 'entity': 'PER', 'confidence': None}]"
      ]
     },
     "execution_count": 14,
     "metadata": {},
     "output_type": "execute_result"
    }
   ],
   "source": [
    "extract_entities('7月10日晚上7点左右，六安市公安局裕安分局平桥派出所接到辖区居民戴某报警')"
   ]
  },
  {
   "cell_type": "code",
   "execution_count": 17,
   "metadata": {
    "ExecuteTime": {
     "end_time": "2019-12-31T04:07:46.730604Z",
     "start_time": "2019-12-31T04:07:46.717923Z"
    }
   },
   "outputs": [
    {
     "name": "stdout",
     "output_type": "stream",
     "text": [
      "word am\t\t start: 0 \t\t end:2\n",
      "word  \t\t start: 2 \t\t end:3\n",
      "word I\t\t start: 3 \t\t end:4\n",
      "word  \t\t start: 4 \t\t end:5\n",
      "word talking\t\t start: 5 \t\t end:12\n",
      "word  \t\t start: 12 \t\t end:13\n",
      "word to\t\t start: 13 \t\t end:15\n",
      "word  \t\t start: 15 \t\t end:16\n",
      "word a\t\t start: 16 \t\t end:17\n",
      "word  \t\t start: 17 \t\t end:18\n",
      "word bot\t\t start: 18 \t\t end:21\n",
      "word ?\t\t start: 21 \t\t end:22\n"
     ]
    }
   ],
   "source": [
    "import jieba\n",
    "result = jieba.tokenize('am I talking to a bot?')\n",
    "for tk in result:\n",
    "    print(\"word %s\\t\\t start: %d \\t\\t end:%d\" % (tk[0],tk[1],tk[2]))"
   ]
  }
 ],
 "metadata": {
  "kernelspec": {
   "display_name": "Python 3",
   "language": "python",
   "name": "python3"
  },
  "language_info": {
   "codemirror_mode": {
    "name": "ipython",
    "version": 3
   },
   "file_extension": ".py",
   "mimetype": "text/x-python",
   "name": "python",
   "nbconvert_exporter": "python",
   "pygments_lexer": "ipython3",
   "version": "3.6.9"
  },
  "varInspector": {
   "cols": {
    "lenName": 16,
    "lenType": 16,
    "lenVar": 40
   },
   "kernels_config": {
    "python": {
     "delete_cmd_postfix": "",
     "delete_cmd_prefix": "del ",
     "library": "var_list.py",
     "varRefreshCmd": "print(var_dic_list())"
    },
    "r": {
     "delete_cmd_postfix": ") ",
     "delete_cmd_prefix": "rm(",
     "library": "var_list.r",
     "varRefreshCmd": "cat(var_dic_list()) "
    }
   },
   "types_to_exclude": [
    "module",
    "function",
    "builtin_function_or_method",
    "instance",
    "_Feature"
   ],
   "window_display": false
  }
 },
 "nbformat": 4,
 "nbformat_minor": 2
}
