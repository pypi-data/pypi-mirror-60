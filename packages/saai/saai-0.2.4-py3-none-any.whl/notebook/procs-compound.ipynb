{
 "cells": [
  {
   "cell_type": "code",
   "execution_count": 7,
   "metadata": {
    "ExecuteTime": {
     "end_time": "2019-12-16T16:05:33.258142Z",
     "start_time": "2019-12-16T16:05:33.225900Z"
    }
   },
   "outputs": [
    {
     "data": {
      "text/plain": [
       "[{'index': '3',\n",
       "  'text': 'tem',\n",
       "  'lemma': 'ter',\n",
       "  'upos': 'VERB',\n",
       "  'xpos': '_',\n",
       "  'feats': 'Mood=Ind|Number=Sing|Person=3|Tense=Pres|VerbForm=Fin',\n",
       "  'governor': 0,\n",
       "  'dependency_relation': 'root',\n",
       "  'punct': [{'index': '7',\n",
       "    'text': '.',\n",
       "    'lemma': '.',\n",
       "    'upos': 'PUNCT',\n",
       "    'xpos': '_',\n",
       "    'feats': '_',\n",
       "    'governor': 3,\n",
       "    'dependency_relation': 'punct'}],\n",
       "  'obj': [{'index': '5',\n",
       "    'text': 'olhos',\n",
       "    'lemma': 'olho',\n",
       "    'upos': 'NOUN',\n",
       "    'xpos': '_',\n",
       "    'feats': 'Gender=Masc|Number=Plur',\n",
       "    'governor': 3,\n",
       "    'dependency_relation': 'obj',\n",
       "    'nummod': [{'index': '4',\n",
       "      'text': 'quatro',\n",
       "      'lemma': 'quatro',\n",
       "      'upos': 'NUM',\n",
       "      'xpos': '_',\n",
       "      'feats': 'NumType=Card',\n",
       "      'governor': 5,\n",
       "      'dependency_relation': 'nummod'}],\n",
       "    'amod': [{'index': '6',\n",
       "      'text': 'direitos',\n",
       "      'lemma': 'direito',\n",
       "      'upos': 'ADJ',\n",
       "      'xpos': '_',\n",
       "      'feats': 'Gender=Masc|Number=Plur',\n",
       "      'governor': 5,\n",
       "      'dependency_relation': 'amod'}]}],\n",
       "  'nsubj': [{'index': '2',\n",
       "    'text': 'aranha',\n",
       "    'lemma': 'aranhar',\n",
       "    'upos': 'NOUN',\n",
       "    'xpos': '_',\n",
       "    'feats': 'Gender=Fem|Number=Sing',\n",
       "    'governor': 3,\n",
       "    'dependency_relation': 'nsubj',\n",
       "    'det': [{'index': '1',\n",
       "      'text': 'Uma',\n",
       "      'lemma': 'um',\n",
       "      'upos': 'DET',\n",
       "      'xpos': '_',\n",
       "      'feats': 'Definite=Ind|Gender=Fem|Number=Sing|PronType=Art',\n",
       "      'governor': 2,\n",
       "      'dependency_relation': 'det'}]}]}]"
      ]
     },
     "execution_count": 7,
     "metadata": {},
     "output_type": "execute_result"
    }
   ],
   "source": [
    "from sagas.nlu.ruleset_procs import get_verb_domain, parse_sents\n",
    "\n",
    "# sents=\"A spider has four right eyes.\"\n",
    "# lang='en'\n",
    "\n",
    "sents=\"Uma aranha tem quatro olhos direitos.\"\n",
    "lang='pt'\n",
    "\n",
    "data = {'lang': lang, \"sents\": sents, 'engine': 'corenlp'}\n",
    "doc_jsonify, resp = parse_sents(data)\n",
    "v_domains=get_verb_domain(doc_jsonify)\n",
    "v_domains"
   ]
  },
  {
   "cell_type": "code",
   "execution_count": 15,
   "metadata": {
    "ExecuteTime": {
     "end_time": "2019-12-16T11:24:43.405809Z",
     "start_time": "2019-12-16T11:24:43.395807Z"
    }
   },
   "outputs": [
    {
     "data": {
      "text/plain": [
       "\"olho_noun ['amod:direito_adj', 'nummod:quatro_num']\""
      ]
     },
     "execution_count": 15,
     "metadata": {},
     "output_type": "execute_result"
    }
   ],
   "source": [
    "obj=v_domains[0]['obj'][0]\n",
    "comps=[]\n",
    "for k,c in obj.items():\n",
    "    if isinstance(c, list):\n",
    "        comps.append((k, [f\"{citem['lemma']}_{citem['upos'].lower()}\" for citem in c]))\n",
    "comps_str=[f\"{c[0]}:{','.join(c[1])}\" for c in comps]\n",
    "f\"{obj['lemma']}_{obj['upos'].lower()} {comps_str}\""
   ]
  },
  {
   "cell_type": "code",
   "execution_count": 2,
   "metadata": {
    "ExecuteTime": {
     "end_time": "2019-12-16T11:39:57.301318Z",
     "start_time": "2019-12-16T11:39:57.127086Z"
    }
   },
   "outputs": [
    {
     "name": "stdout",
     "output_type": "stream",
     "text": [
      ".. request is {'lang': 'ja', 'sents': 'クモは4つの右の目をしています。', 'engine': 'corenlp', 'pipelines': ['predicts']}\n",
      "[{'aux': [{'dependency_relation': 'aux',\n",
      "           'feats': '_',\n",
      "           'governor': 10,\n",
      "           'index': '12',\n",
      "           'lemma': 'いる',\n",
      "           'text': 'い',\n",
      "           'upos': 'AUX',\n",
      "           'xpos': '_'},\n",
      "          {'dependency_relation': 'aux',\n",
      "           'feats': '_',\n",
      "           'governor': 10,\n",
      "           'index': '13',\n",
      "           'lemma': 'ます',\n",
      "           'text': 'ます',\n",
      "           'upos': 'AUX',\n",
      "           'xpos': '_'}],\n",
      "  'dependency_relation': 'root',\n",
      "  'feats': '_',\n",
      "  'governor': 0,\n",
      "  'index': '10',\n",
      "  'lemma': 'する',\n",
      "  'mark': [{'dependency_relation': 'mark',\n",
      "            'feats': '_',\n",
      "            'governor': 10,\n",
      "            'index': '11',\n",
      "            'lemma': 'て',\n",
      "            'text': 'て',\n",
      "            'upos': 'SCONJ',\n",
      "            'xpos': '_'}],\n",
      "  'nsubj': [{'case': [{'dependency_relation': 'case',\n",
      "                       'feats': '_',\n",
      "                       'governor': 1,\n",
      "                       'index': '2',\n",
      "                       'lemma': 'は',\n",
      "                       'text': 'は',\n",
      "                       'upos': 'ADP',\n",
      "                       'xpos': '_'}],\n",
      "             'dependency_relation': 'nsubj',\n",
      "             'feats': '_',\n",
      "             'governor': 10,\n",
      "             'index': '1',\n",
      "             'lemma': 'クモ',\n",
      "             'text': 'クモ',\n",
      "             'upos': 'NOUN',\n",
      "             'xpos': '_'}],\n",
      "  'obj': [{'case': [{'dependency_relation': 'case',\n",
      "                     'feats': '_',\n",
      "                     'governor': 8,\n",
      "                     'index': '9',\n",
      "                     'lemma': 'を',\n",
      "                     'text': 'を',\n",
      "                     'upos': 'ADP',\n",
      "                     'xpos': '_'}],\n",
      "           'dependency_relation': 'obj',\n",
      "           'feats': '_',\n",
      "           'governor': 10,\n",
      "           'index': '8',\n",
      "           'lemma': '目',\n",
      "           'nmod': [{'dependency_relation': 'nmod',\n",
      "                     'feats': '_',\n",
      "                     'governor': 8,\n",
      "                     'index': '6',\n",
      "                     'lemma': '右',\n",
      "                     'text': '右',\n",
      "                     'upos': 'NOUN',\n",
      "                     'xpos': '_'}],\n",
      "           'text': '目',\n",
      "           'upos': 'NOUN',\n",
      "           'xpos': '_'}],\n",
      "  'punct': [{'dependency_relation': 'punct',\n",
      "             'feats': '_',\n",
      "             'governor': 10,\n",
      "             'index': '14',\n",
      "             'lemma': '。',\n",
      "             'text': '。',\n",
      "             'upos': 'PUNCT',\n",
      "             'xpos': '_'}],\n",
      "  'text': 'し',\n",
      "  'upos': 'VERB',\n",
      "  'xpos': '_'}]\n"
     ]
    }
   ],
   "source": [
    "def print_domains(sents, lang):\n",
    "    from pprint import pprint\n",
    "    data = {'lang': lang, \"sents\": sents, 'engine': 'corenlp'}\n",
    "    doc_jsonify, resp = parse_sents(data)\n",
    "    v_domains=get_verb_domain(doc_jsonify)\n",
    "    pprint(v_domains)\n",
    "\n",
    "print_domains(\"クモは4つの右の目をしています。\", 'ja')"
   ]
  },
  {
   "cell_type": "code",
   "execution_count": 6,
   "metadata": {
    "ExecuteTime": {
     "end_time": "2019-12-16T11:54:19.350225Z",
     "start_time": "2019-12-16T11:54:19.326423Z"
    }
   },
   "outputs": [
    {
     "name": "stdout",
     "output_type": "stream",
     "text": [
      "olho_noun ['nummod:quatro_num', 'amod:direito_adj']\n",
      "eye_noun ['nummod:four_num', 'amod:right_adj']\n",
      "目_noun ['case:を_adp', 'nmod:右_noun']\n",
      ".. request is {'lang': 'pt', 'sents': 'Ela lava os braços do macaco.', 'engine': 'corenlp', 'pipelines': ['predicts']}\n",
      "braço_noun ['det:o_det', 'nmod:macaco_noun']\n"
     ]
    }
   ],
   "source": [
    "def digest(sents, lang, comp='obj'):\n",
    "    data = {'lang': lang, \"sents\": sents, 'engine': 'corenlp'}\n",
    "    doc_jsonify, resp = parse_sents(data)\n",
    "    v_domains=get_verb_domain(doc_jsonify)\n",
    "    if len(v_domains)>0 and comp in v_domains[0]:\n",
    "        obj=v_domains[0][comp][0]\n",
    "        comps=[]\n",
    "        for k,c in obj.items():\n",
    "            if isinstance(c, list):\n",
    "                comps.append((k, [f\"{citem['lemma']}_{citem['upos'].lower()}\" for citem in c]))\n",
    "        comps_str=[f\"{c[0]}:{','.join(c[1])}\" for c in comps]\n",
    "        return f\"{obj['lemma']}_{obj['upos'].lower()} {comps_str}\"\n",
    "    return \"\"\n",
    "\n",
    "print(digest(\"Uma aranha tem quatro olhos direitos.\", 'pt'))\n",
    "print(digest(\"A spider has four right eyes.\", 'en'))\n",
    "print(digest(\"クモは4つの右の目をしています。\", 'ja'))\n",
    "print(digest(\"Ela lava os braços do macaco.\", \"pt\"))"
   ]
  },
  {
   "cell_type": "code",
   "execution_count": 22,
   "metadata": {
    "ExecuteTime": {
     "end_time": "2019-12-16T11:35:20.335776Z",
     "start_time": "2019-12-16T11:35:20.313205Z"
    }
   },
   "outputs": [
    {
     "name": "stdout",
     "output_type": "stream",
     "text": [
      ".. request is {'lang': 'ja', 'sents': 'クモは4つの右の目をしています。', 'engine': 'corenlp', 'pipelines': []}\n"
     ]
    },
    {
     "data": {
      "text/plain": [
       "[{'type': 'verb_domains',\n",
       "  'word': 'し',\n",
       "  'lemma': 'する',\n",
       "  'index': '10',\n",
       "  'upos': 'verb',\n",
       "  'xpos': '_',\n",
       "  'rel': 'root',\n",
       "  'governor': 0,\n",
       "  'domains': [('nsubj', '1', 'クモ', 'クモ', ['クモ', 'は'], ['c_noun']),\n",
       "   ('obj', '8', '目', '目', ['4', 'つ', 'の', '右', 'の', '目', 'を'], ['c_noun']),\n",
       "   ('mark', '11', 'て', 'て', ['て'], ['c_sconj']),\n",
       "   ('aux', '12', 'い', 'いる', ['い'], ['c_aux']),\n",
       "   ('aux', '13', 'ます', 'ます', ['ます'], ['c_aux']),\n",
       "   ('punct', '14', '。', '。', ['。'], ['c_punct'])],\n",
       "  'stems': [('nsubj', ['クモ', 'は']),\n",
       "   ('obj', ['4', 'つ', 'の', '右', 'の', '目', 'を']),\n",
       "   ('mark', ['て']),\n",
       "   ('aux', ['いる']),\n",
       "   ('aux', ['ます']),\n",
       "   ('punct', ['。'])]}]"
      ]
     },
     "execution_count": 22,
     "metadata": {},
     "output_type": "execute_result"
    }
   ],
   "source": [
    "from sagas.nlu.uni_remote import dep_parse\n",
    "from sagas.nlu.corenlp_parser import get_chunks\n",
    "\n",
    "doc,_=dep_parse(\"クモは4つの右の目をしています。\", 'ja', 'corenlp')\n",
    "rs = get_chunks(doc)\n",
    "rs"
   ]
  },
  {
   "cell_type": "code",
   "execution_count": 21,
   "metadata": {
    "ExecuteTime": {
     "end_time": "2019-12-16T16:39:48.704867Z",
     "start_time": "2019-12-16T16:39:48.668982Z"
    }
   },
   "outputs": [
    {
     "name": "stderr",
     "output_type": "stream",
     "text": [
      "DEBUG:root:root: 1, Papan(NOUN)\n",
      "DEBUG:root:compound: tulis\n",
      "DEBUG:root:amod: baru\n",
      "DEBUG:root:punct: .\n"
     ]
    },
    {
     "name": "stdout",
     "output_type": "stream",
     "text": [
      "[{'amod': [{'advmod': [{'dependency_relation': 'advmod',\n",
      "                        'feats': '_',\n",
      "                        'governor': 5,\n",
      "                        'index': '4',\n",
      "                        'lemma': 'masih',\n",
      "                        'text': 'masih',\n",
      "                        'upos': 'ADV',\n",
      "                        'xpos': 'D--'}],\n",
      "            'dependency_relation': 'amod',\n",
      "            'feats': 'Degree=Pos|Number=Sing',\n",
      "            'governor': 1,\n",
      "            'index': '5',\n",
      "            'lemma': 'baru',\n",
      "            'text': 'baru',\n",
      "            'upos': 'ADJ',\n",
      "            'xpos': 'ASP'}],\n",
      "  'compound': [{'dependency_relation': 'compound',\n",
      "                'det': [{'dependency_relation': 'det',\n",
      "                         'feats': 'Clusivity=Ex|Number=Plur|Person=1|PronType=Prs',\n",
      "                         'governor': 2,\n",
      "                         'index': '3',\n",
      "                         'lemma': 'kami',\n",
      "                         'text': 'kami',\n",
      "                         'upos': 'PRON',\n",
      "                         'xpos': 'PP1'}],\n",
      "                'feats': 'Number=Sing|Voice=Act',\n",
      "                'governor': 1,\n",
      "                'index': '2',\n",
      "                'lemma': 'tulis',\n",
      "                'text': 'tulis',\n",
      "                'upos': 'NOUN',\n",
      "                'xpos': 'VSA'}],\n",
      "  'dependency_relation': 'root',\n",
      "  'feats': 'Number=Sing',\n",
      "  'governor': 0,\n",
      "  'index': '1',\n",
      "  'lemma': 'papan',\n",
      "  'punct': [{'dependency_relation': 'punct',\n",
      "             'feats': '_',\n",
      "             'governor': 1,\n",
      "             'index': '6',\n",
      "             'lemma': '.',\n",
      "             'text': '.',\n",
      "             'upos': 'PUNCT',\n",
      "             'xpos': 'Z--'}],\n",
      "  'text': 'Papan',\n",
      "  'upos': 'NOUN',\n",
      "  'xpos': 'NSD'}]\n",
      "* papan_noun\n",
      "** compound:tulis_noun ['det:kami_pron']\n",
      "** amod:baru_adj ['advmod:masih_adv']\n"
     ]
    }
   ],
   "source": [
    "import logging\n",
    "from sagas.nlu.ruleset_procs import group_by, children\n",
    "\n",
    "logger = logging.getLogger()\n",
    "logger.setLevel(logging.DEBUG)\n",
    "\n",
    "def get_root_domain(sent_p):\n",
    "    root = next(w for w in sent_p.words if w.dependency_relation in ('root', 'hed'))\n",
    "    logging.debug(f\"root: {root.index}, {root.text}({root.upos})\")\n",
    "    root_idx = int(root.index)\n",
    "    domains = []\n",
    "    stems = []\n",
    "    rs = []\n",
    "    for word in (w for w in sent_p.words if w.governor == root_idx):\n",
    "        # print(f\"{__name__}: {word.dependency_relation}: {word.text}\")\n",
    "        logging.debug(f\"{word.dependency_relation}: {word.text}\")\n",
    "        # add_domain(domains, stems, word, sent_p)\n",
    "        c=word\n",
    "        c_domains = [w.ctx for w in children(c, sent_p)]\n",
    "        domains.append({**c.ctx, **group_by(c_domains)})\n",
    "\n",
    "    word = root\n",
    "    token = {**word.ctx, **group_by(domains)}\n",
    "#     rs.append({'type': 'root_domains', 'word': word.text, 'lemma': word.lemma,\n",
    "#                'upos': word.upos.lower(), 'xpos': word.xpos.lower(),\n",
    "#                'rel': word.dependency_relation, 'governor': word.governor,\n",
    "#                'index': word.index, 'domains': domains, 'stems': stems})\n",
    "    rs.append(token)\n",
    "    return rs\n",
    "\n",
    "def print_root_domains(sents, lang, comps):\n",
    "    from pprint import pprint\n",
    "    data = {'lang': lang, \"sents\": sents, 'engine': 'corenlp'}\n",
    "    doc_jsonify, resp = parse_sents(data)\n",
    "    domains=get_root_domain(doc_jsonify)\n",
    "    pprint(domains)\n",
    "    \n",
    "    ###\n",
    "    root=domains[0]\n",
    "    print(f\"* {root['lemma']}_{root['upos'].lower()}\")\n",
    "    for comp in comps:\n",
    "        if comp in root:\n",
    "            obj=root[comp][0]\n",
    "            comps=[]\n",
    "            for k,c in obj.items():\n",
    "                if isinstance(c, list):\n",
    "                    comps.append((k, [f\"{citem['lemma']}_{citem['upos'].lower()}\" for citem in c]))\n",
    "            comps_str=[f\"{c[0]}:{','.join(c[1])}\" for c in comps]\n",
    "            print(f\"** {comp}:{obj['lemma']}_{obj['upos'].lower()} {comps_str}\")\n",
    "\n",
    "# our blackboard is still new.\n",
    "print_root_domains('Papan tulis kami masih baru.', 'id', ['compound', 'amod'])"
   ]
  }
 ],
 "metadata": {
  "kernelspec": {
   "display_name": "Python 3",
   "language": "python",
   "name": "python3"
  },
  "language_info": {
   "codemirror_mode": {
    "name": "ipython",
    "version": 3
   },
   "file_extension": ".py",
   "mimetype": "text/x-python",
   "name": "python",
   "nbconvert_exporter": "python",
   "pygments_lexer": "ipython3",
   "version": "3.6.9"
  },
  "varInspector": {
   "cols": {
    "lenName": 16,
    "lenType": 16,
    "lenVar": 40
   },
   "kernels_config": {
    "python": {
     "delete_cmd_postfix": "",
     "delete_cmd_prefix": "del ",
     "library": "var_list.py",
     "varRefreshCmd": "print(var_dic_list())"
    },
    "r": {
     "delete_cmd_postfix": ") ",
     "delete_cmd_prefix": "rm(",
     "library": "var_list.r",
     "varRefreshCmd": "cat(var_dic_list()) "
    }
   },
   "types_to_exclude": [
    "module",
    "function",
    "builtin_function_or_method",
    "instance",
    "_Feature"
   ],
   "window_display": false
  }
 },
 "nbformat": 4,
 "nbformat_minor": 2
}
