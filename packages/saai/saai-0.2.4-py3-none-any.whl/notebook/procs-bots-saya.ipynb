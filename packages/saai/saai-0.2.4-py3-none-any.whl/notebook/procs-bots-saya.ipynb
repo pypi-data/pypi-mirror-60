{
 "cells": [
  {
   "cell_type": "code",
   "execution_count": 1,
   "metadata": {
    "ExecuteTime": {
     "end_time": "2019-12-03T13:52:53.559141Z",
     "start_time": "2019-12-03T13:52:39.108658Z"
    }
   },
   "outputs": [
    {
     "name": "stdout",
     "output_type": "stream",
     "text": [
      ".. load bot model /pi/ws/sagas-ai/bots/saya/models/20191201-165323.tar.gz\n",
      "WARNING:tensorflow:From /Users/xiaofeiwu/miniconda3/envs/rasa/lib/python3.6/site-packages/tensor2tensor/utils/expert_utils.py:68: The name tf.variable_scope is deprecated. Please use tf.compat.v1.variable_scope instead.\n",
      "\n",
      "WARNING:tensorflow:\n",
      "The TensorFlow contrib module will not be included in TensorFlow 2.0.\n",
      "For more information, please see:\n",
      "  * https://github.com/tensorflow/community/blob/master/rfcs/20180907-contrib-sunset.md\n",
      "  * https://github.com/tensorflow/addons\n",
      "  * https://github.com/tensorflow/io (for I/O related ops)\n",
      "If you depend on functionality not listed there, please file an issue.\n",
      "\n",
      "WARNING:tensorflow:From /Users/xiaofeiwu/miniconda3/envs/rasa/lib/python3.6/site-packages/tensor2tensor/utils/adafactor.py:27: The name tf.train.Optimizer is deprecated. Please use tf.compat.v1.train.Optimizer instead.\n",
      "\n",
      "WARNING:tensorflow:From /Users/xiaofeiwu/miniconda3/envs/rasa/lib/python3.6/site-packages/tensor2tensor/utils/multistep_optimizer.py:32: The name tf.train.AdamOptimizer is deprecated. Please use tf.compat.v1.train.AdamOptimizer instead.\n",
      "\n",
      "WARNING:tensorflow:Failed to load tensor2tensor\n",
      "WARNING:tensorflow:From /Users/xiaofeiwu/miniconda3/envs/rasa/lib/python3.6/site-packages/tensor2tensor/models/research/glow_init_hook.py:25: The name tf.train.SessionRunHook is deprecated. Please use tf.estimator.SessionRunHook instead.\n",
      "\n",
      "WARNING:tensorflow:From /Users/xiaofeiwu/miniconda3/envs/rasa/lib/python3.6/site-packages/tensor2tensor/models/research/neural_stack.py:38: The name tf.nn.rnn_cell.RNNCell is deprecated. Please use tf.compat.v1.nn.rnn_cell.RNNCell instead.\n",
      "\n",
      "WARNING:tensorflow:From /Users/xiaofeiwu/miniconda3/envs/rasa/lib/python3.6/site-packages/tensor2tensor/rl/gym_utils.py:235: The name tf.logging.info is deprecated. Please use tf.compat.v1.logging.info instead.\n",
      "\n",
      "INFO:tensorflow:Entry Point [tensor2tensor.envs.tic_tac_toe_env:TicTacToeEnv] registered with id [T2TEnv-TicTacToeEnv-v0]\n",
      "WARNING:tensorflow:From /Users/xiaofeiwu/miniconda3/envs/rasa/lib/python3.6/site-packages/tensor2tensor/utils/trainer_lib.py:111: The name tf.OptimizerOptions is deprecated. Please use tf.compat.v1.OptimizerOptions instead.\n",
      "\n",
      "WARNING:tensorflow:From /Users/xiaofeiwu/miniconda3/envs/rasa/lib/python3.6/site-packages/tensorflow_gan/python/estimator/tpu_gan_estimator.py:42: The name tf.estimator.tpu.TPUEstimator is deprecated. Please use tf.compat.v1.estimator.tpu.TPUEstimator instead.\n",
      "\n",
      "INFO:tensorflow:Restoring parameters from /var/folders/fv/7k1qk5v11dn33sdcngv2wbnm0000gn/T/tmp1w8280xi/nlu/component_6_EmbeddingIntentClassifier.ckpt\n",
      "WARNING:tensorflow:From /Users/xiaofeiwu/miniconda3/envs/rasa/lib/python3.6/site-packages/rasa/utils/train_utils.py:961: The name tf.get_collection is deprecated. Please use tf.compat.v1.get_collection instead.\n",
      "\n",
      "WARNING:tensorflow:From /Users/xiaofeiwu/miniconda3/envs/rasa/lib/python3.6/site-packages/tensorflow_core/python/ops/init_ops.py:97: calling GlorotUniform.__init__ (from tensorflow.python.ops.init_ops) with dtype is deprecated and will be removed in a future version.\n",
      "Instructions for updating:\n",
      "Call initializer instance with the dtype argument instead of passing it to the constructor\n",
      "WARNING:tensorflow:From /Users/xiaofeiwu/miniconda3/envs/rasa/lib/python3.6/site-packages/tensorflow_core/python/ops/init_ops.py:97: calling Orthogonal.__init__ (from tensorflow.python.ops.init_ops) with dtype is deprecated and will be removed in a future version.\n",
      "Instructions for updating:\n",
      "Call initializer instance with the dtype argument instead of passing it to the constructor\n",
      "WARNING:tensorflow:From /Users/xiaofeiwu/miniconda3/envs/rasa/lib/python3.6/site-packages/tensorflow_core/python/ops/init_ops.py:97: calling Zeros.__init__ (from tensorflow.python.ops.init_ops) with dtype is deprecated and will be removed in a future version.\n",
      "Instructions for updating:\n",
      "Call initializer instance with the dtype argument instead of passing it to the constructor\n",
      "WARNING:tensorflow:From /Users/xiaofeiwu/miniconda3/envs/rasa/lib/python3.6/site-packages/tensorflow_core/python/ops/resource_variable_ops.py:1630: calling BaseResourceVariable.__init__ (from tensorflow.python.ops.resource_variable_ops) with constraint is deprecated and will be removed in a future version.\n",
      "Instructions for updating:\n",
      "If using Keras pass *_constraint arguments to layers.\n",
      "WARNING:tensorflow:From /Users/xiaofeiwu/miniconda3/envs/rasa/lib/python3.6/site-packages/tensorflow_core/python/keras/backend.py:3994: where (from tensorflow.python.ops.array_ops) is deprecated and will be removed in a future version.\n",
      "Instructions for updating:\n",
      "Use tf.where in 2.0, which has the same broadcast rule as np.where\n"
     ]
    },
    {
     "data": {
      "text/plain": [
       "[{'recipient_id': 'default',\n",
       "  'text': \"Found the following objects of type 'restaurant':\"},\n",
       " {'recipient_id': 'default', 'text': '1: Gong Gan'},\n",
       " {'recipient_id': 'default', 'text': '2: Marubi Ramen'},\n",
       " {'recipient_id': 'default', 'text': '3: Donath'},\n",
       " {'recipient_id': 'default', 'text': '4: Lụa Restaurant'},\n",
       " {'recipient_id': 'default', 'text': '5: Berlin Burrito Company'}]"
      ]
     },
     "execution_count": 1,
     "metadata": {},
     "output_type": "execute_result"
    }
   ],
   "source": [
    "from rasa.utils.endpoints import ClientResponseError, EndpointConfig\n",
    "from rasa.core.agent import Agent\n",
    "from rasa.core.interpreter import RasaNLUInterpreter\n",
    "from rasa.model import get_model, get_latest_model\n",
    "\n",
    "# preq: $ start actions\n",
    "\n",
    "bot='saya'\n",
    "\n",
    "endpoint = EndpointConfig(\"http://localhost:5055/webhook\")\n",
    "bot_locs={'saya': '/pi/ws/sagas-ai/bots/saya'}\n",
    "bot_loc=get_latest_model(f\"{bot_locs[bot]}/models\")\n",
    "print(f'.. load bot model {bot_loc}')\n",
    "agent = Agent.load(bot_loc, action_endpoint=endpoint)\n",
    "await agent.handle_text(\"do you have any restaurants\")"
   ]
  },
  {
   "cell_type": "markdown",
   "metadata": {},
   "source": [
    "⊕ [Policies](https://rasa.com/docs/rasa/core/policies/#action-selection)\n",
    "\n",
    "## Action Selection\n",
    "At every turn, each policy defined in your configuration will predict a next action with a certain confidence level. For more information about how each policy makes its decision, read into the policy’s description below. The bot’s next action is then decided by the policy that predicts with the highest confidence.\n",
    "\n",
    "In the case that two policies predict with equal confidence (for example, the Memoization and Mapping Policies always predict with confidence of either 0 or 1), the priority of the policies is considered. Rasa policies have default priorities that are set to ensure the expected outcome in the case of a tie. They look like this, where higher numbers have higher priority:\n",
    "\n",
    "5. FormPolicy\n",
    "4. FallbackPolicy and TwoStageFallbackPolicy\n",
    "3. MemoizationPolicy and AugmentedMemoizationPolicy\n",
    "2. MappingPolicy\n",
    "1. EmbeddingPolicy, KerasPolicy, and SklearnPolicy\n",
    "\n",
    "This priority hierarchy ensures that, for example, if there is an intent with a mapped action, but the NLU confidence is not above the nlu_threshold, the bot will still fall back. In general, it is not recommended to have more than one policy per priority level, and some policies on the same priority level, such as the two fallback policies, strictly cannot be used in tandem."
   ]
  },
  {
   "cell_type": "code",
   "execution_count": 5,
   "metadata": {
    "ExecuteTime": {
     "end_time": "2019-12-03T14:04:03.357408Z",
     "start_time": "2019-12-03T14:04:03.325785Z"
    }
   },
   "outputs": [
    {
     "data": {
      "text/plain": [
       "{'sender_id': 'default',\n",
       " 'slots': {'attribute': None,\n",
       "  'bank': None,\n",
       "  'city': None,\n",
       "  'cuisine': None,\n",
       "  'hotel': None,\n",
       "  'knowledge_base_last_object': None,\n",
       "  'knowledge_base_last_object_type': 'restaurant',\n",
       "  'knowledge_base_listed_objects': [6, 5, 4, 2, 1],\n",
       "  'mention': None,\n",
       "  'object_type': 'restaurant',\n",
       "  'person': None,\n",
       "  'restaurant': None},\n",
       " 'latest_message': {'intent': {'name': 'query_knowledge_base',\n",
       "   'confidence': 0.9784830808639526},\n",
       "  'entities': [{'start': 16,\n",
       "    'end': 27,\n",
       "    'value': 'restaurant',\n",
       "    'entity': 'object_type',\n",
       "    'confidence': 0.8523547470272897,\n",
       "    'extractor': 'CRFEntityExtractor',\n",
       "    'processors': ['EntitySynonymMapper']}],\n",
       "  'intent_ranking': [{'name': 'query_knowledge_base',\n",
       "    'confidence': 0.9784830808639526},\n",
       "   {'name': 'bot_challenge', 'confidence': 0.006442992947995663},\n",
       "   {'name': 'goodbye', 'confidence': 0.004275038372725248},\n",
       "   {'name': 'deny', 'confidence': 0.0030048005282878876},\n",
       "   {'name': 'affirm', 'confidence': 0.0028367440681904554},\n",
       "   {'name': 'greet', 'confidence': 0.0027390019968152046},\n",
       "   {'name': 'mood_unhappy', 'confidence': 0.0019094528397545218},\n",
       "   {'name': 'mood_great', 'confidence': 0.0003088215889874846}],\n",
       "  'text': 'do you have any restaurants'},\n",
       " 'latest_event_time': 1575381843.346402,\n",
       " 'followup_action': None,\n",
       " 'paused': False,\n",
       " 'events': None,\n",
       " 'latest_input_channel': None,\n",
       " 'active_form': {},\n",
       " 'latest_action_name': 'action_query_knowledge_base'}"
      ]
     },
     "execution_count": 5,
     "metadata": {},
     "output_type": "execute_result"
    }
   ],
   "source": [
    "from rasa.core.channels.channel import CollectingOutputChannel\n",
    "default_channel=CollectingOutputChannel()\n",
    "policy='MappingPolicy'\n",
    "# act='action_hello_world'\n",
    "act='action_query_knowledge_base'\n",
    "tracker=await agent.execute_action('default', act, default_channel, policy, 1.0)\n",
    "tracker.current_state()"
   ]
  },
  {
   "cell_type": "code",
   "execution_count": 6,
   "metadata": {
    "ExecuteTime": {
     "end_time": "2019-12-03T14:06:46.647691Z",
     "start_time": "2019-12-03T14:06:46.634714Z"
    }
   },
   "outputs": [
    {
     "data": {
      "text/plain": [
       "{'recipient_id': 'default', 'text': '5: Berlin Burrito Company'}"
      ]
     },
     "execution_count": 6,
     "metadata": {},
     "output_type": "execute_result"
    }
   ],
   "source": [
    "default_channel.latest_output()"
   ]
  },
  {
   "cell_type": "code",
   "execution_count": 7,
   "metadata": {
    "ExecuteTime": {
     "end_time": "2019-12-03T14:07:24.448761Z",
     "start_time": "2019-12-03T14:07:24.432661Z"
    }
   },
   "outputs": [
    {
     "data": {
      "text/plain": [
       "[{'recipient_id': 'default',\n",
       "  'text': \"Found the following objects of type 'restaurant':\"},\n",
       " {'recipient_id': 'default', 'text': '1: Gong Gan'},\n",
       " {'recipient_id': 'default', 'text': '2: Marubi Ramen'},\n",
       " {'recipient_id': 'default', 'text': '3: Pfefferberg'},\n",
       " {'recipient_id': 'default', 'text': '4: I due forni'},\n",
       " {'recipient_id': 'default', 'text': '5: Berlin Burrito Company'}]"
      ]
     },
     "execution_count": 7,
     "metadata": {},
     "output_type": "execute_result"
    }
   ],
   "source": [
    "default_channel.messages"
   ]
  },
  {
   "cell_type": "code",
   "execution_count": 2,
   "metadata": {
    "ExecuteTime": {
     "end_time": "2019-12-01T08:54:27.788781Z",
     "start_time": "2019-12-01T08:54:27.737409Z"
    }
   },
   "outputs": [
    {
     "data": {
      "text/plain": [
       "[{'recipient_id': 'default',\n",
       "  'text': \"Found the following objects of type 'restaurant':\"},\n",
       " {'recipient_id': 'default', 'text': '1: Lụa Restaurant'},\n",
       " {'recipient_id': 'default', 'text': '2: I due forni'},\n",
       " {'recipient_id': 'default', 'text': '3: Pfefferberg'},\n",
       " {'recipient_id': 'default', 'text': '4: Gong Gan'},\n",
       " {'recipient_id': 'default', 'text': '5: Marubi Ramen'}]"
      ]
     },
     "execution_count": 2,
     "metadata": {},
     "output_type": "execute_result"
    }
   ],
   "source": [
    "await agent.handle_text(\"do you have any restaurants\")"
   ]
  },
  {
   "cell_type": "code",
   "execution_count": 3,
   "metadata": {
    "ExecuteTime": {
     "end_time": "2019-12-01T08:54:27.883881Z",
     "start_time": "2019-12-01T08:54:27.793094Z"
    }
   },
   "outputs": [
    {
     "name": "stdout",
     "output_type": "stream",
     "text": [
      "/var/folders/fv/7k1qk5v11dn33sdcngv2wbnm0000gn/T/tmp6vd0md1b\n",
      "/pi/ws/sagas-ai/bots/saya/models/20191201-165323.tar.gz\n"
     ]
    }
   ],
   "source": [
    "from rasa.model import get_model, get_latest_model\n",
    "print(get_model(\"/pi/ws/sagas-ai/bots/saya/models\"))\n",
    "print(get_latest_model(\"/pi/ws/sagas-ai/bots/saya/models\"))"
   ]
  },
  {
   "cell_type": "code",
   "execution_count": 4,
   "metadata": {
    "ExecuteTime": {
     "end_time": "2019-12-01T08:54:27.907105Z",
     "start_time": "2019-12-01T08:54:27.887399Z"
    }
   },
   "outputs": [
    {
     "name": "stdout",
     "output_type": "stream",
     "text": [
      "{'entities': [{'confidence': 0.8966057516719946,\n",
      "               'end': 12,\n",
      "               'entity': 'attribute',\n",
      "               'extractor': 'CRFEntityExtractor',\n",
      "               'start': 8,\n",
      "               'value': 'city'},\n",
      "              {'confidence': 0.8079225805462708,\n",
      "               'end': 19,\n",
      "               'entity': 'bank',\n",
      "               'extractor': 'CRFEntityExtractor',\n",
      "               'start': 16,\n",
      "               'value': 'N26'}],\n",
      " 'intent': {'confidence': 0.9932544827461243, 'name': 'query_knowledge_base'},\n",
      " 'intent_ranking': [{'confidence': 0.9932544827461243,\n",
      "                     'name': 'query_knowledge_base'},\n",
      "                    {'confidence': 0.0022818821016699076,\n",
      "                     'name': 'bot_challenge'},\n",
      "                    {'confidence': 0.001948829391039908, 'name': 'greet'},\n",
      "                    {'confidence': 0.0009212908335030079,\n",
      "                     'name': 'mood_unhappy'},\n",
      "                    {'confidence': 0.0005631754174828529, 'name': 'deny'},\n",
      "                    {'confidence': 0.0005191305535845459, 'name': 'affirm'},\n",
      "                    {'confidence': 0.00047894977615214884, 'name': 'goodbye'},\n",
      "                    {'confidence': 3.2200521673075855e-05,\n",
      "                     'name': 'mood_great'}],\n",
      " 'text': 'In what city is N26 located?'}\n"
     ]
    }
   ],
   "source": [
    "from rasa.core.trackers import DialogueStateTracker\n",
    "from rasa.core.slots import Slot\n",
    "from pprint import pprint\n",
    "\n",
    "tracker = DialogueStateTracker.from_dict(\"1\", [], [Slot(\"requested_language\")])\n",
    "tracker._set_slot(\"requested_language\", \"en\")\n",
    "result = await agent.parse_message_using_nlu_interpreter(\"In what city is N26 located?\", tracker)\n",
    "pprint(result)"
   ]
  },
  {
   "cell_type": "code",
   "execution_count": 5,
   "metadata": {
    "ExecuteTime": {
     "end_time": "2019-12-01T08:54:27.950384Z",
     "start_time": "2019-12-01T08:54:27.920159Z"
    }
   },
   "outputs": [
    {
     "data": {
      "text/plain": [
       "{'intent': {'name': 'query_knowledge_base', 'confidence': 0.9964336156845093},\n",
       " 'entities': [{'start': 8,\n",
       "   'end': 12,\n",
       "   'value': 'city',\n",
       "   'entity': 'attribute',\n",
       "   'confidence': 0.8964739277115555,\n",
       "   'extractor': 'CRFEntityExtractor'}],\n",
       " 'intent_ranking': [{'name': 'query_knowledge_base',\n",
       "   'confidence': 0.9964336156845093},\n",
       "  {'name': 'bot_challenge', 'confidence': 0.00170179083943367},\n",
       "  {'name': 'greet', 'confidence': 0.0008844470139592886},\n",
       "  {'name': 'mood_unhappy', 'confidence': 0.0003543687053024769},\n",
       "  {'name': 'affirm', 'confidence': 0.0002737704198807478},\n",
       "  {'name': 'goodbye', 'confidence': 0.0001746801717672497},\n",
       "  {'name': 'deny', 'confidence': 0.00017078054952435195},\n",
       "  {'name': 'mood_great', 'confidence': 6.3904672060743906e-06}],\n",
       " 'text': 'In what city is Landesbank Hessen-Thüringen located?'}"
      ]
     },
     "execution_count": 5,
     "metadata": {},
     "output_type": "execute_result"
    }
   ],
   "source": [
    "await agent.parse_message_using_nlu_interpreter(\"In what city is Landesbank Hessen-Thüringen located?\", tracker)"
   ]
  },
  {
   "cell_type": "code",
   "execution_count": 6,
   "metadata": {
    "ExecuteTime": {
     "end_time": "2019-12-01T08:54:27.993820Z",
     "start_time": "2019-12-01T08:54:27.962441Z"
    }
   },
   "outputs": [
    {
     "data": {
      "text/plain": [
       "{'intent': {'name': 'query_knowledge_base', 'confidence': 0.9982187151908875},\n",
       " 'entities': [{'start': 8,\n",
       "   'end': 12,\n",
       "   'value': 'city',\n",
       "   'entity': 'attribute',\n",
       "   'confidence': 0.8963412926288296,\n",
       "   'extractor': 'CRFEntityExtractor'}],\n",
       " 'intent_ranking': [{'name': 'query_knowledge_base',\n",
       "   'confidence': 0.9982187151908875},\n",
       "  {'name': 'bot_challenge', 'confidence': 0.0009078445145860314},\n",
       "  {'name': 'greet', 'confidence': 0.0002828942670021206},\n",
       "  {'name': 'mood_unhappy', 'confidence': 0.00021179842588026077},\n",
       "  {'name': 'affirm', 'confidence': 0.00013985982513986528},\n",
       "  {'name': 'goodbye', 'confidence': 0.00012184304796392098},\n",
       "  {'name': 'deny', 'confidence': 0.00011239950254093856},\n",
       "  {'name': 'mood_great', 'confidence': 4.612151769833872e-06}],\n",
       " 'text': 'In what city is dekabank deutsche girozentrale located?'}"
      ]
     },
     "execution_count": 6,
     "metadata": {},
     "output_type": "execute_result"
    }
   ],
   "source": [
    "bank='dekabank deutsche girozentrale'\n",
    "await agent.parse_message_using_nlu_interpreter(f\"In what city is {bank} located?\", tracker)"
   ]
  },
  {
   "cell_type": "code",
   "execution_count": 7,
   "metadata": {
    "ExecuteTime": {
     "end_time": "2019-12-01T08:54:28.045021Z",
     "start_time": "2019-12-01T08:54:28.001554Z"
    }
   },
   "outputs": [
    {
     "data": {
      "text/plain": [
       "{'intent': {'name': 'query_knowledge_base', 'confidence': 0.9926872253417969},\n",
       " 'entities': [{'start': 12,\n",
       "   'end': 17,\n",
       "   'value': 'email',\n",
       "   'entity': 'attribute',\n",
       "   'confidence': 0.8052408380922051,\n",
       "   'extractor': 'CRFEntityExtractor'},\n",
       "  {'start': 21,\n",
       "   'end': 32,\n",
       "   'value': 'Jannik Jung',\n",
       "   'entity': 'person',\n",
       "   'confidence': 0.8731735642267661,\n",
       "   'extractor': 'CRFEntityExtractor'}],\n",
       " 'intent_ranking': [{'name': 'query_knowledge_base',\n",
       "   'confidence': 0.9926872253417969},\n",
       "  {'name': 'bot_challenge', 'confidence': 0.0050545246340334415},\n",
       "  {'name': 'greet', 'confidence': 0.0010903299553319812},\n",
       "  {'name': 'mood_unhappy', 'confidence': 0.0004931725561618805},\n",
       "  {'name': 'deny', 'confidence': 0.00033869585604406893},\n",
       "  {'name': 'affirm', 'confidence': 0.00023008319840300828},\n",
       "  {'name': 'goodbye', 'confidence': 9.810854680836201e-05},\n",
       "  {'name': 'mood_great', 'confidence': 7.864946383051574e-06}],\n",
       " 'text': 'What is the email of Jannik Jung?'}"
      ]
     },
     "execution_count": 7,
     "metadata": {},
     "output_type": "execute_result"
    }
   ],
   "source": [
    "person='Jannik Jung'\n",
    "await agent.parse_message_using_nlu_interpreter(f\"What is the email of {person}?\")"
   ]
  },
  {
   "cell_type": "code",
   "execution_count": 8,
   "metadata": {
    "ExecuteTime": {
     "end_time": "2019-12-01T08:54:28.069857Z",
     "start_time": "2019-12-01T08:54:28.049880Z"
    }
   },
   "outputs": [
    {
     "data": {
      "text/plain": [
       "{'intent': {'name': 'query_knowledge_base', 'confidence': 0.9757466316223145},\n",
       " 'entities': [{'start': 12,\n",
       "   'end': 17,\n",
       "   'value': 'email',\n",
       "   'entity': 'attribute',\n",
       "   'confidence': 0.8051162665335908,\n",
       "   'extractor': 'CRFEntityExtractor'},\n",
       "  {'start': 21,\n",
       "   'end': 33,\n",
       "   'value': 'Finn Hofmann',\n",
       "   'entity': 'person',\n",
       "   'confidence': 0.5439314418415119,\n",
       "   'extractor': 'CRFEntityExtractor'}],\n",
       " 'intent_ranking': [{'name': 'query_knowledge_base',\n",
       "   'confidence': 0.9757466316223145},\n",
       "  {'name': 'bot_challenge', 'confidence': 0.01303133089095354},\n",
       "  {'name': 'greet', 'confidence': 0.003075952874496579},\n",
       "  {'name': 'mood_unhappy', 'confidence': 0.0026953238993883133},\n",
       "  {'name': 'deny', 'confidence': 0.002415816066786647},\n",
       "  {'name': 'affirm', 'confidence': 0.001717792241834104},\n",
       "  {'name': 'goodbye', 'confidence': 0.0011998735135421157},\n",
       "  {'name': 'mood_great', 'confidence': 0.00011740254558390006}],\n",
       " 'text': 'What is the email of Finn Hofmann?'}"
      ]
     },
     "execution_count": 8,
     "metadata": {},
     "output_type": "execute_result"
    }
   ],
   "source": [
    "person='Finn Hofmann'\n",
    "await agent.parse_message_using_nlu_interpreter(f\"What is the email of {person}?\")"
   ]
  },
  {
   "cell_type": "code",
   "execution_count": 9,
   "metadata": {
    "ExecuteTime": {
     "end_time": "2019-12-01T08:54:28.099816Z",
     "start_time": "2019-12-01T08:54:28.075936Z"
    }
   },
   "outputs": [
    {
     "data": {
      "text/plain": [
       "{'intent': {'name': 'query_knowledge_base', 'confidence': 0.9951472878456116},\n",
       " 'entities': [{'start': 4,\n",
       "   'end': 17,\n",
       "   'value': 'Wirecard Bank',\n",
       "   'entity': 'bank',\n",
       "   'confidence': 0.863771242049505,\n",
       "   'extractor': 'CRFEntityExtractor'},\n",
       "  {'start': 21,\n",
       "   'end': 36,\n",
       "   'value': 'english website',\n",
       "   'entity': 'attribute',\n",
       "   'confidence': 0.9058475601258706,\n",
       "   'extractor': 'CRFEntityExtractor'}],\n",
       " 'intent_ranking': [{'name': 'query_knowledge_base',\n",
       "   'confidence': 0.9951472878456116},\n",
       "  {'name': 'bot_challenge', 'confidence': 0.0031751112546771765},\n",
       "  {'name': 'goodbye', 'confidence': 0.0004062456137035042},\n",
       "  {'name': 'deny', 'confidence': 0.00038728865911252797},\n",
       "  {'name': 'greet', 'confidence': 0.0003549976972863078},\n",
       "  {'name': 'affirm', 'confidence': 0.0002805920667015016},\n",
       "  {'name': 'mood_unhappy', 'confidence': 0.00024087259953375906},\n",
       "  {'name': 'mood_great', 'confidence': 7.629006177012343e-06}],\n",
       " 'text': 'Has Wirecard Bank an english website?'}"
      ]
     },
     "execution_count": 9,
     "metadata": {},
     "output_type": "execute_result"
    }
   ],
   "source": [
    "bank='Wirecard Bank'\n",
    "q=f\"Has {bank} an english website?\"\n",
    "await agent.parse_message_using_nlu_interpreter(q)"
   ]
  },
  {
   "cell_type": "code",
   "execution_count": 10,
   "metadata": {
    "ExecuteTime": {
     "end_time": "2019-12-01T08:54:28.119938Z",
     "start_time": "2019-12-01T08:54:28.104257Z"
    }
   },
   "outputs": [
    {
     "data": {
      "text/plain": [
       "{'intent': {'name': 'query_knowledge_base', 'confidence': 0.9981531500816345},\n",
       " 'entities': [{'start': 4,\n",
       "   'end': 34,\n",
       "   'value': 'landwirtschaftliche rentenbank',\n",
       "   'entity': 'bank',\n",
       "   'confidence': 0.8485503762832126,\n",
       "   'extractor': 'CRFEntityExtractor'},\n",
       "  {'start': 38,\n",
       "   'end': 53,\n",
       "   'value': 'english website',\n",
       "   'entity': 'attribute',\n",
       "   'confidence': 0.9051008824387026,\n",
       "   'extractor': 'CRFEntityExtractor'}],\n",
       " 'intent_ranking': [{'name': 'query_knowledge_base',\n",
       "   'confidence': 0.9981531500816345},\n",
       "  {'name': 'bot_challenge', 'confidence': 0.001369673409499228},\n",
       "  {'name': 'greet', 'confidence': 0.0001675546809565276},\n",
       "  {'name': 'goodbye', 'confidence': 0.00010590816236799583},\n",
       "  {'name': 'deny', 'confidence': 8.959946717368439e-05},\n",
       "  {'name': 'affirm', 'confidence': 6.096474317018874e-05},\n",
       "  {'name': 'mood_unhappy', 'confidence': 5.244999556452967e-05},\n",
       "  {'name': 'mood_great', 'confidence': 7.39153620088473e-07}],\n",
       " 'text': 'Has landwirtschaftliche rentenbank an english website?'}"
      ]
     },
     "execution_count": 10,
     "metadata": {},
     "output_type": "execute_result"
    }
   ],
   "source": [
    "bank='landwirtschaftliche rentenbank'\n",
    "q=f\"Has {bank} an english website?\"\n",
    "await agent.parse_message_using_nlu_interpreter(q)"
   ]
  },
  {
   "cell_type": "code",
   "execution_count": 13,
   "metadata": {
    "ExecuteTime": {
     "end_time": "2019-12-01T08:59:57.249941Z",
     "start_time": "2019-12-01T08:59:57.235907Z"
    }
   },
   "outputs": [
    {
     "data": {
      "text/plain": [
       "{'intent': {'name': 'query_knowledge_base', 'confidence': 0.9932721257209778},\n",
       " 'entities': [{'start': 12,\n",
       "   'end': 23,\n",
       "   'value': 'price-range',\n",
       "   'entity': 'attribute',\n",
       "   'confidence': 0.956693150086852,\n",
       "   'extractor': 'CRFEntityExtractor',\n",
       "   'processors': ['EntitySynonymMapper']},\n",
       "  {'start': 27,\n",
       "   'end': 33,\n",
       "   'value': 'Marubi',\n",
       "   'entity': 'restaurant',\n",
       "   'confidence': 0.12171841841973478,\n",
       "   'extractor': 'CRFEntityExtractor'}],\n",
       " 'intent_ranking': [{'name': 'query_knowledge_base',\n",
       "   'confidence': 0.9932721257209778},\n",
       "  {'name': 'bot_challenge', 'confidence': 0.0031384380999952555},\n",
       "  {'name': 'greet', 'confidence': 0.00174444739241153},\n",
       "  {'name': 'mood_unhappy', 'confidence': 0.0005877401563338935},\n",
       "  {'name': 'goodbye', 'confidence': 0.0005116494139656425},\n",
       "  {'name': 'affirm', 'confidence': 0.000372273352695629},\n",
       "  {'name': 'deny', 'confidence': 0.00035593172651715577},\n",
       "  {'name': 'mood_great', 'confidence': 1.7417069102521054e-05}],\n",
       " 'text': 'What is the price range of Marubi Ramen?'}"
      ]
     },
     "execution_count": 13,
     "metadata": {},
     "output_type": "execute_result"
    }
   ],
   "source": [
    "# restaurant='Berlin Burrito Company'\n",
    "restaurant='Marubi Ramen'\n",
    "q=f\"What is the price range of {restaurant}?\"\n",
    "await agent.parse_message_using_nlu_interpreter(q)"
   ]
  }
 ],
 "metadata": {
  "kernelspec": {
   "display_name": "Python 3",
   "language": "python",
   "name": "python3"
  },
  "language_info": {
   "codemirror_mode": {
    "name": "ipython",
    "version": 3
   },
   "file_extension": ".py",
   "mimetype": "text/x-python",
   "name": "python",
   "nbconvert_exporter": "python",
   "pygments_lexer": "ipython3",
   "version": "3.6.9"
  },
  "varInspector": {
   "cols": {
    "lenName": 16,
    "lenType": 16,
    "lenVar": 40
   },
   "kernels_config": {
    "python": {
     "delete_cmd_postfix": "",
     "delete_cmd_prefix": "del ",
     "library": "var_list.py",
     "varRefreshCmd": "print(var_dic_list())"
    },
    "r": {
     "delete_cmd_postfix": ") ",
     "delete_cmd_prefix": "rm(",
     "library": "var_list.r",
     "varRefreshCmd": "cat(var_dic_list()) "
    }
   },
   "types_to_exclude": [
    "module",
    "function",
    "builtin_function_or_method",
    "instance",
    "_Feature"
   ],
   "window_display": false
  }
 },
 "nbformat": 4,
 "nbformat_minor": 2
}
