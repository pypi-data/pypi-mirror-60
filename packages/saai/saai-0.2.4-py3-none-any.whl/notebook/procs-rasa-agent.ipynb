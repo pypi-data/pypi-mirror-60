{
 "cells": [
  {
   "cell_type": "code",
   "execution_count": 1,
   "metadata": {
    "ExecuteTime": {
     "end_time": "2019-11-30T17:26:48.946497Z",
     "start_time": "2019-11-30T17:26:35.597169Z"
    }
   },
   "outputs": [
    {
     "name": "stdout",
     "output_type": "stream",
     "text": [
      "WARNING:tensorflow:From /Users/xiaofeiwu/miniconda3/envs/rasa/lib/python3.6/site-packages/tensor2tensor/utils/expert_utils.py:68: The name tf.variable_scope is deprecated. Please use tf.compat.v1.variable_scope instead.\n",
      "\n",
      "WARNING:tensorflow:\n",
      "The TensorFlow contrib module will not be included in TensorFlow 2.0.\n",
      "For more information, please see:\n",
      "  * https://github.com/tensorflow/community/blob/master/rfcs/20180907-contrib-sunset.md\n",
      "  * https://github.com/tensorflow/addons\n",
      "  * https://github.com/tensorflow/io (for I/O related ops)\n",
      "If you depend on functionality not listed there, please file an issue.\n",
      "\n",
      "WARNING:tensorflow:From /Users/xiaofeiwu/miniconda3/envs/rasa/lib/python3.6/site-packages/tensor2tensor/utils/adafactor.py:27: The name tf.train.Optimizer is deprecated. Please use tf.compat.v1.train.Optimizer instead.\n",
      "\n",
      "WARNING:tensorflow:From /Users/xiaofeiwu/miniconda3/envs/rasa/lib/python3.6/site-packages/tensor2tensor/utils/multistep_optimizer.py:32: The name tf.train.AdamOptimizer is deprecated. Please use tf.compat.v1.train.AdamOptimizer instead.\n",
      "\n",
      "WARNING:tensorflow:Failed to load tensor2tensor\n",
      "WARNING:tensorflow:From /Users/xiaofeiwu/miniconda3/envs/rasa/lib/python3.6/site-packages/tensor2tensor/models/research/glow_init_hook.py:25: The name tf.train.SessionRunHook is deprecated. Please use tf.estimator.SessionRunHook instead.\n",
      "\n",
      "WARNING:tensorflow:From /Users/xiaofeiwu/miniconda3/envs/rasa/lib/python3.6/site-packages/tensor2tensor/models/research/neural_stack.py:38: The name tf.nn.rnn_cell.RNNCell is deprecated. Please use tf.compat.v1.nn.rnn_cell.RNNCell instead.\n",
      "\n",
      "WARNING:tensorflow:From /Users/xiaofeiwu/miniconda3/envs/rasa/lib/python3.6/site-packages/tensor2tensor/rl/gym_utils.py:235: The name tf.logging.info is deprecated. Please use tf.compat.v1.logging.info instead.\n",
      "\n",
      "INFO:tensorflow:Entry Point [tensor2tensor.envs.tic_tac_toe_env:TicTacToeEnv] registered with id [T2TEnv-TicTacToeEnv-v0]\n",
      "WARNING:tensorflow:From /Users/xiaofeiwu/miniconda3/envs/rasa/lib/python3.6/site-packages/tensor2tensor/utils/trainer_lib.py:111: The name tf.OptimizerOptions is deprecated. Please use tf.compat.v1.OptimizerOptions instead.\n",
      "\n",
      "WARNING:tensorflow:From /Users/xiaofeiwu/miniconda3/envs/rasa/lib/python3.6/site-packages/tensorflow_gan/python/estimator/tpu_gan_estimator.py:42: The name tf.estimator.tpu.TPUEstimator is deprecated. Please use tf.compat.v1.estimator.tpu.TPUEstimator instead.\n",
      "\n",
      "INFO:tensorflow:Restoring parameters from /var/folders/fv/7k1qk5v11dn33sdcngv2wbnm0000gn/T/tmp7cqit6vd/nlu/component_6_EmbeddingIntentClassifier.ckpt\n",
      "WARNING:tensorflow:From /Users/xiaofeiwu/miniconda3/envs/rasa/lib/python3.6/site-packages/rasa/utils/train_utils.py:961: The name tf.get_collection is deprecated. Please use tf.compat.v1.get_collection instead.\n",
      "\n",
      "WARNING:tensorflow:From /Users/xiaofeiwu/miniconda3/envs/rasa/lib/python3.6/site-packages/tensorflow_core/python/ops/init_ops.py:97: calling GlorotUniform.__init__ (from tensorflow.python.ops.init_ops) with dtype is deprecated and will be removed in a future version.\n",
      "Instructions for updating:\n",
      "Call initializer instance with the dtype argument instead of passing it to the constructor\n",
      "WARNING:tensorflow:From /Users/xiaofeiwu/miniconda3/envs/rasa/lib/python3.6/site-packages/tensorflow_core/python/ops/init_ops.py:97: calling Orthogonal.__init__ (from tensorflow.python.ops.init_ops) with dtype is deprecated and will be removed in a future version.\n",
      "Instructions for updating:\n",
      "Call initializer instance with the dtype argument instead of passing it to the constructor\n",
      "WARNING:tensorflow:From /Users/xiaofeiwu/miniconda3/envs/rasa/lib/python3.6/site-packages/tensorflow_core/python/ops/init_ops.py:97: calling Zeros.__init__ (from tensorflow.python.ops.init_ops) with dtype is deprecated and will be removed in a future version.\n",
      "Instructions for updating:\n",
      "Call initializer instance with the dtype argument instead of passing it to the constructor\n",
      "WARNING:tensorflow:From /Users/xiaofeiwu/miniconda3/envs/rasa/lib/python3.6/site-packages/tensorflow_core/python/ops/resource_variable_ops.py:1630: calling BaseResourceVariable.__init__ (from tensorflow.python.ops.resource_variable_ops) with constraint is deprecated and will be removed in a future version.\n",
      "Instructions for updating:\n",
      "If using Keras pass *_constraint arguments to layers.\n",
      "WARNING:tensorflow:From /Users/xiaofeiwu/miniconda3/envs/rasa/lib/python3.6/site-packages/tensorflow_core/python/keras/backend.py:3994: where (from tensorflow.python.ops.array_ops) is deprecated and will be removed in a future version.\n",
      "Instructions for updating:\n",
      "Use tf.where in 2.0, which has the same broadcast rule as np.where\n"
     ]
    },
    {
     "data": {
      "text/plain": [
       "[{'recipient_id': 'default', 'text': 'Hey!'}]"
      ]
     },
     "execution_count": 1,
     "metadata": {},
     "output_type": "execute_result"
    }
   ],
   "source": [
    "from rasa.core.agent import Agent\n",
    "from rasa.core.interpreter import RasaNLUInterpreter\n",
    "agent = Agent.load(\"/pi/ws/knowledgebasebot/models/20191120-164828.tar.gz\")\n",
    "await agent.handle_text(\"hello\")"
   ]
  },
  {
   "cell_type": "code",
   "execution_count": 7,
   "metadata": {
    "ExecuteTime": {
     "end_time": "2019-11-30T17:31:37.334679Z",
     "start_time": "2019-11-30T17:31:37.302855Z"
    }
   },
   "outputs": [
    {
     "data": {
      "text/plain": [
       "[{'recipient_id': 'default', 'text': 'Hello! How can I help you?'}]"
      ]
     },
     "execution_count": 7,
     "metadata": {},
     "output_type": "execute_result"
    }
   ],
   "source": [
    "await agent.handle_text(\"hello\")"
   ]
  },
  {
   "cell_type": "code",
   "execution_count": 2,
   "metadata": {
    "ExecuteTime": {
     "end_time": "2019-11-30T17:26:59.720206Z",
     "start_time": "2019-11-30T17:26:59.681136Z"
    }
   },
   "outputs": [
    {
     "data": {
      "text/plain": [
       "[]"
      ]
     },
     "execution_count": 2,
     "metadata": {},
     "output_type": "execute_result"
    }
   ],
   "source": [
    "await agent.handle_text(\"i don't know\")"
   ]
  },
  {
   "cell_type": "code",
   "execution_count": 6,
   "metadata": {
    "ExecuteTime": {
     "end_time": "2019-11-30T17:31:33.089327Z",
     "start_time": "2019-11-30T17:31:33.056004Z"
    }
   },
   "outputs": [
    {
     "data": {
      "text/plain": [
       "[{'recipient_id': 'default', 'text': 'Goodbye. See you soon.'}]"
      ]
     },
     "execution_count": 6,
     "metadata": {},
     "output_type": "execute_result"
    }
   ],
   "source": [
    "await agent.handle_text(\"thank you\")"
   ]
  },
  {
   "cell_type": "code",
   "execution_count": 9,
   "metadata": {
    "ExecuteTime": {
     "end_time": "2019-11-30T17:33:21.771295Z",
     "start_time": "2019-11-30T17:33:21.734165Z"
    }
   },
   "outputs": [
    {
     "data": {
      "text/plain": [
       "[]"
      ]
     },
     "execution_count": 9,
     "metadata": {},
     "output_type": "execute_result"
    }
   ],
   "source": [
    "await agent.handle_text(\"do you have any restaurants\")\n",
    "# await agent.handle_text(\"list some restaurants\")"
   ]
  },
  {
   "cell_type": "code",
   "execution_count": 19,
   "metadata": {
    "ExecuteTime": {
     "end_time": "2019-12-01T07:01:54.166457Z",
     "start_time": "2019-12-01T07:01:51.735456Z"
    }
   },
   "outputs": [
    {
     "name": "stdout",
     "output_type": "stream",
     "text": [
      "INFO:tensorflow:Restoring parameters from /var/folders/fv/7k1qk5v11dn33sdcngv2wbnm0000gn/T/tmpiywk_6dy/nlu/component_6_EmbeddingIntentClassifier.ckpt\n"
     ]
    },
    {
     "data": {
      "text/plain": [
       "[{'recipient_id': 'default',\n",
       "  'text': \"Found the following objects of type 'restaurant':\"},\n",
       " {'recipient_id': 'default', 'text': '1: Marubi Ramen'},\n",
       " {'recipient_id': 'default', 'text': '2: Donath'},\n",
       " {'recipient_id': 'default', 'text': '3: Pfefferberg'},\n",
       " {'recipient_id': 'default', 'text': '4: Lụa Restaurant'},\n",
       " {'recipient_id': 'default', 'text': '5: Berlin Burrito Company'}]"
      ]
     },
     "execution_count": 19,
     "metadata": {},
     "output_type": "execute_result"
    }
   ],
   "source": [
    "from rasa.utils.endpoints import ClientResponseError, EndpointConfig\n",
    "\n",
    "endpoint = EndpointConfig(\"http://localhost:5055/webhook\")\n",
    "agent = Agent.load(\"/pi/ws/knowledgebasebot/models/20191120-164828.tar.gz\", action_endpoint=endpoint)\n",
    "await agent.handle_text(\"do you have any restaurants\")"
   ]
  },
  {
   "cell_type": "code",
   "execution_count": 12,
   "metadata": {
    "ExecuteTime": {
     "end_time": "2019-11-30T17:39:55.284773Z",
     "start_time": "2019-11-30T17:39:55.245127Z"
    }
   },
   "outputs": [
    {
     "data": {
      "text/plain": [
       "[{'recipient_id': 'default',\n",
       "  'text': \"Found the following objects of type 'restaurant':\"},\n",
       " {'recipient_id': 'default', 'text': '1: Lụa Restaurant'},\n",
       " {'recipient_id': 'default', 'text': '2: I due forni'},\n",
       " {'recipient_id': 'default', 'text': '3: Donath'},\n",
       " {'recipient_id': 'default', 'text': '4: Berlin Burrito Company'},\n",
       " {'recipient_id': 'default', 'text': '5: Gong Gan'}]"
      ]
     },
     "execution_count": 12,
     "metadata": {},
     "output_type": "execute_result"
    }
   ],
   "source": [
    "await agent.handle_text(\"do you have any restaurants\")"
   ]
  },
  {
   "cell_type": "code",
   "execution_count": 15,
   "metadata": {
    "ExecuteTime": {
     "end_time": "2019-11-30T17:52:56.539568Z",
     "start_time": "2019-11-30T17:52:56.528369Z"
    }
   },
   "outputs": [
    {
     "name": "stdout",
     "output_type": "stream",
     "text": [
      "action_listen\n",
      "query_knowledge_base{\"object_type\": \"restaurant\"}\n",
      "slot{\"object_type\": \"restaurant\"}\n",
      "action_query_knowledge_base\n",
      "slot{\"object_type\": \"restaurant\"}\n",
      "slot{\"mention\": null}\n",
      "slot{\"attribute\": null}\n",
      "slot{\"knowledge_base_last_object\": null}\n",
      "slot{\"knowledge_base_last_object_type\": \"restaurant\"}\n",
      "slot{\"knowledge_base_listed_objects\": [3, 5, 0, 6, 4]}\n",
      "action_listen\n",
      "query_knowledge_base{\"object_type\": \"restaurant\"}\n",
      "slot{\"object_type\": \"restaurant\"}\n",
      "action_query_knowledge_base\n",
      "slot{\"object_type\": \"restaurant\"}\n",
      "slot{\"mention\": null}\n",
      "slot{\"attribute\": null}\n",
      "slot{\"knowledge_base_last_object\": null}\n",
      "slot{\"knowledge_base_last_object_type\": \"restaurant\"}\n",
      "slot{\"knowledge_base_listed_objects\": [3, 2, 0, 1, 6]}\n",
      "action_listen\n"
     ]
    }
   ],
   "source": [
    "sender_id='default'\n",
    "tracker = agent.tracker_store.get_or_create_tracker(sender_id)\n",
    "print(\"\\n\".join([e.as_story_string() for e in tracker.events if e.as_story_string()]))"
   ]
  },
  {
   "cell_type": "code",
   "execution_count": 16,
   "metadata": {
    "ExecuteTime": {
     "end_time": "2019-11-30T17:53:39.878397Z",
     "start_time": "2019-11-30T17:53:39.870268Z"
    }
   },
   "outputs": [
    {
     "data": {
      "text/plain": [
       "{'attribute': None,\n",
       " 'city': None,\n",
       " 'cuisine': None,\n",
       " 'hotel': None,\n",
       " 'knowledge_base_last_object': None,\n",
       " 'knowledge_base_last_object_type': 'restaurant',\n",
       " 'knowledge_base_listed_objects': [3, 2, 0, 1, 6],\n",
       " 'mention': None,\n",
       " 'object_type': 'restaurant',\n",
       " 'restaurant': None}"
      ]
     },
     "execution_count": 16,
     "metadata": {},
     "output_type": "execute_result"
    }
   ],
   "source": [
    "tracker.current_slot_values()"
   ]
  },
  {
   "cell_type": "code",
   "execution_count": 18,
   "metadata": {
    "ExecuteTime": {
     "end_time": "2019-11-30T17:55:09.780627Z",
     "start_time": "2019-11-30T17:55:09.741220Z"
    }
   },
   "outputs": [
    {
     "data": {
      "text/plain": [
       "[{'recipient_id': 'test_agent_handle_message',\n",
       "  'text': \"Found the following objects of type 'restaurant':\"},\n",
       " {'recipient_id': 'test_agent_handle_message', 'text': '1: Lụa Restaurant'},\n",
       " {'recipient_id': 'test_agent_handle_message', 'text': '2: Marubi Ramen'},\n",
       " {'recipient_id': 'test_agent_handle_message', 'text': '3: I due forni'},\n",
       " {'recipient_id': 'test_agent_handle_message',\n",
       "  'text': '4: Berlin Burrito Company'},\n",
       " {'recipient_id': 'test_agent_handle_message', 'text': '5: Donath'}]"
      ]
     },
     "execution_count": 18,
     "metadata": {},
     "output_type": "execute_result"
    }
   ],
   "source": [
    "from rasa.core.channels.channel import UserMessage\n",
    "\n",
    "# await agent.handle_text(\"hello\")\n",
    "text = '/query_knowledge_base{\"object_type\": \"restaurant\"}'\n",
    "message = UserMessage(text, sender_id=\"test_agent_handle_message\")\n",
    "result = await agent.handle_message(message)\n",
    "result"
   ]
  }
 ],
 "metadata": {
  "kernelspec": {
   "display_name": "Python 3",
   "language": "python",
   "name": "python3"
  },
  "language_info": {
   "codemirror_mode": {
    "name": "ipython",
    "version": 3
   },
   "file_extension": ".py",
   "mimetype": "text/x-python",
   "name": "python",
   "nbconvert_exporter": "python",
   "pygments_lexer": "ipython3",
   "version": "3.6.9"
  },
  "varInspector": {
   "cols": {
    "lenName": 16,
    "lenType": 16,
    "lenVar": 40
   },
   "kernels_config": {
    "python": {
     "delete_cmd_postfix": "",
     "delete_cmd_prefix": "del ",
     "library": "var_list.py",
     "varRefreshCmd": "print(var_dic_list())"
    },
    "r": {
     "delete_cmd_postfix": ") ",
     "delete_cmd_prefix": "rm(",
     "library": "var_list.r",
     "varRefreshCmd": "cat(var_dic_list()) "
    }
   },
   "types_to_exclude": [
    "module",
    "function",
    "builtin_function_or_method",
    "instance",
    "_Feature"
   ],
   "window_display": false
  }
 },
 "nbformat": 4,
 "nbformat_minor": 2
}
