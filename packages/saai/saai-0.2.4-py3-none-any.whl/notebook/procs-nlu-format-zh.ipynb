{
 "cells": [
  {
   "cell_type": "code",
   "execution_count": 2,
   "metadata": {
    "ExecuteTime": {
     "end_time": "2019-12-27T23:23:15.044056Z",
     "start_time": "2019-12-27T23:23:15.011540Z"
    }
   },
   "outputs": [],
   "source": [
    "%load_ext autoreload"
   ]
  },
  {
   "cell_type": "code",
   "execution_count": 3,
   "metadata": {
    "ExecuteTime": {
     "end_time": "2019-12-27T23:23:16.825390Z",
     "start_time": "2019-12-27T23:23:16.820841Z"
    }
   },
   "outputs": [],
   "source": [
    "%autoreload 2"
   ]
  },
  {
   "cell_type": "code",
   "execution_count": 9,
   "metadata": {
    "ExecuteTime": {
     "end_time": "2019-12-27T23:46:30.321261Z",
     "start_time": "2019-12-27T23:46:30.239258Z"
    },
    "scrolled": true
   },
   "outputs": [
    {
     "name": "stdout",
     "output_type": "stream",
     "text": [
      "☈ restaurant_search\n",
      "☈ medical\n",
      "☈ medical_department\n",
      "☈ education_experience\n",
      "☈ about_date\n"
     ]
    },
    {
     "data": {
      "text/plain": [
       "{'rasa_nlu_data': {'common_examples': [{'text': '这附近哪里有吃麻辣烫的地方',\n",
       "    'intent': 'restaurant_search',\n",
       "    'entities': [{'start': 7, 'end': 10, 'value': 'spicy', 'entity': 'food'}]},\n",
       "   {'text': '想去一家有情调的餐厅', 'intent': 'restaurant_search', 'entities': []},\n",
       "   {'text': '附近有什么好吃的地方吗', 'intent': 'restaurant_search', 'entities': []},\n",
       "   {'text': '找个吃拉面的店',\n",
       "    'intent': 'restaurant_search',\n",
       "    'entities': [{'start': 3, 'end': 5, 'value': 'ramen', 'entity': 'food'}]},\n",
       "   {'text': '感冒了怎么办',\n",
       "    'intent': 'medical',\n",
       "    'entities': [{'start': 0,\n",
       "      'end': 2,\n",
       "      'value': 'cold',\n",
       "      'entity': 'disease'}]},\n",
       "   {'text': '我胃痛，该吃什么药？',\n",
       "    'intent': 'medical',\n",
       "    'entities': [{'start': 1, 'end': 3, 'value': '胃痛', 'entity': 'disease'}]},\n",
       "   {'text': '一直打喷嚏怎么办',\n",
       "    'intent': 'medical',\n",
       "    'entities': [{'start': 2,\n",
       "      'end': 5,\n",
       "      'value': 'cold',\n",
       "      'entity': 'disease'}]},\n",
       "   {'text': '父母都有高血压，我会遗传吗',\n",
       "    'intent': 'medical',\n",
       "    'entities': [{'start': 4, 'end': 7, 'value': '高血压', 'entity': 'disease'}]},\n",
       "   {'text': '父母都有高血压，我应该推荐他们去哪家医院好呢',\n",
       "    'intent': 'medical_department',\n",
       "    'entities': [{'start': 4, 'end': 7, 'value': '高血压', 'entity': 'disease'}]},\n",
       "   {'text': '我生病了，不知道去哪里看病', 'intent': 'medical_department', 'entities': []},\n",
       "   {'text': '头上烫烫的，感觉发烧了，该去看哪个诊所哪个科室好呢',\n",
       "    'intent': 'medical_department',\n",
       "    'entities': [{'start': 8, 'end': 10, 'value': '发烧', 'entity': 'disease'}]},\n",
       "   {'text': '比尔盖茨1979年秋天从大学肆业',\n",
       "    'intent': 'education_experience',\n",
       "    'entities': []},\n",
       "   {'text': 'Rami Eid正在纽约石溪大学学习',\n",
       "    'intent': 'education_experience',\n",
       "    'entities': []},\n",
       "   {'text': '周四下午三点到五点开会', 'intent': 'about_date', 'entities': []},\n",
       "   {'text': '明天早上跑步', 'intent': 'about_date', 'entities': []},\n",
       "   {'text': '6:30 起床', 'intent': 'about_date', 'entities': []},\n",
       "   {'text': '下下周一开会', 'intent': 'about_date', 'entities': []},\n",
       "   {'text': '7月10日晚上7点左右，六安市公安局裕安分局平桥派出所接到辖区居民戴某报警',\n",
       "    'intent': 'about_date',\n",
       "    'entities': []}],\n",
       "  'entity_synonyms': [{'value': 'spicy', 'synonyms': ['麻辣烫']},\n",
       "   {'value': 'ramen', 'synonyms': ['拉面']},\n",
       "   {'value': 'cold', 'synonyms': ['感冒', '打喷嚏']}]}}"
      ]
     },
     "execution_count": 9,
     "metadata": {},
     "output_type": "execute_result"
    }
   ],
   "source": [
    "from saai.tools.corpus_procs import NluData, parse\n",
    "with open('nlu_multilang/corpus/cn-Samples_issue.md') as f:\n",
    "    lines=f.readlines()\n",
    "    \n",
    "dataset=NluData()\n",
    "intent=\"\"\n",
    "for line in lines:\n",
    "    line_s=line.strip()\n",
    "    if line.startswith(\"##\"):        \n",
    "        intent=line[3:].strip()\n",
    "        print(\"☈\", intent)\n",
    "    elif len(line_s)==0 or line_s.startswith(\"#\"):\n",
    "        pass\n",
    "    else:\n",
    "        parse(dataset, intent, line_s)\n",
    "\n",
    "dataset.json"
   ]
  }
 ],
 "metadata": {
  "kernelspec": {
   "display_name": "Python 3",
   "language": "python",
   "name": "python3"
  },
  "language_info": {
   "codemirror_mode": {
    "name": "ipython",
    "version": 3
   },
   "file_extension": ".py",
   "mimetype": "text/x-python",
   "name": "python",
   "nbconvert_exporter": "python",
   "pygments_lexer": "ipython3",
   "version": "3.6.9"
  },
  "varInspector": {
   "cols": {
    "lenName": 16,
    "lenType": 16,
    "lenVar": 40
   },
   "kernels_config": {
    "python": {
     "delete_cmd_postfix": "",
     "delete_cmd_prefix": "del ",
     "library": "var_list.py",
     "varRefreshCmd": "print(var_dic_list())"
    },
    "r": {
     "delete_cmd_postfix": ") ",
     "delete_cmd_prefix": "rm(",
     "library": "var_list.r",
     "varRefreshCmd": "cat(var_dic_list()) "
    }
   },
   "types_to_exclude": [
    "module",
    "function",
    "builtin_function_or_method",
    "instance",
    "_Feature"
   ],
   "window_display": false
  }
 },
 "nbformat": 4,
 "nbformat_minor": 2
}
