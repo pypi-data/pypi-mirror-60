{
 "cells": [
  {
   "cell_type": "code",
   "execution_count": 2,
   "metadata": {
    "ExecuteTime": {
     "end_time": "2019-11-28T20:57:10.222106Z",
     "start_time": "2019-11-28T20:57:10.207750Z"
    }
   },
   "outputs": [
    {
     "name": "stdout",
     "output_type": "stream",
     "text": [
      "# example\n",
      "name:\n",
      "  # details\n",
      "  family: Smith   # very common\n",
      "  given: Bob      # one of the siblings\n"
     ]
    }
   ],
   "source": [
    "from ruamel.yaml import YAML\n",
    "import sys\n",
    "\n",
    "inp = \"\"\"\\\n",
    "# example\n",
    "name:\n",
    "  # details\n",
    "  family: Smith   # very common\n",
    "  given: Alice    # one of the siblings\n",
    "\"\"\"\n",
    "\n",
    "yaml = YAML()\n",
    "code = yaml.load(inp)\n",
    "code['name']['given'] = 'Bob'\n",
    "\n",
    "yaml.dump(code, sys.stdout)"
   ]
  },
  {
   "cell_type": "code",
   "execution_count": 10,
   "metadata": {
    "ExecuteTime": {
     "end_time": "2019-11-28T20:59:49.129818Z",
     "start_time": "2019-11-28T20:59:49.118058Z"
    }
   },
   "outputs": [
    {
     "data": {
      "text/plain": [
       "ordereddict([('synonyms', ordereddict([('a_list', ['first', 'second', 'third part']), ('b_list', ['first', 'second'])]))])"
      ]
     },
     "execution_count": 10,
     "metadata": {},
     "output_type": "execute_result"
    }
   ],
   "source": [
    "yml=yaml.load(\"\"\"\n",
    "synonyms:\n",
    "    a_list: [first,  second, \"third part\"]\n",
    "    b_list: [first,  second]\n",
    "\"\"\")\n",
    "yml"
   ]
  },
  {
   "cell_type": "code",
   "execution_count": 8,
   "metadata": {
    "ExecuteTime": {
     "end_time": "2019-11-28T20:59:29.096491Z",
     "start_time": "2019-11-28T20:59:29.087909Z"
    }
   },
   "outputs": [
    {
     "data": {
      "text/plain": [
       "['first', 'second']"
      ]
     },
     "execution_count": 8,
     "metadata": {},
     "output_type": "execute_result"
    }
   ],
   "source": [
    "yml['synonyms']['a_list']"
   ]
  },
  {
   "cell_type": "code",
   "execution_count": 3,
   "metadata": {
    "ExecuteTime": {
     "end_time": "2019-11-29T21:14:51.479656Z",
     "start_time": "2019-11-29T21:14:51.457725Z"
    }
   },
   "outputs": [
    {
     "data": {
      "text/plain": [
       "['initiate']"
      ]
     },
     "execution_count": 3,
     "metadata": {},
     "output_type": "execute_result"
    }
   ],
   "source": [
    "import yaml\n",
    "\n",
    "def query_synonyms(word, lang):\n",
    "    prefix='/pi/stack/data/synonyms'\n",
    "    file=f\"{prefix}/{lang}_def.yml\"\n",
    "    with open(file, 'r') as f:\n",
    "        syns = yaml.safe_load(f.read())\n",
    "        verbs=syns['verbs']\n",
    "        return verbs[word] if word in verbs else None\n",
    "\n",
    "lang='id'\n",
    "word='memulai'\n",
    "query_synonyms(word, lang)"
   ]
  },
  {
   "cell_type": "code",
   "execution_count": 4,
   "metadata": {
    "ExecuteTime": {
     "end_time": "2019-11-29T21:15:09.459312Z",
     "start_time": "2019-11-29T21:15:09.452577Z"
    }
   },
   "outputs": [],
   "source": [
    "query_synonyms('none', lang)"
   ]
  }
 ],
 "metadata": {
  "kernelspec": {
   "display_name": "Python 3",
   "language": "python",
   "name": "python3"
  },
  "language_info": {
   "codemirror_mode": {
    "name": "ipython",
    "version": 3
   },
   "file_extension": ".py",
   "mimetype": "text/x-python",
   "name": "python",
   "nbconvert_exporter": "python",
   "pygments_lexer": "ipython3",
   "version": "3.6.9"
  },
  "varInspector": {
   "cols": {
    "lenName": 16,
    "lenType": 16,
    "lenVar": 40
   },
   "kernels_config": {
    "python": {
     "delete_cmd_postfix": "",
     "delete_cmd_prefix": "del ",
     "library": "var_list.py",
     "varRefreshCmd": "print(var_dic_list())"
    },
    "r": {
     "delete_cmd_postfix": ") ",
     "delete_cmd_prefix": "rm(",
     "library": "var_list.r",
     "varRefreshCmd": "cat(var_dic_list()) "
    }
   },
   "types_to_exclude": [
    "module",
    "function",
    "builtin_function_or_method",
    "instance",
    "_Feature"
   ],
   "window_display": false
  }
 },
 "nbformat": 4,
 "nbformat_minor": 2
}
