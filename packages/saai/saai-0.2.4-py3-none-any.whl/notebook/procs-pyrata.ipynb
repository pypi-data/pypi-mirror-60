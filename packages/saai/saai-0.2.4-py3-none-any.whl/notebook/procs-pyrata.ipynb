{
 "cells": [
  {
   "cell_type": "code",
   "execution_count": 11,
   "metadata": {
    "ExecuteTime": {
     "end_time": "2019-12-09T15:30:11.130942Z",
     "start_time": "2019-12-09T15:30:11.086491Z"
    }
   },
   "outputs": [
    {
     "data": {
      "text/plain": [
       "[[{'pos': 'NNS', 'raw': 'expressions'}], [{'pos': 'NNP', 'raw': 'PyRATA'}]]"
      ]
     },
     "execution_count": 11,
     "metadata": {},
     "output_type": "execute_result"
    }
   ],
   "source": [
    "import pyrata.re as pyrata_re\n",
    "data = [{'pos': 'PRP', 'raw': 'It'}, {'pos': 'VBZ', 'raw': 'is'}, \n",
    "        {'pos': 'JJ', 'raw': 'fast'}, {'pos': 'JJ', 'raw': 'easy'}, \n",
    "        {'pos': 'CC', 'raw': 'and'}, {'pos': 'JJ', 'raw': 'funny'}, \n",
    "        {'pos': 'TO', 'raw': 'to'}, {'pos': 'VB', 'raw': 'write'}, \n",
    "        {'pos': 'JJ', 'raw': 'regular'}, {'pos': 'NNS', 'raw': 'expressions'}, \n",
    "        {'pos': 'IN', 'raw': 'with'},{'pos': 'NNP', 'raw': 'PyRATA'}]\n",
    "pyrata_re.findall('pos~\"NN.\"', data)"
   ]
  },
  {
   "cell_type": "code",
   "execution_count": 7,
   "metadata": {
    "ExecuteTime": {
     "end_time": "2019-12-09T15:28:44.480115Z",
     "start_time": "2019-12-09T15:28:44.436260Z"
    }
   },
   "outputs": [
    {
     "data": {
      "text/plain": [
       "[[{'pos': 'NNP', 'raw': 'PyRATA'}]]"
      ]
     },
     "execution_count": 7,
     "metadata": {},
     "output_type": "execute_result"
    }
   ],
   "source": [
    "pyrata_re.findall('[(pos=\"NNS\" | pos=\"NNP\") & !raw=\"expressions\"]', data)"
   ]
  },
  {
   "cell_type": "code",
   "execution_count": 13,
   "metadata": {
    "ExecuteTime": {
     "end_time": "2019-12-09T15:30:32.141566Z",
     "start_time": "2019-12-09T15:30:32.107980Z"
    }
   },
   "outputs": [
    {
     "data": {
      "text/plain": [
       "<pyrata.re Match object; groups=[[[{'pos': 'IN', 'raw': 'with'}, {'pos': 'NNP', 'raw': 'PyRATA'}], 10, 12]]>"
      ]
     },
     "execution_count": 13,
     "metadata": {},
     "output_type": "execute_result"
    }
   ],
   "source": [
    "# https://github.com/nicolashernandez/PyRATA/blob/master/docs/user-guide.rst#wildcard-element\n",
    "# The wildcard element can match any single data token. \n",
    "# It is represented by the . (dot) metacharacter.\n",
    "pyrata_re.search('. raw=\"PyRATA\"', data)"
   ]
  },
  {
   "cell_type": "code",
   "execution_count": 14,
   "metadata": {
    "ExecuteTime": {
     "end_time": "2019-12-09T15:31:18.245728Z",
     "start_time": "2019-12-09T15:31:18.214015Z"
    }
   },
   "outputs": [
    {
     "data": {
      "text/plain": [
       "<pyrata.re Match object; groups=[[[{'pos': 'PRP', 'raw': 'It'}, {'pos': 'VBZ', 'raw': 'is'}, {'pos': 'JJ', 'raw': 'fast'}, {'pos': 'JJ', 'raw': 'easy'}, {'pos': 'CC', 'raw': 'and'}, {'pos': 'JJ', 'raw': 'funny'}, {'pos': 'TO', 'raw': 'to'}, {'pos': 'VB', 'raw': 'write'}, {'pos': 'JJ', 'raw': 'regular'}, {'pos': 'NNS', 'raw': 'expressions'}, {'pos': 'IN', 'raw': 'with'}, {'pos': 'NNP', 'raw': 'PyRATA'}], 0, 12]]>"
      ]
     },
     "execution_count": 14,
     "metadata": {},
     "output_type": "execute_result"
    }
   ],
   "source": [
    "# It can be used with any quantifiers\n",
    "pyrata_re.search('.+ raw=\"PyRATA\"', data)"
   ]
  },
  {
   "cell_type": "code",
   "execution_count": 3,
   "metadata": {
    "ExecuteTime": {
     "end_time": "2019-12-09T15:23:52.517197Z",
     "start_time": "2019-12-09T15:23:52.482051Z"
    }
   },
   "outputs": [
    {
     "data": {
      "text/plain": [
       "[[{'pos': 'JJ', 'raw': 'fast'}],\n",
       " [{'pos': 'JJ', 'raw': 'easy'}],\n",
       " [{'pos': 'JJ', 'raw': 'funny'}],\n",
       " [{'pos': 'JJ', 'raw': 'regular'}]]"
      ]
     },
     "execution_count": 3,
     "metadata": {},
     "output_type": "execute_result"
    }
   ],
   "source": [
    "pattern = 'pos=\"JJ\"'\n",
    "pyrata_re.findall(pattern, data)"
   ]
  },
  {
   "cell_type": "markdown",
   "metadata": {},
   "source": [
    "You can also set a list of possible values (lexicon). In that case, the operator will be the @ metacharacter in your constraint definition and the value will be the name of the lexicon. The lexicon is specified as a parameter of the pyrata_re methods (lexicons parameter). "
   ]
  },
  {
   "cell_type": "code",
   "execution_count": 4,
   "metadata": {
    "ExecuteTime": {
     "end_time": "2019-12-09T15:25:05.395430Z",
     "start_time": "2019-12-09T15:25:05.356302Z"
    }
   },
   "outputs": [
    {
     "data": {
      "text/plain": [
       "[[{'pos': 'JJ', 'raw': 'easy'}], [{'pos': 'JJ', 'raw': 'funny'}]]"
      ]
     },
     "execution_count": 4,
     "metadata": {},
     "output_type": "execute_result"
    }
   ],
   "source": [
    "pyrata_re.findall('raw@\"positiveLexicon\"', data, \n",
    "                  lexicons = {'positiveLexicon':['easy', 'funny']})"
   ]
  },
  {
   "cell_type": "code",
   "execution_count": 9,
   "metadata": {
    "ExecuteTime": {
     "end_time": "2019-12-09T15:29:59.298725Z",
     "start_time": "2019-12-09T15:29:59.240594Z"
    }
   },
   "outputs": [
    {
     "data": {
      "text/plain": [
       "<pyrata.re Match object; groups=[[[{'pos': 'NNP', 'chunk': 'B-PERSON', 'raw': 'Mark'}, {'pos': 'NNP', 'chunk': 'I-PERSON', 'raw': 'Zuckerberg'}], 0, 2], [[{'pos': 'NNP', 'chunk': 'B-PERSON', 'raw': 'Mark'}, {'pos': 'NNP', 'chunk': 'I-PERSON', 'raw': 'Zuckerberg'}], 0, 2]]>"
      ]
     },
     "execution_count": 9,
     "metadata": {},
     "output_type": "execute_result"
    }
   ],
   "source": [
    "# https://github.com/nicolashernandez/PyRATA/blob/master/docs/user-guide.rst#iob-chunk-operator\n",
    "data = [{'pos': 'NNP', 'chunk': 'B-PERSON', 'raw': 'Mark'}, \n",
    "        {'pos': 'NNP', 'chunk': 'I-PERSON', 'raw': 'Zuckerberg'}, \n",
    "        {'pos': 'VBZ', 'chunk': 'O', 'raw': 'is'}, \n",
    "        {'pos': 'VBG', 'chunk': 'O', 'raw': 'working'}, \n",
    "        {'pos': 'IN', 'chunk': 'O', 'raw': 'at'}, \n",
    "        {'pos': 'NNP', 'chunk': 'B-ORGANIZATION', 'raw': 'Facebook'}, \n",
    "        {'pos': 'NNP', 'chunk': 'I-ORGANIZATION', 'raw': 'Corp'}, \n",
    "        {'pos': '.', 'chunk': 'O', 'raw': '.'}]\n",
    "pattern = 'chunk-\"PERSON\"'\n",
    "pyrata_re.search(pattern, data)"
   ]
  },
  {
   "cell_type": "code",
   "execution_count": 10,
   "metadata": {
    "ExecuteTime": {
     "end_time": "2019-12-09T15:30:01.131765Z",
     "start_time": "2019-12-09T15:30:01.091790Z"
    }
   },
   "outputs": [],
   "source": []
  }
 ],
 "metadata": {
  "kernelspec": {
   "display_name": "Python 3",
   "language": "python",
   "name": "python3"
  },
  "language_info": {
   "codemirror_mode": {
    "name": "ipython",
    "version": 3
   },
   "file_extension": ".py",
   "mimetype": "text/x-python",
   "name": "python",
   "nbconvert_exporter": "python",
   "pygments_lexer": "ipython3",
   "version": "3.6.9"
  },
  "varInspector": {
   "cols": {
    "lenName": 16,
    "lenType": 16,
    "lenVar": 40
   },
   "kernels_config": {
    "python": {
     "delete_cmd_postfix": "",
     "delete_cmd_prefix": "del ",
     "library": "var_list.py",
     "varRefreshCmd": "print(var_dic_list())"
    },
    "r": {
     "delete_cmd_postfix": ") ",
     "delete_cmd_prefix": "rm(",
     "library": "var_list.r",
     "varRefreshCmd": "cat(var_dic_list()) "
    }
   },
   "types_to_exclude": [
    "module",
    "function",
    "builtin_function_or_method",
    "instance",
    "_Feature"
   ],
   "window_display": false
  }
 },
 "nbformat": 4,
 "nbformat_minor": 2
}
