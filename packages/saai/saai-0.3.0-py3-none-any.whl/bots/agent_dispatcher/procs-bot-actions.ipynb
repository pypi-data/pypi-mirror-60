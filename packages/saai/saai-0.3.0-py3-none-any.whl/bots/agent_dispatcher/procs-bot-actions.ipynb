{
 "cells": [
  {
   "cell_type": "markdown",
   "metadata": {},
   "source": [
    "### preqs\n",
    "```bash\n",
    "# saai\n",
    "$ start nlu_multilang\n",
    "\n",
    "# agent-dispatcher\n",
    "$ start servant_nlu\n",
    "$ start agent\n",
    "$ start actions\n",
    "```"
   ]
  },
  {
   "cell_type": "code",
   "execution_count": 1,
   "metadata": {
    "ExecuteTime": {
     "end_time": "2020-02-01T20:59:48.341903Z",
     "start_time": "2020-02-01T20:59:46.526946Z"
    }
   },
   "outputs": [
    {
     "name": "stdout",
     "output_type": "stream",
     "text": [
      "status code: 200\n",
      "[{'recipient_id': 'default', 'text': 'Hey! How are you?'}]\n"
     ]
    }
   ],
   "source": [
    "import requests\n",
    "from pprint import pprint\n",
    "def talk(sents, sender='default', port=5005):\n",
    "    response = requests.post(f'http://localhost:{port}/webhooks/rest/webhook',\n",
    "                             json={'message': sents, 'sender':sender})\n",
    "    print('status code:', response.status_code)\n",
    "    pprint(response.json())\n",
    "    \n",
    "talk('hi')"
   ]
  },
  {
   "cell_type": "markdown",
   "metadata": {},
   "source": [
    "* 这是结合rasa-agent, ruleset, rasa-nlu的调用案例\n",
    "* 'list some products'会被推断到意图list_products, 而这个意图会触发action: action_list_products, 而这个action会返回包含product_list字段的数据\n",
    "* 实际的应用会连接到backend(比如odoo或ofbiz), 来获取数据库中的真实数据."
   ]
  },
  {
   "cell_type": "code",
   "execution_count": 3,
   "metadata": {
    "ExecuteTime": {
     "end_time": "2020-02-01T21:00:33.037060Z",
     "start_time": "2020-02-01T21:00:32.751097Z"
    }
   },
   "outputs": [
    {
     "name": "stdout",
     "output_type": "stream",
     "text": [
      "status code: 200\n",
      "[{'custom': {'product_list': ['first prod', 'second prod'],\n",
      "             'result': 'success'},\n",
      "  'recipient_id': 'default'}]\n"
     ]
    }
   ],
   "source": [
    "talk('list some products')"
   ]
  },
  {
   "cell_type": "code",
   "execution_count": 3,
   "metadata": {
    "ExecuteTime": {
     "end_time": "2020-01-28T21:03:56.895140Z",
     "start_time": "2020-01-28T21:03:56.855294Z"
    }
   },
   "outputs": [
    {
     "name": "stdout",
     "output_type": "stream",
     "text": [
      "[{'custom': {'media_list': ['first song', 'second song'],\n",
      "             'media_type': 'music',\n",
      "             'result': 'success',\n",
      "             'sents': 'hi'},\n",
      "  'recipient_id': 'default'}]\n"
     ]
    }
   ],
   "source": [
    "# preq: \n",
    "# $ rasa run --enable-api -v\n",
    "# $ rasa run actions\n",
    "\n",
    "port=5005\n",
    "values={\"object_type\": 'music',\n",
    "        \"sents\":'hi',\n",
    "        'parameters': []}\n",
    "values_str=json.dumps(values, ensure_ascii=False)\n",
    "# text = f'/{ac[\"intent\"]}{{\"object_type\": \"{ac[\"object_type\"]}\", \"sents\":\"{ac[\"sents\"]}\"}}'\n",
    "text = f'/ask_perform_media{values_str}'\n",
    "data = {'sender': 'default', \"message\": text}\n",
    "response = requests.post(f'http://localhost:{port}/webhooks/rest/webhook', json=data)\n",
    "# print('status code:', response.status_code)\n",
    "if response.status_code==200:\n",
    "    pprint(response.json())"
   ]
  },
  {
   "cell_type": "markdown",
   "metadata": {},
   "source": [
    "* 使用http-api来直接调用对应act_products意图的action, 这种方式对于测试action比较方便\n",
    "* 如果需要携带参数, 可以在message之后附带上就可以了, 参数值在action里可以用get_slot得到\n",
    "* 因为在train的时候去掉了keras策略, 所以train的过程非常快(因为没有lstm神经网络的训练时耗), 等到actions测试完成后, 可以再加上keras策略"
   ]
  },
  {
   "cell_type": "code",
   "execution_count": 6,
   "metadata": {
    "ExecuteTime": {
     "end_time": "2020-01-31T17:31:42.640205Z",
     "start_time": "2020-01-31T17:31:42.361792Z"
    }
   },
   "outputs": [
    {
     "name": "stdout",
     "output_type": "stream",
     "text": [
      "[{'custom': {'product_list': [{'id': 38, 'name': '[CONS_25630] Screw'},\n",
      "                              {'id': 37, 'name': '[CONS_89957] Bolt'},\n",
      "                              {'id': 13,\n",
      "                               'name': '[DESK0004] Customizable Desk '\n",
      "                                       '(Aluminium, Black)'},\n",
      "                              {'id': 49,\n",
      "                               'name': '[DESK0005] Customizable Desk (Custom, '\n",
      "                                       'White)'},\n",
      "                              {'id': 50,\n",
      "                               'name': '[DESK0006] Customizable Desk (Custom, '\n",
      "                                       'Black)'},\n",
      "                              {'id': 47, 'name': '[Deposit] Deposit'},\n",
      "                              {'id': 14,\n",
      "                               'name': '[E-COM06] Corner Desk Right Sit'},\n",
      "                              {'id': 15, 'name': '[E-COM07] Large Cabinet'},\n",
      "                              {'id': 16, 'name': '[E-COM08] Storage Box'},\n",
      "                              {'id': 17, 'name': '[E-COM09] Large Desk'},\n",
      "                              {'id': 18, 'name': '[E-COM10] Pedal Bin'},\n",
      "                              {'id': 19,\n",
      "                               'name': '[E-COM11] Cabinet with Doors'},\n",
      "                              {'id': 20,\n",
      "                               'name': '[E-COM12] Conference Chair (Steel)'},\n",
      "                              {'id': 21,\n",
      "                               'name': '[E-COM13] Conference Chair '\n",
      "                                       '(Aluminium)'},\n",
      "                              {'id': 2, 'name': '[EXP_HA] Hotel Accommodation'},\n",
      "                              {'id': 1,\n",
      "                               'name': '[EXP_REST] Restaurant Expenses'},\n",
      "                              {'id': 10,\n",
      "                               'name': '[FURN_0096] Customizable Desk (Steel, '\n",
      "                                       'White)'},\n",
      "                              {'id': 11,\n",
      "                               'name': '[FURN_0097] Customizable Desk (Steel, '\n",
      "                                       'Black)'},\n",
      "                              {'id': 12,\n",
      "                               'name': '[FURN_0098] Customizable Desk '\n",
      "                                       '(Aluminium, White)'},\n",
      "                              {'id': 22,\n",
      "                               'name': '[FURN_0269] Office Chair Black'},\n",
      "                              {'id': 27,\n",
      "                               'name': '[FURN_0789] Individual Workplace'},\n",
      "                              {'id': 23,\n",
      "                               'name': '[FURN_1118] Corner Desk Black'},\n",
      "                              {'id': 45, 'name': '[FURN_2100] Drawer Black'},\n",
      "                              {'id': 36, 'name': '[FURN_2333] Table Leg'},\n",
      "                              {'id': 33,\n",
      "                               'name': '[FURN_5555] Cable Management Box'},\n",
      "                              {'id': 46,\n",
      "                               'name': '[FURN_5623] Drawer Case Black'},\n",
      "                              {'id': 28,\n",
      "                               'name': '[FURN_6666] Acoustic Bloc Screens'},\n",
      "                              {'id': 31,\n",
      "                               'name': '[FURN_6741] Large Meeting Table'},\n",
      "                              {'id': 42, 'name': '[FURN_7023] Wood Panel'},\n",
      "                              {'id': 39, 'name': '[FURN_7111] Ply Layer'},\n",
      "                              {'id': 5, 'name': '[FURN_7777] Office Chair'},\n",
      "                              {'id': 8, 'name': '[FURN_7800] Desk Combination'},\n",
      "                              {'id': 44, 'name': '[FURN_78236] Table Kit'},\n",
      "                              {'id': 26,\n",
      "                               'name': '[FURN_7888] Desk Stand with Screen'},\n",
      "                              {'id': 40, 'name': '[FURN_8111] Wear Layer'},\n",
      "                              {'id': 30,\n",
      "                               'name': '[FURN_8220] Four Person Desk'},\n",
      "                              {'id': 35, 'name': '[FURN_8522] Table Top'},\n",
      "                              {'id': 43,\n",
      "                               'name': '[FURN_8621] Plastic Laminate'},\n",
      "                              {'id': 29, 'name': '[FURN_8855] Drawer'},\n",
      "                              {'id': 6, 'name': '[FURN_8888] Office Lamp'},\n",
      "                              {'id': 24, 'name': '[FURN_8900] Drawer Black'},\n",
      "                              {'id': 32, 'name': '[FURN_8999] Three-Seat Sofa'},\n",
      "                              {'id': 25, 'name': '[FURN_9001] Flipover'},\n",
      "                              {'id': 41, 'name': '[FURN_9111] Ply Veneer'},\n",
      "                              {'id': 34, 'name': '[FURN_9666] Table (MTO)'},\n",
      "                              {'id': 7,\n",
      "                               'name': '[FURN_9999] Office Design Software'},\n",
      "                              {'id': 48, 'name': 'Chair floor protection'},\n",
      "                              {'id': 4, 'name': 'Virtual Home Staging'},\n",
      "                              {'id': 3, 'name': 'Virtual Interior Design'}],\n",
      "             'result': 'success'},\n",
      "  'recipient_id': 'default'}]\n"
     ]
    }
   ],
   "source": [
    "import requests\n",
    "from pprint import pprint\n",
    "\n",
    "port=5005\n",
    "text = f'/act_products'\n",
    "data = {'sender': 'default', \"message\": text}\n",
    "response = requests.post(f'http://localhost:{port}/webhooks/rest/webhook', json=data)\n",
    "# print('status code:', response.status_code)\n",
    "if response.status_code==200:\n",
    "    pprint(response.json())"
   ]
  }
 ],
 "metadata": {
  "kernelspec": {
   "display_name": "Python 3",
   "language": "python",
   "name": "python3"
  },
  "language_info": {
   "codemirror_mode": {
    "name": "ipython",
    "version": 3
   },
   "file_extension": ".py",
   "mimetype": "text/x-python",
   "name": "python",
   "nbconvert_exporter": "python",
   "pygments_lexer": "ipython3",
   "version": "3.6.9"
  },
  "varInspector": {
   "cols": {
    "lenName": 16,
    "lenType": 16,
    "lenVar": 40
   },
   "kernels_config": {
    "python": {
     "delete_cmd_postfix": "",
     "delete_cmd_prefix": "del ",
     "library": "var_list.py",
     "varRefreshCmd": "print(var_dic_list())"
    },
    "r": {
     "delete_cmd_postfix": ") ",
     "delete_cmd_prefix": "rm(",
     "library": "var_list.r",
     "varRefreshCmd": "cat(var_dic_list()) "
    }
   },
   "types_to_exclude": [
    "module",
    "function",
    "builtin_function_or_method",
    "instance",
    "_Feature"
   ],
   "window_display": false
  }
 },
 "nbformat": 4,
 "nbformat_minor": 2
}
