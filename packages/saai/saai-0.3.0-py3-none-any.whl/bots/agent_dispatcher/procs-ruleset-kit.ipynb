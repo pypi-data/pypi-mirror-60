{
 "cells": [
  {
   "cell_type": "code",
   "execution_count": null,
   "metadata": {
    "ExecuteTime": {
     "end_time": "2020-01-23T07:08:05.427855Z",
     "start_time": "2020-01-23T07:08:05.423483Z"
    }
   },
   "outputs": [],
   "source": [
    "# import sys\n",
    "# prefix='/pi/ws/sagas-ai/bots/agent_dispatcher'\n",
    "# sys.path.append(prefix)"
   ]
  },
  {
   "cell_type": "markdown",
   "metadata": {},
   "source": [
    "* 通过语法解析来进行意图推断, 并提取相应的参数"
   ]
  },
  {
   "cell_type": "code",
   "execution_count": 1,
   "metadata": {
    "ExecuteTime": {
     "end_time": "2020-01-26T00:49:41.061848Z",
     "start_time": "2020-01-26T00:49:38.401940Z"
    }
   },
   "outputs": [
    {
     "name": "stdout",
     "output_type": "stream",
     "text": [
      "cust_ents inspectors.cust_entity_inspector.CustEntityInspector\n",
      "✁ ------------------------- r1\n",
      "\u001b[35m(en) you took fifty damage\u001b[0m\n",
      "verb_domains 2 took take ['rel', 'lemma', 'word', 'index', 'stems', 'lang', 'sents']\n",
      "[('nsubj', '1', 'you', 'you', ['you'], ['c_pron', 'x_prp']),\n",
      " ('obj', '4', 'damage', 'damage', ['fifty', 'damage'], ['c_noun', 'x_nn']),\n",
      " ('punct', '5', '.', '.', ['.'], ['c_punct', 'x_.'])]\n",
      "\u001b[36m✖ (food) root with obl is ins_cust_ents(cuisine): False\u001b[0m\n",
      "\u001b[34m¤food¤ result: False\u001b[0m\n",
      "✁ ------------------------- r1\n",
      "\u001b[35m(en) you took fifty damage\u001b[0m\n",
      "verb_domains 2 took take ['rel', 'lemma', 'word', 'index', 'stems', 'lang', 'sents']\n",
      "[('nsubj', '1', 'you', 'you', ['you'], ['c_pron', 'x_prp']),\n",
      " ('obj', '4', 'damage', 'damage', ['fifty', 'damage'], ['c_noun', 'x_nn']),\n",
      " ('punct', '5', '.', '.', ['.'], ['c_punct', 'x_.'])]\n",
      "\u001b[32m.. damage/damage is damage: True\u001b[0m\n",
      "\u001b[31m✔ (injured) verb with pos is behave_of(take,v): True, pos is ins_path(any obj is damage@n): True, obj is Inspector('ins_date'): True\u001b[0m\n",
      "\u001b[32m.. results 2\u001b[0m\n",
      "\u001b[33m{'behave_of/default/predicate', 'ins_date/duckling/obj'}\u001b[0m\n",
      "value: 50\n"
     ]
    },
    {
     "data": {
      "text/plain": [
       "{'behave_of/default/...': {'category': 'take', 'pos': 'v'},\n",
       " 'ins_date/duckling/...': ''}"
      ]
     },
     "metadata": {},
     "output_type": "display_data"
    },
    {
     "name": "stdout",
     "output_type": "stream",
     "text": [
      "\u001b[34m¤injured¤ result: True\u001b[0m\n",
      "✁ ------------------------- r1\n",
      "\u001b[35m(en) you took fifty damage\u001b[0m\n",
      "verb_domains 2 took take ['rel', 'lemma', 'word', 'index', 'stems', 'lang', 'sents']\n",
      "[('nsubj', '1', 'you', 'you', ['you'], ['c_pron', 'x_prp']),\n",
      " ('obj', '4', 'damage', 'damage', ['fifty', 'damage'], ['c_noun', 'x_nn']),\n",
      " ('punct', '5', '.', '.', ['.'], ['c_punct', 'x_.'])]\n",
      "\u001b[36m✖ (dead) cop with pos is behave_of(dead,a): False, nsubj is ['c_pron', 'c_noun', 'c_propn']: True, cop is c_aux: False\u001b[0m\n",
      "\u001b[34m¤dead¤ result: False\u001b[0m\n"
     ]
    },
    {
     "data": {
      "text/plain": [
       "[{'intent': 'food', 'result': False, 'data': []},\n",
       " {'intent': 'injured',\n",
       "  'result': True,\n",
       "  'data': [{'inspector': 'behave_of',\n",
       "    'provider': 'default',\n",
       "    'part': 'predicate',\n",
       "    'value': {'category': 'take', 'pos': 'v'},\n",
       "    'delivery': 'sentence'},\n",
       "   {'inspector': 'ins_date',\n",
       "    'provider': 'duckling',\n",
       "    'part': 'obj',\n",
       "    'value': [{'body': 'fifty',\n",
       "      'start': 0,\n",
       "      'value': {'value': 50, 'type': 'value'},\n",
       "      'end': 5,\n",
       "      'dim': 'number',\n",
       "      'latent': False}],\n",
       "    'delivery': 'slot'}]},\n",
       " {'intent': 'dead', 'result': False, 'data': []}]"
      ]
     },
     "execution_count": 1,
     "metadata": {},
     "output_type": "execute_result"
    }
   ],
   "source": [
    "from sagas.kit.rulesets_kit import RulesetsKit\n",
    "from sagas.nlu.inspector_registry import ci\n",
    "from pprint import pprint\n",
    "sents='you took fifty damage'\n",
    "lang='en'\n",
    "prefix='.'\n",
    "rs = RulesetsKit().execute(f\"{prefix}/assets/rs_common_{lang}.yml\",\n",
    "                           test_intent=None,\n",
    "                           test_sents=sents,\n",
    "                           show_graph=False)\n",
    "rs"
   ]
  },
  {
   "cell_type": "markdown",
   "metadata": {},
   "source": [
    "* 过滤掉不匹配的意图"
   ]
  },
  {
   "cell_type": "code",
   "execution_count": 2,
   "metadata": {
    "ExecuteTime": {
     "end_time": "2020-01-23T18:10:52.516096Z",
     "start_time": "2020-01-23T18:10:52.494429Z"
    }
   },
   "outputs": [
    {
     "data": {
      "text/plain": [
       "[{'intent': 'injured',\n",
       "  'result': True,\n",
       "  'data': [{'inspector': 'behave_of',\n",
       "    'provider': 'default',\n",
       "    'part': 'predicate',\n",
       "    'value': {'category': 'take', 'pos': 'v'},\n",
       "    'delivery': 'sentence'},\n",
       "   {'inspector': 'ins_date',\n",
       "    'provider': 'duckling',\n",
       "    'part': 'obj',\n",
       "    'value': [{'body': 'fifty',\n",
       "      'start': 0,\n",
       "      'value': {'value': 50, 'type': 'value'},\n",
       "      'end': 5,\n",
       "      'dim': 'number',\n",
       "      'latent': False}],\n",
       "    'delivery': 'slot'}]}]"
      ]
     },
     "execution_count": 2,
     "metadata": {},
     "output_type": "execute_result"
    }
   ],
   "source": [
    "intents=[intent for intent in rs if intent['result']]\n",
    "intents"
   ]
  },
  {
   "cell_type": "markdown",
   "metadata": {},
   "source": [
    "* 在意图匹配测试时, inspectors同时进行值测试和参数提取, 提取结果的数据结构较复杂\n",
    "* 所以需要根据需要进行过滤/修剪; 使用函数映射表来做这个工作, 默认只提取意图名"
   ]
  },
  {
   "cell_type": "code",
   "execution_count": 3,
   "metadata": {
    "ExecuteTime": {
     "end_time": "2020-01-23T18:11:12.178928Z",
     "start_time": "2020-01-23T18:11:12.137943Z"
    }
   },
   "outputs": [
    {
     "data": {
      "text/plain": [
       "[{'intent': 'injured', 'value': 50}]"
      ]
     },
     "execution_count": 3,
     "metadata": {},
     "output_type": "execute_result"
    }
   ],
   "source": [
    "def digest_injured(intent):\n",
    "    from jsonpath_ng import jsonpath, parse    \n",
    "    jsonpath_expr = parse('data[*].value[*].value.value')\n",
    "    val=next(match.value for match in jsonpath_expr.find(intent))\n",
    "    return {'value':val}\n",
    "\n",
    "# intent -> filter/extractor\n",
    "intent_procs={'injured':digest_injured}\n",
    "\n",
    "resp_msgs=[]\n",
    "for intent in intents:\n",
    "    intent_name=intent['intent']\n",
    "    resp_msg={'intent':intent_name}  # default extractor\n",
    "    \n",
    "    if intent_name in intent_procs:\n",
    "        resp_msg.update(intent_procs[intent_name](intent))\n",
    "    resp_msgs.append(resp_msg)\n",
    "resp_msgs"
   ]
  },
  {
   "cell_type": "markdown",
   "metadata": {},
   "source": [
    "* 关于jsonpath_ng, 参考:\n",
    "⊕ [jsonpath-ng · PyPI](https://pypi.org/project/jsonpath-ng/)"
   ]
  },
  {
   "cell_type": "code",
   "execution_count": 2,
   "metadata": {
    "ExecuteTime": {
     "end_time": "2020-01-28T08:53:48.019855Z",
     "start_time": "2020-01-28T08:53:47.914442Z"
    }
   },
   "outputs": [
    {
     "name": "stdout",
     "output_type": "stream",
     "text": [
      ".. with extractor rasa\n",
      "✁ ------------------------- r4\n",
      "\u001b[35m(en) you took fifty damage\u001b[0m\n",
      "verb_domains 2 took take ['rel', 'lemma', 'word', 'index', 'stems', 'lang', 'sents']\n",
      "[('nsubj', '1', 'you', 'you', ['you'], ['c_pron', 'x_prp']),\n",
      " ('obj', '4', 'damage', 'damage', ['fifty', 'damage'], ['c_noun', 'x_nn']),\n",
      " ('punct', '5', '.', '.', ['.'], ['c_punct', 'x_.'])]\n",
      "\u001b[36m✖ (food) root with obl is ins_cust_ents(cuisine): False\u001b[0m\n",
      "\u001b[34m¤food¤ result: False\u001b[0m\n",
      "✁ ------------------------- r5\n",
      "\u001b[35m(en) you took fifty damage\u001b[0m\n",
      "verb_domains 2 took take ['rel', 'lemma', 'word', 'index', 'stems', 'lang', 'sents']\n",
      "[('nsubj', '1', 'you', 'you', ['you'], ['c_pron', 'x_prp']),\n",
      " ('obj', '4', 'damage', 'damage', ['fifty', 'damage'], ['c_noun', 'x_nn']),\n",
      " ('punct', '5', '.', '.', ['.'], ['c_punct', 'x_.'])]\n",
      "\u001b[32m.. damage/damage is damage: True\u001b[0m\n",
      "\u001b[31m✔ (injured) verb with pos is behave_of(take,v): True, pos is ins_path(any obj is damage@n): True, obj is Inspector('ins_date'): True\u001b[0m\n",
      "\u001b[32m.. results 2\u001b[0m\n",
      "\u001b[33m{'behave_of/default/predicate', 'ins_date/duckling/obj'}\u001b[0m\n",
      "value: 50\n"
     ]
    },
    {
     "data": {
      "text/plain": [
       "{'behave_of/default/...': {'category': 'take', 'pos': 'v'},\n",
       " 'ins_date/duckling/...': ''}"
      ]
     },
     "metadata": {},
     "output_type": "display_data"
    },
    {
     "name": "stdout",
     "output_type": "stream",
     "text": [
      "\u001b[34m¤injured¤ result: True\u001b[0m\n",
      "✁ ------------------------- r5\n",
      "\u001b[35m(en) you took fifty damage\u001b[0m\n",
      "verb_domains 2 took take ['rel', 'lemma', 'word', 'index', 'stems', 'lang', 'sents']\n",
      "[('nsubj', '1', 'you', 'you', ['you'], ['c_pron', 'x_prp']),\n",
      " ('obj', '4', 'damage', 'damage', ['fifty', 'damage'], ['c_noun', 'x_nn']),\n",
      " ('punct', '5', '.', '.', ['.'], ['c_punct', 'x_.'])]\n",
      "\u001b[36m✖ (dead) cop with pos is behave_of(dead,a): False, nsubj is ['c_pron', 'c_noun', 'c_propn']: True, cop is c_aux: False\u001b[0m\n",
      "\u001b[34m¤dead¤ result: False\u001b[0m\n"
     ]
    },
    {
     "data": {
      "text/plain": [
       "[{'intent': 'injured',\n",
       "  'result': True,\n",
       "  'priority': 5,\n",
       "  'confidence': 1.0,\n",
       "  'text': 'you took fifty damage',\n",
       "  'data': [{'confidence': None,\n",
       "    'start': 4,\n",
       "    'end': 8,\n",
       "    'entity': 'verb_domains',\n",
       "    'extractor': 'ruleset',\n",
       "    'value': 'took/take',\n",
       "    'additional_info': [{'inspector': 'behave_of',\n",
       "      'provider': 'default',\n",
       "      'part': 'predicate',\n",
       "      'value': {'category': 'take', 'pos': 'v'},\n",
       "      'delivery': 'sentence'},\n",
       "     {'inspector': 'ins_date',\n",
       "      'provider': 'duckling',\n",
       "      'part': 'obj',\n",
       "      'value': [{'body': 'fifty',\n",
       "        'start': 0,\n",
       "        'value': {'value': 50, 'type': 'value'},\n",
       "        'end': 5,\n",
       "        'dim': 'number',\n",
       "        'latent': False}],\n",
       "      'delivery': 'slot'}]}]}]"
      ]
     },
     "execution_count": 2,
     "metadata": {},
     "output_type": "execute_result"
    }
   ],
   "source": [
    "from sagas.kit.rulesets_kit import RulesetsKit\n",
    "from sagas.nlu.inspector_registry import ci\n",
    "from pprint import pprint\n",
    "sents='you took fifty damage'\n",
    "lang='en'\n",
    "prefix='.'\n",
    "kit=RulesetsKit('rasa')\n",
    "rs = kit.execute(f\"{prefix}/assets/rs_common_{lang}.yml\",\n",
    "                           test_intent=None,\n",
    "                           test_sents=sents,\n",
    "                           show_graph=False)\n",
    "# rs\n",
    "ok_list=[intent for intent in rs if intent['result']]\n",
    "ok_list"
   ]
  },
  {
   "cell_type": "code",
   "execution_count": 6,
   "metadata": {
    "ExecuteTime": {
     "end_time": "2020-01-28T08:57:50.074856Z",
     "start_time": "2020-01-28T08:57:50.062958Z"
    }
   },
   "outputs": [
    {
     "data": {
      "text/plain": [
       "[{'intent': 'injured',\n",
       "  'result': True,\n",
       "  'priority': 5,\n",
       "  'confidence': 1.0,\n",
       "  'text': 'you took fifty damage',\n",
       "  'data': [{'confidence': None,\n",
       "    'start': 4,\n",
       "    'end': 8,\n",
       "    'entity': 'verb_domains',\n",
       "    'extractor': 'ruleset',\n",
       "    'value': 'took/take',\n",
       "    'additional_info': [{'inspector': 'behave_of',\n",
       "      'provider': 'default',\n",
       "      'part': 'predicate',\n",
       "      'value': {'category': 'take', 'pos': 'v'},\n",
       "      'delivery': 'sentence'},\n",
       "     {'inspector': 'ins_date',\n",
       "      'provider': 'duckling',\n",
       "      'part': 'obj',\n",
       "      'value': [{'body': 'fifty',\n",
       "        'start': 0,\n",
       "        'value': {'value': 50, 'type': 'value'},\n",
       "        'end': 5,\n",
       "        'dim': 'number',\n",
       "        'latent': False}],\n",
       "      'delivery': 'slot'}]}]}]"
      ]
     },
     "execution_count": 6,
     "metadata": {},
     "output_type": "execute_result"
    }
   ],
   "source": [
    "rankings=sorted(ok_list, key=lambda e: e['confidence'], reverse=True)\n",
    "rankings"
   ]
  },
  {
   "cell_type": "code",
   "execution_count": 12,
   "metadata": {
    "ExecuteTime": {
     "end_time": "2020-01-28T09:02:21.662253Z",
     "start_time": "2020-01-28T09:02:21.653342Z"
    }
   },
   "outputs": [
    {
     "data": {
      "text/plain": [
       "[]"
      ]
     },
     "execution_count": 12,
     "metadata": {},
     "output_type": "execute_result"
    }
   ],
   "source": [
    "rankings[1:]"
   ]
  },
  {
   "cell_type": "code",
   "execution_count": 14,
   "metadata": {
    "ExecuteTime": {
     "end_time": "2020-01-28T09:15:52.592163Z",
     "start_time": "2020-01-28T09:15:52.567323Z"
    }
   },
   "outputs": [
    {
     "data": {
      "text/plain": [
       "{'intent': {'confidence': 1.0, 'name': 'injured'},\n",
       " 'text': 'you took fifty damage',\n",
       " 'entities': [{'confidence': None,\n",
       "   'start': 4,\n",
       "   'end': 8,\n",
       "   'entity': 'verb_domains',\n",
       "   'extractor': 'ruleset',\n",
       "   'value': 'took/take',\n",
       "   'additional_info': [{'inspector': 'behave_of',\n",
       "     'provider': 'default',\n",
       "     'part': 'predicate',\n",
       "     'value': {'category': 'take', 'pos': 'v'},\n",
       "     'delivery': 'sentence'},\n",
       "    {'inspector': 'ins_date',\n",
       "     'provider': 'duckling',\n",
       "     'part': 'obj',\n",
       "     'value': [{'body': 'fifty',\n",
       "       'start': 0,\n",
       "       'value': {'value': 50, 'type': 'value'},\n",
       "       'end': 5,\n",
       "       'dim': 'number',\n",
       "       'latent': False}],\n",
       "     'delivery': 'slot'}]}],\n",
       " 'intent_ranking': []}"
      ]
     },
     "execution_count": 14,
     "metadata": {},
     "output_type": "execute_result"
    }
   ],
   "source": [
    "rank=rankings[0]\n",
    "{\n",
    "    'intent': {'confidence': rank['confidence'], 'name': rank['intent']},\n",
    "    'text': rank['text'],\n",
    "    'entities': rank['data'],\n",
    "    'intent_ranking': [{'confidence': e['confidence'], 'name': e['intent']} for e in rankings[1:]],\n",
    "}"
   ]
  },
  {
   "cell_type": "code",
   "execution_count": 3,
   "metadata": {
    "ExecuteTime": {
     "end_time": "2020-01-28T08:53:51.788372Z",
     "start_time": "2020-01-28T08:53:51.780380Z"
    }
   },
   "outputs": [
    {
     "data": {
      "text/plain": [
       "['injured']"
      ]
     },
     "execution_count": 3,
     "metadata": {},
     "output_type": "execute_result"
    }
   ],
   "source": [
    "kit.intent_matched"
   ]
  },
  {
   "cell_type": "code",
   "execution_count": 16,
   "metadata": {
    "ExecuteTime": {
     "end_time": "2020-01-28T09:28:16.856329Z",
     "start_time": "2020-01-28T09:28:16.846142Z"
    }
   },
   "outputs": [
    {
     "data": {
      "text/plain": [
       "['./__init__.py',\n",
       " './servants/avatar_blueprints.py',\n",
       " './servants/__init__.py',\n",
       " './servants/avatar_servant.py',\n",
       " './actions/actions.py',\n",
       " './actions/__init__.py',\n",
       " './inspectors/cust_entity_inspector.py',\n",
       " './inspectors/__init__.py',\n",
       " './rulesets/rules_es.py',\n",
       " './rulesets/__init__.py']"
      ]
     },
     "execution_count": 16,
     "metadata": {},
     "output_type": "execute_result"
    }
   ],
   "source": [
    "import io_utils\n",
    "io_utils.list_with_suffix('.', 'py')"
   ]
  },
  {
   "cell_type": "code",
   "execution_count": 1,
   "metadata": {
    "ExecuteTime": {
     "end_time": "2020-01-28T09:30:41.968733Z",
     "start_time": "2020-01-28T09:30:41.931085Z"
    }
   },
   "outputs": [
    {
     "data": {
      "text/plain": [
       "['./__init__.py',\n",
       " './servants/avatar_blueprints.py',\n",
       " './servants/__init__.py',\n",
       " './servants/avatar_servant.py',\n",
       " './actions/actions.py',\n",
       " './actions/__init__.py',\n",
       " './inspectors/cust_entity_inspector.py',\n",
       " './inspectors/__init__.py',\n",
       " './rulesets/rules_es.py',\n",
       " './rulesets/__init__.py']"
      ]
     },
     "execution_count": 1,
     "metadata": {},
     "output_type": "execute_result"
    }
   ],
   "source": [
    "import io_utils\n",
    "io_utils.list_match('.', '*.py')"
   ]
  }
 ],
 "metadata": {
  "kernelspec": {
   "display_name": "Python 3",
   "language": "python",
   "name": "python3"
  },
  "language_info": {
   "codemirror_mode": {
    "name": "ipython",
    "version": 3
   },
   "file_extension": ".py",
   "mimetype": "text/x-python",
   "name": "python",
   "nbconvert_exporter": "python",
   "pygments_lexer": "ipython3",
   "version": "3.6.9"
  },
  "varInspector": {
   "cols": {
    "lenName": 16,
    "lenType": 16,
    "lenVar": 40
   },
   "kernels_config": {
    "python": {
     "delete_cmd_postfix": "",
     "delete_cmd_prefix": "del ",
     "library": "var_list.py",
     "varRefreshCmd": "print(var_dic_list())"
    },
    "r": {
     "delete_cmd_postfix": ") ",
     "delete_cmd_prefix": "rm(",
     "library": "var_list.r",
     "varRefreshCmd": "cat(var_dic_list()) "
    }
   },
   "types_to_exclude": [
    "module",
    "function",
    "builtin_function_or_method",
    "instance",
    "_Feature"
   ],
   "window_display": false
  }
 },
 "nbformat": 4,
 "nbformat_minor": 2
}
