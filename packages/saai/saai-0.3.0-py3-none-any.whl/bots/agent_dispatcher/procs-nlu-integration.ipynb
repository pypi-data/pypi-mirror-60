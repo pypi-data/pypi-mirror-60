{
 "cells": [
  {
   "cell_type": "markdown",
   "metadata": {},
   "source": [
    "* preq: $ start nlu_multilang"
   ]
  },
  {
   "cell_type": "code",
   "execution_count": 1,
   "metadata": {
    "ExecuteTime": {
     "end_time": "2020-02-01T20:51:47.937741Z",
     "start_time": "2020-02-01T20:51:31.960474Z"
    }
   },
   "outputs": [
    {
     "name": "stdout",
     "output_type": "stream",
     "text": [
      "status code: 200\n",
      "{'entities': [{'confidence': None,\n",
      "               'end': 16,\n",
      "               'entity': 'PERSON',\n",
      "               'extractor': 'FacadeEntityExtractor',\n",
      "               'start': 11,\n",
      "               'value': 'Sally'},\n",
      "              {'confidence': 0.8280968279,\n",
      "               'end': 16,\n",
      "               'entity': 'name',\n",
      "               'extractor': 'CRFEntityExtractor',\n",
      "               'start': 11,\n",
      "               'value': 'Sally'}],\n",
      " 'intent': {'confidence': 0.9687412977, 'name': 'name'},\n",
      " 'intent_ranking': [{'confidence': 0.9687412977, 'name': 'name'},\n",
      "                    {'confidence': 0.0089902561, 'name': 'bot_challenge'},\n",
      "                    {'confidence': 0.008095108, 'name': 'stop'},\n",
      "                    {'confidence': 0.0043132473, 'name': 'deny'},\n",
      "                    {'confidence': 0.0034711116,\n",
      "                     'name': 'query_knowledge_base'},\n",
      "                    {'confidence': 0.0033788278, 'name': 'request_restaurant'},\n",
      "                    {'confidence': 0.0012123703, 'name': 'greet'},\n",
      "                    {'confidence': 0.0007301996, 'name': 'inform'},\n",
      "                    {'confidence': 0.0005065036, 'name': 'joke'},\n",
      "                    {'confidence': 0.0003491588, 'name': 'affirm'}],\n",
      " 'text': 'my name is Sally'}\n"
     ]
    }
   ],
   "source": [
    "import requests\n",
    "from pprint import pprint\n",
    "\n",
    "def invoke_vari(sents, port=5009):\n",
    "    url=f'http://localhost:{port}/nlu/en'\n",
    "    response = requests.post(f'{url}/model/parse', json={'text': sents})\n",
    "    print('status code:', response.status_code)\n",
    "    pprint(response.json())\n",
    "\n",
    "invoke_vari('my name is Sally')"
   ]
  },
  {
   "cell_type": "code",
   "execution_count": 12,
   "metadata": {
    "ExecuteTime": {
     "end_time": "2020-01-28T20:27:54.417844Z",
     "start_time": "2020-01-28T20:27:50.593331Z"
    }
   },
   "outputs": [
    {
     "name": "stdout",
     "output_type": "stream",
     "text": [
      "status code: 200\n",
      "{'entities': [{'additional_info': [{'delivery': 'sentence',\n",
      "                                    'inspector': 'behave_of',\n",
      "                                    'part': 'predicate',\n",
      "                                    'provider': 'default',\n",
      "                                    'value': {'category': 'dead', 'pos': 'a'}}],\n",
      "               'confidence': None,\n",
      "               'end': 7,\n",
      "               'entity': 'aux_domains',\n",
      "               'extractor': 'ruleset',\n",
      "               'start': 4,\n",
      "               'value': 'are/be'}],\n",
      " 'intent': {'confidence': 1.0, 'name': 'dead'},\n",
      " 'intent_ranking': [],\n",
      " 'text': 'you are dead'}\n"
     ]
    }
   ],
   "source": [
    "# preq: \n",
    "# $ python -m servants.nlu_dispatcher run 1702 False\n",
    "# $ rasa run --enable-api\n",
    "invoke_vari('you are dead', 1702)"
   ]
  },
  {
   "cell_type": "code",
   "execution_count": 4,
   "metadata": {
    "ExecuteTime": {
     "end_time": "2020-02-01T20:59:07.036152Z",
     "start_time": "2020-02-01T20:59:06.880306Z"
    }
   },
   "outputs": [
    {
     "name": "stdout",
     "output_type": "stream",
     "text": [
      "status code: 200\n",
      "{'entities': [],\n",
      " 'intent': {'confidence': 0.9742670655, 'name': 'bot_challenge'},\n",
      " 'intent_ranking': [{'confidence': 0.9742670655, 'name': 'bot_challenge'},\n",
      "                    {'confidence': 0.0082847727, 'name': 'joke'},\n",
      "                    {'confidence': 0.0072452696, 'name': 'name'},\n",
      "                    {'confidence': 0.0044985358,\n",
      "                     'name': 'query_knowledge_base'},\n",
      "                    {'confidence': 0.0035477472, 'name': 'deny'},\n",
      "                    {'confidence': 0.0008343052, 'name': 'greet'},\n",
      "                    {'confidence': 0.0005364032, 'name': 'request_restaurant'},\n",
      "                    {'confidence': 0.0003316652, 'name': 'chitchat'},\n",
      "                    {'confidence': 0.0001765573, 'name': 'inform'},\n",
      "                    {'confidence': 0.0001743628, 'name': 'thank'}],\n",
      " 'text': 'are you a human?'}\n"
     ]
    }
   ],
   "source": [
    "# 这个调用, 因为rules没有推断出符合条件的意图, 所以fallback到rasa-nlu进行意图的分类,\n",
    "# 也就是说bot_challenge是由rasa-nlu推断出来的\n",
    "invoke_vari('are you a human?', 1702)"
   ]
  },
  {
   "cell_type": "code",
   "execution_count": 8,
   "metadata": {
    "ExecuteTime": {
     "end_time": "2020-01-28T09:50:43.930615Z",
     "start_time": "2020-01-28T09:50:43.891518Z"
    }
   },
   "outputs": [
    {
     "name": "stdout",
     "output_type": "stream",
     "text": [
      "status code: 200\n",
      "{'entities': [{'confidence': None,\n",
      "               'end': 8,\n",
      "               'entity': 'DATE',\n",
      "               'extractor': 'FacadeEntityExtractor',\n",
      "               'start': 0,\n",
      "               'value': 'tomorrow'},\n",
      "              {'confidence': None,\n",
      "               'end': 17,\n",
      "               'entity': 'CARDINAL',\n",
      "               'extractor': 'FacadeEntityExtractor',\n",
      "               'start': 12,\n",
      "               'value': 'eight'},\n",
      "              {'additional_info': {'grain': 'hour',\n",
      "                                   'type': 'value',\n",
      "                                   'value': '2020-01-29T08:00:00.000-08:00',\n",
      "                                   'values': [{'grain': 'hour',\n",
      "                                               'type': 'value',\n",
      "                                               'value': '2020-01-29T08:00:00.000-08:00'},\n",
      "                                              {'grain': 'hour',\n",
      "                                               'type': 'value',\n",
      "                                               'value': '2020-01-29T20:00:00.000-08:00'}]},\n",
      "               'confidence': 1.0,\n",
      "               'end': 17,\n",
      "               'entity': 'time',\n",
      "               'extractor': 'DucklingHTTPExtractor',\n",
      "               'start': 0,\n",
      "               'text': 'tomorrow at eight',\n",
      "               'value': '2020-01-29T08:00:00.000-08:00'}],\n",
      " 'intent': {'confidence': 0.4206617475, 'name': 'inform'},\n",
      " 'intent_ranking': [{'confidence': 0.4206617475, 'name': 'inform'},\n",
      "                    {'confidence': 0.1955212504, 'name': 'affirm'},\n",
      "                    {'confidence': 0.1911545396, 'name': 'goodbye'},\n",
      "                    {'confidence': 0.1116819456, 'name': 'greet'},\n",
      "                    {'confidence': 0.0296842996, 'name': 'joke'},\n",
      "                    {'confidence': 0.0137081835, 'name': 'chitchat'},\n",
      "                    {'confidence': 0.0092714243, 'name': 'thank'},\n",
      "                    {'confidence': 0.005840471, 'name': 'deny'},\n",
      "                    {'confidence': 0.0049871206,\n",
      "                     'name': 'query_knowledge_base'},\n",
      "                    {'confidence': 0.0048702052, 'name': 'name'}],\n",
      " 'text': 'tomorrow at eight'}\n"
     ]
    }
   ],
   "source": [
    "invoke_vari('tomorrow at eight')"
   ]
  },
  {
   "cell_type": "code",
   "execution_count": null,
   "metadata": {},
   "outputs": [],
   "source": []
  }
 ],
 "metadata": {
  "kernelspec": {
   "display_name": "Python 3",
   "language": "python",
   "name": "python3"
  },
  "language_info": {
   "codemirror_mode": {
    "name": "ipython",
    "version": 3
   },
   "file_extension": ".py",
   "mimetype": "text/x-python",
   "name": "python",
   "nbconvert_exporter": "python",
   "pygments_lexer": "ipython3",
   "version": "3.6.9"
  },
  "varInspector": {
   "cols": {
    "lenName": 16,
    "lenType": 16,
    "lenVar": 40
   },
   "kernels_config": {
    "python": {
     "delete_cmd_postfix": "",
     "delete_cmd_prefix": "del ",
     "library": "var_list.py",
     "varRefreshCmd": "print(var_dic_list())"
    },
    "r": {
     "delete_cmd_postfix": ") ",
     "delete_cmd_prefix": "rm(",
     "library": "var_list.r",
     "varRefreshCmd": "cat(var_dic_list()) "
    }
   },
   "types_to_exclude": [
    "module",
    "function",
    "builtin_function_or_method",
    "instance",
    "_Feature"
   ],
   "window_display": false
  }
 },
 "nbformat": 4,
 "nbformat_minor": 2
}
