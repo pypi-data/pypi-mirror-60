{
 "cells": [
  {
   "cell_type": "code",
   "execution_count": 2,
   "metadata": {
    "ExecuteTime": {
     "end_time": "2019-12-02T08:44:24.324586Z",
     "start_time": "2019-12-02T08:44:24.305613Z"
    }
   },
   "outputs": [
    {
     "name": "stdout",
     "output_type": "stream",
     "text": [
      "weather is category weather/phenomenon: True\n"
     ]
    }
   ],
   "source": [
    "from rasa.utils.common import class_from_module_path\n",
    "module_path='sagas.nlu.nlu_cli.NluCli'\n",
    "clz=class_from_module_path(module_path)\n",
    "clz().predicate('weather/phenomenon', 'weather', 'en', 'n')"
   ]
  },
  {
   "cell_type": "code",
   "execution_count": 4,
   "metadata": {
    "ExecuteTime": {
     "end_time": "2019-12-02T19:43:40.933760Z",
     "start_time": "2019-12-02T19:43:40.923426Z"
    }
   },
   "outputs": [
    {
     "data": {
      "text/plain": [
       "'class_from_module_path'"
      ]
     },
     "execution_count": 4,
     "metadata": {},
     "output_type": "execute_result"
    }
   ],
   "source": [
    "class_from_module_path.__name__"
   ]
  },
  {
   "cell_type": "code",
   "execution_count": 13,
   "metadata": {
    "ExecuteTime": {
     "end_time": "2019-12-02T22:25:10.574046Z",
     "start_time": "2019-12-02T22:25:10.564545Z"
    }
   },
   "outputs": [
    {
     "name": "stdout",
     "output_type": "stream",
     "text": [
      ".. load mod /pi/stack/conf/mod_multilang.json\n",
      "{'id': ['Rules_id'], 'de': ['Rules_de']}\n"
     ]
    }
   ],
   "source": [
    "import json\n",
    "import glob\n",
    "\n",
    "def load_mods(mod_files):\n",
    "    lang_mods={}\n",
    "    for mod_file in mod_files:\n",
    "        print(f'.. load mod {mod_file}')\n",
    "        with open(mod_file) as f:\n",
    "            cfg=json.load(f)\n",
    "            for k,v in cfg.items():\n",
    "                if k in lang_mods:\n",
    "                    lang_mods[k].extend(v)\n",
    "                else:\n",
    "                    lang_mods[k]=v\n",
    "    return lang_mods\n",
    "\n",
    "# print(load_mods(['/pi/stack/conf/mod_multilang.json']))\n",
    "print(load_mods(glob.glob('/pi/stack/conf/mod_*.json')))"
   ]
  }
 ],
 "metadata": {
  "kernelspec": {
   "display_name": "Python 3",
   "language": "python",
   "name": "python3"
  },
  "language_info": {
   "codemirror_mode": {
    "name": "ipython",
    "version": 3
   },
   "file_extension": ".py",
   "mimetype": "text/x-python",
   "name": "python",
   "nbconvert_exporter": "python",
   "pygments_lexer": "ipython3",
   "version": "3.6.9"
  },
  "varInspector": {
   "cols": {
    "lenName": 16,
    "lenType": 16,
    "lenVar": 40
   },
   "kernels_config": {
    "python": {
     "delete_cmd_postfix": "",
     "delete_cmd_prefix": "del ",
     "library": "var_list.py",
     "varRefreshCmd": "print(var_dic_list())"
    },
    "r": {
     "delete_cmd_postfix": ") ",
     "delete_cmd_prefix": "rm(",
     "library": "var_list.r",
     "varRefreshCmd": "cat(var_dic_list()) "
    }
   },
   "types_to_exclude": [
    "module",
    "function",
    "builtin_function_or_method",
    "instance",
    "_Feature"
   ],
   "window_display": false
  }
 },
 "nbformat": 4,
 "nbformat_minor": 2
}
