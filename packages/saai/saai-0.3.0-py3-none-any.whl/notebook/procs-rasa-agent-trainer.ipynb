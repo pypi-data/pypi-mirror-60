{
 "cells": [
  {
   "cell_type": "code",
   "execution_count": 1,
   "metadata": {
    "ExecuteTime": {
     "end_time": "2019-11-28T17:01:32.588431Z",
     "start_time": "2019-11-28T17:01:04.178143Z"
    }
   },
   "outputs": [
    {
     "name": "stdout",
     "output_type": "stream",
     "text": [
      "WARNING:tensorflow:From /Users/xiaofeiwu/miniconda3/envs/rasa/lib/python3.6/site-packages/tensor2tensor/utils/expert_utils.py:68: The name tf.variable_scope is deprecated. Please use tf.compat.v1.variable_scope instead.\n",
      "\n",
      "WARNING:tensorflow:\n",
      "The TensorFlow contrib module will not be included in TensorFlow 2.0.\n",
      "For more information, please see:\n",
      "  * https://github.com/tensorflow/community/blob/master/rfcs/20180907-contrib-sunset.md\n",
      "  * https://github.com/tensorflow/addons\n",
      "  * https://github.com/tensorflow/io (for I/O related ops)\n",
      "If you depend on functionality not listed there, please file an issue.\n",
      "\n",
      "WARNING:tensorflow:From /Users/xiaofeiwu/miniconda3/envs/rasa/lib/python3.6/site-packages/tensor2tensor/utils/adafactor.py:27: The name tf.train.Optimizer is deprecated. Please use tf.compat.v1.train.Optimizer instead.\n",
      "\n",
      "WARNING:tensorflow:From /Users/xiaofeiwu/miniconda3/envs/rasa/lib/python3.6/site-packages/tensor2tensor/utils/multistep_optimizer.py:32: The name tf.train.AdamOptimizer is deprecated. Please use tf.compat.v1.train.AdamOptimizer instead.\n",
      "\n",
      "WARNING:tensorflow:Failed to load tensor2tensor\n",
      "WARNING:tensorflow:From /Users/xiaofeiwu/miniconda3/envs/rasa/lib/python3.6/site-packages/tensor2tensor/models/research/glow_init_hook.py:25: The name tf.train.SessionRunHook is deprecated. Please use tf.estimator.SessionRunHook instead.\n",
      "\n",
      "WARNING:tensorflow:From /Users/xiaofeiwu/miniconda3/envs/rasa/lib/python3.6/site-packages/tensor2tensor/models/research/neural_stack.py:38: The name tf.nn.rnn_cell.RNNCell is deprecated. Please use tf.compat.v1.nn.rnn_cell.RNNCell instead.\n",
      "\n",
      "WARNING:tensorflow:From /Users/xiaofeiwu/miniconda3/envs/rasa/lib/python3.6/site-packages/tensor2tensor/rl/gym_utils.py:235: The name tf.logging.info is deprecated. Please use tf.compat.v1.logging.info instead.\n",
      "\n",
      "INFO:tensorflow:Entry Point [tensor2tensor.envs.tic_tac_toe_env:TicTacToeEnv] registered with id [T2TEnv-TicTacToeEnv-v0]\n",
      "WARNING:tensorflow:From /Users/xiaofeiwu/miniconda3/envs/rasa/lib/python3.6/site-packages/tensor2tensor/utils/trainer_lib.py:111: The name tf.OptimizerOptions is deprecated. Please use tf.compat.v1.OptimizerOptions instead.\n",
      "\n",
      "WARNING:tensorflow:From /Users/xiaofeiwu/miniconda3/envs/rasa/lib/python3.6/site-packages/tensorflow_gan/python/estimator/tpu_gan_estimator.py:42: The name tf.estimator.tpu.TPUEstimator is deprecated. Please use tf.compat.v1.estimator.tpu.TPUEstimator instead.\n",
      "\n"
     ]
    },
    {
     "name": "stderr",
     "output_type": "stream",
     "text": [
      "Processed Story Blocks: 100%|██████████| 6/6 [00:00<00:00, 367.22it/s, # trackers=1]\n",
      "Processed Story Blocks: 100%|██████████| 6/6 [00:00<00:00, 112.32it/s, # trackers=6]\n",
      "Processed Story Blocks: 100%|██████████| 6/6 [00:00<00:00, 69.25it/s, # trackers=26]\n",
      "Processed Story Blocks: 100%|██████████| 6/6 [00:00<00:00, 48.29it/s, # trackers=25]\n",
      "Processed trackers: 100%|██████████| 321/321 [00:09<00:00, 34.71it/s, # actions=169]\n"
     ]
    },
    {
     "name": "stdout",
     "output_type": "stream",
     "text": [
      "WARNING:tensorflow:From /Users/xiaofeiwu/miniconda3/envs/rasa/lib/python3.6/site-packages/rasa/core/policies/keras_policy.py:184: The name tf.set_random_seed is deprecated. Please use tf.compat.v1.set_random_seed instead.\n",
      "\n",
      "WARNING:tensorflow:From /Users/xiaofeiwu/miniconda3/envs/rasa/lib/python3.6/site-packages/tensorflow_core/python/ops/resource_variable_ops.py:1630: calling BaseResourceVariable.__init__ (from tensorflow.python.ops.resource_variable_ops) with constraint is deprecated and will be removed in a future version.\n",
      "Instructions for updating:\n",
      "If using Keras pass *_constraint arguments to layers.\n",
      "WARNING:tensorflow:From /Users/xiaofeiwu/miniconda3/envs/rasa/lib/python3.6/site-packages/tensorflow_core/python/keras/backend.py:3994: where (from tensorflow.python.ops.array_ops) is deprecated and will be removed in a future version.\n",
      "Instructions for updating:\n",
      "Use tf.where in 2.0, which has the same broadcast rule as np.where\n",
      "Model: \"sequential\"\n",
      "_________________________________________________________________\n",
      "Layer (type)                 Output Shape              Param #   \n",
      "=================================================================\n",
      "masking (Masking)            (None, 5, 24)             0         \n",
      "_________________________________________________________________\n",
      "lstm (LSTM)                  (None, 32)                7296      \n",
      "_________________________________________________________________\n",
      "dense (Dense)                (None, 13)                429       \n",
      "_________________________________________________________________\n",
      "activation (Activation)      (None, 13)                0         \n",
      "=================================================================\n",
      "Total params: 7,725\n",
      "Trainable params: 7,725\n",
      "Non-trainable params: 0\n",
      "_________________________________________________________________\n",
      "Train on 169 samples\n",
      "Epoch 1/50\n",
      "169/169 [==============================] - 1s 7ms/sample - loss: 2.5668 - acc: 0.1538\n",
      "Epoch 2/50\n",
      "169/169 [==============================] - 0s 381us/sample - loss: 2.4843 - acc: 0.3964\n",
      "Epoch 3/50\n",
      "169/169 [==============================] - 0s 601us/sample - loss: 2.4096 - acc: 0.5148\n",
      "Epoch 4/50\n",
      "169/169 [==============================] - 0s 505us/sample - loss: 2.3343 - acc: 0.5030\n",
      "Epoch 5/50\n",
      "169/169 [==============================] - 0s 561us/sample - loss: 2.2319 - acc: 0.5089\n",
      "Epoch 6/50\n",
      "169/169 [==============================] - 0s 539us/sample - loss: 2.1201 - acc: 0.5089\n",
      "Epoch 7/50\n",
      "169/169 [==============================] - 0s 539us/sample - loss: 2.0051 - acc: 0.5030\n",
      "Epoch 8/50\n",
      "169/169 [==============================] - 0s 371us/sample - loss: 1.8552 - acc: 0.5030\n",
      "Epoch 9/50\n",
      "169/169 [==============================] - 0s 342us/sample - loss: 1.7598 - acc: 0.5030\n",
      "Epoch 10/50\n",
      "169/169 [==============================] - 0s 346us/sample - loss: 1.6619 - acc: 0.5030\n",
      "Epoch 11/50\n",
      "169/169 [==============================] - 0s 452us/sample - loss: 1.6084 - acc: 0.5030\n",
      "Epoch 12/50\n",
      "169/169 [==============================] - 0s 557us/sample - loss: 1.5876 - acc: 0.5030\n",
      "Epoch 13/50\n",
      "169/169 [==============================] - 0s 468us/sample - loss: 1.5292 - acc: 0.5030\n",
      "Epoch 14/50\n",
      "169/169 [==============================] - 0s 290us/sample - loss: 1.4973 - acc: 0.5030\n",
      "Epoch 15/50\n",
      "169/169 [==============================] - 0s 276us/sample - loss: 1.4568 - acc: 0.5030\n",
      "Epoch 16/50\n",
      "169/169 [==============================] - 0s 256us/sample - loss: 1.4376 - acc: 0.5089\n",
      "Epoch 17/50\n",
      "169/169 [==============================] - 0s 246us/sample - loss: 1.4124 - acc: 0.5089\n",
      "Epoch 18/50\n",
      "169/169 [==============================] - 0s 242us/sample - loss: 1.3953 - acc: 0.5089\n",
      "Epoch 19/50\n",
      "169/169 [==============================] - 0s 270us/sample - loss: 1.3706 - acc: 0.5030\n",
      "Epoch 20/50\n",
      "169/169 [==============================] - 0s 279us/sample - loss: 1.3514 - acc: 0.5089\n",
      "Epoch 21/50\n",
      "169/169 [==============================] - 0s 280us/sample - loss: 1.3450 - acc: 0.5089\n",
      "Epoch 22/50\n",
      "169/169 [==============================] - 0s 352us/sample - loss: 1.3239 - acc: 0.5089\n",
      "Epoch 23/50\n",
      "169/169 [==============================] - 0s 281us/sample - loss: 1.3076 - acc: 0.5089\n",
      "Epoch 24/50\n",
      "169/169 [==============================] - 0s 299us/sample - loss: 1.2880 - acc: 0.5089\n",
      "Epoch 25/50\n",
      "169/169 [==============================] - 0s 331us/sample - loss: 1.2740 - acc: 0.5089\n",
      "Epoch 26/50\n",
      "169/169 [==============================] - 0s 282us/sample - loss: 1.2652 - acc: 0.5089\n",
      "Epoch 27/50\n",
      "169/169 [==============================] - 0s 284us/sample - loss: 1.2504 - acc: 0.5030\n",
      "Epoch 28/50\n",
      "169/169 [==============================] - 0s 268us/sample - loss: 1.2296 - acc: 0.5089\n",
      "Epoch 29/50\n",
      "169/169 [==============================] - 0s 288us/sample - loss: 1.2204 - acc: 0.5148\n",
      "Epoch 30/50\n",
      "169/169 [==============================] - 0s 285us/sample - loss: 1.2130 - acc: 0.5089\n",
      "Epoch 31/50\n",
      "169/169 [==============================] - 0s 269us/sample - loss: 1.1985 - acc: 0.5148\n",
      "Epoch 32/50\n",
      "169/169 [==============================] - 0s 327us/sample - loss: 1.1579 - acc: 0.5148\n",
      "Epoch 33/50\n",
      "169/169 [==============================] - 0s 315us/sample - loss: 1.1546 - acc: 0.5266\n",
      "Epoch 34/50\n",
      "169/169 [==============================] - 0s 357us/sample - loss: 1.1327 - acc: 0.5148\n",
      "Epoch 35/50\n",
      "169/169 [==============================] - 0s 362us/sample - loss: 1.1387 - acc: 0.5266\n",
      "Epoch 36/50\n",
      "169/169 [==============================] - 0s 445us/sample - loss: 1.1021 - acc: 0.5266\n",
      "Epoch 37/50\n",
      "169/169 [==============================] - 0s 330us/sample - loss: 1.0942 - acc: 0.5385\n",
      "Epoch 38/50\n",
      "169/169 [==============================] - 0s 310us/sample - loss: 1.0390 - acc: 0.5680\n",
      "Epoch 39/50\n",
      "169/169 [==============================] - 0s 362us/sample - loss: 1.0360 - acc: 0.5621\n",
      "Epoch 40/50\n",
      "169/169 [==============================] - 0s 322us/sample - loss: 1.0010 - acc: 0.6036\n",
      "Epoch 41/50\n",
      "169/169 [==============================] - 0s 301us/sample - loss: 0.9882 - acc: 0.6095\n",
      "Epoch 42/50\n",
      "169/169 [==============================] - 0s 305us/sample - loss: 0.9797 - acc: 0.5917\n",
      "Epoch 43/50\n",
      "169/169 [==============================] - 0s 291us/sample - loss: 0.9334 - acc: 0.6391\n",
      "Epoch 44/50\n",
      "169/169 [==============================] - 0s 278us/sample - loss: 0.9293 - acc: 0.6391\n",
      "Epoch 45/50\n",
      "169/169 [==============================] - 0s 307us/sample - loss: 0.9100 - acc: 0.6391\n",
      "Epoch 46/50\n",
      "169/169 [==============================] - 0s 297us/sample - loss: 0.8900 - acc: 0.6746\n",
      "Epoch 47/50\n",
      "169/169 [==============================] - 0s 318us/sample - loss: 0.8603 - acc: 0.6686\n",
      "Epoch 48/50\n",
      "169/169 [==============================] - 0s 333us/sample - loss: 0.8490 - acc: 0.6923\n",
      "Epoch 49/50\n",
      "169/169 [==============================] - 0s 334us/sample - loss: 0.8118 - acc: 0.7219\n",
      "Epoch 50/50\n",
      "169/169 [==============================] - 0s 255us/sample - loss: 0.7973 - acc: 0.7278\n"
     ]
    },
    {
     "name": "stderr",
     "output_type": "stream",
     "text": [
      "Processed trackers: 100%|██████████| 6/6 [00:00<00:00, 128.35it/s, # actions=17]\n",
      "Processed actions: 17it [00:00, 614.14it/s, # examples=17]\n"
     ]
    }
   ],
   "source": [
    "from rasa.core.agent import Agent, load_agent\n",
    "from rasa.core.policies.ensemble import PolicyEnsemble\n",
    "\n",
    "prefix='/pi/ws/knowledgebasebot'\n",
    "model_path='./models'\n",
    "\n",
    "ensemble_dict = {\n",
    "        \"policies\": [\n",
    "            {\n",
    "                \"epochs\": 50,\n",
    "                \"name\": \"KerasPolicy\",\n",
    "            },\n",
    "            {\"max_history\": 5, \"priority\": 3, \"name\": \"MemoizationPolicy\"},\n",
    "        ]}\n",
    "ensemble = PolicyEnsemble.from_dict(ensemble_dict)\n",
    "agent = Agent(\n",
    "        f\"{prefix}/domain.yml\",\n",
    "        policies=ensemble,\n",
    "    )\n",
    "\n",
    "training_data = await agent.load_data(f\"{prefix}/data/stories.md\")\n",
    "agent.train(training_data)\n",
    "agent.persist(model_path)"
   ]
  },
  {
   "cell_type": "code",
   "execution_count": 4,
   "metadata": {
    "ExecuteTime": {
     "end_time": "2019-11-28T17:04:58.229170Z",
     "start_time": "2019-11-28T17:04:58.206858Z"
    }
   },
   "outputs": [
    {
     "name": "stdout",
     "output_type": "stream",
     "text": [
      "[{'recipient_id': 'test_agent_handle_message', 'text': 'Hey!'}]\n"
     ]
    }
   ],
   "source": [
    "from rasa.core.channels.channel import UserMessage\n",
    "\n",
    "# await agent.handle_text(\"hello\")\n",
    "text = '/greet{\"name\":\"Rasa\"}'\n",
    "message = UserMessage(text, sender_id=\"test_agent_handle_message\")\n",
    "result = await agent.handle_message(message)\n",
    "print(result)"
   ]
  },
  {
   "cell_type": "code",
   "execution_count": 5,
   "metadata": {
    "ExecuteTime": {
     "end_time": "2019-11-28T17:10:49.267155Z",
     "start_time": "2019-11-28T17:10:17.385944Z"
    }
   },
   "outputs": [
    {
     "name": "stderr",
     "output_type": "stream",
     "text": [
      "Processed Story Blocks: 100%|██████████| 6/6 [00:00<00:00, 444.87it/s, # trackers=1]\n",
      "Processed Story Blocks: 100%|██████████| 6/6 [00:00<00:00, 134.08it/s, # trackers=6]\n",
      "Processed Story Blocks:   0%|          | 0/6 [00:00<?, ?it/s, # trackers=26]"
     ]
    },
    {
     "name": "stdout",
     "output_type": "stream",
     "text": [
      "\u001b[94mTraining Core model...\u001b[0m\n"
     ]
    },
    {
     "name": "stderr",
     "output_type": "stream",
     "text": [
      "Processed Story Blocks: 100%|██████████| 6/6 [00:00<00:00, 53.41it/s, # trackers=26]\n",
      "Processed Story Blocks: 100%|██████████| 6/6 [00:00<00:00, 62.26it/s, # trackers=25]\n",
      "Processed trackers: 100%|██████████| 6/6 [00:00<00:00, 51.10it/s, # actions=17]\n",
      "Processed actions: 17it [00:00, 207.27it/s, # examples=17]\n",
      "Processed trackers: 100%|██████████| 321/321 [00:09<00:00, 33.46it/s, # actions=169]\n"
     ]
    },
    {
     "name": "stdout",
     "output_type": "stream",
     "text": [
      "Model: \"sequential\"\n",
      "_________________________________________________________________\n",
      "Layer (type)                 Output Shape              Param #   \n",
      "=================================================================\n",
      "masking (Masking)            (None, 5, 24)             0         \n",
      "_________________________________________________________________\n",
      "lstm (LSTM)                  (None, 32)                7296      \n",
      "_________________________________________________________________\n",
      "dense (Dense)                (None, 13)                429       \n",
      "_________________________________________________________________\n",
      "activation (Activation)      (None, 13)                0         \n",
      "=================================================================\n",
      "Total params: 7,725\n",
      "Trainable params: 7,725\n",
      "Non-trainable params: 0\n",
      "_________________________________________________________________\n",
      "Train on 169 samples\n",
      "Epoch 1/100\n",
      "169/169 [==============================] - 2s 10ms/sample - loss: 2.4605 - acc: 0.4024\n",
      "Epoch 2/100\n",
      "169/169 [==============================] - 0s 481us/sample - loss: 2.3265 - acc: 0.5030\n",
      "Epoch 3/100\n",
      "169/169 [==============================] - 0s 388us/sample - loss: 2.2184 - acc: 0.5030\n",
      "Epoch 4/100\n",
      "169/169 [==============================] - 0s 415us/sample - loss: 2.0921 - acc: 0.5030\n",
      "Epoch 5/100\n",
      "169/169 [==============================] - 0s 358us/sample - loss: 1.9642 - acc: 0.5030\n",
      "Epoch 6/100\n",
      "169/169 [==============================] - 0s 372us/sample - loss: 1.8607 - acc: 0.5030\n",
      "Epoch 7/100\n",
      "169/169 [==============================] - 0s 364us/sample - loss: 1.7498 - acc: 0.5030\n",
      "Epoch 8/100\n",
      "169/169 [==============================] - 0s 508us/sample - loss: 1.6651 - acc: 0.5030\n",
      "Epoch 9/100\n",
      "169/169 [==============================] - 0s 385us/sample - loss: 1.6196 - acc: 0.5030\n",
      "Epoch 10/100\n",
      "169/169 [==============================] - 0s 362us/sample - loss: 1.5809 - acc: 0.5030\n",
      "Epoch 11/100\n",
      "169/169 [==============================] - 0s 329us/sample - loss: 1.5649 - acc: 0.5030\n",
      "Epoch 12/100\n",
      "169/169 [==============================] - 0s 349us/sample - loss: 1.5138 - acc: 0.5030\n",
      "Epoch 13/100\n",
      "169/169 [==============================] - 0s 352us/sample - loss: 1.4784 - acc: 0.5030\n",
      "Epoch 14/100\n",
      "169/169 [==============================] - 0s 378us/sample - loss: 1.4395 - acc: 0.5030\n",
      "Epoch 15/100\n",
      "169/169 [==============================] - 0s 521us/sample - loss: 1.4250 - acc: 0.5030\n",
      "Epoch 16/100\n",
      "169/169 [==============================] - 0s 376us/sample - loss: 1.3894 - acc: 0.5030\n",
      "Epoch 17/100\n",
      "169/169 [==============================] - 0s 348us/sample - loss: 1.3770 - acc: 0.5030\n",
      "Epoch 18/100\n",
      "169/169 [==============================] - 0s 347us/sample - loss: 1.3619 - acc: 0.5030\n",
      "Epoch 19/100\n",
      "169/169 [==============================] - 0s 502us/sample - loss: 1.3296 - acc: 0.5030\n",
      "Epoch 20/100\n",
      "169/169 [==============================] - 0s 523us/sample - loss: 1.3134 - acc: 0.5030\n",
      "Epoch 21/100\n",
      "169/169 [==============================] - 0s 500us/sample - loss: 1.2990 - acc: 0.5030\n",
      "Epoch 22/100\n",
      "169/169 [==============================] - 0s 464us/sample - loss: 1.2786 - acc: 0.5030\n",
      "Epoch 23/100\n",
      "169/169 [==============================] - 0s 311us/sample - loss: 1.2627 - acc: 0.5030\n",
      "Epoch 24/100\n",
      "169/169 [==============================] - 0s 330us/sample - loss: 1.2488 - acc: 0.5030\n",
      "Epoch 25/100\n",
      "169/169 [==============================] - 0s 345us/sample - loss: 1.2261 - acc: 0.5030\n",
      "Epoch 26/100\n",
      "169/169 [==============================] - 0s 697us/sample - loss: 1.2241 - acc: 0.5030\n",
      "Epoch 27/100\n",
      "169/169 [==============================] - 0s 319us/sample - loss: 1.1936 - acc: 0.5089\n",
      "Epoch 28/100\n",
      "169/169 [==============================] - 0s 355us/sample - loss: 1.1778 - acc: 0.5089\n",
      "Epoch 29/100\n",
      "169/169 [==============================] - 0s 327us/sample - loss: 1.1536 - acc: 0.5089\n",
      "Epoch 30/100\n",
      "169/169 [==============================] - 0s 396us/sample - loss: 1.1275 - acc: 0.5089\n",
      "Epoch 31/100\n",
      "169/169 [==============================] - 0s 443us/sample - loss: 1.1035 - acc: 0.5089\n",
      "Epoch 32/100\n",
      "169/169 [==============================] - 0s 320us/sample - loss: 1.0757 - acc: 0.5148\n",
      "Epoch 33/100\n",
      "169/169 [==============================] - 0s 327us/sample - loss: 1.0501 - acc: 0.5089\n",
      "Epoch 34/100\n",
      "169/169 [==============================] - 0s 402us/sample - loss: 1.0393 - acc: 0.5148\n",
      "Epoch 35/100\n",
      "169/169 [==============================] - 0s 373us/sample - loss: 1.0077 - acc: 0.5207\n",
      "Epoch 36/100\n",
      "169/169 [==============================] - 0s 601us/sample - loss: 0.9675 - acc: 0.5207\n",
      "Epoch 37/100\n",
      "169/169 [==============================] - 0s 572us/sample - loss: 0.9565 - acc: 0.5740\n",
      "Epoch 38/100\n",
      "169/169 [==============================] - 0s 361us/sample - loss: 0.9309 - acc: 0.6391\n",
      "Epoch 39/100\n",
      "169/169 [==============================] - 0s 456us/sample - loss: 0.8711 - acc: 0.7160\n",
      "Epoch 40/100\n",
      "169/169 [==============================] - 0s 343us/sample - loss: 0.8497 - acc: 0.7692\n",
      "Epoch 41/100\n",
      "169/169 [==============================] - 0s 314us/sample - loss: 0.8122 - acc: 0.8225\n",
      "Epoch 42/100\n",
      "169/169 [==============================] - 0s 318us/sample - loss: 0.8056 - acc: 0.8225\n",
      "Epoch 43/100\n",
      "169/169 [==============================] - 0s 300us/sample - loss: 0.7606 - acc: 0.8876\n",
      "Epoch 44/100\n",
      "169/169 [==============================] - 0s 347us/sample - loss: 0.7491 - acc: 0.8817\n",
      "Epoch 45/100\n",
      "169/169 [==============================] - 0s 261us/sample - loss: 0.7107 - acc: 0.8876\n",
      "Epoch 46/100\n",
      "169/169 [==============================] - 0s 292us/sample - loss: 0.7155 - acc: 0.9112\n",
      "Epoch 47/100\n",
      "169/169 [==============================] - 0s 261us/sample - loss: 0.6684 - acc: 0.9172\n",
      "Epoch 48/100\n",
      "169/169 [==============================] - 0s 277us/sample - loss: 0.6394 - acc: 0.9586\n",
      "Epoch 49/100\n",
      "169/169 [==============================] - 0s 334us/sample - loss: 0.6195 - acc: 0.9408\n",
      "Epoch 50/100\n",
      "169/169 [==============================] - 0s 311us/sample - loss: 0.6233 - acc: 0.9586\n",
      "Epoch 51/100\n",
      "169/169 [==============================] - 0s 383us/sample - loss: 0.6004 - acc: 0.9527\n",
      "Epoch 52/100\n",
      "169/169 [==============================] - 0s 333us/sample - loss: 0.5784 - acc: 0.9172\n",
      "Epoch 53/100\n",
      "169/169 [==============================] - 0s 362us/sample - loss: 0.5636 - acc: 0.9645\n",
      "Epoch 54/100\n",
      "169/169 [==============================] - 0s 335us/sample - loss: 0.5695 - acc: 0.9586\n",
      "Epoch 55/100\n",
      "169/169 [==============================] - 0s 285us/sample - loss: 0.5458 - acc: 0.9645\n",
      "Epoch 56/100\n",
      "169/169 [==============================] - 0s 269us/sample - loss: 0.5192 - acc: 0.9645\n",
      "Epoch 57/100\n",
      "169/169 [==============================] - 0s 968us/sample - loss: 0.5294 - acc: 0.9763\n",
      "Epoch 58/100\n",
      "169/169 [==============================] - 0s 464us/sample - loss: 0.5035 - acc: 0.9822\n",
      "Epoch 59/100\n",
      "169/169 [==============================] - 0s 394us/sample - loss: 0.5043 - acc: 0.9586\n",
      "Epoch 60/100\n",
      "169/169 [==============================] - 0s 291us/sample - loss: 0.4876 - acc: 0.9822\n",
      "Epoch 61/100\n",
      "169/169 [==============================] - 0s 369us/sample - loss: 0.4917 - acc: 0.9645\n",
      "Epoch 62/100\n",
      "169/169 [==============================] - 0s 326us/sample - loss: 0.4713 - acc: 0.9704\n",
      "Epoch 63/100\n",
      "169/169 [==============================] - 0s 308us/sample - loss: 0.4737 - acc: 0.9763\n",
      "Epoch 64/100\n",
      "169/169 [==============================] - 0s 293us/sample - loss: 0.4635 - acc: 0.9586\n",
      "Epoch 65/100\n",
      "169/169 [==============================] - 0s 315us/sample - loss: 0.4490 - acc: 0.9941\n",
      "Epoch 66/100\n",
      "169/169 [==============================] - 0s 291us/sample - loss: 0.4328 - acc: 1.0000\n",
      "Epoch 67/100\n",
      "169/169 [==============================] - 0s 264us/sample - loss: 0.4392 - acc: 0.9763\n",
      "Epoch 68/100\n",
      "169/169 [==============================] - 0s 331us/sample - loss: 0.3985 - acc: 0.9941\n",
      "Epoch 69/100\n",
      "169/169 [==============================] - 0s 287us/sample - loss: 0.4350 - acc: 0.9527\n",
      "Epoch 70/100\n",
      "169/169 [==============================] - 0s 316us/sample - loss: 0.4158 - acc: 0.9763\n",
      "Epoch 71/100\n",
      "169/169 [==============================] - 0s 290us/sample - loss: 0.4186 - acc: 0.9763\n",
      "Epoch 72/100\n",
      "169/169 [==============================] - 0s 345us/sample - loss: 0.3960 - acc: 0.9941\n",
      "Epoch 73/100\n",
      "169/169 [==============================] - 0s 350us/sample - loss: 0.3727 - acc: 0.9882\n",
      "Epoch 74/100\n",
      "169/169 [==============================] - 0s 392us/sample - loss: 0.3633 - acc: 0.9941\n",
      "Epoch 75/100\n",
      "169/169 [==============================] - 0s 311us/sample - loss: 0.3401 - acc: 0.9941\n",
      "Epoch 76/100\n",
      "169/169 [==============================] - 0s 270us/sample - loss: 0.3561 - acc: 0.9763\n",
      "Epoch 77/100\n",
      "169/169 [==============================] - 0s 305us/sample - loss: 0.3696 - acc: 0.9882\n",
      "Epoch 78/100\n",
      "169/169 [==============================] - 0s 264us/sample - loss: 0.3209 - acc: 0.9941\n",
      "Epoch 79/100\n",
      "169/169 [==============================] - 0s 293us/sample - loss: 0.3499 - acc: 0.9822\n",
      "Epoch 80/100\n",
      "169/169 [==============================] - 0s 267us/sample - loss: 0.3345 - acc: 0.9941\n",
      "Epoch 81/100\n",
      "169/169 [==============================] - 0s 315us/sample - loss: 0.3311 - acc: 0.9704\n",
      "Epoch 82/100\n",
      "169/169 [==============================] - 0s 276us/sample - loss: 0.2906 - acc: 0.9882\n",
      "Epoch 83/100\n",
      "169/169 [==============================] - 0s 257us/sample - loss: 0.3170 - acc: 0.9822\n",
      "Epoch 84/100\n",
      "169/169 [==============================] - 0s 316us/sample - loss: 0.2928 - acc: 0.9941\n",
      "Epoch 85/100\n",
      "169/169 [==============================] - 0s 313us/sample - loss: 0.2674 - acc: 1.0000\n",
      "Epoch 86/100\n",
      "169/169 [==============================] - 0s 260us/sample - loss: 0.3207 - acc: 0.9882\n",
      "Epoch 87/100\n",
      "169/169 [==============================] - 0s 323us/sample - loss: 0.2745 - acc: 0.9882\n",
      "Epoch 88/100\n",
      "169/169 [==============================] - 0s 272us/sample - loss: 0.2782 - acc: 0.9941\n",
      "Epoch 89/100\n",
      "169/169 [==============================] - 0s 278us/sample - loss: 0.2860 - acc: 0.9882\n",
      "Epoch 90/100\n",
      "169/169 [==============================] - 0s 261us/sample - loss: 0.2649 - acc: 0.9941\n",
      "Epoch 91/100\n",
      "169/169 [==============================] - 0s 318us/sample - loss: 0.2389 - acc: 0.9941\n",
      "Epoch 92/100\n",
      "169/169 [==============================] - 0s 330us/sample - loss: 0.2363 - acc: 0.9882\n",
      "Epoch 93/100\n",
      "169/169 [==============================] - 0s 348us/sample - loss: 0.2407 - acc: 0.9941\n",
      "Epoch 94/100\n",
      "169/169 [==============================] - 0s 277us/sample - loss: 0.2245 - acc: 0.9882\n",
      "Epoch 95/100\n",
      "169/169 [==============================] - 0s 281us/sample - loss: 0.2362 - acc: 0.9941\n",
      "Epoch 96/100\n",
      "169/169 [==============================] - 0s 283us/sample - loss: 0.2375 - acc: 0.9882\n",
      "Epoch 97/100\n",
      "169/169 [==============================] - 0s 263us/sample - loss: 0.1979 - acc: 0.9941\n",
      "Epoch 98/100\n",
      "169/169 [==============================] - 0s 268us/sample - loss: 0.2091 - acc: 0.9882\n",
      "Epoch 99/100\n",
      "169/169 [==============================] - 0s 288us/sample - loss: 0.2100 - acc: 0.9882\n",
      "Epoch 100/100\n",
      "169/169 [==============================] - 0s 295us/sample - loss: 0.2247 - acc: 0.9822\n",
      "\u001b[94mCore model training completed.\u001b[0m\n",
      "\u001b[94mTraining NLU model...\u001b[0m\n",
      "WARNING:tensorflow:From /Users/xiaofeiwu/miniconda3/envs/rasa/lib/python3.6/site-packages/rasa/nlu/classifiers/embedding_intent_classifier.py:543: The name tf.placeholder is deprecated. Please use tf.compat.v1.placeholder instead.\n",
      "\n",
      "WARNING:tensorflow:From /Users/xiaofeiwu/miniconda3/envs/rasa/lib/python3.6/site-packages/rasa/utils/train_utils.py:257: The name tf.data.Iterator is deprecated. Please use tf.compat.v1.data.Iterator instead.\n",
      "\n",
      "WARNING:tensorflow:From /Users/xiaofeiwu/miniconda3/envs/rasa/lib/python3.6/site-packages/rasa/utils/train_utils.py:258: DatasetV1.output_types (from tensorflow.python.data.ops.dataset_ops) is deprecated and will be removed in a future version.\n",
      "Instructions for updating:\n",
      "Use `tf.compat.v1.data.get_output_types(dataset)`.\n",
      "WARNING:tensorflow:From /Users/xiaofeiwu/miniconda3/envs/rasa/lib/python3.6/site-packages/rasa/utils/train_utils.py:259: DatasetV1.output_shapes (from tensorflow.python.data.ops.dataset_ops) is deprecated and will be removed in a future version.\n",
      "Instructions for updating:\n",
      "Use `tf.compat.v1.data.get_output_shapes(dataset)`.\n",
      "WARNING:tensorflow:From /Users/xiaofeiwu/miniconda3/envs/rasa/lib/python3.6/site-packages/rasa/utils/train_utils.py:260: DatasetV1.output_classes (from tensorflow.python.data.ops.dataset_ops) is deprecated and will be removed in a future version.\n",
      "Instructions for updating:\n",
      "Use `tf.compat.v1.data.get_output_classes(dataset)`.\n",
      "WARNING:tensorflow:From /Users/xiaofeiwu/miniconda3/envs/rasa/lib/python3.6/site-packages/tensorflow_core/python/data/ops/iterator_ops.py:347: Iterator.output_types (from tensorflow.python.data.ops.iterator_ops) is deprecated and will be removed in a future version.\n",
      "Instructions for updating:\n",
      "Use `tf.compat.v1.data.get_output_types(iterator)`.\n",
      "WARNING:tensorflow:From /Users/xiaofeiwu/miniconda3/envs/rasa/lib/python3.6/site-packages/tensorflow_core/python/data/ops/iterator_ops.py:348: Iterator.output_shapes (from tensorflow.python.data.ops.iterator_ops) is deprecated and will be removed in a future version.\n",
      "Instructions for updating:\n",
      "Use `tf.compat.v1.data.get_output_shapes(iterator)`.\n",
      "WARNING:tensorflow:From /Users/xiaofeiwu/miniconda3/envs/rasa/lib/python3.6/site-packages/tensorflow_core/python/data/ops/iterator_ops.py:350: Iterator.output_classes (from tensorflow.python.data.ops.iterator_ops) is deprecated and will be removed in a future version.\n",
      "Instructions for updating:\n",
      "Use `tf.compat.v1.data.get_output_classes(iterator)`.\n",
      "WARNING:tensorflow:From /Users/xiaofeiwu/miniconda3/envs/rasa/lib/python3.6/site-packages/rasa/nlu/classifiers/embedding_intent_classifier.py:553: The name tf.placeholder_with_default is deprecated. Please use tf.compat.v1.placeholder_with_default instead.\n",
      "\n",
      "WARNING:tensorflow:From /Users/xiaofeiwu/miniconda3/envs/rasa/lib/python3.6/site-packages/rasa/utils/train_utils.py:300: The name tf.AUTO_REUSE is deprecated. Please use tf.compat.v1.AUTO_REUSE instead.\n",
      "\n",
      "WARNING:tensorflow:From /Users/xiaofeiwu/miniconda3/envs/rasa/lib/python3.6/site-packages/rasa/utils/train_utils.py:300: dense (from tensorflow.python.layers.core) is deprecated and will be removed in a future version.\n",
      "Instructions for updating:\n",
      "Use keras.layers.Dense instead.\n",
      "WARNING:tensorflow:From /Users/xiaofeiwu/miniconda3/envs/rasa/lib/python3.6/site-packages/tensorflow_core/python/layers/core.py:187: Layer.apply (from tensorflow.python.keras.engine.base_layer) is deprecated and will be removed in a future version.\n",
      "Instructions for updating:\n",
      "Please use `layer.__call__` method instead.\n",
      "WARNING:tensorflow:From /Users/xiaofeiwu/miniconda3/envs/rasa/lib/python3.6/site-packages/rasa/utils/train_utils.py:302: dropout (from tensorflow.python.layers.core) is deprecated and will be removed in a future version.\n",
      "Instructions for updating:\n",
      "Use keras.layers.dropout instead.\n"
     ]
    },
    {
     "name": "stderr",
     "output_type": "stream",
     "text": [
      "/Users/xiaofeiwu/miniconda3/envs/rasa/lib/python3.6/site-packages/rasa/nlu/training_data/training_data.py:340: UserWarning: Entity 'breakfast-included' has only 1 training examples! minimum is 2, training may fail.\n",
      "  \"\".format(entity_type, count, self.MIN_EXAMPLES_PER_ENTITY)\n"
     ]
    },
    {
     "name": "stdout",
     "output_type": "stream",
     "text": [
      "WARNING:tensorflow:From /Users/xiaofeiwu/miniconda3/envs/rasa/lib/python3.6/site-packages/tensorflow_core/python/util/dispatch.py:180: batch_gather (from tensorflow.python.ops.array_ops) is deprecated and will be removed after 2017-10-25.\n",
      "Instructions for updating:\n",
      "`tf.batch_gather` is deprecated, please use `tf.gather` with `batch_dims=-1` instead.\n",
      "WARNING:tensorflow:From /Users/xiaofeiwu/miniconda3/envs/rasa/lib/python3.6/site-packages/rasa/utils/train_utils.py:680: The name tf.losses.softmax_cross_entropy is deprecated. Please use tf.compat.v1.losses.softmax_cross_entropy instead.\n",
      "\n",
      "WARNING:tensorflow:From /Users/xiaofeiwu/miniconda3/envs/rasa/lib/python3.6/site-packages/rasa/utils/train_utils.py:682: The name tf.losses.get_regularization_loss is deprecated. Please use tf.compat.v1.losses.get_regularization_loss instead.\n",
      "\n",
      "WARNING:tensorflow:From /Users/xiaofeiwu/miniconda3/envs/rasa/lib/python3.6/site-packages/rasa/nlu/classifiers/embedding_intent_classifier.py:561: The name tf.Session is deprecated. Please use tf.compat.v1.Session instead.\n",
      "\n",
      "WARNING:tensorflow:From /Users/xiaofeiwu/miniconda3/envs/rasa/lib/python3.6/site-packages/rasa/utils/train_utils.py:866: The name tf.global_variables_initializer is deprecated. Please use tf.compat.v1.global_variables_initializer instead.\n",
      "\n"
     ]
    },
    {
     "name": "stderr",
     "output_type": "stream",
     "text": [
      "Epochs: 100%|██████████| 300/300 [00:06<00:00, 45.72it/s, loss=0.453, acc=1.000]\n",
      "/Users/xiaofeiwu/miniconda3/envs/rasa/lib/python3.6/site-packages/sklearn/externals/joblib/__init__.py:15: DeprecationWarning: sklearn.externals.joblib is deprecated in 0.21 and will be removed in 0.23. Please import this functionality directly from joblib, which can be installed with: pip install joblib. If this warning is raised when loading pickled models, you may need to re-serialize those models with scikit-learn 0.21+.\n",
      "  warnings.warn(msg, category=DeprecationWarning)\n"
     ]
    },
    {
     "name": "stdout",
     "output_type": "stream",
     "text": [
      "WARNING:tensorflow:From /Users/xiaofeiwu/miniconda3/envs/rasa/lib/python3.6/site-packages/rasa/nlu/classifiers/embedding_intent_classifier.py:674: The name tf.train.Saver is deprecated. Please use tf.compat.v1.train.Saver instead.\n",
      "\n",
      "\u001b[94mNLU model training completed.\u001b[0m\n",
      "\u001b[92mYour Rasa model is trained and saved at '/Users/xiaofeiwu/jcloud/assets/langs/workspace/rasa/rasa-1.x/ws/sagas-ai/models_kb/20191129-011049.tar.gz'.\u001b[0m\n"
     ]
    },
    {
     "data": {
      "text/plain": [
       "'./models_kb/20191129-011049.tar.gz'"
      ]
     },
     "execution_count": 5,
     "metadata": {},
     "output_type": "execute_result"
    }
   ],
   "source": [
    "from rasa.train import train_async\n",
    "await train_async(\n",
    "        domain=f\"{prefix}/domain.yml\",\n",
    "        config=f\"{prefix}/config.yml\",\n",
    "        training_files=f\"{prefix}/data/\",\n",
    "        output_path='./models_kb',\n",
    "    )"
   ]
  },
  {
   "cell_type": "code",
   "execution_count": 10,
   "metadata": {
    "ExecuteTime": {
     "end_time": "2019-11-28T17:20:53.374054Z",
     "start_time": "2019-11-28T17:20:50.929462Z"
    }
   },
   "outputs": [
    {
     "name": "stdout",
     "output_type": "stream",
     "text": [
      "INFO:tensorflow:Restoring parameters from /var/folders/fv/7k1qk5v11dn33sdcngv2wbnm0000gn/T/tmpwi2m1t6n/nlu/component_6_EmbeddingIntentClassifier.ckpt\n"
     ]
    },
    {
     "data": {
      "text/plain": [
       "[{'recipient_id': 'default', 'text': 'Hello! How can I help you?'}]"
      ]
     },
     "execution_count": 10,
     "metadata": {},
     "output_type": "execute_result"
    }
   ],
   "source": [
    "agent_kb = Agent.load('./models_kb/20191129-011049.tar.gz')\n",
    "await agent_kb.handle_text(\"hello\")"
   ]
  },
  {
   "cell_type": "code",
   "execution_count": 11,
   "metadata": {
    "ExecuteTime": {
     "end_time": "2019-11-28T17:21:57.433862Z",
     "start_time": "2019-11-28T17:21:57.429185Z"
    }
   },
   "outputs": [],
   "source": [
    "# agent_kb.update_model(\n",
    "#         None, None, agent.fingerprint, agent.interpreter, agent.model_directory\n",
    "#     )"
   ]
  },
  {
   "cell_type": "code",
   "execution_count": 12,
   "metadata": {
    "ExecuteTime": {
     "end_time": "2019-11-28T17:22:00.038654Z",
     "start_time": "2019-11-28T17:22:00.006197Z"
    }
   },
   "outputs": [
    {
     "data": {
      "text/plain": [
       "[{'recipient_id': 'default', 'text': 'Hey!'}]"
      ]
     },
     "execution_count": 12,
     "metadata": {},
     "output_type": "execute_result"
    }
   ],
   "source": [
    "await agent_kb.handle_text(\"hello\")"
   ]
  },
  {
   "cell_type": "code",
   "execution_count": 15,
   "metadata": {
    "ExecuteTime": {
     "end_time": "2019-11-28T17:26:01.089615Z",
     "start_time": "2019-11-28T17:26:01.075994Z"
    }
   },
   "outputs": [
    {
     "name": "stdout",
     "output_type": "stream",
     "text": [
      "{'entities': [],\n",
      " 'intent': {'confidence': 0.3773570954799652, 'name': 'query_knowledge_base'},\n",
      " 'intent_ranking': [{'confidence': 0.3773570954799652,\n",
      "                     'name': 'query_knowledge_base'},\n",
      "                    {'confidence': 0.3278685212135315, 'name': 'goodbye'},\n",
      "                    {'confidence': 0.1596766710281372, 'name': 'greet'},\n",
      "                    {'confidence': 0.13509775698184967,\n",
      "                     'name': 'bot_challenge'}],\n",
      " 'text': 'lunch?'}\n"
     ]
    }
   ],
   "source": [
    "from rasa.core.trackers import DialogueStateTracker\n",
    "from rasa.core.slots import Slot\n",
    "from pprint import pprint\n",
    "\n",
    "tracker = DialogueStateTracker.from_dict(\"1\", [], [Slot(\"requested_language\")])\n",
    "# we'll expect this value 'en' to be part of the result from the interpreter\n",
    "tracker._set_slot(\"requested_language\", \"en\")\n",
    "result = await agent_kb.parse_message_using_nlu_interpreter(\"lunch?\", tracker)\n",
    "pprint(result)"
   ]
  },
  {
   "cell_type": "code",
   "execution_count": 16,
   "metadata": {
    "ExecuteTime": {
     "end_time": "2019-11-28T17:30:33.121407Z",
     "start_time": "2019-11-28T17:30:33.109642Z"
    }
   },
   "outputs": [
    {
     "name": "stdout",
     "output_type": "stream",
     "text": [
      "action_listen;greet;utter_greet;action_listen;greet;utter_greet;action_listen\n"
     ]
    }
   ],
   "source": [
    "sender_id='default'\n",
    "tracker = agent_kb.tracker_store.get_or_create_tracker(sender_id)\n",
    "print(\";\".join([e.as_story_string() for e in tracker.events if e.as_story_string()]))"
   ]
  },
  {
   "cell_type": "code",
   "execution_count": 5,
   "metadata": {
    "ExecuteTime": {
     "end_time": "2019-11-28T20:18:44.390898Z",
     "start_time": "2019-11-28T20:18:44.380786Z"
    }
   },
   "outputs": [],
   "source": [
    "# import logging\n",
    "# import rasa.utils.io as io_utils\n",
    "# from rasa.core.validator import Validator\n",
    "\n",
    "# logger = logging.getLogger(__name__)\n",
    "\n",
    "# io_utils.configure_colored_logging('DEBUG')\n",
    "\n",
    "# proj_prefix='/pi/ws/simple'\n",
    "# validator = Validator.from_files(domain_file=f'{proj_prefix}/domain.yml',\n",
    "#                                  nlu_data=f'{proj_prefix}/data/nlu_data.md',\n",
    "#                                  stories=f'{proj_prefix}/data/stories.md')\n",
    "\n",
    "# validator.verify_all()\n",
    "\n",
    "## see: tests/core/test_validator.py"
   ]
  },
  {
   "cell_type": "code",
   "execution_count": null,
   "metadata": {},
   "outputs": [],
   "source": []
  }
 ],
 "metadata": {
  "kernelspec": {
   "display_name": "Python 3",
   "language": "python",
   "name": "python3"
  },
  "language_info": {
   "codemirror_mode": {
    "name": "ipython",
    "version": 3
   },
   "file_extension": ".py",
   "mimetype": "text/x-python",
   "name": "python",
   "nbconvert_exporter": "python",
   "pygments_lexer": "ipython3",
   "version": "3.6.9"
  },
  "varInspector": {
   "cols": {
    "lenName": 16,
    "lenType": 16,
    "lenVar": 40
   },
   "kernels_config": {
    "python": {
     "delete_cmd_postfix": "",
     "delete_cmd_prefix": "del ",
     "library": "var_list.py",
     "varRefreshCmd": "print(var_dic_list())"
    },
    "r": {
     "delete_cmd_postfix": ") ",
     "delete_cmd_prefix": "rm(",
     "library": "var_list.r",
     "varRefreshCmd": "cat(var_dic_list()) "
    }
   },
   "types_to_exclude": [
    "module",
    "function",
    "builtin_function_or_method",
    "instance",
    "_Feature"
   ],
   "window_display": false
  }
 },
 "nbformat": 4,
 "nbformat_minor": 2
}
