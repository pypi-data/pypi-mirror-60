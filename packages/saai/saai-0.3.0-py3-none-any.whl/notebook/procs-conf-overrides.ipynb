{
 "cells": [
  {
   "cell_type": "code",
   "execution_count": 1,
   "metadata": {
    "ExecuteTime": {
     "end_time": "2019-12-22T17:37:16.726421Z",
     "start_time": "2019-12-22T17:37:16.109435Z"
    }
   },
   "outputs": [
    {
     "data": {
      "text/plain": [
       "{'collect_verbs': True,\n",
       " 'trans_cache': True,\n",
       " 'translator': 'google',\n",
       " 'retries': 3,\n",
       " 'enable_chunks_parse': True,\n",
       " 'enable_ascii_viz': True,\n",
       " 'append_ascii_viz': False,\n",
       " 'print_not_matched': False,\n",
       " 'print_inspector_result': True,\n",
       " 'default_word_sets_langs': ['en', 'zh', 'ja', 'id', 'nl'],\n",
       " 'bert_servant': 'localhost',\n",
       " 'ofbiz_servant': 'localhost',\n",
       " 'odoo_servant': 'localhost',\n",
       " 'common_s': 'http://localhost:14000',\n",
       " 'ner': 'http://localhost:8092/entities',\n",
       " 'ner_ru': 'http://localhost:8095/entities',\n",
       " 'duckling': 'http://0.0.0.0:8000/parse',\n",
       " 'nlu_multilang_servant': 'http://localhost:18099',\n",
       " 'words_servant': 'http://localhost:8093',\n",
       " 'redis': 'localhost',\n",
       " 'servants': {'corenlp': 'http://localhost:14000',\n",
       "  'stanford': 'http://localhost:14001',\n",
       "  'ltp': 'http://localhost:14005',\n",
       "  'hanlp': 'http://localhost:14000',\n",
       "  'knp': 'http://localhost:14000',\n",
       "  'spacy': 'http://localhost:14001',\n",
       "  'spacy_2.2': 'http://localhost:14002'},\n",
       " 'dialectors': {'*': 'corenlp',\n",
       "  'auto': 'corenlp',\n",
       "  'el': 'corenlp',\n",
       "  'ru': 'corenlp',\n",
       "  'zh': 'ltp',\n",
       "  'ja': 'knp',\n",
       "  'pt': 'corenlp',\n",
       "  'ar': 'stanford',\n",
       "  'lt': 'spacy_2.2'}}"
      ]
     },
     "execution_count": 1,
     "metadata": {},
     "output_type": "execute_result"
    }
   ],
   "source": [
    "from sagas.conf.conf import cf\n",
    "cf.conf"
   ]
  },
  {
   "cell_type": "code",
   "execution_count": 5,
   "metadata": {
    "ExecuteTime": {
     "end_time": "2019-12-22T17:40:09.384942Z",
     "start_time": "2019-12-22T17:40:09.372894Z"
    }
   },
   "outputs": [
    {
     "name": "stdout",
     "output_type": "stream",
     "text": [
      "PATH /Users/xiaofeiwu/miniconda3/envs/rasa/bin:/Users/xiaofeiwu/miniconda3/condabin:/Users/xiaofeiwu/miniconda3/bin:/Users/xiaofeiwu/bin/python:/usr/local/opt/llvm/bin:/Users/xiaofeiwu/perl5/bin:/Users/xiaofeiwu/.local/bin:/Users/xiaofeiwu/jcloud/assets/langs/workspace/hyperledger/workspace/bin:/Users/xiaofeiwu/.nvm/versions/node/v8.11.3/bin:/Users/xiaofeiwu/.pub-cache/bin:/Users/xiaofeiwu/jcloud/fullstack/flutter/dev/flutter/bin:/Users/xiaofeiwu/.cargo/bin:/Users/xiaofeiwu/.sdkman/candidates/springboot/current/bin:/Users/xiaofeiwu/.rvm/gems/ruby-2.4.1/bin:/Users/xiaofeiwu/.rvm/gems/ruby-2.4.1@global/bin:/Users/xiaofeiwu/.rvm/rubies/ruby-2.4.1/bin:/Users/xiaofeiwu/.opam/system/bin:/usr/local/sbin:/usr/local/openssl/bin:/Users/xiaofeiwu/bin:/Users/xiaofeiwu/bin/mac:/Users/xiaofeiwu/bin/scripts:/Users/xiaofeiwu/bin/dotnet:/Users/xiaofeiwu/bin/docker-gens:/Users/xiaofeiwu/go/bin:/usr/local/bin:/usr/bin:/bin:/usr/sbin:/sbin:/Applications/VMware Fusion.app/Contents/Public:/usr/local/share/dotnet:/Library/Ballerina/ballerina-0.975.1/bin:/Library/Frameworks/Mono.framework/Versions/Current/Commands:/Users/xiaofeiwu/.rvm/bin:/Users/xiaofeiwu/jcloud/assets/langs/workspace/istio/istio-1.0.5/bin\n"
     ]
    }
   ],
   "source": [
    "import os\n",
    "# print(os.environ['rvm_path'])\n",
    "for k,v in os.environ.items():\n",
    "    if k.startswith('PATH'):\n",
    "        print(k,v)"
   ]
  },
  {
   "cell_type": "code",
   "execution_count": 8,
   "metadata": {
    "ExecuteTime": {
     "end_time": "2019-12-22T17:50:39.373346Z",
     "start_time": "2019-12-22T17:50:39.352937Z"
    }
   },
   "outputs": [
    {
     "data": {
      "text/plain": [
       "{'collect_verbs': True,\n",
       " 'trans_cache': True,\n",
       " 'translator': 'google',\n",
       " 'retries': 3,\n",
       " 'enable_chunks_parse': True,\n",
       " 'enable_ascii_viz': True,\n",
       " 'append_ascii_viz': False,\n",
       " 'print_not_matched': False,\n",
       " 'print_inspector_result': True,\n",
       " 'default_word_sets_langs': ['en', 'zh', 'ja', 'id', 'nl'],\n",
       " 'bert_servant': 'localhost',\n",
       " 'ofbiz_servant': 'localhost',\n",
       " 'odoo_servant': 'localhost',\n",
       " 'common_s': 'http://localhost:14000',\n",
       " 'ner': 'http://localhost:8092/entities',\n",
       " 'ner_ru': 'http://localhost:8095/entities',\n",
       " 'duckling': 'http://0.0.0.0:8000/parse',\n",
       " 'nlu_multilang_servant': 'http://localhost:18099',\n",
       " 'words_servant': 'http://localhost:8093',\n",
       " 'redis': 'localhost',\n",
       " 'servants': {'corenlp': 'http://localhost:14000',\n",
       "  'stanford': 'stf',\n",
       "  'ltp': 'http://localhost:14005',\n",
       "  'hanlp': 'http://localhost:14000',\n",
       "  'knp': 'http://localhost:14000',\n",
       "  'spacy': 'http://localhost:14001',\n",
       "  'spacy_2.2': 'http://localhost:14002'},\n",
       " 'dialectors': {'*': 'corenlp',\n",
       "  'auto': 'corenlp',\n",
       "  'el': 'corenlp',\n",
       "  'ru': 'corenlp',\n",
       "  'zh': 'ltp',\n",
       "  'ja': 'knp',\n",
       "  'pt': 'corenlp',\n",
       "  'ar': 'stanford',\n",
       "  'lt': 'spacy_2.2'}}"
      ]
     },
     "execution_count": 8,
     "metadata": {},
     "output_type": "execute_result"
    }
   ],
   "source": [
    "overrides={'servants.stanford':'stf'}\n",
    "for k,v in overrides.items():\n",
    "    if '.' in k:\n",
    "        parts=k.split('.')\n",
    "        cf.conf[parts[0]][parts[1]]=v\n",
    "    else:\n",
    "        cf.conf[k]=v\n",
    "cf.conf"
   ]
  },
  {
   "cell_type": "code",
   "execution_count": 2,
   "metadata": {
    "ExecuteTime": {
     "end_time": "2019-12-22T18:15:01.885131Z",
     "start_time": "2019-12-22T18:15:01.874235Z"
    }
   },
   "outputs": [
    {
     "data": {
      "text/plain": [
       "{'collect_verbs': True,\n",
       " 'trans_cache': True,\n",
       " 'translator': 'google',\n",
       " 'retries': 3,\n",
       " 'enable_chunks_parse': True,\n",
       " 'enable_ascii_viz': True,\n",
       " 'append_ascii_viz': False,\n",
       " 'print_not_matched': False,\n",
       " 'print_inspector_result': True,\n",
       " 'default_word_sets_langs': ['en', 'zh', 'ja', 'id', 'nl'],\n",
       " 'bert_servant': 'localhost',\n",
       " 'ofbiz_servant': 'localhost',\n",
       " 'odoo_servant': 'localhost',\n",
       " 'common_s': 'http://localhost:14000',\n",
       " 'ner': 'http://localhost:8092/entities',\n",
       " 'ner_ru': 'http://localhost:8095/entities',\n",
       " 'duckling': 'http://0.0.0.0:8000/parse',\n",
       " 'nlu_multilang_servant': 'http://localhost:18099',\n",
       " 'words_servant': 'http://serv_wordnet:8093',\n",
       " 'redis': 'localhost',\n",
       " 'servants': {'corenlp': 'http://serv_stack:14000',\n",
       "  'stanford': 'http://serv_stanford:14001',\n",
       "  'ltp': 'http://serv_zh:14005',\n",
       "  'hanlp': 'http://localhost:14000',\n",
       "  'knp': 'http://localhost:14000',\n",
       "  'spacy': 'http://localhost:14001',\n",
       "  'spacy_2.2': 'http://localhost:14002'},\n",
       " 'dialectors': {'*': 'corenlp',\n",
       "  'auto': 'corenlp',\n",
       "  'el': 'corenlp',\n",
       "  'ru': 'corenlp',\n",
       "  'zh': 'ltp',\n",
       "  'ja': 'knp',\n",
       "  'pt': 'corenlp',\n",
       "  'ar': 'stanford',\n",
       "  'lt': 'spacy_2.2'}}"
      ]
     },
     "execution_count": 2,
     "metadata": {},
     "output_type": "execute_result"
    }
   ],
   "source": [
    "from sagas.conf.conf import cf\n",
    "cf.update_by_overrides()\n",
    "cf.conf"
   ]
  },
  {
   "cell_type": "code",
   "execution_count": 3,
   "metadata": {
    "ExecuteTime": {
     "end_time": "2019-12-22T18:16:20.558491Z",
     "start_time": "2019-12-22T18:16:20.545447Z"
    }
   },
   "outputs": [
    {
     "data": {
      "text/plain": [
       "'http://serv_zh:14005'"
      ]
     },
     "execution_count": 3,
     "metadata": {},
     "output_type": "execute_result"
    }
   ],
   "source": [
    "cf.servant_by_lang('zh')"
   ]
  }
 ],
 "metadata": {
  "kernelspec": {
   "display_name": "Python 3",
   "language": "python",
   "name": "python3"
  },
  "language_info": {
   "codemirror_mode": {
    "name": "ipython",
    "version": 3
   },
   "file_extension": ".py",
   "mimetype": "text/x-python",
   "name": "python",
   "nbconvert_exporter": "python",
   "pygments_lexer": "ipython3",
   "version": "3.6.9"
  },
  "varInspector": {
   "cols": {
    "lenName": 16,
    "lenType": 16,
    "lenVar": 40
   },
   "kernels_config": {
    "python": {
     "delete_cmd_postfix": "",
     "delete_cmd_prefix": "del ",
     "library": "var_list.py",
     "varRefreshCmd": "print(var_dic_list())"
    },
    "r": {
     "delete_cmd_postfix": ") ",
     "delete_cmd_prefix": "rm(",
     "library": "var_list.r",
     "varRefreshCmd": "cat(var_dic_list()) "
    }
   },
   "types_to_exclude": [
    "module",
    "function",
    "builtin_function_or_method",
    "instance",
    "_Feature"
   ],
   "window_display": false
  }
 },
 "nbformat": 4,
 "nbformat_minor": 2
}
