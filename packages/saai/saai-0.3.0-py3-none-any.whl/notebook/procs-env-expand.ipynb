{
 "cells": [
  {
   "cell_type": "code",
   "execution_count": 1,
   "metadata": {
    "ExecuteTime": {
     "end_time": "2019-12-27T16:36:05.686086Z",
     "start_time": "2019-12-27T16:36:05.664848Z"
    }
   },
   "outputs": [
    {
     "data": {
      "text/plain": [
       "'/bin/bash$unknown\\\\/bin/bash'"
      ]
     },
     "execution_count": 1,
     "metadata": {},
     "output_type": "execute_result"
    }
   ],
   "source": [
    "import os\n",
    "import re\n",
    "\n",
    "def expandvars(path, default=None, skip_escaped=False):\n",
    "    \"\"\"Expand environment variables of form $var and ${var}.\n",
    "       If parameter 'skip_escaped' is True, all escaped variable references\n",
    "       (i.e. preceded by backslashes) are skipped.\n",
    "       Unknown variables are set to 'default'. If 'default' is None,\n",
    "       they are left unchanged.\n",
    "    \"\"\"\n",
    "    def replace_var(m):\n",
    "        return os.environ.get(m.group(2) or m.group(1), m.group(0) if default is None else default)\n",
    "    reVar = (r'(?<!\\\\)' if skip_escaped else '') + r'\\$(\\w+|\\{([^}]*)\\})'\n",
    "    return re.sub(reVar, replace_var, path)\n",
    "\n",
    "expandvars(\"$SHELL$unknown\\$SHELL\")"
   ]
  },
  {
   "cell_type": "code",
   "execution_count": 2,
   "metadata": {
    "ExecuteTime": {
     "end_time": "2019-12-27T16:36:24.538180Z",
     "start_time": "2019-12-27T16:36:24.530900Z"
    }
   },
   "outputs": [
    {
     "data": {
      "text/plain": [
       "'/bin/bash\\\\/bin/bash'"
      ]
     },
     "execution_count": 2,
     "metadata": {},
     "output_type": "execute_result"
    }
   ],
   "source": [
    "expandvars(\"$SHELL$unknown\\$SHELL\", '')"
   ]
  },
  {
   "cell_type": "code",
   "execution_count": 3,
   "metadata": {
    "ExecuteTime": {
     "end_time": "2019-12-27T16:36:40.256281Z",
     "start_time": "2019-12-27T16:36:40.246133Z"
    }
   },
   "outputs": [
    {
     "data": {
      "text/plain": [
       "'/bin/bash\\\\$SHELL'"
      ]
     },
     "execution_count": 3,
     "metadata": {},
     "output_type": "execute_result"
    }
   ],
   "source": [
    "expandvars(\"$SHELL$unknown\\$SHELL\", '', True)"
   ]
  },
  {
   "cell_type": "code",
   "execution_count": 4,
   "metadata": {
    "ExecuteTime": {
     "end_time": "2019-12-27T16:37:51.377819Z",
     "start_time": "2019-12-27T16:37:51.367542Z"
    }
   },
   "outputs": [
    {
     "data": {
      "text/plain": [
       "'tim likes kung pao'"
      ]
     },
     "execution_count": 4,
     "metadata": {},
     "output_type": "execute_result"
    }
   ],
   "source": [
    "from string import Template\n",
    "s = Template('$who likes $what')\n",
    "s.substitute(who='tim', what='kung pao')"
   ]
  },
  {
   "cell_type": "code",
   "execution_count": 9,
   "metadata": {
    "ExecuteTime": {
     "end_time": "2019-12-27T16:39:38.088246Z",
     "start_time": "2019-12-27T16:39:38.079613Z"
    }
   },
   "outputs": [
    {
     "data": {
      "text/plain": [
       "'Give tim'"
      ]
     },
     "execution_count": 9,
     "metadata": {},
     "output_type": "execute_result"
    }
   ],
   "source": [
    "# d = {'who':'tim'}\n",
    "d = dict(who='tim')\n",
    "Template('Give $who').substitute(d)"
   ]
  },
  {
   "cell_type": "code",
   "execution_count": 11,
   "metadata": {
    "ExecuteTime": {
     "end_time": "2019-12-27T16:40:14.154011Z",
     "start_time": "2019-12-27T16:40:14.145588Z"
    }
   },
   "outputs": [
    {
     "data": {
      "text/plain": [
       "'/Users/xiaofeiwu/dir/dir2'"
      ]
     },
     "execution_count": 11,
     "metadata": {},
     "output_type": "execute_result"
    }
   ],
   "source": [
    "from string import Template\n",
    "import os\n",
    "\n",
    "t = Template(\"$HOME/dir/dir2\")\n",
    "result = t.substitute(os.environ)\n",
    "result"
   ]
  }
 ],
 "metadata": {
  "kernelspec": {
   "display_name": "Python 3",
   "language": "python",
   "name": "python3"
  },
  "language_info": {
   "codemirror_mode": {
    "name": "ipython",
    "version": 3
   },
   "file_extension": ".py",
   "mimetype": "text/x-python",
   "name": "python",
   "nbconvert_exporter": "python",
   "pygments_lexer": "ipython3",
   "version": "3.6.9"
  },
  "varInspector": {
   "cols": {
    "lenName": 16,
    "lenType": 16,
    "lenVar": 40
   },
   "kernels_config": {
    "python": {
     "delete_cmd_postfix": "",
     "delete_cmd_prefix": "del ",
     "library": "var_list.py",
     "varRefreshCmd": "print(var_dic_list())"
    },
    "r": {
     "delete_cmd_postfix": ") ",
     "delete_cmd_prefix": "rm(",
     "library": "var_list.r",
     "varRefreshCmd": "cat(var_dic_list()) "
    }
   },
   "types_to_exclude": [
    "module",
    "function",
    "builtin_function_or_method",
    "instance",
    "_Feature"
   ],
   "window_display": false
  }
 },
 "nbformat": 4,
 "nbformat_minor": 2
}
