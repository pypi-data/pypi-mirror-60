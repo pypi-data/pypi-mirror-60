{
 "cells": [
  {
   "cell_type": "code",
   "execution_count": 1,
   "metadata": {
    "ExecuteTime": {
     "end_time": "2019-12-06T13:35:38.504742Z",
     "start_time": "2019-12-06T13:35:37.065519Z"
    }
   },
   "outputs": [
    {
     "name": "stdout",
     "output_type": "stream",
     "text": [
      ".. request is {'lang': 'id', 'sents': 'Siapa yang menulis laporan ini?', 'engine': 'corenlp', 'pipelines': ['predicts']}\n",
      "ok, resp:  {'predicts': []}\n"
     ]
    }
   ],
   "source": [
    "from sagas.nlu.uni_remote import dep_parse\n",
    "from sagas.nlu.common import get_from_clip\n",
    "from sagas.conf.conf import cf\n",
    "from sagas.nlu.uni_remote_viz import list_chunks\n",
    "from sagas.nlu.utils import fix_sents\n",
    "\n",
    "from sagas.tracker_jupyter import enable_jupyter_tracker\n",
    "enable_jupyter_tracker()\n",
    "\n",
    "sents='Siapa yang menulis laporan ini?'\n",
    "source='id'\n",
    "\n",
    "sents=fix_sents(sents, source)\n",
    "engine=cf.engine(source)\n",
    "doc_jsonify, resp = dep_parse(sents, source, engine, ['predicts'])\n",
    "print('ok, resp: ', resp)"
   ]
  },
  {
   "cell_type": "code",
   "execution_count": 4,
   "metadata": {
    "ExecuteTime": {
     "end_time": "2019-12-07T20:31:45.374682Z",
     "start_time": "2019-12-07T20:31:45.351197Z"
    }
   },
   "outputs": [
    {
     "name": "stdout",
     "output_type": "stream",
     "text": [
      ".. request is {'lang': 'id', 'sents': 'Aku tak bisa tidur.', 'engine': 'corenlp', 'pipelines': ['predicts']}\n",
      "tokens {'advmod': ['tak', 'bisa'], 'head_root': ['.'], 'nsubj': ['Aku'], 'punct': ['.']}\n",
      "words {'advmod': 'tak bisa', 'head_root': '.', 'nsubj': 'Aku', 'punct': '.'}\n",
      "lemmas {'advmod': 'tak bisa', 'head_root': '.', 'nsubj': 'aku', 'punct': '.'}\n",
      "chunks [nsubj: Aku, advmod: tak, advmod: bisa, punct: ., head_root: .]\n"
     ]
    }
   ],
   "source": [
    "from sagas.nlu.corenlp_parser import get_chunks\n",
    "from sagas.nlu.rules_meta import build_meta\n",
    "from sagas.nlu.inspector_common import Inspector, Context, non_spaces\n",
    "from sagas.conf.conf import cf\n",
    "from sagas.nlu.utils import fix_sents\n",
    "from sagas.nlu.uni_remote import dep_parse\n",
    "\n",
    "def parse_sents(data):\n",
    "    sents, source=data['sents'], data['lang']\n",
    "    sents=fix_sents(sents, source)\n",
    "    engine=cf.engine(source)\n",
    "    doc_jsonify, resp = dep_parse(sents, source, engine, ['predicts'])\n",
    "    return doc_jsonify, resp\n",
    "\n",
    "lang='id'\n",
    "data = {'lang': lang, \"sents\": 'Aku tak bisa tidur.', 'engine': cf.engine(lang)}\n",
    "doc_jsonify,_=parse_sents(data)\n",
    "rs = get_chunks(doc_jsonify)\n",
    "\n",
    "if lang in non_spaces:\n",
    "    delim=''\n",
    "else:\n",
    "    delim=' '\n",
    "for serial, r in enumerate(rs):\n",
    "    meta = build_meta(r, data)\n",
    "    domains=r['domains']\n",
    "    # print([(x[0], x[2]) for x in domains])\n",
    "    #\n",
    "    keys={x[0] for x in domains}\n",
    "    grp=lambda p, idx: [x[idx] for x in domains if x[0]==p]    \n",
    "    tokens={x:grp(x,2) for x in keys}\n",
    "    words={x:delim.join(grp(x,2)) for x in keys}\n",
    "    lemmas={x:delim.join(grp(x,3)) for x in keys}\n",
    "    print('tokens', tokens)\n",
    "    print('words', words)\n",
    "    print('lemmas', lemmas)\n",
    "    # \n",
    "    ctx=Context(meta, domains)\n",
    "    # print(ctx.lemmas)\n",
    "    print('chunks', ctx._chunks)\n",
    "    "
   ]
  },
  {
   "cell_type": "code",
   "execution_count": 11,
   "metadata": {
    "ExecuteTime": {
     "end_time": "2019-12-01T22:30:01.346128Z",
     "start_time": "2019-12-01T22:30:01.337218Z"
    }
   },
   "outputs": [
    {
     "data": {
      "text/plain": [
       "False"
      ]
     },
     "execution_count": 11,
     "metadata": {},
     "output_type": "execute_result"
    }
   ],
   "source": [
    "all([True, False])"
   ]
  },
  {
   "cell_type": "code",
   "execution_count": 40,
   "metadata": {
    "ExecuteTime": {
     "end_time": "2019-12-02T19:52:05.439320Z",
     "start_time": "2019-12-02T19:52:05.430038Z"
    }
   },
   "outputs": [
    {
     "data": {
      "text/plain": [
       "True"
      ]
     },
     "execution_count": 40,
     "metadata": {},
     "output_type": "execute_result"
    }
   ],
   "source": [
    "all([])"
   ]
  },
  {
   "cell_type": "code",
   "execution_count": 3,
   "metadata": {
    "ExecuteTime": {
     "end_time": "2019-12-01T22:14:00.935702Z",
     "start_time": "2019-12-01T22:14:00.927139Z"
    }
   },
   "outputs": [
    {
     "data": {
      "text/plain": [
       "(True, True, True, False)"
      ]
     },
     "execution_count": 3,
     "metadata": {},
     "output_type": "execute_result"
    }
   ],
   "source": [
    "def is_describe(w):\n",
    "    return lambda doc, meta: w=='ok'\n",
    "f=is_describe('ok')\n",
    "is_describe('ok')({},{}), callable(f), callable(is_describe), callable('')"
   ]
  },
  {
   "cell_type": "code",
   "execution_count": 4,
   "metadata": {
    "ExecuteTime": {
     "end_time": "2019-12-03T19:28:39.239551Z",
     "start_time": "2019-12-03T19:28:39.220012Z"
    }
   },
   "outputs": [
    {
     "name": "stdout",
     "output_type": "stream",
     "text": [
      "[{'amod': 'putih'}] [{'punct': '.'}]\n"
     ]
    },
    {
     "data": {
      "text/plain": [
       "[{'amod': 'putih'}, {'punct': '.'}]"
      ]
     },
     "execution_count": 4,
     "metadata": {},
     "output_type": "execute_result"
    }
   ],
   "source": [
    "def it(*dl):\n",
    "    rs=[]\n",
    "    for d in dl:\n",
    "        rs.extend(d)\n",
    "    return rs\n",
    "\n",
    "l=[[{'amod': 'putih'}], [{'punct': '.'}]]\n",
    "print(*l)\n",
    "it(*l)"
   ]
  },
  {
   "cell_type": "code",
   "execution_count": 17,
   "metadata": {
    "ExecuteTime": {
     "end_time": "2019-12-03T19:40:13.520589Z",
     "start_time": "2019-12-03T19:40:13.172147Z"
    }
   },
   "outputs": [
    {
     "name": "stdout",
     "output_type": "stream",
     "text": [
      ".. request is {'lang': 'id', 'sents': 'Karpet di kantor saya abu-abu.', 'engine': 'corenlp', 'pipelines': ['predicts']}\n",
      "root is karpet, compound ->  ['kantor']\n",
      "compound domains ->  [{'case': 'di'}, {'det': 'saya'}, {'amod': 'abu'}]\n",
      "1. check match False\n",
      ".. no part amod in [{'case': 'di'}, {'det': 'saya'}, {'amod': 'abu'}]\n",
      ".. check result [False]\n",
      "2. check fn False\n",
      ".. no part amod in [{'case': 'di'}, {'det': 'saya'}, {'amod': 'abu'}]\n",
      ".. check result [False]\n",
      "3. check anal False\n",
      ".. check result [True]\n",
      "4. check anal entity True\n",
      ".. no part amod in [{'case': 'di'}, {'det': 'saya'}, {'amod': 'abu'}]\n",
      ".. no part unknown in [{'case': 'di'}, {'det': 'saya'}, {'amod': 'abu'}]\n",
      ".. check result [False, False]\n",
      "5. check anal error False\n",
      "[('kantor', 'karpet')]\n",
      "[{'domains': [{'case': 'di'}, {'det': 'saya'}, {'amod': 'abu'}],\n",
      "  'word': 'kantor'},\n",
      " {'domains': [{'punct': '.'}], 'word': 'karpet'}]\n",
      "\u001b[36m✁ dependency-graph. -------------------------\u001b[0m\n"
     ]
    },
    {
     "data": {
      "text/html": [
       "<div>\n",
       "<style scoped>\n",
       "    .dataframe tbody tr th:only-of-type {\n",
       "        vertical-align: middle;\n",
       "    }\n",
       "\n",
       "    .dataframe tbody tr th {\n",
       "        vertical-align: top;\n",
       "    }\n",
       "\n",
       "    .dataframe thead th {\n",
       "        text-align: right;\n",
       "    }\n",
       "</style>\n",
       "<table border=\"1\" class=\"dataframe\">\n",
       "  <thead>\n",
       "    <tr style=\"text-align: right;\">\n",
       "      <th></th>\n",
       "      <th>index</th>\n",
       "      <th>text</th>\n",
       "      <th>lemma</th>\n",
       "      <th>upos</th>\n",
       "      <th>xpos</th>\n",
       "    </tr>\n",
       "  </thead>\n",
       "  <tbody>\n",
       "    <tr>\n",
       "      <th>0</th>\n",
       "      <td>1</td>\n",
       "      <td>Karpet</td>\n",
       "      <td>karpet</td>\n",
       "      <td>NOUN</td>\n",
       "      <td>NSD</td>\n",
       "    </tr>\n",
       "    <tr>\n",
       "      <th>1</th>\n",
       "      <td>2</td>\n",
       "      <td>di</td>\n",
       "      <td>di</td>\n",
       "      <td>ADP</td>\n",
       "      <td>R--</td>\n",
       "    </tr>\n",
       "    <tr>\n",
       "      <th>2</th>\n",
       "      <td>3</td>\n",
       "      <td>kantor</td>\n",
       "      <td>kantor</td>\n",
       "      <td>NOUN</td>\n",
       "      <td>NSD</td>\n",
       "    </tr>\n",
       "    <tr>\n",
       "      <th>3</th>\n",
       "      <td>4</td>\n",
       "      <td>saya</td>\n",
       "      <td>saya</td>\n",
       "      <td>PRON</td>\n",
       "      <td>PS1</td>\n",
       "    </tr>\n",
       "    <tr>\n",
       "      <th>4</th>\n",
       "      <td>5</td>\n",
       "      <td>abu-abu</td>\n",
       "      <td>abu</td>\n",
       "      <td>ADJ</td>\n",
       "      <td>ASP</td>\n",
       "    </tr>\n",
       "    <tr>\n",
       "      <th>5</th>\n",
       "      <td>6</td>\n",
       "      <td>.</td>\n",
       "      <td>.</td>\n",
       "      <td>PUNCT</td>\n",
       "      <td>Z--</td>\n",
       "    </tr>\n",
       "  </tbody>\n",
       "</table>\n",
       "</div>"
      ],
      "text/plain": [
       "  index     text   lemma   upos xpos\n",
       "0     1   Karpet  karpet   NOUN  NSD\n",
       "1     2       di      di    ADP  R--\n",
       "2     3   kantor  kantor   NOUN  NSD\n",
       "3     4     saya    saya   PRON  PS1\n",
       "4     5  abu-abu     abu    ADJ  ASP\n",
       "5     6        .       .  PUNCT  Z--"
      ]
     },
     "metadata": {},
     "output_type": "display_data"
    },
    {
     "data": {
      "image/svg+xml": [
       "<?xml version=\"1.0\" encoding=\"UTF-8\" standalone=\"no\"?>\n",
       "<!DOCTYPE svg PUBLIC \"-//W3C//DTD SVG 1.1//EN\"\n",
       " \"http://www.w3.org/Graphics/SVG/1.1/DTD/svg11.dtd\">\n",
       "<!-- Generated by graphviz version 2.40.1 (20161225.0304)\n",
       " -->\n",
       "<!-- Title: deps Pages: 1 -->\n",
       "<svg width=\"507pt\" height=\"152pt\"\n",
       " viewBox=\"0.00 0.00 507.47 152.00\" xmlns=\"http://www.w3.org/2000/svg\" xmlns:xlink=\"http://www.w3.org/1999/xlink\">\n",
       "<g id=\"graph0\" class=\"graph\" transform=\"scale(1 1) rotate(0) translate(4 148)\">\n",
       "<title>deps</title>\n",
       "<polygon fill=\"#ffffff\" stroke=\"transparent\" points=\"-4,4 -4,-148 503.4701,-148 503.4701,4 -4,4\"/>\n",
       "<!-- Karpet -->\n",
       "<g id=\"node1\" class=\"node\">\n",
       "<title>Karpet</title>\n",
       "<polygon fill=\"none\" stroke=\"#0000ff\" points=\"172.9654,-17.0493 175.3255,-17.1479 177.6611,-17.2953 179.9628,-17.4913 182.2213,-17.7353 184.4274,-18.0266 186.5725,-18.3645 188.6482,-18.7479 190.6466,-19.1759 192.5604,-19.6472 194.3826,-20.1606 196.1069,-20.7147 197.7275,-21.308 199.2393,-21.9388 200.6378,-22.6054 201.9192,-23.3059 203.0803,-24.0385 204.1187,-24.8012 205.0324,-25.5918 205.8204,-26.4082 206.4821,-27.2481 207.0176,-28.1093 207.4278,-28.9894 207.7138,-29.886 207.8777,-30.7965 207.9218,-31.7186 207.849,-32.6497 207.6627,-33.5873 207.3665,-34.5287 206.9646,-35.4713 206.4615,-36.4127 205.8616,-37.3503 205.1701,-38.2814 204.3917,-39.2035 203.5318,-40.114 202.5955,-41.0106 201.5881,-41.8907 200.5147,-42.7519 199.3806,-43.5918 198.1908,-44.4082 196.9501,-45.1988 195.6634,-45.9615 194.3352,-46.6941 192.9698,-47.3946 191.5713,-48.0612 190.1435,-48.692 188.69,-49.2853 187.2141,-49.8394 185.7188,-50.3528 184.2069,-50.8241 182.6809,-51.2521 181.1429,-51.6355 179.5951,-51.9734 178.0392,-52.2647 176.4769,-52.5087 174.9094,-52.7047 173.3381,-52.8521 171.7642,-52.9507 170.1888,-53 168.6128,-53 167.0374,-52.9507 165.4635,-52.8521 163.8922,-52.7047 162.3248,-52.5087 160.7624,-52.2647 159.2065,-51.9734 157.6587,-51.6355 156.1208,-51.2521 154.5947,-50.8241 153.0828,-50.3528 151.5875,-49.8394 150.1116,-49.2853 148.6581,-48.692 147.2304,-48.0612 145.8318,-47.3946 144.4664,-46.6941 143.1382,-45.9615 141.8515,-45.1988 140.6108,-44.4082 139.421,-43.5918 138.2869,-42.7519 137.2135,-41.8907 136.2061,-41.0106 135.2698,-40.114 134.4099,-39.2035 133.6316,-38.2814 132.94,-37.3503 132.3402,-36.4127 131.837,-35.4713 131.4351,-34.5287 131.139,-33.5873 130.9526,-32.6497 130.8798,-31.7186 130.9239,-30.7965 131.0878,-29.886 131.3739,-28.9894 131.784,-28.1093 132.3195,-27.2481 132.9812,-26.4082 133.7692,-25.5918 134.683,-24.8012 135.7213,-24.0385 136.8824,-23.3059 138.1638,-22.6054 139.5624,-21.9388 141.0742,-21.308 142.6948,-20.7147 144.419,-20.1606 146.2412,-19.6472 148.155,-19.1759 150.1534,-18.7479 152.2291,-18.3645 154.3742,-18.0266 156.5804,-17.7353 158.8388,-17.4913 161.1405,-17.2953 163.4762,-17.1479 165.8362,-17.0493 168.211,-17 170.5906,-17 172.9654,-17.0493\"/>\n",
       "<text text-anchor=\"middle\" x=\"169.4008\" y=\"-30.8\" font-family=\"Calibri\" font-size=\"14.00\" fill=\"#000000\">Karpet</text>\n",
       "</g>\n",
       "<!-- kantor -->\n",
       "<g id=\"node3\" class=\"node\">\n",
       "<title>kantor</title>\n",
       "<polygon fill=\"none\" stroke=\"#0000ff\" points=\"311.7776,-54.0493 314.0368,-54.1479 316.2727,-54.2953 318.4761,-54.4913 320.6381,-54.7353 322.75,-55.0266 324.8035,-55.3645 326.7905,-55.7479 328.7036,-56.1759 330.5356,-56.6472 332.28,-57.1606 333.9306,-57.7147 335.482,-58.308 336.9292,-58.9388 338.268,-59.6054 339.4947,-60.3059 340.6062,-61.0385 341.6002,-61.8012 342.4749,-62.5918 343.2293,-63.4082 343.8627,-64.2481 344.3754,-65.1093 344.768,-65.9894 345.0418,-66.886 345.1987,-67.7965 345.2409,-68.7186 345.1712,-69.6497 344.9928,-70.5873 344.7093,-71.5287 344.3246,-72.4713 343.843,-73.4127 343.2688,-74.3503 342.6067,-75.2814 341.8616,-76.2035 341.0384,-77.114 340.1421,-78.0106 339.1777,-78.8907 338.1502,-79.7519 337.0646,-80.5918 335.9255,-81.4082 334.7379,-82.1988 333.5061,-82.9615 332.2346,-83.6941 330.9275,-84.3946 329.5887,-85.0612 328.2219,-85.692 326.8305,-86.2853 325.4177,-86.8394 323.9862,-87.3528 322.5389,-87.8241 321.0781,-88.2521 319.6058,-88.6355 318.1241,-88.9734 316.6347,-89.2647 315.139,-89.5087 313.6385,-89.7047 312.1344,-89.8521 310.6277,-89.9507 309.1195,-90 307.6109,-90 306.1027,-89.9507 304.5961,-89.8521 303.0919,-89.7047 301.5914,-89.5087 300.0957,-89.2647 298.6063,-88.9734 297.1246,-88.6355 295.6524,-88.2521 294.1915,-87.8241 292.7442,-87.3528 291.3128,-86.8394 289.8999,-86.2853 288.5085,-85.692 287.1417,-85.0612 285.8029,-84.3946 284.4958,-83.6941 283.2243,-82.9615 281.9925,-82.1988 280.8049,-81.4082 279.6659,-80.5918 278.5802,-79.7519 277.5527,-78.8907 276.5883,-78.0106 275.692,-77.114 274.8688,-76.2035 274.1237,-75.2814 273.4617,-74.3503 272.8875,-73.4127 272.4058,-72.4713 272.0211,-71.5287 271.7376,-70.5873 271.5592,-69.6497 271.4895,-68.7186 271.5317,-67.7965 271.6886,-66.886 271.9624,-65.9894 272.3551,-65.1093 272.8677,-64.2481 273.5012,-63.4082 274.2555,-62.5918 275.1302,-61.8012 276.1242,-61.0385 277.2357,-60.3059 278.4624,-59.6054 279.8012,-58.9388 281.2484,-58.308 282.7998,-57.7147 284.4504,-57.1606 286.1948,-56.6472 288.0268,-56.1759 289.9399,-55.7479 291.927,-55.3645 293.9804,-55.0266 296.0923,-54.7353 298.2543,-54.4913 300.4577,-54.2953 302.6936,-54.1479 304.9529,-54.0493 307.2262,-54 309.5042,-54 311.7776,-54.0493\"/>\n",
       "<text text-anchor=\"middle\" x=\"308.3652\" y=\"-67.8\" font-family=\"Calibri\" font-size=\"14.00\" fill=\"#000000\">kantor</text>\n",
       "</g>\n",
       "<!-- Karpet&#45;&gt;kantor -->\n",
       "<g id=\"edge3\" class=\"edge\">\n",
       "<title>Karpet&#45;&gt;kantor</title>\n",
       "<path fill=\"none\" stroke=\"#000000\" d=\"M200.2415,-43.2115C218.9324,-48.188 243.0933,-54.621 263.8338,-60.1433\"/>\n",
       "<polygon fill=\"#000000\" stroke=\"#000000\" points=\"263.1379,-63.5799 273.7018,-62.7707 264.939,-56.8155 263.1379,-63.5799\"/>\n",
       "<text text-anchor=\"middle\" x=\"239.6694\" y=\"-58.2\" font-family=\"Calibri\" font-size=\"11.00\" fill=\"#000000\">nmod</text>\n",
       "</g>\n",
       "<!-- . -->\n",
       "<g id=\"node6\" class=\"node\">\n",
       "<title>.</title>\n",
       "<polygon fill=\"none\" stroke=\"#000000\" points=\"311.0478,-.0493 312.8238,-.1479 314.5815,-.2953 316.3137,-.4913 318.0132,-.7353 319.6735,-1.0266 321.2878,-1.3645 322.8498,-1.7479 324.3538,-2.1759 325.794,-2.6472 327.1653,-3.1606 328.4629,-3.7147 329.6824,-4.308 330.8201,-4.9388 331.8726,-5.6054 332.8369,-6.3059 333.7107,-7.0385 334.4921,-7.8012 335.1798,-8.5918 335.7728,-9.4082 336.2707,-10.2481 336.6737,-11.1093 336.9824,-11.9894 337.1977,-12.886 337.321,-13.7965 337.3542,-14.7186 337.2994,-15.6497 337.1592,-16.5873 336.9363,-17.5287 336.6339,-18.4713 336.2552,-19.4127 335.8038,-20.3503 335.2834,-21.2814 334.6976,-22.2035 334.0505,-23.114 333.3459,-24.0106 332.5878,-24.8907 331.78,-25.7519 330.9265,-26.5918 330.0311,-27.4082 329.0975,-28.1988 328.1292,-28.9615 327.1296,-29.6941 326.1021,-30.3946 325.0496,-31.0612 323.9751,-31.692 322.8813,-32.2853 321.7706,-32.8394 320.6453,-33.3528 319.5075,-33.8241 318.3591,-34.2521 317.2018,-34.6355 316.037,-34.9734 314.8661,-35.2647 313.6903,-35.5087 312.5107,-35.7047 311.3282,-35.8521 310.1438,-35.9507 308.9582,-36 307.7722,-36 306.5866,-35.9507 305.4022,-35.8521 304.2197,-35.7047 303.0401,-35.5087 301.8644,-35.2647 300.6935,-34.9734 299.5287,-34.6355 298.3713,-34.2521 297.2229,-33.8241 296.0851,-33.3528 294.9598,-32.8394 293.8491,-32.2853 292.7553,-31.692 291.6808,-31.0612 290.6284,-30.3946 289.6008,-29.6941 288.6013,-28.9615 287.633,-28.1988 286.6993,-27.4082 285.8039,-26.5918 284.9504,-25.7519 284.1427,-24.8907 283.3845,-24.0106 282.6799,-23.114 282.0328,-22.2035 281.4471,-21.2814 280.9266,-20.3503 280.4752,-19.4127 280.0966,-18.4713 279.7941,-17.5287 279.5713,-16.5873 279.431,-15.6497 279.3762,-14.7186 279.4094,-13.7965 279.5327,-12.886 279.748,-11.9894 280.0567,-11.1093 280.4597,-10.2481 280.9577,-9.4082 281.5507,-8.5918 282.2383,-7.8012 283.0197,-7.0385 283.8935,-6.3059 284.8578,-5.6054 285.9103,-4.9388 287.048,-4.308 288.2676,-3.7147 289.5652,-3.1606 290.9365,-2.6472 292.3767,-2.1759 293.8806,-1.7479 295.4427,-1.3645 297.057,-1.0266 298.7172,-.7353 300.4168,-.4913 302.1489,-.2953 303.9066,-.1479 305.6827,-.0493 307.4698,0 309.2606,0 311.0478,-.0493\"/>\n",
       "<text text-anchor=\"middle\" x=\"308.3652\" y=\"-13.8\" font-family=\"Calibri\" font-size=\"14.00\" fill=\"#000000\">.</text>\n",
       "</g>\n",
       "<!-- Karpet&#45;&gt;. -->\n",
       "<g id=\"edge6\" class=\"edge\">\n",
       "<title>Karpet&#45;&gt;.</title>\n",
       "<path fill=\"none\" stroke=\"#000000\" d=\"M208.1101,-30.2646C227.8518,-27.8495 251.747,-24.9263 271.2565,-22.5396\"/>\n",
       "<polygon fill=\"#000000\" stroke=\"#000000\" points=\"271.8,-25.9993 281.301,-21.3109 270.9499,-19.0511 271.8,-25.9993\"/>\n",
       "<text text-anchor=\"middle\" x=\"239.6694\" y=\"-30.2\" font-family=\"Calibri\" font-size=\"11.00\" fill=\"#000000\">punct</text>\n",
       "</g>\n",
       "<!-- di -->\n",
       "<g id=\"node2\" class=\"node\">\n",
       "<title>di</title>\n",
       "<polygon fill=\"none\" stroke=\"#000000\" points=\"456.8271,-108.0493 458.6032,-108.1479 460.3609,-108.2953 462.093,-108.4913 463.7926,-108.7353 465.4529,-109.0266 467.0671,-109.3645 468.6292,-109.7479 470.1332,-110.1759 471.5734,-110.6472 472.9446,-111.1606 474.2422,-111.7147 475.4618,-112.308 476.5995,-112.9388 477.652,-113.6054 478.6163,-114.3059 479.4901,-115.0385 480.2715,-115.8012 480.9592,-116.5918 481.5521,-117.4082 482.0501,-118.2481 482.4531,-119.1093 482.7618,-119.9894 482.9771,-120.886 483.1004,-121.7965 483.1336,-122.7186 483.0788,-123.6497 482.9385,-124.5873 482.7157,-125.5287 482.4133,-126.4713 482.0346,-127.4127 481.5832,-128.3503 481.0627,-129.2814 480.477,-130.2035 479.8299,-131.114 479.1253,-132.0106 478.3671,-132.8907 477.5594,-133.7519 476.7059,-134.5918 475.8105,-135.4082 474.8769,-136.1988 473.9085,-136.9615 472.909,-137.6941 471.8814,-138.3946 470.829,-139.0612 469.7545,-139.692 468.6607,-140.2853 467.55,-140.8394 466.4247,-141.3528 465.2869,-141.8241 464.1385,-142.2521 462.9811,-142.6355 461.8163,-142.9734 460.6455,-143.2647 459.4697,-143.5087 458.2901,-143.7047 457.1076,-143.8521 455.9232,-143.9507 454.7376,-144 453.5516,-144 452.366,-143.9507 451.1816,-143.8521 449.9991,-143.7047 448.8195,-143.5087 447.6437,-143.2647 446.4729,-142.9734 445.3081,-142.6355 444.1507,-142.2521 443.0023,-141.8241 441.8645,-141.3528 440.7392,-140.8394 439.6285,-140.2853 438.5347,-139.692 437.4602,-139.0612 436.4078,-138.3946 435.3802,-137.6941 434.3807,-136.9615 433.4123,-136.1988 432.4787,-135.4082 431.5833,-134.5918 430.7298,-133.7519 429.9221,-132.8907 429.1639,-132.0106 428.4593,-131.114 427.8122,-130.2035 427.2265,-129.2814 426.706,-128.3503 426.2546,-127.4127 425.8759,-126.4713 425.5735,-125.5287 425.3506,-124.5873 425.2104,-123.6497 425.1556,-122.7186 425.1888,-121.7965 425.3121,-120.886 425.5274,-119.9894 425.8361,-119.1093 426.2391,-118.2481 426.7371,-117.4082 427.33,-116.5918 428.0177,-115.8012 428.7991,-115.0385 429.6729,-114.3059 430.6372,-113.6054 431.6897,-112.9388 432.8274,-112.308 434.047,-111.7147 435.3446,-111.1606 436.7158,-110.6472 438.156,-110.1759 439.66,-109.7479 441.2221,-109.3645 442.8363,-109.0266 444.4966,-108.7353 446.1962,-108.4913 447.9283,-108.2953 449.686,-108.1479 451.4621,-108.0493 453.2492,-108 455.04,-108 456.8271,-108.0493\"/>\n",
       "<text text-anchor=\"middle\" x=\"454.1446\" y=\"-121.8\" font-family=\"Calibri\" font-size=\"14.00\" fill=\"#000000\">di</text>\n",
       "</g>\n",
       "<!-- kantor&#45;&gt;di -->\n",
       "<g id=\"edge2\" class=\"edge\">\n",
       "<title>kantor&#45;&gt;di</title>\n",
       "<path fill=\"none\" stroke=\"#000000\" d=\"M335.4436,-82.0304C358.5593,-90.593 392.0126,-102.9849 417.5174,-112.4325\"/>\n",
       "<polygon fill=\"#000000\" stroke=\"#000000\" points=\"416.6182,-115.8317 427.2113,-116.0233 419.0497,-109.2676 416.6182,-115.8317\"/>\n",
       "<text text-anchor=\"middle\" x=\"377.0611\" y=\"-104.2\" font-family=\"Calibri\" font-size=\"11.00\" fill=\"#000000\">case</text>\n",
       "</g>\n",
       "<!-- saya -->\n",
       "<g id=\"node4\" class=\"node\">\n",
       "<title>saya</title>\n",
       "<polygon fill=\"none\" stroke=\"#ff0000\" stroke-dasharray=\"5,2\" points=\"456.996,-54.0493 458.8838,-54.1479 460.7521,-54.2953 462.5933,-54.4913 464.3998,-54.7353 466.1645,-55.0266 467.8804,-55.3645 469.5408,-55.7479 471.1393,-56.1759 472.6702,-56.6472 474.1278,-57.1606 475.507,-57.7147 476.8033,-58.308 478.0127,-58.9388 479.1313,-59.6054 480.1564,-60.3059 481.0852,-61.0385 481.9157,-61.8012 482.6466,-62.5918 483.2769,-63.4082 483.8062,-64.2481 484.2346,-65.1093 484.5627,-65.9894 484.7915,-66.886 484.9226,-67.7965 484.9579,-68.7186 484.8997,-69.6497 484.7506,-70.5873 484.5137,-71.5287 484.1923,-72.4713 483.7898,-73.4127 483.31,-74.3503 482.7568,-75.2814 482.1342,-76.2035 481.4463,-77.114 480.6974,-78.0106 479.8915,-78.8907 479.0329,-79.7519 478.1257,-80.5918 477.174,-81.4082 476.1816,-82.1988 475.1523,-82.9615 474.0899,-83.6941 472.9976,-84.3946 471.879,-85.0612 470.7368,-85.692 469.5742,-86.2853 468.3936,-86.8394 467.1975,-87.3528 465.9881,-87.8241 464.7674,-88.2521 463.5372,-88.6355 462.2991,-88.9734 461.0546,-89.2647 459.8048,-89.5087 458.551,-89.7047 457.2941,-89.8521 456.0351,-89.9507 454.7749,-90 453.5143,-90 452.2541,-89.9507 450.9951,-89.8521 449.7382,-89.7047 448.4844,-89.5087 447.2346,-89.2647 445.9901,-88.9734 444.752,-88.6355 443.5218,-88.2521 442.3011,-87.8241 441.0917,-87.3528 439.8956,-86.8394 438.715,-86.2853 437.5523,-85.692 436.4102,-85.0612 435.2915,-84.3946 434.1993,-83.6941 433.1369,-82.9615 432.1076,-82.1988 431.1152,-81.4082 430.1635,-80.5918 429.2563,-79.7519 428.3977,-78.8907 427.5918,-78.0106 426.8429,-77.114 426.155,-76.2035 425.5324,-75.2814 424.9792,-74.3503 424.4994,-73.4127 424.0969,-72.4713 423.7755,-71.5287 423.5386,-70.5873 423.3895,-69.6497 423.3313,-68.7186 423.3666,-67.7965 423.4977,-66.886 423.7265,-65.9894 424.0546,-65.1093 424.4829,-64.2481 425.0122,-63.4082 425.6426,-62.5918 426.3735,-61.8012 427.204,-61.0385 428.1328,-60.3059 429.1578,-59.6054 430.2765,-58.9388 431.4858,-58.308 432.7822,-57.7147 434.1614,-57.1606 435.619,-56.6472 437.1499,-56.1759 438.7484,-55.7479 440.4088,-55.3645 442.1247,-55.0266 443.8894,-54.7353 445.6959,-54.4913 447.5371,-54.2953 449.4054,-54.1479 451.2932,-54.0493 453.1928,-54 455.0964,-54 456.996,-54.0493\"/>\n",
       "<text text-anchor=\"middle\" x=\"454.1446\" y=\"-67.8\" font-family=\"Calibri\" font-size=\"14.00\" fill=\"#000000\">saya</text>\n",
       "</g>\n",
       "<!-- kantor&#45;&gt;saya -->\n",
       "<g id=\"edge4\" class=\"edge\">\n",
       "<title>kantor&#45;&gt;saya</title>\n",
       "<path fill=\"none\" stroke=\"#000000\" d=\"M344.7755,-72C365.648,-72 391.8978,-72 413.4487,-72\"/>\n",
       "<polygon fill=\"#000000\" stroke=\"#000000\" points=\"413.6067,-75.5001 423.6067,-72 413.6066,-68.5001 413.6067,-75.5001\"/>\n",
       "<text text-anchor=\"middle\" x=\"377.0611\" y=\"-74.2\" font-family=\"Calibri\" font-size=\"11.00\" fill=\"#000000\">det</text>\n",
       "</g>\n",
       "<!-- abu&#45;abu -->\n",
       "<g id=\"node5\" class=\"node\">\n",
       "<title>abu&#45;abu</title>\n",
       "<polygon fill=\"none\" stroke=\"#000000\" points=\"458.3228,-.0493 461.0891,-.1479 463.8268,-.2953 466.5247,-.4913 469.1718,-.7353 471.7577,-1.0266 474.272,-1.3645 476.705,-1.7479 479.0475,-2.1759 481.2907,-2.6472 483.4265,-3.1606 485.4476,-3.7147 487.3471,-4.308 489.1192,-4.9388 490.7584,-5.6054 492.2604,-6.3059 493.6214,-7.0385 494.8384,-7.8012 495.9095,-8.5918 496.8331,-9.4082 497.6087,-10.2481 498.2364,-11.1093 498.7171,-11.9894 499.0524,-12.886 499.2445,-13.7965 499.2962,-14.7186 499.2109,-15.6497 498.9925,-16.5873 498.6453,-17.5287 498.1743,-18.4713 497.5845,-19.4127 496.8815,-20.3503 496.0708,-21.2814 495.1585,-22.2035 494.1506,-23.114 493.0531,-24.0106 491.8723,-24.8907 490.6142,-25.7519 489.2849,-26.5918 487.8902,-27.4082 486.436,-28.1988 484.9278,-28.9615 483.371,-29.6941 481.7705,-30.3946 480.1313,-31.0612 478.4577,-31.692 476.754,-32.2853 475.0241,-32.8394 473.2714,-33.3528 471.4993,-33.8241 469.7106,-34.2521 467.9079,-34.6355 466.0937,-34.9734 464.27,-35.2647 462.4386,-35.5087 460.6014,-35.7047 458.7596,-35.8521 456.9148,-35.9507 455.0682,-36 453.221,-36 451.3744,-35.9507 449.5296,-35.8521 447.6878,-35.7047 445.8506,-35.5087 444.0192,-35.2647 442.1955,-34.9734 440.3813,-34.6355 438.5786,-34.2521 436.7899,-33.8241 435.0178,-33.3528 433.2651,-32.8394 431.5352,-32.2853 429.8315,-31.692 428.1579,-31.0612 426.5187,-30.3946 424.9182,-29.6941 423.3614,-28.9615 421.8532,-28.1988 420.399,-27.4082 419.0043,-26.5918 417.675,-25.7519 416.4169,-24.8907 415.2361,-24.0106 414.1386,-23.114 413.1307,-22.2035 412.2184,-21.2814 411.4077,-20.3503 410.7047,-19.4127 410.1149,-18.4713 409.6439,-17.5287 409.2967,-16.5873 409.0783,-15.6497 408.993,-14.7186 409.0447,-13.7965 409.2367,-12.886 409.572,-11.9894 410.0528,-11.1093 410.6805,-10.2481 411.4561,-9.4082 412.3797,-8.5918 413.4507,-7.8012 414.6678,-7.0385 416.0288,-6.3059 417.5308,-5.6054 419.17,-4.9388 420.9421,-4.308 422.8416,-3.7147 424.8627,-3.1606 426.9985,-2.6472 429.2417,-2.1759 431.5842,-1.7479 434.0172,-1.3645 436.5315,-1.0266 439.1173,-.7353 441.7645,-.4913 444.4624,-.2953 447.2001,-.1479 449.9664,-.0493 452.75,0 455.5392,0 458.3228,-.0493\"/>\n",
       "<text text-anchor=\"middle\" x=\"454.1446\" y=\"-13.8\" font-family=\"Calibri\" font-size=\"14.00\" fill=\"#000000\">abu&#45;abu</text>\n",
       "</g>\n",
       "<!-- kantor&#45;&gt;abu&#45;abu -->\n",
       "<g id=\"edge5\" class=\"edge\">\n",
       "<title>kantor&#45;&gt;abu&#45;abu</title>\n",
       "<path fill=\"none\" stroke=\"#000000\" d=\"M339.9972,-60.2828C361.6858,-52.2488 390.6413,-41.5231 413.9616,-32.8847\"/>\n",
       "<polygon fill=\"#000000\" stroke=\"#000000\" points=\"415.4118,-36.08 423.5734,-29.3243 412.9803,-29.5159 415.4118,-36.08\"/>\n",
       "<text text-anchor=\"middle\" x=\"377.0611\" y=\"-53.2\" font-family=\"Calibri\" font-size=\"11.00\" fill=\"#000000\">amod</text>\n",
       "</g>\n",
       "<!-- ROOT -->\n",
       "<g id=\"node7\" class=\"node\">\n",
       "<title>ROOT</title>\n",
       "<polygon fill=\"none\" stroke=\"#000000\" points=\"41.4783,-17.0493 43.8025,-17.1479 46.1027,-17.2953 48.3694,-17.4913 50.5936,-17.7353 52.7662,-18.0266 54.8787,-18.3645 56.9228,-18.7479 58.8909,-19.1759 60.7756,-19.6472 62.5701,-20.1606 64.2682,-20.7147 65.8642,-21.308 67.353,-21.9388 68.7303,-22.6054 69.9922,-23.3059 71.1357,-24.0385 72.1583,-24.8012 73.0581,-25.5918 73.8341,-26.4082 74.4858,-27.2481 75.0132,-28.1093 75.4171,-28.9894 75.6988,-29.886 75.8602,-30.7965 75.9036,-31.7186 75.8319,-32.6497 75.6484,-33.5873 75.3568,-34.5287 74.961,-35.4713 74.4655,-36.4127 73.8748,-37.3503 73.1937,-38.2814 72.4272,-39.2035 71.5803,-40.114 70.6583,-41.0106 69.6661,-41.8907 68.6091,-42.7519 67.4922,-43.5918 66.3205,-44.4082 65.0987,-45.1988 63.8315,-45.9615 62.5235,-46.6941 61.1788,-47.3946 59.8015,-48.0612 58.3954,-48.692 56.964,-49.2853 55.5105,-49.8394 54.0379,-50.3528 52.549,-50.8241 51.0462,-51.2521 49.5316,-51.6355 48.0073,-51.9734 46.4751,-52.2647 44.9364,-52.5087 43.3928,-52.7047 41.8454,-52.8521 40.2954,-52.9507 38.7439,-53 37.1919,-53 35.6404,-52.9507 34.0904,-52.8521 32.543,-52.7047 30.9993,-52.5087 29.4607,-52.2647 27.9284,-51.9734 26.4041,-51.6355 24.8896,-51.2521 23.3867,-50.8241 21.8978,-50.3528 20.4252,-49.8394 18.9717,-49.2853 17.5403,-48.692 16.1342,-48.0612 14.757,-47.3946 13.4123,-46.6941 12.1042,-45.9615 10.8371,-45.1988 9.6153,-44.4082 8.4435,-43.5918 7.3266,-42.7519 6.2696,-41.8907 5.2775,-41.0106 4.3554,-40.114 3.5085,-39.2035 2.742,-38.2814 2.061,-37.3503 1.4702,-36.4127 .9747,-35.4713 .579,-34.5287 .2873,-33.5873 .1038,-32.6497 .0321,-31.7186 .0755,-30.7965 .2369,-29.886 .5186,-28.9894 .9225,-28.1093 1.45,-27.2481 2.1016,-26.4082 2.8776,-25.5918 3.7775,-24.8012 4.8,-24.0385 5.9435,-23.3059 7.2055,-22.6054 8.5827,-21.9388 10.0716,-21.308 11.6675,-20.7147 13.3656,-20.1606 15.1601,-19.6472 17.0448,-19.1759 19.0129,-18.7479 21.0571,-18.3645 23.1696,-18.0266 25.3422,-17.7353 27.5663,-17.4913 29.8331,-17.2953 32.1332,-17.1479 34.4574,-17.0493 36.7961,-17 39.1396,-17 41.4783,-17.0493\"/>\n",
       "<text text-anchor=\"middle\" x=\"37.9679\" y=\"-30.8\" font-family=\"Calibri\" font-size=\"14.00\" fill=\"#000000\">ROOT</text>\n",
       "</g>\n",
       "<!-- ROOT&#45;&gt;Karpet -->\n",
       "<g id=\"edge1\" class=\"edge\">\n",
       "<title>ROOT&#45;&gt;Karpet</title>\n",
       "<path fill=\"none\" stroke=\"#000000\" d=\"M75.2797,-35C89.5856,-35 106.1153,-35 121.2922,-35\"/>\n",
       "<polygon fill=\"#000000\" stroke=\"#000000\" points=\"121.5393,-38.5001 131.5393,-35 121.5392,-31.5001 121.5393,-38.5001\"/>\n",
       "<text text-anchor=\"middle\" x=\"103.413\" y=\"-37.2\" font-family=\"Calibri\" font-size=\"11.00\" fill=\"#000000\">root</text>\n",
       "</g>\n",
       "</g>\n",
       "</svg>\n"
      ],
      "text/plain": [
       "<graphviz.dot.Digraph at 0x12f4d3ef0>"
      ]
     },
     "metadata": {},
     "output_type": "display_data"
    },
    {
     "name": "stdout",
     "output_type": "stream",
     "text": [
      "\u001b[35m[root_domains](Karpet) Carpet\u001b[0m\n",
      "\u001b[36m\t[nmod](di kantor saya abu-abu) in my office gray\u001b[0m\n"
     ]
    }
   ],
   "source": [
    "from sagas.nlu.corenlp_parser import get_subj_domain, get_root_domain\n",
    "from sagas.nlu.uni_remote_viz import list_contrast, display_doc_deps\n",
    "from pprint import pprint\n",
    "\n",
    "def equals(a, b):\n",
    "    return str(a) == str(b)\n",
    "\n",
    "def head(word, sent):\n",
    "    c=sent.words[word.governor - 1]\n",
    "    return c\n",
    "def children(word, sent):\n",
    "    return filter(lambda w: equals(w.governor, word.index), sent.words)\n",
    "\n",
    "def parse_sents(sents, source):\n",
    "    sents=fix_sents(sents, source)\n",
    "    engine=cf.engine(source)\n",
    "    doc_jsonify, resp = dep_parse(sents, source, engine, ['predicts'])\n",
    "    return doc_jsonify, resp\n",
    "\n",
    "def check_part_match(domain_list, **kwargs):\n",
    "    rs=[]\n",
    "    for k,v in kwargs.items():\n",
    "        for domain in domain_list:\n",
    "            rs.append(k in domain and domain[k]==v)\n",
    "    return all(rs)\n",
    "\n",
    "def check_fn(domain_list, meta, **kwargs):\n",
    "    # print('.. domains size', len(domain_list))\n",
    "    if len(domain_list)==0:\n",
    "        return False\n",
    "    \n",
    "    rs=[]    \n",
    "    for k,v in kwargs.items():\n",
    "        item_r=False\n",
    "        for domain in domain_list:\n",
    "            # 如果包含了该成分, 则这这个成分的测试值必须为真\n",
    "            if k in domain and v(domain[k], meta):\n",
    "                item_r=True\n",
    "        # 如果domain_list里的所有元素都未包含该成分, 则会保留为false值\n",
    "        print('.. no part', k, 'in', domain_list) if not item_r else _\n",
    "        rs.append(item_r)\n",
    "    print('.. check result', rs)\n",
    "    return all(rs) if len(rs)>0 else False\n",
    "\n",
    "def predicate_fn(chain, pos):\n",
    "    from sagas.nlu.inspector_wordnet import predicate\n",
    "    return lambda word, meta: predicate(chain, word, meta[\"lang\"], pos)\n",
    "\n",
    "# sid 'Bola Dimas putih.'\n",
    "# text='Bola Dimas putih.'\n",
    "text='Karpet di kantor saya abu-abu.'\n",
    "# text='Lidah saya kering.'\n",
    "lang='id'\n",
    "# text='Kuku kucingmu panjang.'\n",
    "doc, resp=parse_sents(sents=text, source=lang)\n",
    "meta={'lang': lang, \"sents\": text, 'engine': 'corenlp'}\n",
    "\n",
    "comp_rel=('flat', \"compound\", 'nmod')\n",
    "get_domains=lambda w,doc: [{pa.dependency_relation:pa.lemma} for pa in children(w, doc) if pa.dependency_relation not in comp_rel]\n",
    "\n",
    "def anal(**kwargs):\n",
    "    def perform(doc, meta):\n",
    "        root = next(w for w in doc.words if w.dependency_relation in ('root', 'hed'))\n",
    "        compounds=[w for w in children(root, doc) if w.dependency_relation in comp_rel]\n",
    "        check_r=check_fn(it(*[get_domains(c,doc) for c in compounds]), meta, **kwargs)\n",
    "        return check_r\n",
    "    return perform\n",
    "\n",
    "# ...\n",
    "\n",
    "root = next(w for w in doc.words if w.dependency_relation in ('root', 'hed'))\n",
    "print(f\"root is {root.lemma}\", end=', ')\n",
    "compounds=[w for w in children(root, doc) if w.dependency_relation in comp_rel]\n",
    "print('compound -> ', [c.lemma for c in compounds])\n",
    "print('compound domains -> ', *[get_domains(c,doc) for c in compounds])\n",
    "\n",
    "check_r=check_part_match(it(*[get_domains(c,doc) for c in compounds]), amod='putih')\n",
    "print('1. check match', check_r)\n",
    "check_r=check_fn(it(*[get_domains(c,doc) for c in compounds]), meta, amod=predicate_fn('color', 'n'))\n",
    "print('2. check fn', check_r)\n",
    "check_r=anal(amod=predicate_fn('color', 'n'))\n",
    "print('3. check anal', check_r(doc, meta))\n",
    "check_r=anal(amod=predicate_fn('entity', 'n'))\n",
    "print('4. check anal entity', check_r(doc, meta))\n",
    "check_r=anal(amod=predicate_fn('color', 'n'), unknown='xx')\n",
    "print('5. check anal error', check_r(doc, meta))\n",
    "\n",
    "pickups=list(filter(lambda w: w.dependency_relation in comp_rel, doc.words))\n",
    "print([(word.lemma, head(word, doc).lemma) for word in pickups])\n",
    "\n",
    "chunk=[]\n",
    "for word in pickups:\n",
    "    for w in [word, head(word,doc)]:\n",
    "        chunk.append({'word':w.lemma, 'domains':get_domains(w,doc)})\n",
    "pprint(chunk)\n",
    "# ...\n",
    "rs=get_root_domain(doc)\n",
    "g=display_doc_deps(doc, resp)\n",
    "display(g)\n",
    "_=list_contrast(rs, source)"
   ]
  },
  {
   "cell_type": "code",
   "execution_count": 4,
   "metadata": {
    "ExecuteTime": {
     "end_time": "2019-11-30T08:22:44.190795Z",
     "start_time": "2019-11-30T08:22:44.172902Z"
    }
   },
   "outputs": [
    {
     "name": "stdout",
     "output_type": "stream",
     "text": [
      "[{'domains': [('nsubj', '2', 'yang', 'yang', ['yang'], ['c_pron', 'x_s--']),\n",
      "              ('obj',\n",
      "               '4',\n",
      "               'laporan',\n",
      "               'laporan',\n",
      "               ['laporan', 'ini'],\n",
      "               ['c_noun', 'x_nsd'])],\n",
      "  'governor': 3,\n",
      "  'head': 'menulis',\n",
      "  'head_feats': ['mentulis', 'VERB', 'VSA'],\n",
      "  'head_pos': 'verb',\n",
      "  'index': '2',\n",
      "  'lemma': 'yang',\n",
      "  'rel': 'nsubj',\n",
      "  'stems': [('nsubj', ['yang']), ('obj', ['laporan', 'ini'])],\n",
      "  'type': 'subj_domains',\n",
      "  'word': 'yang'}]\n"
     ]
    }
   ],
   "source": [
    "from pprint import pprint\n",
    "from sagas.nlu.corenlp_parser import get_subj_domain\n",
    "\n",
    "rs = get_subj_domain(doc_jsonify)\n",
    "pprint(rs)"
   ]
  },
  {
   "cell_type": "code",
   "execution_count": 5,
   "metadata": {
    "ExecuteTime": {
     "end_time": "2019-11-30T08:22:44.572739Z",
     "start_time": "2019-11-30T08:22:44.198106Z"
    }
   },
   "outputs": [
    {
     "name": "stdout",
     "output_type": "stream",
     "text": [
      "\u001b[35m[subj_domains](yang) that ⊙︿⊙ write\u001b[0m\n",
      "\u001b[36m\t[nsubj](yang) that\u001b[0m\n",
      "\u001b[36m\t[obj](laporan ini) this report\u001b[0m\n"
     ]
    }
   ],
   "source": [
    "from sagas.nlu.uni_remote_viz import list_contrast, display_doc_deps\n",
    "_=list_contrast(rs, source)"
   ]
  },
  {
   "cell_type": "code",
   "execution_count": 8,
   "metadata": {
    "ExecuteTime": {
     "end_time": "2019-11-30T08:23:31.094727Z",
     "start_time": "2019-11-30T08:23:30.975025Z"
    }
   },
   "outputs": [
    {
     "name": "stdout",
     "output_type": "stream",
     "text": [
      "\u001b[36m✁ dependency-graph. -------------------------\u001b[0m\n"
     ]
    },
    {
     "data": {
      "text/html": [
       "<div>\n",
       "<style scoped>\n",
       "    .dataframe tbody tr th:only-of-type {\n",
       "        vertical-align: middle;\n",
       "    }\n",
       "\n",
       "    .dataframe tbody tr th {\n",
       "        vertical-align: top;\n",
       "    }\n",
       "\n",
       "    .dataframe thead th {\n",
       "        text-align: right;\n",
       "    }\n",
       "</style>\n",
       "<table border=\"1\" class=\"dataframe\">\n",
       "  <thead>\n",
       "    <tr style=\"text-align: right;\">\n",
       "      <th></th>\n",
       "      <th>index</th>\n",
       "      <th>text</th>\n",
       "      <th>lemma</th>\n",
       "      <th>upos</th>\n",
       "      <th>xpos</th>\n",
       "    </tr>\n",
       "  </thead>\n",
       "  <tbody>\n",
       "    <tr>\n",
       "      <th>0</th>\n",
       "      <td>1</td>\n",
       "      <td>Siapa</td>\n",
       "      <td>siapa</td>\n",
       "      <td>PRON</td>\n",
       "      <td>W--</td>\n",
       "    </tr>\n",
       "    <tr>\n",
       "      <th>1</th>\n",
       "      <td>2</td>\n",
       "      <td>yang</td>\n",
       "      <td>yang</td>\n",
       "      <td>PRON</td>\n",
       "      <td>S--</td>\n",
       "    </tr>\n",
       "    <tr>\n",
       "      <th>2</th>\n",
       "      <td>3</td>\n",
       "      <td>menulis</td>\n",
       "      <td>mentulis</td>\n",
       "      <td>VERB</td>\n",
       "      <td>VSA</td>\n",
       "    </tr>\n",
       "    <tr>\n",
       "      <th>3</th>\n",
       "      <td>4</td>\n",
       "      <td>laporan</td>\n",
       "      <td>laporan</td>\n",
       "      <td>NOUN</td>\n",
       "      <td>NSD</td>\n",
       "    </tr>\n",
       "    <tr>\n",
       "      <th>4</th>\n",
       "      <td>5</td>\n",
       "      <td>ini</td>\n",
       "      <td>ini</td>\n",
       "      <td>DET</td>\n",
       "      <td>B--</td>\n",
       "    </tr>\n",
       "    <tr>\n",
       "      <th>5</th>\n",
       "      <td>6</td>\n",
       "      <td>?</td>\n",
       "      <td>?</td>\n",
       "      <td>PUNCT</td>\n",
       "      <td>Z--</td>\n",
       "    </tr>\n",
       "  </tbody>\n",
       "</table>\n",
       "</div>"
      ],
      "text/plain": [
       "  index     text     lemma   upos xpos\n",
       "0     1    Siapa     siapa   PRON  W--\n",
       "1     2     yang      yang   PRON  S--\n",
       "2     3  menulis  mentulis   VERB  VSA\n",
       "3     4  laporan   laporan   NOUN  NSD\n",
       "4     5      ini       ini    DET  B--\n",
       "5     6        ?         ?  PUNCT  Z--"
      ]
     },
     "metadata": {},
     "output_type": "display_data"
    },
    {
     "data": {
      "image/svg+xml": [
       "<?xml version=\"1.0\" encoding=\"UTF-8\" standalone=\"no\"?>\n",
       "<!DOCTYPE svg PUBLIC \"-//W3C//DTD SVG 1.1//EN\"\n",
       " \"http://www.w3.org/Graphics/SVG/1.1/DTD/svg11.dtd\">\n",
       "<!-- Generated by graphviz version 2.40.1 (20161225.0304)\n",
       " -->\n",
       "<!-- Title: deps Pages: 1 -->\n",
       "<svg width=\"576pt\" height=\"113pt\"\n",
       " viewBox=\"0.00 0.00 576.00 112.69\" xmlns=\"http://www.w3.org/2000/svg\" xmlns:xlink=\"http://www.w3.org/1999/xlink\">\n",
       "<g id=\"graph0\" class=\"graph\" transform=\"scale(.9391 .9391) rotate(0) translate(4 116)\">\n",
       "<title>deps</title>\n",
       "<polygon fill=\"#ffffff\" stroke=\"transparent\" points=\"-4,4 -4,-116 609.3646,-116 609.3646,4 -4,4\"/>\n",
       "<!-- Siapa -->\n",
       "<g id=\"node1\" class=\"node\">\n",
       "<title>Siapa</title>\n",
       "<polygon fill=\"none\" stroke=\"#ff0000\" stroke-dasharray=\"5,2\" points=\"168.9515,-17.0493 171.0775,-17.1479 173.1815,-17.2953 175.255,-17.4913 177.2894,-17.7353 179.2768,-18.0266 181.2091,-18.3645 183.079,-18.7479 184.8793,-19.1759 186.6032,-19.6472 188.2447,-20.1606 189.798,-20.7147 191.2579,-21.308 192.6197,-21.9388 193.8796,-22.6054 195.0339,-23.3059 196.0799,-24.0385 197.0152,-24.8012 197.8384,-25.5918 198.5482,-26.4082 199.1443,-27.2481 199.6267,-28.1093 199.9962,-28.9894 200.2539,-29.886 200.4015,-30.7965 200.4412,-31.7186 200.3756,-32.6497 200.2078,-33.5873 199.941,-34.5287 199.579,-35.4713 199.1257,-36.4127 198.5854,-37.3503 197.9624,-38.2814 197.2612,-39.2035 196.4866,-40.114 195.6431,-41.0106 194.7356,-41.8907 193.7687,-42.7519 192.7471,-43.5918 191.6752,-44.4082 190.5576,-45.1988 189.3985,-45.9615 188.202,-46.6941 186.972,-47.3946 185.7122,-48.0612 184.426,-48.692 183.1166,-49.2853 181.7871,-49.8394 180.4401,-50.3528 179.0782,-50.8241 177.7035,-51.2521 176.3181,-51.6355 174.9237,-51.9734 173.5222,-52.2647 172.1147,-52.5087 170.7027,-52.7047 169.2872,-52.8521 167.8694,-52.9507 166.4502,-53 165.0306,-53 163.6114,-52.9507 162.1936,-52.8521 160.7781,-52.7047 159.3661,-52.5087 157.9586,-52.2647 156.5571,-51.9734 155.1627,-51.6355 153.7773,-51.2521 152.4027,-50.8241 151.0407,-50.3528 149.6937,-49.8394 148.3642,-49.2853 147.0548,-48.692 145.7686,-48.0612 144.5088,-47.3946 143.2788,-46.6941 142.0823,-45.9615 140.9232,-45.1988 139.8056,-44.4082 138.7337,-43.5918 137.7121,-42.7519 136.7452,-41.8907 135.8377,-41.0106 134.9942,-40.114 134.2196,-39.2035 133.5184,-38.2814 132.8954,-37.3503 132.3551,-36.4127 131.9018,-35.4713 131.5398,-34.5287 131.273,-33.5873 131.1052,-32.6497 131.0396,-31.7186 131.0793,-30.7965 131.2269,-29.886 131.4846,-28.9894 131.8541,-28.1093 132.3365,-27.2481 132.9326,-26.4082 133.6424,-25.5918 134.4656,-24.8012 135.4009,-24.0385 136.4469,-23.3059 137.6012,-22.6054 138.8611,-21.9388 140.2229,-21.308 141.6828,-20.7147 143.2361,-20.1606 144.8776,-19.6472 146.6015,-19.1759 148.4018,-18.7479 150.2717,-18.3645 152.204,-18.0266 154.1914,-17.7353 156.2258,-17.4913 158.2993,-17.2953 160.4033,-17.1479 162.5293,-17.0493 164.6686,-17 166.8122,-17 168.9515,-17.0493\"/>\n",
       "<text text-anchor=\"middle\" x=\"165.7404\" y=\"-30.8\" font-family=\"Calibri\" font-size=\"14.00\" fill=\"#000000\">Siapa</text>\n",
       "</g>\n",
       "<!-- menulis -->\n",
       "<g id=\"node3\" class=\"node\">\n",
       "<title>menulis</title>\n",
       "<polygon fill=\"#d3d3d3\" stroke=\"#d3d3d3\" points=\"310.7333,-54.0493 313.3942,-54.1479 316.0275,-54.2953 318.6226,-54.4913 321.1689,-54.7353 323.6562,-55.0266 326.0747,-55.3645 328.4149,-55.7479 330.6681,-56.1759 332.8258,-56.6472 334.8802,-57.1606 336.8242,-57.7147 338.6514,-58.308 340.3559,-58.9388 341.9326,-59.6054 343.3774,-60.3059 344.6865,-61.0385 345.8572,-61.8012 346.8874,-62.5918 347.7758,-63.4082 348.5218,-64.2481 349.1256,-65.1093 349.588,-65.9894 349.9105,-66.886 350.0953,-67.7965 350.145,-68.7186 350.0629,-69.6497 349.8528,-70.5873 349.5189,-71.5287 349.0659,-72.4713 348.4986,-73.4127 347.8223,-74.3503 347.0426,-75.2814 346.165,-76.2035 345.1955,-77.114 344.1399,-78.0106 343.0041,-78.8907 341.7939,-79.7519 340.5153,-80.5918 339.1738,-81.4082 337.775,-82.1988 336.3243,-82.9615 334.8268,-83.6941 333.2873,-84.3946 331.7106,-85.0612 330.1008,-85.692 328.462,-86.2853 326.798,-86.8394 325.1122,-87.3528 323.4076,-87.8241 321.6871,-88.2521 319.9531,-88.6355 318.208,-88.9734 316.4538,-89.2647 314.6923,-89.5087 312.9251,-89.7047 311.1535,-89.8521 309.3791,-89.9507 307.6028,-90 305.826,-90 304.0498,-89.9507 302.2753,-89.8521 300.5038,-89.7047 298.7365,-89.5087 296.975,-89.2647 295.2208,-88.9734 293.4757,-88.6355 291.7418,-88.2521 290.0213,-87.8241 288.3167,-87.3528 286.6308,-86.8394 284.9668,-86.2853 283.328,-85.692 281.7183,-85.0612 280.1415,-84.3946 278.6021,-83.6941 277.1045,-82.9615 275.6538,-82.1988 274.2551,-81.4082 272.9136,-80.5918 271.6349,-79.7519 270.4248,-78.8907 269.289,-78.0106 268.2333,-77.114 267.2638,-76.2035 266.3863,-75.2814 265.6065,-74.3503 264.9303,-73.4127 264.363,-72.4713 263.9099,-71.5287 263.576,-70.5873 263.3659,-69.6497 263.2838,-68.7186 263.3335,-67.7965 263.5183,-66.886 263.8408,-65.9894 264.3032,-65.1093 264.907,-64.2481 265.6531,-63.4082 266.5415,-62.5918 267.5717,-61.8012 268.7424,-61.0385 270.0515,-60.3059 271.4962,-59.6054 273.073,-58.9388 274.7775,-58.308 276.6046,-57.7147 278.5486,-57.1606 280.6031,-56.6472 282.7607,-56.1759 285.0139,-55.7479 287.3542,-55.3645 289.7727,-55.0266 292.26,-54.7353 294.8062,-54.4913 297.4013,-54.2953 300.0347,-54.1479 302.6955,-54.0493 305.3729,-54 308.0559,-54 310.7333,-54.0493\"/>\n",
       "<text text-anchor=\"middle\" x=\"306.7144\" y=\"-67.8\" font-family=\"Calibri\" font-size=\"14.00\" fill=\"#000000\">menulis</text>\n",
       "</g>\n",
       "<!-- Siapa&#45;&gt;menulis -->\n",
       "<g id=\"edge3\" class=\"edge\">\n",
       "<title>Siapa&#45;&gt;menulis</title>\n",
       "<path fill=\"none\" stroke=\"#000000\" d=\"M194.2686,-42.4875C212.4659,-47.2636 236.5294,-53.5793 257.725,-59.1422\"/>\n",
       "<polygon fill=\"#000000\" stroke=\"#000000\" points=\"256.9838,-62.5662 267.5448,-61.7195 258.7609,-55.7955 256.9838,-62.5662\"/>\n",
       "<text text-anchor=\"middle\" x=\"232.0451\" y=\"-57.2\" font-family=\"Calibri\" font-size=\"11.00\" fill=\"#000000\">acl</text>\n",
       "</g>\n",
       "<!-- ? -->\n",
       "<g id=\"node6\" class=\"node\">\n",
       "<title>?</title>\n",
       "<polygon fill=\"none\" stroke=\"#000000\" points=\"309.397,-.0493 311.173,-.1479 312.9307,-.2953 314.6629,-.4913 316.3625,-.7353 318.0227,-1.0266 319.637,-1.3645 321.199,-1.7479 322.703,-2.1759 324.1432,-2.6472 325.5145,-3.1606 326.8121,-3.7147 328.0316,-4.308 329.1693,-4.9388 330.2218,-5.6054 331.1861,-6.3059 332.0599,-7.0385 332.8413,-7.8012 333.529,-8.5918 334.122,-9.4082 334.6199,-10.2481 335.023,-11.1093 335.3316,-11.9894 335.5469,-12.886 335.6702,-13.7965 335.7034,-14.7186 335.6486,-15.6497 335.5084,-16.5873 335.2855,-17.5287 334.9831,-18.4713 334.6044,-19.4127 334.153,-20.3503 333.6326,-21.2814 333.0468,-22.2035 332.3997,-23.114 331.6951,-24.0106 330.937,-24.8907 330.1292,-25.7519 329.2757,-26.5918 328.3803,-27.4082 327.4467,-28.1988 326.4784,-28.9615 325.4788,-29.6941 324.4513,-30.3946 323.3988,-31.0612 322.3243,-31.692 321.2305,-32.2853 320.1198,-32.8394 318.9945,-33.3528 317.8567,-33.8241 316.7083,-34.2521 315.551,-34.6355 314.3862,-34.9734 313.2153,-35.2647 312.0395,-35.5087 310.8599,-35.7047 309.6774,-35.8521 308.493,-35.9507 307.3074,-36 306.1214,-36 304.9358,-35.9507 303.7514,-35.8521 302.5689,-35.7047 301.3893,-35.5087 300.2136,-35.2647 299.0427,-34.9734 297.8779,-34.6355 296.7205,-34.2521 295.5721,-33.8241 294.4343,-33.3528 293.309,-32.8394 292.1984,-32.2853 291.1045,-31.692 290.03,-31.0612 288.9776,-30.3946 287.95,-29.6941 286.9505,-28.9615 285.9822,-28.1988 285.0485,-27.4082 284.1531,-26.5918 283.2996,-25.7519 282.4919,-24.8907 281.7337,-24.0106 281.0291,-23.114 280.382,-22.2035 279.7963,-21.2814 279.2758,-20.3503 278.8244,-19.4127 278.4458,-18.4713 278.1433,-17.5287 277.9205,-16.5873 277.7802,-15.6497 277.7255,-14.7186 277.7586,-13.7965 277.882,-12.886 278.0972,-11.9894 278.4059,-11.1093 278.8089,-10.2481 279.3069,-9.4082 279.8999,-8.5918 280.5875,-7.8012 281.3689,-7.0385 282.2427,-6.3059 283.207,-5.6054 284.2595,-4.9388 285.3972,-4.308 286.6168,-3.7147 287.9144,-3.1606 289.2857,-2.6472 290.7259,-2.1759 292.2298,-1.7479 293.7919,-1.3645 295.4062,-1.0266 297.0664,-.7353 298.766,-.4913 300.4981,-.2953 302.2558,-.1479 304.0319,-.0493 305.819,0 307.6098,0 309.397,-.0493\"/>\n",
       "<text text-anchor=\"middle\" x=\"306.7144\" y=\"-13.8\" font-family=\"Calibri\" font-size=\"14.00\" fill=\"#000000\">?</text>\n",
       "</g>\n",
       "<!-- Siapa&#45;&gt;? -->\n",
       "<g id=\"edge6\" class=\"edge\">\n",
       "<title>Siapa&#45;&gt;?</title>\n",
       "<path fill=\"none\" stroke=\"#000000\" d=\"M200.5879,-30.7978C221.4688,-28.2797 248.0122,-25.0789 269.3295,-22.5082\"/>\n",
       "<polygon fill=\"#000000\" stroke=\"#000000\" points=\"269.8178,-25.9748 279.3268,-21.3027 268.9797,-19.0251 269.8178,-25.9748\"/>\n",
       "<text text-anchor=\"middle\" x=\"232.0451\" y=\"-31.2\" font-family=\"Calibri\" font-size=\"11.00\" fill=\"#000000\">punct</text>\n",
       "</g>\n",
       "<!-- yang -->\n",
       "<g id=\"node2\" class=\"node\">\n",
       "<title>yang</title>\n",
       "<polygon fill=\"none\" stroke=\"#ff0000\" stroke-dasharray=\"5,2\" points=\"457.3091,-76.0493 459.2311,-76.1479 461.1333,-76.2953 463.0078,-76.4913 464.847,-76.7353 466.6437,-77.0266 468.3906,-77.3645 470.0811,-77.7479 471.7086,-78.1759 473.2672,-78.6472 474.7512,-79.1606 476.1554,-79.7147 477.4752,-80.308 478.7064,-80.9388 479.8453,-81.6054 480.8889,-82.3059 481.8345,-83.0385 482.6802,-83.8012 483.4243,-84.5918 484.066,-85.4082 484.6049,-86.2481 485.0411,-87.1093 485.3751,-87.9894 485.608,-88.886 485.7415,-89.7965 485.7774,-90.7186 485.7181,-91.6497 485.5664,-92.5873 485.3252,-93.5287 484.9979,-94.4713 484.5881,-95.4127 484.0996,-96.3503 483.5364,-97.2814 482.9025,-98.2035 482.2022,-99.114 481.4397,-100.0106 480.6193,-100.8907 479.7451,-101.7519 478.8215,-102.5918 477.8525,-103.4082 476.8422,-104.1988 475.7943,-104.9615 474.7126,-105.6941 473.6006,-106.3946 472.4616,-107.0612 471.2988,-107.692 470.1151,-108.2853 468.9132,-108.8394 467.6954,-109.3528 466.4641,-109.8241 465.2213,-110.2521 463.9689,-110.6355 462.7083,-110.9734 461.4412,-111.2647 460.1688,-111.5087 458.8923,-111.7047 457.6127,-111.8521 456.3309,-111.9507 455.0479,-112 453.7644,-112 452.4814,-111.9507 451.1996,-111.8521 449.92,-111.7047 448.6435,-111.5087 447.3711,-111.2647 446.1039,-110.9734 444.8434,-110.6355 443.5909,-110.2521 442.3482,-109.8241 441.1169,-109.3528 439.8991,-108.8394 438.6972,-108.2853 437.5134,-107.692 436.3507,-107.0612 435.2117,-106.3946 434.0997,-105.6941 433.018,-104.9615 431.9701,-104.1988 430.9598,-103.4082 429.9908,-102.5918 429.0671,-101.7519 428.193,-100.8907 427.3726,-100.0106 426.6101,-99.114 425.9098,-98.2035 425.2759,-97.2814 424.7127,-96.3503 424.2242,-95.4127 423.8144,-94.4713 423.4871,-93.5287 423.2459,-92.5873 423.0942,-91.6497 423.0349,-90.7186 423.0708,-89.7965 423.2043,-88.886 423.4372,-87.9894 423.7712,-87.1093 424.2074,-86.2481 424.7463,-85.4082 425.388,-84.5918 426.1321,-83.8012 426.9778,-83.0385 427.9234,-82.3059 428.9669,-81.6054 430.1059,-80.9388 431.3371,-80.308 432.6569,-79.7147 434.0611,-79.1606 435.5451,-78.6472 437.1037,-78.1759 438.7312,-77.7479 440.4216,-77.3645 442.1686,-77.0266 443.9652,-76.7353 445.8045,-76.4913 447.679,-76.2953 449.5811,-76.1479 451.5032,-76.0493 453.4372,-76 455.3751,-76 457.3091,-76.0493\"/>\n",
       "<text text-anchor=\"middle\" x=\"454.4061\" y=\"-89.8\" font-family=\"Calibri\" font-size=\"14.00\" fill=\"#000000\">yang</text>\n",
       "</g>\n",
       "<!-- menulis&#45;&gt;yang -->\n",
       "<g id=\"edge2\" class=\"edge\">\n",
       "<title>menulis&#45;&gt;yang</title>\n",
       "<path fill=\"none\" stroke=\"#000000\" d=\"M344.7487,-77.6655C365.6084,-80.7728 391.4984,-84.6293 412.883,-87.8148\"/>\n",
       "<polygon fill=\"#000000\" stroke=\"#000000\" points=\"412.5706,-91.3068 422.9772,-89.3184 413.602,-84.3832 412.5706,-91.3068\"/>\n",
       "<text text-anchor=\"middle\" x=\"381.0776\" y=\"-86.2\" font-family=\"Calibri\" font-size=\"11.00\" fill=\"#000000\">nsubj</text>\n",
       "</g>\n",
       "<!-- laporan -->\n",
       "<g id=\"node4\" class=\"node\">\n",
       "<title>laporan</title>\n",
       "<polygon fill=\"none\" stroke=\"#0000ff\" points=\"458.3261,-22.0493 460.9214,-22.1479 463.4899,-22.2953 466.021,-22.4913 468.5046,-22.7353 470.9307,-23.0266 473.2896,-23.3645 475.5722,-23.7479 477.7699,-24.1759 479.8744,-24.6472 481.8782,-25.1606 483.7744,-25.7147 485.5565,-26.308 487.2191,-26.9388 488.757,-27.6054 490.1661,-28.3059 491.443,-29.0385 492.5849,-29.8012 493.5897,-30.5918 494.4562,-31.4082 495.1839,-32.2481 495.7728,-33.1093 496.2238,-33.9894 496.5384,-34.886 496.7186,-35.7965 496.7671,-36.7186 496.6871,-37.6497 496.4821,-38.5873 496.1565,-39.5287 495.7145,-40.4713 495.1612,-41.4127 494.5016,-42.3503 493.7411,-43.2814 492.8851,-44.2035 491.9395,-45.114 490.9099,-46.0106 489.802,-46.8907 488.6217,-47.7519 487.3745,-48.5918 486.0661,-49.4082 484.7018,-50.1988 483.2868,-50.9615 481.8261,-51.6941 480.3246,-52.3946 478.7867,-53.0612 477.2166,-53.692 475.6182,-54.2853 473.9951,-54.8394 472.3508,-55.3528 470.6882,-55.8241 469.01,-56.2521 467.3188,-56.6355 465.6167,-56.9734 463.9057,-57.2647 462.1876,-57.5087 460.4638,-57.7047 458.7359,-57.8521 457.0052,-57.9507 455.2727,-58 453.5396,-58 451.8071,-57.9507 450.0763,-57.8521 448.3484,-57.7047 446.6247,-57.5087 444.9066,-57.2647 443.1956,-56.9734 441.4935,-56.6355 439.8023,-56.2521 438.1241,-55.8241 436.4615,-55.3528 434.8172,-54.8394 433.1941,-54.2853 431.5957,-53.692 430.0256,-53.0612 428.4877,-52.3946 426.9861,-51.6941 425.5255,-50.9615 424.1105,-50.1988 422.7462,-49.4082 421.4378,-48.5918 420.1906,-47.7519 419.0103,-46.8907 417.9024,-46.0106 416.8728,-45.114 415.9271,-44.2035 415.0712,-43.2814 414.3107,-42.3503 413.6511,-41.4127 413.0978,-40.4713 412.6558,-39.5287 412.3302,-38.5873 412.1252,-37.6497 412.0452,-36.7186 412.0937,-35.7965 412.2739,-34.886 412.5885,-33.9894 413.0395,-33.1093 413.6284,-32.2481 414.3561,-31.4082 415.2226,-30.5918 416.2274,-29.8012 417.3693,-29.0385 418.6462,-28.3059 420.0553,-27.6054 421.5932,-26.9388 423.2557,-26.308 425.0379,-25.7147 426.934,-25.1606 428.9379,-24.6472 431.0424,-24.1759 433.2401,-23.7479 435.5227,-23.3645 437.8816,-23.0266 440.3077,-22.7353 442.7912,-22.4913 445.3224,-22.2953 447.8909,-22.1479 450.4862,-22.0493 453.0977,-22 455.7146,-22 458.3261,-22.0493\"/>\n",
       "<text text-anchor=\"middle\" x=\"454.4061\" y=\"-35.8\" font-family=\"Calibri\" font-size=\"14.00\" fill=\"#000000\">laporan</text>\n",
       "</g>\n",
       "<!-- menulis&#45;&gt;laporan -->\n",
       "<g id=\"edge4\" class=\"edge\">\n",
       "<title>menulis&#45;&gt;laporan</title>\n",
       "<path fill=\"none\" stroke=\"#000000\" d=\"M347.8548,-63.0862C367.0432,-58.9287 389.9237,-53.9712 409.5545,-49.7179\"/>\n",
       "<polygon fill=\"#000000\" stroke=\"#000000\" points=\"410.4551,-53.1041 419.4871,-47.5658 408.9727,-46.2628 410.4551,-53.1041\"/>\n",
       "<text text-anchor=\"middle\" x=\"381.0776\" y=\"-59.2\" font-family=\"Calibri\" font-size=\"11.00\" fill=\"#000000\">obj</text>\n",
       "</g>\n",
       "<!-- ini -->\n",
       "<g id=\"node5\" class=\"node\">\n",
       "<title>ini</title>\n",
       "<polygon fill=\"none\" stroke=\"#000000\" points=\"579.3037,-22.0493 581.0798,-22.1479 582.8375,-22.2953 584.5696,-22.4913 586.2692,-22.7353 587.9294,-23.0266 589.5437,-23.3645 591.1058,-23.7479 592.6097,-24.1759 594.0499,-24.6472 595.4212,-25.1606 596.7188,-25.7147 597.9384,-26.308 599.0761,-26.9388 600.1286,-27.6054 601.0929,-28.3059 601.9667,-29.0385 602.7481,-29.8012 603.4357,-30.5918 604.0287,-31.4082 604.5267,-32.2481 604.9297,-33.1093 605.2384,-33.9894 605.4536,-34.886 605.577,-35.7965 605.6102,-36.7186 605.5554,-37.6497 605.4151,-38.5873 605.1923,-39.5287 604.8898,-40.4713 604.5112,-41.4127 604.0598,-42.3503 603.5393,-43.2814 602.9536,-44.2035 602.3065,-45.114 601.6019,-46.0106 600.8437,-46.8907 600.036,-47.7519 599.1825,-48.5918 598.2871,-49.4082 597.3534,-50.1988 596.3851,-50.9615 595.3856,-51.6941 594.358,-52.3946 593.3056,-53.0612 592.2311,-53.692 591.1373,-54.2853 590.0266,-54.8394 588.9013,-55.3528 587.7635,-55.8241 586.6151,-56.2521 585.4577,-56.6355 584.2929,-56.9734 583.122,-57.2647 581.9463,-57.5087 580.7667,-57.7047 579.5842,-57.8521 578.3998,-57.9507 577.2142,-58 576.0282,-58 574.8426,-57.9507 573.6582,-57.8521 572.4757,-57.7047 571.2961,-57.5087 570.1203,-57.2647 568.9494,-56.9734 567.7846,-56.6355 566.6273,-56.2521 565.4789,-55.8241 564.3411,-55.3528 563.2158,-54.8394 562.1051,-54.2853 561.0113,-53.692 559.9368,-53.0612 558.8843,-52.3946 557.8568,-51.6941 556.8572,-50.9615 555.8889,-50.1988 554.9553,-49.4082 554.0599,-48.5918 553.2064,-47.7519 552.3986,-46.8907 551.6405,-46.0106 550.9359,-45.114 550.2888,-44.2035 549.703,-43.2814 549.1826,-42.3503 548.7312,-41.4127 548.3525,-40.4713 548.0501,-39.5287 547.8272,-38.5873 547.687,-37.6497 547.6322,-36.7186 547.6654,-35.7965 547.7887,-34.886 548.004,-33.9894 548.3127,-33.1093 548.7157,-32.2481 549.2136,-31.4082 549.8066,-30.5918 550.4943,-29.8012 551.2757,-29.0385 552.1495,-28.3059 553.1138,-27.6054 554.1663,-26.9388 555.304,-26.308 556.5235,-25.7147 557.8211,-25.1606 559.1924,-24.6472 560.6326,-24.1759 562.1366,-23.7479 563.6986,-23.3645 565.3129,-23.0266 566.9732,-22.7353 568.6727,-22.4913 570.4049,-22.2953 572.1626,-22.1479 573.9386,-22.0493 575.7258,-22 577.5166,-22 579.3037,-22.0493\"/>\n",
       "<text text-anchor=\"middle\" x=\"576.6212\" y=\"-35.8\" font-family=\"Calibri\" font-size=\"14.00\" fill=\"#000000\">ini</text>\n",
       "</g>\n",
       "<!-- laporan&#45;&gt;ini -->\n",
       "<g id=\"edge5\" class=\"edge\">\n",
       "<title>laporan&#45;&gt;ini</title>\n",
       "<path fill=\"none\" stroke=\"#000000\" d=\"M496.1238,-40C509.6556,-40 524.6025,-40 537.9062,-40\"/>\n",
       "<polygon fill=\"#000000\" stroke=\"#000000\" points=\"538.1648,-43.5001 548.1648,-40 538.1647,-36.5001 538.1648,-43.5001\"/>\n",
       "<text text-anchor=\"middle\" x=\"522.232\" y=\"-42.2\" font-family=\"Calibri\" font-size=\"11.00\" fill=\"#000000\">det</text>\n",
       "</g>\n",
       "<!-- ROOT -->\n",
       "<g id=\"node7\" class=\"node\">\n",
       "<title>ROOT</title>\n",
       "<polygon fill=\"none\" stroke=\"#000000\" points=\"41.4783,-17.0493 43.8025,-17.1479 46.1027,-17.2953 48.3694,-17.4913 50.5936,-17.7353 52.7662,-18.0266 54.8787,-18.3645 56.9228,-18.7479 58.8909,-19.1759 60.7756,-19.6472 62.5701,-20.1606 64.2682,-20.7147 65.8642,-21.308 67.353,-21.9388 68.7303,-22.6054 69.9922,-23.3059 71.1357,-24.0385 72.1583,-24.8012 73.0581,-25.5918 73.8341,-26.4082 74.4858,-27.2481 75.0132,-28.1093 75.4171,-28.9894 75.6988,-29.886 75.8602,-30.7965 75.9036,-31.7186 75.8319,-32.6497 75.6484,-33.5873 75.3568,-34.5287 74.961,-35.4713 74.4655,-36.4127 73.8748,-37.3503 73.1937,-38.2814 72.4272,-39.2035 71.5803,-40.114 70.6583,-41.0106 69.6661,-41.8907 68.6091,-42.7519 67.4922,-43.5918 66.3205,-44.4082 65.0987,-45.1988 63.8315,-45.9615 62.5235,-46.6941 61.1788,-47.3946 59.8015,-48.0612 58.3954,-48.692 56.964,-49.2853 55.5105,-49.8394 54.0379,-50.3528 52.549,-50.8241 51.0462,-51.2521 49.5316,-51.6355 48.0073,-51.9734 46.4751,-52.2647 44.9364,-52.5087 43.3928,-52.7047 41.8454,-52.8521 40.2954,-52.9507 38.7439,-53 37.1919,-53 35.6404,-52.9507 34.0904,-52.8521 32.543,-52.7047 30.9993,-52.5087 29.4607,-52.2647 27.9284,-51.9734 26.4041,-51.6355 24.8896,-51.2521 23.3867,-50.8241 21.8978,-50.3528 20.4252,-49.8394 18.9717,-49.2853 17.5403,-48.692 16.1342,-48.0612 14.757,-47.3946 13.4123,-46.6941 12.1042,-45.9615 10.8371,-45.1988 9.6153,-44.4082 8.4435,-43.5918 7.3266,-42.7519 6.2696,-41.8907 5.2775,-41.0106 4.3554,-40.114 3.5085,-39.2035 2.742,-38.2814 2.061,-37.3503 1.4702,-36.4127 .9747,-35.4713 .579,-34.5287 .2873,-33.5873 .1038,-32.6497 .0321,-31.7186 .0755,-30.7965 .2369,-29.886 .5186,-28.9894 .9225,-28.1093 1.45,-27.2481 2.1016,-26.4082 2.8776,-25.5918 3.7775,-24.8012 4.8,-24.0385 5.9435,-23.3059 7.2055,-22.6054 8.5827,-21.9388 10.0716,-21.308 11.6675,-20.7147 13.3656,-20.1606 15.1601,-19.6472 17.0448,-19.1759 19.0129,-18.7479 21.0571,-18.3645 23.1696,-18.0266 25.3422,-17.7353 27.5663,-17.4913 29.8331,-17.2953 32.1332,-17.1479 34.4574,-17.0493 36.7961,-17 39.1396,-17 41.4783,-17.0493\"/>\n",
       "<text text-anchor=\"middle\" x=\"37.9679\" y=\"-30.8\" font-family=\"Calibri\" font-size=\"14.00\" fill=\"#000000\">ROOT</text>\n",
       "</g>\n",
       "<!-- ROOT&#45;&gt;Siapa -->\n",
       "<g id=\"edge1\" class=\"edge\">\n",
       "<title>ROOT&#45;&gt;Siapa</title>\n",
       "<path fill=\"none\" stroke=\"#000000\" d=\"M75.2685,-35C89.7518,-35 106.4539,-35 121.5346,-35\"/>\n",
       "<polygon fill=\"#000000\" stroke=\"#000000\" points=\"121.6689,-38.5001 131.6689,-35 121.6688,-31.5001 121.6689,-38.5001\"/>\n",
       "<text text-anchor=\"middle\" x=\"103.413\" y=\"-37.2\" font-family=\"Calibri\" font-size=\"11.00\" fill=\"#000000\">root</text>\n",
       "</g>\n",
       "</g>\n",
       "</svg>\n"
      ],
      "text/plain": [
       "<graphviz.dot.Digraph at 0x12f5754e0>"
      ]
     },
     "execution_count": 8,
     "metadata": {},
     "output_type": "execute_result"
    }
   ],
   "source": [
    "display_doc_deps(doc_jsonify, resp)"
   ]
  },
  {
   "cell_type": "code",
   "execution_count": 10,
   "metadata": {
    "ExecuteTime": {
     "end_time": "2019-11-30T08:30:03.513621Z",
     "start_time": "2019-11-30T08:30:03.504646Z"
    }
   },
   "outputs": [
    {
     "data": {
      "text/plain": [
       "['mentulis']"
      ]
     },
     "execution_count": 10,
     "metadata": {},
     "output_type": "execute_result"
    }
   ],
   "source": [
    "sent=doc_jsonify\n",
    "verbs=list(filter(lambda w: w.upos == \"VERB\", sent.words))\n",
    "[word.lemma for word in verbs]"
   ]
  },
  {
   "cell_type": "code",
   "execution_count": 12,
   "metadata": {
    "ExecuteTime": {
     "end_time": "2019-11-30T08:32:17.681165Z",
     "start_time": "2019-11-30T08:32:17.673672Z"
    }
   },
   "outputs": [
    {
     "name": "stdout",
     "output_type": "stream",
     "text": [
      "yang\n",
      "laporan\n"
     ]
    }
   ],
   "source": [
    "word=verbs[0]\n",
    "for c in filter(lambda w: equals(w.governor, word.index), sent.words):\n",
    "    print(c.lemma)"
   ]
  },
  {
   "cell_type": "code",
   "execution_count": 16,
   "metadata": {
    "ExecuteTime": {
     "end_time": "2019-11-30T08:49:25.161624Z",
     "start_time": "2019-11-30T08:49:25.155567Z"
    }
   },
   "outputs": [
    {
     "name": "stdout",
     "output_type": "stream",
     "text": [
      "1\n",
      "acl\n",
      "siapa root\n"
     ]
    }
   ],
   "source": [
    "print(word.governor)\n",
    "dc = sent.words[word.governor - 1]\n",
    "print(word.dependency_relation)\n",
    "print(dc.lemma, dc.dependency_relation)"
   ]
  },
  {
   "cell_type": "code",
   "execution_count": 18,
   "metadata": {
    "ExecuteTime": {
     "end_time": "2019-11-30T09:16:03.237239Z",
     "start_time": "2019-11-30T09:16:03.225210Z"
    }
   },
   "outputs": [
    {
     "name": "stdout",
     "output_type": "stream",
     "text": [
      "(?s:.*\\.txt)\\Z\n"
     ]
    },
    {
     "data": {
      "text/plain": [
       "<_sre.SRE_Match object; span=(0, 10), match='foobar.txt'>"
      ]
     },
     "execution_count": 18,
     "metadata": {},
     "output_type": "execute_result"
    }
   ],
   "source": [
    "import fnmatch, re\n",
    "regex = fnmatch.translate('*.txt')\n",
    "print(regex)\n",
    "reobj = re.compile(regex)\n",
    "reobj.match('foobar.txt')"
   ]
  },
  {
   "cell_type": "code",
   "execution_count": 20,
   "metadata": {
    "ExecuteTime": {
     "end_time": "2019-11-30T09:17:27.944979Z",
     "start_time": "2019-11-30T09:17:27.937453Z"
    }
   },
   "outputs": [
    {
     "data": {
      "text/plain": [
       "True"
      ]
     },
     "execution_count": 20,
     "metadata": {},
     "output_type": "execute_result"
    }
   ],
   "source": [
    "reobj.match('foobar.tt') is None"
   ]
  }
 ],
 "metadata": {
  "kernelspec": {
   "display_name": "Python 3",
   "language": "python",
   "name": "python3"
  },
  "language_info": {
   "codemirror_mode": {
    "name": "ipython",
    "version": 3
   },
   "file_extension": ".py",
   "mimetype": "text/x-python",
   "name": "python",
   "nbconvert_exporter": "python",
   "pygments_lexer": "ipython3",
   "version": "3.6.9"
  },
  "varInspector": {
   "cols": {
    "lenName": 16,
    "lenType": 16,
    "lenVar": 40
   },
   "kernels_config": {
    "python": {
     "delete_cmd_postfix": "",
     "delete_cmd_prefix": "del ",
     "library": "var_list.py",
     "varRefreshCmd": "print(var_dic_list())"
    },
    "r": {
     "delete_cmd_postfix": ") ",
     "delete_cmd_prefix": "rm(",
     "library": "var_list.r",
     "varRefreshCmd": "cat(var_dic_list()) "
    }
   },
   "types_to_exclude": [
    "module",
    "function",
    "builtin_function_or_method",
    "instance",
    "_Feature"
   ],
   "window_display": false
  }
 },
 "nbformat": 4,
 "nbformat_minor": 2
}
