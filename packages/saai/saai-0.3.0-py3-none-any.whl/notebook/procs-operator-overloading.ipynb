{
 "cells": [
  {
   "cell_type": "code",
   "execution_count": 3,
   "metadata": {
    "ExecuteTime": {
     "end_time": "2019-12-28T22:53:59.894711Z",
     "start_time": "2019-12-28T22:53:59.854591Z"
    }
   },
   "outputs": [],
   "source": [
    "%load_ext autoreload\n",
    "%autoreload 2"
   ]
  },
  {
   "cell_type": "code",
   "execution_count": 4,
   "metadata": {
    "ExecuteTime": {
     "end_time": "2019-12-28T22:54:02.550998Z",
     "start_time": "2019-12-28T22:54:02.519973Z"
    }
   },
   "outputs": [],
   "source": [
    "from sl_parsers import get_subj_domain, get_aux_domain"
   ]
  },
  {
   "cell_type": "code",
   "execution_count": 6,
   "metadata": {
    "ExecuteTime": {
     "end_time": "2019-12-28T22:54:07.960376Z",
     "start_time": "2019-12-28T22:54:07.916767Z"
    }
   },
   "outputs": [
    {
     "name": "stdout",
     "output_type": "stream",
     "text": [
      "None $aux\n",
      "$aux $sub $nsubj\n",
      "predicate ('is',)\n",
      "----------\n",
      "aux $sub nsubj\n",
      "predicate ('is',)\n",
      "----------\n",
      "aux $for nsubj\n",
      "predicate ('is',)\n",
      "----------\n"
     ]
    }
   ],
   "source": [
    "class value(object):\n",
    "\n",
    "    def __init__(self, vtype = None, left = None, op = None, right = None, alias = None):\n",
    "        self.alias = alias\n",
    "        self._type = vtype\n",
    "        self._left = left\n",
    "        self._op = op\n",
    "        self._right = right\n",
    "        \n",
    "    def __lt__(self, other):\n",
    "        return value(self._type, self._left, '$lt', other, self.alias)\n",
    "    # //\t__floordiv__(self, other)\n",
    "    def __floordiv__(self, other):\n",
    "        return value(self._type, self, '$sub', other, self.alias)\n",
    "    def __rshift__(self, other):\n",
    "        return value(self._type, self, '$for', other, self.alias)\n",
    "    \n",
    "#     def __getattr__(self, name):\n",
    "#         if self._type:\n",
    "#             if self._left:\n",
    "#                 return value(self._type, '{0}.{1}'.format(self._left, name))\n",
    "#             else:\n",
    "#                 return value(self._type, name)\n",
    "#         else:\n",
    "#             return value(self.alias, name)\n",
    "    def __call__(self, *args):\n",
    "        return value(self._type, self._left, op='predicate', right=args, alias=self.alias)\n",
    "\n",
    "class closure(object):\n",
    "    def __getattr__(self, name):\n",
    "        return value(name)\n",
    "\n",
    "def sure(val):\n",
    "    print(val._left._type, val._op, val._right._type)\n",
    "    print(val._left._op, val._left._right)\n",
    "    print('-'*10)\n",
    "    \n",
    "m = value('$m')\n",
    "s = value('$s')\n",
    "aux = value('$aux')\n",
    "nsubj=value('$nsubj')\n",
    "ud=closure()\n",
    "\n",
    "# print(m.first._left)\n",
    "print(aux._left, aux._type)\n",
    "sure(aux('is')//nsubj('animal'))\n",
    "sure(ud.aux('is') // ud.nsubj('animal'))\n",
    "sure(ud.aux('is') >> ud.nsubj('animal'))"
   ]
  },
  {
   "cell_type": "code",
   "execution_count": null,
   "metadata": {},
   "outputs": [],
   "source": []
  }
 ],
 "metadata": {
  "kernelspec": {
   "display_name": "Python 3",
   "language": "python",
   "name": "python3"
  },
  "language_info": {
   "codemirror_mode": {
    "name": "ipython",
    "version": 3
   },
   "file_extension": ".py",
   "mimetype": "text/x-python",
   "name": "python",
   "nbconvert_exporter": "python",
   "pygments_lexer": "ipython3",
   "version": "3.6.9"
  },
  "varInspector": {
   "cols": {
    "lenName": 16,
    "lenType": 16,
    "lenVar": 40
   },
   "kernels_config": {
    "python": {
     "delete_cmd_postfix": "",
     "delete_cmd_prefix": "del ",
     "library": "var_list.py",
     "varRefreshCmd": "print(var_dic_list())"
    },
    "r": {
     "delete_cmd_postfix": ") ",
     "delete_cmd_prefix": "rm(",
     "library": "var_list.r",
     "varRefreshCmd": "cat(var_dic_list()) "
    }
   },
   "types_to_exclude": [
    "module",
    "function",
    "builtin_function_or_method",
    "instance",
    "_Feature"
   ],
   "window_display": false
  }
 },
 "nbformat": 4,
 "nbformat_minor": 2
}
