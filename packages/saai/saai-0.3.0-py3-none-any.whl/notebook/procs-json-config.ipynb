{
 "cells": [
  {
   "cell_type": "code",
   "execution_count": 5,
   "metadata": {
    "ExecuteTime": {
     "end_time": "2019-12-23T11:28:12.150044Z",
     "start_time": "2019-12-23T11:28:12.130888Z"
    }
   },
   "outputs": [
    {
     "data": {
      "text/plain": [
       "{'genesis': {'location': '/pi/ws/sagas-ai/bots/genesis',\n",
       "  'config_file': 'config.yml'},\n",
       " 'saya': {'location': '/pi/ws/sagas-ai/bots/saya',\n",
       "  'config_file': 'config.yml',\n",
       "  'multilang': ['en']}}"
      ]
     },
     "execution_count": 5,
     "metadata": {},
     "output_type": "execute_result"
    }
   ],
   "source": [
    "import json_utils\n",
    "json_utils.read_json_file('conf/agents_conf.json')"
   ]
  },
  {
   "cell_type": "code",
   "execution_count": 10,
   "metadata": {
    "ExecuteTime": {
     "end_time": "2019-12-23T11:29:33.308194Z",
     "start_time": "2019-12-23T11:29:33.289223Z"
    }
   },
   "outputs": [
    {
     "name": "stdout",
     "output_type": "stream",
     "text": [
      "True\n"
     ]
    },
    {
     "data": {
      "text/plain": [
       "('/pi/ws/sagas-ai/bots/saya', ['en'])"
      ]
     },
     "execution_count": 10,
     "metadata": {},
     "output_type": "execute_result"
    }
   ],
   "source": [
    "from python_json_config import ConfigBuilder\n",
    "builder = ConfigBuilder()\n",
    "config = builder.parse_config('conf/agents_conf.json')\n",
    "print(config.x is None)\n",
    "saya=config.saya\n",
    "saya.location, saya.multilang"
   ]
  },
  {
   "cell_type": "code",
   "execution_count": 13,
   "metadata": {
    "ExecuteTime": {
     "end_time": "2019-12-23T11:34:20.911116Z",
     "start_time": "2019-12-23T11:34:20.901322Z"
    }
   },
   "outputs": [
    {
     "data": {
      "text/plain": [
       "'/pi/ws/sagas-ai/bots/saya'"
      ]
     },
     "execution_count": 13,
     "metadata": {},
     "output_type": "execute_result"
    }
   ],
   "source": [
    "config.get('saya').location"
   ]
  }
 ],
 "metadata": {
  "kernelspec": {
   "display_name": "Python 3",
   "language": "python",
   "name": "python3"
  },
  "language_info": {
   "codemirror_mode": {
    "name": "ipython",
    "version": 3
   },
   "file_extension": ".py",
   "mimetype": "text/x-python",
   "name": "python",
   "nbconvert_exporter": "python",
   "pygments_lexer": "ipython3",
   "version": "3.6.9"
  },
  "varInspector": {
   "cols": {
    "lenName": 16,
    "lenType": 16,
    "lenVar": 40
   },
   "kernels_config": {
    "python": {
     "delete_cmd_postfix": "",
     "delete_cmd_prefix": "del ",
     "library": "var_list.py",
     "varRefreshCmd": "print(var_dic_list())"
    },
    "r": {
     "delete_cmd_postfix": ") ",
     "delete_cmd_prefix": "rm(",
     "library": "var_list.r",
     "varRefreshCmd": "cat(var_dic_list()) "
    }
   },
   "types_to_exclude": [
    "module",
    "function",
    "builtin_function_or_method",
    "instance",
    "_Feature"
   ],
   "window_display": false
  }
 },
 "nbformat": 4,
 "nbformat_minor": 2
}
