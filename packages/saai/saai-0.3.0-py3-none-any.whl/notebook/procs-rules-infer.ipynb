{
 "cells": [
  {
   "cell_type": "code",
   "execution_count": 1,
   "metadata": {
    "ExecuteTime": {
     "end_time": "2019-11-27T17:40:07.403671Z",
     "start_time": "2019-11-27T17:40:05.989978Z"
    }
   },
   "outputs": [
    {
     "name": "stdout",
     "output_type": "stream",
     "text": [
      ".. request is {'lang': 'en', 'sents': 'I play football', 'engine': 'corenlp', 'pipelines': ['predicts']}\n"
     ]
    }
   ],
   "source": [
    "from sagas.conf.conf import cf\n",
    "from sagas.nlu.uni_remote import dep_parse\n",
    "from sagas.tracker_jupyter import enable_jupyter_tracker\n",
    "enable_jupyter_tracker()\n",
    "\n",
    "source='en'\n",
    "sents='I play football'\n",
    "\n",
    "engine=cf.engine(source)\n",
    "doc_jsonify, resp = dep_parse(sents, source, engine, ['predicts'])\n",
    "if doc_jsonify is None:\n",
    "    raise Exception(f'Cannot parse sentence for lang {source}')"
   ]
  },
  {
   "cell_type": "code",
   "execution_count": 8,
   "metadata": {
    "ExecuteTime": {
     "end_time": "2019-11-28T05:00:51.514176Z",
     "start_time": "2019-11-28T05:00:51.447765Z"
    }
   },
   "outputs": [
    {
     "name": "stdout",
     "output_type": "stream",
     "text": [
      "\u001b[36m✁ chunks. -------------------------\u001b[0m\n",
      "❶ verb_domains(play) _\n"
     ]
    },
    {
     "data": {
      "text/html": [
       "<div>\n",
       "<style scoped>\n",
       "    .dataframe tbody tr th:only-of-type {\n",
       "        vertical-align: middle;\n",
       "    }\n",
       "\n",
       "    .dataframe tbody tr th {\n",
       "        vertical-align: top;\n",
       "    }\n",
       "\n",
       "    .dataframe thead th {\n",
       "        text-align: right;\n",
       "    }\n",
       "</style>\n",
       "<table border=\"1\" class=\"dataframe\">\n",
       "  <thead>\n",
       "    <tr style=\"text-align: right;\">\n",
       "      <th></th>\n",
       "      <th>rel</th>\n",
       "      <th>index</th>\n",
       "      <th>text</th>\n",
       "      <th>lemma</th>\n",
       "      <th>children</th>\n",
       "      <th>features</th>\n",
       "    </tr>\n",
       "  </thead>\n",
       "  <tbody>\n",
       "    <tr>\n",
       "      <th>0</th>\n",
       "      <td>nsubj</td>\n",
       "      <td>1</td>\n",
       "      <td>I</td>\n",
       "      <td>I</td>\n",
       "      <td>I..</td>\n",
       "      <td>c_pron, x_prp..</td>\n",
       "    </tr>\n",
       "    <tr>\n",
       "      <th>1</th>\n",
       "      <td>obj</td>\n",
       "      <td>3</td>\n",
       "      <td>football</td>\n",
       "      <td>football</td>\n",
       "      <td>football..</td>\n",
       "      <td>c_noun, x_nn..</td>\n",
       "    </tr>\n",
       "    <tr>\n",
       "      <th>2</th>\n",
       "      <td>punct</td>\n",
       "      <td>4</td>\n",
       "      <td>.</td>\n",
       "      <td>.</td>\n",
       "      <td>...</td>\n",
       "      <td>c_punct, x_...</td>\n",
       "    </tr>\n",
       "  </tbody>\n",
       "</table>\n",
       "</div>"
      ],
      "text/plain": [
       "     rel index      text     lemma    children         features\n",
       "0  nsubj     1         I         I         I..  c_pron, x_prp..\n",
       "1    obj     3  football  football  football..   c_noun, x_nn..\n",
       "2  punct     4         .         .         ...   c_punct, x_..."
      ]
     },
     "metadata": {},
     "output_type": "display_data"
    },
    {
     "name": "stdout",
     "output_type": "stream",
     "text": [
      "\u001b[35m♥ play/play(verb_domains): play.n.01, play.n.02, pla...\u001b[0m\n",
      "\u001b[35m♥ football(obj): football.n.01, football.n...\u001b[0m\n"
     ]
    }
   ],
   "source": [
    "from sagas.nlu.uni_remote_viz import list_rs, list_contrast\n",
    "from sagas.nlu.corenlp_parser import get_chunks\n",
    "\n",
    "class InferDataComp(object):\n",
    "    def __init__(self, domain):\n",
    "        self.domain=domain\n",
    "        \n",
    "class InferData(object):\n",
    "    def __init__(self):\n",
    "        self.comps:List[InferDataComp]=[]\n",
    "\n",
    "if len(resp['predicts']) > 0:\n",
    "    rs=resp['predicts']\n",
    "else:\n",
    "    rs = get_chunks(doc_jsonify)\n",
    "\n",
    "ifdata=InferData()\n",
    "list_rs(rs, source)"
   ]
  },
  {
   "cell_type": "code",
   "execution_count": 7,
   "metadata": {
    "ExecuteTime": {
     "end_time": "2019-11-28T04:59:39.802321Z",
     "start_time": "2019-11-28T04:59:39.635987Z"
    }
   },
   "outputs": [
    {
     "name": "stdout",
     "output_type": "stream",
     "text": [
      "\u001b[35m[verb_domains](play) 玩\u001b[0m\n",
      "\u001b[36m\t[nsubj](I) 一世\u001b[0m\n",
      "\u001b[36m\t[obj](football) 足球\u001b[0m\n"
     ]
    }
   ],
   "source": [
    "_=list_contrast(rs, source)"
   ]
  },
  {
   "cell_type": "code",
   "execution_count": null,
   "metadata": {},
   "outputs": [],
   "source": []
  }
 ],
 "metadata": {
  "kernelspec": {
   "display_name": "Python 3",
   "language": "python",
   "name": "python3"
  },
  "language_info": {
   "codemirror_mode": {
    "name": "ipython",
    "version": 3
   },
   "file_extension": ".py",
   "mimetype": "text/x-python",
   "name": "python",
   "nbconvert_exporter": "python",
   "pygments_lexer": "ipython3",
   "version": "3.6.9"
  },
  "varInspector": {
   "cols": {
    "lenName": 16,
    "lenType": 16,
    "lenVar": 40
   },
   "kernels_config": {
    "python": {
     "delete_cmd_postfix": "",
     "delete_cmd_prefix": "del ",
     "library": "var_list.py",
     "varRefreshCmd": "print(var_dic_list())"
    },
    "r": {
     "delete_cmd_postfix": ") ",
     "delete_cmd_prefix": "rm(",
     "library": "var_list.r",
     "varRefreshCmd": "cat(var_dic_list()) "
    }
   },
   "types_to_exclude": [
    "module",
    "function",
    "builtin_function_or_method",
    "instance",
    "_Feature"
   ],
   "window_display": false
  }
 },
 "nbformat": 4,
 "nbformat_minor": 2
}
