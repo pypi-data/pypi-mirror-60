{
 "cells": [
  {
   "cell_type": "code",
   "execution_count": 1,
   "metadata": {
    "ExecuteTime": {
     "end_time": "2019-12-06T08:20:11.431533Z",
     "start_time": "2019-12-06T08:20:11.401705Z"
    }
   },
   "outputs": [
    {
     "name": "stdout",
     "output_type": "stream",
     "text": [
      "test-> Hello World\n"
     ]
    },
    {
     "data": {
      "text/plain": [
       "{'sid': '0', 'id': 'sid-0', '$s': 1}"
      ]
     },
     "execution_count": 1,
     "metadata": {},
     "output_type": "execute_result"
    }
   ],
   "source": [
    "from durable.lang import *\n",
    "import threading\n",
    "import time\n",
    "import datetime\n",
    "\n",
    "with ruleset('test'):\n",
    "    # antecedent\n",
    "    @when_all(m.subject == 'World')\n",
    "    def say_hello(c):\n",
    "        # consequent\n",
    "        print('test-> Hello {0}'.format(c.m.subject))\n",
    "\n",
    "post('test', { 'subject': 'World' })"
   ]
  },
  {
   "cell_type": "code",
   "execution_count": 2,
   "metadata": {
    "ExecuteTime": {
     "end_time": "2019-12-06T08:20:11.487386Z",
     "start_time": "2019-12-06T08:20:11.434664Z"
    }
   },
   "outputs": [
    {
     "name": "stdout",
     "output_type": "stream",
     "text": [
      "animal-> Fact: Kermit eats flies\n",
      "animal-> Fact: Kermit is green\n",
      "animal-> Fact: Kermit is frog\n",
      "animal-> Fact: Kermit lives water\n",
      "animal-> Fact: Greedy eats flies\n",
      "animal-> Fact: Greedy is grey\n",
      "animal-> Fact: Greedy is chameleon\n",
      "animal-> Fact: Greedy lives land\n",
      "animal-> Fact: Tweety is black\n",
      "animal-> Fact: Tweety is bird\n",
      "animal-> Fact: Tweety eats worms\n"
     ]
    },
    {
     "data": {
      "text/plain": [
       "{'sid': '0', 'id': 'sid-0', '$s': 1}"
      ]
     },
     "execution_count": 2,
     "metadata": {},
     "output_type": "execute_result"
    }
   ],
   "source": [
    "with ruleset('animal'):\n",
    "    @when_all(c.first << (m.predicate == 'eats') & (m.object == 'flies'),\n",
    "              (m.predicate == 'lives') & (m.object == 'water') & (m.subject == c.first.subject))\n",
    "    def frog(c):\n",
    "        c.assert_fact({ 'subject': c.first.subject, 'predicate': 'is', 'object': 'frog' })\n",
    "\n",
    "    @when_all(c.first << (m.predicate == 'eats') & (m.object == 'flies'),\n",
    "              (m.predicate == 'lives') & (m.object == 'land') & (m.subject == c.first.subject))\n",
    "    def chameleon(c):\n",
    "        c.assert_fact({ 'subject': c.first.subject, 'predicate': 'is', 'object': 'chameleon' })\n",
    "\n",
    "    @when_all((m.predicate == 'eats') & (m.object == 'worms'))\n",
    "    def bird(c):\n",
    "        c.assert_fact({ 'subject': c.m.subject, 'predicate': 'is', 'object': 'bird' })\n",
    "\n",
    "    @when_all((m.predicate == 'is') & (m.object == 'frog'))\n",
    "    def green(c):\n",
    "        c.assert_fact({ 'subject': c.m.subject, 'predicate': 'is', 'object': 'green' })\n",
    "\n",
    "    @when_all((m.predicate == 'is') & (m.object == 'chameleon'))\n",
    "    def grey(c):\n",
    "        c.assert_fact({ 'subject': c.m.subject, 'predicate': 'is', 'object': 'grey' })\n",
    "\n",
    "    @when_all((m.predicate == 'is') & (m.object == 'bird'))\n",
    "    def black(c):\n",
    "        c.assert_fact({ 'subject': c.m.subject, 'predicate': 'is', 'object': 'black' })\n",
    "\n",
    "    @when_all(+m.subject)\n",
    "    def output(c):\n",
    "        print ('animal-> Fact: {0} {1} {2}'.format(c.m.subject, c.m.predicate, c.m.object))\n",
    "\n",
    "assert_fact('animal', { 'subject': 'Kermit', 'predicate': 'eats', 'object': 'flies' })\n",
    "assert_fact('animal', { 'subject': 'Kermit', 'predicate': 'lives', 'object': 'water' })\n",
    "assert_fact('animal', { 'subject': 'Greedy', 'predicate': 'eats', 'object': 'flies' })\n",
    "assert_fact('animal', { 'subject': 'Greedy', 'predicate': 'lives', 'object': 'land' })\n",
    "assert_fact('animal', { 'subject': 'Tweety', 'predicate': 'eats', 'object': 'worms' })\n"
   ]
  },
  {
   "cell_type": "code",
   "execution_count": 3,
   "metadata": {
    "ExecuteTime": {
     "end_time": "2019-12-06T08:20:11.504718Z",
     "start_time": "2019-12-06T08:20:11.490728Z"
    }
   },
   "outputs": [
    {
     "name": "stdout",
     "output_type": "stream",
     "text": [
      "expense5-> bill amount: 100\n",
      "expense5-> account payment amount: 100\n"
     ]
    },
    {
     "data": {
      "text/plain": [
       "{'sid': '0', 'id': 'sid-0', '$s': 1}"
      ]
     },
     "execution_count": 3,
     "metadata": {},
     "output_type": "execute_result"
    }
   ],
   "source": [
    "with ruleset('expense5'):\n",
    "    @when_all(c.bill << (m.t == 'bill') & (m.invoice.amount > 50),\n",
    "              c.account << (m.t == 'account') & (m.payment.invoice.amount == c.bill.invoice.amount))\n",
    "    def approved(c):\n",
    "        print ('expense5-> bill amount: {0}'.format(c.bill.invoice.amount))\n",
    "        print ('expense5-> account payment amount: {0}'.format(c.account.payment.invoice.amount))\n",
    "        \n",
    "post('expense5', {'t': 'bill', 'invoice': {'amount': 100}})\n",
    "post('expense5', {'t': 'account', 'payment': {'invoice': {'amount': 100}}})"
   ]
  },
  {
   "cell_type": "code",
   "execution_count": 4,
   "metadata": {
    "ExecuteTime": {
     "end_time": "2019-12-06T08:20:11.533876Z",
     "start_time": "2019-12-06T08:20:11.508206Z"
    }
   },
   "outputs": [
    {
     "name": "stdout",
     "output_type": "stream",
     "text": [
      "bookstore-> Added The new book\n"
     ]
    },
    {
     "data": {
      "text/plain": [
       "{'sid': '0', 'id': 'sid-0', '$s': 1}"
      ]
     },
     "execution_count": 4,
     "metadata": {},
     "output_type": "execute_result"
    }
   ],
   "source": [
    "with ruleset('bookstore'):\n",
    "    # this rule will trigger for events with status\n",
    "    @when_all(+m.status)\n",
    "    def event(c):\n",
    "        print('bookstore-> Reference {0} status {1}'.format(c.m.reference, c.m.status))\n",
    "\n",
    "    @when_all(+m.name)\n",
    "    def fact(c):\n",
    "        print('bookstore-> Added {0}'.format(c.m.name))\n",
    "        \n",
    "    # this rule will be triggered when the fact is retracted\n",
    "    @when_all(none(+m.name))\n",
    "    def empty(c):\n",
    "        print('bookstore-> No books')\n",
    "\n",
    "assert_fact('bookstore', {\n",
    "    'name': 'The new book',\n",
    "    'seller': 'bookstore',\n",
    "    'reference': '75323',\n",
    "    'price': 500\n",
    "})"
   ]
  },
  {
   "cell_type": "code",
   "execution_count": 1,
   "metadata": {
    "ExecuteTime": {
     "end_time": "2019-12-06T19:10:10.543332Z",
     "start_time": "2019-12-06T19:10:10.491219Z"
    }
   },
   "outputs": [
    {
     "name": "stdout",
     "output_type": "stream",
     "text": [
      "string contains hello (case insensitive) -> HELLO world\n",
      "string ends with hello -> world hello\n",
      "string contains hello (case insensitive) -> world hello\n",
      "string starts with hello -> hello hi\n",
      "string contains hello (case insensitive) -> hello hi\n",
      "string contains hello (case insensitive) -> has Hello string\n"
     ]
    },
    {
     "data": {
      "text/plain": [
       "{'sid': '0', 'id': 'sid-0', '$s': 1}"
      ]
     },
     "execution_count": 1,
     "metadata": {},
     "output_type": "execute_result"
    }
   ],
   "source": [
    "from durable.lang import *\n",
    "\n",
    "with ruleset('strings'):\n",
    "    @when_all(m.subject.matches('hello.*'))\n",
    "    def starts_with(c):\n",
    "        print ('string starts with hello -> {0}'.format(c.m.subject))\n",
    "\n",
    "    @when_all(m.subject.matches('.*hello'))\n",
    "    def ends_with(c):\n",
    "        print ('string ends with hello -> {0}'.format(c.m.subject))\n",
    "\n",
    "    @when_all(m.subject.imatches('.*hello.*'))\n",
    "    def contains(c):\n",
    "        print ('string contains hello (case insensitive) -> {0}'.format(c.m.subject))\n",
    "    \n",
    "assert_fact('strings', { 'subject': 'HELLO world' })\n",
    "assert_fact('strings', { 'subject': 'world hello' })\n",
    "assert_fact('strings', { 'subject': 'hello hi' })\n",
    "assert_fact('strings', { 'subject': 'has Hello string' })\n",
    "# assert_fact('strings', { 'subject': 'does not match' })\n"
   ]
  },
  {
   "cell_type": "code",
   "execution_count": 1,
   "metadata": {
    "ExecuteTime": {
     "end_time": "2019-12-08T17:11:36.928059Z",
     "start_time": "2019-12-08T17:11:36.895959Z"
    }
   },
   "outputs": [
    {
     "name": "stdout",
     "output_type": "stream",
     "text": [
      "string matches pat -> main.n.01, body_of_water.n.01, thing.n.12, physical_entity.n.01, entity.n.01\n",
      "amod pat -> ['main.n.01, body_of_water.n.01, thing.n.12, physical_entity.n.01, entity.n.01']\n"
     ]
    },
    {
     "data": {
      "text/plain": [
       "({'sid': '0', 'id': 'sid-0', '$s': 1, 'matches': True},\n",
       " {'sid': '0', 'id': 'sid-0', '$s': 1, 'matches': True, 'amod_with': True})"
      ]
     },
     "execution_count": 1,
     "metadata": {},
     "output_type": "execute_result"
    }
   ],
   "source": [
    "from durable.lang import *\n",
    "from durable.engine import Host\n",
    "\n",
    "def create_host():\n",
    "    import durable.lang as dlang\n",
    "    \n",
    "    host = Host()\n",
    "    ruleset_definitions = {}\n",
    "    for name, rset in dlang._rulesets.items():\n",
    "        full_name, ruleset_definition = rset.define()\n",
    "        ruleset_definitions[full_name] = ruleset_definition\n",
    "\n",
    "    host.register_rulesets(ruleset_definitions)\n",
    "    return host\n",
    "\n",
    "with ruleset('wordnet'):\n",
    "    @when_all(m.subject.matches('.*thing.*, entity.*'))\n",
    "    def matches(c):\n",
    "        c.s.matches=True\n",
    "        print ('string matches pat -> {0}'.format(c.m.subject))\n",
    "    \n",
    "    @when_all(m.amod.anyItem(item.matches('.*thing.*, entity.*')))\n",
    "    def amod_with(c):\n",
    "        c.s.amod_with=True\n",
    "        print ('amod pat -> {0}'.format(c.m.amod))\n",
    "    \n",
    "    @when_all(m.subject.imatches('.*thing.*'))\n",
    "    def contains(c):        \n",
    "        print ('string contains pat -> {0}'.format(c.m.subject))\n",
    "\n",
    "host=create_host()\n",
    "# assert_fact\n",
    "r1=host.post('wordnet', { 'subject': 'main.n.01, body_of_water.n.01, thing.n.12, physical_entity.n.01, entity.n.01'})\n",
    "r2=host.post('wordnet', { 'amod': ['main.n.01, body_of_water.n.01, thing.n.12, physical_entity.n.01, entity.n.01']})\n",
    "r1, r2"
   ]
  },
  {
   "cell_type": "code",
   "execution_count": 75,
   "metadata": {
    "ExecuteTime": {
     "end_time": "2019-12-08T21:03:46.354794Z",
     "start_time": "2019-12-08T21:03:46.335239Z"
    }
   },
   "outputs": [
    {
     "name": "stdout",
     "output_type": "stream",
     "text": [
      "risk-> Fraud detected -> CA, US\n"
     ]
    },
    {
     "data": {
      "text/plain": [
       "{'sid': '0', 'id': 'sid-0', '$s': 1}"
      ]
     },
     "execution_count": 75,
     "metadata": {},
     "output_type": "execute_result"
    }
   ],
   "source": [
    "with ruleset('risk'):\n",
    "    @when_all(c.first << m.t == 'purchase',\n",
    "              c.second << m.location != c.first.location)\n",
    "    # the event pair will only be observed once\n",
    "    def fraud(c):\n",
    "        print('risk-> Fraud detected -> {0}, {1}'.format(c.first.location, c.second.location))\n",
    "\n",
    "host=create_host()    \n",
    "# 'post' submits events, try 'assert' instead and to see differt behavior\n",
    "host.post('risk', {'t': 'purchase', 'location': 'US'})\n",
    "host.post('risk', {'t': 'purchase', 'location': 'CA'})"
   ]
  },
  {
   "cell_type": "code",
   "execution_count": 59,
   "metadata": {
    "ExecuteTime": {
     "end_time": "2019-12-08T20:18:43.278708Z",
     "start_time": "2019-12-08T20:18:43.270452Z"
    }
   },
   "outputs": [
    {
     "data": {
      "text/plain": [
       "[5, 3]"
      ]
     },
     "execution_count": 59,
     "metadata": {},
     "output_type": "execute_result"
    }
   ],
   "source": [
    "[5]+[3]"
   ]
  },
  {
   "cell_type": "code",
   "execution_count": 68,
   "metadata": {
    "ExecuteTime": {
     "end_time": "2019-12-08T20:32:49.948971Z",
     "start_time": "2019-12-08T20:32:49.913625Z"
    }
   },
   "outputs": [
    {
     "name": "stdout",
     "output_type": "stream",
     "text": [
      "universe.n.01, natural_object.n.01, whole.n.02, object.n.01, physical_entity.n.01, entity.n.01\n",
      "world.n.02, class.n.03, people.n.01, group.n.01, abstraction.n.06, entity.n.01\n",
      "world.n.03, experience.n.02, content.n.05, cognition.n.01, psychological_feature.n.01, abstraction.n.06, entity.n.01\n",
      "earth.n.01\n",
      "populace.n.01, people.n.01, group.n.01, abstraction.n.06, entity.n.01\n",
      "world.n.06, part.n.03, thing.n.12, physical_entity.n.01, entity.n.01\n",
      "worldly_concern.n.01, concern.n.01, interest.n.01, curiosity.n.01, cognitive_state.n.01, psychological_state.n.01, condition.n.01, state.n.02, attribute.n.02, abstraction.n.06, entity.n.01\n",
      "world.n.08, group.n.01, homo.n.02, abstraction.n.06, hominid.n.01, entity.n.01, primate.n.02, placental.n.01, mammal.n.01, vertebrate.n.01, chordate.n.01, animal.n.01, organism.n.01, living_thing.n.01, whole.n.02, object.n.01, physical_entity.n.01\n",
      "amod thing -> world\n",
      "amod natural -> world\n"
     ]
    },
    {
     "data": {
      "text/plain": [
       "{'sid': '0',\n",
       " 'id': 'sid-0',\n",
       " '$s': 1,\n",
       " 'amod_with_thing': True,\n",
       " 'amod': ['thing', 'natural'],\n",
       " 'amod_with_natural': True}"
      ]
     },
     "execution_count": 68,
     "metadata": {},
     "output_type": "execute_result"
    }
   ],
   "source": [
    "from sagas.nlu.nlu_cli import get_chains\n",
    "ls=lambda l,e: [e] if l is None else l+[e]\n",
    "\n",
    "with ruleset('chains'):\n",
    "    @when_all(m.amod.anyItem(item.matches('.*thing.n.*, .*physical_entity.n.*')))\n",
    "    def amod_with_thing(c):\n",
    "        c.s.amod_with_thing=True\n",
    "        c.s.amod=ls(c.s.amod, 'thing')\n",
    "        print ('amod thing -> {0}'.format(c.m.word))\n",
    "    \n",
    "    @when_all(m.amod.anyItem(item.matches('.*natural_object.n.*, .*object.n.*')))\n",
    "    def amod_with_natural(c):\n",
    "        c.s.amod_with_natural=True\n",
    "        c.s.amod=ls(c.s.amod, 'natural')\n",
    "        print ('amod natural -> {0}'.format(c.m.word))\n",
    "        \n",
    "def chains(word, lang, pos):\n",
    "    resp=get_chains(word, lang, pos)\n",
    "    if len(resp)>0:\n",
    "        return [', '.join(chain['chain']) for chain in resp]\n",
    "    return []\n",
    "\n",
    "host=create_host()\n",
    "word='world'\n",
    "word_chains=chains(word, 'en', 'n')\n",
    "print(*word_chains, sep='\\n')\n",
    "r3=host.assert_fact('chains', {'word':word, 'amod': word_chains})\n",
    "# r3=host.post('chains', {'word':word, 'amod': word_chains})\n",
    "r3"
   ]
  },
  {
   "cell_type": "code",
   "execution_count": 25,
   "metadata": {
    "ExecuteTime": {
     "end_time": "2019-12-08T12:49:11.720352Z",
     "start_time": "2019-12-08T12:49:11.710836Z"
    }
   },
   "outputs": [
    {
     "data": {
      "text/plain": [
       "True"
      ]
     },
     "execution_count": 25,
     "metadata": {},
     "output_type": "execute_result"
    }
   ],
   "source": [
    "'amod_with' in r2"
   ]
  },
  {
   "cell_type": "code",
   "execution_count": 66,
   "metadata": {
    "ExecuteTime": {
     "end_time": "2019-12-08T20:32:04.993328Z",
     "start_time": "2019-12-08T20:32:04.987892Z"
    }
   },
   "outputs": [],
   "source": [
    "# r3=host.assert_fact('chains', {'word':'new', 'amod': word_chains})\n",
    "# r3"
   ]
  },
  {
   "cell_type": "code",
   "execution_count": 72,
   "metadata": {
    "ExecuteTime": {
     "end_time": "2019-12-08T20:50:56.665830Z",
     "start_time": "2019-12-08T20:50:56.655834Z"
    }
   },
   "outputs": [
    {
     "data": {
      "text/plain": [
       "[{'behave_purpose': {'triggers': 'action_log_commevent'}}]"
      ]
     },
     "execution_count": 72,
     "metadata": {},
     "output_type": "execute_result"
    }
   ],
   "source": [
    "import glob\n",
    "import rasa.utils.io as io_utils\n",
    "intents=[]\n",
    "for f in glob.glob('/pi/stack/conf/ruleset_*.json'):\n",
    "    rules = io_utils.read_json_file(f)\n",
    "    for rule in rules:\n",
    "        intents.append({rule['intent']: {'triggers': rule['action']}})\n",
    "intents"
   ]
  },
  {
   "cell_type": "code",
   "execution_count": 31,
   "metadata": {
    "ExecuteTime": {
     "end_time": "2019-12-08T17:49:24.386789Z",
     "start_time": "2019-12-08T17:49:20.465738Z"
    }
   },
   "outputs": [
    {
     "name": "stdout",
     "output_type": "stream",
     "text": [
      ".. request is {'lang': 'en', 'sents': 'I want to play music.', 'engine': 'corenlp', 'pipelines': ['predicts']}\n",
      "meta keys dict_keys(['rel', 'lemma', 'word', 'stems', 'lang', 'sents', 'engine'])\n",
      "tokens {'xcomp': ['play'], 'nsubj': ['I'], 'punct': ['.']}\n",
      "words want {'xcomp': 'play', 'nsubj': 'I', 'punct': '.'}\n",
      "lemmas {'xcomp': 'play', 'nsubj': 'I', 'punct': '.'}\n",
      "chunks [nsubj: I, xcomp: to play music, punct: .]\n",
      "\u001b[36m✁ dependency-graph. -------------------------\u001b[0m\n",
      "+----+---------+--------+---------+--------+--------+\n",
      "|    |   index | text   | lemma   | upos   | xpos   |\n",
      "|----+---------+--------+---------+--------+--------|\n",
      "|  0 |       1 | I      | I       | PRON   | PRP    |\n",
      "|  1 |       2 | want   | want    | VERB   | VBP    |\n",
      "|  2 |       3 | to     | to      | PART   | TO     |\n",
      "|  3 |       4 | play   | play    | VERB   | VB     |\n",
      "|  4 |       5 | music  | music   | NOUN   | NN     |\n",
      "|  5 |       6 | .      | .       | PUNCT  | .      |\n",
      "+----+---------+--------+---------+--------+--------+\n",
      "('1', 'I', 2, 'want')\n",
      "('2', 'want', 0, '.')\n",
      "('3', 'to', 4, 'play')\n",
      "('4', 'play', 2, 'want')\n",
      "('5', 'music', 4, 'play')\n",
      "('6', '.', 2, 'want')\n"
     ]
    },
    {
     "data": {
      "image/svg+xml": [
       "<?xml version=\"1.0\" encoding=\"UTF-8\" standalone=\"no\"?>\n",
       "<!DOCTYPE svg PUBLIC \"-//W3C//DTD SVG 1.1//EN\"\n",
       " \"http://www.w3.org/Graphics/SVG/1.1/DTD/svg11.dtd\">\n",
       "<!-- Generated by graphviz version 2.40.1 (20161225.0304)\n",
       " -->\n",
       "<!-- Title: deps Pages: 1 -->\n",
       "<svg width=\"457pt\" height=\"152pt\"\n",
       " viewBox=\"0.00 0.00 457.24 152.00\" xmlns=\"http://www.w3.org/2000/svg\" xmlns:xlink=\"http://www.w3.org/1999/xlink\">\n",
       "<g id=\"graph0\" class=\"graph\" transform=\"scale(1 1) rotate(0) translate(4 148)\">\n",
       "<title>deps</title>\n",
       "<polygon fill=\"#ffffff\" stroke=\"transparent\" points=\"-4,4 -4,-148 453.2438,-148 453.2438,4 -4,4\"/>\n",
       "<!-- I -->\n",
       "<g id=\"node1\" class=\"node\">\n",
       "<title>I</title>\n",
       "<polygon fill=\"none\" stroke=\"#ff0000\" stroke-dasharray=\"5,2\" points=\"292.0272,-108.0493 293.8033,-108.1479 295.561,-108.2953 297.2931,-108.4913 298.9927,-108.7353 300.6529,-109.0266 302.2672,-109.3645 303.8293,-109.7479 305.3332,-110.1759 306.7735,-110.6472 308.1447,-111.1606 309.4423,-111.7147 310.6619,-112.308 311.7996,-112.9388 312.8521,-113.6054 313.8164,-114.3059 314.6902,-115.0385 315.4716,-115.8012 316.1593,-116.5918 316.7522,-117.4082 317.2502,-118.2481 317.6532,-119.1093 317.9619,-119.9894 318.1772,-120.886 318.3005,-121.7965 318.3337,-122.7186 318.2789,-123.6497 318.1386,-124.5873 317.9158,-125.5287 317.6134,-126.4713 317.2347,-127.4127 316.7833,-128.3503 316.2628,-129.2814 315.6771,-130.2035 315.03,-131.114 314.3254,-132.0106 313.5672,-132.8907 312.7595,-133.7519 311.906,-134.5918 311.0106,-135.4082 310.0769,-136.1988 309.1086,-136.9615 308.1091,-137.6941 307.0815,-138.3946 306.0291,-139.0612 304.9546,-139.692 303.8608,-140.2853 302.7501,-140.8394 301.6248,-141.3528 300.487,-141.8241 299.3386,-142.2521 298.1812,-142.6355 297.0164,-142.9734 295.8456,-143.2647 294.6698,-143.5087 293.4902,-143.7047 292.3077,-143.8521 291.1233,-143.9507 289.9377,-144 288.7517,-144 287.5661,-143.9507 286.3817,-143.8521 285.1992,-143.7047 284.0196,-143.5087 282.8438,-143.2647 281.6729,-142.9734 280.5081,-142.6355 279.3508,-142.2521 278.2024,-141.8241 277.0646,-141.3528 275.9393,-140.8394 274.8286,-140.2853 273.7348,-139.692 272.6603,-139.0612 271.6079,-138.3946 270.5803,-137.6941 269.5808,-136.9615 268.6124,-136.1988 267.6788,-135.4082 266.7834,-134.5918 265.9299,-133.7519 265.1222,-132.8907 264.364,-132.0106 263.6594,-131.114 263.0123,-130.2035 262.4265,-129.2814 261.9061,-128.3503 261.4547,-127.4127 261.076,-126.4713 260.7736,-125.5287 260.5507,-124.5873 260.4105,-123.6497 260.3557,-122.7186 260.3889,-121.7965 260.5122,-120.886 260.7275,-119.9894 261.0362,-119.1093 261.4392,-118.2481 261.9371,-117.4082 262.5301,-116.5918 263.2178,-115.8012 263.9992,-115.0385 264.873,-114.3059 265.8373,-113.6054 266.8898,-112.9388 268.0275,-112.308 269.2471,-111.7147 270.5447,-111.1606 271.9159,-110.6472 273.3561,-110.1759 274.8601,-109.7479 276.4222,-109.3645 278.0364,-109.0266 279.6967,-108.7353 281.3962,-108.4913 283.1284,-108.2953 284.8861,-108.1479 286.6622,-108.0493 288.4493,-108 290.2401,-108 292.0272,-108.0493\"/>\n",
       "<text text-anchor=\"middle\" x=\"289.3447\" y=\"-121.8\" font-family=\"Calibri\" font-size=\"14.00\" fill=\"#000000\">I</text>\n",
       "</g>\n",
       "<!-- want -->\n",
       "<g id=\"node2\" class=\"node\">\n",
       "<title>want</title>\n",
       "<polygon fill=\"#d3d3d3\" stroke=\"#d3d3d3\" points=\"164.3979,-54.0493 166.2858,-54.1479 168.1541,-54.2953 169.9952,-54.4913 171.8018,-54.7353 173.5665,-55.0266 175.2823,-55.3645 176.9427,-55.7479 178.5413,-56.1759 180.0721,-56.6472 181.5297,-57.1606 182.909,-57.7147 184.2053,-58.308 185.4146,-58.9388 186.5333,-59.6054 187.5583,-60.3059 188.4871,-61.0385 189.3177,-61.8012 190.0486,-62.5918 190.6789,-63.4082 191.2082,-64.2481 191.6366,-65.1093 191.9647,-65.9894 192.1935,-66.886 192.3246,-67.7965 192.3599,-68.7186 192.3016,-69.6497 192.1526,-70.5873 191.9157,-71.5287 191.5942,-72.4713 191.1917,-73.4127 190.7119,-74.3503 190.1587,-75.2814 189.5361,-76.2035 188.8483,-77.114 188.0993,-78.0106 187.2935,-78.8907 186.4349,-79.7519 185.5277,-80.5918 184.5759,-81.4082 183.5835,-82.1988 182.5543,-82.9615 181.4918,-83.6941 180.3996,-84.3946 179.2809,-85.0612 178.1388,-85.692 176.9762,-86.2853 175.7956,-86.8394 174.5995,-87.3528 173.3901,-87.8241 172.1694,-88.2521 170.9392,-88.6355 169.7011,-88.9734 168.4565,-89.2647 167.2068,-89.5087 165.9529,-89.7047 164.6961,-89.8521 163.4371,-89.9507 162.1769,-90 160.9163,-90 159.6561,-89.9507 158.3971,-89.8521 157.1402,-89.7047 155.8864,-89.5087 154.6366,-89.2647 153.392,-88.9734 152.1539,-88.6355 150.9237,-88.2521 149.703,-87.8241 148.4937,-87.3528 147.2976,-86.8394 146.117,-86.2853 144.9543,-85.692 143.8122,-85.0612 142.6935,-84.3946 141.6013,-83.6941 140.5388,-82.9615 139.5096,-82.1988 138.5172,-81.4082 137.5654,-80.5918 136.6582,-79.7519 135.7997,-78.8907 134.9938,-78.0106 134.2449,-77.114 133.557,-76.2035 132.9344,-75.2814 132.3812,-74.3503 131.9014,-73.4127 131.4989,-72.4713 131.1775,-71.5287 130.9406,-70.5873 130.7915,-69.6497 130.7333,-68.7186 130.7685,-67.7965 130.8996,-66.886 131.1284,-65.9894 131.4565,-65.1093 131.8849,-64.2481 132.4142,-63.4082 133.0445,-62.5918 133.7754,-61.8012 134.606,-61.0385 135.5348,-60.3059 136.5598,-59.6054 137.6785,-58.9388 138.8878,-58.308 140.1841,-57.7147 141.5634,-57.1606 143.021,-56.6472 144.5518,-56.1759 146.1504,-55.7479 147.8108,-55.3645 149.5267,-55.0266 151.2914,-54.7353 153.0979,-54.4913 154.9391,-54.2953 156.8074,-54.1479 158.6952,-54.0493 160.5948,-54 162.4983,-54 164.3979,-54.0493\"/>\n",
       "<text text-anchor=\"middle\" x=\"161.5466\" y=\"-67.8\" font-family=\"Calibri\" font-size=\"14.00\" fill=\"#000000\">want</text>\n",
       "</g>\n",
       "<!-- want&#45;&gt;I -->\n",
       "<g id=\"edge1\" class=\"edge\">\n",
       "<title>want&#45;&gt;I</title>\n",
       "<path fill=\"none\" stroke=\"#000000\" d=\"M184.3943,-81.6541C203.7819,-89.8462 231.9129,-101.7327 254.1714,-111.1378\"/>\n",
       "<polygon fill=\"#000000\" stroke=\"#000000\" points=\"253.046,-114.4619 263.6198,-115.1302 255.7706,-108.0139 253.046,-114.4619\"/>\n",
       "<text text-anchor=\"middle\" x=\"226.402\" y=\"-107.2\" font-family=\"Calibri\" font-size=\"11.00\" fill=\"#000000\">nsubj</text>\n",
       "</g>\n",
       "<!-- play -->\n",
       "<g id=\"node4\" class=\"node\">\n",
       "<title>play</title>\n",
       "<polygon fill=\"#faebd7\" stroke=\"#faebd7\" points=\"292.0272,-54.0493 293.8033,-54.1479 295.561,-54.2953 297.2931,-54.4913 298.9927,-54.7353 300.6529,-55.0266 302.2672,-55.3645 303.8293,-55.7479 305.3332,-56.1759 306.7735,-56.6472 308.1447,-57.1606 309.4423,-57.7147 310.6619,-58.308 311.7996,-58.9388 312.8521,-59.6054 313.8164,-60.3059 314.6902,-61.0385 315.4716,-61.8012 316.1593,-62.5918 316.7522,-63.4082 317.2502,-64.2481 317.6532,-65.1093 317.9619,-65.9894 318.1772,-66.886 318.3005,-67.7965 318.3337,-68.7186 318.2789,-69.6497 318.1386,-70.5873 317.9158,-71.5287 317.6134,-72.4713 317.2347,-73.4127 316.7833,-74.3503 316.2628,-75.2814 315.6771,-76.2035 315.03,-77.114 314.3254,-78.0106 313.5672,-78.8907 312.7595,-79.7519 311.906,-80.5918 311.0106,-81.4082 310.0769,-82.1988 309.1086,-82.9615 308.1091,-83.6941 307.0815,-84.3946 306.0291,-85.0612 304.9546,-85.692 303.8608,-86.2853 302.7501,-86.8394 301.6248,-87.3528 300.487,-87.8241 299.3386,-88.2521 298.1812,-88.6355 297.0164,-88.9734 295.8456,-89.2647 294.6698,-89.5087 293.4902,-89.7047 292.3077,-89.8521 291.1233,-89.9507 289.9377,-90 288.7517,-90 287.5661,-89.9507 286.3817,-89.8521 285.1992,-89.7047 284.0196,-89.5087 282.8438,-89.2647 281.6729,-88.9734 280.5081,-88.6355 279.3508,-88.2521 278.2024,-87.8241 277.0646,-87.3528 275.9393,-86.8394 274.8286,-86.2853 273.7348,-85.692 272.6603,-85.0612 271.6079,-84.3946 270.5803,-83.6941 269.5808,-82.9615 268.6124,-82.1988 267.6788,-81.4082 266.7834,-80.5918 265.9299,-79.7519 265.1222,-78.8907 264.364,-78.0106 263.6594,-77.114 263.0123,-76.2035 262.4265,-75.2814 261.9061,-74.3503 261.4547,-73.4127 261.076,-72.4713 260.7736,-71.5287 260.5507,-70.5873 260.4105,-69.6497 260.3557,-68.7186 260.3889,-67.7965 260.5122,-66.886 260.7275,-65.9894 261.0362,-65.1093 261.4392,-64.2481 261.9371,-63.4082 262.5301,-62.5918 263.2178,-61.8012 263.9992,-61.0385 264.873,-60.3059 265.8373,-59.6054 266.8898,-58.9388 268.0275,-58.308 269.2471,-57.7147 270.5447,-57.1606 271.9159,-56.6472 273.3561,-56.1759 274.8601,-55.7479 276.4222,-55.3645 278.0364,-55.0266 279.6967,-54.7353 281.3962,-54.4913 283.1284,-54.2953 284.8861,-54.1479 286.6622,-54.0493 288.4493,-54 290.2401,-54 292.0272,-54.0493\"/>\n",
       "<text text-anchor=\"middle\" x=\"289.3447\" y=\"-67.8\" font-family=\"Calibri\" font-size=\"14.00\" fill=\"#000000\">play</text>\n",
       "</g>\n",
       "<!-- want&#45;&gt;play -->\n",
       "<g id=\"edge4\" class=\"edge\">\n",
       "<title>want&#45;&gt;play</title>\n",
       "<path fill=\"none\" stroke=\"#000000\" stroke-dasharray=\"5,2\" d=\"M191.8329,-72C209.3955,-72 231.6939,-72 250.5336,-72\"/>\n",
       "<polygon fill=\"#000000\" stroke=\"#000000\" points=\"250.5922,-75.5001 260.5921,-72 250.5921,-68.5001 250.5922,-75.5001\"/>\n",
       "<text text-anchor=\"middle\" x=\"226.402\" y=\"-74.2\" font-family=\"Calibri\" font-size=\"11.00\" fill=\"#000000\">xcomp</text>\n",
       "</g>\n",
       "<!-- . -->\n",
       "<g id=\"node6\" class=\"node\">\n",
       "<title>.</title>\n",
       "<polygon fill=\"none\" stroke=\"#000000\" points=\"292.0272,-.0493 293.8033,-.1479 295.561,-.2953 297.2931,-.4913 298.9927,-.7353 300.6529,-1.0266 302.2672,-1.3645 303.8293,-1.7479 305.3332,-2.1759 306.7735,-2.6472 308.1447,-3.1606 309.4423,-3.7147 310.6619,-4.308 311.7996,-4.9388 312.8521,-5.6054 313.8164,-6.3059 314.6902,-7.0385 315.4716,-7.8012 316.1593,-8.5918 316.7522,-9.4082 317.2502,-10.2481 317.6532,-11.1093 317.9619,-11.9894 318.1772,-12.886 318.3005,-13.7965 318.3337,-14.7186 318.2789,-15.6497 318.1386,-16.5873 317.9158,-17.5287 317.6134,-18.4713 317.2347,-19.4127 316.7833,-20.3503 316.2628,-21.2814 315.6771,-22.2035 315.03,-23.114 314.3254,-24.0106 313.5672,-24.8907 312.7595,-25.7519 311.906,-26.5918 311.0106,-27.4082 310.0769,-28.1988 309.1086,-28.9615 308.1091,-29.6941 307.0815,-30.3946 306.0291,-31.0612 304.9546,-31.692 303.8608,-32.2853 302.7501,-32.8394 301.6248,-33.3528 300.487,-33.8241 299.3386,-34.2521 298.1812,-34.6355 297.0164,-34.9734 295.8456,-35.2647 294.6698,-35.5087 293.4902,-35.7047 292.3077,-35.8521 291.1233,-35.9507 289.9377,-36 288.7517,-36 287.5661,-35.9507 286.3817,-35.8521 285.1992,-35.7047 284.0196,-35.5087 282.8438,-35.2647 281.6729,-34.9734 280.5081,-34.6355 279.3508,-34.2521 278.2024,-33.8241 277.0646,-33.3528 275.9393,-32.8394 274.8286,-32.2853 273.7348,-31.692 272.6603,-31.0612 271.6079,-30.3946 270.5803,-29.6941 269.5808,-28.9615 268.6124,-28.1988 267.6788,-27.4082 266.7834,-26.5918 265.9299,-25.7519 265.1222,-24.8907 264.364,-24.0106 263.6594,-23.114 263.0123,-22.2035 262.4265,-21.2814 261.9061,-20.3503 261.4547,-19.4127 261.076,-18.4713 260.7736,-17.5287 260.5507,-16.5873 260.4105,-15.6497 260.3557,-14.7186 260.3889,-13.7965 260.5122,-12.886 260.7275,-11.9894 261.0362,-11.1093 261.4392,-10.2481 261.9371,-9.4082 262.5301,-8.5918 263.2178,-7.8012 263.9992,-7.0385 264.873,-6.3059 265.8373,-5.6054 266.8898,-4.9388 268.0275,-4.308 269.2471,-3.7147 270.5447,-3.1606 271.9159,-2.6472 273.3561,-2.1759 274.8601,-1.7479 276.4222,-1.3645 278.0364,-1.0266 279.6967,-.7353 281.3962,-.4913 283.1284,-.2953 284.8861,-.1479 286.6622,-.0493 288.4493,0 290.2401,0 292.0272,-.0493\"/>\n",
       "<text text-anchor=\"middle\" x=\"289.3447\" y=\"-13.8\" font-family=\"Calibri\" font-size=\"14.00\" fill=\"#000000\">.</text>\n",
       "</g>\n",
       "<!-- want&#45;&gt;. -->\n",
       "<g id=\"edge6\" class=\"edge\">\n",
       "<title>want&#45;&gt;.</title>\n",
       "<path fill=\"none\" stroke=\"#000000\" d=\"M188.3372,-60.6798C208.6481,-52.0976 236.6138,-40.281 257.9702,-31.257\"/>\n",
       "<polygon fill=\"#000000\" stroke=\"#000000\" points=\"259.4171,-34.4453 267.2663,-27.329 256.6925,-27.9973 259.4171,-34.4453\"/>\n",
       "<text text-anchor=\"middle\" x=\"226.402\" y=\"-54.2\" font-family=\"Calibri\" font-size=\"11.00\" fill=\"#000000\">punct</text>\n",
       "</g>\n",
       "<!-- to -->\n",
       "<g id=\"node3\" class=\"node\">\n",
       "<title>to</title>\n",
       "<polygon fill=\"none\" stroke=\"#000000\" points=\"416.5704,-81.0493 418.3465,-81.1479 420.1042,-81.2953 421.8363,-81.4913 423.5359,-81.7353 425.1962,-82.0266 426.8104,-82.3645 428.3725,-82.7479 429.8765,-83.1759 431.3167,-83.6472 432.6879,-84.1606 433.9855,-84.7147 435.2051,-85.308 436.3428,-85.9388 437.3953,-86.6054 438.3596,-87.3059 439.2334,-88.0385 440.0148,-88.8012 440.7025,-89.5918 441.2954,-90.4082 441.7934,-91.2481 442.1964,-92.1093 442.5051,-92.9894 442.7204,-93.886 442.8437,-94.7965 442.8769,-95.7186 442.8221,-96.6497 442.6818,-97.5873 442.459,-98.5287 442.1566,-99.4713 441.7779,-100.4127 441.3265,-101.3503 440.806,-102.2814 440.2203,-103.2035 439.5732,-104.114 438.8686,-105.0106 438.1104,-105.8907 437.3027,-106.7519 436.4492,-107.5918 435.5538,-108.4082 434.6202,-109.1988 433.6518,-109.9615 432.6523,-110.6941 431.6247,-111.3946 430.5723,-112.0612 429.4978,-112.692 428.404,-113.2853 427.2933,-113.8394 426.168,-114.3528 425.0302,-114.8241 423.8818,-115.2521 422.7244,-115.6355 421.5596,-115.9734 420.3888,-116.2647 419.213,-116.5087 418.0334,-116.7047 416.8509,-116.8521 415.6665,-116.9507 414.4809,-117 413.2949,-117 412.1093,-116.9507 410.9249,-116.8521 409.7424,-116.7047 408.5628,-116.5087 407.387,-116.2647 406.2162,-115.9734 405.0514,-115.6355 403.894,-115.2521 402.7456,-114.8241 401.6078,-114.3528 400.4825,-113.8394 399.3718,-113.2853 398.278,-112.692 397.2035,-112.0612 396.1511,-111.3946 395.1235,-110.6941 394.124,-109.9615 393.1556,-109.1988 392.222,-108.4082 391.3266,-107.5918 390.4731,-106.7519 389.6654,-105.8907 388.9072,-105.0106 388.2026,-104.114 387.5555,-103.2035 386.9698,-102.2814 386.4493,-101.3503 385.9979,-100.4127 385.6192,-99.4713 385.3168,-98.5287 385.094,-97.5873 384.9537,-96.6497 384.8989,-95.7186 384.9321,-94.7965 385.0554,-93.886 385.2707,-92.9894 385.5794,-92.1093 385.9824,-91.2481 386.4804,-90.4082 387.0733,-89.5918 387.761,-88.8012 388.5424,-88.0385 389.4162,-87.3059 390.3805,-86.6054 391.433,-85.9388 392.5707,-85.308 393.7903,-84.7147 395.0879,-84.1606 396.4591,-83.6472 397.8993,-83.1759 399.4033,-82.7479 400.9654,-82.3645 402.5796,-82.0266 404.2399,-81.7353 405.9395,-81.4913 407.6716,-81.2953 409.4293,-81.1479 411.2054,-81.0493 412.9925,-81 414.7833,-81 416.5704,-81.0493\"/>\n",
       "<text text-anchor=\"middle\" x=\"413.8879\" y=\"-94.8\" font-family=\"Calibri\" font-size=\"14.00\" fill=\"#000000\">to</text>\n",
       "</g>\n",
       "<!-- play&#45;&gt;to -->\n",
       "<g id=\"edge3\" class=\"edge\">\n",
       "<title>play&#45;&gt;to</title>\n",
       "<path fill=\"none\" stroke=\"#000000\" d=\"M314.8484,-77.529C332.1805,-81.2865 355.4332,-86.3275 375.0522,-90.5807\"/>\n",
       "<polygon fill=\"#000000\" stroke=\"#000000\" points=\"374.4153,-94.0239 384.9299,-92.7221 375.8984,-87.1828 374.4153,-94.0239\"/>\n",
       "<text text-anchor=\"middle\" x=\"348.3101\" y=\"-90.2\" font-family=\"Calibri\" font-size=\"11.00\" fill=\"#000000\">mark</text>\n",
       "</g>\n",
       "<!-- music -->\n",
       "<g id=\"node5\" class=\"node\">\n",
       "<title>music</title>\n",
       "<polygon fill=\"none\" stroke=\"#0000ff\" points=\"417.1463,-27.0493 419.3037,-27.1479 421.4387,-27.2953 423.5427,-27.4913 425.6072,-27.7353 427.6238,-28.0266 429.5847,-28.3645 431.4821,-28.7479 433.3089,-29.1759 435.0583,-29.6472 436.724,-30.1606 438.3002,-30.7147 439.7816,-31.308 441.1635,-31.9388 442.4419,-32.6054 443.6133,-33.3059 444.6747,-34.0385 445.6238,-34.8012 446.4591,-35.5918 447.1794,-36.4082 447.7843,-37.2481 448.2738,-38.1093 448.6487,-38.9894 448.9102,-39.886 449.06,-40.7965 449.1003,-41.7186 449.0338,-42.6497 448.8634,-43.5873 448.5927,-44.5287 448.2254,-45.4713 447.7654,-46.4127 447.2171,-47.3503 446.5849,-48.2814 445.8734,-49.2035 445.0874,-50.114 444.2315,-51.0106 443.3106,-51.8907 442.3295,-52.7519 441.2928,-53.5918 440.2051,-54.4082 439.071,-55.1988 437.8948,-55.9615 436.6807,-56.6941 435.4325,-57.3946 434.1541,-58.0612 432.849,-58.692 431.5203,-59.2853 430.1712,-59.8394 428.8043,-60.3528 427.4223,-60.8241 426.0273,-61.2521 424.6215,-61.6355 423.2066,-61.9734 421.7844,-62.2647 420.3562,-62.5087 418.9233,-62.7047 417.487,-62.8521 416.0483,-62.9507 414.6082,-63 413.1676,-63 411.7275,-62.9507 410.2888,-62.8521 408.8525,-62.7047 407.4196,-62.5087 405.9914,-62.2647 404.5692,-61.9734 403.1543,-61.6355 401.7485,-61.2521 400.3535,-60.8241 398.9715,-60.3528 397.6046,-59.8394 396.2555,-59.2853 394.9268,-58.692 393.6217,-58.0612 392.3433,-57.3946 391.0951,-56.6941 389.881,-55.9615 388.7048,-55.1988 387.5707,-54.4082 386.483,-53.5918 385.4463,-52.7519 384.4652,-51.8907 383.5443,-51.0106 382.6884,-50.114 381.9024,-49.2035 381.1909,-48.2814 380.5587,-47.3503 380.0104,-46.4127 379.5504,-45.4713 379.1831,-44.5287 378.9124,-43.5873 378.742,-42.6497 378.6755,-41.7186 378.7158,-40.7965 378.8656,-39.886 379.1271,-38.9894 379.502,-38.1093 379.9915,-37.2481 380.5964,-36.4082 381.3167,-35.5918 382.152,-34.8012 383.1011,-34.0385 384.1625,-33.3059 385.3339,-32.6054 386.6123,-31.9388 387.9942,-31.308 389.4756,-30.7147 391.0518,-30.1606 392.7175,-29.6472 394.4669,-29.1759 396.2937,-28.7479 398.1911,-28.3645 400.152,-28.0266 402.1686,-27.7353 404.2331,-27.4913 406.3371,-27.2953 408.4721,-27.1479 410.6295,-27.0493 412.8003,-27 414.9755,-27 417.1463,-27.0493\"/>\n",
       "<text text-anchor=\"middle\" x=\"413.8879\" y=\"-40.8\" font-family=\"Calibri\" font-size=\"14.00\" fill=\"#000000\">music</text>\n",
       "</g>\n",
       "<!-- play&#45;&gt;music -->\n",
       "<g id=\"edge5\" class=\"edge\">\n",
       "<title>play&#45;&gt;music</title>\n",
       "<path fill=\"none\" stroke=\"#000000\" d=\"M317.9174,-65.8057C334.5202,-62.2063 355.6965,-57.6154 373.931,-53.6623\"/>\n",
       "<polygon fill=\"#000000\" stroke=\"#000000\" points=\"374.6795,-57.0815 383.7109,-51.5421 373.1964,-50.2404 374.6795,-57.0815\"/>\n",
       "<text text-anchor=\"middle\" x=\"348.3101\" y=\"-64.2\" font-family=\"Calibri\" font-size=\"11.00\" fill=\"#000000\">obj</text>\n",
       "</g>\n",
       "<!-- ROOT -->\n",
       "<g id=\"node7\" class=\"node\">\n",
       "<title>ROOT</title>\n",
       "<polygon fill=\"none\" stroke=\"#000000\" points=\"41.4783,-54.0493 43.8025,-54.1479 46.1027,-54.2953 48.3694,-54.4913 50.5936,-54.7353 52.7662,-55.0266 54.8787,-55.3645 56.9228,-55.7479 58.8909,-56.1759 60.7756,-56.6472 62.5701,-57.1606 64.2682,-57.7147 65.8642,-58.308 67.353,-58.9388 68.7303,-59.6054 69.9922,-60.3059 71.1357,-61.0385 72.1583,-61.8012 73.0581,-62.5918 73.8341,-63.4082 74.4858,-64.2481 75.0132,-65.1093 75.4171,-65.9894 75.6988,-66.886 75.8602,-67.7965 75.9036,-68.7186 75.8319,-69.6497 75.6484,-70.5873 75.3568,-71.5287 74.961,-72.4713 74.4655,-73.4127 73.8748,-74.3503 73.1937,-75.2814 72.4272,-76.2035 71.5803,-77.114 70.6583,-78.0106 69.6661,-78.8907 68.6091,-79.7519 67.4922,-80.5918 66.3205,-81.4082 65.0987,-82.1988 63.8315,-82.9615 62.5235,-83.6941 61.1788,-84.3946 59.8015,-85.0612 58.3954,-85.692 56.964,-86.2853 55.5105,-86.8394 54.0379,-87.3528 52.549,-87.8241 51.0462,-88.2521 49.5316,-88.6355 48.0073,-88.9734 46.4751,-89.2647 44.9364,-89.5087 43.3928,-89.7047 41.8454,-89.8521 40.2954,-89.9507 38.7439,-90 37.1919,-90 35.6404,-89.9507 34.0904,-89.8521 32.543,-89.7047 30.9993,-89.5087 29.4607,-89.2647 27.9284,-88.9734 26.4041,-88.6355 24.8896,-88.2521 23.3867,-87.8241 21.8978,-87.3528 20.4252,-86.8394 18.9717,-86.2853 17.5403,-85.692 16.1342,-85.0612 14.757,-84.3946 13.4123,-83.6941 12.1042,-82.9615 10.8371,-82.1988 9.6153,-81.4082 8.4435,-80.5918 7.3266,-79.7519 6.2696,-78.8907 5.2775,-78.0106 4.3554,-77.114 3.5085,-76.2035 2.742,-75.2814 2.061,-74.3503 1.4702,-73.4127 .9747,-72.4713 .579,-71.5287 .2873,-70.5873 .1038,-69.6497 .0321,-68.7186 .0755,-67.7965 .2369,-66.886 .5186,-65.9894 .9225,-65.1093 1.45,-64.2481 2.1016,-63.4082 2.8776,-62.5918 3.7775,-61.8012 4.8,-61.0385 5.9435,-60.3059 7.2055,-59.6054 8.5827,-58.9388 10.0716,-58.308 11.6675,-57.7147 13.3656,-57.1606 15.1601,-56.6472 17.0448,-56.1759 19.0129,-55.7479 21.0571,-55.3645 23.1696,-55.0266 25.3422,-54.7353 27.5663,-54.4913 29.8331,-54.2953 32.1332,-54.1479 34.4574,-54.0493 36.7961,-54 39.1396,-54 41.4783,-54.0493\"/>\n",
       "<text text-anchor=\"middle\" x=\"37.9679\" y=\"-67.8\" font-family=\"Calibri\" font-size=\"14.00\" fill=\"#000000\">ROOT</text>\n",
       "</g>\n",
       "<!-- ROOT&#45;&gt;want -->\n",
       "<g id=\"edge2\" class=\"edge\">\n",
       "<title>ROOT&#45;&gt;want</title>\n",
       "<path fill=\"none\" stroke=\"#000000\" d=\"M75.3809,-72C89.7865,-72 106.2972,-72 120.986,-72\"/>\n",
       "<polygon fill=\"#000000\" stroke=\"#000000\" points=\"121.3035,-75.5001 131.3035,-72 121.3034,-68.5001 121.3035,-75.5001\"/>\n",
       "<text text-anchor=\"middle\" x=\"103.413\" y=\"-74.2\" font-family=\"Calibri\" font-size=\"11.00\" fill=\"#000000\">root</text>\n",
       "</g>\n",
       "</g>\n",
       "</svg>\n"
      ],
      "text/plain": [
       "<graphviz.dot.Digraph at 0x1365ae5f8>"
      ]
     },
     "metadata": {},
     "output_type": "display_data"
    }
   ],
   "source": [
    "from sagas.nlu.corenlp_parser import get_chunks\n",
    "from sagas.nlu.rules_meta import build_meta\n",
    "from sagas.nlu.inspector_common import Inspector, Context, non_spaces\n",
    "from sagas.conf.conf import cf\n",
    "from sagas.nlu.utils import fix_sents\n",
    "from sagas.nlu.uni_remote import dep_parse\n",
    "from sagas.nlu.uni_remote_viz import list_contrast, display_doc_deps\n",
    "\n",
    "def parse_sents(data):\n",
    "    sents, source=data['sents'], data['lang']\n",
    "    sents=fix_sents(sents, source)\n",
    "    engine=cf.engine(source)\n",
    "    doc_jsonify, resp = dep_parse(sents, source, engine, ['predicts'])\n",
    "    return doc_jsonify, resp\n",
    "\n",
    "lang='en'\n",
    "data = {'lang': lang, \"sents\": 'I want to play music.', 'engine': cf.engine(lang)}\n",
    "doc_jsonify,resp=parse_sents(data)\n",
    "rs = get_chunks(doc_jsonify)\n",
    "\n",
    "if lang in non_spaces:\n",
    "    delim=''\n",
    "else:\n",
    "    delim=' '\n",
    "for serial, r in enumerate(rs):\n",
    "    meta = build_meta(r, data)\n",
    "    domains=r['domains']\n",
    "    # print([(x[0], x[2]) for x in domains])\n",
    "    #\n",
    "    keys={x[0] for x in domains}\n",
    "    grp=lambda p, idx: [x[idx] for x in domains if x[0]==p]    \n",
    "    tokens={x:grp(x,2) for x in keys}\n",
    "    words={x:delim.join(grp(x,2)) for x in keys}\n",
    "    lemmas={x:delim.join(grp(x,3)) for x in keys}\n",
    "    print('meta keys', meta.keys())\n",
    "    print('tokens', tokens)\n",
    "    print('words', meta['word'], words)\n",
    "    print('lemmas', lemmas)\n",
    "    # \n",
    "    ctx=Context(meta, domains)\n",
    "    # print(ctx.lemmas)\n",
    "    print('chunks', ctx._chunks)\n",
    "    \n",
    "g=display_doc_deps(doc_jsonify, resp)\n",
    "print(*[(w.index, w.text, w.governor, doc_jsonify.words[w.governor-1].text) for w in doc_jsonify.words], sep='\\n')\n",
    "display(g)"
   ]
  },
  {
   "cell_type": "code",
   "execution_count": 23,
   "metadata": {
    "ExecuteTime": {
     "end_time": "2019-12-08T12:45:26.394702Z",
     "start_time": "2019-12-08T12:45:26.384334Z"
    }
   },
   "outputs": [
    {
     "data": {
      "text/plain": [
       "{'index': '1',\n",
       " 'text': 'I',\n",
       " 'lemma': 'I',\n",
       " 'upos': 'PRON',\n",
       " 'xpos': 'PRP',\n",
       " 'feats': 'Case=Nom|Number=Sing|Person=1|PronType=Prs',\n",
       " 'governor': 2,\n",
       " 'dependency_relation': 'nsubj'}"
      ]
     },
     "execution_count": 23,
     "metadata": {},
     "output_type": "execute_result"
    }
   ],
   "source": [
    "doc_jsonify.words[0].ctx"
   ]
  },
  {
   "cell_type": "code",
   "execution_count": 21,
   "metadata": {
    "ExecuteTime": {
     "end_time": "2019-12-08T12:42:35.037350Z",
     "start_time": "2019-12-08T12:42:35.026689Z"
    }
   },
   "outputs": [
    {
     "name": "stdout",
     "output_type": "stream",
     "text": [
      "[\n",
      "  {\n",
      "    \"py/object\": \"sagas.nlu.uni_jsonifier.JsonifyWordImpl\",\n",
      "    \"ctx\": {\n",
      "      \"dependency_relation\": \"nsubj\",\n",
      "      \"feats\": \"Case=Nom|Number=Sing|Person=1|PronType=Prs\",\n",
      "      \"governor\": 2,\n",
      "      \"index\": \"1\",\n",
      "      \"lemma\": \"I\",\n",
      "      \"text\": \"I\",\n",
      "      \"upos\": \"PRON\",\n",
      "      \"xpos\": \"PRP\"\n",
      "    }\n",
      "  },\n",
      "  {\n",
      "    \"py/object\": \"sagas.nlu.uni_jsonifier.JsonifyWordImpl\",\n",
      "    \"ctx\": {\n",
      "      \"dependency_relation\": \"root\",\n",
      "      \"feats\": \"Mood=Ind|Tense=Pres|VerbForm=Fin\",\n",
      "      \"governor\": 0,\n",
      "      \"index\": \"2\",\n",
      "      \"lemma\": \"want\",\n",
      "      \"text\": \"want\",\n",
      "      \"upos\": \"VERB\",\n",
      "      \"xpos\": \"VBP\"\n",
      "    }\n",
      "  },\n",
      "  {\n",
      "    \"py/object\": \"sagas.nlu.uni_jsonifier.JsonifyWordImpl\",\n",
      "    \"ctx\": {\n",
      "      \"dependency_relation\": \"mark\",\n",
      "      \"feats\": \"_\",\n",
      "      \"governor\": 4,\n",
      "      \"index\": \"3\",\n",
      "      \"lemma\": \"to\",\n",
      "      \"text\": \"to\",\n",
      "      \"upos\": \"PART\",\n",
      "      \"xpos\": \"TO\"\n",
      "    }\n",
      "  },\n",
      "  {\n",
      "    \"py/object\": \"sagas.nlu.uni_jsonifier.JsonifyWordImpl\",\n",
      "    \"ctx\": {\n",
      "      \"dependency_relation\": \"xcomp\",\n",
      "      \"feats\": \"VerbForm=Inf\",\n",
      "      \"governor\": 2,\n",
      "      \"index\": \"4\",\n",
      "      \"lemma\": \"play\",\n",
      "      \"text\": \"play\",\n",
      "      \"upos\": \"VERB\",\n",
      "      \"xpos\": \"VB\"\n",
      "    }\n",
      "  },\n",
      "  {\n",
      "    \"py/object\": \"sagas.nlu.uni_jsonifier.JsonifyWordImpl\",\n",
      "    \"ctx\": {\n",
      "      \"dependency_relation\": \"obj\",\n",
      "      \"feats\": \"Number=Sing\",\n",
      "      \"governor\": 4,\n",
      "      \"index\": \"5\",\n",
      "      \"lemma\": \"music\",\n",
      "      \"text\": \"music\",\n",
      "      \"upos\": \"NOUN\",\n",
      "      \"xpos\": \"NN\"\n",
      "    }\n",
      "  },\n",
      "  {\n",
      "    \"py/object\": \"sagas.nlu.uni_jsonifier.JsonifyWordImpl\",\n",
      "    \"ctx\": {\n",
      "      \"dependency_relation\": \"punct\",\n",
      "      \"feats\": \"_\",\n",
      "      \"governor\": 2,\n",
      "      \"index\": \"6\",\n",
      "      \"lemma\": \".\",\n",
      "      \"text\": \".\",\n",
      "      \"upos\": \"PUNCT\",\n",
      "      \"xpos\": \".\"\n",
      "    }\n",
      "  }\n",
      "]\n"
     ]
    }
   ],
   "source": [
    "import jsonpickle\n",
    "print(json.dumps(json.loads(jsonpickle.encode(doc_jsonify.words)), indent=2))"
   ]
  },
  {
   "cell_type": "code",
   "execution_count": 59,
   "metadata": {
    "ExecuteTime": {
     "end_time": "2019-12-08T14:24:55.429965Z",
     "start_time": "2019-12-08T14:24:55.426329Z"
    }
   },
   "outputs": [],
   "source": [
    "# x={'y':'y', 'x':'x'}\n",
    "# x.extend({'z':'z'})"
   ]
  },
  {
   "cell_type": "code",
   "execution_count": 32,
   "metadata": {
    "ExecuteTime": {
     "end_time": "2019-12-08T17:49:30.313414Z",
     "start_time": "2019-12-08T17:49:30.289945Z"
    }
   },
   "outputs": [
    {
     "data": {
      "text/plain": [
       "[{'index': '2',\n",
       "  'text': 'want',\n",
       "  'lemma': 'want',\n",
       "  'upos': 'VERB',\n",
       "  'xpos': 'VBP',\n",
       "  'feats': 'Mood=Ind|Tense=Pres|VerbForm=Fin',\n",
       "  'governor': 0,\n",
       "  'dependency_relation': 'root',\n",
       "  'xcomp': [{'index': '4',\n",
       "    'text': 'play',\n",
       "    'lemma': 'play',\n",
       "    'upos': 'VERB',\n",
       "    'xpos': 'VB',\n",
       "    'feats': 'VerbForm=Inf',\n",
       "    'governor': 2,\n",
       "    'dependency_relation': 'xcomp',\n",
       "    'obj': [{'index': '5',\n",
       "      'text': 'music',\n",
       "      'lemma': 'music',\n",
       "      'upos': 'NOUN',\n",
       "      'xpos': 'NN',\n",
       "      'feats': 'Number=Sing',\n",
       "      'governor': 4,\n",
       "      'dependency_relation': 'obj'}],\n",
       "    'mark': [{'index': '3',\n",
       "      'text': 'to',\n",
       "      'lemma': 'to',\n",
       "      'upos': 'PART',\n",
       "      'xpos': 'TO',\n",
       "      'feats': '_',\n",
       "      'governor': 4,\n",
       "      'dependency_relation': 'mark'}]}],\n",
       "  'nsubj': [{'index': '1',\n",
       "    'text': 'I',\n",
       "    'lemma': 'I',\n",
       "    'upos': 'PRON',\n",
       "    'xpos': 'PRP',\n",
       "    'feats': 'Case=Nom|Number=Sing|Person=1|PronType=Prs',\n",
       "    'governor': 2,\n",
       "    'dependency_relation': 'nsubj'}],\n",
       "  'punct': [{'index': '6',\n",
       "    'text': '.',\n",
       "    'lemma': '.',\n",
       "    'upos': 'PUNCT',\n",
       "    'xpos': '.',\n",
       "    'feats': '_',\n",
       "    'governor': 2,\n",
       "    'dependency_relation': 'punct'}]}]"
      ]
     },
     "execution_count": 32,
     "metadata": {},
     "output_type": "execute_result"
    }
   ],
   "source": [
    "equals=lambda a, b:str(a) == str(b)\n",
    "def children(word, sent):\n",
    "    return filter(lambda w: equals(w.governor, word.index), sent.words)\n",
    "\n",
    "def extract(l):\n",
    "    keys={x['dependency_relation'] for x in l}\n",
    "    grp = lambda p, col: [x[col] for x in l if x['dependency_relation'] == p]\n",
    "    text_chunks={x:delim.join(grp(x, 'text')) for x in keys}\n",
    "    lemma_chunks={x:delim.join(grp(x, 'lemma')) for x in keys}\n",
    "    rs={}\n",
    "    for e in l:\n",
    "        e['text']=text_chunks[e['dependency_relation']]\n",
    "        e['lemma']=lemma_chunks[e['dependency_relation']]\n",
    "        rs[e['dependency_relation']]=e\n",
    "    return rs\n",
    "\n",
    "def group_by(l, field='dependency_relation'):\n",
    "    keys={x[field] for x in l}\n",
    "    grp = lambda p: [x for x in l if x[field] == p]\n",
    "    return {key:grp(key) for key in keys}\n",
    "    \n",
    "def get_verb_domain(sent):\n",
    "    from sagas.nlu.uni_intf import sub_comps\n",
    "    rs = []\n",
    "    \n",
    "    verbs=list(filter(lambda w: w.upos == \"VERB\", sent.words))\n",
    "    if len(verbs)>1:\n",
    "        # filter the verbs which in clausal complement\n",
    "        verbs=[word for word in verbs if word.dependency_relation not in sub_comps]\n",
    "    for word in verbs:\n",
    "        domains = []\n",
    "        stems=[]\n",
    "        for c in filter(lambda w: equals(w.governor, word.index), sent.words):\n",
    "            c_domains=[w.ctx for w in children(c, sent)]\n",
    "            domains.append({**c.ctx, **group_by(c_domains)})\n",
    "           \n",
    "        token={**word.ctx, **group_by(domains)}        \n",
    "        # add governor as head domain     \n",
    "        if word.governor!=0:\n",
    "            head=sent.words[word.governor - 1]  \n",
    "            token['head']=head.ctx\n",
    "        rs.append(token)\n",
    "    return rs\n",
    "\n",
    "v_domains=get_verb_domain(doc_jsonify)\n",
    "v_domains"
   ]
  },
  {
   "cell_type": "code",
   "execution_count": 79,
   "metadata": {
    "ExecuteTime": {
     "end_time": "2019-12-09T10:41:21.614572Z",
     "start_time": "2019-12-09T10:41:21.607210Z"
    }
   },
   "outputs": [],
   "source": [
    "import json_utils\n",
    "json_utils.write_json_to_file('./out/v_domain.json', v_domains[0])"
   ]
  },
  {
   "cell_type": "code",
   "execution_count": 69,
   "metadata": {
    "ExecuteTime": {
     "end_time": "2019-12-08T20:37:33.738265Z",
     "start_time": "2019-12-08T20:37:33.722603Z"
    }
   },
   "outputs": [
    {
     "data": {
      "text/plain": [
       "[{'ref': 'want/want', 'upos': 'verb'},\n",
       " {'ref_xcomp': 'play/play', 'upos': 'verb'},\n",
       " {'ref_xcomp_obj': 'music/music', 'upos': 'noun'}]"
      ]
     },
     "execution_count": 69,
     "metadata": {},
     "output_type": "execute_result"
    }
   ],
   "source": [
    "vd=v_domains[0]\n",
    "top='ref'\n",
    "rs=[]\n",
    "filters=('pron', 'punct', 'part')\n",
    "# filters=()\n",
    "def get_words(domains, top):\n",
    "    upos=domains['upos'].lower()    \n",
    "    word=domains['text']\n",
    "    lemma=domains['lemma']\n",
    "    rel=domains['dependency_relation']\n",
    "    key=f\"{top}\"\n",
    "    if upos not in filters:\n",
    "        rs.append({key:f\"{word}/{lemma}\", 'upos':upos})\n",
    "    for k,v in domains.items():\n",
    "        if isinstance(v, list):\n",
    "            for child in v:                \n",
    "                get_words(child, key+'_'+k)\n",
    "\n",
    "get_words(vd, top)\n",
    "rs"
   ]
  },
  {
   "cell_type": "code",
   "execution_count": 7,
   "metadata": {
    "ExecuteTime": {
     "end_time": "2019-12-08T15:00:42.840680Z",
     "start_time": "2019-12-08T15:00:42.835171Z"
    }
   },
   "outputs": [],
   "source": [
    "# message=v_domains[0]\n",
    "# json.dumps(message, ensure_ascii=False)"
   ]
  },
  {
   "cell_type": "code",
   "execution_count": 23,
   "metadata": {
    "ExecuteTime": {
     "end_time": "2019-12-08T16:06:17.483522Z",
     "start_time": "2019-12-08T16:06:17.458147Z"
    }
   },
   "outputs": [
    {
     "name": "stdout",
     "output_type": "stream",
     "text": [
      "verb matches pat -> want\n",
      "xcomp pat\n",
      "nsubj pat\n"
     ]
    },
    {
     "data": {
      "text/plain": [
       "{'sid': '0', 'id': 'sid-0', '$s': 1, 'matches': True, 'xcomp_play': True}"
      ]
     },
     "execution_count": 23,
     "metadata": {},
     "output_type": "execute_result"
    }
   ],
   "source": [
    "from durable.lang import *\n",
    "from durable.engine import Host\n",
    "\n",
    "def create_host():\n",
    "    import durable.lang as dlang\n",
    "    \n",
    "    host = Host()\n",
    "    ruleset_definitions = {}\n",
    "    for name, rset in dlang._rulesets.items():\n",
    "        full_name, ruleset_definition = rset.define()\n",
    "        ruleset_definitions[full_name] = ruleset_definition\n",
    "\n",
    "    host.register_rulesets(ruleset_definitions)\n",
    "    return host\n",
    "\n",
    "with ruleset('verbs'):\n",
    "    @when_all(m.text.matches('want.*'))\n",
    "    def verb_want(c):\n",
    "        c.s.matches=True\n",
    "        print ('verb matches pat -> {0}'.format(c.m.text))\n",
    "    \n",
    "    @when_all(m.amod_ref.anyItem(item.matches('.*thing.*, entity.*')))\n",
    "    def amod_ref(c):\n",
    "        c.s.amod_ref=True\n",
    "        print ('amod_ref pat -> {0}'.format(c.domains.amod))\n",
    "    \n",
    "    @when_all(m.xcomp.anyItem(item.text.matches('play') & \n",
    "                              item.obj.anyItem(item.text.matches('music'))))\n",
    "    def xcomp_play(c):        \n",
    "        c.s.xcomp_play=True\n",
    "        # print ('xcomp pat -> {0}'.format(c.m.xcomp)) \n",
    "        print ('xcomp pat')\n",
    "    \n",
    "    @when_all(m.nsubj.anyItem(item.text.imatches('I')))\n",
    "    def subj_play(c):        \n",
    "        # print ('xcomp pat -> {0}'.format(c.m.domains.xcomp.text))\n",
    "        print ('nsubj pat')\n",
    "\n",
    "host=create_host()\n",
    "# assert_fact\n",
    "#for v in v_domains:\n",
    "    # print(v)\n",
    "    # r1=host.post('verbs', json.dumps(v, ensure_ascii=False))\n",
    "\n",
    "# v={\"domains\": {\"nsubj\": {\"index\": \"1\", \"text\": \"I\", \"lemma\": \"I\", \"upos\": \"PRON\", \"xpos\": \"PRP\", \"feats\": \"Case=Nom|Number=Sing|Person=1|PronType=Prs\", \"governor\": 2, \"dependency_relation\": \"nsubj\", \"domains\": {}}, \"xcomp\": {\"index\": \"4\", \"text\": \"play\", \"lemma\": \"play\", \"upos\": \"VERB\", \"xpos\": \"VB\", \"feats\": \"VerbForm=Inf\", \"governor\": 2, \"dependency_relation\": \"xcomp\", \"domains\": {\"mark\": {\"index\": \"3\", \"text\": \"to\", \"lemma\": \"to\", \"upos\": \"PART\", \"xpos\": \"TO\", \"feats\": \"_\", \"governor\": 4, \"dependency_relation\": \"mark\"}, \"obj\": {\"index\": \"5\", \"text\": \"music\", \"lemma\": \"music\", \"upos\": \"NOUN\", \"xpos\": \"NN\", \"feats\": \"Number=Sing\", \"governor\": 4, \"dependency_relation\": \"obj\"}}}, \"punct\": {\"index\": \"6\", \"text\": \".\", \"lemma\": \".\", \"upos\": \"PUNCT\", \"xpos\": \".\", \"feats\": \"_\", \"governor\": 2, \"dependency_relation\": \"punct\", \"domains\": {}}}, \"index\": \"2\", \"text\": \"want\", \"lemma\": \"want\", \"upos\": \"VERB\", \"xpos\": \"VBP\", \"feats\": \"Mood=Ind|Tense=Pres|VerbForm=Fin\", \"governor\": 0, \"dependency_relation\": \"root\"}\n",
    "# v={'nsubj': [{'index': '1', 'text': 'I'}],\n",
    "#    \"index\": \"2\", \"text\": \"want\", \"lemma\": \"want\", \"upos\": \"VERB\", \"xpos\": \"VBP\", \"feats\": \"Mood=Ind|Tense=Pres|VerbForm=Fin\", \"governor\": 0, \"dependency_relation\": \"root\"}\n",
    "v=v_domains[0]\n",
    "r1=host.assert_fact('verbs', v)\n",
    "r1"
   ]
  },
  {
   "cell_type": "code",
   "execution_count": 37,
   "metadata": {
    "ExecuteTime": {
     "end_time": "2019-12-08T13:13:46.901844Z",
     "start_time": "2019-12-08T13:13:46.893535Z"
    }
   },
   "outputs": [
    {
     "data": {
      "text/plain": [
       "<JsonifyWordImpl index=2;text=want;lemma=want;upos=VERB;xpos=VBP;feats=Mood=Ind|Tense=Pres|VerbForm=Fin;governor=0;dependency_relation=root>"
      ]
     },
     "execution_count": 37,
     "metadata": {},
     "output_type": "execute_result"
    }
   ],
   "source": [
    "root = next(w for w in doc_jsonify.words if w.dependency_relation in ('root', 'hed'))\n",
    "root"
   ]
  },
  {
   "cell_type": "code",
   "execution_count": 47,
   "metadata": {
    "ExecuteTime": {
     "end_time": "2019-12-08T13:27:27.239606Z",
     "start_time": "2019-12-08T13:27:27.225606Z"
    }
   },
   "outputs": [
    {
     "data": {
      "text/plain": [
       "[('1', 'I', 2, 'want'),\n",
       " ('2', 'want', 0, '.'),\n",
       " ('3', 'to', 4, 'play'),\n",
       " ('4', 'play', 2, 'want'),\n",
       " ('5', 'music', 4, 'play'),\n",
       " ('6', '.', 2, 'want')]"
      ]
     },
     "execution_count": 47,
     "metadata": {},
     "output_type": "execute_result"
    }
   ],
   "source": [
    "[(w.index, w.text, w.governor, doc_jsonify.words[w.governor-1].text) for w in doc_jsonify.words]"
   ]
  },
  {
   "cell_type": "code",
   "execution_count": 40,
   "metadata": {
    "ExecuteTime": {
     "end_time": "2019-12-08T13:15:39.375535Z",
     "start_time": "2019-12-08T13:15:39.367585Z"
    }
   },
   "outputs": [
    {
     "data": {
      "text/plain": [
       "<JsonifyWordImpl index=1;text=I;lemma=I;upos=PRON;xpos=PRP;feats=Case=Nom|Number=Sing|Person=1|PronType=Prs;governor=2;dependency_relation=nsubj>"
      ]
     },
     "execution_count": 40,
     "metadata": {},
     "output_type": "execute_result"
    }
   ],
   "source": [
    "doc_jsonify.words[0]"
   ]
  }
 ],
 "metadata": {
  "kernelspec": {
   "display_name": "Python 3",
   "language": "python",
   "name": "python3"
  },
  "language_info": {
   "codemirror_mode": {
    "name": "ipython",
    "version": 3
   },
   "file_extension": ".py",
   "mimetype": "text/x-python",
   "name": "python",
   "nbconvert_exporter": "python",
   "pygments_lexer": "ipython3",
   "version": "3.6.9"
  },
  "varInspector": {
   "cols": {
    "lenName": 16,
    "lenType": 16,
    "lenVar": 40
   },
   "kernels_config": {
    "python": {
     "delete_cmd_postfix": "",
     "delete_cmd_prefix": "del ",
     "library": "var_list.py",
     "varRefreshCmd": "print(var_dic_list())"
    },
    "r": {
     "delete_cmd_postfix": ") ",
     "delete_cmd_prefix": "rm(",
     "library": "var_list.r",
     "varRefreshCmd": "cat(var_dic_list()) "
    }
   },
   "types_to_exclude": [
    "module",
    "function",
    "builtin_function_or_method",
    "instance",
    "_Feature"
   ],
   "window_display": false
  }
 },
 "nbformat": 4,
 "nbformat_minor": 2
}
