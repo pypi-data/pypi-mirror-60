{
 "cells": [
  {
   "cell_type": "code",
   "execution_count": 59,
   "metadata": {
    "ExecuteTime": {
     "end_time": "2019-12-12T21:03:04.443803Z",
     "start_time": "2019-12-12T21:03:04.436514Z"
    }
   },
   "outputs": [],
   "source": [
    "import nest_asyncio\n",
    "nest_asyncio.apply()"
   ]
  },
  {
   "cell_type": "code",
   "execution_count": 6,
   "metadata": {
    "ExecuteTime": {
     "end_time": "2019-12-10T21:08:58.174855Z",
     "start_time": "2019-12-10T21:08:32.762248Z"
    }
   },
   "outputs": [
    {
     "name": "stdout",
     "output_type": "stream",
     "text": [
      "\u001b[94mTraining NLU model...\u001b[0m\n"
     ]
    },
    {
     "name": "stderr",
     "output_type": "stream",
     "text": [
      "/Users/xiaofeiwu/miniconda3/envs/rasa/lib/python3.6/site-packages/rasa/nlu/training_data/training_data.py:341: UserWarning: Entity 'breakfast-included' has only 1 training examples! minimum is 2, training may fail.\n",
      "  f\"Entity '{entity_type}' has only {count} training examples! \"\n",
      "Epochs: 100%|██████████| 300/300 [00:22<00:00, 14.43it/s, loss=0.812, acc=0.996]\n"
     ]
    },
    {
     "name": "stdout",
     "output_type": "stream",
     "text": [
      "\u001b[94mNLU model training completed.\u001b[0m\n",
      "\u001b[92mYour Rasa model is trained and saved at '/pi/ws/sagas-ai/nlu_multilang/models/en_current.tar.gz'.\u001b[0m\n"
     ]
    },
    {
     "data": {
      "text/plain": [
       "'/pi/ws/sagas-ai/nlu_multilang/models/en_current.tar.gz'"
      ]
     },
     "execution_count": 6,
     "metadata": {},
     "output_type": "execute_result"
    }
   ],
   "source": [
    "from rasa.train import train_nlu, train_async\n",
    "prefix='/pi/ws/sagas-ai/nlu_multilang'\n",
    "train_nlu(\n",
    "    config=f\"{prefix}/config_en.yml\",\n",
    "    nlu_data=f\"{prefix}/en/\",\n",
    "    output=f'{prefix}/models',\n",
    "    fixed_model_name='en_current',\n",
    "    persist_nlu_training_data=True\n",
    ")"
   ]
  },
  {
   "cell_type": "code",
   "execution_count": 43,
   "metadata": {
    "ExecuteTime": {
     "end_time": "2019-12-10T21:59:02.903776Z",
     "start_time": "2019-12-10T21:59:01.615932Z"
    }
   },
   "outputs": [
    {
     "name": "stdout",
     "output_type": "stream",
     "text": [
      "INFO:tensorflow:Restoring parameters from /var/folders/fv/7k1qk5v11dn33sdcngv2wbnm0000gn/T/tmp5weag0vd/nlu/component_6_EmbeddingIntentClassifier.ckpt\n",
      "WARNING:tensorflow:From /Users/xiaofeiwu/miniconda3/envs/rasa/lib/python3.6/site-packages/rasa/utils/train_utils.py:961: The name tf.get_collection is deprecated. Please use tf.compat.v1.get_collection instead.\n",
      "\n"
     ]
    }
   ],
   "source": [
    "from rasa.core.agent import Agent, load_agent\n",
    "# from rasa.nlu.model import Interpreter\n",
    "path='/pi/ws/sagas-ai/nlu_multilang/models/en_current.tar.gz'\n",
    "# interpreter = Interpreter.load(path)\n",
    "agent = Agent.load(path)"
   ]
  },
  {
   "cell_type": "code",
   "execution_count": 54,
   "metadata": {
    "ExecuteTime": {
     "end_time": "2019-12-10T22:10:39.998308Z",
     "start_time": "2019-12-10T22:10:39.994263Z"
    }
   },
   "outputs": [],
   "source": [
    "interpreter=agent.interpreter"
   ]
  },
  {
   "cell_type": "code",
   "execution_count": 57,
   "metadata": {
    "ExecuteTime": {
     "end_time": "2019-12-10T22:11:01.644412Z",
     "start_time": "2019-12-10T22:11:01.631672Z"
    }
   },
   "outputs": [
    {
     "data": {
      "text/plain": [
       "{'intent': {'name': 'greet', 'confidence': 0.9759674668312073},\n",
       " 'entities': [],\n",
       " 'intent_ranking': [{'name': 'greet', 'confidence': 0.9759674668312073},\n",
       "  {'name': 'deny', 'confidence': 0.003993101883679628},\n",
       "  {'name': 'joke', 'confidence': 0.0035071619786322117},\n",
       "  {'name': 'name', 'confidence': 0.003050952684134245},\n",
       "  {'name': 'bot_challenge', 'confidence': 0.0023912435863167048},\n",
       "  {'name': 'thank', 'confidence': 0.0023714040871709585},\n",
       "  {'name': 'request_restaurant', 'confidence': 0.0017789762932807207},\n",
       "  {'name': 'query_knowledge_base', 'confidence': 0.0017731953412294388},\n",
       "  {'name': 'affirm', 'confidence': 0.0013133026659488678},\n",
       "  {'name': 'stop', 'confidence': 0.0009981970069929957}],\n",
       " 'text': 'hi'}"
      ]
     },
     "execution_count": 57,
     "metadata": {},
     "output_type": "execute_result"
    }
   ],
   "source": [
    "text='hi'\n",
    "result = await interpreter.parse(text)\n",
    "result"
   ]
  },
  {
   "cell_type": "code",
   "execution_count": 45,
   "metadata": {
    "ExecuteTime": {
     "end_time": "2019-12-10T22:00:38.476843Z",
     "start_time": "2019-12-10T22:00:38.450010Z"
    }
   },
   "outputs": [
    {
     "name": "stdout",
     "output_type": "stream",
     "text": [
      "{'entities': [],\n",
      " 'intent': {'confidence': 0.15044686198234558, 'name': 'name'},\n",
      " 'intent_ranking': [{'confidence': 0.15044686198234558, 'name': 'name'},\n",
      "                    {'confidence': 0.1345827579498291, 'name': 'inform'},\n",
      "                    {'confidence': 0.0954357162117958, 'name': 'thank'},\n",
      "                    {'confidence': 0.06806426495313644, 'name': 'affirm'},\n",
      "                    {'confidence': 0.06687286496162415,\n",
      "                     'name': 'bot_challenge'},\n",
      "                    {'confidence': 0.06323861330747604, 'name': 'goodbye'},\n",
      "                    {'confidence': 0.061934877187013626, 'name': 'greet'},\n",
      "                    {'confidence': 0.05717906728386879, 'name': 'chitchat'},\n",
      "                    {'confidence': 0.0568377748131752, 'name': 'stop'},\n",
      "                    {'confidence': 0.05530387535691261, 'name': 'deny'}],\n",
      " 'text': 'lunch?'}\n"
     ]
    },
    {
     "name": "stderr",
     "output_type": "stream",
     "text": [
      "/Users/xiaofeiwu/miniconda3/envs/rasa/lib/python3.6/site-packages/rasa/core/processor.py:311: UserWarning: Interpreter parsed an intent 'name' that is not defined in the domain.\n",
      "  f\"Interpreter parsed an intent '{intent}' \"\n"
     ]
    }
   ],
   "source": [
    "# await agent.handle_text(\"hello\")\n",
    "from rasa.core.trackers import DialogueStateTracker\n",
    "from rasa.core.slots import Slot\n",
    "from pprint import pprint\n",
    "\n",
    "tracker = DialogueStateTracker.from_dict(\"1\", [], [Slot(\"requested_language\")])\n",
    "# we'll expect this value 'en' to be part of the result from the interpreter\n",
    "tracker._set_slot(\"requested_language\", \"en\")\n",
    "result = await agent.parse_message_using_nlu_interpreter(\"lunch?\", tracker)\n",
    "pprint(result)"
   ]
  },
  {
   "cell_type": "code",
   "execution_count": 3,
   "metadata": {
    "ExecuteTime": {
     "end_time": "2019-12-20T21:18:56.488334Z",
     "start_time": "2019-12-20T21:18:56.465710Z"
    }
   },
   "outputs": [
    {
     "name": "stdout",
     "output_type": "stream",
     "text": [
      "{'entities': [],\n",
      " 'intent': {'confidence': 0.9759674668, 'name': 'greet'},\n",
      " 'intent_ranking': [{'confidence': 0.9759674668, 'name': 'greet'},\n",
      "                    {'confidence': 0.0039931019, 'name': 'deny'},\n",
      "                    {'confidence': 0.003507162, 'name': 'joke'},\n",
      "                    {'confidence': 0.0030509527, 'name': 'name'},\n",
      "                    {'confidence': 0.0023912436, 'name': 'bot_challenge'},\n",
      "                    {'confidence': 0.0023714041, 'name': 'thank'},\n",
      "                    {'confidence': 0.0017789763, 'name': 'request_restaurant'},\n",
      "                    {'confidence': 0.0017731953,\n",
      "                     'name': 'query_knowledge_base'},\n",
      "                    {'confidence': 0.0013133027, 'name': 'affirm'},\n",
      "                    {'confidence': 0.000998197, 'name': 'stop'}],\n",
      " 'text': 'hi'}\n"
     ]
    }
   ],
   "source": [
    "from rasa.core.trackers import DialogueStateTracker\n",
    "from rasa.core.interpreter import RasaNLUHttpInterpreter\n",
    "from rasa.utils.endpoints import EndpointConfig\n",
    "from rasa.core.slots import Slot\n",
    "from pprint import pprint\n",
    "\n",
    "DEFAULT_SERVER_PORT = 5008\n",
    "DEFAULT_SERVER_FORMAT = \"{}://localhost:{}\"\n",
    "DEFAULT_SERVER_URL = DEFAULT_SERVER_FORMAT.format(\"http\", DEFAULT_SERVER_PORT)\n",
    "\n",
    "async def nlu_parse(url, message):\n",
    "    tracker = DialogueStateTracker.from_dict(\"1\", [], [Slot(\"requested_language\")])\n",
    "    # we'll expect this value 'en' to be part of the result from the interpreter\n",
    "    tracker._set_slot(\"requested_language\", \"en\")\n",
    "    inte=RasaNLUHttpInterpreter(EndpointConfig(url))\n",
    "    result = await inte.parse(message, tracker=tracker)\n",
    "    return result\n",
    "\n",
    "result=await nlu_parse(DEFAULT_SERVER_URL, 'hi')\n",
    "pprint(result)"
   ]
  },
  {
   "cell_type": "code",
   "execution_count": 11,
   "metadata": {
    "ExecuteTime": {
     "end_time": "2019-12-20T21:39:54.011420Z",
     "start_time": "2019-12-20T21:39:53.981483Z"
    }
   },
   "outputs": [
    {
     "name": "stdout",
     "output_type": "stream",
     "text": [
      "{'entities': [], 'intent': {'confidence': 0.0, 'name': ''}, 'text': 'hi'}\n"
     ]
    }
   ],
   "source": [
    "result=await nlu_parse('http://localhost:5009/simulate/en', 'hi')\n",
    "pprint(result)"
   ]
  },
  {
   "cell_type": "code",
   "execution_count": 12,
   "metadata": {
    "ExecuteTime": {
     "end_time": "2019-12-20T21:48:17.894797Z",
     "start_time": "2019-12-20T21:48:09.726659Z"
    }
   },
   "outputs": [
    {
     "name": "stdout",
     "output_type": "stream",
     "text": [
      "{'entities': [],\n",
      " 'intent': {'confidence': 0.9759674668, 'name': 'greet'},\n",
      " 'intent_ranking': [{'confidence': 0.9759674668, 'name': 'greet'},\n",
      "                    {'confidence': 0.0039931019, 'name': 'deny'},\n",
      "                    {'confidence': 0.003507162, 'name': 'joke'},\n",
      "                    {'confidence': 0.0030509527, 'name': 'name'},\n",
      "                    {'confidence': 0.0023912436, 'name': 'bot_challenge'},\n",
      "                    {'confidence': 0.0023714041, 'name': 'thank'},\n",
      "                    {'confidence': 0.0017789763, 'name': 'request_restaurant'},\n",
      "                    {'confidence': 0.0017731953,\n",
      "                     'name': 'query_knowledge_base'},\n",
      "                    {'confidence': 0.0013133027, 'name': 'affirm'},\n",
      "                    {'confidence': 0.000998197, 'name': 'stop'}],\n",
      " 'text': 'hi'}\n"
     ]
    }
   ],
   "source": [
    "result=await nlu_parse('http://localhost:5009/nlu/en', 'hi')\n",
    "pprint(result)"
   ]
  },
  {
   "cell_type": "code",
   "execution_count": 14,
   "metadata": {
    "ExecuteTime": {
     "end_time": "2019-12-10T21:19:18.628971Z",
     "start_time": "2019-12-10T21:19:18.575210Z"
    }
   },
   "outputs": [],
   "source": [
    "?os.listdir"
   ]
  },
  {
   "cell_type": "code",
   "execution_count": 17,
   "metadata": {
    "ExecuteTime": {
     "end_time": "2019-12-10T21:21:38.580261Z",
     "start_time": "2019-12-10T21:21:38.570429Z"
    }
   },
   "outputs": [
    {
     "data": {
      "text/plain": [
       "['/pi/ws/sagas-ai/nlu_multilang/en/knowledgebase.md',\n",
       " '/pi/ws/sagas-ai/nlu_multilang/en/common.md',\n",
       " '/pi/ws/sagas-ai/nlu_multilang/en/nlu_data.md']"
      ]
     },
     "execution_count": 17,
     "metadata": {},
     "output_type": "execute_result"
    }
   ],
   "source": [
    "import io_utils\n",
    "io_utils.list_files(f\"{prefix}/en/\")"
   ]
  },
  {
   "cell_type": "code",
   "execution_count": 60,
   "metadata": {
    "ExecuteTime": {
     "end_time": "2019-12-12T21:03:17.816262Z",
     "start_time": "2019-12-12T21:03:17.800912Z"
    }
   },
   "outputs": [
    {
     "name": "stdout",
     "output_type": "stream",
     "text": [
      "{'de': 1566114480.0, 'en': 1576014032.2032847, 'es': 1566285239.0, 'fr': 1576183805.222966, 'ru': 1566288205.0, 'corpus': 1576184112.656068}\n"
     ]
    }
   ],
   "source": [
    "# import os\n",
    "import time\n",
    "import json_utils\n",
    "\n",
    "mods=('de', 'en', 'es', 'fr', 'ru', 'corpus')\n",
    "\n",
    "def get_timestamps():\n",
    "    last_timestamps={}\n",
    "    for mod in mods:\n",
    "        folder = f\"{prefix}/{mod}/\"\n",
    "        # print(folder)\n",
    "        # print(os.listdir(folder))\n",
    "        files = [(f, os.path.getmtime(f)) for f in io_utils.list_files(folder) \n",
    "                        if os.path.isfile(f)]\n",
    "        # print(len(files))\n",
    "        files = sorted(files, key=lambda x: x[1], reverse=True)\n",
    "        last_modified_file = None if len(files) == 0 else files[0][0]\n",
    "        if last_modified_file is not None:\n",
    "            mark=os.path.getmtime(last_modified_file)\n",
    "            # print(last_modified_file, mark)\n",
    "            last_timestamps[mod]=mark\n",
    "    return last_timestamps\n",
    "\n",
    "last_timestamps=get_timestamps()\n",
    "print(last_timestamps)\n",
    "json_utils.write_json_to_file('./nlu_multilang/last_timestamps.json', last_timestamps)"
   ]
  },
  {
   "cell_type": "code",
   "execution_count": 40,
   "metadata": {
    "ExecuteTime": {
     "end_time": "2019-12-10T21:49:04.762737Z",
     "start_time": "2019-12-10T21:49:04.752193Z"
    }
   },
   "outputs": [
    {
     "name": "stdout",
     "output_type": "stream",
     "text": [
      "['en', 'corpus']\n"
     ]
    }
   ],
   "source": [
    "before=json_utils.read_json_file('./nlu_multilang/last_timestamps.json')\n",
    "current=get_timestamps()\n",
    "modified=[]\n",
    "for item in current:\n",
    "    if current[item]-before[item]>1:\n",
    "        modified.append(item)\n",
    "print(modified)"
   ]
  },
  {
   "cell_type": "code",
   "execution_count": 24,
   "metadata": {
    "ExecuteTime": {
     "end_time": "2019-12-10T21:25:51.508316Z",
     "start_time": "2019-12-10T21:25:51.499295Z"
    }
   },
   "outputs": [
    {
     "data": {
      "text/plain": [
       "-34.68090867996216"
      ]
     },
     "execution_count": 24,
     "metadata": {},
     "output_type": "execute_result"
    }
   ],
   "source": [
    "t=os.path.getmtime(last_modified_file)\n",
    "t-time.time()"
   ]
  },
  {
   "cell_type": "code",
   "execution_count": null,
   "metadata": {},
   "outputs": [],
   "source": []
  },
  {
   "cell_type": "code",
   "execution_count": 4,
   "metadata": {
    "ExecuteTime": {
     "end_time": "2019-12-10T21:01:47.395394Z",
     "start_time": "2019-12-10T21:01:22.914922Z"
    }
   },
   "outputs": [
    {
     "name": "stdout",
     "output_type": "stream",
     "text": [
      "\u001b[94mTraining NLU model...\u001b[0m\n"
     ]
    },
    {
     "name": "stderr",
     "output_type": "stream",
     "text": [
      "/Users/xiaofeiwu/miniconda3/envs/rasa/lib/python3.6/site-packages/rasa/nlu/training_data/training_data.py:341: UserWarning: Entity 'breakfast-included' has only 1 training examples! minimum is 2, training may fail.\n",
      "  f\"Entity '{entity_type}' has only {count} training examples! \"\n",
      "Epochs: 100%|██████████| 300/300 [00:21<00:00, 14.79it/s, loss=0.670, acc=0.998]\n"
     ]
    },
    {
     "name": "stdout",
     "output_type": "stream",
     "text": [
      "\u001b[94mNLU model training completed.\u001b[0m\n"
     ]
    },
    {
     "name": "stderr",
     "output_type": "stream",
     "text": [
      "/Users/xiaofeiwu/miniconda3/envs/rasa/lib/python3.6/site-packages/rasa/importers/rasa.py:70: UserWarning: Loading domain from '{}' failed. Using empty domain. Error: 'No domain file was specified. Please specify a path to a valid domain file.'\n",
      "  f\"Loading domain from '{self._domain_path}' failed. Using \"\n"
     ]
    },
    {
     "name": "stdout",
     "output_type": "stream",
     "text": [
      "\u001b[92mYour Rasa model is trained and saved at '/pi/ws/sagas-ai/nlu_multilang/models/en_current.tar.gz'.\u001b[0m\n",
      "\u001b[93mCore training was skipped because no valid domain file was found. Only an nlu-model was created.Please specify a valid domain using '--domain' argument or check if the provided domain file exists.\u001b[0m\n"
     ]
    },
    {
     "data": {
      "text/plain": [
       "'/pi/ws/sagas-ai/nlu_multilang/models/en_current.tar.gz'"
      ]
     },
     "execution_count": 4,
     "metadata": {},
     "output_type": "execute_result"
    }
   ],
   "source": [
    "await train_async(\n",
    "        domain={},\n",
    "        config=f\"{prefix}/config_en.yml\",\n",
    "        training_files=f\"{prefix}/en/\",\n",
    "        output_path=f'{prefix}/models',\n",
    "        fixed_model_name='en_current',\n",
    "    )"
   ]
  },
  {
   "cell_type": "code",
   "execution_count": null,
   "metadata": {},
   "outputs": [],
   "source": []
  }
 ],
 "metadata": {
  "kernelspec": {
   "display_name": "Python 3",
   "language": "python",
   "name": "python3"
  },
  "language_info": {
   "codemirror_mode": {
    "name": "ipython",
    "version": 3
   },
   "file_extension": ".py",
   "mimetype": "text/x-python",
   "name": "python",
   "nbconvert_exporter": "python",
   "pygments_lexer": "ipython3",
   "version": "3.6.9"
  },
  "varInspector": {
   "cols": {
    "lenName": 16,
    "lenType": 16,
    "lenVar": 40
   },
   "kernels_config": {
    "python": {
     "delete_cmd_postfix": "",
     "delete_cmd_prefix": "del ",
     "library": "var_list.py",
     "varRefreshCmd": "print(var_dic_list())"
    },
    "r": {
     "delete_cmd_postfix": ") ",
     "delete_cmd_prefix": "rm(",
     "library": "var_list.r",
     "varRefreshCmd": "cat(var_dic_list()) "
    }
   },
   "types_to_exclude": [
    "module",
    "function",
    "builtin_function_or_method",
    "instance",
    "_Feature"
   ],
   "window_display": false
  }
 },
 "nbformat": 4,
 "nbformat_minor": 2
}
