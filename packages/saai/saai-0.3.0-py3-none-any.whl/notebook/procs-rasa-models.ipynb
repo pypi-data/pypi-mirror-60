{
 "cells": [
  {
   "cell_type": "markdown",
   "metadata": {},
   "source": [
    "+ see also: rasa-1.x/rasa/tests/test_server.py"
   ]
  },
  {
   "cell_type": "code",
   "execution_count": 4,
   "metadata": {
    "ExecuteTime": {
     "end_time": "2019-11-26T16:26:24.697955Z",
     "start_time": "2019-11-26T16:26:24.675894Z"
    }
   },
   "outputs": [
    {
     "name": "stdout",
     "output_type": "stream",
     "text": [
      "{'entities': [],\n",
      " 'intent': {'confidence': 0.9919066429, 'name': 'greet'},\n",
      " 'intent_ranking': [{'confidence': 0.9919066429, 'name': 'greet'},\n",
      "                    {'confidence': 0.0020090085, 'name': 'joke'},\n",
      "                    {'confidence': 0.0016536711, 'name': 'stop'},\n",
      "                    {'confidence': 0.0009259285, 'name': 'name'},\n",
      "                    {'confidence': 0.0007442092, 'name': 'thank'},\n",
      "                    {'confidence': 0.0007113755, 'name': 'affirm'},\n",
      "                    {'confidence': 0.0006669206, 'name': 'inform'},\n",
      "                    {'confidence': 0.0004856758, 'name': 'goodbye'},\n",
      "                    {'confidence': 0.0004138379, 'name': 'request_restaurant'},\n",
      "                    {'confidence': 0.0002403269, 'name': 'deny'}],\n",
      " 'text': 'hi'}\n"
     ]
    }
   ],
   "source": [
    "import requests\n",
    "from pprint import pprint\n",
    "port=2000\n",
    "\n",
    "headers = {'content-type': 'application/json'}\n",
    "url=f\"http://localhost:{port}/model/parse\"\n",
    "result = requests.post(url, headers=headers, json={'text':'hi'})\n",
    "pprint(result.json())"
   ]
  },
  {
   "cell_type": "code",
   "execution_count": 14,
   "metadata": {
    "ExecuteTime": {
     "end_time": "2019-11-26T16:38:56.402220Z",
     "start_time": "2019-11-26T16:38:56.370138Z"
    }
   },
   "outputs": [
    {
     "name": "stdout",
     "output_type": "stream",
     "text": [
      "200\n",
      "{'fingerprint': {'config': '99914b932bd37a50b983c5e7c90ae93b',\n",
      "                 'core-config': '99914b932bd37a50b983c5e7c90ae93b',\n",
      "                 'domain': 1056875427435097886,\n",
      "                 'messages': 54521676133205181,\n",
      "                 'nlu-config': '54f9f0d09afc32ac311a8833455f7672',\n",
      "                 'stories': 751098818652394202,\n",
      "                 'trained_at': 1574424005.7616158,\n",
      "                 'version': '1.4.5'},\n",
      " 'model_file': 'models/ru_current.tar.gz',\n",
      " 'num_active_training_jobs': 0}\n"
     ]
    }
   ],
   "source": [
    "url=f\"http://localhost:{port}/status\"\n",
    "response = requests.get(url)\n",
    "print(response.status_code)\n",
    "pprint(response.json())"
   ]
  },
  {
   "cell_type": "code",
   "execution_count": 16,
   "metadata": {
    "ExecuteTime": {
     "end_time": "2019-11-26T16:42:17.278021Z",
     "start_time": "2019-11-26T16:42:15.781640Z"
    }
   },
   "outputs": [
    {
     "name": "stdout",
     "output_type": "stream",
     "text": [
      "204\n"
     ]
    }
   ],
   "source": [
    "data = {\"model_file\": '/pi/ws/sagas-ai/nlu_multilang/models/de_current.tar.gz'}\n",
    "url=f\"http://localhost:{port}/model\"\n",
    "response = requests.put(url, json=data)\n",
    "# assert response.status == 204\n",
    "print(response.status_code)"
   ]
  },
  {
   "cell_type": "code",
   "execution_count": 18,
   "metadata": {
    "ExecuteTime": {
     "end_time": "2019-11-26T16:44:15.697198Z",
     "start_time": "2019-11-26T16:44:15.529684Z"
    }
   },
   "outputs": [
    {
     "name": "stdout",
     "output_type": "stream",
     "text": [
      "{'entities': [{'confidence': None,\n",
      "               'end': 8,\n",
      "               'entity': 'LOC',\n",
      "               'extractor': 'SpacyEntityExtractor',\n",
      "               'start': 0,\n",
      "               'value': 'Shenzhen'},\n",
      "              {'confidence': None,\n",
      "               'end': 31,\n",
      "               'entity': 'LOC',\n",
      "               'extractor': 'SpacyEntityExtractor',\n",
      "               'start': 17,\n",
      "               'value': 'Silicon Valley'},\n",
      "              {'confidence': None,\n",
      "               'end': 51,\n",
      "               'entity': 'LOC',\n",
      "               'extractor': 'SpacyEntityExtractor',\n",
      "               'start': 36,\n",
      "               'value': 'Hardware-Firmen'}],\n",
      " 'intent': {'confidence': 0.9589396119, 'name': 'tech'},\n",
      " 'intent_ranking': [{'confidence': 0.9589396119, 'name': 'tech'},\n",
      "                    {'confidence': 0.0122672515, 'name': 'deny'},\n",
      "                    {'confidence': 0.0054883296, 'name': 'affirm'},\n",
      "                    {'confidence': 0.0047905864, 'name': 'stop'},\n",
      "                    {'confidence': 0.0039878595, 'name': 'context_indicator'},\n",
      "                    {'confidence': 0.0036293601, 'name': 'about_date'},\n",
      "                    {'confidence': 0.0032913412, 'name': 'farewell'},\n",
      "                    {'confidence': 0.0030191068, 'name': 'time_indicator'},\n",
      "                    {'confidence': 0.0022550472, 'name': 'using'},\n",
      "                    {'confidence': 0.001213626, 'name': 'greet'}],\n",
      " 'text': 'Shenzhen ist das Silicon Valley für Hardware-Firmen'}\n"
     ]
    }
   ],
   "source": [
    "from saai.runner import invoke_nlu\n",
    "url=f\"http://localhost:{port}/model/parse\"\n",
    "sents=\"Shenzhen ist das Silicon Valley für Hardware-Firmen\"\n",
    "r=invoke_nlu(url, sents)\n",
    "if r is not None:\n",
    "    pprint(r)"
   ]
  }
 ],
 "metadata": {
  "kernelspec": {
   "display_name": "Python 3",
   "language": "python",
   "name": "python3"
  },
  "language_info": {
   "codemirror_mode": {
    "name": "ipython",
    "version": 3
   },
   "file_extension": ".py",
   "mimetype": "text/x-python",
   "name": "python",
   "nbconvert_exporter": "python",
   "pygments_lexer": "ipython3",
   "version": "3.6.9"
  },
  "varInspector": {
   "cols": {
    "lenName": 16,
    "lenType": 16,
    "lenVar": 40
   },
   "kernels_config": {
    "python": {
     "delete_cmd_postfix": "",
     "delete_cmd_prefix": "del ",
     "library": "var_list.py",
     "varRefreshCmd": "print(var_dic_list())"
    },
    "r": {
     "delete_cmd_postfix": ") ",
     "delete_cmd_prefix": "rm(",
     "library": "var_list.r",
     "varRefreshCmd": "cat(var_dic_list()) "
    }
   },
   "types_to_exclude": [
    "module",
    "function",
    "builtin_function_or_method",
    "instance",
    "_Feature"
   ],
   "window_display": false
  }
 },
 "nbformat": 4,
 "nbformat_minor": 2
}
