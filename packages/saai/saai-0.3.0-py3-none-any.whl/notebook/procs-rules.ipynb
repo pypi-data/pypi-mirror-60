{
 "cells": [
  {
   "cell_type": "code",
   "execution_count": 3,
   "metadata": {
    "ExecuteTime": {
     "end_time": "2019-11-26T14:40:58.852138Z",
     "start_time": "2019-11-26T14:40:58.248308Z"
    }
   },
   "outputs": [
    {
     "name": "stdout",
     "output_type": "stream",
     "text": [
      ".. request is {'lang': 'de', 'sents': 'Shenzhen ist das Silicon Valley für Hardware-Firmen'}\n",
      "2019-11-26 22:40:58,605 - root - DEBUG - type=aux_domains\n",
      "2019-11-26 22:40:58,606 - root - DEBUG - word=ist\n",
      "2019-11-26 22:40:58,607 - root - DEBUG - lemma=sein\n",
      "2019-11-26 22:40:58,610 - root - DEBUG - rel=cop\n",
      "2019-11-26 22:40:58,613 - root - DEBUG - governor=4\n",
      "2019-11-26 22:40:58,615 - root - DEBUG - head=Silicon\n",
      "2019-11-26 22:40:58,617 - root - DEBUG - head_pos=propn\n",
      "2019-11-26 22:40:58,619 - root - DEBUG - delegator=False\n",
      "2019-11-26 22:40:58,622 - root - DEBUG - index=2\n",
      "2019-11-26 22:40:58,624 - root - DEBUG - stems=[['nsubj', ['Shenzhen']], ['cop', ['sein']], ['det', ['der']], ['flat', ['Valley']], ['nmod', ['für', 'Hardware', '-', 'Firma']], ['punct', ['.']]]\n"
     ]
    },
    {
     "data": {
      "text/html": [
       "<div>\n",
       "<style scoped>\n",
       "    .dataframe tbody tr th:only-of-type {\n",
       "        vertical-align: middle;\n",
       "    }\n",
       "\n",
       "    .dataframe tbody tr th {\n",
       "        vertical-align: top;\n",
       "    }\n",
       "\n",
       "    .dataframe thead th {\n",
       "        text-align: right;\n",
       "    }\n",
       "</style>\n",
       "<table border=\"1\" class=\"dataframe\">\n",
       "  <thead>\n",
       "    <tr style=\"text-align: right;\">\n",
       "      <th></th>\n",
       "      <th>rel</th>\n",
       "      <th>index</th>\n",
       "      <th>text</th>\n",
       "      <th>lemma</th>\n",
       "      <th>children</th>\n",
       "      <th>features</th>\n",
       "    </tr>\n",
       "  </thead>\n",
       "  <tbody>\n",
       "    <tr>\n",
       "      <th>0</th>\n",
       "      <td>nsubj</td>\n",
       "      <td>1</td>\n",
       "      <td>Shenzhen</td>\n",
       "      <td>Shenzhen</td>\n",
       "      <td>[Shenzhen]</td>\n",
       "      <td>[c_propn, x_ne]</td>\n",
       "    </tr>\n",
       "    <tr>\n",
       "      <th>1</th>\n",
       "      <td>cop</td>\n",
       "      <td>2</td>\n",
       "      <td>ist</td>\n",
       "      <td>sein</td>\n",
       "      <td>[ist]</td>\n",
       "      <td>[c_aux, x_vafin]</td>\n",
       "    </tr>\n",
       "    <tr>\n",
       "      <th>2</th>\n",
       "      <td>det</td>\n",
       "      <td>3</td>\n",
       "      <td>das</td>\n",
       "      <td>der</td>\n",
       "      <td>[das]</td>\n",
       "      <td>[c_det, x_art]</td>\n",
       "    </tr>\n",
       "    <tr>\n",
       "      <th>3</th>\n",
       "      <td>flat</td>\n",
       "      <td>5</td>\n",
       "      <td>Valley</td>\n",
       "      <td>Valley</td>\n",
       "      <td>[Valley]</td>\n",
       "      <td>[c_propn, x_ne]</td>\n",
       "    </tr>\n",
       "    <tr>\n",
       "      <th>4</th>\n",
       "      <td>nmod</td>\n",
       "      <td>9</td>\n",
       "      <td>Firmen</td>\n",
       "      <td>Firma</td>\n",
       "      <td>[für, Hardware, -, Firmen]</td>\n",
       "      <td>[c_noun, x_nn]</td>\n",
       "    </tr>\n",
       "    <tr>\n",
       "      <th>5</th>\n",
       "      <td>punct</td>\n",
       "      <td>10</td>\n",
       "      <td>.</td>\n",
       "      <td>.</td>\n",
       "      <td>[.]</td>\n",
       "      <td>[c_punct, x_$.]</td>\n",
       "    </tr>\n",
       "  </tbody>\n",
       "</table>\n",
       "</div>"
      ],
      "text/plain": [
       "     rel index      text     lemma                    children  \\\n",
       "0  nsubj     1  Shenzhen  Shenzhen                  [Shenzhen]   \n",
       "1    cop     2       ist      sein                       [ist]   \n",
       "2    det     3       das       der                       [das]   \n",
       "3   flat     5    Valley    Valley                    [Valley]   \n",
       "4   nmod     9    Firmen     Firma  [für, Hardware, -, Firmen]   \n",
       "5  punct    10         .         .                         [.]   \n",
       "\n",
       "           features  \n",
       "0   [c_propn, x_ne]  \n",
       "1  [c_aux, x_vafin]  \n",
       "2    [c_det, x_art]  \n",
       "3   [c_propn, x_ne]  \n",
       "4    [c_noun, x_nn]  \n",
       "5   [c_punct, x_$.]  "
      ]
     },
     "metadata": {},
     "output_type": "display_data"
    },
    {
     "name": "stdout",
     "output_type": "stream",
     "text": [
      "2019-11-26 22:40:58,834 - inspector - INFO - Shenzhen ist das Silicon Valley für Hardware-Firmen(tech) -> 0.974656, with entities LOC\n",
      "\u001b[31m✔ entire with pos is ins_rasa for (tech): True\u001b[0m\n",
      ".. results\n",
      "['ins_rasa/default/Shenzhen ist das Silicon Valley für Hardware-Firmen']\n"
     ]
    },
    {
     "data": {
      "text/plain": [
       "{'ins_rasa/default/...': {'intent': 'tech', 'confidence': 0.9746562838554382}}"
      ]
     },
     "metadata": {},
     "output_type": "display_data"
    }
   ],
   "source": [
    "from sagas.tracker_jupyter import enable_jupyter_tracker\n",
    "enable_jupyter_tracker()\n",
    "\n",
    "def dynamic_rule(data, rule_str):\n",
    "    from sagas.nlu.inspectors import InspectorFixture\n",
    "    from sagas.nlu.inspectors import NegativeWordInspector as negative\n",
    "    from sagas.nlu.inspectors import DateInspector as dateins\n",
    "    from sagas.nlu.inspectors import EntityInspector as entins\n",
    "    from sagas.nlu.inspector_wordnet import PredicateWordInspector as kindof\n",
    "    from sagas.nlu.inspector_wordnet import VerbInspector as behaveof\n",
    "    from sagas.nlu.inspector_rasa import RasaInspector as intentof\n",
    "\n",
    "    from sagas.nlu.patterns import Patterns, print_result\n",
    "\n",
    "    ft=InspectorFixture()\n",
    "    domains, meta=ft.request_domains(data)\n",
    "    agency = ['c_pron', 'c_noun']\n",
    "    rs=eval(f\"[Patterns(domains, meta, 5).{rule_str}]\")\n",
    "    print_result(rs)\n",
    "\n",
    "data = {'lang': 'de', \"sents\": 'Shenzhen ist das Silicon Valley für Hardware-Firmen'}\n",
    "dynamic_rule(data, \"entire(intentof('tech', 0.6, True))\")"
   ]
  },
  {
   "cell_type": "code",
   "execution_count": 5,
   "metadata": {
    "ExecuteTime": {
     "end_time": "2019-11-26T14:42:07.347822Z",
     "start_time": "2019-11-26T14:42:07.122326Z"
    }
   },
   "outputs": [
    {
     "name": "stdout",
     "output_type": "stream",
     "text": [
      ".. request is {'lang': 'en', 'sents': 'They read these newspapers.'}\n",
      "2019-11-26 22:42:07,251 - root - DEBUG - type=verb_domains\n",
      "2019-11-26 22:42:07,252 - root - DEBUG - word=read\n",
      "2019-11-26 22:42:07,253 - root - DEBUG - lemma=read\n",
      "2019-11-26 22:42:07,255 - root - DEBUG - index=2\n",
      "2019-11-26 22:42:07,258 - root - DEBUG - upos=verb\n",
      "2019-11-26 22:42:07,261 - root - DEBUG - xpos=vbd\n",
      "2019-11-26 22:42:07,265 - root - DEBUG - rel=root\n",
      "2019-11-26 22:42:07,267 - root - DEBUG - governor=0\n",
      "2019-11-26 22:42:07,276 - root - DEBUG - stems=[['nsubj', ['they']], ['obj', ['these', 'newspaper']], ['punct', ['.']]]\n"
     ]
    },
    {
     "data": {
      "text/html": [
       "<div>\n",
       "<style scoped>\n",
       "    .dataframe tbody tr th:only-of-type {\n",
       "        vertical-align: middle;\n",
       "    }\n",
       "\n",
       "    .dataframe tbody tr th {\n",
       "        vertical-align: top;\n",
       "    }\n",
       "\n",
       "    .dataframe thead th {\n",
       "        text-align: right;\n",
       "    }\n",
       "</style>\n",
       "<table border=\"1\" class=\"dataframe\">\n",
       "  <thead>\n",
       "    <tr style=\"text-align: right;\">\n",
       "      <th></th>\n",
       "      <th>rel</th>\n",
       "      <th>index</th>\n",
       "      <th>text</th>\n",
       "      <th>lemma</th>\n",
       "      <th>children</th>\n",
       "      <th>features</th>\n",
       "    </tr>\n",
       "  </thead>\n",
       "  <tbody>\n",
       "    <tr>\n",
       "      <th>0</th>\n",
       "      <td>nsubj</td>\n",
       "      <td>1</td>\n",
       "      <td>They</td>\n",
       "      <td>they</td>\n",
       "      <td>[They]</td>\n",
       "      <td>[c_pron, x_prp]</td>\n",
       "    </tr>\n",
       "    <tr>\n",
       "      <th>1</th>\n",
       "      <td>obj</td>\n",
       "      <td>4</td>\n",
       "      <td>newspapers</td>\n",
       "      <td>newspaper</td>\n",
       "      <td>[these, newspapers]</td>\n",
       "      <td>[c_noun, x_nns]</td>\n",
       "    </tr>\n",
       "    <tr>\n",
       "      <th>2</th>\n",
       "      <td>punct</td>\n",
       "      <td>5</td>\n",
       "      <td>.</td>\n",
       "      <td>.</td>\n",
       "      <td>[.]</td>\n",
       "      <td>[c_punct, x_.]</td>\n",
       "    </tr>\n",
       "  </tbody>\n",
       "</table>\n",
       "</div>"
      ],
      "text/plain": [
       "     rel index        text      lemma             children         features\n",
       "0  nsubj     1        They       they               [They]  [c_pron, x_prp]\n",
       "1    obj     4  newspapers  newspaper  [these, newspapers]  [c_noun, x_nns]\n",
       "2  punct     5           .          .                  [.]   [c_punct, x_.]"
      ]
     },
     "metadata": {},
     "output_type": "display_data"
    },
    {
     "name": "stdout",
     "output_type": "stream",
     "text": [
      "\u001b[31m✔ verb with nsubj is ['c_pron', 'c_noun']: True, obj is kind_of(print_media/artifact,n): True\u001b[0m\n"
     ]
    }
   ],
   "source": [
    "data = {'lang': 'en', \"sents\": 'They read these newspapers.'}\n",
    "dynamic_rule(data, \"verb(nsubj=agency, obj=kindof('print_media/artifact', 'n'))\")"
   ]
  }
 ],
 "metadata": {
  "kernelspec": {
   "display_name": "Python 3",
   "language": "python",
   "name": "python3"
  },
  "language_info": {
   "codemirror_mode": {
    "name": "ipython",
    "version": 3
   },
   "file_extension": ".py",
   "mimetype": "text/x-python",
   "name": "python",
   "nbconvert_exporter": "python",
   "pygments_lexer": "ipython3",
   "version": "3.6.9"
  },
  "varInspector": {
   "cols": {
    "lenName": 16,
    "lenType": 16,
    "lenVar": 40
   },
   "kernels_config": {
    "python": {
     "delete_cmd_postfix": "",
     "delete_cmd_prefix": "del ",
     "library": "var_list.py",
     "varRefreshCmd": "print(var_dic_list())"
    },
    "r": {
     "delete_cmd_postfix": ") ",
     "delete_cmd_prefix": "rm(",
     "library": "var_list.r",
     "varRefreshCmd": "cat(var_dic_list()) "
    }
   },
   "types_to_exclude": [
    "module",
    "function",
    "builtin_function_or_method",
    "instance",
    "_Feature"
   ],
   "window_display": false
  }
 },
 "nbformat": 4,
 "nbformat_minor": 2
}
