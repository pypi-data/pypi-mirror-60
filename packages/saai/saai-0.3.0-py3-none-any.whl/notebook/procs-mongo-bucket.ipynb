{
 "cells": [
  {
   "cell_type": "code",
   "execution_count": 1,
   "metadata": {
    "ExecuteTime": {
     "end_time": "2019-12-18T11:00:37.149165Z",
     "start_time": "2019-12-18T11:00:37.029571Z"
    }
   },
   "outputs": [],
   "source": [
    "from pymongo import MongoClient\n",
    "client = MongoClient(port=27017)"
   ]
  },
  {
   "cell_type": "code",
   "execution_count": 6,
   "metadata": {
    "ExecuteTime": {
     "end_time": "2019-12-18T11:13:23.434254Z",
     "start_time": "2019-12-18T11:13:23.429938Z"
    }
   },
   "outputs": [],
   "source": [
    "db=client.lang\n",
    "# bulk = db.items.initialize_unordered_bulk_op()\n",
    "# bulk.find( { item: \"abc123\" } ).upsert().replaceOne(\n",
    "#    {\n",
    "#      item: \"abc123\",\n",
    "#      status: \"P\",\n",
    "#      points: 100,\n",
    "#    }\n",
    "# )\n",
    "# bulk.execute()"
   ]
  },
  {
   "cell_type": "code",
   "execution_count": 5,
   "metadata": {
    "ExecuteTime": {
     "end_time": "2019-12-18T11:06:45.661792Z",
     "start_time": "2019-12-18T11:06:45.612246Z"
    }
   },
   "outputs": [],
   "source": [
    "?db.items.initialize_unordered_bulk_op"
   ]
  },
  {
   "cell_type": "code",
   "execution_count": 7,
   "metadata": {
    "ExecuteTime": {
     "end_time": "2019-12-18T11:15:30.075819Z",
     "start_time": "2019-12-18T11:15:29.913693Z"
    }
   },
   "outputs": [
    {
     "name": "stdout",
     "output_type": "stream",
     "text": [
      "{'_id': ObjectId('5dfa0a52f27fd7a9e58aa65a'), 'z': 1}\n"
     ]
    }
   ],
   "source": [
    "from pymongo import InsertOne, DeleteOne, ReplaceOne\n",
    "requests=[ReplaceOne({'w': 1}, {'z': 1}, upsert=True)]\n",
    "result = db.test.bulk_write(requests)\n",
    "for doc in db.test.find({}):\n",
    "    print(doc)"
   ]
  },
  {
   "cell_type": "code",
   "execution_count": 15,
   "metadata": {
    "ExecuteTime": {
     "end_time": "2019-12-18T11:19:17.371834Z",
     "start_time": "2019-12-18T11:19:17.323083Z"
    }
   },
   "outputs": [
    {
     "data": {
      "text/plain": [
       "(0, 0)"
      ]
     },
     "execution_count": 15,
     "metadata": {},
     "output_type": "execute_result"
    }
   ],
   "source": [
    "result = db.test.update_one({'x': 1}, {'$inc': {'x': 3}}, upsert=True)\n",
    "result.matched_count, result.modified_count"
   ]
  },
  {
   "cell_type": "code",
   "execution_count": 44,
   "metadata": {
    "ExecuteTime": {
     "end_time": "2019-12-18T11:31:29.582123Z",
     "start_time": "2019-12-18T11:31:29.572706Z"
    }
   },
   "outputs": [
    {
     "data": {
      "text/plain": [
       "(0, 0, ObjectId('5dfa0e11f27fd7a9e58aa6ef'))"
      ]
     },
     "execution_count": 44,
     "metadata": {},
     "output_type": "execute_result"
    }
   ],
   "source": [
    "result = db.test.replace_one({'x': 1}, {'x':1, 'y': 1, 'z':'zval'}, upsert=True)\n",
    "result.matched_count, result.modified_count, result.upserted_id"
   ]
  },
  {
   "cell_type": "code",
   "execution_count": 45,
   "metadata": {
    "ExecuteTime": {
     "end_time": "2019-12-18T11:31:31.698255Z",
     "start_time": "2019-12-18T11:31:31.687649Z"
    }
   },
   "outputs": [
    {
     "data": {
      "text/plain": [
       "(1, 1)"
      ]
     },
     "execution_count": 45,
     "metadata": {},
     "output_type": "execute_result"
    }
   ],
   "source": [
    "result = db.test.update_one({'x': 1}, {'$set':{'y': 'yval'}}, upsert=True)\n",
    "result.matched_count, result.modified_count"
   ]
  },
  {
   "cell_type": "code",
   "execution_count": 47,
   "metadata": {
    "ExecuteTime": {
     "end_time": "2019-12-18T11:32:21.547695Z",
     "start_time": "2019-12-18T11:32:21.535349Z"
    }
   },
   "outputs": [
    {
     "data": {
      "text/plain": [
       "(0, 0)"
      ]
     },
     "execution_count": 47,
     "metadata": {},
     "output_type": "execute_result"
    }
   ],
   "source": [
    "result = db.test.update_one({'x': 11}, {'$set':{'y': 'yval'}}, upsert=True)\n",
    "result.matched_count, result.modified_count"
   ]
  },
  {
   "cell_type": "code",
   "execution_count": 48,
   "metadata": {
    "ExecuteTime": {
     "end_time": "2019-12-18T11:32:25.556405Z",
     "start_time": "2019-12-18T11:32:25.547689Z"
    }
   },
   "outputs": [
    {
     "name": "stdout",
     "output_type": "stream",
     "text": [
      "{'_id': ObjectId('5dfa0a52f27fd7a9e58aa65a'), 'z': 1}\n",
      "{'_id': ObjectId('5dfa0b1df27fd7a9e58aa67a'), 'x': 4}\n",
      "{'_id': ObjectId('5dfa0b35f27fd7a9e58aa67f'), 'x': 4}\n",
      "{'_id': ObjectId('5dfa0ba7f27fd7a9e58aa690'), 'y': 1, 'z': 'zval'}\n",
      "{'_id': ObjectId('5dfa0bb0f27fd7a9e58aa694'), 'y': 1, 'z': 'zval'}\n",
      "{'_id': ObjectId('5dfa0bbef27fd7a9e58aa699'), 'x': 2, 'y': 'yval', 'z': 'zval'}\n",
      "{'_id': ObjectId('5dfa0e11f27fd7a9e58aa6ef'), 'x': 1, 'y': 'yval', 'z': 'zval'}\n",
      "{'_id': ObjectId('5dfa0e45f27fd7a9e58aa6f8'), 'x': 11, 'y': 'yval'}\n"
     ]
    }
   ],
   "source": [
    "for doc in db.test.find({}):\n",
    "    print(doc)"
   ]
  },
  {
   "cell_type": "code",
   "execution_count": 11,
   "metadata": {
    "ExecuteTime": {
     "end_time": "2019-12-18T11:17:30.981243Z",
     "start_time": "2019-12-18T11:17:30.971417Z"
    }
   },
   "outputs": [
    {
     "data": {
      "text/plain": [
       "(0, 0)"
      ]
     },
     "execution_count": 11,
     "metadata": {},
     "output_type": "execute_result"
    }
   ],
   "source": [
    "result = db.test.update_one({'x': 1}, {'$inc': {'x': 3}})\n",
    "result.matched_count, result.modified_count"
   ]
  }
 ],
 "metadata": {
  "kernelspec": {
   "display_name": "Python 3",
   "language": "python",
   "name": "python3"
  },
  "language_info": {
   "codemirror_mode": {
    "name": "ipython",
    "version": 3
   },
   "file_extension": ".py",
   "mimetype": "text/x-python",
   "name": "python",
   "nbconvert_exporter": "python",
   "pygments_lexer": "ipython3",
   "version": "3.6.9"
  },
  "varInspector": {
   "cols": {
    "lenName": 16,
    "lenType": 16,
    "lenVar": 40
   },
   "kernels_config": {
    "python": {
     "delete_cmd_postfix": "",
     "delete_cmd_prefix": "del ",
     "library": "var_list.py",
     "varRefreshCmd": "print(var_dic_list())"
    },
    "r": {
     "delete_cmd_postfix": ") ",
     "delete_cmd_prefix": "rm(",
     "library": "var_list.r",
     "varRefreshCmd": "cat(var_dic_list()) "
    }
   },
   "types_to_exclude": [
    "module",
    "function",
    "builtin_function_or_method",
    "instance",
    "_Feature"
   ],
   "window_display": false
  }
 },
 "nbformat": 4,
 "nbformat_minor": 2
}
