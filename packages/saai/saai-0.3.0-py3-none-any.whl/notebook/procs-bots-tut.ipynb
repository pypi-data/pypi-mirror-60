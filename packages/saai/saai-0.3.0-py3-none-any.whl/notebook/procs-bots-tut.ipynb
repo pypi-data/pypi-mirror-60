{
 "cells": [
  {
   "cell_type": "code",
   "execution_count": 1,
   "metadata": {
    "ExecuteTime": {
     "end_time": "2019-12-01T08:26:19.326004Z",
     "start_time": "2019-12-01T08:26:08.134515Z"
    }
   },
   "outputs": [
    {
     "name": "stdout",
     "output_type": "stream",
     "text": [
      ".. load bot model /pi/ws/tutorial-knowledge-base/models/20191201-162424.tar.gz\n",
      "WARNING:tensorflow:From /Users/xiaofeiwu/miniconda3/envs/rasa/lib/python3.6/site-packages/tensor2tensor/utils/expert_utils.py:68: The name tf.variable_scope is deprecated. Please use tf.compat.v1.variable_scope instead.\n",
      "\n",
      "WARNING:tensorflow:\n",
      "The TensorFlow contrib module will not be included in TensorFlow 2.0.\n",
      "For more information, please see:\n",
      "  * https://github.com/tensorflow/community/blob/master/rfcs/20180907-contrib-sunset.md\n",
      "  * https://github.com/tensorflow/addons\n",
      "  * https://github.com/tensorflow/io (for I/O related ops)\n",
      "If you depend on functionality not listed there, please file an issue.\n",
      "\n",
      "WARNING:tensorflow:From /Users/xiaofeiwu/miniconda3/envs/rasa/lib/python3.6/site-packages/tensor2tensor/utils/adafactor.py:27: The name tf.train.Optimizer is deprecated. Please use tf.compat.v1.train.Optimizer instead.\n",
      "\n",
      "WARNING:tensorflow:From /Users/xiaofeiwu/miniconda3/envs/rasa/lib/python3.6/site-packages/tensor2tensor/utils/multistep_optimizer.py:32: The name tf.train.AdamOptimizer is deprecated. Please use tf.compat.v1.train.AdamOptimizer instead.\n",
      "\n",
      "WARNING:tensorflow:Failed to load tensor2tensor\n",
      "WARNING:tensorflow:From /Users/xiaofeiwu/miniconda3/envs/rasa/lib/python3.6/site-packages/tensor2tensor/models/research/glow_init_hook.py:25: The name tf.train.SessionRunHook is deprecated. Please use tf.estimator.SessionRunHook instead.\n",
      "\n",
      "WARNING:tensorflow:From /Users/xiaofeiwu/miniconda3/envs/rasa/lib/python3.6/site-packages/tensor2tensor/models/research/neural_stack.py:38: The name tf.nn.rnn_cell.RNNCell is deprecated. Please use tf.compat.v1.nn.rnn_cell.RNNCell instead.\n",
      "\n",
      "WARNING:tensorflow:From /Users/xiaofeiwu/miniconda3/envs/rasa/lib/python3.6/site-packages/tensor2tensor/rl/gym_utils.py:235: The name tf.logging.info is deprecated. Please use tf.compat.v1.logging.info instead.\n",
      "\n",
      "INFO:tensorflow:Entry Point [tensor2tensor.envs.tic_tac_toe_env:TicTacToeEnv] registered with id [T2TEnv-TicTacToeEnv-v0]\n",
      "WARNING:tensorflow:From /Users/xiaofeiwu/miniconda3/envs/rasa/lib/python3.6/site-packages/tensor2tensor/utils/trainer_lib.py:111: The name tf.OptimizerOptions is deprecated. Please use tf.compat.v1.OptimizerOptions instead.\n",
      "\n",
      "WARNING:tensorflow:From /Users/xiaofeiwu/miniconda3/envs/rasa/lib/python3.6/site-packages/tensorflow_gan/python/estimator/tpu_gan_estimator.py:42: The name tf.estimator.tpu.TPUEstimator is deprecated. Please use tf.compat.v1.estimator.tpu.TPUEstimator instead.\n",
      "\n",
      "INFO:tensorflow:Restoring parameters from /var/folders/fv/7k1qk5v11dn33sdcngv2wbnm0000gn/T/tmp_1gas1f7/nlu/component_6_EmbeddingIntentClassifier.ckpt\n",
      "WARNING:tensorflow:From /Users/xiaofeiwu/miniconda3/envs/rasa/lib/python3.6/site-packages/rasa/utils/train_utils.py:961: The name tf.get_collection is deprecated. Please use tf.compat.v1.get_collection instead.\n",
      "\n",
      "WARNING:tensorflow:From /Users/xiaofeiwu/miniconda3/envs/rasa/lib/python3.6/site-packages/tensorflow_core/python/ops/init_ops.py:97: calling GlorotUniform.__init__ (from tensorflow.python.ops.init_ops) with dtype is deprecated and will be removed in a future version.\n",
      "Instructions for updating:\n",
      "Call initializer instance with the dtype argument instead of passing it to the constructor\n",
      "WARNING:tensorflow:From /Users/xiaofeiwu/miniconda3/envs/rasa/lib/python3.6/site-packages/tensorflow_core/python/ops/init_ops.py:97: calling Orthogonal.__init__ (from tensorflow.python.ops.init_ops) with dtype is deprecated and will be removed in a future version.\n",
      "Instructions for updating:\n",
      "Call initializer instance with the dtype argument instead of passing it to the constructor\n",
      "WARNING:tensorflow:From /Users/xiaofeiwu/miniconda3/envs/rasa/lib/python3.6/site-packages/tensorflow_core/python/ops/init_ops.py:97: calling Zeros.__init__ (from tensorflow.python.ops.init_ops) with dtype is deprecated and will be removed in a future version.\n",
      "Instructions for updating:\n",
      "Call initializer instance with the dtype argument instead of passing it to the constructor\n",
      "WARNING:tensorflow:From /Users/xiaofeiwu/miniconda3/envs/rasa/lib/python3.6/site-packages/tensorflow_core/python/ops/resource_variable_ops.py:1630: calling BaseResourceVariable.__init__ (from tensorflow.python.ops.resource_variable_ops) with constraint is deprecated and will be removed in a future version.\n",
      "Instructions for updating:\n",
      "If using Keras pass *_constraint arguments to layers.\n",
      "WARNING:tensorflow:From /Users/xiaofeiwu/miniconda3/envs/rasa/lib/python3.6/site-packages/tensorflow_core/python/keras/backend.py:3994: where (from tensorflow.python.ops.array_ops) is deprecated and will be removed in a future version.\n",
      "Instructions for updating:\n",
      "Use tf.where in 2.0, which has the same broadcast rule as np.where\n"
     ]
    }
   ],
   "source": [
    "from rasa.utils.endpoints import ClientResponseError, EndpointConfig\n",
    "from rasa.core.agent import Agent\n",
    "from rasa.core.interpreter import RasaNLUInterpreter\n",
    "from rasa.model import get_model, get_latest_model\n",
    "\n",
    "bot='tut'\n",
    "\n",
    "endpoint = EndpointConfig(\"http://localhost:5055/webhook\")\n",
    "bot_locs={'tut': '/pi/ws/tutorial-knowledge-base'}\n",
    "bot_loc=get_latest_model(f\"{bot_locs[bot]}/models\")\n",
    "print(f'.. load bot model {bot_loc}')\n",
    "agent = Agent.load(bot_loc, action_endpoint=endpoint)"
   ]
  },
  {
   "cell_type": "code",
   "execution_count": 2,
   "metadata": {
    "ExecuteTime": {
     "end_time": "2019-12-01T08:26:48.141374Z",
     "start_time": "2019-12-01T08:26:48.016244Z"
    }
   },
   "outputs": [
    {
     "name": "stdout",
     "output_type": "stream",
     "text": [
      "{'entities': [{'confidence': 0.9457372966251975,\n",
      "               'end': 12,\n",
      "               'entity': 'attribute',\n",
      "               'extractor': 'CRFEntityExtractor',\n",
      "               'start': 8,\n",
      "               'value': 'city'},\n",
      "              {'confidence': 0.8885721640225902,\n",
      "               'end': 19,\n",
      "               'entity': 'bank',\n",
      "               'extractor': 'CRFEntityExtractor',\n",
      "               'start': 16,\n",
      "               'value': 'N26'}],\n",
      " 'intent': {'confidence': 0.9912482500076294, 'name': 'query_attribute'},\n",
      " 'intent_ranking': [{'confidence': 0.9912482500076294,\n",
      "                     'name': 'query_attribute'},\n",
      "                    {'confidence': 0.002244658535346389,\n",
      "                     'name': 'out_of_scope'},\n",
      "                    {'confidence': 0.0015223972732201219,\n",
      "                     'name': 'resolve_entity'},\n",
      "                    {'confidence': 0.0013032581191509962, 'name': 'affirm'},\n",
      "                    {'confidence': 0.0010177792282775044, 'name': 'greet'},\n",
      "                    {'confidence': 0.0009038436692208052, 'name': 'deny'},\n",
      "                    {'confidence': 0.0005172190722078085,\n",
      "                     'name': 'query_entities'},\n",
      "                    {'confidence': 0.0005104286829009652, 'name': 'bye'},\n",
      "                    {'confidence': 0.0005078116664662957,\n",
      "                     'name': 'compare_entities'},\n",
      "                    {'confidence': 0.00022427453950513154, 'name': 'help'}],\n",
      " 'text': 'In what city is N26 located?'}\n"
     ]
    }
   ],
   "source": [
    "from rasa.core.trackers import DialogueStateTracker\n",
    "from rasa.core.slots import Slot\n",
    "from pprint import pprint\n",
    "\n",
    "tracker = DialogueStateTracker.from_dict(\"1\", [], [Slot(\"requested_language\")])\n",
    "tracker._set_slot(\"requested_language\", \"en\")\n",
    "result = await agent.parse_message_using_nlu_interpreter(\"In what city is N26 located?\", tracker)\n",
    "pprint(result)"
   ]
  },
  {
   "cell_type": "code",
   "execution_count": 3,
   "metadata": {
    "ExecuteTime": {
     "end_time": "2019-12-01T08:27:04.535262Z",
     "start_time": "2019-12-01T08:27:04.507466Z"
    }
   },
   "outputs": [
    {
     "data": {
      "text/plain": [
       "{'intent': {'name': 'query_attribute', 'confidence': 0.9812387228012085},\n",
       " 'entities': [{'start': 38,\n",
       "   'end': 53,\n",
       "   'value': 'english website',\n",
       "   'entity': 'attribute',\n",
       "   'confidence': 0.9488983951770943,\n",
       "   'extractor': 'CRFEntityExtractor'}],\n",
       " 'intent_ranking': [{'name': 'query_attribute',\n",
       "   'confidence': 0.9812387228012085},\n",
       "  {'name': 'affirm', 'confidence': 0.003632200649008155},\n",
       "  {'name': 'out_of_scope', 'confidence': 0.0035168456379324198},\n",
       "  {'name': 'greet', 'confidence': 0.003180283587425947},\n",
       "  {'name': 'deny', 'confidence': 0.0021348909940570593},\n",
       "  {'name': 'resolve_entity', 'confidence': 0.0018270777072757483},\n",
       "  {'name': 'bye', 'confidence': 0.0018213088624179363},\n",
       "  {'name': 'query_entities', 'confidence': 0.0012432363582774997},\n",
       "  {'name': 'compare_entities', 'confidence': 0.0009761080727912486},\n",
       "  {'name': 'help', 'confidence': 0.00042940728599205613}],\n",
       " 'text': 'Has landwirtschaftliche rentenbank an english website?'}"
      ]
     },
     "execution_count": 3,
     "metadata": {},
     "output_type": "execute_result"
    }
   ],
   "source": [
    "bank='landwirtschaftliche rentenbank'\n",
    "q=f\"Has {bank} an english website?\"\n",
    "await agent.parse_message_using_nlu_interpreter(q)"
   ]
  },
  {
   "cell_type": "code",
   "execution_count": 6,
   "metadata": {
    "ExecuteTime": {
     "end_time": "2019-12-01T08:38:26.455974Z",
     "start_time": "2019-12-01T08:38:26.437777Z"
    }
   },
   "outputs": [
    {
     "name": "stdout",
     "output_type": "stream",
     "text": [
      "{'entities': [{'confidence': 0.9488983952,\n",
      "               'end': 53,\n",
      "               'entity': 'attribute',\n",
      "               'extractor': 'CRFEntityExtractor',\n",
      "               'start': 38,\n",
      "               'value': 'english website'}],\n",
      " 'intent': {'confidence': 0.9812387228, 'name': 'query_attribute'},\n",
      " 'intent_ranking': [{'confidence': 0.9812387228, 'name': 'query_attribute'},\n",
      "                    {'confidence': 0.0036322006, 'name': 'affirm'},\n",
      "                    {'confidence': 0.0035168456, 'name': 'out_of_scope'},\n",
      "                    {'confidence': 0.0031802836, 'name': 'greet'},\n",
      "                    {'confidence': 0.002134891, 'name': 'deny'},\n",
      "                    {'confidence': 0.0018270777, 'name': 'resolve_entity'},\n",
      "                    {'confidence': 0.0018213089, 'name': 'bye'},\n",
      "                    {'confidence': 0.0012432364, 'name': 'query_entities'},\n",
      "                    {'confidence': 0.0009761081, 'name': 'compare_entities'},\n",
      "                    {'confidence': 0.0004294073, 'name': 'help'}],\n",
      " 'text': 'Has landwirtschaftliche rentenbank an english website?'}\n"
     ]
    }
   ],
   "source": [
    "from saai.runner import invoke_nlu\n",
    "# preq: $ rasa run --enable-api\n",
    "port=5005\n",
    "url=f\"http://localhost:{port}/model/parse\"\n",
    "\n",
    "bank='landwirtschaftliche rentenbank'\n",
    "q=f\"Has {bank} an english website?\"\n",
    "r=invoke_nlu(url, q)\n",
    "if r is not None:\n",
    "    pprint(r)"
   ]
  }
 ],
 "metadata": {
  "kernelspec": {
   "display_name": "Python 3",
   "language": "python",
   "name": "python3"
  },
  "language_info": {
   "codemirror_mode": {
    "name": "ipython",
    "version": 3
   },
   "file_extension": ".py",
   "mimetype": "text/x-python",
   "name": "python",
   "nbconvert_exporter": "python",
   "pygments_lexer": "ipython3",
   "version": "3.6.9"
  },
  "varInspector": {
   "cols": {
    "lenName": 16,
    "lenType": 16,
    "lenVar": 40
   },
   "kernels_config": {
    "python": {
     "delete_cmd_postfix": "",
     "delete_cmd_prefix": "del ",
     "library": "var_list.py",
     "varRefreshCmd": "print(var_dic_list())"
    },
    "r": {
     "delete_cmd_postfix": ") ",
     "delete_cmd_prefix": "rm(",
     "library": "var_list.r",
     "varRefreshCmd": "cat(var_dic_list()) "
    }
   },
   "types_to_exclude": [
    "module",
    "function",
    "builtin_function_or_method",
    "instance",
    "_Feature"
   ],
   "window_display": false
  }
 },
 "nbformat": 4,
 "nbformat_minor": 2
}
