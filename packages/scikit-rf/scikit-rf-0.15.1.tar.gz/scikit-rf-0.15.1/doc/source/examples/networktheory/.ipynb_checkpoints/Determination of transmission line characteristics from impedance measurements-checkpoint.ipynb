{
 "cells": [
  {
   "cell_type": "markdown",
   "metadata": {},
   "source": [
    "# Determinatation of transmission line characteristics from impedance measurements\n",
    "This notebook is inspired from the reference [1] (pp.134-136). \n",
    "\n",
    "\n"
   ]
  },
  {
   "cell_type": "markdown",
   "metadata": {},
   "source": [
    "# References\n",
    " - [1] R. A. Chipman, Theory and Problems of Transmission Lines (Mc Graw-Hill, Inc, 1968). (https://archive.org/details/TheoryAndProblemsOfTransmissionLines)\n"
   ]
  },
  {
   "cell_type": "code",
   "execution_count": null,
   "metadata": {},
   "outputs": [],
   "source": []
  }
 ],
 "metadata": {
  "kernelspec": {
   "display_name": "Python 3",
   "language": "python",
   "name": "python3"
  },
  "language_info": {
   "codemirror_mode": {
    "name": "ipython",
    "version": 3
   },
   "file_extension": ".py",
   "mimetype": "text/x-python",
   "name": "python",
   "nbconvert_exporter": "python",
   "pygments_lexer": "ipython3",
   "version": "3.6.8"
  }
 },
 "nbformat": 4,
 "nbformat_minor": 2
}
