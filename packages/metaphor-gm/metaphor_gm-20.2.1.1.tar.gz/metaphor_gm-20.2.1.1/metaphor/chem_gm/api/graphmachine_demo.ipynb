{
 "cells": [
  {
   "cell_type": "code",
   "execution_count": 1,
   "metadata": {
    "collapsed": false
   },
   "outputs": [
    {
     "name": "stdout",
     "output_type": "stream",
     "text": [
      "running apiDemo\n",
      "\tsourcefile   : /Users/Shared/workspace/GM_API/src/chem_gm/api/demofiles/Base321E_chem.xlsx\n",
      "\tdata range : DATA\n",
      "\ttest range : TEST49\n",
      "display LogP histogram ? (y/n) (default 'n')n\n",
      "Display histogram : no\n",
      "continue and create training module ? (y/n) (default 'y')n\n",
      "Create training module : no\n",
      "aborted\n"
     ]
    }
   ],
   "source": [
    "import demo_jupyter\n",
    "%matplotlib inline\n",
    "import chem_gm\n",
    "demo_jupyter.run()"
   ]
  },
  {
   "cell_type": "code",
   "execution_count": null,
   "metadata": {
    "collapsed": true
   },
   "outputs": [],
   "source": []
  }
 ],
 "metadata": {
  "kernelspec": {
   "display_name": "Python 2",
   "language": "python",
   "name": "python2"
  },
  "language_info": {
   "codemirror_mode": {
    "name": "ipython",
    "version": 2
   },
   "file_extension": ".py",
   "mimetype": "text/x-python",
   "name": "python",
   "nbconvert_exporter": "python",
   "pygments_lexer": "ipython2",
   "version": "2.7.11"
  }
 },
 "nbformat": 4,
 "nbformat_minor": 0
}
