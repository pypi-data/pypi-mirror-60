{
 "cells": [
  {
   "cell_type": "markdown",
   "metadata": {},
   "source": [
    "In this notebook, I discuss the various ways you can load and save data to/from SAM."
   ]
  },
  {
   "cell_type": "code",
   "execution_count": 1,
   "metadata": {},
   "outputs": [],
   "source": [
    "from SAM import SAM\n",
    "import pandas as pd"
   ]
  },
  {
   "cell_type": "markdown",
   "metadata": {},
   "source": [
    "We can use `sam.load_data` to load data from files (namely `.csv`, `.txt`, and `.h5ad` files). For `.csv` and `.txt` files, the `sep` argument is the delimeter used in those files (usually `,` for `.csv` and `\\t` for `.txt`). `sep=','` by default."
   ]
  },
  {
   "cell_type": "code",
   "execution_count": 2,
   "metadata": {},
   "outputs": [
    {
     "data": {
      "text/plain": [
       "{'run_args': {}, 'preprocess_args': {}}"
      ]
     },
     "execution_count": 2,
     "metadata": {},
     "output_type": "execute_result"
    }
   ],
   "source": [
    "sam=SAM()\n",
    "sam.__dict__"
   ]
  },
  {
   "cell_type": "markdown",
   "metadata": {},
   "source": [
    "`sam.__dict__` shows all the current attributes of the SAM object. We can see that the SAM object is currently empty."
   ]
  },
  {
   "cell_type": "code",
   "execution_count": 3,
   "metadata": {},
   "outputs": [
    {
     "data": {
      "text/plain": [
       "{'run_args': {},\n",
       " 'preprocess_args': {},\n",
       " 'adata_raw': AnnData object with n_obs × n_vars = 338 × 10782 ,\n",
       " 'adata': AnnData object with n_obs × n_vars = 338 × 10782 \n",
       "     layers: 'X_disp'}"
      ]
     },
     "execution_count": 3,
     "metadata": {},
     "output_type": "execute_result"
    }
   ],
   "source": [
    "sam.load_data('../../example_data/schisto2.5_tpm.csv.gz' , sep = ',')\n",
    "sam.__dict__"
   ]
  },
  {
   "cell_type": "markdown",
   "metadata": {},
   "source": [
    "Now, we see that the SAM object is populated with the `AnnData` objects. `adata_raw` is the loaded data and will remain untouched. `adata` is initially set equal to `adata_raw` and will be subject to preprocessing and store the results of the SAM analysis.\n",
    "\n",
    "When loading a dense expression table like from a `.csv` or a `.txt` file, you can use the `save_sparse_file` argument to save a sparse representation of the data (in the `AnnData` file format `.h5ad`) for much faster loading in the future. See:"
   ]
  },
  {
   "cell_type": "code",
   "execution_count": 8,
   "metadata": {},
   "outputs": [],
   "source": [
    "sam=SAM()\n",
    "sam.load_data('../../example_data/schisto2.5_tpm.csv.gz' , sep = ',', save_sparse_file = '../../example_data/sparse_data.h5ad')"
   ]
  },
  {
   "cell_type": "code",
   "execution_count": 9,
   "metadata": {},
   "outputs": [
    {
     "data": {
      "text/plain": [
       "{'run_args': {},\n",
       " 'preprocess_args': {},\n",
       " 'adata_raw': AnnData object with n_obs × n_vars = 338 × 10782 ,\n",
       " 'adata': AnnData object with n_obs × n_vars = 338 × 10782 \n",
       "     layers: 'X_disp'}"
      ]
     },
     "execution_count": 9,
     "metadata": {},
     "output_type": "execute_result"
    }
   ],
   "source": [
    "sam=SAM()\n",
    "sam.load_data('../../example_data/sparse_data.h5ad')\n",
    "sam.__dict__"
   ]
  },
  {
   "cell_type": "markdown",
   "metadata": {},
   "source": [
    "We can also pass data directly into the SAM constructor via the `counts` argument. We can pass in an `AnnData` object:"
   ]
  },
  {
   "cell_type": "code",
   "execution_count": 10,
   "metadata": {},
   "outputs": [
    {
     "data": {
      "text/plain": [
       "{'adata_raw': AnnData object with n_obs × n_vars = 338 × 10782 ,\n",
       " 'adata': AnnData object with n_obs × n_vars = 338 × 10782 \n",
       "     layers: 'X_disp',\n",
       " 'run_args': {},\n",
       " 'preprocess_args': {}}"
      ]
     },
     "execution_count": 10,
     "metadata": {},
     "output_type": "execute_result"
    }
   ],
   "source": [
    "example_anndata = sam.adata_raw\n",
    "sam=SAM(counts = example_anndata)\n",
    "sam.__dict__"
   ]
  },
  {
   "cell_type": "markdown",
   "metadata": {},
   "source": [
    "We can also pass in a Pandas DataFrame:"
   ]
  },
  {
   "cell_type": "code",
   "execution_count": 13,
   "metadata": {},
   "outputs": [
    {
     "data": {
      "text/plain": [
       "{'adata_raw': AnnData object with n_obs × n_vars = 338 × 10782 ,\n",
       " 'adata': AnnData object with n_obs × n_vars = 338 × 10782 \n",
       "     layers: 'X_disp',\n",
       " 'run_args': {},\n",
       " 'preprocess_args': {}}"
      ]
     },
     "execution_count": 13,
     "metadata": {},
     "output_type": "execute_result"
    }
   ],
   "source": [
    "DATAFRAME = pd.read_csv('../../example_data/schisto2.5_tpm.csv.gz',sep=',',index_col=0).T\n",
    "sam=SAM(counts = DATAFRAME)\n",
    "sam.__dict__"
   ]
  },
  {
   "cell_type": "markdown",
   "metadata": {},
   "source": [
    "We can also pass in a tuple (scipy.sparse matrix, list of gene IDs, list of cell IDs):"
   ]
  },
  {
   "cell_type": "code",
   "execution_count": 14,
   "metadata": {},
   "outputs": [
    {
     "data": {
      "text/plain": [
       "{'adata_raw': AnnData object with n_obs × n_vars = 338 × 10782 ,\n",
       " 'adata': AnnData object with n_obs × n_vars = 338 × 10782 \n",
       "     layers: 'X_disp',\n",
       " 'run_args': {},\n",
       " 'preprocess_args': {}}"
      ]
     },
     "execution_count": 14,
     "metadata": {},
     "output_type": "execute_result"
    }
   ],
   "source": [
    "sparse_data = sam.adata_raw.X\n",
    "genes = sam.adata_raw.var_names\n",
    "cells = sam.adata_raw.obs_names\n",
    "\n",
    "sam=SAM(counts = (sparse_data,genes,cells))\n",
    "sam.__dict__"
   ]
  },
  {
   "cell_type": "markdown",
   "metadata": {},
   "source": [
    "We can also pass in the tuple (numpy array, list of gene IDs, list of cell IDs):"
   ]
  },
  {
   "cell_type": "code",
   "execution_count": 15,
   "metadata": {},
   "outputs": [
    {
     "data": {
      "text/plain": [
       "{'adata_raw': AnnData object with n_obs × n_vars = 338 × 10782 ,\n",
       " 'adata': AnnData object with n_obs × n_vars = 338 × 10782 \n",
       "     layers: 'X_disp',\n",
       " 'run_args': {},\n",
       " 'preprocess_args': {}}"
      ]
     },
     "execution_count": 15,
     "metadata": {},
     "output_type": "execute_result"
    }
   ],
   "source": [
    "sparse_data = sparse_data.toarray()\n",
    "\n",
    "sam=SAM(counts = (sparse_data,genes,cells))\n",
    "sam.__dict__"
   ]
  },
  {
   "cell_type": "markdown",
   "metadata": {},
   "source": [
    "To save the SAM object, we can write the AnnData `sam.adata` to a '.h5ad' file. The '.h5ad' file will also contain the raw data in `sam.adata_raw`:"
   ]
  },
  {
   "cell_type": "code",
   "execution_count": 16,
   "metadata": {},
   "outputs": [
    {
     "name": "stdout",
     "output_type": "stream",
     "text": [
      "RUNNING SAM\n",
      "Iteration: 0, Convergence: 0.43119513581604074\n",
      "Iteration: 1, Convergence: 0.11154262887407886\n",
      "Iteration: 2, Convergence: 0.06843432389262005\n",
      "Iteration: 3, Convergence: 0.020232217785839057\n",
      "Iteration: 4, Convergence: 0.007733197047618673\n",
      "Computing the UMAP embedding...\n",
      "Elapsed time: 14.95327353477478 seconds\n"
     ]
    },
    {
     "data": {
      "text/plain": [
       "{'adata_raw': AnnData object with n_obs × n_vars = 338 × 10782 ,\n",
       " 'adata': AnnData object with n_obs × n_vars = 338 × 10782 \n",
       "     var: 'mask_genes', 'spatial_dispersions', 'weights'\n",
       "     uns: 'preprocess_args', 'ranked_genes', 'pca_obj', 'X_processed', 'neighbors', 'run_args'\n",
       "     obsm: 'X_pca', 'X_umap'\n",
       "     layers: 'X_disp', 'X_knn_avg',\n",
       " 'run_args': {'max_iter': 10,\n",
       "  'verbose': True,\n",
       "  'projection': 'umap',\n",
       "  'stopping_condition': 0.005,\n",
       "  'num_norm_avg': 50,\n",
       "  'k': 20,\n",
       "  'distance': 'correlation',\n",
       "  'preprocessing': 'Normalizer',\n",
       "  'npcs': None,\n",
       "  'n_genes': None,\n",
       "  'weight_PCs': True,\n",
       "  'proj_kwargs': {}},\n",
       " 'preprocess_args': {'div': 1,\n",
       "  'downsample': 0,\n",
       "  'sum_norm': None,\n",
       "  'include_genes': None,\n",
       "  'exclude_genes': None,\n",
       "  'norm': 'log',\n",
       "  'min_expression': 1,\n",
       "  'thresh': 0.01,\n",
       "  'filter_genes': True}}"
      ]
     },
     "execution_count": 16,
     "metadata": {},
     "output_type": "execute_result"
    }
   ],
   "source": [
    "sam.preprocess_data()\n",
    "sam.run()\n",
    "sam.save_anndata('../../example_data/sam_results.h5ad')\n",
    "sam.__dict__"
   ]
  },
  {
   "cell_type": "markdown",
   "metadata": {},
   "source": [
    "Now, we can initialize an empty SAM object,"
   ]
  },
  {
   "cell_type": "code",
   "execution_count": 17,
   "metadata": {},
   "outputs": [
    {
     "data": {
      "text/plain": [
       "{'run_args': {}, 'preprocess_args': {}}"
      ]
     },
     "execution_count": 17,
     "metadata": {},
     "output_type": "execute_result"
    }
   ],
   "source": [
    "sam=SAM()\n",
    "sam.__dict__"
   ]
  },
  {
   "cell_type": "markdown",
   "metadata": {},
   "source": [
    "and use the `load_data` function to load the data back into the SAM object:"
   ]
  },
  {
   "cell_type": "code",
   "execution_count": 18,
   "metadata": {},
   "outputs": [
    {
     "data": {
      "text/plain": [
       "{'run_args': {'max_iter': 10,\n",
       "  'verbose': True,\n",
       "  'projection': 'umap',\n",
       "  'stopping_condition': 0.005,\n",
       "  'num_norm_avg': 50,\n",
       "  'k': 20,\n",
       "  'distance': 'correlation',\n",
       "  'preprocessing': 'Normalizer',\n",
       "  'npcs': None,\n",
       "  'n_genes': None,\n",
       "  'weight_PCs': True,\n",
       "  'proj_kwargs': {}},\n",
       " 'preprocess_args': {'div': 1,\n",
       "  'downsample': 0,\n",
       "  'sum_norm': None,\n",
       "  'include_genes': None,\n",
       "  'exclude_genes': None,\n",
       "  'norm': 'log',\n",
       "  'min_expression': 1,\n",
       "  'thresh': 0.01,\n",
       "  'filter_genes': True},\n",
       " 'adata_raw': AnnData object with n_obs × n_vars = 338 × 10782 ,\n",
       " 'adata': AnnData object with n_obs × n_vars = 338 × 10782 \n",
       "     var: 'mask_genes', 'spatial_dispersions', 'weights'\n",
       "     uns: 'preprocess_args', 'ranked_genes', 'pca_obj', 'X_processed', 'neighbors', 'run_args'\n",
       "     obsm: 'X_pca', 'X_umap'\n",
       "     layers: 'X_disp', 'X_knn_avg'}"
      ]
     },
     "execution_count": 18,
     "metadata": {},
     "output_type": "execute_result"
    }
   ],
   "source": [
    "sam.load_data('../../example_data/sam_results.h5ad')\n",
    "sam.__dict__"
   ]
  }
 ],
 "metadata": {
  "kernelspec": {
   "display_name": "Python 3",
   "language": "python",
   "name": "python3"
  },
  "language_info": {
   "codemirror_mode": {
    "name": "ipython",
    "version": 3
   },
   "file_extension": ".py",
   "mimetype": "text/x-python",
   "name": "python",
   "nbconvert_exporter": "python",
   "pygments_lexer": "ipython3",
   "version": "3.6.9"
  }
 },
 "nbformat": 4,
 "nbformat_minor": 2
}
