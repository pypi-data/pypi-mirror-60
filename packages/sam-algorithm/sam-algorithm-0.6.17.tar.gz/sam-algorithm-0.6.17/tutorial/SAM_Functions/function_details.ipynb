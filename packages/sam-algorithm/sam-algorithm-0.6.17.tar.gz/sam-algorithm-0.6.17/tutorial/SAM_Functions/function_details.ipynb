{
 "cells": [
  {
   "cell_type": "markdown",
   "metadata": {},
   "source": [
    "In this notebook, I describe in more details some functions in SAM and their use cases."
   ]
  },
  {
   "cell_type": "markdown",
   "metadata": {},
   "source": [
    "In the `SAM.py` module:\n",
    "- `load_data`\n",
    "- `load_obs_annotations`\n",
    "- `load_var_annotations`\n",
    "- `preprocess_data`\n",
    "- `run`\n",
    "- `clustering`\n",
    "- `identify_marker_genes_rf`\n",
    "\n",
    "In the `utilities.py` module:\n",
    "- `find_corr_genes`"
   ]
  },
  {
   "cell_type": "code",
   "execution_count": 12,
   "metadata": {},
   "outputs": [],
   "source": [
    "from SAM import SAM\n",
    "import utilities as ut\n",
    "import matplotlib.pyplot as plt\n",
    "%matplotlib inline"
   ]
  },
  {
   "cell_type": "code",
   "execution_count": null,
   "metadata": {},
   "outputs": [],
   "source": [
    "sam=SAM()"
   ]
  },
  {
   "cell_type": "markdown",
   "metadata": {},
   "source": [
    "## load_data\n",
    "This function can load data into SAM from a variety of file formats."
   ]
  },
  {
   "cell_type": "code",
   "execution_count": 2,
   "metadata": {},
   "outputs": [],
   "source": [
    "sam.load_data('../../example_data/schisto2.5_tpm.csv.gz', #filename\n",
    "      transpose=True, #Transpose the data. Set to True if the file is genes x cells. Ignored if file is not '.csv' or '.txt'.\n",
    "      save_sparse_file=None, #Path (e.g. 'folder/data.h5ad'). Saves sparse representation of the data to an '.h5ad' file.\n",
    "      sep=',') #Delimeter (i.e. ',' or '\\t' or ' '). Ignored if file is not '.csv' or '.txt'.\n",
    "      #**kwargs - extra arguments can be passed into pandas.read_csv or anndata.read_h5ad."
   ]
  },
  {
   "cell_type": "markdown",
   "metadata": {},
   "source": [
    "## load_obs_annotations\n",
    "This loads cell annotations from a file or a preloaded pandas.DataFrame into `sam.adata_raw.obs` and `sam.adata.obs`. The keys added correspond to the column labels in the input table."
   ]
  },
  {
   "cell_type": "code",
   "execution_count": 3,
   "metadata": {},
   "outputs": [],
   "source": [
    "\"\"\"Loads cell annotations.\n",
    "\n",
    "Loads the cell annotations into .adata_raw.obs and .adata.obs.\n",
    "\n",
    "Parameters\n",
    "----------\n",
    "aname - string or pandas.DataFrame\n",
    "    If string, it is the path to the annotations file, which should be\n",
    "    a table with the first column being the cell IDs and the first row\n",
    "    being the column names for the annotations. Alternatively, you can\n",
    "    directly pass in a preloaded pandas.DataFrame.\n",
    "\n",
    "sep - string, default ','\n",
    "    The delimeter used in the file. Ignored if passing in a preloaded\n",
    "    pandas.DataFrame.\n",
    "\n",
    "\"\"\";"
   ]
  },
  {
   "cell_type": "markdown",
   "metadata": {},
   "source": [
    "## load_var_annotations\n",
    "This loads gene annotations from a file or a preloaded pandas.DataFrame into `sam.adata_raw.var` and `sam.adata.var`. The keys added correspond to the column labels in the input table."
   ]
  },
  {
   "cell_type": "code",
   "execution_count": 4,
   "metadata": {},
   "outputs": [],
   "source": [
    "\"\"\"Loads gene annotations.\n",
    "\n",
    "Loads the gene annotations into .adata_raw.var and .adata.var. The keys\n",
    "added correspond to the column labels in the input table.\n",
    "\n",
    "Parameters\n",
    "----------\n",
    "aname - string or pandas.DataFrame\n",
    "    If string, it is the path to the annotations file, which should be\n",
    "    a table with the first column being the gene IDs and the first row\n",
    "    being the column names for the annotations. Alternatively, you can\n",
    "    directly pass in a preloaded pandas.DataFrame.\n",
    "\n",
    "sep - string, default ','\n",
    "    The delimeter used in the file. Ignored if passing in a preloaded\n",
    "    pandas.DataFrame.\n",
    "\n",
    "\"\"\";"
   ]
  },
  {
   "cell_type": "markdown",
   "metadata": {},
   "source": [
    "## preprocess_data\n",
    "\n",
    "This function preprocesses the data (i.e. normalizing library size, log-normalizing expression values, filtering out low-expressing genes, etc).\n",
    "\n",
    "Genes that are filtered out will have all their gene-expressions set to zero in `sam.adata`. The docstring below details the available parameters and their default values."
   ]
  },
  {
   "cell_type": "code",
   "execution_count": 5,
   "metadata": {},
   "outputs": [],
   "source": [
    "\"\"\"\n",
    "Parameters\n",
    "----------\n",
    "\n",
    "div : float, optional, default 1\n",
    "    The factor by which the gene expression will be divided prior to\n",
    "    normalization (e.g. log normalization).\n",
    "\n",
    "downsample : float, optional, default 0\n",
    "    The factor by which to randomly downsample the data. If 0, the\n",
    "    data will not be downsampled.\n",
    "\n",
    "sum_norm : str or float, optional, default None\n",
    "    If a float, the total number of transcripts in each cell will be\n",
    "    normalized to this value prior to normalization and filtering.\n",
    "    Otherwise, nothing happens. If 'cell_median', each cell is\n",
    "    normalized to have the median total read count per cell. If\n",
    "    'gene_median', each gene is normalized to have the median total\n",
    "    read count per gene.\n",
    "\n",
    "norm : str, optional, default 'log'\n",
    "    If 'log', log-normalizes the expression data. If 'ftt', applies the\n",
    "    Freeman-Tukey variance-stabilization transformation. If\n",
    "    'multinomial', applies the Pearson-residual transformation (this is\n",
    "    experimental and should only be used for raw, un-normalized UMI\n",
    "    datasets). If None, the data is not normalized.\n",
    "\n",
    "include_genes : array-like of string, optional, default None\n",
    "    A vector of gene names that specifies the genes to keep.\n",
    "    All other genes will be filtered out. Gene names are case-\n",
    "    sensitive.\n",
    "\n",
    "exclude_genes : array-like of string, optional, default None\n",
    "    A vector of gene names that specifies the genes to\n",
    "    exclude. These genes will be filtered out. Gene names are case-\n",
    "    sensitive.\n",
    "\n",
    "include_cells : array-like of string, optional, default None\n",
    "    A vector of cell names that specifies the cells to keep.\n",
    "    All other cells will be filtered out. Cell names are\n",
    "    case-sensitive.\n",
    "\n",
    "exclude_cells : array-like of string, optional, default None\n",
    "    A vector of cell names that specifies the cells to exclude.\n",
    "    Thses cells will be filtered out. Cell names are\n",
    "    case-sensitive.\n",
    "\n",
    "min_expression : float, optional, default 1\n",
    "    The threshold above which a gene is considered\n",
    "    expressed. Gene expression values less than 'min_expression' are\n",
    "    set to zero.\n",
    "\n",
    "thresh : float, optional, default 0.2\n",
    "    Keep genes expressed in greater than 'thresh'*100 % of cells and\n",
    "    less than (1-'thresh')*100 % of cells, where a gene is considered\n",
    "    expressed if its expression value exceeds 'min_expression'.\n",
    "\n",
    "filter_genes : bool, optional, default True\n",
    "    Setting this to False turns off filtering operations. Genes passed\n",
    "    in exclude_genes or not passed in include_genes will still be\n",
    "    filtered.\n",
    "\n",
    "\"\"\";\n",
    "sam.preprocess_data(\n",
    "    div=1, \n",
    "    downsample=0,\n",
    "    sum_norm=None, \n",
    "    include_genes=None,\n",
    "    exclude_genes=None,\n",
    "    include_cells=None,\n",
    "    exclude_cells=None,\n",
    "    norm='log',\n",
    "    min_expression=1,\n",
    "    thresh=0.01,\n",
    "    filter_genes=True)"
   ]
  },
  {
   "cell_type": "markdown",
   "metadata": {},
   "source": [
    "## run"
   ]
  },
  {
   "cell_type": "code",
   "execution_count": 6,
   "metadata": {},
   "outputs": [
    {
     "name": "stdout",
     "output_type": "stream",
     "text": [
      "RUNNING SAM\n",
      "Iteration: 0, Convergence: 0.4295883054609864\n",
      "Iteration: 1, Convergence: 0.10452265121441968\n",
      "Iteration: 2, Convergence: 0.07295365937747743\n",
      "Iteration: 3, Convergence: 0.021855962013879675\n",
      "Iteration: 4, Convergence: 0.007945932310146302\n",
      "Computing the UMAP embedding...\n",
      "Elapsed time: 11.092467546463013 seconds\n"
     ]
    }
   ],
   "source": [
    "\"\"\"Runs the Self-Assembling Manifold algorithm.\n",
    "\n",
    "Parameters\n",
    "----------\n",
    "k - int, optional, default 20\n",
    "    The number of nearest neighbors to identify for each cell.\n",
    "\n",
    "distance : string, optional, default 'correlation'\n",
    "    The distance metric to use when identifying nearest neighbors.\n",
    "    Can be any of the distance metrics supported by sklearn's 'pdist'.\n",
    "\n",
    "max_iter - int, optional, default 10\n",
    "    The maximum number of iterations SAM will run.\n",
    "\n",
    "stopping_condition - float, optional, default 5e-3\n",
    "    The stopping condition threshold for the RMSE between gene weights\n",
    "    in adjacent iterations.\n",
    "\n",
    "verbose - bool, optional, default True\n",
    "    If True, the iteration number and error between gene weights in\n",
    "    adjacent iterations will be displayed.\n",
    "\n",
    "projection - str, optional, default 'umap'\n",
    "    If 'tsne', generates a t-SNE embedding. If 'umap', generates a UMAP\n",
    "    embedding. Otherwise, no embedding will be generated.\n",
    "\n",
    "preprocessing - str, optional, default 'Normalizer'\n",
    "    If 'Normalizer', use sklearn.preprocessing.Normalizer, which\n",
    "    normalizes expression data prior to PCA such that each cell has\n",
    "    unit L2 norm. If 'StandardScaler', use\n",
    "    sklearn.preprocessing.StandardScaler, which normalizes expression\n",
    "    data prior to PCA such that each gene has zero mean and unit\n",
    "    variance. Otherwise, do not normalize the expression data. We\n",
    "    recommend using 'StandardScaler' for large datasets and\n",
    "    'Normalizer' otherwise.\n",
    "\n",
    "num_norm_avg - int, optional, default 50\n",
    "    The top 'num_norm_avg' dispersions are averaged to determine the\n",
    "    normalization factor when calculating the weights. This prevents\n",
    "    genes with large spatial dispersions from skewing the distribution\n",
    "    of weights.\n",
    "\n",
    "proj_kwargs - dict, optional, default {}\n",
    "    A dictionary of keyword arguments to pass to the projection\n",
    "    functions.\n",
    "\"\"\"\n",
    "sam.run(\n",
    "    max_iter=10,\n",
    "    verbose=True,\n",
    "    projection='umap',\n",
    "    stopping_condition=5e-3,\n",
    "    num_norm_avg=50,\n",
    "    k=20,\n",
    "    distance='correlation',\n",
    "    preprocessing='Normalizer',\n",
    "    proj_kwargs={})"
   ]
  },
  {
   "cell_type": "markdown",
   "metadata": {},
   "source": [
    "## clustering\n",
    "Clusters the SAM output using a variety of different clustering algorithms: leiden, louvain, kmeans, hdbscan, and dbscan. Both leiden and louvain can be run with either modularity optimization (more common) or statistical significance optimization. "
   ]
  },
  {
   "cell_type": "code",
   "execution_count": 7,
   "metadata": {},
   "outputs": [
    {
     "data": {
      "text/html": [
       "<div>\n",
       "<style scoped>\n",
       "    .dataframe tbody tr th:only-of-type {\n",
       "        vertical-align: middle;\n",
       "    }\n",
       "\n",
       "    .dataframe tbody tr th {\n",
       "        vertical-align: top;\n",
       "    }\n",
       "\n",
       "    .dataframe thead th {\n",
       "        text-align: right;\n",
       "    }\n",
       "</style>\n",
       "<table border=\"1\" class=\"dataframe\">\n",
       "  <thead>\n",
       "    <tr style=\"text-align: right;\">\n",
       "      <th></th>\n",
       "      <th>leiden_clusters</th>\n",
       "      <th>leiden_sig_clusters</th>\n",
       "      <th>louvain_clusters</th>\n",
       "      <th>louvain_sig_clusters</th>\n",
       "      <th>kmeans_clusters</th>\n",
       "      <th>dbscan_clusters</th>\n",
       "      <th>hdbscan_clusters</th>\n",
       "    </tr>\n",
       "  </thead>\n",
       "  <tbody>\n",
       "    <tr>\n",
       "      <th>N402Barcode_706-511</th>\n",
       "      <td>0</td>\n",
       "      <td>1</td>\n",
       "      <td>2</td>\n",
       "      <td>1</td>\n",
       "      <td>1</td>\n",
       "      <td>1</td>\n",
       "      <td>4</td>\n",
       "    </tr>\n",
       "    <tr>\n",
       "      <th>N402Barcode_705-507</th>\n",
       "      <td>0</td>\n",
       "      <td>10</td>\n",
       "      <td>3</td>\n",
       "      <td>1</td>\n",
       "      <td>3</td>\n",
       "      <td>8</td>\n",
       "      <td>4</td>\n",
       "    </tr>\n",
       "    <tr>\n",
       "      <th>N402Barcode_718-520</th>\n",
       "      <td>2</td>\n",
       "      <td>46</td>\n",
       "      <td>1</td>\n",
       "      <td>35</td>\n",
       "      <td>0</td>\n",
       "      <td>0</td>\n",
       "      <td>1</td>\n",
       "    </tr>\n",
       "    <tr>\n",
       "      <th>N402Barcode_722-516</th>\n",
       "      <td>3</td>\n",
       "      <td>12</td>\n",
       "      <td>3</td>\n",
       "      <td>11</td>\n",
       "      <td>3</td>\n",
       "      <td>2</td>\n",
       "      <td>2</td>\n",
       "    </tr>\n",
       "    <tr>\n",
       "      <th>N402Barcode_721-516</th>\n",
       "      <td>0</td>\n",
       "      <td>1</td>\n",
       "      <td>2</td>\n",
       "      <td>1</td>\n",
       "      <td>1</td>\n",
       "      <td>1</td>\n",
       "      <td>4</td>\n",
       "    </tr>\n",
       "  </tbody>\n",
       "</table>\n",
       "</div>"
      ],
      "text/plain": [
       "                    leiden_clusters leiden_sig_clusters louvain_clusters  \\\n",
       "N402Barcode_706-511               0                   1                2   \n",
       "N402Barcode_705-507               0                  10                3   \n",
       "N402Barcode_718-520               2                  46                1   \n",
       "N402Barcode_722-516               3                  12                3   \n",
       "N402Barcode_721-516               0                   1                2   \n",
       "\n",
       "                    louvain_sig_clusters kmeans_clusters dbscan_clusters  \\\n",
       "N402Barcode_706-511                    1               1               1   \n",
       "N402Barcode_705-507                    1               3               8   \n",
       "N402Barcode_718-520                   35               0               0   \n",
       "N402Barcode_722-516                   11               3               2   \n",
       "N402Barcode_721-516                    1               1               1   \n",
       "\n",
       "                    hdbscan_clusters  \n",
       "N402Barcode_706-511                4  \n",
       "N402Barcode_705-507                4  \n",
       "N402Barcode_718-520                1  \n",
       "N402Barcode_722-516                2  \n",
       "N402Barcode_721-516                4  "
      ]
     },
     "execution_count": 7,
     "metadata": {},
     "output_type": "execute_result"
    }
   ],
   "source": [
    "\"\"\"A wrapper for clustering the SAM output using various clustering\n",
    "algorithms\n",
    "\n",
    "Parameters\n",
    "----------\n",
    "X - data, optional, default None\n",
    "    Data to be passed into the selected clustering algorithm. If None,\n",
    "    uses the data in the SAM AnnData object. Different clustering\n",
    "    algorithms accept different types of data. For example, Louvain\n",
    "    and Leiden accept a scipy.sparse adjacency matrix representing the\n",
    "    nearest neighbor graph. Dbscan, kmeans, and Hdbscan accept\n",
    "    coordinates (like UMAP coordinates or PCA coordinates). If None,\n",
    "    cluster results are saved to the 'obs' attribute in the AnnData\n",
    "    object. Otherwise, cluster results are returned.\n",
    "\n",
    "param : float, optional, default None\n",
    "    The parameter used for the different clustering algorithms. For\n",
    "    louvain and leiden, it is the resolution parameter. For dbscan, it\n",
    "    is the distance parameter. For kmeans, it is the number of clusters.\n",
    "\n",
    "method : string, optional, default 'leiden'\n",
    "    Determines which clustering method is run.\n",
    "    'leiden' - Leiden clustering with modularity optimization\n",
    "    'leiden_sig' - Leiden clustering with significance optimization\n",
    "    'louvain' - Louvain clustering with modularity optimization\n",
    "    'louvain_sig' - Louvain clustering with significance optimization\n",
    "    'kmeans' - Kmeans clustering\n",
    "    'dbscan' - DBSCAN clustering\n",
    "    'hdbscan' - HDBSCAN clustering\n",
    "    If X is None, cluster assignments are saved in '.adata.obs' with\n",
    "    key name equal to method + '_clusters'. Otherwise, they are returned.\n",
    "\"\"\";\n",
    "sam.clustering(param = 1, #resolution parameter\n",
    "               method = 'leiden')\n",
    "sam.clustering(param = None, #ignored\n",
    "               method = 'leiden_sig')\n",
    "sam.clustering(param = 1, #resolution parameter\n",
    "               method = 'louvain')\n",
    "sam.clustering(param = None, #ignored\n",
    "               method = 'louvain_sig')\n",
    "sam.clustering(param = 4, # #clusters\n",
    "               method = 'kmeans')\n",
    "sam.clustering(param = 0.25, # distance parameter\n",
    "               method = 'dbscan')\n",
    "sam.clustering(param = None, # ignored\n",
    "               method = 'hdbscan')\n",
    "\n",
    "sam.adata.obs.head()"
   ]
  },
  {
   "cell_type": "markdown",
   "metadata": {},
   "source": [
    "## identify_marker_genes_rf\n",
    "\n",
    "Ranks marker genes for each cluster using a random forest classification approach."
   ]
  },
  {
   "cell_type": "code",
   "execution_count": 8,
   "metadata": {},
   "outputs": [],
   "source": [
    "\"\"\"\n",
    "Ranks marker genes for each cluster using a random forest\n",
    "classification approach.\n",
    "\n",
    "Parameters\n",
    "----------\n",
    "\n",
    "labels - numpy.array or str, optional, default None\n",
    "    Cluster labels to use for marker gene identification.\n",
    "    Can also be a string corresponding to any of the keys\n",
    "    in adata.obs.\n",
    "\n",
    "clusters - int/string or array-like, default None\n",
    "    A cluster ID (int or string depending on the labels used)\n",
    "    or vector corresponding to the specific cluster ID(s) for\n",
    "    which marker genes will be calculated. If None, marker genes\n",
    "    will be computed for all clusters, and the result will be written\n",
    "    to adata.uns.\n",
    "\n",
    "n_genes - int, optional, default 4000\n",
    "    By default, trains the classifier on the top 4000 SAM-weighted\n",
    "    genes.\n",
    "\n",
    "Returns\n",
    "-------\n",
    "(dictionary of markers for each cluster,\n",
    "dictionary of marker scores for each cluster)\n",
    "\"\"\"\n",
    "markers1, marker_scores1 = sam.identify_marker_genes_rf(labels = 'dbscan_clusters', clusters = [0,1])\n",
    "markers2, marker_scores2 = sam.identify_marker_genes_rf(labels = 'louvain_clusters', clusters = None)"
   ]
  },
  {
   "cell_type": "markdown",
   "metadata": {},
   "source": [
    "Markers were only computed for clusters 0 and 1 using dbscan labels. "
   ]
  },
  {
   "cell_type": "code",
   "execution_count": 9,
   "metadata": {},
   "outputs": [
    {
     "data": {
      "text/plain": [
       "({0: array(['Smp_051920', 'Smp_070380', 'Smp_074390', ..., 'Smp_176090',\n",
       "         'Smp_154240', 'Smp_000040'], dtype='<U10'),\n",
       "  1: array(['Smp_079010', 'Smp_143740', 'Smp_083480', ..., 'Smp_170170',\n",
       "         'Smp_145410', 'Smp_000040'], dtype='<U10')},\n",
       " {0: array([0.04464901, 0.03775816, 0.01468096, ..., 0.        , 0.        ,\n",
       "         0.        ]),\n",
       "  1: array([0.01241798, 0.00652556, 0.00555745, ..., 0.        , 0.        ,\n",
       "         0.        ])})"
      ]
     },
     "execution_count": 9,
     "metadata": {},
     "output_type": "execute_result"
    }
   ],
   "source": [
    "markers1, marker_scores1"
   ]
  },
  {
   "cell_type": "markdown",
   "metadata": {},
   "source": [
    "Markers were computed for all clusters using louvain labels. Because `clusters=None`, the output was also written to `sam.adata.uns`."
   ]
  },
  {
   "cell_type": "code",
   "execution_count": 10,
   "metadata": {},
   "outputs": [
    {
     "data": {
      "text/plain": [
       "({0: array(['Smp_005350', 'Smp_161920', 'Smp_034500', ..., 'Smp_144140',\n",
       "         'Smp_175210', 'Smp_137710'], dtype='<U10'),\n",
       "  1: array(['Smp_070380', 'Smp_051920', 'Smp_074390', ..., 'Smp_196790',\n",
       "         'Smp_170540', 'Smp_000040'], dtype='<U10'),\n",
       "  2: array(['Smp_161920', 'Smp_079010', 'Smp_155360', ..., 'Smp_162190',\n",
       "         'Smp_059360', 'Smp_000040'], dtype='<U10'),\n",
       "  3: array(['Smp_142120', 'Smp_041540', 'Smp_196410', ..., 'Smp_130770',\n",
       "         'Smp_200940', 'Smp_000040'], dtype='<U10')},\n",
       " {0: array([0.05678592, 0.03525719, 0.02324056, ..., 0.        , 0.        ,\n",
       "         0.        ]),\n",
       "  1: array([0.04085619, 0.03705652, 0.01825418, ..., 0.        , 0.        ,\n",
       "         0.        ]),\n",
       "  2: array([0.01380476, 0.01339673, 0.01001348, ..., 0.        , 0.        ,\n",
       "         0.        ]),\n",
       "  3: array([0.02784747, 0.01828543, 0.00728394, ..., 0.        , 0.        ,\n",
       "         0.        ])})"
      ]
     },
     "execution_count": 10,
     "metadata": {},
     "output_type": "execute_result"
    }
   ],
   "source": [
    "markers2,marker_scores2"
   ]
  },
  {
   "cell_type": "code",
   "execution_count": 11,
   "metadata": {},
   "outputs": [
    {
     "data": {
      "text/plain": [
       "AnnData object with n_obs × n_vars = 338 × 10782 \n",
       "    obs: 'leiden_clusters', 'leiden_sig_clusters', 'louvain_clusters', 'louvain_sig_clusters', 'kmeans_clusters', 'dbscan_clusters', 'hdbscan_clusters'\n",
       "    var: 'mask_genes', 'spatial_dispersions', 'weights'\n",
       "    uns: 'preprocess_args', 'ranked_genes', 'pca_obj', 'X_processed', 'neighbors', 'run_args', 'rf_louvain_clusters'\n",
       "    obsm: 'X_pca', 'X_umap'\n",
       "    layers: 'X_disp', 'X_knn_avg'"
      ]
     },
     "execution_count": 11,
     "metadata": {},
     "output_type": "execute_result"
    }
   ],
   "source": [
    "sam.adata"
   ]
  },
  {
   "cell_type": "markdown",
   "metadata": {},
   "source": [
    "## find_corr_genes\n",
    "\n",
    "This function ranks genes by correlation to an input gene, computing correlation coefficients on the spatially-averaged gene expression data (`sam.adata.layers['X_knn_avg']`). This allows one to find genes with similar spatial gene expression patterns."
   ]
  },
  {
   "cell_type": "code",
   "execution_count": 15,
   "metadata": {},
   "outputs": [
    {
     "name": "stdout",
     "output_type": "stream",
     "text": [
      "['Smp_051920' 'Smp_129010' 'Smp_105220' 'Smp_132780' 'Smp_024860'\n",
      " 'Smp_139530' 'Smp_135060' 'Smp_142820' 'Smp_070380' 'Smp_153140'\n",
      " 'Smp_142250' 'Smp_206290' 'Smp_005720' 'Smp_159470' 'Smp_098300'\n",
      " 'Smp_124450' 'Smp_166910' 'Smp_156620' 'Smp_019170' 'Smp_149780']\n"
     ]
    },
    {
     "data": {
      "image/png": "[encoded data removed]",
      "text/plain": [
       "<Figure size 1296x216 with 10 Axes>"
      ]
     },
     "metadata": {
      "needs_background": "light"
     },
     "output_type": "display_data"
    }
   ],
   "source": [
    "\"\"\"Rank genes by their spatially averaged expression pattern correlations to\n",
    "a desired gene.\n",
    "\n",
    "Parameters\n",
    "----------\n",
    "\n",
    "sam - SAM\n",
    "    The analyzed SAM object\n",
    "\n",
    "input_gene - string\n",
    "    The gene ID with respect to which correlations will be computed.\n",
    "\n",
    "Returns\n",
    "-------\n",
    "A ranked list of gene IDs based on correlation to the input gene.\n",
    "\"\"\"\n",
    "genes = ut.find_corr_genes(sam,'Smp_051920')\n",
    "print(genes[:20])\n",
    "\n",
    "fig,axs = plt.subplots(1,5)\n",
    "fig.set_size_inches((18,3))\n",
    "for i in range(5):\n",
    "    sam.show_gene_expression(genes[i],axes=axs[i], cmap = 'Spectral_r')"
   ]
  }
 ],
 "metadata": {
  "kernelspec": {
   "display_name": "Python 3",
   "language": "python",
   "name": "python3"
  },
  "language_info": {
   "codemirror_mode": {
    "name": "ipython",
    "version": 3
   },
   "file_extension": ".py",
   "mimetype": "text/x-python",
   "name": "python",
   "nbconvert_exporter": "python",
   "pygments_lexer": "ipython3",
   "version": "3.6.8"
  }
 },
 "nbformat": 4,
 "nbformat_minor": 2
}
