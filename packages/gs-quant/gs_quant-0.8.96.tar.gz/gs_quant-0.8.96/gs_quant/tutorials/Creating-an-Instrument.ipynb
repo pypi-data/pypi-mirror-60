{
 "cells": [
  {
   "cell_type": "markdown",
   "metadata": {},
   "source": [
    "Examples require an initialized GsSession and relevant entitlements. `run_analytics` scope is required for the functionality covered in this tutorial. External clients need to substitute thier own client id and client secret below. Please refer to <a href=\"https://developer.gs.com/docs/gsquant/guides/Authentication/2-gs-session/\"> Sessions</a> for details."
   ]
  },
  {
   "cell_type": "code",
   "execution_count": null,
   "metadata": {},
   "outputs": [],
   "source": [
    "from gs_quant.session import GsSession\n",
    "GsSession.use(client_id=None, client_secret=None, scopes=('run_analytics',))"
   ]
  },
  {
   "cell_type": "markdown",
   "metadata": {},
   "source": [
    "\n",
    "## Create an Interest Rate Swaption\n",
    "\n",
    "Let's start by defining an Interest Rate Swaption. We will start by importing\n",
    "[`IRSwaption`](https://developer.gs.com/docs/gsquant/api/classes/gs_quant.instrument.IRSwaption.html#gs_quant.instrument.IRSwaption/)\n",
    "from the\n",
    "[`Instrument` package](https://developer.gs.com/docs/gsquant/api/instrument.html#instrument-package)\n",
    "as well as `PayReceive`, `Currency` to represent commonly used constants."
   ]
  },
  {
   "cell_type": "code",
   "execution_count": null,
   "metadata": {},
   "outputs": [],
   "source": [
    "from gs_quant.instrument import IRSwaption\n",
    "from gs_quant.common import PayReceive, Currency"
   ]
  },
  {
   "cell_type": "markdown",
   "metadata": {},
   "source": [
    "We will now instantiate an\n",
    "[`IRSwaption`](https://developer.gs.com/docs/gsquant/api/classes/gs_quant.instrument.IRSwaption.html#gs_quant.instrument.IRSwaption/)\n",
    "object. Note, the first 3 arguments to\n",
    "[`IRSwaption`](https://developer.gs.com/docs/gsquant/api/classes/gs_quant.instrument.IRSwaption.html#gs_quant.instrument.IRSwaption/)\n",
    "are required, the remainder are optional. If the optional arguments are not supplied, default market\n",
    "conventions will be used as described in each instrument's signature. Signatures can be found in the\n",
    "[the Instrument Package](https://developer.gs.com/docs/gsquant/api/instrument.html) by clicking on the desired\n",
    "instrument."
   ]
  },
  {
   "cell_type": "code",
   "execution_count": null,
   "metadata": {},
   "outputs": [],
   "source": [
    "swaption = IRSwaption(PayReceive.Receive, '5y', Currency.USD, expiration_date='13m', strike='atm+40', notional_amount=1e8)"
   ]
  },
  {
   "cell_type": "markdown",
   "metadata": {},
   "source": [
    "Please refer to [Instruments](/gsquant/guides/Pricing-and-Risk/instruments) guide for more details\n",
    "on defining instruments."
   ]
  },
  {
   "cell_type": "markdown",
   "metadata": {},
   "source": [
    "## Understanding Instrument Parameters\n",
    "\n",
    "In this example we specified some relative parameters (i.e. expiration date, strike) and left many\n",
    "unspecified. Calling the `resolve()` method will resolve these parameters to absolute values as well\n",
    "as fill in any defaulted parameters. `resolve()` takes an optional argument of in_place, defaulted\n",
    "to True. This controls whether the properties of the existing instrument are populated, or a new one\n",
    "returned. Please refer to the above mentioned\n",
    "[Instrument Package](/gsquant/api/instrument.html#instruments/) for each instrument's available\n",
    "parameters.\n",
    "\n",
    "We can use\n",
    "[`as_dict()`](https://developer.gs.com/docs/gsquant/api/classes/gs_quant.base.Priceable.html#gs_quant.base.Priceable.as_dict)\n",
    "to view the resulting parameter set:"
   ]
  },
  {
   "cell_type": "code",
   "execution_count": null,
   "metadata": {},
   "outputs": [],
   "source": [
    "resolved_swaption = swaption.resolve(False) # Resolve into a new instrument\n",
    "\n",
    "swaption.resolve() # Resolve in place\n",
    "swaption.as_dict()"
   ]
  },
  {
   "cell_type": "markdown",
   "metadata": {},
   "source": [
    "As we can see in the dictionary above, `expiration_date`, specified as '13m' was resolved to\n",
    "'2020-11-02', and unspecified parameters like `fixed_rate_frequency` were added with default values.\n",
    "Note\n",
    "[`resolve()`](https://developer.gs.com/docs/gsquant/api/classes/gs_quant.base.Priceable.html#gs_quant.base.Priceable.resolve)\n",
    "changes the state of the instrument object. Please refer to\n",
    "[measures guide](/gsquant/guides/Pricing-and-Risk/measures) for more details on specifying\n",
    "parameters and using\n",
    "[`resolve()`](https://developer.gs.com/docs/gsquant/api/classes/gs_quant.base.Priceable.html#gs_quant.base.Priceable.resolve)."
   ]
  },
  {
   "cell_type": "markdown",
   "metadata": {},
   "source": [
    "## Putting It All Together"
   ]
  },
  {
   "cell_type": "code",
   "execution_count": null,
   "metadata": {},
   "outputs": [],
   "source": [
    "from gs_quant.instrument import IRSwaption\n",
    "from gs_quant.common import PayReceive, Currency\n",
    "\n",
    "swaption = IRSwaption(PayReceive.Receive, '5y', Currency.USD, expiration_date='13m', strike='atm+40', notional_amount=1e8)\n",
    "swaption.resolve()\n",
    "swaption.as_dict()"
   ]
  },
  {
   "cell_type": "markdown",
   "metadata": {},
   "source": [
    "#### Disclaimer\n",
    "This website may contain links to websites and the content of third parties (\"Third Party Content\"). We do not monitor, review or update, and do not have any control over, any Third Party Content or third party websites. We make no representation, warranty or guarantee as to the accuracy, completeness, timeliness or reliability of any Third Party Content and are not responsible for any loss or damage of any sort resulting from the use of, or for any failure of, products or services provided at or from a third party resource. If you use these links and the Third Party Content, you acknowledge that you are doing so entirely at your own risk."
   ]
  }
 ],
 "metadata": {
  "kernelspec": {
   "display_name": "Python 3",
   "language": "python",
   "name": "python3"
  },
  "language_info": {
   "codemirror_mode": {
    "name": "ipython",
    "version": 3
   },
   "file_extension": ".py",
   "mimetype": "text/x-python",
   "name": "python",
   "nbconvert_exporter": "python",
   "pygments_lexer": "ipython3",
   "version": "3.7.2"
  }
 },
 "nbformat": 4,
 "nbformat_minor": 4
}
