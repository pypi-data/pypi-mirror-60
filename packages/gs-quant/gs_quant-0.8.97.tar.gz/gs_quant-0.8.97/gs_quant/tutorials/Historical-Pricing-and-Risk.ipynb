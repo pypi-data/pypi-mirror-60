{
 "cells": [
  {
   "cell_type": "markdown",
   "metadata": {},
   "source": [
    "Examples require an initialized GsSession and relevant entitlements. `run_analytics` scope is required for the functionality covered in this tutorial. External clients need to substitute thier own client id and client secret below. Please refer to <a href=\"https://developer.gs.com/docs/gsquant/guides/Authentication/2-gs-session/\"> Sessions</a> for details."
   ]
  },
  {
   "cell_type": "code",
   "execution_count": null,
   "metadata": {},
   "outputs": [],
   "source": [
    "from gs_quant.session import GsSession\n",
    "GsSession.use(client_id=None, client_secret=None, scopes=('run_analytics',))"
   ]
  },
  {
   "cell_type": "markdown",
   "metadata": {},
   "source": [
    "This tutorial demonstrates how to use `gs-quant` to price and calculate risk historically. We will\n",
    "use the swaption instrument definition from the\n",
    "[first tutorial](https://developer.gs.com/docs/gsquant/tutorials/Pricing-and-Risk/1-creating-an-instrument/)."
   ]
  },
  {
   "cell_type": "code",
   "execution_count": null,
   "metadata": {},
   "outputs": [],
   "source": [
    "from gs_quant.instrument import IRSwaption\n",
    "from gs_quant.common import PayReceive, Currency\n",
    "\n",
    "swaption = IRSwaption(PayReceive.Receive, '5y', Currency.USD, expiration_date='13m', strike='atm+40', notional_amount=1e8)"
   ]
  },
  {
   "cell_type": "markdown",
   "metadata": {},
   "source": [
    "## Historical Pricing\n",
    "\n",
    "In the previous tutorial, we priced the instrument spot. Let's now use\n",
    "[`HistoricalPricingContext`](https://developer.gs.com/docs/gsquant/api/classes/gs_quant.markets.HistoricalPricingContext.html)\n",
    "to get daily prices for May 2019. See the\n",
    "[pricing context guide](https://developer.gs.com/docs/gsquant/guides/Pricing-and-Risk/pricing-context/) guide for additional\n",
    "details.\n"
   ]
  },
  {
   "cell_type": "code",
   "execution_count": null,
   "metadata": {},
   "outputs": [],
   "source": [
    "from gs_quant.markets import HistoricalPricingContext\n",
    "import datetime as dt\n",
    "\n",
    "start_date = dt.date(2019, 5, 1)\n",
    "end_date = dt.date(2019, 5, 31)\n",
    "\n",
    "with HistoricalPricingContext(start_date, end_date):\n",
    "    swaption_price = swaption.price()\n",
    "\n",
    "swaption_prices = swaption_price.result()\n",
    "swaption_prices"
   ]
  },
  {
   "cell_type": "markdown",
   "metadata": {},
   "source": [
    "## Historical Risk\n",
    "\n",
    "We can use the same\n",
    "[`HistoricalPricingContext`](https://developer.gs.com/docs/gsquant/api/classes/gs_quant.markets.HistoricalPricingContext.html)\n",
    "to calculate historical risk measures. Please refer to the\n",
    "[measures guide](https://developer.gs.com/docs/gsquant/guides/Pricing-and-Risk/measures/) for a list of externally supported risk\n",
    "measures.\n",
    "\n",
    "Let's calculate the vega risk for the swaption above:"
   ]
  },
  {
   "cell_type": "code",
   "execution_count": null,
   "metadata": {},
   "outputs": [],
   "source": [
    "with HistoricalPricingContext(start_date, end_date):\n",
    "    swaption_vega = swaption.calc(risk.IRVega)\n",
    "\n",
    "swaption_vegas = swaption_vega.result()\n",
    "swaption_vegas.head() # limit to several rows"
   ]
  },
  {
   "cell_type": "markdown",
   "metadata": {},
   "source": [
    "See the [pricing context guide](https://developer.gs.com/docs/gsquant/guides/Pricing-and-Risk/pricing-context/) for additional\n",
    "details."
   ]
  },
  {
   "cell_type": "markdown",
   "metadata": {},
   "source": [
    "## Visualizing Results\n",
    "\n",
    "Let's now put it all together and visualize the result:\n"
   ]
  },
  {
   "cell_type": "code",
   "execution_count": null,
   "metadata": {},
   "outputs": [],
   "source": [
    "from gs_quant.common import PayReceive\n",
    "from gs_quant.instrument import IRSwaption\n",
    "from gs_quant.markets import HistoricalPricingContext\n",
    "import datetime as dt\n",
    "import gs_quant.risk as risk\n",
    "import matplotlib.pyplot as plt\n",
    "\n",
    "swaption = IRSwaption(PayReceive.Receive, '5y', 'USD', expirationDate='13m', strike='atm+40', notionalAmount=1e8)\n",
    "swaption.resolve()\n",
    "\n",
    "start_date = dt.date(2019, 5, 1)\n",
    "end_date = dt.date(2019, 5, 31)\n",
    "\n",
    "with HistoricalPricingContext(start_date, end_date):\n",
    "    swaption_price = swaption.price()\n",
    "    swaption_vega  = swaption.calc(risk.IRVega)\n",
    "\n",
    "swaption_prices = swaption_price.result()\n",
    "swaption_vegas  = swaption_vega.result()\n",
    "\n",
    "# Plot prices over time\n",
    "swaption_prices.plot(figsize=(10,6), title=\"Swaption Price Over Time\")\n",
    "plt.xlabel('Date')\n",
    "plt.ylabel('Price')\n",
    "\n",
    "# Group vegas by point and plot over time\n",
    "pivot_by_point = swaption_vegas.pivot_table('value', index='date', columns ='point')\n",
    "pivot_by_point.plot(figsize=(10,6),title='Vega Points Over Time')\n",
    "plt.xlabel('Date')\n",
    "plt.ylabel('Vega')"
   ]
  },
  {
   "cell_type": "markdown",
   "metadata": {},
   "source": [
    "#### Disclaimer\n",
    "This website may contain links to websites and the content of third parties (\"Third Party Content\"). We do not monitor, review or update, and do not have any control over, any Third Party Content or third party websites. We make no representation, warranty or guarantee as to the accuracy, completeness, timeliness or reliability of any Third Party Content and are not responsible for any loss or damage of any sort resulting from the use of, or for any failure of, products or services provided at or from a third party resource. If you use these links and the Third Party Content, you acknowledge that you are doing so entirely at your own risk."
   ]
  }
 ],
 "metadata": {
  "kernelspec": {
   "display_name": "Python 3",
   "language": "python",
   "name": "python3"
  },
  "language_info": {
   "codemirror_mode": {
    "name": "ipython",
    "version": 3
   },
   "file_extension": ".py",
   "mimetype": "text/x-python",
   "name": "python",
   "nbconvert_exporter": "python",
   "pygments_lexer": "ipython3",
   "version": "3.7.2"
  }
 },
 "nbformat": 4,
 "nbformat_minor": 4
}
