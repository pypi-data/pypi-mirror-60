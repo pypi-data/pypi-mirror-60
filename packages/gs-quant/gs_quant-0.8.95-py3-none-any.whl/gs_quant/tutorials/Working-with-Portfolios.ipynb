{
 "cells": [
  {
   "cell_type": "markdown",
   "metadata": {},
   "source": [
    "Examples require an initialized GsSession and relevant entitlements. `run_analytics` scope is required for the functionality covered in this tutorial. External clients need to substitute thier own client id and client secret below. Please refer to <a href=\"https://developer.gs.com/docs/gsquant/guides/Authentication/2-gs-session/\"> Sessions</a> for details."
   ]
  },
  {
   "cell_type": "code",
   "execution_count": 6,
   "metadata": {},
   "outputs": [],
   "source": [
    "from gs_quant.session import GsSession\n",
    "GsSession.use(client_id=None, client_secret=None, scopes=('run_analytics',))"
   ]
  },
  {
   "cell_type": "markdown",
   "metadata": {},
   "source": [
    "In this tutorial demonstates how to create a portfolio and access aggregated results. For more details on what portfolios are and their properties please refer to the [portfolio guide](https://developer.gs.com/docs/gsquant/guides/Pricing-and-Risk/portfolios/)."
   ]
  },
  {
   "cell_type": "markdown",
   "metadata": {},
   "source": [
    "## Create Portfolio\n",
    "\n",
    "Let's first create a few instruments that will be included in our portfolio. For information on how to create an instrument please see the [instruments guide](https://developer.gs.com/docs/gsquant/guides/Pricing-and-Risk/instruments/) and [tutorial](https://developer.gs.com/docs/gsquant/tutorials/Pricing-and-Risk/1-creating-an-instrument/). "
   ]
  },
  {
   "cell_type": "code",
   "execution_count": 7,
   "metadata": {},
   "outputs": [],
   "source": [
    "from gs_quant.instrument import IRSwaption\n",
    "swaption1 = IRSwaption('Pay', '5y', 'EUR', expiration_date='3m', name='EUR-5y3m')\n",
    "swaption2 = IRSwaption('Pay', '5y', 'EUR', expiration_date='6m', name='EUR-5y6m')"
   ]
  },
  {
   "cell_type": "markdown",
   "metadata": {},
   "source": [
    "We can now create a portfolio with these instruments."
   ]
  },
  {
   "cell_type": "code",
   "execution_count": 8,
   "metadata": {},
   "outputs": [],
   "source": [
    "from gs_quant.markets.portfolio import Portfolio\n",
    "portfolio = Portfolio((swaption1, swaption2))"
   ]
  },
  {
   "cell_type": "markdown",
   "metadata": {},
   "source": [
    "## Evaluate Measures on a Portfolio\n",
    "\n",
    "Let's resolve the portfolio we just created and evaluate a few measures - `DollarPrice` and `IRDelta` in this case - on it."
   ]
  },
  {
   "cell_type": "code",
   "execution_count": 11,
   "metadata": {},
   "outputs": [],
   "source": [
    "import gs_quant.risk as risk\n",
    "\n",
    "portfolio.resolve()\n",
    "result = portfolio.calc((risk.DollarPrice, risk.IRDelta))"
   ]
  },
  {
   "cell_type": "markdown",
   "metadata": {},
   "source": [
    "We can now view the results for an individual instrument as well as aggregated results. Please refer to the [portfolio guide](https://developer.gs.com/docs/gsquant/guides/Pricing-and-Risk/portfolios/) for more details."
   ]
  },
  {
   "cell_type": "code",
   "execution_count": 10,
   "metadata": {},
   "outputs": [
    {
     "name": "stdout",
     "output_type": "stream",
     "text": [
      "3636.5161253779233\n"
     ]
    }
   ],
   "source": [
    "print(result[risk.DollarPrice]['EUR-5y3m']) # specific instrument"
   ]
  },
  {
   "cell_type": "markdown",
   "metadata": {},
   "source": [
    "## Accessing Aggregated Results"
   ]
  },
  {
   "cell_type": "code",
   "execution_count": 12,
   "metadata": {},
   "outputs": [
    {
     "name": "stdout",
     "output_type": "stream",
     "text": [
      "8904.647269159723\n",
      "   marketDataType assetId pointClass      point         value\n",
      "0              IR     EUR       CASH        O/N -2.289563e-09\n",
      "1              IR     EUR       CASH  CASH STUB -2.091244e+01\n",
      "2              IR     EUR        FRA      MAR20 -1.810033e+01\n",
      "3              IR     EUR        FRA      JUN20 -3.816403e+00\n",
      "4              IR     EUR        FRA      SEP20 -1.993369e-01\n",
      "5              IR     EUR        FRA      DEC20 -2.360649e-01\n",
      "6              IR     EUR        FRA      MAR21 -2.228132e-01\n",
      "7              IR     EUR        FRA      JUN21 -6.691659e-02\n",
      "8              IR     EUR        FRA      SEP21 -8.789084e-03\n",
      "9              IR     EUR        FRA      DEC21 -4.990332e-01\n",
      "10             IR     EUR       SWAP         3Y  9.246365e+00\n",
      "11             IR     EUR       SWAP         4Y -5.460615e+01\n",
      "12             IR     EUR       SWAP         5Y  4.106770e+02\n",
      "13             IR     EUR       SWAP         6Y  2.871296e+02\n",
      "14             IR     EUR       SWAP         7Y -6.975644e+01\n",
      "15             IR     EUR       SWAP         8Y  1.539981e+01\n",
      "16             IR     EUR       SWAP         9Y -1.775193e+00\n",
      "17             IR     EUR       SWAP        10Y -1.075045e-02\n",
      "18             IR     EUR       SWAP        12Y  4.221771e-04\n",
      "19             IR     EUR       SWAP        15Y  8.203320e-07\n",
      "20             IR     EUR       SWAP        20Y  4.078932e-08\n",
      "21             IR     EUR       SWAP        25Y  9.331852e-09\n",
      "22             IR     EUR       SWAP        30Y  4.495680e-09\n",
      "23             IR     EUR       SWAP        40Y  1.336634e-09\n",
      "24             IR     EUR       SWAP        50Y  7.526949e-09\n",
      "25             IR     EUR       SWAP        60Y  1.436844e-09\n",
      "26             IR     EUR       SWAP        70Y  4.988164e-10\n",
      "27             IR     EUR       SWAP        80Y -3.331900e-09\n",
      "28             IR     USD       CASH        O/N -2.473374e-03\n",
      "29             IR     USD       CASH  CASH STUB -2.462450e-03\n",
      "30             IR     USD        FRA      MAR20  6.553516e-07\n",
      "31             IR     USD        FRA      JUN20 -4.883096e-07\n",
      "32             IR     USD        FRA      SEP20  4.907601e-07\n",
      "33             IR     USD        FRA      DEC20  2.620220e-08\n",
      "34             IR     USD        FRA      MAR21  2.041496e-08\n",
      "35             IR     USD        FRA      JUN21  1.234524e-08\n",
      "36             IR     USD        FRA      SEP21  2.701133e-08\n",
      "37             IR     USD        FRA      DEC21 -1.999140e-08\n",
      "38             IR     USD        FRA      MAR22 -4.075803e-08\n",
      "39             IR     USD        FRA      JUN22  2.139695e-08\n",
      "40             IR     USD        FRA      SEP22 -6.998330e-09\n",
      "41             IR     USD        FRA      DEC22 -7.248670e-09\n",
      "42             IR     USD       SWAP         4Y -4.873872e-08\n",
      "43             IR     USD       SWAP         5Y  9.340420e-09\n",
      "44             IR     USD       SWAP         6Y -2.604425e-08\n",
      "45             IR     USD       SWAP         7Y -8.838251e-09\n",
      "46             IR     USD       SWAP         8Y -1.033045e-07\n",
      "47             IR     USD       SWAP         9Y -1.945831e-08\n",
      "48             IR     USD       SWAP        10Y  4.623458e-09\n",
      "49             IR     USD       SWAP        12Y -2.310649e-08\n",
      "50             IR     USD       SWAP        15Y -1.021102e-09\n",
      "51             IR     USD       SWAP        20Y -1.336746e-08\n",
      "52             IR     USD       SWAP        25Y -6.858632e-09\n",
      "53             IR     USD       SWAP        30Y -3.226176e-08\n",
      "54             IR     USD       SWAP        35Y  4.244372e-08\n",
      "55             IR     USD       SWAP        40Y -8.986890e-09\n",
      "56             IR     USD       SWAP        45Y -3.497414e-08\n",
      "57             IR     USD       SWAP        50Y -5.272776e-09\n"
     ]
    }
   ],
   "source": [
    "print(result[risk.DollarPrice].aggregate()) # price for the portfolio\n",
    "print(result[risk.IRDelta].aggregate()) # portfolio bucketed delta"
   ]
  },
  {
   "cell_type": "markdown",
   "metadata": {},
   "source": [
    "## Putting it All Together\n",
    "\n",
    "Let's put it all together by creating the instruments, the portfolio creating those instruments and pricing it as well as calculating a delta report on it."
   ]
  },
  {
   "cell_type": "code",
   "execution_count": 15,
   "metadata": {},
   "outputs": [
    {
     "name": "stdout",
     "output_type": "stream",
     "text": [
      "3636.5161253779233\n",
      "8904.647269159723\n",
      "   marketDataType assetId pointClass      point         value\n",
      "0              IR     EUR       CASH        O/N -9.761751e-09\n",
      "1              IR     EUR       CASH  CASH STUB -2.091244e+01\n",
      "2              IR     EUR        FRA      MAR20 -1.810033e+01\n",
      "3              IR     EUR        FRA      JUN20 -3.816403e+00\n",
      "4              IR     EUR        FRA      SEP20 -1.993370e-01\n",
      "5              IR     EUR        FRA      DEC20 -2.360650e-01\n",
      "6              IR     EUR        FRA      MAR21 -2.228132e-01\n",
      "7              IR     EUR        FRA      JUN21 -6.691662e-02\n",
      "8              IR     EUR        FRA      SEP21 -8.789199e-03\n",
      "9              IR     EUR        FRA      DEC21 -4.990331e-01\n",
      "10             IR     EUR       SWAP         3Y  9.246365e+00\n",
      "11             IR     EUR       SWAP         4Y -5.460615e+01\n",
      "12             IR     EUR       SWAP         5Y  4.106770e+02\n",
      "13             IR     EUR       SWAP         6Y  2.871296e+02\n",
      "14             IR     EUR       SWAP         7Y -6.975644e+01\n",
      "15             IR     EUR       SWAP         8Y  1.539981e+01\n",
      "16             IR     EUR       SWAP         9Y -1.775193e+00\n",
      "17             IR     EUR       SWAP        10Y -1.075051e-02\n",
      "18             IR     EUR       SWAP        12Y  4.222125e-04\n",
      "19             IR     EUR       SWAP        15Y  8.277293e-07\n",
      "20             IR     EUR       SWAP        20Y  3.517382e-08\n",
      "21             IR     EUR       SWAP        25Y -2.626330e-10\n",
      "22             IR     EUR       SWAP        30Y -1.227483e-09\n",
      "23             IR     EUR       SWAP        40Y -1.620874e-09\n",
      "24             IR     EUR       SWAP        50Y  4.686415e-09\n",
      "25             IR     EUR       SWAP        60Y -8.651242e-09\n",
      "26             IR     EUR       SWAP        70Y  6.332994e-12\n",
      "27             IR     EUR       SWAP        80Y -1.396611e-09\n",
      "28             IR     USD       CASH        O/N -2.473403e-03\n",
      "29             IR     USD       CASH  CASH STUB -2.462494e-03\n",
      "30             IR     USD        FRA      MAR20  6.292444e-07\n",
      "31             IR     USD        FRA      JUN20 -4.482370e-07\n",
      "32             IR     USD        FRA      SEP20  4.915588e-07\n",
      "33             IR     USD        FRA      DEC20 -5.260147e-08\n",
      "34             IR     USD        FRA      MAR21  2.179891e-08\n",
      "35             IR     USD        FRA      JUN21 -6.918311e-08\n",
      "36             IR     USD        FRA      SEP21 -2.235733e-08\n",
      "37             IR     USD        FRA      DEC21 -3.801771e-08\n",
      "38             IR     USD        FRA      MAR22  1.769513e-08\n",
      "39             IR     USD        FRA      JUN22 -5.673058e-08\n",
      "40             IR     USD        FRA      SEP22 -4.554279e-08\n",
      "41             IR     USD        FRA      DEC22  3.933981e-08\n",
      "42             IR     USD       SWAP         4Y  1.384728e-08\n",
      "43             IR     USD       SWAP         5Y -5.910993e-08\n",
      "44             IR     USD       SWAP         6Y  1.896881e-08\n",
      "45             IR     USD       SWAP         7Y  5.346164e-08\n",
      "46             IR     USD       SWAP         8Y -5.522855e-08\n",
      "47             IR     USD       SWAP         9Y  2.452508e-08\n",
      "48             IR     USD       SWAP        10Y -3.090128e-08\n",
      "49             IR     USD       SWAP        12Y -1.646988e-08\n",
      "50             IR     USD       SWAP        15Y  1.037225e-07\n",
      "51             IR     USD       SWAP        20Y  8.663349e-08\n",
      "52             IR     USD       SWAP        25Y -4.677512e-08\n",
      "53             IR     USD       SWAP        30Y -2.355054e-08\n",
      "54             IR     USD       SWAP        35Y -5.053841e-08\n",
      "55             IR     USD       SWAP        40Y  6.054714e-09\n",
      "56             IR     USD       SWAP        45Y  5.891733e-08\n",
      "57             IR     USD       SWAP        50Y  9.237900e-08\n"
     ]
    }
   ],
   "source": [
    "import gs_quant.risk as risk\n",
    "from gs_quant.instrument import IRSwaption\n",
    "from gs_quant.markets.portfolio import Portfolio\n",
    "\n",
    "# create instruments for portfolio\n",
    "swaption1 = IRSwaption('Pay', '5y', 'EUR', expiration_date='3m', name='EUR-5y3m')\n",
    "swaption2 = IRSwaption('Pay', '5y', 'EUR', expiration_date='6m', name='EUR-5y6m')\n",
    "\n",
    "# create and resolve portfolio\n",
    "portfolio = Portfolio((swaption1, swaption2))\n",
    "portfolio.resolve()\n",
    "\n",
    "# price and calculate delta\n",
    "result = portfolio.calc((risk.DollarPrice, risk.IRDelta))\n",
    "\n",
    "# print results\n",
    "print(result[risk.DollarPrice]['EUR-5y3m']) # specific instrument\n",
    "print(result[risk.DollarPrice].aggregate()) # price for the portfolio\n",
    "print(result[risk.IRDelta].aggregate()) # portfolio bucketed delta"
   ]
  },
  {
   "cell_type": "markdown",
   "metadata": {},
   "source": [
    "#### Disclaimer\n",
    "This website may contain links to websites and the content of third parties (\"Third Party Content\"). We do not monitor, review or update, and do not have any control over, any Third Party Content or third party websites. We make no representation, warranty or guarantee as to the accuracy, completeness, timeliness or reliability of any Third Party Content and are not responsible for any loss or damage of any sort resulting from the use of, or for any failure of, products or services provided at or from a third party resource. If you use these links and the Third Party Content, you acknowledge that you are doing so entirely at your own risk."
   ]
  }
 ],
 "metadata": {
  "kernelspec": {
   "display_name": "Python 3",
   "language": "python",
   "name": "python3"
  },
  "language_info": {
   "codemirror_mode": {
    "name": "ipython",
    "version": 3
   },
   "file_extension": ".py",
   "mimetype": "text/x-python",
   "name": "python",
   "nbconvert_exporter": "python",
   "pygments_lexer": "ipython3",
   "version": "3.7.2"
  }
 },
 "nbformat": 4,
 "nbformat_minor": 4
}
