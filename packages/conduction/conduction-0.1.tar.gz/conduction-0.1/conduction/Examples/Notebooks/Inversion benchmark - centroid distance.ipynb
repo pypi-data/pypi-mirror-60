{
 "cells": [
  {
   "cell_type": "markdown",
   "metadata": {},
   "source": [
    "# Inversion benchmark - centroid distance\n",
    "\n",
    "Define a set of points around the boundary of a lithology then use their distance to the centroid as an inversion variable. It only has one degree of freedom (_expansion_ and _contraction_) but with enough points this should not matter.\n",
    "\n",
    "> **Problem statement**: We need a way to relate the spatial arrangement of nodes to lithology that is _differentiable_."
   ]
  },
  {
   "cell_type": "code",
   "execution_count": 18,
   "metadata": {
    "collapsed": true
   },
   "outputs": [],
   "source": [
    "import numpy as np\n",
    "from time import clock\n",
    "from conduction import ConductionND\n",
    "from conduction.inversion import InvObservation, InvPrior\n",
    "from conduction import InversionND\n",
    "import matplotlib.pyplot as plt\n",
    "%matplotlib inline\n",
    "\n",
    "from petsc4py import PETSc\n",
    "from mpi4py import MPI\n",
    "comm = MPI.COMM_WORLD\n",
    "\n",
    "from scipy import ndimage"
   ]
  },
  {
   "cell_type": "code",
   "execution_count": 19,
   "metadata": {
    "collapsed": true
   },
   "outputs": [],
   "source": [
    "minX, maxX = 0.0, 1000.0\n",
    "minY, maxY = -1000.0, 0.0\n",
    "nx, ny = 50, 50\n",
    "n = nx*ny\n",
    "\n",
    "mesh = ConductionND((minX, minY), (maxX, maxY), (nx,ny))\n",
    "\n",
    "# BCs\n",
    "mesh.boundary_condition('maxY', 298.0, flux=False)\n",
    "mesh.boundary_condition('minY', 1e3, flux=True)\n",
    "\n",
    "\n",
    "# Global lithology\n",
    "\n",
    "lithology = np.zeros((ny,nx), dtype='int32')\n",
    "lithology[3:7,:] = 1\n",
    "lithology[7:,:]  = 2\n",
    "\n",
    "lithology_ratios = np.empty_like(lithology, dtype=np.float)\n",
    "\n",
    "ratio0 = 1.0/(lithology == 0).sum()\n",
    "ratio1 = 1.0/(lithology == 1).sum()\n",
    "ratio2 = 1.0/(lithology == 2).sum()\n",
    "\n",
    "lithology_ratios.fill(ratio0)\n",
    "lithology_ratios[3:7,:] = ratio1\n",
    "lithology_ratios[7:, :] = ratio2\n",
    "\n",
    "\n",
    "# Need to slice this bad boy up: Local lithology\n",
    "\n",
    "(minI, maxI), (minJ, maxJ) = mesh.dm.getGhostRanges()\n",
    "lithology = lithology[minJ:maxJ, minI:maxI]"
   ]
  },
  {
   "cell_type": "code",
   "execution_count": 20,
   "metadata": {
    "collapsed": true
   },
   "outputs": [],
   "source": [
    "inv = InversionND(lithology.flatten(), mesh)\n",
    "\n",
    "k = np.array([3.5, 2.0, 3.2])\n",
    "H = np.array([0.5e-6, 1e-6, 2e-6])\n",
    "a = np.array([0.3, 0.3, 0.3])\n",
    "q0 = 35e-3\n",
    "sigma_q0 = 5e-3\n",
    "\n",
    "\n",
    "# Inversion variables\n",
    "x = np.hstack([k, H, a, [q0], lithology_ratios.flatten()])\n",
    "dx = x*0.01\n",
    "dx[:10] = 0.0"
   ]
  },
  {
   "cell_type": "markdown",
   "metadata": {},
   "source": [
    "## Find boundary points\n",
    "\n",
    "We only have to do this once to find the point coordinates.\n",
    "\n",
    "Lithology transitions are sharp, and the boundary points must be located at \"imaginary\" nodes between the mesh.\n",
    "\n",
    "1. Use the sobel filter to identify lithology transitions (thickness of two cells)\n",
    "2. Iterate through lithologies, reducing sobel points to within the lithology and outside.\n",
    "3. Find the boundary (centroid) between points within lithology and neighbours that are within sobel filter."
   ]
  },
  {
   "cell_type": "code",
   "execution_count": 21,
   "metadata": {
    "collapsed": true
   },
   "outputs": [],
   "source": [
    "sobel_bands = []\n",
    "for i in xrange(inv.mesh.dim):\n",
    "    sobel_bands.append( ndimage.sobel(lithology, axis=i) )\n",
    "    \n",
    "sobel_bands = np.linalg.norm(sobel_bands, axis=0)\n",
    "\n",
    "bands = np.nonzero(sobel_bands)\n",
    "node_bands = np.nonzero(sobel_bands.ravel())[0]"
   ]
  },
  {
   "cell_type": "code",
   "execution_count": 22,
   "metadata": {
    "collapsed": true
   },
   "outputs": [],
   "source": [
    "neighbours = mesh.find_neighbours()\n",
    "\n",
    "node_bands_mask = np.zeros(mesh.nn, dtype=bool)\n",
    "node_bands_mask[node_bands] = True\n",
    "\n",
    "bpoints = [[] for _ in range(len(inv.lithology_index))]\n",
    "\n",
    "for l, lith in enumerate(inv.lithology_index):\n",
    "    lith_mask = lith == inv.lithology\n",
    "    lith_band  = np.nonzero(np.logical_and(lith_mask, node_bands_mask))[0]\n",
    "    other_band = np.nonzero(np.logical_and(~lith_mask, node_bands_mask))[0]\n",
    "    for node in lith_band:\n",
    "        # iterate through points along the boundary\n",
    "        neighbour_nodes = neighbours[node]\n",
    "        neighbour_set = set(neighbour_nodes).intersection(other_band)\n",
    "        for nnode in neighbour_set:\n",
    "            # iterate through neighbouring points along the boundary\n",
    "            bpt = 0.5*(mesh.coords[node] + mesh.coords[nnode])\n",
    "            bpoints[l].append( bpt )"
   ]
  },
  {
   "cell_type": "code",
   "execution_count": 23,
   "metadata": {},
   "outputs": [
    {
     "data": {
      "text/plain": [
       "<matplotlib.legend.Legend at 0x7fc255f238d0>"
      ]
     },
     "execution_count": 23,
     "metadata": {},
     "output_type": "execute_result"
    },
    {
     "data": {
      "image/png": "[encoded data removed]",
      "text/plain": [
       "<matplotlib.figure.Figure at 0x7fc255af7410>"
      ]
     },
     "metadata": {},
     "output_type": "display_data"
    }
   ],
   "source": [
    "fig = plt.figure()\n",
    "ax1 = fig.add_subplot(111)\n",
    "ax1.imshow(lithology, extent=mesh.extent)\n",
    "for l, lith in enumerate(inv.lithology_index):\n",
    "    bpts = np.vstack(bpoints[l])\n",
    "    ax1.scatter(bpts[:,0], bpts[:,1], alpha=0.5, label=\"lithology {}\".format(lith))\n",
    "ax1.legend(bbox_to_anchor=(1.5,1))"
   ]
  },
  {
   "cell_type": "markdown",
   "metadata": {},
   "source": [
    "## Map lithologies within hull of boundary points\n",
    "\n",
    "The boundary points are going to deform so we need map the volume contained by the boundary points to lithologies. We need to ensure nodes at the BCs remain fixed.\n",
    "\n",
    "1. Connect up the boundary points (and BC nodes)\n",
    "2. Mask all nodes contained within the hull of boundary points using a flood-fill algorithm\n",
    "3. Repeat for every lithology"
   ]
  },
  {
   "cell_type": "markdown",
   "metadata": {},
   "source": [
    "## Integrated vertical flux\n",
    "\n",
    "A simple alternative is to fix the lateral motion of nodes and only facilitate movement in the vertical direction.\n",
    "\n",
    "We know that in 1D:\n",
    "\n",
    "$$\n",
    "q_s = \\int_z H \\, \\mathrm{d}z + q_m\n",
    "$$\n",
    "\n",
    "which is approximately true for 2D and 3D simulations, where a smaller fraction of heat flux is attributed to a lateral component. If we partition the domain into two lithologies, $A$ and $B$, stacked vertically, then we expand the above formula:\n",
    "\n",
    "$$\n",
    "\\begin{align*}\n",
    "q_s =& q_A + q_B + q_m \\\\\n",
    "    =& H_A (z_s - z_{AB}) + H_B (z_{AB} - z_m) + q_m\n",
    "\\end{align*}\n",
    "$$\n",
    "\n",
    "where $z_s, z_{AB}$ and $z_m$ is the $z$ coordinate of the surface, the intersection between $A$-$B$, and the bottom of the domain, respectively. The derivatives of $q_s$ with respect to these coordinates are:\n",
    "\n",
    "$$\n",
    "\\begin{align*}\n",
    "\\frac{\\partial q_s}{\\partial z_s}    &= H_A \\\\\n",
    "\\frac{\\partial q_s}{\\partial z_{AB}} &= -H_A + H_B \\\\\n",
    "\\frac{\\partial q_s}{\\partial z_m}    &= -H_B \n",
    "\\end{align*}\n",
    "$$\n",
    "\n",
    "This demonstrates the derivative of the $z$ coordinate interesecting vertically stacked lithologies $L_1, L_2, \\ldots, L_n$ is the difference between the heat production of the lower lithology to the overlying lithology.\n",
    "\n",
    "$$\n",
    "\\frac{\\partial q_s}{\\partial z_{L}} = H_{L+1} - H_{L}\n",
    "$$"
   ]
  },
  {
   "cell_type": "markdown",
   "metadata": {},
   "source": [
    "## Integrated vertical flux II\n",
    "\n",
    "A simple alternative is to fix the lateral motion of nodes and only facilitate movement in the vertical direction.\n",
    "\n",
    "We know that in 1D:\n",
    "\n",
    "$$\n",
    "q_s = \\int_z H \\, \\mathrm{d}z + q_m\n",
    "$$\n",
    "\n",
    "which is approximately true for 2D and 3D simulations, where a smaller fraction of heat flux is attributed to a lateral component. If we partition the domain into two lithologies, $A$ and $B$, stacked vertically, then we expand the above formula:\n",
    "\n",
    "$$\n",
    "\\begin{align*}\n",
    "q_s =& q_A + q_B + q_m \\\\\n",
    "    =& H_A \\Delta z_A + H_B \\Delta z_B + q_m\n",
    "\\end{align*}\n",
    "$$\n",
    "\n",
    "where $z_s, z_{AB}$ and $z_m$ is the $z$ coordinate of the surface, the intersection between $A$-$B$, and the bottom of the domain, respectively. The derivatives of $q_s$ with respect to these coordinates are:\n",
    "\n",
    "$$\n",
    "\\begin{align*}\n",
    "\\frac{\\partial q_s}{\\partial \\Delta z_A}  &= H_A \\\\\n",
    "\\frac{\\partial q_s}{\\partial \\Delta z_B}  &= H_B \\\\\n",
    "\\end{align*}\n",
    "$$\n"
   ]
  },
  {
   "cell_type": "code",
   "execution_count": 24,
   "metadata": {
    "collapsed": true
   },
   "outputs": [],
   "source": [
    "def vfill(self):\n",
    "    \"\"\"\n",
    "    Flood-fill algorithm for the vertical axes\n",
    "    \"\"\"\n",
    "    def query_nearest(l):\n",
    "        layer_mask.fill(0)\n",
    "\n",
    "        yq = spl[l].ev(xq)\n",
    "        d, idx = tree.query(np.column_stack([xq, yq]))\n",
    "        layer_mask.flat[idx] = True\n",
    "\n",
    "        return np.where(layer_mask)\n",
    "\n",
    "    tree = self.ndinterp.tree\n",
    "    layer_voxel = np.zeros_like(lithology)\n",
    "    layer_mask = np.zeros_like(lithology, dtype=bool)\n",
    "    \n",
    "    nl = len(self.lithology_index)\n",
    "\n",
    "    for l in xrange(nl):\n",
    "        i0, j0 = query_nearest(l)\n",
    "\n",
    "        for i in xrange(i0.size):\n",
    "            layer_voxel[:i0[i], j0[i]] = l\n",
    "\n",
    "        print(\"mapped layer {}\".format(l))"
   ]
  },
  {
   "cell_type": "code",
   "execution_count": 25,
   "metadata": {
    "collapsed": true
   },
   "outputs": [],
   "source": [
    "def forward_model(x, nbpts, self):\n",
    "    nl = len(self.lithology_index)\n",
    "    H = x[:nl] # just H for demonstration purposes\n",
    "    q0 = x[nl]\n",
    "    bpts = np.split(x[nl+1:], nbpts) # nbpts are integers specifying how many points belong to each lithology in x\n",
    "    \n",
    "    lithology = self.lithology.reshape(self.mesh.n)\n",
    "    qc = []\n",
    "    \n",
    "    for l, lith in enumerate(self.lithology_index):\n",
    "        mask = lithology == lith\n",
    "        nrow = mask.sum(axis=0)\n",
    "        dz = nrow*self.grid_delta[-1]\n",
    "#         z0 = bpts[l]\n",
    "#         qc = H[l]*(z0 - z1)\n",
    "        qc.append( H[l]*dz )\n",
    "    \n",
    "    qs = np.vstack(qc).sum(axis=0)\n",
    "    return np.sum((qs - qobs)**2/sigma_qobs**2)\n",
    "\n",
    "def tangent_linear(x, dx, nbpts, self):\n",
    "    nl = len(self.lithology_index)\n",
    "    H = x[:nl]\n",
    "    q0 = x[nl]\n",
    "    dH = dx[:nl]\n",
    "    dq0 = dx[nl]\n",
    "    \n",
    "    bpts = np.split(x[nl+1:], nbpts)\n",
    "    dbpts = np.split(dx[nl+1:], nbpts)\n",
    "    \n",
    "    lithology = self.lithology.reshape(self.mesh.n)\n",
    "    qc = []\n",
    "    \n",
    "    for l, lith in enumerate(self.lithology_index):\n",
    "        nrow = (lithology == lith).sum(axis=0)\n",
    "        dz = nrow*self.grid_delta[-1]\n",
    "        \n",
    "        qc.append( H[l]*dz )\n",
    "    \n",
    "    qs = np.vstack(qc).sum(axis=0)\n",
    "    cost = np.sum((qs - qobs)**2/sigma_qobs**2)"
   ]
  },
  {
   "cell_type": "code",
   "execution_count": 47,
   "metadata": {
    "collapsed": true
   },
   "outputs": [],
   "source": [
    "def forward_model(x, ncol, self):\n",
    "    nl = len(self.lithology_index)\n",
    "    H = x[:nl]\n",
    "    q0 = x[nl]\n",
    "    \n",
    "    # ratios are grouped per lithology\n",
    "    ratios = np.split(x[nl+1:], nl)\n",
    "    \n",
    "    # normalise all ratios to the range [0:1]\n",
    "    vratios = np.vstack(ratios)\n",
    "    vratios /= vratios.sum(axis=0)\n",
    "    \n",
    "    # determine number of cells per lithology\n",
    "    ncells = vratios*self.mesh.n[-1]\n",
    "    deltaZ = ncells*self.grid_delta[-1]\n",
    "    qs = (H.reshape(-1,1)*deltaZ).sum(axis=0)\n",
    "    \n",
    "    cost = np.sum((qs - qobs)**2/sigma_qobs**2)\n",
    "    cost += np.sum((H - Hobs)**2/sigma_Hobs**2)\n",
    "    return cost\n",
    "    \n",
    "def tangent_linear(x, dx, ncol, self):\n",
    "    nl = len(self.lithology_index)\n",
    "    H = x[:nl]\n",
    "    q0 = x[nl]\n",
    "    dH = dx[:nl]\n",
    "    dq0 = dx[nl]\n",
    "    \n",
    "    # ratios are grouped per lithology\n",
    "    ratios = np.split(x[nl+1:], nl)\n",
    "    dratios = np.split(dx[nl+1:], nl)\n",
    "    \n",
    "    # normalise all ratios to the range [0:1]\n",
    "    vratios = np.vstack(ratios)\n",
    "    vratio_norm = vratios/vratios.sum(axis=0)\n",
    "    \n",
    "    # vrN = vr/vrsum\n",
    "    # dvrN/dvr = 1/vrsum\n",
    "    # dvrN/dvrsum = -vr/vrsum**2\n",
    "    # dvr = dvrN/dvr*dvr + dvrN/dvrsum * dvrsum\n",
    "    dvrNdvrsum = -vratios/(vratios.sum(axis=0)**2)\n",
    "    dvrNdvr = 1.0/vratios.sum(axis=0)\n",
    "    dvratios = np.vstack(dratios)\n",
    "    dvratios = dvrNdvr*dvratios + dvrNdvrsum*dvratios.sum(axis=0)\n",
    "    #vratios*dvratios.sum(axis=0)\n",
    "    print dvratios\n",
    "\n",
    "    \n",
    "    # determine number of cells per lithology\n",
    "    ncells = vratio_norm*self.mesh.n[-1]\n",
    "    deltaZ = ncells*self.grid_delta[-1]\n",
    "    qs = (H.reshape(-1,1)*deltaZ).sum(axis=0)\n",
    "    \n",
    "    # nc = vrnorm * n\n",
    "    # dnc/dvr = n\n",
    "    # dnc = dnc/dvr * dvr\n",
    "    dncells = self.mesh.n[-1] * dvratios\n",
    "    \n",
    "    # delZ = nc * dz\n",
    "    # ddelZ/dnc = dz\n",
    "    # ddelZ = ddelZ/dnc * dnc\n",
    "    ddeltaZ = self.grid_delta[-1]*dncells\n",
    "    \n",
    "    # qs = sum( H*delZ )\n",
    "    # dqs/dH = delZ\n",
    "    # dqs/ddelZ = H\n",
    "    # dqs = sum( dqs/dH * dH + dqs/ddelZ * ddelZ)\n",
    "    dqs = np.sum( deltaZ*dH.reshape(-1,1) + H.reshape(-1,1)*ddeltaZ, axis=0)\n",
    "    \n",
    "    \n",
    "    cost = np.sum((qs - qobs)**2/sigma_qobs**2)\n",
    "    cost += np.sum((H - Hobs)**2/sigma_Hobs**2)\n",
    "    dcdqs = (2.0*qs - 2.0*qobs)/sigma_qobs**2\n",
    "    dcdH  = (2.0*H  - 2.0*Hobs)/sigma_Hobs**2\n",
    "    dc = np.sum(dcdqs*dqs) + np.sum(dcdH*dH)\n",
    "    return cost, dc\n",
    "\n",
    "def adjoint_model(x, ncol, self):\n",
    "    ## FORWARD MODEL\n",
    "    nl = len(self.lithology_index)\n",
    "    H = x[:nl]\n",
    "    q0 = x[nl]\n",
    "    \n",
    "    # ratios are grouped per lithology\n",
    "    ratios = np.split(x[nl+1:], nl)\n",
    "    \n",
    "    # normalise all ratios to the range [0:1]\n",
    "    vratios = np.vstack(ratios)\n",
    "    vratio_norm = vratios/vratios.sum(axis=0)\n",
    "    \n",
    "    # determine number of cells per lithology\n",
    "    ncells = vratio_norm*self.mesh.n[-1]\n",
    "    deltaZ = ncells*self.grid_delta[-1]\n",
    "    qs = (H.reshape(-1,1)*deltaZ).sum(axis=0)\n",
    "    \n",
    "    cost = np.sum((qs - qobs)**2/sigma_qobs**2)\n",
    "    cost += np.sum((H - Hobs)**2/sigma_Hobs**2)\n",
    "    \n",
    "    ## ADJOINT MODEL\n",
    "    dqs = (2.0*qs - 2.0*qobs)/sigma_qobs**2\n",
    "    dH  = (2.0*H  - 2.0*Hobs)/sigma_Hobs**2\n",
    "    \n",
    "    # qs = sum( H*delZ )\n",
    "    # dqs/dH = delZ\n",
    "    # dqs/ddelZ = H\n",
    "    ddelZ = H.reshape(-1,1)*dqs\n",
    "    dH += (deltaZ*dqs).sum(axis=1) # pack dH into (nl,1) vector\n",
    "    \n",
    "    # delZ = nc * dz\n",
    "    # ddelZ/dnc = dz\n",
    "    dnc = self.grid_delta[-1]*ddelZ\n",
    "    \n",
    "    # nc = vrN * n\n",
    "    # dnc/dvrN = n\n",
    "    dvrN = self.mesh.n[-1]*dnc\n",
    "    \n",
    "    # vrN = vr/vrsum\n",
    "    # dvrN/dvr = 1/vrsum\n",
    "    # dvrN/dvrsum = -vr/vrsum**2\n",
    "    dvrNdvrsum = -vratios/(vratios.sum(axis=0)**2)\n",
    "    dvrNdvr = 1.0/vratios.sum(axis=0)\n",
    "    \n",
    "    dvrsum = dvrNdvrsum*dvrN\n",
    "    dvr = dvrNdvr*dvrN\n",
    "    dvr += np.sum(dvrsum,axis=0)\n",
    "    \n",
    "    dq0 = 0.0\n",
    "    gradient = np.hstack([dH, [dq0], dvr.ravel()])\n",
    "    \n",
    "    if self.log == True:\n",
    "        self.store.append(x.copy())\n",
    "        self.niter += 1\n",
    "    return cost, gradient"
   ]
  },
  {
   "cell_type": "code",
   "execution_count": 50,
   "metadata": {
    "collapsed": true
   },
   "outputs": [],
   "source": [
    "qobs = np.ones(nx)\n",
    "sigma_qobs = qobs / 10.\n",
    "\n",
    "Hobs = np.ones_like(H)\n",
    "sigma_Hobs = Hobs*1e-3\n",
    "\n",
    "ncol = lithology.shape[0]\n",
    "\n",
    "nl = len(inv.lithology_index)\n",
    "ratio = np.empty((nl, nx))\n",
    "ratio[0] = 0.2\n",
    "ratio[1] = 0.3\n",
    "ratio[2] = 0.5\n",
    "\n",
    "dratio = np.zeros((nl, nx))\n",
    "dratio[0,5:] = -0.1 # change the thickness of the top lithology\n",
    "dratio[1,5:] = 0.3 # change the thickness of the mid lithology\n",
    "\n",
    "x  = np.hstack([H, [q0], ratio.ravel()])\n",
    "dx = np.hstack([H*0.0, [q0*0.0], dratio.ravel()])\n"
   ]
  },
  {
   "cell_type": "code",
   "execution_count": 51,
   "metadata": {
    "scrolled": true
   },
   "outputs": [
    {
     "name": "stdout",
     "output_type": "stream",
     "text": [
      "[[ 0.    0.    0.    0.    0.   -0.14 -0.14 -0.14 -0.14 -0.14 -0.14 -0.14\n",
      "  -0.14 -0.14 -0.14 -0.14 -0.14 -0.14 -0.14 -0.14 -0.14 -0.14 -0.14 -0.14\n",
      "  -0.14 -0.14 -0.14 -0.14 -0.14 -0.14 -0.14 -0.14 -0.14 -0.14 -0.14 -0.14\n",
      "  -0.14 -0.14 -0.14 -0.14 -0.14 -0.14 -0.14 -0.14 -0.14 -0.14 -0.14 -0.14\n",
      "  -0.14 -0.14]\n",
      " [ 0.    0.    0.    0.    0.    0.24  0.24  0.24  0.24  0.24  0.24  0.24\n",
      "   0.24  0.24  0.24  0.24  0.24  0.24  0.24  0.24  0.24  0.24  0.24  0.24\n",
      "   0.24  0.24  0.24  0.24  0.24  0.24  0.24  0.24  0.24  0.24  0.24  0.24\n",
      "   0.24  0.24  0.24  0.24  0.24  0.24  0.24  0.24  0.24  0.24  0.24  0.24\n",
      "   0.24  0.24]\n",
      " [ 0.    0.    0.    0.    0.   -0.1  -0.1  -0.1  -0.1  -0.1  -0.1  -0.1\n",
      "  -0.1  -0.1  -0.1  -0.1  -0.1  -0.1  -0.1  -0.1  -0.1  -0.1  -0.1  -0.1\n",
      "  -0.1  -0.1  -0.1  -0.1  -0.1  -0.1  -0.1  -0.1  -0.1  -0.1  -0.1  -0.1\n",
      "  -0.1  -0.1  -0.1  -0.1  -0.1  -0.1  -0.1  -0.1  -0.1  -0.1  -0.1  -0.1\n",
      "  -0.1  -0.1 ]]\n",
      "finite difference 0.229266776703\n",
      "tangent linear 0.275116618076\n",
      "adjoint model 0.275116618076\n"
     ]
    }
   ],
   "source": [
    "fm0 = forward_model(x, ncol, inv)\n",
    "fm1 = forward_model(x+dx, ncol, inv)\n",
    "tl  = tangent_linear(x, dx, ncol, inv)\n",
    "ad  = adjoint_model(x, ncol, inv)\n",
    "\n",
    "\n",
    "print(\"finite difference {}\".format(fm1 - fm0))\n",
    "print(\"tangent linear {}\".format(tl[1]))\n",
    "print(\"adjoint model {}\".format(ad[1].dot(dx)))"
   ]
  },
  {
   "cell_type": "markdown",
   "metadata": {},
   "source": [
    "We need to update `self.lithology` if the heat flow solver is going to do anything, but this is the crux of our story.\n",
    "\n",
    "Remember to bound each ratio along the lateral plane with $[0,1]$."
   ]
  },
  {
   "cell_type": "code",
   "execution_count": 52,
   "metadata": {
    "collapsed": true
   },
   "outputs": [],
   "source": [
    "def construct_lithology(self, ncells):\n",
    "    lithology_new = np.zeros(self.mesh.n, dtype=np.int)\n",
    "    \n",
    "    ncol = self.mesh.n[0]\n",
    "    \n",
    "    ncells_int = np.round(ncells).astype(np.int)\n",
    "    remainder = (ncol - ncells_int.sum(axis=0))\n",
    "    \n",
    "    # give remainder (pos/neg) to least cleanly divisible\n",
    "    distribute = np.argmax(ncells % 1.0, axis=0)\n",
    "    ncells_int[distribute] += remainder\n",
    "    \n",
    "    ncells_pad = np.pad(ncells_int, [[1,0], [0,0]], 'constant')\n",
    "    ncells_sum = np.cumsum(ncells_pad, axis=0)\n",
    "    ncells_sum[-1] = ncol\n",
    "    \n",
    "    for l, lith in enumerate(self.lithology_index):\n",
    "        i0 = ncells_sum[l]\n",
    "        i1 = ncells_sum[l+1]\n",
    "\n",
    "        for i in xrange(i0.size):\n",
    "            lithology_new[i0[i]:i1[i],i] = lith\n",
    "    \n",
    "    return lithology_new\n",
    "\n",
    "def forward_model_ncells(x, ncol, self):\n",
    "    nl = len(self.lithology_index)\n",
    "    H = x[:nl]\n",
    "    q0 = x[nl]\n",
    "    \n",
    "    # ratios are grouped per lithology\n",
    "    ratios = np.split(x[nl+1:], nl)\n",
    "    \n",
    "    # normalise all ratios to the range [0:1]\n",
    "    vratios = np.vstack(ratios)\n",
    "    vratios /= vratios.sum(axis=0)\n",
    "    \n",
    "    # determine number of cells per lithology\n",
    "    ncells = (vratios*self.mesh.n[-1])#.astype(np.int)\n",
    "    return ncells"
   ]
  },
  {
   "cell_type": "code",
   "execution_count": 53,
   "metadata": {},
   "outputs": [
    {
     "data": {
      "text/plain": [
       "<matplotlib.image.AxesImage at 0x7fc2a8ef9d10>"
      ]
     },
     "execution_count": 53,
     "metadata": {},
     "output_type": "execute_result"
    },
    {
     "data": {
      "image/png": "[encoded data removed]",
      "text/plain": [
       "<matplotlib.figure.Figure at 0x7fc2a8154dd0>"
      ]
     },
     "metadata": {},
     "output_type": "display_data"
    }
   ],
   "source": [
    "ncells   = forward_model_ncells(x, ncol, inv)\n",
    "lith_x   = construct_lithology(inv, ncells)\n",
    "\n",
    "ncells   = forward_model_ncells(x+dx, ncells, inv)\n",
    "lith_xdx = construct_lithology(inv, ncells)\n",
    "\n",
    "\n",
    "fig, (ax1,ax2) = plt.subplots(1,2, sharey=True, figsize=(8,4))\n",
    "ax1.imshow(lith_x)\n",
    "ax2.imshow(lith_xdx)"
   ]
  },
  {
   "cell_type": "code",
   "execution_count": 55,
   "metadata": {},
   "outputs": [
    {
     "data": {
      "text/plain": [
       "      fun: 15603376.545367964\n",
       " hess_inv: <154x154 LbfgsInvHessProduct with dtype=float64>\n",
       "      jac: array([ 1.55468935e+09,  7.11935095e+08, -2.13467760e+09,  0.00000000e+00,\n",
       "        2.04482294e+07,  1.92318109e+07,  1.40871093e+07,  3.78164004e+06,\n",
       "       -1.27092421e+07, -3.59176746e+07, -4.41054792e+07, -2.81712016e+07,\n",
       "       -1.38227627e+07, -1.75044343e+06,  7.64508746e+06,  1.38341542e+07,\n",
       "        1.65374823e+07,  1.56329573e+07,  1.11614461e+07,  3.32485293e+06,\n",
       "       -7.44638835e+06, -2.07569324e+07, -3.59829004e+07, -4.99954999e+07,\n",
       "       -2.34683546e+07, -3.64215814e+06,  9.65145235e+06,  1.72294674e+07,\n",
       "        2.02523898e+07,  1.99702155e+07,  1.75444908e+07,  1.39463824e+07,\n",
       "        9.91679541e+06,  5.96986967e+06,  2.42226940e+06, -5.65556610e+05,\n",
       "       -2.94563320e+06, -4.74193536e+06, -6.01596991e+06, -6.83950421e+06,\n",
       "       -7.27444375e+06, -7.35940691e+06, -7.10247485e+06, -6.47976065e+06,\n",
       "       -5.43972122e+06, -3.91343629e+06, -1.83131440e+06,  8.53250144e+05,\n",
       "        4.13298243e+06,  7.90903268e+06,  1.19483309e+07,  1.58401566e+07,\n",
       "        1.89594111e+07,  2.04482294e+07,  2.66220015e+07,  2.45324267e+07,\n",
       "        1.76452667e+07,  4.66115396e+06, -1.54461424e+07, -4.31251514e+07,\n",
       "       -5.25400793e+07, -3.34309501e+07, -1.63531885e+07, -2.06594459e+06,\n",
       "        9.00756747e+06,  1.62820151e+07,  1.94547149e+07,  1.83934515e+07,\n",
       "        1.31424631e+07,  3.92044362e+06, -8.79831093e+06, -2.45923461e+07,\n",
       "       -4.27785228e+07, -5.97053373e+07, -2.83427871e+07, -4.45664844e+06,\n",
       "        1.19891870e+07,  2.17729798e+07,  2.60920918e+07,  2.62881948e+07,\n",
       "        2.36493187e+07,  1.92907996e+07,  1.41020380e+07,  8.74042244e+06,\n",
       "        3.65435106e+06, -8.79150923e+05, -4.71242182e+06, -7.78709499e+06,\n",
       "       -1.00993780e+07, -1.16721173e+07, -1.25339350e+07, -1.27051819e+07,\n",
       "       -1.21903056e+07, -1.09763402e+07, -9.03745295e+06, -6.34573712e+06,\n",
       "       -2.88861807e+06,  1.30675798e+06,  6.14210304e+06,  1.14103128e+07,\n",
       "        1.67538422e+07,  2.16238772e+07,  2.52484715e+07,  2.66220015e+07,\n",
       "       -2.41523164e+07, -1.90608819e+07, -1.16177204e+07, -2.57214169e+06,\n",
       "        7.06266421e+06,  1.61505563e+07,  1.68277325e+07,  9.82625776e+06,\n",
       "        4.45753143e+06,  5.28799054e+05, -2.19773638e+06, -3.84967463e+06,\n",
       "       -4.53718051e+06, -4.30939586e+06, -3.14981062e+06, -9.77811446e+05,\n",
       "        2.32016652e+06,  6.95085154e+06,  1.31100132e+07,  2.01502769e+07,\n",
       "        1.17455058e+07,  2.24188014e+06, -7.23680273e+06, -1.55937605e+07,\n",
       "       -2.19347670e+07, -2.56721102e+07, -2.65579885e+07, -2.46627393e+07,\n",
       "       -2.03182214e+07, -1.40451490e+07, -6.47853109e+06,  1.69991045e+06,\n",
       "        9.81799565e+06,  1.72568973e+07,  2.34833743e+07,  2.80722443e+07,\n",
       "        3.07211562e+07,  3.12595238e+07,  2.96530164e+07,  2.60044150e+07,\n",
       "        2.05510011e+07,  1.36579837e+07,  5.80685547e+06, -2.42297977e+06,\n",
       "       -1.03813004e+07, -1.73849042e+07, -2.27676288e+07, -2.59425797e+07,\n",
       "       -2.64739995e+07, -2.41523164e+07])\n",
       "  message: 'CONVERGENCE: REL_REDUCTION_OF_F_<=_FACTR*EPSMCH'\n",
       "     nfev: 35\n",
       "      nit: 21\n",
       "   status: 0\n",
       "  success: True\n",
       "        x: array([4.58162374e-04, 2.54079909e-05, 3.58446524e-03, 3.50000000e-02,\n",
       "       1.99998488e-01, 1.60888234e-01, 1.22420549e-01, 8.52271820e-02,\n",
       "       4.99189440e-02, 1.70756564e-02, 1.59432876e-04, 1.09064972e-04,\n",
       "       6.61613980e-05, 1.07719885e-11, 1.00000000e-12, 1.00000000e-12,\n",
       "       1.00000000e-12, 1.00000000e-12, 1.00000000e-12, 1.00000000e-12,\n",
       "       4.77408471e-05, 8.66316788e-05, 1.33366305e-04, 1.74872706e-03,\n",
       "       3.31544183e-02, 6.73003420e-02, 1.03625789e-01, 1.41534216e-01,\n",
       "       1.80403060e-01, 2.19593985e-01, 2.58463376e-01, 2.96372915e-01,\n",
       "       3.32700064e-01, 3.66848286e-01, 3.98256842e-01, 4.26409987e-01,\n",
       "       4.50845442e-01, 4.71161977e-01, 4.87026000e-01, 4.98177029e-01,\n",
       "       5.04431967e-01, 5.05688112e-01, 5.01924839e-01, 4.93203938e-01,\n",
       "       4.79668603e-01, 4.61541079e-01, 4.39119015e-01, 4.12770579e-01,\n",
       "       3.82928414e-01, 3.50082537e-01, 3.14772298e-01, 2.77577527e-01,\n",
       "       2.39109015e-01, 1.99998488e-01, 2.99998963e-01, 2.82616648e-01,\n",
       "       2.65520027e-01, 2.48989926e-01, 2.33297860e-01, 2.18701556e-01,\n",
       "       2.05438891e-01, 1.93726967e-01, 1.83760265e-01, 1.75702466e-01,\n",
       "       1.69685900e-01, 1.65809379e-01, 1.64136566e-01, 1.64694936e-01,\n",
       "       1.67475316e-01, 1.72432045e-01, 1.79483719e-01, 1.88514528e-01,\n",
       "       1.99376161e-01, 2.11890031e-01, 2.25847286e-01, 2.41022656e-01,\n",
       "       2.57166920e-01, 2.74014909e-01, 2.91289883e-01, 3.08708089e-01,\n",
       "       3.25983435e-01, 3.42832193e-01, 3.58977658e-01, 3.74154692e-01,\n",
       "       3.88114072e-01, 4.00626580e-01, 4.11486765e-01, 4.20516309e-01,\n",
       "       4.27566956e-01, 4.32522943e-01, 4.35302900e-01, 4.35861183e-01,\n",
       "       4.34188627e-01, 4.30312692e-01, 4.24297016e-01, 4.16240369e-01,\n",
       "       4.06275030e-01, 3.94564624e-01, 3.81301430e-01, 3.66703228e-01,\n",
       "       3.51009732e-01, 3.34478651e-01, 3.17381463e-01, 2.99998963e-01,\n",
       "       5.00001227e-01, 5.26074521e-01, 5.51719540e-01, 5.76515248e-01,\n",
       "       6.00054567e-01, 6.21951058e-01, 6.41845687e-01, 6.59411674e-01,\n",
       "       6.74359978e-01, 6.86445174e-01, 6.95468848e-01, 7.01282851e-01,\n",
       "       7.03791728e-01, 7.02954289e-01, 6.98784283e-01, 6.91350172e-01,\n",
       "       6.80774009e-01, 6.67229433e-01, 6.50938821e-01, 6.32169690e-01,\n",
       "       6.11231336e-01, 5.88466668e-01, 5.64249407e-01, 5.38977127e-01,\n",
       "       5.13064736e-01, 4.86937671e-01, 4.61024919e-01, 4.35751965e-01,\n",
       "       4.11533810e-01, 3.88768145e-01, 3.67828817e-01, 3.49059690e-01,\n",
       "       3.32768991e-01, 3.19224249e-01, 3.08647897e-01, 3.01213623e-01,\n",
       "       2.97043514e-01, 2.96206054e-01, 2.98714994e-01, 3.04529133e-01,\n",
       "       3.13552988e-01, 3.25638370e-01, 3.40586808e-01, 3.58152817e-01,\n",
       "       3.78047926e-01, 3.99945418e-01, 4.23485699e-01, 4.48282203e-01,\n",
       "       4.73927749e-01, 5.00001227e-01])"
      ]
     },
     "execution_count": 55,
     "metadata": {},
     "output_type": "execute_result"
    }
   ],
   "source": [
    "from scipy.optimize import minimize\n",
    "\n",
    "bounds_lower = np.hstack([[0.0, 0.0, 0.0, 0.0], np.ones(ratio.size)*1e-12])\n",
    "bounds_upper = np.hstack([[1e99, 1e99, 1e99, 1e99], np.ones(ratio.size)])\n",
    "bounds = list(zip(bounds_lower, bounds_upper))\n",
    "\n",
    "qobs = np.sin(np.linspace(0, 2.0*np.pi, nx)) + 2.0\n",
    "sigma_qobs = np.ones(nx)*0.0001\n",
    "\n",
    "# this doesn't work for TNC strangely\n",
    "res = minimize(adjoint_model, x, args=(ncol, inv), jac=True, bounds=bounds)\n",
    "res"
   ]
  },
  {
   "cell_type": "code",
   "execution_count": 56,
   "metadata": {
    "collapsed": true
   },
   "outputs": [],
   "source": [
    "ncells = forward_model_ncells(res.x, ncol, inv)\n",
    "lithology_new = construct_lithology(inv, ncells)\n",
    "\n",
    "HP = np.zeros_like(lithology_new, dtype=np.float)\n",
    "for l, lith in enumerate(inv.lithology_index):\n",
    "    mask = lithology_new == lith\n",
    "    HP[mask] = res.x[l]\n",
    "    \n",
    "qs = np.sum(HP*inv.grid_delta[0], axis=0)\n",
    "\n",
    "# qs = np.sum(inv.grid_delta[0]*inv.mesh.n[0]*HP, axis=0)"
   ]
  },
  {
   "cell_type": "code",
   "execution_count": 57,
   "metadata": {},
   "outputs": [
    {
     "data": {
      "text/plain": [
       "<matplotlib.colorbar.Colorbar at 0x7fc2a8cbf350>"
      ]
     },
     "execution_count": 57,
     "metadata": {},
     "output_type": "execute_result"
    },
    {
     "data": {
      "image/png": "[encoded data removed]",
      "text/plain": [
       "<matplotlib.figure.Figure at 0x7fc2a81c6990>"
      ]
     },
     "metadata": {},
     "output_type": "display_data"
    }
   ],
   "source": [
    "fig, (ax1, ax2, ax3) = plt.subplots(1,3, figsize=(14,3.5))\n",
    "im1 = ax1.imshow(lithology_new)\n",
    "im2 = ax2.imshow(HP)\n",
    "ax3.plot(inv.mesh.grid_coords[0], qobs, label=r'$q_{\\mathrm{obs}}$')\n",
    "ax3.plot(inv.mesh.grid_coords[0], qs, label=r'$q_{s}$')\n",
    "\n",
    "ax3.legend()\n",
    "fig.colorbar(im1, ax=ax1)\n",
    "fig.colorbar(im2, ax=ax2)"
   ]
  },
  {
   "cell_type": "code",
   "execution_count": 58,
   "metadata": {},
   "outputs": [
    {
     "data": {
      "text/plain": [
       "array([[ 9,  8,  6,  4,  2,  0,  0,  0,  0,  0,  0,  0,  0,  0,  0,  0,\n",
       "         0,  0,  0,  0,  1,  3,  5,  7,  9, 10, 12, 13, 15, 16, 17, 18,\n",
       "        18, 19, 19, 20, 20, 20, 20, 20, 19, 19, 18, 17, 16, 15, 14, 13,\n",
       "        11,  9],\n",
       "       [14, 14, 14, 13, 13, 12, 12, 11, 10, 10,  9,  9,  9,  9,  9,  9,\n",
       "        10, 11, 11, 12, 12, 13, 13, 14, 14, 15, 15, 15, 16, 16, 16, 17,\n",
       "        17, 17, 17, 17, 17, 17, 17, 17, 17, 17, 17, 16, 16, 16, 16, 15,\n",
       "        15, 14],\n",
       "       [25, 27, 29, 31, 33, 36, 37, 38, 39, 39, 40, 40, 40, 40, 40, 40,\n",
       "        39, 38, 38, 37, 35, 32, 30, 28, 26, 23, 22, 20, 18, 17, 15, 14,\n",
       "        13, 13, 12, 12, 12, 11, 12, 12, 12, 13, 14, 15, 16, 17, 19, 21,\n",
       "        22, 25]])"
      ]
     },
     "execution_count": 58,
     "metadata": {},
     "output_type": "execute_result"
    }
   ],
   "source": [
    "ncells.astype(int)"
   ]
  },
  {
   "cell_type": "markdown",
   "metadata": {},
   "source": [
    "Make a movie"
   ]
  },
  {
   "cell_type": "code",
   "execution_count": 59,
   "metadata": {},
   "outputs": [],
   "source": [
    "inv.log = True\n",
    "inv.store = []\n",
    "inv.niter = 0\n",
    "\n",
    "res = minimize(adjoint_model, x, args=(ncol, inv), jac=True, bounds=bounds)"
   ]
  },
  {
   "cell_type": "code",
   "execution_count": 84,
   "metadata": {},
   "outputs": [
    {
     "name": "stdout",
     "output_type": "stream",
     "text": [
      "0.0 0.003607836209109874\n"
     ]
    }
   ],
   "source": [
    "min_HP = 1.0\n",
    "max_HP = 0.0\n",
    "\n",
    "for i in xrange(2, inv.niter):\n",
    "    xi = inv.store[i]\n",
    "    min_HP = min(xi[:nl].min(), min_HP)\n",
    "    max_HP = max(xi[:nl].max(), max_HP)\n",
    "\n",
    "print min_HP, max_HP"
   ]
  },
  {
   "cell_type": "code",
   "execution_count": 85,
   "metadata": {},
   "outputs": [
    {
     "data": {
      "image/png": "[encoded data removed]",
      "text/plain": [
       "<matplotlib.figure.Figure at 0x7fc295092b50>"
      ]
     },
     "metadata": {},
     "output_type": "display_data"
    }
   ],
   "source": [
    "from matplotlib.gridspec import GridSpec\n",
    "import matplotlib.colors as colors\n",
    "import matplotlib.cm as cmx\n",
    "import matplotlib.animation as manimation\n",
    "\n",
    "FFMpegWriter = manimation.writers['ffmpeg']\n",
    "metadata = dict(title='Movie Test', artist='Matplotlib',\n",
    "        comment='Movie support!')\n",
    "writer = FFMpegWriter(fps=5, metadata=metadata)\n",
    "\n",
    "\n",
    "\n",
    "fig = plt.figure(1, figsize=(8, 10))\n",
    "gs = GridSpec(2,1, height_ratios=[2,5], wspace=0.1, hspace=0.0)\n",
    "gs.update(left=0.05, right=0.95, bottom=0.05, top=0.95)\n",
    "\n",
    "\n",
    "with writer.saving(fig, 'sinusoidal_HP.mp4', 100):\n",
    "    for i in xrange(inv.niter):\n",
    "        \n",
    "        xi = inv.store[i]\n",
    "        ncells = forward_model_ncells(xi, ncol, inv)\n",
    "        lithology_new = construct_lithology(inv, ncells)\n",
    "\n",
    "        HP = np.zeros_like(lithology_new, dtype=np.float)\n",
    "        for l, lith in enumerate(inv.lithology_index):\n",
    "            mask = lithology_new == lith\n",
    "            HP[mask] = xi[l]\n",
    "\n",
    "        qs = np.sum(HP*inv.grid_delta[0], axis=0)\n",
    "        \n",
    "        # plot surface heat flow\n",
    "        ax1 = fig.add_subplot(gs[0], ylim=[qobs.min(), qobs.max()])\n",
    "        ax1.get_xaxis().set_visible(False)\n",
    "        ax1.set_yticklabels([])\n",
    "        ax1.set_frame_on(False)\n",
    "        ax1.grid(True)\n",
    "        ax1.plot(inv.mesh.grid_coords[0], qobs, label=r'$q_{\\mathrm{obs}}$')\n",
    "        ax1.plot(inv.mesh.grid_coords[0], qs, label=r'$q_{s}$')\n",
    "        ax1.legend()\n",
    "        \n",
    "        \n",
    "        # plot lithology heat production\n",
    "        ax2 = fig.add_subplot(gs[1])\n",
    "        ax2.axis('off')\n",
    "        im2 = ax2.imshow(HP, aspect=0.9, cmap=cmx.YlOrRd, vmin=min_HP, vmax=max_HP)\n",
    "        writer.grab_frame()\n",
    "        \n",
    "        ax1.cla()\n",
    "        ax2.cla()"
   ]
  },
  {
   "cell_type": "markdown",
   "metadata": {},
   "source": [
    "Now we try to make this animation smoother"
   ]
  },
  {
   "cell_type": "code",
   "execution_count": 91,
   "metadata": {},
   "outputs": [
    {
     "data": {
      "image/png": "[encoded data removed]",
      "text/plain": [
       "<matplotlib.figure.Figure at 0x7fc24837e110>"
      ]
     },
     "metadata": {},
     "output_type": "display_data"
    }
   ],
   "source": [
    "def reconstruct_HP_qs(x, ncol, inv):\n",
    "    ncells = forward_model_ncells(xi, ncol, inv)\n",
    "    lithology_new = construct_lithology(inv, ncells)\n",
    "\n",
    "    HP = np.zeros_like(lithology_new, dtype=np.float)\n",
    "    for l, lith in enumerate(inv.lithology_index):\n",
    "        mask = lithology_new == lith\n",
    "        HP[mask] = xi[l]\n",
    "\n",
    "    qs = np.sum(HP*inv.grid_delta[0], axis=0)\n",
    "    return HP, qs\n",
    "\n",
    "def plot_qs(ax, qs):\n",
    "    ax.get_xaxis().set_visible(False)\n",
    "    ax.set_yticklabels([])\n",
    "    ax.set_frame_on(False)\n",
    "    ax.grid(True)\n",
    "    ax.plot(inv.mesh.grid_coords[0], qobs, label=r'$q_{\\mathrm{obs}}$')\n",
    "    ax.plot(inv.mesh.grid_coords[0], qs, label=r'$q_{s}$')\n",
    "    ax.legend()\n",
    "    return\n",
    "\n",
    "def plot_HP(ax, HP):\n",
    "    ax.axis('off')\n",
    "    ax.imshow(HP, aspect=0.9, cmap=cmx.YlOrRd, vmin=min_HP, vmax=max_HP)\n",
    "    return\n",
    "\n",
    "\n",
    "FFMpegWriter = manimation.writers['ffmpeg']\n",
    "metadata = dict(title='Movie Test', artist='Matplotlib',\n",
    "        comment='Movie support!')\n",
    "fps = 10\n",
    "framerate = 25\n",
    "writer = FFMpegWriter(fps=framerate, metadata=metadata)\n",
    "\n",
    "frame_scale = np.linspace(0, 1, framerate-fps)\n",
    "\n",
    "\n",
    "fig = plt.figure(1, figsize=(8, 10))\n",
    "gs = GridSpec(2,1, height_ratios=[2,5], wspace=0.1, hspace=0.0)\n",
    "gs.update(left=0.05, right=0.95, bottom=0.05, top=0.95)\n",
    "\n",
    "\n",
    "with writer.saving(fig, 'sinusoidal_HP.mp4', 100):\n",
    "    for i in xrange(5, inv.niter-1):\n",
    "        \n",
    "        xi0 = inv.store[i]\n",
    "        xi1 = inv.store[i+1]\n",
    "        \n",
    "        for frame in frame_scale:\n",
    "            xi = xi0*(1.0 - frame) + xi1*frame\n",
    "        \n",
    "            HP, qs = reconstruct_HP_qs(xi, ncol, inv)\n",
    "\n",
    "            # plot surface heat flow\n",
    "            ax1 = fig.add_subplot(gs[0], ylim=[qobs.min(), qobs.max()])\n",
    "            plot_qs(ax1, qs)\n",
    "\n",
    "            # plot lithology heat production\n",
    "            ax2 = fig.add_subplot(gs[1])\n",
    "            plot_HP(ax2, HP)\n",
    "\n",
    "            writer.grab_frame()\n",
    "\n",
    "            ax1.cla()\n",
    "            ax2.cla()"
   ]
  },
  {
   "cell_type": "code",
   "execution_count": 71,
   "metadata": {
    "collapsed": true
   },
   "outputs": [],
   "source": []
  }
 ],
 "metadata": {
  "kernelspec": {
   "display_name": "Python 2",
   "language": "python",
   "name": "python2"
  },
  "language_info": {
   "codemirror_mode": {
    "name": "ipython",
    "version": 2
   },
   "file_extension": ".py",
   "mimetype": "text/x-python",
   "name": "python",
   "nbconvert_exporter": "python",
   "pygments_lexer": "ipython2",
   "version": "2.7.12"
  }
 },
 "nbformat": 4,
 "nbformat_minor": 2
}
