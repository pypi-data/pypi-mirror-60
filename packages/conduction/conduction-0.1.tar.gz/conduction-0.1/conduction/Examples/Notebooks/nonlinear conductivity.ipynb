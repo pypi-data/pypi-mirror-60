{
 "cells": [
  {
   "cell_type": "markdown",
   "metadata": {},
   "source": [
    "# Nonlinear conductivity\n",
    "\n",
    "Conductivity should depend on temperature. We use Hofmeister's 1999 law to calculate the effective conductivity, $k(T)$."
   ]
  },
  {
   "cell_type": "code",
   "execution_count": null,
   "metadata": {},
   "outputs": [],
   "source": [
    "import numpy as np\n",
    "import conduction\n",
    "from conduction import ConductionND\n",
    "from time import clock"
   ]
  },
  {
   "cell_type": "code",
   "execution_count": null,
   "metadata": {
    "collapsed": true
   },
   "outputs": [],
   "source": [
    "minX, maxX = 0.0, 1.0\n",
    "minY, maxY = 0.0, 1.0\n",
    "minZ, maxZ = 0.0, 1.0\n",
    "nx, ny, nz = 30, 30, 30\n",
    "n = nx*ny*nz\n",
    "\n",
    "ode = ConductionND((minX, minY, minZ), (maxX, maxY, maxZ), (nx,ny,nz))"
   ]
  },
  {
   "cell_type": "code",
   "execution_count": null,
   "metadata": {
    "collapsed": true
   },
   "outputs": [],
   "source": [
    "k0 = np.ones(n)\n",
    "k  = np.ones(n)\n",
    "H  = np.zeros(n)\n",
    "a  = np.ones(n)\n",
    "\n",
    "# BCs\n",
    "ode.boundary_condition('maxZ', 298.0, flux=False)\n",
    "ode.boundary_condition('minZ', 1e3, flux=True)"
   ]
  },
  {
   "cell_type": "code",
   "execution_count": null,
   "metadata": {
    "collapsed": true
   },
   "outputs": [],
   "source": [
    "H5_file = 'nonlinear-conductivity.h5'\n",
    "\n",
    "ode.save_mesh_to_hdf5(H5_file)"
   ]
  },
  {
   "cell_type": "code",
   "execution_count": null,
   "metadata": {},
   "outputs": [],
   "source": [
    "k = k0.copy()\n",
    "ode.update_properties(k, H)\n",
    "picard_error = []\n",
    "\n",
    "error = 10.0\n",
    "i = 0\n",
    "t = clock()\n",
    "\n",
    "tolerance = 1e-10\n",
    "\n",
    "while error > tolerance:\n",
    "    k_last = ode.diffusivity[:].copy()\n",
    "    ode.update_properties(k, H)\n",
    "    \n",
    "    T = ode.solve()\n",
    "    k = k0*(298.0/T)**a\n",
    "    \n",
    "    prop_dict = {'T{}'.format(i): T,\n",
    "                 'k{}'.format(i): k}\n",
    "\n",
    "    ode.save_field_to_hdf5(H5_file, **prop_dict)\n",
    "\n",
    "    error = np.absolute(k - k_last).max()\n",
    "    picard_error.append(error)\n",
    "    i += 1\n",
    "    \n",
    "    if i > 50:\n",
    "        break\n",
    "\n",
    "conduction.tools.generateXdmf(H5_file)\n",
    "        \n",
    "print \"{} iterations in {} seconds\".format(i, clock()-t)"
   ]
  },
  {
   "cell_type": "code",
   "execution_count": null,
   "metadata": {},
   "outputs": [],
   "source": [
    "import matplotlib.pyplot as plt\n",
    "%matplotlib inline\n",
    "\n",
    "fig = plt.figure(1)\n",
    "ax1 = fig.add_subplot(111, yscale='log', xlabel='iterations', ylabel='residual')\n",
    "ax1.plot(np.arange(i), picard_error)\n",
    "plt.show()"
   ]
  },
  {
   "cell_type": "markdown",
   "metadata": {},
   "source": [
    "Lets wrap this up with some useful functionality.\n",
    "\n",
    "`nonlinear_conductivity` should be able to accept any conductivity law."
   ]
  },
  {
   "cell_type": "code",
   "execution_count": null,
   "metadata": {
    "collapsed": true
   },
   "outputs": [],
   "source": [
    "def hofmeister1999(k0, T, a):\n",
    "    return k0*(298.0/T)**a\n",
    "\n",
    "def nonlinear_conductivity(self, k0, tolerance, k_fn, *args):\n",
    "    k = k0.copy()\n",
    "\n",
    "    error = 10.0\n",
    "    i = 0\n",
    "    t = clock()\n",
    "\n",
    "    while error > tolerance:\n",
    "        k_last = ode.diffusivity.copy()\n",
    "        ode.update_properties(k, ode.heat_sources)\n",
    "\n",
    "        T = ode.solve()\n",
    "        k = k_fn(*args)\n",
    "\n",
    "        error = np.absolute(k - k_last).max()\n",
    "        i += 1\n",
    "\n",
    "    print \"{} iterations in {} seconds\".format(i, clock()-t)"
   ]
  },
  {
   "cell_type": "code",
   "execution_count": null,
   "metadata": {},
   "outputs": [],
   "source": [
    "nonlinear_conductivity(ode, k0, tolerance, hofmeister1999, k0, ode.temperature, a)"
   ]
  },
  {
   "cell_type": "code",
   "execution_count": null,
   "metadata": {},
   "outputs": [],
   "source": [
    "coords = ode.coords\n",
    "\n",
    "from mpl_toolkits.mplot3d import Axes3D\n",
    "\n",
    "fig = plt.figure(figsize=(10,8))\n",
    "ax1 = fig.add_subplot(111, projection='3d')\n",
    "sca = ax1.scatter3D(coords[:,0], coords[:,1], coords[:,2], c=ode.diffusivity)\n",
    "fig.colorbar(sca)"
   ]
  }
 ],
 "metadata": {
  "kernelspec": {
   "display_name": "Python 2",
   "language": "python",
   "name": "python2"
  },
  "language_info": {
   "codemirror_mode": {
    "name": "ipython",
    "version": 2
   },
   "file_extension": ".py",
   "mimetype": "text/x-python",
   "name": "python",
   "nbconvert_exporter": "python",
   "pygments_lexer": "ipython2",
   "version": "2.7.12"
  }
 },
 "nbformat": 4,
 "nbformat_minor": 2
}
