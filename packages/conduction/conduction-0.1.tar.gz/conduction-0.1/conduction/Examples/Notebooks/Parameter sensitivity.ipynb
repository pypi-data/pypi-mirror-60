{
 "cells": [
  {
   "cell_type": "code",
   "execution_count": 1,
   "metadata": {
    "collapsed": true
   },
   "outputs": [],
   "source": [
    "import numpy as np\n",
    "import matplotlib.pyplot as plt\n",
    "%matplotlib inline\n",
    "\n",
    "from scipy.spatial import cKDTree\n",
    "from scipy.interpolate import RegularGridInterpolator, SmoothBivariateSpline, RectBivariateSpline\n",
    "from scipy.optimize import minimize\n",
    "import conduction\n",
    "from time import clock\n",
    "\n",
    "from petsc4py import PETSc\n",
    "from mpi4py import MPI\n",
    "comm = MPI.COMM_WORLD"
   ]
  },
  {
   "cell_type": "code",
   "execution_count": 2,
   "metadata": {
    "collapsed": true
   },
   "outputs": [],
   "source": [
    "directory = '/opt/ben/'\n",
    "\n",
    "layer_attributes = np.loadtxt(directory+'layers.info', skiprows=1, usecols=(2,3,4,5,6,7,8,9,10))\n",
    "layer_number = np.loadtxt(directory+'layers.info', dtype=int, skiprows=1, usecols=(0,))\n",
    "layer_name   = np.loadtxt(directory+'layers.info', dtype=str, skiprows=1, usecols=(1,))\n",
    "\n",
    "layer_header = ['body number', 'density', 'alpha', 'thermal conductivity', 'heat production rate',\\\n",
    "                'pressure coefficient', 'Gruneisen parameter', 'pressure derivative of bulk modulus', 'man']\n",
    "\n",
    "\n",
    "layer = dict()\n",
    "for i in xrange(0, 10):\n",
    "    data = np.loadtxt(directory+'layers_xy/layer{}.xyz'.format(i))\n",
    "    layer[i] = data"
   ]
  },
  {
   "cell_type": "code",
   "execution_count": 3,
   "metadata": {},
   "outputs": [
    {
     "name": "stdout",
     "output_type": "stream",
     "text": [
      "min/max:\n",
      " x (350000.0, 788000.0)\n",
      " y (480000.0, 1000000.0)\n",
      " z (-130000.0, 600.0)\n"
     ]
    }
   ],
   "source": [
    "Xcoords = np.unique(data[:,0])\n",
    "Ycoords = np.unique(data[:,1])\n",
    "\n",
    "nx, ny = Xcoords.size, Ycoords.size\n",
    "\n",
    "minX, minY, minZ = data.min(axis=0)\n",
    "maxX, maxY, maxZ = data.max(axis=0)\n",
    "\n",
    "# minZ = -400e3\n",
    "minZ = -130e3\n",
    "maxZ = 600.0\n",
    "\n",
    "if comm.rank == 0:\n",
    "    print(\"min/max:\\n x {}\\n y {}\\n z {}\".format((minX, maxX),\n",
    "                                                 (minY, maxY),\n",
    "                                                 (minZ, maxZ)))"
   ]
  },
  {
   "cell_type": "code",
   "execution_count": 4,
   "metadata": {
    "collapsed": true
   },
   "outputs": [],
   "source": [
    "spl = dict()\n",
    "\n",
    "for i in xrange(10):\n",
    "    data = layer[i]\n",
    "    xl = data[:,0]\n",
    "    yl = data[:,1]\n",
    "    zl = data[:,2].reshape(ny,nx)\n",
    "    spl[i] = RectBivariateSpline(Ycoords, Xcoords, zl)\n",
    "\n",
    "\n",
    "## Setup the hexahedral mesh\n",
    "\n",
    "Nx, Ny, Nz = 55, 55, 105\n",
    "\n",
    "mesh = conduction.ConductionND((minX, minY, minZ), (maxX, maxY, maxZ), (Nx, Ny, Nz))\n",
    "\n",
    "coords = mesh.coords\n",
    "\n",
    "Xcoords = np.unique(coords[:,0])\n",
    "Ycoords = np.unique(coords[:,1])\n",
    "Zcoords = np.unique(coords[:,2])\n",
    "\n",
    "nz, ny, nx = mesh.n"
   ]
  },
  {
   "cell_type": "code",
   "execution_count": 5,
   "metadata": {},
   "outputs": [
    {
     "name": "stdout",
     "output_type": "stream",
     "text": [
      "mapped layer 0\n",
      "mapped layer 1\n",
      "mapped layer 2\n",
      "mapped layer 3\n",
      "mapped layer 4\n",
      "mapped layer 5\n",
      "mapped layer 6\n",
      "mapped layer 7\n",
      "mapped layer 8\n",
      "mapped layer 9\n"
     ]
    }
   ],
   "source": [
    "## Fill the volume between each surface\n",
    "\n",
    "xq, yq = np.meshgrid(Xcoords, Ycoords)\n",
    "xq = xq.ravel()\n",
    "yq = yq.ravel()\n",
    "\n",
    "horizontal_slice = np.column_stack([xq, yq])\n",
    "\n",
    "\n",
    "# create layer voxel\n",
    "layer_voxel = np.zeros((nz, ny, nx), dtype=np.int8)\n",
    "layer_mask = np.zeros(nx*ny*nz, dtype=bool)\n",
    "\n",
    "# create KDTree\n",
    "tree = cKDTree(coords)\n",
    "\n",
    "\n",
    "def query_nearest(l):\n",
    "    \"\"\"\n",
    "    Need to be careful in parallel -\n",
    "     can't have a processor filling in a region off-processor\n",
    "     (although it appears the shadow zones save us here)\n",
    "\n",
    "    \"\"\"\n",
    "    layer_mask.fill(0)\n",
    "    \n",
    "    zq = spl[l].ev(yq, xq)\n",
    "    d, idx = tree.query(np.column_stack([xq, yq, zq]))\n",
    "    layer_mask[idx] = True\n",
    "    \n",
    "    return np.where(layer_mask.reshape(nz,ny,nx))\n",
    "\n",
    "layer_voxel.fill(0)\n",
    "\n",
    "\n",
    "for l in xrange(0,10):\n",
    "    i0, j0, k0 = query_nearest(l)\n",
    "\n",
    "    for i in xrange(i0.size):\n",
    "        layer_voxel[:i0[i], j0[i], k0[i]] = l+1\n",
    "\n",
    "    if comm.rank == 0:\n",
    "        print(\"mapped layer {}\".format(l))\n",
    "\n",
    "\n",
    "\n",
    "# Fill everything above value\n",
    "layer_voxel[layer_voxel > 9] = 9"
   ]
  },
  {
   "cell_type": "code",
   "execution_count": 6,
   "metadata": {},
   "outputs": [
    {
     "name": "stdout",
     "output_type": "stream",
     "text": [
      " 0 Air             \t k = 3.5, H = 0.0\n",
      " 1 NewSer_Granit   \t k = 3.5, H = 4e-06\n",
      " 2 Mafic_volc      \t k = 2.3, H = 5e-07\n",
      " 3 upper_crust     \t k = 2.5, H = 1e-06\n",
      " 4 lower_crust     \t k = 2.5, H = 1e-06\n",
      " 5 Leinster        \t k = 5.3, H = 1e-08\n",
      " 6 Mid_Valley      \t k = 5.3, H = 1e-08\n",
      " 7 Connemara       \t k = 5.3, H = 1e-08\n",
      " 8 Grampian        \t k = 5.3, H = 1e-08\n",
      " 9 Moho            \t k = 3.5, H = 0.0\n"
     ]
    }
   ],
   "source": [
    "# Boundary conditions\n",
    "topBC = 298.0\n",
    "bottomBC = 0.03\n",
    "\n",
    "mesh.boundary_condition('maxZ', topBC, flux=False)\n",
    "mesh.boundary_condition('minZ', bottomBC, flux=True)\n",
    "\n",
    "inv = conduction.Inversion(layer_voxel.flatten(), mesh)\n",
    "\n",
    "k = layer_attributes[:,2]\n",
    "H = layer_attributes[:,3]\n",
    "a = np.zeros_like(k)\n",
    "q0 = 30e-3\n",
    "\n",
    "# air + moho layer\n",
    "layer_name = np.hstack([['Air'], layer_name, ['Moho']])\n",
    "k = np.hstack([[3.5],k,[3.5]])\n",
    "H = np.hstack([[0.0],H, [0.0]])\n",
    "a = np.zeros_like(k)\n",
    "\n",
    "for i, l in enumerate(inv.lithology_index):\n",
    "    name = layer_name[i]\n",
    "    ki = k[i]\n",
    "    Hi = H[i]\n",
    "    if comm.rank == 0:\n",
    "        print('{:2} {:15} \\t k = {}, H = {}'.format(l, name, ki, Hi))\n",
    "        \n",
    "x = PETSc.Vec().createWithArray(np.hstack([k, H, a, [40e-3]]))\n",
    "dx = 0.01*x\n",
    "gradient = x.duplicate()"
   ]
  },
  {
   "cell_type": "code",
   "execution_count": 7,
   "metadata": {
    "collapsed": true
   },
   "outputs": [],
   "source": [
    "# Priors\n",
    "k_prior = k.copy()\n",
    "H_prior = H.copy()\n",
    "a_prior = a.copy()\n",
    "\n",
    "sigma_k = k*0.1\n",
    "sigma_H = H*0.1\n",
    "sigma_a = a*0.1\n",
    "\n",
    "inv.add_prior(k=(k_prior,sigma_k), H=(H_prior,sigma_H), q0=(30e-3, 5e-3))"
   ]
  },
  {
   "cell_type": "code",
   "execution_count": 8,
   "metadata": {
    "collapsed": true
   },
   "outputs": [],
   "source": [
    "# Observations\n",
    "brock_1989 = np.loadtxt('/opt/ben/Dropbox/GOTherm/data/Brock_1989_heat_flow.csv', delimiter=',', dtype=str, skiprows=1)\n",
    "\n",
    "brock_ID  = brock_1989[:,1]\n",
    "brock_lat = brock_1989[:,2].astype(float)\n",
    "brock_lon = brock_1989[:,3].astype(float)\n",
    "brock_HF  = brock_1989[:,9].astype(float) * 1e-3\n",
    "brock_dHF = brock_HF*0.2\n",
    "\n",
    "import benpy\n",
    "brock_eastings, brock_northings = benpy.transform_coordinates(brock_lon, brock_lat, 4326, 2157)\n",
    "brock_coord = np.zeros((brock_HF.size, 3))\n",
    "brock_coord[:,0] = brock_eastings\n",
    "brock_coord[:,1] = brock_northings\n",
    "\n",
    "inv.add_observation(q=(brock_HF, brock_dHF, brock_coord[:,::-1]))"
   ]
  },
  {
   "cell_type": "code",
   "execution_count": 11,
   "metadata": {
    "collapsed": true
   },
   "outputs": [],
   "source": [
    "# Perturb around x\n",
    "def misfit(x):\n",
    "    cost = inv.forward_model(x)\n",
    "    inv.mesh.dm.globalToLocal(inv.temperature, inv.mesh.lvec)\n",
    "    T = inv.mesh.lvec.array.copy()\n",
    "    k = inv.mesh.diffusivity[:]\n",
    "\n",
    "    gradTz, gradTy, gradTx = inv.mesh.gradient(T)\n",
    "    heatflux = -k.reshape(inv.mesh.n)*(gradTz + gradTy + gradTx)\n",
    "    inv.interp.values = heatflux\n",
    "    q_interp = inv.interp(brock_coord[:,::-1])\n",
    "    \n",
    "    return (q_interp - brock_HF)**2/brock_dHF**2 #(Q1_interp - HFdata.HF)**2"
   ]
  },
  {
   "cell_type": "code",
   "execution_count": 14,
   "metadata": {},
   "outputs": [
    {
     "name": "stdout",
     "output_type": "stream",
     "text": [
      " 0 change in cost = 0.170296456596\n",
      " 1 change in cost = -0.0108770047211\n",
      " 2 change in cost = 0.00952737183716\n",
      " 3 change in cost = -0.152764556735\n",
      " 4 change in cost = -0.00763354923136\n",
      " 5 change in cost = -0.0288248675847\n",
      " 6 change in cost = 0.0146681431287\n",
      " 7 change in cost = 0.0600106018298\n",
      " 8 change in cost = -0.0421680536293\n",
      " 9 change in cost = -0.0104768892627\n",
      "10 change in cost = 0.0\n",
      "11 change in cost = 0.00111531460853\n",
      "12 change in cost = -0.000363728846018\n",
      "13 change in cost = 0.382842764277\n",
      "14 change in cost = 0.180584276515\n",
      "15 change in cost = 0.00540650262759\n",
      "16 change in cost = 0.0015018616164\n",
      "17 change in cost = 0.00377817921404\n",
      "18 change in cost = 0.00121887253188\n",
      "19 change in cost = 0.0\n",
      "20 change in cost = 0.0\n",
      "21 change in cost = 0.0\n",
      "22 change in cost = 0.0\n",
      "23 change in cost = 0.0\n",
      "24 change in cost = 0.0\n",
      "25 change in cost = 0.0\n",
      "26 change in cost = 0.0\n",
      "27 change in cost = 0.0\n",
      "28 change in cost = 0.0\n",
      "29 change in cost = 0.0\n",
      "30 change in cost = 0.765405750508\n"
     ]
    }
   ],
   "source": [
    "J = np.zeros((x.array.size, brock_HF.size)) # Jacobian matrix\n",
    "fm0 = misfit(x)\n",
    "\n",
    "for i in xrange(x.size):\n",
    "    dx.set(0.0)\n",
    "    dx[i] += x[i]*0.01\n",
    "    fm1 = misfit(x+dx)\n",
    "    \n",
    "    J[i] = fm1 - fm0\n",
    "    print(\"{:2} change in cost = {}\".format(i, fm1.sum() - fm0.sum()))"
   ]
  },
  {
   "cell_type": "code",
   "execution_count": 17,
   "metadata": {},
   "outputs": [
    {
     "data": {
      "text/plain": [
       "<matplotlib.colorbar.Colorbar at 0x7fb3da5ca890>"
      ]
     },
     "execution_count": 17,
     "metadata": {},
     "output_type": "execute_result"
    },
    {
     "data": {
      "image/png": "[encoded data removed]",
      "text/plain": [
       "<matplotlib.figure.Figure at 0x7fb3ed6570d0>"
      ]
     },
     "metadata": {},
     "output_type": "display_data"
    }
   ],
   "source": [
    "Jinv = np.linalg.pinv(J)\n",
    "Rm = Jinv*J.T\n",
    "\n",
    "plt.imshow(Rm, interpolation='nearest', cmap='BrBG')\n",
    "plt.colorbar()"
   ]
  },
  {
   "cell_type": "code",
   "execution_count": 18,
   "metadata": {
    "collapsed": true
   },
   "outputs": [],
   "source": [
    "size = len(inv.lithology_index)\n",
    "\n",
    "Jk = J.T[:,1:size]\n",
    "JH = J.T[:,size+1:2*size]\n",
    "Ja = J.T[:,2*size+1:3*size]\n",
    "JQ0 = J.T[:,-1]\n",
    "\n",
    "# order = [3, 4, 6, 5, 7, 8, 9, 0, 1, 2, 10, 11]\n",
    "\n",
    "# Jk = Jk[:,order]\n",
    "# JH = JH[:,order]\n",
    "# Ja = Ja[:,order]\n",
    "\n",
    "JT = np.hstack([Jk, JH, Ja, JQ0.reshape(-1,1)])\n",
    "# for row in xrange(JT.shape[0]):\n",
    "#     JT[row,:] *= sigma_x\n",
    "# for col in xrange(JT.shape[1]):\n",
    "#     JT[:,col] /= HFdata.HFerror\n",
    "\n",
    "# J2 = (JT-JT.min())/(JT.max()-JT.min())\n",
    "# J2 *= 2.0\n",
    "# J2 -= 1.0\n",
    "Jsum = np.abs(JT).sum(axis=0)\n",
    "J2 = np.abs(JT)\n",
    "J2 /= (J2.max()-J2.min())"
   ]
  },
  {
   "cell_type": "code",
   "execution_count": 57,
   "metadata": {
    "collapsed": true
   },
   "outputs": [],
   "source": [
    "J2 = J / fm0\n",
    "J2[np.isnan(J2)] = 0\n",
    "\n",
    "Jk = J2.T[:,1:size]\n",
    "JH = J2.T[:,size+1:2*size]\n",
    "Ja = J2.T[:,2*size+1:3*size]\n",
    "JQ0 = J2.T[:,-1]\n",
    "\n",
    "JT = np.hstack([Jk, JH, Ja, JQ0.reshape(-1,1)])\n",
    "Jsum = np.abs(JT).sum(axis=0)"
   ]
  },
  {
   "cell_type": "code",
   "execution_count": 56,
   "metadata": {},
   "outputs": [
    {
     "data": {
      "text/plain": [
       "<matplotlib.image.AxesImage at 0x7fb3d9524410>"
      ]
     },
     "execution_count": 56,
     "metadata": {},
     "output_type": "execute_result"
    },
    {
     "data": {
      "image/png": "[encoded data removed]",
      "text/plain": [
       "<matplotlib.figure.Figure at 0x7fb3d952b090>"
      ]
     },
     "metadata": {},
     "output_type": "display_data"
    }
   ],
   "source": [
    "plt.imshow(np.corrcoef(J))"
   ]
  },
  {
   "cell_type": "code",
   "execution_count": 53,
   "metadata": {},
   "outputs": [
    {
     "data": {
      "text/plain": [
       "<matplotlib.colorbar.Colorbar at 0x7fb3d99aba50>"
      ]
     },
     "execution_count": 53,
     "metadata": {},
     "output_type": "execute_result"
    },
    {
     "data": {
      "image/png": "[encoded data removed]",
      "text/plain": [
       "<matplotlib.figure.Figure at 0x7fb3da12d650>"
      ]
     },
     "metadata": {},
     "output_type": "display_data"
    }
   ],
   "source": [
    "plt.imshow(JT)\n",
    "plt.colorbar()"
   ]
  },
  {
   "cell_type": "code",
   "execution_count": 93,
   "metadata": {},
   "outputs": [
    {
     "data": {
      "image/png": "[encoded data removed]",
      "text/plain": [
       "<matplotlib.figure.Figure at 0x7fb3d8fdc390>"
      ]
     },
     "metadata": {},
     "output_type": "display_data"
    }
   ],
   "source": [
    "from matplotlib.gridspec import GridSpec\n",
    "\n",
    "colours = {'k': '#4B0082', 'H': '#FF0000', 'a': '#FFD700', '\\psi':'b', 'B':'brown', 'Q0': '#008000'}\n",
    "facecolours = ['0.9', '0.99', '0.9']\n",
    "\n",
    "start = 0\n",
    "split = Jsum.size // 3\n",
    "\n",
    "fig = plt.figure(1, figsize=(6,5.5))\n",
    "\n",
    "gs = GridSpec(2,2, hspace=0.05, wspace=0.075, width_ratios=[0.97,0.03], height_ratios=[0.3, 0.7])\n",
    "\n",
    "ax1 = fig.add_subplot(gs[0,0])\n",
    "# ax1.axis('off')\n",
    "\n",
    "for i, param in enumerate(['k', 'H', 'a']):\n",
    "    ax1.bar(np.arange(start,start+split)+0.5, Jsum[start:start+split], 1, label='$'+param+'$', zorder=2)\n",
    "    ax1.text(start+split/2-0.5, Jsum.max()-0.2*Jsum.max(), '$'+param+'$', size=12)\n",
    "    start += split\n",
    "\n",
    "    \n",
    "ax1.bar(start+0.5, Jsum[-1], 1, label='$q_0$')\n",
    "ax1.text(start+1, Jsum.max()-0.2*Jsum.max(), '$q_0$', size=12)\n",
    "\n",
    "# ax1.legend(loc='upper center', ncol=4, frameon=False)\n",
    "ax1.set_xlim([0,start+1])\n",
    "# ax1.set_xlabel('parameter number')\n",
    "# ax1.set_ylabel('% improvement')\n",
    "for spine in ['right', 'top', 'left']:\n",
    "    ax1.spines[spine].set_visible(False)\n",
    "ax1.tick_params(axis='x', which='both', top='off', bottom='off')\n",
    "ax1.tick_params(axis='y', which='both', left='on', right='off')\n",
    "ax1.set_xticks([])\n",
    "ax1.set_yticks([])\n",
    "# ax1.set_yticks(np.arange(0,25,5))\n",
    "\n",
    "vmax = np.abs(JT).max()\n",
    "ax2 = fig.add_subplot(gs[1,0], xlim=[0,Jsum.size], ylim=[0,brock_HF.size])\n",
    "im2 = ax2.pcolor(JT, cmap='PuOr', vmin=-vmax, vmax=vmax)\n",
    "start = 0\n",
    "for i in xrange(4):\n",
    "    ax2.plot([start,start], [0, brock_HF.size], c='0.0', linestyle='solid', linewidth=0.5)\n",
    "    start += split\n",
    "    \n",
    "xticks = ax2.get_xticks()[:-1]\n",
    "plt.xticks(np.arange(parameter_names.size)+0.5, parameter_names, rotation='vertical')\n",
    "plt.yticks(np.arange(brock_ID.size)+0.5, brock_ID)\n",
    "\n",
    "ax2.set_xlabel('lithology')\n",
    "ax2.set_ylabel('$q_s$ observations')\n",
    "\n",
    "ax4 = fig.add_subplot(gs[1,1])\n",
    "cb = fig.colorbar(im2, ax=ax2, cax=ax4)\n",
    "ax4.set_ylabel('sensitivity')\n",
    "\n",
    "plt.savefig('normalised_jacobian.pdf', bbox_inches='tight')"
   ]
  },
  {
   "cell_type": "code",
   "execution_count": 74,
   "metadata": {
    "collapsed": true
   },
   "outputs": [],
   "source": [
    "parameter_names = np.hstack([layer_name[1:], layer_name[1:], layer_name[1:], [r'$q_0$']])"
   ]
  }
 ],
 "metadata": {
  "kernelspec": {
   "display_name": "Python 2",
   "language": "python",
   "name": "python2"
  },
  "language_info": {
   "codemirror_mode": {
    "name": "ipython",
    "version": 2
   },
   "file_extension": ".py",
   "mimetype": "text/x-python",
   "name": "python",
   "nbconvert_exporter": "python",
   "pygments_lexer": "ipython2",
   "version": "2.7.12"
  }
 },
 "nbformat": 4,
 "nbformat_minor": 2
}
