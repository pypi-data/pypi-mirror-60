{
 "cells": [
  {
   "cell_type": "markdown",
   "metadata": {},
   "source": [
    "# Flood-fill algorithm\n",
    "\n",
    "This is quite similar to the Poisson disc sampler, except it should be much less expensive. We can do away with searching within a specified radius and instead sample all neighbouring nodes. This avoids the costly neighbour cache construction.\n",
    "\n",
    "It takes a 3 dimensional grid of zeros that has watertight surfaces marked as nonzeros. It fills up the area between surfaces from specified seed points and assigns these regions an index."
   ]
  },
  {
   "cell_type": "code",
   "execution_count": null,
   "metadata": {
    "collapsed": true
   },
   "outputs": [],
   "source": [
    "import numpy as np\n",
    "import matplotlib.pyplot as plt\n",
    "from mpl_toolkits.mplot3d import Axes3D\n",
    "%matplotlib inline\n",
    "\n",
    "from scipy.spatial import cKDTree\n",
    "from scipy.interpolate import RegularGridInterpolator\n",
    "\n",
    "import conduction"
   ]
  },
  {
   "cell_type": "code",
   "execution_count": null,
   "metadata": {
    "collapsed": true
   },
   "outputs": [],
   "source": [
    "directory2 = '/mnt/home_geo/mguerri/Documents/itherc/fullea_et_al_2014_0/'\n",
    "\n",
    "layer_attributes = np.loadtxt(directory2+'layers.info', skiprows=1, usecols=(2,3,4,5,6,7,8,9,10))\n",
    "layer_number = np.loadtxt(directory2+'layers.info', dtype=int, skiprows=1, usecols=(0,))\n",
    "\n",
    "layer_header = ['body number', 'density', 'alpha', 'thermal conductivity', 'heat production rate',\\\n",
    "                'pressure coefficient', 'Gruneisen parameter', 'pressure derivative of bulk modulus', 'man']\n",
    "\n",
    "\n",
    "layer = dict()\n",
    "for i in xrange(0, 10):\n",
    "    data = 1e3*np.loadtxt(directory2+'layers_xy/layer{}.xyz'.format(i))\n",
    "    data[:,2] *= -1\n",
    "    layer[i] = data\n",
    "\n",
    "minX, minY, minZ = data[:,:3].min(axis=0)\n",
    "maxX, maxY, maxZ = data[:,:3].max(axis=0)    \n",
    "\n",
    "Xcoords = np.unique(data[:,0])\n",
    "Ycoords = np.unique(data[:,1])\n",
    "\n",
    "nx, ny = Xcoords.size, Ycoords.size\n",
    "nz = 200"
   ]
  },
  {
   "cell_type": "code",
   "execution_count": null,
   "metadata": {},
   "outputs": [],
   "source": [
    "fig = plt.figure(figsize=(15,10))\n",
    "ax1 = fig.add_subplot(111, projection='3d')\n",
    "ax1.scatter3D(layer[1][:,0], layer[1][:,1], layer[1][:,2])\n",
    "ax1.scatter3D(layer[5][:,0], layer[5][:,1], layer[5][:,2])\n",
    "\n",
    "minZ, maxZ = ax1.get_zlim()"
   ]
  },
  {
   "cell_type": "markdown",
   "metadata": {},
   "source": [
    "**These layers are NOT watertight!**\n",
    "\n",
    "The z-direction has a lot of holes."
   ]
  },
  {
   "cell_type": "code",
   "execution_count": null,
   "metadata": {
    "collapsed": true
   },
   "outputs": [],
   "source": [
    "from scipy.interpolate import SmoothBivariateSpline, RectBivariateSpline\n",
    "\n",
    "spl = dict()\n",
    "\n",
    "for i in xrange(10):\n",
    "    data = layer[i]\n",
    "    xl = data[:,0]\n",
    "    yl = data[:,1]\n",
    "    zl = data[:,2].reshape(nx,ny)\n",
    "    spl[i] = RectBivariateSpline(Xcoords, Ycoords, zl)"
   ]
  },
  {
   "cell_type": "code",
   "execution_count": null,
   "metadata": {
    "collapsed": true
   },
   "outputs": [],
   "source": [
    "mesh = conduction.Conduction3D((minX, minY, minZ), (maxX, maxY, maxZ), (nx, ny, nz))"
   ]
  },
  {
   "cell_type": "code",
   "execution_count": null,
   "metadata": {
    "collapsed": true
   },
   "outputs": [],
   "source": [
    "xq, yq = np.meshgrid(Xcoords, Ycoords)\n",
    "xq = xq.ravel()\n",
    "yq = yq.ravel()\n",
    "\n",
    "horizontal_slice = np.column_stack([xq, yq])\n",
    "\n",
    "# create layer voxel\n",
    "layer_voxel = np.zeros((nz, ny, nx), dtype=np.int8)\n",
    "layer_mask = np.zeros(nx*ny*nz, dtype=bool)\n",
    "\n",
    "# create KDTree\n",
    "tree = cKDTree(mesh.coords)"
   ]
  },
  {
   "cell_type": "code",
   "execution_count": null,
   "metadata": {
    "collapsed": true
   },
   "outputs": [],
   "source": [
    "layer_voxel.fill(-1)\n",
    "\n",
    "def fill_layer(l, layer_voxel):\n",
    "    layer_mask.fill(0)\n",
    "    \n",
    "    zq = spl[l].ev(xq, yq)\n",
    "    d, idx = tree.query(np.column_stack([xq, yq, zq]))\n",
    "    layer_mask[idx] = True\n",
    "    \n",
    "    i0, j0, k0 = np.where(layer_mask.reshape(nz,ny,nx))\n",
    "    layer_voxel[i0, j0, k0] = l\n",
    "\n",
    "\n",
    "fill_layer(1, layer_voxel)\n",
    "fill_layer(3, layer_voxel)"
   ]
  },
  {
   "cell_type": "code",
   "execution_count": null,
   "metadata": {},
   "outputs": [],
   "source": [
    "plt.imshow(layer_voxel[:,5,:], origin='lower')"
   ]
  },
  {
   "cell_type": "code",
   "execution_count": null,
   "metadata": {
    "collapsed": true
   },
   "outputs": [],
   "source": []
  }
 ],
 "metadata": {
  "kernelspec": {
   "display_name": "Python 2",
   "language": "python",
   "name": "python2"
  },
  "language_info": {
   "codemirror_mode": {
    "name": "ipython",
    "version": 2
   },
   "file_extension": ".py",
   "mimetype": "text/x-python",
   "name": "python",
   "nbconvert_exporter": "python",
   "pygments_lexer": "ipython2",
   "version": "2.7.12"
  }
 },
 "nbformat": 4,
 "nbformat_minor": 2
}
