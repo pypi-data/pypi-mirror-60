{
 "cells": [
  {
   "cell_type": "markdown",
   "metadata": {},
   "source": [
    "# Geological model\n",
    "\n",
    "Assemble the geological model from xyz data for each surface."
   ]
  },
  {
   "cell_type": "code",
   "execution_count": 1,
   "metadata": {
    "collapsed": true
   },
   "outputs": [],
   "source": [
    "import numpy as np\n",
    "import matplotlib.pyplot as plt\n",
    "from mpl_toolkits.mplot3d import Axes3D\n",
    "%matplotlib inline\n",
    "\n",
    "from scipy.spatial import cKDTree\n",
    "from scipy.interpolate import RegularGridInterpolator\n",
    "from scipy.interpolate import SmoothBivariateSpline, RectBivariateSpline\n",
    "\n",
    "import conduction"
   ]
  },
  {
   "cell_type": "code",
   "execution_count": 2,
   "metadata": {
    "collapsed": true
   },
   "outputs": [],
   "source": [
    "directory = '/opt/ben/'\n",
    "directory = '/opt/ben/Dropbox/GOTherm/ireland_model/crust_hires/'"
   ]
  },
  {
   "cell_type": "markdown",
   "metadata": {},
   "source": [
    "These layers define the volume between each surface in the `layers_xy` folder.\n",
    "\n",
    "Turns out these layers are defined on a grid..."
   ]
  },
  {
   "cell_type": "raw",
   "metadata": {
    "collapsed": true
   },
   "source": [
    "directory = '/opt/ben/'\n",
    "\n",
    "layer_attributes = np.loadtxt(directory+'layers.info', skiprows=1, usecols=(2,3,4,5,6,7,8,9,10))\n",
    "layer_number = np.loadtxt(directory+'layers.info', dtype=int, skiprows=1, usecols=(0,))\n",
    "layer_name   = np.loadtxt(directory+'layers.info', dtype=str, skiprows=1, usecols=(1,))\n",
    "\n",
    "layer_header = ['body number', 'density', 'alpha', 'thermal conductivity', 'heat production rate',\\\n",
    "                'pressure coefficient', 'Gruneisen parameter', 'pressure derivative of bulk modulus', 'man']"
   ]
  },
  {
   "cell_type": "code",
   "execution_count": 3,
   "metadata": {},
   "outputs": [],
   "source": [
    "nl = 18 # number of lithologies\n",
    "\n",
    "layer = dict()\n",
    "for i in xrange(0, nl):\n",
    "    data = np.loadtxt(directory+'layers_xy/layer{}.xyz'.format(i))\n",
    "    layer[i] = data"
   ]
  },
  {
   "cell_type": "code",
   "execution_count": 4,
   "metadata": {
    "collapsed": true
   },
   "outputs": [],
   "source": [
    "minX, maxX = (350000.0, 788000.0)\n",
    "minY, maxY = (480000.0, 1000000.0)\n",
    "\n",
    "# overwrite minZ/maxZ\n",
    "minZ = -130e3\n",
    "maxZ = 600.0"
   ]
  },
  {
   "cell_type": "code",
   "execution_count": 5,
   "metadata": {},
   "outputs": [],
   "source": [
    "spl = dict()\n",
    "\n",
    "for i in xrange(nl):\n",
    "    data = layer[i]\n",
    "    xl = data[:,0]\n",
    "    yl = data[:,1]\n",
    "    \n",
    "    Xcoords = np.unique(xl)\n",
    "    Ycoords = np.unique(yl)\n",
    "    nx, ny = Xcoords.size, Ycoords.size\n",
    "    \n",
    "    zl = data[:,2].reshape(ny,nx)\n",
    "\n",
    "    spl[i] = RectBivariateSpline(Ycoords, Xcoords, zl)"
   ]
  },
  {
   "cell_type": "markdown",
   "metadata": {},
   "source": [
    "We will create 2D bivariate splines to interpolate the x,y coordinates with z property.\n",
    "\n",
    "> We need to play with $s$ to get optimal smoothness"
   ]
  },
  {
   "cell_type": "markdown",
   "metadata": {},
   "source": [
    "## Setup the hexahedral mesh"
   ]
  },
  {
   "cell_type": "code",
   "execution_count": 6,
   "metadata": {},
   "outputs": [],
   "source": [
    "Nx, Ny, Nz = 51, 51, 204\n",
    "\n",
    "mesh = conduction.ConductionND((minX, minY, minZ), (maxX, maxY, maxZ), (Nx, Ny, Nz))\n",
    "\n",
    "coords = mesh.coords\n",
    "\n",
    "Xcoords = np.unique(coords[:,0])\n",
    "Ycoords = np.unique(coords[:,1])\n",
    "Zcoords = np.unique(coords[:,2])\n",
    "\n",
    "nx, ny, nz = Xcoords.size, Ycoords.size, Zcoords.size"
   ]
  },
  {
   "cell_type": "markdown",
   "metadata": {},
   "source": [
    "## Fill the volume between each surface\n",
    "\n",
    "A flood-fill algorithm, like the poisson-disc sampler, would do well with surfaces that curve back on themselves. Best case this is a $O(n)$ algorithm. Since we know that these surfaces are like pancakes, we can opt for an indexing-fill approach column-by-column. This should be $O(\\log n)$ efficiency.\n",
    "\n",
    "For geometries that curve in on themselves, another way to seal holes in the mesh is required. For now the spline is more than adequate."
   ]
  },
  {
   "cell_type": "code",
   "execution_count": 7,
   "metadata": {
    "collapsed": true
   },
   "outputs": [],
   "source": [
    "xq, yq = np.meshgrid(Xcoords, Ycoords)\n",
    "xq = xq.ravel()\n",
    "yq = yq.ravel()\n",
    "\n",
    "horizontal_slice = np.column_stack([xq, yq])"
   ]
  },
  {
   "cell_type": "code",
   "execution_count": 8,
   "metadata": {
    "collapsed": true
   },
   "outputs": [],
   "source": [
    "# create layer voxel\n",
    "layer_voxel = np.zeros((nz, ny, nx), dtype=np.int8)\n",
    "layer_mask = np.zeros(nx*ny*nz, dtype=bool)\n",
    "\n",
    "# create KDTree\n",
    "tree = cKDTree(coords)"
   ]
  },
  {
   "cell_type": "code",
   "execution_count": 9,
   "metadata": {},
   "outputs": [
    {
     "name": "stdout",
     "output_type": "stream",
     "text": [
      "mapped layer 0\n",
      "mapped layer 1\n",
      "mapped layer 2\n",
      "mapped layer 3\n",
      "mapped layer 4\n",
      "mapped layer 5\n",
      "mapped layer 6\n",
      "mapped layer 7\n",
      "mapped layer 8\n",
      "mapped layer 9\n",
      "mapped layer 10\n",
      "mapped layer 11\n",
      "mapped layer 12\n",
      "mapped layer 13\n",
      "mapped layer 14\n",
      "mapped layer 15\n",
      "mapped layer 16\n",
      "mapped layer 17\n"
     ]
    }
   ],
   "source": [
    "def query_nearest(l):\n",
    "    layer_mask.fill(0)\n",
    "    \n",
    "    zq = spl[l].ev(yq, xq)\n",
    "    d, idx = tree.query(np.column_stack([xq, yq, zq]))\n",
    "    layer_mask[idx] = True\n",
    "    \n",
    "    return np.where(layer_mask.reshape(nz,ny,nx))\n",
    "\n",
    "layer_voxel.fill(-1)\n",
    "\n",
    "for l in xrange(nl):\n",
    "    i0, j0, k0 = query_nearest(l)\n",
    "\n",
    "    for i in xrange(i0.size):\n",
    "        layer_voxel[:i0[i], j0[i], k0[i]] = l+1\n",
    "\n",
    "    print(\"mapped layer {}\".format(l))"
   ]
  },
  {
   "cell_type": "code",
   "execution_count": 10,
   "metadata": {},
   "outputs": [
    {
     "data": {
      "text/plain": [
       "<matplotlib.colorbar.Colorbar at 0x7f3c2efa5890>"
      ]
     },
     "execution_count": 10,
     "metadata": {},
     "output_type": "execute_result"
    },
    {
     "data": {
      "image/png": "[encoded data removed]",
      "text/plain": [
       "<matplotlib.figure.Figure at 0x7f3c2f10fb10>"
      ]
     },
     "metadata": {},
     "output_type": "display_data"
    }
   ],
   "source": [
    "plt.imshow(layer_voxel[201])\n",
    "plt.colorbar()"
   ]
  },
  {
   "cell_type": "code",
   "execution_count": 11,
   "metadata": {},
   "outputs": [
    {
     "name": "stderr",
     "output_type": "stream",
     "text": [
      "/home/bmather/.local/lib/python2.7/site-packages/h5py-2.7.0-py2.7-linux-x86_64.egg/h5py/__init__.py:34: FutureWarning: Conversion of the second argument of issubdtype from `float` to `np.floating` is deprecated. In future, it will be treated as `np.float64 == np.dtype(float).type`.\n",
      "  from ._conv import register_converters as _register_converters\n"
     ]
    }
   ],
   "source": [
    "mesh.save_mesh_to_hdf5('new_crustal_lithologies.h5')\n",
    "mesh.save_field_to_hdf5('new_crustal_lithologies.h5', lithology=layer_voxel.ravel())\n",
    "conduction.tools.generateXdmf('new_crustal_lithologies.h5')"
   ]
  },
  {
   "cell_type": "markdown",
   "metadata": {},
   "source": [
    "Now map properties to these layers. Where these layers are not defined we have a default value assigned to them."
   ]
  },
  {
   "cell_type": "code",
   "execution_count": null,
   "metadata": {},
   "outputs": [],
   "source": [
    "k = np.ones_like(layer_voxel, dtype=np.float32)*3\n",
    "H = np.zeros_like(layer_voxel, dtype=np.float32)\n",
    "\n",
    "for i, l in enumerate(layer_number):\n",
    "    name = layer_name[i]\n",
    "    mask = layer_voxel == l\n",
    "    ki = layer_attributes[i,2]\n",
    "    Hi = layer_attributes[i,3]\n",
    "    k[mask] = ki\n",
    "    H[mask] = Hi\n",
    "    print('{} {} \\t k = {}, H = {}'.format(l, name, ki, Hi))\n",
    "    \n",
    "k = k.ravel()\n",
    "H = H.ravel()"
   ]
  },
  {
   "cell_type": "code",
   "execution_count": null,
   "metadata": {
    "collapsed": true
   },
   "outputs": [],
   "source": [
    "# Update properties\n",
    "mesh.update_properties(k, H)\n",
    "\n",
    "# Boundary conditions\n",
    "mesh.boundary_condition('maxZ', 298.0, flux=False)\n",
    "mesh.boundary_condition('minZ', 1300., flux=False)"
   ]
  },
  {
   "cell_type": "code",
   "execution_count": null,
   "metadata": {
    "collapsed": true
   },
   "outputs": [],
   "source": [
    "sol = mesh.solve('bcgs')"
   ]
  },
  {
   "cell_type": "code",
   "execution_count": null,
   "metadata": {},
   "outputs": [],
   "source": [
    "H5_file = 'geological_model.h5'\n",
    "\n",
    "mesh.save_mesh_to_hdf5(H5_file)\n",
    "mesh.save_field_to_hdf5(H5_file, ID=layer_voxel.ravel(), k=mesh.diffusivity, H=mesh.heat_sources, T=sol)\n",
    "conduction.generateXdmf(H5_file)"
   ]
  },
  {
   "cell_type": "markdown",
   "metadata": {},
   "source": [
    "Heat flow slice"
   ]
  },
  {
   "cell_type": "code",
   "execution_count": null,
   "metadata": {
    "collapsed": true
   },
   "outputs": [],
   "source": [
    "T0 = sol.reshape(nz,ny,nx)[-1,:,:]\n",
    "T1 = sol.reshape(nz,ny,nx)[-2,:,:]\n",
    "\n",
    "k0 = sol.reshape(nz,ny,nx)[-1,:,:]\n",
    "\n",
    "HF = k0*(T1 - T0)/(Zcoords[-1] - Zcoords[-2])"
   ]
  },
  {
   "cell_type": "code",
   "execution_count": null,
   "metadata": {},
   "outputs": [],
   "source": [
    "fig = plt.figure(figsize=(12,8))\n",
    "ax1 = fig.add_subplot(111, xlim=[minX, maxX], ylim=[minY, maxY])\n",
    "im1 = ax1.imshow(HF, origin='lower', extent=[minX, maxX, minY, maxY], aspect='equal')\n",
    "fig.colorbar(im1)\n",
    "plt.imshow(HF)\n",
    "plt.savefig('HF.png')"
   ]
  },
  {
   "cell_type": "code",
   "execution_count": null,
   "metadata": {
    "collapsed": true
   },
   "outputs": [],
   "source": []
  }
 ],
 "metadata": {
  "kernelspec": {
   "display_name": "Python 2",
   "language": "python",
   "name": "python2"
  },
  "language_info": {
   "codemirror_mode": {
    "name": "ipython",
    "version": 2
   },
   "file_extension": ".py",
   "mimetype": "text/x-python",
   "name": "python",
   "nbconvert_exporter": "python",
   "pygments_lexer": "ipython2",
   "version": "2.7.12"
  }
 },
 "nbformat": 4,
 "nbformat_minor": 2
}
