{
 "cells": [
  {
   "cell_type": "markdown",
   "metadata": {},
   "source": [
    "# Gravity inversion\n",
    "\n",
    "We solve gravity potential, $\\phi$, which takes the form of a Poisson equation:\n",
    "\n",
    "$$\n",
    "\\nabla^2 \\phi = -4\\pi \\gamma \\rho\n",
    "$$\n",
    "\n",
    "where the vertical component of gravitational acceleration is its derivative, $\\mathbf{g}_z = \\nabla \\phi$\n",
    "\n",
    "All boundaries are Dirichlet and set to zero,\n",
    "\n",
    "$$\n",
    "\\phi_{0,j,k} = \\phi_{n,j,k} = \\phi_{i,0,k} = \\phi_{i,n,k} = \\phi_{i,j,0} = \\phi_{i,j,n} = 0\n",
    "$$\n",
    "\n",
    "Current approaches assign various layers to the crust and alter the density or geometry of layers to fit the gravity anomaly. This is a practical way to proceed if the underlying crustal architecture is already pretty well constrained, but thsi approach breaks if we assume absolutely no prior information on the layout of crustal lithologies. Here, we derive the adjoint of the inverse gravity problem, which affords us to invert the density on every point on the mesh efficiently.\n",
    "\n",
    "The Poisson appears in many geophysical applications"
   ]
  },
  {
   "cell_type": "code",
   "execution_count": null,
   "metadata": {
    "collapsed": true
   },
   "outputs": [],
   "source": [
    "%matplotlib inline\n",
    "\n",
    "import numpy as np\n",
    "import conduction\n",
    "import matplotlib.pyplot as plt\n",
    "from matplotlib.gridspec import GridSpec\n",
    "from scipy.optimize import minimize\n",
    "from conduction.inversion import InvObservation, InvPrior\n",
    "from mpi4py import MPI\n",
    "comm = MPI.COMM_WORLD"
   ]
  },
  {
   "cell_type": "code",
   "execution_count": null,
   "metadata": {
    "collapsed": true
   },
   "outputs": [],
   "source": [
    "def initialise(self):\n",
    "    \"\"\"\n",
    "    Creates a constant matrix to be used for each iteration\n",
    "    of the forward, tangent linear, and adjoint models.\n",
    "    \"\"\"\n",
    "    # matrix\n",
    "    self.mesh.update_properties(np.ones(mesh.nn), np.zeros(mesh.nn))\n",
    "    for boundary in self.mesh.bc:\n",
    "        self.mesh.boundary_condition(boundary, 0.0, flux=False)\n",
    "    mat = self.mesh.construct_matrix()\n",
    "    return\n",
    "\n",
    "\n",
    "def rhs_solve_ad(self, phi, dphi, matrix=None, rhs=None):\n",
    "    \"\"\"\n",
    "    Solve just the RHS\n",
    "    \"\"\"\n",
    "    # No need to evaluate this if dphi == 0 everywhere\n",
    "    adjoint = np.array(False)\n",
    "    nphi = dphi.any()\n",
    "    comm.Allreduce([nphi, MPI.BOOL], [adjoint, MPI.BOOL], op=MPI.LOR)\n",
    "    if adjoint:\n",
    "        if type(matrix) == type(None):\n",
    "            matrix = self.mesh.construct_matrix(in_place=False)\n",
    "        if type(rhs) == type(None):\n",
    "            rhs = self.mesh.construct_rhs(in_place=False)\n",
    "        \n",
    "        rhs[:] = dphi\n",
    "\n",
    "        gvec = self.mesh.gvec\n",
    "        lvec = self.mesh.lvec\n",
    "\n",
    "        # adjoint b vec\n",
    "        db_ad = lvec\n",
    "        \n",
    "        # db = A^T * dphi\n",
    "        self.ksp.solveTranspose(rhs._gdata, gvec)\n",
    "        self.mesh.dm.globalToLocal(gvec, db_ad)\n",
    "        return db_ad.array\n",
    "    \n",
    "def forward_model(x, self):\n",
    "    rho = x[:]\n",
    "    rhs = -4.0*np.pi*gamma*rho\n",
    "    self.mesh.heat_sources[:] = rhs\n",
    "    \n",
    "    phi = self.linear_solve(self.mesh.mat)\n",
    "    g = np.array(self.gradient(phi))\n",
    "    \n",
    "    cost = 0.0\n",
    "    cost += self.objective_routine(gz=g[0]) # obs\n",
    "    cost += self.objective_routine(rho=rho) # prior\n",
    "    return cost\n",
    "\n",
    "def tangent_linear(x, dx, self):\n",
    "    rho = x[:]\n",
    "    drho = dx[:]\n",
    "    # drhs/drho = -4.0*np.pi*gamma\n",
    "    rhs = -4.0*np.pi*gamma*rho\n",
    "    drhs = -4.0*np.pi*gamma*drho\n",
    "    \n",
    "    self.mesh.heat_sources[:] = rhs\n",
    "    phi = self.linear_solve(self.mesh.mat)\n",
    "    g = np.array(self.gradient(phi))\n",
    "    \n",
    "    self.mesh.heat_sources[:] = drhs\n",
    "    dphi = self.linear_solve(self.mesh.mat)\n",
    "    dg = np.array(self.gradient(dphi))\n",
    "    \n",
    "    cost = 0.0\n",
    "    cost += self.objective_routine(gz=g[0]) # obs\n",
    "    cost += self.objective_routine(rho=rho) # prior\n",
    "    dcdg   = self.objective_routine_ad(gz=g[0])\n",
    "    dcdrho = self.objective_routine_ad(rho=rho)\n",
    "    dc = np.sum(dcdg*dg[0]) + np.sum(dcdrho*drho)\n",
    "    return cost, dc\n",
    "\n",
    "def adjoint_model(x, self):\n",
    "    rho = x[:]\n",
    "    rhs = -4.0*np.pi*gamma*rho\n",
    "    self.mesh.heat_sources[:] = rhs\n",
    "    \n",
    "    phi = self.linear_solve(self.mesh.mat)\n",
    "    g = np.array(self.gradient(phi))\n",
    "    \n",
    "    cost = 0.0\n",
    "    cost += self.objective_routine(gz=g[0]) # obs\n",
    "    cost += self.objective_routine(rho=rho) # prior\n",
    "    \n",
    "    # Adjoint bit\n",
    "    dg = np.zeros_like(g)\n",
    "    dg[0] = self.objective_routine_ad(gz=g[0])\n",
    "    drho  = self.objective_routine_ad(rho=rho)\n",
    "    \n",
    "    dphi = self.gradient_ad(dg, g)\n",
    "    drhs = rhs_solve_ad(self, phi, -dphi, self.mesh.mat)\n",
    "\n",
    "    drho += -4.0*np.pi*gamma*drhs\n",
    "    return cost, drho"
   ]
  },
  {
   "cell_type": "markdown",
   "metadata": {},
   "source": [
    "## 2D case\n",
    "\n",
    "A cross section with 1D gravity observations on the top"
   ]
  },
  {
   "cell_type": "code",
   "execution_count": null,
   "metadata": {
    "collapsed": true
   },
   "outputs": [],
   "source": [
    "minX, maxX = 0.0, 1000.0\n",
    "minY, maxY = -1000.0, 0.0\n",
    "nx, ny = 100, 100\n",
    "\n",
    "# initialise mesh\n",
    "mesh = conduction.ConductionND([minX, minY], [maxX, maxY], (nx, ny))\n",
    "\n",
    "# initialise inversion object\n",
    "lith_index = np.ones(mesh.nn, dtype=np.int)\n",
    "inv = conduction.InversionND(lith_index, mesh, solver='cg')\n",
    "initialise(inv)"
   ]
  },
  {
   "cell_type": "code",
   "execution_count": null,
   "metadata": {},
   "outputs": [],
   "source": [
    "# create test data - 1D line\n",
    "\n",
    "yoffset = -200.0\n",
    "\n",
    "x = np.linspace(minX, maxX, nx)\n",
    "y = np.ones_like(x) * yoffset\n",
    "\n",
    "anomaly = np.abs(np.sin(0.002*np.pi*x))\n",
    "anomaly_std = np.ones_like(anomaly)*0.1\n",
    "anomaly_coords = np.column_stack([x,y])\n",
    "\n",
    "plt.plot(x, anomaly)\n",
    "\n",
    "# add observation\n",
    "gobs = InvObservation(anomaly, anomaly_std, anomaly_coords)\n",
    "inv.add_observation(gz=gobs)"
   ]
  },
  {
   "cell_type": "code",
   "execution_count": null,
   "metadata": {},
   "outputs": [],
   "source": [
    "\n",
    "# global variables\n",
    "gamma = 6.67408e-11\n",
    "\n",
    "\n",
    "# estimate starting density\n",
    "x = np.ones(mesh.nn)*20\n",
    "dx = 0.01*x\n",
    "\n",
    "fm0 = forward_model(x, inv)\n",
    "fm1 = forward_model(x + dx, inv)\n",
    "tl = tangent_linear(x, dx, inv)\n",
    "ad = adjoint_model(x, inv)\n",
    "\n",
    "print(\"finite difference {}\".format(fm1 - fm0))\n",
    "print(\"tangent linear {}\".format(tl[1]))\n",
    "print(\"adjoint model {}\".format(ad[1].dot(dx)))"
   ]
  },
  {
   "cell_type": "code",
   "execution_count": null,
   "metadata": {},
   "outputs": [],
   "source": [
    "x0 = x.copy()\n",
    "\n",
    "res = minimize(adjoint_model, x0, args=(inv), method='TNC', jac=True, options={'disp':True})\n",
    "res"
   ]
  },
  {
   "cell_type": "code",
   "execution_count": null,
   "metadata": {
    "scrolled": false
   },
   "outputs": [],
   "source": [
    "# compute forward model\n",
    "cost = forward_model(res.x, inv)\n",
    "phi = inv.mesh.temperature[:]\n",
    "g = np.array(inv.gradient(phi))\n",
    "\n",
    "# interpolate gz at depth\n",
    "xcoords = inv.mesh.grid_coords[0]\n",
    "inv.ndinterp.values = g[0]\n",
    "gz_top = inv.ndinterp(np.column_stack([xcoords, np.ones_like(xcoords)*(maxY - inv.grid_delta[-1])]))\n",
    "gz_obs = inv.ndinterp(anomaly_coords)\n",
    "\n",
    "\n",
    "gs = GridSpec(2, 2, wspace=0.05, hspace=0.05, width_ratios=[1, 0.05], height_ratios=[0.2,1])\n",
    "\n",
    "fig = plt.figure(figsize=(8, 9))\n",
    "ax1 = fig.add_subplot(gs[0,0], ylabel=r\"$g_z$\")\n",
    "ax1.set_xticks([])\n",
    "ax1.grid(True)\n",
    "for spine in [\"top\", \"bottom\", \"right\", \"left\"]:\n",
    "    ax1.spines[spine].set_visible(False)\n",
    "ax1.plot(xcoords, anomaly, c='C0', linestyle='dashed', label='obs')\n",
    "ax1.plot(xcoords, gz_obs, c='C0', label='sim')\n",
    "ax1.plot(xcoords, gz_top, c='C1', label='top')\n",
    "ax1.legend(bbox_to_anchor=(1,1), frameon=False)\n",
    "\n",
    "ax2 = fig.add_subplot(gs[1,0])\n",
    "im2 = ax2.imshow(res.x.reshape(mesh.n), origin='lower', extent=(minX, maxX, minY, maxY))\n",
    "\n",
    "cbax = fig.add_subplot(gs[1,1])\n",
    "fig.colorbar(im2, cax=cbax)"
   ]
  },
  {
   "cell_type": "markdown",
   "metadata": {},
   "source": [
    "## 3D case\n",
    "\n",
    "Crustal volume with a 2D surface of gravity observations on top"
   ]
  },
  {
   "cell_type": "code",
   "execution_count": null,
   "metadata": {},
   "outputs": [],
   "source": [
    "minX, maxX = 0.0, 1000.0\n",
    "minY, maxY = 0.0, 1000.0\n",
    "minZ, maxZ = -1000.0, 0.0\n",
    "\n",
    "nx, ny, nz = 50, 50, 100\n",
    "\n",
    "# initialise mesh\n",
    "mesh = conduction.ConductionND([minX, minY, minZ], [maxX, maxY, maxZ], (nx, ny, nz))\n",
    "\n",
    "# initialise inversion object\n",
    "lith_index = np.ones(mesh.nn, dtype=np.int)\n",
    "inv = conduction.InversionND(lith_index, mesh, solver='cg')\n",
    "initialise(inv)"
   ]
  },
  {
   "cell_type": "code",
   "execution_count": null,
   "metadata": {},
   "outputs": [],
   "source": [
    "# create test data - 2D surface\n",
    "\n",
    "zoffset = -200.0\n",
    "\n",
    "xcoords = np.linspace(minX, maxX, nx)\n",
    "ycoords = np.linspace(minY, maxY, ny)\n",
    "xq, yq = np.meshgrid(xcoords, ycoords)\n",
    "zq = np.ones_like(xq)*zoffset\n",
    "\n",
    "anomaly_coords = np.column_stack([xq.ravel(), yq.ravel(), zq.ravel()])\n",
    "\n",
    "anomaly_x = np.abs(np.sin(0.002*np.pi*anomaly_coords[:,0]))\n",
    "anomaly_y = np.abs(np.sin(0.002*np.pi*anomaly_coords[:,1]))\n",
    "anomaly = anomaly_x + anomaly_y\n",
    "anomaly_std = np.ones_like(anomaly)*0.1\n",
    "\n",
    "plt.imshow(anomaly.reshape(ny,nx))\n",
    "plt.colorbar()\n",
    "\n",
    "# add observation\n",
    "gobs = InvObservation(anomaly, anomaly_std, anomaly_coords)\n",
    "inv.add_observation(gz=gobs)"
   ]
  },
  {
   "cell_type": "code",
   "execution_count": null,
   "metadata": {},
   "outputs": [],
   "source": [
    "# global variables\n",
    "gamma = 6.67408e-11\n",
    "\n",
    "# estimate starting density\n",
    "x = np.ones(mesh.nn)*20\n",
    "dx = 0.01*x\n",
    "\n",
    "fm0 = forward_model(x, inv)\n",
    "fm1 = forward_model(x + dx, inv)\n",
    "tl = tangent_linear(x, dx, inv)\n",
    "ad = adjoint_model(x, inv)\n",
    "\n",
    "print(\"finite difference {}\".format(fm1 - fm0))\n",
    "print(\"tangent linear {}\".format(tl[1]))\n",
    "print(\"adjoint model {}\".format(ad[1].dot(dx)))"
   ]
  },
  {
   "cell_type": "code",
   "execution_count": null,
   "metadata": {},
   "outputs": [],
   "source": [
    "x0 = x.copy()\n",
    "\n",
    "res = minimize(adjoint_model, x0, args=(inv), method='TNC', jac=True, options={'disp':True})\n",
    "res"
   ]
  },
  {
   "cell_type": "code",
   "execution_count": null,
   "metadata": {},
   "outputs": [],
   "source": [
    "cost = forward_model(res.x, inv)\n",
    "phi = inv.mesh.temperature[:]\n",
    "g = np.array(inv.gradient(phi))\n",
    "\n",
    "# interpolate gz at depth\n",
    "gz_obs = inv.interpolate(g[0], anomaly_coords)\n",
    "\n",
    "\n",
    "\n",
    "fig = plt.figure(figsize=(9.5,3))\n",
    "\n",
    "ax1 = fig.add_subplot(121)\n",
    "im1 = ax1.imshow(gz_obs.reshape(ny,nx))\n",
    "fig.colorbar(im1)\n",
    "\n",
    "ax2 = fig.add_subplot(122)\n",
    "im2 = ax2.imshow(anomaly.reshape(ny,nx))\n",
    "fig.colorbar(im2)"
   ]
  },
  {
   "cell_type": "markdown",
   "metadata": {},
   "source": [
    "## Prior information\n",
    "\n",
    "So far we have assumed no prior knowledge of the density structure, but we can add constraints inferred by reference densities for the upper crust.\n",
    "\n",
    "A prior covariance matrix $\\mathbf{C}_p$ may be required to spatially correlate uncertainties in some cases. We offer three end-members:\n",
    "\n",
    "1. Uncorrelated prior information ($\\ell_2$-norm)\n",
    "2. The whole mesh is correlated\n",
    "3. Uncertainties are correlated within a single lithology"
   ]
  },
  {
   "cell_type": "code",
   "execution_count": null,
   "metadata": {
    "collapsed": true
   },
   "outputs": [],
   "source": [
    "from conduction.inversion import create_covariance_matrix\n",
    "from conduction.inversion import gaussian_function"
   ]
  },
  {
   "cell_type": "markdown",
   "metadata": {},
   "source": [
    "### 1. Uncorrelated"
   ]
  },
  {
   "cell_type": "code",
   "execution_count": null,
   "metadata": {
    "collapsed": true
   },
   "outputs": [],
   "source": [
    "prior = np.ones(mesh.nn)*res.x.mean()\n",
    "sigma_p = 0.01*prior\n",
    "\n",
    "rho_p = InvPrior(prior, sigma_p)\n",
    "inv.add_prior(rho=rho_p)"
   ]
  },
  {
   "cell_type": "code",
   "execution_count": null,
   "metadata": {},
   "outputs": [],
   "source": [
    "x = np.ones(mesh.nn)*20\n",
    "dx = 0.01*x\n",
    "\n",
    "fm0 = forward_model(x, inv)\n",
    "fm1 = forward_model(x + dx, inv)\n",
    "tl = tangent_linear(x, dx, inv)\n",
    "ad = adjoint_model(x, inv)\n",
    "\n",
    "print(\"finite difference {}\".format(fm1 - fm0))\n",
    "print(\"tangent linear {}\".format(tl[1]))\n",
    "print(\"adjoint model {}\".format(ad[1].dot(dx)))"
   ]
  },
  {
   "cell_type": "markdown",
   "metadata": {},
   "source": [
    "### 2. Correlated on the mesh"
   ]
  },
  {
   "cell_type": "code",
   "execution_count": null,
   "metadata": {},
   "outputs": [],
   "source": [
    "L = 10.0\n",
    "max_dist = L*4\n",
    "\n",
    "prior = np.ones(mesh.nn)*res.x.mean()\n",
    "sigma_p = 0.01*prior\n",
    "\n",
    "cov = create_covariance_matrix(sigma_p, mesh.coords, max_dist, gaussian_function, L)\n",
    "rho_p = InvPrior(prior, sigma_p, cov_mat=cov)\n",
    "inv.add_prior(rho=rho_p)"
   ]
  },
  {
   "cell_type": "code",
   "execution_count": null,
   "metadata": {},
   "outputs": [],
   "source": [
    "# estimate starting density\n",
    "x = np.ones(mesh.nn)*20\n",
    "dx = 0.01*x\n",
    "\n",
    "fm0 = forward_model(x, inv)\n",
    "fm1 = forward_model(x + dx, inv)\n",
    "tl = tangent_linear(x, dx, inv)\n",
    "ad = adjoint_model(x, inv)\n",
    "\n",
    "print(\"finite difference {}\".format(fm1 - fm0))\n",
    "print(\"tangent linear {}\".format(tl[1]))\n",
    "print(\"adjoint model {}\".format(ad[1].dot(dx)))"
   ]
  },
  {
   "cell_type": "markdown",
   "metadata": {},
   "source": [
    "### 3. Correlated within lithologies"
   ]
  },
  {
   "cell_type": "code",
   "execution_count": null,
   "metadata": {
    "collapsed": true
   },
   "outputs": [],
   "source": []
  }
 ],
 "metadata": {
  "kernelspec": {
   "display_name": "Python 2",
   "language": "python",
   "name": "python2"
  },
  "language_info": {
   "codemirror_mode": {
    "name": "ipython",
    "version": 2
   },
   "file_extension": ".py",
   "mimetype": "text/x-python",
   "name": "python",
   "nbconvert_exporter": "python",
   "pygments_lexer": "ipython2",
   "version": "2.7.12"
  }
 },
 "nbformat": 4,
 "nbformat_minor": 2
}
