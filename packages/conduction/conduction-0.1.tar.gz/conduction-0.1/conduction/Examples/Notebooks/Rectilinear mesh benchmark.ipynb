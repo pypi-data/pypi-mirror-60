{
 "cells": [
  {
   "cell_type": "markdown",
   "metadata": {},
   "source": [
    "# Rectilinear mesh benchmark\n",
    "\n",
    "We want to make sure we get identical results for a rectilinear and regularly-spaced mesh."
   ]
  },
  {
   "cell_type": "code",
   "execution_count": null,
   "metadata": {
    "collapsed": true
   },
   "outputs": [],
   "source": [
    "import numpy as np\n",
    "import matplotlib.pyplot as plt\n",
    "from mpl_toolkits.mplot3d import Axes3D\n",
    "from petsc4py import PETSc\n",
    "\n",
    "%matplotlib inline\n",
    "\n",
    "import conduction"
   ]
  },
  {
   "cell_type": "code",
   "execution_count": null,
   "metadata": {},
   "outputs": [],
   "source": [
    "minX, maxX = 0., 1.\n",
    "minY, maxY = 0., 1.\n",
    "nx, ny, nz = 10, 10, 100\n",
    "\n",
    "\n",
    "def zfun(z, C=1., k=0.5):\n",
    "    return C*(1.0 - np.exp(-k*z))\n",
    "\n",
    "zrange = np.linspace(0, 10, nz)\n",
    "\n",
    "zaxis = zfun(zrange)\n",
    "print(\"min {}, max {}\".format(zaxis.min(), zaxis.max()))\n",
    "\n",
    "plt.plot(zrange, zaxis)"
   ]
  },
  {
   "cell_type": "code",
   "execution_count": null,
   "metadata": {
    "collapsed": true
   },
   "outputs": [],
   "source": [
    "mesh1.rhs.setValuesBlockedLocal()"
   ]
  },
  {
   "cell_type": "code",
   "execution_count": null,
   "metadata": {},
   "outputs": [],
   "source": [
    "minZ, maxZ = zaxis.min(), zaxis.max()\n",
    "\n",
    "mesh1 = conduction.Conduction3D((minX, minY, minZ), (maxX, maxY, maxZ), (nx, ny, nz))\n",
    "mesh2 = conduction.Conduction3D((minX, minY, zrange.min()), (maxX, maxY, zrange.max()), (nx, ny, nz))\n",
    "mesh2.refine(z_fn=zfun)\n",
    "\n",
    "print(\"mesh1 bbox {}\".format(mesh1.dm.getBoundingBox()))\n",
    "print(\"mesh2 bbox {}\".format(mesh2.dm.getBoundingBox()))"
   ]
  },
  {
   "cell_type": "markdown",
   "metadata": {},
   "source": [
    "## Update material properties"
   ]
  },
  {
   "cell_type": "code",
   "execution_count": null,
   "metadata": {
    "collapsed": true
   },
   "outputs": [],
   "source": [
    "n = nx*ny*nz\n",
    "\n",
    "k = np.ones(n)\n",
    "H = np.zeros(n)\n",
    "\n",
    "mask = mesh1.coords[:,0] >= 0.5\n",
    "\n",
    "# k[mask] = 5.\n",
    "\n",
    "mesh1.update_properties(k, H)\n",
    "mesh2.update_properties(k, H)"
   ]
  },
  {
   "cell_type": "markdown",
   "metadata": {},
   "source": [
    "## Boundary conditions"
   ]
  },
  {
   "cell_type": "code",
   "execution_count": null,
   "metadata": {
    "collapsed": true
   },
   "outputs": [],
   "source": [
    "mesh1.boundary_condition('minZ', 1.0, flux=False)\n",
    "mesh1.boundary_condition('maxZ', 0.0, flux=False)\n",
    "\n",
    "mesh2.boundary_condition('minZ', 1.0, flux=False)\n",
    "mesh2.boundary_condition('maxZ', 0.0, flux=False)\n",
    "# mesh2.bc['minZ']['val'] *=2"
   ]
  },
  {
   "cell_type": "code",
   "execution_count": null,
   "metadata": {
    "collapsed": true
   },
   "outputs": [],
   "source": [
    "sol1 = mesh1.solve('bcgs')\n",
    "sol2 = mesh2.solve('bcgs')"
   ]
  },
  {
   "cell_type": "code",
   "execution_count": null,
   "metadata": {},
   "outputs": [],
   "source": [
    "fig = plt.figure(figsize=(15,8))\n",
    "ax1 = fig.add_subplot(121, projection='3d', xlim=(minX, maxX), ylim=(minY, maxY),)\n",
    "sc1 = ax1.scatter3D(mesh1.coords[:,0], mesh1.coords[:,1], mesh1.coords[:,2], c=sol1)\n",
    "fig.colorbar(sc1)\n",
    "\n",
    "ax2 = fig.add_subplot(122, projection='3d', xlim=(minX, maxX), ylim=(minY, maxY),)\n",
    "sc2 = ax2.scatter3D(mesh2.coords[:,0], mesh2.coords[:,1], mesh2.coords[:,2], c=sol2)\n",
    "fig.colorbar(sc2)\n"
   ]
  },
  {
   "cell_type": "markdown",
   "metadata": {},
   "source": [
    "## Calculate heat flux"
   ]
  },
  {
   "cell_type": "code",
   "execution_count": null,
   "metadata": {
    "collapsed": true
   },
   "outputs": [],
   "source": [
    "Xcoords1 = np.unique(mesh1.coords[:,0])\n",
    "Ycoords1 = np.unique(mesh1.coords[:,1])\n",
    "Zcoords1 = np.unique(mesh1.coords[:,2])\n",
    "\n",
    "Xcoords2 = np.unique(mesh2.coords[:,0])\n",
    "Ycoords2 = np.unique(mesh2.coords[:,1])\n",
    "Zcoords2 = np.unique(mesh2.coords[:,2])\n",
    "\n",
    "dTdx1, dTdy1, dTdz1 = np.gradient(sol1.reshape(nx,ny,nz), Xcoords1, Ycoords1, Zcoords1)\n",
    "dTdx2, dTdy2, dTdz2 = np.gradient(sol2.reshape(nx,ny,nz), Xcoords2, Ycoords2, Zcoords2)"
   ]
  },
  {
   "cell_type": "code",
   "execution_count": null,
   "metadata": {
    "collapsed": true
   },
   "outputs": [],
   "source": [
    "from scipy.interpolate import griddata\n",
    "\n",
    "xq, yq, zq = np.meshgrid(Xcoords1, Ycoords1, Zcoords1)\n",
    "sol2_grid = griddata(mesh2.coords, sol2, (xq, yq, zq))"
   ]
  },
  {
   "cell_type": "code",
   "execution_count": null,
   "metadata": {},
   "outputs": [],
   "source": [
    "fig, (ax1, ax2) = plt.subplots(1,2, figsize=(15,8))\n",
    "\n",
    "im1 = ax1.imshow(sol1.reshape(nz,ny,nx)[:,5,:], origin='lower', aspect='auto')\n",
    "fig.colorbar(im1, ax=ax1)\n",
    "\n",
    "im2 = ax2.imshow(np.rot90(sol2_grid[:,5,:], 3), origin='lower', aspect='auto')\n",
    "fig.colorbar(im2, ax=ax2)"
   ]
  },
  {
   "cell_type": "code",
   "execution_count": null,
   "metadata": {
    "collapsed": true
   },
   "outputs": [],
   "source": [
    "def solve(self, solver='bcgs'):\n",
    "    from petsc4py import PETSc\n",
    "    matrix = self.mat\n",
    "    rhs = self.rhs\n",
    "    res = self.res\n",
    "    lres = self.lres\n",
    "\n",
    "    ksp = PETSc.KSP().create()\n",
    "    ksp.setType(solver)\n",
    "    ksp.setOperators(matrix)\n",
    "    # pc = ksp.getPC()\n",
    "    # pc.setType('gamg')\n",
    "    ksp.setFromOptions()\n",
    "    ksp.setTolerances(1e-10, 1e-50)\n",
    "    ksp.solve(rhs, res)\n",
    "    # We should hand this back to local vectors\n",
    "    self.dm.globalToLocal(res, lres)\n",
    "    return lres.array"
   ]
  },
  {
   "cell_type": "code",
   "execution_count": null,
   "metadata": {
    "collapsed": true
   },
   "outputs": [],
   "source": [
    "w_mean = mesh2.w.mean(axis=0)\n",
    "dist = np.linalg.norm(w_mean, axis=1)"
   ]
  },
  {
   "cell_type": "code",
   "execution_count": null,
   "metadata": {},
   "outputs": [],
   "source": [
    "print 1 - dist[545]\n",
    "diag2 = mesh2.mat.getDiagonal()\n",
    "diag2.array[mesh2.dirichlet_mask] *= (1.0 - dist)[mesh2.dirichlet_mask]\n",
    "mesh2.mat.setDiagonal(diag2)"
   ]
  },
  {
   "cell_type": "code",
   "execution_count": null,
   "metadata": {
    "collapsed": true
   },
   "outputs": [],
   "source": [
    "diag2 = mesh2.mat.getDiagonal()\n",
    "diag2.array[mesh2.dirichlet_mask] += dist[mesh2.dirichlet_mask]\n",
    "mesh2.mat.setDiagonal(diag2)"
   ]
  },
  {
   "cell_type": "code",
   "execution_count": null,
   "metadata": {
    "collapsed": true
   },
   "outputs": [],
   "source": [
    "\n",
    "sol2 = solve(mesh2)\n"
   ]
  },
  {
   "cell_type": "code",
   "execution_count": null,
   "metadata": {},
   "outputs": [],
   "source": [
    "xx = np.array([-0.5,0,0.5, -0.5,0,0.5, -0.5,0,0.5], dtype=float) + 5\n",
    "yy = np.array([-1,-1,-1, 0,0,0, 1,1,1], dtype=float) + 5\n",
    "\n",
    "cxy = np.column_stack([xx, yy])\n",
    "\n",
    "plt.scatter(xx, yy)"
   ]
  },
  {
   "cell_type": "code",
   "execution_count": null,
   "metadata": {},
   "outputs": [],
   "source": [
    "diff = cxy[5] - cxy\n",
    "diff.mean(axis=0)"
   ]
  },
  {
   "cell_type": "code",
   "execution_count": null,
   "metadata": {},
   "outputs": [],
   "source": [
    "np.linalg.norm(mesh1.w[:,545].mean(axis=0))"
   ]
  },
  {
   "cell_type": "code",
   "execution_count": null,
   "metadata": {},
   "outputs": [],
   "source": [
    "mesh2.w[:,545].mean(axis=0)"
   ]
  },
  {
   "cell_type": "code",
   "execution_count": null,
   "metadata": {},
   "outputs": [],
   "source": [
    "np.linalg.norm(mesh1.w.mean(axis=0), axis=1)[545]"
   ]
  },
  {
   "cell_type": "code",
   "execution_count": null,
   "metadata": {},
   "outputs": [],
   "source": [
    "mesh1.construct_matrix()\n",
    "mesh1.cols[:,545]\n",
    "\n",
    "# np.where(mesh1.dirichlet_mask)"
   ]
  },
  {
   "cell_type": "code",
   "execution_count": null,
   "metadata": {
    "collapsed": true
   },
   "outputs": [],
   "source": [
    "diag1 = mesh1.mat.getDiagonal()\n",
    "diag2 = mesh2.mat.getDiagonal()\n",
    "\n",
    "ddiag = diag1 - diag2\n",
    "\n",
    "rescale = ddiag.array.reshape(nz,ny,nx)\n",
    "\n",
    "diag2b = diag2 - 0.1*diag2\n",
    "mesh2.mat.setDiagonal(diag2b)\n",
    "# mesh2.mat.view()\n",
    "\n",
    "\n",
    "def solve(self, solver='bcgs'):\n",
    "    from petsc4py import PETSc\n",
    "    matrix = self.mat\n",
    "    rhs = self.rhs\n",
    "    res = self.res\n",
    "    lres = self.lres\n",
    "\n",
    "    ksp = PETSc.KSP().create()\n",
    "    ksp.setType(solver)\n",
    "    ksp.setOperators(matrix)\n",
    "    # pc = ksp.getPC()\n",
    "    # pc.setType('gamg')\n",
    "    ksp.setFromOptions()\n",
    "    ksp.setTolerances(1e-10, 1e-50)\n",
    "    ksp.solve(rhs, res)\n",
    "    # We should hand this back to local vectors\n",
    "    self.dm.globalToLocal(res, lres)\n",
    "    return lres.array\n",
    "\n",
    "\n",
    "sol2 = solve(mesh2)"
   ]
  },
  {
   "cell_type": "code",
   "execution_count": null,
   "metadata": {},
   "outputs": [],
   "source": [
    "fig = plt.figure(figsize=(15,8))\n",
    "ax1 = fig.add_subplot(121, projection='3d', xlim=(minX, maxX), ylim=(minY, maxY),)\n",
    "sc1 = ax1.scatter3D(mesh1.coords[:,0], mesh1.coords[:,1], mesh1.coords[:,2], c=dTdy2.ravel())\n",
    "fig.colorbar(sc1)\n",
    "\n",
    "ax2 = fig.add_subplot(122, projection='3d', xlim=(minX, maxX), ylim=(minY, maxY),)\n",
    "sc2 = ax2.scatter3D(mesh2.coords[:,0], mesh2.coords[:,1], mesh2.coords[:,2], c=dTdy2.ravel())\n",
    "fig.colorbar(sc2)"
   ]
  },
  {
   "cell_type": "code",
   "execution_count": null,
   "metadata": {},
   "outputs": [],
   "source": [
    "print mesh1.bc['minZ']['val']\n",
    "print mesh2.bc['minZ']['val']\n",
    "\n",
    "print mesh1.bc['minZ']['delta']\n",
    "print mesh2.bc['minZ']['delta']"
   ]
  },
  {
   "cell_type": "code",
   "execution_count": null,
   "metadata": {},
   "outputs": [],
   "source": [
    "1./-mesh1.bc['minZ']['delta']"
   ]
  },
  {
   "cell_type": "code",
   "execution_count": null,
   "metadata": {},
   "outputs": [],
   "source": [
    "1./-mesh2.bc['minZ']['delta']"
   ]
  },
  {
   "cell_type": "code",
   "execution_count": null,
   "metadata": {
    "collapsed": true
   },
   "outputs": [],
   "source": [
    "coords = mesh2.coords\n",
    "\n",
    "Zcoords = np.unique(coords[:,2])"
   ]
  },
  {
   "cell_type": "code",
   "execution_count": null,
   "metadata": {},
   "outputs": [],
   "source": [
    "Zcoords[1] - Zcoords[0]"
   ]
  },
  {
   "cell_type": "code",
   "execution_count": null,
   "metadata": {
    "collapsed": true
   },
   "outputs": [],
   "source": [
    "mesh2.bc['minZ']['val'] = 1./-(Zcoords[1] - Zcoords[0])\n",
    "mesh2.bc['minZ']['val'] *= 2"
   ]
  },
  {
   "cell_type": "code",
   "execution_count": null,
   "metadata": {
    "collapsed": true
   },
   "outputs": [],
   "source": []
  }
 ],
 "metadata": {
  "kernelspec": {
   "display_name": "Python 2",
   "language": "python",
   "name": "python2"
  },
  "language_info": {
   "codemirror_mode": {
    "name": "ipython",
    "version": 2
   },
   "file_extension": ".py",
   "mimetype": "text/x-python",
   "name": "python",
   "nbconvert_exporter": "python",
   "pygments_lexer": "ipython2",
   "version": "2.7.12"
  }
 },
 "nbformat": 4,
 "nbformat_minor": 2
}
