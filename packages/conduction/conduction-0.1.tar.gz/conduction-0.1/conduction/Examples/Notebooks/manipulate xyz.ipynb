{
 "cells": [
  {
   "cell_type": "markdown",
   "metadata": {},
   "source": [
    "# Manipulate x,y,z files\n",
    "\n",
    "Transform them into something more manageable!"
   ]
  },
  {
   "cell_type": "code",
   "execution_count": null,
   "metadata": {
    "collapsed": true
   },
   "outputs": [],
   "source": [
    "import numpy as np\n",
    "import matplotlib.pyplot as plt\n",
    "from mpl_toolkits.mplot3d import Axes3D\n",
    "%matplotlib inline\n",
    "\n",
    "from scipy.spatial import cKDTree\n",
    "from scipy.interpolate import RegularGridInterpolator"
   ]
  },
  {
   "cell_type": "code",
   "execution_count": null,
   "metadata": {
    "collapsed": true
   },
   "outputs": [],
   "source": [
    "directory = '/mnt/home_geo/mguerri/Documents/itherc/fullea_et_al_2014_0/OUT_xyz/'\n",
    "\n",
    "# import files\n",
    "xyz_conductivity = np.loadtxt(directory+'Thermal_cond.xyz')\n",
    "xyz_Trhopvels = np.loadtxt(directory+'Trhopvels.xyz', usecols=(0,1,2,3,4,5,6,7,8))"
   ]
  },
  {
   "cell_type": "markdown",
   "metadata": {},
   "source": [
    "In Trhopvels\n",
    "\n",
    "1. col: longitude\n",
    "2. col: latitude\n",
    "3. col: depth (in m, negative downwards)\n",
    "4. col: temperature (C)\n",
    "5. col: density (kg/m3)\n",
    "6. col: pressure (MPa)\n",
    "7. col: Vp (km/s)\n",
    "8. col: Vs (km/s)"
   ]
  },
  {
   "cell_type": "code",
   "execution_count": null,
   "metadata": {},
   "outputs": [],
   "source": [
    "# X,Y,Z nodes are identical for different files\n",
    "\n",
    "Xcoords = np.unique(xyz_Trhopvels[:,0])\n",
    "Ycoords = np.unique(xyz_Trhopvels[:,1])\n",
    "Zcoords = np.unique(xyz_Trhopvels[:,2])\n",
    "\n",
    "nx, ny, nz = Xcoords.size, Ycoords.size, Zcoords.size\n",
    "\n",
    "# These grids are flipped in the y-direction for some reason\n",
    "k_grid   = xyz_conductivity[:,-1].reshape(nx, ny, nz)[:,:,::-1]\n",
    "T_grid   = xyz_Trhopvels[:,3].reshape(nx,ny,nz)[:,:,::-1]\n",
    "rho_grid = xyz_Trhopvels[:,4].reshape(nx,ny,nz)[:,:,::-1]\n",
    "P_grid   = xyz_Trhopvels[:,5].reshape(nx,ny,nz)[:,:,::-1]\n",
    "Vp_grid  = xyz_Trhopvels[:,6].reshape(nx,ny,nz)[:,:,::-1]\n",
    "Vs_grid  = xyz_Trhopvels[:,7].reshape(nx,ny,nz)[:,:,::-1]\n",
    "\n",
    "print(\"dimensions: {}\".format((nx,ny,nz)))\n",
    "print(\"min/max:\\n x {}\\n y {}\\n z {}\".format((Xcoords.min(), Xcoords.max()),\n",
    "                                             (Ycoords.min(), Ycoords.max()),\n",
    "                                             (Zcoords.min(), Zcoords.max())))"
   ]
  },
  {
   "cell_type": "markdown",
   "metadata": {},
   "source": [
    "Create interpolators"
   ]
  },
  {
   "cell_type": "code",
   "execution_count": null,
   "metadata": {
    "collapsed": true
   },
   "outputs": [],
   "source": [
    "k_interp   = RegularGridInterpolator((Xcoords, Ycoords, Zcoords), k_grid, method='linear')\n",
    "T_interp   = RegularGridInterpolator((Xcoords, Ycoords, Zcoords), T_grid, method='linear')\n",
    "rho_interp = RegularGridInterpolator((Xcoords, Ycoords, Zcoords), rho_grid, method='linear')\n",
    "P_interp   = RegularGridInterpolator((Xcoords, Ycoords, Zcoords), P_grid, method='linear')\n",
    "Vp_interp  = RegularGridInterpolator((Xcoords, Ycoords, Zcoords), Vp_grid, method='linear')\n",
    "Vs_interp  = RegularGridInterpolator((Xcoords, Ycoords, Zcoords), k_grid, method='linear')"
   ]
  },
  {
   "cell_type": "markdown",
   "metadata": {},
   "source": [
    "Now we interpolate onto a new grid"
   ]
  },
  {
   "cell_type": "code",
   "execution_count": null,
   "metadata": {},
   "outputs": [],
   "source": [
    "import conduction\n",
    "\n",
    "minX, maxX = Xcoords.min() + 1e-5, Xcoords.max() - 1e-5\n",
    "minY, maxY = Ycoords.min() + 1e-5, Ycoords.max() - 1e-5\n",
    "minZ, maxZ = Zcoords.min() + 1e-5, Zcoords.max() - 1e-5\n",
    "\n",
    "mesh = conduction.Conduction3D((minX, minY, minZ), (maxX, maxY, maxZ), (nx, ny, nz))\n",
    "\n",
    "print(\"bounding box: {}\".format(mesh.dm.getBoundingBox()))"
   ]
  },
  {
   "cell_type": "code",
   "execution_count": null,
   "metadata": {
    "collapsed": true
   },
   "outputs": [],
   "source": [
    "# Get local mesh information\n",
    "\n",
    "coords = mesh.coords\n",
    "\n",
    "nx = mesh.nx\n",
    "ny = mesh.ny\n",
    "nz = mesh.nz"
   ]
  },
  {
   "cell_type": "markdown",
   "metadata": {},
   "source": [
    "## Save to file\n",
    "\n",
    "Save the fields to an HDF5 file to visualise in Paraview."
   ]
  },
  {
   "cell_type": "code",
   "execution_count": null,
   "metadata": {},
   "outputs": [],
   "source": [
    "d = {'conductivity': k_interp,\n",
    "     'temperature': T_interp,\n",
    "     'density': rho_interp,\n",
    "     'pressure': P_interp,\n",
    "     'P velocity': Vp_interp,\n",
    "     'S velocity': Vs_interp}\n",
    "\n",
    "filename = 'ireland.h5'\n",
    "mesh.save_mesh_to_hdf5(filename)\n",
    "\n",
    "for key in d:\n",
    "    tempdict = dict()\n",
    "\n",
    "    interp = d[key]\n",
    "    field = interp(mesh.coords)\n",
    "    \n",
    "    tempdict[key] = field\n",
    "    \n",
    "    mesh.save_field_to_hdf5(filename, **tempdict)\n",
    "    print(\"saved '{}' to {}\".format(key, filename))\n",
    "    \n",
    "conduction.tools.generateXdmf(filename)"
   ]
  },
  {
   "cell_type": "markdown",
   "metadata": {},
   "source": [
    "## Refinement (optional)\n",
    "\n",
    "We refine in the $z$ direction."
   ]
  },
  {
   "cell_type": "code",
   "execution_count": null,
   "metadata": {
    "collapsed": true
   },
   "outputs": [],
   "source": [
    "coords_old = coords.copy()"
   ]
  },
  {
   "cell_type": "code",
   "execution_count": null,
   "metadata": {},
   "outputs": [],
   "source": [
    "def z_fun(z, C, k):\n",
    "    return C*(1.0 - np.exp(-k*z))\n",
    "\n",
    "zrange = np.linspace(-8.6, 1, nz)\n",
    "\n",
    "Zcoords = z_fun(zrange, 5500., 0.5)\n",
    "print Zcoords.min()\n",
    "\n",
    "plt.plot(zrange, Zcoords)"
   ]
  },
  {
   "cell_type": "code",
   "execution_count": null,
   "metadata": {
    "collapsed": true
   },
   "outputs": [],
   "source": [
    "def zfun(z, C=5500.0, k=0.5):\n",
    "    return C*(1.0 - np.exp(-k*z))\n",
    "\n",
    "\n",
    "mesh = conduction.Conduction3D((minX, minY, zrange.min()), (maxX, maxY, zrange.max()), (nx, ny, nz))\n",
    "mesh.refine(z_fn=zfun)\n",
    "\n",
    "coords = mesh.coords"
   ]
  },
  {
   "cell_type": "markdown",
   "metadata": {},
   "source": [
    "## Solve"
   ]
  },
  {
   "cell_type": "code",
   "execution_count": null,
   "metadata": {
    "collapsed": true
   },
   "outputs": [],
   "source": [
    "# material properties\n",
    "\n",
    "k_local = k_interp(coords)\n",
    "H_local = np.zeros_like(k_local)\n",
    "\n",
    "k_local[k_local == 0] = 3.\n",
    "\n",
    "mesh.update_properties(k_local, H_local)"
   ]
  },
  {
   "cell_type": "code",
   "execution_count": null,
   "metadata": {
    "collapsed": true
   },
   "outputs": [],
   "source": [
    "# BCs\n",
    "Tmax = T_grid.max()\n",
    "Tmin = 298.0\n",
    "\n",
    "mesh.boundary_condition('maxZ', Tmin, flux=False)\n",
    "mesh.boundary_condition('minZ', Tmax, flux=False)"
   ]
  },
  {
   "cell_type": "code",
   "execution_count": null,
   "metadata": {
    "collapsed": true
   },
   "outputs": [],
   "source": [
    "sol = mesh.solve(solver='cgs')"
   ]
  },
  {
   "cell_type": "code",
   "execution_count": null,
   "metadata": {
    "collapsed": true
   },
   "outputs": [],
   "source": [
    "H5_file = 'rectilinear_solution.h5'\n",
    "\n",
    "mesh.save_mesh_to_hdf5(H5_file)\n",
    "mesh.save_field_to_hdf5(H5_file, T=sol, k=mesh.diffusivity, H=mesh.heat_sources)\n",
    "mesh.save_field_to_hdf5(H5_file, x=coords[:,0], y=coords[:,1], z=coords[:,2])\n",
    "conduction.generateXdmf(H5_file)"
   ]
  },
  {
   "cell_type": "code",
   "execution_count": null,
   "metadata": {},
   "outputs": [],
   "source": [
    "# maxZ - minZ\n",
    "# z1 = np.linspace(Zcoords.min(), Zcoords.max(), nz)\n",
    "# ratio = z1/Zcoords\n",
    "\n",
    "coords[:,2].reshape(mesh.nx, mesh.ny, mesh.)\n",
    "ratio = coords_old[:,2]/coords[:,2]\n",
    "ratio"
   ]
  },
  {
   "cell_type": "code",
   "execution_count": null,
   "metadata": {
    "collapsed": true
   },
   "outputs": [],
   "source": [
    "mesh.save_field_to_hdf5(H5_file, zscale=ratio)\n",
    "conduction.generateXdmf(H5_file)"
   ]
  },
  {
   "cell_type": "code",
   "execution_count": null,
   "metadata": {
    "collapsed": true
   },
   "outputs": [],
   "source": [
    "# mesh.save_mesh_to_hdf5('geometry.h5')\n",
    "mesh.save_field_to_hdf5(H5_file, x=coords[:,0], y=coords[:,1], z=coords[:,2])"
   ]
  },
  {
   "cell_type": "markdown",
   "metadata": {},
   "source": [
    "## Visualisation\n",
    "\n",
    "This takes some resources for doing 3D particles in matplotlib, so we opt for some slices of the domain instead!"
   ]
  },
  {
   "cell_type": "code",
   "execution_count": null,
   "metadata": {},
   "outputs": [],
   "source": [
    "fig = plt.figure(figsize=(10,8))\n",
    "ax1 = fig.add_subplot(111, projection='3d', xlim=(minX, maxX), ylim=(minY, maxY),)\n",
    "sca = ax1.scatter3D(coords[:,0], coords[:,1], coords[:,2], c=sol)\n",
    "fig.colorbar(sca)"
   ]
  },
  {
   "cell_type": "code",
   "execution_count": null,
   "metadata": {},
   "outputs": [],
   "source": [
    "prop = k_interp(coords)\n",
    "\n",
    "\n",
    "fig = plt.figure(figsize=(10,8))\n",
    "ax1 = fig.add_subplot(111, projection='3d', xlim=(minX, maxX), ylim=(minY, maxY),)\n",
    "sca = ax1.scatter3D(coords[:,0], coords[:,1], coords[:,2], c=prop)\n",
    "fig.colorbar(sca)"
   ]
  }
 ],
 "metadata": {
  "kernelspec": {
   "display_name": "Python 2",
   "language": "python",
   "name": "python2"
  },
  "language_info": {
   "codemirror_mode": {
    "name": "ipython",
    "version": 2
   },
   "file_extension": ".py",
   "mimetype": "text/x-python",
   "name": "python",
   "nbconvert_exporter": "python",
   "pygments_lexer": "ipython2",
   "version": "2.7.12"
  }
 },
 "nbformat": 4,
 "nbformat_minor": 2
}
