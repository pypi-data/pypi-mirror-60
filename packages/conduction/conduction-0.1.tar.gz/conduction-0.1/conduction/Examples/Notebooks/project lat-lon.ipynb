{
 "cells": [
  {
   "cell_type": "markdown",
   "metadata": {},
   "source": [
    "# Projection\n",
    "\n",
    "We want to project lat-lon coordinates into eastings and northings."
   ]
  },
  {
   "cell_type": "code",
   "execution_count": null,
   "metadata": {
    "collapsed": true
   },
   "outputs": [],
   "source": [
    "import numpy as np\n",
    "import matplotlib.pyplot as plt\n",
    "from mpl_toolkits.mplot3d import Axes3D\n",
    "%matplotlib inline\n",
    "\n",
    "from scipy.spatial import cKDTree\n",
    "from scipy.interpolate import RegularGridInterpolator, griddata"
   ]
  },
  {
   "cell_type": "code",
   "execution_count": null,
   "metadata": {
    "collapsed": true
   },
   "outputs": [],
   "source": [
    "directory2 = '/mnt/home_geo/mguerri/Documents/itherc/fullea_et_al_2014_0/'\n",
    "\n",
    "layer_attributes = np.loadtxt('/opt/ben/layers.info', skiprows=1, usecols=(2,3,4,5,6,7,8,9,10))\n",
    "layer_number = np.loadtxt('/opt/ben/layers.info', dtype=int, skiprows=1, usecols=(0,))\n",
    "layer_name   = np.loadtxt('/opt/ben/layers.info', dtype=str, skiprows=1, usecols=(1,))\n",
    "\n",
    "layer_header = ['body number', 'density', 'alpha', 'thermal conductivity', 'heat production rate',\\\n",
    "                'pressure coefficient', 'Gruneisen parameter', 'pressure derivative of bulk modulus', 'man']\n"
   ]
  },
  {
   "cell_type": "code",
   "execution_count": null,
   "metadata": {
    "collapsed": true
   },
   "outputs": [],
   "source": [
    "layer = dict()\n",
    "for i in xrange(0, 10):\n",
    "    data = np.loadtxt(directory2+'layers/layer{}.xyz'.format(i))\n",
    "    data[:,2] *= -1e3\n",
    "    layer[i] = data"
   ]
  },
  {
   "cell_type": "code",
   "execution_count": null,
   "metadata": {
    "collapsed": true
   },
   "outputs": [],
   "source": [
    "lons = np.unique(data[:,0])\n",
    "lats = np.unique(data[:,1])\n",
    "\n",
    "nx, ny = lons.size, lats.size"
   ]
  },
  {
   "cell_type": "code",
   "execution_count": null,
   "metadata": {},
   "outputs": [],
   "source": [
    "# %matplotlib qt\n",
    "\n",
    "fig = plt.figure(figsize=(15,10))\n",
    "ax1 = fig.add_subplot(111, projection='3d')\n",
    "for i in xrange(10):\n",
    "    data = layer[i]\n",
    "    sca = ax1.scatter3D(data[:,0], data[:,1], data[:,2])\n",
    "\n",
    "# fig.colorbar(sca)\n",
    "# plt.savefig('geological-surfaces.png', bbox_inches='tight')\n",
    "\n",
    "minX, minY, minZ = data[:,:3].min(axis=0)\n",
    "maxX, maxY, maxZ = data[:,:3].max(axis=0)\n",
    "\n",
    "minZ, maxZ = ax1.get_zlim()\n",
    "\n",
    "print(\"min/max:\\n x {}\\n y {}\\n z {}\".format((minX, maxX),\n",
    "                                             (minY, maxY),\n",
    "                                             (minZ, maxZ)))"
   ]
  },
  {
   "cell_type": "code",
   "execution_count": null,
   "metadata": {
    "collapsed": true
   },
   "outputs": [],
   "source": [
    "from pyproj import Proj, transform\n",
    "\n",
    "inProj = Proj(init='epsg:4326')\n",
    "outProj = Proj(init='epsg:2157')\n",
    "x1,y1 = data[:,0], data[:,1]\n",
    "x2,y2 = transform(inProj,outProj,x1,y1)"
   ]
  },
  {
   "cell_type": "markdown",
   "metadata": {},
   "source": [
    "Transformation complete!\n",
    "\n",
    "Now we can save these x,y coordinates to new layer files."
   ]
  },
  {
   "cell_type": "code",
   "execution_count": null,
   "metadata": {
    "collapsed": true
   },
   "outputs": [],
   "source": [
    "layer_proj = dict()\n",
    "for i in xrange(0, 10):\n",
    "    data2 = 1e3*np.loadtxt(directory2+'layers_xy/layer{}.xyz'.format(i))\n",
    "    data2[:,2] *= -1\n",
    "    data2[:,0] = x2\n",
    "    data2[:,1] = y2\n",
    "    layer_proj[i] = data2"
   ]
  },
  {
   "cell_type": "code",
   "execution_count": null,
   "metadata": {},
   "outputs": [],
   "source": [
    "fig = plt.figure(figsize=(15,10))\n",
    "ax1 = fig.add_subplot(111, projection='3d')\n",
    "for i in xrange(0, 10):\n",
    "    data = layer_proj[i]\n",
    "    sca = ax1.scatter3D(data[:,0], data[:,1], data[:,2])\n",
    "    \n",
    "minX, minY, minZ = data.min(axis=0)\n",
    "maxX, maxY, maxZ = data.max(axis=0)\n",
    "\n",
    "minZ, maxZ = ax1.get_zlim()\n",
    "\n",
    "print(\"min/max:\\n x {}\\n y {}\\n z {}\".format((minX, maxX),\n",
    "                                             (minY, maxY),\n",
    "                                             (minZ, maxZ)))\n",
    "\n",
    "# fig.colorbar(sca)\n",
    "# plt.savefig('geological-surfaces.png', bbox_inches='tight')"
   ]
  },
  {
   "cell_type": "code",
   "execution_count": null,
   "metadata": {},
   "outputs": [],
   "source": [
    "minX, maxX = 350000, 788000\n",
    "minY, maxY = 480000, 1000000\n",
    "\n",
    "fig = plt.figure()\n",
    "ax1 = fig.add_subplot(111)\n",
    "ax1.scatter(data[:,0], data[:,1], zorder=1)\n",
    "\n",
    "ax1.plot([minX, minX], [minY, maxY], c='r', zorder=2)\n",
    "ax1.plot([minX, maxX], [minY, minY], c='r', zorder=2)\n",
    "ax1.plot([maxX, maxX], [minY, maxY], c='r', zorder=2)\n",
    "ax1.plot([minX, maxX], [maxY, maxY], c='r', zorder=2)\n",
    "\n",
    "plt.show()"
   ]
  },
  {
   "cell_type": "code",
   "execution_count": null,
   "metadata": {
    "collapsed": true
   },
   "outputs": [],
   "source": [
    "Xcoords = np.linspace(minX, maxX, nx*2)\n",
    "Ycoords = np.linspace(minY, maxY, ny*2)\n",
    "\n",
    "xq, yq = np.meshgrid(Xcoords, Ycoords)"
   ]
  },
  {
   "cell_type": "code",
   "execution_count": null,
   "metadata": {
    "collapsed": true
   },
   "outputs": [],
   "source": [
    "layer_proj_grid = dict()\n",
    "for i in xrange(0, 10):\n",
    "    data = layer_proj[i]\n",
    "    zq = griddata(data[:,:2], data[:,2], (xq, yq), method='cubic')\n",
    "    layer_proj_grid[i] = np.column_stack([xq.ravel(), yq.ravel(), zq.ravel()])"
   ]
  },
  {
   "cell_type": "code",
   "execution_count": null,
   "metadata": {},
   "outputs": [],
   "source": [
    "plt.imshow(zq, extent=[minX, maxX, minY, maxY])"
   ]
  },
  {
   "cell_type": "code",
   "execution_count": null,
   "metadata": {},
   "outputs": [],
   "source": [
    "fig = plt.figure(figsize=(15,10))\n",
    "ax1 = fig.add_subplot(111, projection='3d')\n",
    "for i in xrange(0, 10):\n",
    "    data = layer_proj_grid[i]\n",
    "    sca = ax1.scatter3D(data[:,0], data[:,1], data[:,2])"
   ]
  },
  {
   "cell_type": "markdown",
   "metadata": {},
   "source": [
    "Save data to .xyz files"
   ]
  },
  {
   "cell_type": "code",
   "execution_count": null,
   "metadata": {
    "collapsed": true
   },
   "outputs": [],
   "source": [
    "for i in xrange(0, 10):\n",
    "    data = layer_proj_grid[i]\n",
    "    np.savetxt('/opt/ben/layers_xy/layer{}.xyz'.format(i), data)"
   ]
  }
 ],
 "metadata": {
  "kernelspec": {
   "display_name": "Python 2",
   "language": "python",
   "name": "python2"
  },
  "language_info": {
   "codemirror_mode": {
    "name": "ipython",
    "version": 2
   },
   "file_extension": ".py",
   "mimetype": "text/x-python",
   "name": "python",
   "nbconvert_exporter": "python",
   "pygments_lexer": "ipython2",
   "version": "2.7.12"
  }
 },
 "nbformat": 4,
 "nbformat_minor": 2
}
