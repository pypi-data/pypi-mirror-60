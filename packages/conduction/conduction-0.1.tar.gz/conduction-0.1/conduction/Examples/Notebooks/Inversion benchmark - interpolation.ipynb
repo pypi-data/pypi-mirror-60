{
 "cells": [
  {
   "cell_type": "markdown",
   "metadata": {},
   "source": [
    "# Benchmark interpolation\n",
    "\n",
    "Test the adjoint of `scipy.interpolate.RegularGridInterpolator` and a nearest neighbour interpolation using `scipy.spatial.cKDTree`.\n",
    "\n",
    "The latter works correctly, but it would be nice to one day have linear interpolation."
   ]
  },
  {
   "cell_type": "code",
   "execution_count": 1,
   "metadata": {},
   "outputs": [],
   "source": [
    "import numpy as np\n",
    "from scipy.interpolate import RegularGridInterpolator as RGI\n",
    "import itertools"
   ]
  },
  {
   "cell_type": "code",
   "execution_count": 2,
   "metadata": {},
   "outputs": [],
   "source": [
    "class RegularGridInterpolator(RGI):\n",
    "\n",
    "    def __init__(self, points, values, method=\"linear\", bounds_error=False, fill_value=np.nan):\n",
    "\n",
    "        super(RegularGridInterpolator, self).__init__(points, values, method, bounds_error, fill_value)\n",
    "\n",
    "\n",
    "    def adjoint(self, xi, dxi, method=None):\n",
    "        \"\"\"\n",
    "        Interpolation adjoint using the derivatives dxi at coordinates xi\n",
    "        Parameters\n",
    "        ----------\n",
    "        xi : ndarray of shape (..., ndim)\n",
    "            The coordinates to sample the gridded data at\n",
    "        dxi : ndarray of shape (..., ndim)\n",
    "             The derivatives at the coordinates xi\n",
    "        method : str\n",
    "                The method of interplolation to perform.\n",
    "                Supports either 'linear' or 'nearest'\n",
    "        \"\"\"\n",
    "        if method is None:\n",
    "            method = self.method\n",
    "            \n",
    "        self.derivative = np.asarray(dxi)\n",
    "        indices, norm_distances, out_of_bounds = self._find_indices(xi.T)\n",
    "        if method == \"linear\":\n",
    "            result = self._evaluate_linear_adjoint(indices, norm_distances, out_of_bounds)\n",
    "        elif method == \"nearest\":\n",
    "            result = self._evaluate_nearest_adjoint(indices, norm_distances, out_of_bounds)\n",
    "        return result\n",
    "\n",
    "    def _evaluate_linear_adjoint(self, indices, norm_distances, out_of_bounds):\n",
    "        # slice for broadcasting over trailing dimensions in self.values\n",
    "        vslice = (slice(None),) + (None,)*(self.values.ndim - len(indices))\n",
    "        # find relevant values\n",
    "        # each i and i+1 represents a edge\n",
    "        edges = itertools.product(*[[i, i + 1] for i in indices])\n",
    "        all_values = []\n",
    "        for edge_indices in edges:\n",
    "            values = np.zeros_like(self.values)\n",
    "            weight = 1.\n",
    "            for ei, i, yi in zip(edge_indices, indices, norm_distances):\n",
    "                weight *= np.where(ei == i, 1 - yi, yi)\n",
    "            print np.array(edge_indices).shape, np.array(weight[vslice]).shape, self.derivative.shape, weight[vslice].shape, values.shape\n",
    "            values[edge_indices] += self.derivative * weight[vslice]\n",
    "            all_values.append(values)\n",
    "        \n",
    "        print all_values\n",
    "        print np.sum(all_values, axis=0)\n",
    "#         values = self.derivative * np.array(all_values)\n",
    "        \n",
    "        return np.sum(all_values, axis=0)\n",
    "\n",
    "    def _evaluate_nearest_adjoint(self, indices, norm_distances, out_of_bounds):\n",
    "        idx_res = []\n",
    "        values = np.zeros_like(self.values)\n",
    "        for i, yi in zip(indices, norm_distances):\n",
    "            idx_res.append(np.where(yi <= 0.5, i, i + 1))\n",
    "            \n",
    "        idx_res = np.array(idx_res).T\n",
    "        for i, ix in enumerate(idx_res):\n",
    "            # This almost works\n",
    "            values[ix] += self.derivative[i]\n",
    "\n",
    "        return values"
   ]
  },
  {
   "cell_type": "code",
   "execution_count": 3,
   "metadata": {},
   "outputs": [],
   "source": [
    "class nearest_nd(object):\n",
    "    def __init__(self, points, values, bounds_error=False, fill_value=np.nan):\n",
    "        from scipy.spatial import cKDTree\n",
    "        self.tree = cKDTree(points)\n",
    "        data = self.tree.data\n",
    "        npoints, ndim = data.shape\n",
    "        \n",
    "        self.fill_value = fill_value\n",
    "        self.bounds_error = bounds_error\n",
    "        \n",
    "        bbox = []\n",
    "        for i in range(0, ndim):\n",
    "            bbox.append((data[:,i].min(), data[:,i].max()))\n",
    "        \n",
    "        self.npoints = npoints\n",
    "        self.ndim = ndim\n",
    "        self.bbox = bbox\n",
    "        \n",
    "        self._values = np.ravel(values)\n",
    "        \n",
    "    def __call__(self, xi, *args, **kwargs):\n",
    "        idx, d, bmask = self._find_indices(xi)\n",
    "        \n",
    "        if self.bounds_error and bmask.any():\n",
    "            bidx = np.nonzero(bmask)[0]\n",
    "            raise ValueError(\"Coordinates in xi are out of bounds in:\\n {}\".format(bidx))\n",
    "        \n",
    "        vi = self.values[idx]\n",
    "        if not self.bounds_error and self.fill_value is not None:\n",
    "            vi[bmask] = self.fill_value\n",
    "        \n",
    "        return vi\n",
    "    \n",
    "    def adjoint(self, xi, dxi, *args, **kwargs):\n",
    "        idx, d, bmask = self._find_indices(xi)\n",
    "        \n",
    "        if self.bounds_error and bmask.any():\n",
    "            bidx = np.nonzero(bmask)[0]\n",
    "            raise ValueError(\"Coordinates in xi are out of bounds in:\\n {}\".format(bidx))\n",
    "        \n",
    "        dv = np.zeros_like(self.values)\n",
    "        if not self.bounds_error and self.fill_value is not None:\n",
    "            # remove indices that are out of bounds\n",
    "            idx = idx[~bmask]\n",
    "        \n",
    "        ux = np.unique(idx)\n",
    "        for u in ux:\n",
    "            dv[u] = dxi[idx==u].sum()\n",
    "            \n",
    "        return dv\n",
    "    \n",
    "    def _find_indices(self, xi):\n",
    "        d, idx = self.tree.query(xi)\n",
    "        bbox = self.bbox\n",
    "        ndim = self.ndim\n",
    "        \n",
    "        bounds = np.zeros(idx.size, dtype=bool)\n",
    "        for i in range(0, ndim):\n",
    "            bmin, bmax = bbox[i]\n",
    "            mask = np.logical_or(xi[:,i] < bmin, xi[:,i] > bmax)\n",
    "            bounds[mask] = True\n",
    "            \n",
    "        return idx, d, bounds\n",
    "            \n",
    "    \n",
    "    @property\n",
    "    def values(self):\n",
    "        return self._values\n",
    "    @values.setter\n",
    "    def values(self, value):\n",
    "        self._values = value.ravel()\n",
    "    @values.getter\n",
    "    def values(self):\n",
    "        return self._values"
   ]
  },
  {
   "cell_type": "code",
   "execution_count": 4,
   "metadata": {},
   "outputs": [],
   "source": [
    "minX, maxX = 0., 1.\n",
    "minY, maxY = 0., 1.\n",
    "nx, ny = 5, 5\n",
    "\n",
    "Xcoords = np.linspace(minX, maxX, nx)\n",
    "Ycoords = np.linspace(minY, maxY, ny)\n",
    "\n",
    "xq, yq = np.meshgrid(Xcoords, Ycoords, indexing='ij')"
   ]
  },
  {
   "cell_type": "code",
   "execution_count": 5,
   "metadata": {
    "scrolled": true
   },
   "outputs": [],
   "source": [
    "v = np.exp(xq**2 + yq**2)\n",
    "interp = RegularGridInterpolator((Ycoords, Xcoords), v)"
   ]
  },
  {
   "cell_type": "code",
   "execution_count": 6,
   "metadata": {},
   "outputs": [],
   "source": [
    "# Create some coordinates\n",
    "\n",
    "nobs = 40\n",
    "\n",
    "vobs = np.ones(nobs)*3\n",
    "sigma_vobs = vobs*0.1\n",
    "\n",
    "xi = np.zeros((nobs,2))\n",
    "xi[:,0] = np.linspace(minY, maxY, nobs)\n",
    "xi[:,1] = np.linspace(minX, maxX, nobs)"
   ]
  },
  {
   "cell_type": "code",
   "execution_count": 7,
   "metadata": {},
   "outputs": [
    {
     "data": {
      "text/plain": [
       "<matplotlib.colorbar.Colorbar at 0x7f16709d3b50>"
      ]
     },
     "execution_count": 7,
     "metadata": {},
     "output_type": "execute_result"
    },
    {
     "data": {
      "image/png": "[encoded data removed]",
      "text/plain": [
       "<matplotlib.figure.Figure at 0x7f1672b995d0>"
      ]
     },
     "metadata": {},
     "output_type": "display_data"
    }
   ],
   "source": [
    "import matplotlib.pyplot as plt\n",
    "%matplotlib inline\n",
    "\n",
    "fig, (ax1, ax2) = plt.subplots(1,2, sharey=True, sharex=True, figsize=(10,4))\n",
    "\n",
    "im1 = ax1.imshow(v, extent=(minX, maxX, minY, maxY), origin='lower', interpolation='bilinear')\n",
    "ax1.scatter(xi[:,0], xi[:,1])\n",
    "fig.colorbar(im1, ax=ax1)\n",
    "\n",
    "im2 = ax2.imshow(v, extent=(minX, maxX, minY, maxY), origin='lower', interpolation='nearest')\n",
    "ax2.scatter(xi[:,0], xi[:,1])\n",
    "fig.colorbar(im2, ax=ax2)"
   ]
  },
  {
   "cell_type": "code",
   "execution_count": 8,
   "metadata": {},
   "outputs": [],
   "source": [
    "# interp = RegularGridInterpolator((Ycoords, Xcoords), v)\n",
    "interp = nearest_nd(np.column_stack([xq.ravel(), yq.ravel()]), v.ravel())"
   ]
  },
  {
   "cell_type": "code",
   "execution_count": 9,
   "metadata": {},
   "outputs": [],
   "source": [
    "method = 'nearest'\n",
    "v = np.exp(xq**2 + yq**2)\n",
    "dv = v*0.1\n",
    "\n",
    "def forward_model(v):\n",
    "    interp.values = v\n",
    "    vi = interp(xi, method=method)\n",
    "    cost = np.sum((vi - vobs)**2)\n",
    "    return cost\n",
    "\n",
    "def tangent_linear(v, dv):\n",
    "    interp.values = v\n",
    "    vi = interp(xi, method=method)\n",
    "    interp.values = dv\n",
    "    dvi = interp(xi, method=method)\n",
    "    dcdvi = 2.0*(vi - vobs)\n",
    "    dc = dcdvi * dvi\n",
    "    return dc.sum()\n",
    "\n",
    "def adjoint(v):\n",
    "    interp.values = v\n",
    "    vi = interp(xi, method=method)\n",
    "    dcdvi = 2.0*(vi - vobs)\n",
    "    dvi = dcdvi*1.0\n",
    "    dv_ad = interp.adjoint(xi, dvi, method=method)\n",
    "    return dv_ad"
   ]
  },
  {
   "cell_type": "code",
   "execution_count": 10,
   "metadata": {},
   "outputs": [
    {
     "name": "stdout",
     "output_type": "stream",
     "text": [
      "finite difference 26.3674602731\n",
      "tangent linear 22.2385484633\n",
      "adjoint 22.2385484633\n"
     ]
    }
   ],
   "source": [
    "fm0 = forward_model(v)\n",
    "fm1 = forward_model(v+dv)\n",
    "tl  = tangent_linear(v, dv)\n",
    "ad  = adjoint(v)\n",
    "print \"finite difference\", (fm1 - fm0)\n",
    "print \"tangent linear\", tl\n",
    "print \"adjoint\", ad.ravel().dot(dv.ravel())"
   ]
  }
 ],
 "metadata": {
  "kernelspec": {
   "display_name": "Python 2",
   "language": "python",
   "name": "python2"
  },
  "language_info": {
   "codemirror_mode": {
    "name": "ipython",
    "version": 2
   },
   "file_extension": ".py",
   "mimetype": "text/x-python",
   "name": "python",
   "nbconvert_exporter": "python",
   "pygments_lexer": "ipython2",
   "version": "2.7.13"
  }
 },
 "nbformat": 4,
 "nbformat_minor": 2
}
