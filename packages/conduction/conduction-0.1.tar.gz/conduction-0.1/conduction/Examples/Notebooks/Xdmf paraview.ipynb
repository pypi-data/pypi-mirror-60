{
 "cells": [
  {
   "cell_type": "markdown",
   "metadata": {},
   "source": [
    "# Saving HDF5 files to visualise in Paraview\n",
    "\n",
    "- Saving static fields to HDF5 and export Xdmf\n",
    "- Saving timesteps to HDF5 and export Xdmf"
   ]
  },
  {
   "cell_type": "code",
   "execution_count": null,
   "metadata": {},
   "outputs": [],
   "source": [
    "import numpy as np\n",
    "import conduction\n",
    "from time import clock\n",
    "from petsc4py import PETSc\n",
    "from mpi4py import MPI\n",
    "comm = MPI.COMM_WORLD"
   ]
  },
  {
   "cell_type": "code",
   "execution_count": null,
   "metadata": {},
   "outputs": [],
   "source": [
    "minX, maxX = 0.0, 1.0\n",
    "minY, maxY = 0.0, 1.0\n",
    "minZ, maxZ = 0.0, 1.0\n",
    "nx, ny, nz = 30, 30, 30\n",
    "n = nx*ny*nz\n",
    "\n",
    "mesh = conduction.ConductionND((minX, minY, minZ), (maxX, maxY, maxZ), (nx,ny,nz))"
   ]
  },
  {
   "cell_type": "code",
   "execution_count": null,
   "metadata": {},
   "outputs": [],
   "source": [
    "k0 = np.ones(n)\n",
    "k  = np.ones(n)\n",
    "H  = np.zeros(n)\n",
    "a  = np.ones(n)\n",
    "c = np.zeros(n)\n",
    "\n",
    "# update properties\n",
    "mesh.update_properties(k, H)\n",
    "\n",
    "# BCs\n",
    "mesh.boundary_condition('maxZ', 298.0, flux=False)\n",
    "mesh.boundary_condition('minZ', 1e3, flux=True)"
   ]
  },
  {
   "cell_type": "code",
   "execution_count": null,
   "metadata": {},
   "outputs": [],
   "source": [
    "def hofmeister1999(k0, T, a, c=0.0):\n",
    "    return k0*(298.0/T)**a + c*T**3\n",
    "\n",
    "def nonlinear_conductivity(self, k0, tolerance):\n",
    "    k = k0.copy()\n",
    "    self.construct_matrix()\n",
    "\n",
    "    error = np.array(10.0)\n",
    "    i = 0\n",
    "    t = clock()\n",
    "\n",
    "    while (error > tolerance):\n",
    "        k_last = self.diffusivity[:].copy()\n",
    "        self.diffusivity[:] = k\n",
    "        self.construct_matrix()\n",
    "\n",
    "        T = self.solve()\n",
    "        k = hofmeister1999(k0, T, a, c)\n",
    "\n",
    "        err = np.absolute(k - k_last).max()\n",
    "        comm.Allreduce([err, MPI.DOUBLE], [error, MPI.DOUBLE], op=MPI.MAX)\n",
    "        i += 1\n",
    "\n",
    "        if comm.rank == 0:\n",
    "            print(\"{:2} iterations in {:.2f} seconds, residual = {:.2e}\".format(i, clock()-t, float(error)))"
   ]
  },
  {
   "cell_type": "code",
   "execution_count": null,
   "metadata": {},
   "outputs": [],
   "source": [
    "# solve\n",
    "nonlinear_conductivity(mesh, k0, 1e-5)\n",
    "T = mesh.temperature[:]\n",
    "q = mesh.heatflux()"
   ]
  },
  {
   "cell_type": "code",
   "execution_count": null,
   "metadata": {},
   "outputs": [],
   "source": [
    "# save to hdf5\n",
    "prefix = \"timestep2\"\n",
    "\n",
    "mesh.save_mesh_to_hdf5(prefix + '.h5')\n",
    "mesh.save_field_to_hdf5(prefix + '.h5', T=T)\n",
    "conduction.generateXdmf(prefix + '.h5')"
   ]
  },
  {
   "cell_type": "code",
   "execution_count": null,
   "metadata": {},
   "outputs": [],
   "source": [
    "steps = 10\n",
    "H5_list = []\n",
    "for step in xrange(steps):\n",
    "    Ti = T/(step + 1)\n",
    "    qi = np.ones_like(q)/(step + 1)\n",
    "    \n",
    "    filename = prefix + '_{:02d}.h5'.format(step)\n",
    "    mesh.save_mesh_to_hdf5(filename)\n",
    "    mesh.save_field_to_hdf5(filename, T=Ti)\n",
    "    mesh.save_vector_to_hdf5(filename, q=qi)\n",
    "    H5_list.append(filename)"
   ]
  },
  {
   "cell_type": "code",
   "execution_count": null,
   "metadata": {},
   "outputs": [],
   "source": [
    "conduction.generateTimeseriesXdmf(*H5_list)"
   ]
  }
 ],
 "metadata": {
  "kernelspec": {
   "display_name": "Python 2",
   "language": "python",
   "name": "python2"
  },
  "language_info": {
   "codemirror_mode": {
    "name": "ipython",
    "version": 3
   },
   "file_extension": ".py",
   "mimetype": "text/x-python",
   "name": "python",
   "nbconvert_exporter": "python",
   "pygments_lexer": "ipython3",
   "version": "3.6.8"
  }
 },
 "nbformat": 4,
 "nbformat_minor": 2
}
