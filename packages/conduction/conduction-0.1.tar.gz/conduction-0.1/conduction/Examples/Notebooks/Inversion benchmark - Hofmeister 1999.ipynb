{
 "cells": [
  {
   "cell_type": "markdown",
   "metadata": {},
   "source": [
    "# Inversion benchmark - Hofmeister 1999\n",
    "\n",
    "The full Hofmeister 1999 expression contains many terms that describe the rheology of the lithosphere. We derive the formula with respect to each of these properties using `sympy`.\n",
    "\n",
    "The most important terms we consider here are temperature, $T$, and initial thermal conductivity, $k_0$."
   ]
  },
  {
   "cell_type": "code",
   "execution_count": null,
   "metadata": {
    "collapsed": true
   },
   "outputs": [],
   "source": [
    "import numpy as np"
   ]
  },
  {
   "cell_type": "code",
   "execution_count": null,
   "metadata": {},
   "outputs": [],
   "source": [
    "import sympy\n",
    "sympy.init_printing()\n",
    "\n",
    "a = 2.85e-5\n",
    "b = 1.008e-8\n",
    "c = -0.384\n",
    "d = 0.0\n",
    "\n",
    "e = 0.0175\n",
    "f = 1.0374e-4\n",
    "g = 2.245/1e7\n",
    "h = 3.407/1e11\n",
    "i = 3350.0*1e-9\n",
    "j = 88804.0\n",
    "k = 3.3557e-3\n",
    "l = 2.35e12\n",
    "m = 1.0/3\n",
    "\n",
    "K_0p, g_av, zL, gmma_T, K_T = sympy.symbols('K_p g_mu z_L gamma K_T')\n",
    "a, b, c, d, k0, T = sympy.symbols('a b c d k_0 T')\n",
    "e,f,g,h,i,j,k,l,m = sympy.symbols('e,f,g,h,i,j,k,l,m')\n",
    "\n",
    "k_con  = k0*(298.0/T)**0.45\n",
    "k_rad  = e - f*T + g*T**2 - h*T**3\n",
    "k_pres = 1.0 + (K_0p*g_av*zL*i)/K_T\n",
    "k_exp  = sympy.exp(-(a*(T - 298.0) + b*0.5*(T**2 - j) + \\\n",
    "                 c*(k - 1.0/T) + d*(T**5 - l)/5.0)* \\\n",
    "                 (gmma_T*4 + m))\n",
    "k_new = k_con*k_exp*k_pres + k_rad"
   ]
  },
  {
   "cell_type": "code",
   "execution_count": null,
   "metadata": {},
   "outputs": [],
   "source": [
    "k_new"
   ]
  },
  {
   "cell_type": "code",
   "execution_count": null,
   "metadata": {},
   "outputs": [],
   "source": [
    "k_new.diff(k0)"
   ]
  },
  {
   "cell_type": "code",
   "execution_count": null,
   "metadata": {},
   "outputs": [],
   "source": [
    "0.45*298**0.45"
   ]
  },
  {
   "cell_type": "code",
   "execution_count": null,
   "metadata": {},
   "outputs": [],
   "source": [
    "k_new.diff(T)"
   ]
  },
  {
   "cell_type": "code",
   "execution_count": null,
   "metadata": {
    "collapsed": true
   },
   "outputs": [],
   "source": [
    "def forward_model(x):\n",
    "    k0, T = np.array_split(x, 2)\n",
    "    \n",
    "    a = 2.85e-5\n",
    "    b = 1.008e-8\n",
    "    c = -0.384\n",
    "    d = 0.0\n",
    "\n",
    "    k_con  = k0*(298.0/T)**0.45\n",
    "    k_rad  = 0.0175 - 1.0374e-4*T + 2.245*T**2/1e7 - 3.407*T**3/1e11\n",
    "    k_pres = 1.0 + (K_0p*g_av*3350.0*np.abs(coords)*1e-9)/K_T\n",
    "    k_exp  = np.exp(-(a*(T - 298.0) + b*0.5*(T**2 - 88804.0) + \\\n",
    "                     c*(3.3557e-3 - 1.0/T) + d*(T**5 - 2.35e12)/5.0)* \\\n",
    "                     (gmma_T*4 + 1.0/3))\n",
    "    k_new = k_con*k_exp*k_pres + k_rad\n",
    "    return k_new.sum()\n",
    "\n",
    "def tangent_linear(x, dx):\n",
    "    k0, T = np.array_split(x, 2)\n",
    "    dk0, dT = np.array_split(dx, 2)\n",
    "    \n",
    "    a = 2.85e-5\n",
    "    b = 1.008e-8\n",
    "    c = -0.384\n",
    "    d = 0.0\n",
    "\n",
    "    k_con  = k0*(298.0/T)**0.45\n",
    "    k_rad  = 0.0175 - 1.0374e-4*T + 2.245*T**2/1e7 - 3.407*T**3/1e11\n",
    "    k_pres = 1.0 + (K_0p*g_av*3350.0*np.abs(coords)*1e-9)/K_T\n",
    "    k_exp  = np.exp(-(a*(T - 298.0) + b*0.5*(T**2 - 88804.0) + \\\n",
    "                     c*(3.3557e-3 - 1.0/T) + d*(T**5 - 2.35e12)/5.0)* \\\n",
    "                     (gmma_T*4 + 1.0/3))\n",
    "    \n",
    "    dkdk0 = k_pres*k_exp*(298.0/T)**0.45\n",
    "    dkdT  = -3.0*3.407e-11*T**2 + 2.0*T*2.245e-7 - 1.0374e-4 + \\\n",
    "            k_pres*k_con*(4.0*gmma_T + 1.0/3)*(-T**4*d - T*b - a - c/T**2) - \\\n",
    "            k_pres*0.45/T*k_con*k_exp\n",
    "    dk = dkdk0*dk0 + dkdT*dT\n",
    "    return dk.sum()\n",
    "\n",
    "def adjoint_model(x):\n",
    "    k0, T = np.array_split(x, 2)\n",
    "    dk0, dT = np.array_split(dx, 2)\n",
    "    \n",
    "    a = 2.85e-5\n",
    "    b = 1.008e-8\n",
    "    c = -0.384\n",
    "    d = 0.0\n",
    "\n",
    "    k_con  = k0*(298.0/T)**0.45\n",
    "    k_rad  = 0.0175 - 1.0374e-4*T + 2.245*T**2/1e7 - 3.407*T**3/1e11\n",
    "    k_pres = 1.0 + (K_0p*g_av*3350.0*np.abs(coords)*1e-9)/K_T\n",
    "    k_exp  = np.exp(-(a*(T - 298.0) + b*0.5*(T**2 - 88804.0) + \\\n",
    "                     c*(3.3557e-3 - 1.0/T) + d*(T**5 - 2.35e12)/5.0)* \\\n",
    "                     (gmma_T*4 + 1.0/3))\n",
    "    \n",
    "    dkdk0 = k_pres*k_exp*(298.0/T)**0.45\n",
    "    dkdT  = -3.0*3.407e-11*T**2 + 2.0*T*2.245e-7 - 1.0374e-4 + \\\n",
    "            k_pres*k_con*(4.0*gmma_T + 1.0/3)*(-T**4*d - T*b - a - c/T**2) - \\\n",
    "            k_pres*0.45/T*k_con*k_exp\n",
    "    return np.hstack([dkdk0, dkdT])"
   ]
  },
  {
   "cell_type": "code",
   "execution_count": null,
   "metadata": {},
   "outputs": [],
   "source": [
    "nn = 10\n",
    "k0 = np.ones(nn)*3.0\n",
    "T  = np.linspace(298.0, 1000.0, nn)\n",
    "\n",
    "dk0 = k0*0.1\n",
    "dT  = T*0.1\n",
    "\n",
    "coords = np.linspace(0.0, 120e3, nn)\n",
    "\n",
    "# constants\n",
    "rho = 2700.\n",
    "alpha = 3.5e-5\n",
    "beta = 7.69e-12\n",
    "gmma_T = 1.25\n",
    "K_0p = 4.3\n",
    "K_T = 130.0\n",
    "g_av = 9.5\n",
    "\n",
    "\n",
    "x = np.hstack([k0, T])\n",
    "dx = np.hstack([dk0, dT])\n",
    "\n",
    "\n",
    "fm0 = forward_model(x)\n",
    "fm1 = forward_model(x + dx)\n",
    "tl = tangent_linear(x, dx)\n",
    "ad = adjoint_model(x)\n",
    "\n",
    "print(\"finite differences = {}\".format(fm1-fm0))\n",
    "print(\"tangent linear = {}\".format(tl))\n",
    "print(\"adjoint model = {}\".format(ad.dot(dx)))"
   ]
  }
 ],
 "metadata": {
  "kernelspec": {
   "display_name": "Python 2",
   "language": "python",
   "name": "python2"
  },
  "language_info": {
   "codemirror_mode": {
    "name": "ipython",
    "version": 2
   },
   "file_extension": ".py",
   "mimetype": "text/x-python",
   "name": "python",
   "nbconvert_exporter": "python",
   "pygments_lexer": "ipython2",
   "version": "2.7.12"
  }
 },
 "nbformat": 4,
 "nbformat_minor": 2
}
