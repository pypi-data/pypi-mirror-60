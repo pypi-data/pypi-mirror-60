{
 "cells": [
  {
   "cell_type": "markdown",
   "metadata": {},
   "source": [
    "# Inversion benchmark - prior covariance\n",
    "\n",
    "We want to create a sparse covariance matrix where each node in the domain is positively correlated with its adjacent node. A *Gaussian covariance function* should give us what we want. Ideally, we would create a covariance matrix using the neighbours algorithm baked into the `conduction` package. However, it seems like a more practical way forward is to use `scipy.ndimage.gaussian_filter` to smooth the transitions to different lithologies."
   ]
  },
  {
   "cell_type": "code",
   "execution_count": null,
   "metadata": {},
   "outputs": [],
   "source": [
    "import numpy as np\n",
    "from scipy import sparse\n",
    "from scipy import ndimage\n",
    "import matplotlib.pyplot as plt\n",
    "%matplotlib inline\n",
    "import conduction"
   ]
  },
  {
   "cell_type": "markdown",
   "metadata": {},
   "source": [
    "Use Gaussian filter to smooth field"
   ]
  },
  {
   "cell_type": "code",
   "execution_count": null,
   "metadata": {},
   "outputs": [],
   "source": [
    "def misfit(x, x0, sigma_x0, smooth_fn, *args):\n",
    "    \"\"\" L-norm misfit function\"\"\"\n",
    "    return np.sum(smooth_fn((x - x0)**2/sigma_x0**2, *args))\n",
    "\n",
    "def misfit_ad(x, x0, sigma_x0, smooth_fn, *args):\n",
    "    return smooth_fn((2.0*x - 2.0*x0)/sigma_x0**2, *args)\n",
    "\n",
    "def forward_model(x, *args):\n",
    "    return misfit(x, x0, sigma_x0, ndimage.gaussian_filter, *args)\n",
    "def tangent_linear(x, dx, *args):\n",
    "    cost = misfit(x, x0, sigma_x0, ndimage.gaussian_filter, *args)\n",
    "    dcdx = misfit_ad(x, x0, sigma_x0, ndimage.gaussian_filter, *args)\n",
    "    dc = np.sum(dcdx.ravel()*dx.ravel())\n",
    "    return cost, dc\n",
    "def adjoint_model(x, *args):\n",
    "    cost = misfit(x, x0, sigma_x0, ndimage.gaussian_filter, *args)\n",
    "    grad = misfit_ad(x, x0, sigma_x0, ndimage.gaussian_filter, *args)\n",
    "    return cost, grad\n",
    "\n",
    "\n",
    "xmin, xmax = 0., 1.\n",
    "ymin, ymax = 0., 1.\n",
    "nx, ny = 10, 10\n",
    "\n",
    "mesh = conduction.ConductionND((xmin,ymin), (xmax, ymax), (nx,ny), stencil_width=1)\n",
    "mesh.diffusivity[:] = np.ones(mesh.nn)"
   ]
  },
  {
   "cell_type": "code",
   "execution_count": null,
   "metadata": {},
   "outputs": [],
   "source": [
    "x0 = np.ones(mesh.n)*3.5\n",
    "sigma_x0 = x0/10.\n",
    "\n",
    "x = x0.copy() + np.random.randn(*mesh.n)\n",
    "dx = x*0.01\n",
    "\n",
    "plt.imshow(x)\n",
    "plt.colorbar()"
   ]
  },
  {
   "cell_type": "code",
   "execution_count": null,
   "metadata": {},
   "outputs": [],
   "source": [
    "sigma = 1.0\n",
    "\n",
    "fm0 = forward_model(x, sigma)\n",
    "fm1 = forward_model(x+dx, sigma)\n",
    "tl  = tangent_linear(x, dx, sigma)\n",
    "ad  = adjoint_model(x, sigma)\n",
    "\n",
    "\n",
    "print(\"finite difference {}\".format(fm1 - fm0))\n",
    "print(\"tangent linear {}\".format(tl[1]))\n",
    "print(\"adjoint model {}\".format(ad[1].ravel().dot(dx.ravel())))"
   ]
  },
  {
   "cell_type": "code",
   "execution_count": null,
   "metadata": {},
   "outputs": [],
   "source": [
    "plt.imshow(ad[1])\n",
    "plt.colorbar()"
   ]
  },
  {
   "cell_type": "code",
   "execution_count": null,
   "metadata": {},
   "outputs": [],
   "source": [
    "def gaussian_func(sigma_x0, dist, L):\n",
    "    return sigma_x0**2 * np.exp(-dist/(2*L**2))\n",
    "    \n",
    "lith = np.arange(mesh.nn)\n",
    "\n",
    "inv = conduction.InversionND(lith, mesh)\n",
    "mat = inv.create_covariance_matrix(sigma_x0, 2, None, 1)\n",
    "\n",
    "indptr, indices, values = mat.getValuesCSR()\n",
    "cov = sparse.csr_matrix((values, indices, indptr)).toarray()"
   ]
  },
  {
   "cell_type": "code",
   "execution_count": null,
   "metadata": {},
   "outputs": [],
   "source": [
    "plt.imshow(cov)\n",
    "plt.colorbar()"
   ]
  },
  {
   "cell_type": "code",
   "execution_count": null,
   "metadata": {},
   "outputs": [],
   "source": [
    "def l2_norm(x, x0, sigma_x0):\n",
    "    return np.sum((x - x0)**2/sigma_x0**2)\n",
    "\n",
    "def nonlinear_lstsq(x, x0, cov):\n",
    "    dp = (x - x0)\n",
    "    return 0.5 * dp.T * np.linalg.solve(cov, dp)\n",
    "\n",
    "Sn = nonlinear_lstsq(prior, prior*0.0, cov)\n",
    "S2 = l2_norm(prior, prior*0.0, sigma_prior)\n",
    "\n",
    "print S2, Sn.sum()\n",
    "\n",
    "fig, (ax1, ax2) = plt.subplots(1,2,sharey=True, figsize=(10,4))\n",
    "\n",
    "ax1.imshow(prior.reshape(mesh.n))\n",
    "ax2.imshow(Sn.reshape(mesh.n))\n",
    "\n",
    "fig.colorbar(im1, ax=ax1)\n",
    "fig.colorbar(im2, ax=ax2)\n",
    "\n",
    "ax1.set_title('prior')\n",
    "ax2.set_title('smooth_prior')"
   ]
  },
  {
   "cell_type": "markdown",
   "metadata": {},
   "source": [
    "Use `conduction` package to find neighbouring nodes."
   ]
  },
  {
   "cell_type": "code",
   "execution_count": null,
   "metadata": {},
   "outputs": [],
   "source": [
    "def misfit(x, x0, sigma_x0, inv_cov):\n",
    "    \"\"\" L-norm misfit function\"\"\"\n",
    "    return np.sum(inv_cov*(x - x0)**2/sigma_x0**2)\n",
    "\n",
    "def misfit_ad(x, x0, sigma_x0, inv_cov):\n",
    "    return inv_cov*(2.0*x - 2.0*x0)/sigma_x0**2\n",
    "\n",
    "def covariance(sigma_x0, x, xprime, L):\n",
    "    \"\"\" Gaussian covariance function \"\"\"\n",
    "    return sigma_x0**2 * np.exp(-np.sqrt((x - xprime)**2)/(2*L**2))\n",
    "\n",
    "def l2_norm(x, x0, sigma_x0):\n",
    "    return np.sum((x - x0)**2/sigma_x0**2)\n",
    "\n",
    "def nonlinear_lstsq(x, x0, Cov):\n",
    "    dp = x - x0\n",
    "    return dp.T * np.linalg.solve(Cov, dp)"
   ]
  },
  {
   "cell_type": "code",
   "execution_count": null,
   "metadata": {},
   "outputs": [],
   "source": [
    "xmin, xmax = 0., 1.\n",
    "ymin, ymax = 0., 1.\n",
    "nx, ny = 10, 10\n",
    "\n",
    "mesh = conduction.ConductionND((xmin,ymin), (ymax, ymax), (nx,ny), stencil_width=2)\n",
    "mesh.diffusivity[:] = np.ones(mesh.nn)\n",
    "\n",
    "mat = mesh.construct_matrix()\n",
    "\n",
    "indptr, indices, values = mat.getValuesCSR()\n",
    "\n",
    "cov = sparse.csr_matrix((values, indices, indptr)).toarray()"
   ]
  },
  {
   "cell_type": "code",
   "execution_count": null,
   "metadata": {},
   "outputs": [],
   "source": [
    "prior = np.ones(mesh.nn)*3.5\n",
    "sigma_prior = prior/10.\n",
    "\n",
    "cov.dot(prior)"
   ]
  },
  {
   "cell_type": "code",
   "execution_count": null,
   "metadata": {},
   "outputs": [],
   "source": [
    "prior = np.ones(mesh.nn)\n",
    "sigma_prior = prior/2.\n",
    "\n",
    "neighbours = mesh.find_neighbours(2)\n",
    "\n",
    "cov = np.zeros((mesh.nn,mesh.nn))\n",
    "\n",
    "for row in xrange(0, mesh.nn):\n",
    "    nrow = neighbours[row]\n",
    "    n = nrow[nrow >= 0]\n",
    "    i = n[-1]\n",
    "\n",
    "    ncoord = mesh.coords[n]\n",
    "    icoord = mesh.coords[i]\n",
    "    dist = np.linalg.norm(icoord - ncoord, axis=1)\n",
    "\n",
    "    L = (dist.max() - dist.min()) # length scale\n",
    "    sigma = np.std(dist)\n",
    "    \n",
    "    icov = (sigma_prior[i]/prior[i])**2 * np.exp(-dist**2/(2*L**2))\n",
    "#     icov = covariance(0.01, 1.0, 1.0, n.size)\n",
    "    \n",
    "    cov[row,n] = icov"
   ]
  },
  {
   "cell_type": "code",
   "execution_count": null,
   "metadata": {},
   "outputs": [],
   "source": [
    "plt.imshow(cov)\n",
    "plt.colorbar()"
   ]
  },
  {
   "cell_type": "code",
   "execution_count": null,
   "metadata": {},
   "outputs": [],
   "source": [
    "invcov = np.linalg.inv(cov)\n",
    "print cov.dot(prior)"
   ]
  },
  {
   "cell_type": "code",
   "execution_count": null,
   "metadata": {},
   "outputs": [],
   "source": [
    "prior = np.random.randn(*mesh.n)\n",
    "smooth_prior = cov.dot(prior.ravel()).reshape(mesh.n)\n",
    "# smooth_prior = nonlinear_lstsq(prior.ravel(), sigma_prior, cov).reshape(mesh.n)\n",
    "\n",
    "fig, (ax1, ax2) = plt.subplots(1,2,sharey=True, figsize=(10,4))\n",
    "\n",
    "im1 = ax1.imshow(prior)\n",
    "im2 = ax2.imshow(smooth_prior)\n",
    "\n",
    "fig.colorbar(im1, ax=ax1)\n",
    "fig.colorbar(im2, ax=ax2)\n",
    "\n",
    "ax1.set_title('prior')\n",
    "ax2.set_title('smooth_prior')"
   ]
  },
  {
   "cell_type": "code",
   "execution_count": null,
   "metadata": {},
   "outputs": [],
   "source": [
    "invcov = np.linalg.inv(cov)\n",
    "\n",
    "plt.imshow(invcov)\n",
    "plt.colorbar()"
   ]
  },
  {
   "cell_type": "markdown",
   "metadata": {},
   "source": [
    "$\\mathbf{C}^{-1} x_{\\mathrm{prior}}$ should at least give us something resembling the prior.\n",
    "\n",
    "It does not."
   ]
  },
  {
   "cell_type": "code",
   "execution_count": null,
   "metadata": {},
   "outputs": [],
   "source": [
    "# diagonal covariance - should always return our priors\n",
    "\n",
    "cov = np.zeros((mesh.nn, mesh.nn))\n",
    "np.fill_diagonal(cov, 1)\n",
    "\n",
    "invcov = np.linalg.inv(cov)\n",
    "invcov.dot(np.ones(mesh.nn))"
   ]
  },
  {
   "cell_type": "markdown",
   "metadata": {},
   "source": [
    "Use `scipy.ndimage.gaussian_filter` to smooth the field"
   ]
  },
  {
   "cell_type": "code",
   "execution_count": null,
   "metadata": {},
   "outputs": [],
   "source": [
    "prior = np.random.randn(*mesh.n)\n",
    "sigma_prior = prior/10.\n",
    "\n",
    "smooth_prior = ndimage.gaussian_filter(prior, 1.)\n",
    "\n",
    "fig, (ax1, ax2) = plt.subplots(1,2,sharey=True, figsize=(8,4))\n",
    "\n",
    "ax1.imshow(prior)\n",
    "ax2.imshow(smooth_prior)\n",
    "\n",
    "ax1.set_title('prior')\n",
    "ax2.set_title('smooth_prior')"
   ]
  },
  {
   "cell_type": "markdown",
   "metadata": {},
   "source": [
    "Ascertain covariance from an ensemble of Gaussian blurs."
   ]
  },
  {
   "cell_type": "code",
   "execution_count": null,
   "metadata": {},
   "outputs": [],
   "source": [
    "nsim = 10000\n",
    "\n",
    "gauss = np.empty((nsim, prior.size))\n",
    "\n",
    "for i in xrange(nsim):\n",
    "    prior = np.random.randn(*mesh.n)\n",
    "    smooth_prior = ndimage.gaussian_filter(prior, 0.6)\n",
    "    gauss[i] = smooth_prior.ravel()\n",
    "\n",
    "cov = np.cov(gauss.T)\n",
    "invcov = np.linalg.inv(cov)"
   ]
  },
  {
   "cell_type": "code",
   "execution_count": null,
   "metadata": {},
   "outputs": [],
   "source": [
    "fig, (ax1, ax2) = plt.subplots(1,2,sharey=True, figsize=(10,4))\n",
    "\n",
    "im1 = ax1.imshow(cov)\n",
    "im2 = ax2.imshow(invcov)\n",
    "\n",
    "fig.colorbar(im1, ax=ax1)\n",
    "fig.colorbar(im2, ax=ax2)\n",
    "\n",
    "ax1.set_title('cov')\n",
    "ax2.set_title('inv cov')"
   ]
  },
  {
   "cell_type": "code",
   "execution_count": null,
   "metadata": {},
   "outputs": [],
   "source": [
    "prior = np.random.random(mesh.nn)\n",
    "smooth_prior = cov.dot(prior.ravel())\n",
    "smooth_prior = prior.ravel().T*np.linalg.solve(cov, prior.ravel())\n",
    "\n",
    "\n",
    "fig, (ax1, ax2) = plt.subplots(1,2,sharey=True, figsize=(10,4))\n",
    "\n",
    "ax1.imshow(prior.reshape(mesh.n))\n",
    "ax2.imshow(smooth_prior.reshape(mesh.n))\n",
    "\n",
    "fig.colorbar(im1, ax=ax1)\n",
    "fig.colorbar(im2, ax=ax2)\n",
    "\n",
    "ax1.set_title('prior')\n",
    "ax2.set_title('smooth_prior')"
   ]
  },
  {
   "cell_type": "markdown",
   "metadata": {},
   "source": [
    "This certainly smooths the variation, but the scale is significantly different!"
   ]
  },
  {
   "cell_type": "code",
   "execution_count": null,
   "metadata": {},
   "outputs": [],
   "source": [
    "prior = np.random.random(mesh.nn)\n",
    "sigma_prior = np.ones(mesh.nn)*0.1 #prior*0.1\n",
    "\n",
    "neighbours = mesh.find_neighbours(1)\n",
    "\n",
    "cov = np.zeros((mesh.nn,mesh.nn))\n",
    "\n",
    "for row in xrange(0, mesh.nn):\n",
    "    nrow = neighbours[row]\n",
    "    n = nrow[nrow >= 0]\n",
    "    i = n[-1]\n",
    "\n",
    "    ncoord = mesh.coords[n]\n",
    "    icoord = mesh.coords[i]\n",
    "    dist = np.linalg.norm(icoord - ncoord, axis=1)\n",
    "\n",
    "    L = (dist.max() - dist.min()) # length scale\n",
    "    sigma = np.std(dist)\n",
    "    \n",
    "    icov = sigma_prior[i]**2 * np.exp(-dist**2/2*L**2)\n",
    "    \n",
    "#     icov = (sigma_prior[i]/prior[i])**2 * np.exp(-dist**2/(2*L**2))\n",
    "#     icov = covariance(0.01, 1.0, 1.0, n.size)\n",
    "    \n",
    "    cov[row,n] = icov"
   ]
  },
  {
   "cell_type": "code",
   "execution_count": null,
   "metadata": {},
   "outputs": [],
   "source": [
    "plt.imshow(cov)\n",
    "plt.colorbar()"
   ]
  },
  {
   "cell_type": "code",
   "execution_count": null,
   "metadata": {},
   "outputs": [],
   "source": [
    "# cov *= 0.0\n",
    "np.fill_diagonal(cov, sigma_prior**2)"
   ]
  },
  {
   "cell_type": "code",
   "execution_count": null,
   "metadata": {},
   "outputs": [],
   "source": [
    "neighbours = mesh.find_neighbours(1)\n",
    "neighbours.T"
   ]
  },
  {
   "cell_type": "code",
   "execution_count": null,
   "metadata": {},
   "outputs": [],
   "source": [
    "def l2_norm(x, x0, sigma_x0):\n",
    "    return np.sum((x - x0)**2/sigma_x0**2)\n",
    "\n",
    "def nonlinear_lstsq(x, x0, cov):\n",
    "    dp = (x - x0)\n",
    "    return 0.5 * dp.T * np.linalg.solve(cov, dp)\n",
    "\n",
    "Sn = nonlinear_lstsq(prior, prior*0.0, cov)\n",
    "S2 = l2_norm(prior, prior*0.0, sigma_prior)\n",
    "\n",
    "print S2, Sn.sum()\n",
    "\n",
    "fig, (ax1, ax2) = plt.subplots(1,2,sharey=True, figsize=(10,4))\n",
    "\n",
    "ax1.imshow(prior.reshape(mesh.n))\n",
    "ax2.imshow(Sn.reshape(mesh.n))\n",
    "\n",
    "fig.colorbar(im1, ax=ax1)\n",
    "fig.colorbar(im2, ax=ax2)\n",
    "\n",
    "ax1.set_title('prior')\n",
    "ax2.set_title('smooth_prior')\n"
   ]
  },
  {
   "cell_type": "markdown",
   "metadata": {},
   "source": [
    "If we fill the diagonal of the covariance matrix with the variance $\\sigma^2$, we retrive the same misfit using the $\\ell_2$-norm."
   ]
  }
 ],
 "metadata": {
  "kernelspec": {
   "display_name": "Python 2",
   "language": "python",
   "name": "python2"
  },
  "language_info": {
   "codemirror_mode": {
    "name": "ipython",
    "version": 2
   },
   "file_extension": ".py",
   "mimetype": "text/x-python",
   "name": "python",
   "nbconvert_exporter": "python",
   "pygments_lexer": "ipython2",
   "version": "2.7.14"
  }
 },
 "nbformat": 4,
 "nbformat_minor": 2
}
