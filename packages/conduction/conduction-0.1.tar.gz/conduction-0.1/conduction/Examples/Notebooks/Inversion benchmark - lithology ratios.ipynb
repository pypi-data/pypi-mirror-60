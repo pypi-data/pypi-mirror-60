{
 "cells": [
  {
   "cell_type": "code",
   "execution_count": 1,
   "metadata": {
    "collapsed": true
   },
   "outputs": [],
   "source": [
    "import numpy as np\n",
    "from time import clock\n",
    "from conduction import ConductionND\n",
    "from conduction.inversion import InvObservation, InvPrior\n",
    "from conduction import InversionND\n",
    "import matplotlib.pyplot as plt\n",
    "%matplotlib inline\n",
    "\n",
    "from petsc4py import PETSc\n",
    "from mpi4py import MPI\n",
    "comm = MPI.COMM_WORLD"
   ]
  },
  {
   "cell_type": "code",
   "execution_count": 2,
   "metadata": {
    "collapsed": true
   },
   "outputs": [],
   "source": [
    "def mapit(self, lithology, *args):\n",
    "    \"\"\"\n",
    "    Requires a tuple of vectors corresponding to an inversion variable\n",
    "    these are mapped to the mesh.\n",
    "\n",
    "    tuple(vec1, vec2, vecN) --> tuple(field1, field2, fieldN)\n",
    "    \"\"\"\n",
    "\n",
    "    nf = len(args)\n",
    "    nl = len(self.lithology_index)\n",
    "\n",
    "    # preallocate memory\n",
    "    mesh_variables = np.zeros((nf, self.lithology.size))\n",
    "\n",
    "    # unpack vector to field\n",
    "    for i in range(0, nl):\n",
    "        idx = lithology == self.lithology_index[i]\n",
    "        for f in range(nf):\n",
    "            mesh_variables[f,idx] = args[f][i]\n",
    "\n",
    "    return list(mesh_variables)\n",
    "\n",
    "def mapit_ad(self, lithology_ad, *args):\n",
    "    \"\"\"\n",
    "    Map mesh variables back to the list\n",
    "    \"\"\"\n",
    "\n",
    "    nf = len(args)\n",
    "    nl = len(self.lithology_index)\n",
    "\n",
    "    lith_variables = np.zeros((nf, self.lithology_index.size))\n",
    "\n",
    "    for i in range(0, nl):\n",
    "        idx = lithology_ad == self.lithology_index[i]\n",
    "        for f in range(nf):\n",
    "            lith_variables[f,i] += args[f][idx].sum()\n",
    "\n",
    "    return list(lith_variables)"
   ]
  },
  {
   "cell_type": "code",
   "execution_count": 3,
   "metadata": {
    "collapsed": true
   },
   "outputs": [],
   "source": [
    "def forward_model(x, self, bc='Z'):\n",
    "    \"\"\"\n",
    "    N-dimensional nonlinear model with flux lower BC\n",
    "    Implements Hofmeister 1999 temperature-dependent\n",
    "    conductivity law\n",
    "\n",
    "    Arguments\n",
    "    ---------\n",
    "     x : [k_list, H_list, a_list, q0, lith_ratios]\n",
    "\n",
    "    Returns\n",
    "    -------\n",
    "     cost : scalar\n",
    "\n",
    "    \"\"\"\n",
    "    def hofmeister1999(k0, T, a=0.25, c=0.0):\n",
    "        return k0*(298.0/T)**a + c*T**3\n",
    "\n",
    "    nl = len(self.lithology_index)\n",
    "    k_list, H_list, a_list = np.array_split(x[:3*nl], 3)\n",
    "    q0 = x[3*nl]\n",
    "    \n",
    "    # map ratios to lithologies\n",
    "    lith_ratios = x[3*nl+1:]\n",
    "    lithology = self.lithology.copy()\n",
    "    \n",
    "    field_ratios = np.empty_like(lith_ratios)\n",
    "    \n",
    "    for i, index in enumerate(self.lithology_index):\n",
    "        mask  = lithology == index\n",
    "#         print(\"{} sum = {}\".format(index, lith_ratios[mask].sum()))\n",
    "        # the mean ratio across lithology\n",
    "        golden_ratio = 1.0/mask.sum()\n",
    "        field_ratios[mask] = golden_ratio\n",
    "        \n",
    "    # ratios < 1 = receive a node\n",
    "    # radios > 1 = send a node\n",
    "    ratios = lith_ratios / field_ratios\n",
    "    ratio_idx = np.nonzero(ratios != 1)[0]\n",
    "    \n",
    "    # can't really use KDTree because node spacing is not uniform in each direction\n",
    "    tree = self.ndinterp.tree\n",
    "    d, nidx = tree.query(self.mesh.coords[ratio_idx], k=2*self.mesh.dim+1)\n",
    "    \n",
    "    transaction_log = []\n",
    "    \n",
    "    for i, idx in enumerate(nidx):\n",
    "        # only look for nodes that from another lithology\n",
    "        sortidx = np.argsort(ratios[idx])\n",
    "        node = ratio_idx[i]\n",
    "        node_neighbours = idx[sortidx]\n",
    "        \n",
    "        index = lithology[ratio_idx[i]]\n",
    "        index_neighbours = lithology[idx][sortidx] # sorted neighbour indices by ratio\n",
    "        neighbour_mask = index_neighbours != index\n",
    "        \n",
    "#         print i, idx, index, index_neighbours, neighbour_mask.sum()\n",
    "        \n",
    "        # pick a node based on ratio\n",
    "        if neighbour_mask.any():\n",
    "            index_nn = index_neighbours[neighbour_mask]\n",
    "            node_nn = node_neighbours[neighbour_mask]\n",
    "            if ratios[node] < 1:\n",
    "                lithology[node_nn[-1]] = index # receive from highest node\n",
    "                transaction_log.append([[index_nn[-1], index],[node_nn[-1], node]])\n",
    "            elif ratios[node] > 1:\n",
    "                lithology[node] = index_nn[0] # send to lowest node\n",
    "                transaction_log.append([[index, index_nn[0]],[node, node_nn[0]]])\n",
    "        \n",
    "    self.transaction_log = transaction_log\n",
    "    \n",
    "    # map to mesh\n",
    "    k0, H, a = mapit(self, lithology, k_list, H_list, a_list)\n",
    "    self.lithology_new = lithology\n",
    "    \n",
    "    self.k0 = k0\n",
    "    self.H = H\n",
    "    self.a = a\n",
    "    \n",
    "    \n",
    "    cost = 0.0\n",
    "    cost += self.objective_function(k0, 3.5, 1.0)\n",
    "    cost += self.objective_function(H,  2e-6, 1e-6)\n",
    "    cost += self.objective_function(a,  0.5, 0.1)\n",
    "    return cost"
   ]
  },
  {
   "cell_type": "code",
   "execution_count": 60,
   "metadata": {
    "collapsed": true
   },
   "outputs": [],
   "source": [
    "def tangent_linear(x, dx, self, bc='Z'):\n",
    "    nl = len(self.lithology_index)\n",
    "    k_list, H_list, a_list = np.array_split(x[:3*nl], 3)\n",
    "    dk_list, dH_list, da_list = np.array_split(dx[:3*nl], 3)\n",
    "    q0 = x[3*nl]\n",
    "    dq0 = dx[3*nl]\n",
    "    \n",
    "    # map ratios to lithologies\n",
    "    lith_ratios = x[3*nl+1:]\n",
    "    dlith_ratios = dx[3*nl+1:]\n",
    "    \n",
    "    lithology = self.lithology.copy()\n",
    "    dlithology = self.lithology.copy()\n",
    "    \n",
    "    field_ratios = np.empty_like(lith_ratios)\n",
    "    \n",
    "    for i, index in enumerate(self.lithology_index):\n",
    "        mask  = lithology == index\n",
    "        field_ratios[mask] = 1.0/mask.sum()\n",
    "\n",
    "    \n",
    "    # ratios < 1 = receive a node\n",
    "    # radios > 1 = send a node\n",
    "    ratios = lith_ratios / field_ratios\n",
    "    ratio_idx = np.nonzero(ratios != 1)[0]\n",
    "    \n",
    "    dratiodlith = 1.0/field_ratios\n",
    "    dratios = dratiodlith*dlith_ratios\n",
    "    \n",
    "    dratio_idx = np.nonzero(dratios != 0)[0]\n",
    "    \n",
    "#     dratios = dlith_ratios / field_ratios\n",
    "#     dratio_idx = np.nonzero(dratios != 0)[0]\n",
    "    \n",
    "    # can't really use KDTree because node spacing is not uniform in each direction\n",
    "    tree = self.ndinterp.tree\n",
    "    d, nidx = tree.query(self.mesh.coords[ratio_idx], k=2*self.mesh.dim+1)\n",
    "    \n",
    "    transaction_log = []\n",
    "    \n",
    "    for i, idx in enumerate(nidx):\n",
    "        # only look for nodes that from another lithology\n",
    "        sortidx = np.argsort(ratios[idx])\n",
    "        node = ratio_idx[i]\n",
    "        node_neighbours = idx[sortidx]\n",
    "        \n",
    "        index = lithology[ratio_idx[i]]\n",
    "        index_neighbours = lithology[idx][sortidx] # sorted neighbour indices by ratio\n",
    "        neighbour_mask = index_neighbours != index\n",
    "        \n",
    "#         print i, idx, index, index_neighbours, neighbour_mask.sum()\n",
    "        \n",
    "        # pick a node based on ratio\n",
    "        if neighbour_mask.any():\n",
    "            index_nn = index_neighbours[neighbour_mask]\n",
    "            node_nn = node_neighbours[neighbour_mask]\n",
    "            if ratios[node] < 1:\n",
    "                lithology[node_nn[-1]] = index # receive from highest node\n",
    "                transaction_log.append([[index_nn[-1], index],[node_nn[-1], node]])\n",
    "            elif ratios[node] > 1:\n",
    "                lithology[node] = index_nn[0] # send to lowest node\n",
    "                transaction_log.append([[index, index_nn[0]],[node, node_nn[0]]])\n",
    "\n",
    "    self.transaction_log = transaction_log\n",
    "    \n",
    "#     dlithology = lithology.copy()\n",
    "    \n",
    "    d, dnidx = tree.query(self.mesh.coords[dratio_idx], k=2*self.mesh.dim+1)\n",
    "    \n",
    "    dtransaction_log = []\n",
    "    \n",
    "    for i, didx in enumerate(dnidx):\n",
    "        sortidx = np.argsort(dratios[didx])\n",
    "        node = dratio_idx[i]\n",
    "        node_neighbours = didx[sortidx]\n",
    "        \n",
    "        index = dlithology[dratio_idx[i]]\n",
    "        index_neighbours = dlithology[didx][sortidx] # sorted neighbour indices by ratio\n",
    "        neighbour_mask = index_neighbours != index\n",
    "        \n",
    "#         print i, didx, index, index_neighbours, neighbour_mask.sum()\n",
    "        \n",
    "        if neighbour_mask.any():\n",
    "            index_nn = index_neighbours[neighbour_mask]\n",
    "            node_nn = node_neighbours[neighbour_mask]\n",
    "            if dratios[node] < 0:\n",
    "                dlithology[node_nn[-1]] = index # receive from highest node\n",
    "                dtransaction_log.append([[index_nn[-1], index],[node_nn[-1], node]])\n",
    "            elif dratios[node] > 0:\n",
    "                dlithology[node] = index_nn[0] # send to lowest node\n",
    "                dtransaction_log.append([[index, index_nn[0]],[node, node_nn[0]]])\n",
    "                \n",
    "    self.dtransaction_log = dtransaction_log\n",
    "    \n",
    "    # map to mesh\n",
    "    k0, H, a = mapit(self, lithology, k_list, H_list, a_list)\n",
    "    dk0, dH, da = mapit(self, lithology, dk_list, dH_list, da_list)\n",
    "    \n",
    "    \n",
    "    \n",
    "    \n",
    "#     k0_, H_, a_= mapit(self, dlithology, k_list, H_list, a_list)\n",
    "#     dk0 += k0_ - k0\n",
    "#     dH  += H_  - H\n",
    "#     da  += a_  - a\n",
    "    \n",
    "#     for (index_origin, index_destination), (node_origin, node_destination) in self.dtransaction_log:\n",
    "#         dk0[node_destination] += k0[node_destination] - k0[node_origin]\n",
    "#         dH[node_destination]  += H[node_destination] - H[node_origin]\n",
    "#         da[node_destination]  += a[node_destination] - a[node_origin]\n",
    "    \n",
    "    self.lithology_new = lithology\n",
    "    self.dlithology_new = dlithology\n",
    "    \n",
    "    cost = 0.0\n",
    "    cost += self.objective_function(k0, 3.5, 1.0)\n",
    "    cost += self.objective_function(H,  2e-6, 1e-6)\n",
    "    cost += self.objective_function(a,  0.5, 0.1)\n",
    "    \n",
    "    self.dk0 = dk0\n",
    "    self.dH = dH\n",
    "    self.da = da\n",
    "    \n",
    "    dc = 0.0\n",
    "    dcdk0 = self.objective_function_ad(k0, 3.5, 1.0)\n",
    "    dcdH  = self.objective_function_ad(H, 2e-6, 1e-6)\n",
    "    dcda  = self.objective_function_ad(a, 0.5, 0.1)\n",
    "    dc += np.sum(dcdk0*dk0)\n",
    "    dc += np.sum(dcdH*dH)\n",
    "    dc += np.sum(dcda*da)\n",
    "\n",
    "    return cost, dc"
   ]
  },
  {
   "cell_type": "code",
   "execution_count": 61,
   "metadata": {
    "collapsed": true
   },
   "outputs": [],
   "source": [
    "def adjoint_model(x, self, bc='Z'):\n",
    "\n",
    "    nl = len(self.lithology_index)\n",
    "    k_list, H_list, a_list = np.array_split(x[:3*nl], 3)\n",
    "    dk_list, dH_list, da_list = np.array_split(dx[:3*nl], 3)\n",
    "    q0 = x[3*nl]\n",
    "    dq0 = dx[3*nl]\n",
    "    \n",
    "    # map ratios to lithologies\n",
    "    lith_ratios = x[3*nl+1:]\n",
    "    dlith_ratios = dx[3*nl+1:]\n",
    "    \n",
    "    lithology = self.lithology.copy()\n",
    "    dlithology = self.lithology.copy()\n",
    "    \n",
    "    field_ratios = np.empty_like(lith_ratios)\n",
    "    \n",
    "    for i, index in enumerate(self.lithology_index):\n",
    "        mask  = lithology == index\n",
    "        field_ratios[mask] = 1.0/mask.sum()\n",
    "\n",
    "    \n",
    "    # ratios < 1 = receive a node\n",
    "    # radios > 1 = send a node\n",
    "    ratios = lith_ratios / field_ratios\n",
    "    ratio_idx = np.nonzero(ratios != 1)[0]\n",
    "    \n",
    "    dratios = dlith_ratios / field_ratios\n",
    "    dratio_idx = np.nonzero(dratios != 0)[0]\n",
    "    \n",
    "    # can't really use KDTree because node spacing is not uniform in each direction\n",
    "    tree = self.ndinterp.tree\n",
    "    d, nidx = tree.query(self.mesh.coords[ratio_idx], k=2*self.mesh.dim+1)\n",
    "    \n",
    "    transaction_log = []\n",
    "    \n",
    "    for i, idx in enumerate(nidx):\n",
    "        # only look for nodes that from another lithology\n",
    "        sortidx = np.argsort(ratios[idx])\n",
    "        node = ratio_idx[i]\n",
    "        node_neighbours = idx[sortidx]\n",
    "        \n",
    "        index = lithology[ratio_idx[i]]\n",
    "        index_neighbours = lithology[idx][sortidx] # sorted neighbour indices by ratio\n",
    "        neighbour_mask = index_neighbours != index\n",
    "        \n",
    "#         print i, idx, index, index_neighbours, neighbour_mask.sum()\n",
    "        \n",
    "        # pick a node based on ratio\n",
    "        if neighbour_mask.any():\n",
    "            index_nn = index_neighbours[neighbour_mask]\n",
    "            node_nn = node_neighbours[neighbour_mask]\n",
    "            if ratios[node] < 1:\n",
    "                lithology[node_nn[-1]] = index # receive from highest node\n",
    "                transaction_log.append([[index_nn[-1], index],[node_nn[-1], node]])\n",
    "            elif ratios[node] > 1:\n",
    "                lithology[node] = index_nn[0] # send to lowest node\n",
    "                transaction_log.append([[index, index_nn[0]],[node, node_nn[0]]])\n",
    "        \n",
    "    self.transaction_log = transaction_log\n",
    "    \n",
    "    \n",
    "    d, dnidx = tree.query(self.mesh.coords[dratio_idx], k=2*self.mesh.dim+1)\n",
    "    \n",
    "    dtransaction_log = []\n",
    "    \n",
    "    for i, didx in enumerate(dnidx):\n",
    "        sortidx = np.argsort(dratios[didx])\n",
    "        node = dratio_idx[i]\n",
    "        node_neighbours = didx[sortidx]\n",
    "        \n",
    "        index = dlithology[dratio_idx[i]]\n",
    "        index_neighbours = dlithology[didx][sortidx] # sorted neighbour indices by ratio\n",
    "        neighbour_mask = index_neighbours != index\n",
    "        \n",
    "#         print i, didx, index, index_neighbours, neighbour_mask.sum()\n",
    "        \n",
    "        if neighbour_mask.any():\n",
    "            index_nn = index_neighbours[neighbour_mask]\n",
    "            node_nn = node_neighbours[neighbour_mask]\n",
    "            if dratios[node] < 0:\n",
    "                dlithology[node_nn[-1]] = index # receive from highest node\n",
    "                dtransaction_log.append([[index_nn[-1], index],[node_nn[-1], node]])\n",
    "            elif dratios[node] > 0:\n",
    "                dlithology[node] = index_nn[0] # send to lowest node\n",
    "                dtransaction_log.append([[index, index_nn[0]],[node, node_nn[0]]])\n",
    "                \n",
    "    self.dtransaction_log = dtransaction_log\n",
    "    self.dlithology = dlithology\n",
    "    \n",
    "    # map to mesh\n",
    "    k0, H, a = self.map(k_list, H_list, a_list)\n",
    "    \n",
    "    cost = 0.0\n",
    "    cost += self.objective_function(k0, 3.5, 1.0)\n",
    "    cost += self.objective_function(H,  2e-6, 1e-6)\n",
    "    cost += self.objective_function(a,  0.5, 0.1)\n",
    "    \n",
    "    \n",
    "    # ADJOINT MODEL\n",
    "    \n",
    "    dk0 = self.objective_function_ad(k0, 3.5, 1.0)\n",
    "    dH  = self.objective_function_ad(H, 2e-6, 1e-6)\n",
    "    da  = self.objective_function_ad(a, 0.5, 0.1)\n",
    "    \n",
    "    dk_list, dH_list, da_list = self.map_ad(dk0, dH, da)\n",
    "    \n",
    "    dlithology = np.zeros_like(lithology)\n",
    "    dratios = np.zeros_like(ratios)\n",
    "    dlith_ratios = np.zeros_like(lith_ratios)\n",
    "    \n",
    "#     k0a, Ha, aa = \n",
    "    \n",
    "#     for i, (index_origin, index_destination, node_origin, node_destination) in enumerate(self.transaction_log):\n",
    "#         dlithology[node_origin] = index_origin\n",
    "#         dratios[node_origin] = \n",
    "    \n",
    "    delta_lithology\n",
    "\n",
    "    return cost, gradient"
   ]
  },
  {
   "cell_type": "code",
   "execution_count": 62,
   "metadata": {
    "collapsed": true
   },
   "outputs": [],
   "source": [
    "minX, maxX = 0.0, 1000.0\n",
    "minY, maxY = -1000.0, 0.0\n",
    "nx, ny = 10, 10\n",
    "n = nx*ny\n",
    "\n",
    "mesh = ConductionND((minX, minY), (maxX, maxY), (nx,ny))\n",
    "\n",
    "# BCs\n",
    "mesh.boundary_condition('maxY', 298.0, flux=False)\n",
    "mesh.boundary_condition('minY', 1e3, flux=True)\n",
    "\n",
    "\n",
    "# In[3]: Global lithology\n",
    "\n",
    "lithology = np.zeros((ny,nx), dtype='int32')\n",
    "lithology[3:7,:] = 1\n",
    "lithology[7:,:]  = 2\n",
    "\n",
    "lithology_ratios = np.empty_like(lithology, dtype=np.float)\n",
    "\n",
    "ratio0 = 1.0/(lithology == 0).sum()\n",
    "ratio1 = 1.0/(lithology == 1).sum()\n",
    "ratio2 = 1.0/(lithology == 2).sum()\n",
    "\n",
    "lithology_ratios.fill(ratio0)\n",
    "lithology_ratios[3:7,:] = ratio1\n",
    "lithology_ratios[7:, :] = ratio2\n",
    "\n",
    "\n",
    "# Need to slice this bad boy up: Local lithology\n",
    "\n",
    "(minI, maxI), (minJ, maxJ) = mesh.dm.getGhostRanges()\n",
    "lithology = lithology[minJ:maxJ, minI:maxI]"
   ]
  },
  {
   "cell_type": "code",
   "execution_count": 63,
   "metadata": {},
   "outputs": [
    {
     "data": {
      "text/plain": [
       "<matplotlib.colorbar.Colorbar at 0x7f06b82ca5d0>"
      ]
     },
     "execution_count": 63,
     "metadata": {},
     "output_type": "execute_result"
    },
    {
     "data": {
      "image/png": "[encoded data removed]",
      "text/plain": [
       "<matplotlib.figure.Figure at 0x7f06b97f5450>"
      ]
     },
     "metadata": {},
     "output_type": "display_data"
    }
   ],
   "source": [
    "fig, (ax1, ax2) = plt.subplots(1,2, sharey=True, figsize=(10,4))\n",
    "\n",
    "im1 = ax1.imshow(lithology.reshape(ny,nx))\n",
    "fig.colorbar(im1, ax=ax1)\n",
    "\n",
    "im2 = ax2.imshow(lithology_ratios.reshape(ny,nx))\n",
    "fig.colorbar(im2, ax=ax2)"
   ]
  },
  {
   "cell_type": "markdown",
   "metadata": {},
   "source": [
    "**Priors**"
   ]
  },
  {
   "cell_type": "code",
   "execution_count": 64,
   "metadata": {
    "collapsed": true
   },
   "outputs": [],
   "source": [
    "inv = InversionND(lithology.flatten(), mesh)\n",
    "\n",
    "k = np.array([3.5, 2.0, 3.2])\n",
    "H = np.array([0.5e-6, 1e-6, 2e-6])\n",
    "a = np.array([0.3, 0.3, 0.3])\n",
    "q0 = 35e-3\n",
    "sigma_q0 = 5e-3\n",
    "\n",
    "\n",
    "# Inversion variables\n",
    "x = np.hstack([k, H, a, [q0], lithology_ratios.flatten()])\n",
    "dx = x*0.01\n",
    "dx[:10] = 0.0"
   ]
  },
  {
   "cell_type": "code",
   "execution_count": 65,
   "metadata": {},
   "outputs": [
    {
     "data": {
      "text/plain": [
       "600.2"
      ]
     },
     "execution_count": 65,
     "metadata": {},
     "output_type": "execute_result"
    }
   ],
   "source": [
    "forward_model(x, inv, 'Y')"
   ]
  },
  {
   "cell_type": "code",
   "execution_count": 66,
   "metadata": {},
   "outputs": [
    {
     "data": {
      "text/plain": [
       "578.6"
      ]
     },
     "execution_count": 66,
     "metadata": {},
     "output_type": "execute_result"
    }
   ],
   "source": [
    "inv.lithology = lithology.flatten()\n",
    "forward_model(x+dx, inv, 'Y')"
   ]
  },
  {
   "cell_type": "code",
   "execution_count": 67,
   "metadata": {},
   "outputs": [
    {
     "data": {
      "text/plain": [
       "<matplotlib.colorbar.Colorbar at 0x7f06b8160290>"
      ]
     },
     "execution_count": 67,
     "metadata": {},
     "output_type": "execute_result"
    },
    {
     "data": {
      "image/png": "[encoded data removed]",
      "text/plain": [
       "<matplotlib.figure.Figure at 0x7f06b8bc4f10>"
      ]
     },
     "metadata": {},
     "output_type": "display_data"
    }
   ],
   "source": [
    "plt.imshow(inv.lithology_new.reshape(ny,nx))\n",
    "plt.colorbar()\n",
    "\n",
    "# inv.transaction_log"
   ]
  },
  {
   "cell_type": "code",
   "execution_count": 68,
   "metadata": {},
   "outputs": [
    {
     "data": {
      "text/plain": [
       "(578.6, 0.0)"
      ]
     },
     "execution_count": 68,
     "metadata": {},
     "output_type": "execute_result"
    }
   ],
   "source": [
    "inv.lithology = lithology.flatten()\n",
    "tangent_linear(x, dx, inv, 'Y')"
   ]
  },
  {
   "cell_type": "code",
   "execution_count": 69,
   "metadata": {},
   "outputs": [
    {
     "name": "stdout",
     "output_type": "stream",
     "text": [
      "finite difference -21.6\n",
      "tangent linear 0.0\n"
     ]
    }
   ],
   "source": [
    "fm0 = forward_model(x, inv, 'Y')\n",
    "fm1 = forward_model(x+dx, inv, 'Y')\n",
    "tl = tangent_linear(x, dx, inv, 'Y')\n",
    "\n",
    "print(\"finite difference {}\".format(fm1 - fm0))\n",
    "print(\"tangent linear {}\".format(tl[1]))"
   ]
  },
  {
   "cell_type": "code",
   "execution_count": 70,
   "metadata": {},
   "outputs": [
    {
     "data": {
      "text/plain": [
       "<matplotlib.colorbar.Colorbar at 0x7f06b8039390>"
      ]
     },
     "execution_count": 70,
     "metadata": {},
     "output_type": "execute_result"
    },
    {
     "data": {
      "image/png": "[encoded data removed]",
      "text/plain": [
       "<matplotlib.figure.Figure at 0x7f06b8117450>"
      ]
     },
     "metadata": {},
     "output_type": "display_data"
    }
   ],
   "source": [
    "plt.imshow(inv.dk0.reshape(ny,nx))\n",
    "plt.colorbar()"
   ]
  },
  {
   "cell_type": "code",
   "execution_count": 37,
   "metadata": {},
   "outputs": [
    {
     "data": {
      "text/plain": [
       "[[[0, 1], [20, 30]],\n",
       " [[0, 1], [21, 20]],\n",
       " [[0, 1], [22, 21]],\n",
       " [[0, 1], [23, 22]],\n",
       " [[0, 1], [24, 23]],\n",
       " [[0, 1], [25, 24]],\n",
       " [[0, 1], [26, 36]],\n",
       " [[0, 1], [27, 26]],\n",
       " [[0, 1], [28, 27]],\n",
       " [[0, 1], [29, 28]],\n",
       " [[1, 2], [60, 70]],\n",
       " [[1, 2], [61, 71]],\n",
       " [[1, 2], [62, 72]],\n",
       " [[1, 2], [63, 73]],\n",
       " [[1, 2], [64, 74]],\n",
       " [[1, 2], [65, 75]],\n",
       " [[1, 2], [66, 76]],\n",
       " [[1, 2], [67, 77]],\n",
       " [[1, 2], [68, 78]],\n",
       " [[1, 2], [69, 79]]]"
      ]
     },
     "execution_count": 37,
     "metadata": {},
     "output_type": "execute_result"
    }
   ],
   "source": [
    "inv.dtransaction_log"
   ]
  },
  {
   "cell_type": "code",
   "execution_count": 210,
   "metadata": {
    "collapsed": true
   },
   "outputs": [],
   "source": [
    "# Priors\n",
    "k_prior = k*1.1\n",
    "H_prior = H*1.1\n",
    "a_prior = a*1.1\n",
    "sigma_k = k*0.1\n",
    "sigma_H = H*0.1\n",
    "sigma_a = a*0.1\n",
    "\n",
    "kp = InvPrior(k_prior, sigma_k)\n",
    "Hp = InvPrior(H_prior, sigma_H)\n",
    "ap = InvPrior(a_prior, sigma_a)\n",
    "q0p = InvPrior(q0, sigma_q0)"
   ]
  },
  {
   "cell_type": "code",
   "execution_count": null,
   "metadata": {
    "collapsed": true
   },
   "outputs": [],
   "source": []
  }
 ],
 "metadata": {
  "kernelspec": {
   "display_name": "Python 2",
   "language": "python",
   "name": "python2"
  },
  "language_info": {
   "codemirror_mode": {
    "name": "ipython",
    "version": 2
   },
   "file_extension": ".py",
   "mimetype": "text/x-python",
   "name": "python",
   "nbconvert_exporter": "python",
   "pygments_lexer": "ipython2",
   "version": "2.7.12"
  }
 },
 "nbformat": 4,
 "nbformat_minor": 2
}
