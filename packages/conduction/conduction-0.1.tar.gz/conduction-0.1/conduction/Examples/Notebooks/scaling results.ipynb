{
 "cells": [
  {
   "cell_type": "code",
   "execution_count": null,
   "metadata": {
    "collapsed": true
   },
   "outputs": [],
   "source": [
    "import numpy as np\n",
    "import matplotlib.pyplot as plt\n",
    "import csv\n",
    "%matplotlib inline"
   ]
  },
  {
   "cell_type": "code",
   "execution_count": null,
   "metadata": {
    "collapsed": true
   },
   "outputs": [],
   "source": [
    "data = np.loadtxt('../tests/timings.csv', skiprows=1)\n",
    "\n",
    "# sort \n",
    "data = data[data[:,0].argsort()]\n",
    "procs = data[:,0]\n",
    "\n",
    "# get header\n",
    "with open('../tests/timings.csv', 'r') as f:\n",
    "    reader = csv.reader(f, delimiter=' ')\n",
    "    for r, row in enumerate(reader):\n",
    "        header = row\n",
    "        break"
   ]
  },
  {
   "cell_type": "code",
   "execution_count": null,
   "metadata": {
    "collapsed": true
   },
   "outputs": [],
   "source": [
    "# construct dictionary\n",
    "d = dict()\n",
    "for i in xrange(1,len(header)):\n",
    "    key = header[i]\n",
    "    d[key] = data[:,i]"
   ]
  },
  {
   "cell_type": "markdown",
   "metadata": {},
   "source": [
    "- Strong scaling: fixed number of points, increasing number of processors\n",
    "- Weak scaling: workload assigned to each processor stays constant"
   ]
  },
  {
   "cell_type": "code",
   "execution_count": null,
   "metadata": {},
   "outputs": [],
   "source": [
    "fig, (ax1, ax2, ax3) = plt.subplots(3,1, sharex=True, figsize=(5,12))\n",
    "\n",
    "ax1.set_ylabel('time')\n",
    "ax2.set_ylabel('speedup')\n",
    "ax3.set_ylabel('efficiency')\n",
    "ax3.set_xlabel('processors')\n",
    "\n",
    "\n",
    "for key in header[1:]:\n",
    "    t = d[key]   # time\n",
    "    S = t[0]/t   # speedup\n",
    "    E = S/procs  # efficiency\n",
    "    \n",
    "    ax1.plot(procs, t, label=key)\n",
    "    ax2.plot(procs, S, label=key)\n",
    "    ax3.plot(procs, E, label=key)\n",
    "    \n",
    "ax1.legend()\n",
    "fig.savefig('scaling_all.png', bbox_inches='tight')"
   ]
  },
  {
   "cell_type": "code",
   "execution_count": null,
   "metadata": {},
   "outputs": [],
   "source": [
    "fig, (ax1, ax2, ax3) = plt.subplots(3,1, sharex=True, figsize=(5,12))\n",
    "\n",
    "ax1.set_ylabel('time')\n",
    "ax2.set_ylabel('speedup')\n",
    "ax3.set_ylabel('efficiency')\n",
    "\n",
    "# for ax in [ax1, ax2, ax3]:\n",
    "#     ax.set_yscale('log')\n",
    "\n",
    "\n",
    "for key in header[1:]:\n",
    "    if key == 'solve':\n",
    "        pass\n",
    "    else:\n",
    "        t = d[key]   # time\n",
    "        S = t[0]/t   # speedup\n",
    "        E = S/procs  # efficiency\n",
    "\n",
    "        ax1.plot(procs, t, label=key)\n",
    "        ax2.plot(procs, S, label=key)\n",
    "        ax3.plot(procs, E, label=key)\n",
    "\n",
    "ax1.legend()\n",
    "fig.savefig('scaling_nosolver.png', bbox_inches='tight')"
   ]
  },
  {
   "cell_type": "code",
   "execution_count": null,
   "metadata": {
    "collapsed": true
   },
   "outputs": [],
   "source": []
  }
 ],
 "metadata": {
  "kernelspec": {
   "display_name": "Python 2",
   "language": "python",
   "name": "python2"
  },
  "language_info": {
   "codemirror_mode": {
    "name": "ipython",
    "version": 2
   },
   "file_extension": ".py",
   "mimetype": "text/x-python",
   "name": "python",
   "nbconvert_exporter": "python",
   "pygments_lexer": "ipython2",
   "version": "2.7.12"
  }
 },
 "nbformat": 4,
 "nbformat_minor": 2
}
