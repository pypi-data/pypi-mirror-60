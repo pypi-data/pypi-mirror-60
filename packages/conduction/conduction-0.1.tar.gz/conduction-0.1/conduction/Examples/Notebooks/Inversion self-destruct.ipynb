{
 "cells": [
  {
   "cell_type": "markdown",
   "metadata": {},
   "source": [
    "# N-dimensional inversion\n",
    "\n",
    "The user manually builds their own forward model (and adjoint model, for now). The forward model is constructed using components of the Inversion module. This affords us more flexibility without writing many lines of code.\n",
    "\n",
    "This module calls the ConductionND module, which can be accessed directly from the .mesh attribute."
   ]
  },
  {
   "cell_type": "code",
   "execution_count": 1,
   "metadata": {},
   "outputs": [],
   "source": [
    "import numpy as np\n",
    "from conduction import ConductionND\n",
    "from conduction import InversionND\n",
    "from petsc4py import PETSc\n",
    "import matplotlib.pyplot as plt\n",
    "%matplotlib inline"
   ]
  },
  {
   "cell_type": "code",
   "execution_count": 2,
   "metadata": {},
   "outputs": [],
   "source": [
    "minX, maxX = 0.0, 1000.0\n",
    "minY, maxY = 0.0, 1000.0\n",
    "minZ, maxZ = -35e3, 1000.0\n",
    "nx, ny, nz = 10, 9, 10\n",
    "n = nx*ny*nz\n",
    "\n",
    "mesh = ConductionND((minX, minY, minZ), (maxX, maxY, maxZ), (nx,ny,nz))\n",
    "\n",
    "# BCs\n",
    "mesh.boundary_condition('maxZ', 298.0, flux=False)\n",
    "mesh.boundary_condition('minZ', 0.04, flux=True)"
   ]
  },
  {
   "cell_type": "code",
   "execution_count": 3,
   "metadata": {},
   "outputs": [
    {
     "data": {
      "text/plain": [
       "<matplotlib.colorbar.Colorbar at 0x7f629b29f1d0>"
      ]
     },
     "execution_count": 3,
     "metadata": {},
     "output_type": "execute_result"
    },
    {
     "data": {
      "image/png": "[encoded data removed]",
      "text/plain": [
       "<matplotlib.figure.Figure at 0x7f629d347410>"
      ]
     },
     "metadata": {},
     "output_type": "display_data"
    }
   ],
   "source": [
    "lithology = np.zeros((nz,ny,nx), dtype='int32')\n",
    "lithology[:,3:7,:] = 1\n",
    "lithology[:,7:,:]  = 2\n",
    "\n",
    "plt.pcolor(lithology[5,:,:])\n",
    "plt.colorbar()"
   ]
  },
  {
   "cell_type": "code",
   "execution_count": 4,
   "metadata": {},
   "outputs": [],
   "source": [
    "def forward_model(self, x, bc='Z'):\n",
    "    k_list, H_list = np.array_split(x[:-1], 2)\n",
    "    q0 = x[-1]\n",
    "    \n",
    "    # map to mesh\n",
    "    k0, H = self.map(k_list, H_list)\n",
    "    self.mesh.update_properties(k0, H)\n",
    "    self.mesh.boundary_condition(\"max\"+bc, 298.0, flux=False)\n",
    "    self.mesh.boundary_condition(\"min\"+bc, q0, flux=True)\n",
    "    rhs = self.mesh.construct_rhs()\n",
    "    \n",
    "    # solve\n",
    "    T = self.linear_solve(rhs=rhs)\n",
    "    q = self.heatflux(T, k0)\n",
    "    delT = self.gradient(T)\n",
    "    \n",
    "    cost = 0.0\n",
    "    cost += self.objective_routine(q=q[0], T=T, delT=delT[0]) # observations\n",
    "    cost += self.objective_routine(k=k_list, H=H_list, q0=q0) # priors\n",
    "    return cost"
   ]
  },
  {
   "cell_type": "code",
   "execution_count": 5,
   "metadata": {},
   "outputs": [],
   "source": [
    "def adjoint_model(self, x, bc='Z'):\n",
    "    k_list, H_list = np.array_split(x[:-1], 2)\n",
    "    q0 = x[-1]\n",
    "    \n",
    "    # map to mesh\n",
    "    k0, H = self.map(k_list, H_list)\n",
    "    self.mesh.update_properties(k0, H)\n",
    "    self.mesh.boundary_condition(\"max\"+bc, 298.0, flux=False)\n",
    "    self.mesh.boundary_condition(\"min\"+bc, q0, flux=True)\n",
    "    rhs = self.mesh.construct_rhs()\n",
    "    \n",
    "    # solve\n",
    "    T = self.linear_solve(rhs=rhs)\n",
    "    q = self.heatflux(T, k0)\n",
    "    delT = self.gradient(T)\n",
    "    \n",
    "    cost = 0.0\n",
    "    cost += self.objective_routine(q=q[0], T=T, delT=delT[0]) # observations\n",
    "    cost += self.objective_routine(k=k_list, H=H_list, q0=q0) # priors\n",
    "    \n",
    "    ## AD ##\n",
    "    dk = np.zeros_like(H)\n",
    "    dH = np.zeros_like(H)\n",
    "    dT = np.zeros_like(H)\n",
    "    dq0 = np.array(0.0)\n",
    "    \n",
    "    # priors\n",
    "    dcdk_list = self.objective_routine_ad(k=k_list)\n",
    "    dcdH_list = self.objective_routine_ad(H=H_list)\n",
    "    dcdq0 = self.objective_routine_ad(q0=q0)\n",
    "    # observations\n",
    "    dT += self.objective_routine_ad(T=T)\n",
    "\n",
    "    dq = np.zeros_like(q)\n",
    "    dq[0] = self.objective_routine_ad(q=q[0])\n",
    "    \n",
    "    ddelT = np.zeros_like(delT)\n",
    "    ddelT[0] = self.objective_routine_ad(delT=delT[0])\n",
    "    \n",
    "\n",
    "    dTd = self.gradient_ad(ddelT, T)\n",
    "    dT += dTd\n",
    "    \n",
    "    dTq, dkq = self.heatflux_ad(dq, q, T, k0)\n",
    "    dT += dTq\n",
    "    dk += dkq\n",
    "    \n",
    "    # solve\n",
    "    dA, db = self.linear_solve_ad(T, dT)\n",
    "    \n",
    "    dk += dA\n",
    "    dH += -db\n",
    "    dz = self.grid_delta[-1]\n",
    "    lowerBC_mask = self.mesh.bc[\"min\"+bc][\"mask\"]\n",
    "#     dH[lowerBC_mask] += db[lowerBC_mask]/dz\n",
    "    dq0 += np.sum(-db[lowerBC_mask]/dz/inv.ghost_weights[lowerBC_mask])\n",
    "    \n",
    "    # pack to lists\n",
    "    dk_list, dH_list = inv.map_ad(dk, dH)\n",
    "    dk_list += dcdk_list\n",
    "    dH_list += dcdH_list\n",
    "    dq0 += dcdq0\n",
    "    \n",
    "    dx = np.hstack([dk_list, dH_list, [dq0]])\n",
    "    \n",
    "    return cost, dx"
   ]
  },
  {
   "cell_type": "code",
   "execution_count": 6,
   "metadata": {},
   "outputs": [],
   "source": [
    "inv = InversionND(lithology.flatten(), mesh, solver='bcgs')\n",
    "\n",
    "k = np.array([3.5, 2.0, 3.2])\n",
    "H = np.array([0.1e-6, 1e-6, 2e-6])\n",
    "a = np.array([0., 0., 0.])\n",
    "q0 = 35e-3\n",
    "\n",
    "x = np.hstack([k, H, [q0]])\n",
    "dx = x*0.01\n",
    "\n",
    "# Priors\n",
    "k_prior = k*1.1\n",
    "H_prior = H*1.1\n",
    "a_prior = a*1.1\n",
    "q0_prior = np.array(30e-3)\n",
    "\n",
    "sigma_k = k*0.1\n",
    "sigma_H = H*0.1\n",
    "sigma_a = a*0.1\n",
    "sigma_q0 = np.array(5e-3)"
   ]
  },
  {
   "cell_type": "code",
   "execution_count": 7,
   "metadata": {},
   "outputs": [
    {
     "name": "stdout",
     "output_type": "stream",
     "text": [
      "finite difference -0.9951\n",
      "adjoint -1.06\n"
     ]
    }
   ],
   "source": [
    "from conduction.inversion import InvObservation, InvPrior\n",
    "\n",
    "kp = InvPrior(k_prior, sigma_k)\n",
    "Hp = InvPrior(H_prior, sigma_H)\n",
    "ap = InvPrior(a_prior, sigma_a)\n",
    "q0p = InvPrior(q0_prior, sigma_q0)\n",
    "\n",
    "inv.add_prior(k=kp, H=Hp, q0=q0p)\n",
    "\n",
    "fm0 = forward_model(inv, x)\n",
    "fm1 = forward_model(inv, x+dx)\n",
    "ad = adjoint_model(inv, x)\n",
    "\n",
    "print \"finite difference\", (fm1 - fm0)\n",
    "print \"adjoint\", ad[1].dot(dx)"
   ]
  },
  {
   "cell_type": "code",
   "execution_count": 8,
   "metadata": {},
   "outputs": [],
   "source": [
    "inv = InversionND(lithology.flatten(), mesh)\n",
    "\n",
    "ndelT = 50\n",
    "\n",
    "delT = np.ones(ndelT)*1e3\n",
    "sigma_delT = ndelT*0.001\n",
    "delT_coord = np.zeros((ndelT,3))\n",
    "delT_coord[:,0] = np.linspace(minX, maxX, ndelT)\n",
    "delT_coord[:,1] = np.linspace(minY, maxY, ndelT)\n",
    "delT_coord[:,2] = np.linspace(minZ, maxZ, ndelT)\n",
    "\n",
    "delTobs = InvObservation(delT, sigma_delT, delT_coord)\n",
    "\n",
    "inv.add_observation(delT=delTobs)"
   ]
  },
  {
   "cell_type": "code",
   "execution_count": 9,
   "metadata": {},
   "outputs": [
    {
     "name": "stdout",
     "output_type": "stream",
     "text": [
      "finite difference 0.00284194946289\n",
      "adjoint 0.00300004643486\n"
     ]
    }
   ],
   "source": [
    "fm0 = forward_model(inv, x)\n",
    "fm1 = forward_model(inv, x+dx)\n",
    "ad = adjoint_model(inv, x)\n",
    "\n",
    "print \"finite difference\", (fm1 - fm0)\n",
    "print \"adjoint\", ad[1].dot(dx)"
   ]
  },
  {
   "cell_type": "markdown",
   "metadata": {},
   "source": [
    "There is something wrong with the way dT is propogated!!"
   ]
  },
  {
   "cell_type": "code",
   "execution_count": 10,
   "metadata": {},
   "outputs": [],
   "source": [
    "inv = InversionND(lithology.flatten(), mesh)\n",
    "\n",
    "nqs = 500\n",
    "\n",
    "qs = np.ones(nqs)*0.03\n",
    "sigma_qs = qs*0.5\n",
    "qs_coord = np.zeros((nqs,3))\n",
    "qs_coord[:,0] = np.linspace(minX, maxX, nqs)\n",
    "qs_coord[:,1] = np.linspace(minY, maxY, nqs)\n",
    "qs_coord[:,2] = np.linspace(minZ, maxZ, nqs)\n",
    "\n",
    "\n",
    "qobs = InvObservation(qs, sigma_qs, qs_coord)\n",
    "\n",
    "inv.add_observation(q=qobs)"
   ]
  },
  {
   "cell_type": "code",
   "execution_count": 11,
   "metadata": {},
   "outputs": [
    {
     "name": "stdout",
     "output_type": "stream",
     "text": [
      "finite difference 57.7575028423\n",
      "adjoint 57.1304359443\n"
     ]
    }
   ],
   "source": [
    "fm0 = forward_model(inv, x)\n",
    "fm1 = forward_model(inv, x+dx)\n",
    "ad = adjoint_model(inv, x)\n",
    "\n",
    "print \"finite difference\", (fm1 - fm0)\n",
    "print \"adjoint\", ad[1].dot(dx)"
   ]
  },
  {
   "cell_type": "code",
   "execution_count": 12,
   "metadata": {},
   "outputs": [],
   "source": [
    "inv = InversionND(lithology.flatten(), mesh)\n",
    "\n",
    "size = 50\n",
    "cxy = np.empty((size,3))\n",
    "cxy[:,0] = np.random.uniform(minX, maxX, size)\n",
    "cxy[:,1] = np.random.uniform(minY, maxY, size)\n",
    "cxy[:,2] = np.random.uniform(minZ, maxZ, size)\n",
    "\n",
    "Tp = np.ones(size)*50\n",
    "sigma_Tp = 0.1*Tp\n",
    "\n",
    "Tobs = InvObservation(Tp, sigma_Tp, cxy)\n",
    "inv.add_observation(T=Tobs)"
   ]
  },
  {
   "cell_type": "code",
   "execution_count": 13,
   "metadata": {
    "scrolled": false
   },
   "outputs": [
    {
     "name": "stdout",
     "output_type": "stream",
     "text": [
      "finite difference 0.00599749723915\n",
      "adjoint 0.00530047472057\n"
     ]
    }
   ],
   "source": [
    "fm0 = forward_model(inv, x)\n",
    "fm1 = forward_model(inv, x+dx)\n",
    "ad = adjoint_model(inv, x)\n",
    "\n",
    "print \"finite difference\", (fm1 - fm0)\n",
    "print \"adjoint\", ad[1].dot(dx)"
   ]
  },
  {
   "cell_type": "code",
   "execution_count": 31,
   "metadata": {},
   "outputs": [],
   "source": [
    "inv = InversionND(lithology.flatten(), mesh)\n",
    "\n",
    "Tp = np.ones(lithology.size)*50\n",
    "sigma_Tp = 0.01*Tp\n",
    "\n",
    "Tobs = InvObservation(Tp, sigma_Tp, mesh.coords)\n",
    "inv.add_observation(T=Tobs)"
   ]
  },
  {
   "cell_type": "code",
   "execution_count": 50,
   "metadata": {
    "scrolled": false
   },
   "outputs": [
    {
     "name": "stdout",
     "output_type": "stream",
     "text": [
      "finite difference 9.76386904716\n",
      "adjoint 8.7328524217\n"
     ]
    }
   ],
   "source": [
    "fm0 = forward_model(inv, x)\n",
    "fm1 = forward_model(inv, x+dx)\n",
    "# ad = adjoint_model(inv, x)\n",
    "\n",
    "print \"finite difference\", (fm1 - fm0)\n",
    "print \"adjoint\", ad[1].dot(dx)"
   ]
  },
  {
   "cell_type": "markdown",
   "metadata": {},
   "source": [
    "Fiddling with KSPs"
   ]
  },
  {
   "cell_type": "code",
   "execution_count": 49,
   "metadata": {},
   "outputs": [],
   "source": [
    "inv.ksp = inv._initialise_ksp(solver='gmres', pc='bjacobi')\n",
    "inv.ksp_ad  = inv._initialise_ksp(solver='bcgs', pc='bjacobi')\n",
    "inv.ksp_adT = inv._initialise_ksp(solver='bcgs')"
   ]
  },
  {
   "cell_type": "code",
   "execution_count": 64,
   "metadata": {},
   "outputs": [],
   "source": [
    "# reset\n",
    "inv.ksp = inv._initialise_ksp()\n",
    "inv.ksp_ad = inv._initialise_ksp()\n",
    "inv.ksp_adT = inv._initialise_ksp()"
   ]
  },
  {
   "cell_type": "markdown",
   "metadata": {},
   "source": [
    "## 2D version"
   ]
  },
  {
   "cell_type": "code",
   "execution_count": 16,
   "metadata": {},
   "outputs": [],
   "source": [
    "minX, maxX = 0.0, 1000.0\n",
    "minY, maxY = -35e3, 1000.0\n",
    "nx, ny = 10, 9\n",
    "n = nx*ny\n",
    "\n",
    "mesh = ConductionND((minX, minZ), (maxX, maxZ), (nx,ny))\n",
    "\n",
    "# BCs\n",
    "mesh.boundary_condition('maxY', 298.0, flux=False)\n",
    "mesh.boundary_condition('minY', 0.04, flux=True)"
   ]
  },
  {
   "cell_type": "code",
   "execution_count": 17,
   "metadata": {},
   "outputs": [
    {
     "data": {
      "text/plain": [
       "<matplotlib.colorbar.Colorbar at 0x7f9213940790>"
      ]
     },
     "execution_count": 17,
     "metadata": {},
     "output_type": "execute_result"
    },
    {
     "data": {
      "image/png": "[encoded data removed]",
      "text/plain": [
       "<matplotlib.figure.Figure at 0x7f9215b32210>"
      ]
     },
     "metadata": {},
     "output_type": "display_data"
    }
   ],
   "source": [
    "lithology = np.zeros((ny,nx), dtype='int32')\n",
    "lithology[3:7,:] = 1\n",
    "lithology[7:,:]  = 2\n",
    "\n",
    "plt.pcolor(lithology)\n",
    "plt.colorbar()"
   ]
  },
  {
   "cell_type": "code",
   "execution_count": 18,
   "metadata": {},
   "outputs": [],
   "source": [
    "inv = InversionND(lithology.flatten(), mesh)\n",
    "\n",
    "# inv.add_prior(k=kp, H=Hp, q0=q0p)"
   ]
  },
  {
   "cell_type": "code",
   "execution_count": 19,
   "metadata": {},
   "outputs": [],
   "source": [
    "nqs = 500\n",
    "\n",
    "qs = np.ones(nqs)*0.03\n",
    "sigma_qs = qs*0.5\n",
    "qs_coord = np.zeros((nqs,2))\n",
    "qs_coord[:,0] = np.linspace(minX, maxX, nqs)\n",
    "qs_coord[:,1] = 0.0\n",
    "qs_coord[:,1] = np.linspace(minY, maxY, nqs)\n",
    "\n",
    "qobs = InvObservation(qs, sigma_qs, qs_coord)\n",
    "\n",
    "inv.add_observation(q=qobs)"
   ]
  },
  {
   "cell_type": "code",
   "execution_count": 20,
   "metadata": {},
   "outputs": [
    {
     "name": "stdout",
     "output_type": "stream",
     "text": [
      "q (90,) (500,) (90,)\n",
      "finite difference 35.7533566606\n",
      "adjoint 35.2757785526\n"
     ]
    }
   ],
   "source": [
    "fm0 = forward_model(inv, x, bc='Y')\n",
    "fm1 = forward_model(inv, x+dx, bc='Y')\n",
    "ad = adjoint_model(inv, x, bc='Y')\n",
    "\n",
    "print \"finite difference\", (fm1 - fm0)\n",
    "print \"adjoint\", ad[1].dot(dx)"
   ]
  },
  {
   "cell_type": "code",
   "execution_count": 21,
   "metadata": {},
   "outputs": [],
   "source": [
    "inv = InversionND(lithology.flatten(), mesh)\n",
    "\n",
    "Tp = np.ones(lithology.size)*50\n",
    "sigma_Tp = 0.01*Tp\n",
    "\n",
    "Tobs = InvObservation(Tp, sigma_Tp, mesh.coords)\n",
    "inv.add_observation(T=Tobs)"
   ]
  },
  {
   "cell_type": "code",
   "execution_count": 22,
   "metadata": {},
   "outputs": [
    {
     "name": "stdout",
     "output_type": "stream",
     "text": [
      "T (90,) (90,) (90,)\n",
      "finite difference -0.00146660208702\n",
      "adjoint -0.00877203792334\n"
     ]
    }
   ],
   "source": [
    "fm0 = forward_model(inv, x, bc='Y')\n",
    "fm1 = forward_model(inv, x+dx, bc='Y')\n",
    "ad = adjoint_model(inv, x, bc='Y')\n",
    "\n",
    "print \"finite difference\", (fm1 - fm0)\n",
    "print \"adjoint\", ad[1].dot(dx)"
   ]
  }
 ],
 "metadata": {
  "kernelspec": {
   "display_name": "Python 2",
   "language": "python",
   "name": "python2"
  },
  "language_info": {
   "codemirror_mode": {
    "name": "ipython",
    "version": 2
   },
   "file_extension": ".py",
   "mimetype": "text/x-python",
   "name": "python",
   "nbconvert_exporter": "python",
   "pygments_lexer": "ipython2",
   "version": "2.7.14"
  }
 },
 "nbformat": 4,
 "nbformat_minor": 2
}
