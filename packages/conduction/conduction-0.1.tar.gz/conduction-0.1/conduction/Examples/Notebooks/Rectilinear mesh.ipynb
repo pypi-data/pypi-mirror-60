{
 "cells": [
  {
   "cell_type": "code",
   "execution_count": null,
   "metadata": {},
   "outputs": [],
   "source": [
    "import numpy as np\n",
    "import matplotlib.pyplot as plt\n",
    "from mpl_toolkits.mplot3d import Axes3D\n",
    "from petsc4py import PETSc\n",
    "\n",
    "%matplotlib inline\n",
    "\n",
    "import conduction\n",
    "help(conduction)"
   ]
  },
  {
   "cell_type": "code",
   "execution_count": null,
   "metadata": {
    "collapsed": true
   },
   "outputs": [],
   "source": [
    "minX, maxX = 0., 1.\n",
    "minY, maxY = 0., 2.\n",
    "minZ, maxZ = 0., 3.\n",
    "\n",
    "nx, ny, nz = 20, 20, 20\n",
    "\n",
    "mesh = conduction.Conduction3D((minX, minY, minZ), (maxX, maxY, maxZ), (nx, ny, nz))"
   ]
  },
  {
   "cell_type": "code",
   "execution_count": null,
   "metadata": {
    "collapsed": true
   },
   "outputs": [],
   "source": [
    "def z_function(z):\n",
    "    return 1.0 - np.exp(z)\n",
    "\n",
    "# np.column_stack([z_function(mesh.coords[:,2]), mesh.coords[:,2]])\n",
    "\n",
    "# mesh.refine(z_fn=z_function)"
   ]
  },
  {
   "cell_type": "markdown",
   "metadata": {},
   "source": [
    "## Update material properties"
   ]
  },
  {
   "cell_type": "code",
   "execution_count": null,
   "metadata": {
    "collapsed": true
   },
   "outputs": [],
   "source": [
    "coords = mesh.coords\n",
    "\n",
    "nx = mesh.nx\n",
    "ny = mesh.ny\n",
    "nz = mesh.nz\n",
    "\n",
    "k = np.ones(nz*ny*nx)\n",
    "H = np.ones(nz*ny*nx)\n",
    "# H.fill(0.)\n",
    "\n",
    "mask = coords[:,0] >= 0.5\n",
    "\n",
    "k[mask] = 5.\n",
    "\n",
    "mesh.update_properties(k, H)"
   ]
  },
  {
   "cell_type": "markdown",
   "metadata": {},
   "source": [
    "##  Boundary conditions"
   ]
  },
  {
   "cell_type": "code",
   "execution_count": null,
   "metadata": {
    "collapsed": true
   },
   "outputs": [],
   "source": [
    "mesh.boundary_condition('minZ', 1.0, flux=True)\n",
    "mesh.boundary_condition('maxZ', 0.0, flux=False)"
   ]
  },
  {
   "cell_type": "code",
   "execution_count": null,
   "metadata": {
    "collapsed": true
   },
   "outputs": [],
   "source": [
    "sol = mesh.solve()"
   ]
  },
  {
   "cell_type": "code",
   "execution_count": null,
   "metadata": {},
   "outputs": [],
   "source": [
    "fig = plt.figure(figsize=(10,8))\n",
    "ax1 = fig.add_subplot(111, projection='3d', xlim=(minX, maxX), ylim=(minY, maxY),)\n",
    "sca = ax1.scatter3D(coords[:,0], coords[:,1], coords[:,2], c=sol)\n",
    "fig.colorbar(sca)"
   ]
  },
  {
   "cell_type": "code",
   "execution_count": null,
   "metadata": {
    "collapsed": true
   },
   "outputs": [],
   "source": [
    "H5_filname = 'rectilinear.h5'\n",
    "\n",
    "mesh.save_mesh_to_hdf5(H5_filname)\n",
    "mesh.save_field_to_hdf5(H5_filname, T=sol)\n",
    "\n",
    "conduction.tools.generateXdmf(H5_filname)"
   ]
  },
  {
   "cell_type": "code",
   "execution_count": null,
   "metadata": {},
   "outputs": [],
   "source": [
    "from time import clock\n",
    "\n",
    "mat = mesh.construct_matrix()\n",
    "rhs = mesh.construct_rhs()\n",
    "sol = mesh.dm.createGlobalVector()\n",
    "\n",
    "\n",
    "t = clock()\n",
    "# manual solver\n",
    "\n",
    "ksp = PETSc.KSP().create()\n",
    "ksp.setType('cgs')\n",
    "ksp.setOperators(mat)\n",
    "# pc = ksp.getPC()\n",
    "# pc.setType('gamg')\n",
    "# pc.setGAMGLevels(1)\n",
    "# pc.setGAMGSmooths(5)\n",
    "ksp.setTolerances(1e-5, 1e-10)\n",
    "ksp.setFromOptions()\n",
    "ksp.solve(rhs, sol)\n",
    "\n",
    "print(\"computation time: {}s\".format(clock()-t))"
   ]
  },
  {
   "cell_type": "code",
   "execution_count": null,
   "metadata": {},
   "outputs": [],
   "source": [
    "fig = plt.figure(figsize=(10,8))\n",
    "ax1 = fig.add_subplot(111, projection='3d', xlim=(minX, maxX), ylim=(minY, maxY),)\n",
    "sca = ax1.scatter3D(coords[:,0], coords[:,1], coords[:,2], c=sol.array)\n",
    "fig.colorbar(sca)"
   ]
  },
  {
   "cell_type": "markdown",
   "metadata": {},
   "source": [
    "# Refine\n",
    "\n",
    "Refine the Y-axis"
   ]
  },
  {
   "cell_type": "code",
   "execution_count": null,
   "metadata": {
    "collapsed": true
   },
   "outputs": [],
   "source": [
    "def z_function(z):\n",
    "    return 1.0 - np.exp(z)\n",
    "\n",
    "mesh.refine(z_fn=z_function)"
   ]
  },
  {
   "cell_type": "code",
   "execution_count": null,
   "metadata": {
    "collapsed": true
   },
   "outputs": [],
   "source": [
    "mesh.boundary_condition('minZ', 1.0, flux=True)\n",
    "mesh.boundary_condition('maxZ', 0.0, flux=False)\n",
    "\n",
    "mesh.update_properties(k, H)"
   ]
  },
  {
   "cell_type": "code",
   "execution_count": null,
   "metadata": {},
   "outputs": [],
   "source": [
    "for key in mesh.bc:\n",
    "    print key, mesh.bc[key]['delta'], mesh.bc[key]['flux'], mesh.bc[key]['val']\n",
    "\n",
    "print mesh.minZ, mesh.maxZ"
   ]
  },
  {
   "cell_type": "code",
   "execution_count": null,
   "metadata": {
    "collapsed": true
   },
   "outputs": [],
   "source": [
    "sol2 = mesh.solve()"
   ]
  },
  {
   "cell_type": "code",
   "execution_count": null,
   "metadata": {},
   "outputs": [],
   "source": [
    "fig = plt.figure(figsize=(10,8))\n",
    "ax1 = fig.add_subplot(111, projection='3d', xlim=(minX, maxX), ylim=(minY, maxY), )\n",
    "sca = ax1.scatter3D(coords[:,0], coords[:,1], coords[:,2], c=sol2)\n",
    "fig.colorbar(sca)\n",
    "plt.savefig('rectilinear.png', bbox_inches='tight')"
   ]
  },
  {
   "cell_type": "code",
   "execution_count": null,
   "metadata": {
    "collapsed": true
   },
   "outputs": [],
   "source": [
    "H5_file = 'rectilinear-refined.h5'\n",
    "\n",
    "mesh.save_mesh_to_hdf5(H5_file)\n",
    "mesh.save_field_to_hdf5(H5_file, T=sol2, k=mesh.diffusivity, H=mesh.heat_sources)\n",
    "\n",
    "conduction.generateXdmf(H5_file)"
   ]
  },
  {
   "cell_type": "code",
   "execution_count": null,
   "metadata": {},
   "outputs": [],
   "source": [
    "from quagmire import tools as meshtools\n",
    "meshtools.save_DM_to_hdf5(mesh.dm, 'rectilinear.h5')\n",
    "\n",
    "vec = mesh.dm.createGlobalVector()\n",
    "vec.setName('sol')\n",
    "vec.setArray(sol)\n",
    "\n",
    "ViewHDF5 = PETSc.Viewer()\n",
    "\n",
    "ViewHDF5.createHDF5('rectilinear.h5', mode='a')\n",
    "# ViewHDF5.pushFormat(PETSc.Viewer.Format.VTK_VTS)\n",
    "ViewHDF5.view(obj=vec)\n",
    "ViewHDF5.destroy()\n",
    "\n",
    "# meshtools.generate_xdmf('rectilinear.h5')"
   ]
  },
  {
   "cell_type": "code",
   "execution_count": null,
   "metadata": {
    "collapsed": true
   },
   "outputs": [],
   "source": [
    "import h5py\n",
    "\n",
    "f = h5py.File('rectilinear.h5', 'r+')"
   ]
  },
  {
   "cell_type": "code",
   "execution_count": null,
   "metadata": {
    "collapsed": true
   },
   "outputs": [],
   "source": [
    "f.create_group('topology')\n",
    "topo = f['topology']"
   ]
  },
  {
   "cell_type": "code",
   "execution_count": null,
   "metadata": {
    "collapsed": true
   },
   "outputs": [],
   "source": [
    "topo.attrs.create('minCoord', np.array([minX, minY, minZ]))\n",
    "topo.attrs.create('maxCoord', np.array([maxX, maxY, maxZ]))\n",
    "topo.attrs.create('shape', np.array([nx, ny, nz]))\n",
    "# topo.attrs.create('')"
   ]
  },
  {
   "cell_type": "code",
   "execution_count": null,
   "metadata": {},
   "outputs": [],
   "source": [
    "mesh.dm.getSizes()"
   ]
  },
  {
   "cell_type": "code",
   "execution_count": null,
   "metadata": {
    "collapsed": true
   },
   "outputs": [],
   "source": [
    "f.close()"
   ]
  },
  {
   "cell_type": "code",
   "execution_count": null,
   "metadata": {},
   "outputs": [],
   "source": [
    "# ViewHDF5.pushFormat(PETSc.Viewer.Format.VTK_VTR)\n",
    "ViewHDF5.destroy()"
   ]
  },
  {
   "cell_type": "code",
   "execution_count": null,
   "metadata": {
    "collapsed": true
   },
   "outputs": [],
   "source": [
    "minCoord = np.array([minX, minY, minZ])"
   ]
  },
  {
   "cell_type": "code",
   "execution_count": null,
   "metadata": {},
   "outputs": [],
   "source": []
  }
 ],
 "metadata": {
  "kernelspec": {
   "display_name": "Python 2",
   "language": "python",
   "name": "python2"
  },
  "language_info": {
   "codemirror_mode": {
    "name": "ipython",
    "version": 3
   },
   "file_extension": ".py",
   "mimetype": "text/x-python",
   "name": "python",
   "nbconvert_exporter": "python",
   "pygments_lexer": "ipython3",
   "version": "3.6.8"
  }
 },
 "nbformat": 4,
 "nbformat_minor": 2
}
