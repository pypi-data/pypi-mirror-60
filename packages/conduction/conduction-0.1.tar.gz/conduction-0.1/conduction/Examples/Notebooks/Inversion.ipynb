{
 "cells": [
  {
   "cell_type": "markdown",
   "metadata": {},
   "source": [
    "# Inversion\n",
    "\n",
    "We benchmark the following models to the inverse heat conduction problem:\n",
    "\n",
    "1. Finite difference - difference between two forward models\n",
    "2. Tangent linear - derivative of the problem in forward mode\n",
    "3. Adjoint model - gradient of the objective function w.r.t. inversion variables"
   ]
  },
  {
   "cell_type": "code",
   "execution_count": null,
   "metadata": {},
   "outputs": [],
   "source": [
    "import numpy as np\n",
    "from conduction import ConductionND\n",
    "from conduction import Inversion\n",
    "from petsc4py import PETSc\n",
    "import matplotlib.pyplot as plt\n",
    "%matplotlib inline"
   ]
  },
  {
   "cell_type": "code",
   "execution_count": null,
   "metadata": {
    "collapsed": true
   },
   "outputs": [],
   "source": [
    "minX, maxX = 0.0, 1000.0\n",
    "minY, maxY = 0.0, 1000.0\n",
    "minZ, maxZ = -35e3, 1000.0\n",
    "nx, ny, nz = 10, 9, 10\n",
    "n = nx*ny*nz\n",
    "\n",
    "mesh = ConductionND((minX, minY, minZ), (maxX, maxY, maxZ), (nx,ny,nz))\n",
    "\n",
    "# BCs\n",
    "mesh.boundary_condition('maxZ', 298.0, flux=False)\n",
    "mesh.boundary_condition('minZ', 0.04, flux=True)"
   ]
  },
  {
   "cell_type": "code",
   "execution_count": null,
   "metadata": {},
   "outputs": [],
   "source": [
    "lithology = np.zeros((nz,ny,nx), dtype='int32')\n",
    "lithology[:,3:7,:] = 1\n",
    "lithology[:,7:,:]  = 2"
   ]
  },
  {
   "cell_type": "code",
   "execution_count": null,
   "metadata": {},
   "outputs": [],
   "source": [
    "plt.pcolor(lithology[5,:,:])\n",
    "plt.colorbar()"
   ]
  },
  {
   "cell_type": "code",
   "execution_count": null,
   "metadata": {},
   "outputs": [],
   "source": [
    "inv = Inversion(lithology.flatten(), mesh)"
   ]
  },
  {
   "cell_type": "markdown",
   "metadata": {},
   "source": [
    "## Construct the inverse problem\n",
    "\n",
    "We take bits of the `Inversion` module and tailor the forward and inverse problem."
   ]
  },
  {
   "cell_type": "code",
   "execution_count": null,
   "metadata": {
    "collapsed": true
   },
   "outputs": [],
   "source": [
    "def nonLinearConductivity(k0, T, a):\n",
    "    return k0*(298.0/T)**a\n",
    "\n",
    "def objective_function(self, x, x0, sigma_x0):\n",
    "    return np.sum((x - x0)**2/sigma_x0**2)\n",
    "\n",
    "def forward_model(inv, X):\n",
    "    k_list, H_list, a_list = np.array_split(X.array[:-1], 3)\n",
    "    q0 = X.array[-1]\n",
    "    \n",
    "    k0, H, a = inv.map(k_list, H_list, a_list)\n",
    "    \n",
    "    inv.mesh.update_properties(k0, H)\n",
    "    inv.mesh.boundary_condition('maxZ', 298.0, flux=False)\n",
    "    inv.mesh.boundary_condition('minZ', q0, flux=True)\n",
    "    \n",
    "    T = inv.linear_solve()\n",
    "    \n",
    "    "
   ]
  },
  {
   "cell_type": "code",
   "execution_count": null,
   "metadata": {},
   "outputs": [],
   "source": [
    "k = np.array([3.5, 2.0, 3.2])\n",
    "H = np.array([0.0, 1e-6, 2e-6])\n",
    "a = np.array([0., 0., 0.])\n",
    "q0 = 35e-3\n",
    "\n",
    "# Inversion variables\n",
    "x = PETSc.Vec().create()\n",
    "x.setSizes(k.size*3+1)\n",
    "x.setUp()\n",
    "x.setArray(np.hstack([k, H, a, [q0]]))\n",
    "\n",
    "# Priors\n",
    "k_prior = k*1.1\n",
    "H_prior = H*1.1\n",
    "a_prior = a*1.1\n",
    "\n",
    "sigma_k = k*0.1\n",
    "sigma_H = H*0.1\n",
    "sigma_a = a*0.1\n",
    "\n",
    "inv.add_prior(k=(k_prior,sigma_k), H=(H_prior,sigma_H), a=(a_prior,sigma_a), q0=(30e-3, 5e-3))\n",
    "\n",
    "cost = inv.forward_model(x)\n",
    "print cost"
   ]
  },
  {
   "cell_type": "code",
   "execution_count": null,
   "metadata": {},
   "outputs": [],
   "source": [
    "T = inv.temperature.array.reshape(nz,ny,nx)\n",
    "plt.imshow(T[:,:,5]-273.14, origin='lower')\n",
    "plt.colorbar()"
   ]
  },
  {
   "cell_type": "code",
   "execution_count": null,
   "metadata": {},
   "outputs": [],
   "source": [
    "dx = x*0.01\n",
    "gradient = x.duplicate()\n",
    "\n",
    "fm0 = inv.forward_model(x)\n",
    "fm1 = inv.forward_model(x+dx)\n",
    "\n",
    "tl = inv.tangent_linear(x, dx)\n",
    "\n",
    "ad = inv.adjoint(None, x, gradient)\n",
    "\n",
    "print \"finite difference\", (fm1 - fm0)\n",
    "print \"tangent linear\", tl[1]\n",
    "print \"adjoint\", gradient.array.dot(dx)"
   ]
  },
  {
   "cell_type": "code",
   "execution_count": null,
   "metadata": {
    "collapsed": true
   },
   "outputs": [],
   "source": [
    "inv = Inversion(lithology.flatten(), mesh)\n",
    "\n",
    "np.random.seed(0)\n",
    "\n",
    "q_obs = np.ones(5)*0.03\n",
    "sigma_q = q_obs*0.5\n",
    "q_coord = np.zeros((5,3))\n",
    "q_coord[:,0] = np.random.random(5)*1e3\n",
    "q_coord[:,1] = 0.0\n",
    "q_coord[:,2] = np.random.random(5)*1e3\n",
    "\n",
    "inv.add_observation(q=(q_obs, sigma_q, q_coord))"
   ]
  },
  {
   "cell_type": "code",
   "execution_count": null,
   "metadata": {},
   "outputs": [],
   "source": [
    "dx = x*0.001\n",
    "\n",
    "fm0 = inv.forward_model(x)\n",
    "fm1 = inv.forward_model(x+dx)\n",
    "tl = inv.tangent_linear(x,dx)\n",
    "ad = inv.adjoint(None, x, gradient)\n",
    "\n",
    "print \"finite difference\", (fm1 - fm0)\n",
    "print \"tangent linear\", tl[1]\n",
    "print \"adjoint\", gradient.array.dot(dx)"
   ]
  },
  {
   "cell_type": "code",
   "execution_count": null,
   "metadata": {
    "collapsed": true
   },
   "outputs": [],
   "source": [
    "inv = Inversion(lithology.flatten(), mesh)\n",
    "\n",
    "T_prior = np.ones(n)*400.\n",
    "sigma_T = T_prior*0.01\n",
    "\n",
    "inv.add_prior(T=(T_prior,sigma_T))"
   ]
  },
  {
   "cell_type": "code",
   "execution_count": null,
   "metadata": {
    "scrolled": false
   },
   "outputs": [],
   "source": [
    "dx = x*0.01\n",
    "\n",
    "fm0 = inv.forward_model(x)\n",
    "fm1 = inv.forward_model(x+dx)\n",
    "tl = inv.tangent_linear(x,dx)\n",
    "ad = inv.adjoint(None, x, gradient)\n",
    "\n",
    "print \"finite difference\", (fm1 - fm0)\n",
    "print \"tangent linear\", tl[1]\n",
    "print \"adjoint\", gradient.array.dot(dx)"
   ]
  },
  {
   "cell_type": "code",
   "execution_count": null,
   "metadata": {
    "collapsed": true
   },
   "outputs": [],
   "source": [
    "inv.ksp.setDMActive(True)\n",
    "inv.ksp.setDM(inv.mesh.dm)\n",
    "inv.ksp.setComputeOperators(inv.mesh.mat)"
   ]
  },
  {
   "cell_type": "markdown",
   "metadata": {},
   "source": [
    "Compare to 2D example"
   ]
  },
  {
   "cell_type": "code",
   "execution_count": null,
   "metadata": {
    "collapsed": true
   },
   "outputs": [],
   "source": [
    "from benpy import Inversion as Inversion2\n",
    "from scipy.sparse import coo_matrix\n",
    "from scipy.sparse.linalg import spsolve\n",
    "\n",
    "Xcoords = np.linspace(minX, maxX, nx)\n",
    "Ycoords = np.linspace(minY, maxY, ny)\n",
    "xq, yq = np.meshgrid(Xcoords,Ycoords)\n",
    "\n",
    "inv2 = Inversion2(xq.ravel(), yq.ravel(), lithology[5,:,:].flatten())"
   ]
  },
  {
   "cell_type": "code",
   "execution_count": null,
   "metadata": {},
   "outputs": [],
   "source": [
    "inv2.add_prior(Qs=(q_obs, sigma_q, q_coord[:,0]))\n",
    "fm0 = inv2.forward_model(x)\n",
    "fm1 = inv2.forward_model(x+dx)\n",
    "tl = inv2.tangent_linear(x,dx)\n",
    "ad = inv2.adjoint(x)\n",
    "\n",
    "print \"finite difference\", (fm1 - fm0)\n",
    "print \"tangent linear\", tl[1]\n",
    "print \"adjoint\", ad[1].dot(dx)\n",
    "print ad"
   ]
  },
  {
   "cell_type": "code",
   "execution_count": null,
   "metadata": {
    "collapsed": true
   },
   "outputs": [],
   "source": [
    "inv2 = Inversion2(xq.ravel(), yq.ravel(), lithology[5,:,:].flatten())\n",
    "T_prior = np.ones(nx*ny)*400.\n",
    "sigma_T = T_prior*0.01\n",
    "inv2.add_prior(T=(T_prior, sigma_T))\n",
    "\n",
    "\n",
    "fm0 = inv2.forward_model(x)\n",
    "fm1 = inv2.forward_model(x+dx)\n",
    "tl = inv2.tangent_linear(x,dx)\n",
    "ad = inv2.adjoint(x)\n",
    "\n",
    "print \"finite difference\", (fm1 - fm0)\n",
    "print \"tangent linear\", tl[1]\n",
    "print \"adjoint\", ad[1].dot(dx)\n",
    "print ad"
   ]
  },
  {
   "cell_type": "markdown",
   "metadata": {},
   "source": [
    "## TAO solve\n",
    "\n",
    "Solve a minimisation problem. TAO provides a number of minimisation schemes, some which require the gradient and Hessian."
   ]
  },
  {
   "cell_type": "code",
   "execution_count": null,
   "metadata": {
    "collapsed": true
   },
   "outputs": [],
   "source": [
    "from petsc4py import PETSc\n",
    "from time import clock"
   ]
  },
  {
   "cell_type": "code",
   "execution_count": null,
   "metadata": {},
   "outputs": [],
   "source": [
    "# x as a PETSc vector\n",
    "inv_x = PETSc.Vec().create()\n",
    "inv_x.setSizes(x.size)\n",
    "inv_x.setUp()\n",
    "inv_x.setArray(x)\n",
    "\n",
    "lower_bound = inv_x.duplicate()\n",
    "lower_bound.array[:3] = 0.5 # conductivity\n",
    "lower_bound.array[-1] = 5e-3 # q0\n",
    "\n",
    "upper_bound = inv_x.duplicate()\n",
    "upper_bound.array[:3] = 4.5 #conductivity\n",
    "upper_bound.array[3:6] = 5e-6 # heat production\n",
    "upper_bound.array[6:9] = 1.0 # a\n",
    "upper_bound.array[-1] = 45e-3 # q0\n",
    "\n",
    "\n",
    "tao = PETSc.TAO().create()\n",
    "tao.setType('blmvm')\n",
    "# tao.setType(PETSc.TAO.Type.POUNDERS)\n",
    "tao.setVariableBounds(lower_bound, upper_bound)\n",
    "tao.setObjectiveGradient(inv.adjoint)\n",
    "tao.setFromOptions()\n",
    "# ksp = tao.getKSP()\n",
    "# ksp.setType('gmres')\n",
    "# ksp.setOperators(inv.mesh.mat)\n",
    "# pc = ksp.getPC()\n",
    "# pc.setType('gamg')\n",
    "# ksp.setTolerances(1e-8,1e-8)\n",
    "# ksp.setFromOptions()\n",
    "# inv.ksp = ksp\n",
    "\n",
    "t = clock()\n",
    "tao.solve(inv_x)\n",
    "print \"Completed in\", clock()-t\n",
    "print tao.getConvergedReason(), tao.getIterationNumber()"
   ]
  },
  {
   "cell_type": "code",
   "execution_count": null,
   "metadata": {},
   "outputs": [],
   "source": [
    "from scipy.optimize import minimize\n",
    "\n",
    "def adjoint(x):\n",
    "    \"\"\" need this handler for PETSc vector convention \"\"\"\n",
    "    inv_x.setArray(x)\n",
    "    c = inv.adjoint(None, inv_x, gradient)\n",
    "    return c, gradient.array\n",
    "    \n",
    "\n",
    "t = clock()\n",
    "opt = minimize(adjoint, x.array, method='TNC', jac=True, bounds=zip(lower_bound.array, upper_bound.array))\n",
    "print clock()-t"
   ]
  },
  {
   "cell_type": "code",
   "execution_count": null,
   "metadata": {},
   "outputs": [],
   "source": [
    "import pyOpt\n",
    "\n",
    "opt = pyOpt.Optimization('No problem', adjoint)\n",
    "opt.addObj('f')\n",
    "for i in range(x.array.size):\n",
    "    opt.addVar('v%i'%i, 'c', lower=lower_bound.array[i], upper=upper_bound.array[i], value=x.array[i])\n",
    "print opt"
   ]
  },
  {
   "cell_type": "code",
   "execution_count": null,
   "metadata": {},
   "outputs": [],
   "source": [
    "solver = pyOpt.SLSQP()\n",
    "# solver.setOption('IPRINT')\n",
    "solver(opt, sens_type='CS', sens_mode='pgc')\n",
    "print opt.solution"
   ]
  },
  {
   "cell_type": "code",
   "execution_count": null,
   "metadata": {
    "collapsed": true
   },
   "outputs": [],
   "source": [
    "print tao.getConvergedReason(), tao.getIterationNumber()"
   ]
  },
  {
   "cell_type": "code",
   "execution_count": null,
   "metadata": {
    "collapsed": true
   },
   "outputs": [],
   "source": [
    "dAdkl2 = coo_matrix((inv2.Vsp[0], (inv2.Isp[0], inv2.Jsp[0])), shape=(inv2.Nnode,inv2.Nnode))"
   ]
  },
  {
   "cell_type": "code",
   "execution_count": null,
   "metadata": {
    "collapsed": true
   },
   "outputs": [],
   "source": [
    "df = 1.0\n",
    "\n",
    "obs = inv.observation['q']\n",
    "\n",
    "# Compute heat flux\n",
    "gradTz, gradTy, gradTx = np.gradient(T.reshape(inv.mesh.nz, inv.mesh.ny, inv.mesh.nx),\n",
    "                                     inv.mesh.dx, inv.mesh.dy, inv.mesh.dz)\n",
    "heatflux = inv.mesh.diffusivity.reshape(inv.mesh.nz, inv.mesh.ny, inv.mesh.nx)*(gradTz + gradTy + gradTx)\n",
    "\n",
    "inv.interp.values = heatflux\n",
    "q_interp = inv.interp(obs[2])\n",
    "cost += inv.objective_function(q_interp, obs[0], obs[1])\n",
    "\n",
    "## AD\n",
    "dcdq = inv.objective_function_ad(q_interp, obs[0], obs[1])\n",
    "dq_interp_ad = dcdq*df\n",
    "dq_ad = inv.interp.adjoint(obs[2], dq_interp_ad)\n",
    "dqdz = inv.mesh.diffusivity.reshape(inv.mesh.nz, inv.mesh.ny, inv.mesh.nx)\n",
    "dqdy = inv.mesh.diffusivity.reshape(inv.mesh.nz, inv.mesh.ny, inv.mesh.nx)\n",
    "dqdx = inv.mesh.diffusivity.reshape(inv.mesh.nz, inv.mesh.ny, inv.mesh.nx)\n",
    "dqdk = gradTz + gradTy + gradTx\n",
    "\n",
    "dk_ad = (dqdk*dq_ad)\n",
    "\n",
    "dz_ad = dqdz*dq_ad\n",
    "dy_ad = dqdy*dq_ad\n",
    "dx_ad = dqdx*dq_ad\n",
    "\n",
    "dqdTz = inv.mesh.diffusivity.reshape(inv.mesh.nz, inv.mesh.ny, inv.mesh.nx)/inv.mesh.dz\n",
    "dqdTy = inv.mesh.diffusivity.reshape(inv.mesh.nz, inv.mesh.ny, inv.mesh.nx)/inv.mesh.dy\n",
    "dqdTx = inv.mesh.diffusivity.reshape(inv.mesh.nz, inv.mesh.ny, inv.mesh.nx)/inv.mesh.dz\n",
    "\n",
    "dT_ad = (dqdTx*dq_ad + dqdTy*dq_ad + dqdTz*dq_ad)"
   ]
  },
  {
   "cell_type": "code",
   "execution_count": null,
   "metadata": {
    "collapsed": true
   },
   "outputs": [],
   "source": []
  },
  {
   "cell_type": "code",
   "execution_count": null,
   "metadata": {},
   "outputs": [],
   "source": [
    "plt.imshow(dk_ad[:,-1,:], origin='lower', interpolation='nearest')"
   ]
  }
 ],
 "metadata": {
  "kernelspec": {
   "display_name": "Python 2",
   "language": "python",
   "name": "python2"
  },
  "language_info": {
   "codemirror_mode": {
    "name": "ipython",
    "version": 2
   },
   "file_extension": ".py",
   "mimetype": "text/x-python",
   "name": "python",
   "nbconvert_exporter": "python",
   "pygments_lexer": "ipython2",
   "version": "2.7.12"
  }
 },
 "nbformat": 4,
 "nbformat_minor": 1
}
