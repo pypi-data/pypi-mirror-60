{
 "cells": [
  {
   "cell_type": "markdown",
   "metadata": {},
   "source": [
    "# Inversion benchmark - data covariance\n",
    "\n",
    "The covariance matrix appears in the misfit function,\n",
    "\n",
    "$$\n",
    "S(\\mathbf{m}) = \\frac{1}{2} \\left[ (\\mathbf{g}(\\mathbf{m}) - \\mathbf{d})^T \\mathbf{C}_d^{-1} (\\mathbf{g}(\\mathbf{m}) - \\mathbf{d}) + (\\mathbf{m} - \\mathbf{m}_p)^T \\mathbf{C}_p^{-1} (\\mathbf{m} - \\mathbf{m}_p) \\right]\n",
    "$$\n",
    "\n",
    "where the first term is the misfit between $\\mathbf{d} = g(\\mathbf{m})$ and data $\\mathbf{d}$; the second term describes the misfit between model parameters $\\mathbf{m}$ and their priors $\\mathbf{m}_p$. If uncertainties are uncorrelated, then we can simplify the expression to the $\\ell_2$-norm,\n",
    "\n",
    "$$\n",
    "S(\\mathbf{m}) = \\frac{1}{2} \\sum_{i} \\frac{\\vert g(\\mathbf{m}) - d \\vert^2}{(\\sigma_d)^2} + \\frac{1}{2} \\sum_{j} \\frac{\\vert \\mathbf{m} - \\mathbf{m}_p \\vert^2}{(\\sigma_p)^2}\n",
    "$$\n",
    "\n",
    "which is identical if the off-diagonal components of $\\mathbf{C}$ are zeros (the diagonal in all cases contain the variance $\\sigma^2$).\n",
    "\n",
    "Here, we construct the covariance matrix $\\mathbf{C}_d$ row-by-row using a KDTree to query neighbours within a set euclidean distance. We start with a Gaussian covariance function, but this can be expanded later."
   ]
  },
  {
   "cell_type": "code",
   "execution_count": null,
   "metadata": {
    "collapsed": true
   },
   "outputs": [],
   "source": [
    "import numpy as np\n",
    "from petsc4py import PETSc\n",
    "from scipy.spatial import cKDTree\n",
    "from scipy import sparse\n",
    "import matplotlib.pyplot as plt\n",
    "%matplotlib inline"
   ]
  },
  {
   "cell_type": "code",
   "execution_count": null,
   "metadata": {
    "collapsed": true
   },
   "outputs": [],
   "source": [
    "# generate some data in 3D space\n",
    "n = 20\n",
    "\n",
    "x = np.linspace(0, 2*np.pi, n)\n",
    "y = np.linspace(-1,1, n)\n",
    "z = np.zeros(n)\n",
    "\n",
    "data_coords = np.column_stack([x,y,z])\n",
    "\n",
    "data = np.sin(x)\n",
    "sigma_data = np.ones_like(data)*0.1"
   ]
  },
  {
   "cell_type": "code",
   "execution_count": null,
   "metadata": {},
   "outputs": [],
   "source": [
    "# plot the data\n",
    "plt.scatter(x,y,c=sigma_data)"
   ]
  },
  {
   "cell_type": "code",
   "execution_count": null,
   "metadata": {
    "collapsed": true
   },
   "outputs": [],
   "source": [
    "def gaussian(sigma, dist, length_scale):\n",
    "    return sigma**2 * np.exp(-dist**2/(2.0*length_scale**2))\n",
    "\n",
    "\n",
    "# set up matrix\n",
    "mat = PETSc.Mat().create()\n",
    "mat.setType(mat.Type.AIJ)\n",
    "mat.setSizes((data.size, data.size))\n",
    "mat.setPreallocationNNZ((data.size,10))\n",
    "mat.setFromOptions()\n",
    "mat.assemblyBegin()\n",
    "\n",
    "# set up KDTree and maxdist to query\n",
    "tree = cKDTree(data_coords)\n",
    "maxdist = 10.0\n",
    "\n",
    "for i in xrange(0, data.size):\n",
    "    idx = tree.query_ball_point(data_coords[i], maxdist)\n",
    "    dist = np.linalg.norm(data_coords[i] - data_coords[idx], axis=1)\n",
    "    \n",
    "    row = i\n",
    "    col = idx\n",
    "    val = gaussian(sigma_data[idx], dist, maxdist/4)\n",
    "    \n",
    "    mat.setValues(row, col, val)\n",
    "\n",
    "mat.assemblyEnd()"
   ]
  },
  {
   "cell_type": "code",
   "execution_count": null,
   "metadata": {
    "collapsed": true
   },
   "outputs": [],
   "source": [
    "indptr, indices, values = mat.getValuesCSR()\n",
    "\n",
    "mat_csr = sparse.csr_matrix((values, indices, indptr), shape=(data.size, data.size))\n",
    "mat_dense = mat_csr.todense()"
   ]
  },
  {
   "cell_type": "markdown",
   "metadata": {},
   "source": [
    "---\n",
    "\n",
    "**Plot of covariance matrix**"
   ]
  },
  {
   "cell_type": "code",
   "execution_count": null,
   "metadata": {},
   "outputs": [],
   "source": [
    "fig = plt.figure()\n",
    "ax1 = fig.add_subplot(111)\n",
    "im1 = ax1.imshow(mat_dense)\n",
    "fig.colorbar(im1)"
   ]
  },
  {
   "cell_type": "code",
   "execution_count": null,
   "metadata": {},
   "outputs": [],
   "source": [
    "res_mult = mat_dense*data.reshape(-1,1)\n",
    "res_linalg = data * np.linalg.solve(mat_dense, data)\n",
    "\n",
    "plt.plot(x, data)\n",
    "plt.plot(x, res_mult)\n",
    "# plt.plot(x, res_linalg)"
   ]
  },
  {
   "cell_type": "code",
   "execution_count": null,
   "metadata": {
    "collapsed": true
   },
   "outputs": [],
   "source": []
  }
 ],
 "metadata": {
  "kernelspec": {
   "display_name": "Python 2",
   "language": "python",
   "name": "python2"
  },
  "language_info": {
   "codemirror_mode": {
    "name": "ipython",
    "version": 2
   },
   "file_extension": ".py",
   "mimetype": "text/x-python",
   "name": "python",
   "nbconvert_exporter": "python",
   "pygments_lexer": "ipython2",
   "version": "2.7.12"
  }
 },
 "nbformat": 4,
 "nbformat_minor": 2
}
