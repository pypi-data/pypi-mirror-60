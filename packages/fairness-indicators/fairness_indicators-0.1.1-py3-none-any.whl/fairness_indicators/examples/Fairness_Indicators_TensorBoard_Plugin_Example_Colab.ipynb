{
  "cells": [
    {
      "cell_type": "markdown",
      "metadata": {
        "colab_type": "text",
        "id": "aalPefrUUplk"
      },
      "source": [
        "# Fairness Indicators TensorBoard Plugin Example Colab"
      ]
    },
    {
      "cell_type": "markdown",
      "metadata": {
        "colab_type": "text",
        "id": "UZ48WFLwbCL6"
      },
      "source": [
        "##Overview\n",
        "\n",
        "In this activity, you'll use [Fairness Indicators for TensorBoard](https://github.com/tensorflow/tensorboard/tree/master/docs/fairness-indicators.md). With the plugin, you can visualize fairness evaluations for your runs and easily compare performance across groups.\n"
      ]
    },
    {
      "cell_type": "markdown",
      "metadata": {
        "colab_type": "text",
        "id": "u33JXdluZ2lG"
      },
      "source": [
        "# Importing\n",
        "\n",
        "Run the following code to install the required libraries."
      ]
    },
    {
      "cell_type": "code",
      "execution_count": 0,
      "metadata": {
        "colab": {},
        "colab_type": "code",
        "id": "EoRNffG599XP"
      },
      "outputs": [],
      "source": [
        "!pip install --upgrade pip\n",
        "!pip install fairness-indicators\n",
        "!pip install tensorflow_hub\n",
        "!pip install tensorboard_plugin_fairness_indicators\n",
        "# tensorboard_plugin_fairness_indicators has a dependency on tb-nightly and\n",
        "# installing tb-nightly can cause a version conflict with tensorboard installed\n",
        "# transitively from fairness-indicators. To avoid it, uninstall tensorboard\n",
        "# before installing tb-nightly.\n",
        "!pip uninstall -y tensorboard \n",
        "!pip install --upgrade tb-nightly"
      ]
    },
    {
      "cell_type": "markdown",
      "metadata": {
        "colab_type": "text",
        "id": "mglfaM4_mtIk"
      },
      "source": [
        "**Restart the runtime.** After the runtime is restarted, continue with following cells without running previous cell again."
      ]
    },
    {
      "cell_type": "code",
      "execution_count": 0,
      "metadata": {
        "colab": {},
        "colab_type": "code",
        "id": "B8dlyTyiTe-9"
      },
      "outputs": [],
      "source": [
        "%tensorflow_version 1.x\n",
        "\n",
        "import datetime\n",
        "import os\n",
        "import tempfile\n",
        "from tensorboard_plugin_fairness_indicators import summary_v2\n",
        "import tensorflow as tf\n",
        "\n",
        "# example_model.py is provided in fairness_indicators package to train and\n",
        "# evaluate an example model. \n",
        "from fairness_indicators import example_model\n",
        "\n",
        "tf.compat.v1.enable_eager_execution()"
      ]
    },
    {
      "cell_type": "markdown",
      "metadata": {
        "colab_type": "text",
        "id": "TsplOJGqWCf5"
      },
      "source": [
        "# Data and Constants"
      ]
    },
    {
      "cell_type": "code",
      "execution_count": 0,
      "metadata": {
        "colab": {},
        "colab_type": "code",
        "id": "NdLBi6tN5i7I"
      },
      "outputs": [],
      "source": [
        "# To know about dataset, check Fairness Indicators Example Colab at:\n",
        "# https://github.com/tensorflow/fairness-indicators/blob/master/fairness_indicators/examples/Fairness_Indicators_Example_Colab.ipynb\n",
        "\n",
        "train_tf_file = tf.keras.utils.get_file('train.tf', 'https://storage.googleapis.com/civil_comments_dataset/train_tf_processed.tfrecord')\n",
        "validate_tf_file = tf.keras.utils.get_file('validate.tf', 'https://storage.googleapis.com/civil_comments_dataset/validate_tf_processed.tfrecord')\n",
        "\n",
        "BASE_DIR = tempfile.gettempdir()\n",
        "TEXT_FEATURE = 'comment_text'\n",
        "LABEL = 'toxicity'\n",
        "FEATURE_MAP = {\n",
        "    # Label:\n",
        "    LABEL: tf.io.FixedLenFeature([], tf.float32),\n",
        "    # Text:\n",
        "    TEXT_FEATURE: tf.io.FixedLenFeature([], tf.string),\n",
        "\n",
        "    # Identities:\n",
        "    'sexual_orientation': tf.io.VarLenFeature(tf.string),\n",
        "    'gender': tf.io.VarLenFeature(tf.string),\n",
        "    'religion': tf.io.VarLenFeature(tf.string),\n",
        "    'race': tf.io.VarLenFeature(tf.string),\n",
        "    'disability': tf.io.VarLenFeature(tf.string),\n",
        "}"
      ]
    },
    {
      "cell_type": "markdown",
      "metadata": {
        "colab_type": "text",
        "id": "mfbgerCsEOmN"
      },
      "source": [
        "# Train the Model"
      ]
    },
    {
      "cell_type": "code",
      "execution_count": 0,
      "metadata": {
        "colab": {},
        "colab_type": "code",
        "id": "YwoC-dzEDid3"
      },
      "outputs": [],
      "source": [
        "model_dir = os.path.join(BASE_DIR, 'train',\n",
        "                         datetime.datetime.now().strftime('%Y%m%d-%H%M%S'))\n",
        "\n",
        "classifier = example_model.train_model(model_dir,\n",
        "                                       train_tf_file,\n",
        "                                       LABEL,\n",
        "                                       TEXT_FEATURE,\n",
        "                                       FEATURE_MAP)"
      ]
    },
    {
      "cell_type": "markdown",
      "metadata": {
        "colab_type": "text",
        "id": "jTPqije9Eg5b"
      },
      "source": [
        "# Run TensorFlow Model Analysis with Fairness Indicators\n",
        "This step might take 2 to 5 minutes."
      ]
    },
    {
      "cell_type": "code",
      "execution_count": 0,
      "metadata": {
        "colab": {},
        "colab_type": "code",
        "id": "QLjiy5VCzlRw"
      },
      "outputs": [],
      "source": [
        "tfma_eval_result_path = os.path.join(BASE_DIR, 'tfma_eval_result')\n",
        "\n",
        "example_model.evaluate_model(classifier,\n",
        "                             validate_tf_file,\n",
        "                             tfma_eval_result_path,\n",
        "                             'gender',\n",
        "                             LABEL,\n",
        "                             FEATURE_MAP)"
      ]
    },
    {
      "cell_type": "markdown",
      "metadata": {
        "colab_type": "text",
        "id": "U1ROnulYc8Ub"
      },
      "source": [
        "# Visualize Fairness Indicators in TensorBoard\n",
        "\n",
        "\n",
        "Below you will visualize Fairness Indicators in Tensorboard and compare performance of each slice of the data on selected metrics. You can adjust the baseline comparison slice as well as the displayed threshold(s) using the drop down menus at the top of the visualization. You can also select different evaluation runs using the drop down menu at the top-left corner."
      ]
    },
    {
      "cell_type": "markdown",
      "metadata": {
        "colab_type": "text",
        "id": "zCV-Jo0xda6g"
      },
      "source": [
        "## Write Fairness Indicators Summary\n",
        "Write summary file containing all required information to visualize Fairness Indicators in TensorBoard."
      ]
    },
    {
      "cell_type": "code",
      "execution_count": 0,
      "metadata": {
        "colab": {},
        "colab_type": "code",
        "id": "JNaNhTCTAMHm"
      },
      "outputs": [],
      "source": [
        "writer = tf.compat.v2.summary.create_file_writer(\n",
        "    os.path.join(model_dir, 'fairness_indicators'))\n",
        "with writer.as_default():\n",
        "  summary_v2.FairnessIndicators(tfma_eval_result_path, step=1)\n",
        "writer.close()"
      ]
    },
    {
      "cell_type": "markdown",
      "metadata": {
        "colab_type": "text",
        "id": "MB2Gfm9BdXVY"
      },
      "source": [
        "## Launch TensorBoard\n",
        "Navigate to \"Fairness Indicators\" tab to visualize Fairness Indicators."
      ]
    },
    {
      "cell_type": "code",
      "execution_count": 0,
      "metadata": {
        "colab": {},
        "colab_type": "code",
        "id": "UiHhDWu8tyEI"
      },
      "outputs": [],
      "source": [
        "%load_ext tensorboard"
      ]
    },
    {
      "cell_type": "code",
      "execution_count": 0,
      "metadata": {
        "colab": {},
        "colab_type": "code",
        "id": "ix6d718udWsK"
      },
      "outputs": [],
      "source": [
        "%tensorboard --logdir=$model_dir"
      ]
    }
  ],
  "metadata": {
    "accelerator": "GPU",
    "colab": {
      "collapsed_sections": [],
      "name": "Fairness Indicators TensorBoard Plugin Example Colab.ipynb",
      "private_outputs": true,
      "provenance": []
    },
    "kernelspec": {
      "display_name": "Python 3",
      "name": "python3"
    }
  },
  "nbformat": 4,
  "nbformat_minor": 0
}
