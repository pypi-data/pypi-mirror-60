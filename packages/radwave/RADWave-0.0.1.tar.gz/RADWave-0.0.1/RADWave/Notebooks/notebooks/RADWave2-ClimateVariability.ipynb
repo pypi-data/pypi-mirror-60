{
 "cells": [
  {
   "cell_type": "code",
   "execution_count": null,
   "metadata": {},
   "outputs": [],
   "source": [
    "import io\n",
    "import scipy\n",
    "import requests\n",
    "import numpy as np \n",
    "import pandas as pd\n",
    "\n",
    "import RADWave as rwave\n",
    "\n",
    "%matplotlib inline\n",
    "%config InlineBackend.figure_format = 'svg'"
   ]
  },
  {
   "cell_type": "code",
   "execution_count": null,
   "metadata": {},
   "outputs": [],
   "source": []
  },
  {
   "cell_type": "code",
   "execution_count": null,
   "metadata": {},
   "outputs": [],
   "source": [
    "wa = rwave.waveAnalysis(altimeterURL='../dataset/IMOS_NZ.txt', bbox=[175.0,177.0,-47.0,-45.0], \n",
    "                  stime=[1985,1,1], etime=[2019,12,31])"
   ]
  },
  {
   "cell_type": "code",
   "execution_count": null,
   "metadata": {},
   "outputs": [],
   "source": [
    "wa.processingAltimeterData(altimeter_pick='all', saveCSV = 'altimeterData.csv')"
   ]
  },
  {
   "cell_type": "code",
   "execution_count": null,
   "metadata": {},
   "outputs": [],
   "source": [
    "wa.visualiseData(title=\"Altimeter data tracks offshore New Zealand\", extent=[166.,179.,-48.,-42.], \n",
    "                 addcity=None, markersize=30, zoom=8,\n",
    "                 fsize=(10, 9), fsave=None)"
   ]
  },
  {
   "cell_type": "code",
   "execution_count": null,
   "metadata": {},
   "outputs": [],
   "source": []
  },
  {
   "cell_type": "code",
   "execution_count": null,
   "metadata": {},
   "outputs": [],
   "source": [
    "wa.timeSeries()"
   ]
  },
  {
   "cell_type": "code",
   "execution_count": null,
   "metadata": {},
   "outputs": [],
   "source": [
    "wa.plotTimeSeries(time=[1995,2019], series='H', fsize=(12, 5), fsave=None)\n",
    "wa.plotTimeSeries(time=[1995,2019], series='T', fsize=(12, 5), fsave=None)"
   ]
  },
  {
   "cell_type": "code",
   "execution_count": null,
   "metadata": {},
   "outputs": [],
   "source": [
    "wh_all = wa.seriesSeasonMonth(series='wh', time=[1995,2020], lonlat=None, fsave=None, plot=True)"
   ]
  },
  {
   "cell_type": "code",
   "execution_count": null,
   "metadata": {},
   "outputs": [],
   "source": [
    "T_all = wa.seriesSeasonMonth(series='period', time=[1995,2019], lonlat=None, fsave=None, plot=False)"
   ]
  },
  {
   "cell_type": "code",
   "execution_count": null,
   "metadata": {},
   "outputs": [],
   "source": []
  },
  {
   "cell_type": "code",
   "execution_count": null,
   "metadata": {},
   "outputs": [],
   "source": [
    "time = [1998,2018] "
   ]
  },
  {
   "cell_type": "code",
   "execution_count": null,
   "metadata": {},
   "outputs": [],
   "source": [
    "url = \"https://www.ncdc.noaa.gov/teleconnections/enso/indicators/soi/data.csv\"\n",
    "soi = requests.get(url).content\n",
    "soi_data = pd.read_csv(io.StringIO(soi.decode('utf-8')),skiprows=1)\n",
    "\n",
    "soi_data['year'] = soi_data['Date'] // 100\n",
    "soi_data['month'] = soi_data['Date'] % 100 \n",
    "\n"
   ]
  },
  {
   "cell_type": "code",
   "execution_count": null,
   "metadata": {},
   "outputs": [],
   "source": [
    "soi_df = soi_data.drop(soi_data[soi_data.year < time[0]].index)\n",
    "soi_df = soi_df.drop(soi_df[soi_df.year > time[1]].index)"
   ]
  },
  {
   "cell_type": "code",
   "execution_count": null,
   "metadata": {},
   "outputs": [],
   "source": [
    "soi_mean = soi_df['Value'].mean()\n",
    "soi_df['anomaly'] = soi_df['Value']-soi_mean"
   ]
  },
  {
   "cell_type": "code",
   "execution_count": null,
   "metadata": {},
   "outputs": [],
   "source": []
  },
  {
   "cell_type": "code",
   "execution_count": null,
   "metadata": {},
   "outputs": [],
   "source": []
  },
  {
   "cell_type": "code",
   "execution_count": null,
   "metadata": {},
   "outputs": [],
   "source": [
    "url = \"https://www.cpc.ncep.noaa.gov/products/precip/CWlink/daily_ao_index/aao/monthly.aao.index.b79.current.ascii\"\n",
    "aoi = requests.get(url).content\n",
    "aoi_data = pd.read_csv(io.StringIO(aoi.decode('utf-8')),delimiter=r\"\\s+\",header=None)\n",
    "\n",
    "aoi_data = aoi_data.rename(columns={0:\"year\", 1:\"month\", 2:\"Value\"})"
   ]
  },
  {
   "cell_type": "code",
   "execution_count": null,
   "metadata": {},
   "outputs": [],
   "source": [
    "aoi_df = aoi_data.drop(aoi_data[aoi_data.year < time[0]].index)\n",
    "aoi_df = aoi_df.drop(aoi_df[aoi_df.year > time[1]].index)"
   ]
  },
  {
   "cell_type": "code",
   "execution_count": null,
   "metadata": {},
   "outputs": [],
   "source": [
    "aoi_mean = aoi_df['Value'].mean()\n",
    "aoi_df['anomaly'] = aoi_df['Value']-aoi_mean"
   ]
  },
  {
   "cell_type": "code",
   "execution_count": null,
   "metadata": {},
   "outputs": [],
   "source": []
  },
  {
   "cell_type": "code",
   "execution_count": null,
   "metadata": {},
   "outputs": [],
   "source": []
  },
  {
   "cell_type": "code",
   "execution_count": null,
   "metadata": {},
   "outputs": [],
   "source": [
    "url = \"http://www.nerc-bas.ac.uk/public/icd/gjma/newsam.1957.2007.txt\"\n",
    "sam = requests.get(url).content\n",
    "sam_data = pd.read_csv(io.StringIO(sam.decode('utf-8')),delimiter=r\"\\s+\")\n",
    "\n",
    "sam_data = sam_data.rename(columns={\"JAN\":1, \"FEB\":2,\n",
    "                      \"MAR\":3, \"APR\":4,\n",
    "                      \"MAY\":5, \"JUN\":6,\n",
    "                      \"JUL\":7, \"AUG\":8,\n",
    "                      \"SEP\": 9, \"OCT\":10,\n",
    "                      \"NOV\":11, \"DEC\":12})\n",
    "\n",
    "sam_data = sam_data.stack().reset_index()\n",
    "sam_data = sam_data.rename(columns={\"level_0\":\"year\", \"level_1\":\"month\", 0:\"Value\"})"
   ]
  },
  {
   "cell_type": "code",
   "execution_count": null,
   "metadata": {},
   "outputs": [],
   "source": [
    "sam_df = sam_data.drop(sam_data[sam_data.year < time[0]].index)\n",
    "sam_df = sam_df.drop(sam_df[sam_df.year > time[1]].index)"
   ]
  },
  {
   "cell_type": "code",
   "execution_count": null,
   "metadata": {},
   "outputs": [],
   "source": [
    "sam_mean = sam_df['Value'].mean()\n",
    "sam_df['anomaly'] = sam_df['Value']-sam_mean"
   ]
  },
  {
   "cell_type": "code",
   "execution_count": null,
   "metadata": {},
   "outputs": [],
   "source": []
  },
  {
   "cell_type": "code",
   "execution_count": null,
   "metadata": {},
   "outputs": [],
   "source": [
    "wh_data = wa.timeseries.groupby(['year', 'month'])[['period']].apply(np.mean).reset_index()\n",
    "wh_df = wh_data.drop(wh_data[wh_data.year < time[0]].index)\n",
    "wh_df = wh_df.drop(wh_df[wh_df.year > time[1]].index)"
   ]
  },
  {
   "cell_type": "code",
   "execution_count": null,
   "metadata": {},
   "outputs": [],
   "source": [
    "wh_mean = wh_df['period'].mean()\n",
    "wh_df['anomaly'] = wh_df['period']-wh_mean"
   ]
  },
  {
   "cell_type": "code",
   "execution_count": null,
   "metadata": {},
   "outputs": [],
   "source": []
  },
  {
   "cell_type": "code",
   "execution_count": null,
   "metadata": {},
   "outputs": [],
   "source": [
    "monthly_wh_soi = scipy.stats.pearsonr(soi_df['anomaly'],wh_df['anomaly']) #indicates when it is la nina, wh increases (soi la nina is when pos)\n",
    "monthly_wh_soi"
   ]
  },
  {
   "cell_type": "code",
   "execution_count": null,
   "metadata": {},
   "outputs": [],
   "source": [
    "monthly_wh_sam = scipy.stats.pearsonr(sam_df['anomaly'],wh_df['anomaly']) #indicates when it is la nina, wh increases (soi la nina is when pos)\n",
    "monthly_wh_sam"
   ]
  },
  {
   "cell_type": "code",
   "execution_count": null,
   "metadata": {},
   "outputs": [],
   "source": [
    "monthly_wh_aoi = scipy.stats.pearsonr(aoi_df['anomaly'],wh_df['anomaly']) #indicates when it is la nina, wh increases (soi la nina is when pos)\n",
    "monthly_wh_aoi"
   ]
  },
  {
   "cell_type": "code",
   "execution_count": null,
   "metadata": {},
   "outputs": [],
   "source": []
  }
 ],
 "metadata": {
  "kernelspec": {
   "display_name": "Python 3",
   "language": "python",
   "name": "python3"
  },
  "language_info": {
   "codemirror_mode": {
    "name": "ipython",
    "version": 3
   },
   "file_extension": ".py",
   "mimetype": "text/x-python",
   "name": "python",
   "nbconvert_exporter": "python",
   "pygments_lexer": "ipython3",
   "version": "3.5.3"
  }
 },
 "nbformat": 4,
 "nbformat_minor": 2
}
