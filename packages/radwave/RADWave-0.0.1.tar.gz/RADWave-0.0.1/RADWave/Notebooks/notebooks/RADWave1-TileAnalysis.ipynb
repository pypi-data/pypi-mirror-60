{
 "cells": [
  {
   "cell_type": "code",
   "execution_count": 1,
   "metadata": {},
   "outputs": [],
   "source": [
    "import RADWave as rwave\n",
    "\n",
    "%matplotlib inline\n",
    "%config InlineBackend.figure_format = 'svg'"
   ]
  },
  {
   "cell_type": "code",
   "execution_count": 2,
   "metadata": {},
   "outputs": [],
   "source": [
    "wa = rwave.waveAnalysis(altimeterURL='../dataset/IMOSURLs.txt', bbox=[152.0,155.0,-36.0,-34.0], \n",
    "                  stime=[1985,1,1], etime=[2018,12,31])"
   ]
  },
  {
   "cell_type": "code",
   "execution_count": 3,
   "metadata": {},
   "outputs": [
    {
     "name": "stdout",
     "output_type": "stream",
     "text": [
      "Processing Altimeter Dataset \n",
      "\n",
      "   +  name JASON-2     / number of tracks 6   \n",
      "   +  name JASON-3     / number of tracks 4   \n",
      "   +  name SARAL       / number of tracks 6   \n",
      "   +  name SENTINEL-3A / number of tracks 6   \n",
      "   +  name CRYOSAT-2   / number of tracks 6   \n",
      "   +  name ENVISAT     / number of tracks 6   \n",
      "   +  name GEOSAT      / number of tracks 6   \n",
      "   +  name ERS-2       / number of tracks 6   \n",
      "   +  name GFO         / number of tracks 6   \n",
      "   +  name TOPEX       / number of tracks 6   \n",
      " \n",
      "Processing altimeter dataset took:  15 s\n",
      "fgfgfgf 58\n"
     ]
    }
   ],
   "source": [
    "wa.processingAltimeterData(altimeter_pick='all', saveCSV = 'altimeterData.csv')\n",
    "\n",
    "#wa.readingAltimeterData(saveCSV = 'altimeterData.csv')"
   ]
  },
  {
   "cell_type": "code",
   "execution_count": null,
   "metadata": {},
   "outputs": [],
   "source": [
    "wa.visualiseData(title=\"Altimeter data tracks\", extent=[149.,158.,-38.,-32.], \n",
    "                 addcity=['Sydney', 151.2093, -33.8688], markersize=40, zoom=8,\n",
    "                 fsize=(8, 7), fsave='altimeterdata')"
   ]
  },
  {
   "cell_type": "code",
   "execution_count": null,
   "metadata": {},
   "outputs": [],
   "source": [
    "wa.timeSeries()"
   ]
  },
  {
   "cell_type": "code",
   "execution_count": null,
   "metadata": {},
   "outputs": [],
   "source": [
    "wa.plotTimeSeries(series='T', fsize=(12, 5), fsave='seriesT')"
   ]
  },
  {
   "cell_type": "code",
   "execution_count": null,
   "metadata": {},
   "outputs": [],
   "source": [
    "wa.plotTimeSeries(time=[1995,2016], series='H', fsize=(12, 5), fsave='seriesH')"
   ]
  },
  {
   "cell_type": "code",
   "execution_count": null,
   "metadata": {},
   "outputs": [],
   "source": [
    "list(wa.timeseries)"
   ]
  },
  {
   "cell_type": "code",
   "execution_count": null,
   "metadata": {
    "scrolled": false
   },
   "outputs": [],
   "source": [
    "wh_all = wa.seriesSeasonMonth(series='wh', time=[1998,2018], lonlat=None, fsave='whall', plot=True)"
   ]
  },
  {
   "cell_type": "code",
   "execution_count": null,
   "metadata": {},
   "outputs": [],
   "source": [
    "wh_all"
   ]
  },
  {
   "cell_type": "code",
   "execution_count": null,
   "metadata": {},
   "outputs": [],
   "source": []
  },
  {
   "cell_type": "code",
   "execution_count": null,
   "metadata": {},
   "outputs": [],
   "source": [
    "tiles = []\n",
    "lonlat = []\n",
    "tiles.append([152.0,153.0,-36.0,-35.0])\n",
    "lonlat.append([152.5,-35.5])\n",
    "\n",
    "tiles.append([153.0,154.0,-36.0,-35.0])\n",
    "lonlat.append([153.5,-35.5])\n",
    "\n",
    "tiles.append([152.0,153.0,-35.0,-34.0])\n",
    "lonlat.append([152.5,-34.5])\n",
    "\n",
    "tiles.append([153.0,154.0,-35.0,-34.0])\n",
    "lonlat.append([153.5,-34.5])\n",
    "\n",
    "seasons = []\n",
    "for k in range(4):\n",
    "    seasons.append(wa.seriesSeasonMonth(series='wh', time=[1998,2018], \n",
    "                                        lonlat=tiles[k], plot=False))"
   ]
  },
  {
   "cell_type": "code",
   "execution_count": null,
   "metadata": {},
   "outputs": [],
   "source": [
    "import matplotlib.pyplot as plt\n",
    "import matplotlib.ticker as mticker\n",
    "from matplotlib.transforms import offset_copy\n",
    "from mpl_toolkits.axes_grid1 import make_axes_locatable\n",
    "from pandas.plotting import register_matplotlib_converters\n",
    "register_matplotlib_converters()\n",
    "\n",
    "plt.rcParams['mathtext.fontset'] = 'cm'\n",
    "\n",
    "fig, ax = plt.subplots(figsize = (8,4))\n",
    "\n",
    "for k in range(4):\n",
    "    yearwh = seasons[k]['mean']\n",
    "    yearwh.plot(marker='o', linestyle='dashed', linewidth=2, markersize=8)\n",
    "    \n",
    "ax.set_title('Annual value for each tile',fontsize = 12)\n",
    "ax.set_ylabel(\"Hs (m)\",fontsize = 12)\n",
    "ax.set_xlabel('Years',fontsize = 11)\n",
    "ax.legend([lonlat[0],lonlat[1],lonlat[2],lonlat[3]])\n",
    "ax.yaxis.set_tick_params(labelsize=10)\n",
    "ax.xaxis.set_tick_params(labelsize=10, rotation=45)\n",
    "plt.tight_layout()\n",
    "plt.show()"
   ]
  },
  {
   "cell_type": "code",
   "execution_count": null,
   "metadata": {},
   "outputs": [],
   "source": []
  }
 ],
 "metadata": {
  "kernelspec": {
   "display_name": "Python 3",
   "language": "python",
   "name": "python3"
  },
  "language_info": {
   "codemirror_mode": {
    "name": "ipython",
    "version": 3
   },
   "file_extension": ".py",
   "mimetype": "text/x-python",
   "name": "python",
   "nbconvert_exporter": "python",
   "pygments_lexer": "ipython3",
   "version": "3.5.3"
  }
 },
 "nbformat": 4,
 "nbformat_minor": 2
}
