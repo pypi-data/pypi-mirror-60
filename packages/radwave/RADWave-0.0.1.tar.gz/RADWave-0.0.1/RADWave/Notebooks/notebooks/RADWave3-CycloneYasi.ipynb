{
 "cells": [
  {
   "cell_type": "markdown",
   "metadata": {},
   "source": [
    "Cyclone track: http://www.bom.gov.au/cyclone/history/tracks/"
   ]
  },
  {
   "cell_type": "code",
   "execution_count": null,
   "metadata": {},
   "outputs": [],
   "source": [
    "import RADWave as rwave\n",
    "\n",
    "%matplotlib inline\n",
    "\n",
    "%config InlineBackend.figure_format = 'svg'"
   ]
  },
  {
   "cell_type": "code",
   "execution_count": null,
   "metadata": {},
   "outputs": [],
   "source": [
    "cyc = rwave.waveAnalysis(cycloneCSV='../dataset/2010-YASI.csv')"
   ]
  },
  {
   "cell_type": "code",
   "execution_count": null,
   "metadata": {},
   "outputs": [],
   "source": [
    "cyc.plotCycloneTracks(title=\"Cyclone YASI Track\", markersize=100, zoom=4, \n",
    "                     extent=[138, 180, -30, -10], fsize=(12, 10))"
   ]
  },
  {
   "cell_type": "code",
   "execution_count": null,
   "metadata": {},
   "outputs": [],
   "source": []
  },
  {
   "cell_type": "code",
   "execution_count": null,
   "metadata": {},
   "outputs": [],
   "source": [
    "wa_east = rwave.waveAnalysis(altimeterURL='../dataset/IMOS_YASI_east.txt', bbox=[170, 175, -17, -12], \n",
    "                  stime=[2011,1,27], etime=[2011,2,4], cycloneCSV='../dataset/2010-YASI.csv')\n",
    "\n",
    "wa_east.processingAltimeterData(altimeter_pick='all', saveCSV = 'altimeterDataE.csv')"
   ]
  },
  {
   "cell_type": "code",
   "execution_count": null,
   "metadata": {},
   "outputs": [],
   "source": [
    "wa_west = rwave.waveAnalysis(altimeterURL='../dataset/IMOS_YASI_west.txt', bbox=[156, 161, -16, -12], \n",
    "                  stime=[2011,1,27], etime=[2011,2,4], cycloneCSV='../dataset/2010-YASI.csv')\n",
    "\n",
    "wa_west.processingAltimeterData(altimeter_pick='all', saveCSV = 'altimeterDataW.csv')"
   ]
  },
  {
   "cell_type": "code",
   "execution_count": null,
   "metadata": {},
   "outputs": [],
   "source": [
    "wa_east.visualiseData(title=\"Altimeter data east side\", extent=[138, 180, -30, -10.0], \n",
    "                 markersize=35, zoom=4, fsize=(12, 10), fsave=None)\n",
    "\n",
    "wa_west.visualiseData(title=\"Altimeter data west side\", extent=[138, 180, -30, -10.0], \n",
    "                 markersize=35, zoom=4, fsize=(12, 10), fsave=None)"
   ]
  },
  {
   "cell_type": "code",
   "execution_count": null,
   "metadata": {},
   "outputs": [],
   "source": []
  },
  {
   "cell_type": "code",
   "execution_count": null,
   "metadata": {},
   "outputs": [],
   "source": [
    "wa_east.timeSeries()\n",
    "\n",
    "wa_west.timeSeries()"
   ]
  },
  {
   "cell_type": "code",
   "execution_count": null,
   "metadata": {
    "scrolled": false
   },
   "outputs": [],
   "source": [
    "wa_east.close2Track(radius=2.,dtmax=6.)\n",
    "display(wa_east.cyclone_data)\n",
    "\n",
    "wa_west.close2Track(radius=2.,dtmax=6.)\n",
    "display(wa_west.cyclone_data)"
   ]
  },
  {
   "cell_type": "code",
   "execution_count": null,
   "metadata": {},
   "outputs": [],
   "source": [
    "wa_east.cycloneAltiPoint(showinfo=False, extent=[138, 180, -18, -10], \n",
    "                 markersize=35, zoom=4, fsize=(12, 5))"
   ]
  },
  {
   "cell_type": "code",
   "execution_count": null,
   "metadata": {},
   "outputs": [],
   "source": [
    "wa_west.cycloneAltiPoint(showinfo=False, extent=[138, 180, -18, -10], \n",
    "                 markersize=35, zoom=4, fsize=(12, 5))"
   ]
  },
  {
   "cell_type": "code",
   "execution_count": null,
   "metadata": {
    "scrolled": false
   },
   "outputs": [],
   "source": [
    "wa_west.cycloneAltiPoint(showinfo=True, extent=[138, 180, -18, -10], \n",
    "                 markersize=35, zoom=4, fsize=(12, 5))"
   ]
  },
  {
   "cell_type": "code",
   "execution_count": null,
   "metadata": {},
   "outputs": [],
   "source": []
  }
 ],
 "metadata": {
  "kernelspec": {
   "display_name": "Python 3",
   "language": "python",
   "name": "python3"
  },
  "language_info": {
   "codemirror_mode": {
    "name": "ipython",
    "version": 3
   },
   "file_extension": ".py",
   "mimetype": "text/x-python",
   "name": "python",
   "nbconvert_exporter": "python",
   "pygments_lexer": "ipython3",
   "version": "3.5.3"
  }
 },
 "nbformat": 4,
 "nbformat_minor": 2
}
