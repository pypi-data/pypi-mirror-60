{
 "cells": [
  {
   "cell_type": "markdown",
   "metadata": {},
   "source": [
    "# Calculating some simple fiber metrics\n",
    "\n",
    "**Scott Prahl**\n",
    "\n",
    "**20 Jan 2020**"
   ]
  },
  {
   "cell_type": "code",
   "execution_count": 1,
   "metadata": {},
   "outputs": [],
   "source": [
    "%matplotlib inline\n",
    "import numpy as np\n",
    "import matplotlib.pyplot as plt\n",
    "from scipy.special import jn_zeros\n",
    "\n",
    "try:\n",
    "    import ofiber as of\n",
    "except:\n",
    "    print(\"***** You need to install the ofiber module first           *****\")\n",
    "    print(\"***** Execute the following line in a new cell, then retry *****\")\n",
    "    print()\n",
    "    print(\"!{sys.executable} -m pip install ofiber\")"
   ]
  },
  {
   "cell_type": "markdown",
   "metadata": {},
   "source": [
    "## The relative refractive index or $\\Delta$\n",
    "\n",
    "Compare result with an approximation."
   ]
  },
  {
   "cell_type": "code",
   "execution_count": 2,
   "metadata": {},
   "outputs": [
    {
     "name": "stdout",
     "output_type": "stream",
     "text": [
      "Help on function relative_refractive_index in module ofiber.basics:\n",
      "\n",
      "relative_refractive_index(n_core, n_clad)\n",
      "    Calculate the relative refractive index (Delta) for an optical fiber.\n",
      "    \n",
      "    Args:\n",
      "        n_core :  the index of refraction of the fiber core      [-]\n",
      "        n_clad:  the index of refraction of the fiber cladding   [-]\n",
      "    \n",
      "    Returns:\n",
      "        the relative refractive index (Delta)                    [-]\n",
      "\n"
     ]
    }
   ],
   "source": [
    "help(of.relative_refractive_index)"
   ]
  },
  {
   "cell_type": "code",
   "execution_count": 3,
   "metadata": {},
   "outputs": [
    {
     "name": "stdout",
     "output_type": "stream",
     "text": [
      "Delta = 0.01333 (approximation)\n",
      "Delta = 0.01324\n"
     ]
    }
   ],
   "source": [
    "d=3e-6 #m\n",
    "n2= 1.48\n",
    "n1 = 1.5\n",
    "Delta = (n1-n2)/n1\n",
    "print(\"Delta = %.5f (approximation)\"%Delta)\n",
    "Delta = of.relative_refractive_index(n1,n2)  #exact\n",
    "print(\"Delta = %.5f\"%Delta)"
   ]
  },
  {
   "cell_type": "markdown",
   "metadata": {},
   "source": [
    "## Numerical Aperture of step index fiber\n",
    "\n",
    "A convenience method to find the numerical aperture given the core and cladding index."
   ]
  },
  {
   "cell_type": "code",
   "execution_count": 4,
   "metadata": {},
   "outputs": [
    {
     "name": "stdout",
     "output_type": "stream",
     "text": [
      "Help on function numerical_aperture in module ofiber.basics:\n",
      "\n",
      "numerical_aperture(n_core, n_clad)\n",
      "    Calculate the numerical aperture of an optical fiber.\n",
      "    \n",
      "    Args:\n",
      "        n_core : the index of refraction of the fiber core      [-]\n",
      "        n_clad : the index of refraction of the fiber cladding  [-]\n",
      "    \n",
      "    Returns:\n",
      "        numerical aperture                                      [-]\n",
      "\n"
     ]
    }
   ],
   "source": [
    "help(of.numerical_aperture)"
   ]
  },
  {
   "cell_type": "code",
   "execution_count": 5,
   "metadata": {},
   "outputs": [
    {
     "name": "stdout",
     "output_type": "stream",
     "text": [
      "NA    = 0.2449 (approximation)\n",
      "NA    = 0.2441\n"
     ]
    }
   ],
   "source": [
    "d=3e-6 #m\n",
    "n2= 1.48\n",
    "n1 = 1.5\n",
    "Delta = (n1-n2)/n1\n",
    "\n",
    "NA = n1*np.sqrt(2*Delta)\n",
    "print(\"NA    = %.4f (approximation)\"%NA)\n",
    "NA = of.numerical_aperture(n1,n2)\n",
    "print(\"NA    = %.4f\"%NA)"
   ]
  },
  {
   "cell_type": "markdown",
   "metadata": {},
   "source": [
    "We can easily make plots.  Here is the variation of the exact numerical aperture and that obtained with the approximation to $\\Delta$"
   ]
  },
  {
   "cell_type": "code",
   "execution_count": 6,
   "metadata": {},
   "outputs": [
    {
     "data": {
      "image/png": "[encoded data removed]",
      "text/plain": [
       "<Figure size 432x288 with 1 Axes>"
      ]
     },
     "metadata": {
      "needs_background": "light"
     },
     "output_type": "display_data"
    }
   ],
   "source": [
    "a=2e-6\n",
    "n2= 1.45\n",
    "Delta = np.linspace(0.0064,0.1,50)\n",
    "n1 = n2/(1-Delta)\n",
    "NA = of.numerical_aperture(n1,n2)\n",
    "\n",
    "plt.plot(Delta,NA,label='actual')\n",
    "plt.plot(Delta,n1*np.sqrt(2*Delta),':b',label=r'$n_1\\sqrt{2\\Delta}$')\n",
    "plt.xlabel(r'Relative Refractive Index $\\Delta$ ')\n",
    "plt.ylabel('Numerical Aperture [-]')\n",
    "plt.title(r'Fiber Diameter = %.1f $\\mu$m, $n_{clad}$=%.2f'%(2*a*1e6,n2))\n",
    "\n",
    "plt.legend()\n",
    "plt.show()"
   ]
  },
  {
   "cell_type": "markdown",
   "metadata": {},
   "source": [
    "## V-parameter\n",
    "\n",
    "This helps characterize the number of modes in a fiber.  If $V\\gg 2.4$ then the number of modes is \n",
    "$$\n",
    "N \\approx \\frac{V^2}{2}\n",
    "$$"
   ]
  },
  {
   "cell_type": "code",
   "execution_count": 7,
   "metadata": {},
   "outputs": [
    {
     "name": "stdout",
     "output_type": "stream",
     "text": [
      "Help on function v_parameter in module ofiber.basics:\n",
      "\n",
      "v_parameter(a, NA, lambda0)\n",
      "    Calculate the V-parameter for an optical fiber.\n",
      "    \n",
      "    Args:\n",
      "        a :       radius of the fiber              [m]\n",
      "        NA :      numerical aperture of the fiber  [-]\n",
      "        lambda0 : wavelength in vacuum             [m]\n",
      "    \n",
      "    Returns:\n",
      "        V-parameter                                [-]\n",
      "\n"
     ]
    }
   ],
   "source": [
    "help(of.v_parameter)"
   ]
  },
  {
   "cell_type": "code",
   "execution_count": 8,
   "metadata": {},
   "outputs": [
    {
     "data": {
      "image/png": "[encoded data removed]",
      "text/plain": [
       "<Figure size 432x288 with 1 Axes>"
      ]
     },
     "metadata": {
      "needs_background": "light"
     },
     "output_type": "display_data"
    }
   ],
   "source": [
    "d=9e-6                                    # m\n",
    "lambda0 = np.linspace(1000,1600,100)*1e-9 # m\n",
    "\n",
    "clad = of.doped_glass(0)     # pure SiO2\n",
    "nclad = of.n(clad,lambda0)\n",
    "\n",
    "core = of.doped_glass(0.02)  # 2% GeO2\n",
    "ncore = of.n(core,lambda0)\n",
    "\n",
    "NA = of.numerical_aperture(ncore,nclad)\n",
    "V = of.v_parameter(d/2,NA,lambda0)\n",
    "\n",
    "plt.plot(lambda0*1e9,V)\n",
    "plt.axhspan(1.6,2.4,color='blue',alpha=0.1)\n",
    "plt.ylabel(r'Fiber V-Parameter')\n",
    "plt.xlabel('Wavelength [nm]')\n",
    "plt.title(r'Fiber Diameter = %.1f $\\mu$m,'%(d*1e6))\n",
    "plt.text(1050, 1.9, \"Single Mode Operation\")\n",
    "plt.show()"
   ]
  },
  {
   "cell_type": "markdown",
   "metadata": {},
   "source": [
    "## Cutoff Wavelength"
   ]
  },
  {
   "cell_type": "code",
   "execution_count": 9,
   "metadata": {},
   "outputs": [
    {
     "name": "stdout",
     "output_type": "stream",
     "text": [
      "Help on function cutoff_wavelength in module ofiber.basics:\n",
      "\n",
      "cutoff_wavelength(a, NA, ell=0, q=inf)\n",
      "    Calculate the cutoff wavelength for an optical fiber.\n",
      "    \n",
      "    The default operation is for this function to calculate the cutoff\n",
      "    wavelength for the fundamental mode of a step-index fiber.  The cutoff\n",
      "    wavelength for higher order modes may be found by specifying a different\n",
      "    value of ell.\n",
      "    \n",
      "    If the cutoff wavelength for a graded index fiber is desired, then specify\n",
      "    a different value for q.\n",
      "    \n",
      "    Args:\n",
      "        a :   radius of the fiber                               [m]\n",
      "        NA :  numerical aperture of the fiber                   [-]\n",
      "        ell : (optional) mode number                            [-]\n",
      "        q :   (optional) parameter for graded index fiber       [-]\n",
      "    \n",
      "    Returns:\n",
      "        shortest wavelength for operation in the specified mode [m]\n",
      "\n"
     ]
    }
   ],
   "source": [
    "help(of.cutoff_wavelength)"
   ]
  },
  {
   "cell_type": "code",
   "execution_count": 10,
   "metadata": {},
   "outputs": [
    {
     "name": "stdout",
     "output_type": "stream",
     "text": [
      "Cutoff wavelength is 863 nm\n"
     ]
    }
   ],
   "source": [
    "a      = 2e-6    # m\n",
    "Delta  = 0.0064\n",
    "n2     = 1.45\n",
    "n1     = n2/(1-Delta)\n",
    "NA     = n1*np.sqrt(2*Delta)\n",
    "lambdac=of.cutoff_wavelength(a,NA)\n",
    "\n",
    "print(\"Cutoff wavelength is %.0f nm\"%(lambdac*1e9))"
   ]
  },
  {
   "cell_type": "markdown",
   "metadata": {},
   "source": [
    "### Example page 21 in Powers\n",
    "\n",
    "The effect of a graded index fiber on the cutoff wavelength."
   ]
  },
  {
   "cell_type": "code",
   "execution_count": 11,
   "metadata": {},
   "outputs": [
    {
     "name": "stdout",
     "output_type": "stream",
     "text": [
      "Cutoff wavelength is 1135 nm (step-index)\n",
      "Cutoff wavelength is 803 nm (parabolic fiber)\n"
     ]
    }
   ],
   "source": [
    "d=8e-6            # m\n",
    "a=d/2             # m\n",
    "lambda0 = 1300e-9 # m\n",
    "\n",
    "n1 = 1.46\n",
    "V = 2.1\n",
    "NA = V/2/np.pi*lambda0/a\n",
    "\n",
    "lambdac=of.cutoff_wavelength(a,NA)\n",
    "print(\"Cutoff wavelength is %.0f nm (step-index)\"%(lambdac*1e9))\n",
    "\n",
    "lambdac=of.cutoff_wavelength(a,NA,q=2)\n",
    "print(\"Cutoff wavelength is %.0f nm (parabolic fiber)\"%(lambdac*1e9))"
   ]
  },
  {
   "cell_type": "markdown",
   "metadata": {},
   "source": [
    "Finally, how does the cutoff wavelength depend on the relative refractive index?"
   ]
  },
  {
   "cell_type": "code",
   "execution_count": 12,
   "metadata": {},
   "outputs": [
    {
     "data": {
      "image/png": "[encoded data removed]",
      "text/plain": [
       "<Figure size 432x288 with 1 Axes>"
      ]
     },
     "metadata": {
      "needs_background": "light"
     },
     "output_type": "display_data"
    }
   ],
   "source": [
    "a=2e-6\n",
    "n2= 1.45\n",
    "Delta = np.linspace(0.001,0.02,50)\n",
    "\n",
    "n1 = n2/(1-Delta)\n",
    "NA = of.numerical_aperture(n1,n2)\n",
    "lambdac = of.cutoff_wavelength(a,NA)\n",
    "\n",
    "plt.plot(Delta,lambdac*1e9)\n",
    "plt.xlabel(r'Relative Refractive Index $\\Delta$ ')\n",
    "plt.ylabel('Cutoff Wavelength [nm]')\n",
    "plt.title(r'Fiber Diameter = %.1f $\\mu$m, $n_{clad}$=%.2f'%(2*a*1e6,n2))\n",
    "plt.show()"
   ]
  }
 ],
 "metadata": {
  "kernel_info": {
   "name": "python3"
  },
  "kernelspec": {
   "display_name": "Python 3",
   "language": "python",
   "name": "python3"
  },
  "language_info": {
   "codemirror_mode": {
    "name": "ipython",
    "version": 3
   },
   "file_extension": ".py",
   "mimetype": "text/x-python",
   "name": "python",
   "nbconvert_exporter": "python",
   "pygments_lexer": "ipython3",
   "version": "3.7.5"
  },
  "nteract": {
   "version": "0.15.0"
  }
 },
 "nbformat": 4,
 "nbformat_minor": 4
}
