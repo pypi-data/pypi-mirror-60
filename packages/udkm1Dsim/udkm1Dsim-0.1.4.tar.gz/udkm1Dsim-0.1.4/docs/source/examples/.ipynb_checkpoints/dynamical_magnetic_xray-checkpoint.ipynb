{
 "cells": [
  {
   "cell_type": "markdown",
   "metadata": {},
   "source": [
    "# Dynamical Magnetic Xray Scattering\n",
    "\n",
    "This notebook includes examples of the basic usage of dynamical magnetic X-ray scattering."
   ]
  },
  {
   "cell_type": "markdown",
   "metadata": {},
   "source": [
    "## Setup"
   ]
  },
  {
   "cell_type": "code",
   "execution_count": null,
   "metadata": {},
   "outputs": [],
   "source": [
    "import udkm1Dsim as ud\n",
    "u = ud.u #  import the pint unit registry from udkm1Dsim\n",
    "import scipy.constants as constants\n",
    "import numpy as np\n",
    "import matplotlib.pyplot as plt\n",
    "%matplotlib inline\n",
    "u.setup_matplotlib() #  use matplotlib with pint units"
   ]
  },
  {
   "cell_type": "markdown",
   "metadata": {},
   "source": [
    "## Atom creation\n",
    "\n",
    "Initialize all required atoms using the `Atom` class."
   ]
  },
  {
   "cell_type": "code",
   "execution_count": null,
   "metadata": {},
   "outputs": [],
   "source": [
    "Fe = ud.Atom('Fe')\n",
    "Cr = ud.Atom('Cr')\n",
    "Si = ud.Atom('Si')"
   ]
  },
  {
   "cell_type": "markdown",
   "metadata": {},
   "source": [
    "## Unit cell creation\n",
    "\n",
    "Create all required unit cells using the `UnitCell` class and add `Atom` objects to them."
   ]
  },
  {
   "cell_type": "code",
   "execution_count": null,
   "metadata": {},
   "outputs": [],
   "source": [
    "# c-axis\n",
    "c_Fe = 2.86*u.angstrom\n",
    "c_Cr = 2.91*u.angstrom\n",
    "c_Si = 5*u.angstrom\n",
    "\n",
    "# we only care basic properties for now\n",
    "propFe = {}\n",
    "propFe['a_axis'] = c_Fe # aAxis\n",
    "propFe['b_axis'] = c_Fe # bAxis\n",
    "\n",
    "Fe_uc = ud.UnitCell('Fe', 'Fe', c_Fe, **propFe)\n",
    "Fe_uc.add_atom(Fe, 0)\n",
    "Fe_uc.add_atom(Fe, 0.5)\n",
    "\n",
    "propCr = {}\n",
    "propCr['a_axis'] = c_Cr # aAxis\n",
    "propCr['b_axis'] = c_Cr # bAxis\n",
    "\n",
    "Cr_uc = ud.UnitCell('Cr', 'Cr', c_Cr, **propCr)\n",
    "Cr_uc.add_atom(Cr, 0)\n",
    "Cr_uc.add_atom(Cr, 0.5)\n",
    "\n",
    "propSi = {}\n",
    "propSi['a_axis'] = c_Si # aAxis\n",
    "propSi['b_axis'] = c_Si # bAxis\n",
    "\n",
    "Si_uc = ud.UnitCell('Si', 'Si', c_Si, **propSi)\n",
    "Si_uc.add_atom(Si, 0)"
   ]
  },
  {
   "cell_type": "markdown",
   "metadata": {},
   "source": [
    "## Structure creation\n",
    "\n",
    "Create an actual sample using the `Structure` class and add `UnitCell` objects to it."
   ]
  },
  {
   "cell_type": "code",
   "execution_count": null,
   "metadata": {},
   "outputs": [],
   "source": [
    "N_Fe = 5\n",
    "N_Cr = 4\n",
    "\n",
    "S = ud.Structure('Super Lattice')\n",
    "\n",
    "DL = ud.Structure('Double Layer Fe+Cr')\n",
    "DL.add_sub_structure(Fe_uc, N_Fe)\n",
    "DL.add_sub_structure(Cr_uc, N_Cr)\n",
    "\n",
    "S.add_sub_structure(DL, 20)\n",
    "\n",
    "# add Si substrate\n",
    "substrate = ud.Structure('Si substrate')\n",
    "substrate.add_sub_structure(Si_uc, 1000)\n",
    "S.add_substrate(substrate)\n",
    "\n",
    "distances, _, _ = S.get_distances_of_unit_cells() # distance vecotor of all unit cells"
   ]
  },
  {
   "cell_type": "markdown",
   "metadata": {},
   "source": [
    "## Strain map creation\n",
    "\n",
    "Since the `Heat` and `Phonon` simulations are not implemented, yet, the `strain_map` is created by a simple script, which mimics a strain wave traveling into the sample."
   ]
  },
  {
   "cell_type": "code",
   "execution_count": null,
   "metadata": {},
   "outputs": [],
   "source": [
    "delays = np.r_[-10:30:1]*u.ps #  define the delays of the simulations\n",
    "strain_map = np.zeros([len(delays), S.get_number_of_unit_cells()]) #  allocate size of the strain_map\n",
    "\n",
    "for i, delay in enumerate(delays):\n",
    "    factor = 10\n",
    "    width = 100\n",
    "    if delay > 0:\n",
    "        end = int(delay.magnitude * factor)\n",
    "        start = end - width\n",
    "        if start < 0: start = 0\n",
    "        if end < 0: end = 0\n",
    "        strain_map[i, start:end] = 0.005\n",
    "\n",
    "# strain_vectors are a subset of the strain_map and are required to speed up the xray simulations\n",
    "strain_vectors =  [np.array(np.linspace(np.min(strain_map), np.max(strain_map), 100))]*S.get_number_of_unique_unit_cells()\n",
    "\n",
    "# plot the artifical strain_map\n",
    "plt.figure()\n",
    "plt.contourf(distances, delays, strain_map)\n",
    "plt.title('Strain Map')\n",
    "plt.colorbar()\n",
    "plt.show()"
   ]
  },
  {
   "cell_type": "markdown",
   "metadata": {},
   "source": [
    "## Initialize dynamical magnetic Xray simulation\n",
    "\n",
    "Create a dynamical Xray simulation using the `XrayDynMag` class and add a `Structure` object as sample.\n",
    "Also set the photon energy and $q_z$ range for the actual simulations."
   ]
  },
  {
   "cell_type": "code",
   "execution_count": null,
   "metadata": {},
   "outputs": [],
   "source": [
    "force_recalc = True #  always recalculate results and do not consider cached results\n",
    "mag = ud.XrayDynMag(S, force_recalc)\n",
    "mag.disp_messages = True #  enable displaying messages from within the simulations\n",
    "mag.save_data = False #  do not save results for caching"
   ]
  },
  {
   "cell_type": "markdown",
   "metadata": {},
   "source": [
    "## Homogeneous Xray simulation\n",
    "\n",
    "For the case of homogeneously strained samples, the dynamical Xray scattering simulations can be greatly simplyfied, which saves a lot of computational time."
   ]
  },
  {
   "cell_type": "markdown",
   "metadata": {},
   "source": [
    "### $q_z$-scan"
   ]
  },
  {
   "cell_type": "code",
   "execution_count": null,
   "metadata": {},
   "outputs": [],
   "source": [
    "mag.energy = np.r_[600, 710]*u.eV #  set two photon energies\n",
    "mag.qz = np.r_[0.01:5:0.01]/u.nm #  qz range\n",
    "\n",
    "R_hom = mag.homogeneous_reflectivity() #  this is the actual calculation\n",
    "\n",
    "plt.figure()\n",
    "plt.semilogy(mag.qz[0, :], R_hom[0, :], label='{}'.format(mag.energy[0]), alpha=0.5)\n",
    "plt.semilogy(mag.qz[1, :], R_hom[1, :], label='{}'.format(mag.energy[1]), alpha=0.5)\n",
    "plt.ylabel('Reflectivity')\n",
    "plt.legend()\n",
    "plt.show()"
   ]
  },
  {
   "cell_type": "markdown",
   "metadata": {},
   "source": [
    "### Post-Processing\n",
    "\n",
    "Simple convolution of the results with an arbitrary function handle."
   ]
  },
  {
   "cell_type": "code",
   "execution_count": null,
   "metadata": {},
   "outputs": [],
   "source": [
    "FWHM = 0.01/1e-10 # Angstrom\n",
    "sigma = FWHM /2.3548\n",
    "        \n",
    "handle = lambda x: np.exp(-((x)/sigma)**2/2)\n",
    "y_conv = mag.conv_with_function(R_hom[0,:], mag._qz[0,:], handle)\n",
    "\n",
    "plt.figure()\n",
    "plt.semilogy(mag.qz[0,:], R_hom[0,:], label='{}'.format(mag.energy[0]))\n",
    "plt.semilogy(mag.qz[0,:], y_conv, label='{} convoluted'.format(mag.energy[0]))\n",
    "plt.ylabel('Reflectivity')\n",
    "plt.legend()\n",
    "plt.show()"
   ]
  },
  {
   "cell_type": "markdown",
   "metadata": {},
   "source": [
    "### Energy-scan"
   ]
  },
  {
   "cell_type": "code",
   "execution_count": null,
   "metadata": {},
   "outputs": [],
   "source": [
    "mag.energy = np.r_[680:750:0.01]*u.eV #  set the energy range\n",
    "mag.qz = np.r_[2.5]/u.nm # qz range\n",
    "\n",
    "R_hom= mag.homogeneous_reflectivity() #  this is the actual calculation\n",
    "\n",
    "plt.figure()\n",
    "plt.plot(mag.energy, R_hom[:, 0])\n",
    "plt.ylabel('Reflectivity')\n",
    "plt.show()"
   ]
  },
  {
   "cell_type": "markdown",
   "metadata": {},
   "source": [
    "## Sequential dynamical Xray simulation\n",
    "\n",
    "Do a time-resolved magnetic xray scatting simulation for the above defined `strain_map` without parallelization."
   ]
  },
  {
   "cell_type": "code",
   "execution_count": null,
   "metadata": {},
   "outputs": [],
   "source": [
    "%%time\n",
    "mag.energy = np.r_[600, 710]*u.eV #  set two photon energies\n",
    "mag.qz = np.r_[0.1:5:0.1]/u.nm #  qz range\n",
    "\n",
    "R_seq = mag.inhomogeneous_reflectivity(strain_map, strain_vectors)"
   ]
  },
  {
   "cell_type": "markdown",
   "metadata": {},
   "source": [
    "### Sequential Results"
   ]
  },
  {
   "cell_type": "code",
   "execution_count": null,
   "metadata": {},
   "outputs": [],
   "source": [
    "for i, energy in enumerate(mag.energy):\n",
    "    plt.figure()\n",
    "    plt.contourf(mag.qz[i,:], delays, np.log10(R_seq[:, i, :]), levels=100)\n",
    "    plt.title('{:0.1f} eV'.format(energy.magnitude))\n",
    "    plt.show()"
   ]
  },
  {
   "cell_type": "markdown",
   "metadata": {},
   "source": [
    "## Parallel dynamical Xray scattering\n",
    "\n",
    "Parallelization needs still to be implemented, but will work similarly as with XrayDyn.\n",
    "\n",
    "You need to install the `udkm1Dsim` with the `parallel` option which essentially add the Dask package to the requirements:\n",
    "\n",
    "```\n",
    "> pip install udkm1Dsim[parallel]\n",
    "```\n",
    "\n",
    "You can also install/add Dask manually, e.g. via pip:\n",
    "\n",
    "```\n",
    "> pip install dask\n",
    "```\n",
    "\n",
    "Please refer to the [Dask documentation](https://docs.dask.org/en/latest/) for more details on parallel computing in Python.\n"
   ]
  },
  {
   "cell_type": "markdown",
   "metadata": {},
   "source": [
    "# Polarization Dependence"
   ]
  },
  {
   "cell_type": "markdown",
   "metadata": {},
   "source": [
    "## Non-Magnetic sample\n",
    "\n",
    "The current sample is currently not magnetic, therefore, there should no scattering from sigma to pi and vice versa."
   ]
  },
  {
   "cell_type": "code",
   "execution_count": null,
   "metadata": {},
   "outputs": [],
   "source": [
    "mag.energy = np.r_[710]*u.eV #  set two photon energies\n",
    "mag.qz = np.r_[0.01:5:0.01]/u.nm #  qz range\n",
    "\n",
    "\n",
    "plt.figure()\n",
    "mag.set_polarization(3, 3)\n",
    "R_hom = mag.homogeneous_reflectivity() #  this is the actual calculation\n",
    "plt.semilogy(mag.qz[0, :], R_hom[0, :], label='{}: sigma -> sigma'.format(mag.energy[0]), alpha=0.5)\n",
    "\n",
    "mag.set_polarization(3, 4)\n",
    "R_hom = mag.homogeneous_reflectivity() #  this is the actual calculation\n",
    "plt.semilogy(mag.qz[0, :], R_hom[0, :], label='{}: sigma -> pi'.format(mag.energy[0]), alpha=0.5)\n",
    "\n",
    "plt.ylabel('Reflectivity')\n",
    "plt.title('non-magnetic sample: sigma')\n",
    "plt.legend()\n",
    "plt.show()"
   ]
  },
  {
   "cell_type": "code",
   "execution_count": null,
   "metadata": {},
   "outputs": [],
   "source": [
    "mag.energy = np.r_[710]*u.eV #  set two photon energies\n",
    "mag.qz = np.r_[0.01:5:0.01]/u.nm #  qz range\n",
    "\n",
    "\n",
    "plt.figure()\n",
    "mag.set_polarization(4, 4)\n",
    "R_hom = mag.homogeneous_reflectivity() #  this is the actual calculation\n",
    "plt.semilogy(mag.qz[0, :], R_hom[0, :], label='{}: pi -> pi'.format(mag.energy[0]), alpha=0.5)\n",
    "\n",
    "mag.set_polarization(4, 3)\n",
    "R_hom = mag.homogeneous_reflectivity() #  this is the actual calculation\n",
    "plt.semilogy(mag.qz[0, :], R_hom[0, :], label='{}: pi -> sigma'.format(mag.energy[0]), alpha=0.5)\n",
    "\n",
    "plt.ylabel('Reflectivity')\n",
    "plt.title('non-magnetic sample: pi')\n",
    "plt.legend()\n",
    "plt.show()"
   ]
  },
  {
   "cell_type": "markdown",
   "metadata": {},
   "source": [
    "## Magnetic Sample\n",
    "\n",
    "Now compare the scattering with a ferromagnetic and antiferromagnetic sample structure."
   ]
  },
  {
   "cell_type": "code",
   "execution_count": null,
   "metadata": {},
   "outputs": [],
   "source": [
    "# Fe atom with magnetization in-plane to the left\n",
    "Fe_left = ud.Atom('Fe', mag_amplitude=1, mag_phi=90*u.deg, mag_gamma=90*u.deg, id='Fe left')\n",
    "# Fe atom with magnetization in-plane to the right\n",
    "Fe_right = ud.Atom('Fe', mag_amplitude=1, mag_phi=90*u.deg, mag_gamma=270*u.deg, id='Fe right')\n",
    "\n",
    "# Fe unit cell with left in-plane magnetization\n",
    "Fe_uc_left = ud.UnitCell('Fe_left', 'Fe', c_Fe, **propFe)\n",
    "Fe_uc_left.add_atom(Fe_left, 0)\n",
    "Fe_uc_left.add_atom(Fe_left, 0.5)\n",
    "\n",
    "# Fe unit cell with right in-plane magnetization\n",
    "Fe_uc_right = ud.UnitCell('Fe_right', 'Fe', c_Fe, **propFe)\n",
    "Fe_uc_right.add_atom(Fe_right, 0)\n",
    "Fe_uc_right.add_atom(Fe_right, 0.5)"
   ]
  },
  {
   "cell_type": "markdown",
   "metadata": {},
   "source": [
    "### FM Sample"
   ]
  },
  {
   "cell_type": "code",
   "execution_count": null,
   "metadata": {},
   "outputs": [],
   "source": [
    "N_Fe = 5\n",
    "N_Cr = 4\n",
    "\n",
    "SFM = ud.Structure('FM Super Lattice')\n",
    "\n",
    "DLFM = ud.Structure('FM Double Layer Fe+Cr')\n",
    "DLFM.add_sub_structure(Fe_uc_left, N_Fe)\n",
    "DLFM.add_sub_structure(Cr_uc, N_Cr)\n",
    "\n",
    "SFM.add_sub_structure(DLFM, 20)\n",
    "\n",
    "# add Si substrate\n",
    "SFM.add_substrate(substrate)\n",
    "\n",
    "distances, _, _ = SFM.get_distances_of_unit_cells() # distance vecotor of all unit cells\n",
    "\n",
    "mag.S = SFM # replace the sample in the current simulation"
   ]
  },
  {
   "cell_type": "code",
   "execution_count": null,
   "metadata": {},
   "outputs": [],
   "source": [
    "mag.energy = np.r_[710]*u.eV #  set two photon energies\n",
    "mag.qz = np.r_[0.01:5:0.01]/u.nm #  qz range\n",
    "\n",
    "\n",
    "plt.figure()\n",
    "mag.set_polarization(3, 3)\n",
    "R_hom = mag.homogeneous_reflectivity() #  this is the actual calculation\n",
    "plt.semilogy(mag.qz[0, :], R_hom[0, :], label='{}: sigma -> sigma'.format(mag.energy[0]), alpha=0.5)\n",
    "\n",
    "mag.set_polarization(3, 4)\n",
    "R_hom = mag.homogeneous_reflectivity() #  this is the actual calculation\n",
    "plt.semilogy(mag.qz[0, :], R_hom[0, :], label='{}: sigma -> pi'.format(mag.energy[0]), alpha=0.5)\n",
    "\n",
    "plt.ylabel('Reflectivity')\n",
    "plt.title('FM sample: sigma')\n",
    "plt.legend()\n",
    "plt.show()"
   ]
  },
  {
   "cell_type": "code",
   "execution_count": null,
   "metadata": {},
   "outputs": [],
   "source": [
    "mag.energy = np.r_[710]*u.eV #  set two photon energies\n",
    "mag.qz = np.r_[0.01:5:0.01]/u.nm #  qz range\n",
    "\n",
    "\n",
    "plt.figure()\n",
    "mag.set_polarization(4, 4)\n",
    "R_hom = mag.homogeneous_reflectivity() #  this is the actual calculation\n",
    "plt.semilogy(mag.qz[0, :], R_hom[0, :], label='{}: pi -> pi'.format(mag.energy[0]), alpha=0.5)\n",
    "\n",
    "mag.set_polarization(4, 3)\n",
    "R_hom = mag.homogeneous_reflectivity() #  this is the actual calculation\n",
    "plt.semilogy(mag.qz[0, :], R_hom[0, :], label='{}: pi -> sigma'.format(mag.energy[0]), alpha=0.5)\n",
    "\n",
    "plt.ylabel('Reflectivity')\n",
    "plt.title('FM sample: pi')\n",
    "plt.legend()\n",
    "plt.show()"
   ]
  },
  {
   "cell_type": "code",
   "execution_count": null,
   "metadata": {},
   "outputs": [],
   "source": [
    "mag.energy = np.r_[710]*u.eV #  set two photon energies\n",
    "mag.qz = np.r_[0.01:5:0.01]/u.nm #  qz range\n",
    "\n",
    "\n",
    "plt.figure()\n",
    "mag.set_polarization(1, 0)\n",
    "R_hom = mag.homogeneous_reflectivity() #  this is the actual calculation\n",
    "plt.semilogy(mag.qz[0, :], R_hom[0, :], label='{}: circ +'.format(mag.energy[0]), alpha=0.5)\n",
    "\n",
    "mag.set_polarization(2, 0)\n",
    "R_hom = mag.homogeneous_reflectivity() #  this is the actual calculation\n",
    "plt.semilogy(mag.qz[0, :], R_hom[0, :], label='{}: circ -'.format(mag.energy[0]), alpha=0.5)\n",
    "\n",
    "plt.ylabel('Reflectivity')\n",
    "plt.title('FM sample: circular')\n",
    "plt.legend()\n",
    "plt.show()"
   ]
  },
  {
   "cell_type": "markdown",
   "metadata": {},
   "source": [
    "Same again with the non-magnetic sample"
   ]
  },
  {
   "cell_type": "code",
   "execution_count": null,
   "metadata": {},
   "outputs": [],
   "source": [
    "mag.S = S # change again to the inital sample\n",
    "\n",
    "mag.energy = np.r_[710]*u.eV #  set two photon energies\n",
    "mag.qz = np.r_[0.01:5:0.01]/u.nm #  qz range\n",
    "\n",
    "\n",
    "plt.figure()\n",
    "mag.set_polarization(1, 0)\n",
    "R_hom = mag.homogeneous_reflectivity() #  this is the actual calculation\n",
    "plt.semilogy(mag.qz[0, :], R_hom[0, :], label='{}: circ +'.format(mag.energy[0]), alpha=0.5)\n",
    "\n",
    "mag.set_polarization(2, 0)\n",
    "R_hom = mag.homogeneous_reflectivity() #  this is the actual calculation\n",
    "plt.semilogy(mag.qz[0, :], R_hom[0, :], label='{}: circ -'.format(mag.energy[0]), alpha=0.5)\n",
    "\n",
    "plt.ylabel('Reflectivity')\n",
    "plt.title('FM sample: circular')\n",
    "plt.legend()\n",
    "plt.show()"
   ]
  },
  {
   "cell_type": "markdown",
   "metadata": {},
   "source": [
    "### AFM Sample"
   ]
  },
  {
   "cell_type": "code",
   "execution_count": null,
   "metadata": {},
   "outputs": [],
   "source": [
    "N_Fe = 5\n",
    "N_Cr = 4\n",
    "\n",
    "SAFM = ud.Structure('AFM Super Lattice')\n",
    "\n",
    "DLAFM = ud.Structure('FM Double Layer Fe+Cr')\n",
    "DLAFM.add_sub_structure(Fe_uc_left, N_Fe)\n",
    "DLAFM.add_sub_structure(Cr_uc, N_Cr)\n",
    "DLAFM.add_sub_structure(Fe_uc_right, N_Fe)\n",
    "DLAFM.add_sub_structure(Cr_uc, N_Cr)\n",
    "\n",
    "SAFM.add_sub_structure(DLAFM, 10)\n",
    "\n",
    "# add Si substrate\n",
    "SAFM.add_substrate(substrate)\n",
    "\n",
    "distances, _, _ = SAFM.get_distances_of_unit_cells() # distance vecotor of all unit cells\n",
    "\n",
    "mag.S = SAFM # replace the sample in the current simulation"
   ]
  },
  {
   "cell_type": "code",
   "execution_count": null,
   "metadata": {},
   "outputs": [],
   "source": [
    "mag.energy = np.r_[710]*u.eV #  set two photon energies\n",
    "mag.qz = np.r_[0.01:5:0.01]/u.nm #  qz range\n",
    "\n",
    "\n",
    "plt.figure()\n",
    "\n",
    "mag.set_polarization(3, 0)\n",
    "R_hom = mag.homogeneous_reflectivity() #  this is the actual calculation\n",
    "plt.semilogy(mag.qz[0, :], R_hom[0, :], label='{}: sigma -> unpolarized'.format(mag.energy[0]), alpha=0.5)\n",
    "\n",
    "mag.set_polarization(3, 3)\n",
    "R_hom = mag.homogeneous_reflectivity() #  this is the actual calculation\n",
    "plt.semilogy(mag.qz[0, :], R_hom[0, :], label='{}: sigma -> sigma'.format(mag.energy[0]), alpha=0.5)\n",
    "\n",
    "mag.set_polarization(3, 4)\n",
    "R_hom = mag.homogeneous_reflectivity() #  this is the actual calculation\n",
    "plt.semilogy(mag.qz[0, :], R_hom[0, :], label='{}: sigma -> pi'.format(mag.energy[0]), alpha=0.5)\n",
    "\n",
    "plt.ylabel('Reflectivity')\n",
    "plt.title('AFM sample: sigma')\n",
    "plt.legend()\n",
    "plt.show()"
   ]
  },
  {
   "cell_type": "code",
   "execution_count": null,
   "metadata": {},
   "outputs": [],
   "source": [
    "mag.energy = np.r_[710]*u.eV #  set two photon energies\n",
    "mag.qz = np.r_[0.01:5:0.01]/u.nm #  qz range\n",
    "\n",
    "\n",
    "plt.figure()\n",
    "\n",
    "mag.set_polarization(4, 0)\n",
    "R_hom = mag.homogeneous_reflectivity() #  this is the actual calculation\n",
    "plt.semilogy(mag.qz[0, :], R_hom[0, :], label='{}: pi -> unpolarized'.format(mag.energy[0]), alpha=0.5)\n",
    "\n",
    "mag.set_polarization(4, 4)\n",
    "R_hom = mag.homogeneous_reflectivity() #  this is the actual calculation\n",
    "plt.semilogy(mag.qz[0, :], R_hom[0, :], label='{}: pi -> pi'.format(mag.energy[0]), alpha=0.5)\n",
    "\n",
    "mag.set_polarization(4, 3)\n",
    "R_hom = mag.homogeneous_reflectivity() #  this is the actual calculation\n",
    "plt.semilogy(mag.qz[0, :], R_hom[0, :], label='{}: pi -> sigma'.format(mag.energy[0]), alpha=0.5)\n",
    "\n",
    "plt.ylabel('Reflectivity')\n",
    "plt.title('AFM sample: pi')\n",
    "plt.legend()\n",
    "plt.show()"
   ]
  },
  {
   "cell_type": "code",
   "execution_count": null,
   "metadata": {},
   "outputs": [],
   "source": [
    "mag.energy = np.r_[710]*u.eV #  set two photon energies\n",
    "mag.qz = np.r_[0.01:5:0.01]/u.nm #  qz range\n",
    "\n",
    "\n",
    "plt.figure()\n",
    "mag.set_polarization(1, 0)\n",
    "R_hom = mag.homogeneous_reflectivity() #  this is the actual calculation\n",
    "plt.semilogy(mag.qz[0, :], R_hom[0, :], label='{}: circ +'.format(mag.energy[0]), alpha=0.5)\n",
    "\n",
    "mag.set_polarization(2, 0)\n",
    "R_hom = mag.homogeneous_reflectivity() #  this is the actual calculation\n",
    "plt.semilogy(mag.qz[0, :], R_hom[0, :], label='{}: circ -'.format(mag.energy[0]), alpha=0.5)\n",
    "\n",
    "plt.ylabel('Reflectivity')\n",
    "plt.title('AFM sample: circular')\n",
    "plt.legend()\n",
    "plt.show()"
   ]
  }
 ],
 "metadata": {
  "kernelspec": {
   "display_name": "Python 3",
   "language": "python",
   "name": "python3"
  },
  "language_info": {
   "codemirror_mode": {
    "name": "ipython",
    "version": 3
   },
   "file_extension": ".py",
   "mimetype": "text/x-python",
   "name": "python",
   "nbconvert_exporter": "python",
   "pygments_lexer": "ipython3",
   "version": "3.6.5"
  },
  "toc-autonumbering": true
 },
 "nbformat": 4,
 "nbformat_minor": 4
}
