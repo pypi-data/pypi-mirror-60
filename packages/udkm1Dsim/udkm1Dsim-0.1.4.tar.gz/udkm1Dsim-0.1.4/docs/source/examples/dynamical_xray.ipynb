{
 "cells": [
  {
   "cell_type": "markdown",
   "metadata": {},
   "source": [
    "# Dynamical Xray Scattering"
   ]
  },
  {
   "cell_type": "markdown",
   "metadata": {},
   "source": [
    "## Setup"
   ]
  },
  {
   "cell_type": "code",
   "execution_count": null,
   "metadata": {},
   "outputs": [],
   "source": [
    "import udkm1Dsim as ud\n",
    "u = ud.u #  import the pint unit registry from udkm1Dsim\n",
    "import scipy.constants as constants\n",
    "import numpy as np\n",
    "import matplotlib.pyplot as plt\n",
    "%matplotlib inline\n",
    "u.setup_matplotlib() #  use matplotlib with pint units"
   ]
  },
  {
   "cell_type": "markdown",
   "metadata": {},
   "source": [
    "## Atom creation\n",
    "\n",
    "Initialize all required atoms using the `Atom` class."
   ]
  },
  {
   "cell_type": "code",
   "execution_count": null,
   "metadata": {},
   "outputs": [],
   "source": [
    "O = ud.Atom('O')\n",
    "Ti = ud.Atom('Ti')\n",
    "Sr = ud.Atom('Sr')\n",
    "Ru = ud.Atom('Ru')\n",
    "Pb = ud.Atom('Pb')\n",
    "Zr = ud.Atom('Zr')"
   ]
  },
  {
   "cell_type": "markdown",
   "metadata": {},
   "source": [
    "## Unit cell creation\n",
    "\n",
    "Create all required unit cells using the `UnitCell` class and add `Atom` objects to them."
   ]
  },
  {
   "cell_type": "code",
   "execution_count": null,
   "metadata": {},
   "outputs": [],
   "source": [
    "# c-axis\n",
    "c_STO_sub = 3.905*u.angstrom\n",
    "c_SRO = 3.94897*u.angstrom\n",
    "# sound velocity\n",
    "sv_SRO = 6.312*u.nm/u.ps\n",
    "sv_STO = 7.800*u.nm/u.ps\n",
    "\n",
    "# property dict for SrRuO3\n",
    "propSRO = {}\n",
    "propSRO['a_axis'] = c_STO_sub # aAxis\n",
    "propSRO['b_axis'] = c_STO_sub # bAxis\n",
    "propSRO['deb_Wal_Fac'] = 0 # Debye-Waller factor\n",
    "propSRO['sound_vel'] = sv_SRO # sound velocity\n",
    "propSRO['opt_pen_depth'] = 43.8*u.nm # optical penetration depth\n",
    "propSRO['therm_cond'] = 5.72*u.W/(u.m *u.K) # heat conductivity\n",
    "propSRO['lin_therm_exp'] = 1.03e-5 # linear thermal expansion\n",
    "propSRO['heat_capacity'] = 'lambda T: 455.2 + 0.112*T - 2.1935e6/T**2' # heat capacity [J/kg K]\n",
    "\n",
    "# create unit cell object\n",
    "SRO = ud.UnitCell('SRO', 'SRO', c_SRO, **propSRO)\n",
    "# add atoms to unit cell at relative z-positions\n",
    "SRO.add_atom(O, 0)\n",
    "SRO.add_atom(Sr, 0)\n",
    "SRO.add_atom(O, 0.5)\n",
    "SRO.add_atom(O, 0.5)\n",
    "SRO.add_atom(Ru, 0.5)\n",
    "\n",
    "# property dict for SrTiO3 substrate\n",
    "propSTOsub = {}\n",
    "propSTOsub['a_axis'] = c_STO_sub # aAxis\n",
    "propSTOsub['b_axis'] = c_STO_sub # bAxis\n",
    "propSTOsub['deb_Wal_Fac'] = 0 # Debye-Waller factor\n",
    "propSTOsub['sound_vel'] = sv_STO # sound velocity\n",
    "propSTOsub['opt_pen_depth'] = np.inf*u.nm # optical penetration depth\n",
    "propSTOsub['therm_cond'] = 12*u.W/(u.m *u.K) # heat conductivity\n",
    "propSTOsub['lin_therm_exp'] = 1e-5 # linear thermal expansion\n",
    "propSTOsub['heat_capacity'] = 'lambda T: 733.73 + 0.0248*T - 6.531e6/T**2' # heat capacity [J/kg K]\n",
    "\n",
    "# create unit cell object\n",
    "STO_sub = ud.UnitCell('STOsub', 'STOsub', c_STO_sub, **propSTOsub)\n",
    "# add atoms to unit cell at relative z-positions\n",
    "STO_sub.add_atom(O, 0)\n",
    "STO_sub.add_atom(Sr, 0)\n",
    "STO_sub.add_atom(O, 0.5)\n",
    "STO_sub.add_atom(O, 0.5)\n",
    "STO_sub.add_atom(Ti, 0.5)"
   ]
  },
  {
   "cell_type": "markdown",
   "metadata": {},
   "source": [
    "## Structure creation\n",
    "\n",
    "Create an actual sample using the `Structure` class and add `UnitCell` objects to it."
   ]
  },
  {
   "cell_type": "code",
   "execution_count": null,
   "metadata": {},
   "outputs": [],
   "source": [
    "S = ud.Structure('Single Layer')\n",
    "S.add_sub_structure(SRO, 100) # add 100 layers of SRO to sample\n",
    "S.add_sub_structure(STO_sub, 1000) # add 1000 layers of STO substrate\n",
    "\n",
    "substrate = ud.Structure('STO substrate')\n",
    "substrate.add_sub_structure(STO_sub, 1000000)\n",
    "\n",
    "S.add_substrate(substrate)\n",
    "\n",
    "distances, _, _ = S.get_distances_of_unit_cells() # distance vecotor of all unit cells"
   ]
  },
  {
   "cell_type": "markdown",
   "metadata": {},
   "source": [
    "## Strain map creation\n",
    "\n",
    "Since the `Heat` and `Phonon` simulations are not implemented, yet, the `strain_map` is created by a simple script, which mimics a strain wave traveling into the sample."
   ]
  },
  {
   "cell_type": "code",
   "execution_count": null,
   "metadata": {},
   "outputs": [],
   "source": [
    "delays = np.r_[-10:50:0.5]*u.ps #  define the delays of the simulations\n",
    "strain_map = np.zeros([len(delays), S.get_number_of_unit_cells()]) #  allocate size of the strain_map\n",
    "\n",
    "for i, delay in enumerate(delays):\n",
    "    factor = 10\n",
    "    width = 100\n",
    "    if delay > 0:\n",
    "        end = int(delay.magnitude * factor)\n",
    "        start = end - width\n",
    "        if start < 0: start = 0\n",
    "        if end < 0: end = 0\n",
    "        strain_map[i, start:end] = 0.005\n",
    "\n",
    "# strain_vectors are a subset of the strain_map and are required to speed up the xray simulations\n",
    "strain_vectors =  [np.array(np.linspace(np.min(strain_map), np.max(strain_map), 100))]*S.get_number_of_unique_unit_cells()\n",
    "\n",
    "# plot the artifical strain_map\n",
    "plt.figure()\n",
    "plt.contourf(distances, delays, strain_map)\n",
    "plt.title('Strain Map')\n",
    "plt.colorbar()\n",
    "plt.show()"
   ]
  },
  {
   "cell_type": "markdown",
   "metadata": {},
   "source": [
    "## Initialize dynamical Xray simulation\n",
    "\n",
    "Create a dynamical Xray simulation using the `XrayDyn` class and add a `Structure` object as sample.\n",
    "Also set the photon energy and $q_z$ range for the actual simulations."
   ]
  },
  {
   "cell_type": "code",
   "execution_count": null,
   "metadata": {},
   "outputs": [],
   "source": [
    "force_recalc = True #  always recalculate results and do not consider cached results\n",
    "dyn = ud.XrayDyn(S, force_recalc)\n",
    "dyn.disp_messages = True #  enable displaying messages from within the simulations\n",
    "dyn.save_data = False #  do not save results for caching"
   ]
  },
  {
   "cell_type": "markdown",
   "metadata": {},
   "source": [
    "## Homogeneous Xray simulation\n",
    "\n",
    "For the case of homogeneously strained samples, the dynamical Xray scattering simulations can be greatly simplyfied, which saves a lot of computational time."
   ]
  },
  {
   "cell_type": "markdown",
   "metadata": {},
   "source": [
    "### $q_z$-scan"
   ]
  },
  {
   "cell_type": "code",
   "execution_count": null,
   "metadata": {},
   "outputs": [],
   "source": [
    "dyn.energy = np.r_[5000, 8047]*u.eV #  set two photon energies\n",
    "dyn.qz = np.r_[3:3.5:0.001]/u.angstrom #  qz range\n",
    "\n",
    "R_hom, A = dyn.homogeneous_reflectivity() #  this is the actual calculation\n",
    "\n",
    "plt.figure()\n",
    "plt.semilogy(dyn.qz[0, :], R_hom[0, :], label='{}'.format(dyn.energy[0]), alpha=0.5)\n",
    "plt.semilogy(dyn.qz[1, :], R_hom[1, :], label='{}'.format(dyn.energy[1]), alpha=0.5)\n",
    "plt.ylabel('Reflectivity')\n",
    "plt.legend()\n",
    "plt.show()"
   ]
  },
  {
   "cell_type": "markdown",
   "metadata": {},
   "source": [
    "### Post-Processing\n",
    "\n",
    "Simple convolution of the results with an arbitrary function handle."
   ]
  },
  {
   "cell_type": "code",
   "execution_count": null,
   "metadata": {},
   "outputs": [],
   "source": [
    "FWHM = 0.01/1e-10 # Angstrom\n",
    "sigma = FWHM /2.3548\n",
    "        \n",
    "handle = lambda x: np.exp(-((x)/sigma)**2/2)\n",
    "y_conv = dyn.conv_with_function(R_hom[0,:], dyn._qz[0,:], handle)\n",
    "\n",
    "plt.figure()\n",
    "plt.semilogy(dyn.qz[0,:], R_hom[0,:], label='{}'.format(dyn.energy[0]))\n",
    "plt.semilogy(dyn.qz[0,:], y_conv, label='{} convoluted'.format(dyn.energy[0]))\n",
    "plt.ylabel('Reflectivity')\n",
    "plt.legend()\n",
    "plt.show()"
   ]
  },
  {
   "cell_type": "markdown",
   "metadata": {},
   "source": [
    "### Energy-scan"
   ]
  },
  {
   "cell_type": "code",
   "execution_count": null,
   "metadata": {},
   "outputs": [],
   "source": [
    "dyn.energy = np.r_[2000:10000]*u.eV #  set the energy range\n",
    "dyn.qz = np.r_[1]/u.angstrom # qz range\n",
    "\n",
    "R_hom, A = dyn.homogeneous_reflectivity() #  this is the actual calculation\n",
    "\n",
    "plt.figure()\n",
    "plt.plot(dyn.energy, R_hom[:, 0])\n",
    "plt.ylabel('Reflectivity')\n",
    "plt.show()"
   ]
  },
  {
   "cell_type": "markdown",
   "metadata": {},
   "source": [
    "## Sequential dynamical Xray simulation\n",
    "\n",
    "Do a time-resolved xray scatting simulation for the above defined `strain_map` without parallelization."
   ]
  },
  {
   "cell_type": "code",
   "execution_count": null,
   "metadata": {},
   "outputs": [],
   "source": [
    "%%time\n",
    "dyn.energy = np.r_[5000, 8047]*u.eV #  set two photon energies\n",
    "dyn.qz = np.r_[3:3.5:0.001]/u.angstrom #  qz range\n",
    "\n",
    "R_seq = dyn.inhomogeneous_reflectivity(strain_map, strain_vectors, calc_type='sequential')"
   ]
  },
  {
   "cell_type": "markdown",
   "metadata": {},
   "source": [
    "### Sequential Results"
   ]
  },
  {
   "cell_type": "code",
   "execution_count": null,
   "metadata": {},
   "outputs": [],
   "source": [
    "for i, energy in enumerate(dyn.energy):\n",
    "    plt.figure()\n",
    "    plt.contourf(dyn.qz[i,:], delays, np.log10(R_seq[:, i, :]), levels=100)\n",
    "    plt.title('{:0.1f} eV'.format(energy.magnitude))\n",
    "    plt.show()"
   ]
  },
  {
   "cell_type": "markdown",
   "metadata": {},
   "source": [
    "## Parallel dynamical Xray scattering\n",
    "\n",
    "You need to install the `udkm1Dsim` with the `parallel` option which essentially add the Dask package to the requirements:\n",
    "\n",
    "```\n",
    "> pip install udkm1Dsim[parallel]\n",
    "```\n",
    "\n",
    "You can also install/add Dask manually, e.g. via pip:\n",
    "\n",
    "```\n",
    "> pip install dask\n",
    "```\n",
    "\n",
    "Please refer to the [Dask documentation](https://docs.dask.org/en/latest/) for more details on parallel computing in Python.\n"
   ]
  },
  {
   "cell_type": "code",
   "execution_count": null,
   "metadata": {},
   "outputs": [],
   "source": [
    "try:\n",
    "    from dask.distributed import Client\n",
    "    client = Client()\n",
    "    client\n",
    "\n",
    "    R_par = dyn.inhomogeneous_reflectivity(strain_map, strain_vectors, calc_type='parallel', dask_client=client)\n",
    "\n",
    "    for i, energy in enumerate(dyn.energy):\n",
    "        plt.figure()\n",
    "        plt.contourf(dyn.qz[i,:], delays, np.log10(R_par[:, i, :]), levels=100)\n",
    "        plt.title('{:0.1f} eV'.format(energy.magnitude))\n",
    "        plt.show()\n",
    "except:\n",
    "    pass"
   ]
  }
 ],
 "metadata": {
  "kernelspec": {
   "display_name": "Python 3",
   "language": "python",
   "name": "python3"
  },
  "language_info": {
   "codemirror_mode": {
    "name": "ipython",
    "version": 3
   },
   "file_extension": ".py",
   "mimetype": "text/x-python",
   "name": "python",
   "nbconvert_exporter": "python",
   "pygments_lexer": "ipython3",
   "version": "3.6.5"
  },
  "toc-autonumbering": true
 },
 "nbformat": 4,
 "nbformat_minor": 4
}
