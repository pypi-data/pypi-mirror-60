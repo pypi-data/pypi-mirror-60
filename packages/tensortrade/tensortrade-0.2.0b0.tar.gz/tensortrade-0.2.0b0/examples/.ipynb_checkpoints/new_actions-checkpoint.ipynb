{
 "cells": [
  {
   "cell_type": "code",
   "execution_count": null,
   "metadata": {
    "scrolled": true
   },
   "outputs": [],
   "source": [
    "import tensorflow as tf\n",
    "import pandas as pd\n",
    "\n",
    "from stable_baselines.common.policies import MlpLnLstmPolicy\n",
    "from stable_baselines import PPO2\n",
    "\n",
    "from tensortrade.strategies import StableBaselinesTradingStrategy\n",
    "from tensortrade.environments import TradingEnvironment\n",
    "from tensortrade.rewards import RiskAdjustedReturns\n",
    "from tensortrade.actions import ManagedRiskOrders\n",
    "from tensortrade.instruments import Quantity, TradingPair, BTC, USD\n",
    "from tensortrade.orders.criteria import StopLoss, StopDirection\n",
    "from tensortrade.wallets import Wallet, Portfolio\n",
    "from tensortrade.exchanges.simulated import SimulatedExchange\n",
    "from tensortrade.features.stationarity import LogDifference\n",
    "from tensortrade.features.scalers import MinMaxNormalizer\n",
    "from tensortrade.features import FeaturePipeline\n",
    "\n",
    "WINDOW_SIZE = 1\n",
    "PRICE_COLUMN = 'close'\n",
    "\n",
    "normalize = MinMaxNormalizer(inplace=True)\n",
    "difference = LogDifference(inplace=True)\n",
    "feature_pipeline = FeaturePipeline(steps=[normalize])\n",
    "\n",
    "action_scheme = ManagedRiskOrders(pairs=[USD/BTC])\n",
    "reward_scheme = RiskAdjustedReturns(return_algorithm=\"sortino\")\n",
    "\n",
    "csv_file = tf.keras.utils.get_file(\n",
    "    'Coinbase_BTCUSD_1h.csv', 'https://www.cryptodatadownload.com/cdd/Coinbase_BTCUSD_1h.csv')\n",
    "ohlcv_data = pd.read_csv(csv_file, skiprows=1, index_col=\"Date\")\n",
    "ohlcv_data.columns = map(str.lower, ohlcv_data.columns)\n",
    "ohlcv_data = ohlcv_data.rename(columns={'volume btc': 'volume'})\n",
    "\n",
    "exchange = SimulatedExchange(data_frame=ohlcv_data, price_column=PRICE_COLUMN, randomize_time_slices=True)\n",
    "\n",
    "wallets = [(exchange, USD, 10000), (exchange, BTC, 0)]\n",
    "\n",
    "portfolio = Portfolio(base_instrument=USD, wallet_tuples=wallets)\n",
    "\n",
    "environment = TradingEnvironment(exchange=exchange,\n",
    "                                 portfolio=portfolio,\n",
    "                                 action_scheme=action_scheme,\n",
    "                                 reward_scheme=reward_scheme,\n",
    "                                 feature_pipeline=feature_pipeline,\n",
    "                                 window_size=WINDOW_SIZE,\n",
    "                                 observe_wallets=[USD, BTC])\n",
    "\n",
    "print('Observation Data:')\n",
    "print(environment.observation_columns)\n",
    "\n",
    "model = PPO2\n",
    "policy = MlpLnLstmPolicy\n",
    "params = { \"learning_rate\": 1e-5, 'nminibatches': 1 }\n",
    "\n",
    "strategy = StableBaselinesTradingStrategy(environment=environment,\n",
    "                                          model=model,\n",
    "                                          policy=policy,\n",
    "                                          model_kwargs=params)\n",
    "\n",
    "strategy.run(steps=1000)"
   ]
  },
  {
   "cell_type": "code",
   "execution_count": null,
   "metadata": {},
   "outputs": [],
   "source": []
  }
 ],
 "metadata": {
  "kernelspec": {
   "display_name": "Python 3",
   "language": "python",
   "name": "python3"
  },
  "language_info": {
   "codemirror_mode": {
    "name": "ipython",
    "version": 3
   },
   "file_extension": ".py",
   "mimetype": "text/x-python",
   "name": "python",
   "nbconvert_exporter": "python",
   "pygments_lexer": "ipython3",
   "version": "3.7.4"
  }
 },
 "nbformat": 4,
 "nbformat_minor": 2
}
