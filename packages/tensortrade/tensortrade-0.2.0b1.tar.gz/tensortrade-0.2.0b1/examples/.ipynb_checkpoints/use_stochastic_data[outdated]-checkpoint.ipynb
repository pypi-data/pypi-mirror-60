{
 "cells": [
  {
   "cell_type": "markdown",
   "metadata": {
    "colab_type": "text",
    "id": "VegVdI5SakPo"
   },
   "source": [
    "## Generating Price Data using Stocastic Processes\n",
    "\n",
    "*   Geometric Brownian Motion\n",
    "*   The Merton Jump-Diffusion Model\n",
    "*   The Heston Stochastic Volatility Model\n",
    "*   Cox Ingersoll Ross (CIR)\n",
    "*   Ornstein Uhlebneck stochastic process\n",
    "\n",
    "\n",
    "\n",
    "\n",
    "\n"
   ]
  },
  {
   "cell_type": "markdown",
   "metadata": {
    "colab_type": "text",
    "id": "Sb1ah4EalN1Y"
   },
   "source": [
    "#### Imports"
   ]
  },
  {
   "cell_type": "code",
   "execution_count": 1,
   "metadata": {
    "colab": {},
    "colab_type": "code",
    "id": "C89HmbASlM16"
   },
   "outputs": [
    {
     "name": "stderr",
     "output_type": "stream",
     "text": [
      "WARNING: Logging before flag parsing goes to stderr.\n",
      "W1213 09:23:09.348011 4557950400 deprecation_wrapper.py:119] From /usr/local/lib/python3.7/site-packages/tensorforce/core/module.py:31: The name tf.enable_resource_variables is deprecated. Please use tf.compat.v1.enable_resource_variables instead.\n",
      "\n",
      "W1213 09:23:09.380389 4557950400 deprecation_wrapper.py:119] From /usr/local/lib/python3.7/site-packages/tensorforce/core/optimizers/tf_optimizer.py:46: The name tf.train.AdadeltaOptimizer is deprecated. Please use tf.compat.v1.train.AdadeltaOptimizer instead.\n",
      "\n",
      "W1213 09:23:09.381181 4557950400 deprecation_wrapper.py:119] From /usr/local/lib/python3.7/site-packages/tensorforce/core/optimizers/tf_optimizer.py:47: The name tf.train.AdagradOptimizer is deprecated. Please use tf.compat.v1.train.AdagradOptimizer instead.\n",
      "\n",
      "W1213 09:23:09.382053 4557950400 deprecation_wrapper.py:119] From /usr/local/lib/python3.7/site-packages/tensorforce/core/optimizers/tf_optimizer.py:48: The name tf.train.AdamOptimizer is deprecated. Please use tf.compat.v1.train.AdamOptimizer instead.\n",
      "\n",
      "W1213 09:23:09.382656 4557950400 deprecation_wrapper.py:119] From /usr/local/lib/python3.7/site-packages/tensorforce/core/optimizers/tf_optimizer.py:49: The name tf.train.GradientDescentOptimizer is deprecated. Please use tf.compat.v1.train.GradientDescentOptimizer instead.\n",
      "\n",
      "W1213 09:23:09.383585 4557950400 deprecation_wrapper.py:119] From /usr/local/lib/python3.7/site-packages/tensorforce/core/optimizers/tf_optimizer.py:50: The name tf.train.MomentumOptimizer is deprecated. Please use tf.compat.v1.train.MomentumOptimizer instead.\n",
      "\n"
     ]
    }
   ],
   "source": [
    "from tensortrade.exchanges.simulated.stochastic_exchange import StochasticExchange\n",
    "from tensortrade.exchanges.simulated.stochastic.model_params import ModelParameters"
   ]
  },
  {
   "cell_type": "code",
   "execution_count": 2,
   "metadata": {
    "colab": {},
    "colab_type": "code",
    "id": "_U03fdj2g138"
   },
   "outputs": [
    {
     "ename": "ModuleNotFoundError",
     "evalue": "No module named 'plotly'",
     "output_type": "error",
     "traceback": [
      "\u001b[0;31m---------------------------------------------------------------------------\u001b[0m",
      "\u001b[0;31mModuleNotFoundError\u001b[0m                       Traceback (most recent call last)",
      "\u001b[0;32m<ipython-input-2-9a29e8888e7a>\u001b[0m in \u001b[0;36m<module>\u001b[0;34m()\u001b[0m\n\u001b[1;32m      1\u001b[0m \u001b[0;32mimport\u001b[0m \u001b[0mrandom\u001b[0m\u001b[0;34m\u001b[0m\u001b[0;34m\u001b[0m\u001b[0m\n\u001b[1;32m      2\u001b[0m \u001b[0;32mimport\u001b[0m \u001b[0mmatplotlib\u001b[0m\u001b[0;34m.\u001b[0m\u001b[0mpyplot\u001b[0m \u001b[0;32mas\u001b[0m \u001b[0mplt\u001b[0m\u001b[0;34m\u001b[0m\u001b[0;34m\u001b[0m\u001b[0m\n\u001b[0;32m----> 3\u001b[0;31m \u001b[0;32mimport\u001b[0m \u001b[0mplotly\u001b[0m\u001b[0;34m.\u001b[0m\u001b[0mgraph_objects\u001b[0m \u001b[0;32mas\u001b[0m \u001b[0mgo\u001b[0m\u001b[0;34m\u001b[0m\u001b[0;34m\u001b[0m\u001b[0m\n\u001b[0m\u001b[1;32m      4\u001b[0m \u001b[0;32mimport\u001b[0m \u001b[0mpandas\u001b[0m \u001b[0;32mas\u001b[0m \u001b[0mpd\u001b[0m\u001b[0;34m\u001b[0m\u001b[0;34m\u001b[0m\u001b[0m\n\u001b[1;32m      5\u001b[0m \u001b[0;32mfrom\u001b[0m \u001b[0mdatetime\u001b[0m \u001b[0;32mimport\u001b[0m \u001b[0mdatetime\u001b[0m\u001b[0;34m\u001b[0m\u001b[0;34m\u001b[0m\u001b[0m\n",
      "\u001b[0;31mModuleNotFoundError\u001b[0m: No module named 'plotly'"
     ]
    }
   ],
   "source": [
    "import random\n",
    "import matplotlib.pyplot as plt\n",
    "import plotly.graph_objects as go\n",
    "import pandas as pd\n",
    "from datetime import datetime"
   ]
  },
  {
   "cell_type": "markdown",
   "metadata": {
    "colab_type": "text",
    "id": "2UgwTV1fbrnj"
   },
   "source": [
    "#### GRAPHING THE RESULTS"
   ]
  },
  {
   "cell_type": "markdown",
   "metadata": {
    "colab_type": "text",
    "id": "Rnce4Y_3bz2y"
   },
   "source": [
    "##### Matplotlib (Plotting the raw data)"
   ]
  },
  {
   "cell_type": "code",
   "execution_count": null,
   "metadata": {
    "colab": {},
    "colab_type": "code",
    "id": "WagfgXvxbvPv"
   },
   "outputs": [],
   "source": [
    "def plot_stochastic_processes(data, title):\n",
    "    \"\"\"\n",
    "    This method plots a list of stochastic processes with a specified title\n",
    "    :return: plots the graph of the two\n",
    "    \"\"\"\n",
    "    fig = go.Figure()\n",
    "    fig.add_trace(go.Scatter(x=data.index, y=data['close'], mode='lines', name='Prices'))\n",
    "    fig.update_layout(title=title,\n",
    "                    xaxis_title='TimeStep',\n",
    "                    yaxis_title='Price')\n",
    "    fig.show()"
   ]
  },
  {
   "cell_type": "markdown",
   "metadata": {
    "colab_type": "text",
    "id": "YmEqjdDBb3pL"
   },
   "source": [
    "##### Plotly (Plotting ohlcv)"
   ]
  },
  {
   "cell_type": "code",
   "execution_count": null,
   "metadata": {
    "colab": {},
    "colab_type": "code",
    "id": "Q5aXb-GGb5w_"
   },
   "outputs": [],
   "source": [
    "def plot_ohlcv(data_frame):\n",
    "\n",
    "    fig = go.Figure(data=[go.Candlestick(x=data_frame.index,\n",
    "                    open=data_frame.open,\n",
    "                    high=data_frame.high,\n",
    "                    low=data_frame.low,\n",
    "                    close=data_frame.close)])\n",
    "    fig.show()"
   ]
  },
  {
   "cell_type": "markdown",
   "metadata": {
    "colab_type": "text",
    "id": "BURv7GmupiC4"
   },
   "source": [
    "### Generating Stochastic Data\n",
    "Default FBM Generated Data"
   ]
  },
  {
   "cell_type": "code",
   "execution_count": null,
   "metadata": {
    "colab": {},
    "colab_type": "code",
    "id": "JvAza4bsS9WM"
   },
   "outputs": [],
   "source": [
    "exchange = StochasticExchange()"
   ]
  },
  {
   "cell_type": "code",
   "execution_count": null,
   "metadata": {
    "colab": {
     "base_uri": "https://localhost:8080/",
     "height": 204
    },
    "colab_type": "code",
    "id": "DTzQgIJ_TjP9",
    "outputId": "7cabdda9-b833-4603-b495-80b19f17df21"
   },
   "outputs": [],
   "source": [
    "exchange.data_frame.head()"
   ]
  },
  {
   "cell_type": "code",
   "execution_count": null,
   "metadata": {
    "colab": {
     "base_uri": "https://localhost:8080/",
     "height": 542
    },
    "colab_type": "code",
    "id": "7wdnCoc7YQfV",
    "outputId": "09c51455-f788-4c63-bcb3-d36ed141f79b"
   },
   "outputs": [],
   "source": [
    "plot_ohlcv(exchange.data_frame)"
   ]
  },
  {
   "cell_type": "code",
   "execution_count": null,
   "metadata": {
    "colab": {
     "base_uri": "https://localhost:8080/",
     "height": 542
    },
    "colab_type": "code",
    "id": "XCZycnOuY1jP",
    "outputId": "2f16c1e8-c101-4c6e-a795-e955f2391609",
    "scrolled": false
   },
   "outputs": [],
   "source": [
    "plot_stochastic_processes(exchange.data_frame, \"Generated Price \")"
   ]
  },
  {
   "cell_type": "markdown",
   "metadata": {},
   "source": [
    "##### Tune your own parmeters"
   ]
  },
  {
   "cell_type": "markdown",
   "metadata": {
    "colab_type": "text",
    "id": "J1NyIEeDbJ6f"
   },
   "source": [
    "####MODEL PARAMETERS\n",
    "The model parameters class contains all of the parameters used by the following stochastic processes. The parameters have been prefixed with the name of the stochastic process they are used in. Calibration of the stochastic processes would involve looking for the parameter values which best fit some historical data.\n",
    "*   `all_s0` This is the starting asset value\n",
    "*   `all_time` This is the amount of time to simulate for\n",
    "*   `all_delta` This is the delta, the rate of time e.g. 1/252 = daily, 1/12 = monthly\n",
    "*   `all_sigma` This is the volatility of the stochastic processes\n",
    "*   `gbm_mu` This is the annual drift factor for geometric brownian motion\n",
    "*   `jumps_lamda` This is the probability of a jump happening at each point in time\n",
    "*   `jumps_sigma` This is the volatility of the jump size\n",
    "*   `jumps_mu` This is the average jump size\n",
    "*   `cir_a` This is the rate of mean reversion for Cox Ingersoll Ross\n",
    "*   `cir_mu` This is the long run average interest rate for Cox Ingersoll Ross\n",
    "*   `all_r0` This is the starting interest rate value\n",
    "*   `cir_rho` This is the correlation between the wiener processes of the Heston model\n",
    "*   `ou_a` This is the rate of mean reversion for Ornstein Uhlenbeck\n",
    "*   `ou_mu` This is the long run average interest rate for Ornstein Uhlenbeck\n",
    "*   `sheston_a` This is the rate of mean reversion for volatility in the Heston model\n",
    "*   `heston_mu` This is the long run average volatility for the Heston model\n",
    "*   `heston_vol0` This is the starting volatility value for the Heston model\n"
   ]
  },
  {
   "cell_type": "code",
   "execution_count": null,
   "metadata": {},
   "outputs": [],
   "source": [
    "super_params = ModelParameters(\n",
    "                all_s0=1000,\n",
    "                all_r0=0.01,\n",
    "                all_time=6000,\n",
    "                all_delta=0.0001653439,\n",
    "                all_sigma=random.uniform(0.1, 0.8),\n",
    "                gbm_mu=random.uniform(-0.3, 0.6),\n",
    "                jumps_lamda=random.uniform(0.0071, 0.6),\n",
    "                jumps_sigma=random.uniform(-0.03, 0.04),\n",
    "                jumps_mu=random.uniform(-0.2, 0.2),\n",
    "                cir_a=3.0,\n",
    "                cir_mu=0.5,\n",
    "                cir_rho=0.5,\n",
    "                ou_a=3.0,\n",
    "                ou_mu=0.5,\n",
    "                heston_a=random.uniform(1, 5),\n",
    "                heston_mu=random.uniform(0.156, 0.693),\n",
    "                heston_vol0=0.06125\n",
    "            )"
   ]
  },
  {
   "cell_type": "code",
   "execution_count": null,
   "metadata": {},
   "outputs": [],
   "source": [
    "params = {\n",
    "    'base_price': 1000,\n",
    "    'times_to_generate':100,\n",
    "    'model_type': \"HESTON\",\n",
    "    'param_type': \"Default\",\n",
    "    'timeframe': '1H',\n",
    "    'model_params':super_params,\n",
    "    \n",
    "}"
   ]
  },
  {
   "cell_type": "code",
   "execution_count": null,
   "metadata": {},
   "outputs": [],
   "source": [
    "exc = StochasticExchange(**params)"
   ]
  },
  {
   "cell_type": "code",
   "execution_count": null,
   "metadata": {},
   "outputs": [],
   "source": [
    "plot_ohlcv(exc.data_frame)"
   ]
  },
  {
   "cell_type": "code",
   "execution_count": null,
   "metadata": {},
   "outputs": [],
   "source": [
    "plot_stochastic_processes(exc.data_frame, \"Generated Price \")"
   ]
  }
 ],
 "metadata": {
  "colab": {
   "collapsed_sections": [],
   "name": "Stochastic_Exchange.ipynb",
   "provenance": []
  },
  "kernelspec": {
   "display_name": "Python 3",
   "language": "python",
   "name": "python3"
  },
  "language_info": {
   "codemirror_mode": {
    "name": "ipython",
    "version": 3
   },
   "file_extension": ".py",
   "mimetype": "text/x-python",
   "name": "python",
   "nbconvert_exporter": "python",
   "pygments_lexer": "ipython3",
   "version": "3.7.4"
  }
 },
 "nbformat": 4,
 "nbformat_minor": 1
}
