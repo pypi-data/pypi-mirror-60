{
 "cells": [
  {
   "cell_type": "markdown",
   "metadata": {},
   "source": [
    "** This notebook assumes...**\n",
    "\n",
    "1) Basic familiarity with gwsurrogate as covered in basics.ipynb\n",
    "2) A working installation of LAL (LAL homepage: https://www.lsc-group.phys.uwm.edu/daswg/projects/lalsuite.html)"
   ]
  },
  {
   "cell_type": "code",
   "execution_count": null,
   "metadata": {
    "collapsed": true
   },
   "outputs": [],
   "source": [
    "### setup paths used throughout this notebook ###\n",
    "import sys\n",
    "path_to_gws       = '/home/scott/Repos/GitRepos/Codes/gwsurrogate/'\n",
    "path_to_surrogate = path_to_gws+'tutorial/TutorialSurrogate/EOB_q1_2_NoSpin_Mode22/'\n",
    "sys.path.append(path_to_gws)\n",
    "\n",
    "### load modules ###\n",
    "%matplotlib inline\n",
    "import matplotlib.pyplot as plt\n",
    "import numpy as np\n",
    "import gwsurrogate as gws\n",
    "import gwtools\n",
    "from gwtools import EOBNRv2_LAL, EOBNRv2_LAL_modes\n",
    "import lal as lal\n",
    "import lalsimulation as lalsim\n",
    "\n",
    "### define lal's Msun in Seconds ###\n",
    "lal_MsunInSec = lal.MSUN_SI * lal.G_SI / np.power(lal.C_SI,3.0)"
   ]
  },
  {
   "cell_type": "code",
   "execution_count": null,
   "metadata": {
    "collapsed": true
   },
   "outputs": [],
   "source": [
    "### load the effective-one-body tutorial surrogate ###\n",
    "EOBNRv2_sur = gws.EvaluateSurrogate(path_to_surrogate) # multi-mode evaluation interface -- here only 22 mode"
   ]
  },
  {
   "cell_type": "markdown",
   "metadata": {},
   "source": [
    "# Lesson 1: Compare effective one body waveforms from LAL\n",
    "\n",
    "Nonspinning, dimensionless gravitational strain waveforms are described by a one-parameter family \n",
    "\n",
    "(R/M) H(T;q,1) \n",
    "\n",
    "where  \n",
    "\n",
    "T = t/M\n",
    "\n",
    "is a dimensionless time variable, M = m1+m2 is in solar masses, R the distance from the system, and q=m2/m1 the mass ratio. Any physical waveform \n",
    "\n",
    "h(t;q,M) = (M/R) H(t/M;q,1) \n",
    "\n",
    "can be generated from the dimensionless one. We verify this analytic scaling property with lalsim function calls of differing total mass. The errors are of numerical origin, attributed to some combination of the LAL code and our prescription for aligning its output. The surrogate model's goal is to match the EOB model up to these errors."
   ]
  },
  {
   "cell_type": "code",
   "execution_count": null,
   "metadata": {
    "collapsed": true
   },
   "outputs": [],
   "source": [
    "### Example 1: generate an 8+8 EOB waveform ###\n",
    "### Example 2: simple comparison between 8+8 and 2+2 EOB waveform ###\n",
    "Mtot = 16.0 \n",
    "q    = 1.0\n",
    "Dist = 1.0 # in megaparsecs\n",
    "dt   = 1.0/32768.0  # higher sampling rates will yield more accurate comparisons\n",
    "fmin = 40.0/2.383\n",
    "incl = 0.0\n",
    "\n",
    "times, h_16 = EOBNRv2_LAL(Mtot,q,dt,fmin,Dist,incl)\n",
    "time_16     = gwtools.dimensionless_time(Mtot*lal_MsunInSec, times)\n",
    "\n",
    "Mtot = 4.0 \n",
    "fmin = 40.0\n",
    "\n",
    "time_4, h_4 = EOBNRv2_LAL(Mtot,q,dt,fmin,Dist,incl)\n",
    "time_4      = gwtools.dimensionless_time(Mtot*lal_MsunInSec ,time_4)\n",
    "\n",
    "# Example 1, waveform plot....\n",
    "#plt.pyplot.figure(1)\n",
    "fig = gwtools.plot_pretty(times,[h_16.real,h_16.imag],showQ=False)\n",
    "plt.plot(times,np.abs(h_16),'blue')\n",
    "plt.xlabel('$t$ in seconds')\n",
    "plt.title('8+8 physical waveform')\n",
    "plt.xlim(13.5, 14.1)\n",
    "\n",
    "# Example 2, scaled and shifted waveform peaks (visually, should lie on top of one another)...\n",
    "plt.figure(2)\n",
    "plt.plot(time_4 - time_4[np.argmax(np.abs(h_4))],np.abs(h_4)/4.0,'red')\n",
    "plt.plot(time_16 - time_16[np.argmax(np.abs(h_16))],np.abs(h_16)/16.0,'b--')\n",
    "plt.xlim(-10000, 400)\n",
    "plt.xlabel('$t/M$')\n",
    "plt.title('peak shifted, amplitude scaled')\n",
    "plt.show()\n",
    "\n",
    "# Theoretically we expect the ratio of maximum amplitudes to be 16/4...\n",
    "print 'ratio of waveform amplitude peak values: ',np.max(np.abs(h_16))/np.max(np.abs(h_4))"
   ]
  },
  {
   "cell_type": "code",
   "execution_count": null,
   "metadata": {
    "collapsed": true
   },
   "outputs": [],
   "source": [
    "###  Overall scaling with mass is NOT a free parameter -- scale by exact Mtot...\n",
    "h_4 = h_4/4.0\n",
    "h_16 = h_16/16.0"
   ]
  },
  {
   "cell_type": "markdown",
   "metadata": {},
   "source": [
    "h_4 and h_16 should now be identical after time and phase shifts. Lets check. First, we compute a resonable guess for values of the time/phase shift by (i) discrete search for the peak (i) aligning phases for the shifted waveform. Next, the proper minimization problem is solved."
   ]
  },
  {
   "cell_type": "code",
   "execution_count": null,
   "metadata": {
    "collapsed": true
   },
   "outputs": [],
   "source": [
    "# CASE 1: values for time/phase shift by approximately maximizing over time and phase shifts\n",
    "gwtools.plot_pretty(time_4,h_4.real,showQ=False,color='r',fignum=1)\n",
    "gwtools.plot_pretty(time_16,h_16.real,showQ=False,color='b',fignum=1)\n",
    "plt.title(\"Dimensionless rh/M LAL waveforms (M = 4 and 16)\")\n",
    "\n",
    "# (Step 1) find reasonable guess for \\delta t and \\delta phi by...\n",
    "#          (i)  finding discrete waveform peak\n",
    "#          (ii) aligning phase values at the peak time\n",
    "deltaT, deltaPhi = gwtools.simple_align_params(time_4,h_4,time_16,h_16)\n",
    "h_4              = gwtools.modify_phase(h_4,-deltaPhi)\n",
    "time_4           = gwtools.coordinate_time_shift(time_4,-deltaT)\n",
    "\n",
    "gwtools.plot_pretty(time_4,h_4.real,showQ=False,color='r',fignum=2)\n",
    "gwtools.plot_pretty(time_16,h_16.real,showQ=False,color='b',fignum=2)\n",
    "plt.title(\"With simple, discrete alignment\")\n",
    "\n",
    "# (Step 3) With interpolation, represent each waveform as a function\n",
    "### linear interpolation ###\n",
    "from scipy.interpolate import interp1d\n",
    "h_4_interp  = interp1d(time_4,h_4)\n",
    "h_16_interp = interp1d(time_16,h_16)\n",
    "\n",
    "# (Step 4) find common temporal window \n",
    "common_dt      = (time_4[2] - time_4[1])\n",
    "t_start, t_end = gwtools.find_common_time_window(time_4,time_16)\n",
    "common_times   = np.arange(t_start+1,t_end-1,common_dt)\n",
    "\n",
    "# (Step 5) Evaluate interpolants on a common temporal grid\n",
    "h_4_eval  = h_4_interp(common_times)\n",
    "h_16_eval = h_16_interp(common_times)\n",
    "\n",
    "plt.figure(3)\n",
    "gwtools.plot_pretty(common_times,h_4_eval.real,showQ=False,color='r',fignum=3)\n",
    "gwtools.plot_pretty(common_times,h_16_eval.real,showQ=False,color='b',fignum=3)\n",
    "plt.title(\"Aligned waveforms interpolated to common time grid\")\n",
    "\n",
    "# (Step 6) Compute a time-domain error\n",
    "err_h = h_4_eval - h_16_eval\n",
    "overlap_errors = gwtools.euclidean_rel_error_sqrd(h_4_eval,h_16_eval,common_dt)\n",
    "\n",
    "plt.figure(4)\n",
    "plt.plot(common_times,np.abs(err_h)/np.abs(h_4_eval),'black')\n",
    "plt.title(\"Aligned waveform difference |h1 - h2|/|h1|\")\n",
    "\n",
    "\n",
    "#############  Report on analysis #############\n",
    "print \"overlap error: %e\" %overlap_errors\n",
    "plt.show()"
   ]
  },
  {
   "cell_type": "code",
   "execution_count": null,
   "metadata": {
    "collapsed": true
   },
   "outputs": [],
   "source": [
    "# CASE 2: minimize over 2-dimensional time/phase shift \n",
    "\n",
    "### generate a paramterized norm function  ###\n",
    "h4_parameterized  = gwtools.generate_parameterize_waveform(common_times,h_4_interp,h1_type='interp1d')\n",
    "ParameterizedNorm = gwtools.generate_parameterized_norm(h4_parameterized,h_16_eval,gwtools.euclidean_norm_sqrd)\n",
    "print 'Overlap error with discrete minimization: %e' %ParameterizedNorm([0.0,0.0]) \n",
    "\n",
    "### solve minimization problem with nelder-mead algorithm ###\n",
    "from scipy.optimize import minimize\n",
    "res_nm = minimize(ParameterizedNorm, [0.0,0.0], method='nelder-mead',tol=1e-12)\n",
    "\n",
    "### show Nelder-Mead results ###\n",
    "print \"The minimized norm is %e \" %ParameterizedNorm([ res_nm.x[0], res_nm.x[1]])\n",
    "print \"For a time shift %e and phase shift %e \" %(res_nm.x[0],res_nm.x[1])\n",
    "\n",
    "common_times_off = gwtools.coordinate_time_shift(common_times,res_nm.x[0])\n",
    "h_4_eval         = h_4_interp(common_times_off)\n",
    "h_4_trial        = gwtools.modify_phase(h_4_eval,-res_nm.x[1])\n",
    "err_h            = h_4_trial - h_16_eval\n",
    "\n",
    "### compare with analogous plot from CASE 1 above. The errors are now much smaller ###\n",
    "plt.figure(1)\n",
    "plt.semilogy(common_times,np.abs(err_h)/np.abs(h_4_eval),'black')\n",
    "plt.title(\"aligned waveform difference |h1 - h2|/|h2|\")\n",
    "plt.xlabel('$t/M$')\n",
    "plt.show()"
   ]
  },
  {
   "cell_type": "markdown",
   "metadata": {},
   "source": [
    "# Lesson 2: Automated minimization + quantifying EOB/minimization errors"
   ]
  },
  {
   "cell_type": "markdown",
   "metadata": {},
   "source": [
    "In Lesson 2 we automate the minimiaztion and quantify the comparisons achievable with this procedure. This will set the limit on the best obtainable comparison between EOB LAL function calls and surrogate function calls"
   ]
  },
  {
   "cell_type": "code",
   "execution_count": null,
   "metadata": {
    "collapsed": true
   },
   "outputs": [],
   "source": [
    "incl = 0.0\n",
    "fmin = 40.0\n",
    "dt   = 1.0/32768.0  # higher sampling rates will yield more accurate comparisons\n",
    "Dist = 1.0\n",
    "\n",
    "### lets cover a range of total mass values and compare to a fiducial one ###\n",
    "q = 1.0\n",
    "\n",
    "# reference 8+8 waveform...\n",
    "Mtot = 16.0\n",
    "times, h_16 = EOBNRv2_LAL(Mtot,q,dt,fmin,Dist,incl)\n",
    "time_16     = gwtools.dimensionless_time(Mtot*lal_MsunInSec,times)\n",
    "h_16        = h_16/16.0\n",
    "\n",
    "Mtot_samples = 10\n",
    "M_list       = np.linspace(10.0,15.5,Mtot_samples)\n",
    "\n",
    "errors_guess = np.zeros((Mtot_samples,1))\n",
    "errors_nm    = np.zeros((Mtot_samples,1))\n",
    "\n",
    "for counter, Mtot in enumerate(M_list):\n",
    "    \n",
    "    ### generate a new EOB waveform with LAL and put it into dimensionless form ###\n",
    "    times, h_tmp = EOBNRv2_LAL(Mtot,q,dt,fmin,Dist,incl)\n",
    "    time_tmp = gwtools.dimensionless_time(Mtot*lal_MsunInSec,times)\n",
    "    h_tmp = h_tmp/Mtot\n",
    "    \n",
    "    ### minimize the norm ###\n",
    "    [errors_guess[counter], errors_nm[counter]], [tc, phic], tmp = \\\n",
    "        gwtools.minimize_norm_error(time_tmp,h_tmp,time_16,h_16,\\\n",
    "                                    gwtools.euclidean_norm_sqrd,t_low_adj=.1,t_up_adj=.5,method='nelder-mead')\n",
    "    \n",
    "### plot results ###\n",
    "plt.semilogy(M_list,errors_guess,'or',label='discretely minimized')\n",
    "plt.semilogy(M_list,errors_nm,'Db',label='Nelder Mead minimized')\n",
    "plt.xlabel('$M$ (solar masses)')\n",
    "plt.ylabel('Overlap error')\n",
    "plt.title('time/phase shifted $(M,q=1)$ waveform compared to $(M=16,q=1)$')\n",
    "plt.legend()\n",
    "plt.show()"
   ]
  },
  {
   "cell_type": "markdown",
   "metadata": {},
   "source": [
    "# Lesson 3: Compare surrogate and EOB modes"
   ]
  },
  {
   "cell_type": "markdown",
   "metadata": {},
   "source": [
    "In Lesson 3 we shall compare surrogate and LAL-EOB waveforms for the 2,2 mode only. \n",
    "\n",
    "Our aim is to show they agree to about 5 digits of relativite accuracy, which is the \"error barrier\" found in Lesson 2\n",
    "\n",
    "The comparison will be for physical waveforms covering the (M,q) parameter space"
   ]
  },
  {
   "cell_type": "code",
   "execution_count": null,
   "metadata": {
    "collapsed": true
   },
   "outputs": [],
   "source": [
    "### comparison for physical waveform modes ###\n",
    "Mtot = 80.0\n",
    "q    = 1.0\n",
    "incl = 0.0\n",
    "Dist = 1.0\n",
    "fmin = 10.0\n",
    "dt   = 1.0/2048.0\n",
    "\n",
    "# compute harmonic modes #\n",
    "time_LAL, h_LAL = EOBNRv2_LAL_modes(Mtot,q,dt,fmin,Dist,2,2)\n",
    "time_sur,hp,hc  = EOBNRv2_sur(q=q,M=Mtot,dist=Dist,f_low=fmin,ell=[2],m=[2],fake_neg_modes=False)\n",
    "h_sur           = hp + 1.0j*hc\n",
    "\n",
    "### minimize the norm error ###\n",
    "[tmp, minimized_norm], [tc, phic], [t1,h1,h2] = \\\n",
    "    gwtools.minimize_norm_error(time_sur,h_sur,time_LAL,h_LAL,gwtools.euclidean_norm_sqrd,.0125,.0125,method='nelder-mead')\n",
    "print \"Global minimizer is deltaT = %e and deltaPhi = %e \" %(tc,phic)\n",
    "print \"The minimized relative norm error is %e \" %minimized_norm\n",
    "\n",
    "### plot aligned waveforms ###\n",
    "plt.figure(3)\n",
    "plt.subplot(2,1,1)\n",
    "plt.semilogy(t1,np.abs(h1 - h2)/ np.abs(h2),'black')\n",
    "plt.xlim([0.5, time_sur[-1]])\n",
    "plt.title(\"aligned waveform error $|h_{surr} - h_{EOBNR}|/|h_{EOBNR}|$\")\n",
    "plt.subplot(2,1,2)\n",
    "plt.plot(t1,h1.real,'red')\n",
    "plt.plot(t1,h2.real,'b--')\n",
    "plt.xlim([0.5, time_sur[-1]])\n",
    "plt.show()\n"
   ]
  },
  {
   "cell_type": "code",
   "execution_count": null,
   "metadata": {
    "collapsed": true
   },
   "outputs": [],
   "source": [
    "### next, lets compare models over a patch of the parameter space ###\n",
    "# WARNING: this will take a few minutes\n",
    "\n",
    "fmin = 11.0\n",
    "dt = (1.0/4096.0) #Note: setting to larger values could introduce large interpolation error\n",
    "\n",
    "q_samples = 10\n",
    "M_samples = 10\n",
    "\n",
    "errors_nm    = np.zeros((q_samples,M_samples))\n",
    "q_list       = np.zeros((q_samples,M_samples))\n",
    "M_list       = np.zeros((q_samples,M_samples))\n",
    "\n",
    "counter_q = -1\n",
    "for q in np.linspace(1.0,2.0,q_samples):\n",
    "    \n",
    "    counter_M = -1\n",
    "    counter_q = counter_q + 1\n",
    "    \n",
    "    for M in np.linspace(70.0,80.0,M_samples):\n",
    "   \n",
    "        counter_M = counter_M + 1\n",
    "    \n",
    "        M_list[counter_q,counter_M] = M\n",
    "        q_list[counter_q,counter_M] = q\n",
    "    \n",
    "        ### generate waveforms ###\n",
    "        time_LAL, h_LAL = EOBNRv2_LAL_modes(M,q,dt,fmin,Dist,2,2)\n",
    "        time_sur,hp,hc = EOBNRv2_sur(q=q,M=M,dist=Dist,f_low=fmin,fake_neg_modes=False)\n",
    "        h_sur   = hp + 1.0j*hc\n",
    "\n",
    "        ### minimize the norm ###\n",
    "        [tmp, errors_nm[counter_q,counter_M]], tmp1, tmp2 = \\\n",
    "            gwtools.minimize_norm_error(time_sur,h_sur,time_LAL,h_LAL,gwtools.euclidean_norm_sqrd,.1,.1,method='nelder-mead')\n",
    "            \n",
    "            \n",
    "### Display the preceding analysis ###\n",
    "plt.contour(M_list, q_list, errors_nm, 15, linewidths=0.5, colors='k')\n",
    "plt.contourf(M_list, q_list, errors_nm, 15, cmap=plt.cm.rainbow,\n",
    "                  vmax=abs(errors_nm).max(), vmin=-abs(errors_nm).max())\n",
    "plt.colorbar()  # draw colorbar\n",
    "plt.scatter(M_list, q_list, marker='o', c='b', s=5, zorder=10)\n",
    "plt.xlim(np.min(M_list), np.max(M_list))\n",
    "plt.ylim(np.min(q_list), np.max(q_list))\n",
    "plt.xlabel('$M$ (solar masses)')\n",
    "plt.ylabel('$q$')\n",
    "plt.title('Overlap errors between EOB-LAL and its surrogate')\n",
    "plt.show()"
   ]
  },
  {
   "cell_type": "markdown",
   "metadata": {},
   "source": [
    "# Lesson 4: Compare physical surrogate and EOB models"
   ]
  },
  {
   "cell_type": "code",
   "execution_count": null,
   "metadata": {
    "collapsed": true
   },
   "outputs": [],
   "source": [
    "### comparison for physical waveform modes ###\n",
    "Mtot = 80.0\n",
    "q    = 1.0\n",
    "incl = 2.0 # try 2.0\n",
    "Dist = 1.0\n",
    "fmin = 10.0\n",
    "dt   = 1.0/2048.0\n",
    "\n",
    "# LAL evaluation... #\n",
    "time_LAL, h_LAL = EOBNRv2_LAL(Mtot,q,dt,fmin,Dist,incl)\n",
    "\n",
    "# Compare h_LAL with its surrogate... via gws built-in waveform match function #\n",
    "min_norm, opt_solution, [t_align, hsur_align, hlal_align] = \\\n",
    "EOBNRv2_sur.match_surrogate(t_ref=time_LAL,h_ref=h_LAL,q=q,M=M,dist=Dist,theta=incl,\\\n",
    "                            t_ref_units='mks',fake_neg_modes=True,t_low_adj=.0125,t_up_adj=.0125,speed='fast')\n",
    "\n",
    "\n",
    "plt.figure(3)\n",
    "plt.subplot(2,1,1)\n",
    "plt.plot(t_align,hsur_align.real,'red')\n",
    "plt.plot(t_align,hlal_align.real,'b--')\n",
    "plt.subplot(2,1,2)\n",
    "plt.semilogy(t_align,np.abs(hsur_align-hlal_align)/ np.abs(hlal_align),'black')\n",
    "plt.title(\"aligned waveform error $|h_{surr} - h_{EOBNR}|/|h_{EOBNR}|$\")\n",
    "plt.show()\n",
    "\n",
    "print \"Overlap error = \",min_norm\n",
    "print \"Optimal time shift = \",opt_solution[0]\n",
    "print \"Optimal phase shift = \",opt_solution[1]"
   ]
  },
  {
   "cell_type": "code",
   "execution_count": null,
   "metadata": {
    "collapsed": true
   },
   "outputs": [],
   "source": [
    "### Directly evaluate surrogate for global minimizers: tc=opt_solution[0], phic=opt_solution[1]###\n",
    "samples         = t_align + opt_solution[0]\n",
    "phase_offset    = opt_solution[1]\n",
    "\n",
    "# evaluate the surrogate #\n",
    "time_sur1,hp,hc = EOBNRv2_sur(q=q,M=M,dist=Dist,theta=incl,phi=phase_offset,\\\n",
    "                               times=samples,units='mks',fake_neg_modes=True)\n",
    "h_sur = hp + 1.0j*hc\n",
    "\n",
    "h_err = h_sur - hlal_align\n",
    "\n",
    "print gwtools.euclidean_norm_sqrd(h_err,1.0)/gwtools.euclidean_norm_sqrd(hlal_align,1.0)\n",
    "\n",
    "gwtools.plot_pretty(t_align,[hlal_align.real,hlal_align.imag],4,showQ=False)\n",
    "plt.title(\"aligned waveform\")\n",
    "gwtools.plot_pretty(t_align,[h_err.real,h_err.imag],5,showQ=False,color='r')\n",
    "plt.title(\"aligned waveform errors\")\n",
    "plt.show()"
   ]
  },
  {
   "cell_type": "markdown",
   "metadata": {},
   "source": [
    "# Lesson 6: frequency domain comparisons\n",
    "\n",
    "Coming Soon!"
   ]
  },
  {
   "cell_type": "markdown",
   "metadata": {},
   "source": [
    "# Lesson 7: Multimode models\n",
    "\n",
    "Coming soon! See also the NR and precessing surrogate notebooks"
   ]
  },
  {
   "cell_type": "code",
   "execution_count": null,
   "metadata": {
    "collapsed": true
   },
   "outputs": [],
   "source": []
  }
 ],
 "metadata": {
  "kernelspec": {
   "display_name": "Python 2",
   "language": "python",
   "name": "python2"
  },
  "language_info": {
   "codemirror_mode": {
    "name": "ipython",
    "version": 2
   },
   "file_extension": ".py",
   "mimetype": "text/x-python",
   "name": "python",
   "nbconvert_exporter": "python",
   "pygments_lexer": "ipython2",
   "version": "2.7.15"
  }
 },
 "nbformat": 4,
 "nbformat_minor": 1
}
