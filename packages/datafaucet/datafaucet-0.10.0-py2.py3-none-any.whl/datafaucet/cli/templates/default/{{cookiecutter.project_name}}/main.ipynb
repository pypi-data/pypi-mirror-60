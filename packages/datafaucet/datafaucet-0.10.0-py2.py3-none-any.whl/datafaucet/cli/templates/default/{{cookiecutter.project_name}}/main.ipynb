{
 "cells": [
  {
   "cell_type": "markdown",
   "metadata": {},
   "source": [
    "# Datafaucet\n",
    "\n",
    "Basic example and directory structure."
   ]
  },
  {
   "cell_type": "markdown",
   "metadata": {},
   "source": [
    "## Elements\n",
    "\n",
    "This ETL/Data Science scaffolding works with three elements, \n",
    "which are co-ordinated with each other:\n",
    "\n",
    "  - The introductory python notebook you are reading now (main.ipynb)\n",
    "  - A directory structure for code and data processing (data)\n",
    "  - The datafaucet python package (datafaucet)\n",
    "  - Configuration files (metadata.yml, \\__main__.py, Makefile)"
   ]
  },
  {
   "cell_type": "markdown",
   "metadata": {},
   "source": [
    "## Principles ##\n",
    "\n",
    "- ** Both notebooks and code are first citizens **\n",
    "\n",
    "In the source directory `src` you will find all source code. In particular, both notebooks and code files are treated as source files. Source code is further partitioned and scaffolded in several directories to simplify and organize the data science project. Following python package conventions, the root of the project is tagged by a `__main__.py` file and directory contains the `__init__.py` code. By doing so, python and notebook files can reference each other.\n",
    "\n",
    "Python notebooks and Python code can be mixed and matched, and are interoperable with each other. You can include function from a notebook to a python code, and you can include python files in a notebook. \n",
    "\n",
    "- ** Data Directories should not contain logic code **\n",
    "\n",
    "Data can be located anywhere, on remote HDFS clusters, or Object Store Services exposed via S3 protocols etc. Also you can keep data on the local file system. For illustration purposes, this demo will use a local directory for data scaffolding. \n",
    "\n",
    "Separating data and code is done by moving all configuration to metadata files. Metadata files make possible to define aliases for data resources, data services and spark configurations, and keeping the ETL and ML code tidy with no hardcoded parameters.\n",
    "\n",
    "- ** Decouple Code from Configuration **\n",
    "\n",
    "Code either stored as notebooks or as python files should be decoupled from both engine configurations and from data locations. All configuration is kept in `metadata.yml` yaml files. Multiple setups for test, exploration, production can be described  in the same `metadata.yml` file or in separate multiple files using __profiles__. All profile inherit from a default profiles, to reduce dupllication of configurations settings across profiles.\n",
    "\n",
    "- ** Declarative Configuration **\n",
    "\n",
    "Metadata files are responsible for the binding of data and engine configurations to the code. For instance all data in the code shouold be referenced by an alias, and storage and retrieval of data object and files should happen via a common API. The metadata yaml file, describes the providers for each data source as well as the mapping of data aliases to their corresponding data objects. \n",
    "\n"
   ]
  },
  {
   "cell_type": "markdown",
   "metadata": {},
   "source": [
    "## Project Template\n",
    "\n",
    "The data science project is structured in a way to facilitate the deployment of the artifacts, and to switch from batch processing to live experimentation. The top level project is composed of the following items:"
   ]
  },
  {
   "cell_type": "markdown",
   "metadata": {},
   "source": [
    "### Top level Structure\n",
    "\n",
    "```\n",
    "├── binder\n",
    "├── ci\n",
    "├── data\n",
    "├── resources\n",
    "├── src\n",
    "├── test\n",
    "│\n",
    "├── main.ipynb\n",
    "├── versions.ipynb\n",
    "│\n",
    "├── __main__.py\n",
    "├── metadata.yml\n",
    "│\n",
    "└── Makefile\n",
    "\n",
    "```"
   ]
  },
  {
   "cell_type": "markdown",
   "metadata": {},
   "source": [
    "## datafaucet"
   ]
  },
  {
   "cell_type": "code",
   "execution_count": 1,
   "metadata": {},
   "outputs": [],
   "source": [
    "import datafaucet as dfc"
   ]
  },
  {
   "cell_type": "markdown",
   "metadata": {},
   "source": [
    "### Package things\n",
    "Package version: package variables `version_info`, `__version__`"
   ]
  },
  {
   "cell_type": "code",
   "execution_count": 2,
   "metadata": {},
   "outputs": [
    {
     "data": {
      "text/plain": [
       "(0, 8, 2)"
      ]
     },
     "execution_count": 2,
     "metadata": {},
     "output_type": "execute_result"
    }
   ],
   "source": [
    "dfc.version_info"
   ]
  },
  {
   "cell_type": "code",
   "execution_count": 3,
   "metadata": {},
   "outputs": [
    {
     "data": {
      "text/plain": [
       "'0.8.2'"
      ]
     },
     "execution_count": 3,
     "metadata": {},
     "output_type": "execute_result"
    }
   ],
   "source": [
    "dfc.__version__"
   ]
  },
  {
   "cell_type": "markdown",
   "metadata": {},
   "source": [
    "Check is the datafaucet is loaded in the current python context"
   ]
  },
  {
   "cell_type": "code",
   "execution_count": 4,
   "metadata": {},
   "outputs": [
    {
     "name": "stdout",
     "output_type": "stream",
     "text": [
      "the datafaucet is loaded\n"
     ]
    }
   ],
   "source": [
    "try:\n",
    "    __DATALOOF__\n",
    "    print(\"the datafaucet is loaded\")\n",
    "except NameError:\n",
    "    print(\"the datafaucet is not loaded\")"
   ]
  },
  {
   "cell_type": "markdown",
   "metadata": {},
   "source": [
    "### Modules: project\n",
    "\n",
    "Project is all about setting the correct working directories where to run and find your notebooks, python files and configuration files.  \n",
    "\n",
    "When the datafaucet is imported, it starts by searching for a `__main__.py` file, according to python module file naming conventions. All modules and alias paths are all relative to this project root path."
   ]
  },
  {
   "cell_type": "markdown",
   "metadata": {},
   "source": [
    "## Load a project profile\n",
    "\n",
    "Loading the profile can be done with the `datafaucet.project.load` function call. It will look for files ending with `metadata.yml`. The function can optionally set the current working directory and import the key=values of .env file into the python os environment. if no parameters are specified, the default profile is loaded."
   ]
  },
  {
   "cell_type": "code",
   "execution_count": 7,
   "metadata": {},
   "outputs": [
    {
     "name": "stdout",
     "output_type": "stream",
     "text": [
      "Help on function load in module datafaucet.project:\n",
      "\n",
      "load(profile='default', rootpath=None)\n",
      "\n"
     ]
    }
   ],
   "source": [
    "help(dfc.project.load)"
   ]
  },
  {
   "cell_type": "code",
   "execution_count": 10,
   "metadata": {},
   "outputs": [
    {
     "name": "stdout",
     "output_type": "stream",
     "text": [
      "Additional properties are not allowed ('stdio' was unexpected) \n",
      "\n",
      "## schema path:\n",
      "'properties/loggers/properties/datafaucet/additionalProperties'\n",
      "\n",
      "## metadata schema definition :\n",
      "type: object\n",
      "properties:\n",
      "    name:\n",
      "        type: string\n",
      "        default: dfc\n",
      "    stream:\n",
      "        type: object\n",
      "        properties:\n",
      "            severity:\n",
      "                type: string\n",
      "            enable:\n",
      "                type: boolean\n",
      "        additionalProperties: false\n",
      "    stdout:\n",
      "        type: object\n",
      "        properties:\n",
      "            severity:\n",
      "                type: string\n",
      "                default: notice\n",
      "            enable:\n",
      "                type: boolean\n",
      "                default: true\n",
      "        additionalProperties: false\n",
      "    file:\n",
      "        type: object\n",
      "        properties:\n",
      "            severity:\n",
      "                type: string\n",
      "                default: info\n",
      "            path:\n",
      "                type: string\n",
      "            enable:\n",
      "                type: boolean\n",
      "                default: false\n",
      "        additionalProperties: false\n",
      "    kafka:\n",
      "        type: object\n",
      "        properties:\n",
      "            severity:\n",
      "                type: string\n",
      "                default: info\n",
      "            enable:\n",
      "                type: boolean\n",
      "                default: false\n",
      "            hosts:\n",
      "                type: [string, array]\n",
      "                default: []\n",
      "            topic:\n",
      "                type: string\n",
      "                default: dfc\n",
      "        additionalProperties: false\n",
      "additionalProperties: false\n",
      "\n",
      "\n",
      "List of loaded metadata files:\n",
      "  - /home/jovyan/develop/datafaucet/datafaucet/schemas/default.yml\n",
      "  - /home/jovyan/work/tutorial/taxi-trips/metadata.yml\n",
      "\n",
      "List of available profiles:\n",
      "  - default\n",
      "  - dev\n",
      "  - prod\n",
      "  - stage\n",
      "  - test\n",
      "\n"
     ]
    },
    {
     "ename": "KeyError",
     "evalue": "'providers'",
     "output_type": "error",
     "traceback": [
      "\u001b[0;31m---------------------------------------------------------------------------\u001b[0m",
      "\u001b[0;31mKeyError\u001b[0m                                  Traceback (most recent call last)",
      "\u001b[0;32m<ipython-input-10-d625242bb46e>\u001b[0m in \u001b[0;36m<module>\u001b[0;34m()\u001b[0m\n\u001b[1;32m      1\u001b[0m \u001b[0;31m# load the 'default' environment\u001b[0m\u001b[0;34m\u001b[0m\u001b[0;34m\u001b[0m\u001b[0m\n\u001b[0;32m----> 2\u001b[0;31m \u001b[0mdfc\u001b[0m\u001b[0;34m.\u001b[0m\u001b[0mproject\u001b[0m\u001b[0;34m.\u001b[0m\u001b[0mload\u001b[0m\u001b[0;34m(\u001b[0m\u001b[0;34m'default'\u001b[0m\u001b[0;34m)\u001b[0m\u001b[0;34m\u001b[0m\u001b[0m\n\u001b[0m",
      "\u001b[0;32m~/develop/datafaucet/datafaucet/project.py\u001b[0m in \u001b[0;36mload\u001b[0;34m(profile, rootpath)\u001b[0m\n\u001b[1;32m    232\u001b[0m \u001b[0;34m\u001b[0m\u001b[0m\n\u001b[1;32m    233\u001b[0m \u001b[0;32mdef\u001b[0m \u001b[0mload\u001b[0m\u001b[0;34m(\u001b[0m\u001b[0mprofile\u001b[0m\u001b[0;34m=\u001b[0m\u001b[0;34m'default'\u001b[0m\u001b[0;34m,\u001b[0m \u001b[0mrootpath\u001b[0m\u001b[0;34m=\u001b[0m\u001b[0;32mNone\u001b[0m\u001b[0;34m)\u001b[0m\u001b[0;34m:\u001b[0m\u001b[0;34m\u001b[0m\u001b[0m\n\u001b[0;32m--> 234\u001b[0;31m     \u001b[0;32mreturn\u001b[0m \u001b[0mProject\u001b[0m\u001b[0;34m(\u001b[0m\u001b[0;34m)\u001b[0m\u001b[0;34m.\u001b[0m\u001b[0mload\u001b[0m\u001b[0;34m(\u001b[0m\u001b[0mprofile\u001b[0m\u001b[0;34m,\u001b[0m \u001b[0mrootpath\u001b[0m\u001b[0;34m)\u001b[0m\u001b[0;34m\u001b[0m\u001b[0m\n\u001b[0m",
      "\u001b[0;32m~/develop/datafaucet/datafaucet/project.py\u001b[0m in \u001b[0;36mload\u001b[0;34m(self, profile, rootpath)\u001b[0m\n\u001b[1;32m    162\u001b[0m         \u001b[0mservices\u001b[0m \u001b[0;34m=\u001b[0m \u001b[0mdict\u001b[0m\u001b[0;34m(\u001b[0m\u001b[0;34m)\u001b[0m\u001b[0;34m\u001b[0m\u001b[0m\n\u001b[1;32m    163\u001b[0m \u001b[0;34m\u001b[0m\u001b[0m\n\u001b[0;32m--> 164\u001b[0;31m         \u001b[0mall_aliases\u001b[0m  \u001b[0;34m=\u001b[0m \u001b[0mlist\u001b[0m\u001b[0;34m(\u001b[0m\u001b[0mmetadata\u001b[0m\u001b[0;34m.\u001b[0m\u001b[0mprofile\u001b[0m\u001b[0;34m(\u001b[0m\u001b[0;34m)\u001b[0m\u001b[0;34m[\u001b[0m\u001b[0;34m'providers'\u001b[0m\u001b[0;34m]\u001b[0m\u001b[0;34m.\u001b[0m\u001b[0mkeys\u001b[0m\u001b[0;34m(\u001b[0m\u001b[0;34m)\u001b[0m\u001b[0;34m)\u001b[0m\u001b[0;34m\u001b[0m\u001b[0m\n\u001b[0m\u001b[1;32m    165\u001b[0m \u001b[0;34m\u001b[0m\u001b[0m\n\u001b[1;32m    166\u001b[0m         \u001b[0;31m# get services from aliases\u001b[0m\u001b[0;34m\u001b[0m\u001b[0;34m\u001b[0m\u001b[0m\n",
      "\u001b[0;31mKeyError\u001b[0m: 'providers'"
     ]
    }
   ],
   "source": [
    "# load the 'default' environment\n",
    "dfc.project.load('default')"
   ]
  },
  {
   "cell_type": "markdown",
   "metadata": {},
   "source": [
    "## Inspect loaded metadata profile\n",
    "\n",
    "Call the `datafaucet.project.metadata` to get and inspect the metadata profile loaded. It returns an object of type Metadata. It behaves as a read-only dictionary."
   ]
  },
  {
   "cell_type": "code",
   "execution_count": 3,
   "metadata": {},
   "outputs": [
    {
     "name": "stdout",
     "output_type": "stream",
     "text": [
      "Help on function metadata in module datafaucet.project:\n",
      "\n",
      "metadata()\n",
      "    return a metadata object which provides just one method:\n",
      "    config() : provides the current loaded metadata profile information\n",
      "    \n",
      "    :return: a Metadata object\n",
      "\n"
     ]
    }
   ],
   "source": [
    "help(dfc.project.metadata)"
   ]
  },
  {
   "cell_type": "code",
   "execution_count": 4,
   "metadata": {},
   "outputs": [
    {
     "data": {
      "text/plain": [
       "providers:\n",
       "    local_filesystem:\n",
       "        write:\n",
       "            options:\n",
       "                header: true\n",
       "                mode: overwrite\n",
       "        read:\n",
       "            options:\n",
       "                inferSchema: true\n",
       "                header: true\n",
       "        path: data\n",
       "        service: local\n",
       "        format: csv\n",
       "loggers:\n",
       "    stream:\n",
       "        enable: true\n",
       "        severity: info\n",
       "engine:\n",
       "    context:\n",
       "        master: local[1]\n",
       "    type: spark\n",
       "resources:\n",
       "    correlation:\n",
       "        path: correlation.csv\n",
       "        provider: local_filesystem\n",
       "    ascombe:\n",
       "        path: ascombe.csv\n",
       "        provider: local_filesystem\n",
       "profile: default"
      ]
     },
     "execution_count": 4,
     "metadata": {},
     "output_type": "execute_result"
    }
   ],
   "source": [
    "md = dfc.project.metadata()\n",
    "md"
   ]
  },
  {
   "cell_type": "markdown",
   "metadata": {},
   "source": [
    "Metadata files support jinja templates. This feature can be used to read in environment variables"
   ]
  },
  {
   "cell_type": "markdown",
   "metadata": {},
   "source": [
    "## Inspect current project configuration\n",
    "\n",
    "You can inspect the current project configuration, by calling the `datafaucet.project.config` function."
   ]
  },
  {
   "cell_type": "code",
   "execution_count": 5,
   "metadata": {},
   "outputs": [
    {
     "name": "stdout",
     "output_type": "stream",
     "text": [
      "Help on function config in module datafaucet.project:\n",
      "\n",
      "config()\n",
      "    Returns the current project configuration\n",
      "    :return: a dictionary with project configuration data\n",
      "\n"
     ]
    }
   ],
   "source": [
    "help(dfc.project.config)"
   ]
  },
  {
   "cell_type": "code",
   "execution_count": 6,
   "metadata": {},
   "outputs": [
    {
     "data": {
      "text/plain": [
       "version: 0.6.0\n",
       "profile: default\n",
       "filename: main.ipynb\n",
       "rootdir: /home/natbusa/Projects/datafaucet-demos/demos/basic/demo\n",
       "workdir: /home/natbusa/Projects/datafaucet-demos/demos/basic/demo\n",
       "username: natbusa\n",
       "repository:\n",
       "    type:\n",
       "    committer: ''\n",
       "    hash: 0\n",
       "    commit: 0\n",
       "    branch: ''\n",
       "    url: ''\n",
       "    name: ''\n",
       "    date: ''\n",
       "    clean: false\n",
       "files:\n",
       "    notebooks:\n",
       "      - main.ipynb\n",
       "      - versions.ipynb\n",
       "      - src/Untitled.ipynb\n",
       "      - src/hello.ipynb\n",
       "    python:\n",
       "      - __main__.py\n",
       "    metadata:\n",
       "      - metadata.yml\n",
       "    dotenv:\n",
       "engine:\n",
       "    type: spark\n",
       "    name: default\n",
       "    version: 2.3.1\n",
       "    conf:\n",
       "        spark.app.id: local-1545384032427\n",
       "        spark.rdd.compress: 'True'\n",
       "        spark.app.name: default\n",
       "        spark.serializer.objectStreamReset: '100'\n",
       "        spark.driver.port: '34699'\n",
       "        spark.executor.id: driver\n",
       "        spark.submit.deployMode: client\n",
       "        spark.ui.showConsoleProgress: 'true'\n",
       "        spark.master: local[1]\n",
       "        spark.driver.host: 10.196.160.215\n",
       "    env:\n",
       "        PYSPARK_SUBMIT_ARGS: ' pyspark-shell'\n",
       "    rootdir: /home/natbusa/Projects/datafaucet-demos/demos/basic/demo"
      ]
     },
     "execution_count": 6,
     "metadata": {},
     "output_type": "execute_result"
    }
   ],
   "source": [
    "import datafaucet as dfc\n",
    "dfc.project.config()"
   ]
  },
  {
   "cell_type": "markdown",
   "metadata": {},
   "source": [
    "Data resources are relative to the `rootpath`. "
   ]
  },
  {
   "cell_type": "markdown",
   "metadata": {},
   "source": [
    "### Resources\n",
    "\n",
    "Data binding works with the metadata files. It's a good practice to declare the actual binding in the metadata and avoiding hardcoding the paths in the notebooks and python source files."
   ]
  },
  {
   "cell_type": "code",
   "execution_count": 15,
   "metadata": {},
   "outputs": [
    {
     "data": {
      "text/plain": [
       "'/home/natbusa/Projects/datafaucet-demos/demos/basic/demo/data/ascombe.csv'"
      ]
     },
     "execution_count": 15,
     "metadata": {},
     "output_type": "execute_result"
    }
   ],
   "source": [
    "dfc.project.resource('ascombe')['url']"
   ]
  },
  {
   "cell_type": "code",
   "execution_count": 20,
   "metadata": {},
   "outputs": [
    {
     "data": {
      "text/plain": [
       "url: /home/natbusa/Projects/datafaucet-demos/demos/basic/demo/localfs/data/ascombe.csv\n",
       "service: file\n",
       "format: csv\n",
       "driver:\n",
       "database:\n",
       "username:\n",
       "password:\n",
       "provider_alias:\n",
       "resource_alias:\n",
       "resource_path: ./data/ascombe.csv\n",
       "provider_path: /home/natbusa/Projects/datafaucet-demos/demos/basic/demo/localfs\n",
       "read:\n",
       "    cache: false\n",
       "    options: {}\n",
       "    filter:\n",
       "        date_column:\n",
       "        date_start:\n",
       "        date_end:\n",
       "        date_window:\n",
       "        date_timezone:\n",
       "    partition:\n",
       "        repartition:\n",
       "        coalesce:\n",
       "    mapping: {}\n",
       "write:\n",
       "    cache: false\n",
       "    options: {}\n",
       "    filter:\n",
       "        date_column:\n",
       "        date_start:\n",
       "        date_end:\n",
       "        date_window:\n",
       "        date_timezone:\n",
       "    partition:\n",
       "        repartition:\n",
       "        coalesce:\n",
       "    mapping: {}"
      ]
     },
     "execution_count": 20,
     "metadata": {},
     "output_type": "execute_result"
    }
   ],
   "source": [
    "dfc.project.resource('./data/ascombe.csv', 'localfs')"
   ]
  },
  {
   "cell_type": "markdown",
   "metadata": {},
   "source": [
    "### Modules: Engines\n",
    "\n",
    "This submodules will allow you to start a context, from the configuration described in the metadata. It also provide, basic load/store data functions according to the aliases defined in the configuration.\n",
    "\n",
    "Let's start by listing the aliases and the configuration of the engines declared in `metadata.yml`.\n"
   ]
  },
  {
   "cell_type": "markdown",
   "metadata": {},
   "source": [
    "__Context: Spark__  \n",
    "Let's start the engine session, by selecting a spark context from the list. Your can have many spark contexts declared, for instance for single node "
   ]
  },
  {
   "cell_type": "code",
   "execution_count": 1,
   "metadata": {},
   "outputs": [
    {
     "data": {
      "text/plain": [
       "type: spark\n",
       "name: default\n",
       "version: 2.3.1\n",
       "conf:\n",
       "    spark.driver.port: '37227'\n",
       "    spark.rdd.compress: 'True'\n",
       "    spark.app.name: default\n",
       "    spark.serializer.objectStreamReset: '100'\n",
       "    spark.executor.id: driver\n",
       "    spark.submit.deployMode: client\n",
       "    spark.ui.showConsoleProgress: 'true'\n",
       "    spark.master: local[1]\n",
       "    spark.driver.host: 10.196.160.215\n",
       "    spark.app.id: local-1545384242509\n",
       "env:\n",
       "    PYSPARK_SUBMIT_ARGS: ' pyspark-shell'\n",
       "rootdir: /home/natbusa/Projects/datafaucet-demos/demos/basic/demo"
      ]
     },
     "execution_count": 1,
     "metadata": {},
     "output_type": "execute_result"
    }
   ],
   "source": [
    "import datafaucet as dfc\n",
    "engine = dfc.project.engine()\n",
    "engine.config()"
   ]
  },
  {
   "cell_type": "markdown",
   "metadata": {},
   "source": [
    "You can quickly inspect the properties of the context by calling the `info()` function"
   ]
  },
  {
   "cell_type": "markdown",
   "metadata": {},
   "source": [
    "By calling the `context` method, you access the Spark SQL Context directly. The rest of your spark python code is not affected by the initialization of your session with the datafaucet."
   ]
  },
  {
   "cell_type": "code",
   "execution_count": 2,
   "metadata": {},
   "outputs": [],
   "source": [
    "engine = dfc.project.engine()\n",
    "spark = engine.context()"
   ]
  },
  {
   "cell_type": "markdown",
   "metadata": {},
   "source": [
    "Once again, let's read the csv data again, this time using the spark context. First using the engine `write` utility, then directly using the spark context and the `dfc.data.path` function to localize our labeled dataset."
   ]
  },
  {
   "cell_type": "code",
   "execution_count": 3,
   "metadata": {},
   "outputs": [],
   "source": [
    "#read using the engine utility\n",
    "df = engine.load('ascombe')"
   ]
  },
  {
   "cell_type": "code",
   "execution_count": 4,
   "metadata": {},
   "outputs": [
    {
     "name": "stdout",
     "output_type": "stream",
     "text": [
      "root\n",
      " |-- idx: long (nullable = true)\n",
      " |-- Ix: double (nullable = true)\n",
      " |-- Iy: double (nullable = true)\n",
      " |-- IIx: double (nullable = true)\n",
      " |-- IIy: double (nullable = true)\n",
      " |-- IIIx: double (nullable = true)\n",
      " |-- IIIy: double (nullable = true)\n",
      " |-- IVx: double (nullable = true)\n",
      " |-- IVy: double (nullable = true)\n",
      "\n"
     ]
    }
   ],
   "source": [
    "df.printSchema()"
   ]
  },
  {
   "cell_type": "code",
   "execution_count": 5,
   "metadata": {},
   "outputs": [
    {
     "name": "stdout",
     "output_type": "stream",
     "text": [
      "+---+----+-----+----+----+----+-----+----+----+\n",
      "|idx|  Ix|   Iy| IIx| IIy|IIIx| IIIy| IVx| IVy|\n",
      "+---+----+-----+----+----+----+-----+----+----+\n",
      "|  0|10.0| 8.04|10.0|9.14|10.0| 7.46| 8.0|6.58|\n",
      "|  1| 8.0| 6.95| 8.0|8.14| 8.0| 6.77| 8.0|5.76|\n",
      "|  2|13.0| 7.58|13.0|8.74|13.0|12.74| 8.0|7.71|\n",
      "|  3| 9.0| 8.81| 9.0|8.77| 9.0| 7.11| 8.0|8.84|\n",
      "|  4|11.0| 8.33|11.0|9.26|11.0| 7.81| 8.0|8.47|\n",
      "|  5|14.0| 9.96|14.0| 8.1|14.0| 8.84| 8.0|7.04|\n",
      "|  6| 6.0| 7.24| 6.0|6.13| 6.0| 6.08| 8.0|5.25|\n",
      "|  7| 4.0| 4.26| 4.0| 3.1| 4.0| 5.39|19.0|12.5|\n",
      "|  8|12.0|10.84|12.0|9.13|12.0| 8.15| 8.0|5.56|\n",
      "|  9| 7.0| 4.82| 7.0|7.26| 7.0| 6.42| 8.0|7.91|\n",
      "| 10| 5.0| 5.68| 5.0|4.74| 5.0| 5.73| 8.0|6.89|\n",
      "+---+----+-----+----+----+----+-----+----+----+\n",
      "\n"
     ]
    }
   ],
   "source": [
    "df.show()"
   ]
  },
  {
   "cell_type": "markdown",
   "metadata": {},
   "source": [
    "Finally, let's calculate the correlation for each set I,II, III, IV between the `x` and `y` columns and save the result on an separate dataset."
   ]
  },
  {
   "cell_type": "code",
   "execution_count": 6,
   "metadata": {},
   "outputs": [
    {
     "name": "stdout",
     "output_type": "stream",
     "text": [
      "+---+------------+-----------+------------+-----------+\n",
      "|idx|           I|         II|         III|         IV|\n",
      "+---+------------+-----------+------------+-----------+\n",
      "|  0| [10.0,8.04]|[10.0,9.14]| [10.0,7.46]| [8.0,6.58]|\n",
      "|  1|  [8.0,6.95]| [8.0,8.14]|  [8.0,6.77]| [8.0,5.76]|\n",
      "|  2| [13.0,7.58]|[13.0,8.74]|[13.0,12.74]| [8.0,7.71]|\n",
      "|  3|  [9.0,8.81]| [9.0,8.77]|  [9.0,7.11]| [8.0,8.84]|\n",
      "|  4| [11.0,8.33]|[11.0,9.26]| [11.0,7.81]| [8.0,8.47]|\n",
      "|  5| [14.0,9.96]| [14.0,8.1]| [14.0,8.84]| [8.0,7.04]|\n",
      "|  6|  [6.0,7.24]| [6.0,6.13]|  [6.0,6.08]| [8.0,5.25]|\n",
      "|  7|  [4.0,4.26]|  [4.0,3.1]|  [4.0,5.39]|[19.0,12.5]|\n",
      "|  8|[12.0,10.84]|[12.0,9.13]| [12.0,8.15]| [8.0,5.56]|\n",
      "|  9|  [7.0,4.82]| [7.0,7.26]|  [7.0,6.42]| [8.0,7.91]|\n",
      "| 10|  [5.0,5.68]| [5.0,4.74]|  [5.0,5.73]| [8.0,6.89]|\n",
      "+---+------------+-----------+------------+-----------+\n",
      "\n"
     ]
    }
   ],
   "source": [
    "from pyspark.ml.feature import VectorAssembler\n",
    "\n",
    "for s in ['I', 'II', 'III', 'IV']:\n",
    "    va = VectorAssembler(inputCols=[s+'x', s+'y'], outputCol=s)\n",
    "    df = va.transform(df)\n",
    "    df = df.drop(s+'x', s+'y')\n",
    "    \n",
    "df.show()"
   ]
  },
  {
   "cell_type": "markdown",
   "metadata": {},
   "source": [
    "After assembling the dataframe into four sets of 2D vectors, let's calculate the pearson correlation for each set. In the case the the ascombe sets, all sets should have the same pearson correlation."
   ]
  },
  {
   "cell_type": "code",
   "execution_count": 7,
   "metadata": {},
   "outputs": [],
   "source": [
    "from pyspark.ml.stat import Correlation\n",
    "from pyspark.sql.types import DoubleType\n",
    "\n",
    "corr = {}\n",
    "cols = ['I', 'II', 'III', 'IV']\n",
    "\n",
    "# calculate pearson correlations\n",
    "for s in cols:\n",
    "    corr[s] = Correlation.corr(df, s, 'pearson').collect()[0][0][0,1].item()\n",
    "\n",
    "# declare schema\n",
    "from pyspark.sql.types import StructType, StructField, FloatType\n",
    "schema = StructType([StructField(s, FloatType(), True) for s in cols])\n",
    "\n",
    "# create output dataframe\n",
    "corr_df = spark.createDataFrame(data=[corr], schema=schema)"
   ]
  },
  {
   "cell_type": "code",
   "execution_count": 8,
   "metadata": {},
   "outputs": [
    {
     "name": "stdout",
     "output_type": "stream",
     "text": [
      "+-----+-----+-----+-----+\n",
      "|    I|   II|  III|   IV|\n",
      "+-----+-----+-----+-----+\n",
      "|0.816|0.816|0.816|0.817|\n",
      "+-----+-----+-----+-----+\n",
      "\n"
     ]
    }
   ],
   "source": [
    "import pyspark.sql.functions as f\n",
    "corr_df.select([f.round(f.avg(c), 3).alias(c) for c in cols]).show()"
   ]
  },
  {
   "cell_type": "markdown",
   "metadata": {},
   "source": [
    "Save the results. It's a very small data frame, however Spark when saving  csv format files, assumes large data sets and partitions the files inside an object (a directory) with the name of the target file. See below:\n"
   ]
  },
  {
   "cell_type": "code",
   "execution_count": 10,
   "metadata": {},
   "outputs": [],
   "source": [
    "engine.save(corr_df,'correlation')"
   ]
  },
  {
   "cell_type": "markdown",
   "metadata": {},
   "source": [
    "We read it back to chack all went fine"
   ]
  },
  {
   "cell_type": "code",
   "execution_count": 11,
   "metadata": {},
   "outputs": [
    {
     "name": "stdout",
     "output_type": "stream",
     "text": [
      "+----------+---------+---------+----------+----------+\n",
      "|Unnamed: 0|        I|       II|       III|        IV|\n",
      "+----------+---------+---------+----------+----------+\n",
      "|         0|0.8164205|0.8162365|0.81628674|0.81652147|\n",
      "+----------+---------+---------+----------+----------+\n",
      "\n"
     ]
    }
   ],
   "source": [
    "engine.load('correlation').show()"
   ]
  },
  {
   "cell_type": "markdown",
   "metadata": {},
   "source": [
    "### Modules: Export\n",
    "\n",
    "This submodules will allow you to export cells and import them in other notebooks as python packages. Check the notebook [versions.ipynb](versions.ipynb), where you will see how to export the notebook, then follow the code here below to check it really works!\n"
   ]
  },
  {
   "cell_type": "code",
   "execution_count": 12,
   "metadata": {},
   "outputs": [
    {
     "name": "stdout",
     "output_type": "stream",
     "text": [
      "importing Jupyter notebook from versions.ipynb\n"
     ]
    }
   ],
   "source": [
    "import datafaucet as dfc\n",
    "dfc.project.load()\n",
    "\n",
    "from versions import python_version"
   ]
  },
  {
   "cell_type": "code",
   "execution_count": 13,
   "metadata": {},
   "outputs": [
    {
     "name": "stdout",
     "output_type": "stream",
     "text": [
      "Hello world: python 3.6.7\n"
     ]
    }
   ],
   "source": [
    "python_version()"
   ]
  },
  {
   "cell_type": "code",
   "execution_count": null,
   "metadata": {},
   "outputs": [],
   "source": []
  }
 ],
 "metadata": {
  "kernelspec": {
   "display_name": "Python 3",
   "language": "python",
   "name": "python3"
  },
  "language_info": {
   "codemirror_mode": {
    "name": "ipython",
    "version": 3
   },
   "file_extension": ".py",
   "mimetype": "text/x-python",
   "name": "python",
   "nbconvert_exporter": "python",
   "pygments_lexer": "ipython3",
   "version": "3.6.3"
  }
 },
 "nbformat": 4,
 "nbformat_minor": 2
}
