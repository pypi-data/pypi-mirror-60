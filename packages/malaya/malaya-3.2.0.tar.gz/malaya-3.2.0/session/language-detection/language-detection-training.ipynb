{
 "cells": [
  {
   "cell_type": "code",
   "execution_count": 1,
   "metadata": {},
   "outputs": [],
   "source": [
    "import pandas as pd\n",
    "import numpy as np\n",
    "from sklearn.preprocessing import LabelEncoder\n",
    "from sklearn.model_selection import train_test_split\n",
    "import xgboost as xgb\n",
    "import os\n",
    "import re\n",
    "import pickle\n",
    "import json\n",
    "\n",
    "def clean_text(string):\n",
    "    string = re.sub(u'[0-9!@#$%^&*()_\\-+{}|\\~`\\'\";:?/.>,<]', ' ', string.lower(), flags=re.UNICODE)\n",
    "    return re.sub(r'[ ]+', ' ', string.lower()).strip()"
   ]
  },
  {
   "cell_type": "code",
   "execution_count": 2,
   "metadata": {},
   "outputs": [],
   "source": [
    "with open('language-detection-data-v5.json','r') as fopen:\n",
    "    loaded = json.load(fopen)\n",
    "    sentences = [clean_text(text) for text in loaded['text']]\n",
    "    langs = loaded['label']"
   ]
  },
  {
   "cell_type": "code",
   "execution_count": 3,
   "metadata": {},
   "outputs": [
    {
     "data": {
      "text/plain": [
       "(array(['OTHER', 'eng', 'ind', 'zlm'], dtype='<U5'),\n",
       " array([46910, 50000, 57327, 53692]))"
      ]
     },
     "execution_count": 3,
     "metadata": {},
     "output_type": "execute_result"
    }
   ],
   "source": [
    "np.unique(langs,return_counts=True)"
   ]
  },
  {
   "cell_type": "code",
   "execution_count": 4,
   "metadata": {},
   "outputs": [],
   "source": [
    "with open('language-detection-vectorizer.pkl','rb') as fopen:\n",
    "    bow_chars = pickle.load(fopen)"
   ]
  },
  {
   "cell_type": "code",
   "execution_count": 5,
   "metadata": {},
   "outputs": [
    {
     "name": "stdout",
     "output_type": "stream",
     "text": [
      "CPU times: user 1min 22s, sys: 144 ms, total: 1min 22s\n",
      "Wall time: 1min 22s\n"
     ]
    }
   ],
   "source": [
    "%%time\n",
    "target = LabelEncoder().fit_transform(langs)\n",
    "features = bow_chars.transform(sentences)\n",
    "features.shape"
   ]
  },
  {
   "cell_type": "code",
   "execution_count": 6,
   "metadata": {},
   "outputs": [],
   "source": [
    "train_X, test_X, train_Y, test_Y = train_test_split(features, target, test_size = 0.2)\n",
    "del features"
   ]
  },
  {
   "cell_type": "code",
   "execution_count": 7,
   "metadata": {},
   "outputs": [],
   "source": [
    "from sklearn import metrics"
   ]
  },
  {
   "cell_type": "code",
   "execution_count": 8,
   "metadata": {},
   "outputs": [
    {
     "data": {
      "text/plain": [
       "(166343, 660726)"
      ]
     },
     "execution_count": 8,
     "metadata": {},
     "output_type": "execute_result"
    }
   ],
   "source": [
    "train_X.shape"
   ]
  },
  {
   "cell_type": "code",
   "execution_count": 9,
   "metadata": {},
   "outputs": [],
   "source": [
    "train_d = xgb.DMatrix(train_X, train_Y)\n",
    "test_d = xgb.DMatrix(test_X, test_Y)"
   ]
  },
  {
   "cell_type": "code",
   "execution_count": 10,
   "metadata": {},
   "outputs": [
    {
     "name": "stdout",
     "output_type": "stream",
     "text": [
      "[0]\tvalidation-mlogloss:1.2413\n",
      "Will train until validation-mlogloss hasn't improved in 20 rounds.\n",
      "[5]\tvalidation-mlogloss:0.761826\n",
      "[10]\tvalidation-mlogloss:0.512241\n",
      "[15]\tvalidation-mlogloss:0.364837\n",
      "[20]\tvalidation-mlogloss:0.272479\n",
      "[25]\tvalidation-mlogloss:0.213201\n",
      "[30]\tvalidation-mlogloss:0.174409\n",
      "[35]\tvalidation-mlogloss:0.14651\n",
      "[40]\tvalidation-mlogloss:0.126887\n",
      "[45]\tvalidation-mlogloss:0.11262\n",
      "[50]\tvalidation-mlogloss:0.101767\n",
      "[55]\tvalidation-mlogloss:0.093354\n",
      "[60]\tvalidation-mlogloss:0.086558\n",
      "[65]\tvalidation-mlogloss:0.080871\n",
      "[70]\tvalidation-mlogloss:0.076038\n",
      "[75]\tvalidation-mlogloss:0.071999\n",
      "[80]\tvalidation-mlogloss:0.068545\n",
      "[85]\tvalidation-mlogloss:0.065656\n",
      "[90]\tvalidation-mlogloss:0.062895\n",
      "[95]\tvalidation-mlogloss:0.060362\n",
      "[100]\tvalidation-mlogloss:0.058197\n",
      "[105]\tvalidation-mlogloss:0.056245\n",
      "[110]\tvalidation-mlogloss:0.05447\n",
      "[115]\tvalidation-mlogloss:0.05281\n",
      "[120]\tvalidation-mlogloss:0.051294\n",
      "[125]\tvalidation-mlogloss:0.049879\n",
      "[130]\tvalidation-mlogloss:0.048627\n",
      "[135]\tvalidation-mlogloss:0.047427\n",
      "[140]\tvalidation-mlogloss:0.046278\n",
      "[145]\tvalidation-mlogloss:0.045233\n",
      "[150]\tvalidation-mlogloss:0.044294\n",
      "[155]\tvalidation-mlogloss:0.043351\n",
      "[160]\tvalidation-mlogloss:0.042494\n",
      "[165]\tvalidation-mlogloss:0.041697\n",
      "[170]\tvalidation-mlogloss:0.040916\n",
      "[175]\tvalidation-mlogloss:0.040189\n",
      "[180]\tvalidation-mlogloss:0.039509\n",
      "[185]\tvalidation-mlogloss:0.038876\n",
      "[190]\tvalidation-mlogloss:0.038192\n",
      "[195]\tvalidation-mlogloss:0.037563\n",
      "[200]\tvalidation-mlogloss:0.036976\n",
      "[205]\tvalidation-mlogloss:0.03644\n",
      "[210]\tvalidation-mlogloss:0.035887\n",
      "[215]\tvalidation-mlogloss:0.035434\n",
      "[220]\tvalidation-mlogloss:0.034964\n",
      "[225]\tvalidation-mlogloss:0.034529\n",
      "[230]\tvalidation-mlogloss:0.034103\n",
      "[235]\tvalidation-mlogloss:0.033657\n",
      "[240]\tvalidation-mlogloss:0.03326\n",
      "[245]\tvalidation-mlogloss:0.032905\n",
      "[250]\tvalidation-mlogloss:0.032556\n",
      "[255]\tvalidation-mlogloss:0.032182\n",
      "[260]\tvalidation-mlogloss:0.031817\n",
      "[265]\tvalidation-mlogloss:0.031448\n",
      "[270]\tvalidation-mlogloss:0.031136\n",
      "[275]\tvalidation-mlogloss:0.030829\n",
      "[280]\tvalidation-mlogloss:0.030486\n",
      "[285]\tvalidation-mlogloss:0.030219\n",
      "[290]\tvalidation-mlogloss:0.029945\n",
      "[295]\tvalidation-mlogloss:0.029675\n",
      "[300]\tvalidation-mlogloss:0.029401\n",
      "[305]\tvalidation-mlogloss:0.029157\n",
      "[310]\tvalidation-mlogloss:0.028912\n",
      "[315]\tvalidation-mlogloss:0.028696\n",
      "[320]\tvalidation-mlogloss:0.028494\n",
      "[325]\tvalidation-mlogloss:0.028296\n",
      "[330]\tvalidation-mlogloss:0.028062\n",
      "[335]\tvalidation-mlogloss:0.027856\n",
      "[340]\tvalidation-mlogloss:0.027644\n",
      "[345]\tvalidation-mlogloss:0.027441\n",
      "[350]\tvalidation-mlogloss:0.027246\n",
      "[355]\tvalidation-mlogloss:0.027056\n",
      "[360]\tvalidation-mlogloss:0.026889\n",
      "[365]\tvalidation-mlogloss:0.026719\n",
      "[370]\tvalidation-mlogloss:0.026542\n",
      "[375]\tvalidation-mlogloss:0.026409\n",
      "[380]\tvalidation-mlogloss:0.026272\n",
      "[385]\tvalidation-mlogloss:0.026122\n",
      "[390]\tvalidation-mlogloss:0.02599\n",
      "[395]\tvalidation-mlogloss:0.025865\n",
      "[400]\tvalidation-mlogloss:0.02574\n",
      "[405]\tvalidation-mlogloss:0.025593\n",
      "[410]\tvalidation-mlogloss:0.025482\n",
      "[415]\tvalidation-mlogloss:0.025372\n",
      "[420]\tvalidation-mlogloss:0.025271\n",
      "[425]\tvalidation-mlogloss:0.025165\n",
      "[430]\tvalidation-mlogloss:0.025084\n",
      "[435]\tvalidation-mlogloss:0.02498\n",
      "[440]\tvalidation-mlogloss:0.02487\n",
      "[445]\tvalidation-mlogloss:0.024757\n",
      "[450]\tvalidation-mlogloss:0.024654\n",
      "[455]\tvalidation-mlogloss:0.024591\n",
      "[460]\tvalidation-mlogloss:0.024512\n",
      "[465]\tvalidation-mlogloss:0.024445\n",
      "[470]\tvalidation-mlogloss:0.024352\n",
      "[475]\tvalidation-mlogloss:0.024278\n",
      "[480]\tvalidation-mlogloss:0.02421\n",
      "[485]\tvalidation-mlogloss:0.024135\n",
      "[490]\tvalidation-mlogloss:0.024056\n",
      "[495]\tvalidation-mlogloss:0.023997\n",
      "[500]\tvalidation-mlogloss:0.023903\n",
      "[505]\tvalidation-mlogloss:0.023818\n",
      "[510]\tvalidation-mlogloss:0.023741\n",
      "[515]\tvalidation-mlogloss:0.023665\n",
      "[520]\tvalidation-mlogloss:0.023599\n",
      "[525]\tvalidation-mlogloss:0.023547\n",
      "[530]\tvalidation-mlogloss:0.023488\n",
      "[535]\tvalidation-mlogloss:0.023415\n",
      "[540]\tvalidation-mlogloss:0.023368\n",
      "[545]\tvalidation-mlogloss:0.023318\n",
      "[550]\tvalidation-mlogloss:0.023273\n",
      "[555]\tvalidation-mlogloss:0.023217\n",
      "[560]\tvalidation-mlogloss:0.023144\n",
      "[565]\tvalidation-mlogloss:0.023102\n",
      "[570]\tvalidation-mlogloss:0.023045\n",
      "[575]\tvalidation-mlogloss:0.022999\n",
      "[580]\tvalidation-mlogloss:0.022965\n",
      "[585]\tvalidation-mlogloss:0.022907\n",
      "[590]\tvalidation-mlogloss:0.02286\n",
      "[595]\tvalidation-mlogloss:0.022833\n",
      "[600]\tvalidation-mlogloss:0.022801\n",
      "[605]\tvalidation-mlogloss:0.02277\n",
      "[610]\tvalidation-mlogloss:0.022728\n",
      "[615]\tvalidation-mlogloss:0.022674\n",
      "[620]\tvalidation-mlogloss:0.022632\n",
      "[625]\tvalidation-mlogloss:0.022622\n",
      "[630]\tvalidation-mlogloss:0.022589\n",
      "[635]\tvalidation-mlogloss:0.022529\n",
      "[640]\tvalidation-mlogloss:0.022502\n",
      "[645]\tvalidation-mlogloss:0.022479\n",
      "[650]\tvalidation-mlogloss:0.022432\n",
      "[655]\tvalidation-mlogloss:0.022403\n",
      "[660]\tvalidation-mlogloss:0.022386\n",
      "[665]\tvalidation-mlogloss:0.022363\n",
      "[670]\tvalidation-mlogloss:0.022326\n",
      "[675]\tvalidation-mlogloss:0.022295\n",
      "[680]\tvalidation-mlogloss:0.022266\n",
      "[685]\tvalidation-mlogloss:0.022245\n",
      "[690]\tvalidation-mlogloss:0.022229\n",
      "[695]\tvalidation-mlogloss:0.022189\n",
      "[700]\tvalidation-mlogloss:0.022134\n",
      "[705]\tvalidation-mlogloss:0.022118\n",
      "[710]\tvalidation-mlogloss:0.022096\n",
      "[715]\tvalidation-mlogloss:0.022064\n",
      "[720]\tvalidation-mlogloss:0.02203\n",
      "[725]\tvalidation-mlogloss:0.022017\n",
      "[730]\tvalidation-mlogloss:0.022014\n",
      "[735]\tvalidation-mlogloss:0.021983\n",
      "[740]\tvalidation-mlogloss:0.021964\n",
      "[745]\tvalidation-mlogloss:0.021933\n",
      "[750]\tvalidation-mlogloss:0.021912\n",
      "[755]\tvalidation-mlogloss:0.021899\n",
      "[760]\tvalidation-mlogloss:0.02189\n",
      "[765]\tvalidation-mlogloss:0.021878\n",
      "[770]\tvalidation-mlogloss:0.021871\n",
      "[775]\tvalidation-mlogloss:0.021872\n",
      "[780]\tvalidation-mlogloss:0.021851\n",
      "[785]\tvalidation-mlogloss:0.021826\n",
      "[790]\tvalidation-mlogloss:0.021814\n",
      "[795]\tvalidation-mlogloss:0.021816\n",
      "[800]\tvalidation-mlogloss:0.0218\n",
      "[805]\tvalidation-mlogloss:0.021796\n",
      "[810]\tvalidation-mlogloss:0.021783\n",
      "[815]\tvalidation-mlogloss:0.021756\n",
      "[820]\tvalidation-mlogloss:0.021739\n",
      "[825]\tvalidation-mlogloss:0.021717\n",
      "[830]\tvalidation-mlogloss:0.021705\n",
      "[835]\tvalidation-mlogloss:0.021698\n",
      "[840]\tvalidation-mlogloss:0.021694\n",
      "[845]\tvalidation-mlogloss:0.021673\n",
      "[850]\tvalidation-mlogloss:0.021658\n",
      "[855]\tvalidation-mlogloss:0.021654\n",
      "[860]\tvalidation-mlogloss:0.021625\n",
      "[865]\tvalidation-mlogloss:0.021607\n",
      "[870]\tvalidation-mlogloss:0.021578\n",
      "[875]\tvalidation-mlogloss:0.021572\n",
      "[880]\tvalidation-mlogloss:0.021553\n",
      "[885]\tvalidation-mlogloss:0.02154\n",
      "[890]\tvalidation-mlogloss:0.021504\n",
      "[895]\tvalidation-mlogloss:0.021493\n",
      "[900]\tvalidation-mlogloss:0.02148\n",
      "[905]\tvalidation-mlogloss:0.021469\n",
      "[910]\tvalidation-mlogloss:0.021448\n",
      "[915]\tvalidation-mlogloss:0.021421\n",
      "[920]\tvalidation-mlogloss:0.021427\n",
      "[925]\tvalidation-mlogloss:0.021409\n",
      "[930]\tvalidation-mlogloss:0.021398\n",
      "[935]\tvalidation-mlogloss:0.021399\n",
      "[940]\tvalidation-mlogloss:0.021386\n",
      "[945]\tvalidation-mlogloss:0.02137\n",
      "[950]\tvalidation-mlogloss:0.021366\n",
      "[955]\tvalidation-mlogloss:0.02135\n",
      "[960]\tvalidation-mlogloss:0.021338\n",
      "[965]\tvalidation-mlogloss:0.02134\n",
      "[970]\tvalidation-mlogloss:0.021328\n",
      "[975]\tvalidation-mlogloss:0.021311\n",
      "[980]\tvalidation-mlogloss:0.021297\n",
      "[985]\tvalidation-mlogloss:0.021291\n",
      "[990]\tvalidation-mlogloss:0.021308\n",
      "[995]\tvalidation-mlogloss:0.02131\n",
      "[1000]\tvalidation-mlogloss:0.021312\n",
      "[1005]\tvalidation-mlogloss:0.02131\n",
      "Stopping. Best iteration:\n",
      "[985]\tvalidation-mlogloss:0.021291\n",
      "\n"
     ]
    }
   ],
   "source": [
    "params_xgd = {\n",
    "    'min_child_weight': 10.0,\n",
    "    'max_depth': 7,\n",
    "    'objective': 'multi:softprob',\n",
    "    'max_delta_step': 1.8,\n",
    "    'num_class': 4,\n",
    "    'colsample_bytree': 0.4,\n",
    "    'subsample': 0.8,\n",
    "    'learning_rate': 0.1,\n",
    "    'gamma': 0.65,\n",
    "    'silent':True,\n",
    "    'eval_metric': 'mlogloss'\n",
    "}\n",
    "model = xgb.train(params_xgd, train_d, 10000, evals=[(test_d, 'validation')], \n",
    "                  early_stopping_rounds=20, verbose_eval=5)"
   ]
  },
  {
   "cell_type": "code",
   "execution_count": 11,
   "metadata": {},
   "outputs": [
    {
     "name": "stdout",
     "output_type": "stream",
     "text": [
      "              precision    recall  f1-score   support\n",
      "\n",
      "       OTHER       0.98      0.99      0.99      9424\n",
      "         eng       1.00      0.99      0.99      9972\n",
      "         ind       1.00      0.99      0.99     11511\n",
      "         zlm       1.00      1.00      1.00     10679\n",
      "\n",
      "   micro avg       0.99      0.99      0.99     41586\n",
      "   macro avg       0.99      0.99      0.99     41586\n",
      "weighted avg       0.99      0.99      0.99     41586\n",
      "\n"
     ]
    }
   ],
   "source": [
    "predicted = np.argmax(model.predict(xgb.DMatrix(test_X),ntree_limit=model.best_ntree_limit),axis=1)\n",
    "print(metrics.classification_report(test_Y, predicted, target_names = ['OTHER', 'eng', 'ind', 'zlm']))"
   ]
  },
  {
   "cell_type": "code",
   "execution_count": 12,
   "metadata": {},
   "outputs": [
    {
     "name": "stdout",
     "output_type": "stream",
     "text": [
      "CPU times: user 176 ms, sys: 0 ns, total: 176 ms\n",
      "Wall time: 168 ms\n"
     ]
    },
    {
     "data": {
      "text/plain": [
       "array([[2.6191405e-08, 8.8543983e-10, 9.9999976e-01, 2.0418724e-07],\n",
       "       [3.3177045e-13, 4.8105534e-15, 9.9999988e-01, 9.2294400e-08],\n",
       "       [2.0692481e-07, 5.1412195e-12, 4.1463139e-08, 9.9999976e-01],\n",
       "       [9.9652714e-01, 2.4567433e-03, 9.7234029e-04, 4.3783864e-05],\n",
       "       [4.2808292e-11, 8.3007802e-11, 9.9999928e-01, 6.9759943e-07],\n",
       "       [1.9842105e-04, 9.9978501e-01, 1.2235393e-05, 4.3988857e-06],\n",
       "       [2.8214106e-02, 9.7169679e-01, 6.0329297e-05, 2.8760714e-05],\n",
       "       [9.2271131e-07, 4.4209383e-11, 1.3530789e-07, 9.9999893e-01],\n",
       "       [9.9976605e-01, 8.5635213e-05, 1.4085708e-04, 7.4979439e-06],\n",
       "       [1.8502185e-05, 9.0518365e-10, 2.4503325e-07, 9.9998128e-01]],\n",
       "      dtype=float32)"
      ]
     },
     "execution_count": 12,
     "metadata": {},
     "output_type": "execute_result"
    }
   ],
   "source": [
    "%%time\n",
    "model.predict(xgb.DMatrix(test_X[:10]),ntree_limit=model.best_ntree_limit)"
   ]
  },
  {
   "cell_type": "code",
   "execution_count": 13,
   "metadata": {},
   "outputs": [],
   "source": [
    "chinese_text = '今天是６月１８号，也是Muiriel的生日！'\n",
    "english_text = 'i totally love it man'\n",
    "indon_text = 'persemakmuran serikat terletak serikat bergabung terkenal terkenal penyulingan musik basket tingginya terletak referensi referensi studi master union'\n",
    "malay_text = 'beliau berkata program Inisitif Peduli Rakyat (IPR) yang diperkenalkan oleh kerajaan negeri Selangor lebih besar sumbangannya'"
   ]
  },
  {
   "cell_type": "code",
   "execution_count": 14,
   "metadata": {},
   "outputs": [],
   "source": [
    "with open('xgboost-language-detection.pkl','wb') as fopen:\n",
    "    pickle.dump(model,fopen)"
   ]
  },
  {
   "cell_type": "code",
   "execution_count": 15,
   "metadata": {},
   "outputs": [],
   "source": [
    "del train_d, test_d, model"
   ]
  },
  {
   "cell_type": "code",
   "execution_count": 16,
   "metadata": {},
   "outputs": [
    {
     "name": "stdout",
     "output_type": "stream",
     "text": [
      "              precision    recall  f1-score   support\n",
      "\n",
      "       OTHER       1.00      0.98      0.99     37486\n",
      "         eng       0.99      1.00      1.00     40028\n",
      "         ind       1.00      1.00      1.00     45816\n",
      "         zlm       0.99      1.00      0.99     43013\n",
      "\n",
      "   micro avg       0.99      0.99      0.99    166343\n",
      "   macro avg       0.99      0.99      0.99    166343\n",
      "weighted avg       0.99      0.99      0.99    166343\n",
      "\n"
     ]
    }
   ],
   "source": [
    "from sklearn.naive_bayes import MultinomialNB\n",
    "multinomial = MultinomialNB().fit(train_X, train_Y)\n",
    "print(metrics.classification_report(train_Y, multinomial.predict(train_X), target_names = np.unique(langs)))"
   ]
  },
  {
   "cell_type": "code",
   "execution_count": 17,
   "metadata": {},
   "outputs": [
    {
     "name": "stdout",
     "output_type": "stream",
     "text": [
      "              precision    recall  f1-score   support\n",
      "\n",
      "       OTHER       1.00      0.97      0.99      9424\n",
      "         eng       0.99      1.00      0.99      9972\n",
      "         ind       1.00      1.00      1.00     11511\n",
      "         zlm       0.99      1.00      0.99     10679\n",
      "\n",
      "   micro avg       0.99      0.99      0.99     41586\n",
      "   macro avg       0.99      0.99      0.99     41586\n",
      "weighted avg       0.99      0.99      0.99     41586\n",
      "\n"
     ]
    }
   ],
   "source": [
    "print(metrics.classification_report(test_Y, multinomial.predict(test_X), target_names = np.unique(langs)))"
   ]
  },
  {
   "cell_type": "code",
   "execution_count": 18,
   "metadata": {},
   "outputs": [],
   "source": [
    "with open('multinomial-language-detection.pkl','wb') as fopen:\n",
    "    pickle.dump(multinomial,fopen)"
   ]
  },
  {
   "cell_type": "code",
   "execution_count": 19,
   "metadata": {},
   "outputs": [],
   "source": [
    "del multinomial"
   ]
  },
  {
   "cell_type": "code",
   "execution_count": 20,
   "metadata": {},
   "outputs": [],
   "source": [
    "from sklearn.linear_model import SGDClassifier"
   ]
  },
  {
   "cell_type": "code",
   "execution_count": 21,
   "metadata": {},
   "outputs": [
    {
     "name": "stderr",
     "output_type": "stream",
     "text": [
      "/usr/local/lib/python3.5/dist-packages/sklearn/linear_model/stochastic_gradient.py:166: FutureWarning: max_iter and tol parameters have been added in SGDClassifier in 0.19. If both are left unset, they default to max_iter=5 and tol=None. If tol is not None, max_iter defaults to max_iter=1000. From 0.21, default max_iter will be 1000, and default tol will be 1e-3.\n",
      "  FutureWarning)\n"
     ]
    },
    {
     "name": "stdout",
     "output_type": "stream",
     "text": [
      "              precision    recall  f1-score   support\n",
      "\n",
      "       OTHER       0.98      1.00      0.99     37486\n",
      "         eng       1.00      0.99      0.99     40028\n",
      "         ind       1.00      0.99      1.00     45816\n",
      "         zlm       1.00      1.00      1.00     43013\n",
      "\n",
      "   micro avg       0.99      0.99      0.99    166343\n",
      "   macro avg       0.99      0.99      0.99    166343\n",
      "weighted avg       0.99      0.99      0.99    166343\n",
      "\n"
     ]
    }
   ],
   "source": [
    "sgd = SGDClassifier(loss='modified_huber',penalty='elasticnet').fit(train_X, train_Y)\n",
    "print(metrics.classification_report(train_Y, sgd.predict(train_X), target_names = np.unique(langs)))"
   ]
  },
  {
   "cell_type": "code",
   "execution_count": 22,
   "metadata": {},
   "outputs": [
    {
     "name": "stdout",
     "output_type": "stream",
     "text": [
      "              precision    recall  f1-score   support\n",
      "\n",
      "       OTHER       0.97      0.99      0.98      9424\n",
      "         eng       0.99      0.99      0.99      9972\n",
      "         ind       1.00      0.99      0.99     11511\n",
      "         zlm       1.00      1.00      1.00     10679\n",
      "\n",
      "   micro avg       0.99      0.99      0.99     41586\n",
      "   macro avg       0.99      0.99      0.99     41586\n",
      "weighted avg       0.99      0.99      0.99     41586\n",
      "\n"
     ]
    }
   ],
   "source": [
    "print(metrics.classification_report(test_Y, sgd.predict(test_X), target_names = np.unique(langs)))"
   ]
  },
  {
   "cell_type": "code",
   "execution_count": 24,
   "metadata": {},
   "outputs": [
    {
     "data": {
      "text/plain": [
       "array([0])"
      ]
     },
     "execution_count": 24,
     "metadata": {},
     "output_type": "execute_result"
    }
   ],
   "source": [
    "sgd.predict(bow_chars.transform(['Prakiraan Cuaca dan Tinggi Gelombang tgl 29 Des 2018 di wilayah Posko Terpadu Penanggulangan Bencana Tsunami Banten']))"
   ]
  },
  {
   "cell_type": "code",
   "execution_count": 23,
   "metadata": {},
   "outputs": [],
   "source": [
    "with open('sgd-language-detection.pkl','wb') as fopen:\n",
    "    pickle.dump(sgd,fopen)"
   ]
  },
  {
   "cell_type": "code",
   "execution_count": null,
   "metadata": {},
   "outputs": [],
   "source": []
  }
 ],
 "metadata": {
  "kernelspec": {
   "display_name": "Python 3",
   "language": "python",
   "name": "python3"
  },
  "language_info": {
   "codemirror_mode": {
    "name": "ipython",
    "version": 3
   },
   "file_extension": ".py",
   "mimetype": "text/x-python",
   "name": "python",
   "nbconvert_exporter": "python",
   "pygments_lexer": "ipython3",
   "version": "3.5.2"
  }
 },
 "nbformat": 4,
 "nbformat_minor": 2
}
