{
 "cells": [
  {
   "cell_type": "code",
   "execution_count": 1,
   "metadata": {},
   "outputs": [],
   "source": [
    "from geodadata import datasets"
   ]
  },
  {
   "cell_type": "code",
   "execution_count": 2,
   "metadata": {},
   "outputs": [
    {
     "data": {
      "text/plain": [
       "{'AirBnB': Airbnb rentals, socioeconomics, and crime in Chicago,\n",
       " 'Atlanta': Atlanta, GA region homicide counts and rates,\n",
       " 'Baltimore': Baltimore house sales prices and hedonics,\n",
       " 'Cars': 2011 abandoned vehicles in Chicago (311 complaints).,\n",
       " 'Chile Labor': Labor Markets in Chile (1982-2002),\n",
       " 'Chile Migration':  Internal Migration in Chile (1977-2002),\n",
       " 'Cincinnati':  2008 Cincinnati Crime + Socio-Demographics,\n",
       " 'Cleveland':  2015 sales prices of homes in Cleveland, OH.,\n",
       " 'Bostonhsg': Boston housing and neighborhood data,\n",
       " 'Buenosaires':  Electoral Data for 1999 Argentinean Elections,\n",
       " 'Charleston1':  2000 Census Tract Data for Charleston, SC MSA and counties,\n",
       " 'Charleston2':  1998 and 2001 Zip Code Business Patterns (Census Bureau) for Charleston, SC MSA,\n",
       " 'Columbus':  Columbus neighborhood crime,\n",
       " 'Chicago Health':  Chicago Health + Socio-Economics,\n",
       " 'Denver':  Demographics and housing in Denver neighborhoods.,\n",
       " 'Elections':  2012 and 2016 Presidential Elections,\n",
       " 'Grid100':  Grid with simulated variables,\n",
       " 'Groceries':  2015 Chicago supermarkets,\n",
       " 'Guerry':  Moral statistics of France (Guerry, 1833),\n",
       " 'Health+':  2000 Health, Income + Diversity,\n",
       " 'Health Indicators':  Chicago Health Indicators (2005-11),\n",
       " 'Hickory1':  2000 Census Tract Data for Hickory, NC MSA and counties,\n",
       " 'Hickory2':  1998 and 2001 Zip Code Business Patterns (Census Bureau) for Hickory, NC MSA,\n",
       " 'Home Sales':  2014-15 Home Sales in King County, WA,\n",
       " 'Houston':  Houston, TX region homicide counts and rates,\n",
       " 'Juvenile':  Cardiff juvenile delinquent residences,\n",
       " 'Lansing1':  2000 Census Tract Data for Lansing, MI MSA and counties,\n",
       " 'Lansing2':  1998 and 2001 Zip Code Business Patterns (Census Bureau) for Lansing, MI MSA,\n",
       " 'Laozone':  Ozone measures at monitoring stations in Los Angeles basin,\n",
       " 'LasRosas':  Corn yield, fertilizer and field data for precision agriculture, Argentina, 1999,\n",
       " 'Liquor Stores':  2015 Chicago Liquor Stores,\n",
       " 'Malaria':  Malaria incidence and population (1973, 95, 93 censuses and projections until 2005)      ,\n",
       " 'Milwaukee1':  2000 Census Tract Data for Milwaukee, WI MSA,\n",
       " 'Milwaukee2':  1998 and 2001 Zip Code Business Patterns (Census Bureau) for Milwaukee, WI MSA,\n",
       " 'NCOVR':  US county homicides 1960-1990,\n",
       " 'Natregimes':  NCOVR with regimes (book/PySAL),\n",
       " 'NDVI':  Normalized Difference Vegetation Index grid,\n",
       " 'Nepal':  Health, poverty and education indicators for Nepal districts,\n",
       " 'NYC':  Demographic and housing data for New York City subboroughs, 2002-09,\n",
       " 'NYC Earnings':  Block-level Earnings in NYC (2002-14),\n",
       " 'NYC Education':  NYC Education (2000),\n",
       " 'NYC Neighborhoods':  Demographics for New York City neighborhoods,\n",
       " 'NYC Socio-Demographics':  NYC Education + Socio-Demographics,\n",
       " 'Ohiolung':  Ohio lung cancer data, 1968, 1978, 1988,\n",
       " 'Orlando1':  2000 Census Tract Data for Orlando, FL MSA and counties,\n",
       " 'Orlando2':  1998 and 2001 Zip Code Business Patterns (Census Bureau) for Orlando, FL MSA,\n",
       " 'Oz9799':  Monthly ozone data, 1997-99,\n",
       " 'Phoenix ACS':  Phoenix American Community Survey Data (2010, 5-year averages),\n",
       " 'Pittsburgh':  Pittsburgh homicide locations,\n",
       " 'Police':  Police expenditures Mississippi counties,\n",
       " 'Sacramento1':  2000 Census Tract Data for Sacramento MSA,\n",
       " 'Sacramento2':  1998 and 2001 Zip Code Business Patterns (Census Bureau) for Sacramento MSA,\n",
       " 'SanFran Crime':  July-Dec 2012 crime incidents in San Francisco (points + area) - for CAST,\n",
       " 'Savannah1':  2000 Census Tract Data for Savannah, GA MSA and counties,\n",
       " 'Savannah2':  1998 and 2001 Zip Code Business Patterns (Census Bureau) for Savannah, GA MSA,\n",
       " 'Scotlip':  Male lip cancer in Scotland, 1975-80,\n",
       " 'Seattle1':  2000 Census Tract Data for Seattle, WA MSA and counties,\n",
       " 'Seattle2':  1998 and 2001 Zip Code Business Patterns (Census Bureau) for Seattle, WA MSA,\n",
       " 'SIDS':  North Carolina county SIDS death counts,\n",
       " 'SIDS2':  North Carolina county SIDS death counts and rates,\n",
       " 'South':  US Southern county homicides 1960-1990,\n",
       " 'StLouis':  St Louis region county homicide counts and rates,\n",
       " 'Tampa1':  2000 Census Tract Data for Tampa, FL MSA and counties}"
      ]
     },
     "execution_count": 2,
     "metadata": {},
     "output_type": "execute_result"
    }
   ],
   "source": [
    "datasets"
   ]
  },
  {
   "cell_type": "code",
   "execution_count": 3,
   "metadata": {},
   "outputs": [],
   "source": [
    "StLouis = datasets['StLouis']"
   ]
  },
  {
   "cell_type": "code",
   "execution_count": 4,
   "metadata": {},
   "outputs": [
    {
     "data": {
      "text/html": [
       "\n",
       "        <iframe\n",
       "            width=\"700\"\n",
       "            height=\"350\"\n",
       "            src=\"https://geodacenter.github.io/data-and-lab/stlouis/\"\n",
       "            frameborder=\"0\"\n",
       "            allowfullscreen\n",
       "        ></iframe>\n",
       "        "
      ],
      "text/plain": [
       "<IPython.lib.display.IFrame at 0x7f7fcb769400>"
      ]
     },
     "execution_count": 4,
     "metadata": {},
     "output_type": "execute_result"
    }
   ],
   "source": [
    "StLouis.explain()"
   ]
  },
  {
   "cell_type": "code",
   "execution_count": 5,
   "metadata": {},
   "outputs": [
    {
     "data": {
      "text/html": [
       "\n",
       "        <iframe\n",
       "            width=\"1000\"\n",
       "            height=\"700\"\n",
       "            src=\"https://geodacenter.github.io/data-and-lab/stlouis/\"\n",
       "            frameborder=\"0\"\n",
       "            allowfullscreen\n",
       "        ></iframe>\n",
       "        "
      ],
      "text/plain": [
       "<IPython.lib.display.IFrame at 0x7f7fcb776278>"
      ]
     },
     "execution_count": 5,
     "metadata": {},
     "output_type": "execute_result"
    }
   ],
   "source": [
    "StLouis.explain(width=1000, height=700)"
   ]
  },
  {
   "cell_type": "code",
   "execution_count": 6,
   "metadata": {},
   "outputs": [
    {
     "name": "stdout",
     "output_type": "stream",
     "text": [
      " \n",
      " Homicides and selected socio-economic characteristics for counties surrounding St Louis, MO. Data aggregated for three time periods: 1979-84 (steady decline in homicides), 1984-88 (stable period), and 1988-93 (steady increase in homicides). \n",
      " \n",
      " Observations = 78 \n",
      " Variables = 21 \n",
      " Years = 1979 - 93 \n",
      " \n",
      " Source \n",
      " S. Messner, L. Anselin, D. Hawkins, G. Deane, S. Tolnay, R. Baller (2000). An Atlas of the Spatial Patterning of County-Level Homicide, 1960-1990. Pittsburgh, PA,  National Consortium on Violence Research (NCOVR) . \n",
      " \n",
      " \n",
      " \n",
      " Variable \n",
      " Description \n",
      "   \n",
      " \n",
      " \n",
      " \n",
      " \n",
      " NAME \n",
      " county name \n",
      "   \n",
      " \n",
      " \n",
      " STATE_NAME \n",
      " state name \n",
      "   \n",
      " \n",
      " \n",
      " STATE_FIPS \n",
      " state FIPS code (character) \n",
      "   \n",
      " \n",
      " \n",
      " CNTY_FIPS \n",
      " county FIPS code (character) \n",
      "   \n",
      " \n",
      " \n",
      " FIPS \n",
      " combined state and county FIPS code (character) \n",
      "   \n",
      " \n",
      " \n",
      " FIPSNO \n",
      " fips code as numeric variable \n",
      "   \n",
      " \n",
      " \n",
      " HR7984 \n",
      " homicide rate per 100,000 (1979-84) \n",
      "   \n",
      " \n",
      " \n",
      " HR8488 \n",
      " homicide rate per 100,000 (1984-88) \n",
      "   \n",
      " \n",
      " \n",
      " HR8893 \n",
      " homicide rate per 100,000 (1988-93) \n",
      "   \n",
      " \n",
      " \n",
      " HC7984 \n",
      " homicide count (1979-84) \n",
      "   \n",
      " \n",
      " \n",
      " HC8488 \n",
      " homicide count (1984-88) \n",
      "   \n",
      " \n",
      " \n",
      " HC8893 \n",
      " homicide count (1988-93) \n",
      "   \n",
      " \n",
      " \n",
      " PO7984 \n",
      " population total (1979-84) \n",
      "   \n",
      " \n",
      " \n",
      " PO8488 \n",
      " population total (1984-88) \n",
      "   \n",
      " \n",
      " \n",
      " PO8893 \n",
      " population total (1988-93) \n",
      "   \n",
      " \n",
      " \n",
      " PE77 \n",
      " police expenditures per capita, 1977 \n",
      "   \n",
      " \n",
      " \n",
      " PE82 \n",
      " police expenditures per capita, 1982 \n",
      "   \n",
      " \n",
      " \n",
      " PE87 \n",
      " police expenditures per capita, 1987 \n",
      "   \n",
      " \n",
      " \n",
      " RDAC80 \n",
      " resource deprivation/affluence composite variable, 1980 \n",
      "   \n",
      " \n",
      " \n",
      " RDAC85 \n",
      " resource deprivation/affluence composite variable, 1985 \n",
      "   \n",
      " \n",
      " \n",
      " RDAC90 \n",
      " resource deprivation/affluence composite variable, 1990 \n",
      "   \n",
      " \n",
      " \n",
      " \n",
      " Prepared by Luc Anselin. Last updated September 10, 2004. Data provided “as is,” no warranties. \n",
      " \n",
      " \n",
      " Share \n",
      " \n",
      " \n",
      " \n",
      " \n",
      " \n",
      " \n",
      " \n",
      " \n",
      " \n",
      " \n",
      " \n",
      " \n",
      " Maintained by lixun910 Template by  Willian Justen \n",
      " \n",
      " \n",
      " \n",
      " \n",
      " \n",
      "\n"
     ]
    }
   ],
   "source": [
    "print(StLouis.text)"
   ]
  },
  {
   "cell_type": "code",
   "execution_count": 7,
   "metadata": {},
   "outputs": [
    {
     "data": {
      "text/plain": [
       "' \\n Homicides and selected socio-economic characteristics for counties surrounding St Louis, MO. Data aggregated for three time periods: 1979-84 (steady decline in homicides), 1984-88 (stable period), and 1988-93 (steady increase in homicides). \\n \\n Observations = 78 \\n Variables = 21 \\n Years = 1979 - 93 \\n \\n Source \\n S. Messner, L. Anselin, D. Hawkins, G. Deane, S. Tolnay, R. Baller (2000). An Atlas of the Spatial Patterning of County-Level Homicide, 1960-1990. Pittsburgh, PA,  National Consortium on Violence Research (NCOVR) . \\n \\n \\n \\n Variable \\n Description \\n   \\n \\n \\n \\n \\n NAME \\n county name \\n   \\n \\n \\n STATE_NAME \\n state name \\n   \\n \\n \\n STATE_FIPS \\n state FIPS code (character) \\n   \\n \\n \\n CNTY_FIPS \\n county FIPS code (character) \\n   \\n \\n \\n FIPS \\n combined state and county FIPS code (character) \\n   \\n \\n \\n FIPSNO \\n fips code as numeric variable \\n   \\n \\n \\n HR7984 \\n homicide rate per 100,000 (1979-84) \\n   \\n \\n \\n HR8488 \\n homicide rate per 100,000 (1984-88) \\n   \\n \\n \\n HR8893 \\n homicide rate per 100,000 (1988-93) \\n   \\n \\n \\n HC7984 \\n homicide count (1979-84) \\n   \\n \\n \\n HC8488 \\n homicide count (1984-88) \\n   \\n \\n \\n HC8893 \\n homicide count (1988-93) \\n   \\n \\n \\n PO7984 \\n population total (1979-84) \\n   \\n \\n \\n PO8488 \\n population total (1984-88) \\n   \\n \\n \\n PO8893 \\n population total (1988-93) \\n   \\n \\n \\n PE77 \\n police expenditures per capita, 1977 \\n   \\n \\n \\n PE82 \\n police expenditures per capita, 1982 \\n   \\n \\n \\n PE87 \\n police expenditures per capita, 1987 \\n   \\n \\n \\n RDAC80 \\n resource deprivation/affluence composite variable, 1980 \\n   \\n \\n \\n RDAC85 \\n resource deprivation/affluence composite variable, 1985 \\n   \\n \\n \\n RDAC90 \\n resource deprivation/affluence composite variable, 1990 \\n   \\n \\n \\n \\n Prepared by Luc Anselin. Last updated September 10, 2004. Data provided “as is,” no warranties. \\n \\n \\n Share \\n \\n \\n \\n \\n \\n \\n \\n \\n \\n \\n \\n \\n Maintained by lixun910 Template by  Willian Justen \\n \\n \\n \\n \\n \\n'"
      ]
     },
     "execution_count": 7,
     "metadata": {},
     "output_type": "execute_result"
    }
   ],
   "source": [
    "StLouis.text"
   ]
  },
  {
   "cell_type": "code",
   "execution_count": null,
   "metadata": {},
   "outputs": [],
   "source": []
  },
  {
   "cell_type": "code",
   "execution_count": 8,
   "metadata": {},
   "outputs": [],
   "source": [
    "import requests\n",
    "import json\n",
    "from bs4 import BeautifulSoup"
   ]
  },
  {
   "cell_type": "markdown",
   "metadata": {},
   "source": [
    "## Remotes"
   ]
  },
  {
   "cell_type": "code",
   "execution_count": 9,
   "metadata": {},
   "outputs": [],
   "source": [
    "class Example:\n",
    "    def __init__(self, name, description, n, k, download_url,\n",
    "                explain_url):\n",
    "        self.name = name\n",
    "        self.description = description\n",
    "        self.n = n\n",
    "        self.k = k\n",
    "        self.download_url = download_url\n",
    "        self.explain_url = explain_url\n",
    "        self.dir = name.replace(\" \", \"_\")\n",
    "    \n",
    "    def explain(self):\n",
    "        f = self.explain_url.split(\"/\")[-1]\n",
    "        if f == 'README.md':\n",
    "            page = requests.get(self.explain_url)\n",
    "            soup = BeautifulSoup(page.text, 'html.parser')\n",
    "            print(soup.text)\n",
    "\n",
    "        else:\n",
    "            from IPython.display import IFrame\n",
    "            return IFrame(self.explain_url, width=700, height=350)\n",
    "    \n",
    "    def download(self):\n",
    "        print('Not Implemented')\n",
    "        \n",
    "    def downloaded(self):\n",
    "        print('Not Implemented')\n",
    "    \n",
    "    def json_dict(self):\n",
    "        d = {}\n",
    "        d['name'] = self.name\n",
    "        d['description'] = self.description\n",
    "        d['download_url'] = self.download_url\n",
    "        d['explain_url'] = self.explain_url\n",
    "        d['dir'] = self.dir\n",
    "        return d\n",
    "        \n",
    "        "
   ]
  },
  {
   "cell_type": "markdown",
   "metadata": {},
   "source": [
    "# Geoda Example Data Sets"
   ]
  },
  {
   "cell_type": "code",
   "execution_count": 10,
   "metadata": {},
   "outputs": [],
   "source": [
    "url = \"https://geodacenter.github.io/data-and-lab//\"\n",
    "page = requests.get(url)\n",
    "soup = BeautifulSoup(page.text, 'html.parser')\n",
    "samples = soup.find(class_='samples')\n",
    "rows = samples.find_all('tr')\n",
    "geoda_examples = {}\n",
    "    \n",
    "for row in rows[1:]:\n",
    "    data = row.find_all('td')\n",
    "    name = data[0].text.strip()\n",
    "    description = data[1].text\n",
    "    n = data[2].text\n",
    "    k = data[3].text\n",
    "    targets = row.find_all('a')\n",
    "    download_url = targets[1].attrs['href']\n",
    "    explain_url = targets[0].attrs['href']\n",
    "    geoda_examples[name] = Example(name, description, n, k, download_url, explain_url)\n",
    "    "
   ]
  },
  {
   "cell_type": "code",
   "execution_count": 11,
   "metadata": {},
   "outputs": [
    {
     "data": {
      "text/plain": [
       "dict_keys(['AirBnB', 'Atlanta', 'Baltimore', 'Cars', 'Chile Labor', 'Chile Migration', 'Cincinnati', 'Cleveland', 'Bostonhsg', 'Buenosaires', 'Charleston1', 'Charleston2', 'Columbus', 'Chicago Health', 'Denver', 'Elections', 'Grid100', 'Groceries', 'Guerry', 'Health+', 'Health Indicators', 'Hickory1', 'Hickory2', 'Home Sales', 'Houston', 'Juvenile', 'Lansing1', 'Lansing2', 'Laozone', 'LasRosas', 'Liquor Stores', 'Malaria', 'Milwaukee1', 'Milwaukee2', 'NCOVR', 'Natregimes', 'NDVI', 'Nepal', 'NYC', 'NYC Earnings', 'NYC Education', 'NYC Neighborhoods', 'NYC Socio-Demographics', 'Ohiolung', 'Orlando1', 'Orlando2', 'Oz9799', 'Phoenix ACS', 'Pittsburgh', 'Police', 'Sacramento1', 'Sacramento2', 'SanFran Crime', 'Savannah1', 'Savannah2', 'Scotlip', 'Seattle1', 'Seattle2', 'SIDS', 'SIDS2', 'South', 'StLouis', 'Tampa1'])"
      ]
     },
     "execution_count": 11,
     "metadata": {},
     "output_type": "execute_result"
    }
   ],
   "source": [
    "geoda_examples.keys()"
   ]
  },
  {
   "cell_type": "code",
   "execution_count": 12,
   "metadata": {},
   "outputs": [
    {
     "data": {
      "text/html": [
       "\n",
       "        <iframe\n",
       "            width=\"700\"\n",
       "            height=\"350\"\n",
       "            src=\"https://geodacenter.github.io/data-and-lab/Guerry/\"\n",
       "            frameborder=\"0\"\n",
       "            allowfullscreen\n",
       "        ></iframe>\n",
       "        "
      ],
      "text/plain": [
       "<IPython.lib.display.IFrame at 0x7f7fcb704a20>"
      ]
     },
     "execution_count": 12,
     "metadata": {},
     "output_type": "execute_result"
    }
   ],
   "source": [
    "guerry = geoda_examples['Guerry']\n",
    "guerry.explain()"
   ]
  },
  {
   "cell_type": "code",
   "execution_count": 13,
   "metadata": {},
   "outputs": [
    {
     "name": "stdout",
     "output_type": "stream",
     "text": [
      "Not Implemented\n"
     ]
    }
   ],
   "source": [
    "guerry.downloaded()"
   ]
  },
  {
   "cell_type": "code",
   "execution_count": 14,
   "metadata": {},
   "outputs": [
    {
     "data": {
      "text/plain": [
       "{'name': 'Guerry',\n",
       " 'description': ' Moral statistics of France (Guerry, 1833)',\n",
       " 'download_url': 'https://s3.amazonaws.com/geoda/data/guerry.zip',\n",
       " 'explain_url': 'https://geodacenter.github.io/data-and-lab/Guerry/',\n",
       " 'dir': 'Guerry'}"
      ]
     },
     "execution_count": 14,
     "metadata": {},
     "output_type": "execute_result"
    }
   ],
   "source": [
    "guerry.json_dict()"
   ]
  },
  {
   "cell_type": "markdown",
   "metadata": {},
   "source": [
    "# Other Remotes"
   ]
  },
  {
   "cell_type": "code",
   "execution_count": 15,
   "metadata": {},
   "outputs": [],
   "source": [
    "rio = Example('Rio Grande do Sul', 'Cities of the Brazilian State of Rio Grande do Sul',\n",
    "             497, 3, 'https://github.com/sjsrey/rio_grande_do_sul/archive/master.zip',\n",
    "              'https://raw.githubusercontent.com/sjsrey/rio_grande_do_sul/master/README.md')\n",
    "\n"
   ]
  },
  {
   "cell_type": "code",
   "execution_count": 16,
   "metadata": {},
   "outputs": [
    {
     "name": "stdout",
     "output_type": "stream",
     "text": [
      "Rio_Grande_do_Sul\n",
      "======================\n",
      "\n",
      "Cities of the Brazilian State of Rio Grande do Sul\n",
      "-------------------------------------------------------\n",
      "\n",
      "* 43MUE250GC_SIR.dbf: attribute data (k=2)\n",
      "* 43MUE250GC_SIR.shp: Polygon shapefile (n=499)\n",
      "* 43MUE250GC_SIR.shx: spatial index\n",
      "* 43MUE250GC_SIR.cpg: encoding file \n",
      "* 43MUE250GC_SIR.prj: projection information \n",
      "* map_RS_BR.dbf: attribute data (k=3)\n",
      "* map_RS_BR.shp: Polygon shapefile (no lakes) (n=497)\n",
      "* map_RS_BR.prj: projection information\n",
      "* map_RS_BR.shx: spatial index\n",
      "\n",
      "\n",
      "\n",
      "Source: Renan Xavier Cortes \n",
      "Reference: https://github.com/pysal/pysal/issues/889#issuecomment-396693495\n",
      "\n",
      "\n"
     ]
    }
   ],
   "source": [
    "rio.explain()"
   ]
  },
  {
   "cell_type": "code",
   "execution_count": 17,
   "metadata": {},
   "outputs": [],
   "source": [
    "examples = geoda_examples\n",
    "examples[rio.name] = rio"
   ]
  },
  {
   "cell_type": "code",
   "execution_count": 18,
   "metadata": {},
   "outputs": [],
   "source": [
    "out_dict = {}\n",
    "for example in examples:\n",
    "    out_dict[example] = examples[example].json_dict()"
   ]
  },
  {
   "cell_type": "code",
   "execution_count": 19,
   "metadata": {},
   "outputs": [
    {
     "data": {
      "text/plain": [
       "{'AirBnB': {'name': 'AirBnB',\n",
       "  'description': 'Airbnb rentals, socioeconomics, and crime in Chicago',\n",
       "  'download_url': 'https://s3.amazonaws.com/geoda/data/airbnb.zip',\n",
       "  'explain_url': 'https://geodacenter.github.io/data-and-lab//airbnb_Chicago-2015/',\n",
       "  'dir': 'AirBnB'},\n",
       " 'Atlanta': {'name': 'Atlanta',\n",
       "  'description': 'Atlanta, GA region homicide counts and rates',\n",
       "  'download_url': 'https://s3.amazonaws.com/geoda/data/atlanta_hom.zip',\n",
       "  'explain_url': 'https://geodacenter.github.io/data-and-lab//atlanta_old/',\n",
       "  'dir': 'Atlanta'},\n",
       " 'Baltimore': {'name': 'Baltimore',\n",
       "  'description': 'Baltimore house sales prices and hedonics',\n",
       "  'download_url': 'https://s3.amazonaws.com/geoda/data/baltimore.zip',\n",
       "  'explain_url': 'https://geodacenter.github.io/data-and-lab//baltim/',\n",
       "  'dir': 'Baltimore'},\n",
       " 'Cars': {'name': 'Cars',\n",
       "  'description': '2011 abandoned vehicles in Chicago (311 complaints).',\n",
       "  'download_url': 'https://s3.amazonaws.com/geoda/data/Abandoned_Vehicles_Map.csv',\n",
       "  'explain_url': 'https://geodacenter.github.io/data-and-lab//1-source-and-description/',\n",
       "  'dir': 'Cars'},\n",
       " 'Chile Labor': {'name': 'Chile Labor',\n",
       "  'description': 'Labor Markets in Chile (1982-2002)',\n",
       "  'download_url': 'https://s3.amazonaws.com/geoda/data/FMLA.zip',\n",
       "  'explain_url': 'https://geodacenter.github.io/data-and-lab//FLMA/',\n",
       "  'dir': 'Chile_Labor'},\n",
       " 'Chile Migration': {'name': 'Chile Migration',\n",
       "  'description': ' Internal Migration in Chile (1977-2002)',\n",
       "  'download_url': 'https://s3.amazonaws.com/geoda/data/CHIM.zip',\n",
       "  'explain_url': 'https://geodacenter.github.io/data-and-lab//CHIM/',\n",
       "  'dir': 'Chile_Migration'},\n",
       " 'Cincinnati': {'name': 'Cincinnati',\n",
       "  'description': ' 2008 Cincinnati Crime + Socio-Demographics',\n",
       "  'download_url': 'https://s3.amazonaws.com/geoda/data/walnuthills.zip',\n",
       "  'explain_url': 'https://geodacenter.github.io/data-and-lab//walnut_hills/',\n",
       "  'dir': 'Cincinnati'},\n",
       " 'Cleveland': {'name': 'Cleveland',\n",
       "  'description': ' 2015 sales prices of homes in Cleveland, OH.',\n",
       "  'download_url': 'https://s3.amazonaws.com/geoda/data/cleveland.zip',\n",
       "  'explain_url': 'https://geodacenter.github.io/data-and-lab//clev_sls_154_core/',\n",
       "  'dir': 'Cleveland'},\n",
       " 'Bostonhsg': {'name': 'Bostonhsg',\n",
       "  'description': 'Boston housing and neighborhood data',\n",
       "  'download_url': 'https://s3.amazonaws.com/geoda/data/boston.zip',\n",
       "  'explain_url': 'https://geodacenter.github.io/data-and-lab//boston-housing/',\n",
       "  'dir': 'Bostonhsg'},\n",
       " 'Buenosaires': {'name': 'Buenosaires',\n",
       "  'description': ' Electoral Data for 1999 Argentinean Elections',\n",
       "  'download_url': 'https://s3.amazonaws.com/geoda/data/buenosaires.zip',\n",
       "  'explain_url': 'https://geodacenter.github.io/data-and-lab//buenos-aires_old/',\n",
       "  'dir': 'Buenosaires'},\n",
       " 'Charleston1': {'name': 'Charleston1',\n",
       "  'description': ' 2000 Census Tract Data for Charleston, SC MSA and counties',\n",
       "  'download_url': 'https://s3.amazonaws.com/geoda/data/CharlestonMSA.zip',\n",
       "  'explain_url': 'https://geodacenter.github.io/data-and-lab//charleston-1_old/',\n",
       "  'dir': 'Charleston1'},\n",
       " 'Charleston2': {'name': 'Charleston2',\n",
       "  'description': ' 1998 and 2001 Zip Code Business Patterns (Census Bureau) for Charleston, SC MSA',\n",
       "  'download_url': 'https://s3.amazonaws.com/geoda/data/CharlestonMSA2.zip',\n",
       "  'explain_url': 'https://geodacenter.github.io/data-and-lab//charleston2/',\n",
       "  'dir': 'Charleston2'},\n",
       " 'Columbus': {'name': 'Columbus',\n",
       "  'description': ' Columbus neighborhood crime',\n",
       "  'download_url': 'https://s3.amazonaws.com/geoda/data/columbus.zip',\n",
       "  'explain_url': 'https://geodacenter.github.io/data-and-lab//columbus/',\n",
       "  'dir': 'Columbus'},\n",
       " 'Chicago Health': {'name': 'Chicago Health',\n",
       "  'description': ' Chicago Health + Socio-Economics',\n",
       "  'download_url': 'https://s3.amazonaws.com/geoda/data/comarea.zip',\n",
       "  'explain_url': 'https://geodacenter.github.io/data-and-lab//comarea_vars/',\n",
       "  'dir': 'Chicago_Health'},\n",
       " 'Denver': {'name': 'Denver',\n",
       "  'description': ' Demographics and housing in Denver neighborhoods.',\n",
       "  'download_url': 'https://s3.amazonaws.com/geoda/data/denver.zip',\n",
       "  'explain_url': 'https://geodacenter.github.io/data-and-lab//census_2010_excluded-variables/',\n",
       "  'dir': 'Denver'},\n",
       " 'Elections': {'name': 'Elections',\n",
       "  'description': ' 2012 and 2016 Presidential Elections',\n",
       "  'download_url': 'https://s3.amazonaws.com/geoda/data/election.zip',\n",
       "  'explain_url': 'https://geodacenter.github.io/data-and-lab//county_election_2012_2016-variables/',\n",
       "  'dir': 'Elections'},\n",
       " 'Grid100': {'name': 'Grid100',\n",
       "  'description': ' Grid with simulated variables',\n",
       "  'download_url': 'https://s3.amazonaws.com/geoda/data/grid100.zip',\n",
       "  'explain_url': 'https://geodacenter.github.io/data-and-lab//grid100/',\n",
       "  'dir': 'Grid100'},\n",
       " 'Groceries': {'name': 'Groceries',\n",
       "  'description': ' 2015 Chicago supermarkets',\n",
       "  'download_url': 'https://s3.amazonaws.com/geoda/data/grocery.zip',\n",
       "  'explain_url': 'https://geodacenter.github.io/data-and-lab//chicago_sup_vars/',\n",
       "  'dir': 'Groceries'},\n",
       " 'Guerry': {'name': 'Guerry',\n",
       "  'description': ' Moral statistics of France (Guerry, 1833)',\n",
       "  'download_url': 'https://s3.amazonaws.com/geoda/data/guerry.zip',\n",
       "  'explain_url': 'https://geodacenter.github.io/data-and-lab/Guerry/',\n",
       "  'dir': 'Guerry'},\n",
       " 'Health+': {'name': 'Health+',\n",
       "  'description': ' 2000 Health, Income + Diversity',\n",
       "  'download_url': 'https://s3.amazonaws.com/geoda/data/income_diversity.zip',\n",
       "  'explain_url': 'https://geodacenter.github.io/data-and-lab//co_income_diversity_variables/',\n",
       "  'dir': 'Health+'},\n",
       " 'Health Indicators': {'name': 'Health Indicators',\n",
       "  'description': ' Chicago Health Indicators (2005-11)',\n",
       "  'download_url': 'https://s3.amazonaws.com/geoda/data/healthIndicators.zip',\n",
       "  'explain_url': 'https://geodacenter.github.io/data-and-lab//healthindicators-variables/',\n",
       "  'dir': 'Health_Indicators'},\n",
       " 'Hickory1': {'name': 'Hickory1',\n",
       "  'description': ' 2000 Census Tract Data for Hickory, NC MSA and counties',\n",
       "  'download_url': 'https://s3.amazonaws.com/geoda/data/HickoryMSA.zip',\n",
       "  'explain_url': 'https://geodacenter.github.io/data-and-lab/hickory1/',\n",
       "  'dir': 'Hickory1'},\n",
       " 'Hickory2': {'name': 'Hickory2',\n",
       "  'description': ' 1998 and 2001 Zip Code Business Patterns (Census Bureau) for Hickory, NC MSA',\n",
       "  'download_url': 'https://s3.amazonaws.com/geoda/data/HickoryMSA2.zip',\n",
       "  'explain_url': 'https://geodacenter.github.io/data-and-lab/hickory2/',\n",
       "  'dir': 'Hickory2'},\n",
       " 'Home Sales': {'name': 'Home Sales',\n",
       "  'description': ' 2014-15 Home Sales in King County, WA',\n",
       "  'download_url': 'https://s3.amazonaws.com/geoda/data/kingcounty.zip',\n",
       "  'explain_url': 'https://geodacenter.github.io/data-and-lab//KingCounty-HouseSales2015/',\n",
       "  'dir': 'Home_Sales'},\n",
       " 'Houston': {'name': 'Houston',\n",
       "  'description': ' Houston, TX region homicide counts and rates',\n",
       "  'download_url': 'https://s3.amazonaws.com/geoda/data/houston_hom.zip',\n",
       "  'explain_url': 'https://geodacenter.github.io/data-and-lab/houston/',\n",
       "  'dir': 'Houston'},\n",
       " 'Juvenile': {'name': 'Juvenile',\n",
       "  'description': ' Cardiff juvenile delinquent residences',\n",
       "  'download_url': 'https://s3.amazonaws.com/geoda/data/juvenile.zip',\n",
       "  'explain_url': 'https://geodacenter.github.io/data-and-lab/juvenile/',\n",
       "  'dir': 'Juvenile'},\n",
       " 'Lansing1': {'name': 'Lansing1',\n",
       "  'description': ' 2000 Census Tract Data for Lansing, MI MSA and counties',\n",
       "  'download_url': 'https://s3.amazonaws.com/geoda/data/LansingMSA.zip',\n",
       "  'explain_url': 'https://geodacenter.github.io/data-and-lab/lansing1/',\n",
       "  'dir': 'Lansing1'},\n",
       " 'Lansing2': {'name': 'Lansing2',\n",
       "  'description': ' 1998 and 2001 Zip Code Business Patterns (Census Bureau) for Lansing, MI MSA',\n",
       "  'download_url': 'https://s3.amazonaws.com/geoda/data/LansingMSA2.zip',\n",
       "  'explain_url': 'https://geodacenter.github.io/data-and-lab/lansing2/',\n",
       "  'dir': 'Lansing2'},\n",
       " 'Laozone': {'name': 'Laozone',\n",
       "  'description': ' Ozone measures at monitoring stations in Los Angeles basin',\n",
       "  'download_url': 'https://s3.amazonaws.com/geoda/data/laozone.zip',\n",
       "  'explain_url': 'https://geodacenter.github.io/data-and-lab/ozone/',\n",
       "  'dir': 'Laozone'},\n",
       " 'LasRosas': {'name': 'LasRosas',\n",
       "  'description': ' Corn yield, fertilizer and field data for precision agriculture, Argentina, 1999',\n",
       "  'download_url': 'https://s3.amazonaws.com/geoda/data/lasrosas.zip',\n",
       "  'explain_url': 'https://geodacenter.github.io/data-and-lab/lasrosas/',\n",
       "  'dir': 'LasRosas'},\n",
       " 'Liquor Stores': {'name': 'Liquor Stores',\n",
       "  'description': ' 2015 Chicago Liquor Stores',\n",
       "  'download_url': 'https://s3.amazonaws.com/geoda/data/liquor.zip',\n",
       "  'explain_url': 'https://geodacenter.github.io/data-and-lab//liq_chicago/',\n",
       "  'dir': 'Liquor_Stores'},\n",
       " 'Malaria': {'name': 'Malaria',\n",
       "  'description': ' Malaria incidence and population (1973, 95, 93 censuses and projections until 2005) \\xa0 \\xa0 \\xa0',\n",
       "  'download_url': 'https://s3.amazonaws.com/geoda/data/malariacolomb.zip',\n",
       "  'explain_url': 'https://geodacenter.github.io/data-and-lab/colomb_malaria/',\n",
       "  'dir': 'Malaria'},\n",
       " 'Milwaukee1': {'name': 'Milwaukee1',\n",
       "  'description': ' 2000 Census Tract Data for Milwaukee, WI MSA',\n",
       "  'download_url': 'https://s3.amazonaws.com/geoda/data/MilwaukeeMSA.zip',\n",
       "  'explain_url': 'https://geodacenter.github.io/data-and-lab/milwaukee1/',\n",
       "  'dir': 'Milwaukee1'},\n",
       " 'Milwaukee2': {'name': 'Milwaukee2',\n",
       "  'description': ' 1998 and 2001 Zip Code Business Patterns (Census Bureau) for Milwaukee, WI MSA',\n",
       "  'download_url': 'https://s3.amazonaws.com/geoda/data/MilwaukeeMSA2.zip',\n",
       "  'explain_url': 'https://geodacenter.github.io/data-and-lab/milwaukee2/',\n",
       "  'dir': 'Milwaukee2'},\n",
       " 'NCOVR': {'name': 'NCOVR',\n",
       "  'description': ' US county homicides 1960-1990',\n",
       "  'download_url': 'https://s3.amazonaws.com/geoda/data/ncovr.zip',\n",
       "  'explain_url': 'https://geodacenter.github.io/data-and-lab/ncovr/',\n",
       "  'dir': 'NCOVR'},\n",
       " 'Natregimes': {'name': 'Natregimes',\n",
       "  'description': ' NCOVR with regimes (book/PySAL)',\n",
       "  'download_url': 'https://s3.amazonaws.com/geoda/data/natregimes.zip',\n",
       "  'explain_url': 'https://geodacenter.github.io/data-and-lab/natregimes/',\n",
       "  'dir': 'Natregimes'},\n",
       " 'NDVI': {'name': 'NDVI',\n",
       "  'description': ' Normalized Difference Vegetation Index grid',\n",
       "  'download_url': 'https://s3.amazonaws.com/geoda/data/ndvi.zip',\n",
       "  'explain_url': 'https://geodacenter.github.io/data-and-lab/ndvi/',\n",
       "  'dir': 'NDVI'},\n",
       " 'Nepal': {'name': 'Nepal',\n",
       "  'description': ' Health, poverty and education indicators for Nepal districts',\n",
       "  'download_url': 'http://s3.amazonaws.com/geoda/data/nepal.zip',\n",
       "  'explain_url': 'https://geodacenter.github.io/data-and-lab/nepal/',\n",
       "  'dir': 'Nepal'},\n",
       " 'NYC': {'name': 'NYC',\n",
       "  'description': ' Demographic and housing data for New York City subboroughs, 2002-09',\n",
       "  'download_url': 'http://s3.amazonaws.com/geoda/data/nyc.zip',\n",
       "  'explain_url': 'https://geodacenter.github.io/data-and-lab/nyc/',\n",
       "  'dir': 'NYC'},\n",
       " 'NYC Earnings': {'name': 'NYC Earnings',\n",
       "  'description': ' Block-level Earnings in NYC (2002-14)',\n",
       "  'download_url': 'https://s3.amazonaws.com/geoda/data/lehd.zip',\n",
       "  'explain_url': 'https://geodacenter.github.io/data-and-lab//LEHD_Data/',\n",
       "  'dir': 'NYC_Earnings'},\n",
       " 'NYC Education': {'name': 'NYC Education',\n",
       "  'description': ' NYC Education (2000)',\n",
       "  'download_url': 'https://s3.amazonaws.com/geoda/data/nyc_2000Census.zip',\n",
       "  'explain_url': 'https://geodacenter.github.io/data-and-lab//NYC-Census-2000/',\n",
       "  'dir': 'NYC_Education'},\n",
       " 'NYC Neighborhoods': {'name': 'NYC Neighborhoods',\n",
       "  'description': ' Demographics for New York City neighborhoods',\n",
       "  'download_url': 'https://s3.amazonaws.com/geoda/data/nycnhood_acs.zip',\n",
       "  'explain_url': 'https://geodacenter.github.io/data-and-lab//NYC-Nhood-ACS-2008-12/',\n",
       "  'dir': 'NYC_Neighborhoods'},\n",
       " 'NYC Socio-Demographics': {'name': 'NYC Socio-Demographics',\n",
       "  'description': ' NYC Education + Socio-Demographics',\n",
       "  'download_url': 'https://s3.amazonaws.com/geoda/data/nyctract_acs.zip',\n",
       "  'explain_url': 'https://geodacenter.github.io/data-and-lab//NYC_Tract_ACS2008_12/',\n",
       "  'dir': 'NYC_Socio-Demographics'},\n",
       " 'Ohiolung': {'name': 'Ohiolung',\n",
       "  'description': ' Ohio lung cancer data, 1968, 1978, 1988',\n",
       "  'download_url': 'https://s3.amazonaws.com/geoda/data/ohiolung.zip',\n",
       "  'explain_url': 'https://geodacenter.github.io/data-and-lab/ohiolung/',\n",
       "  'dir': 'Ohiolung'},\n",
       " 'Orlando1': {'name': 'Orlando1',\n",
       "  'description': ' 2000 Census Tract Data for Orlando, FL MSA and counties',\n",
       "  'download_url': 'https://s3.amazonaws.com/geoda/data/OrlandoMSA.zip',\n",
       "  'explain_url': 'https://geodacenter.github.io/data-and-lab/orlando1/',\n",
       "  'dir': 'Orlando1'},\n",
       " 'Orlando2': {'name': 'Orlando2',\n",
       "  'description': ' 1998 and 2001 Zip Code Business Patterns (Census Bureau) for Orlando, FL MSA',\n",
       "  'download_url': 'https://s3.amazonaws.com/geoda/data/OrlandoMSA2.zip',\n",
       "  'explain_url': 'https://geodacenter.github.io/data-and-lab/orlando2/',\n",
       "  'dir': 'Orlando2'},\n",
       " 'Oz9799': {'name': 'Oz9799',\n",
       "  'description': ' Monthly ozone data, 1997-99',\n",
       "  'download_url': 'https://s3.amazonaws.com/geoda/data/oz9799.zip',\n",
       "  'explain_url': 'https://geodacenter.github.io/data-and-lab/oz96/',\n",
       "  'dir': 'Oz9799'},\n",
       " 'Phoenix ACS': {'name': 'Phoenix ACS',\n",
       "  'description': ' Phoenix American Community Survey Data (2010, 5-year averages)',\n",
       "  'download_url': 'https://s3.amazonaws.com/geoda/data/phx2.zip',\n",
       "  'explain_url': 'https://geodacenter.github.io/data-and-lab/phx/',\n",
       "  'dir': 'Phoenix_ACS'},\n",
       " 'Pittsburgh': {'name': 'Pittsburgh',\n",
       "  'description': ' Pittsburgh homicide locations',\n",
       "  'download_url': 'https://s3.amazonaws.com/geoda/data/pittsburgh.zip',\n",
       "  'explain_url': 'https://geodacenter.github.io/data-and-lab/pitt93/',\n",
       "  'dir': 'Pittsburgh'},\n",
       " 'Police': {'name': 'Police',\n",
       "  'description': ' Police expenditures Mississippi counties',\n",
       "  'download_url': 'https://s3.amazonaws.com/geoda/data/police.zip',\n",
       "  'explain_url': 'https://geodacenter.github.io/data-and-lab/police/',\n",
       "  'dir': 'Police'},\n",
       " 'Sacramento1': {'name': 'Sacramento1',\n",
       "  'description': ' 2000 Census Tract Data for Sacramento MSA',\n",
       "  'download_url': 'https://s3.amazonaws.com/geoda/data/sacramento.zip',\n",
       "  'explain_url': 'https://geodacenter.github.io/data-and-lab/sacramento1/',\n",
       "  'dir': 'Sacramento1'},\n",
       " 'Sacramento2': {'name': 'Sacramento2',\n",
       "  'description': ' 1998 and 2001 Zip Code Business Patterns (Census Bureau) for Sacramento MSA',\n",
       "  'download_url': 'https://s3.amazonaws.com/geoda/data/SacramentoMSA2.zip',\n",
       "  'explain_url': 'https://geodacenter.github.io/data-and-lab/sacramento2/',\n",
       "  'dir': 'Sacramento2'},\n",
       " 'SanFran Crime': {'name': 'SanFran Crime',\n",
       "  'description': ' July-Dec 2012 crime incidents in San Francisco (points + area) - for CAST',\n",
       "  'download_url': 'https://s3.amazonaws.com/geoda/data/SFCrime_July_Dec2012.zip',\n",
       "  'explain_url': 'https://geodacenter.github.io/data-and-lab/SFcrimes_vars/',\n",
       "  'dir': 'SanFran_Crime'},\n",
       " 'Savannah1': {'name': 'Savannah1',\n",
       "  'description': ' 2000 Census Tract Data for Savannah, GA MSA and counties',\n",
       "  'download_url': 'https://s3.amazonaws.com/geoda/data/SavannahMSA.zip',\n",
       "  'explain_url': 'https://geodacenter.github.io/data-and-lab/savannah1/',\n",
       "  'dir': 'Savannah1'},\n",
       " 'Savannah2': {'name': 'Savannah2',\n",
       "  'description': ' 1998 and 2001 Zip Code Business Patterns (Census Bureau) for Savannah, GA MSA',\n",
       "  'download_url': 'https://s3.amazonaws.com/geoda/data/SavannahMSA2.zip',\n",
       "  'explain_url': 'https://geodacenter.github.io/data-and-lab/savannah2/',\n",
       "  'dir': 'Savannah2'},\n",
       " 'Scotlip': {'name': 'Scotlip',\n",
       "  'description': ' Male lip cancer in Scotland, 1975-80',\n",
       "  'download_url': 'https://s3.amazonaws.com/geoda/data/scotlip.zip',\n",
       "  'explain_url': 'https://geodacenter.github.io/data-and-lab/scotlip/',\n",
       "  'dir': 'Scotlip'},\n",
       " 'Seattle1': {'name': 'Seattle1',\n",
       "  'description': ' 2000 Census Tract Data for Seattle, WA MSA and counties',\n",
       "  'download_url': 'https://s3.amazonaws.com/geoda/data/SeattleMSA.zip',\n",
       "  'explain_url': 'https://geodacenter.github.io/data-and-lab/seattle1/',\n",
       "  'dir': 'Seattle1'},\n",
       " 'Seattle2': {'name': 'Seattle2',\n",
       "  'description': ' 1998 and 2001 Zip Code Business Patterns (Census Bureau) for Seattle, WA MSA',\n",
       "  'download_url': 'https://s3.amazonaws.com/geoda/data/SeattleMSA2.zip',\n",
       "  'explain_url': 'https://geodacenter.github.io/data-and-lab/seattle2/',\n",
       "  'dir': 'Seattle2'},\n",
       " 'SIDS': {'name': 'SIDS',\n",
       "  'description': ' North Carolina county SIDS death counts',\n",
       "  'download_url': 'https://s3.amazonaws.com/geoda/data/sids.zip',\n",
       "  'explain_url': 'https://geodacenter.github.io/data-and-lab/sids/',\n",
       "  'dir': 'SIDS'},\n",
       " 'SIDS2': {'name': 'SIDS2',\n",
       "  'description': ' North Carolina county SIDS death counts and rates',\n",
       "  'download_url': 'https://s3.amazonaws.com/geoda/data/sids2.zip',\n",
       "  'explain_url': 'https://geodacenter.github.io/data-and-lab/sids2/',\n",
       "  'dir': 'SIDS2'},\n",
       " 'South': {'name': 'South',\n",
       "  'description': ' US Southern county homicides 1960-1990',\n",
       "  'download_url': 'https://s3.amazonaws.com/geoda/data/south.zip',\n",
       "  'explain_url': 'https://geodacenter.github.io/data-and-lab/south/',\n",
       "  'dir': 'South'},\n",
       " 'StLouis': {'name': 'StLouis',\n",
       "  'description': ' St Louis region county homicide counts and rates',\n",
       "  'download_url': 'https://s3.amazonaws.com/geoda/data/stl_hom.zip',\n",
       "  'explain_url': 'https://geodacenter.github.io/data-and-lab/stlouis/',\n",
       "  'dir': 'StLouis'},\n",
       " 'Tampa1': {'name': 'Tampa1',\n",
       "  'description': ' 2000 Census Tract Data for Tampa, FL MSA and counties',\n",
       "  'download_url': 'https://s3.amazonaws.com/geoda/data/TampaMSA.zip',\n",
       "  'explain_url': 'https://geodacenter.github.io/data-and-lab/tampa1/',\n",
       "  'dir': 'Tampa1'},\n",
       " 'Rio Grande do Sul': {'name': 'Rio Grande do Sul',\n",
       "  'description': 'Cities of the Brazilian State of Rio Grande do Sul',\n",
       "  'download_url': 'https://github.com/sjsrey/rio_grande_do_sul/archive/master.zip',\n",
       "  'explain_url': 'https://raw.githubusercontent.com/sjsrey/rio_grande_do_sul/master/README.md',\n",
       "  'dir': 'Rio_Grande_do_Sul'}}"
      ]
     },
     "execution_count": 19,
     "metadata": {},
     "output_type": "execute_result"
    }
   ],
   "source": [
    "out_dict"
   ]
  },
  {
   "cell_type": "code",
   "execution_count": 20,
   "metadata": {},
   "outputs": [],
   "source": [
    "with open('examples.json', 'w') as outfile:\n",
    "    json.dump(out_dict, outfile)"
   ]
  },
  {
   "cell_type": "code",
   "execution_count": 21,
   "metadata": {},
   "outputs": [],
   "source": [
    "def _load_examples():\n",
    "    with open('examples.json') as json_file:\n",
    "        examples = json.load(json_file)\n",
    "    return examples"
   ]
  },
  {
   "cell_type": "code",
   "execution_count": 22,
   "metadata": {},
   "outputs": [],
   "source": [
    "examples = _load_examples()"
   ]
  },
  {
   "cell_type": "code",
   "execution_count": 23,
   "metadata": {},
   "outputs": [
    {
     "data": {
      "text/plain": [
       "{'AirBnB': {'name': 'AirBnB',\n",
       "  'description': 'Airbnb rentals, socioeconomics, and crime in Chicago',\n",
       "  'download_url': 'https://s3.amazonaws.com/geoda/data/airbnb.zip',\n",
       "  'explain_url': 'https://geodacenter.github.io/data-and-lab//airbnb_Chicago-2015/',\n",
       "  'dir': 'AirBnB'},\n",
       " 'Atlanta': {'name': 'Atlanta',\n",
       "  'description': 'Atlanta, GA region homicide counts and rates',\n",
       "  'download_url': 'https://s3.amazonaws.com/geoda/data/atlanta_hom.zip',\n",
       "  'explain_url': 'https://geodacenter.github.io/data-and-lab//atlanta_old/',\n",
       "  'dir': 'Atlanta'},\n",
       " 'Baltimore': {'name': 'Baltimore',\n",
       "  'description': 'Baltimore house sales prices and hedonics',\n",
       "  'download_url': 'https://s3.amazonaws.com/geoda/data/baltimore.zip',\n",
       "  'explain_url': 'https://geodacenter.github.io/data-and-lab//baltim/',\n",
       "  'dir': 'Baltimore'},\n",
       " 'Cars': {'name': 'Cars',\n",
       "  'description': '2011 abandoned vehicles in Chicago (311 complaints).',\n",
       "  'download_url': 'https://s3.amazonaws.com/geoda/data/Abandoned_Vehicles_Map.csv',\n",
       "  'explain_url': 'https://geodacenter.github.io/data-and-lab//1-source-and-description/',\n",
       "  'dir': 'Cars'},\n",
       " 'Chile Labor': {'name': 'Chile Labor',\n",
       "  'description': 'Labor Markets in Chile (1982-2002)',\n",
       "  'download_url': 'https://s3.amazonaws.com/geoda/data/FMLA.zip',\n",
       "  'explain_url': 'https://geodacenter.github.io/data-and-lab//FLMA/',\n",
       "  'dir': 'Chile_Labor'},\n",
       " 'Chile Migration': {'name': 'Chile Migration',\n",
       "  'description': ' Internal Migration in Chile (1977-2002)',\n",
       "  'download_url': 'https://s3.amazonaws.com/geoda/data/CHIM.zip',\n",
       "  'explain_url': 'https://geodacenter.github.io/data-and-lab//CHIM/',\n",
       "  'dir': 'Chile_Migration'},\n",
       " 'Cincinnati': {'name': 'Cincinnati',\n",
       "  'description': ' 2008 Cincinnati Crime + Socio-Demographics',\n",
       "  'download_url': 'https://s3.amazonaws.com/geoda/data/walnuthills.zip',\n",
       "  'explain_url': 'https://geodacenter.github.io/data-and-lab//walnut_hills/',\n",
       "  'dir': 'Cincinnati'},\n",
       " 'Cleveland': {'name': 'Cleveland',\n",
       "  'description': ' 2015 sales prices of homes in Cleveland, OH.',\n",
       "  'download_url': 'https://s3.amazonaws.com/geoda/data/cleveland.zip',\n",
       "  'explain_url': 'https://geodacenter.github.io/data-and-lab//clev_sls_154_core/',\n",
       "  'dir': 'Cleveland'},\n",
       " 'Bostonhsg': {'name': 'Bostonhsg',\n",
       "  'description': 'Boston housing and neighborhood data',\n",
       "  'download_url': 'https://s3.amazonaws.com/geoda/data/boston.zip',\n",
       "  'explain_url': 'https://geodacenter.github.io/data-and-lab//boston-housing/',\n",
       "  'dir': 'Bostonhsg'},\n",
       " 'Buenosaires': {'name': 'Buenosaires',\n",
       "  'description': ' Electoral Data for 1999 Argentinean Elections',\n",
       "  'download_url': 'https://s3.amazonaws.com/geoda/data/buenosaires.zip',\n",
       "  'explain_url': 'https://geodacenter.github.io/data-and-lab//buenos-aires_old/',\n",
       "  'dir': 'Buenosaires'},\n",
       " 'Charleston1': {'name': 'Charleston1',\n",
       "  'description': ' 2000 Census Tract Data for Charleston, SC MSA and counties',\n",
       "  'download_url': 'https://s3.amazonaws.com/geoda/data/CharlestonMSA.zip',\n",
       "  'explain_url': 'https://geodacenter.github.io/data-and-lab//charleston-1_old/',\n",
       "  'dir': 'Charleston1'},\n",
       " 'Charleston2': {'name': 'Charleston2',\n",
       "  'description': ' 1998 and 2001 Zip Code Business Patterns (Census Bureau) for Charleston, SC MSA',\n",
       "  'download_url': 'https://s3.amazonaws.com/geoda/data/CharlestonMSA2.zip',\n",
       "  'explain_url': 'https://geodacenter.github.io/data-and-lab//charleston2/',\n",
       "  'dir': 'Charleston2'},\n",
       " 'Columbus': {'name': 'Columbus',\n",
       "  'description': ' Columbus neighborhood crime',\n",
       "  'download_url': 'https://s3.amazonaws.com/geoda/data/columbus.zip',\n",
       "  'explain_url': 'https://geodacenter.github.io/data-and-lab//columbus/',\n",
       "  'dir': 'Columbus'},\n",
       " 'Chicago Health': {'name': 'Chicago Health',\n",
       "  'description': ' Chicago Health + Socio-Economics',\n",
       "  'download_url': 'https://s3.amazonaws.com/geoda/data/comarea.zip',\n",
       "  'explain_url': 'https://geodacenter.github.io/data-and-lab//comarea_vars/',\n",
       "  'dir': 'Chicago_Health'},\n",
       " 'Denver': {'name': 'Denver',\n",
       "  'description': ' Demographics and housing in Denver neighborhoods.',\n",
       "  'download_url': 'https://s3.amazonaws.com/geoda/data/denver.zip',\n",
       "  'explain_url': 'https://geodacenter.github.io/data-and-lab//census_2010_excluded-variables/',\n",
       "  'dir': 'Denver'},\n",
       " 'Elections': {'name': 'Elections',\n",
       "  'description': ' 2012 and 2016 Presidential Elections',\n",
       "  'download_url': 'https://s3.amazonaws.com/geoda/data/election.zip',\n",
       "  'explain_url': 'https://geodacenter.github.io/data-and-lab//county_election_2012_2016-variables/',\n",
       "  'dir': 'Elections'},\n",
       " 'Grid100': {'name': 'Grid100',\n",
       "  'description': ' Grid with simulated variables',\n",
       "  'download_url': 'https://s3.amazonaws.com/geoda/data/grid100.zip',\n",
       "  'explain_url': 'https://geodacenter.github.io/data-and-lab//grid100/',\n",
       "  'dir': 'Grid100'},\n",
       " 'Groceries': {'name': 'Groceries',\n",
       "  'description': ' 2015 Chicago supermarkets',\n",
       "  'download_url': 'https://s3.amazonaws.com/geoda/data/grocery.zip',\n",
       "  'explain_url': 'https://geodacenter.github.io/data-and-lab//chicago_sup_vars/',\n",
       "  'dir': 'Groceries'},\n",
       " 'Guerry': {'name': 'Guerry',\n",
       "  'description': ' Moral statistics of France (Guerry, 1833)',\n",
       "  'download_url': 'https://s3.amazonaws.com/geoda/data/guerry.zip',\n",
       "  'explain_url': 'https://geodacenter.github.io/data-and-lab/Guerry/',\n",
       "  'dir': 'Guerry'},\n",
       " 'Health+': {'name': 'Health+',\n",
       "  'description': ' 2000 Health, Income + Diversity',\n",
       "  'download_url': 'https://s3.amazonaws.com/geoda/data/income_diversity.zip',\n",
       "  'explain_url': 'https://geodacenter.github.io/data-and-lab//co_income_diversity_variables/',\n",
       "  'dir': 'Health+'},\n",
       " 'Health Indicators': {'name': 'Health Indicators',\n",
       "  'description': ' Chicago Health Indicators (2005-11)',\n",
       "  'download_url': 'https://s3.amazonaws.com/geoda/data/healthIndicators.zip',\n",
       "  'explain_url': 'https://geodacenter.github.io/data-and-lab//healthindicators-variables/',\n",
       "  'dir': 'Health_Indicators'},\n",
       " 'Hickory1': {'name': 'Hickory1',\n",
       "  'description': ' 2000 Census Tract Data for Hickory, NC MSA and counties',\n",
       "  'download_url': 'https://s3.amazonaws.com/geoda/data/HickoryMSA.zip',\n",
       "  'explain_url': 'https://geodacenter.github.io/data-and-lab/hickory1/',\n",
       "  'dir': 'Hickory1'},\n",
       " 'Hickory2': {'name': 'Hickory2',\n",
       "  'description': ' 1998 and 2001 Zip Code Business Patterns (Census Bureau) for Hickory, NC MSA',\n",
       "  'download_url': 'https://s3.amazonaws.com/geoda/data/HickoryMSA2.zip',\n",
       "  'explain_url': 'https://geodacenter.github.io/data-and-lab/hickory2/',\n",
       "  'dir': 'Hickory2'},\n",
       " 'Home Sales': {'name': 'Home Sales',\n",
       "  'description': ' 2014-15 Home Sales in King County, WA',\n",
       "  'download_url': 'https://s3.amazonaws.com/geoda/data/kingcounty.zip',\n",
       "  'explain_url': 'https://geodacenter.github.io/data-and-lab//KingCounty-HouseSales2015/',\n",
       "  'dir': 'Home_Sales'},\n",
       " 'Houston': {'name': 'Houston',\n",
       "  'description': ' Houston, TX region homicide counts and rates',\n",
       "  'download_url': 'https://s3.amazonaws.com/geoda/data/houston_hom.zip',\n",
       "  'explain_url': 'https://geodacenter.github.io/data-and-lab/houston/',\n",
       "  'dir': 'Houston'},\n",
       " 'Juvenile': {'name': 'Juvenile',\n",
       "  'description': ' Cardiff juvenile delinquent residences',\n",
       "  'download_url': 'https://s3.amazonaws.com/geoda/data/juvenile.zip',\n",
       "  'explain_url': 'https://geodacenter.github.io/data-and-lab/juvenile/',\n",
       "  'dir': 'Juvenile'},\n",
       " 'Lansing1': {'name': 'Lansing1',\n",
       "  'description': ' 2000 Census Tract Data for Lansing, MI MSA and counties',\n",
       "  'download_url': 'https://s3.amazonaws.com/geoda/data/LansingMSA.zip',\n",
       "  'explain_url': 'https://geodacenter.github.io/data-and-lab/lansing1/',\n",
       "  'dir': 'Lansing1'},\n",
       " 'Lansing2': {'name': 'Lansing2',\n",
       "  'description': ' 1998 and 2001 Zip Code Business Patterns (Census Bureau) for Lansing, MI MSA',\n",
       "  'download_url': 'https://s3.amazonaws.com/geoda/data/LansingMSA2.zip',\n",
       "  'explain_url': 'https://geodacenter.github.io/data-and-lab/lansing2/',\n",
       "  'dir': 'Lansing2'},\n",
       " 'Laozone': {'name': 'Laozone',\n",
       "  'description': ' Ozone measures at monitoring stations in Los Angeles basin',\n",
       "  'download_url': 'https://s3.amazonaws.com/geoda/data/laozone.zip',\n",
       "  'explain_url': 'https://geodacenter.github.io/data-and-lab/ozone/',\n",
       "  'dir': 'Laozone'},\n",
       " 'LasRosas': {'name': 'LasRosas',\n",
       "  'description': ' Corn yield, fertilizer and field data for precision agriculture, Argentina, 1999',\n",
       "  'download_url': 'https://s3.amazonaws.com/geoda/data/lasrosas.zip',\n",
       "  'explain_url': 'https://geodacenter.github.io/data-and-lab/lasrosas/',\n",
       "  'dir': 'LasRosas'},\n",
       " 'Liquor Stores': {'name': 'Liquor Stores',\n",
       "  'description': ' 2015 Chicago Liquor Stores',\n",
       "  'download_url': 'https://s3.amazonaws.com/geoda/data/liquor.zip',\n",
       "  'explain_url': 'https://geodacenter.github.io/data-and-lab//liq_chicago/',\n",
       "  'dir': 'Liquor_Stores'},\n",
       " 'Malaria': {'name': 'Malaria',\n",
       "  'description': ' Malaria incidence and population (1973, 95, 93 censuses and projections until 2005) \\xa0 \\xa0 \\xa0',\n",
       "  'download_url': 'https://s3.amazonaws.com/geoda/data/malariacolomb.zip',\n",
       "  'explain_url': 'https://geodacenter.github.io/data-and-lab/colomb_malaria/',\n",
       "  'dir': 'Malaria'},\n",
       " 'Milwaukee1': {'name': 'Milwaukee1',\n",
       "  'description': ' 2000 Census Tract Data for Milwaukee, WI MSA',\n",
       "  'download_url': 'https://s3.amazonaws.com/geoda/data/MilwaukeeMSA.zip',\n",
       "  'explain_url': 'https://geodacenter.github.io/data-and-lab/milwaukee1/',\n",
       "  'dir': 'Milwaukee1'},\n",
       " 'Milwaukee2': {'name': 'Milwaukee2',\n",
       "  'description': ' 1998 and 2001 Zip Code Business Patterns (Census Bureau) for Milwaukee, WI MSA',\n",
       "  'download_url': 'https://s3.amazonaws.com/geoda/data/MilwaukeeMSA2.zip',\n",
       "  'explain_url': 'https://geodacenter.github.io/data-and-lab/milwaukee2/',\n",
       "  'dir': 'Milwaukee2'},\n",
       " 'NCOVR': {'name': 'NCOVR',\n",
       "  'description': ' US county homicides 1960-1990',\n",
       "  'download_url': 'https://s3.amazonaws.com/geoda/data/ncovr.zip',\n",
       "  'explain_url': 'https://geodacenter.github.io/data-and-lab/ncovr/',\n",
       "  'dir': 'NCOVR'},\n",
       " 'Natregimes': {'name': 'Natregimes',\n",
       "  'description': ' NCOVR with regimes (book/PySAL)',\n",
       "  'download_url': 'https://s3.amazonaws.com/geoda/data/natregimes.zip',\n",
       "  'explain_url': 'https://geodacenter.github.io/data-and-lab/natregimes/',\n",
       "  'dir': 'Natregimes'},\n",
       " 'NDVI': {'name': 'NDVI',\n",
       "  'description': ' Normalized Difference Vegetation Index grid',\n",
       "  'download_url': 'https://s3.amazonaws.com/geoda/data/ndvi.zip',\n",
       "  'explain_url': 'https://geodacenter.github.io/data-and-lab/ndvi/',\n",
       "  'dir': 'NDVI'},\n",
       " 'Nepal': {'name': 'Nepal',\n",
       "  'description': ' Health, poverty and education indicators for Nepal districts',\n",
       "  'download_url': 'http://s3.amazonaws.com/geoda/data/nepal.zip',\n",
       "  'explain_url': 'https://geodacenter.github.io/data-and-lab/nepal/',\n",
       "  'dir': 'Nepal'},\n",
       " 'NYC': {'name': 'NYC',\n",
       "  'description': ' Demographic and housing data for New York City subboroughs, 2002-09',\n",
       "  'download_url': 'http://s3.amazonaws.com/geoda/data/nyc.zip',\n",
       "  'explain_url': 'https://geodacenter.github.io/data-and-lab/nyc/',\n",
       "  'dir': 'NYC'},\n",
       " 'NYC Earnings': {'name': 'NYC Earnings',\n",
       "  'description': ' Block-level Earnings in NYC (2002-14)',\n",
       "  'download_url': 'https://s3.amazonaws.com/geoda/data/lehd.zip',\n",
       "  'explain_url': 'https://geodacenter.github.io/data-and-lab//LEHD_Data/',\n",
       "  'dir': 'NYC_Earnings'},\n",
       " 'NYC Education': {'name': 'NYC Education',\n",
       "  'description': ' NYC Education (2000)',\n",
       "  'download_url': 'https://s3.amazonaws.com/geoda/data/nyc_2000Census.zip',\n",
       "  'explain_url': 'https://geodacenter.github.io/data-and-lab//NYC-Census-2000/',\n",
       "  'dir': 'NYC_Education'},\n",
       " 'NYC Neighborhoods': {'name': 'NYC Neighborhoods',\n",
       "  'description': ' Demographics for New York City neighborhoods',\n",
       "  'download_url': 'https://s3.amazonaws.com/geoda/data/nycnhood_acs.zip',\n",
       "  'explain_url': 'https://geodacenter.github.io/data-and-lab//NYC-Nhood-ACS-2008-12/',\n",
       "  'dir': 'NYC_Neighborhoods'},\n",
       " 'NYC Socio-Demographics': {'name': 'NYC Socio-Demographics',\n",
       "  'description': ' NYC Education + Socio-Demographics',\n",
       "  'download_url': 'https://s3.amazonaws.com/geoda/data/nyctract_acs.zip',\n",
       "  'explain_url': 'https://geodacenter.github.io/data-and-lab//NYC_Tract_ACS2008_12/',\n",
       "  'dir': 'NYC_Socio-Demographics'},\n",
       " 'Ohiolung': {'name': 'Ohiolung',\n",
       "  'description': ' Ohio lung cancer data, 1968, 1978, 1988',\n",
       "  'download_url': 'https://s3.amazonaws.com/geoda/data/ohiolung.zip',\n",
       "  'explain_url': 'https://geodacenter.github.io/data-and-lab/ohiolung/',\n",
       "  'dir': 'Ohiolung'},\n",
       " 'Orlando1': {'name': 'Orlando1',\n",
       "  'description': ' 2000 Census Tract Data for Orlando, FL MSA and counties',\n",
       "  'download_url': 'https://s3.amazonaws.com/geoda/data/OrlandoMSA.zip',\n",
       "  'explain_url': 'https://geodacenter.github.io/data-and-lab/orlando1/',\n",
       "  'dir': 'Orlando1'},\n",
       " 'Orlando2': {'name': 'Orlando2',\n",
       "  'description': ' 1998 and 2001 Zip Code Business Patterns (Census Bureau) for Orlando, FL MSA',\n",
       "  'download_url': 'https://s3.amazonaws.com/geoda/data/OrlandoMSA2.zip',\n",
       "  'explain_url': 'https://geodacenter.github.io/data-and-lab/orlando2/',\n",
       "  'dir': 'Orlando2'},\n",
       " 'Oz9799': {'name': 'Oz9799',\n",
       "  'description': ' Monthly ozone data, 1997-99',\n",
       "  'download_url': 'https://s3.amazonaws.com/geoda/data/oz9799.zip',\n",
       "  'explain_url': 'https://geodacenter.github.io/data-and-lab/oz96/',\n",
       "  'dir': 'Oz9799'},\n",
       " 'Phoenix ACS': {'name': 'Phoenix ACS',\n",
       "  'description': ' Phoenix American Community Survey Data (2010, 5-year averages)',\n",
       "  'download_url': 'https://s3.amazonaws.com/geoda/data/phx2.zip',\n",
       "  'explain_url': 'https://geodacenter.github.io/data-and-lab/phx/',\n",
       "  'dir': 'Phoenix_ACS'},\n",
       " 'Pittsburgh': {'name': 'Pittsburgh',\n",
       "  'description': ' Pittsburgh homicide locations',\n",
       "  'download_url': 'https://s3.amazonaws.com/geoda/data/pittsburgh.zip',\n",
       "  'explain_url': 'https://geodacenter.github.io/data-and-lab/pitt93/',\n",
       "  'dir': 'Pittsburgh'},\n",
       " 'Police': {'name': 'Police',\n",
       "  'description': ' Police expenditures Mississippi counties',\n",
       "  'download_url': 'https://s3.amazonaws.com/geoda/data/police.zip',\n",
       "  'explain_url': 'https://geodacenter.github.io/data-and-lab/police/',\n",
       "  'dir': 'Police'},\n",
       " 'Sacramento1': {'name': 'Sacramento1',\n",
       "  'description': ' 2000 Census Tract Data for Sacramento MSA',\n",
       "  'download_url': 'https://s3.amazonaws.com/geoda/data/sacramento.zip',\n",
       "  'explain_url': 'https://geodacenter.github.io/data-and-lab/sacramento1/',\n",
       "  'dir': 'Sacramento1'},\n",
       " 'Sacramento2': {'name': 'Sacramento2',\n",
       "  'description': ' 1998 and 2001 Zip Code Business Patterns (Census Bureau) for Sacramento MSA',\n",
       "  'download_url': 'https://s3.amazonaws.com/geoda/data/SacramentoMSA2.zip',\n",
       "  'explain_url': 'https://geodacenter.github.io/data-and-lab/sacramento2/',\n",
       "  'dir': 'Sacramento2'},\n",
       " 'SanFran Crime': {'name': 'SanFran Crime',\n",
       "  'description': ' July-Dec 2012 crime incidents in San Francisco (points + area) - for CAST',\n",
       "  'download_url': 'https://s3.amazonaws.com/geoda/data/SFCrime_July_Dec2012.zip',\n",
       "  'explain_url': 'https://geodacenter.github.io/data-and-lab/SFcrimes_vars/',\n",
       "  'dir': 'SanFran_Crime'},\n",
       " 'Savannah1': {'name': 'Savannah1',\n",
       "  'description': ' 2000 Census Tract Data for Savannah, GA MSA and counties',\n",
       "  'download_url': 'https://s3.amazonaws.com/geoda/data/SavannahMSA.zip',\n",
       "  'explain_url': 'https://geodacenter.github.io/data-and-lab/savannah1/',\n",
       "  'dir': 'Savannah1'},\n",
       " 'Savannah2': {'name': 'Savannah2',\n",
       "  'description': ' 1998 and 2001 Zip Code Business Patterns (Census Bureau) for Savannah, GA MSA',\n",
       "  'download_url': 'https://s3.amazonaws.com/geoda/data/SavannahMSA2.zip',\n",
       "  'explain_url': 'https://geodacenter.github.io/data-and-lab/savannah2/',\n",
       "  'dir': 'Savannah2'},\n",
       " 'Scotlip': {'name': 'Scotlip',\n",
       "  'description': ' Male lip cancer in Scotland, 1975-80',\n",
       "  'download_url': 'https://s3.amazonaws.com/geoda/data/scotlip.zip',\n",
       "  'explain_url': 'https://geodacenter.github.io/data-and-lab/scotlip/',\n",
       "  'dir': 'Scotlip'},\n",
       " 'Seattle1': {'name': 'Seattle1',\n",
       "  'description': ' 2000 Census Tract Data for Seattle, WA MSA and counties',\n",
       "  'download_url': 'https://s3.amazonaws.com/geoda/data/SeattleMSA.zip',\n",
       "  'explain_url': 'https://geodacenter.github.io/data-and-lab/seattle1/',\n",
       "  'dir': 'Seattle1'},\n",
       " 'Seattle2': {'name': 'Seattle2',\n",
       "  'description': ' 1998 and 2001 Zip Code Business Patterns (Census Bureau) for Seattle, WA MSA',\n",
       "  'download_url': 'https://s3.amazonaws.com/geoda/data/SeattleMSA2.zip',\n",
       "  'explain_url': 'https://geodacenter.github.io/data-and-lab/seattle2/',\n",
       "  'dir': 'Seattle2'},\n",
       " 'SIDS': {'name': 'SIDS',\n",
       "  'description': ' North Carolina county SIDS death counts',\n",
       "  'download_url': 'https://s3.amazonaws.com/geoda/data/sids.zip',\n",
       "  'explain_url': 'https://geodacenter.github.io/data-and-lab/sids/',\n",
       "  'dir': 'SIDS'},\n",
       " 'SIDS2': {'name': 'SIDS2',\n",
       "  'description': ' North Carolina county SIDS death counts and rates',\n",
       "  'download_url': 'https://s3.amazonaws.com/geoda/data/sids2.zip',\n",
       "  'explain_url': 'https://geodacenter.github.io/data-and-lab/sids2/',\n",
       "  'dir': 'SIDS2'},\n",
       " 'South': {'name': 'South',\n",
       "  'description': ' US Southern county homicides 1960-1990',\n",
       "  'download_url': 'https://s3.amazonaws.com/geoda/data/south.zip',\n",
       "  'explain_url': 'https://geodacenter.github.io/data-and-lab/south/',\n",
       "  'dir': 'South'},\n",
       " 'StLouis': {'name': 'StLouis',\n",
       "  'description': ' St Louis region county homicide counts and rates',\n",
       "  'download_url': 'https://s3.amazonaws.com/geoda/data/stl_hom.zip',\n",
       "  'explain_url': 'https://geodacenter.github.io/data-and-lab/stlouis/',\n",
       "  'dir': 'StLouis'},\n",
       " 'Tampa1': {'name': 'Tampa1',\n",
       "  'description': ' 2000 Census Tract Data for Tampa, FL MSA and counties',\n",
       "  'download_url': 'https://s3.amazonaws.com/geoda/data/TampaMSA.zip',\n",
       "  'explain_url': 'https://geodacenter.github.io/data-and-lab/tampa1/',\n",
       "  'dir': 'Tampa1'},\n",
       " 'Rio Grande do Sul': {'name': 'Rio Grande do Sul',\n",
       "  'description': 'Cities of the Brazilian State of Rio Grande do Sul',\n",
       "  'download_url': 'https://github.com/sjsrey/rio_grande_do_sul/archive/master.zip',\n",
       "  'explain_url': 'https://raw.githubusercontent.com/sjsrey/rio_grande_do_sul/master/README.md',\n",
       "  'dir': 'Rio_Grande_do_Sul'}}"
      ]
     },
     "execution_count": 23,
     "metadata": {},
     "output_type": "execute_result"
    }
   ],
   "source": [
    "examples"
   ]
  },
  {
   "cell_type": "code",
   "execution_count": 24,
   "metadata": {},
   "outputs": [],
   "source": [
    "with open('examples.json') as json_file:\n",
    "    examples = json.load(json_file)"
   ]
  },
  {
   "cell_type": "code",
   "execution_count": 25,
   "metadata": {},
   "outputs": [
    {
     "data": {
      "text/plain": [
       "{'AirBnB': {'name': 'AirBnB',\n",
       "  'description': 'Airbnb rentals, socioeconomics, and crime in Chicago',\n",
       "  'download_url': 'https://s3.amazonaws.com/geoda/data/airbnb.zip',\n",
       "  'explain_url': 'https://geodacenter.github.io/data-and-lab//airbnb_Chicago-2015/',\n",
       "  'dir': 'AirBnB'},\n",
       " 'Atlanta': {'name': 'Atlanta',\n",
       "  'description': 'Atlanta, GA region homicide counts and rates',\n",
       "  'download_url': 'https://s3.amazonaws.com/geoda/data/atlanta_hom.zip',\n",
       "  'explain_url': 'https://geodacenter.github.io/data-and-lab//atlanta_old/',\n",
       "  'dir': 'Atlanta'},\n",
       " 'Baltimore': {'name': 'Baltimore',\n",
       "  'description': 'Baltimore house sales prices and hedonics',\n",
       "  'download_url': 'https://s3.amazonaws.com/geoda/data/baltimore.zip',\n",
       "  'explain_url': 'https://geodacenter.github.io/data-and-lab//baltim/',\n",
       "  'dir': 'Baltimore'},\n",
       " 'Cars': {'name': 'Cars',\n",
       "  'description': '2011 abandoned vehicles in Chicago (311 complaints).',\n",
       "  'download_url': 'https://s3.amazonaws.com/geoda/data/Abandoned_Vehicles_Map.csv',\n",
       "  'explain_url': 'https://geodacenter.github.io/data-and-lab//1-source-and-description/',\n",
       "  'dir': 'Cars'},\n",
       " 'Chile Labor': {'name': 'Chile Labor',\n",
       "  'description': 'Labor Markets in Chile (1982-2002)',\n",
       "  'download_url': 'https://s3.amazonaws.com/geoda/data/FMLA.zip',\n",
       "  'explain_url': 'https://geodacenter.github.io/data-and-lab//FLMA/',\n",
       "  'dir': 'Chile_Labor'},\n",
       " 'Chile Migration': {'name': 'Chile Migration',\n",
       "  'description': ' Internal Migration in Chile (1977-2002)',\n",
       "  'download_url': 'https://s3.amazonaws.com/geoda/data/CHIM.zip',\n",
       "  'explain_url': 'https://geodacenter.github.io/data-and-lab//CHIM/',\n",
       "  'dir': 'Chile_Migration'},\n",
       " 'Cincinnati': {'name': 'Cincinnati',\n",
       "  'description': ' 2008 Cincinnati Crime + Socio-Demographics',\n",
       "  'download_url': 'https://s3.amazonaws.com/geoda/data/walnuthills.zip',\n",
       "  'explain_url': 'https://geodacenter.github.io/data-and-lab//walnut_hills/',\n",
       "  'dir': 'Cincinnati'},\n",
       " 'Cleveland': {'name': 'Cleveland',\n",
       "  'description': ' 2015 sales prices of homes in Cleveland, OH.',\n",
       "  'download_url': 'https://s3.amazonaws.com/geoda/data/cleveland.zip',\n",
       "  'explain_url': 'https://geodacenter.github.io/data-and-lab//clev_sls_154_core/',\n",
       "  'dir': 'Cleveland'},\n",
       " 'Bostonhsg': {'name': 'Bostonhsg',\n",
       "  'description': 'Boston housing and neighborhood data',\n",
       "  'download_url': 'https://s3.amazonaws.com/geoda/data/boston.zip',\n",
       "  'explain_url': 'https://geodacenter.github.io/data-and-lab//boston-housing/',\n",
       "  'dir': 'Bostonhsg'},\n",
       " 'Buenosaires': {'name': 'Buenosaires',\n",
       "  'description': ' Electoral Data for 1999 Argentinean Elections',\n",
       "  'download_url': 'https://s3.amazonaws.com/geoda/data/buenosaires.zip',\n",
       "  'explain_url': 'https://geodacenter.github.io/data-and-lab//buenos-aires_old/',\n",
       "  'dir': 'Buenosaires'},\n",
       " 'Charleston1': {'name': 'Charleston1',\n",
       "  'description': ' 2000 Census Tract Data for Charleston, SC MSA and counties',\n",
       "  'download_url': 'https://s3.amazonaws.com/geoda/data/CharlestonMSA.zip',\n",
       "  'explain_url': 'https://geodacenter.github.io/data-and-lab//charleston-1_old/',\n",
       "  'dir': 'Charleston1'},\n",
       " 'Charleston2': {'name': 'Charleston2',\n",
       "  'description': ' 1998 and 2001 Zip Code Business Patterns (Census Bureau) for Charleston, SC MSA',\n",
       "  'download_url': 'https://s3.amazonaws.com/geoda/data/CharlestonMSA2.zip',\n",
       "  'explain_url': 'https://geodacenter.github.io/data-and-lab//charleston2/',\n",
       "  'dir': 'Charleston2'},\n",
       " 'Columbus': {'name': 'Columbus',\n",
       "  'description': ' Columbus neighborhood crime',\n",
       "  'download_url': 'https://s3.amazonaws.com/geoda/data/columbus.zip',\n",
       "  'explain_url': 'https://geodacenter.github.io/data-and-lab//columbus/',\n",
       "  'dir': 'Columbus'},\n",
       " 'Chicago Health': {'name': 'Chicago Health',\n",
       "  'description': ' Chicago Health + Socio-Economics',\n",
       "  'download_url': 'https://s3.amazonaws.com/geoda/data/comarea.zip',\n",
       "  'explain_url': 'https://geodacenter.github.io/data-and-lab//comarea_vars/',\n",
       "  'dir': 'Chicago_Health'},\n",
       " 'Denver': {'name': 'Denver',\n",
       "  'description': ' Demographics and housing in Denver neighborhoods.',\n",
       "  'download_url': 'https://s3.amazonaws.com/geoda/data/denver.zip',\n",
       "  'explain_url': 'https://geodacenter.github.io/data-and-lab//census_2010_excluded-variables/',\n",
       "  'dir': 'Denver'},\n",
       " 'Elections': {'name': 'Elections',\n",
       "  'description': ' 2012 and 2016 Presidential Elections',\n",
       "  'download_url': 'https://s3.amazonaws.com/geoda/data/election.zip',\n",
       "  'explain_url': 'https://geodacenter.github.io/data-and-lab//county_election_2012_2016-variables/',\n",
       "  'dir': 'Elections'},\n",
       " 'Grid100': {'name': 'Grid100',\n",
       "  'description': ' Grid with simulated variables',\n",
       "  'download_url': 'https://s3.amazonaws.com/geoda/data/grid100.zip',\n",
       "  'explain_url': 'https://geodacenter.github.io/data-and-lab//grid100/',\n",
       "  'dir': 'Grid100'},\n",
       " 'Groceries': {'name': 'Groceries',\n",
       "  'description': ' 2015 Chicago supermarkets',\n",
       "  'download_url': 'https://s3.amazonaws.com/geoda/data/grocery.zip',\n",
       "  'explain_url': 'https://geodacenter.github.io/data-and-lab//chicago_sup_vars/',\n",
       "  'dir': 'Groceries'},\n",
       " 'Guerry': {'name': 'Guerry',\n",
       "  'description': ' Moral statistics of France (Guerry, 1833)',\n",
       "  'download_url': 'https://s3.amazonaws.com/geoda/data/guerry.zip',\n",
       "  'explain_url': 'https://geodacenter.github.io/data-and-lab/Guerry/',\n",
       "  'dir': 'Guerry'},\n",
       " 'Health+': {'name': 'Health+',\n",
       "  'description': ' 2000 Health, Income + Diversity',\n",
       "  'download_url': 'https://s3.amazonaws.com/geoda/data/income_diversity.zip',\n",
       "  'explain_url': 'https://geodacenter.github.io/data-and-lab//co_income_diversity_variables/',\n",
       "  'dir': 'Health+'},\n",
       " 'Health Indicators': {'name': 'Health Indicators',\n",
       "  'description': ' Chicago Health Indicators (2005-11)',\n",
       "  'download_url': 'https://s3.amazonaws.com/geoda/data/healthIndicators.zip',\n",
       "  'explain_url': 'https://geodacenter.github.io/data-and-lab//healthindicators-variables/',\n",
       "  'dir': 'Health_Indicators'},\n",
       " 'Hickory1': {'name': 'Hickory1',\n",
       "  'description': ' 2000 Census Tract Data for Hickory, NC MSA and counties',\n",
       "  'download_url': 'https://s3.amazonaws.com/geoda/data/HickoryMSA.zip',\n",
       "  'explain_url': 'https://geodacenter.github.io/data-and-lab/hickory1/',\n",
       "  'dir': 'Hickory1'},\n",
       " 'Hickory2': {'name': 'Hickory2',\n",
       "  'description': ' 1998 and 2001 Zip Code Business Patterns (Census Bureau) for Hickory, NC MSA',\n",
       "  'download_url': 'https://s3.amazonaws.com/geoda/data/HickoryMSA2.zip',\n",
       "  'explain_url': 'https://geodacenter.github.io/data-and-lab/hickory2/',\n",
       "  'dir': 'Hickory2'},\n",
       " 'Home Sales': {'name': 'Home Sales',\n",
       "  'description': ' 2014-15 Home Sales in King County, WA',\n",
       "  'download_url': 'https://s3.amazonaws.com/geoda/data/kingcounty.zip',\n",
       "  'explain_url': 'https://geodacenter.github.io/data-and-lab//KingCounty-HouseSales2015/',\n",
       "  'dir': 'Home_Sales'},\n",
       " 'Houston': {'name': 'Houston',\n",
       "  'description': ' Houston, TX region homicide counts and rates',\n",
       "  'download_url': 'https://s3.amazonaws.com/geoda/data/houston_hom.zip',\n",
       "  'explain_url': 'https://geodacenter.github.io/data-and-lab/houston/',\n",
       "  'dir': 'Houston'},\n",
       " 'Juvenile': {'name': 'Juvenile',\n",
       "  'description': ' Cardiff juvenile delinquent residences',\n",
       "  'download_url': 'https://s3.amazonaws.com/geoda/data/juvenile.zip',\n",
       "  'explain_url': 'https://geodacenter.github.io/data-and-lab/juvenile/',\n",
       "  'dir': 'Juvenile'},\n",
       " 'Lansing1': {'name': 'Lansing1',\n",
       "  'description': ' 2000 Census Tract Data for Lansing, MI MSA and counties',\n",
       "  'download_url': 'https://s3.amazonaws.com/geoda/data/LansingMSA.zip',\n",
       "  'explain_url': 'https://geodacenter.github.io/data-and-lab/lansing1/',\n",
       "  'dir': 'Lansing1'},\n",
       " 'Lansing2': {'name': 'Lansing2',\n",
       "  'description': ' 1998 and 2001 Zip Code Business Patterns (Census Bureau) for Lansing, MI MSA',\n",
       "  'download_url': 'https://s3.amazonaws.com/geoda/data/LansingMSA2.zip',\n",
       "  'explain_url': 'https://geodacenter.github.io/data-and-lab/lansing2/',\n",
       "  'dir': 'Lansing2'},\n",
       " 'Laozone': {'name': 'Laozone',\n",
       "  'description': ' Ozone measures at monitoring stations in Los Angeles basin',\n",
       "  'download_url': 'https://s3.amazonaws.com/geoda/data/laozone.zip',\n",
       "  'explain_url': 'https://geodacenter.github.io/data-and-lab/ozone/',\n",
       "  'dir': 'Laozone'},\n",
       " 'LasRosas': {'name': 'LasRosas',\n",
       "  'description': ' Corn yield, fertilizer and field data for precision agriculture, Argentina, 1999',\n",
       "  'download_url': 'https://s3.amazonaws.com/geoda/data/lasrosas.zip',\n",
       "  'explain_url': 'https://geodacenter.github.io/data-and-lab/lasrosas/',\n",
       "  'dir': 'LasRosas'},\n",
       " 'Liquor Stores': {'name': 'Liquor Stores',\n",
       "  'description': ' 2015 Chicago Liquor Stores',\n",
       "  'download_url': 'https://s3.amazonaws.com/geoda/data/liquor.zip',\n",
       "  'explain_url': 'https://geodacenter.github.io/data-and-lab//liq_chicago/',\n",
       "  'dir': 'Liquor_Stores'},\n",
       " 'Malaria': {'name': 'Malaria',\n",
       "  'description': ' Malaria incidence and population (1973, 95, 93 censuses and projections until 2005) \\xa0 \\xa0 \\xa0',\n",
       "  'download_url': 'https://s3.amazonaws.com/geoda/data/malariacolomb.zip',\n",
       "  'explain_url': 'https://geodacenter.github.io/data-and-lab/colomb_malaria/',\n",
       "  'dir': 'Malaria'},\n",
       " 'Milwaukee1': {'name': 'Milwaukee1',\n",
       "  'description': ' 2000 Census Tract Data for Milwaukee, WI MSA',\n",
       "  'download_url': 'https://s3.amazonaws.com/geoda/data/MilwaukeeMSA.zip',\n",
       "  'explain_url': 'https://geodacenter.github.io/data-and-lab/milwaukee1/',\n",
       "  'dir': 'Milwaukee1'},\n",
       " 'Milwaukee2': {'name': 'Milwaukee2',\n",
       "  'description': ' 1998 and 2001 Zip Code Business Patterns (Census Bureau) for Milwaukee, WI MSA',\n",
       "  'download_url': 'https://s3.amazonaws.com/geoda/data/MilwaukeeMSA2.zip',\n",
       "  'explain_url': 'https://geodacenter.github.io/data-and-lab/milwaukee2/',\n",
       "  'dir': 'Milwaukee2'},\n",
       " 'NCOVR': {'name': 'NCOVR',\n",
       "  'description': ' US county homicides 1960-1990',\n",
       "  'download_url': 'https://s3.amazonaws.com/geoda/data/ncovr.zip',\n",
       "  'explain_url': 'https://geodacenter.github.io/data-and-lab/ncovr/',\n",
       "  'dir': 'NCOVR'},\n",
       " 'Natregimes': {'name': 'Natregimes',\n",
       "  'description': ' NCOVR with regimes (book/PySAL)',\n",
       "  'download_url': 'https://s3.amazonaws.com/geoda/data/natregimes.zip',\n",
       "  'explain_url': 'https://geodacenter.github.io/data-and-lab/natregimes/',\n",
       "  'dir': 'Natregimes'},\n",
       " 'NDVI': {'name': 'NDVI',\n",
       "  'description': ' Normalized Difference Vegetation Index grid',\n",
       "  'download_url': 'https://s3.amazonaws.com/geoda/data/ndvi.zip',\n",
       "  'explain_url': 'https://geodacenter.github.io/data-and-lab/ndvi/',\n",
       "  'dir': 'NDVI'},\n",
       " 'Nepal': {'name': 'Nepal',\n",
       "  'description': ' Health, poverty and education indicators for Nepal districts',\n",
       "  'download_url': 'http://s3.amazonaws.com/geoda/data/nepal.zip',\n",
       "  'explain_url': 'https://geodacenter.github.io/data-and-lab/nepal/',\n",
       "  'dir': 'Nepal'},\n",
       " 'NYC': {'name': 'NYC',\n",
       "  'description': ' Demographic and housing data for New York City subboroughs, 2002-09',\n",
       "  'download_url': 'http://s3.amazonaws.com/geoda/data/nyc.zip',\n",
       "  'explain_url': 'https://geodacenter.github.io/data-and-lab/nyc/',\n",
       "  'dir': 'NYC'},\n",
       " 'NYC Earnings': {'name': 'NYC Earnings',\n",
       "  'description': ' Block-level Earnings in NYC (2002-14)',\n",
       "  'download_url': 'https://s3.amazonaws.com/geoda/data/lehd.zip',\n",
       "  'explain_url': 'https://geodacenter.github.io/data-and-lab//LEHD_Data/',\n",
       "  'dir': 'NYC_Earnings'},\n",
       " 'NYC Education': {'name': 'NYC Education',\n",
       "  'description': ' NYC Education (2000)',\n",
       "  'download_url': 'https://s3.amazonaws.com/geoda/data/nyc_2000Census.zip',\n",
       "  'explain_url': 'https://geodacenter.github.io/data-and-lab//NYC-Census-2000/',\n",
       "  'dir': 'NYC_Education'},\n",
       " 'NYC Neighborhoods': {'name': 'NYC Neighborhoods',\n",
       "  'description': ' Demographics for New York City neighborhoods',\n",
       "  'download_url': 'https://s3.amazonaws.com/geoda/data/nycnhood_acs.zip',\n",
       "  'explain_url': 'https://geodacenter.github.io/data-and-lab//NYC-Nhood-ACS-2008-12/',\n",
       "  'dir': 'NYC_Neighborhoods'},\n",
       " 'NYC Socio-Demographics': {'name': 'NYC Socio-Demographics',\n",
       "  'description': ' NYC Education + Socio-Demographics',\n",
       "  'download_url': 'https://s3.amazonaws.com/geoda/data/nyctract_acs.zip',\n",
       "  'explain_url': 'https://geodacenter.github.io/data-and-lab//NYC_Tract_ACS2008_12/',\n",
       "  'dir': 'NYC_Socio-Demographics'},\n",
       " 'Ohiolung': {'name': 'Ohiolung',\n",
       "  'description': ' Ohio lung cancer data, 1968, 1978, 1988',\n",
       "  'download_url': 'https://s3.amazonaws.com/geoda/data/ohiolung.zip',\n",
       "  'explain_url': 'https://geodacenter.github.io/data-and-lab/ohiolung/',\n",
       "  'dir': 'Ohiolung'},\n",
       " 'Orlando1': {'name': 'Orlando1',\n",
       "  'description': ' 2000 Census Tract Data for Orlando, FL MSA and counties',\n",
       "  'download_url': 'https://s3.amazonaws.com/geoda/data/OrlandoMSA.zip',\n",
       "  'explain_url': 'https://geodacenter.github.io/data-and-lab/orlando1/',\n",
       "  'dir': 'Orlando1'},\n",
       " 'Orlando2': {'name': 'Orlando2',\n",
       "  'description': ' 1998 and 2001 Zip Code Business Patterns (Census Bureau) for Orlando, FL MSA',\n",
       "  'download_url': 'https://s3.amazonaws.com/geoda/data/OrlandoMSA2.zip',\n",
       "  'explain_url': 'https://geodacenter.github.io/data-and-lab/orlando2/',\n",
       "  'dir': 'Orlando2'},\n",
       " 'Oz9799': {'name': 'Oz9799',\n",
       "  'description': ' Monthly ozone data, 1997-99',\n",
       "  'download_url': 'https://s3.amazonaws.com/geoda/data/oz9799.zip',\n",
       "  'explain_url': 'https://geodacenter.github.io/data-and-lab/oz96/',\n",
       "  'dir': 'Oz9799'},\n",
       " 'Phoenix ACS': {'name': 'Phoenix ACS',\n",
       "  'description': ' Phoenix American Community Survey Data (2010, 5-year averages)',\n",
       "  'download_url': 'https://s3.amazonaws.com/geoda/data/phx2.zip',\n",
       "  'explain_url': 'https://geodacenter.github.io/data-and-lab/phx/',\n",
       "  'dir': 'Phoenix_ACS'},\n",
       " 'Pittsburgh': {'name': 'Pittsburgh',\n",
       "  'description': ' Pittsburgh homicide locations',\n",
       "  'download_url': 'https://s3.amazonaws.com/geoda/data/pittsburgh.zip',\n",
       "  'explain_url': 'https://geodacenter.github.io/data-and-lab/pitt93/',\n",
       "  'dir': 'Pittsburgh'},\n",
       " 'Police': {'name': 'Police',\n",
       "  'description': ' Police expenditures Mississippi counties',\n",
       "  'download_url': 'https://s3.amazonaws.com/geoda/data/police.zip',\n",
       "  'explain_url': 'https://geodacenter.github.io/data-and-lab/police/',\n",
       "  'dir': 'Police'},\n",
       " 'Sacramento1': {'name': 'Sacramento1',\n",
       "  'description': ' 2000 Census Tract Data for Sacramento MSA',\n",
       "  'download_url': 'https://s3.amazonaws.com/geoda/data/sacramento.zip',\n",
       "  'explain_url': 'https://geodacenter.github.io/data-and-lab/sacramento1/',\n",
       "  'dir': 'Sacramento1'},\n",
       " 'Sacramento2': {'name': 'Sacramento2',\n",
       "  'description': ' 1998 and 2001 Zip Code Business Patterns (Census Bureau) for Sacramento MSA',\n",
       "  'download_url': 'https://s3.amazonaws.com/geoda/data/SacramentoMSA2.zip',\n",
       "  'explain_url': 'https://geodacenter.github.io/data-and-lab/sacramento2/',\n",
       "  'dir': 'Sacramento2'},\n",
       " 'SanFran Crime': {'name': 'SanFran Crime',\n",
       "  'description': ' July-Dec 2012 crime incidents in San Francisco (points + area) - for CAST',\n",
       "  'download_url': 'https://s3.amazonaws.com/geoda/data/SFCrime_July_Dec2012.zip',\n",
       "  'explain_url': 'https://geodacenter.github.io/data-and-lab/SFcrimes_vars/',\n",
       "  'dir': 'SanFran_Crime'},\n",
       " 'Savannah1': {'name': 'Savannah1',\n",
       "  'description': ' 2000 Census Tract Data for Savannah, GA MSA and counties',\n",
       "  'download_url': 'https://s3.amazonaws.com/geoda/data/SavannahMSA.zip',\n",
       "  'explain_url': 'https://geodacenter.github.io/data-and-lab/savannah1/',\n",
       "  'dir': 'Savannah1'},\n",
       " 'Savannah2': {'name': 'Savannah2',\n",
       "  'description': ' 1998 and 2001 Zip Code Business Patterns (Census Bureau) for Savannah, GA MSA',\n",
       "  'download_url': 'https://s3.amazonaws.com/geoda/data/SavannahMSA2.zip',\n",
       "  'explain_url': 'https://geodacenter.github.io/data-and-lab/savannah2/',\n",
       "  'dir': 'Savannah2'},\n",
       " 'Scotlip': {'name': 'Scotlip',\n",
       "  'description': ' Male lip cancer in Scotland, 1975-80',\n",
       "  'download_url': 'https://s3.amazonaws.com/geoda/data/scotlip.zip',\n",
       "  'explain_url': 'https://geodacenter.github.io/data-and-lab/scotlip/',\n",
       "  'dir': 'Scotlip'},\n",
       " 'Seattle1': {'name': 'Seattle1',\n",
       "  'description': ' 2000 Census Tract Data for Seattle, WA MSA and counties',\n",
       "  'download_url': 'https://s3.amazonaws.com/geoda/data/SeattleMSA.zip',\n",
       "  'explain_url': 'https://geodacenter.github.io/data-and-lab/seattle1/',\n",
       "  'dir': 'Seattle1'},\n",
       " 'Seattle2': {'name': 'Seattle2',\n",
       "  'description': ' 1998 and 2001 Zip Code Business Patterns (Census Bureau) for Seattle, WA MSA',\n",
       "  'download_url': 'https://s3.amazonaws.com/geoda/data/SeattleMSA2.zip',\n",
       "  'explain_url': 'https://geodacenter.github.io/data-and-lab/seattle2/',\n",
       "  'dir': 'Seattle2'},\n",
       " 'SIDS': {'name': 'SIDS',\n",
       "  'description': ' North Carolina county SIDS death counts',\n",
       "  'download_url': 'https://s3.amazonaws.com/geoda/data/sids.zip',\n",
       "  'explain_url': 'https://geodacenter.github.io/data-and-lab/sids/',\n",
       "  'dir': 'SIDS'},\n",
       " 'SIDS2': {'name': 'SIDS2',\n",
       "  'description': ' North Carolina county SIDS death counts and rates',\n",
       "  'download_url': 'https://s3.amazonaws.com/geoda/data/sids2.zip',\n",
       "  'explain_url': 'https://geodacenter.github.io/data-and-lab/sids2/',\n",
       "  'dir': 'SIDS2'},\n",
       " 'South': {'name': 'South',\n",
       "  'description': ' US Southern county homicides 1960-1990',\n",
       "  'download_url': 'https://s3.amazonaws.com/geoda/data/south.zip',\n",
       "  'explain_url': 'https://geodacenter.github.io/data-and-lab/south/',\n",
       "  'dir': 'South'},\n",
       " 'StLouis': {'name': 'StLouis',\n",
       "  'description': ' St Louis region county homicide counts and rates',\n",
       "  'download_url': 'https://s3.amazonaws.com/geoda/data/stl_hom.zip',\n",
       "  'explain_url': 'https://geodacenter.github.io/data-and-lab/stlouis/',\n",
       "  'dir': 'StLouis'},\n",
       " 'Tampa1': {'name': 'Tampa1',\n",
       "  'description': ' 2000 Census Tract Data for Tampa, FL MSA and counties',\n",
       "  'download_url': 'https://s3.amazonaws.com/geoda/data/TampaMSA.zip',\n",
       "  'explain_url': 'https://geodacenter.github.io/data-and-lab/tampa1/',\n",
       "  'dir': 'Tampa1'},\n",
       " 'Rio Grande do Sul': {'name': 'Rio Grande do Sul',\n",
       "  'description': 'Cities of the Brazilian State of Rio Grande do Sul',\n",
       "  'download_url': 'https://github.com/sjsrey/rio_grande_do_sul/archive/master.zip',\n",
       "  'explain_url': 'https://raw.githubusercontent.com/sjsrey/rio_grande_do_sul/master/README.md',\n",
       "  'dir': 'Rio_Grande_do_Sul'}}"
      ]
     },
     "execution_count": 25,
     "metadata": {},
     "output_type": "execute_result"
    }
   ],
   "source": [
    "examples"
   ]
  },
  {
   "cell_type": "code",
   "execution_count": 26,
   "metadata": {},
   "outputs": [],
   "source": [
    "baltimore = examples['Baltimore']"
   ]
  },
  {
   "cell_type": "code",
   "execution_count": 27,
   "metadata": {},
   "outputs": [],
   "source": [
    "import pandas\n",
    "def available():\n",
    "    names = list(examples.keys())\n",
    "    names.sort()\n",
    "    rows = []\n",
    "    for name in names:\n",
    "        rows.append([name, examples[name][\"description\"]])\n",
    "        \n",
    "        #print(name, examples[name].description)\n",
    "    datasets = pandas.DataFrame(data = rows, columns=['Name', 'Description'])\n",
    "    datasets.style.set_properties(subset=['text'], **{'width': '300px'})\n",
    "    print(datasets.to_string())"
   ]
  },
  {
   "cell_type": "code",
   "execution_count": 28,
   "metadata": {},
   "outputs": [
    {
     "name": "stdout",
     "output_type": "stream",
     "text": [
      "                      Name                                        Description\n",
      "0                   AirBnB  Airbnb rentals, socioeconomics, and crime in C...\n",
      "1                  Atlanta       Atlanta, GA region homicide counts and rates\n",
      "2                Baltimore          Baltimore house sales prices and hedonics\n",
      "3                Bostonhsg               Boston housing and neighborhood data\n",
      "4              Buenosaires      Electoral Data for 1999 Argentinean Elections\n",
      "5                     Cars  2011 abandoned vehicles in Chicago (311 compla...\n",
      "6              Charleston1   2000 Census Tract Data for Charleston, SC MSA...\n",
      "7              Charleston2   1998 and 2001 Zip Code Business Patterns (Cen...\n",
      "8           Chicago Health                   Chicago Health + Socio-Economics\n",
      "9              Chile Labor                 Labor Markets in Chile (1982-2002)\n",
      "10         Chile Migration            Internal Migration in Chile (1977-2002)\n",
      "11              Cincinnati         2008 Cincinnati Crime + Socio-Demographics\n",
      "12               Cleveland       2015 sales prices of homes in Cleveland, OH.\n",
      "13                Columbus                        Columbus neighborhood crime\n",
      "14                  Denver   Demographics and housing in Denver neighborho...\n",
      "15               Elections               2012 and 2016 Presidential Elections\n",
      "16                 Grid100                      Grid with simulated variables\n",
      "17               Groceries                          2015 Chicago supermarkets\n",
      "18                  Guerry          Moral statistics of France (Guerry, 1833)\n",
      "19       Health Indicators                Chicago Health Indicators (2005-11)\n",
      "20                 Health+                    2000 Health, Income + Diversity\n",
      "21                Hickory1   2000 Census Tract Data for Hickory, NC MSA an...\n",
      "22                Hickory2   1998 and 2001 Zip Code Business Patterns (Cen...\n",
      "23              Home Sales              2014-15 Home Sales in King County, WA\n",
      "24                 Houston       Houston, TX region homicide counts and rates\n",
      "25                Juvenile             Cardiff juvenile delinquent residences\n",
      "26                Lansing1   2000 Census Tract Data for Lansing, MI MSA an...\n",
      "27                Lansing2   1998 and 2001 Zip Code Business Patterns (Cen...\n",
      "28                 Laozone   Ozone measures at monitoring stations in Los ...\n",
      "29                LasRosas   Corn yield, fertilizer and field data for pre...\n",
      "30           Liquor Stores                         2015 Chicago Liquor Stores\n",
      "31                 Malaria   Malaria incidence and population (1973, 95, 9...\n",
      "32              Milwaukee1       2000 Census Tract Data for Milwaukee, WI MSA\n",
      "33              Milwaukee2   1998 and 2001 Zip Code Business Patterns (Cen...\n",
      "34                   NCOVR                      US county homicides 1960-1990\n",
      "35                    NDVI        Normalized Difference Vegetation Index grid\n",
      "36                     NYC   Demographic and housing data for New York Cit...\n",
      "37            NYC Earnings              Block-level Earnings in NYC (2002-14)\n",
      "38           NYC Education                               NYC Education (2000)\n",
      "39       NYC Neighborhoods       Demographics for New York City neighborhoods\n",
      "40  NYC Socio-Demographics                 NYC Education + Socio-Demographics\n",
      "41              Natregimes                    NCOVR with regimes (book/PySAL)\n",
      "42                   Nepal   Health, poverty and education indicators for ...\n",
      "43                Ohiolung            Ohio lung cancer data, 1968, 1978, 1988\n",
      "44                Orlando1   2000 Census Tract Data for Orlando, FL MSA an...\n",
      "45                Orlando2   1998 and 2001 Zip Code Business Patterns (Cen...\n",
      "46                  Oz9799                        Monthly ozone data, 1997-99\n",
      "47             Phoenix ACS   Phoenix American Community Survey Data (2010,...\n",
      "48              Pittsburgh                      Pittsburgh homicide locations\n",
      "49                  Police           Police expenditures Mississippi counties\n",
      "50       Rio Grande do Sul  Cities of the Brazilian State of Rio Grande do...\n",
      "51                    SIDS            North Carolina county SIDS death counts\n",
      "52                   SIDS2   North Carolina county SIDS death counts and r...\n",
      "53             Sacramento1          2000 Census Tract Data for Sacramento MSA\n",
      "54             Sacramento2   1998 and 2001 Zip Code Business Patterns (Cen...\n",
      "55           SanFran Crime   July-Dec 2012 crime incidents in San Francisc...\n",
      "56               Savannah1   2000 Census Tract Data for Savannah, GA MSA a...\n",
      "57               Savannah2   1998 and 2001 Zip Code Business Patterns (Cen...\n",
      "58                 Scotlip               Male lip cancer in Scotland, 1975-80\n",
      "59                Seattle1   2000 Census Tract Data for Seattle, WA MSA an...\n",
      "60                Seattle2   1998 and 2001 Zip Code Business Patterns (Cen...\n",
      "61                   South             US Southern county homicides 1960-1990\n",
      "62                 StLouis   St Louis region county homicide counts and rates\n",
      "63                  Tampa1   2000 Census Tract Data for Tampa, FL MSA and ...\n"
     ]
    }
   ],
   "source": [
    "available()"
   ]
  },
  {
   "cell_type": "code",
   "execution_count": 29,
   "metadata": {},
   "outputs": [
    {
     "data": {
      "text/plain": [
       "{'AirBnB': {'name': 'AirBnB',\n",
       "  'description': 'Airbnb rentals, socioeconomics, and crime in Chicago',\n",
       "  'download_url': 'https://s3.amazonaws.com/geoda/data/airbnb.zip',\n",
       "  'explain_url': 'https://geodacenter.github.io/data-and-lab//airbnb_Chicago-2015/',\n",
       "  'dir': 'AirBnB'},\n",
       " 'Atlanta': {'name': 'Atlanta',\n",
       "  'description': 'Atlanta, GA region homicide counts and rates',\n",
       "  'download_url': 'https://s3.amazonaws.com/geoda/data/atlanta_hom.zip',\n",
       "  'explain_url': 'https://geodacenter.github.io/data-and-lab//atlanta_old/',\n",
       "  'dir': 'Atlanta'},\n",
       " 'Baltimore': {'name': 'Baltimore',\n",
       "  'description': 'Baltimore house sales prices and hedonics',\n",
       "  'download_url': 'https://s3.amazonaws.com/geoda/data/baltimore.zip',\n",
       "  'explain_url': 'https://geodacenter.github.io/data-and-lab//baltim/',\n",
       "  'dir': 'Baltimore'},\n",
       " 'Cars': {'name': 'Cars',\n",
       "  'description': '2011 abandoned vehicles in Chicago (311 complaints).',\n",
       "  'download_url': 'https://s3.amazonaws.com/geoda/data/Abandoned_Vehicles_Map.csv',\n",
       "  'explain_url': 'https://geodacenter.github.io/data-and-lab//1-source-and-description/',\n",
       "  'dir': 'Cars'},\n",
       " 'Chile Labor': {'name': 'Chile Labor',\n",
       "  'description': 'Labor Markets in Chile (1982-2002)',\n",
       "  'download_url': 'https://s3.amazonaws.com/geoda/data/FMLA.zip',\n",
       "  'explain_url': 'https://geodacenter.github.io/data-and-lab//FLMA/',\n",
       "  'dir': 'Chile_Labor'},\n",
       " 'Chile Migration': {'name': 'Chile Migration',\n",
       "  'description': ' Internal Migration in Chile (1977-2002)',\n",
       "  'download_url': 'https://s3.amazonaws.com/geoda/data/CHIM.zip',\n",
       "  'explain_url': 'https://geodacenter.github.io/data-and-lab//CHIM/',\n",
       "  'dir': 'Chile_Migration'},\n",
       " 'Cincinnati': {'name': 'Cincinnati',\n",
       "  'description': ' 2008 Cincinnati Crime + Socio-Demographics',\n",
       "  'download_url': 'https://s3.amazonaws.com/geoda/data/walnuthills.zip',\n",
       "  'explain_url': 'https://geodacenter.github.io/data-and-lab//walnut_hills/',\n",
       "  'dir': 'Cincinnati'},\n",
       " 'Cleveland': {'name': 'Cleveland',\n",
       "  'description': ' 2015 sales prices of homes in Cleveland, OH.',\n",
       "  'download_url': 'https://s3.amazonaws.com/geoda/data/cleveland.zip',\n",
       "  'explain_url': 'https://geodacenter.github.io/data-and-lab//clev_sls_154_core/',\n",
       "  'dir': 'Cleveland'},\n",
       " 'Bostonhsg': {'name': 'Bostonhsg',\n",
       "  'description': 'Boston housing and neighborhood data',\n",
       "  'download_url': 'https://s3.amazonaws.com/geoda/data/boston.zip',\n",
       "  'explain_url': 'https://geodacenter.github.io/data-and-lab//boston-housing/',\n",
       "  'dir': 'Bostonhsg'},\n",
       " 'Buenosaires': {'name': 'Buenosaires',\n",
       "  'description': ' Electoral Data for 1999 Argentinean Elections',\n",
       "  'download_url': 'https://s3.amazonaws.com/geoda/data/buenosaires.zip',\n",
       "  'explain_url': 'https://geodacenter.github.io/data-and-lab//buenos-aires_old/',\n",
       "  'dir': 'Buenosaires'},\n",
       " 'Charleston1': {'name': 'Charleston1',\n",
       "  'description': ' 2000 Census Tract Data for Charleston, SC MSA and counties',\n",
       "  'download_url': 'https://s3.amazonaws.com/geoda/data/CharlestonMSA.zip',\n",
       "  'explain_url': 'https://geodacenter.github.io/data-and-lab//charleston-1_old/',\n",
       "  'dir': 'Charleston1'},\n",
       " 'Charleston2': {'name': 'Charleston2',\n",
       "  'description': ' 1998 and 2001 Zip Code Business Patterns (Census Bureau) for Charleston, SC MSA',\n",
       "  'download_url': 'https://s3.amazonaws.com/geoda/data/CharlestonMSA2.zip',\n",
       "  'explain_url': 'https://geodacenter.github.io/data-and-lab//charleston2/',\n",
       "  'dir': 'Charleston2'},\n",
       " 'Columbus': {'name': 'Columbus',\n",
       "  'description': ' Columbus neighborhood crime',\n",
       "  'download_url': 'https://s3.amazonaws.com/geoda/data/columbus.zip',\n",
       "  'explain_url': 'https://geodacenter.github.io/data-and-lab//columbus/',\n",
       "  'dir': 'Columbus'},\n",
       " 'Chicago Health': {'name': 'Chicago Health',\n",
       "  'description': ' Chicago Health + Socio-Economics',\n",
       "  'download_url': 'https://s3.amazonaws.com/geoda/data/comarea.zip',\n",
       "  'explain_url': 'https://geodacenter.github.io/data-and-lab//comarea_vars/',\n",
       "  'dir': 'Chicago_Health'},\n",
       " 'Denver': {'name': 'Denver',\n",
       "  'description': ' Demographics and housing in Denver neighborhoods.',\n",
       "  'download_url': 'https://s3.amazonaws.com/geoda/data/denver.zip',\n",
       "  'explain_url': 'https://geodacenter.github.io/data-and-lab//census_2010_excluded-variables/',\n",
       "  'dir': 'Denver'},\n",
       " 'Elections': {'name': 'Elections',\n",
       "  'description': ' 2012 and 2016 Presidential Elections',\n",
       "  'download_url': 'https://s3.amazonaws.com/geoda/data/election.zip',\n",
       "  'explain_url': 'https://geodacenter.github.io/data-and-lab//county_election_2012_2016-variables/',\n",
       "  'dir': 'Elections'},\n",
       " 'Grid100': {'name': 'Grid100',\n",
       "  'description': ' Grid with simulated variables',\n",
       "  'download_url': 'https://s3.amazonaws.com/geoda/data/grid100.zip',\n",
       "  'explain_url': 'https://geodacenter.github.io/data-and-lab//grid100/',\n",
       "  'dir': 'Grid100'},\n",
       " 'Groceries': {'name': 'Groceries',\n",
       "  'description': ' 2015 Chicago supermarkets',\n",
       "  'download_url': 'https://s3.amazonaws.com/geoda/data/grocery.zip',\n",
       "  'explain_url': 'https://geodacenter.github.io/data-and-lab//chicago_sup_vars/',\n",
       "  'dir': 'Groceries'},\n",
       " 'Guerry': {'name': 'Guerry',\n",
       "  'description': ' Moral statistics of France (Guerry, 1833)',\n",
       "  'download_url': 'https://s3.amazonaws.com/geoda/data/guerry.zip',\n",
       "  'explain_url': 'https://geodacenter.github.io/data-and-lab/Guerry/',\n",
       "  'dir': 'Guerry'},\n",
       " 'Health+': {'name': 'Health+',\n",
       "  'description': ' 2000 Health, Income + Diversity',\n",
       "  'download_url': 'https://s3.amazonaws.com/geoda/data/income_diversity.zip',\n",
       "  'explain_url': 'https://geodacenter.github.io/data-and-lab//co_income_diversity_variables/',\n",
       "  'dir': 'Health+'},\n",
       " 'Health Indicators': {'name': 'Health Indicators',\n",
       "  'description': ' Chicago Health Indicators (2005-11)',\n",
       "  'download_url': 'https://s3.amazonaws.com/geoda/data/healthIndicators.zip',\n",
       "  'explain_url': 'https://geodacenter.github.io/data-and-lab//healthindicators-variables/',\n",
       "  'dir': 'Health_Indicators'},\n",
       " 'Hickory1': {'name': 'Hickory1',\n",
       "  'description': ' 2000 Census Tract Data for Hickory, NC MSA and counties',\n",
       "  'download_url': 'https://s3.amazonaws.com/geoda/data/HickoryMSA.zip',\n",
       "  'explain_url': 'https://geodacenter.github.io/data-and-lab/hickory1/',\n",
       "  'dir': 'Hickory1'},\n",
       " 'Hickory2': {'name': 'Hickory2',\n",
       "  'description': ' 1998 and 2001 Zip Code Business Patterns (Census Bureau) for Hickory, NC MSA',\n",
       "  'download_url': 'https://s3.amazonaws.com/geoda/data/HickoryMSA2.zip',\n",
       "  'explain_url': 'https://geodacenter.github.io/data-and-lab/hickory2/',\n",
       "  'dir': 'Hickory2'},\n",
       " 'Home Sales': {'name': 'Home Sales',\n",
       "  'description': ' 2014-15 Home Sales in King County, WA',\n",
       "  'download_url': 'https://s3.amazonaws.com/geoda/data/kingcounty.zip',\n",
       "  'explain_url': 'https://geodacenter.github.io/data-and-lab//KingCounty-HouseSales2015/',\n",
       "  'dir': 'Home_Sales'},\n",
       " 'Houston': {'name': 'Houston',\n",
       "  'description': ' Houston, TX region homicide counts and rates',\n",
       "  'download_url': 'https://s3.amazonaws.com/geoda/data/houston_hom.zip',\n",
       "  'explain_url': 'https://geodacenter.github.io/data-and-lab/houston/',\n",
       "  'dir': 'Houston'},\n",
       " 'Juvenile': {'name': 'Juvenile',\n",
       "  'description': ' Cardiff juvenile delinquent residences',\n",
       "  'download_url': 'https://s3.amazonaws.com/geoda/data/juvenile.zip',\n",
       "  'explain_url': 'https://geodacenter.github.io/data-and-lab/juvenile/',\n",
       "  'dir': 'Juvenile'},\n",
       " 'Lansing1': {'name': 'Lansing1',\n",
       "  'description': ' 2000 Census Tract Data for Lansing, MI MSA and counties',\n",
       "  'download_url': 'https://s3.amazonaws.com/geoda/data/LansingMSA.zip',\n",
       "  'explain_url': 'https://geodacenter.github.io/data-and-lab/lansing1/',\n",
       "  'dir': 'Lansing1'},\n",
       " 'Lansing2': {'name': 'Lansing2',\n",
       "  'description': ' 1998 and 2001 Zip Code Business Patterns (Census Bureau) for Lansing, MI MSA',\n",
       "  'download_url': 'https://s3.amazonaws.com/geoda/data/LansingMSA2.zip',\n",
       "  'explain_url': 'https://geodacenter.github.io/data-and-lab/lansing2/',\n",
       "  'dir': 'Lansing2'},\n",
       " 'Laozone': {'name': 'Laozone',\n",
       "  'description': ' Ozone measures at monitoring stations in Los Angeles basin',\n",
       "  'download_url': 'https://s3.amazonaws.com/geoda/data/laozone.zip',\n",
       "  'explain_url': 'https://geodacenter.github.io/data-and-lab/ozone/',\n",
       "  'dir': 'Laozone'},\n",
       " 'LasRosas': {'name': 'LasRosas',\n",
       "  'description': ' Corn yield, fertilizer and field data for precision agriculture, Argentina, 1999',\n",
       "  'download_url': 'https://s3.amazonaws.com/geoda/data/lasrosas.zip',\n",
       "  'explain_url': 'https://geodacenter.github.io/data-and-lab/lasrosas/',\n",
       "  'dir': 'LasRosas'},\n",
       " 'Liquor Stores': {'name': 'Liquor Stores',\n",
       "  'description': ' 2015 Chicago Liquor Stores',\n",
       "  'download_url': 'https://s3.amazonaws.com/geoda/data/liquor.zip',\n",
       "  'explain_url': 'https://geodacenter.github.io/data-and-lab//liq_chicago/',\n",
       "  'dir': 'Liquor_Stores'},\n",
       " 'Malaria': {'name': 'Malaria',\n",
       "  'description': ' Malaria incidence and population (1973, 95, 93 censuses and projections until 2005) \\xa0 \\xa0 \\xa0',\n",
       "  'download_url': 'https://s3.amazonaws.com/geoda/data/malariacolomb.zip',\n",
       "  'explain_url': 'https://geodacenter.github.io/data-and-lab/colomb_malaria/',\n",
       "  'dir': 'Malaria'},\n",
       " 'Milwaukee1': {'name': 'Milwaukee1',\n",
       "  'description': ' 2000 Census Tract Data for Milwaukee, WI MSA',\n",
       "  'download_url': 'https://s3.amazonaws.com/geoda/data/MilwaukeeMSA.zip',\n",
       "  'explain_url': 'https://geodacenter.github.io/data-and-lab/milwaukee1/',\n",
       "  'dir': 'Milwaukee1'},\n",
       " 'Milwaukee2': {'name': 'Milwaukee2',\n",
       "  'description': ' 1998 and 2001 Zip Code Business Patterns (Census Bureau) for Milwaukee, WI MSA',\n",
       "  'download_url': 'https://s3.amazonaws.com/geoda/data/MilwaukeeMSA2.zip',\n",
       "  'explain_url': 'https://geodacenter.github.io/data-and-lab/milwaukee2/',\n",
       "  'dir': 'Milwaukee2'},\n",
       " 'NCOVR': {'name': 'NCOVR',\n",
       "  'description': ' US county homicides 1960-1990',\n",
       "  'download_url': 'https://s3.amazonaws.com/geoda/data/ncovr.zip',\n",
       "  'explain_url': 'https://geodacenter.github.io/data-and-lab/ncovr/',\n",
       "  'dir': 'NCOVR'},\n",
       " 'Natregimes': {'name': 'Natregimes',\n",
       "  'description': ' NCOVR with regimes (book/PySAL)',\n",
       "  'download_url': 'https://s3.amazonaws.com/geoda/data/natregimes.zip',\n",
       "  'explain_url': 'https://geodacenter.github.io/data-and-lab/natregimes/',\n",
       "  'dir': 'Natregimes'},\n",
       " 'NDVI': {'name': 'NDVI',\n",
       "  'description': ' Normalized Difference Vegetation Index grid',\n",
       "  'download_url': 'https://s3.amazonaws.com/geoda/data/ndvi.zip',\n",
       "  'explain_url': 'https://geodacenter.github.io/data-and-lab/ndvi/',\n",
       "  'dir': 'NDVI'},\n",
       " 'Nepal': {'name': 'Nepal',\n",
       "  'description': ' Health, poverty and education indicators for Nepal districts',\n",
       "  'download_url': 'http://s3.amazonaws.com/geoda/data/nepal.zip',\n",
       "  'explain_url': 'https://geodacenter.github.io/data-and-lab/nepal/',\n",
       "  'dir': 'Nepal'},\n",
       " 'NYC': {'name': 'NYC',\n",
       "  'description': ' Demographic and housing data for New York City subboroughs, 2002-09',\n",
       "  'download_url': 'http://s3.amazonaws.com/geoda/data/nyc.zip',\n",
       "  'explain_url': 'https://geodacenter.github.io/data-and-lab/nyc/',\n",
       "  'dir': 'NYC'},\n",
       " 'NYC Earnings': {'name': 'NYC Earnings',\n",
       "  'description': ' Block-level Earnings in NYC (2002-14)',\n",
       "  'download_url': 'https://s3.amazonaws.com/geoda/data/lehd.zip',\n",
       "  'explain_url': 'https://geodacenter.github.io/data-and-lab//LEHD_Data/',\n",
       "  'dir': 'NYC_Earnings'},\n",
       " 'NYC Education': {'name': 'NYC Education',\n",
       "  'description': ' NYC Education (2000)',\n",
       "  'download_url': 'https://s3.amazonaws.com/geoda/data/nyc_2000Census.zip',\n",
       "  'explain_url': 'https://geodacenter.github.io/data-and-lab//NYC-Census-2000/',\n",
       "  'dir': 'NYC_Education'},\n",
       " 'NYC Neighborhoods': {'name': 'NYC Neighborhoods',\n",
       "  'description': ' Demographics for New York City neighborhoods',\n",
       "  'download_url': 'https://s3.amazonaws.com/geoda/data/nycnhood_acs.zip',\n",
       "  'explain_url': 'https://geodacenter.github.io/data-and-lab//NYC-Nhood-ACS-2008-12/',\n",
       "  'dir': 'NYC_Neighborhoods'},\n",
       " 'NYC Socio-Demographics': {'name': 'NYC Socio-Demographics',\n",
       "  'description': ' NYC Education + Socio-Demographics',\n",
       "  'download_url': 'https://s3.amazonaws.com/geoda/data/nyctract_acs.zip',\n",
       "  'explain_url': 'https://geodacenter.github.io/data-and-lab//NYC_Tract_ACS2008_12/',\n",
       "  'dir': 'NYC_Socio-Demographics'},\n",
       " 'Ohiolung': {'name': 'Ohiolung',\n",
       "  'description': ' Ohio lung cancer data, 1968, 1978, 1988',\n",
       "  'download_url': 'https://s3.amazonaws.com/geoda/data/ohiolung.zip',\n",
       "  'explain_url': 'https://geodacenter.github.io/data-and-lab/ohiolung/',\n",
       "  'dir': 'Ohiolung'},\n",
       " 'Orlando1': {'name': 'Orlando1',\n",
       "  'description': ' 2000 Census Tract Data for Orlando, FL MSA and counties',\n",
       "  'download_url': 'https://s3.amazonaws.com/geoda/data/OrlandoMSA.zip',\n",
       "  'explain_url': 'https://geodacenter.github.io/data-and-lab/orlando1/',\n",
       "  'dir': 'Orlando1'},\n",
       " 'Orlando2': {'name': 'Orlando2',\n",
       "  'description': ' 1998 and 2001 Zip Code Business Patterns (Census Bureau) for Orlando, FL MSA',\n",
       "  'download_url': 'https://s3.amazonaws.com/geoda/data/OrlandoMSA2.zip',\n",
       "  'explain_url': 'https://geodacenter.github.io/data-and-lab/orlando2/',\n",
       "  'dir': 'Orlando2'},\n",
       " 'Oz9799': {'name': 'Oz9799',\n",
       "  'description': ' Monthly ozone data, 1997-99',\n",
       "  'download_url': 'https://s3.amazonaws.com/geoda/data/oz9799.zip',\n",
       "  'explain_url': 'https://geodacenter.github.io/data-and-lab/oz96/',\n",
       "  'dir': 'Oz9799'},\n",
       " 'Phoenix ACS': {'name': 'Phoenix ACS',\n",
       "  'description': ' Phoenix American Community Survey Data (2010, 5-year averages)',\n",
       "  'download_url': 'https://s3.amazonaws.com/geoda/data/phx2.zip',\n",
       "  'explain_url': 'https://geodacenter.github.io/data-and-lab/phx/',\n",
       "  'dir': 'Phoenix_ACS'},\n",
       " 'Pittsburgh': {'name': 'Pittsburgh',\n",
       "  'description': ' Pittsburgh homicide locations',\n",
       "  'download_url': 'https://s3.amazonaws.com/geoda/data/pittsburgh.zip',\n",
       "  'explain_url': 'https://geodacenter.github.io/data-and-lab/pitt93/',\n",
       "  'dir': 'Pittsburgh'},\n",
       " 'Police': {'name': 'Police',\n",
       "  'description': ' Police expenditures Mississippi counties',\n",
       "  'download_url': 'https://s3.amazonaws.com/geoda/data/police.zip',\n",
       "  'explain_url': 'https://geodacenter.github.io/data-and-lab/police/',\n",
       "  'dir': 'Police'},\n",
       " 'Sacramento1': {'name': 'Sacramento1',\n",
       "  'description': ' 2000 Census Tract Data for Sacramento MSA',\n",
       "  'download_url': 'https://s3.amazonaws.com/geoda/data/sacramento.zip',\n",
       "  'explain_url': 'https://geodacenter.github.io/data-and-lab/sacramento1/',\n",
       "  'dir': 'Sacramento1'},\n",
       " 'Sacramento2': {'name': 'Sacramento2',\n",
       "  'description': ' 1998 and 2001 Zip Code Business Patterns (Census Bureau) for Sacramento MSA',\n",
       "  'download_url': 'https://s3.amazonaws.com/geoda/data/SacramentoMSA2.zip',\n",
       "  'explain_url': 'https://geodacenter.github.io/data-and-lab/sacramento2/',\n",
       "  'dir': 'Sacramento2'},\n",
       " 'SanFran Crime': {'name': 'SanFran Crime',\n",
       "  'description': ' July-Dec 2012 crime incidents in San Francisco (points + area) - for CAST',\n",
       "  'download_url': 'https://s3.amazonaws.com/geoda/data/SFCrime_July_Dec2012.zip',\n",
       "  'explain_url': 'https://geodacenter.github.io/data-and-lab/SFcrimes_vars/',\n",
       "  'dir': 'SanFran_Crime'},\n",
       " 'Savannah1': {'name': 'Savannah1',\n",
       "  'description': ' 2000 Census Tract Data for Savannah, GA MSA and counties',\n",
       "  'download_url': 'https://s3.amazonaws.com/geoda/data/SavannahMSA.zip',\n",
       "  'explain_url': 'https://geodacenter.github.io/data-and-lab/savannah1/',\n",
       "  'dir': 'Savannah1'},\n",
       " 'Savannah2': {'name': 'Savannah2',\n",
       "  'description': ' 1998 and 2001 Zip Code Business Patterns (Census Bureau) for Savannah, GA MSA',\n",
       "  'download_url': 'https://s3.amazonaws.com/geoda/data/SavannahMSA2.zip',\n",
       "  'explain_url': 'https://geodacenter.github.io/data-and-lab/savannah2/',\n",
       "  'dir': 'Savannah2'},\n",
       " 'Scotlip': {'name': 'Scotlip',\n",
       "  'description': ' Male lip cancer in Scotland, 1975-80',\n",
       "  'download_url': 'https://s3.amazonaws.com/geoda/data/scotlip.zip',\n",
       "  'explain_url': 'https://geodacenter.github.io/data-and-lab/scotlip/',\n",
       "  'dir': 'Scotlip'},\n",
       " 'Seattle1': {'name': 'Seattle1',\n",
       "  'description': ' 2000 Census Tract Data for Seattle, WA MSA and counties',\n",
       "  'download_url': 'https://s3.amazonaws.com/geoda/data/SeattleMSA.zip',\n",
       "  'explain_url': 'https://geodacenter.github.io/data-and-lab/seattle1/',\n",
       "  'dir': 'Seattle1'},\n",
       " 'Seattle2': {'name': 'Seattle2',\n",
       "  'description': ' 1998 and 2001 Zip Code Business Patterns (Census Bureau) for Seattle, WA MSA',\n",
       "  'download_url': 'https://s3.amazonaws.com/geoda/data/SeattleMSA2.zip',\n",
       "  'explain_url': 'https://geodacenter.github.io/data-and-lab/seattle2/',\n",
       "  'dir': 'Seattle2'},\n",
       " 'SIDS': {'name': 'SIDS',\n",
       "  'description': ' North Carolina county SIDS death counts',\n",
       "  'download_url': 'https://s3.amazonaws.com/geoda/data/sids.zip',\n",
       "  'explain_url': 'https://geodacenter.github.io/data-and-lab/sids/',\n",
       "  'dir': 'SIDS'},\n",
       " 'SIDS2': {'name': 'SIDS2',\n",
       "  'description': ' North Carolina county SIDS death counts and rates',\n",
       "  'download_url': 'https://s3.amazonaws.com/geoda/data/sids2.zip',\n",
       "  'explain_url': 'https://geodacenter.github.io/data-and-lab/sids2/',\n",
       "  'dir': 'SIDS2'},\n",
       " 'South': {'name': 'South',\n",
       "  'description': ' US Southern county homicides 1960-1990',\n",
       "  'download_url': 'https://s3.amazonaws.com/geoda/data/south.zip',\n",
       "  'explain_url': 'https://geodacenter.github.io/data-and-lab/south/',\n",
       "  'dir': 'South'},\n",
       " 'StLouis': {'name': 'StLouis',\n",
       "  'description': ' St Louis region county homicide counts and rates',\n",
       "  'download_url': 'https://s3.amazonaws.com/geoda/data/stl_hom.zip',\n",
       "  'explain_url': 'https://geodacenter.github.io/data-and-lab/stlouis/',\n",
       "  'dir': 'StLouis'},\n",
       " 'Tampa1': {'name': 'Tampa1',\n",
       "  'description': ' 2000 Census Tract Data for Tampa, FL MSA and counties',\n",
       "  'download_url': 'https://s3.amazonaws.com/geoda/data/TampaMSA.zip',\n",
       "  'explain_url': 'https://geodacenter.github.io/data-and-lab/tampa1/',\n",
       "  'dir': 'Tampa1'},\n",
       " 'Rio Grande do Sul': {'name': 'Rio Grande do Sul',\n",
       "  'description': 'Cities of the Brazilian State of Rio Grande do Sul',\n",
       "  'download_url': 'https://github.com/sjsrey/rio_grande_do_sul/archive/master.zip',\n",
       "  'explain_url': 'https://raw.githubusercontent.com/sjsrey/rio_grande_do_sul/master/README.md',\n",
       "  'dir': 'Rio_Grande_do_Sul'}}"
      ]
     },
     "execution_count": 29,
     "metadata": {},
     "output_type": "execute_result"
    }
   ],
   "source": [
    "examples"
   ]
  },
  {
   "cell_type": "code",
   "execution_count": 30,
   "metadata": {},
   "outputs": [
    {
     "data": {
      "text/plain": [
       "64"
      ]
     },
     "execution_count": 30,
     "metadata": {},
     "output_type": "execute_result"
    }
   ],
   "source": [
    "len(examples)"
   ]
  },
  {
   "cell_type": "code",
   "execution_count": 44,
   "metadata": {},
   "outputs": [],
   "source": [
    "info = examples"
   ]
  },
  {
   "cell_type": "code",
   "execution_count": 45,
   "metadata": {},
   "outputs": [
    {
     "data": {
      "text/plain": [
       "dict_keys(['AirBnB', 'Atlanta', 'Baltimore', 'Cars', 'Chile Labor', 'Chile Migration', 'Cincinnati', 'Cleveland', 'Bostonhsg', 'Buenosaires', 'Charleston1', 'Charleston2', 'Columbus', 'Chicago Health', 'Denver', 'Elections', 'Grid100', 'Groceries', 'Guerry', 'Health+', 'Health Indicators', 'Hickory1', 'Hickory2', 'Home Sales', 'Houston', 'Juvenile', 'Lansing1', 'Lansing2', 'Laozone', 'LasRosas', 'Liquor Stores', 'Malaria', 'Milwaukee1', 'Milwaukee2', 'NCOVR', 'Natregimes', 'NDVI', 'Nepal', 'NYC', 'NYC Earnings', 'NYC Education', 'NYC Neighborhoods', 'NYC Socio-Demographics', 'Ohiolung', 'Orlando1', 'Orlando2', 'Oz9799', 'Phoenix ACS', 'Pittsburgh', 'Police', 'Sacramento1', 'Sacramento2', 'SanFran Crime', 'Savannah1', 'Savannah2', 'Scotlip', 'Seattle1', 'Seattle2', 'SIDS', 'SIDS2', 'South', 'StLouis', 'Tampa1', 'Rio Grande do Sul'])"
      ]
     },
     "execution_count": 45,
     "metadata": {},
     "output_type": "execute_result"
    }
   ],
   "source": [
    "info.keys()"
   ]
  },
  {
   "cell_type": "code",
   "execution_count": 46,
   "metadata": {},
   "outputs": [
    {
     "name": "stdout",
     "output_type": "stream",
     "text": [
      "AirBnB\n",
      "Atlanta\n",
      "Baltimore\n",
      "Cars\n",
      "Chile Labor\n",
      "Chile Migration\n",
      "Cincinnati\n",
      "Cleveland\n",
      "Bostonhsg\n",
      "Buenosaires\n",
      "Charleston1\n",
      "Charleston2\n",
      "Columbus\n",
      "Chicago Health\n",
      "Denver\n",
      "Elections\n",
      "Grid100\n",
      "Groceries\n",
      "Guerry\n",
      "Health+\n",
      "Health Indicators\n",
      "Hickory1\n",
      "Hickory2\n",
      "Home Sales\n",
      "Houston\n",
      "Juvenile\n",
      "Lansing1\n",
      "Lansing2\n",
      "Laozone\n",
      "LasRosas\n",
      "Liquor Stores\n",
      "Malaria\n",
      "Milwaukee1\n",
      "Milwaukee2\n",
      "NCOVR\n",
      "Natregimes\n",
      "NDVI\n",
      "Nepal\n",
      "NYC\n",
      "NYC Earnings\n",
      "NYC Education\n",
      "NYC Neighborhoods\n",
      "NYC Socio-Demographics\n",
      "Ohiolung\n",
      "Orlando1\n",
      "Orlando2\n",
      "Oz9799\n",
      "Phoenix ACS\n",
      "Pittsburgh\n",
      "Police\n",
      "Sacramento1\n",
      "Sacramento2\n",
      "SanFran Crime\n",
      "Savannah1\n",
      "Savannah2\n",
      "Scotlip\n",
      "Seattle1\n",
      "Seattle2\n",
      "SIDS\n",
      "SIDS2\n",
      "South\n",
      "StLouis\n",
      "Tampa1\n",
      "Rio Grande do Sul\n"
     ]
    }
   ],
   "source": [
    "for example in info:\n",
    "    print(example)"
   ]
  },
  {
   "cell_type": "code",
   "execution_count": 47,
   "metadata": {},
   "outputs": [
    {
     "data": {
      "text/plain": [
       "['AirBnB', 'Atlanta', 'Rio Grande do Sul']"
      ]
     },
     "execution_count": 47,
     "metadata": {},
     "output_type": "execute_result"
    }
   ],
   "source": [
    "short = list(info.keys())[:2]\n",
    "short.append('Rio Grande do Sul')\n",
    "short"
   ]
  },
  {
   "cell_type": "code",
   "execution_count": 114,
   "metadata": {},
   "outputs": [
    {
     "name": "stdout",
     "output_type": "stream",
     "text": [
      "https://geodacenter.github.io/data-and-lab//airbnb_Chicago-2015/\n",
      "https://s3.amazonaws.com/geoda/data/airbnb.zip\n",
      "https://geodacenter.github.io/data-and-lab//atlanta_old/\n",
      "https://s3.amazonaws.com/geoda/data/atlanta_hom.zip\n",
      "https://raw.githubusercontent.com/sjsrey/rio_grande_do_sul/master/README.md\n",
      "https://github.com/sjsrey/rio_grande_do_sul/archive/master.zip\n"
     ]
    }
   ],
   "source": [
    "# download each example into its own directory\n",
    "# assume we have a directory ~/PYSALDATA\n",
    "import requests\n",
    "import zipfile\n",
    "import io\n",
    "import geopandas \n",
    "import os\n",
    "file_example = {}\n",
    "example_dir = '/home/jovyan/PYSALDATA'\n",
    "for example_name in short:\n",
    "    example = info[example_name]\n",
    "    print(example['explain_url'])\n",
    "    print(example['download_url'])\n",
    "    r = requests.get(example['download_url'])\n",
    "    z = zipfile.ZipFile(io.BytesIO(r.content))\n",
    "    file_list = z.namelist()\n",
    "    for f in file_list:\n",
    "        tokens = f.split(\"/\")\n",
    "        file_example[tokens[-1]] = f\n",
    "   \n",
    "    "
   ]
  },
  {
   "cell_type": "code",
   "execution_count": 116,
   "metadata": {},
   "outputs": [
    {
     "data": {
      "text/plain": [
       "'atlanta_hom/atl_hom.csv'"
      ]
     },
     "execution_count": 116,
     "metadata": {},
     "output_type": "execute_result"
    }
   ],
   "source": [
    "file_example['atl_hom.csv']"
   ]
  },
  {
   "cell_type": "code",
   "execution_count": 117,
   "metadata": {},
   "outputs": [
    {
     "name": "stdout",
     "output_type": "stream",
     "text": [
      "'airbnb_Chicago 2015.dbf'  'airbnb_Chicago 2015.shx'   rio_grande_do_sul-master\r\n",
      "'airbnb_Chicago 2015.prj'   atlanta_hom\r\n",
      "'airbnb_Chicago 2015.shp'   __MACOSX\r\n"
     ]
    }
   ],
   "source": [
    "!ls ~/PYSALDATA"
   ]
  },
  {
   "cell_type": "code",
   "execution_count": 49,
   "metadata": {},
   "outputs": [],
   "source": [
    "def load_example_path(file_name):\n",
    "    try:\n",
    "        example = file_example[file_name]\n",
    "        return(example)\n",
    "    except:\n",
    "        print(file_name, ' not found.')"
   ]
  },
  {
   "cell_type": "code",
   "execution_count": 50,
   "metadata": {},
   "outputs": [
    {
     "data": {
      "text/plain": [
       "'atlanta_hom/atl_hom.shp'"
      ]
     },
     "execution_count": 50,
     "metadata": {},
     "output_type": "execute_result"
    }
   ],
   "source": [
    "load_example_path('atl_hom.shp')"
   ]
  },
  {
   "cell_type": "code",
   "execution_count": 51,
   "metadata": {},
   "outputs": [],
   "source": [
    "def get_path(file_name):\n",
    "    example_name = load_example_path(file_name)\n",
    "    # check if example is already downloaded\n",
    "    \n",
    "    # if not download and install\n",
    "    \n",
    "    # update things\n",
    "    return example_name"
   ]
  },
  {
   "cell_type": "code",
   "execution_count": 52,
   "metadata": {},
   "outputs": [
    {
     "data": {
      "text/plain": [
       "'atlanta_hom/atl_hom.shp'"
      ]
     },
     "execution_count": 52,
     "metadata": {},
     "output_type": "execute_result"
    }
   ],
   "source": [
    "get_path('atl_hom.shp')"
   ]
  },
  {
   "cell_type": "code",
   "execution_count": 53,
   "metadata": {},
   "outputs": [
    {
     "name": "stdout",
     "output_type": "stream",
     "text": [
      "mkdir: cannot create directory ‘/home/jovyan/PYSALDATA’: File exists\r\n"
     ]
    }
   ],
   "source": [
    "!mkdir /home/jovyan/PYSALDATA"
   ]
  },
  {
   "cell_type": "code",
   "execution_count": 123,
   "metadata": {},
   "outputs": [],
   "source": [
    "!ls /home/jovyan/PYSALDATA"
   ]
  },
  {
   "cell_type": "code",
   "execution_count": 127,
   "metadata": {},
   "outputs": [
    {
     "name": "stdout",
     "output_type": "stream",
     "text": [
      "AirBnB Rio_Grande_do_Sul /home/jovyan/PYSALDATA/AirBnB\n",
      "Atlanta Rio_Grande_do_Sul /home/jovyan/PYSALDATA/Atlanta\n",
      "Rio Grande do Sul Rio_Grande_do_Sul /home/jovyan/PYSALDATA/Rio_Grande_do_Sul\n"
     ]
    }
   ],
   "source": [
    "!rm -rf /home/jovyan/PySALDATA/*\n",
    "# download each example into its own directory\n",
    "# assume we have a directory ~/PYSALDATA\n",
    "import requests\n",
    "import zipfile\n",
    "import io\n",
    "import geopandas \n",
    "import os\n",
    "example_dir = '/home/jovyan/PYSALDATA'\n",
    "#info = short\n",
    "for example_name in short:\n",
    "    example = info[example_name]    \n",
    "    local_dir = example_dir+\"/\"+example['dir']\n",
    "    print(example['name'], dirname, local_dir)\n",
    "    try:\n",
    "        r = requests.get(example['download_url'])\n",
    "        z = zipfile.ZipFile(io.BytesIO(r.content))\n",
    "        z.extractall(path=local_dir)\n",
    "    except:\n",
    "        print('fail')\n",
    "        print(example, local_dir)\n",
    "    \n",
    "    "
   ]
  },
  {
   "cell_type": "code",
   "execution_count": 125,
   "metadata": {},
   "outputs": [
    {
     "data": {
      "text/plain": [
       "{'name': 'Rio Grande do Sul',\n",
       " 'description': 'Cities of the Brazilian State of Rio Grande do Sul',\n",
       " 'download_url': 'https://github.com/sjsrey/rio_grande_do_sul/archive/master.zip',\n",
       " 'explain_url': 'https://raw.githubusercontent.com/sjsrey/rio_grande_do_sul/master/README.md',\n",
       " 'dir': 'Rio_Grande_do_Sul'}"
      ]
     },
     "execution_count": 125,
     "metadata": {},
     "output_type": "execute_result"
    }
   ],
   "source": [
    "example"
   ]
  },
  {
   "cell_type": "code",
   "execution_count": 126,
   "metadata": {},
   "outputs": [
    {
     "name": "stdout",
     "output_type": "stream",
     "text": [
      "AirBnB\tAtlanta  Rio_Grande_do_Sul\r\n"
     ]
    }
   ],
   "source": [
    "!ls /home/jovyan/PYSALDATA/"
   ]
  },
  {
   "cell_type": "code",
   "execution_count": 121,
   "metadata": {},
   "outputs": [
    {
     "name": "stdout",
     "output_type": "stream",
     "text": [
      "43MUE250GC_SIR.cpg  43MUE250GC_SIR.shp\tmap_RS_BR.prj  README.md\r\n",
      "43MUE250GC_SIR.dbf  43MUE250GC_SIR.shx\tmap_RS_BR.shp\r\n",
      "43MUE250GC_SIR.prj  map_RS_BR.dbf\tmap_RS_BR.shx\r\n"
     ]
    }
   ],
   "source": [
    "!ls /home/jovyan/PYSALDATA/rio_grande_do_sul-master"
   ]
  },
  {
   "cell_type": "code",
   "execution_count": 122,
   "metadata": {},
   "outputs": [],
   "source": [
    "!rm -rf /home/jovyan/PYSALDATA/*"
   ]
  },
  {
   "cell_type": "code",
   "execution_count": 89,
   "metadata": {},
   "outputs": [
    {
     "name": "stdout",
     "output_type": "stream",
     "text": [
      "ls: cannot access '/home/jovyan/PYSALDATA/Rio_Grande_do_Sul/Rio_Grande_do_Sul/': No such file or directory\r\n"
     ]
    }
   ],
   "source": [
    "!ls /home/jovyan/PYSALDATA/Rio_Grande_do_Sul/Rio_Grande_do_Sul/"
   ]
  },
  {
   "cell_type": "code",
   "execution_count": 107,
   "metadata": {},
   "outputs": [],
   "source": [
    "url = 'https://s3.amazonaws.com/geoda/data/airbnb.zip'\n",
    "r = requests.get(url)\n",
    "z = zipfile.ZipFile(io.BytesIO(r.content))"
   ]
  },
  {
   "cell_type": "code",
   "execution_count": 108,
   "metadata": {},
   "outputs": [
    {
     "data": {
      "text/plain": [
       "['airbnb_Chicago 2015.dbf',\n",
       " '',\n",
       " '._airbnb_Chicago 2015.dbf',\n",
       " 'airbnb_Chicago 2015.prj',\n",
       " '._airbnb_Chicago 2015.prj',\n",
       " 'airbnb_Chicago 2015.shp',\n",
       " '._airbnb_Chicago 2015.shp',\n",
       " 'airbnb_Chicago 2015.shx',\n",
       " '._airbnb_Chicago 2015.shx']"
      ]
     },
     "execution_count": 108,
     "metadata": {},
     "output_type": "execute_result"
    }
   ],
   "source": [
    "endmembers = [f.split(\"/\")[-1] for f in z.namelist()]\n",
    "endmembers"
   ]
  },
  {
   "cell_type": "code",
   "execution_count": 102,
   "metadata": {},
   "outputs": [
    {
     "data": {
      "text/plain": [
       "[<ZipInfo filename='airbnb_Chicago 2015.dbf' compress_type=deflate filemode='-rwxr-xr-x' external_attr=0x4000 file_size=47412 compress_size=7611>,\n",
       " <ZipInfo filename='__MACOSX/' filemode='drwxrwxr-x' external_attr=0x4000>,\n",
       " <ZipInfo filename='__MACOSX/._airbnb_Chicago 2015.dbf' compress_type=deflate filemode='-rw-r--r--' external_attr=0x4000 file_size=226 compress_size=147>,\n",
       " <ZipInfo filename='airbnb_Chicago 2015.prj' compress_type=deflate filemode='-rwxr-xr-x' external_attr=0x4000 file_size=143 compress_size=121>,\n",
       " <ZipInfo filename='__MACOSX/._airbnb_Chicago 2015.prj' compress_type=deflate filemode='-rw-r--r--' external_attr=0x4000 file_size=226 compress_size=147>,\n",
       " <ZipInfo filename='airbnb_Chicago 2015.shp' compress_type=deflate filemode='-rwxr-xr-x' external_attr=0x4000 file_size=846680 compress_size=541733>,\n",
       " <ZipInfo filename='__MACOSX/._airbnb_Chicago 2015.shp' compress_type=deflate filemode='-rw-r--r--' external_attr=0x4000 file_size=226 compress_size=147>,\n",
       " <ZipInfo filename='airbnb_Chicago 2015.shx' compress_type=deflate filemode='-rwxr-xr-x' external_attr=0x4000 file_size=716 compress_size=542>,\n",
       " <ZipInfo filename='__MACOSX/._airbnb_Chicago 2015.shx' compress_type=deflate filemode='-rw-r--r--' external_attr=0x4000 file_size=226 compress_size=147>]"
      ]
     },
     "execution_count": 102,
     "metadata": {},
     "output_type": "execute_result"
    }
   ],
   "source": [
    "z.filelist"
   ]
  },
  {
   "cell_type": "code",
   "execution_count": 110,
   "metadata": {},
   "outputs": [
    {
     "data": {
      "text/plain": [
       "[<ZipInfo filename='airbnb_Chicago 2015.dbf' compress_type=deflate filemode='-rwxr-xr-x' external_attr=0x4000 file_size=47412 compress_size=7611>,\n",
       " <ZipInfo filename='__MACOSX/' filemode='drwxrwxr-x' external_attr=0x4000>,\n",
       " <ZipInfo filename='__MACOSX/._airbnb_Chicago 2015.dbf' compress_type=deflate filemode='-rw-r--r--' external_attr=0x4000 file_size=226 compress_size=147>,\n",
       " <ZipInfo filename='airbnb_Chicago 2015.prj' compress_type=deflate filemode='-rwxr-xr-x' external_attr=0x4000 file_size=143 compress_size=121>,\n",
       " <ZipInfo filename='__MACOSX/._airbnb_Chicago 2015.prj' compress_type=deflate filemode='-rw-r--r--' external_attr=0x4000 file_size=226 compress_size=147>,\n",
       " <ZipInfo filename='airbnb_Chicago 2015.shp' compress_type=deflate filemode='-rwxr-xr-x' external_attr=0x4000 file_size=846680 compress_size=541733>,\n",
       " <ZipInfo filename='__MACOSX/._airbnb_Chicago 2015.shp' compress_type=deflate filemode='-rw-r--r--' external_attr=0x4000 file_size=226 compress_size=147>,\n",
       " <ZipInfo filename='airbnb_Chicago 2015.shx' compress_type=deflate filemode='-rwxr-xr-x' external_attr=0x4000 file_size=716 compress_size=542>,\n",
       " <ZipInfo filename='__MACOSX/._airbnb_Chicago 2015.shx' compress_type=deflate filemode='-rw-r--r--' external_attr=0x4000 file_size=226 compress_size=147>]"
      ]
     },
     "execution_count": 110,
     "metadata": {},
     "output_type": "execute_result"
    }
   ],
   "source": [
    "z.infolist()"
   ]
  },
  {
   "cell_type": "code",
   "execution_count": 103,
   "metadata": {},
   "outputs": [
    {
     "data": {
      "text/plain": [
       "[<ZipInfo filename='rio_grande_do_sul-master/' external_attr=0x10>,\n",
       " <ZipInfo filename='rio_grande_do_sul-master/43MUE250GC_SIR.cpg' file_size=5>,\n",
       " <ZipInfo filename='rio_grande_do_sul-master/43MUE250GC_SIR.dbf' compress_type=deflate file_size=34030 compress_size=5558>,\n",
       " <ZipInfo filename='rio_grande_do_sul-master/43MUE250GC_SIR.prj' compress_type=deflate file_size=151 compress_size=126>,\n",
       " <ZipInfo filename='rio_grande_do_sul-master/43MUE250GC_SIR.shp' compress_type=deflate file_size=3174384 compress_size=2501841>,\n",
       " <ZipInfo filename='rio_grande_do_sul-master/43MUE250GC_SIR.shx' compress_type=deflate file_size=4092 compress_size=2828>,\n",
       " <ZipInfo filename='rio_grande_do_sul-master/README.md' compress_type=deflate file_size=656 compress_size=314>,\n",
       " <ZipInfo filename='rio_grande_do_sul-master/map_RS_BR.dbf' compress_type=deflate file_size=80115 compress_size=6220>,\n",
       " <ZipInfo filename='rio_grande_do_sul-master/map_RS_BR.prj' compress_type=deflate file_size=147 compress_size=130>,\n",
       " <ZipInfo filename='rio_grande_do_sul-master/map_RS_BR.shp' compress_type=deflate file_size=3103024 compress_size=2449226>,\n",
       " <ZipInfo filename='rio_grande_do_sul-master/map_RS_BR.shx' compress_type=deflate file_size=4076 compress_size=2828>]"
      ]
     },
     "execution_count": 103,
     "metadata": {},
     "output_type": "execute_result"
    }
   ],
   "source": [
    "url = 'https://github.com/sjsrey/rio_grande_do_sul/archive/master.zip'\n",
    "r = requests.get(url)\n",
    "z = zipfile.ZipFile(io.BytesIO(r.content))\n",
    "z.filelist"
   ]
  },
  {
   "cell_type": "code",
   "execution_count": 106,
   "metadata": {},
   "outputs": [
    {
     "data": {
      "text/plain": [
       "['',\n",
       " '43MUE250GC_SIR.cpg',\n",
       " '43MUE250GC_SIR.dbf',\n",
       " '43MUE250GC_SIR.prj',\n",
       " '43MUE250GC_SIR.shp',\n",
       " '43MUE250GC_SIR.shx',\n",
       " 'README.md',\n",
       " 'map_RS_BR.dbf',\n",
       " 'map_RS_BR.prj',\n",
       " 'map_RS_BR.shp',\n",
       " 'map_RS_BR.shx']"
      ]
     },
     "execution_count": 106,
     "metadata": {},
     "output_type": "execute_result"
    }
   ],
   "source": [
    "endmembers = [f.split(\"/\")[-1] for f in z.namelist()]\n",
    "endmembers"
   ]
  },
  {
   "cell_type": "markdown",
   "metadata": {},
   "source": [
    "## Next Steps\n",
    "\n",
    "- distinguish between remote and local\n",
    "- distinguish between nb versus shell contexts\n",
    "- determine why new machine needs --user root in docker run to get around permission issues"
   ]
  },
  {
   "cell_type": "code",
   "execution_count": null,
   "metadata": {},
   "outputs": [],
   "source": []
  },
  {
   "cell_type": "code",
   "execution_count": null,
   "metadata": {},
   "outputs": [],
   "source": []
  },
  {
   "cell_type": "code",
   "execution_count": null,
   "metadata": {},
   "outputs": [],
   "source": [
    "for f in file_list:\n",
    "    tokens = f.split(\"/\")\n",
    "    print(tokens)"
   ]
  },
  {
   "cell_type": "code",
   "execution_count": null,
   "metadata": {},
   "outputs": [],
   "source": [
    "z = zipfile.ZipFile(io.BytesIO(r.content))\n"
   ]
  },
  {
   "cell_type": "code",
   "execution_count": null,
   "metadata": {},
   "outputs": [],
   "source": [
    "z"
   ]
  },
  {
   "cell_type": "code",
   "execution_count": null,
   "metadata": {},
   "outputs": [],
   "source": [
    "dir(z)"
   ]
  },
  {
   "cell_type": "code",
   "execution_count": null,
   "metadata": {},
   "outputs": [],
   "source": [
    "z.namelist()"
   ]
  },
  {
   "cell_type": "code",
   "execution_count": null,
   "metadata": {},
   "outputs": [],
   "source": [
    "# download each example into its own directory\n",
    "# assume we have a directory ~/PYSALDATA\n",
    "import requests\n",
    "import zipfile\n",
    "import io\n",
    "import geopandas \n",
    "import os\n",
    "example_dir = '/home/jovyan/PYSALDATA'\n",
    "for example_name in info:\n",
    "    example = info[example_name]\n",
    "    \n",
    "    dirname = info_url.split(\"/\")[-2]\n",
    "    local_dir = os.path.join(example_dir, dirname)\n",
    "    print(example, dirname, local_dir)\n",
    "    print(download_url)\n",
    "    try:\n",
    "        r = requests.get(download_url)\n",
    "        z = zipfile.ZipFile(io.BytesIO(r.content))\n",
    "        z.extractall(path=local_dir)\n",
    "    except:\n",
    "        print(example, dirname, local_dir)\n",
    "    \n",
    "    "
   ]
  },
  {
   "cell_type": "code",
   "execution_count": null,
   "metadata": {},
   "outputs": [],
   "source": [
    "!ls ~/PYSALDATA"
   ]
  },
  {
   "cell_type": "code",
   "execution_count": null,
   "metadata": {},
   "outputs": [],
   "source": [
    "t = download_url.split(\"/\")"
   ]
  },
  {
   "cell_type": "code",
   "execution_count": null,
   "metadata": {},
   "outputs": [],
   "source": [
    "t"
   ]
  },
  {
   "cell_type": "code",
   "execution_count": null,
   "metadata": {},
   "outputs": [],
   "source": [
    "import requests\n",
    "import zipfile\n",
    "import io\n",
    "import geopandas \n",
    "\n",
    "r = requests.get(remote)\n",
    "\n",
    "z = zipfile.ZipFile(io.BytesIO(r.content))\n",
    "\n",
    "z.extractall(path=\"~/Downloads\")"
   ]
  },
  {
   "cell_type": "code",
   "execution_count": null,
   "metadata": {},
   "outputs": [],
   "source": [
    "# process an example page\n",
    "page = requests.get('https://geodacenter.github.io/data-and-lab/tampa1/')\n",
    "soup = BeautifulSoup(page.text, 'html.parser')"
   ]
  },
  {
   "cell_type": "code",
   "execution_count": null,
   "metadata": {},
   "outputs": [],
   "source": [
    "print(soup.prettify())"
   ]
  },
  {
   "cell_type": "code",
   "execution_count": null,
   "metadata": {},
   "outputs": [],
   "source": []
  },
  {
   "cell_type": "code",
   "execution_count": null,
   "metadata": {},
   "outputs": [],
   "source": []
  },
  {
   "cell_type": "code",
   "execution_count": null,
   "metadata": {},
   "outputs": [],
   "source": [
    "from IPython.display import IFrame\n",
    "IFrame('https://geodacenter.github.io/data-and-lab/stlouis/', width=700, height=350)"
   ]
  },
  {
   "cell_type": "code",
   "execution_count": null,
   "metadata": {},
   "outputs": [],
   "source": [
    "remote = 'https://s3.amazonaws.com/geoda/data/denver.zip'"
   ]
  },
  {
   "cell_type": "code",
   "execution_count": null,
   "metadata": {},
   "outputs": [],
   "source": [
    "import requests\n",
    "import zipfile\n",
    "import io\n",
    "import geopandas \n",
    "\n",
    "r = requests.get(remote)\n",
    "\n",
    "z = zipfile.ZipFile(io.BytesIO(r.content))\n",
    "\n",
    "z.extractall(path=\"~/Downloads\")"
   ]
  },
  {
   "cell_type": "code",
   "execution_count": null,
   "metadata": {},
   "outputs": [],
   "source": [
    "!ls ~/Downloads"
   ]
  },
  {
   "cell_type": "code",
   "execution_count": null,
   "metadata": {},
   "outputs": [],
   "source": [
    "!mkdir Downloads/denver"
   ]
  },
  {
   "cell_type": "code",
   "execution_count": null,
   "metadata": {},
   "outputs": [],
   "source": [
    "z.extractall(path=\"Downloads/denver\")"
   ]
  },
  {
   "cell_type": "code",
   "execution_count": null,
   "metadata": {},
   "outputs": [],
   "source": [
    "!ls Downloads"
   ]
  },
  {
   "cell_type": "code",
   "execution_count": null,
   "metadata": {},
   "outputs": [],
   "source": [
    "!ls"
   ]
  },
  {
   "cell_type": "code",
   "execution_count": null,
   "metadata": {},
   "outputs": [],
   "source": [
    "!ls Downloads/denver"
   ]
  },
  {
   "cell_type": "code",
   "execution_count": null,
   "metadata": {},
   "outputs": [],
   "source": [
    "z.extractall(path=\"geoda\")"
   ]
  },
  {
   "cell_type": "code",
   "execution_count": null,
   "metadata": {},
   "outputs": [],
   "source": [
    "!ls geoda"
   ]
  },
  {
   "cell_type": "code",
   "execution_count": null,
   "metadata": {},
   "outputs": [],
   "source": [
    "denver = geopandas.read_file('geoda/denver.shp')"
   ]
  },
  {
   "cell_type": "code",
   "execution_count": null,
   "metadata": {},
   "outputs": [],
   "source": [
    "!mkdir ~/Downloads"
   ]
  },
  {
   "cell_type": "code",
   "execution_count": null,
   "metadata": {},
   "outputs": [],
   "source": [
    "ls ~/Downloads"
   ]
  },
  {
   "cell_type": "code",
   "execution_count": null,
   "metadata": {},
   "outputs": [],
   "source": [
    "z.extractall(path=\"~/Downloads\")"
   ]
  },
  {
   "cell_type": "code",
   "execution_count": null,
   "metadata": {},
   "outputs": [],
   "source": [
    "ls ~/Downloads"
   ]
  },
  {
   "cell_type": "code",
   "execution_count": null,
   "metadata": {},
   "outputs": [],
   "source": [
    "z"
   ]
  },
  {
   "cell_type": "code",
   "execution_count": null,
   "metadata": {},
   "outputs": [],
   "source": [
    "z.extractall(path=\"/home/jovyan/Downloads\")"
   ]
  },
  {
   "cell_type": "code",
   "execution_count": null,
   "metadata": {},
   "outputs": [],
   "source": [
    "ls ~/Downloads"
   ]
  },
  {
   "cell_type": "code",
   "execution_count": null,
   "metadata": {},
   "outputs": [],
   "source": [
    "def geoda_data_available():\n",
    "    url = 'https://geodacenter.github.io/data-and-lab//'\n",
    "    from IPython.display import IFrame\n",
    "    return IFrame(url, width=700, height=350)"
   ]
  },
  {
   "cell_type": "code",
   "execution_count": null,
   "metadata": {},
   "outputs": [],
   "source": [
    "geoda_data_available()"
   ]
  },
  {
   "cell_type": "code",
   "execution_count": null,
   "metadata": {},
   "outputs": [],
   "source": [
    "def get_geoda_data(name):\n",
    "    "
   ]
  }
 ],
 "metadata": {
  "kernelspec": {
   "display_name": "Python 3",
   "language": "python",
   "name": "python3"
  },
  "language_info": {
   "codemirror_mode": {
    "name": "ipython",
    "version": 3
   },
   "file_extension": ".py",
   "mimetype": "text/x-python",
   "name": "python",
   "nbconvert_exporter": "python",
   "pygments_lexer": "ipython3",
   "version": "3.7.3"
  }
 },
 "nbformat": 4,
 "nbformat_minor": 2
}
