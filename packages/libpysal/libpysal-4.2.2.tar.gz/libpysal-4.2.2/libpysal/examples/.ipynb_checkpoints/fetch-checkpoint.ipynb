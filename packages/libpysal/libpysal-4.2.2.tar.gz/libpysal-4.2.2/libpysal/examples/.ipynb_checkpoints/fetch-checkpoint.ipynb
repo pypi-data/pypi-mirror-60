{
 "cells": [
  {
   "cell_type": "code",
   "execution_count": 1,
   "metadata": {},
   "outputs": [],
   "source": [
    "import libpysal"
   ]
  },
  {
   "cell_type": "code",
   "execution_count": 2,
   "metadata": {},
   "outputs": [],
   "source": [
    "from libpysal.examples import remotes"
   ]
  },
  {
   "cell_type": "code",
   "execution_count": 3,
   "metadata": {},
   "outputs": [
    {
     "data": {
      "text/plain": [
       "{'guerry': <function libpysal.examples.guerry.fetch_guerry(meta_data=RemoteFileMetadata(filename='guerry.zip', url='https://s3.amazonaws.com/geoda/data/guerry.zip', checksum='e781a4be1450c9e4fb287440bbb5ffafd9ec63bdf42745158205d92970cca187'), dir_name='guerry', data_home=None, download_if_missing=True, description='\\nguerry\\n======\\n\\nAndre-Michel Guerry data on \"moral statistics\" 1930 crime, suicide, literacy and other “moral statistics” in 1830s France.\\n\\n- Observations = 85\\n- Variables = 23\\n- Years = 1915-1934\\n- Support = polygon\\n\\nFiles\\n-----\\nGuerry.dbf  Guerry_documentation.html  Guerry.geojson  Guerry.prj  Guerry.shp  Guerry.shx  README.md\\n\\n\\nVariables\\n---------\\n\\ndept, code_de \\tDepartment ID: Standard numbers for the departments \\t \\nregion \\tRegion of France (‘N’=’North’, ‘S’=’South’, ‘E’=’East’, ‘W’=’West’, ‘C’=’Central’). Corsica is coded as NA. \\t \\ndprtmnt \\tDepartment name: Departments are named according to usage in 1830, but without accents. A factor with levels Ain Aisne Allier … Vosges Yonne \\t \\ncrm_prs \\tPopulation per Crime against persons. \\tA2. Compte général, 1825-1830\\ncrm_prp \\tPopulation per Crime against property. \\tCompte général, 1825-1830\\nlitercy \\tPercent of military conscripts who can read and write. \\tA2 \\ndonatns \\tDonations to the poor. \\tA2. Bulletin des lois\\ninfants \\tPopulation per illegitimate birth. \\tA2. Bureau des Longitudes, 1817-1821\\nsuicids \\tPopulation per suicide. \\tA2. Compte général, 1827-1830\\nmaincty \\tSize of principal city (‘1:Sm’, ‘2:Med’, ‘3:Lg’), used as a surrogate for population density. Large refers to the top 10, small to the bottom 10; all the rest are classed Medium. \\tA1. An ordered factor with levels: 1:Sm < 2:Med < 3:Lg\\nwealth \\tPer capita tax on personal property. A ranked index based on taxes on personal and movable property per inhabitant. \\tA1\\ncommerc \\tCommerce and Industry, measured by the rank of the number of patents / population. \\tA1\\nclergy \\tDistribution of clergy, measured by the rank of the number of Catholic priests in active service population. \\tA1. Almanach officiel du clergy, 1829\\ncrim_prn \\tCrimes against parents, measured by the rank of the ratio of crimes against parents to all crimes – Average for the years 1825-1830. \\tA1. Compte général\\ninfntcd \\tInfanticides per capita. A ranked ratio of number of infanticides to population – Average for the years 1825-1830. \\tA1. Compte général\\ndntn_cl \\tDonations to the clergy. A ranked ratio of the number of bequests and donations inter vivios to population – Average for the years 1815-1824. \\tA1. Bull. des lois, ordunn. d’autorisation\\nlottery \\tPer capita wager on Royal Lottery. Ranked ratio of the proceeds bet on the royal lottery to population — Average for the years 1822-1826. \\tA1. Compte rendu par le ministre des finances\\ndesertn \\tMilitary desertion, ratio of number of young soldiers accused of desertion to the force of the military contingent, minus the deficit produced by the insufficiency of available billets – Average of the years 1825-1827. \\tA1. Compte du ministère du guerre, 1829 état V\\ninstrct \\tInstruction. Ranks recorded from Guerry’s map of Instruction. Note: this is inversely related to Literacy \\t \\nPrsttts \\tNumber of prostitutes registered in Paris from 1816 to 1834, classified by the department of their birth \\tParent-Duchatelet (1836), De la prostitution en Paris\\ndistanc \\tDistance to Paris (km). Distance of each department centroid to the centroid of the Seine (Paris) \\tCalculated from department centroids\\narea \\tArea (1000 km^2). \\tAngeville (1836)\\npop1831 \\tPopulation in 1831, in 1000s \\tTaken from Angeville (1836), Essai sur la Statistique de la Population français\\nDetails\\n\\nNote that most of the variables (e.g., Crime_pers) are scaled so that more is “better”. \\n\\nValues for the quantitative variables displayed on Guerry’s maps were taken from Table A2 in the English translation of Guerry (1833) by Whitt and Reinking. Values for the ranked variables were taken from Table A1, with some corrections applied. The maximum is indicated by rank 1, and the minimum by rank 86. \\nSources\\n\\nAngeville, A. (1836). Essai sur la Statistique de la Population française Paris: F. Doufour. \\n\\nGuerry, A.-M. (1833). Essai sur la statistique morale de la France Paris: Crochard. English translation: Hugh P. Whitt and Victor W. Reinking, Lewiston, N.Y. : Edwin Mellen Press, 2002. \\n\\nParent-Duchatelet, A. (1836). De la prostitution dans la ville de Paris, 3rd ed, 1857, p. 32, 36 \\nReferences\\n\\nDray, S. and Jombart, T. (2011). A Revisit Of Guerry’s Data: Introducing Spatial Constraints In Multivariate Analysis. The Annals of Applied Statistics, Vol. 5, No. 4, 2278-2299., DOI: 10.1214/10-AOAS356. \\n\\nBrunsdon, C. and Dykes, J. (2007). Geographically weighted visualization: interactive graphics for scale-varying exploratory analysis. Geographical Information Science Research Conference (GISRUK 07), NUI Maynooth, Ireland, April, 2007. \\n\\nFriendly, M. (2007). A.-M. Guerry’s Moral Statistics of France: Challenges for Multivariable Spatial Analysis. Statistical Science, 22, 368-399. \\n\\nFriendly, M. (2007). Data from A.-M. Guerry, Essay on the Moral Statistics of France (1833). \\nSee Also\\n\\nThe Guerry package for maps of France: gfrance and related data. \\n\\nPrepared by Center for Spatial Data Science. Last updated July 3, 2017. Data provided “as is,” no warranties.\\n\\n\\n\\n')>,\n",
       " 'rio': <function libpysal.examples.rio_grande_do_sul.fetch_rio(meta_data=RemoteFileMetadata(filename='master.zip', url='https://github.com/sjsrey/rio_grande_do_sul/archive/master.zip', checksum='e5629e782e77037912cbfc40d3738f4752e27b5bdfc99a95368b232047b53ff3'), dir_name='rio_grande_do_sul', data_home=None, download_if_missing=True, description='\\n\\nRio_Grande_do_Sul\\n======================\\n\\nCities of the Brazilian State of Rio Grande do Sul\\n-------------------------------------------------------\\n\\n* 43MUE250GC_SIR.dbf: attribute data (k=2)\\n* 43MUE250GC_SIR.shp: Polygon shapefile (n=499)\\n* 43MUE250GC_SIR.shx: spatial index\\n* 43MUE250GC_SIR.cpg: encoding file \\n* 43MUE250GC_SIR.prj: projection information \\n* map_RS_BR.dbf: attribute data (k=3)\\n* map_RS_BR.shp: Polygon shapefile (no lakes) (n=497)\\n* map_RS_BR.prj: projection information\\n* map_RS_BR.shx: spatial index\\n\\n\\n\\nSource: Renan Xavier Cortes <renanxcortes@gmail.com>\\nReference: https://github.com/pysal/pysal/issues/889#issuecomment-396693495\\n')>,\n",
       " 'nat': <function libpysal.examples.nat.fetch_nat(meta_data=RemoteFileMetadata(filename='ncovr.zip', url='https://s3.amazonaws.com/geoda/data/ncovr.zip', checksum='e8cb04e6da634c6cd21808bd8cfe4dad6e295b22e8d40cc628e666887719cfe9'), dir_name='nat', data_home=None, download_if_missing=True, description='\\nnat\\n===\\n\\nUS county homicides 1960-1990\\n-----------------------------\\n\\n- Observations = 3,085\\n- Variables = 69\\n- Years = 1960-90s\\n- Support = polygon\\n\\nFiles\\n-----\\nncovr.gdb     NAT.csv  NAT.geojson  NAT.kml  NAT.mif  NAT.shp  NAT.sqlite  ncovr.html\\ncodebook.pdf  NAT.dbf  NAT.gpkg     NAT.mid  NAT.prj  NAT.shx  NAT.xlsx    README.md\\n\\nVariables\\n--------\\nNAME \\tcounty name\\nSTATE_NAME \\tstate name\\nSTATE_FIPS \\tstate fips code (character)\\nCNTY_FIPS \\tcounty fips code (character)\\nFIPS \\tcombined state and county fips code (character)\\nSTFIPS \\tstate fips code (numeric)\\nCOFIPS \\tcounty fips code (numeric)\\nFIPSNO \\tfips code as numeric variable\\nSOUTH \\tdummy variable for Southern counties (South = 1)\\nHR** \\thomicide rate per 100,000 (1960, 1970, 1980, 1990)\\nHC** \\thomicide count, three year average centered on 1960, 1970, 1980, 1990\\nPO** \\tcounty population, 1960, 1970, 1980, 1990\\nRD** \\tresource deprivation 1960, 1970, 1980, 1990 (principal component, see Codebook for details)\\nPS** \\tpopulation structure 1960, 1970, 1980, 1990 (principal component, see Codebook for details)\\nUE** \\tunemployment rate 1960, 1970, 1980, 1990\\nDV** \\tdivorce rate 1960, 1970, 1980, 1990 (% males over 14 divorced)\\nMA** \\tmedian age 1960, 1970, 1980, 1990\\nPOL** \\tlog of population 1960, 1970, 1980, 1990\\nDNL** \\tlog of population density 1960, 1970, 1980, 1990\\nMFIL** \\tlog of median family income 1960, 1970, 1980, 1990\\nFP** \\t% families below poverty 1960, 1970, 1980, 1990 (see Codebook for details)\\nBLK** \\t% black 1960, 1970, 1980, 1990\\nGI** \\tGini index of family income inequality 1960, 1970, 1980, 1990\\nFH** \\t% female headed households 1960, 1970, 1980, 1990\\n')>,\n",
       " 'nyc_bikes': <function libpysal.examples.nyc_bikes.fetch_bikes(meta_data=RemoteFileMetadata(filename='master.zip', url='https://github.com/sjsrey/nyc_bikes/archive/master.zip', checksum='159b430476d53cdd6891832c18c575c10cee25e401da96ce7f7aeb049fccd387'), dir_name='nyc_bikes', data_home=None, download_if_missing=True, description='\\nNYC Bike Data\\n=============\\n\\n\\n- observations: 14042 origin-desination flows\\n- variables: 27\\n- support: polygon\\n\\n\\nFiles\\n-----\\nnyc_bikes_ct.csv\\nnyct2010.dbf\\nnyct2010.prj\\nnyct2010.shp\\nnyct2010.shp.xml\\nnyct2010.shx\\n\\n\\nVariables\\n--------\\n\\ncount\\tnumber of trips\\nd_cap   destination tract cap\\nd_tract destination tract\\ndistance distance\\nend station latitutde\\nend station longitude\\no_cap   origin tract cap\\no_tract origin tract\\n')>,\n",
       " 'sacramento2': <function libpysal.examples.sacramento2.fetch_sacramento2(meta_data=RemoteFileMetadata(filename='SacramentoMSA2.zip', url='https://s3.amazonaws.com/geoda/data/SacramentoMSA2.zip', checksum='6446dc044ebb8ce8e63b806bf5202adc80330592f115c8f48d894a706f6481cf'), dir_name='sacramento2', data_home=None, download_if_missing=True, description=\"\\nsacramento2\\n===========\\n\\n2000 Census Tract Data for Sacramento MSA\\n-----------------------------------------\\n\\n- Observations = 83\\n- Variables = 66\\n- Years = 1998, 2001\\n- Support = polygon\\n\\nFiles\\n-----\\n SacramentoMSA2.gdb       SacramentoMSA2.kml   SacramentoMSA2.shp\\n README.md                SacramentoMSA2.mid   SacramentoMSA2.shx\\n SacramentoMSA2.csv       SacramentoMSA2.mif   SacramentoMSA2.sqlite\\n SacramentoMSA2.dbf       SacramentoMSA2.prj   SacramentoMSA2.xlsx\\n SacramentoMSA2.geojson   SacramentoMSA2.sbn  'Variable Info for Zip Code File.pdf'\\n SacramentoMSA2.gpkg      SacramentoMSA2.sbx\\n\\nVariables\\n---------\\nZIP ZIP code\\nPO_NAME \\tName of ZIP code area\\nSTATE \\tSTATE\\nMSA \\tMSA\\nCBSA_CODE \\tCBSA code\\nMAN98 \\t1998 total manufacturing establishments (MSA)\\nMAN98_12 \\t1998 total manufacturing establishments, 1-9 employees (MSA)\\nMAN98_39 \\t1998 total manufacturing establishments 10+ employees (MSA)\\nMAN01 \\t2001 total manufacturing establishments (MSA)\\nMAN01_12 \\t2001 total manufacturing establishments, 1-9 employees (MSA)\\nMAN01_39 \\t2001 total manufacturing establishments, 10+ employees (MSA)\\nMAN98US \\t1998 total manufacturing establishments (US)\\nMAN98US12 \\t1998 total manufacturing establishments, 1-9 employees (US)\\nMAN98US39 \\t1998 total manufacturing establishments 10+ employees (US)\\nMAN01US \\t2001 total manufacturing establishments (US)\\nMAN01US_12 \\t2001 total manufacturing establishments, 1-9 employees (US)\\nMAN01US_39 \\t2001 total manufacturing establishments, 10+ employees (US)\\nOFF98 \\t1998 total office establishments (MSA)\\nOFF98_12 \\t1998 total office establishments, 1-9 employees (MSA)\\nOFF98_39 \\t1998 total office establishments, 10+ employees (MSA)\\nOFF01 \\t2001 total office establishments (MSA)\\nOFF01_12 \\t2001 total office establishments, 1-9 employees (MSA)\\nOFF01_39 \\t2001 total office establishments, 10+ employees (MSA)\\nOFF98US \\t1998 total office establishments (US)\\nOFF98US12 \\t1998 total office establishments, 1-9 employees (US)\\nOFF98US39 \\t1998 total office establishments, 10+ employees (US)\\nOFF01US \\t2001 total office establishments (US)\\nOFFUS01_12 \\t2001 total office establishments, 1-9 employees (US)\\nOFFUS01_39 \\t2001 total office establishments, 10+ employees (US)\\nINFO98 \\t1998 total information establishments (MSA)\\nINFO98_12 \\t1998 total information establishments, 1-9 employees (MSA)\\nINFO98_39 \\t1998 total information establishments, 10+ employees (MSA)\\nINFO01 \\t2001 total information establishments (MSA)\\nINFO01_12 \\t2001 total information establishments, 1-9 employees (MSA)\\nINFO01_39 \\t2001 total information establishments, 10+ employees (MSA)\\nINFO98US \\t1998 total information establishments (US)\\nINFO98US12 \\t1998 total information establishments, 1-9 employees (US)\\nINFO98US39 \\t1998 total information establishments, 10+ employees (US)\\nINFO01US \\t2001 total information establishments (US)\\nINFO01US_1 \\t2001 total information establishments, 1-9 employees (US)\\nINFO01US_3 \\t2001 total information establishments, 10+ employees (US)\\nINDEX \\tIndex\\nNUMSEC \\tNumber of sectors represented in ZIP code\\nEST98 \\tTotal establishments in ZIP code, 1998\\nEST01 \\tTotal establishments in ZIP code, 2001\\nPCTNGE \\tNational growth effect, percent (N)\\nPCTIME \\tIndustry mix effect, percent (M)\\nPCTCSE \\tCompetitive shift effect, percent (S)\\nPCTGRO \\tPercent growth establishments, 1998-2001 (R)\\nID \\tUnique ZIP code ID for ID variables in weights matrix creation window\\n\\nSource: US Census Bureau, 2000 Census (Summary File 3). Extracted from http://factfinder.census.gov in April 2004.\\n\")>,\n",
       " 'south': <function libpysal.examples.south.fetch_south(meta_data=RemoteFileMetadata(filename='south.zip', url='https://s3.amazonaws.com/geoda/data/south.zip', checksum='8f151d99c643b187aad37cfb5c3212353e1bc82804a4399a63de369490e56a7a'), dir_name='south', data_home=None, download_if_missing=True, description='\\nsouth\\n=====\\n\\nHomicides and selected socio-economic characteristics for Southern U.S. counties.\\n---------------------------------------------------------------------------------\\n\\n- Observations = 1,412\\n- Variables = 69\\n- Years = 1960-90s\\n- Support = polygon\\n\\nFiles\\n-----\\nsouth.gdb     README.md  south.dbf      south.gpkg  south.kml  south.mif  south.shp  south.sqlite\\ncodebook.pdf  south.csv  south.geojson  south.html  south.mid  south.prj  south.shx  south.xlsx\\n\\nVariables\\n---------\\nNAME \\tcounty name\\nSTATE_NAME \\tstate name\\nSTATE_FIPS \\tstate fips code (character)\\nCNTY_FIPS \\tcounty fips code (character)\\nFIPS \\tcombined state and county fips code (character)\\nSTFIPS \\tstate fips code (numeric)\\nCOFIPS \\tcounty fips code (numeric)\\nFIPSNO \\tfips code as numeric variable\\nSOUTH \\tdummy variable for Southern counties (South = 1)\\nHR** \\thomicide rate per 100,000 (1960, 1970, 1980, 1990)\\nHC** \\thomicide count, three year average centered on 1960, 1970, 1980, 1990\\nPO** \\tcounty population, 1960, 1970, 1980, 1990\\nRD** \\tresource deprivation 1960, 1970, 1980, 1990 (principal component, see Codebook for details)\\nPS** \\tpopulation structure 1960, 1970, 1980, 1990 (principal component, see Codebook for details)\\nUE** \\tunemployment rate 1960, 1970, 1980, 1990\\nDV** \\tdivorce rate 1960, 1970, 1980, 1990 (% males over 14 divorced)\\nMA** \\tmedian age 1960, 1970, 1980, 1990\\nPOL** \\tlog of population 1960, 1970, 1980, 1990\\nDNL** \\tlog of population density 1960, 1970, 1980, 1990\\nMFIL** \\tlog of median family income 1960, 1970, 1980, 1990\\nFP** \\t% families below poverty 1960, 1970, 1980, 1990 (see Codebook for details)\\nBLK** \\t% black 1960, 1970, 1980, 1990\\nGI** \\tGini index of family income inequality 1960, 1970, 1980, 1990\\nFH** \\t% female headed households 1960, 1970, 1980, 1990\\n')>,\n",
       " 'taz': <function libpysal.examples.taz.fetch_taz(meta_data=RemoteFileMetadata(filename='master.zip', url='https://github.com/sjsrey/taz/archive/master.zip', checksum='1a734670ce8d104beb57a55406ffce497d33d807d5fdf8e63f85f4dff0e39383'), dir_name='taz', data_home=None, download_if_missing=True, description='\\ntaz\\n===\\n\\nDataset used for regionalization\\n--------------------------------\\n\\n* taz.dbf: attribute data. (k=14)\\n* taz.shp: Polygon shapefile. (n=4109)\\n* taz.shx: spatial index.\\n')>}"
      ]
     },
     "execution_count": 3,
     "metadata": {},
     "output_type": "execute_result"
    }
   ],
   "source": [
    "remotes"
   ]
  },
  {
   "cell_type": "code",
   "execution_count": 4,
   "metadata": {},
   "outputs": [
    {
     "data": {
      "text/plain": [
       "dict_keys(['guerry', 'rio', 'nat', 'nyc_bikes', 'sacramento2', 'south', 'taz'])"
      ]
     },
     "execution_count": 4,
     "metadata": {},
     "output_type": "execute_result"
    }
   ],
   "source": [
    "remotes.keys()"
   ]
  },
  {
   "cell_type": "code",
   "execution_count": 5,
   "metadata": {},
   "outputs": [
    {
     "ename": "AttributeError",
     "evalue": "'function' object has no attribute 'description'",
     "output_type": "error",
     "traceback": [
      "\u001b[0;31m---------------------------------------------------------------------------\u001b[0m",
      "\u001b[0;31mAttributeError\u001b[0m                            Traceback (most recent call last)",
      "\u001b[0;32m<ipython-input-5-3abc0045b8c5>\u001b[0m in \u001b[0;36m<module>\u001b[0;34m\u001b[0m\n\u001b[0;32m----> 1\u001b[0;31m \u001b[0mlibpysal\u001b[0m\u001b[0;34m.\u001b[0m\u001b[0mexamples\u001b[0m\u001b[0;34m.\u001b[0m\u001b[0mavailable\u001b[0m\u001b[0;34m(\u001b[0m\u001b[0;34m)\u001b[0m\u001b[0;34m\u001b[0m\u001b[0;34m\u001b[0m\u001b[0m\n\u001b[0m",
      "\u001b[0;32m~/libpysal/examples/__init__.py\u001b[0m in \u001b[0;36mavailable\u001b[0;34m()\u001b[0m\n\u001b[1;32m     43\u001b[0m     \u001b[0mremote_datasets\u001b[0m \u001b[0;34m=\u001b[0m \u001b[0;34m[\u001b[0m\u001b[0;34m]\u001b[0m\u001b[0;34m\u001b[0m\u001b[0;34m\u001b[0m\u001b[0m\n\u001b[1;32m     44\u001b[0m     \u001b[0;32mfor\u001b[0m \u001b[0mkey\u001b[0m \u001b[0;32min\u001b[0m \u001b[0mremotes\u001b[0m\u001b[0;34m:\u001b[0m\u001b[0;34m\u001b[0m\u001b[0;34m\u001b[0m\u001b[0m\n\u001b[0;32m---> 45\u001b[0;31m         \u001b[0mremote_datasets\u001b[0m\u001b[0;34m[\u001b[0m\u001b[0mkey\u001b[0m\u001b[0;34m]\u001b[0m \u001b[0;34m=\u001b[0m \u001b[0mremotes\u001b[0m\u001b[0;34m[\u001b[0m\u001b[0mkey\u001b[0m\u001b[0;34m]\u001b[0m\u001b[0;34m.\u001b[0m\u001b[0mdescription\u001b[0m\u001b[0;34m\u001b[0m\u001b[0;34m\u001b[0m\u001b[0m\n\u001b[0m\u001b[1;32m     46\u001b[0m     \u001b[0;32mreturn\u001b[0m \u001b[0mlocal_datasets\u001b[0m\u001b[0;34m,\u001b[0m \u001b[0mremote_datasets\u001b[0m\u001b[0;34m\u001b[0m\u001b[0;34m\u001b[0m\u001b[0m\n\u001b[1;32m     47\u001b[0m \u001b[0;34m\u001b[0m\u001b[0m\n",
      "\u001b[0;31mAttributeError\u001b[0m: 'function' object has no attribute 'description'"
     ]
    }
   ],
   "source": [
    "libpysal.examples.available()"
   ]
  },
  {
   "cell_type": "code",
   "execution_count": 9,
   "metadata": {},
   "outputs": [],
   "source": [
    "examples = {}\n",
    "rio = {\"name\": \"Rio Grande do Sul\",\n",
    "       \"description\": \"Cities of the Brazilian State of Rio Grande do Sul\",\n",
    "       \"fetcher\": \"rio_grande_do_sol\",\n",
    "       \"nobs\": 499,\n",
    "       \"support\": 'polygon'\n",
    "      }"
   ]
  },
  {
   "cell_type": "code",
   "execution_count": 10,
   "metadata": {},
   "outputs": [],
   "source": [
    "examples['rio'] = rio"
   ]
  },
  {
   "cell_type": "code",
   "execution_count": 11,
   "metadata": {},
   "outputs": [
    {
     "data": {
      "text/plain": [
       "{'rio': {'name': 'Rio Grande do Sul',\n",
       "  'description': 'Cities of the Brazilian State of Rio Grande do Sul',\n",
       "  'fetcher': 'rio_grande_do_sol',\n",
       "  'nobs': 499,\n",
       "  'support': 'polygon'}}"
      ]
     },
     "execution_count": 11,
     "metadata": {},
     "output_type": "execute_result"
    }
   ],
   "source": [
    "examples"
   ]
  },
  {
   "cell_type": "markdown",
   "metadata": {},
   "source": [
    "# rio grande do sul\n",
    "\n",
    "## Description\n",
    "Cities of the Brazilian State of Rio Grande do Sul\n",
    "\n",
    "\n",
    "## Files\n",
    "\n",
    "* 43MUE250GC_SIR.dbf: attribute data (k=2)\n",
    "* 43MUE250GC_SIR.shp: Polygon shapefile (n=499)\n",
    "* 43MUE250GC_SIR.shx: spatial index\n",
    "* 43MUE250GC_SIR.cpg: encoding file \n",
    "* 43MUE250GC_SIR.prj: projection information \n",
    "* map_RS_BR.dbf: attribute data (k=3)\n",
    "* map_RS_BR.shp: Polygon shapefile (no lakes) (n=497)\n",
    "* map_RS_BR.prj: projection information\n",
    "* map_RS_BR.shx: spatial index\n",
    "\n",
    "\n",
    "\n",
    "## Reference\n",
    "Renan Xavier Cortes <renanxcortes@gmail.com>  \n",
    "Reference: https://github.com/pysal/pysal/issues/889#issuecomment-396693495\n",
    "\n",
    "## Remote\n",
    "\n",
    "* url: https://github.com/sjsrey/rio_grande_do_sul/archive/master.zip\n",
    "* checksum: e5629e782e77037912cbfc40d3738f4752e27b5bdfc99a95368b232047b53ff3\n",
    "\n",
    "\n",
    "\n",
    "## Example\n",
    "```\n",
    "import geopandas\n",
    "import libpysal\n",
    "pth = libpysal.examples.get_path('43MUE250GC_SIR.shp')\n",
    "gdf = geopandas.read_file(pth)\n",
    "gdf.head()\n",
    "\n",
    "```\n"
   ]
  },
  {
   "cell_type": "code",
   "execution_count": 14,
   "metadata": {},
   "outputs": [
    {
     "data": {
      "text/plain": [
       "<matplotlib.axes._subplots.AxesSubplot at 0x7f2eaae0dbe0>"
      ]
     },
     "execution_count": 14,
     "metadata": {},
     "output_type": "execute_result"
    }
   ],
   "source": [
    "import geopandas\n",
    "import libpysal\n",
    "pth = libpysal.examples.get_path('columbus.shp')\n",
    "gdf = geopandas.read_file(pth)\n",
    "gdf.head()\n",
    "gdf.plot(column='HOVAL')"
   ]
  },
  {
   "cell_type": "code",
   "execution_count": 15,
   "metadata": {},
   "outputs": [],
   "source": [
    "with open('rio/README.md', 'r') as f:\n",
    "    contents = f.read()"
   ]
  },
  {
   "cell_type": "code",
   "execution_count": 16,
   "metadata": {},
   "outputs": [
    {
     "name": "stdout",
     "output_type": "stream",
     "text": [
      "# rio grande do sul\n",
      "\n",
      "## Description\n",
      "Cities of the Brazilian State of Rio Grande do Sul\n",
      "\n",
      "\n",
      "## Files\n",
      "\n",
      "* 43MUE250GC_SIR.dbf: attribute data (k=2)\n",
      "* 43MUE250GC_SIR.shp: Polygon shapefile (n=499)\n",
      "* 43MUE250GC_SIR.shx: spatial index\n",
      "* 43MUE250GC_SIR.cpg: encoding file \n",
      "* 43MUE250GC_SIR.prj: projection information \n",
      "* map_RS_BR.dbf: attribute data (k=3)\n",
      "* map_RS_BR.shp: Polygon shapefile (no lakes) (n=497)\n",
      "* map_RS_BR.prj: projection information\n",
      "* map_RS_BR.shx: spatial index\n",
      "\n",
      "\n",
      "\n",
      "## Reference\n",
      "Renan Xavier Cortes <renanxcortes@gmail.com>  \n",
      "Reference: https://github.com/pysal/pysal/issues/889#issuecomment-396693495\n",
      "\n",
      "\n",
      "## Remote\n",
      "\n",
      "* url: https://github.com/sjsrey/rio_grande_do_sul/archive/master.zip\n",
      "* checksum: e5629e782e77037912cbfc40d3738f4752e27b5bdfc99a95368b232047b53ff3\n",
      "\n",
      "\n",
      "\n",
      "## Example\n",
      "```\n",
      "import geopandas\n",
      "import libpysal\n",
      "pth = libpysal.examples.get_path('43MUE250GC_SIR.shp')\n",
      "gdf = geopandas.read_file(pth)\n",
      "gdf.head()\n",
      "\n",
      "```\n",
      "\n"
     ]
    }
   ],
   "source": [
    "print(contents)"
   ]
  },
  {
   "cell_type": "code",
   "execution_count": 18,
   "metadata": {},
   "outputs": [
    {
     "data": {
      "text/markdown": [
       "*some markdown* $\\phi$"
      ],
      "text/plain": [
       "<IPython.core.display.Markdown object>"
      ]
     },
     "metadata": {},
     "output_type": "display_data"
    }
   ],
   "source": [
    "from IPython.display import display, Markdown, Latex\n",
    "display(Markdown('*some markdown* $\\phi$'))"
   ]
  },
  {
   "cell_type": "code",
   "execution_count": 19,
   "metadata": {},
   "outputs": [
    {
     "data": {
      "text/markdown": [
       "# rio grande do sul\n",
       "\n",
       "## Description\n",
       "Cities of the Brazilian State of Rio Grande do Sul\n",
       "\n",
       "\n",
       "## Files\n",
       "\n",
       "* 43MUE250GC_SIR.dbf: attribute data (k=2)\n",
       "* 43MUE250GC_SIR.shp: Polygon shapefile (n=499)\n",
       "* 43MUE250GC_SIR.shx: spatial index\n",
       "* 43MUE250GC_SIR.cpg: encoding file \n",
       "* 43MUE250GC_SIR.prj: projection information \n",
       "* map_RS_BR.dbf: attribute data (k=3)\n",
       "* map_RS_BR.shp: Polygon shapefile (no lakes) (n=497)\n",
       "* map_RS_BR.prj: projection information\n",
       "* map_RS_BR.shx: spatial index\n",
       "\n",
       "\n",
       "\n",
       "## Reference\n",
       "Renan Xavier Cortes <renanxcortes@gmail.com>  \n",
       "Reference: https://github.com/pysal/pysal/issues/889#issuecomment-396693495\n",
       "\n",
       "\n",
       "## Remote\n",
       "\n",
       "* url: https://github.com/sjsrey/rio_grande_do_sul/archive/master.zip\n",
       "* checksum: e5629e782e77037912cbfc40d3738f4752e27b5bdfc99a95368b232047b53ff3\n",
       "\n",
       "\n",
       "\n",
       "## Example\n",
       "```\n",
       "import geopandas\n",
       "import libpysal\n",
       "pth = libpysal.examples.get_path('43MUE250GC_SIR.shp')\n",
       "gdf = geopandas.read_file(pth)\n",
       "gdf.head()\n",
       "\n",
       "```\n"
      ],
      "text/plain": [
       "<IPython.core.display.Markdown object>"
      ]
     },
     "metadata": {},
     "output_type": "display_data"
    }
   ],
   "source": [
    "display(Markdown(contents))"
   ]
  },
  {
   "cell_type": "code",
   "execution_count": 27,
   "metadata": {},
   "outputs": [],
   "source": [
    "def explain(file_path):\n",
    "    with open(file_path, 'r') as f:\n",
    "        contents = f.read()\n",
    "    try:\n",
    "        # check if running in a notebook\n",
    "        tst = get_ipython().__class__.__name__\n",
    "        if tst == 'ZMQInteractiveShell':\n",
    "            from IPython.display import display, Markdown, Latex\n",
    "            display(Markdown(contents))\n",
    "    except:\n",
    "        print(contents)\n",
    "        \n",
    "    "
   ]
  },
  {
   "cell_type": "code",
   "execution_count": 28,
   "metadata": {},
   "outputs": [
    {
     "data": {
      "text/markdown": [
       "# rio grande do sul\n",
       "\n",
       "## Description\n",
       "Cities of the Brazilian State of Rio Grande do Sul\n",
       "\n",
       "\n",
       "## Files\n",
       "\n",
       "* 43MUE250GC_SIR.dbf: attribute data (k=2)\n",
       "* 43MUE250GC_SIR.shp: Polygon shapefile (n=499)\n",
       "* 43MUE250GC_SIR.shx: spatial index\n",
       "* 43MUE250GC_SIR.cpg: encoding file \n",
       "* 43MUE250GC_SIR.prj: projection information \n",
       "* map_RS_BR.dbf: attribute data (k=3)\n",
       "* map_RS_BR.shp: Polygon shapefile (no lakes) (n=497)\n",
       "* map_RS_BR.prj: projection information\n",
       "* map_RS_BR.shx: spatial index\n",
       "\n",
       "\n",
       "\n",
       "## Reference\n",
       "Renan Xavier Cortes <renanxcortes@gmail.com>  \n",
       "Reference: https://github.com/pysal/pysal/issues/889#issuecomment-396693495\n",
       "\n",
       "\n",
       "## Remote\n",
       "\n",
       "* url: https://github.com/sjsrey/rio_grande_do_sul/archive/master.zip\n",
       "* checksum: e5629e782e77037912cbfc40d3738f4752e27b5bdfc99a95368b232047b53ff3\n",
       "\n",
       "\n",
       "\n",
       "## Example\n",
       "```\n",
       "import geopandas\n",
       "import libpysal\n",
       "pth = libpysal.examples.get_path('43MUE250GC_SIR.shp')\n",
       "gdf = geopandas.read_file(pth)\n",
       "gdf.head()\n",
       "\n",
       "```\n"
      ],
      "text/plain": [
       "<IPython.core.display.Markdown object>"
      ]
     },
     "metadata": {},
     "output_type": "display_data"
    }
   ],
   "source": [
    "explain('rio/README.md')"
   ]
  },
  {
   "cell_type": "code",
   "execution_count": 23,
   "metadata": {},
   "outputs": [
    {
     "data": {
      "text/plain": [
       "'ZMQInteractiveShell'"
      ]
     },
     "execution_count": 23,
     "metadata": {},
     "output_type": "execute_result"
    }
   ],
   "source": [
    "get_ipython().__class__.__name__"
   ]
  },
  {
   "cell_type": "code",
   "execution_count": 29,
   "metadata": {},
   "outputs": [],
   "source": [
    "import json"
   ]
  },
  {
   "cell_type": "code",
   "execution_count": 61,
   "metadata": {},
   "outputs": [],
   "source": [
    "with open('examples.json') as json_file:\n",
    "    data = json.load(json_file)"
   ]
  },
  {
   "cell_type": "code",
   "execution_count": 64,
   "metadata": {},
   "outputs": [
    {
     "name": "stdout",
     "output_type": "stream",
     "text": [
      "remote:  nat\n",
      "remote:  south\n",
      "remote:  rio\n",
      "mexico\n"
     ]
    },
    {
     "data": {
      "text/markdown": [
       "# mexico\n",
       "\n",
       "## Description\n",
       "\n",
       "Decennial per capita incomes of Mexican states 1940-2000\n",
       "\n",
       "## Files\n",
       "\n",
       "* mexico.csv: attribute data. (n=32, k=13)\n",
       "* mexico.gal: spatial weights in GAL format.\n",
       "* mexicojoin.shp: Polygon shapefile. (n=32)\n",
       "\n",
       "\n",
       "## Reference\n",
       "\n",
       "Data used in Rey, S.J. and M.L. Sastre Gutierrez. (2010) \"Interregional inequality dynamics in Mexico.\" Spatial Economic Analysis, 5: 277-298.\n",
       "\n",
       "## Example\n",
       "```\n",
       "import libpysal\n",
       "import geopandas\n",
       "pth = libpysal.examples.get_path('mexicojoin.shp')\n",
       "gdf = geopandas.read_file(pth)\n",
       "gdf.head()\n",
       "```\n"
      ],
      "text/plain": [
       "<IPython.core.display.Markdown object>"
      ]
     },
     "metadata": {},
     "output_type": "display_data"
    },
    {
     "name": "stdout",
     "output_type": "stream",
     "text": [
      "baltim\n"
     ]
    },
    {
     "data": {
      "text/markdown": [
       "# baltim\n",
       "\n",
       "## Description\n",
       "Baltimore house sales prices and hedonics 1978\n",
       "\n",
       "## Files\n",
       "\n",
       "* baltim.dbf: attribute data. (k=17)\n",
       "* baltim.shp: Point shapefile. (n=211)\n",
       "* baltim.shx: spatial index.\n",
       "* baltim.tri.k12.kwt: kernel weights using a triangular kernel with 12 nearest neighbors in KWT format.\n",
       "* baltim_k4.gwt: nearest neighbor weights (4nn) in GWT format.\n",
       "* baltim_q.gal: queen contiguity weights in GAL format.\n",
       "* baltimore.geojson: spatial weights in geojson format.\n",
       "\n",
       "## Attributes\n",
       "<table>\n",
       "  <thead>\n",
       "    <tr>\n",
       "      <th><strong>Variable</strong></th>\n",
       "      <th><strong>Description</strong></th>\n",
       "    </tr>\n",
       "  </thead>\n",
       "  <tbody>\n",
       "    <tr>\n",
       "      <td>STATION</td>\n",
       "      <td>ID variable</td>\n",
       "    </tr>\n",
       "    <tr>\n",
       "      <td>PRICE</td>\n",
       "      <td>sales price of house in $1,000 (MLS)</td>\n",
       "    </tr>\n",
       "    <tr>\n",
       "      <td>NROOM</td>\n",
       "      <td>number of rooms</td>\n",
       "    </tr>\n",
       "    <tr>\n",
       "      <td>DWELL</td>\n",
       "      <td>1 if detached unit, 0 otherwise</td>\n",
       "    </tr>\n",
       "    <tr>\n",
       "      <td>NBATH</td>\n",
       "      <td>number of bathrooms</td>\n",
       "    </tr>\n",
       "    <tr>\n",
       "      <td>PATIO</td>\n",
       "      <td>1 if patio, 0 otherwise</td>\n",
       "    </tr>\n",
       "    <tr>\n",
       "      <td>FIREPL</td>\n",
       "      <td>1 if fireplace, 0 otherwise</td>\n",
       "    </tr>\n",
       "    <tr>\n",
       "      <td>AC</td>\n",
       "      <td>1 if air conditioning, 0 otherwise</td>\n",
       "    </tr>\n",
       "    <tr>\n",
       "      <td>BMENT</td>\n",
       "      <td>1 if basement, 0 otherwise</td>\n",
       "    </tr>\n",
       "    <tr>\n",
       "      <td>NSTOR</td>\n",
       "      <td>number of stories</td>\n",
       "    </tr>\n",
       "    <tr>\n",
       "      <td>GAR</td>\n",
       "      <td>number of car spaces in garage (0 = no garage)</td>\n",
       "    </tr>\n",
       "    <tr>\n",
       "      <td>AGE</td>\n",
       "      <td>age of dwelling in years</td>\n",
       "    </tr>\n",
       "    <tr>\n",
       "      <td>CITCOU</td>\n",
       "      <td>1 if dwelling is in Baltimore County, 0 otherwise</td>\n",
       "    </tr>\n",
       "    <tr>\n",
       "      <td>LOTSZ</td>\n",
       "      <td>lot size in hundreds of square feet</td>\n",
       "    </tr>\n",
       "    <tr>\n",
       "      <td>SQFT</td>\n",
       "      <td>interior living space in hundreds of square feet</td>\n",
       "    </tr>\n",
       "    <tr>\n",
       "      <td>X</td>\n",
       "      <td>x coordinate on the Maryland grid</td>\n",
       "    </tr>\n",
       "    <tr>\n",
       "      <td>Y</td>\n",
       "      <td>y coordinate on the Maryland grid</td>\n",
       "    </tr>\n",
       "  </tbody>\n",
       "</table>\n",
       "\n",
       "## Reference\n",
       "\n",
       "Source: https://geodacenter.github.io/data-and-lab//baltim/\n",
       "\n",
       "## Example\n",
       "\n",
       "```\n",
       "import libpysal\n",
       "import geopandas\n",
       "pth = libpysal.examples.get_path('baltim.shp')\n",
       "gdf = geopandas.read_file(pth)\n",
       "gdf.head()\n",
       "\n",
       "```\n"
      ],
      "text/plain": [
       "<IPython.core.display.Markdown object>"
      ]
     },
     "metadata": {},
     "output_type": "display_data"
    }
   ],
   "source": [
    "for example in data:\n",
    "    info = data[example]\n",
    "    if 'url' in info:\n",
    "        print('remote: ', example)\n",
    "    else:\n",
    "        directory = data[example]['dir']\n",
    "        print(directory)\n",
    "        with open(directory+\"/README.md\", 'r') as rmf:\n",
    "            content = rmf.read()\n",
    "            #print(content)\n",
    "            explain(directory+\"/README.md\")"
   ]
  },
  {
   "cell_type": "code",
   "execution_count": 57,
   "metadata": {},
   "outputs": [
    {
     "data": {
      "text/html": [
       "<div>\n",
       "<style scoped>\n",
       "    .dataframe tbody tr th:only-of-type {\n",
       "        vertical-align: middle;\n",
       "    }\n",
       "\n",
       "    .dataframe tbody tr th {\n",
       "        vertical-align: top;\n",
       "    }\n",
       "\n",
       "    .dataframe thead th {\n",
       "        text-align: right;\n",
       "    }\n",
       "</style>\n",
       "<table border=\"1\" class=\"dataframe\">\n",
       "  <thead>\n",
       "    <tr style=\"text-align: right;\">\n",
       "      <th></th>\n",
       "      <th>STATION</th>\n",
       "      <th>PRICE</th>\n",
       "      <th>NROOM</th>\n",
       "      <th>DWELL</th>\n",
       "      <th>NBATH</th>\n",
       "      <th>PATIO</th>\n",
       "      <th>FIREPL</th>\n",
       "      <th>AC</th>\n",
       "      <th>BMENT</th>\n",
       "      <th>NSTOR</th>\n",
       "      <th>GAR</th>\n",
       "      <th>AGE</th>\n",
       "      <th>CITCOU</th>\n",
       "      <th>LOTSZ</th>\n",
       "      <th>SQFT</th>\n",
       "      <th>X</th>\n",
       "      <th>Y</th>\n",
       "      <th>geometry</th>\n",
       "    </tr>\n",
       "  </thead>\n",
       "  <tbody>\n",
       "    <tr>\n",
       "      <td>0</td>\n",
       "      <td>1</td>\n",
       "      <td>47.0</td>\n",
       "      <td>4.0</td>\n",
       "      <td>0.0</td>\n",
       "      <td>1.0</td>\n",
       "      <td>0.0</td>\n",
       "      <td>0.0</td>\n",
       "      <td>0.0</td>\n",
       "      <td>2.0</td>\n",
       "      <td>3.0</td>\n",
       "      <td>0.0</td>\n",
       "      <td>148.0</td>\n",
       "      <td>0.0</td>\n",
       "      <td>5.70</td>\n",
       "      <td>11.25</td>\n",
       "      <td>907.0</td>\n",
       "      <td>534.0</td>\n",
       "      <td>POINT (907.000 534.000)</td>\n",
       "    </tr>\n",
       "    <tr>\n",
       "      <td>1</td>\n",
       "      <td>2</td>\n",
       "      <td>113.0</td>\n",
       "      <td>7.0</td>\n",
       "      <td>1.0</td>\n",
       "      <td>2.5</td>\n",
       "      <td>1.0</td>\n",
       "      <td>1.0</td>\n",
       "      <td>1.0</td>\n",
       "      <td>2.0</td>\n",
       "      <td>2.0</td>\n",
       "      <td>2.0</td>\n",
       "      <td>9.0</td>\n",
       "      <td>1.0</td>\n",
       "      <td>279.51</td>\n",
       "      <td>28.92</td>\n",
       "      <td>922.0</td>\n",
       "      <td>574.0</td>\n",
       "      <td>POINT (922.000 574.000)</td>\n",
       "    </tr>\n",
       "    <tr>\n",
       "      <td>2</td>\n",
       "      <td>3</td>\n",
       "      <td>165.0</td>\n",
       "      <td>7.0</td>\n",
       "      <td>1.0</td>\n",
       "      <td>2.5</td>\n",
       "      <td>1.0</td>\n",
       "      <td>1.0</td>\n",
       "      <td>0.0</td>\n",
       "      <td>3.0</td>\n",
       "      <td>2.0</td>\n",
       "      <td>2.0</td>\n",
       "      <td>23.0</td>\n",
       "      <td>1.0</td>\n",
       "      <td>70.64</td>\n",
       "      <td>30.62</td>\n",
       "      <td>920.0</td>\n",
       "      <td>581.0</td>\n",
       "      <td>POINT (920.000 581.000)</td>\n",
       "    </tr>\n",
       "    <tr>\n",
       "      <td>3</td>\n",
       "      <td>4</td>\n",
       "      <td>104.3</td>\n",
       "      <td>7.0</td>\n",
       "      <td>1.0</td>\n",
       "      <td>2.5</td>\n",
       "      <td>1.0</td>\n",
       "      <td>1.0</td>\n",
       "      <td>1.0</td>\n",
       "      <td>2.0</td>\n",
       "      <td>2.0</td>\n",
       "      <td>2.0</td>\n",
       "      <td>5.0</td>\n",
       "      <td>1.0</td>\n",
       "      <td>174.63</td>\n",
       "      <td>26.12</td>\n",
       "      <td>923.0</td>\n",
       "      <td>578.0</td>\n",
       "      <td>POINT (923.000 578.000)</td>\n",
       "    </tr>\n",
       "    <tr>\n",
       "      <td>4</td>\n",
       "      <td>5</td>\n",
       "      <td>62.5</td>\n",
       "      <td>7.0</td>\n",
       "      <td>1.0</td>\n",
       "      <td>1.5</td>\n",
       "      <td>1.0</td>\n",
       "      <td>1.0</td>\n",
       "      <td>0.0</td>\n",
       "      <td>2.0</td>\n",
       "      <td>2.0</td>\n",
       "      <td>0.0</td>\n",
       "      <td>19.0</td>\n",
       "      <td>1.0</td>\n",
       "      <td>107.80</td>\n",
       "      <td>22.04</td>\n",
       "      <td>918.0</td>\n",
       "      <td>574.0</td>\n",
       "      <td>POINT (918.000 574.000)</td>\n",
       "    </tr>\n",
       "  </tbody>\n",
       "</table>\n",
       "</div>"
      ],
      "text/plain": [
       "   STATION  PRICE  NROOM  DWELL  NBATH  PATIO  FIREPL   AC  BMENT  NSTOR  GAR  \\\n",
       "0        1   47.0    4.0    0.0    1.0    0.0     0.0  0.0    2.0    3.0  0.0   \n",
       "1        2  113.0    7.0    1.0    2.5    1.0     1.0  1.0    2.0    2.0  2.0   \n",
       "2        3  165.0    7.0    1.0    2.5    1.0     1.0  0.0    3.0    2.0  2.0   \n",
       "3        4  104.3    7.0    1.0    2.5    1.0     1.0  1.0    2.0    2.0  2.0   \n",
       "4        5   62.5    7.0    1.0    1.5    1.0     1.0  0.0    2.0    2.0  0.0   \n",
       "\n",
       "     AGE  CITCOU   LOTSZ   SQFT      X      Y                 geometry  \n",
       "0  148.0     0.0    5.70  11.25  907.0  534.0  POINT (907.000 534.000)  \n",
       "1    9.0     1.0  279.51  28.92  922.0  574.0  POINT (922.000 574.000)  \n",
       "2   23.0     1.0   70.64  30.62  920.0  581.0  POINT (920.000 581.000)  \n",
       "3    5.0     1.0  174.63  26.12  923.0  578.0  POINT (923.000 578.000)  \n",
       "4   19.0     1.0  107.80  22.04  918.0  574.0  POINT (918.000 574.000)  "
      ]
     },
     "execution_count": 57,
     "metadata": {},
     "output_type": "execute_result"
    }
   ],
   "source": [
    "import libpysal\n",
    "import geopandas\n",
    "pth = libpysal.examples.get_path('baltim.shp')\n",
    "gdf = geopandas.read_file(pth)\n",
    "gdf.head()"
   ]
  },
  {
   "cell_type": "code",
   "execution_count": 58,
   "metadata": {},
   "outputs": [
    {
     "data": {
      "text/html": [
       "<div>\n",
       "<style scoped>\n",
       "    .dataframe tbody tr th:only-of-type {\n",
       "        vertical-align: middle;\n",
       "    }\n",
       "\n",
       "    .dataframe tbody tr th {\n",
       "        vertical-align: top;\n",
       "    }\n",
       "\n",
       "    .dataframe thead th {\n",
       "        text-align: right;\n",
       "    }\n",
       "</style>\n",
       "<table border=\"1\" class=\"dataframe\">\n",
       "  <thead>\n",
       "    <tr style=\"text-align: right;\">\n",
       "      <th></th>\n",
       "      <th>STATION</th>\n",
       "      <th>PRICE</th>\n",
       "      <th>NROOM</th>\n",
       "      <th>DWELL</th>\n",
       "      <th>NBATH</th>\n",
       "      <th>PATIO</th>\n",
       "      <th>FIREPL</th>\n",
       "      <th>AC</th>\n",
       "      <th>BMENT</th>\n",
       "      <th>NSTOR</th>\n",
       "      <th>GAR</th>\n",
       "      <th>AGE</th>\n",
       "      <th>CITCOU</th>\n",
       "      <th>LOTSZ</th>\n",
       "      <th>SQFT</th>\n",
       "      <th>X</th>\n",
       "      <th>Y</th>\n",
       "      <th>geometry</th>\n",
       "    </tr>\n",
       "  </thead>\n",
       "  <tbody>\n",
       "    <tr>\n",
       "      <td>0</td>\n",
       "      <td>1</td>\n",
       "      <td>47.0</td>\n",
       "      <td>4.0</td>\n",
       "      <td>0.0</td>\n",
       "      <td>1.0</td>\n",
       "      <td>0.0</td>\n",
       "      <td>0.0</td>\n",
       "      <td>0.0</td>\n",
       "      <td>2.0</td>\n",
       "      <td>3.0</td>\n",
       "      <td>0.0</td>\n",
       "      <td>148.0</td>\n",
       "      <td>0.0</td>\n",
       "      <td>5.70</td>\n",
       "      <td>11.25</td>\n",
       "      <td>907.0</td>\n",
       "      <td>534.0</td>\n",
       "      <td>POINT (907.000 534.000)</td>\n",
       "    </tr>\n",
       "    <tr>\n",
       "      <td>1</td>\n",
       "      <td>2</td>\n",
       "      <td>113.0</td>\n",
       "      <td>7.0</td>\n",
       "      <td>1.0</td>\n",
       "      <td>2.5</td>\n",
       "      <td>1.0</td>\n",
       "      <td>1.0</td>\n",
       "      <td>1.0</td>\n",
       "      <td>2.0</td>\n",
       "      <td>2.0</td>\n",
       "      <td>2.0</td>\n",
       "      <td>9.0</td>\n",
       "      <td>1.0</td>\n",
       "      <td>279.51</td>\n",
       "      <td>28.92</td>\n",
       "      <td>922.0</td>\n",
       "      <td>574.0</td>\n",
       "      <td>POINT (922.000 574.000)</td>\n",
       "    </tr>\n",
       "    <tr>\n",
       "      <td>2</td>\n",
       "      <td>3</td>\n",
       "      <td>165.0</td>\n",
       "      <td>7.0</td>\n",
       "      <td>1.0</td>\n",
       "      <td>2.5</td>\n",
       "      <td>1.0</td>\n",
       "      <td>1.0</td>\n",
       "      <td>0.0</td>\n",
       "      <td>3.0</td>\n",
       "      <td>2.0</td>\n",
       "      <td>2.0</td>\n",
       "      <td>23.0</td>\n",
       "      <td>1.0</td>\n",
       "      <td>70.64</td>\n",
       "      <td>30.62</td>\n",
       "      <td>920.0</td>\n",
       "      <td>581.0</td>\n",
       "      <td>POINT (920.000 581.000)</td>\n",
       "    </tr>\n",
       "    <tr>\n",
       "      <td>3</td>\n",
       "      <td>4</td>\n",
       "      <td>104.3</td>\n",
       "      <td>7.0</td>\n",
       "      <td>1.0</td>\n",
       "      <td>2.5</td>\n",
       "      <td>1.0</td>\n",
       "      <td>1.0</td>\n",
       "      <td>1.0</td>\n",
       "      <td>2.0</td>\n",
       "      <td>2.0</td>\n",
       "      <td>2.0</td>\n",
       "      <td>5.0</td>\n",
       "      <td>1.0</td>\n",
       "      <td>174.63</td>\n",
       "      <td>26.12</td>\n",
       "      <td>923.0</td>\n",
       "      <td>578.0</td>\n",
       "      <td>POINT (923.000 578.000)</td>\n",
       "    </tr>\n",
       "    <tr>\n",
       "      <td>4</td>\n",
       "      <td>5</td>\n",
       "      <td>62.5</td>\n",
       "      <td>7.0</td>\n",
       "      <td>1.0</td>\n",
       "      <td>1.5</td>\n",
       "      <td>1.0</td>\n",
       "      <td>1.0</td>\n",
       "      <td>0.0</td>\n",
       "      <td>2.0</td>\n",
       "      <td>2.0</td>\n",
       "      <td>0.0</td>\n",
       "      <td>19.0</td>\n",
       "      <td>1.0</td>\n",
       "      <td>107.80</td>\n",
       "      <td>22.04</td>\n",
       "      <td>918.0</td>\n",
       "      <td>574.0</td>\n",
       "      <td>POINT (918.000 574.000)</td>\n",
       "    </tr>\n",
       "  </tbody>\n",
       "</table>\n",
       "</div>"
      ],
      "text/plain": [
       "   STATION  PRICE  NROOM  DWELL  NBATH  PATIO  FIREPL   AC  BMENT  NSTOR  GAR  \\\n",
       "0        1   47.0    4.0    0.0    1.0    0.0     0.0  0.0    2.0    3.0  0.0   \n",
       "1        2  113.0    7.0    1.0    2.5    1.0     1.0  1.0    2.0    2.0  2.0   \n",
       "2        3  165.0    7.0    1.0    2.5    1.0     1.0  0.0    3.0    2.0  2.0   \n",
       "3        4  104.3    7.0    1.0    2.5    1.0     1.0  1.0    2.0    2.0  2.0   \n",
       "4        5   62.5    7.0    1.0    1.5    1.0     1.0  0.0    2.0    2.0  0.0   \n",
       "\n",
       "     AGE  CITCOU   LOTSZ   SQFT      X      Y                 geometry  \n",
       "0  148.0     0.0    5.70  11.25  907.0  534.0  POINT (907.000 534.000)  \n",
       "1    9.0     1.0  279.51  28.92  922.0  574.0  POINT (922.000 574.000)  \n",
       "2   23.0     1.0   70.64  30.62  920.0  581.0  POINT (920.000 581.000)  \n",
       "3    5.0     1.0  174.63  26.12  923.0  578.0  POINT (923.000 578.000)  \n",
       "4   19.0     1.0  107.80  22.04  918.0  574.0  POINT (918.000 574.000)  "
      ]
     },
     "execution_count": 58,
     "metadata": {},
     "output_type": "execute_result"
    }
   ],
   "source": [
    "import libpysal\n",
    "import geopandas\n",
    "pth = libpysal.examples.get_path('baltim.shp')\n",
    "gdf = geopandas.read_file(pth)\n",
    "gdf.head()\n"
   ]
  },
  {
   "cell_type": "code",
   "execution_count": null,
   "metadata": {},
   "outputs": [],
   "source": []
  }
 ],
 "metadata": {
  "kernelspec": {
   "display_name": "Python 3",
   "language": "python",
   "name": "python3"
  },
  "language_info": {
   "codemirror_mode": {
    "name": "ipython",
    "version": 3
   },
   "file_extension": ".py",
   "mimetype": "text/x-python",
   "name": "python",
   "nbconvert_exporter": "python",
   "pygments_lexer": "ipython3",
   "version": "3.7.3"
  }
 },
 "nbformat": 4,
 "nbformat_minor": 2
}
