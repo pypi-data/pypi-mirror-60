{
 "cells": [
  {
   "cell_type": "code",
   "execution_count": 1,
   "metadata": {
    "autoscroll": false,
    "ein.hycell": false,
    "ein.tags": "worksheet-0",
    "slideshow": {
     "slide_type": "-"
    }
   },
   "outputs": [],
   "source": [
    "#from remotes import available, datasets\n",
    "import libpysal"
   ]
  },
  {
   "cell_type": "code",
   "execution_count": 2,
   "metadata": {},
   "outputs": [],
   "source": [
    "from libpysal.examples.remotes import datasets, available, download"
   ]
  },
  {
   "cell_type": "code",
   "execution_count": 4,
   "metadata": {
    "autoscroll": false,
    "ein.hycell": false,
    "ein.tags": "worksheet-0",
    "slideshow": {
     "slide_type": "-"
    }
   },
   "outputs": [
    {
     "name": "stdout",
     "output_type": "stream",
     "text": [
      "                      Name                                        Description\n",
      "0                   AirBnB  Airbnb rentals, socioeconomics, and crime in C...\n",
      "1                  Atlanta       Atlanta, GA region homicide counts and rates\n",
      "2                Baltimore          Baltimore house sales prices and hedonics\n",
      "3                Bostonhsg               Boston housing and neighborhood data\n",
      "4              Buenosaires      Electoral Data for 1999 Argentinean Elections\n",
      "5                     Cars  2011 abandoned vehicles in Chicago (311 compla...\n",
      "6              Charleston1   2000 Census Tract Data for Charleston, SC MSA...\n",
      "7              Charleston2   1998 and 2001 Zip Code Business Patterns (Cen...\n",
      "8           Chicago Health                   Chicago Health + Socio-Economics\n",
      "9              Chile Labor                 Labor Markets in Chile (1982-2002)\n",
      "10         Chile Migration            Internal Migration in Chile (1977-2002)\n",
      "11              Cincinnati         2008 Cincinnati Crime + Socio-Demographics\n",
      "12               Cleveland       2015 sales prices of homes in Cleveland, OH.\n",
      "13                Columbus                        Columbus neighborhood crime\n",
      "14                  Denver   Demographics and housing in Denver neighborho...\n",
      "15               Elections               2012 and 2016 Presidential Elections\n",
      "16                 Grid100                      Grid with simulated variables\n",
      "17               Groceries                          2015 Chicago supermarkets\n",
      "18                  Guerry          Moral statistics of France (Guerry, 1833)\n",
      "19       Health Indicators                Chicago Health Indicators (2005-11)\n",
      "20                 Health+                    2000 Health, Income + Diversity\n",
      "21                Hickory1   2000 Census Tract Data for Hickory, NC MSA an...\n",
      "22                Hickory2   1998 and 2001 Zip Code Business Patterns (Cen...\n",
      "23              Home Sales              2014-15 Home Sales in King County, WA\n",
      "24                 Houston       Houston, TX region homicide counts and rates\n",
      "25                Juvenile             Cardiff juvenile delinquent residences\n",
      "26                Lansing1   2000 Census Tract Data for Lansing, MI MSA an...\n",
      "27                Lansing2   1998 and 2001 Zip Code Business Patterns (Cen...\n",
      "28                 Laozone   Ozone measures at monitoring stations in Los ...\n",
      "29                LasRosas   Corn yield, fertilizer and field data for pre...\n",
      "30           Liquor Stores                         2015 Chicago Liquor Stores\n",
      "31                 Malaria   Malaria incidence and population (1973, 95, 9...\n",
      "32              Milwaukee1       2000 Census Tract Data for Milwaukee, WI MSA\n",
      "33              Milwaukee2   1998 and 2001 Zip Code Business Patterns (Cen...\n",
      "34                   NCOVR                      US county homicides 1960-1990\n",
      "35                    NDVI        Normalized Difference Vegetation Index grid\n",
      "36                     NYC   Demographic and housing data for New York Cit...\n",
      "37            NYC Earnings              Block-level Earnings in NYC (2002-14)\n",
      "38           NYC Education                               NYC Education (2000)\n",
      "39       NYC Neighborhoods       Demographics for New York City neighborhoods\n",
      "40  NYC Socio-Demographics                 NYC Education + Socio-Demographics\n",
      "41              Natregimes                    NCOVR with regimes (book/PySAL)\n",
      "42                   Nepal   Health, poverty and education indicators for ...\n",
      "43                Ohiolung            Ohio lung cancer data, 1968, 1978, 1988\n",
      "44                Orlando1   2000 Census Tract Data for Orlando, FL MSA an...\n",
      "45                Orlando2   1998 and 2001 Zip Code Business Patterns (Cen...\n",
      "46                  Oz9799                        Monthly ozone data, 1997-99\n",
      "47             Phoenix ACS   Phoenix American Community Survey Data (2010,...\n",
      "48              Pittsburgh                      Pittsburgh homicide locations\n",
      "49                  Police           Police expenditures Mississippi counties\n",
      "50       Rio Grande do Sul  Cities of the Brazilian State of Rio Grande do...\n",
      "51                    SIDS            North Carolina county SIDS death counts\n",
      "52                   SIDS2   North Carolina county SIDS death counts and r...\n",
      "53             Sacramento1          2000 Census Tract Data for Sacramento MSA\n",
      "54             Sacramento2   1998 and 2001 Zip Code Business Patterns (Cen...\n",
      "55           SanFran Crime   July-Dec 2012 crime incidents in San Francisc...\n",
      "56               Savannah1   2000 Census Tract Data for Savannah, GA MSA a...\n",
      "57               Savannah2   1998 and 2001 Zip Code Business Patterns (Cen...\n",
      "58                 Scotlip               Male lip cancer in Scotland, 1975-80\n",
      "59                Seattle1   2000 Census Tract Data for Seattle, WA MSA an...\n",
      "60                Seattle2   1998 and 2001 Zip Code Business Patterns (Cen...\n",
      "61                   South             US Southern county homicides 1960-1990\n",
      "62                 StLouis   St Louis region county homicide counts and rates\n",
      "63                  Tampa1   2000 Census Tract Data for Tampa, FL MSA and ...\n"
     ]
    }
   ],
   "source": [
    "available()"
   ]
  },
  {
   "cell_type": "code",
   "execution_count": 5,
   "metadata": {},
   "outputs": [
    {
     "name": "stdout",
     "output_type": "stream",
     "text": [
      "AirBnB\n",
      "Downloading AirBnB to /home/jovyan/pysal_data/AirBnB\n",
      "Atlanta\n",
      "Downloading Atlanta to /home/jovyan/pysal_data/Atlanta\n",
      "Baltimore\n",
      "Downloading Baltimore to /home/jovyan/pysal_data/Baltimore\n",
      "Bostonhsg\n",
      "Downloading Bostonhsg to /home/jovyan/pysal_data/Bostonhsg\n",
      "Buenosaires\n",
      "Downloading Buenosaires to /home/jovyan/pysal_data/Buenosaires\n",
      "Cars\n",
      "Example not downloaded: Cars\n",
      "Charleston1\n",
      "Downloading Charleston1 to /home/jovyan/pysal_data/Charleston1\n",
      "Charleston2\n",
      "Downloading Charleston2 to /home/jovyan/pysal_data/Charleston2\n",
      "Chicago Health\n",
      "Downloading Chicago Health to /home/jovyan/pysal_data/Chicago_Health\n",
      "Chile Labor\n",
      "Downloading Chile Labor to /home/jovyan/pysal_data/Chile_Labor\n",
      "Chile Migration\n",
      "Downloading Chile Migration to /home/jovyan/pysal_data/Chile_Migration\n",
      "Cincinnati\n",
      "Downloading Cincinnati to /home/jovyan/pysal_data/Cincinnati\n",
      "Cleveland\n",
      "Downloading Cleveland to /home/jovyan/pysal_data/Cleveland\n",
      "Columbus\n",
      "Downloading Columbus to /home/jovyan/pysal_data/Columbus\n",
      "Denver\n",
      "Downloading Denver to /home/jovyan/pysal_data/Denver\n",
      "Elections\n",
      "Downloading Elections to /home/jovyan/pysal_data/Elections\n",
      "Grid100\n",
      "Downloading Grid100 to /home/jovyan/pysal_data/Grid100\n",
      "Groceries\n",
      "Downloading Groceries to /home/jovyan/pysal_data/Groceries\n",
      "Guerry\n",
      "Downloading Guerry to /home/jovyan/pysal_data/Guerry\n",
      "Health Indicators\n",
      "Downloading Health Indicators to /home/jovyan/pysal_data/Health_Indicators\n",
      "Health+\n",
      "Downloading Health+ to /home/jovyan/pysal_data/Health+\n",
      "Hickory1\n",
      "Downloading Hickory1 to /home/jovyan/pysal_data/Hickory1\n",
      "Hickory2\n",
      "Downloading Hickory2 to /home/jovyan/pysal_data/Hickory2\n",
      "Home Sales\n",
      "Downloading Home Sales to /home/jovyan/pysal_data/Home_Sales\n",
      "Houston\n",
      "Downloading Houston to /home/jovyan/pysal_data/Houston\n",
      "Juvenile\n",
      "Downloading Juvenile to /home/jovyan/pysal_data/Juvenile\n",
      "Lansing1\n",
      "Downloading Lansing1 to /home/jovyan/pysal_data/Lansing1\n",
      "Lansing2\n",
      "Downloading Lansing2 to /home/jovyan/pysal_data/Lansing2\n",
      "Laozone\n",
      "Downloading Laozone to /home/jovyan/pysal_data/Laozone\n",
      "LasRosas\n",
      "Downloading LasRosas to /home/jovyan/pysal_data/LasRosas\n",
      "Liquor Stores\n",
      "Downloading Liquor Stores to /home/jovyan/pysal_data/Liquor_Stores\n",
      "Malaria\n",
      "Downloading Malaria to /home/jovyan/pysal_data/Malaria\n",
      "Milwaukee1\n",
      "Downloading Milwaukee1 to /home/jovyan/pysal_data/Milwaukee1\n",
      "Milwaukee2\n",
      "Downloading Milwaukee2 to /home/jovyan/pysal_data/Milwaukee2\n",
      "NCOVR\n",
      "Downloading NCOVR to /home/jovyan/pysal_data/NCOVR\n",
      "NDVI\n",
      "Downloading NDVI to /home/jovyan/pysal_data/NDVI\n",
      "NYC\n",
      "Downloading NYC to /home/jovyan/pysal_data/NYC\n",
      "NYC Earnings\n",
      "Downloading NYC Earnings to /home/jovyan/pysal_data/NYC_Earnings\n",
      "NYC Education\n",
      "Downloading NYC Education to /home/jovyan/pysal_data/NYC_Education\n",
      "NYC Neighborhoods\n",
      "Downloading NYC Neighborhoods to /home/jovyan/pysal_data/NYC_Neighborhoods\n",
      "NYC Socio-Demographics\n",
      "Downloading NYC Socio-Demographics to /home/jovyan/pysal_data/NYC_Socio-Demographics\n",
      "Natregimes\n",
      "Downloading Natregimes to /home/jovyan/pysal_data/Natregimes\n",
      "Nepal\n",
      "Downloading Nepal to /home/jovyan/pysal_data/Nepal\n",
      "Ohiolung\n",
      "Downloading Ohiolung to /home/jovyan/pysal_data/Ohiolung\n",
      "Orlando1\n",
      "Downloading Orlando1 to /home/jovyan/pysal_data/Orlando1\n",
      "Orlando2\n",
      "Downloading Orlando2 to /home/jovyan/pysal_data/Orlando2\n",
      "Oz9799\n",
      "Downloading Oz9799 to /home/jovyan/pysal_data/Oz9799\n",
      "Phoenix ACS\n",
      "Downloading Phoenix ACS to /home/jovyan/pysal_data/Phoenix_ACS\n",
      "Pittsburgh\n",
      "Downloading Pittsburgh to /home/jovyan/pysal_data/Pittsburgh\n",
      "Police\n",
      "Downloading Police to /home/jovyan/pysal_data/Police\n",
      "Rio Grande do Sul\n",
      "Downloading Rio Grande do Sul to /home/jovyan/pysal_data/Rio_Grande_do_Sul\n",
      "SIDS\n",
      "Downloading SIDS to /home/jovyan/pysal_data/SIDS\n",
      "SIDS2\n",
      "Downloading SIDS2 to /home/jovyan/pysal_data/SIDS2\n",
      "Sacramento1\n",
      "Downloading Sacramento1 to /home/jovyan/pysal_data/Sacramento1\n",
      "Sacramento2\n",
      "Downloading Sacramento2 to /home/jovyan/pysal_data/Sacramento2\n",
      "SanFran Crime\n",
      "Downloading SanFran Crime to /home/jovyan/pysal_data/SanFran_Crime\n",
      "Savannah1\n",
      "Downloading Savannah1 to /home/jovyan/pysal_data/Savannah1\n",
      "Savannah2\n",
      "Downloading Savannah2 to /home/jovyan/pysal_data/Savannah2\n",
      "Scotlip\n",
      "Downloading Scotlip to /home/jovyan/pysal_data/Scotlip\n",
      "Seattle1\n",
      "Downloading Seattle1 to /home/jovyan/pysal_data/Seattle1\n",
      "Seattle2\n",
      "Downloading Seattle2 to /home/jovyan/pysal_data/Seattle2\n",
      "South\n",
      "Downloading South to /home/jovyan/pysal_data/South\n",
      "StLouis\n",
      "Downloading StLouis to /home/jovyan/pysal_data/StLouis\n",
      "Tampa1\n",
      "Downloading Tampa1 to /home/jovyan/pysal_data/Tampa1\n"
     ]
    }
   ],
   "source": [
    "download()"
   ]
  },
  {
   "cell_type": "code",
   "execution_count": 6,
   "metadata": {
    "autoscroll": false,
    "ein.hycell": false,
    "ein.tags": "worksheet-0",
    "slideshow": {
     "slide_type": "-"
    }
   },
   "outputs": [],
   "source": [
    "tampa1 = datasets['Tampa1']"
   ]
  },
  {
   "cell_type": "code",
   "execution_count": 7,
   "metadata": {},
   "outputs": [
    {
     "data": {
      "text/plain": [
       "True"
      ]
     },
     "execution_count": 7,
     "metadata": {},
     "output_type": "execute_result"
    }
   ],
   "source": [
    "tampa1.downloaded()"
   ]
  },
  {
   "cell_type": "code",
   "execution_count": 8,
   "metadata": {},
   "outputs": [
    {
     "name": "stdout",
     "output_type": "stream",
     "text": [
      "AirBnB\n",
      "Already downloaded\n",
      "Atlanta\n",
      "Already downloaded\n",
      "Baltimore\n",
      "Already downloaded\n",
      "Bostonhsg\n",
      "Already downloaded\n",
      "Buenosaires\n",
      "Already downloaded\n",
      "Cars\n",
      "Example not downloaded: Cars\n",
      "Charleston1\n",
      "Already downloaded\n",
      "Charleston2\n",
      "Already downloaded\n",
      "Chicago Health\n",
      "Already downloaded\n",
      "Chile Labor\n",
      "Already downloaded\n",
      "Chile Migration\n",
      "Already downloaded\n",
      "Cincinnati\n",
      "Already downloaded\n",
      "Cleveland\n",
      "Already downloaded\n",
      "Columbus\n",
      "Already downloaded\n",
      "Denver\n",
      "Already downloaded\n",
      "Elections\n",
      "Already downloaded\n",
      "Grid100\n",
      "Already downloaded\n",
      "Groceries\n",
      "Already downloaded\n",
      "Guerry\n",
      "Already downloaded\n",
      "Health Indicators\n",
      "Already downloaded\n",
      "Health+\n",
      "Already downloaded\n",
      "Hickory1\n",
      "Already downloaded\n",
      "Hickory2\n",
      "Already downloaded\n",
      "Home Sales\n",
      "Already downloaded\n",
      "Houston\n",
      "Already downloaded\n",
      "Juvenile\n",
      "Already downloaded\n",
      "Lansing1\n",
      "Already downloaded\n",
      "Lansing2\n",
      "Already downloaded\n",
      "Laozone\n",
      "Already downloaded\n",
      "LasRosas\n",
      "Already downloaded\n",
      "Liquor Stores\n",
      "Already downloaded\n",
      "Malaria\n",
      "Already downloaded\n",
      "Milwaukee1\n",
      "Already downloaded\n",
      "Milwaukee2\n",
      "Already downloaded\n",
      "NCOVR\n",
      "Already downloaded\n",
      "NDVI\n",
      "Already downloaded\n",
      "NYC\n",
      "Already downloaded\n",
      "NYC Earnings\n",
      "Already downloaded\n",
      "NYC Education\n",
      "Already downloaded\n",
      "NYC Neighborhoods\n",
      "Already downloaded\n",
      "NYC Socio-Demographics\n",
      "Already downloaded\n",
      "Natregimes\n",
      "Already downloaded\n",
      "Nepal\n",
      "Already downloaded\n",
      "Ohiolung\n",
      "Already downloaded\n",
      "Orlando1\n",
      "Already downloaded\n",
      "Orlando2\n",
      "Already downloaded\n",
      "Oz9799\n",
      "Already downloaded\n",
      "Phoenix ACS\n",
      "Already downloaded\n",
      "Pittsburgh\n",
      "Already downloaded\n",
      "Police\n",
      "Already downloaded\n",
      "Rio Grande do Sul\n",
      "Already downloaded\n",
      "SIDS\n",
      "Already downloaded\n",
      "SIDS2\n",
      "Already downloaded\n",
      "Sacramento1\n",
      "Already downloaded\n",
      "Sacramento2\n",
      "Already downloaded\n",
      "SanFran Crime\n",
      "Already downloaded\n",
      "Savannah1\n",
      "Already downloaded\n",
      "Savannah2\n",
      "Already downloaded\n",
      "Scotlip\n",
      "Already downloaded\n",
      "Seattle1\n",
      "Already downloaded\n",
      "Seattle2\n",
      "Already downloaded\n",
      "South\n",
      "Already downloaded\n",
      "StLouis\n",
      "Already downloaded\n",
      "Tampa1\n",
      "Already downloaded\n"
     ]
    }
   ],
   "source": [
    "download()"
   ]
  },
  {
   "cell_type": "code",
   "execution_count": 9,
   "metadata": {},
   "outputs": [
    {
     "data": {
      "text/plain": [
       "'Tampa1'"
      ]
     },
     "execution_count": 9,
     "metadata": {},
     "output_type": "execute_result"
    }
   ],
   "source": [
    "tampa1.root"
   ]
  },
  {
   "cell_type": "code",
   "execution_count": 10,
   "metadata": {
    "autoscroll": false,
    "ein.hycell": false,
    "ein.tags": "worksheet-0",
    "slideshow": {
     "slide_type": "-"
    }
   },
   "outputs": [
    {
     "data": {
      "text/html": [
       "\n",
       "        <iframe\n",
       "            width=\"700\"\n",
       "            height=\"350\"\n",
       "            src=\"https://geodacenter.github.io/data-and-lab/tampa1/\"\n",
       "            frameborder=\"0\"\n",
       "            allowfullscreen\n",
       "        ></iframe>\n",
       "        "
      ],
      "text/plain": [
       "<IPython.lib.display.IFrame at 0x7f9d44007a20>"
      ]
     },
     "execution_count": 10,
     "metadata": {},
     "output_type": "execute_result"
    }
   ],
   "source": [
    "tampa1.explain()"
   ]
  },
  {
   "cell_type": "code",
   "execution_count": null,
   "metadata": {
    "autoscroll": false,
    "ein.hycell": false,
    "ein.tags": "worksheet-0",
    "slideshow": {
     "slide_type": "-"
    }
   },
   "outputs": [],
   "source": [
    "tampa1.download()"
   ]
  },
  {
   "cell_type": "code",
   "execution_count": null,
   "metadata": {
    "autoscroll": false,
    "ein.hycell": false,
    "ein.tags": "worksheet-0",
    "slideshow": {
     "slide_type": "-"
    }
   },
   "outputs": [],
   "source": [
    "!ls /home/jovyan/pysal_data/Tampa1/TampaMSA"
   ]
  },
  {
   "cell_type": "code",
   "execution_count": null,
   "metadata": {},
   "outputs": [],
   "source": [
    "tampa1.zipfile"
   ]
  },
  {
   "cell_type": "code",
   "execution_count": null,
   "metadata": {},
   "outputs": [],
   "source": [
    "tampa1.zipfile.filelist[0].filename"
   ]
  },
  {
   "cell_type": "code",
   "execution_count": null,
   "metadata": {},
   "outputs": [],
   "source": [
    "tampa1.get_file_list()"
   ]
  },
  {
   "cell_type": "code",
   "execution_count": null,
   "metadata": {},
   "outputs": [],
   "source": []
  },
  {
   "cell_type": "code",
   "execution_count": 12,
   "metadata": {},
   "outputs": [],
   "source": [
    "airbnb = datasets['AirBnB']"
   ]
  },
  {
   "cell_type": "code",
   "execution_count": 13,
   "metadata": {},
   "outputs": [
    {
     "data": {
      "text/plain": [
       "True"
      ]
     },
     "execution_count": 13,
     "metadata": {},
     "output_type": "execute_result"
    }
   ],
   "source": [
    "airbnb.downloaded()"
   ]
  },
  {
   "cell_type": "code",
   "execution_count": 14,
   "metadata": {},
   "outputs": [
    {
     "name": "stdout",
     "output_type": "stream",
     "text": [
      "Already downloaded\n"
     ]
    }
   ],
   "source": [
    "airbnb.download()"
   ]
  },
  {
   "cell_type": "code",
   "execution_count": 15,
   "metadata": {},
   "outputs": [
    {
     "data": {
      "text/plain": [
       "<ZipInfo filename='airbnb_Chicago 2015.dbf' compress_type=deflate filemode='-rwxr-xr-x' external_attr=0x4000 file_size=47412 compress_size=7611>"
      ]
     },
     "execution_count": 15,
     "metadata": {},
     "output_type": "execute_result"
    }
   ],
   "source": [
    "airbnb.zipfile.filelist[0]"
   ]
  },
  {
   "cell_type": "code",
   "execution_count": 16,
   "metadata": {},
   "outputs": [
    {
     "data": {
      "text/plain": [
       "'AirBnB'"
      ]
     },
     "execution_count": 16,
     "metadata": {},
     "output_type": "execute_result"
    }
   ],
   "source": [
    "airbnb.root"
   ]
  },
  {
   "cell_type": "code",
   "execution_count": 17,
   "metadata": {},
   "outputs": [
    {
     "data": {
      "text/plain": [
       "'/home/jovyan/pysal_data/AirBnB'"
      ]
     },
     "execution_count": 17,
     "metadata": {},
     "output_type": "execute_result"
    }
   ],
   "source": [
    "airbnb.get_local_path()"
   ]
  },
  {
   "cell_type": "markdown",
   "metadata": {
    "ein.tags": "worksheet-0",
    "slideshow": {
     "slide_type": "-"
    }
   },
   "source": [
    "# next\n",
    "use a load method\n"
   ]
  },
  {
   "cell_type": "code",
   "execution_count": 18,
   "metadata": {},
   "outputs": [
    {
     "data": {
      "text/plain": [
       "['/home/jovyan/pysal_data/AirBnB/airbnb_Chicago 2015.shp',\n",
       " '/home/jovyan/pysal_data/AirBnB/__MACOSX/._airbnb_Chicago 2015.prj',\n",
       " '/home/jovyan/pysal_data/AirBnB/__MACOSX/._airbnb_Chicago 2015.shx',\n",
       " '/home/jovyan/pysal_data/AirBnB/__MACOSX/._airbnb_Chicago 2015.shp',\n",
       " '/home/jovyan/pysal_data/AirBnB/__MACOSX/._airbnb_Chicago 2015.dbf',\n",
       " '/home/jovyan/pysal_data/AirBnB/airbnb_Chicago 2015.prj',\n",
       " '/home/jovyan/pysal_data/AirBnB/airbnb_Chicago 2015.dbf',\n",
       " '/home/jovyan/pysal_data/AirBnB/airbnb_Chicago 2015.shx']"
      ]
     },
     "execution_count": 18,
     "metadata": {},
     "output_type": "execute_result"
    }
   ],
   "source": [
    "airbnb.get_file_list()"
   ]
  },
  {
   "cell_type": "code",
   "execution_count": 19,
   "metadata": {},
   "outputs": [
    {
     "data": {
      "text/plain": [
       "'__main__'"
      ]
     },
     "execution_count": 19,
     "metadata": {},
     "output_type": "execute_result"
    }
   ],
   "source": [
    "__name__"
   ]
  },
  {
   "cell_type": "code",
   "execution_count": 20,
   "metadata": {},
   "outputs": [
    {
     "data": {
      "text/plain": [
       "<libpysal.io.iohandlers.pyShpIO.PurePyShpWrapper at 0x7f9d439aa3c8>"
      ]
     },
     "execution_count": 20,
     "metadata": {},
     "output_type": "execute_result"
    }
   ],
   "source": [
    "shp = airbnb.load('airbnb_Chicago 2015.shp')\n",
    "shp"
   ]
  },
  {
   "cell_type": "code",
   "execution_count": 21,
   "metadata": {},
   "outputs": [
    {
     "name": "stdout",
     "output_type": "stream",
     "text": [
      "doesnt_exist.csv is not a file in this example\n"
     ]
    },
    {
     "ename": "TypeError",
     "evalue": "expected str, bytes or os.PathLike object, not NoneType",
     "output_type": "error",
     "traceback": [
      "\u001b[0;31m---------------------------------------------------------------------------\u001b[0m",
      "\u001b[0;31mTypeError\u001b[0m                                 Traceback (most recent call last)",
      "\u001b[0;32m<ipython-input-21-bfb9d92ddcc8>\u001b[0m in \u001b[0;36m<module>\u001b[0;34m\u001b[0m\n\u001b[0;32m----> 1\u001b[0;31m \u001b[0mshp_bad\u001b[0m \u001b[0;34m=\u001b[0m \u001b[0mairbnb\u001b[0m\u001b[0;34m.\u001b[0m\u001b[0mload\u001b[0m\u001b[0;34m(\u001b[0m\u001b[0;34m'doesnt_exist.csv'\u001b[0m\u001b[0;34m)\u001b[0m\u001b[0;34m\u001b[0m\u001b[0;34m\u001b[0m\u001b[0m\n\u001b[0m",
      "\u001b[0;32m~/libpysal/examples/remotes.py\u001b[0m in \u001b[0;36mload\u001b[0;34m(self, file_name)\u001b[0m\n\u001b[1;32m    165\u001b[0m         \"\"\"\n\u001b[1;32m    166\u001b[0m         \u001b[0mpth\u001b[0m \u001b[0;34m=\u001b[0m \u001b[0mself\u001b[0m\u001b[0;34m.\u001b[0m\u001b[0mget_path\u001b[0m\u001b[0;34m(\u001b[0m\u001b[0mfile_name\u001b[0m\u001b[0;34m)\u001b[0m\u001b[0;34m\u001b[0m\u001b[0;34m\u001b[0m\u001b[0m\n\u001b[0;32m--> 167\u001b[0;31m         \u001b[0;32mreturn\u001b[0m \u001b[0mload\u001b[0m\u001b[0;34m(\u001b[0m\u001b[0mpth\u001b[0m\u001b[0;34m)\u001b[0m\u001b[0;34m\u001b[0m\u001b[0;34m\u001b[0m\u001b[0m\n\u001b[0m\u001b[1;32m    168\u001b[0m \u001b[0;34m\u001b[0m\u001b[0m\n\u001b[1;32m    169\u001b[0m \u001b[0;34m\u001b[0m\u001b[0m\n",
      "\u001b[0;32m~/libpysal/io/fileio.py\u001b[0m in \u001b[0;36m__new__\u001b[0;34m(cls, dataPath, mode, dataFormat)\u001b[0m\n\u001b[1;32m     65\u001b[0m             \u001b[0;32mtry\u001b[0m\u001b[0;34m:\u001b[0m\u001b[0;34m\u001b[0m\u001b[0;34m\u001b[0m\u001b[0m\n\u001b[1;32m     66\u001b[0m                 newCls = object.__new__(cls.__registry[cls.getType(dataPath,\n\u001b[0;32m---> 67\u001b[0;31m                                                                    mode, dataFormat)][mode][0])\n\u001b[0m\u001b[1;32m     68\u001b[0m             \u001b[0;32mexcept\u001b[0m \u001b[0mKeyError\u001b[0m\u001b[0;34m:\u001b[0m\u001b[0;34m\u001b[0m\u001b[0;34m\u001b[0m\u001b[0m\n\u001b[1;32m     69\u001b[0m                 \u001b[0;32mreturn\u001b[0m \u001b[0mopen\u001b[0m\u001b[0;34m(\u001b[0m\u001b[0mdataPath\u001b[0m\u001b[0;34m,\u001b[0m \u001b[0mmode\u001b[0m\u001b[0;34m)\u001b[0m\u001b[0;34m\u001b[0m\u001b[0;34m\u001b[0m\u001b[0m\n",
      "\u001b[0;32m~/libpysal/io/fileio.py\u001b[0m in \u001b[0;36mgetType\u001b[0;34m(dataPath, mode, dataFormat)\u001b[0m\n\u001b[1;32m     78\u001b[0m             \u001b[0mext\u001b[0m \u001b[0;34m=\u001b[0m \u001b[0mdataFormat\u001b[0m\u001b[0;34m\u001b[0m\u001b[0;34m\u001b[0m\u001b[0m\n\u001b[1;32m     79\u001b[0m         \u001b[0;32melse\u001b[0m\u001b[0;34m:\u001b[0m\u001b[0;34m\u001b[0m\u001b[0;34m\u001b[0m\u001b[0m\n\u001b[0;32m---> 80\u001b[0;31m             \u001b[0mext\u001b[0m \u001b[0;34m=\u001b[0m \u001b[0mos\u001b[0m\u001b[0;34m.\u001b[0m\u001b[0mpath\u001b[0m\u001b[0;34m.\u001b[0m\u001b[0msplitext\u001b[0m\u001b[0;34m(\u001b[0m\u001b[0mdataPath\u001b[0m\u001b[0;34m)\u001b[0m\u001b[0;34m[\u001b[0m\u001b[0;36m1\u001b[0m\u001b[0;34m]\u001b[0m\u001b[0;34m\u001b[0m\u001b[0;34m\u001b[0m\u001b[0m\n\u001b[0m\u001b[1;32m     81\u001b[0m             \u001b[0mext\u001b[0m \u001b[0;34m=\u001b[0m \u001b[0mext\u001b[0m\u001b[0;34m.\u001b[0m\u001b[0mreplace\u001b[0m\u001b[0;34m(\u001b[0m\u001b[0;34m'.'\u001b[0m\u001b[0;34m,\u001b[0m \u001b[0;34m''\u001b[0m\u001b[0;34m)\u001b[0m\u001b[0;34m\u001b[0m\u001b[0;34m\u001b[0m\u001b[0m\n\u001b[1;32m     82\u001b[0m             \u001b[0mext\u001b[0m \u001b[0;34m=\u001b[0m \u001b[0mext\u001b[0m\u001b[0;34m.\u001b[0m\u001b[0mlower\u001b[0m\u001b[0;34m(\u001b[0m\u001b[0;34m)\u001b[0m\u001b[0;34m\u001b[0m\u001b[0;34m\u001b[0m\u001b[0m\n",
      "\u001b[0;32m/opt/conda/lib/python3.7/posixpath.py\u001b[0m in \u001b[0;36msplitext\u001b[0;34m(p)\u001b[0m\n\u001b[1;32m    120\u001b[0m \u001b[0;34m\u001b[0m\u001b[0m\n\u001b[1;32m    121\u001b[0m \u001b[0;32mdef\u001b[0m \u001b[0msplitext\u001b[0m\u001b[0;34m(\u001b[0m\u001b[0mp\u001b[0m\u001b[0;34m)\u001b[0m\u001b[0;34m:\u001b[0m\u001b[0;34m\u001b[0m\u001b[0;34m\u001b[0m\u001b[0m\n\u001b[0;32m--> 122\u001b[0;31m     \u001b[0mp\u001b[0m \u001b[0;34m=\u001b[0m \u001b[0mos\u001b[0m\u001b[0;34m.\u001b[0m\u001b[0mfspath\u001b[0m\u001b[0;34m(\u001b[0m\u001b[0mp\u001b[0m\u001b[0;34m)\u001b[0m\u001b[0;34m\u001b[0m\u001b[0;34m\u001b[0m\u001b[0m\n\u001b[0m\u001b[1;32m    123\u001b[0m     \u001b[0;32mif\u001b[0m \u001b[0misinstance\u001b[0m\u001b[0;34m(\u001b[0m\u001b[0mp\u001b[0m\u001b[0;34m,\u001b[0m \u001b[0mbytes\u001b[0m\u001b[0;34m)\u001b[0m\u001b[0;34m:\u001b[0m\u001b[0;34m\u001b[0m\u001b[0;34m\u001b[0m\u001b[0m\n\u001b[1;32m    124\u001b[0m         \u001b[0msep\u001b[0m \u001b[0;34m=\u001b[0m \u001b[0;34mb'/'\u001b[0m\u001b[0;34m\u001b[0m\u001b[0;34m\u001b[0m\u001b[0m\n",
      "\u001b[0;31mTypeError\u001b[0m: expected str, bytes or os.PathLike object, not NoneType"
     ]
    }
   ],
   "source": [
    "shp_bad = airbnb.load('doesnt_exist.csv')"
   ]
  },
  {
   "cell_type": "code",
   "execution_count": 22,
   "metadata": {
    "autoscroll": false,
    "ein.hycell": false,
    "ein.tags": "worksheet-0",
    "slideshow": {
     "slide_type": "-"
    }
   },
   "outputs": [],
   "source": [
    "dbf = airbnb.load('airbnb_Chicago 2015.dbf')\n"
   ]
  },
  {
   "cell_type": "code",
   "execution_count": 23,
   "metadata": {},
   "outputs": [
    {
     "data": {
      "text/plain": [
       "['community',\n",
       " 'shape_area',\n",
       " 'shape_len',\n",
       " 'AREAID',\n",
       " 'response_r',\n",
       " 'accept_r',\n",
       " 'rev_rating',\n",
       " 'price_pp',\n",
       " 'room_type',\n",
       " 'num_spots',\n",
       " 'poverty',\n",
       " 'crowded',\n",
       " 'dependency',\n",
       " 'without_hs',\n",
       " 'unemployed',\n",
       " 'income_pc',\n",
       " 'harship_in',\n",
       " 'num_crimes',\n",
       " 'num_theft',\n",
       " 'population']"
      ]
     },
     "execution_count": 23,
     "metadata": {},
     "output_type": "execute_result"
    }
   ],
   "source": [
    "dbf.header"
   ]
  },
  {
   "cell_type": "code",
   "execution_count": 24,
   "metadata": {},
   "outputs": [
    {
     "data": {
      "text/plain": [
       "'/home/jovyan/pysal_data/AirBnB/airbnb_Chicago 2015.dbf'"
      ]
     },
     "execution_count": 24,
     "metadata": {},
     "output_type": "execute_result"
    }
   ],
   "source": [
    "airbnb.get_path('airbnb_Chicago 2015.dbf')"
   ]
  },
  {
   "cell_type": "code",
   "execution_count": 25,
   "metadata": {},
   "outputs": [],
   "source": [
    "import libpysal"
   ]
  },
  {
   "cell_type": "code",
   "execution_count": 26,
   "metadata": {},
   "outputs": [],
   "source": [
    "w = libpysal.weights.Queen.from_shapefile(airbnb.get_path('airbnb_Chicago 2015.shp'))"
   ]
  },
  {
   "cell_type": "code",
   "execution_count": 27,
   "metadata": {},
   "outputs": [],
   "source": [
    "import geopandas as gpd"
   ]
  },
  {
   "cell_type": "code",
   "execution_count": 28,
   "metadata": {},
   "outputs": [],
   "source": [
    "w_df = libpysal.weights.Queen.from_dataframe(gpd.read_file(airbnb.get_path('airbnb_Chicago 2015.shp')))"
   ]
  },
  {
   "cell_type": "code",
   "execution_count": 29,
   "metadata": {},
   "outputs": [
    {
     "data": {
      "text/plain": [
       "77"
      ]
     },
     "execution_count": 29,
     "metadata": {},
     "output_type": "execute_result"
    }
   ],
   "source": [
    "w_df.n"
   ]
  }
 ],
 "metadata": {
  "kernelspec": {
   "display_name": "Python 3",
   "language": "python",
   "name": "python3"
  },
  "language_info": {
   "codemirror_mode": {
    "name": "ipython",
    "version": 3
   },
   "file_extension": ".py",
   "mimetype": "text/x-python",
   "name": "python",
   "nbconvert_exporter": "python",
   "pygments_lexer": "ipython3",
   "version": "3.7.3"
  },
  "name": "remotes.ipynb"
 },
 "nbformat": 4,
 "nbformat_minor": 2
}
