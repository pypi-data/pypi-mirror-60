{
 "cells": [
  {
   "cell_type": "code",
   "execution_count": 1,
   "metadata": {},
   "outputs": [],
   "source": [
    "from libpysal.examples.locals import datasets"
   ]
  },
  {
   "cell_type": "code",
   "execution_count": 2,
   "metadata": {},
   "outputs": [
    {
     "data": {
      "text/plain": [
       "{'10740': <libpysal.examples.locals.LocalExample at 0x7fd0be239cc0>,\n",
       " 'arcgis': <libpysal.examples.locals.LocalExample at 0x7fd0be239cf8>,\n",
       " 'baltim': <libpysal.examples.locals.LocalExample at 0x7fd0be239eb8>,\n",
       " 'book': <libpysal.examples.locals.LocalExample at 0x7fd0be239da0>,\n",
       " 'burkitt': <libpysal.examples.locals.LocalExample at 0x7fd0be239e48>,\n",
       " 'calemp': <libpysal.examples.locals.LocalExample at 0x7fd0be239e80>,\n",
       " 'chicago': <libpysal.examples.locals.LocalExample at 0x7fd0be239f60>,\n",
       " 'columbus': <libpysal.examples.locals.LocalExample at 0x7fd0be239fd0>,\n",
       " 'desmith': <libpysal.examples.locals.LocalExample at 0x7fd0be242048>,\n",
       " 'geodanet': <libpysal.examples.locals.LocalExample at 0x7fd0be2420b8>,\n",
       " 'juvenile': <libpysal.examples.locals.LocalExample at 0x7fd0be242080>,\n",
       " 'Line': <libpysal.examples.locals.LocalExample at 0x7fd0be242128>,\n",
       " 'mexico': <libpysal.examples.locals.LocalExample at 0x7fd0be2420f0>,\n",
       " 'networks': <libpysal.examples.locals.LocalExample at 0x7fd0be2421d0>,\n",
       " 'newHaven': <libpysal.examples.locals.LocalExample at 0x7fd0be242198>,\n",
       " 'Point': <libpysal.examples.locals.LocalExample at 0x7fd0be242208>,\n",
       " 'Polygon': <libpysal.examples.locals.LocalExample at 0x7fd0be242240>,\n",
       " 'sids2': <libpysal.examples.locals.LocalExample at 0x7fd0be242278>,\n",
       " 'snow_maps': <libpysal.examples.locals.LocalExample at 0x7fd0be2422b0>,\n",
       " 'stl': <libpysal.examples.locals.LocalExample at 0x7fd0be2422e8>,\n",
       " 'street_net_pts': <libpysal.examples.locals.LocalExample at 0x7fd0be242160>,\n",
       " 'us_income': <libpysal.examples.locals.LocalExample at 0x7fd0be242320>,\n",
       " 'virginia': <libpysal.examples.locals.LocalExample at 0x7fd0be242358>,\n",
       " 'wmat': <libpysal.examples.locals.LocalExample at 0x7fd0be242390>}"
      ]
     },
     "execution_count": 2,
     "metadata": {},
     "output_type": "execute_result"
    }
   ],
   "source": [
    "datasets"
   ]
  },
  {
   "cell_type": "code",
   "execution_count": 3,
   "metadata": {},
   "outputs": [
    {
     "data": {
      "text/plain": [
       "24"
      ]
     },
     "execution_count": 3,
     "metadata": {},
     "output_type": "execute_result"
    }
   ],
   "source": [
    "len(datasets)"
   ]
  },
  {
   "cell_type": "code",
   "execution_count": 4,
   "metadata": {},
   "outputs": [],
   "source": [
    "calemp = datasets['calemp']"
   ]
  },
  {
   "cell_type": "code",
   "execution_count": 5,
   "metadata": {},
   "outputs": [
    {
     "data": {
      "text/plain": [
       "['/home/jovyan/libpysal/examples/calemp/calempdensity.csv',\n",
       " '/home/jovyan/libpysal/examples/calemp/README.md']"
      ]
     },
     "execution_count": 5,
     "metadata": {},
     "output_type": "execute_result"
    }
   ],
   "source": [
    "calemp.get_file_list()"
   ]
  },
  {
   "cell_type": "code",
   "execution_count": 6,
   "metadata": {},
   "outputs": [
    {
     "name": "stdout",
     "output_type": "stream",
     "text": [
      "calemp\n",
      "======\n",
      "\n",
      "Employment density for California counties\n",
      "------------------------------------------\n",
      "\n",
      "* calempdensity.csv: data on employment and employment density in California\n",
      "  counties. (n=58, k=11)\n",
      "\n",
      "Source: Anselin, L. and S.J. Rey (in progress) Spatial Econometrics: Foundations.\n",
      "\n",
      "\n",
      "\n",
      "\n"
     ]
    }
   ],
   "source": [
    "calemp.explain()"
   ]
  },
  {
   "cell_type": "code",
   "execution_count": 7,
   "metadata": {},
   "outputs": [],
   "source": [
    "chicago = datasets['chicago']"
   ]
  },
  {
   "cell_type": "code",
   "execution_count": 8,
   "metadata": {},
   "outputs": [
    {
     "data": {
      "text/plain": [
       "['/home/jovyan/libpysal/examples/chicago/Chicago77.shx',\n",
       " '/home/jovyan/libpysal/examples/chicago/README.md',\n",
       " '/home/jovyan/libpysal/examples/chicago/Chicago77.dbf',\n",
       " '/home/jovyan/libpysal/examples/chicago/Chicago77.shp']"
      ]
     },
     "execution_count": 8,
     "metadata": {},
     "output_type": "execute_result"
    }
   ],
   "source": [
    "chicago.get_file_list()"
   ]
  },
  {
   "cell_type": "code",
   "execution_count": 9,
   "metadata": {},
   "outputs": [
    {
     "name": "stdout",
     "output_type": "stream",
     "text": [
      "chicago\n",
      "=======\n",
      "\n",
      "Chicago neighborhoods\n",
      "--------------------\n",
      "\n",
      "* Chicago77.dbf: attribute data. (k=11)\n",
      "* Chicago77.shp: Polygon shapefile. (n=77)\n",
      "* Chicago77.shx: spatial index.\n",
      "\n"
     ]
    }
   ],
   "source": [
    "chicago.explain()"
   ]
  },
  {
   "cell_type": "code",
   "execution_count": 10,
   "metadata": {},
   "outputs": [
    {
     "data": {
      "text/plain": [
       "'/home/jovyan/libpysal/examples/chicago/Chicago77.shp'"
      ]
     },
     "execution_count": 10,
     "metadata": {},
     "output_type": "execute_result"
    }
   ],
   "source": [
    "chicago.get_path('Chicago77.shp')"
   ]
  },
  {
   "cell_type": "code",
   "execution_count": null,
   "metadata": {},
   "outputs": [],
   "source": []
  },
  {
   "cell_type": "code",
   "execution_count": null,
   "metadata": {},
   "outputs": [],
   "source": []
  },
  {
   "cell_type": "code",
   "execution_count": null,
   "metadata": {},
   "outputs": [],
   "source": []
  },
  {
   "cell_type": "code",
   "execution_count": null,
   "metadata": {},
   "outputs": [],
   "source": [
    "import os"
   ]
  },
  {
   "cell_type": "code",
   "execution_count": null,
   "metadata": {},
   "outputs": [],
   "source": [
    "paths = [os.path.join(builtin_root, local) for local in dirs]"
   ]
  },
  {
   "cell_type": "code",
   "execution_count": null,
   "metadata": {},
   "outputs": [],
   "source": [
    "paths"
   ]
  },
  {
   "cell_type": "code",
   "execution_count": null,
   "metadata": {},
   "outputs": [],
   "source": [
    "available()"
   ]
  },
  {
   "cell_type": "code",
   "execution_count": null,
   "metadata": {},
   "outputs": [],
   "source": [
    "explain('AirBnB')"
   ]
  },
  {
   "cell_type": "code",
   "execution_count": null,
   "metadata": {},
   "outputs": [],
   "source": [
    "from libpysal.examples import load_example"
   ]
  },
  {
   "cell_type": "code",
   "execution_count": null,
   "metadata": {},
   "outputs": [],
   "source": [
    "airbnb = load_example('AirBnB')\n",
    "airbnb.get_file_list()"
   ]
  },
  {
   "cell_type": "code",
   "execution_count": null,
   "metadata": {},
   "outputs": [],
   "source": [
    "shp_file = airbnb.load('airbnb_Chicago 2015.shp')"
   ]
  },
  {
   "cell_type": "markdown",
   "metadata": {},
   "source": [
    "## or get path"
   ]
  },
  {
   "cell_type": "code",
   "execution_count": null,
   "metadata": {},
   "outputs": [],
   "source": [
    "pth = airbnb.get_path('airbnb_Chicago 2015.shp')\n",
    "print(pth)"
   ]
  },
  {
   "cell_type": "code",
   "execution_count": null,
   "metadata": {},
   "outputs": [],
   "source": [
    "explain('Rio Grande do Sul')"
   ]
  },
  {
   "cell_type": "code",
   "execution_count": null,
   "metadata": {},
   "outputs": [],
   "source": [
    "rio = load_example('Rio Grande do Sul')"
   ]
  },
  {
   "cell_type": "code",
   "execution_count": null,
   "metadata": {},
   "outputs": [],
   "source": [
    "rio.explain()"
   ]
  },
  {
   "cell_type": "code",
   "execution_count": null,
   "metadata": {},
   "outputs": [],
   "source": [
    "rio.get_file_list()"
   ]
  },
  {
   "cell_type": "code",
   "execution_count": null,
   "metadata": {},
   "outputs": [],
   "source": [
    "rio.get_local_path()"
   ]
  },
  {
   "cell_type": "code",
   "execution_count": null,
   "metadata": {},
   "outputs": [],
   "source": [
    "shp = rio.load('map_RS_BR.shp')"
   ]
  }
 ],
 "metadata": {
  "kernelspec": {
   "display_name": "Python 3",
   "language": "python",
   "name": "python3"
  },
  "language_info": {
   "codemirror_mode": {
    "name": "ipython",
    "version": 3
   },
   "file_extension": ".py",
   "mimetype": "text/x-python",
   "name": "python",
   "nbconvert_exporter": "python",
   "pygments_lexer": "ipython3",
   "version": "3.7.3"
  }
 },
 "nbformat": 4,
 "nbformat_minor": 2
}
