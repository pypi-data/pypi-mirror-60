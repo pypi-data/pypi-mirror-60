{
 "cells": [
  {
   "cell_type": "code",
   "execution_count": 1,
   "metadata": {
    "autoscroll": false,
    "ein.hycell": false,
    "ein.tags": "worksheet-0",
    "slideshow": {
     "slide_type": "-"
    }
   },
   "outputs": [],
   "source": [
    "#from remotes import available, datasets\n",
    "import libpysal"
   ]
  },
  {
   "cell_type": "code",
   "execution_count": 2,
   "metadata": {},
   "outputs": [],
   "source": [
    "from libpysal.examples.remotes import datasets, available"
   ]
  },
  {
   "cell_type": "code",
   "execution_count": 3,
   "metadata": {},
   "outputs": [],
   "source": [
    "!rm -rf ~/pysal_data/*"
   ]
  },
  {
   "cell_type": "code",
   "execution_count": 4,
   "metadata": {
    "autoscroll": false,
    "ein.hycell": false,
    "ein.tags": "worksheet-0",
    "slideshow": {
     "slide_type": "-"
    }
   },
   "outputs": [
    {
     "name": "stdout",
     "output_type": "stream",
     "text": [
      "                      Name                                        Description\n",
      "0                   AirBnB  Airbnb rentals, socioeconomics, and crime in C...\n",
      "1                  Atlanta       Atlanta, GA region homicide counts and rates\n",
      "2                Baltimore          Baltimore house sales prices and hedonics\n",
      "3                Bostonhsg               Boston housing and neighborhood data\n",
      "4              Buenosaires      Electoral Data for 1999 Argentinean Elections\n",
      "5                     Cars  2011 abandoned vehicles in Chicago (311 compla...\n",
      "6              Charleston1   2000 Census Tract Data for Charleston, SC MSA...\n",
      "7              Charleston2   1998 and 2001 Zip Code Business Patterns (Cen...\n",
      "8           Chicago Health                   Chicago Health + Socio-Economics\n",
      "9              Chile Labor                 Labor Markets in Chile (1982-2002)\n",
      "10         Chile Migration            Internal Migration in Chile (1977-2002)\n",
      "11              Cincinnati         2008 Cincinnati Crime + Socio-Demographics\n",
      "12               Cleveland       2015 sales prices of homes in Cleveland, OH.\n",
      "13                Columbus                        Columbus neighborhood crime\n",
      "14                  Denver   Demographics and housing in Denver neighborho...\n",
      "15               Elections               2012 and 2016 Presidential Elections\n",
      "16                 Grid100                      Grid with simulated variables\n",
      "17               Groceries                          2015 Chicago supermarkets\n",
      "18                  Guerry          Moral statistics of France (Guerry, 1833)\n",
      "19       Health Indicators                Chicago Health Indicators (2005-11)\n",
      "20                 Health+                    2000 Health, Income + Diversity\n",
      "21                Hickory1   2000 Census Tract Data for Hickory, NC MSA an...\n",
      "22                Hickory2   1998 and 2001 Zip Code Business Patterns (Cen...\n",
      "23              Home Sales              2014-15 Home Sales in King County, WA\n",
      "24                 Houston       Houston, TX region homicide counts and rates\n",
      "25                Juvenile             Cardiff juvenile delinquent residences\n",
      "26                Lansing1   2000 Census Tract Data for Lansing, MI MSA an...\n",
      "27                Lansing2   1998 and 2001 Zip Code Business Patterns (Cen...\n",
      "28                 Laozone   Ozone measures at monitoring stations in Los ...\n",
      "29                LasRosas   Corn yield, fertilizer and field data for pre...\n",
      "30           Liquor Stores                         2015 Chicago Liquor Stores\n",
      "31                 Malaria   Malaria incidence and population (1973, 95, 9...\n",
      "32              Milwaukee1       2000 Census Tract Data for Milwaukee, WI MSA\n",
      "33              Milwaukee2   1998 and 2001 Zip Code Business Patterns (Cen...\n",
      "34                   NCOVR                      US county homicides 1960-1990\n",
      "35                    NDVI        Normalized Difference Vegetation Index grid\n",
      "36                     NYC   Demographic and housing data for New York Cit...\n",
      "37            NYC Earnings              Block-level Earnings in NYC (2002-14)\n",
      "38           NYC Education                               NYC Education (2000)\n",
      "39       NYC Neighborhoods       Demographics for New York City neighborhoods\n",
      "40  NYC Socio-Demographics                 NYC Education + Socio-Demographics\n",
      "41              Natregimes                    NCOVR with regimes (book/PySAL)\n",
      "42                   Nepal   Health, poverty and education indicators for ...\n",
      "43                Ohiolung            Ohio lung cancer data, 1968, 1978, 1988\n",
      "44                Orlando1   2000 Census Tract Data for Orlando, FL MSA an...\n",
      "45                Orlando2   1998 and 2001 Zip Code Business Patterns (Cen...\n",
      "46                  Oz9799                        Monthly ozone data, 1997-99\n",
      "47             Phoenix ACS   Phoenix American Community Survey Data (2010,...\n",
      "48              Pittsburgh                      Pittsburgh homicide locations\n",
      "49                  Police           Police expenditures Mississippi counties\n",
      "50       Rio Grande do Sul  Cities of the Brazilian State of Rio Grande do...\n",
      "51                    SIDS            North Carolina county SIDS death counts\n",
      "52                   SIDS2   North Carolina county SIDS death counts and r...\n",
      "53             Sacramento1          2000 Census Tract Data for Sacramento MSA\n",
      "54             Sacramento2   1998 and 2001 Zip Code Business Patterns (Cen...\n",
      "55           SanFran Crime   July-Dec 2012 crime incidents in San Francisc...\n",
      "56               Savannah1   2000 Census Tract Data for Savannah, GA MSA a...\n",
      "57               Savannah2   1998 and 2001 Zip Code Business Patterns (Cen...\n",
      "58                 Scotlip               Male lip cancer in Scotland, 1975-80\n",
      "59                Seattle1   2000 Census Tract Data for Seattle, WA MSA an...\n",
      "60                Seattle2   1998 and 2001 Zip Code Business Patterns (Cen...\n",
      "61                   South             US Southern county homicides 1960-1990\n",
      "62                 StLouis   St Louis region county homicide counts and rates\n",
      "63                  Tampa1   2000 Census Tract Data for Tampa, FL MSA and ...\n"
     ]
    }
   ],
   "source": [
    "available()"
   ]
  },
  {
   "cell_type": "code",
   "execution_count": 5,
   "metadata": {
    "autoscroll": false,
    "ein.hycell": false,
    "ein.tags": "worksheet-0",
    "slideshow": {
     "slide_type": "-"
    }
   },
   "outputs": [],
   "source": [
    "tampa1 = datasets['Tampa1']"
   ]
  },
  {
   "cell_type": "code",
   "execution_count": 6,
   "metadata": {},
   "outputs": [
    {
     "data": {
      "text/plain": [
       "False"
      ]
     },
     "execution_count": 6,
     "metadata": {},
     "output_type": "execute_result"
    }
   ],
   "source": [
    "tampa1.downloaded()"
   ]
  },
  {
   "cell_type": "code",
   "execution_count": 7,
   "metadata": {},
   "outputs": [
    {
     "data": {
      "text/plain": [
       "'Tampa1'"
      ]
     },
     "execution_count": 7,
     "metadata": {},
     "output_type": "execute_result"
    }
   ],
   "source": [
    "tampa1.root"
   ]
  },
  {
   "cell_type": "code",
   "execution_count": 8,
   "metadata": {
    "autoscroll": false,
    "ein.hycell": false,
    "ein.tags": "worksheet-0",
    "slideshow": {
     "slide_type": "-"
    }
   },
   "outputs": [
    {
     "data": {
      "text/html": [
       "\n",
       "        <iframe\n",
       "            width=\"700\"\n",
       "            height=\"350\"\n",
       "            src=\"https://geodacenter.github.io/data-and-lab/tampa1/\"\n",
       "            frameborder=\"0\"\n",
       "            allowfullscreen\n",
       "        ></iframe>\n",
       "        "
      ],
      "text/plain": [
       "<IPython.lib.display.IFrame at 0x7f71698f2dd8>"
      ]
     },
     "execution_count": 8,
     "metadata": {},
     "output_type": "execute_result"
    }
   ],
   "source": [
    "tampa1.explain()"
   ]
  },
  {
   "cell_type": "code",
   "execution_count": 9,
   "metadata": {
    "autoscroll": false,
    "ein.hycell": false,
    "ein.tags": "worksheet-0",
    "slideshow": {
     "slide_type": "-"
    }
   },
   "outputs": [
    {
     "name": "stdout",
     "output_type": "stream",
     "text": [
      "Downloading Tampa1 to /home/jovyan/pysal_data/Tampa1\n"
     ]
    }
   ],
   "source": [
    "tampa1.download()"
   ]
  },
  {
   "cell_type": "code",
   "execution_count": 10,
   "metadata": {
    "autoscroll": false,
    "ein.hycell": false,
    "ein.tags": "worksheet-0",
    "slideshow": {
     "slide_type": "-"
    }
   },
   "outputs": [
    {
     "name": "stdout",
     "output_type": "stream",
     "text": [
      "'2000 Census Data Variables_Documentation.pdf'\t tampa_final_census2.dbf\r\n",
      " tampa_counties.dbf\t\t\t\t tampa_final_census2.geojson\r\n",
      " tampa_counties.geojson\t\t\t\t tampa_final_census2.gpkg\r\n",
      " tampa_counties.gpkg\t\t\t\t tampa_final_census2.kml\r\n",
      " tampa_counties.kml\t\t\t\t tampa_final_census2.mid\r\n",
      " tampa_counties.mid\t\t\t\t tampa_final_census2.mif\r\n",
      " tampa_counties.mif\t\t\t\t tampa_final_census2.prj\r\n",
      " tampa_counties.prj\t\t\t\t tampa_final_census2.sbn\r\n",
      " tampa_counties.sbn\t\t\t\t tampa_final_census2.sbx\r\n",
      " tampa_counties.sbx\t\t\t\t tampa_final_census2.shp\r\n",
      " tampa_counties.shp\t\t\t\t tampa_final_census2.shx\r\n",
      " tampa_counties.shx\t\t\t\t tampa_final_census2.sqlite\r\n",
      " tampa_counties.sqlite\t\t\t\t tampa_final_census2.xlsx\r\n",
      " tampa_counties.xlsx\t\t\t\t TampaMSA.gdb\r\n"
     ]
    }
   ],
   "source": [
    "!ls /home/jovyan/pysal_data/Tampa1/TampaMSA"
   ]
  },
  {
   "cell_type": "code",
   "execution_count": 11,
   "metadata": {},
   "outputs": [
    {
     "data": {
      "text/plain": [
       "<zipfile.ZipFile file=<_io.BytesIO object at 0x7f7169974e08> mode='r'>"
      ]
     },
     "execution_count": 11,
     "metadata": {},
     "output_type": "execute_result"
    }
   ],
   "source": [
    "tampa1.zipfile"
   ]
  },
  {
   "cell_type": "code",
   "execution_count": 12,
   "metadata": {},
   "outputs": [
    {
     "data": {
      "text/plain": [
       "'TampaMSA/'"
      ]
     },
     "execution_count": 12,
     "metadata": {},
     "output_type": "execute_result"
    }
   ],
   "source": [
    "tampa1.zipfile.filelist[0].filename"
   ]
  },
  {
   "cell_type": "code",
   "execution_count": 13,
   "metadata": {},
   "outputs": [
    {
     "data": {
      "text/plain": [
       "['/home/jovyan/pysal_data/Tampa1/__MACOSX/._TampaMSA',\n",
       " '/home/jovyan/pysal_data/Tampa1/__MACOSX/TampaMSA/._tampa_counties.sbx',\n",
       " '/home/jovyan/pysal_data/Tampa1/__MACOSX/TampaMSA/._tampa_final_census2.sbx',\n",
       " '/home/jovyan/pysal_data/Tampa1/__MACOSX/TampaMSA/._2000 Census Data Variables_Documentation.pdf',\n",
       " '/home/jovyan/pysal_data/Tampa1/__MACOSX/TampaMSA/._tampa_final_census2.sbn',\n",
       " '/home/jovyan/pysal_data/Tampa1/__MACOSX/TampaMSA/._tampa_counties.sbn',\n",
       " '/home/jovyan/pysal_data/Tampa1/TampaMSA/tampa_final_census2.geojson',\n",
       " '/home/jovyan/pysal_data/Tampa1/TampaMSA/tampa_counties.gpkg',\n",
       " '/home/jovyan/pysal_data/Tampa1/TampaMSA/tampa_final_census2.xlsx',\n",
       " '/home/jovyan/pysal_data/Tampa1/TampaMSA/tampa_final_census2.mid',\n",
       " '/home/jovyan/pysal_data/Tampa1/TampaMSA/TampaMSA.gdb/a0000000a.spx',\n",
       " '/home/jovyan/pysal_data/Tampa1/TampaMSA/TampaMSA.gdb/a00000005.gdbindexes',\n",
       " '/home/jovyan/pysal_data/Tampa1/TampaMSA/TampaMSA.gdb/a00000007.CatRelTypesByDestItemTypeID.atx',\n",
       " '/home/jovyan/pysal_data/Tampa1/TampaMSA/TampaMSA.gdb/a00000002.gdbtable',\n",
       " '/home/jovyan/pysal_data/Tampa1/TampaMSA/TampaMSA.gdb/a00000004.CatItemsByType.atx',\n",
       " '/home/jovyan/pysal_data/Tampa1/TampaMSA/TampaMSA.gdb/a00000003.gdbtablx',\n",
       " '/home/jovyan/pysal_data/Tampa1/TampaMSA/TampaMSA.gdb/gdb',\n",
       " '/home/jovyan/pysal_data/Tampa1/TampaMSA/TampaMSA.gdb/a00000007.gdbtable',\n",
       " '/home/jovyan/pysal_data/Tampa1/TampaMSA/TampaMSA.gdb/a00000002.gdbtablx',\n",
       " '/home/jovyan/pysal_data/Tampa1/TampaMSA/TampaMSA.gdb/a00000004.gdbtablx',\n",
       " '/home/jovyan/pysal_data/Tampa1/TampaMSA/TampaMSA.gdb/a00000007.CatRelTypesByForwardLabel.atx',\n",
       " '/home/jovyan/pysal_data/Tampa1/TampaMSA/TampaMSA.gdb/a00000007.CatRelTypesByBackwardLabel.atx',\n",
       " '/home/jovyan/pysal_data/Tampa1/TampaMSA/TampaMSA.gdb/a00000007.CatRelTypesByOriginItemTypeID.atx',\n",
       " '/home/jovyan/pysal_data/Tampa1/TampaMSA/TampaMSA.gdb/a00000005.CatItemTypesByParentTypeID.atx',\n",
       " '/home/jovyan/pysal_data/Tampa1/TampaMSA/TampaMSA.gdb/a00000003.gdbtable',\n",
       " '/home/jovyan/pysal_data/Tampa1/TampaMSA/TampaMSA.gdb/a00000007.gdbindexes',\n",
       " '/home/jovyan/pysal_data/Tampa1/TampaMSA/TampaMSA.gdb/a00000001.gdbindexes',\n",
       " '/home/jovyan/pysal_data/Tampa1/TampaMSA/TampaMSA.gdb/a0000000a.gdbindexes',\n",
       " '/home/jovyan/pysal_data/Tampa1/TampaMSA/TampaMSA.gdb/a00000005.gdbtable',\n",
       " '/home/jovyan/pysal_data/Tampa1/TampaMSA/TampaMSA.gdb/a00000004.spx',\n",
       " '/home/jovyan/pysal_data/Tampa1/TampaMSA/TampaMSA.gdb/a00000009.gdbindexes',\n",
       " '/home/jovyan/pysal_data/Tampa1/TampaMSA/TampaMSA.gdb/a00000006.FDO_UUID.atx',\n",
       " '/home/jovyan/pysal_data/Tampa1/TampaMSA/TampaMSA.gdb/a00000006.CatRelsByOriginID.atx',\n",
       " '/home/jovyan/pysal_data/Tampa1/TampaMSA/TampaMSA.gdb/a00000009.gdbtable',\n",
       " '/home/jovyan/pysal_data/Tampa1/TampaMSA/TampaMSA.gdb/a00000003.gdbindexes',\n",
       " '/home/jovyan/pysal_data/Tampa1/TampaMSA/TampaMSA.gdb/a00000006.gdbtablx',\n",
       " '/home/jovyan/pysal_data/Tampa1/TampaMSA/TampaMSA.gdb/a00000004.CatItemsByPhysicalName.atx',\n",
       " '/home/jovyan/pysal_data/Tampa1/TampaMSA/TampaMSA.gdb/a0000000a.gdbtablx',\n",
       " '/home/jovyan/pysal_data/Tampa1/TampaMSA/TampaMSA.gdb/a00000006.CatRelsByType.atx',\n",
       " '/home/jovyan/pysal_data/Tampa1/TampaMSA/TampaMSA.gdb/a00000004.gdbindexes',\n",
       " '/home/jovyan/pysal_data/Tampa1/TampaMSA/TampaMSA.gdb/a00000007.CatRelTypesByUUID.atx',\n",
       " '/home/jovyan/pysal_data/Tampa1/TampaMSA/TampaMSA.gdb/a00000005.gdbtablx',\n",
       " '/home/jovyan/pysal_data/Tampa1/TampaMSA/TampaMSA.gdb/a00000005.CatItemTypesByUUID.atx',\n",
       " '/home/jovyan/pysal_data/Tampa1/TampaMSA/TampaMSA.gdb/a00000009.gdbtablx',\n",
       " '/home/jovyan/pysal_data/Tampa1/TampaMSA/TampaMSA.gdb/a00000006.gdbtable',\n",
       " '/home/jovyan/pysal_data/Tampa1/TampaMSA/TampaMSA.gdb/a0000000a.gdbtable',\n",
       " '/home/jovyan/pysal_data/Tampa1/TampaMSA/TampaMSA.gdb/a00000007.gdbtablx',\n",
       " '/home/jovyan/pysal_data/Tampa1/TampaMSA/TampaMSA.gdb/a00000009.spx',\n",
       " '/home/jovyan/pysal_data/Tampa1/TampaMSA/TampaMSA.gdb/a00000004.FDO_UUID.atx',\n",
       " '/home/jovyan/pysal_data/Tampa1/TampaMSA/TampaMSA.gdb/a00000006.CatRelsByDestinationID.atx',\n",
       " '/home/jovyan/pysal_data/Tampa1/TampaMSA/TampaMSA.gdb/a00000001.gdbtable',\n",
       " '/home/jovyan/pysal_data/Tampa1/TampaMSA/TampaMSA.gdb/a00000004.gdbtable',\n",
       " '/home/jovyan/pysal_data/Tampa1/TampaMSA/TampaMSA.gdb/timestamps',\n",
       " '/home/jovyan/pysal_data/Tampa1/TampaMSA/TampaMSA.gdb/a00000007.CatRelTypesByName.atx',\n",
       " '/home/jovyan/pysal_data/Tampa1/TampaMSA/TampaMSA.gdb/a00000006.gdbindexes',\n",
       " '/home/jovyan/pysal_data/Tampa1/TampaMSA/TampaMSA.gdb/a00000005.CatItemTypesByName.atx',\n",
       " '/home/jovyan/pysal_data/Tampa1/TampaMSA/TampaMSA.gdb/a00000001.TablesByName.atx',\n",
       " '/home/jovyan/pysal_data/Tampa1/TampaMSA/TampaMSA.gdb/a00000001.gdbtablx',\n",
       " '/home/jovyan/pysal_data/Tampa1/TampaMSA/tampa_final_census2.sbn',\n",
       " '/home/jovyan/pysal_data/Tampa1/TampaMSA/tampa_counties.xlsx',\n",
       " '/home/jovyan/pysal_data/Tampa1/TampaMSA/2000 Census Data Variables_Documentation.pdf',\n",
       " '/home/jovyan/pysal_data/Tampa1/TampaMSA/tampa_counties.mid',\n",
       " '/home/jovyan/pysal_data/Tampa1/TampaMSA/tampa_final_census2.dbf',\n",
       " '/home/jovyan/pysal_data/Tampa1/TampaMSA/tampa_final_census2.gpkg',\n",
       " '/home/jovyan/pysal_data/Tampa1/TampaMSA/tampa_counties.mif',\n",
       " '/home/jovyan/pysal_data/Tampa1/TampaMSA/tampa_final_census2.kml',\n",
       " '/home/jovyan/pysal_data/Tampa1/TampaMSA/tampa_counties.sqlite',\n",
       " '/home/jovyan/pysal_data/Tampa1/TampaMSA/tampa_counties.dbf',\n",
       " '/home/jovyan/pysal_data/Tampa1/TampaMSA/tampa_final_census2.prj',\n",
       " '/home/jovyan/pysal_data/Tampa1/TampaMSA/tampa_final_census2.mif',\n",
       " '/home/jovyan/pysal_data/Tampa1/TampaMSA/tampa_final_census2.shx',\n",
       " '/home/jovyan/pysal_data/Tampa1/TampaMSA/tampa_counties.geojson',\n",
       " '/home/jovyan/pysal_data/Tampa1/TampaMSA/tampa_counties.shx',\n",
       " '/home/jovyan/pysal_data/Tampa1/TampaMSA/tampa_counties.sbn',\n",
       " '/home/jovyan/pysal_data/Tampa1/TampaMSA/tampa_counties.sbx',\n",
       " '/home/jovyan/pysal_data/Tampa1/TampaMSA/tampa_counties.prj',\n",
       " '/home/jovyan/pysal_data/Tampa1/TampaMSA/tampa_counties.shp',\n",
       " '/home/jovyan/pysal_data/Tampa1/TampaMSA/tampa_final_census2.shp',\n",
       " '/home/jovyan/pysal_data/Tampa1/TampaMSA/tampa_final_census2.sqlite',\n",
       " '/home/jovyan/pysal_data/Tampa1/TampaMSA/tampa_final_census2.sbx',\n",
       " '/home/jovyan/pysal_data/Tampa1/TampaMSA/tampa_counties.kml']"
      ]
     },
     "execution_count": 13,
     "metadata": {},
     "output_type": "execute_result"
    }
   ],
   "source": [
    "tampa1.get_file_list()"
   ]
  },
  {
   "cell_type": "code",
   "execution_count": null,
   "metadata": {},
   "outputs": [],
   "source": []
  },
  {
   "cell_type": "code",
   "execution_count": 14,
   "metadata": {},
   "outputs": [],
   "source": [
    "airbnb = datasets['AirBnB']"
   ]
  },
  {
   "cell_type": "code",
   "execution_count": 15,
   "metadata": {},
   "outputs": [
    {
     "data": {
      "text/plain": [
       "False"
      ]
     },
     "execution_count": 15,
     "metadata": {},
     "output_type": "execute_result"
    }
   ],
   "source": [
    "airbnb.downloaded()"
   ]
  },
  {
   "cell_type": "code",
   "execution_count": 16,
   "metadata": {},
   "outputs": [
    {
     "name": "stdout",
     "output_type": "stream",
     "text": [
      "Downloading AirBnB to /home/jovyan/pysal_data/AirBnB\n"
     ]
    }
   ],
   "source": [
    "airbnb.download()"
   ]
  },
  {
   "cell_type": "code",
   "execution_count": 17,
   "metadata": {},
   "outputs": [
    {
     "data": {
      "text/plain": [
       "<ZipInfo filename='airbnb_Chicago 2015.dbf' compress_type=deflate filemode='-rwxr-xr-x' external_attr=0x4000 file_size=47412 compress_size=7611>"
      ]
     },
     "execution_count": 17,
     "metadata": {},
     "output_type": "execute_result"
    }
   ],
   "source": [
    "airbnb.zipfile.filelist[0]"
   ]
  },
  {
   "cell_type": "code",
   "execution_count": 18,
   "metadata": {},
   "outputs": [
    {
     "data": {
      "text/plain": [
       "'AirBnB'"
      ]
     },
     "execution_count": 18,
     "metadata": {},
     "output_type": "execute_result"
    }
   ],
   "source": [
    "airbnb.root"
   ]
  },
  {
   "cell_type": "code",
   "execution_count": 19,
   "metadata": {},
   "outputs": [
    {
     "data": {
      "text/plain": [
       "'/home/jovyan/pysal_data/AirBnB'"
      ]
     },
     "execution_count": 19,
     "metadata": {},
     "output_type": "execute_result"
    }
   ],
   "source": [
    "airbnb.get_local_path()"
   ]
  },
  {
   "cell_type": "markdown",
   "metadata": {
    "ein.tags": "worksheet-0",
    "slideshow": {
     "slide_type": "-"
    }
   },
   "source": [
    "# next\n",
    "use a load method\n"
   ]
  },
  {
   "cell_type": "code",
   "execution_count": 29,
   "metadata": {},
   "outputs": [
    {
     "data": {
      "text/plain": [
       "['/home/jovyan/pysal_data/AirBnB/airbnb_Chicago 2015.shp',\n",
       " '/home/jovyan/pysal_data/AirBnB/__MACOSX/._airbnb_Chicago 2015.prj',\n",
       " '/home/jovyan/pysal_data/AirBnB/__MACOSX/._airbnb_Chicago 2015.shx',\n",
       " '/home/jovyan/pysal_data/AirBnB/__MACOSX/._airbnb_Chicago 2015.shp',\n",
       " '/home/jovyan/pysal_data/AirBnB/__MACOSX/._airbnb_Chicago 2015.dbf',\n",
       " '/home/jovyan/pysal_data/AirBnB/airbnb_Chicago 2015.prj',\n",
       " '/home/jovyan/pysal_data/AirBnB/airbnb_Chicago 2015.dbf',\n",
       " '/home/jovyan/pysal_data/AirBnB/airbnb_Chicago 2015.shx']"
      ]
     },
     "execution_count": 29,
     "metadata": {},
     "output_type": "execute_result"
    }
   ],
   "source": [
    "airbnb.get_file_list()"
   ]
  },
  {
   "cell_type": "code",
   "execution_count": 30,
   "metadata": {},
   "outputs": [
    {
     "data": {
      "text/plain": [
       "'__main__'"
      ]
     },
     "execution_count": 30,
     "metadata": {},
     "output_type": "execute_result"
    }
   ],
   "source": [
    "__name__"
   ]
  },
  {
   "cell_type": "code",
   "execution_count": 32,
   "metadata": {},
   "outputs": [
    {
     "data": {
      "text/plain": [
       "<libpysal.io.iohandlers.pyShpIO.PurePyShpWrapper at 0x7f714ce5be80>"
      ]
     },
     "execution_count": 32,
     "metadata": {},
     "output_type": "execute_result"
    }
   ],
   "source": [
    "shp = airbnb.load('airbnb_Chicago 2015.shp')\n",
    "shp"
   ]
  },
  {
   "cell_type": "code",
   "execution_count": 33,
   "metadata": {},
   "outputs": [
    {
     "name": "stdout",
     "output_type": "stream",
     "text": [
      "doesnt_exist.csv is not a file in this example\n"
     ]
    },
    {
     "ename": "TypeError",
     "evalue": "expected str, bytes or os.PathLike object, not NoneType",
     "output_type": "error",
     "traceback": [
      "\u001b[0;31m---------------------------------------------------------------------------\u001b[0m",
      "\u001b[0;31mTypeError\u001b[0m                                 Traceback (most recent call last)",
      "\u001b[0;32m<ipython-input-33-bfb9d92ddcc8>\u001b[0m in \u001b[0;36m<module>\u001b[0;34m\u001b[0m\n\u001b[0;32m----> 1\u001b[0;31m \u001b[0mshp_bad\u001b[0m \u001b[0;34m=\u001b[0m \u001b[0mairbnb\u001b[0m\u001b[0;34m.\u001b[0m\u001b[0mload\u001b[0m\u001b[0;34m(\u001b[0m\u001b[0;34m'doesnt_exist.csv'\u001b[0m\u001b[0;34m)\u001b[0m\u001b[0;34m\u001b[0m\u001b[0;34m\u001b[0m\u001b[0m\n\u001b[0m",
      "\u001b[0;32m~/libpysal/examples/remotes.py\u001b[0m in \u001b[0;36mload\u001b[0;34m(self, file_name)\u001b[0m\n\u001b[1;32m    151\u001b[0m         \"\"\"\n\u001b[1;32m    152\u001b[0m         \u001b[0mpth\u001b[0m \u001b[0;34m=\u001b[0m \u001b[0mself\u001b[0m\u001b[0;34m.\u001b[0m\u001b[0mget_path\u001b[0m\u001b[0;34m(\u001b[0m\u001b[0mfile_name\u001b[0m\u001b[0;34m)\u001b[0m\u001b[0;34m\u001b[0m\u001b[0;34m\u001b[0m\u001b[0m\n\u001b[0;32m--> 153\u001b[0;31m         \u001b[0;32mreturn\u001b[0m \u001b[0mload\u001b[0m\u001b[0;34m(\u001b[0m\u001b[0mpth\u001b[0m\u001b[0;34m)\u001b[0m\u001b[0;34m\u001b[0m\u001b[0;34m\u001b[0m\u001b[0m\n\u001b[0m\u001b[1;32m    154\u001b[0m \u001b[0;34m\u001b[0m\u001b[0m\n\u001b[1;32m    155\u001b[0m \u001b[0;34m\u001b[0m\u001b[0m\n",
      "\u001b[0;32m~/libpysal/io/fileio.py\u001b[0m in \u001b[0;36m__new__\u001b[0;34m(cls, dataPath, mode, dataFormat)\u001b[0m\n\u001b[1;32m     65\u001b[0m             \u001b[0;32mtry\u001b[0m\u001b[0;34m:\u001b[0m\u001b[0;34m\u001b[0m\u001b[0;34m\u001b[0m\u001b[0m\n\u001b[1;32m     66\u001b[0m                 newCls = object.__new__(cls.__registry[cls.getType(dataPath,\n\u001b[0;32m---> 67\u001b[0;31m                                                                    mode, dataFormat)][mode][0])\n\u001b[0m\u001b[1;32m     68\u001b[0m             \u001b[0;32mexcept\u001b[0m \u001b[0mKeyError\u001b[0m\u001b[0;34m:\u001b[0m\u001b[0;34m\u001b[0m\u001b[0;34m\u001b[0m\u001b[0m\n\u001b[1;32m     69\u001b[0m                 \u001b[0;32mreturn\u001b[0m \u001b[0mopen\u001b[0m\u001b[0;34m(\u001b[0m\u001b[0mdataPath\u001b[0m\u001b[0;34m,\u001b[0m \u001b[0mmode\u001b[0m\u001b[0;34m)\u001b[0m\u001b[0;34m\u001b[0m\u001b[0;34m\u001b[0m\u001b[0m\n",
      "\u001b[0;32m~/libpysal/io/fileio.py\u001b[0m in \u001b[0;36mgetType\u001b[0;34m(dataPath, mode, dataFormat)\u001b[0m\n\u001b[1;32m     78\u001b[0m             \u001b[0mext\u001b[0m \u001b[0;34m=\u001b[0m \u001b[0mdataFormat\u001b[0m\u001b[0;34m\u001b[0m\u001b[0;34m\u001b[0m\u001b[0m\n\u001b[1;32m     79\u001b[0m         \u001b[0;32melse\u001b[0m\u001b[0;34m:\u001b[0m\u001b[0;34m\u001b[0m\u001b[0;34m\u001b[0m\u001b[0m\n\u001b[0;32m---> 80\u001b[0;31m             \u001b[0mext\u001b[0m \u001b[0;34m=\u001b[0m \u001b[0mos\u001b[0m\u001b[0;34m.\u001b[0m\u001b[0mpath\u001b[0m\u001b[0;34m.\u001b[0m\u001b[0msplitext\u001b[0m\u001b[0;34m(\u001b[0m\u001b[0mdataPath\u001b[0m\u001b[0;34m)\u001b[0m\u001b[0;34m[\u001b[0m\u001b[0;36m1\u001b[0m\u001b[0;34m]\u001b[0m\u001b[0;34m\u001b[0m\u001b[0;34m\u001b[0m\u001b[0m\n\u001b[0m\u001b[1;32m     81\u001b[0m             \u001b[0mext\u001b[0m \u001b[0;34m=\u001b[0m \u001b[0mext\u001b[0m\u001b[0;34m.\u001b[0m\u001b[0mreplace\u001b[0m\u001b[0;34m(\u001b[0m\u001b[0;34m'.'\u001b[0m\u001b[0;34m,\u001b[0m \u001b[0;34m''\u001b[0m\u001b[0;34m)\u001b[0m\u001b[0;34m\u001b[0m\u001b[0;34m\u001b[0m\u001b[0m\n\u001b[1;32m     82\u001b[0m             \u001b[0mext\u001b[0m \u001b[0;34m=\u001b[0m \u001b[0mext\u001b[0m\u001b[0;34m.\u001b[0m\u001b[0mlower\u001b[0m\u001b[0;34m(\u001b[0m\u001b[0;34m)\u001b[0m\u001b[0;34m\u001b[0m\u001b[0;34m\u001b[0m\u001b[0m\n",
      "\u001b[0;32m/opt/conda/lib/python3.7/posixpath.py\u001b[0m in \u001b[0;36msplitext\u001b[0;34m(p)\u001b[0m\n\u001b[1;32m    120\u001b[0m \u001b[0;34m\u001b[0m\u001b[0m\n\u001b[1;32m    121\u001b[0m \u001b[0;32mdef\u001b[0m \u001b[0msplitext\u001b[0m\u001b[0;34m(\u001b[0m\u001b[0mp\u001b[0m\u001b[0;34m)\u001b[0m\u001b[0;34m:\u001b[0m\u001b[0;34m\u001b[0m\u001b[0;34m\u001b[0m\u001b[0m\n\u001b[0;32m--> 122\u001b[0;31m     \u001b[0mp\u001b[0m \u001b[0;34m=\u001b[0m \u001b[0mos\u001b[0m\u001b[0;34m.\u001b[0m\u001b[0mfspath\u001b[0m\u001b[0;34m(\u001b[0m\u001b[0mp\u001b[0m\u001b[0;34m)\u001b[0m\u001b[0;34m\u001b[0m\u001b[0;34m\u001b[0m\u001b[0m\n\u001b[0m\u001b[1;32m    123\u001b[0m     \u001b[0;32mif\u001b[0m \u001b[0misinstance\u001b[0m\u001b[0;34m(\u001b[0m\u001b[0mp\u001b[0m\u001b[0;34m,\u001b[0m \u001b[0mbytes\u001b[0m\u001b[0;34m)\u001b[0m\u001b[0;34m:\u001b[0m\u001b[0;34m\u001b[0m\u001b[0;34m\u001b[0m\u001b[0m\n\u001b[1;32m    124\u001b[0m         \u001b[0msep\u001b[0m \u001b[0;34m=\u001b[0m \u001b[0;34mb'/'\u001b[0m\u001b[0;34m\u001b[0m\u001b[0;34m\u001b[0m\u001b[0m\n",
      "\u001b[0;31mTypeError\u001b[0m: expected str, bytes or os.PathLike object, not NoneType"
     ]
    }
   ],
   "source": [
    "shp_bad = airbnb.load('doesnt_exist.csv')"
   ]
  },
  {
   "cell_type": "code",
   "execution_count": 34,
   "metadata": {
    "autoscroll": false,
    "ein.hycell": false,
    "ein.tags": "worksheet-0",
    "slideshow": {
     "slide_type": "-"
    }
   },
   "outputs": [],
   "source": [
    "dbf = airbnb.load('airbnb_Chicago 2015.dbf')\n"
   ]
  },
  {
   "cell_type": "code",
   "execution_count": 36,
   "metadata": {},
   "outputs": [
    {
     "data": {
      "text/plain": [
       "['community',\n",
       " 'shape_area',\n",
       " 'shape_len',\n",
       " 'AREAID',\n",
       " 'response_r',\n",
       " 'accept_r',\n",
       " 'rev_rating',\n",
       " 'price_pp',\n",
       " 'room_type',\n",
       " 'num_spots',\n",
       " 'poverty',\n",
       " 'crowded',\n",
       " 'dependency',\n",
       " 'without_hs',\n",
       " 'unemployed',\n",
       " 'income_pc',\n",
       " 'harship_in',\n",
       " 'num_crimes',\n",
       " 'num_theft',\n",
       " 'population']"
      ]
     },
     "execution_count": 36,
     "metadata": {},
     "output_type": "execute_result"
    }
   ],
   "source": [
    "dbf.header"
   ]
  },
  {
   "cell_type": "code",
   "execution_count": 37,
   "metadata": {},
   "outputs": [
    {
     "data": {
      "text/plain": [
       "'/home/jovyan/pysal_data/AirBnB/airbnb_Chicago 2015.dbf'"
      ]
     },
     "execution_count": 37,
     "metadata": {},
     "output_type": "execute_result"
    }
   ],
   "source": [
    "airbnb.get_path('airbnb_Chicago 2015.dbf')"
   ]
  },
  {
   "cell_type": "code",
   "execution_count": 38,
   "metadata": {},
   "outputs": [],
   "source": [
    "import libpysal"
   ]
  },
  {
   "cell_type": "code",
   "execution_count": 39,
   "metadata": {},
   "outputs": [],
   "source": [
    "w = libpysal.weights.Queen.from_shapefile(airbnb.get_path('airbnb_Chicago 2015.shp'))"
   ]
  },
  {
   "cell_type": "code",
   "execution_count": 40,
   "metadata": {},
   "outputs": [],
   "source": [
    "import geopandas as gpd"
   ]
  },
  {
   "cell_type": "code",
   "execution_count": 41,
   "metadata": {},
   "outputs": [],
   "source": [
    "w_df = libpysal.weights.Queen.from_dataframe(gpd.read_file(airbnb.get_path('airbnb_Chicago 2015.shp')))"
   ]
  },
  {
   "cell_type": "code",
   "execution_count": 42,
   "metadata": {},
   "outputs": [
    {
     "data": {
      "text/plain": [
       "77"
      ]
     },
     "execution_count": 42,
     "metadata": {},
     "output_type": "execute_result"
    }
   ],
   "source": [
    "w_df.n"
   ]
  },
  {
   "cell_type": "code",
   "execution_count": null,
   "metadata": {},
   "outputs": [],
   "source": []
  }
 ],
 "metadata": {
  "kernelspec": {
   "display_name": "Python 3",
   "language": "python",
   "name": "python3"
  },
  "language_info": {
   "codemirror_mode": {
    "name": "ipython",
    "version": 3
   },
   "file_extension": ".py",
   "mimetype": "text/x-python",
   "name": "python",
   "nbconvert_exporter": "python",
   "pygments_lexer": "ipython3",
   "version": "3.7.3"
  },
  "name": "remotes.ipynb"
 },
 "nbformat": 4,
 "nbformat_minor": 2
}
