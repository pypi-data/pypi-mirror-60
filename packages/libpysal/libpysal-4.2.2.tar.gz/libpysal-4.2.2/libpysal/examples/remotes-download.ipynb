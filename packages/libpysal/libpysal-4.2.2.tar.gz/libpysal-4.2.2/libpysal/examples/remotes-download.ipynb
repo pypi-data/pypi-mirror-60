{
 "cells": [
  {
   "cell_type": "code",
   "execution_count": 1,
   "metadata": {
    "autoscroll": false,
    "ein.hycell": false,
    "ein.tags": "worksheet-0",
    "slideshow": {
     "slide_type": "-"
    }
   },
   "outputs": [
    {
     "name": "stdout",
     "output_type": "stream",
     "text": [
      "created\n"
     ]
    }
   ],
   "source": [
    "#from remotes import available, datasets\n",
    "import libpysal"
   ]
  },
  {
   "cell_type": "code",
   "execution_count": 3,
   "metadata": {},
   "outputs": [],
   "source": [
    "from libpysal.examples import  available"
   ]
  },
  {
   "cell_type": "code",
   "execution_count": 4,
   "metadata": {
    "autoscroll": false,
    "ein.hycell": false,
    "ein.tags": "worksheet-0",
    "slideshow": {
     "slide_type": "-"
    }
   },
   "outputs": [
    {
     "name": "stdout",
     "output_type": "stream",
     "text": [
      "                      Name                                        Description\n",
      "0                   AirBnB  Airbnb rentals, socioeconomics, and crime in C...\n",
      "1                  Atlanta       Atlanta, GA region homicide counts and rates\n",
      "2                Baltimore          Baltimore house sales prices and hedonics\n",
      "3                Bostonhsg               Boston housing and neighborhood data\n",
      "4              Buenosaires      Electoral Data for 1999 Argentinean Elections\n",
      "5                     Cars  2011 abandoned vehicles in Chicago (311 compla...\n",
      "6              Charleston1   2000 Census Tract Data for Charleston, SC MSA...\n",
      "7              Charleston2   1998 and 2001 Zip Code Business Patterns (Cen...\n",
      "8           Chicago Health                   Chicago Health + Socio-Economics\n",
      "9              Chile Labor                 Labor Markets in Chile (1982-2002)\n",
      "10         Chile Migration            Internal Migration in Chile (1977-2002)\n",
      "11              Cincinnati         2008 Cincinnati Crime + Socio-Demographics\n",
      "12               Cleveland       2015 sales prices of homes in Cleveland, OH.\n",
      "13                Columbus                        Columbus neighborhood crime\n",
      "14                  Denver   Demographics and housing in Denver neighborho...\n",
      "15               Elections               2012 and 2016 Presidential Elections\n",
      "16                 Grid100                      Grid with simulated variables\n",
      "17               Groceries                          2015 Chicago supermarkets\n",
      "18                  Guerry          Moral statistics of France (Guerry, 1833)\n",
      "19       Health Indicators                Chicago Health Indicators (2005-11)\n",
      "20                 Health+                    2000 Health, Income + Diversity\n",
      "21                Hickory1   2000 Census Tract Data for Hickory, NC MSA an...\n",
      "22                Hickory2   1998 and 2001 Zip Code Business Patterns (Cen...\n",
      "23              Home Sales              2014-15 Home Sales in King County, WA\n",
      "24                 Houston       Houston, TX region homicide counts and rates\n",
      "25                Juvenile             Cardiff juvenile delinquent residences\n",
      "26                Lansing1   2000 Census Tract Data for Lansing, MI MSA an...\n",
      "27                Lansing2   1998 and 2001 Zip Code Business Patterns (Cen...\n",
      "28                 Laozone   Ozone measures at monitoring stations in Los ...\n",
      "29                LasRosas   Corn yield, fertilizer and field data for pre...\n",
      "30           Liquor Stores                         2015 Chicago Liquor Stores\n",
      "31                 Malaria   Malaria incidence and population (1973, 95, 9...\n",
      "32              Milwaukee1       2000 Census Tract Data for Milwaukee, WI MSA\n",
      "33              Milwaukee2   1998 and 2001 Zip Code Business Patterns (Cen...\n",
      "34                   NCOVR                      US county homicides 1960-1990\n",
      "35                    NDVI        Normalized Difference Vegetation Index grid\n",
      "36                     NYC   Demographic and housing data for New York Cit...\n",
      "37            NYC Earnings              Block-level Earnings in NYC (2002-14)\n",
      "38           NYC Education                               NYC Education (2000)\n",
      "39       NYC Neighborhoods       Demographics for New York City neighborhoods\n",
      "40  NYC Socio-Demographics                 NYC Education + Socio-Demographics\n",
      "41              Natregimes                    NCOVR with regimes (book/PySAL)\n",
      "42                   Nepal   Health, poverty and education indicators for ...\n",
      "43                Ohiolung            Ohio lung cancer data, 1968, 1978, 1988\n",
      "44                Orlando1   2000 Census Tract Data for Orlando, FL MSA an...\n",
      "45                Orlando2   1998 and 2001 Zip Code Business Patterns (Cen...\n",
      "46                  Oz9799                        Monthly ozone data, 1997-99\n",
      "47             Phoenix ACS   Phoenix American Community Survey Data (2010,...\n",
      "48              Pittsburgh                      Pittsburgh homicide locations\n",
      "49                  Police           Police expenditures Mississippi counties\n",
      "50       Rio Grande do Sul  Cities of the Brazilian State of Rio Grande do...\n",
      "51                    SIDS            North Carolina county SIDS death counts\n",
      "52                   SIDS2   North Carolina county SIDS death counts and r...\n",
      "53             Sacramento1          2000 Census Tract Data for Sacramento MSA\n",
      "54             Sacramento2   1998 and 2001 Zip Code Business Patterns (Cen...\n",
      "55           SanFran Crime   July-Dec 2012 crime incidents in San Francisc...\n",
      "56               Savannah1   2000 Census Tract Data for Savannah, GA MSA a...\n",
      "57               Savannah2   1998 and 2001 Zip Code Business Patterns (Cen...\n",
      "58                 Scotlip               Male lip cancer in Scotland, 1975-80\n",
      "59                Seattle1   2000 Census Tract Data for Seattle, WA MSA an...\n",
      "60                Seattle2   1998 and 2001 Zip Code Business Patterns (Cen...\n",
      "61                   South             US Southern county homicides 1960-1990\n",
      "62                 StLouis   St Louis region county homicide counts and rates\n",
      "63                  Tampa1   2000 Census Tract Data for Tampa, FL MSA and ...\n"
     ]
    }
   ],
   "source": [
    "available()"
   ]
  },
  {
   "cell_type": "code",
   "execution_count": 25,
   "metadata": {},
   "outputs": [],
   "source": [
    "import libpysal"
   ]
  },
  {
   "cell_type": "code",
   "execution_count": 26,
   "metadata": {},
   "outputs": [],
   "source": [
    "w = libpysal.weights.Queen.from_shapefile(airbnb.get_path('airbnb_Chicago 2015.shp'))"
   ]
  },
  {
   "cell_type": "code",
   "execution_count": 27,
   "metadata": {},
   "outputs": [],
   "source": [
    "import geopandas as gpd"
   ]
  },
  {
   "cell_type": "code",
   "execution_count": 28,
   "metadata": {},
   "outputs": [],
   "source": [
    "w_df = libpysal.weights.Queen.from_dataframe(gpd.read_file(airbnb.get_path('airbnb_Chicago 2015.shp')))"
   ]
  },
  {
   "cell_type": "code",
   "execution_count": 29,
   "metadata": {},
   "outputs": [
    {
     "data": {
      "text/plain": [
       "77"
      ]
     },
     "execution_count": 29,
     "metadata": {},
     "output_type": "execute_result"
    }
   ],
   "source": [
    "w_df.n"
   ]
  }
 ],
 "metadata": {
  "kernelspec": {
   "display_name": "Python 3",
   "language": "python",
   "name": "python3"
  },
  "language_info": {
   "codemirror_mode": {
    "name": "ipython",
    "version": 3
   },
   "file_extension": ".py",
   "mimetype": "text/x-python",
   "name": "python",
   "nbconvert_exporter": "python",
   "pygments_lexer": "ipython3",
   "version": "3.7.3"
  },
  "name": "remotes.ipynb"
 },
 "nbformat": 4,
 "nbformat_minor": 2
}
