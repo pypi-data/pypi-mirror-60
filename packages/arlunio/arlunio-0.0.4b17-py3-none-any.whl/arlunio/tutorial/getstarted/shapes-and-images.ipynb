{
  "nbformat": 4,
  "nbformat_minor": 2,
  "metadata": {},
  "cells": [
    {
      "cell_type": "markdown",
      "metadata": {},
      "source": [
        "\n",
        "# Shapes and Images\n",
        "\n",
        "In this tutorial we start you off by introducing you to the two main types of\n",
        "object you will find in `stylo` as well as how to use them to create your\n",
        "first image. The first of these objects are the `Shapes`.\n",
        "\n",
        "`Shapes` define the rules that are used to contruct our second kind of\n",
        "object `Images`. An `Image` contains the raw image data that we can\n",
        "manipulate before saving it as a file. `Images` are typically constructed\n",
        "using one or more shapes.\n",
        "\n",
        "Let\u2019s show you what I mean, first import the Shapes collection and create an\n",
        "instance of the `Circle` shape.\n",
        "\n"
      ]
    },
    {
      "cell_type": "code",
      "execution_count": null,
      "metadata": {},
      "outputs": [],
      "source": [
        "from arlunio import Shapes as S\n",
        "circle = S.Circle()\n",
        "circle\n"
      ]
    },
    {
      "cell_type": "markdown",
      "metadata": {},
      "source": [
        "\n",
        "As you can see each shape can carry its own set of properties that can be\n",
        "tweaked to change how it looks when it is drawn. For now don\u2019t worry about them\n",
        "too much as we will get to look at those in more detail later. Instead let\u2019s\n",
        "focus on making our first image!\n",
        "\n",
        "Every shape instance can be called as a function and will return an image\n",
        "contiaing itself, all we need to do is tell it how large we want the image to\n",
        "be!\n",
        "\n"
      ]
    },
    {
      "cell_type": "code",
      "execution_count": null,
      "metadata": {},
      "outputs": [],
      "source": [
        "circle(4, 4)  Code References-- ShapesDocs ReferencesExternal Code ReferencesExternal Doc References\n"
      ]
    }
  ]
}